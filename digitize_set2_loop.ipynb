{
 "cells": [
  {
   "cell_type": "code",
   "execution_count": 1,
   "id": "f0e39328",
   "metadata": {},
   "outputs": [],
   "source": [
    "%load_ext autoreload\n",
    "%autoreload 2"
   ]
  },
  {
   "cell_type": "code",
   "execution_count": 2,
   "id": "a7c7d806",
   "metadata": {},
   "outputs": [],
   "source": [
    "from wdtools import *"
   ]
  },
  {
   "cell_type": "code",
   "execution_count": 3,
   "id": "59b1583a",
   "metadata": {},
   "outputs": [],
   "source": [
    "setID = 'Set002'; nm_to_add=1420"
   ]
  },
  {
   "cell_type": "code",
   "execution_count": 4,
   "id": "ec448061",
   "metadata": {},
   "outputs": [],
   "source": [
    "setgdf = gpd.read_file(os.path.join(inpath, 'GIS', 'Join_Statewide.gdb'), layer=f'WD_{setID}_Combined')"
   ]
  },
  {
   "cell_type": "code",
   "execution_count": 5,
   "id": "db038a1c",
   "metadata": {},
   "outputs": [],
   "source": [
    "wd = combine_wd_tables(setID=setID, nm_to_add=nm_to_add)"
   ]
  },
  {
   "cell_type": "code",
   "execution_count": 6,
   "id": "60a4861b",
   "metadata": {},
   "outputs": [],
   "source": [
    "matched = gpd.read_file(os.path.join(inpath + '\\\\output\\\\matched\\\\', f'matched_records_{setID}_edited.shp'))"
   ]
  },
  {
   "cell_type": "code",
   "execution_count": 7,
   "id": "e2685714",
   "metadata": {},
   "outputs": [],
   "source": [
    "unmatched = pd.read_csv(os.path.join(inpath + '\\\\output\\\\to_review\\\\', f'unmatched_df_{setID}_2.csv'))"
   ]
  },
  {
   "cell_type": "code",
   "execution_count": 12,
   "id": "80ecd408",
   "metadata": {},
   "outputs": [
    {
     "data": {
      "text/plain": [
       "Index(['wdID', 'trsqq', 'parcel_id', 'notes', 'lots', 'lot', 'ORTaxlot',\n",
       "       'record_ID', 'geometry'],\n",
       "      dtype='object')"
      ]
     },
     "execution_count": 12,
     "metadata": {},
     "output_type": "execute_result"
    }
   ],
   "source": [
    "matched.columns"
   ]
  },
  {
   "cell_type": "code",
   "execution_count": 8,
   "id": "65464575",
   "metadata": {},
   "outputs": [
    {
     "data": {
      "text/plain": [
       "13"
      ]
     },
     "execution_count": 8,
     "metadata": {},
     "output_type": "execute_result"
    }
   ],
   "source": [
    "# unmatched records based on wdID\n",
    "unmatchedIDs = wd[~wd.wetdet_delin_number.isin(matched.wdID.unique())].wetdet_delin_number.unique()\n",
    "len(unmatchedIDs)"
   ]
  },
  {
   "cell_type": "code",
   "execution_count": 9,
   "id": "5c211925",
   "metadata": {},
   "outputs": [
    {
     "data": {
      "text/plain": [
       "19"
      ]
     },
     "execution_count": 9,
     "metadata": {},
     "output_type": "execute_result"
    }
   ],
   "source": [
    "# unmatched records based record IDs\n",
    "unmatchedwdIDs = unmatched.wetdet_delin_number.unique()\n",
    "len(unmatchedwdIDs)"
   ]
  },
  {
   "cell_type": "code",
   "execution_count": 11,
   "id": "f83618a4",
   "metadata": {},
   "outputs": [
    {
     "data": {
      "text/plain": [
       "(56, 25)"
      ]
     },
     "execution_count": 11,
     "metadata": {},
     "output_type": "execute_result"
    }
   ],
   "source": [
    "unmatched.shape"
   ]
  },
  {
   "cell_type": "code",
   "execution_count": 12,
   "id": "f07948d5",
   "metadata": {},
   "outputs": [
    {
     "data": {
      "text/plain": [
       "True"
      ]
     },
     "execution_count": 12,
     "metadata": {},
     "output_type": "execute_result"
    }
   ],
   "source": [
    "all([wdID in unmatchedwdIDs for wdID in unmatchedIDs])"
   ]
  },
  {
   "cell_type": "code",
   "execution_count": 17,
   "id": "7014ad07",
   "metadata": {
    "scrolled": true
   },
   "outputs": [
    {
     "name": "stdout",
     "output_type": "stream",
     "text": [
      "WD2017-0229\n",
      "    county     trsqq                   parcel_id   latitude   longitude  \\\n",
      "0    Baker  07S40E00  Many tax maps and tax lots  45.831088 -119.623309   \n",
      "1   Morrow  01N26E00  Many tax maps and tax lots  45.831088 -119.623309   \n",
      "2   Morrow  02N25E00  Many tax maps and tax lots  45.831088 -119.623309   \n",
      "3   Morrow  02N26E00  Many tax maps and tax lots  45.831088 -119.623309   \n",
      "4   Morrow  04N25E00  Many tax maps and tax lots  45.831088 -119.623309   \n",
      "5   Morrow  04N26E00  Many tax maps and tax lots  45.831088 -119.623309   \n",
      "6   Morrow  01N27E00  Many tax maps and tax lots  45.831088 -119.623309   \n",
      "7    Baker  11S42E00  Many tax maps and tax lots  45.831088 -119.623309   \n",
      "8    Baker  12S42E00  Many tax maps and tax lots  45.831088 -119.623309   \n",
      "9    Baker  12S43E00  Many tax maps and tax lots  45.831088 -119.623309   \n",
      "10   Baker  13S44E00  Many tax maps and tax lots  45.831088 -119.623309   \n",
      "11  Morrow  01N28E00  Many tax maps and tax lots  45.831088 -119.623309   \n",
      "12   Baker  14S45E00  Many tax maps and tax lots  45.831088 -119.623309   \n",
      "13   Baker  10S40E00  Many tax maps and tax lots  45.831088 -119.623309   \n",
      "14   Baker  14S44E00  Many tax maps and tax lots  45.831088 -119.623309   \n",
      "15   Baker  09S40E00  Many tax maps and tax lots  45.831088 -119.623309   \n",
      "16   Baker  08S40E00  Many tax maps and tax lots  45.831088 -119.623309   \n",
      "17   Baker  10S41E00  Many tax maps and tax lots  45.831088 -119.623309   \n",
      "18   Baker  11S43E00  Many tax maps and tax lots  45.831088 -119.623309   \n",
      "19   Baker  09S41E00  Many tax maps and tax lots  45.831088 -119.623309   \n",
      "20   Baker  10S42E00  Many tax maps and tax lots  45.831088 -119.623309   \n",
      "21   Baker  15S45E00  Many tax maps and tax lots  45.831088 -119.623309   \n",
      "\n",
      "    record_ID          notes  \n",
      "0        1423  Partial, Many  \n",
      "1        2071  Partial, Many  \n",
      "2        2074  Partial, Many  \n",
      "3        2075  Partial, Many  \n",
      "4        2076  Partial, Many  \n",
      "5        2077  Partial, Many  \n",
      "6        2072  Partial, Many  \n",
      "7        1437  Partial, Many  \n",
      "8        1436  Partial, Many  \n",
      "9        1435  Partial, Many  \n",
      "10       1434  Partial, Many  \n",
      "11       2073  Partial, Many  \n",
      "12       1432  Partial, Many  \n",
      "13       1424  Partial, Many  \n",
      "14       1433  Partial, Many  \n",
      "15       1426  Partial, Many  \n",
      "16       1427  Partial, Many  \n",
      "17       1428  Partial, Many  \n",
      "18       1429  Partial, Many  \n",
      "19       1425  Partial, Many  \n",
      "20       1431  Partial, Many  \n",
      "21       1430  Partial, Many  \n",
      "Press 'p' to pause or any other key to continue...c\n",
      "WD2022-0026\n",
      "       county       trsqq parcel_id   latitude   longitude  record_ID notes\n",
      "22  Clackamas    02S05E04      Many  45.430128 -122.275735       2016  Many\n",
      "23  Clackamas  02S04E01AB      Many  45.430128 -122.275735       2023  Many\n",
      "24  Clackamas    02S04E01      Many  45.430128 -122.275735       2022  Many\n",
      "25  Clackamas    02S05E05      Many  45.430128 -122.275735       2021  Many\n",
      "26  Clackamas    02S05E06      Many  45.430128 -122.275735       2020  Many\n",
      "27  Clackamas  02S04E01AC      Many  45.430128 -122.275735       2019  Many\n",
      "28  Clackamas   02S04E02A      Many  45.430128 -122.275735       2013  Many\n",
      "29  Clackamas    01S05E00      Many  45.444581 -122.154343       2014  Many\n",
      "30  Clackamas    01S06E00      Many  45.471494 -122.095475       2015  Many\n",
      "31  Clackamas    01S05E33      Many  45.444581 -122.154343       2018  Many\n",
      "32  Clackamas    02S05E03      Many  45.430128 -122.275735       2017  Many\n",
      "Press 'p' to pause or any other key to continue...c\n",
      "WD2018-0407\n",
      "    county       trsqq parcel_id   latitude   longitude  record_ID notes\n",
      "33  Morrow  05N26E24DB      many  45.895525 -119.496236       2087  Many\n",
      "34  Morrow  05N26E24DD      many  45.895525 -119.496236       2090  Many\n",
      "35  Morrow  05N27E19CC      many  45.895525 -119.496236       2085  Many\n",
      "36  Morrow  05N26E24DA      many  45.895525 -119.496236       2089  Many\n",
      "37  Morrow   05N26E25A      many  45.895525 -119.496236       2088  Many\n",
      "38  Morrow  05N27E30BC      many  45.895525 -119.496236       2086  Many\n",
      "Press 'p' to pause or any other key to continue...c\n",
      "WD2021-0250\n",
      "   county      trsqq            parcel_id   latitude   longitude  record_ID  \\\n",
      "39  Baker  08S37ED02  3000,3100,3500,3601  44.831504 -118.198506       1477   \n",
      "40  Baker  08S37ED05     101,300,400,2000  44.831727 -118.199277       1478   \n",
      "\n",
      "   notes  \n",
      "39   NaN  \n",
      "40   NaN  \n",
      "Press 'p' to pause or any other key to continue...c\n",
      "WD2019-0300\n",
      "       county       trsqq parcel_id   latitude  longitude  record_ID notes\n",
      "41  Clackamas  01N01E22BC      2500  45.556435 -122.67705       1819   NaN\n",
      "Press 'p' to pause or any other key to continue...c\n",
      "WD2017-0001\n",
      "    county     trsqq parcel_id  latitude  longitude  record_ID notes\n",
      "42  Morrow  04N23E00       110   45.8025 -119.97701       2067   NaN\n",
      "Press 'p' to pause or any other key to continue...c\n",
      "WD2021-0651\n",
      "    county     trsqq parcel_id   latitude   longitude  record_ID    notes\n",
      "43  Morrow  03N37E00     1702p  45.704707 -119.438747       2137  Partial\n",
      "Press 'p' to pause or any other key to continue...c\n",
      "WD2020-0677\n",
      "       county       trsqq parcel_id   latitude   longitude  record_ID notes\n",
      "44  Clackamas  02S02E08DC      9600  45.406191 -122.586622       1930   NaN\n",
      "Press 'p' to pause or any other key to continue...c\n",
      "WD2018-0670\n",
      "       county       trsqq parcel_id  latitude   longitude  record_ID  notes\n",
      "45  Clackamas  04S02E20DD     WATER  45.21625 -122.589953       1794  Water\n",
      "Press 'p' to pause or any other key to continue...c\n",
      "WD2019-0544\n",
      "    county       trsqq parcel_id   latitude  longitude  record_ID notes\n",
      "46  Benton  12S06W12BB      4100  44.546556 -123.37076       1572   NaN\n",
      "Press 'p' to pause or any other key to continue...c\n",
      "WD2020-0489\n",
      "    county     trsqq parcel_id   latitude  longitude  record_ID notes\n",
      "47  Benton  10S04W35       NaN  44.656843 -123.13764       1586   NaN\n",
      "Press 'p' to pause or any other key to continue...c\n",
      "WD2021-0252\n",
      "       county       trsqq    parcel_id   latitude   longitude  record_ID notes\n",
      "48  Clackamas  02S01E08BC  15600,15800  45.416171 -122.718385       1945   NaN\n",
      "Press 'p' to pause or any other key to continue...c\n",
      "WD2021-0616\n",
      "       county       trsqq parcel_id  latitude   longitude  record_ID notes\n",
      "49  Clackamas  03S08Q14DC   100,102  45.30829 -121.751876       1995   NaN\n",
      "Press 'p' to pause or any other key to continue...c\n",
      "WD2019-0041\n",
      "       county     trsqq parcel_id   latitude   longitude  record_ID notes\n",
      "50  Clackamas  01S04E32       ROW  45.432682 -122.375005       1801   ROW\n",
      "Press 'p' to pause or any other key to continue...c\n",
      "WD2022-0210\n",
      "    county     trsqq parcel_id   latitude  longitude  record_ID notes\n",
      "51  Benton  12S05W18      MANY  44.531767  -123.3441       1625  Many\n",
      "Press 'p' to pause or any other key to continue...c\n",
      "WD2020-0383\n",
      "    county     trsqq parcel_id   latitude   longitude  record_ID    notes\n",
      "52  Morrow  03N37E00     1702p  45.704707 -119.438747       2121  Partial\n",
      "Press 'p' to pause or any other key to continue...c\n",
      "WD2021-0200\n",
      "Decision link is not available\n",
      "    county     trsqq parcel_id  latitude  longitude  record_ID notes\n",
      "53  Benton  12S05W27       905       NaN        NaN       1607   NaN\n",
      "Press 'p' to pause or any other key to continue...c\n",
      "WD2020-0229\n",
      "       county      trsqq parcel_id   latitude   longitude  record_ID    notes\n",
      "54  Clackamas  01S04E31D    200W1p  45.433245 -122.353285       1869  Partial\n",
      "Press 'p' to pause or any other key to continue...c\n",
      "WD2018-0158\n",
      "    county     trsqq             parcel_id   latitude   longitude  record_ID  \\\n",
      "55  Morrow  02N24E00  100,105,106,All part  45.677501 -119.797083       2081   \n",
      "\n",
      "      notes  \n",
      "55  Partial  \n",
      "Press 'p' to pause or any other key to continue...c\n"
     ]
    }
   ],
   "source": [
    "review_loop_r1(unmatched)"
   ]
  },
  {
   "cell_type": "code",
   "execution_count": 10,
   "id": "d9adc1e9",
   "metadata": {},
   "outputs": [],
   "source": [
    "outpath = r'L:\\NaturalResources\\Wetlands\\Local Wetland Inventory\\WAPO\\EPA_2022_Tasks\\Task 1 WD Mapping\\output'\n",
    "partial = pd.read_csv(outpath + f'\\\\to_review\\\\partial_matched_{setID}.csv')"
   ]
  },
  {
   "cell_type": "code",
   "execution_count": 25,
   "id": "a819b47e",
   "metadata": {},
   "outputs": [
    {
     "data": {
      "text/plain": [
       "Index(['wetdet_delin_number', 'trsqq', 'parcel_id', 'address_location_desc',\n",
       "       'city', 'county', 'site_name', 'site_desc', 'latitude', 'longitude',\n",
       "       'Coord-Source', 'DocumentName', 'DecisionLink', 'is_batch_file',\n",
       "       'status_name', 'received_date', 'response_date',\n",
       "       'reissuance_response_date', 'project_id', 'site_id', 'record_ID',\n",
       "       'notes', 'recyear', 'IDyear', 'missinglot'],\n",
       "      dtype='object')"
      ]
     },
     "execution_count": 25,
     "metadata": {},
     "output_type": "execute_result"
    }
   ],
   "source": [
    "partial.columns"
   ]
  },
  {
   "cell_type": "code",
   "execution_count": 11,
   "id": "35384f5e",
   "metadata": {},
   "outputs": [
    {
     "data": {
      "text/plain": [
       "140"
      ]
     },
     "execution_count": 11,
     "metadata": {},
     "output_type": "execute_result"
    }
   ],
   "source": [
    "len(partial.wetdet_delin_number.unique())"
   ]
  },
  {
   "cell_type": "code",
   "execution_count": 12,
   "id": "d5b7e3f4",
   "metadata": {},
   "outputs": [],
   "source": [
    "IDstoCheck = [wdID for wdID in partial.wetdet_delin_number.unique() if wdID not in unmatchedwdIDs]"
   ]
  },
  {
   "cell_type": "code",
   "execution_count": 13,
   "id": "ae8c9c5a",
   "metadata": {},
   "outputs": [
    {
     "data": {
      "text/plain": [
       "135"
      ]
     },
     "execution_count": 13,
     "metadata": {},
     "output_type": "execute_result"
    }
   ],
   "source": [
    "len(IDstoCheck)"
   ]
  },
  {
   "cell_type": "code",
   "execution_count": 14,
   "id": "38ec20b9",
   "metadata": {},
   "outputs": [],
   "source": [
    "toCheck_df = partial[partial.wetdet_delin_number.isin(IDstoCheck)]"
   ]
  },
  {
   "cell_type": "code",
   "execution_count": 15,
   "id": "eee5338c",
   "metadata": {},
   "outputs": [],
   "source": [
    "mapped_df = setgdf[setgdf.wetdet_delin_number.isin(toCheck_df.wetdet_delin_number.unique())]"
   ]
  },
  {
   "cell_type": "code",
   "execution_count": 16,
   "id": "4c023b54",
   "metadata": {},
   "outputs": [
    {
     "data": {
      "text/plain": [
       "129"
      ]
     },
     "execution_count": 16,
     "metadata": {},
     "output_type": "execute_result"
    }
   ],
   "source": [
    "len(mapped_df.wetdet_delin_number.unique())"
   ]
  },
  {
   "cell_type": "code",
   "execution_count": 17,
   "id": "09d9cf1f",
   "metadata": {},
   "outputs": [],
   "source": [
    "toCheck_df = toCheck_df[~toCheck_df.wetdet_delin_number.isin(read_list(setID))]"
   ]
  },
  {
   "cell_type": "code",
   "execution_count": 18,
   "id": "2464280a",
   "metadata": {},
   "outputs": [],
   "source": [
    "toCheck_df.to_csv(outpath + f'\\\\to_review\\\\tomap_{setID}.csv', index=False)"
   ]
  },
  {
   "cell_type": "code",
   "execution_count": 19,
   "id": "cea96414",
   "metadata": {},
   "outputs": [
    {
     "data": {
      "text/plain": [
       "135"
      ]
     },
     "execution_count": 19,
     "metadata": {},
     "output_type": "execute_result"
    }
   ],
   "source": [
    "len(toCheck_df.wetdet_delin_number.unique())"
   ]
  },
  {
   "cell_type": "code",
   "execution_count": 20,
   "id": "5f1a91fe",
   "metadata": {},
   "outputs": [
    {
     "name": "stdout",
     "output_type": "stream",
     "text": [
      "WD2018-0497\n",
      "index = 1\n",
      "  county     trsqq parcel_id  latitude  longitude  record_ID    notes\n",
      "0  Baker  08S40E24  300,500p    44.851   -117.759       1441  Partial\n",
      "1  Baker  08S40E24  300,500p    44.851   -117.759       1442  Partial\n",
      "Press 'p' to pause or any key to stop...p\n",
      "Press 'a' to add the wd record or 'c' to continue...c\n",
      "WD2018-0521\n",
      "index = 3\n",
      "  county     trsqq parcel_id   latitude   longitude  record_ID    notes\n",
      "2  Baker  10S40E00      100p  44.707424 -117.760801       1443  Partial\n",
      "Press 'p' to pause or any key to stop...p\n",
      "Press 'a' to add the wd record or 'c' to continue...c\n",
      "WD2019-0200\n",
      "index = 4\n",
      "  county     trsqq parcel_id   latitude   longitude  record_ID    notes\n",
      "3  Baker  10S40E00     2201p  44.700257 -117.770968       1446  Partial\n",
      "4  Baker  10S40E00     2201p  44.700257 -117.770968       1447  Partial\n",
      "Press 'p' to pause or any key to stop...P\n"
     ]
    }
   ],
   "source": [
    "toadd = review_loop_r1(df=toCheck_df, partial=True, idx=True)"
   ]
  },
  {
   "cell_type": "code",
   "execution_count": 20,
   "id": "7d04fd21",
   "metadata": {},
   "outputs": [],
   "source": [
    "#review_loop_r1(toCheck_df)"
   ]
  }
 ],
 "metadata": {
  "kernelspec": {
   "display_name": "Python 3",
   "language": "python",
   "name": "python3"
  },
  "language_info": {
   "codemirror_mode": {
    "name": "ipython",
    "version": 3
   },
   "file_extension": ".py",
   "mimetype": "text/x-python",
   "name": "python",
   "nbconvert_exporter": "python",
   "pygments_lexer": "ipython3",
   "version": "3.8.8"
  }
 },
 "nbformat": 4,
 "nbformat_minor": 5
}
