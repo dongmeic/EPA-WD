{
 "cells": [
  {
   "cell_type": "code",
   "execution_count": 1,
   "id": "f0e39328",
   "metadata": {},
   "outputs": [],
   "source": [
    "%load_ext autoreload\n",
    "%autoreload 2"
   ]
  },
  {
   "cell_type": "code",
   "execution_count": 2,
   "id": "a7c7d806",
   "metadata": {},
   "outputs": [],
   "source": [
    "from wdtools import *"
   ]
  },
  {
   "cell_type": "code",
   "execution_count": 3,
   "id": "59b1583a",
   "metadata": {},
   "outputs": [],
   "source": [
    "setID = 'Set002'; nm_to_add=1420"
   ]
  },
  {
   "cell_type": "code",
   "execution_count": 4,
   "id": "ec448061",
   "metadata": {},
   "outputs": [],
   "source": [
    "setgdf = gpd.read_file(os.path.join(inpath, 'GIS', 'Join_Statewide.gdb'), layer=f'WD_{setID}_Combined')"
   ]
  },
  {
   "cell_type": "code",
   "execution_count": 9,
   "id": "db038a1c",
   "metadata": {},
   "outputs": [],
   "source": [
    "wd = combine_wd_tables(setID=setID, nm_to_add=nm_to_add)"
   ]
  },
  {
   "cell_type": "code",
   "execution_count": 5,
   "id": "60a4861b",
   "metadata": {},
   "outputs": [],
   "source": [
    "matched = gpd.read_file(os.path.join(inpath + '\\\\output\\\\matched\\\\', f'matched_records_{setID}_edited.shp'))"
   ]
  },
  {
   "cell_type": "code",
   "execution_count": 6,
   "id": "e2685714",
   "metadata": {},
   "outputs": [],
   "source": [
    "unmatched = pd.read_csv(os.path.join(inpath + '\\\\output\\\\to_review\\\\', f'unmatched_df_{setID}_2.csv'))"
   ]
  },
  {
   "cell_type": "code",
   "execution_count": 12,
   "id": "80ecd408",
   "metadata": {},
   "outputs": [
    {
     "data": {
      "text/plain": [
       "Index(['wdID', 'trsqq', 'parcel_id', 'notes', 'lots', 'lot', 'ORTaxlot',\n",
       "       'record_ID', 'geometry'],\n",
       "      dtype='object')"
      ]
     },
     "execution_count": 12,
     "metadata": {},
     "output_type": "execute_result"
    }
   ],
   "source": [
    "matched.columns"
   ]
  },
  {
   "cell_type": "code",
   "execution_count": 10,
   "id": "65464575",
   "metadata": {},
   "outputs": [
    {
     "data": {
      "text/plain": [
       "13"
      ]
     },
     "execution_count": 10,
     "metadata": {},
     "output_type": "execute_result"
    }
   ],
   "source": [
    "# unmatched records based on wdID\n",
    "unmatchedIDs = wd[~wd.wetdet_delin_number.isin(matched.wdID.unique())].wetdet_delin_number.unique()\n",
    "len(unmatchedIDs)"
   ]
  },
  {
   "cell_type": "code",
   "execution_count": 7,
   "id": "5c211925",
   "metadata": {},
   "outputs": [
    {
     "data": {
      "text/plain": [
       "19"
      ]
     },
     "execution_count": 7,
     "metadata": {},
     "output_type": "execute_result"
    }
   ],
   "source": [
    "# unmatched records based record IDs\n",
    "unmatchedwdIDs = unmatched.wetdet_delin_number.unique()\n",
    "len(unmatchedwdIDs)"
   ]
  },
  {
   "cell_type": "code",
   "execution_count": 11,
   "id": "f83618a4",
   "metadata": {},
   "outputs": [
    {
     "data": {
      "text/plain": [
       "(56, 25)"
      ]
     },
     "execution_count": 11,
     "metadata": {},
     "output_type": "execute_result"
    }
   ],
   "source": [
    "unmatched.shape"
   ]
  },
  {
   "cell_type": "code",
   "execution_count": 12,
   "id": "f07948d5",
   "metadata": {},
   "outputs": [
    {
     "data": {
      "text/plain": [
       "True"
      ]
     },
     "execution_count": 12,
     "metadata": {},
     "output_type": "execute_result"
    }
   ],
   "source": [
    "all([wdID in unmatchedwdIDs for wdID in unmatchedIDs])"
   ]
  },
  {
   "cell_type": "code",
   "execution_count": 17,
   "id": "7014ad07",
   "metadata": {
    "scrolled": true
   },
   "outputs": [
    {
     "name": "stdout",
     "output_type": "stream",
     "text": [
      "WD2017-0229\n",
      "    county     trsqq                   parcel_id   latitude   longitude  \\\n",
      "0    Baker  07S40E00  Many tax maps and tax lots  45.831088 -119.623309   \n",
      "1   Morrow  01N26E00  Many tax maps and tax lots  45.831088 -119.623309   \n",
      "2   Morrow  02N25E00  Many tax maps and tax lots  45.831088 -119.623309   \n",
      "3   Morrow  02N26E00  Many tax maps and tax lots  45.831088 -119.623309   \n",
      "4   Morrow  04N25E00  Many tax maps and tax lots  45.831088 -119.623309   \n",
      "5   Morrow  04N26E00  Many tax maps and tax lots  45.831088 -119.623309   \n",
      "6   Morrow  01N27E00  Many tax maps and tax lots  45.831088 -119.623309   \n",
      "7    Baker  11S42E00  Many tax maps and tax lots  45.831088 -119.623309   \n",
      "8    Baker  12S42E00  Many tax maps and tax lots  45.831088 -119.623309   \n",
      "9    Baker  12S43E00  Many tax maps and tax lots  45.831088 -119.623309   \n",
      "10   Baker  13S44E00  Many tax maps and tax lots  45.831088 -119.623309   \n",
      "11  Morrow  01N28E00  Many tax maps and tax lots  45.831088 -119.623309   \n",
      "12   Baker  14S45E00  Many tax maps and tax lots  45.831088 -119.623309   \n",
      "13   Baker  10S40E00  Many tax maps and tax lots  45.831088 -119.623309   \n",
      "14   Baker  14S44E00  Many tax maps and tax lots  45.831088 -119.623309   \n",
      "15   Baker  09S40E00  Many tax maps and tax lots  45.831088 -119.623309   \n",
      "16   Baker  08S40E00  Many tax maps and tax lots  45.831088 -119.623309   \n",
      "17   Baker  10S41E00  Many tax maps and tax lots  45.831088 -119.623309   \n",
      "18   Baker  11S43E00  Many tax maps and tax lots  45.831088 -119.623309   \n",
      "19   Baker  09S41E00  Many tax maps and tax lots  45.831088 -119.623309   \n",
      "20   Baker  10S42E00  Many tax maps and tax lots  45.831088 -119.623309   \n",
      "21   Baker  15S45E00  Many tax maps and tax lots  45.831088 -119.623309   \n",
      "\n",
      "    record_ID          notes  \n",
      "0        1423  Partial, Many  \n",
      "1        2071  Partial, Many  \n",
      "2        2074  Partial, Many  \n",
      "3        2075  Partial, Many  \n",
      "4        2076  Partial, Many  \n",
      "5        2077  Partial, Many  \n",
      "6        2072  Partial, Many  \n",
      "7        1437  Partial, Many  \n",
      "8        1436  Partial, Many  \n",
      "9        1435  Partial, Many  \n",
      "10       1434  Partial, Many  \n",
      "11       2073  Partial, Many  \n",
      "12       1432  Partial, Many  \n",
      "13       1424  Partial, Many  \n",
      "14       1433  Partial, Many  \n",
      "15       1426  Partial, Many  \n",
      "16       1427  Partial, Many  \n",
      "17       1428  Partial, Many  \n",
      "18       1429  Partial, Many  \n",
      "19       1425  Partial, Many  \n",
      "20       1431  Partial, Many  \n",
      "21       1430  Partial, Many  \n",
      "Press 'p' to pause or any other key to continue...c\n",
      "WD2022-0026\n",
      "       county       trsqq parcel_id   latitude   longitude  record_ID notes\n",
      "22  Clackamas    02S05E04      Many  45.430128 -122.275735       2016  Many\n",
      "23  Clackamas  02S04E01AB      Many  45.430128 -122.275735       2023  Many\n",
      "24  Clackamas    02S04E01      Many  45.430128 -122.275735       2022  Many\n",
      "25  Clackamas    02S05E05      Many  45.430128 -122.275735       2021  Many\n",
      "26  Clackamas    02S05E06      Many  45.430128 -122.275735       2020  Many\n",
      "27  Clackamas  02S04E01AC      Many  45.430128 -122.275735       2019  Many\n",
      "28  Clackamas   02S04E02A      Many  45.430128 -122.275735       2013  Many\n",
      "29  Clackamas    01S05E00      Many  45.444581 -122.154343       2014  Many\n",
      "30  Clackamas    01S06E00      Many  45.471494 -122.095475       2015  Many\n",
      "31  Clackamas    01S05E33      Many  45.444581 -122.154343       2018  Many\n",
      "32  Clackamas    02S05E03      Many  45.430128 -122.275735       2017  Many\n",
      "Press 'p' to pause or any other key to continue...c\n",
      "WD2018-0407\n",
      "    county       trsqq parcel_id   latitude   longitude  record_ID notes\n",
      "33  Morrow  05N26E24DB      many  45.895525 -119.496236       2087  Many\n",
      "34  Morrow  05N26E24DD      many  45.895525 -119.496236       2090  Many\n",
      "35  Morrow  05N27E19CC      many  45.895525 -119.496236       2085  Many\n",
      "36  Morrow  05N26E24DA      many  45.895525 -119.496236       2089  Many\n",
      "37  Morrow   05N26E25A      many  45.895525 -119.496236       2088  Many\n",
      "38  Morrow  05N27E30BC      many  45.895525 -119.496236       2086  Many\n",
      "Press 'p' to pause or any other key to continue...c\n",
      "WD2021-0250\n",
      "   county      trsqq            parcel_id   latitude   longitude  record_ID  \\\n",
      "39  Baker  08S37ED02  3000,3100,3500,3601  44.831504 -118.198506       1477   \n",
      "40  Baker  08S37ED05     101,300,400,2000  44.831727 -118.199277       1478   \n",
      "\n",
      "   notes  \n",
      "39   NaN  \n",
      "40   NaN  \n",
      "Press 'p' to pause or any other key to continue...c\n",
      "WD2019-0300\n",
      "       county       trsqq parcel_id   latitude  longitude  record_ID notes\n",
      "41  Clackamas  01N01E22BC      2500  45.556435 -122.67705       1819   NaN\n",
      "Press 'p' to pause or any other key to continue...c\n",
      "WD2017-0001\n",
      "    county     trsqq parcel_id  latitude  longitude  record_ID notes\n",
      "42  Morrow  04N23E00       110   45.8025 -119.97701       2067   NaN\n",
      "Press 'p' to pause or any other key to continue...c\n",
      "WD2021-0651\n",
      "    county     trsqq parcel_id   latitude   longitude  record_ID    notes\n",
      "43  Morrow  03N37E00     1702p  45.704707 -119.438747       2137  Partial\n",
      "Press 'p' to pause or any other key to continue...c\n",
      "WD2020-0677\n",
      "       county       trsqq parcel_id   latitude   longitude  record_ID notes\n",
      "44  Clackamas  02S02E08DC      9600  45.406191 -122.586622       1930   NaN\n",
      "Press 'p' to pause or any other key to continue...c\n",
      "WD2018-0670\n",
      "       county       trsqq parcel_id  latitude   longitude  record_ID  notes\n",
      "45  Clackamas  04S02E20DD     WATER  45.21625 -122.589953       1794  Water\n",
      "Press 'p' to pause or any other key to continue...c\n",
      "WD2019-0544\n",
      "    county       trsqq parcel_id   latitude  longitude  record_ID notes\n",
      "46  Benton  12S06W12BB      4100  44.546556 -123.37076       1572   NaN\n",
      "Press 'p' to pause or any other key to continue...c\n",
      "WD2020-0489\n",
      "    county     trsqq parcel_id   latitude  longitude  record_ID notes\n",
      "47  Benton  10S04W35       NaN  44.656843 -123.13764       1586   NaN\n",
      "Press 'p' to pause or any other key to continue...c\n",
      "WD2021-0252\n",
      "       county       trsqq    parcel_id   latitude   longitude  record_ID notes\n",
      "48  Clackamas  02S01E08BC  15600,15800  45.416171 -122.718385       1945   NaN\n",
      "Press 'p' to pause or any other key to continue...c\n",
      "WD2021-0616\n",
      "       county       trsqq parcel_id  latitude   longitude  record_ID notes\n",
      "49  Clackamas  03S08Q14DC   100,102  45.30829 -121.751876       1995   NaN\n",
      "Press 'p' to pause or any other key to continue...c\n",
      "WD2019-0041\n",
      "       county     trsqq parcel_id   latitude   longitude  record_ID notes\n",
      "50  Clackamas  01S04E32       ROW  45.432682 -122.375005       1801   ROW\n",
      "Press 'p' to pause or any other key to continue...c\n",
      "WD2022-0210\n",
      "    county     trsqq parcel_id   latitude  longitude  record_ID notes\n",
      "51  Benton  12S05W18      MANY  44.531767  -123.3441       1625  Many\n",
      "Press 'p' to pause or any other key to continue...c\n",
      "WD2020-0383\n",
      "    county     trsqq parcel_id   latitude   longitude  record_ID    notes\n",
      "52  Morrow  03N37E00     1702p  45.704707 -119.438747       2121  Partial\n",
      "Press 'p' to pause or any other key to continue...c\n",
      "WD2021-0200\n",
      "Decision link is not available\n",
      "    county     trsqq parcel_id  latitude  longitude  record_ID notes\n",
      "53  Benton  12S05W27       905       NaN        NaN       1607   NaN\n",
      "Press 'p' to pause or any other key to continue...c\n",
      "WD2020-0229\n",
      "       county      trsqq parcel_id   latitude   longitude  record_ID    notes\n",
      "54  Clackamas  01S04E31D    200W1p  45.433245 -122.353285       1869  Partial\n",
      "Press 'p' to pause or any other key to continue...c\n",
      "WD2018-0158\n",
      "    county     trsqq             parcel_id   latitude   longitude  record_ID  \\\n",
      "55  Morrow  02N24E00  100,105,106,All part  45.677501 -119.797083       2081   \n",
      "\n",
      "      notes  \n",
      "55  Partial  \n",
      "Press 'p' to pause or any other key to continue...c\n"
     ]
    }
   ],
   "source": [
    "review_loop_r1(unmatched)"
   ]
  },
  {
   "cell_type": "code",
   "execution_count": 4,
   "id": "d9adc1e9",
   "metadata": {},
   "outputs": [],
   "source": [
    "outpath = r'L:\\NaturalResources\\Wetlands\\Local Wetland Inventory\\WAPO\\EPA_2022_Tasks\\Task 1 WD Mapping\\output'\n",
    "partial = pd.read_csv(outpath + f'\\\\to_review\\\\partial_matched_{setID}.csv')"
   ]
  },
  {
   "cell_type": "code",
   "execution_count": 25,
   "id": "a819b47e",
   "metadata": {},
   "outputs": [
    {
     "data": {
      "text/plain": [
       "Index(['wetdet_delin_number', 'trsqq', 'parcel_id', 'address_location_desc',\n",
       "       'city', 'county', 'site_name', 'site_desc', 'latitude', 'longitude',\n",
       "       'Coord-Source', 'DocumentName', 'DecisionLink', 'is_batch_file',\n",
       "       'status_name', 'received_date', 'response_date',\n",
       "       'reissuance_response_date', 'project_id', 'site_id', 'record_ID',\n",
       "       'notes', 'recyear', 'IDyear', 'missinglot'],\n",
       "      dtype='object')"
      ]
     },
     "execution_count": 25,
     "metadata": {},
     "output_type": "execute_result"
    }
   ],
   "source": [
    "partial.columns"
   ]
  },
  {
   "cell_type": "code",
   "execution_count": 11,
   "id": "35384f5e",
   "metadata": {},
   "outputs": [
    {
     "data": {
      "text/plain": [
       "140"
      ]
     },
     "execution_count": 11,
     "metadata": {},
     "output_type": "execute_result"
    }
   ],
   "source": [
    "len(partial.wetdet_delin_number.unique())"
   ]
  },
  {
   "cell_type": "code",
   "execution_count": 11,
   "id": "d5b7e3f4",
   "metadata": {},
   "outputs": [],
   "source": [
    "IDstoCheck = [wdID for wdID in partial.wetdet_delin_number.unique() if wdID not in unmatchedwdIDs]"
   ]
  },
  {
   "cell_type": "code",
   "execution_count": 12,
   "id": "ae8c9c5a",
   "metadata": {},
   "outputs": [
    {
     "data": {
      "text/plain": [
       "135"
      ]
     },
     "execution_count": 12,
     "metadata": {},
     "output_type": "execute_result"
    }
   ],
   "source": [
    "len(IDstoCheck)"
   ]
  },
  {
   "cell_type": "code",
   "execution_count": 13,
   "id": "38ec20b9",
   "metadata": {},
   "outputs": [],
   "source": [
    "toCheck_df = partial[partial.wetdet_delin_number.isin(IDstoCheck)]"
   ]
  },
  {
   "cell_type": "code",
   "execution_count": 15,
   "id": "8d8112ea",
   "metadata": {},
   "outputs": [],
   "source": [
    "mapped_df = setgdf[setgdf.wetdet_delin_number.isin(toCheck_df.wetdet_delin_number.unique())]"
   ]
  },
  {
   "cell_type": "code",
   "execution_count": 16,
   "id": "2cf93bb3",
   "metadata": {},
   "outputs": [
    {
     "data": {
      "text/plain": [
       "129"
      ]
     },
     "execution_count": 16,
     "metadata": {},
     "output_type": "execute_result"
    }
   ],
   "source": [
    "len(mapped_df.wetdet_delin_number.unique())"
   ]
  },
  {
   "cell_type": "code",
   "execution_count": 17,
   "id": "8db3c8f3",
   "metadata": {},
   "outputs": [],
   "source": [
    "toCheck_df = toCheck_df[~toCheck_df.wetdet_delin_number.isin(read_list(setID))]"
   ]
  },
  {
   "cell_type": "code",
   "execution_count": 18,
   "id": "dd8dcb51",
   "metadata": {},
   "outputs": [],
   "source": [
    "toCheck_df.to_csv(outpath + f'\\\\to_review\\\\tomap_{setID}.csv', index=False)"
   ]
  },
  {
   "cell_type": "code",
   "execution_count": 19,
   "id": "98ee684d",
   "metadata": {},
   "outputs": [
    {
     "data": {
      "text/plain": [
       "135"
      ]
     },
     "execution_count": 19,
     "metadata": {},
     "output_type": "execute_result"
    }
   ],
   "source": [
    "len(toCheck_df.wetdet_delin_number.unique())"
   ]
  },
  {
   "cell_type": "code",
   "execution_count": 14,
   "id": "61756130",
   "metadata": {},
   "outputs": [],
   "source": [
    "toCheck_df = pd.read_csv(outpath + f'\\\\to_review\\\\tomap_{setID}.csv')"
   ]
  },
  {
   "cell_type": "code",
   "execution_count": 18,
   "id": "6fa637e7",
   "metadata": {
    "scrolled": false
   },
   "outputs": [
    {
     "name": "stdout",
     "output_type": "stream",
     "text": [
      "68.1% digitized, 43 records remained, expected to be done in about 34 hours...\n",
      "WD2020-0412\n",
      "index = 199\n",
      "        county     trsqq                                        parcel_id  \\\n",
      "198  Clackamas  02S04E11  3200,3400,3401,3402,3500,4500,4600,ROW,All part   \n",
      "199  Clackamas  02S04E10                                        5603p,ROW   \n",
      "\n",
      "      latitude   longitude  record_ID         notes  \n",
      "198  45.406037 -122.287736       1892  ROW, Partial  \n",
      "199  45.407565 -122.291623       1893  ROW, Partial  \n",
      "Press 'p' to pause or any key to stop...p\n",
      "Press 'a' to add the wd record or 'c' to continue...c\n",
      "68.9% digitized, 42 records remained, expected to be done in about 34 hours...\n",
      "WD2020-0442\n",
      "index = 201\n",
      "        county     trsqq parcel_id   latitude  longitude  record_ID    notes\n",
      "200  Clackamas  02S04E11     2204p  45.417907  -122.2831       1894  Partial\n",
      "Press 'p' to pause or any key to stop...p\n",
      "Press 'a' to add the wd record or 'c' to continue...c\n",
      "69.6% digitized, 41 records remained, expected to be done in about 33 hours...\n",
      "WD2020-0453\n",
      "index = 202\n",
      "        county       trsqq                                       parcel_id  \\\n",
      "201  Clackamas  02S02E18DB                5200,5300,5400,5500,ROW,All part   \n",
      "202  Clackamas  02S02E18AD                4900,5000,7500,7600,ROW,All part   \n",
      "203  Clackamas  02S02E17BC                                             ROW   \n",
      "204  Clackamas  02S02E18AD          2200,2300,4500,4600,4700,4800,All part   \n",
      "205  Clackamas  02S02E18CA         2106,2107,4406,4407,4408,4409, All part   \n",
      "206  Clackamas  02S02E18DA                               2500,ROW,All part   \n",
      "207  Clackamas  02S02E18DA          1501,2000,2100,2200,2300,2400,All part   \n",
      "208  Clackamas  02S02E18DA            100,200,1000,1001,1100,1202,All part   \n",
      "209  Clackamas  02S02E18DB          2300,4300,4400,4501,4505,4600,All part   \n",
      "210  Clackamas  02S02E18CA                                             ROW   \n",
      "211  Clackamas  02S02E18DB          1300,1400,1900,2000,2100,2200,All part   \n",
      "212  Clackamas  02S02E18CD  100,200,300,600,701,800,900,1000,1100,All part   \n",
      "213  Clackamas  02S02E18DB            100,102,104,200,211,300,400,All part   \n",
      "214  Clackamas  02S02E18DC                    600,700,701,702,ROW,All part   \n",
      "215  Clackamas  02S02E18DC            100,201,225,300,400,501,502,All part   \n",
      "216  Clackamas  02S02E18CD                          2700,2800,ROW,All part   \n",
      "217  Clackamas  02S02E18DA          1203,1204,1303,1304,1401,1500,All part   \n",
      "\n",
      "      latitude   longitude  record_ID         notes  \n",
      "201  45.391273 -122.613272       1895  ROW, Partial  \n",
      "202  45.391273 -122.613272       1896  ROW, Partial  \n",
      "203  45.394031 -122.599631       1897           ROW  \n",
      "204  45.396594 -122.700175       1898       Partial  \n",
      "205  45.392455 -122.609447       1899       Partial  \n",
      "206  45.391273 -122.613272       1900  ROW, Partial  \n",
      "207  45.391273 -122.613272       1901       Partial  \n",
      "208  45.393664 -122.600174       1902       Partial  \n",
      "209  45.391273 -122.613272       1903       Partial  \n",
      "210  45.391273 -122.613272       1904           ROW  \n",
      "211  45.391273 -122.613272       1905       Partial  \n",
      "212  45.391489 -122.612675       1906       Partial  \n",
      "213  45.393587 -122.606131       1907       Partial  \n",
      "214  45.391273 -122.613272       1908  ROW, Partial  \n",
      "215  45.392285 -122.610014       1909       Partial  \n",
      "216  45.391273 -122.613272       1910  ROW, Partial  \n",
      "217  45.391273 -122.613272       1911       Partial  \n",
      "Press 'p' to pause or any key to stop...p\n",
      "Press 'a' to add the wd record or 'c' to continue...c\n",
      "70.4% digitized, 40 records remained, expected to be done in about 32 hours...\n",
      "WD2020-0480\n",
      "index = 219\n",
      "        county       trsqq             parcel_id   latitude   longitude  \\\n",
      "218  Clackamas  03S04E20AC         300,401p,403p  45.296577 -122.338536   \n",
      "219  Clackamas  03S04E20AC         300,401p,403p  45.296577 -122.338536   \n",
      "220  Clackamas  03S04E20AD  600,700,ROW,All part  45.296281 -122.337642   \n",
      "221  Clackamas  03S04E20AD  600,700,ROW,All part  45.296281 -122.337642   \n",
      "\n",
      "     record_ID         notes  \n",
      "218       1913       Partial  \n",
      "219       1914       Partial  \n",
      "220       1915  ROW, Partial  \n",
      "221       1916  ROW, Partial  \n",
      "Press 'p' to pause or any key to stop...s\n"
     ]
    }
   ],
   "source": [
    "toadd = review_loop_r1(df=toCheck_df, partial=True, idx=True, wd_id='WD2020-0480')"
   ]
  },
  {
   "cell_type": "code",
   "execution_count": 20,
   "id": "7d04fd21",
   "metadata": {},
   "outputs": [],
   "source": [
    "#review_loop_r1(toCheck_df)"
   ]
  }
 ],
 "metadata": {
  "kernelspec": {
   "display_name": "Python 3",
   "language": "python",
   "name": "python3"
  },
  "language_info": {
   "codemirror_mode": {
    "name": "ipython",
    "version": 3
   },
   "file_extension": ".py",
   "mimetype": "text/x-python",
   "name": "python",
   "nbconvert_exporter": "python",
   "pygments_lexer": "ipython3",
   "version": "3.8.8"
  }
 },
 "nbformat": 4,
 "nbformat_minor": 5
}
