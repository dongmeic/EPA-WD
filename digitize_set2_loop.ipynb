{
 "cells": [
  {
   "cell_type": "code",
   "execution_count": 1,
   "id": "f0e39328",
   "metadata": {},
   "outputs": [],
   "source": [
    "%load_ext autoreload\n",
    "%autoreload 2"
   ]
  },
  {
   "cell_type": "code",
   "execution_count": 2,
   "id": "a7c7d806",
   "metadata": {},
   "outputs": [],
   "source": [
    "from wdtools import *"
   ]
  },
  {
   "cell_type": "code",
   "execution_count": 3,
   "id": "59b1583a",
   "metadata": {},
   "outputs": [],
   "source": [
    "setID = 'Set002'; nm_to_add=1420"
   ]
  },
  {
   "cell_type": "code",
   "execution_count": 32,
   "id": "ec448061",
   "metadata": {},
   "outputs": [],
   "source": [
    "setgdf = gpd.read_file(os.path.join(inpath, 'GIS', 'Join_Statewide.gdb'), layer=f'WD_{setID}_Combined')"
   ]
  },
  {
   "cell_type": "code",
   "execution_count": 9,
   "id": "db038a1c",
   "metadata": {},
   "outputs": [],
   "source": [
    "wd = combine_wd_tables(setID=setID, nm_to_add=nm_to_add)"
   ]
  },
  {
   "cell_type": "code",
   "execution_count": 5,
   "id": "60a4861b",
   "metadata": {},
   "outputs": [],
   "source": [
    "matched = gpd.read_file(os.path.join(inpath + '\\\\output\\\\matched\\\\', f'matched_records_{setID}_edited.shp'))"
   ]
  },
  {
   "cell_type": "code",
   "execution_count": 6,
   "id": "e2685714",
   "metadata": {},
   "outputs": [],
   "source": [
    "unmatched = pd.read_csv(os.path.join(inpath + '\\\\output\\\\to_review\\\\', f'unmatched_df_{setID}_2.csv'))"
   ]
  },
  {
   "cell_type": "code",
   "execution_count": 12,
   "id": "80ecd408",
   "metadata": {},
   "outputs": [
    {
     "data": {
      "text/plain": [
       "Index(['wdID', 'trsqq', 'parcel_id', 'notes', 'lots', 'lot', 'ORTaxlot',\n",
       "       'record_ID', 'geometry'],\n",
       "      dtype='object')"
      ]
     },
     "execution_count": 12,
     "metadata": {},
     "output_type": "execute_result"
    }
   ],
   "source": [
    "matched.columns"
   ]
  },
  {
   "cell_type": "code",
   "execution_count": 10,
   "id": "65464575",
   "metadata": {},
   "outputs": [
    {
     "data": {
      "text/plain": [
       "13"
      ]
     },
     "execution_count": 10,
     "metadata": {},
     "output_type": "execute_result"
    }
   ],
   "source": [
    "# unmatched records based on wdID\n",
    "unmatchedIDs = wd[~wd.wetdet_delin_number.isin(matched.wdID.unique())].wetdet_delin_number.unique()\n",
    "len(unmatchedIDs)"
   ]
  },
  {
   "cell_type": "code",
   "execution_count": 7,
   "id": "5c211925",
   "metadata": {},
   "outputs": [
    {
     "data": {
      "text/plain": [
       "19"
      ]
     },
     "execution_count": 7,
     "metadata": {},
     "output_type": "execute_result"
    }
   ],
   "source": [
    "# unmatched records based record IDs\n",
    "unmatchedwdIDs = unmatched.wetdet_delin_number.unique()\n",
    "len(unmatchedwdIDs)"
   ]
  },
  {
   "cell_type": "code",
   "execution_count": 11,
   "id": "f83618a4",
   "metadata": {},
   "outputs": [
    {
     "data": {
      "text/plain": [
       "(56, 25)"
      ]
     },
     "execution_count": 11,
     "metadata": {},
     "output_type": "execute_result"
    }
   ],
   "source": [
    "unmatched.shape"
   ]
  },
  {
   "cell_type": "code",
   "execution_count": 12,
   "id": "f07948d5",
   "metadata": {},
   "outputs": [
    {
     "data": {
      "text/plain": [
       "True"
      ]
     },
     "execution_count": 12,
     "metadata": {},
     "output_type": "execute_result"
    }
   ],
   "source": [
    "all([wdID in unmatchedwdIDs for wdID in unmatchedIDs])"
   ]
  },
  {
   "cell_type": "code",
   "execution_count": 17,
   "id": "7014ad07",
   "metadata": {
    "scrolled": true
   },
   "outputs": [
    {
     "name": "stdout",
     "output_type": "stream",
     "text": [
      "WD2017-0229\n",
      "    county     trsqq                   parcel_id   latitude   longitude  \\\n",
      "0    Baker  07S40E00  Many tax maps and tax lots  45.831088 -119.623309   \n",
      "1   Morrow  01N26E00  Many tax maps and tax lots  45.831088 -119.623309   \n",
      "2   Morrow  02N25E00  Many tax maps and tax lots  45.831088 -119.623309   \n",
      "3   Morrow  02N26E00  Many tax maps and tax lots  45.831088 -119.623309   \n",
      "4   Morrow  04N25E00  Many tax maps and tax lots  45.831088 -119.623309   \n",
      "5   Morrow  04N26E00  Many tax maps and tax lots  45.831088 -119.623309   \n",
      "6   Morrow  01N27E00  Many tax maps and tax lots  45.831088 -119.623309   \n",
      "7    Baker  11S42E00  Many tax maps and tax lots  45.831088 -119.623309   \n",
      "8    Baker  12S42E00  Many tax maps and tax lots  45.831088 -119.623309   \n",
      "9    Baker  12S43E00  Many tax maps and tax lots  45.831088 -119.623309   \n",
      "10   Baker  13S44E00  Many tax maps and tax lots  45.831088 -119.623309   \n",
      "11  Morrow  01N28E00  Many tax maps and tax lots  45.831088 -119.623309   \n",
      "12   Baker  14S45E00  Many tax maps and tax lots  45.831088 -119.623309   \n",
      "13   Baker  10S40E00  Many tax maps and tax lots  45.831088 -119.623309   \n",
      "14   Baker  14S44E00  Many tax maps and tax lots  45.831088 -119.623309   \n",
      "15   Baker  09S40E00  Many tax maps and tax lots  45.831088 -119.623309   \n",
      "16   Baker  08S40E00  Many tax maps and tax lots  45.831088 -119.623309   \n",
      "17   Baker  10S41E00  Many tax maps and tax lots  45.831088 -119.623309   \n",
      "18   Baker  11S43E00  Many tax maps and tax lots  45.831088 -119.623309   \n",
      "19   Baker  09S41E00  Many tax maps and tax lots  45.831088 -119.623309   \n",
      "20   Baker  10S42E00  Many tax maps and tax lots  45.831088 -119.623309   \n",
      "21   Baker  15S45E00  Many tax maps and tax lots  45.831088 -119.623309   \n",
      "\n",
      "    record_ID          notes  \n",
      "0        1423  Partial, Many  \n",
      "1        2071  Partial, Many  \n",
      "2        2074  Partial, Many  \n",
      "3        2075  Partial, Many  \n",
      "4        2076  Partial, Many  \n",
      "5        2077  Partial, Many  \n",
      "6        2072  Partial, Many  \n",
      "7        1437  Partial, Many  \n",
      "8        1436  Partial, Many  \n",
      "9        1435  Partial, Many  \n",
      "10       1434  Partial, Many  \n",
      "11       2073  Partial, Many  \n",
      "12       1432  Partial, Many  \n",
      "13       1424  Partial, Many  \n",
      "14       1433  Partial, Many  \n",
      "15       1426  Partial, Many  \n",
      "16       1427  Partial, Many  \n",
      "17       1428  Partial, Many  \n",
      "18       1429  Partial, Many  \n",
      "19       1425  Partial, Many  \n",
      "20       1431  Partial, Many  \n",
      "21       1430  Partial, Many  \n",
      "Press 'p' to pause or any other key to continue...c\n",
      "WD2022-0026\n",
      "       county       trsqq parcel_id   latitude   longitude  record_ID notes\n",
      "22  Clackamas    02S05E04      Many  45.430128 -122.275735       2016  Many\n",
      "23  Clackamas  02S04E01AB      Many  45.430128 -122.275735       2023  Many\n",
      "24  Clackamas    02S04E01      Many  45.430128 -122.275735       2022  Many\n",
      "25  Clackamas    02S05E05      Many  45.430128 -122.275735       2021  Many\n",
      "26  Clackamas    02S05E06      Many  45.430128 -122.275735       2020  Many\n",
      "27  Clackamas  02S04E01AC      Many  45.430128 -122.275735       2019  Many\n",
      "28  Clackamas   02S04E02A      Many  45.430128 -122.275735       2013  Many\n",
      "29  Clackamas    01S05E00      Many  45.444581 -122.154343       2014  Many\n",
      "30  Clackamas    01S06E00      Many  45.471494 -122.095475       2015  Many\n",
      "31  Clackamas    01S05E33      Many  45.444581 -122.154343       2018  Many\n",
      "32  Clackamas    02S05E03      Many  45.430128 -122.275735       2017  Many\n",
      "Press 'p' to pause or any other key to continue...c\n",
      "WD2018-0407\n",
      "    county       trsqq parcel_id   latitude   longitude  record_ID notes\n",
      "33  Morrow  05N26E24DB      many  45.895525 -119.496236       2087  Many\n",
      "34  Morrow  05N26E24DD      many  45.895525 -119.496236       2090  Many\n",
      "35  Morrow  05N27E19CC      many  45.895525 -119.496236       2085  Many\n",
      "36  Morrow  05N26E24DA      many  45.895525 -119.496236       2089  Many\n",
      "37  Morrow   05N26E25A      many  45.895525 -119.496236       2088  Many\n",
      "38  Morrow  05N27E30BC      many  45.895525 -119.496236       2086  Many\n",
      "Press 'p' to pause or any other key to continue...c\n",
      "WD2021-0250\n",
      "   county      trsqq            parcel_id   latitude   longitude  record_ID  \\\n",
      "39  Baker  08S37ED02  3000,3100,3500,3601  44.831504 -118.198506       1477   \n",
      "40  Baker  08S37ED05     101,300,400,2000  44.831727 -118.199277       1478   \n",
      "\n",
      "   notes  \n",
      "39   NaN  \n",
      "40   NaN  \n",
      "Press 'p' to pause or any other key to continue...c\n",
      "WD2019-0300\n",
      "       county       trsqq parcel_id   latitude  longitude  record_ID notes\n",
      "41  Clackamas  01N01E22BC      2500  45.556435 -122.67705       1819   NaN\n",
      "Press 'p' to pause or any other key to continue...c\n",
      "WD2017-0001\n",
      "    county     trsqq parcel_id  latitude  longitude  record_ID notes\n",
      "42  Morrow  04N23E00       110   45.8025 -119.97701       2067   NaN\n",
      "Press 'p' to pause or any other key to continue...c\n",
      "WD2021-0651\n",
      "    county     trsqq parcel_id   latitude   longitude  record_ID    notes\n",
      "43  Morrow  03N37E00     1702p  45.704707 -119.438747       2137  Partial\n",
      "Press 'p' to pause or any other key to continue...c\n",
      "WD2020-0677\n",
      "       county       trsqq parcel_id   latitude   longitude  record_ID notes\n",
      "44  Clackamas  02S02E08DC      9600  45.406191 -122.586622       1930   NaN\n",
      "Press 'p' to pause or any other key to continue...c\n",
      "WD2018-0670\n",
      "       county       trsqq parcel_id  latitude   longitude  record_ID  notes\n",
      "45  Clackamas  04S02E20DD     WATER  45.21625 -122.589953       1794  Water\n",
      "Press 'p' to pause or any other key to continue...c\n",
      "WD2019-0544\n",
      "    county       trsqq parcel_id   latitude  longitude  record_ID notes\n",
      "46  Benton  12S06W12BB      4100  44.546556 -123.37076       1572   NaN\n",
      "Press 'p' to pause or any other key to continue...c\n",
      "WD2020-0489\n",
      "    county     trsqq parcel_id   latitude  longitude  record_ID notes\n",
      "47  Benton  10S04W35       NaN  44.656843 -123.13764       1586   NaN\n",
      "Press 'p' to pause or any other key to continue...c\n",
      "WD2021-0252\n",
      "       county       trsqq    parcel_id   latitude   longitude  record_ID notes\n",
      "48  Clackamas  02S01E08BC  15600,15800  45.416171 -122.718385       1945   NaN\n",
      "Press 'p' to pause or any other key to continue...c\n",
      "WD2021-0616\n",
      "       county       trsqq parcel_id  latitude   longitude  record_ID notes\n",
      "49  Clackamas  03S08Q14DC   100,102  45.30829 -121.751876       1995   NaN\n",
      "Press 'p' to pause or any other key to continue...c\n",
      "WD2019-0041\n",
      "       county     trsqq parcel_id   latitude   longitude  record_ID notes\n",
      "50  Clackamas  01S04E32       ROW  45.432682 -122.375005       1801   ROW\n",
      "Press 'p' to pause or any other key to continue...c\n",
      "WD2022-0210\n",
      "    county     trsqq parcel_id   latitude  longitude  record_ID notes\n",
      "51  Benton  12S05W18      MANY  44.531767  -123.3441       1625  Many\n",
      "Press 'p' to pause or any other key to continue...c\n",
      "WD2020-0383\n",
      "    county     trsqq parcel_id   latitude   longitude  record_ID    notes\n",
      "52  Morrow  03N37E00     1702p  45.704707 -119.438747       2121  Partial\n",
      "Press 'p' to pause or any other key to continue...c\n",
      "WD2021-0200\n",
      "Decision link is not available\n",
      "    county     trsqq parcel_id  latitude  longitude  record_ID notes\n",
      "53  Benton  12S05W27       905       NaN        NaN       1607   NaN\n",
      "Press 'p' to pause or any other key to continue...c\n",
      "WD2020-0229\n",
      "       county      trsqq parcel_id   latitude   longitude  record_ID    notes\n",
      "54  Clackamas  01S04E31D    200W1p  45.433245 -122.353285       1869  Partial\n",
      "Press 'p' to pause or any other key to continue...c\n",
      "WD2018-0158\n",
      "    county     trsqq             parcel_id   latitude   longitude  record_ID  \\\n",
      "55  Morrow  02N24E00  100,105,106,All part  45.677501 -119.797083       2081   \n",
      "\n",
      "      notes  \n",
      "55  Partial  \n",
      "Press 'p' to pause or any other key to continue...c\n"
     ]
    }
   ],
   "source": [
    "review_loop_r1(df=unmatched, partial=True, idx=True)"
   ]
  },
  {
   "cell_type": "code",
   "execution_count": 4,
   "id": "d9adc1e9",
   "metadata": {},
   "outputs": [],
   "source": [
    "outpath = r'L:\\NaturalResources\\Wetlands\\Local Wetland Inventory\\WAPO\\EPA_2022_Tasks\\Task 1 WD Mapping\\output'\n",
    "partial = pd.read_csv(outpath + f'\\\\to_review\\\\partial_matched_{setID}.csv')"
   ]
  },
  {
   "cell_type": "code",
   "execution_count": 25,
   "id": "a819b47e",
   "metadata": {},
   "outputs": [
    {
     "data": {
      "text/plain": [
       "Index(['wetdet_delin_number', 'trsqq', 'parcel_id', 'address_location_desc',\n",
       "       'city', 'county', 'site_name', 'site_desc', 'latitude', 'longitude',\n",
       "       'Coord-Source', 'DocumentName', 'DecisionLink', 'is_batch_file',\n",
       "       'status_name', 'received_date', 'response_date',\n",
       "       'reissuance_response_date', 'project_id', 'site_id', 'record_ID',\n",
       "       'notes', 'recyear', 'IDyear', 'missinglot'],\n",
       "      dtype='object')"
      ]
     },
     "execution_count": 25,
     "metadata": {},
     "output_type": "execute_result"
    }
   ],
   "source": [
    "partial.columns"
   ]
  },
  {
   "cell_type": "code",
   "execution_count": 11,
   "id": "35384f5e",
   "metadata": {},
   "outputs": [
    {
     "data": {
      "text/plain": [
       "140"
      ]
     },
     "execution_count": 11,
     "metadata": {},
     "output_type": "execute_result"
    }
   ],
   "source": [
    "len(partial.wetdet_delin_number.unique())"
   ]
  },
  {
   "cell_type": "code",
   "execution_count": 11,
   "id": "d5b7e3f4",
   "metadata": {},
   "outputs": [],
   "source": [
    "IDstoCheck = [wdID for wdID in partial.wetdet_delin_number.unique() if wdID not in unmatchedwdIDs]"
   ]
  },
  {
   "cell_type": "code",
   "execution_count": 12,
   "id": "ae8c9c5a",
   "metadata": {},
   "outputs": [
    {
     "data": {
      "text/plain": [
       "135"
      ]
     },
     "execution_count": 12,
     "metadata": {},
     "output_type": "execute_result"
    }
   ],
   "source": [
    "len(IDstoCheck)"
   ]
  },
  {
   "cell_type": "code",
   "execution_count": 13,
   "id": "38ec20b9",
   "metadata": {},
   "outputs": [],
   "source": [
    "toCheck_df = partial[partial.wetdet_delin_number.isin(IDstoCheck)]"
   ]
  },
  {
   "cell_type": "code",
   "execution_count": 15,
   "id": "8d8112ea",
   "metadata": {},
   "outputs": [],
   "source": [
    "mapped_df = setgdf[setgdf.wetdet_delin_number.isin(toCheck_df.wetdet_delin_number.unique())]"
   ]
  },
  {
   "cell_type": "code",
   "execution_count": 16,
   "id": "2cf93bb3",
   "metadata": {},
   "outputs": [
    {
     "data": {
      "text/plain": [
       "129"
      ]
     },
     "execution_count": 16,
     "metadata": {},
     "output_type": "execute_result"
    }
   ],
   "source": [
    "len(mapped_df.wetdet_delin_number.unique())"
   ]
  },
  {
   "cell_type": "code",
   "execution_count": 17,
   "id": "8db3c8f3",
   "metadata": {},
   "outputs": [],
   "source": [
    "toCheck_df = toCheck_df[~toCheck_df.wetdet_delin_number.isin(read_list(setID))]"
   ]
  },
  {
   "cell_type": "code",
   "execution_count": 18,
   "id": "dd8dcb51",
   "metadata": {},
   "outputs": [],
   "source": [
    "toCheck_df.to_csv(outpath + f'\\\\to_review\\\\tomap_{setID}.csv', index=False)"
   ]
  },
  {
   "cell_type": "code",
   "execution_count": 19,
   "id": "98ee684d",
   "metadata": {},
   "outputs": [
    {
     "data": {
      "text/plain": [
       "135"
      ]
     },
     "execution_count": 19,
     "metadata": {},
     "output_type": "execute_result"
    }
   ],
   "source": [
    "len(toCheck_df.wetdet_delin_number.unique())"
   ]
  },
  {
   "cell_type": "code",
   "execution_count": 14,
   "id": "880fe0de",
   "metadata": {},
   "outputs": [],
   "source": [
    "toCheck_df = pd.read_csv(outpath + f'\\\\to_review\\\\tomap_{setID}.csv')"
   ]
  },
  {
   "cell_type": "code",
   "execution_count": 23,
   "id": "e353bd43",
   "metadata": {},
   "outputs": [],
   "source": [
    "toCheck_df = toCheck_df[toCheck_df.notes.notnull()]"
   ]
  },
  {
   "cell_type": "code",
   "execution_count": 27,
   "id": "aa9e3125",
   "metadata": {},
   "outputs": [
    {
     "data": {
      "text/plain": [
       "Index(['wetdet_delin_number', 'trsqq', 'parcel_id', 'address_location_desc',\n",
       "       'city', 'county', 'site_name', 'site_desc', 'latitude', 'longitude',\n",
       "       'Coord-Source', 'DocumentName', 'DecisionLink', 'is_batch_file',\n",
       "       'status_name', 'received_date', 'response_date',\n",
       "       'reissuance_response_date', 'project_id', 'site_id', 'record_ID',\n",
       "       'notes', 'recyear', 'IDyear', 'missinglot'],\n",
       "      dtype='object')"
      ]
     },
     "execution_count": 27,
     "metadata": {},
     "output_type": "execute_result"
    }
   ],
   "source": [
    "toCheck_df.columns"
   ]
  },
  {
   "cell_type": "code",
   "execution_count": 24,
   "id": "6fa637e7",
   "metadata": {
    "scrolled": true
   },
   "outputs": [
    {
     "name": "stdout",
     "output_type": "stream",
     "text": [
      "80.5% digitized, 26 records remained, expected to be done in about 21 hours...\n",
      "WD2021-0408\n",
      "index = 238\n",
      "        county       trsqq parcel_id   latitude   longitude  record_ID  \\\n",
      "237  Clackamas  02S07E32DC      200p  45.347769 -121.970068       1956   \n",
      "\n",
      "       notes  \n",
      "237  Partial  \n",
      "Press 'p' to pause or any key to stop...p\n",
      "Press 'a' to add the wd record or 'c' to continue...c\n",
      "81.2% digitized, 25 records remained, expected to be done in about 20 hours...\n",
      "WD2021-0425\n",
      "index = 240\n",
      "        county     trsqq parcel_id   latitude  longitude  record_ID    notes\n",
      "239  Clackamas  04S01E03     2300p  45.247931 -122.68196       1963  Partial\n",
      "Press 'p' to pause or any key to stop...p\n",
      "Press 'a' to add the wd record or 'c' to continue...c\n",
      "82.0% digitized, 24 records remained, expected to be done in about 19 hours...\n",
      "WD2021-0507\n",
      "index = 242\n",
      "        county       trsqq parcel_id  latitude   longitude  record_ID    notes\n",
      "241  Clackamas  02S02E30BD      800p  45.37027 -122.613456       1972  Partial\n",
      "Press 'p' to pause or any key to stop...p\n",
      "Press 'a' to add the wd record or 'c' to continue...c\n",
      "82.7% digitized, 23 records remained, expected to be done in about 18 hours...\n",
      "WD2021-0515\n",
      "index = 243\n",
      "        county       trsqq                               parcel_id   latitude  \\\n",
      "242  Clackamas  02S02E29CB                                 300,ROW  45.365608   \n",
      "243  Clackamas    02S02E30            1200,1300,ROW,WATER,All part  45.365473   \n",
      "244  Clackamas    02S02E29                                     ROW        NaN   \n",
      "245  Clackamas    02S02E29  1504p,1506p,1507p,1509p,1510,2100,2300  45.372926   \n",
      "246  Clackamas    02S02E20                                    503p  45.374728   \n",
      "\n",
      "      longitude  record_ID                notes  \n",
      "242 -122.601924       1975                  ROW  \n",
      "243 -122.602141       1976  ROW, Partial, Water  \n",
      "244         NaN       1977                  ROW  \n",
      "245 -122.592046       1978              Partial  \n",
      "246 -122.591277       1979              Partial  \n",
      "Press 'p' to pause or any key to stop...p\n",
      "Press 'a' to add the wd record or 'c' to continue...c\n",
      "83.5% digitized, 22 records remained, expected to be done in about 18 hours...\n",
      "WD2021-0534\n",
      "index = 248\n",
      "        county      trsqq parcel_id   latitude   longitude  record_ID    notes\n",
      "247  Clackamas  01S03E30B      200p  45.459002 -122.486931       1983  Partial\n",
      "Press 'p' to pause or any key to stop...p\n",
      "Press 'a' to add the wd record or 'c' to continue...c\n",
      "84.2% digitized, 21 records remained, expected to be done in about 17 hours...\n",
      "WD2021-0593\n",
      "index = 249\n",
      "        county       trsqq                                 parcel_id  \\\n",
      "248  Clackamas  02S01E21BD                            2800p,3400,ROW   \n",
      "249  Clackamas   02S01E16C                                 601p,602p   \n",
      "250  Clackamas   02S01E16D                    1200,1201,ROW,All part   \n",
      "251  Clackamas   02S01E21B                      600,601,602,All part   \n",
      "252  Clackamas  02S01E21BA  100,200,302,400,500,600,700,ROW.All part   \n",
      "253  Clackamas  02S01E21BD       101,200,201,1200,1400,1700,All part   \n",
      "254  Clackamas  02S01E21BD    1800,2100,2300,2400,2500,2700,All part   \n",
      "\n",
      "      latitude   longitude  record_ID         notes  \n",
      "248  45.388478 -122.692566       1985  ROW, Partial  \n",
      "249  45.391341 -122.690782       1986       Partial  \n",
      "250  45.392137 -122.690086       1987  ROW, Partial  \n",
      "251  45.388478 -122.692566       1988       Partial  \n",
      "252  45.388478 -122.692566       1989  ROW, Partial  \n",
      "253  45.385467 -122.694841       1990       Partial  \n",
      "254  45.388478 -122.692566       1991       Partial  \n",
      "Press 'p' to pause or any key to stop...p\n",
      "Press 'a' to add the wd record or 'c' to continue...c\n",
      "85.0% digitized, 20 records remained, expected to be done in about 16 hours...\n",
      "WD2021-0599\n",
      "index = 256\n",
      "        county      trsqq          parcel_id   latitude   longitude  \\\n",
      "255  Clackamas  03S02E15A  200p,201,202, 290  45.318634 -122.548694   \n",
      "256  Clackamas  03S02E10D              3500p  45.315092 -122.548649   \n",
      "\n",
      "     record_ID    notes  \n",
      "255       1992  Partial  \n",
      "256       1993  Partial  \n",
      "Press 'p' to pause or any key to stop...p\n",
      "Press 'a' to add the wd record or 'c' to continue...c\n",
      "85.7% digitized, 19 records remained, expected to be done in about 15 hours...\n",
      "WD2021-0618\n",
      "index = 258\n",
      "        county      trsqq                 parcel_id   latitude   longitude  \\\n",
      "257  Clackamas   05S02E17                     2480p  45.139534 -122.583391   \n",
      "258  Clackamas  05S02E17A  100,102,200,290,All part  45.139534 -122.583391   \n",
      "\n",
      "     record_ID    notes  \n",
      "257       1997  Partial  \n",
      "258       1998  Partial  \n",
      "Press 'p' to pause or any key to stop...p\n",
      "Press 'a' to add the wd record or 'c' to continue...c\n",
      "86.5% digitized, 18 records remained, expected to be done in about 14 hours...\n",
      "WD2021-0637\n",
      "index = 261\n",
      "        county     trsqq      parcel_id   latitude   longitude  record_ID  \\\n",
      "260  Clackamas  03S04E17  400p,700,900p  45.310801 -122.336031       2002   \n",
      "\n",
      "       notes  \n",
      "260  Partial  \n",
      "Press 'p' to pause or any key to stop...p\n",
      "Press 'a' to add the wd record or 'c' to continue...c\n",
      "87.2% digitized, 17 records remained, expected to be done in about 14 hours...\n",
      "WD2021-0668\n",
      "index = 262\n",
      "        county       trsqq                         parcel_id   latitude  \\\n",
      "261  Clackamas  02S01E13DB  2400,2500,2501,2600,ROW,All part  45.393843   \n",
      "262  Clackamas  02S01E13DA           3900,3902,4000,All part  45.393441   \n",
      "\n",
      "      longitude  record_ID         notes  \n",
      "261 -122.626953       2003  ROW, Partial  \n",
      "262 -122.626501       2004       Partial  \n",
      "Press 'p' to pause or any key to stop...p\n",
      "Press 'a' to add the wd record or 'c' to continue...c\n",
      "88.0% digitized, 16 records remained, expected to be done in about 13 hours...\n",
      "WD2021-0689\n",
      "index = 264\n",
      "        county       trsqq parcel_id   latitude  longitude  record_ID    notes\n",
      "263  Clackamas  02S04E11CA    18300p  45.408879 -122.28369       2008  Partial\n",
      "264  Clackamas  02S04E11CA    18300p  45.408879 -122.28369       2009  Partial\n",
      "Press 'p' to pause or any key to stop...p\n",
      "Press 'a' to add the wd record or 'c' to continue...c\n",
      "88.7% digitized, 15 records remained, expected to be done in about 12 hours...\n",
      "WD2021-0705\n",
      "index = 266\n",
      "        county      trsqq  parcel_id   latitude   longitude  record_ID  \\\n",
      "265  Clackamas  02S02E05A  1000p,ROW  45.428905 -122.590024       2010   \n",
      "266  Clackamas  02S02E05B   400p,ROW  45.428905 -122.590024       2011   \n",
      "\n",
      "            notes  \n",
      "265  ROW, Partial  \n",
      "266  ROW, Partial  \n",
      "Press 'p' to pause or any key to stop...p\n",
      "Press 'a' to add the wd record or 'c' to continue...c\n",
      "89.5% digitized, 14 records remained, expected to be done in about 11 hours...\n",
      "WD2022-0067\n",
      "index = 268\n",
      "        county     trsqq parcel_id   latitude   longitude  record_ID    notes\n",
      "267  Clackamas  02S01E17      600p  45.391042 -122.720123       2027  Partial\n",
      "Press 'p' to pause or any key to stop...p\n",
      "Press 'a' to add the wd record or 'c' to continue...c\n",
      "90.2% digitized, 13 records remained, expected to be done in about 10 hours...\n",
      "WD2022-0070\n",
      "index = 270\n",
      "        county       trsqq                                     parcel_id  \\\n",
      "269  Clackamas  05S02E07AB  100,200,300,400,500,600,700,800,900,All part   \n",
      "270  Clackamas    05S02E07                      100,201,301,ROW,All part   \n",
      "271  Clackamas   05S02E07A                  600,700,702,710,ROW,All part   \n",
      "272  Clackamas  05S02E07AB            1000,1400,10000,10400,ROW,All part   \n",
      "273  Clackamas  05S02E05CC                                           ROW   \n",
      "274  Clackamas    05S02E06                                           ROW   \n",
      "\n",
      "     latitude  longitude  record_ID         notes  \n",
      "269  45.15591 -122.60379       2029       Partial  \n",
      "270  45.15591 -122.60379       2030  ROW, Partial  \n",
      "271  45.15591 -122.60379       2031  ROW, Partial  \n",
      "272  45.15591 -122.60379       2032  ROW, Partial  \n",
      "273  45.15591 -122.60379       2033           ROW  \n",
      "274  45.15591 -122.60379       2034           ROW  \n",
      "Press 'p' to pause or any key to stop...p\n",
      "Press 'a' to add the wd record or 'c' to continue...c\n",
      "91.0% digitized, 12 records remained, expected to be done in about 10 hours...\n",
      "WD2022-0170\n",
      "index = 276\n",
      "        county       trsqq               parcel_id  latitude  longitude  \\\n",
      "275  Clackamas  02S01E10CB  2912p,2913p,2915p,2920   45.3664  -122.8325   \n",
      "\n",
      "     record_ID    notes  \n",
      "275       2042  Partial  \n"
     ]
    },
    {
     "name": "stdout",
     "output_type": "stream",
     "text": [
      "Press 'p' to pause or any key to stop...p\n",
      "Press 'a' to add the wd record or 'c' to continue...c\n",
      "91.7% digitized, 11 records remained, expected to be done in about 9 hours...\n",
      "WD2022-0171\n",
      "index = 277\n",
      "        county       trsqq       parcel_id   latitude   longitude  record_ID  \\\n",
      "276  Clackamas  02S02E31DD  4501,4600, ROW  45.348244 -122.601154       2043   \n",
      "\n",
      "    notes  \n",
      "276   ROW  \n",
      "Press 'p' to pause or any key to stop...p\n",
      "Press 'a' to add the wd record or 'c' to continue...c\n",
      "92.5% digitized, 10 records remained, expected to be done in about 8 hours...\n",
      "WD2022-0202\n",
      "index = 278\n",
      "        county       trsqq                parcel_id  latitude  longitude  \\\n",
      "277  Clackamas  02S01E07DB                    2209p   45.4114  -122.7334   \n",
      "278  Clackamas  02S01E07CA  100,2901p,2902,3000,ROW   45.4114  -122.7334   \n",
      "\n",
      "     record_ID         notes  \n",
      "277       2045       Partial  \n",
      "278       2046  ROW, Partial  \n",
      "Press 'p' to pause or any key to stop...p\n",
      "Press 'a' to add the wd record or 'c' to continue...c\n",
      "93.2% digitized, 9 records remained, expected to be done in about 7 hours...\n",
      "WD2022-0272\n",
      "index = 280\n",
      "        county      trsqq parcel_id   latitude   longitude  record_ID notes\n",
      "279  Clackamas  03S02E09D  1300,ROW  45.321581 -122.565868       2062   ROW\n",
      "Press 'p' to pause or any key to stop...p\n",
      "Press 'a' to add the wd record or 'c' to continue...c\n",
      "94.0% digitized, 8 records remained, expected to be done in about 6 hours...\n",
      "WD2017-0198\n",
      "index = 283\n",
      "     county       trsqq parcel_id   latitude   longitude  record_ID notes\n",
      "282  Morrow  05N27E19CB       ROW  45.900754 -119.488097       2070   ROW\n",
      "Press 'p' to pause or any key to stop...p\n",
      "Press 'a' to add the wd record or 'c' to continue...c\n",
      "94.7% digitized, 7 records remained, expected to be done in about 6 hours...\n",
      "WD2017-0275\n",
      "index = 284\n",
      "     county     trsqq parcel_id  latitude  longitude  record_ID    notes\n",
      "283  Morrow  03N24E17      100p    45.744  -119.8358       2079  Partial\n",
      "Press 'p' to pause or any key to stop...p\n",
      "Press 'a' to add the wd record or 'c' to continue...c\n",
      "95.5% digitized, 6 records remained, expected to be done in about 5 hours...\n",
      "WD2018-0326\n",
      "index = 285\n",
      "     county     trsqq parcel_id  latitude  longitude  record_ID    notes\n",
      "284  Morrow  01N25E33     3401p   45.5205  -119.6905       2084  Partial\n",
      "Press 'p' to pause or any key to stop...p\n",
      "Press 'a' to add the wd record or 'c' to continue...c\n",
      "96.2% digitized, 5 records remained, expected to be done in about 4 hours...\n",
      "WD2019-0082\n",
      "index = 286\n",
      "     county     trsqq                               parcel_id   latitude  \\\n",
      "285  Morrow  04N25E02            100,104,105,106,107,All part  45.861727   \n",
      "286  Morrow  04N25E02            100,104,105,106,107,All part  45.861727   \n",
      "287  Morrow  03N26E00                                    510p  45.771581   \n",
      "288  Morrow  03N26E00                                    510p  45.771581   \n",
      "289  Morrow  04N26E00  3405,3407,3416,3419,4700,4703,All part  45.824771   \n",
      "290  Morrow  04N26E00  3405,3407,3416,3419,4700,4703,All part  45.824771   \n",
      "291  Morrow  04N26E07                    100,200,201,All part  45.840226   \n",
      "292  Morrow  04N26E07                    100,200,201,All part  45.840226   \n",
      "293  Morrow  04N25E12                                    103p  45.846284   \n",
      "294  Morrow  04N25E12                                    103p  45.846284   \n",
      "295  Morrow  04N25E01                                    102p  45.863658   \n",
      "296  Morrow  04N25E01                                    102p  45.863658   \n",
      "\n",
      "      longitude  record_ID    notes  \n",
      "285 -119.647871       2097  Partial  \n",
      "286 -119.647871       2098  Partial  \n",
      "287 -119.622717       2099  Partial  \n",
      "288 -119.622717       2100  Partial  \n",
      "289 -119.618111       2101  Partial  \n",
      "290 -119.618111       2102  Partial  \n",
      "291 -119.619808       2103  Partial  \n",
      "292 -119.619808       2104  Partial  \n",
      "293 -119.626709       2105  Partial  \n",
      "294 -119.626709       2106  Partial  \n",
      "295 -119.654349       2107  Partial  \n",
      "296 -119.654349       2108  Partial  \n",
      "Press 'p' to pause or any key to stop...p\n",
      "Press 'a' to add the wd record or 'c' to continue...c\n",
      "97.0% digitized, 4 records remained, expected to be done in about 3 hours...\n",
      "WD2020-0550\n",
      "index = 298\n",
      "     county     trsqq                 parcel_id  latitude  longitude  \\\n",
      "297  Morrow  04N24E00  110,114,115,ROW,All part  45.81941 -119.83472   \n",
      "\n",
      "     record_ID         notes  \n",
      "297       2122  ROW, Partial  \n",
      "Press 'p' to pause or any key to stop...p\n",
      "Press 'a' to add the wd record or 'c' to continue...c\n",
      "97.7% digitized, 3 records remained, expected to be done in about 2 hours...\n",
      "WD2021-0003\n",
      "index = 299\n",
      "     county     trsqq                                        parcel_id  \\\n",
      "298  Morrow  04N25E09                                        411p,422p   \n",
      "299  Morrow  04N26E07                         300,201,200,ROW,All part   \n",
      "300  Morrow  04N25E12                         200,300,302,400,All part   \n",
      "301  Morrow  04N25E10                           3302,3400,ROW,All part   \n",
      "302  Morrow  04N25E10           3000,3201,3205,3206,3211,3300,All part   \n",
      "303  Morrow  04N26E00                                            4703p   \n",
      "304  Morrow  04N25E11  402,403,500,600,900,1100,1200,1201,ROW,All part   \n",
      "305  Morrow  04N25E14                        900,901,1101,ROW,All part   \n",
      "\n",
      "      latitude   longitude  record_ID         notes  \n",
      "298  45.501306 -119.411015       2123       Partial  \n",
      "299  45.500300 -119.365505       2124  ROW, Partial  \n",
      "300  45.500300 -119.365505       2125       Partial  \n",
      "301  45.500300 -119.365505       2126  ROW, Partial  \n",
      "302  45.500300 -119.365505       2127       Partial  \n",
      "303  45.500300 -119.365505       2128       Partial  \n",
      "304  45.500300 -119.365505       2129  ROW, Partial  \n",
      "305  45.500300 -119.365505       2130  ROW, Partial  \n",
      "Press 'p' to pause or any key to stop...P\n",
      "Press 'a' to add the wd record or 'c' to continue...C\n",
      "98.5% digitized, 2 records remained, expected to be done in about 2 hours...\n",
      "WD2021-0233\n",
      "index = 307\n",
      "     county     trsqq parcel_id   latitude   longitude  record_ID    notes\n",
      "306  Morrow  04N25E09      102p  45.847356 -119.700905       2131  Partial\n",
      "Press 'p' to pause or any key to stop...P\n",
      "Press 'a' to add the wd record or 'c' to continue...c\n",
      "99.2% digitized, 1 records remained, expected to be done in about 1 hours...\n",
      "WD2022-0023\n",
      "index = 311\n",
      "Decision link is not available\n",
      "     county     trsqq      parcel_id   latitude   longitude  record_ID notes\n",
      "310  Morrow  01N26E00        701,ROW  45.495748 -119.646481       2139   ROW\n",
      "311  Morrow  01N25E00  3202,3300,ROW  45.495748 -119.646481       2140   ROW\n",
      "313  Morrow  02N25E00    400,500,ROW  45.495748 -119.646481       2142   ROW\n",
      "Press 'p' to pause or any key to stop...p\n",
      "Press 'a' to add the wd record or 'c' to continue...c\n"
     ]
    }
   ],
   "source": [
    "toadd = review_loop_r1(df=toCheck_df, partial=True, idx=True, wd_id='WD2021-0348')"
   ]
  },
  {
   "cell_type": "code",
   "execution_count": 25,
   "id": "57e10a50",
   "metadata": {},
   "outputs": [],
   "source": [
    "unmatched_df = pd.read_csv(os.path.join(inpath + '\\\\output\\\\to_review\\\\', f'unmatched_df_{setID}_2.csv'))"
   ]
  },
  {
   "cell_type": "code",
   "execution_count": 29,
   "id": "b39054d3",
   "metadata": {},
   "outputs": [],
   "source": [
    "with open(outpath+f'\\\\matched\\\\{setID}_edited.txt') as f:\n",
    "    edited = f.readlines()"
   ]
  },
  {
   "cell_type": "code",
   "execution_count": 36,
   "id": "3278b84c",
   "metadata": {
    "scrolled": true
   },
   "outputs": [],
   "source": [
    "toCheck_df2 = unmatched_df[~unmatched_df.wetdet_delin_number.isin(setgdf.wetdet_delin_number.unique())]"
   ]
  },
  {
   "cell_type": "code",
   "execution_count": 41,
   "id": "7ab6adfd",
   "metadata": {
    "scrolled": false
   },
   "outputs": [
    {
     "name": "stdout",
     "output_type": "stream",
     "text": [
      "0.0% digitized, 7 records remained, expected to be done in about 6 hours...\n",
      "WD2017-0229\n",
      "index = 1\n",
      "    county     trsqq                   parcel_id   latitude   longitude  \\\n",
      "0    Baker  07S40E00  Many tax maps and tax lots  45.831088 -119.623309   \n",
      "1   Morrow  01N26E00  Many tax maps and tax lots  45.831088 -119.623309   \n",
      "2   Morrow  02N25E00  Many tax maps and tax lots  45.831088 -119.623309   \n",
      "3   Morrow  02N26E00  Many tax maps and tax lots  45.831088 -119.623309   \n",
      "4   Morrow  04N25E00  Many tax maps and tax lots  45.831088 -119.623309   \n",
      "5   Morrow  04N26E00  Many tax maps and tax lots  45.831088 -119.623309   \n",
      "6   Morrow  01N27E00  Many tax maps and tax lots  45.831088 -119.623309   \n",
      "7    Baker  11S42E00  Many tax maps and tax lots  45.831088 -119.623309   \n",
      "8    Baker  12S42E00  Many tax maps and tax lots  45.831088 -119.623309   \n",
      "9    Baker  12S43E00  Many tax maps and tax lots  45.831088 -119.623309   \n",
      "10   Baker  13S44E00  Many tax maps and tax lots  45.831088 -119.623309   \n",
      "11  Morrow  01N28E00  Many tax maps and tax lots  45.831088 -119.623309   \n",
      "12   Baker  14S45E00  Many tax maps and tax lots  45.831088 -119.623309   \n",
      "13   Baker  10S40E00  Many tax maps and tax lots  45.831088 -119.623309   \n",
      "14   Baker  14S44E00  Many tax maps and tax lots  45.831088 -119.623309   \n",
      "15   Baker  09S40E00  Many tax maps and tax lots  45.831088 -119.623309   \n",
      "16   Baker  08S40E00  Many tax maps and tax lots  45.831088 -119.623309   \n",
      "17   Baker  10S41E00  Many tax maps and tax lots  45.831088 -119.623309   \n",
      "18   Baker  11S43E00  Many tax maps and tax lots  45.831088 -119.623309   \n",
      "19   Baker  09S41E00  Many tax maps and tax lots  45.831088 -119.623309   \n",
      "20   Baker  10S42E00  Many tax maps and tax lots  45.831088 -119.623309   \n",
      "21   Baker  15S45E00  Many tax maps and tax lots  45.831088 -119.623309   \n",
      "\n",
      "    record_ID          notes missinglot  \n",
      "0        1423  Partial, Many          Y  \n",
      "1        2071  Partial, Many          Y  \n",
      "2        2074  Partial, Many          Y  \n",
      "3        2075  Partial, Many          Y  \n",
      "4        2076  Partial, Many          Y  \n",
      "5        2077  Partial, Many          Y  \n",
      "6        2072  Partial, Many          Y  \n",
      "7        1437  Partial, Many          Y  \n",
      "8        1436  Partial, Many          Y  \n",
      "9        1435  Partial, Many          Y  \n",
      "10       1434  Partial, Many          Y  \n",
      "11       2073  Partial, Many          Y  \n",
      "12       1432  Partial, Many          Y  \n",
      "13       1424  Partial, Many          Y  \n",
      "14       1433  Partial, Many          Y  \n",
      "15       1426  Partial, Many          Y  \n",
      "16       1427  Partial, Many          Y  \n",
      "17       1428  Partial, Many          Y  \n",
      "18       1429  Partial, Many          Y  \n",
      "19       1425  Partial, Many          Y  \n",
      "20       1431  Partial, Many          Y  \n",
      "21       1430  Partial, Many          Y  \n",
      "Press 'p' to pause or any key to stop...p\n",
      "Press 'a' to add the wd record or 'c' to continue...c\n",
      "14.3% digitized, 6 records remained, expected to be done in about 5 hours...\n",
      "WD2022-0026\n",
      "index = 23\n",
      "       county       trsqq parcel_id   latitude   longitude  record_ID notes  \\\n",
      "22  Clackamas    02S05E04      Many  45.430128 -122.275735       2016  Many   \n",
      "23  Clackamas  02S04E01AB      Many  45.430128 -122.275735       2023  Many   \n",
      "24  Clackamas    02S04E01      Many  45.430128 -122.275735       2022  Many   \n",
      "25  Clackamas    02S05E05      Many  45.430128 -122.275735       2021  Many   \n",
      "26  Clackamas    02S05E06      Many  45.430128 -122.275735       2020  Many   \n",
      "27  Clackamas  02S04E01AC      Many  45.430128 -122.275735       2019  Many   \n",
      "28  Clackamas   02S04E02A      Many  45.430128 -122.275735       2013  Many   \n",
      "29  Clackamas    01S05E00      Many  45.444581 -122.154343       2014  Many   \n",
      "30  Clackamas    01S06E00      Many  45.471494 -122.095475       2015  Many   \n",
      "31  Clackamas    01S05E33      Many  45.444581 -122.154343       2018  Many   \n",
      "32  Clackamas    02S05E03      Many  45.430128 -122.275735       2017  Many   \n",
      "\n",
      "   missinglot  \n",
      "22          Y  \n",
      "23          Y  \n",
      "24          Y  \n",
      "25          Y  \n",
      "26          Y  \n",
      "27          Y  \n",
      "28          Y  \n",
      "29          Y  \n",
      "30          Y  \n",
      "31          Y  \n",
      "32          Y  \n",
      "Press 'p' to pause or any key to stop...p\n",
      "Press 'a' to add the wd record or 'c' to continue...c\n",
      "28.6% digitized, 5 records remained, expected to be done in about 4 hours...\n",
      "WD2018-0407\n",
      "index = 34\n",
      "    county       trsqq parcel_id   latitude   longitude  record_ID notes  \\\n",
      "33  Morrow  05N26E24DB      many  45.895525 -119.496236       2087  Many   \n",
      "34  Morrow  05N26E24DD      many  45.895525 -119.496236       2090  Many   \n",
      "35  Morrow  05N27E19CC      many  45.895525 -119.496236       2085  Many   \n",
      "36  Morrow  05N26E24DA      many  45.895525 -119.496236       2089  Many   \n",
      "37  Morrow   05N26E25A      many  45.895525 -119.496236       2088  Many   \n",
      "38  Morrow  05N27E30BC      many  45.895525 -119.496236       2086  Many   \n",
      "\n",
      "   missinglot  \n",
      "33          Y  \n",
      "34          Y  \n",
      "35          Y  \n",
      "36          Y  \n",
      "37          Y  \n",
      "38          Y  \n",
      "Press 'p' to pause or any key to stop...p\n",
      "Press 'a' to add the wd record or 'c' to continue...c\n",
      "42.9% digitized, 4 records remained, expected to be done in about 3 hours...\n",
      "WD2019-0300\n",
      "index = 42\n",
      "       county       trsqq parcel_id   latitude  longitude  record_ID notes  \\\n",
      "41  Clackamas  01N01E22BC      2500  45.556435 -122.67705       1819   NaN   \n",
      "\n",
      "   missinglot  \n",
      "41          N  \n",
      "Press 'p' to pause or any key to stop...p\n",
      "Press 'a' to add the wd record or 'c' to continue...c\n",
      "57.1% digitized, 3 records remained, expected to be done in about 2 hours...\n",
      "WD2020-0489\n",
      "index = 48\n",
      "    county     trsqq parcel_id   latitude  longitude  record_ID notes  \\\n",
      "47  Benton  10S04W35       NaN  44.656843 -123.13764       1586   NaN   \n",
      "\n",
      "   missinglot  \n",
      "47        NaN  \n",
      "Press 'p' to pause or any key to stop...p\n",
      "Press 'a' to add the wd record or 'c' to continue...c\n",
      "71.4% digitized, 2 records remained, expected to be done in about 2 hours...\n",
      "WD2021-0200\n",
      "index = 54\n",
      "Decision link is not available\n",
      "    county     trsqq parcel_id  latitude  longitude  record_ID notes  \\\n",
      "53  Benton  12S05W27       905       NaN        NaN       1607   NaN   \n",
      "\n",
      "   missinglot  \n",
      "53          N  \n",
      "Press 'p' to pause or any key to stop...p\n",
      "Press 'a' to add the wd record or 'c' to continue...c\n",
      "85.7% digitized, 1 records remained, expected to be done in about 1 hours...\n",
      "WD2018-0158\n",
      "index = 56\n",
      "    county     trsqq             parcel_id   latitude   longitude  record_ID  \\\n",
      "55  Morrow  02N24E00  100,105,106,All part  45.677501 -119.797083       2081   \n",
      "\n",
      "      notes missinglot  \n",
      "55  Partial          N  \n",
      "Press 'p' to pause or any key to stop...p\n",
      "Press 'a' to add the wd record or 'c' to continue...c\n"
     ]
    }
   ],
   "source": [
    "review_loop_r1(df=toCheck_df2, partial=True, idx=True)"
   ]
  },
  {
   "cell_type": "code",
   "execution_count": 47,
   "id": "c8a98883",
   "metadata": {},
   "outputs": [],
   "source": [
    "#tocheckIDs = ['WD2021-0250','WD2019-0544','WD2020-0229','WD2020-0677','WD2021-0252','WD2021-0616','WD2017-0001']"
   ]
  },
  {
   "cell_type": "code",
   "execution_count": 49,
   "id": "684ded10",
   "metadata": {
    "scrolled": true
   },
   "outputs": [],
   "source": [
    "#review_loop_r1(wdid_list=tocheckIDs, partial=True, idx=True, wddf=wd)"
   ]
  }
 ],
 "metadata": {
  "kernelspec": {
   "display_name": "Python 3",
   "language": "python",
   "name": "python3"
  },
  "language_info": {
   "codemirror_mode": {
    "name": "ipython",
    "version": 3
   },
   "file_extension": ".py",
   "mimetype": "text/x-python",
   "name": "python",
   "nbconvert_exporter": "python",
   "pygments_lexer": "ipython3",
   "version": "3.8.8"
  }
 },
 "nbformat": 4,
 "nbformat_minor": 5
}
