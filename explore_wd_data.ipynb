{
 "cells": [
  {
   "cell_type": "code",
   "execution_count": 1,
   "id": "6d122c7a",
   "metadata": {},
   "outputs": [
    {
     "name": "stderr",
     "output_type": "stream",
     "text": [
      "C:\\Users\\clid1852\\AppData\\Anaconda3\\envs\\geoenv\\lib\\site-packages\\geopandas\\_compat.py:106: UserWarning: The Shapely GEOS version (3.11.1-CAPI-1.17.1) is incompatible with the GEOS version PyGEOS was compiled with (3.9.1-CAPI-1.14.2). Conversions between both will be slow.\n",
      "  warnings.warn(\n"
     ]
    }
   ],
   "source": [
    "import pandas as pd\n",
    "import geopandas as gpd\n",
    "import os\n",
    "from os import walk\n",
    "import zipfile\n",
    "import re\n",
    "import numpy as np\n",
    "from itertools import chain"
   ]
  },
  {
   "cell_type": "code",
   "execution_count": 108,
   "id": "ca758426",
   "metadata": {},
   "outputs": [],
   "source": [
    "from itertools import chain"
   ]
  },
  {
   "cell_type": "code",
   "execution_count": 4,
   "id": "ed12494d",
   "metadata": {},
   "outputs": [],
   "source": [
    "inpath = r'L:\\NaturalResources\\Wetlands\\Local Wetland Inventory\\WAPO\\EPA_2022_Tasks\\Task 1 WD Mapping'"
   ]
  },
  {
   "cell_type": "code",
   "execution_count": 5,
   "id": "ce2f3cb3",
   "metadata": {},
   "outputs": [],
   "source": [
    "wdpath = inpath + '\\\\DSL data originals\\Set001'"
   ]
  },
  {
   "cell_type": "code",
   "execution_count": 6,
   "id": "ce96d385",
   "metadata": {},
   "outputs": [],
   "source": [
    "txpath = inpath + '\\\\GIS\\ORMAP_data\\Downloaded zip files'"
   ]
  },
  {
   "cell_type": "code",
   "execution_count": 7,
   "id": "609df1d8",
   "metadata": {},
   "outputs": [],
   "source": [
    "newpath = os.path.join(inpath, \"test\")"
   ]
  },
  {
   "cell_type": "code",
   "execution_count": 8,
   "id": "c87d20c6",
   "metadata": {},
   "outputs": [],
   "source": [
    "os.mkdir(newpath)"
   ]
  },
  {
   "cell_type": "code",
   "execution_count": 20,
   "id": "8aa8deb5",
   "metadata": {},
   "outputs": [],
   "source": [
    "def list_files(path, folder=False):\n",
    "    f = []\n",
    "    for (dirpath, dirnames, filenames) in walk(path):\n",
    "        f.extend(filenames)\n",
    "        break\n",
    "    if folder:\n",
    "        f = [x[0] for x in os.walk(path)]\n",
    "    return f"
   ]
  },
  {
   "cell_type": "code",
   "execution_count": 14,
   "id": "ded5e33d",
   "metadata": {},
   "outputs": [
    {
     "data": {
      "text/plain": [
       "['ClatsopCoDelsDets2017-20220601.xlsx',\n",
       " 'CoosCo2017-20220601.xlsx',\n",
       " 'DeschutesCoDelDet2017-20220601.xlsx',\n",
       " 'HarneyCo2017-20220601.xlsx',\n",
       " 'JacksonCo2017-20220601.xlsx',\n",
       " 'JosephineCo2017-20220601.xlsx',\n",
       " 'LakeCoDelDet2017-20220601.xlsx',\n",
       " 'MarionCoDelDet2017-20220601.xlsx',\n",
       " '~$ClatsopCoDelsDets2017-20220601.xlsx',\n",
       " '~$CoosCo2017-20220601.xlsx']"
      ]
     },
     "execution_count": 14,
     "metadata": {},
     "output_type": "execute_result"
    }
   ],
   "source": [
    "list_files(wdpath)"
   ]
  },
  {
   "cell_type": "code",
   "execution_count": 15,
   "id": "5da4bf70",
   "metadata": {},
   "outputs": [
    {
     "data": {
      "text/plain": [
       "['2012 Taxlots.zip',\n",
       " '2014_state_agency_use_taxlots.gdb.zip',\n",
       " '2015_state_agency_use_taxlots.gdb.zip',\n",
       " '2016ShareableTaxLotsGDBJuneUpdate.zip',\n",
       " 'Morrow2015.zip',\n",
       " 'Shared_Taxlots_2017_GDB.zip',\n",
       " 'Shared_Taxlots_2018_GDB.zip',\n",
       " 'Shared_Taxlots_2019_GDB.zip',\n",
       " 'Shared_Taxlots_2020_GDB.zip',\n",
       " 'Shared_Taxlots_2021_GDB.zip',\n",
       " 'Shared_Taxlots_2022_GDB.zip',\n",
       " 'State Data2009.gdb.zip',\n",
       " 'taxlots_2011.zip']"
      ]
     },
     "execution_count": 15,
     "metadata": {},
     "output_type": "execute_result"
    }
   ],
   "source": [
    "list_files(txpath)"
   ]
  },
  {
   "cell_type": "code",
   "execution_count": 25,
   "id": "1530bce2",
   "metadata": {},
   "outputs": [],
   "source": [
    "year = 2022"
   ]
  },
  {
   "cell_type": "code",
   "execution_count": 26,
   "id": "d12cfe47",
   "metadata": {},
   "outputs": [],
   "source": [
    "with zipfile.ZipFile(os.path.join(txpath, 'Shared_Taxlots_'+str(year)+'_GDB.zip'), 'r') as zip_ref:\n",
    "    zip_ref.extractall(newpath)"
   ]
  },
  {
   "cell_type": "code",
   "execution_count": 27,
   "id": "cacf1bf3",
   "metadata": {},
   "outputs": [
    {
     "data": {
      "text/plain": [
       "['L:\\\\NaturalResources\\\\Wetlands\\\\Local Wetland Inventory\\\\WAPO\\\\EPA_2022_Tasks\\\\Task 1 WD Mapping\\\\test',\n",
       " 'L:\\\\NaturalResources\\\\Wetlands\\\\Local Wetland Inventory\\\\WAPO\\\\EPA_2022_Tasks\\\\Task 1 WD Mapping\\\\test\\\\GDB',\n",
       " 'L:\\\\NaturalResources\\\\Wetlands\\\\Local Wetland Inventory\\\\WAPO\\\\EPA_2022_Tasks\\\\Task 1 WD Mapping\\\\test\\\\GDB\\\\Shared Taxlots.gdb']"
      ]
     },
     "execution_count": 27,
     "metadata": {},
     "output_type": "execute_result"
    }
   ],
   "source": [
    "list_files(newpath, folder=True)[1]"
   ]
  },
  {
   "cell_type": "code",
   "execution_count": 28,
   "id": "86e7e815",
   "metadata": {},
   "outputs": [],
   "source": [
    "os.renames(list_files(newpath, folder=True)[1], newpath+'\\\\Taxlots'+str(year))"
   ]
  },
  {
   "cell_type": "code",
   "execution_count": 29,
   "id": "1f82f713",
   "metadata": {},
   "outputs": [],
   "source": [
    "datafile = os.path.join(wdpath, 'ClatsopCoDelsDets2017-20220601.xlsx')"
   ]
  },
  {
   "cell_type": "code",
   "execution_count": 31,
   "id": "dc377596",
   "metadata": {},
   "outputs": [
    {
     "data": {
      "text/plain": [
       "['Delineations-Determinations', 'Reorg']"
      ]
     },
     "execution_count": 31,
     "metadata": {},
     "output_type": "execute_result"
    }
   ],
   "source": [
    "xl = pd.ExcelFile(datafile)\n",
    "xl.sheet_names"
   ]
  },
  {
   "cell_type": "code",
   "execution_count": 32,
   "id": "9c69ba30",
   "metadata": {},
   "outputs": [],
   "source": [
    "wd_dt = pd.read_excel(datafile, sheet_name='Reorg')"
   ]
  },
  {
   "cell_type": "code",
   "execution_count": 33,
   "id": "85ea4c30",
   "metadata": {},
   "outputs": [
    {
     "data": {
      "text/html": [
       "<div>\n",
       "<style scoped>\n",
       "    .dataframe tbody tr th:only-of-type {\n",
       "        vertical-align: middle;\n",
       "    }\n",
       "\n",
       "    .dataframe tbody tr th {\n",
       "        vertical-align: top;\n",
       "    }\n",
       "\n",
       "    .dataframe thead th {\n",
       "        text-align: right;\n",
       "    }\n",
       "</style>\n",
       "<table border=\"1\" class=\"dataframe\">\n",
       "  <thead>\n",
       "    <tr style=\"text-align: right;\">\n",
       "      <th></th>\n",
       "      <th>wetdet_delin_number</th>\n",
       "      <th>trsqq</th>\n",
       "      <th>parcel_id</th>\n",
       "      <th>address_location_desc</th>\n",
       "      <th>city</th>\n",
       "      <th>county</th>\n",
       "      <th>site_name</th>\n",
       "      <th>site_desc</th>\n",
       "      <th>latitude</th>\n",
       "      <th>longitude</th>\n",
       "      <th>Coord-Source</th>\n",
       "      <th>DocumentName</th>\n",
       "      <th>DecisionLink</th>\n",
       "      <th>is_batch_file</th>\n",
       "      <th>status_name</th>\n",
       "      <th>received_date</th>\n",
       "      <th>response_date</th>\n",
       "      <th>reissuance_response_date</th>\n",
       "      <th>project_id</th>\n",
       "      <th>site_id</th>\n",
       "    </tr>\n",
       "  </thead>\n",
       "  <tbody>\n",
       "    <tr>\n",
       "      <th>0</th>\n",
       "      <td>WD2017-0003</td>\n",
       "      <td>06N10W03DA</td>\n",
       "      <td>500 (partial)</td>\n",
       "      <td>McCormick Rd .025 mi S of Hillila Rd</td>\n",
       "      <td>Gearhart</td>\n",
       "      <td>Clatsop</td>\n",
       "      <td>McCormick Rd 06N10W03DA</td>\n",
       "      <td>Residential</td>\n",
       "      <td>46.030197</td>\n",
       "      <td>-123.905217</td>\n",
       "      <td>DSL Verified</td>\n",
       "      <td>WD2017-0003final</td>\n",
       "      <td>https://docs.dsl.state.or.us/PublicReview/docv...</td>\n",
       "      <td>N</td>\n",
       "      <td>Approved</td>\n",
       "      <td>2017-01-03</td>\n",
       "      <td>2017-03-09</td>\n",
       "      <td>NaN</td>\n",
       "      <td>NaN</td>\n",
       "      <td>103777</td>\n",
       "    </tr>\n",
       "    <tr>\n",
       "      <th>1</th>\n",
       "      <td>WD2017-0033</td>\n",
       "      <td>08N08W25</td>\n",
       "      <td>101</td>\n",
       "      <td>W of 92260 Koppisch Rd, Astoria</td>\n",
       "      <td>Astoria</td>\n",
       "      <td>Clatsop</td>\n",
       "      <td>08N08W25</td>\n",
       "      <td>site evaluation</td>\n",
       "      <td>46.155778</td>\n",
       "      <td>-123.610751</td>\n",
       "      <td>DSL Verified</td>\n",
       "      <td>WD20170033AgencyDecision</td>\n",
       "      <td>https://docs.dsl.state.or.us/PublicReview/Elec...</td>\n",
       "      <td>Y</td>\n",
       "      <td>Completed by DSL</td>\n",
       "      <td>2017-01-12</td>\n",
       "      <td>2017-01-30</td>\n",
       "      <td>NaN</td>\n",
       "      <td>NaN</td>\n",
       "      <td>104259</td>\n",
       "    </tr>\n",
       "    <tr>\n",
       "      <th>2</th>\n",
       "      <td>WD2017-0056</td>\n",
       "      <td>08N10W09B</td>\n",
       "      <td>2500, ROWs (both partial)</td>\n",
       "      <td>Warrenton Dr and NW 17th St</td>\n",
       "      <td>Warrenton</td>\n",
       "      <td>Clatsop</td>\n",
       "      <td>Gann Dev 08N10W09B</td>\n",
       "      <td>residential development</td>\n",
       "      <td>46.190638</td>\n",
       "      <td>-123.932177</td>\n",
       "      <td>DSL Verified</td>\n",
       "      <td>WD2017-0056final</td>\n",
       "      <td>https://docs.dsl.state.or.us/PublicReview/docv...</td>\n",
       "      <td>N</td>\n",
       "      <td>Approved</td>\n",
       "      <td>2017-02-06</td>\n",
       "      <td>2017-05-17</td>\n",
       "      <td>NaN</td>\n",
       "      <td>NaN</td>\n",
       "      <td>104411</td>\n",
       "    </tr>\n",
       "  </tbody>\n",
       "</table>\n",
       "</div>"
      ],
      "text/plain": [
       "  wetdet_delin_number       trsqq                  parcel_id  \\\n",
       "0         WD2017-0003  06N10W03DA              500 (partial)   \n",
       "1         WD2017-0033    08N08W25                        101   \n",
       "2         WD2017-0056   08N10W09B  2500, ROWs (both partial)   \n",
       "\n",
       "                  address_location_desc       city   county  \\\n",
       "0  McCormick Rd .025 mi S of Hillila Rd   Gearhart  Clatsop   \n",
       "1       W of 92260 Koppisch Rd, Astoria    Astoria  Clatsop   \n",
       "2           Warrenton Dr and NW 17th St  Warrenton  Clatsop   \n",
       "\n",
       "                 site_name                site_desc   latitude   longitude  \\\n",
       "0  McCormick Rd 06N10W03DA              Residential  46.030197 -123.905217   \n",
       "1                 08N08W25          site evaluation  46.155778 -123.610751   \n",
       "2       Gann Dev 08N10W09B  residential development  46.190638 -123.932177   \n",
       "\n",
       "   Coord-Source              DocumentName  \\\n",
       "0  DSL Verified          WD2017-0003final   \n",
       "1  DSL Verified  WD20170033AgencyDecision   \n",
       "2  DSL Verified          WD2017-0056final   \n",
       "\n",
       "                                        DecisionLink is_batch_file  \\\n",
       "0  https://docs.dsl.state.or.us/PublicReview/docv...             N   \n",
       "1  https://docs.dsl.state.or.us/PublicReview/Elec...             Y   \n",
       "2  https://docs.dsl.state.or.us/PublicReview/docv...             N   \n",
       "\n",
       "        status_name received_date response_date  reissuance_response_date  \\\n",
       "0          Approved    2017-01-03    2017-03-09                       NaN   \n",
       "1  Completed by DSL    2017-01-12    2017-01-30                       NaN   \n",
       "2          Approved    2017-02-06    2017-05-17                       NaN   \n",
       "\n",
       "   project_id  site_id  \n",
       "0         NaN   103777  \n",
       "1         NaN   104259  \n",
       "2         NaN   104411  "
      ]
     },
     "execution_count": 33,
     "metadata": {},
     "output_type": "execute_result"
    }
   ],
   "source": [
    "wd_dt.head(3)"
   ]
  },
  {
   "cell_type": "code",
   "execution_count": 34,
   "id": "d5ba79d8",
   "metadata": {},
   "outputs": [
    {
     "data": {
      "text/plain": [
       "Index(['wetdet_delin_number', 'trsqq', 'parcel_id', 'address_location_desc',\n",
       "       'city', 'county', 'site_name', 'site_desc', 'latitude', 'longitude',\n",
       "       'Coord-Source', 'DocumentName', 'DecisionLink', 'is_batch_file',\n",
       "       'status_name', 'received_date', 'response_date',\n",
       "       'reissuance_response_date', 'project_id', 'site_id'],\n",
       "      dtype='object')"
      ]
     },
     "execution_count": 34,
     "metadata": {},
     "output_type": "execute_result"
    }
   ],
   "source": [
    "wd_dt.columns"
   ]
  },
  {
   "cell_type": "code",
   "execution_count": 38,
   "id": "666e46bf",
   "metadata": {},
   "outputs": [],
   "source": [
    "txfilepath = os.path.join(newpath, 'Taxlots'+str(year), 'Shared Taxlots.gdb')"
   ]
  },
  {
   "cell_type": "code",
   "execution_count": 39,
   "id": "ceafb09f",
   "metadata": {},
   "outputs": [],
   "source": [
    "tx_dt = gpd.read_file(txfilepath, layer='Taxlots')"
   ]
  },
  {
   "cell_type": "code",
   "execution_count": 42,
   "id": "2cef1357",
   "metadata": {},
   "outputs": [],
   "source": [
    "tx_dt_s = gpd.read_file(txfilepath, layer='Taxlots', rows=10)"
   ]
  },
  {
   "cell_type": "code",
   "execution_count": 44,
   "id": "9d67830d",
   "metadata": {},
   "outputs": [
    {
     "data": {
      "text/plain": [
       "Index(['County', 'Town', 'TownPart', 'TownDir', 'Range', 'RangePart',\n",
       "       'RangeDir', 'SecNumber', 'Qtr', 'QtrQtr', 'Anomaly', 'MapSufType',\n",
       "       'MapNumber', 'ORMapNum', 'Taxlot', 'MapTaxlot', 'ORTaxlot',\n",
       "       'TaxlotAcre', 'ReliaCode', 'TaxLotFeet', 'MapClass', 'MapRelCode',\n",
       "       'MapSufNum', 'REFLink', 'SpecialInt', 'INSTYEAR', 'PRIMACCNUM',\n",
       "       'OWNERLINE1', 'MAILADD1', 'MAILADD2', 'MAILCITY', 'MAILZIP', 'PRPCLASS',\n",
       "       'SIMAPTAX', 'OWNERLINE2', 'OWNERLINE3', 'AGENTNAME', 'MAILSTATE',\n",
       "       'MAILCNTRY', 'SITEADDNAM', 'SITEADDCTY', 'SITEZIP', 'INSTMONTH',\n",
       "       'INSTID', 'INSTTYPE', 'DWELLING', 'PRPCLSDSC', 'Shape_Length',\n",
       "       'Shape_Area', 'geometry'],\n",
       "      dtype='object')"
      ]
     },
     "execution_count": 44,
     "metadata": {},
     "output_type": "execute_result"
    }
   ],
   "source": [
    "tx_dt_s.columns"
   ]
  },
  {
   "cell_type": "code",
   "execution_count": 46,
   "id": "685d794d",
   "metadata": {},
   "outputs": [
    {
     "data": {
      "text/plain": [
       "0    0106.00S38.00E0000--000000300\n",
       "1    0109.00S40.00E2800--000000800\n",
       "2    0106.00S38.00E0000--0000ROADS\n",
       "Name: ORTaxlot, dtype: object"
      ]
     },
     "execution_count": 46,
     "metadata": {},
     "output_type": "execute_result"
    }
   ],
   "source": [
    "tx_dt_s.ORTaxlot.head(3)"
   ]
  },
  {
   "cell_type": "code",
   "execution_count": 47,
   "id": "bb74dd88",
   "metadata": {},
   "outputs": [],
   "source": [
    "cnt_ID = pd.read_excel(r'T:\\DCProjects\\EPA-WD\\CNT_Code.xlsx')"
   ]
  },
  {
   "cell_type": "code",
   "execution_count": 48,
   "id": "24d2b4a6",
   "metadata": {},
   "outputs": [],
   "source": [
    "cnt_dict = dict(zip(cnt_ID.COUNTY, cnt_ID.ID))"
   ]
  },
  {
   "cell_type": "code",
   "execution_count": 51,
   "id": "bc98ecfc",
   "metadata": {},
   "outputs": [
    {
     "data": {
      "text/plain": [
       "array(['500 (partial)', '101', '2500, ROWs (both partial)',\n",
       "       '302 (partial)', '2100 (partial)', '6600', '100', '204', '200,400',\n",
       "       '1300,1400,1401,ROW (all partial)', '4600 (partial)', '701,703',\n",
       "       '200', '900,1000 (all partial)', '4900,5000 (all partial)',\n",
       "       '10700', '3502,3800', 'NW 11th St ROW (partial)', '1300 (partial)',\n",
       "       '701', '3602', '2102, 900 (both partial)', '12308', '3200,3300',\n",
       "       '4700,4600,4500,4400,4300,4200,4100,ROW,all part',\n",
       "       '111,SW 2nd street ROW (all partial)',\n",
       "       '3400,2900,2800,SW 2nd street ROW (all partial)',\n",
       "       '200,SW 2nd street ROW (all partial)', '300 (partial)', '12400',\n",
       "       '500', '2100', '600 (partial)',\n",
       "       '600,700,800,900,1000,1100,1200,1300', '1100,1201', '1700',\n",
       "       '408, 406, ROW (all partial)', '2310, ROW (both partial)', '2903',\n",
       "       '8300', '1529', '7600', '1200', '402, 403', '1201', '1300',\n",
       "       '408 (portion)', '900', '1800', '800', '400', '1204 (partial)',\n",
       "       '1000', '103,105', 'ROW', '702', '1500', '5800 (partial)', '1600',\n",
       "       '1500 (portion)', '2900,2800,2700', '6500,600,700',\n",
       "       '2300,2400,2500', '1400,1300,1200,1100', '601',\n",
       "       '7000,7180,7100,7280,7200', '5400', '12700', '300,1300', '2301',\n",
       "       '501', '923', '3200', '3400, ROW partial',\n",
       "       '8100,8200,8300,ROWs partial',\n",
       "       '2400,2600,3800,3900,4000,4100,4200', '600, ROW partial',\n",
       "       '206,211,212,213,214', '100,200,1600,1700,ROW all partial',\n",
       "       '1400,1600,ROWs all partial', '200,300,ROW all partial',\n",
       "       '100,200,300,400, ROW all partial', '3200,3300,ROWs all partial',\n",
       "       '600,700,800,ROW all partial', '3400,3500,3600,ROW all partial',\n",
       "       '900,1100,1200,ROW all partial', '2700,2800,2900,ROW all partial',\n",
       "       '2400,2500,2600,ROW all partial', '1800,3700 all partial',\n",
       "       '500,1000,1300,ROWs all partial', '3000,3100,ROW all partial',\n",
       "       '2100,2200,2300,ROW all partial', '101,700, ROW all partial',\n",
       "       '3100,3200,3300,3400,ROWs all partial', '106', '1002 partial',\n",
       "       '1001,1002,1100 all partial', '300',\n",
       "       '1600,5700,4400,ROW all partial', '100 partial', '500 (portion)',\n",
       "       '3100', '707', '4302, ROW all partial', '5800 portion', '1500,800',\n",
       "       '700,900,1000', '400,1000, ROWs all partial', '5800 partial',\n",
       "       '2100, ROW partial', '3407', '4100', '100-10600 (106 TLs)',\n",
       "       '200,300 all partial', '500,1200', '3400,3500', '2204', '903',\n",
       "       '2500', '500 partial', '1409', '3800,ROW', '2500,2600',\n",
       "       '2301,2306', '10890, ROW partial',\n",
       "       '6100 (partial),6200,6300,6500,6501', '200 partial', '401', '700',\n",
       "       '502', '2408', '3000', '6900', '2000,2003', '200,300,400', '600',\n",
       "       '18700', '6900, 7000, 7700, 7900', '8705', '1505',\n",
       "       '700,1500,1600 all partial', '802,805', '8100', '4402', '4900',\n",
       "       '2401, ROW', '1100', '200,300, Old Bridge Road ROW'], dtype=object)"
      ]
     },
     "execution_count": 51,
     "metadata": {},
     "output_type": "execute_result"
    }
   ],
   "source": [
    "wd_dt.parcel_id.unique()"
   ]
  },
  {
   "cell_type": "code",
   "execution_count": 69,
   "id": "8f95a891",
   "metadata": {},
   "outputs": [
    {
     "data": {
      "text/plain": [
       "'100-10600 106 TLs'"
      ]
     },
     "execution_count": 69,
     "metadata": {},
     "output_type": "execute_result"
    }
   ],
   "source": [
    "'100-10600 (106 TLs)'.replace('(','').replace(')','')  "
   ]
  },
  {
   "cell_type": "code",
   "execution_count": 86,
   "id": "0e3e186a",
   "metadata": {},
   "outputs": [],
   "source": [
    "def unique(list1):\n",
    "    x = np.array(list1)\n",
    "    return list(np.unique(x))"
   ]
  },
  {
   "cell_type": "code",
   "execution_count": 84,
   "id": "02b10348",
   "metadata": {},
   "outputs": [],
   "source": [
    "def get_lot_numbers(text):\n",
    "    # remove parenthesis from text\n",
    "    txt = text.replace('(','').replace(')','')\n",
    "    # split the text\n",
    "    lot_list = re.split(\",|, | |-\", txt)\n",
    "    # remove text elements\n",
    "    l = []\n",
    "    # in case there are still number-letter strings (e.g., '1a')\n",
    "    for t in [lot for lot in lot_list if ~lot.isnumeric()]:\n",
    "        if any(c.isdigit() for c in t):\n",
    "            l.append(re.sub('\\D', '', t))\n",
    "    res = unique([lot for lot in lot_list if lot.isnumeric()] + l)\n",
    "    return res"
   ]
  },
  {
   "cell_type": "code",
   "execution_count": 115,
   "id": "1b286dea",
   "metadata": {},
   "outputs": [],
   "source": [
    "tdf = wd_dt.sample(n=3, random_state=1)"
   ]
  },
  {
   "cell_type": "code",
   "execution_count": 116,
   "id": "422bcb5e",
   "metadata": {},
   "outputs": [],
   "source": [
    "tdf.loc[:, 'lots'] = tdf.parcel_id.apply(lambda x: get_lot_numbers(x))"
   ]
  },
  {
   "cell_type": "code",
   "execution_count": 117,
   "id": "c02afc07",
   "metadata": {},
   "outputs": [],
   "source": [
    "ndf = tdf.reindex(tdf.index.repeat(tdf.lots.str.len()))"
   ]
  },
  {
   "cell_type": "code",
   "execution_count": 119,
   "id": "ab634679",
   "metadata": {},
   "outputs": [],
   "source": [
    "ndf.loc[:, 'lot'] = list(chain.from_iterable(tdf.lots.values.tolist()))"
   ]
  },
  {
   "cell_type": "code",
   "execution_count": 121,
   "id": "0cc61915",
   "metadata": {},
   "outputs": [
    {
     "data": {
      "text/plain": [
       "Index(['wetdet_delin_number', 'trsqq', 'parcel_id', 'address_location_desc',\n",
       "       'city', 'county', 'site_name', 'site_desc', 'latitude', 'longitude',\n",
       "       'Coord-Source', 'DocumentName', 'DecisionLink', 'is_batch_file',\n",
       "       'status_name', 'received_date', 'response_date',\n",
       "       'reissuance_response_date', 'project_id', 'site_id', 'lots', 'lot'],\n",
       "      dtype='object')"
      ]
     },
     "execution_count": 121,
     "metadata": {},
     "output_type": "execute_result"
    }
   ],
   "source": [
    "ndf.columns"
   ]
  },
  {
   "cell_type": "code",
   "execution_count": 127,
   "id": "86696afd",
   "metadata": {},
   "outputs": [],
   "source": [
    "ndf.loc[:, 'cnt_code'] = ndf.county.map(cnt_dict)"
   ]
  },
  {
   "cell_type": "code",
   "execution_count": 139,
   "id": "6d40d5fb",
   "metadata": {},
   "outputs": [
    {
     "data": {
      "text/plain": [
       "'0'"
      ]
     },
     "execution_count": 139,
     "metadata": {},
     "output_type": "execute_result"
    }
   ],
   "source": [
    "'{:0<10}'.format(ndf.trsqq.unique()[0])[9]"
   ]
  },
  {
   "cell_type": "code",
   "execution_count": 159,
   "id": "42707a62",
   "metadata": {},
   "outputs": [],
   "source": [
    "ndf.loc[:, 'ORTaxlot'] = ndf[['cnt_code', 'trsqq', 'lot']].apply(lambda row: str(row.cnt_code).zfill(2) + row.trsqq[0:2] + '.00' + row.trsqq[2:5] + '.00'+ row.trsqq[5:8] + '{:0<10}'.format(row.trsqq)[8] + '{:0<10}'.format(row.trsqq)[9] + '--' + ('000000000' + row.lot)[-9:], axis = 1) "
   ]
  },
  {
   "cell_type": "code",
   "execution_count": 147,
   "id": "b73c00e8",
   "metadata": {},
   "outputs": [
    {
     "data": {
      "text/plain": [
       "array(['08N10W26', '07N10W16', '08N10W22DA'], dtype=object)"
      ]
     },
     "execution_count": 147,
     "metadata": {},
     "output_type": "execute_result"
    }
   ],
   "source": [
    "ndf.trsqq.unique()"
   ]
  },
  {
   "cell_type": "code",
   "execution_count": 160,
   "id": "4fb959ce",
   "metadata": {},
   "outputs": [
    {
     "data": {
      "text/plain": [
       "array(['0408.00N10.00W2600--000000500', '0407.00N10.00W1600--000000200',\n",
       "       '0407.00N10.00W1600--000000300', '0408.00N10.00W22DA--000001001',\n",
       "       '0408.00N10.00W22DA--000001002', '0408.00N10.00W22DA--000001100'],\n",
       "      dtype=object)"
      ]
     },
     "execution_count": 160,
     "metadata": {},
     "output_type": "execute_result"
    }
   ],
   "source": [
    "#0106.00S38.00E0000--000000300\n",
    "ndf.ORTaxlot.unique()"
   ]
  },
  {
   "cell_type": "code",
   "execution_count": 155,
   "id": "0f960398",
   "metadata": {},
   "outputs": [],
   "source": [
    "txlist = list(tx_dt.ORTaxlot.unique())"
   ]
  },
  {
   "cell_type": "code",
   "execution_count": 161,
   "id": "6516d873",
   "metadata": {},
   "outputs": [
    {
     "data": {
      "text/plain": [
       "True"
      ]
     },
     "execution_count": 161,
     "metadata": {},
     "output_type": "execute_result"
    }
   ],
   "source": [
    "all([x in txlist for x in ndf.ORTaxlot.unique()])"
   ]
  }
 ],
 "metadata": {
  "kernelspec": {
   "display_name": "Python 3 (ipykernel)",
   "language": "python",
   "name": "python3"
  },
  "language_info": {
   "codemirror_mode": {
    "name": "ipython",
    "version": 3
   },
   "file_extension": ".py",
   "mimetype": "text/x-python",
   "name": "python",
   "nbconvert_exporter": "python",
   "pygments_lexer": "ipython3",
   "version": "3.8.15"
  }
 },
 "nbformat": 4,
 "nbformat_minor": 5
}
