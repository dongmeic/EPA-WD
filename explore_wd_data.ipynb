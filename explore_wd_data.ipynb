{
 "cells": [
  {
   "cell_type": "code",
   "execution_count": 1,
   "id": "6d122c7a",
   "metadata": {},
   "outputs": [
    {
     "name": "stderr",
     "output_type": "stream",
     "text": [
      "C:\\Users\\clid1852\\AppData\\Anaconda3\\envs\\geoenv\\lib\\site-packages\\geopandas\\_compat.py:106: UserWarning: The Shapely GEOS version (3.11.1-CAPI-1.17.1) is incompatible with the GEOS version PyGEOS was compiled with (3.9.1-CAPI-1.14.2). Conversions between both will be slow.\n",
      "  warnings.warn(\n"
     ]
    }
   ],
   "source": [
    "import pandas as pd\n",
    "import geopandas as gpd\n",
    "import os\n",
    "from os import walk\n",
    "import zipfile\n",
    "import re\n",
    "import numpy as np\n",
    "from itertools import chain\n",
    "import time\n",
    "import collections\n",
    "import datetime"
   ]
  },
  {
   "cell_type": "code",
   "execution_count": 2,
   "id": "ed12494d",
   "metadata": {},
   "outputs": [],
   "source": [
    "inpath = r'L:\\NaturalResources\\Wetlands\\Local Wetland Inventory\\WAPO\\EPA_2022_Tasks\\Task 1 WD Mapping'"
   ]
  },
  {
   "cell_type": "code",
   "execution_count": 3,
   "id": "83d0c18b",
   "metadata": {},
   "outputs": [],
   "source": [
    "wdpath = inpath + '\\\\DSL data originals\\Set001'"
   ]
  },
  {
   "cell_type": "code",
   "execution_count": 4,
   "id": "312efc96",
   "metadata": {},
   "outputs": [],
   "source": [
    "txpath = inpath + '\\\\GIS\\ORMAP_data\\Downloaded zip files'"
   ]
  },
  {
   "cell_type": "code",
   "execution_count": 5,
   "id": "dde930ab",
   "metadata": {},
   "outputs": [],
   "source": [
    "newpath = os.path.join(inpath, \"test\")"
   ]
  },
  {
   "cell_type": "code",
   "execution_count": 8,
   "id": "be05136a",
   "metadata": {},
   "outputs": [],
   "source": [
    "# create a temporary folder to run a test - one-time running, can remove the folder to rerun\n",
    "# os.mkdir(newpath)"
   ]
  },
  {
   "cell_type": "code",
   "execution_count": 88,
   "id": "52818013",
   "metadata": {},
   "outputs": [],
   "source": [
    "def list_files(path, folder=False):\n",
    "    f = []\n",
    "    for (dirpath, dirnames, filenames) in walk(path):\n",
    "        f.extend(filenames)\n",
    "        break\n",
    "    if folder:\n",
    "        f = [x[0] for x in os.walk(path)]\n",
    "    return f"
   ]
  },
  {
   "cell_type": "code",
   "execution_count": 14,
   "id": "647e16fa",
   "metadata": {},
   "outputs": [
    {
     "data": {
      "text/plain": [
       "['ClatsopCoDelsDets2017-20220601.xlsx',\n",
       " 'CoosCo2017-20220601.xlsx',\n",
       " 'DeschutesCoDelDet2017-20220601.xlsx',\n",
       " 'HarneyCo2017-20220601.xlsx',\n",
       " 'JacksonCo2017-20220601.xlsx',\n",
       " 'JosephineCo2017-20220601.xlsx',\n",
       " 'LakeCoDelDet2017-20220601.xlsx',\n",
       " 'MarionCoDelDet2017-20220601.xlsx',\n",
       " '~$ClatsopCoDelsDets2017-20220601.xlsx',\n",
       " '~$CoosCo2017-20220601.xlsx']"
      ]
     },
     "execution_count": 14,
     "metadata": {},
     "output_type": "execute_result"
    }
   ],
   "source": [
    "list_files(wdpath)"
   ]
  },
  {
   "cell_type": "code",
   "execution_count": 15,
   "id": "cf2aaa48",
   "metadata": {},
   "outputs": [
    {
     "data": {
      "text/plain": [
       "['2012 Taxlots.zip',\n",
       " '2014_state_agency_use_taxlots.gdb.zip',\n",
       " '2015_state_agency_use_taxlots.gdb.zip',\n",
       " '2016ShareableTaxLotsGDBJuneUpdate.zip',\n",
       " 'Morrow2015.zip',\n",
       " 'Shared_Taxlots_2017_GDB.zip',\n",
       " 'Shared_Taxlots_2018_GDB.zip',\n",
       " 'Shared_Taxlots_2019_GDB.zip',\n",
       " 'Shared_Taxlots_2020_GDB.zip',\n",
       " 'Shared_Taxlots_2021_GDB.zip',\n",
       " 'Shared_Taxlots_2022_GDB.zip',\n",
       " 'State Data2009.gdb.zip',\n",
       " 'taxlots_2011.zip']"
      ]
     },
     "execution_count": 15,
     "metadata": {},
     "output_type": "execute_result"
    }
   ],
   "source": [
    "list_files(txpath)"
   ]
  },
  {
   "cell_type": "code",
   "execution_count": 85,
   "id": "8239a5f5",
   "metadata": {},
   "outputs": [],
   "source": [
    "year = 2017"
   ]
  },
  {
   "cell_type": "code",
   "execution_count": 86,
   "id": "1a6d3978",
   "metadata": {},
   "outputs": [],
   "source": [
    "# one-time runnning\n",
    "with zipfile.ZipFile(os.path.join(txpath, 'Shared_Taxlots_'+str(year)+'_GDB.zip'), 'r') as zip_ref:\n",
    "    zip_ref.extractall(newpath)"
   ]
  },
  {
   "cell_type": "code",
   "execution_count": 90,
   "id": "b9415528",
   "metadata": {},
   "outputs": [
    {
     "data": {
      "text/plain": [
       "['L:\\\\NaturalResources\\\\Wetlands\\\\Local Wetland Inventory\\\\WAPO\\\\EPA_2022_Tasks\\\\Task 1 WD Mapping\\\\test',\n",
       " 'L:\\\\NaturalResources\\\\Wetlands\\\\Local Wetland Inventory\\\\WAPO\\\\EPA_2022_Tasks\\\\Task 1 WD Mapping\\\\test\\\\StateAgencyTaxlots2017.gdb',\n",
       " 'L:\\\\NaturalResources\\\\Wetlands\\\\Local Wetland Inventory\\\\WAPO\\\\EPA_2022_Tasks\\\\Task 1 WD Mapping\\\\test\\\\Taxlots2022',\n",
       " 'L:\\\\NaturalResources\\\\Wetlands\\\\Local Wetland Inventory\\\\WAPO\\\\EPA_2022_Tasks\\\\Task 1 WD Mapping\\\\test\\\\Taxlots2022\\\\Shared Taxlots.gdb']"
      ]
     },
     "execution_count": 90,
     "metadata": {},
     "output_type": "execute_result"
    }
   ],
   "source": [
    "# how the original taxlot data is stored\n",
    "list_files(newpath, folder=True)"
   ]
  },
  {
   "cell_type": "code",
   "execution_count": 28,
   "id": "bf5fcbf0",
   "metadata": {},
   "outputs": [],
   "source": [
    "# rename the folder, one-time runnning\n",
    "os.renames(list_files(newpath, folder=True)[1], newpath+'\\\\Taxlots'+str(year))"
   ]
  },
  {
   "cell_type": "code",
   "execution_count": 142,
   "id": "2d7e22ea",
   "metadata": {},
   "outputs": [],
   "source": [
    "datafile = os.path.join(wdpath, 'DeschutesCoDelDet2017-20220601.xlsx')"
   ]
  },
  {
   "cell_type": "code",
   "execution_count": 143,
   "id": "ec2f5810",
   "metadata": {},
   "outputs": [
    {
     "data": {
      "text/plain": [
       "['Delineations-Determinations', 'Reorg']"
      ]
     },
     "execution_count": 143,
     "metadata": {},
     "output_type": "execute_result"
    }
   ],
   "source": [
    "# check the sheets in the wd spreadsheets\n",
    "xl = pd.ExcelFile(datafile)\n",
    "xl.sheet_names"
   ]
  },
  {
   "cell_type": "code",
   "execution_count": 144,
   "id": "f1c9ebe0",
   "metadata": {},
   "outputs": [],
   "source": [
    "# read the reorganized table in the raw data\n",
    "wd_dt = pd.read_excel(datafile, sheet_name='Reorg')"
   ]
  },
  {
   "cell_type": "code",
   "execution_count": 145,
   "id": "946d2c97",
   "metadata": {},
   "outputs": [
    {
     "data": {
      "text/plain": [
       "Index(['wetdet_delin_number', 'trsqq', 'parcel_id', 'address_location_desc',\n",
       "       'city', 'county', 'site_name', 'site_desc', 'latitude', 'longitude',\n",
       "       'Coord-Source', 'DocumentName', 'DecisionLink', 'is_batch_file',\n",
       "       'status_name', 'received_date', 'response_date',\n",
       "       'reissuance_response_date', 'project_id', 'site_id'],\n",
       "      dtype='object')"
      ]
     },
     "execution_count": 145,
     "metadata": {},
     "output_type": "execute_result"
    }
   ],
   "source": [
    "wd_dt.columns"
   ]
  },
  {
   "cell_type": "code",
   "execution_count": 33,
   "id": "91c90014",
   "metadata": {},
   "outputs": [
    {
     "data": {
      "text/html": [
       "<div>\n",
       "<style scoped>\n",
       "    .dataframe tbody tr th:only-of-type {\n",
       "        vertical-align: middle;\n",
       "    }\n",
       "\n",
       "    .dataframe tbody tr th {\n",
       "        vertical-align: top;\n",
       "    }\n",
       "\n",
       "    .dataframe thead th {\n",
       "        text-align: right;\n",
       "    }\n",
       "</style>\n",
       "<table border=\"1\" class=\"dataframe\">\n",
       "  <thead>\n",
       "    <tr style=\"text-align: right;\">\n",
       "      <th></th>\n",
       "      <th>wetdet_delin_number</th>\n",
       "      <th>trsqq</th>\n",
       "      <th>parcel_id</th>\n",
       "      <th>address_location_desc</th>\n",
       "      <th>city</th>\n",
       "      <th>county</th>\n",
       "      <th>site_name</th>\n",
       "      <th>site_desc</th>\n",
       "      <th>latitude</th>\n",
       "      <th>longitude</th>\n",
       "      <th>Coord-Source</th>\n",
       "      <th>DocumentName</th>\n",
       "      <th>DecisionLink</th>\n",
       "      <th>is_batch_file</th>\n",
       "      <th>status_name</th>\n",
       "      <th>received_date</th>\n",
       "      <th>response_date</th>\n",
       "      <th>reissuance_response_date</th>\n",
       "      <th>project_id</th>\n",
       "      <th>site_id</th>\n",
       "    </tr>\n",
       "  </thead>\n",
       "  <tbody>\n",
       "    <tr>\n",
       "      <th>0</th>\n",
       "      <td>WD2017-0003</td>\n",
       "      <td>06N10W03DA</td>\n",
       "      <td>500 (partial)</td>\n",
       "      <td>McCormick Rd .025 mi S of Hillila Rd</td>\n",
       "      <td>Gearhart</td>\n",
       "      <td>Clatsop</td>\n",
       "      <td>McCormick Rd 06N10W03DA</td>\n",
       "      <td>Residential</td>\n",
       "      <td>46.030197</td>\n",
       "      <td>-123.905217</td>\n",
       "      <td>DSL Verified</td>\n",
       "      <td>WD2017-0003final</td>\n",
       "      <td>https://docs.dsl.state.or.us/PublicReview/docv...</td>\n",
       "      <td>N</td>\n",
       "      <td>Approved</td>\n",
       "      <td>2017-01-03</td>\n",
       "      <td>2017-03-09</td>\n",
       "      <td>NaN</td>\n",
       "      <td>NaN</td>\n",
       "      <td>103777</td>\n",
       "    </tr>\n",
       "    <tr>\n",
       "      <th>1</th>\n",
       "      <td>WD2017-0033</td>\n",
       "      <td>08N08W25</td>\n",
       "      <td>101</td>\n",
       "      <td>W of 92260 Koppisch Rd, Astoria</td>\n",
       "      <td>Astoria</td>\n",
       "      <td>Clatsop</td>\n",
       "      <td>08N08W25</td>\n",
       "      <td>site evaluation</td>\n",
       "      <td>46.155778</td>\n",
       "      <td>-123.610751</td>\n",
       "      <td>DSL Verified</td>\n",
       "      <td>WD20170033AgencyDecision</td>\n",
       "      <td>https://docs.dsl.state.or.us/PublicReview/Elec...</td>\n",
       "      <td>Y</td>\n",
       "      <td>Completed by DSL</td>\n",
       "      <td>2017-01-12</td>\n",
       "      <td>2017-01-30</td>\n",
       "      <td>NaN</td>\n",
       "      <td>NaN</td>\n",
       "      <td>104259</td>\n",
       "    </tr>\n",
       "    <tr>\n",
       "      <th>2</th>\n",
       "      <td>WD2017-0056</td>\n",
       "      <td>08N10W09B</td>\n",
       "      <td>2500, ROWs (both partial)</td>\n",
       "      <td>Warrenton Dr and NW 17th St</td>\n",
       "      <td>Warrenton</td>\n",
       "      <td>Clatsop</td>\n",
       "      <td>Gann Dev 08N10W09B</td>\n",
       "      <td>residential development</td>\n",
       "      <td>46.190638</td>\n",
       "      <td>-123.932177</td>\n",
       "      <td>DSL Verified</td>\n",
       "      <td>WD2017-0056final</td>\n",
       "      <td>https://docs.dsl.state.or.us/PublicReview/docv...</td>\n",
       "      <td>N</td>\n",
       "      <td>Approved</td>\n",
       "      <td>2017-02-06</td>\n",
       "      <td>2017-05-17</td>\n",
       "      <td>NaN</td>\n",
       "      <td>NaN</td>\n",
       "      <td>104411</td>\n",
       "    </tr>\n",
       "  </tbody>\n",
       "</table>\n",
       "</div>"
      ],
      "text/plain": [
       "  wetdet_delin_number       trsqq                  parcel_id  \\\n",
       "0         WD2017-0003  06N10W03DA              500 (partial)   \n",
       "1         WD2017-0033    08N08W25                        101   \n",
       "2         WD2017-0056   08N10W09B  2500, ROWs (both partial)   \n",
       "\n",
       "                  address_location_desc       city   county  \\\n",
       "0  McCormick Rd .025 mi S of Hillila Rd   Gearhart  Clatsop   \n",
       "1       W of 92260 Koppisch Rd, Astoria    Astoria  Clatsop   \n",
       "2           Warrenton Dr and NW 17th St  Warrenton  Clatsop   \n",
       "\n",
       "                 site_name                site_desc   latitude   longitude  \\\n",
       "0  McCormick Rd 06N10W03DA              Residential  46.030197 -123.905217   \n",
       "1                 08N08W25          site evaluation  46.155778 -123.610751   \n",
       "2       Gann Dev 08N10W09B  residential development  46.190638 -123.932177   \n",
       "\n",
       "   Coord-Source              DocumentName  \\\n",
       "0  DSL Verified          WD2017-0003final   \n",
       "1  DSL Verified  WD20170033AgencyDecision   \n",
       "2  DSL Verified          WD2017-0056final   \n",
       "\n",
       "                                        DecisionLink is_batch_file  \\\n",
       "0  https://docs.dsl.state.or.us/PublicReview/docv...             N   \n",
       "1  https://docs.dsl.state.or.us/PublicReview/Elec...             Y   \n",
       "2  https://docs.dsl.state.or.us/PublicReview/docv...             N   \n",
       "\n",
       "        status_name received_date response_date  reissuance_response_date  \\\n",
       "0          Approved    2017-01-03    2017-03-09                       NaN   \n",
       "1  Completed by DSL    2017-01-12    2017-01-30                       NaN   \n",
       "2          Approved    2017-02-06    2017-05-17                       NaN   \n",
       "\n",
       "   project_id  site_id  \n",
       "0         NaN   103777  \n",
       "1         NaN   104259  \n",
       "2         NaN   104411  "
      ]
     },
     "execution_count": 33,
     "metadata": {},
     "output_type": "execute_result"
    }
   ],
   "source": [
    "wd_dt.head(3)"
   ]
  },
  {
   "cell_type": "code",
   "execution_count": 146,
   "id": "96ebabe8",
   "metadata": {},
   "outputs": [
    {
     "data": {
      "text/plain": [
       "dtype('O')"
      ]
     },
     "execution_count": 146,
     "metadata": {},
     "output_type": "execute_result"
    }
   ],
   "source": [
    "wd_dt.parcel_id.dtype"
   ]
  },
  {
   "cell_type": "code",
   "execution_count": 96,
   "id": "9aa4212e",
   "metadata": {},
   "outputs": [],
   "source": [
    "#txfilepath = os.path.join(newpath, 'Taxlots'+str(year), 'Shared Taxlots.gdb')\n",
    "#txfilepath = os.path.join(newpath, 'StateAgencyTaxlots' + str(year) + '.gdb')\n",
    "txfilepath = os.path.join(inpath, 'GIS', 'ORMAP_data', 'ORMAP_Taxlot_Years', 'Taxlots2017.gdb')"
   ]
  },
  {
   "cell_type": "code",
   "execution_count": 100,
   "id": "b92f18f1",
   "metadata": {},
   "outputs": [
    {
     "name": "stdout",
     "output_type": "stream",
     "text": [
      "181.2430136203766\n"
     ]
    }
   ],
   "source": [
    "# this will take a while\n",
    "start = time.time()\n",
    "tx_dt = gpd.read_file(txfilepath, layer='TL_Dissolv')\n",
    "end = time.time()\n",
    "print(end - start)"
   ]
  },
  {
   "cell_type": "code",
   "execution_count": 42,
   "id": "5ed00529",
   "metadata": {},
   "outputs": [],
   "source": [
    "# just check a smaller set\n",
    "tx_dt_s = gpd.read_file(txfilepath, layer='Taxlots', rows=10)"
   ]
  },
  {
   "cell_type": "code",
   "execution_count": 102,
   "id": "a3b8222f",
   "metadata": {},
   "outputs": [
    {
     "data": {
      "text/plain": [
       "Index(['ORTaxlot', 'Shape_Length', 'Shape_Area', 'geometry'], dtype='object')"
      ]
     },
     "execution_count": 102,
     "metadata": {},
     "output_type": "execute_result"
    }
   ],
   "source": [
    "tx_dt.columns"
   ]
  },
  {
   "cell_type": "code",
   "execution_count": 150,
   "id": "0b8babee",
   "metadata": {},
   "outputs": [
    {
     "data": {
      "text/plain": [
       "<Projected CRS: EPSG:2992>\n",
       "Name: NAD83 / Oregon GIC Lambert (ft)\n",
       "Axis Info [cartesian]:\n",
       "- X[east]: Easting (foot)\n",
       "- Y[north]: Northing (foot)\n",
       "Area of Use:\n",
       "- name: United States (USA) - Oregon.\n",
       "- bounds: (-124.6, 41.98, -116.47, 46.26)\n",
       "Coordinate Operation:\n",
       "- name: Oregon GIC Lambert (International feet)\n",
       "- method: Lambert Conic Conformal (2SP)\n",
       "Datum: North American Datum 1983\n",
       "- Ellipsoid: GRS 1980\n",
       "- Prime Meridian: Greenwich"
      ]
     },
     "execution_count": 150,
     "metadata": {},
     "output_type": "execute_result"
    }
   ],
   "source": [
    "tx_dt.crs"
   ]
  },
  {
   "cell_type": "code",
   "execution_count": 46,
   "id": "70794aeb",
   "metadata": {},
   "outputs": [
    {
     "data": {
      "text/plain": [
       "0    0106.00S38.00E0000--000000300\n",
       "1    0109.00S40.00E2800--000000800\n",
       "2    0106.00S38.00E0000--0000ROADS\n",
       "Name: ORTaxlot, dtype: object"
      ]
     },
     "execution_count": 46,
     "metadata": {},
     "output_type": "execute_result"
    }
   ],
   "source": [
    "# check the format of ORTaxlot\n",
    "tx_dt_s.ORTaxlot.head(3)"
   ]
  },
  {
   "cell_type": "code",
   "execution_count": 13,
   "id": "7efdede0",
   "metadata": {},
   "outputs": [],
   "source": [
    "# create a spreadsheet to create a dictionary\n",
    "cnt_ID = pd.read_excel(r'T:\\DCProjects\\EPA-WD\\CNT_Code.xlsx')"
   ]
  },
  {
   "cell_type": "code",
   "execution_count": 14,
   "id": "e0fe032f",
   "metadata": {},
   "outputs": [],
   "source": [
    "# create a dictionary to look up county code\n",
    "cnt_dict = dict(zip(cnt_ID.COUNTY, cnt_ID.ID))"
   ]
  },
  {
   "cell_type": "code",
   "execution_count": 148,
   "id": "fc55df67",
   "metadata": {},
   "outputs": [
    {
     "data": {
      "text/plain": [
       "array(['600', '100,102,301,501,502,503', '302', '2500', '505', '4600',\n",
       "       '2900', '100', '99', '2100', '1500', '800 (portion)', '104',\n",
       "       '300 portion', '700 portion', '99 partial',\n",
       "       '1300,1400 both partial', '101', '1400', '5700', '403', '406',\n",
       "       '2200', '200 partial', '104 partial', '1100 partial',\n",
       "       '316,313,309,303,101 all partial', '4700, 5000 (portion)',\n",
       "       '99, 14000 (portion)', '7100, 7200 (portion)',\n",
       "       'Newport Ave ROW partial, 4300,4400', '1500,1600', '4000,4001',\n",
       "       '4500,4600,4700,5300,5301,5400,', '4400,4500', '5400,7100', '4700',\n",
       "       '300', '809,817,829', '5100', '4900', '610,615,619', nan,\n",
       "       '1300,1400,1500,1501,1700,1702,2000', '1102,1103',\n",
       "       '102,2400,2500,2600', '1300', '2600,2700,2071', '1800,1900,2200',\n",
       "       '2200,2300,2400,2500,2600,2700,2800,2900',\n",
       "       '100,200,300,400,500,600,700,800', '2800', '200', '800,803',\n",
       "       '2101', '600,700', '4500', '1403', '400,500,600,700',\n",
       "       '100,200 all partial', '11200', '100 partial', '109 partial',\n",
       "       '705 partial', '106 (portion)', '2800p', '1701',\n",
       "       '100,101,200,300 all partial', '300,Hwy easement all partial',\n",
       "       '400,500 all partial', '200,1400 all partial', '700 partial',\n",
       "       '100,Rails all partial', '800 partial', '1401', '9700,9800',\n",
       "       '4400,WATER,All partial', '5301,5400,7100', '700, 3000',\n",
       "       '5800,5900', '2000,2003,2500', '201,501', '1600,1700,All part',\n",
       "       '4400', '400p', '4800', '3200', '3300', '1700', '1100,1200', '400',\n",
       "       '500,600,700', '3400,3500', '1100,1200,All part', '1403p',\n",
       "       '2700,2800', '111', '98', '2600', '801', '1314', '300,400', '1000',\n",
       "       'ROW, 906', 'ROW, 6317,6303,3604', '405', '2300',\n",
       "       '4800,ROW,All partial', '800p', '800', '8100', '205', '210,218',\n",
       "       '1401p', '200,202,ROW', 'ROW', '4300', '552', '3500', '3400',\n",
       "       '1600', '3200,3300', '1200', '900,1200',\n",
       "       '2000,2100,2200,2300,2400', '1800', '500', '1101', '9900', '2604',\n",
       "       '201', '101p', '910', '1300p', '2902p', '4403p', '1403,1404',\n",
       "       '27600', '414', '100,200,ROW', '1800,ROW', '700,WATER',\n",
       "       '400, portions of 300,600', '100p', '3400, ROW', '300, ROW',\n",
       "       'Many', '900p', '300,400,500,600,700,800,900,1000,2100,ROWs',\n",
       "       '1000,Elm St ROW', 'Elm St ROW', '1812,ROWs', '3000',\n",
       "       '900, 1000, 1100, 1200, 1300, 1400, 1500',\n",
       "       '900,1000,1100,1200,1300,1400,1500', '300p,ROW', '3400,ROW',\n",
       "       '1400p', '2400,2500'], dtype=object)"
      ]
     },
     "execution_count": 148,
     "metadata": {},
     "output_type": "execute_result"
    }
   ],
   "source": [
    "# check how parcel id is noted\n",
    "wd_dt.parcel_id.unique()"
   ]
  },
  {
   "cell_type": "code",
   "execution_count": 69,
   "id": "37f99b03",
   "metadata": {},
   "outputs": [
    {
     "data": {
      "text/plain": [
       "'100-10600 106 TLs'"
      ]
     },
     "execution_count": 69,
     "metadata": {},
     "output_type": "execute_result"
    }
   ],
   "source": [
    "# this id looks different\n",
    "'100-10600 (106 TLs)'.replace('(','').replace(')','')  "
   ]
  },
  {
   "cell_type": "code",
   "execution_count": 15,
   "id": "6a5f56b7",
   "metadata": {},
   "outputs": [],
   "source": [
    "# function to remove duplicates in the parcel ids\n",
    "def unique(list1):\n",
    "    x = np.array(list1)\n",
    "    return list(np.unique(x))"
   ]
  },
  {
   "cell_type": "code",
   "execution_count": 16,
   "id": "78eb544d",
   "metadata": {},
   "outputs": [],
   "source": [
    "# function to get all the lot numbers\n",
    "def get_lot_numbers(text):\n",
    "    # remove parenthesis from text\n",
    "    txt = text.replace('(','').replace(')','')\n",
    "    # split the text\n",
    "    lot_list = re.split(\",|, | |-\", txt)\n",
    "    # remove text elements\n",
    "    l = []\n",
    "    # in case there are still number-letter strings (e.g., '1a')\n",
    "    for t in [lot for lot in lot_list if ~lot.isnumeric()]:\n",
    "        if any(c.isdigit() for c in t):\n",
    "            l.append(re.sub('\\D', '', t))\n",
    "    res = unique([lot for lot in lot_list if lot.isnumeric()] + l)\n",
    "    return res"
   ]
  },
  {
   "cell_type": "code",
   "execution_count": 115,
   "id": "ecc3000d",
   "metadata": {},
   "outputs": [],
   "source": [
    "# use a random data subset for a test run\n",
    "#tdf = wd_dt.sample(n=3, random_state=1)"
   ]
  },
  {
   "cell_type": "code",
   "execution_count": 149,
   "id": "8c30b55e",
   "metadata": {},
   "outputs": [],
   "source": [
    "# get a list of lot numbers in each parcel id record\n",
    "#tdf.loc[:, 'lots'] = tdf.parcel_id.apply(lambda x: get_lot_numbers(x))\n",
    "wd_dt = wd_dt[wd_dt.parcel_id.astype(str) != 'nan']\n",
    "wd_dt.loc[:, 'lots'] = wd_dt.parcel_id.apply(lambda x: get_lot_numbers(x))"
   ]
  },
  {
   "cell_type": "code",
   "execution_count": 18,
   "id": "216e0759",
   "metadata": {},
   "outputs": [],
   "source": [
    "# repeat the rows based on the number of lot numbers\n",
    "#ndf = tdf.reindex(tdf.index.repeat(tdf.lots.str.len()))\n",
    "ndf = wd_dt.reindex(wd_dt.index.repeat(wd_dt.lots.str.len()))"
   ]
  },
  {
   "cell_type": "code",
   "execution_count": 20,
   "id": "410f25d9",
   "metadata": {},
   "outputs": [],
   "source": [
    "# add the column to list the lot for all\n",
    "#ndf.loc[:, 'lot'] = list(chain.from_iterable(tdf.lots.values.tolist()))\n",
    "ndf.loc[:, 'lot'] = list(chain.from_iterable(wd_dt.lots.values.tolist()))"
   ]
  },
  {
   "cell_type": "code",
   "execution_count": 21,
   "id": "f7982652",
   "metadata": {},
   "outputs": [],
   "source": [
    "# get county code\n",
    "ndf.loc[:, 'cnt_code'] = ndf.county.map(cnt_dict)"
   ]
  },
  {
   "cell_type": "code",
   "execution_count": 22,
   "id": "d2e192ea",
   "metadata": {},
   "outputs": [],
   "source": [
    "# get OR taxlot IDs for wd data\n",
    "ndf.loc[:, 'ORTaxlot'] = ndf[['cnt_code', 'trsqq', 'lot']].apply(lambda row: str(row.cnt_code).zfill(2) + row.trsqq[0:2] + '.00' + row.trsqq[2:5] + '.00'+ row.trsqq[5:8] + '{:0<10}'.format(row.trsqq)[8] + '{:0<10}'.format(row.trsqq)[9] + '--' + ('000000000' + row.lot)[-9:], axis = 1) "
   ]
  },
  {
   "cell_type": "code",
   "execution_count": 147,
   "id": "155d5d6c",
   "metadata": {
    "scrolled": true
   },
   "outputs": [
    {
     "data": {
      "text/plain": [
       "array(['08N10W26', '07N10W16', '08N10W22DA'], dtype=object)"
      ]
     },
     "execution_count": 147,
     "metadata": {},
     "output_type": "execute_result"
    }
   ],
   "source": [
    "ndf.trsqq.unique()"
   ]
  },
  {
   "cell_type": "code",
   "execution_count": 160,
   "id": "63c7d3e4",
   "metadata": {},
   "outputs": [
    {
     "data": {
      "text/plain": [
       "array(['0408.00N10.00W2600--000000500', '0407.00N10.00W1600--000000200',\n",
       "       '0407.00N10.00W1600--000000300', '0408.00N10.00W22DA--000001001',\n",
       "       '0408.00N10.00W22DA--000001002', '0408.00N10.00W22DA--000001100'],\n",
       "      dtype=object)"
      ]
     },
     "execution_count": 160,
     "metadata": {},
     "output_type": "execute_result"
    }
   ],
   "source": [
    "#0106.00S38.00E0000--000000300\n",
    "ndf.ORTaxlot.unique()"
   ]
  },
  {
   "cell_type": "code",
   "execution_count": 155,
   "id": "1bb5ce0a",
   "metadata": {},
   "outputs": [],
   "source": [
    "txlist = list(tx_dt.ORTaxlot.unique())"
   ]
  },
  {
   "cell_type": "code",
   "execution_count": 162,
   "id": "4801b9e8",
   "metadata": {},
   "outputs": [
    {
     "data": {
      "text/plain": [
       "True"
      ]
     },
     "execution_count": 162,
     "metadata": {},
     "output_type": "execute_result"
    }
   ],
   "source": [
    "# check if the taxlot ID is in the correct format\n",
    "all([x in txlist for x in ndf.ORTaxlot.unique()])"
   ]
  },
  {
   "cell_type": "code",
   "execution_count": 163,
   "id": "0693ee67",
   "metadata": {},
   "outputs": [],
   "source": [
    "# get a taxlot data subset for a join test run\n",
    "tx_dt_s = tx_dt[tx_dt.ORTaxlot.isin(ndf.ORTaxlot.unique())]"
   ]
  },
  {
   "cell_type": "code",
   "execution_count": 23,
   "id": "ef46c5ea",
   "metadata": {},
   "outputs": [
    {
     "data": {
      "text/plain": [
       "False"
      ]
     },
     "execution_count": 23,
     "metadata": {},
     "output_type": "execute_result"
    }
   ],
   "source": [
    "# there is not any repeated taxlot ID in this taxlot feature subset\n",
    "#len(tx_dt_s.ORTaxlot.unique()) == tx_dt_s.shape[0]\n",
    "# there are repeated taxlot ID in the taxlot feature\n",
    "len(tx_dt.ORTaxlot.unique()) == tx_dt.shape[0]"
   ]
  },
  {
   "cell_type": "code",
   "execution_count": 24,
   "id": "dd71d0b0",
   "metadata": {},
   "outputs": [
    {
     "data": {
      "text/plain": [
       "False"
      ]
     },
     "execution_count": 24,
     "metadata": {},
     "output_type": "execute_result"
    }
   ],
   "source": [
    "# there is not any repeated taxlot ID in this wd data subset\n",
    "len(ndf.ORTaxlot.unique()) == ndf.shape[0]\n",
    "# there are repeated taxlot IDs in the wd data"
   ]
  },
  {
   "cell_type": "code",
   "execution_count": 167,
   "id": "88260f69",
   "metadata": {},
   "outputs": [],
   "source": [
    "# in this case it is a one-on-one join\n",
    "merged = tx_dt_s[['MapTaxlot', 'ORTaxlot', 'geometry']].merge(ndf[['wetdet_delin_number','address_location_desc', 'ORTaxlot']], \n",
    "                                                     on='ORTaxlot')"
   ]
  },
  {
   "cell_type": "code",
   "execution_count": 171,
   "id": "1232f8c2",
   "metadata": {},
   "outputs": [
    {
     "data": {
      "text/html": [
       "<div>\n",
       "<style scoped>\n",
       "    .dataframe tbody tr th:only-of-type {\n",
       "        vertical-align: middle;\n",
       "    }\n",
       "\n",
       "    .dataframe tbody tr th {\n",
       "        vertical-align: top;\n",
       "    }\n",
       "\n",
       "    .dataframe thead th {\n",
       "        text-align: right;\n",
       "    }\n",
       "</style>\n",
       "<table border=\"1\" class=\"dataframe\">\n",
       "  <thead>\n",
       "    <tr style=\"text-align: right;\">\n",
       "      <th></th>\n",
       "      <th>MapTaxlot</th>\n",
       "      <th>ORTaxlot</th>\n",
       "      <th>geometry</th>\n",
       "      <th>wetdet_delin_number</th>\n",
       "      <th>address_location_desc</th>\n",
       "    </tr>\n",
       "  </thead>\n",
       "  <tbody>\n",
       "    <tr>\n",
       "      <th>0</th>\n",
       "      <td>710160000200</td>\n",
       "      <td>0407.00N10.00W1600--000000200</td>\n",
       "      <td>MULTIPOLYGON (((443805.689 1602370.314, 443880...</td>\n",
       "      <td>WD2020-0280</td>\n",
       "      <td>W of 90266 Hwy 101</td>\n",
       "    </tr>\n",
       "    <tr>\n",
       "      <th>1</th>\n",
       "      <td>710160000300</td>\n",
       "      <td>0407.00N10.00W1600--000000300</td>\n",
       "      <td>MULTIPOLYGON (((444458.870 1600237.427, 444539...</td>\n",
       "      <td>WD2020-0280</td>\n",
       "      <td>W of 90266 Hwy 101</td>\n",
       "    </tr>\n",
       "    <tr>\n",
       "      <th>2</th>\n",
       "      <td>81022DA01001</td>\n",
       "      <td>0408.00N10.00W22DA--000001001</td>\n",
       "      <td>MULTIPOLYGON (((449719.082 1626698.536, 449715...</td>\n",
       "      <td>WD2020-0402</td>\n",
       "      <td>SE 2nd and E Harbor</td>\n",
       "    </tr>\n",
       "    <tr>\n",
       "      <th>3</th>\n",
       "      <td>81022DA01002</td>\n",
       "      <td>0408.00N10.00W22DA--000001002</td>\n",
       "      <td>MULTIPOLYGON (((449769.062 1626696.689, 449819...</td>\n",
       "      <td>WD2020-0402</td>\n",
       "      <td>SE 2nd and E Harbor</td>\n",
       "    </tr>\n",
       "    <tr>\n",
       "      <th>4</th>\n",
       "      <td>81022DA01100</td>\n",
       "      <td>0408.00N10.00W22DA--000001100</td>\n",
       "      <td>MULTIPOLYGON (((449669.104 1626700.383, 449665...</td>\n",
       "      <td>WD2020-0402</td>\n",
       "      <td>SE 2nd and E Harbor</td>\n",
       "    </tr>\n",
       "    <tr>\n",
       "      <th>5</th>\n",
       "      <td>810260000500</td>\n",
       "      <td>0408.00N10.00W2600--000000500</td>\n",
       "      <td>MULTIPOLYGON (((452569.653 1623833.664, 452590...</td>\n",
       "      <td>WD2020-0468</td>\n",
       "      <td>(no discrete address) SE 12th Pl</td>\n",
       "    </tr>\n",
       "  </tbody>\n",
       "</table>\n",
       "</div>"
      ],
      "text/plain": [
       "      MapTaxlot                       ORTaxlot  \\\n",
       "0  710160000200  0407.00N10.00W1600--000000200   \n",
       "1  710160000300  0407.00N10.00W1600--000000300   \n",
       "2  81022DA01001  0408.00N10.00W22DA--000001001   \n",
       "3  81022DA01002  0408.00N10.00W22DA--000001002   \n",
       "4  81022DA01100  0408.00N10.00W22DA--000001100   \n",
       "5  810260000500  0408.00N10.00W2600--000000500   \n",
       "\n",
       "                                            geometry wetdet_delin_number  \\\n",
       "0  MULTIPOLYGON (((443805.689 1602370.314, 443880...         WD2020-0280   \n",
       "1  MULTIPOLYGON (((444458.870 1600237.427, 444539...         WD2020-0280   \n",
       "2  MULTIPOLYGON (((449719.082 1626698.536, 449715...         WD2020-0402   \n",
       "3  MULTIPOLYGON (((449769.062 1626696.689, 449819...         WD2020-0402   \n",
       "4  MULTIPOLYGON (((449669.104 1626700.383, 449665...         WD2020-0402   \n",
       "5  MULTIPOLYGON (((452569.653 1623833.664, 452590...         WD2020-0468   \n",
       "\n",
       "              address_location_desc  \n",
       "0                W of 90266 Hwy 101  \n",
       "1                W of 90266 Hwy 101  \n",
       "2               SE 2nd and E Harbor  \n",
       "3               SE 2nd and E Harbor  \n",
       "4               SE 2nd and E Harbor  \n",
       "5  (no discrete address) SE 12th Pl  "
      ]
     },
     "execution_count": 171,
     "metadata": {},
     "output_type": "execute_result"
    }
   ],
   "source": [
    "merged"
   ]
  },
  {
   "cell_type": "code",
   "execution_count": 33,
   "id": "c4821394",
   "metadata": {},
   "outputs": [],
   "source": [
    "def check_duplicates(v):\n",
    "    itemlist = [item for item, count in collections.Counter(v).items() if count > 1]\n",
    "    return itemlist, len(itemlist)"
   ]
  },
  {
   "cell_type": "code",
   "execution_count": 35,
   "id": "6f58c68b",
   "metadata": {},
   "outputs": [
    {
     "data": {
      "text/plain": [
       "27"
      ]
     },
     "execution_count": 35,
     "metadata": {},
     "output_type": "execute_result"
    }
   ],
   "source": [
    "# check the repeated IDs\n",
    "check_duplicates(ndf.ORTaxlot.values)[1]"
   ]
  },
  {
   "cell_type": "code",
   "execution_count": 31,
   "id": "42d57f7a",
   "metadata": {},
   "outputs": [
    {
     "data": {
      "text/plain": [
       "numpy.int64"
      ]
     },
     "execution_count": 31,
     "metadata": {},
     "output_type": "execute_result"
    }
   ],
   "source": [
    "type(tx_dt.County.unique()[4])"
   ]
  },
  {
   "cell_type": "code",
   "execution_count": 30,
   "id": "d885c32f",
   "metadata": {},
   "outputs": [
    {
     "data": {
      "text/plain": [
       "array([4], dtype=int64)"
      ]
     },
     "execution_count": 30,
     "metadata": {},
     "output_type": "execute_result"
    }
   ],
   "source": [
    "ndf.cnt_code.unique()"
   ]
  },
  {
   "cell_type": "code",
   "execution_count": 103,
   "id": "8863302d",
   "metadata": {},
   "outputs": [
    {
     "data": {
      "text/plain": [
       "0"
      ]
     },
     "execution_count": 103,
     "metadata": {},
     "output_type": "execute_result"
    }
   ],
   "source": [
    "#check_duplicates(tx_dt[tx_dt.County == 4].ORTaxlot.values)[1]\n",
    "check_duplicates(tx_dt.ORTaxlot.values)[1]"
   ]
  },
  {
   "cell_type": "code",
   "execution_count": 38,
   "id": "cc267148",
   "metadata": {},
   "outputs": [
    {
     "data": {
      "text/plain": [
       "False"
      ]
     },
     "execution_count": 38,
     "metadata": {},
     "output_type": "execute_result"
    }
   ],
   "source": [
    "all([v in check_duplicates(tx_dt[tx_dt.County == 4].ORTaxlot.values)[0] for v in check_duplicates(ndf.ORTaxlot.values)[0]]) "
   ]
  },
  {
   "cell_type": "code",
   "execution_count": 41,
   "id": "6e587eb7",
   "metadata": {
    "scrolled": true
   },
   "outputs": [
    {
     "data": {
      "text/plain": [
       "['0408.00N09.00W14DD--000000100']"
      ]
     },
     "execution_count": 41,
     "metadata": {},
     "output_type": "execute_result"
    }
   ],
   "source": [
    "[v for v in check_duplicates(ndf.ORTaxlot.values)[0] if v in check_duplicates(tx_dt[tx_dt.County == 4].ORTaxlot.values)[0]]"
   ]
  },
  {
   "cell_type": "code",
   "execution_count": 44,
   "id": "91d477f8",
   "metadata": {},
   "outputs": [
    {
     "data": {
      "text/plain": [
       "55   2019-05-06\n",
       "57   2019-06-11\n",
       "Name: received_date, dtype: datetime64[ns]"
      ]
     },
     "execution_count": 44,
     "metadata": {},
     "output_type": "execute_result"
    }
   ],
   "source": [
    "ndf[ndf.ORTaxlot == '0408.00N09.00W14DD--000000100'].received_date"
   ]
  },
  {
   "cell_type": "code",
   "execution_count": 51,
   "id": "8cbd5cd0",
   "metadata": {},
   "outputs": [],
   "source": [
    "ndf.loc[:, 'year'] = ndf.received_date.apply(lambda x: x.year)"
   ]
  },
  {
   "cell_type": "code",
   "execution_count": 136,
   "id": "4a84fdbb",
   "metadata": {},
   "outputs": [],
   "source": [
    "ndf.loc[:, 'IDyear'] = ndf.wetdet_delin_number.apply(lambda x: x[2:6])"
   ]
  },
  {
   "cell_type": "code",
   "execution_count": 55,
   "id": "020c6193",
   "metadata": {},
   "outputs": [
    {
     "data": {
      "text/plain": [
       "0"
      ]
     },
     "execution_count": 55,
     "metadata": {},
     "output_type": "execute_result"
    }
   ],
   "source": [
    "check_duplicates(ndf[ndf.year == year].ORTaxlot.values)[1]"
   ]
  },
  {
   "cell_type": "code",
   "execution_count": 95,
   "id": "fee0adbe",
   "metadata": {},
   "outputs": [],
   "source": [
    "# # this will take a while\n",
    "# start = time.time()\n",
    "# dissoved = tx_dt.dissolve('ORTaxlot')\n",
    "# end = time.time()\n",
    "# print(end - start)"
   ]
  },
  {
   "cell_type": "code",
   "execution_count": 61,
   "id": "595e0f3c",
   "metadata": {},
   "outputs": [
    {
     "data": {
      "text/plain": [
       "0"
      ]
     },
     "execution_count": 61,
     "metadata": {},
     "output_type": "execute_result"
    }
   ],
   "source": [
    "check_duplicates(dissoved.index)[1]"
   ]
  },
  {
   "cell_type": "code",
   "execution_count": 62,
   "id": "b39f2821",
   "metadata": {},
   "outputs": [],
   "source": [
    "dissoved.loc[:, 'ORTaxlot'] = dissoved.index"
   ]
  },
  {
   "cell_type": "code",
   "execution_count": 104,
   "id": "4acf1da1",
   "metadata": {},
   "outputs": [
    {
     "data": {
      "text/plain": [
       "Index(['ORTaxlot', 'Shape_Length', 'Shape_Area', 'geometry'], dtype='object')"
      ]
     },
     "execution_count": 104,
     "metadata": {},
     "output_type": "execute_result"
    }
   ],
   "source": [
    "tx_dt.columns"
   ]
  },
  {
   "cell_type": "code",
   "execution_count": 65,
   "id": "3ca9a3cb",
   "metadata": {},
   "outputs": [],
   "source": [
    "dissoved.reset_index(drop=True, inplace=True)"
   ]
  },
  {
   "cell_type": "code",
   "execution_count": 137,
   "id": "b70c8ff4",
   "metadata": {},
   "outputs": [],
   "source": [
    "merged = ndf[ndf.IDyear == str(year)].merge(tx_dt[['ORTaxlot', 'geometry']], on='ORTaxlot', how='left')"
   ]
  },
  {
   "cell_type": "code",
   "execution_count": 106,
   "id": "28ddfa4b",
   "metadata": {},
   "outputs": [
    {
     "data": {
      "text/html": [
       "<div>\n",
       "<style scoped>\n",
       "    .dataframe tbody tr th:only-of-type {\n",
       "        vertical-align: middle;\n",
       "    }\n",
       "\n",
       "    .dataframe tbody tr th {\n",
       "        vertical-align: top;\n",
       "    }\n",
       "\n",
       "    .dataframe thead th {\n",
       "        text-align: right;\n",
       "    }\n",
       "</style>\n",
       "<table border=\"1\" class=\"dataframe\">\n",
       "  <thead>\n",
       "    <tr style=\"text-align: right;\">\n",
       "      <th></th>\n",
       "      <th>wetdet_delin_number</th>\n",
       "      <th>trsqq</th>\n",
       "      <th>parcel_id</th>\n",
       "      <th>address_location_desc</th>\n",
       "      <th>city</th>\n",
       "      <th>county</th>\n",
       "      <th>site_name</th>\n",
       "      <th>site_desc</th>\n",
       "      <th>latitude</th>\n",
       "      <th>longitude</th>\n",
       "      <th>...</th>\n",
       "      <th>response_date</th>\n",
       "      <th>reissuance_response_date</th>\n",
       "      <th>project_id</th>\n",
       "      <th>site_id</th>\n",
       "      <th>lots</th>\n",
       "      <th>lot</th>\n",
       "      <th>cnt_code</th>\n",
       "      <th>ORTaxlot</th>\n",
       "      <th>year</th>\n",
       "      <th>geometry</th>\n",
       "    </tr>\n",
       "  </thead>\n",
       "  <tbody>\n",
       "    <tr>\n",
       "      <th>0</th>\n",
       "      <td>WD2017-0003</td>\n",
       "      <td>06N10W03DA</td>\n",
       "      <td>500 (partial)</td>\n",
       "      <td>McCormick Rd .025 mi S of Hillila Rd</td>\n",
       "      <td>Gearhart</td>\n",
       "      <td>Clatsop</td>\n",
       "      <td>McCormick Rd 06N10W03DA</td>\n",
       "      <td>Residential</td>\n",
       "      <td>46.030197</td>\n",
       "      <td>-123.905217</td>\n",
       "      <td>...</td>\n",
       "      <td>2017-03-09</td>\n",
       "      <td>NaN</td>\n",
       "      <td>NaN</td>\n",
       "      <td>103777</td>\n",
       "      <td>[500]</td>\n",
       "      <td>500</td>\n",
       "      <td>4</td>\n",
       "      <td>0406.00N10.00W03DA--000000500</td>\n",
       "      <td>2017</td>\n",
       "      <td>MULTIPOLYGON (((448821.559 1578307.121, 448814...</td>\n",
       "    </tr>\n",
       "    <tr>\n",
       "      <th>1</th>\n",
       "      <td>WD2017-0033</td>\n",
       "      <td>08N08W25</td>\n",
       "      <td>101</td>\n",
       "      <td>W of 92260 Koppisch Rd, Astoria</td>\n",
       "      <td>Astoria</td>\n",
       "      <td>Clatsop</td>\n",
       "      <td>08N08W25</td>\n",
       "      <td>site evaluation</td>\n",
       "      <td>46.155778</td>\n",
       "      <td>-123.610751</td>\n",
       "      <td>...</td>\n",
       "      <td>2017-01-30</td>\n",
       "      <td>NaN</td>\n",
       "      <td>NaN</td>\n",
       "      <td>104259</td>\n",
       "      <td>[101]</td>\n",
       "      <td>101</td>\n",
       "      <td>4</td>\n",
       "      <td>0408.00N08.00W2500--000000101</td>\n",
       "      <td>2017</td>\n",
       "      <td>MULTIPOLYGON (((524028.003 1621190.023, 524220...</td>\n",
       "    </tr>\n",
       "    <tr>\n",
       "      <th>2</th>\n",
       "      <td>WD2017-0056</td>\n",
       "      <td>08N10W09B</td>\n",
       "      <td>2500, ROWs (both partial)</td>\n",
       "      <td>Warrenton Dr and NW 17th St</td>\n",
       "      <td>Warrenton</td>\n",
       "      <td>Clatsop</td>\n",
       "      <td>Gann Dev 08N10W09B</td>\n",
       "      <td>residential development</td>\n",
       "      <td>46.190638</td>\n",
       "      <td>-123.932177</td>\n",
       "      <td>...</td>\n",
       "      <td>2017-05-17</td>\n",
       "      <td>NaN</td>\n",
       "      <td>NaN</td>\n",
       "      <td>104411</td>\n",
       "      <td>[2500]</td>\n",
       "      <td>2500</td>\n",
       "      <td>4</td>\n",
       "      <td>0408.00N10.00W09B0--000002500</td>\n",
       "      <td>2017</td>\n",
       "      <td>MULTIPOLYGON (((443198.754 1636916.627, 443123...</td>\n",
       "    </tr>\n",
       "  </tbody>\n",
       "</table>\n",
       "<p>3 rows × 26 columns</p>\n",
       "</div>"
      ],
      "text/plain": [
       "  wetdet_delin_number       trsqq                  parcel_id  \\\n",
       "0         WD2017-0003  06N10W03DA              500 (partial)   \n",
       "1         WD2017-0033    08N08W25                        101   \n",
       "2         WD2017-0056   08N10W09B  2500, ROWs (both partial)   \n",
       "\n",
       "                  address_location_desc       city   county  \\\n",
       "0  McCormick Rd .025 mi S of Hillila Rd   Gearhart  Clatsop   \n",
       "1       W of 92260 Koppisch Rd, Astoria    Astoria  Clatsop   \n",
       "2           Warrenton Dr and NW 17th St  Warrenton  Clatsop   \n",
       "\n",
       "                 site_name                site_desc   latitude   longitude  \\\n",
       "0  McCormick Rd 06N10W03DA              Residential  46.030197 -123.905217   \n",
       "1                 08N08W25          site evaluation  46.155778 -123.610751   \n",
       "2       Gann Dev 08N10W09B  residential development  46.190638 -123.932177   \n",
       "\n",
       "   ... response_date reissuance_response_date project_id site_id    lots  \\\n",
       "0  ...    2017-03-09                      NaN        NaN  103777   [500]   \n",
       "1  ...    2017-01-30                      NaN        NaN  104259   [101]   \n",
       "2  ...    2017-05-17                      NaN        NaN  104411  [2500]   \n",
       "\n",
       "    lot cnt_code                       ORTaxlot  year  \\\n",
       "0   500        4  0406.00N10.00W03DA--000000500  2017   \n",
       "1   101        4  0408.00N08.00W2500--000000101  2017   \n",
       "2  2500        4  0408.00N10.00W09B0--000002500  2017   \n",
       "\n",
       "                                            geometry  \n",
       "0  MULTIPOLYGON (((448821.559 1578307.121, 448814...  \n",
       "1  MULTIPOLYGON (((524028.003 1621190.023, 524220...  \n",
       "2  MULTIPOLYGON (((443198.754 1636916.627, 443123...  \n",
       "\n",
       "[3 rows x 26 columns]"
      ]
     },
     "execution_count": 106,
     "metadata": {},
     "output_type": "execute_result"
    }
   ],
   "source": [
    "merged.head(3)"
   ]
  },
  {
   "cell_type": "code",
   "execution_count": 71,
   "id": "5c6248c6",
   "metadata": {},
   "outputs": [],
   "source": [
    "set1gdf = gpd.read_file(os.path.join(inpath, 'GIS', 'Join_Statewide.gdb'), layer='WD_Set001_Combined')"
   ]
  },
  {
   "cell_type": "code",
   "execution_count": 138,
   "id": "1f662aa1",
   "metadata": {},
   "outputs": [
    {
     "data": {
      "text/plain": [
       "(33, 27)"
      ]
     },
     "execution_count": 138,
     "metadata": {},
     "output_type": "execute_result"
    }
   ],
   "source": [
    "merged.shape"
   ]
  },
  {
   "cell_type": "code",
   "execution_count": 76,
   "id": "6157cd8c",
   "metadata": {},
   "outputs": [
    {
     "data": {
      "text/plain": [
       "Index(['Record_ID', 'wetdet_delin_number', 'trsqq', 'parcel_id',\n",
       "       'address_location_desc', 'city', 'county', 'site_name', 'site_desc',\n",
       "       'latitude', 'longitude', 'Coord_Source', 'DocumentName', 'DecisionLink',\n",
       "       'is_batch_file', 'status_name', 'received_date', 'response_date',\n",
       "       'reissuance_response_date', 'project_id', 'site_id', 'lot_num', 'lot',\n",
       "       'Match_Year', 'ORTAXLOT', 'Match_found', 'Manual_note', 'Shape_Length',\n",
       "       'Shape_Area', 'Edits_Complete', 'matcher2', 'geometry'],\n",
       "      dtype='object')"
      ]
     },
     "execution_count": 76,
     "metadata": {},
     "output_type": "execute_result"
    }
   ],
   "source": [
    "set1gdf.columns"
   ]
  },
  {
   "cell_type": "code",
   "execution_count": 82,
   "id": "be203720",
   "metadata": {},
   "outputs": [],
   "source": [
    "set1gdf.loc[:, 'year'] = set1gdf.received_date.values[0].split('-')[0]"
   ]
  },
  {
   "cell_type": "code",
   "execution_count": 120,
   "id": "5bd83df0",
   "metadata": {},
   "outputs": [],
   "source": [
    "set1gdf.loc[:, 'IDyear'] = set1gdf.wetdet_delin_number.apply(lambda x: x[2:6])"
   ]
  },
  {
   "cell_type": "code",
   "execution_count": 83,
   "id": "fd8a9f11",
   "metadata": {},
   "outputs": [
    {
     "data": {
      "text/plain": [
       "array(['2017'], dtype=object)"
      ]
     },
     "execution_count": 83,
     "metadata": {},
     "output_type": "execute_result"
    }
   ],
   "source": [
    "set1gdf.year.unique()"
   ]
  },
  {
   "cell_type": "code",
   "execution_count": 110,
   "id": "d7be3cae",
   "metadata": {
    "scrolled": true
   },
   "outputs": [
    {
     "data": {
      "text/plain": [
       "(241, 33)"
      ]
     },
     "execution_count": 110,
     "metadata": {},
     "output_type": "execute_result"
    }
   ],
   "source": [
    "set1gdf[set1gdf.county == 'Clatsop'].shape"
   ]
  },
  {
   "cell_type": "code",
   "execution_count": 121,
   "id": "b61ecfa2",
   "metadata": {},
   "outputs": [
    {
     "data": {
      "text/plain": [
       "(216, 34)"
      ]
     },
     "execution_count": 121,
     "metadata": {},
     "output_type": "execute_result"
    }
   ],
   "source": [
    "set1gdf[set1gdf.IDyear == '2017'].shape"
   ]
  },
  {
   "cell_type": "code",
   "execution_count": 128,
   "id": "ec6bd31a",
   "metadata": {},
   "outputs": [
    {
     "data": {
      "text/plain": [
       "(33, 34)"
      ]
     },
     "execution_count": 128,
     "metadata": {},
     "output_type": "execute_result"
    }
   ],
   "source": [
    "set1gdf[(set1gdf.county == 'Clatsop') & (set1gdf.IDyear == '2017')].shape"
   ]
  },
  {
   "cell_type": "code",
   "execution_count": 111,
   "id": "7d55f221",
   "metadata": {},
   "outputs": [
    {
     "data": {
      "text/plain": [
       "2"
      ]
     },
     "execution_count": 111,
     "metadata": {},
     "output_type": "execute_result"
    }
   ],
   "source": [
    "check_duplicates(merged.ORTaxlot.values)[1]"
   ]
  },
  {
   "cell_type": "code",
   "execution_count": 113,
   "id": "9d54563b",
   "metadata": {},
   "outputs": [
    {
     "data": {
      "text/plain": [
       "(35, 33)"
      ]
     },
     "execution_count": 113,
     "metadata": {},
     "output_type": "execute_result"
    }
   ],
   "source": [
    "set1gdf[set1gdf.wetdet_delin_number.isin(merged.wetdet_delin_number.unique())].shape"
   ]
  },
  {
   "cell_type": "code",
   "execution_count": 84,
   "id": "3fe36790",
   "metadata": {},
   "outputs": [
    {
     "data": {
      "text/html": [
       "<div>\n",
       "<style scoped>\n",
       "    .dataframe tbody tr th:only-of-type {\n",
       "        vertical-align: middle;\n",
       "    }\n",
       "\n",
       "    .dataframe tbody tr th {\n",
       "        vertical-align: top;\n",
       "    }\n",
       "\n",
       "    .dataframe thead th {\n",
       "        text-align: right;\n",
       "    }\n",
       "</style>\n",
       "<table border=\"1\" class=\"dataframe\">\n",
       "  <thead>\n",
       "    <tr style=\"text-align: right;\">\n",
       "      <th></th>\n",
       "      <th>Record_ID</th>\n",
       "      <th>wetdet_delin_number</th>\n",
       "      <th>trsqq</th>\n",
       "      <th>parcel_id</th>\n",
       "      <th>address_location_desc</th>\n",
       "      <th>city</th>\n",
       "      <th>county</th>\n",
       "      <th>site_name</th>\n",
       "      <th>site_desc</th>\n",
       "      <th>latitude</th>\n",
       "      <th>...</th>\n",
       "      <th>Match_Year</th>\n",
       "      <th>ORTAXLOT</th>\n",
       "      <th>Match_found</th>\n",
       "      <th>Manual_note</th>\n",
       "      <th>Shape_Length</th>\n",
       "      <th>Shape_Area</th>\n",
       "      <th>Edits_Complete</th>\n",
       "      <th>matcher2</th>\n",
       "      <th>geometry</th>\n",
       "      <th>year</th>\n",
       "    </tr>\n",
       "  </thead>\n",
       "  <tbody>\n",
       "    <tr>\n",
       "      <th>0</th>\n",
       "      <td>1188.0</td>\n",
       "      <td>WD2017-0552</td>\n",
       "      <td>06S02W09</td>\n",
       "      <td>800, 1800, 1900</td>\n",
       "      <td>6296 Umpqua St NE, Salem</td>\n",
       "      <td>Salem</td>\n",
       "      <td>Marion</td>\n",
       "      <td>Cottontail Solar LLC 06S02W09</td>\n",
       "      <td>Request for a jurisdictional determination for...</td>\n",
       "      <td>45.067881</td>\n",
       "      <td>...</td>\n",
       "      <td>2017.0</td>\n",
       "      <td>None</td>\n",
       "      <td>1.0</td>\n",
       "      <td>None</td>\n",
       "      <td>6291.224348</td>\n",
       "      <td>1.237596e+06</td>\n",
       "      <td>NaN</td>\n",
       "      <td>1188lot2</td>\n",
       "      <td>MULTIPOLYGON (((682695.722 1217565.770, 683060...</td>\n",
       "      <td>2017</td>\n",
       "    </tr>\n",
       "    <tr>\n",
       "      <th>1</th>\n",
       "      <td>978.0</td>\n",
       "      <td>WD2017-0241</td>\n",
       "      <td>37S05W18</td>\n",
       "      <td>200</td>\n",
       "      <td>827 Triller Ln, Grants Pass</td>\n",
       "      <td>Grants Pass</td>\n",
       "      <td>Josephine</td>\n",
       "      <td>37S05W18B</td>\n",
       "      <td>Faye Benson Trust</td>\n",
       "      <td>42.357634</td>\n",
       "      <td>...</td>\n",
       "      <td>2017.0</td>\n",
       "      <td>1737.00S05.00W1800--000000200</td>\n",
       "      <td>1.0</td>\n",
       "      <td>None</td>\n",
       "      <td>5550.903822</td>\n",
       "      <td>1.913187e+06</td>\n",
       "      <td>NaN</td>\n",
       "      <td>978lot1</td>\n",
       "      <td>MULTIPOLYGON (((544163.432 236069.011, 544115....</td>\n",
       "      <td>2017</td>\n",
       "    </tr>\n",
       "    <tr>\n",
       "      <th>2</th>\n",
       "      <td>614.0</td>\n",
       "      <td>WD2017-0407</td>\n",
       "      <td>36S04W16CD</td>\n",
       "      <td>500,502</td>\n",
       "      <td>Sunna Way/Foothill Blvd/Westbook Dr</td>\n",
       "      <td>Rogue River</td>\n",
       "      <td>Jackson</td>\n",
       "      <td>36S04W16CD</td>\n",
       "      <td>Assessment of common areas</td>\n",
       "      <td>42.434712</td>\n",
       "      <td>...</td>\n",
       "      <td>2017.0</td>\n",
       "      <td>None</td>\n",
       "      <td>1.0</td>\n",
       "      <td>None</td>\n",
       "      <td>900.078840</td>\n",
       "      <td>1.929808e+04</td>\n",
       "      <td>NaN</td>\n",
       "      <td>614lot2</td>\n",
       "      <td>MULTIPOLYGON (((588847.611 261808.947, 588803....</td>\n",
       "      <td>2017</td>\n",
       "    </tr>\n",
       "  </tbody>\n",
       "</table>\n",
       "<p>3 rows × 33 columns</p>\n",
       "</div>"
      ],
      "text/plain": [
       "   Record_ID wetdet_delin_number       trsqq        parcel_id  \\\n",
       "0     1188.0         WD2017-0552    06S02W09  800, 1800, 1900   \n",
       "1      978.0         WD2017-0241    37S05W18              200   \n",
       "2      614.0         WD2017-0407  36S04W16CD          500,502   \n",
       "\n",
       "                 address_location_desc         city     county  \\\n",
       "0             6296 Umpqua St NE, Salem        Salem     Marion   \n",
       "1          827 Triller Ln, Grants Pass  Grants Pass  Josephine   \n",
       "2  Sunna Way/Foothill Blvd/Westbook Dr  Rogue River    Jackson   \n",
       "\n",
       "                       site_name  \\\n",
       "0  Cottontail Solar LLC 06S02W09   \n",
       "1                      37S05W18B   \n",
       "2                     36S04W16CD   \n",
       "\n",
       "                                           site_desc   latitude  ...  \\\n",
       "0  Request for a jurisdictional determination for...  45.067881  ...   \n",
       "1                                  Faye Benson Trust  42.357634  ...   \n",
       "2                         Assessment of common areas  42.434712  ...   \n",
       "\n",
       "   Match_Year                       ORTAXLOT Match_found Manual_note  \\\n",
       "0      2017.0                           None         1.0        None   \n",
       "1      2017.0  1737.00S05.00W1800--000000200         1.0        None   \n",
       "2      2017.0                           None         1.0        None   \n",
       "\n",
       "  Shape_Length    Shape_Area Edits_Complete  matcher2  \\\n",
       "0  6291.224348  1.237596e+06            NaN  1188lot2   \n",
       "1  5550.903822  1.913187e+06            NaN   978lot1   \n",
       "2   900.078840  1.929808e+04            NaN   614lot2   \n",
       "\n",
       "                                            geometry  year  \n",
       "0  MULTIPOLYGON (((682695.722 1217565.770, 683060...  2017  \n",
       "1  MULTIPOLYGON (((544163.432 236069.011, 544115....  2017  \n",
       "2  MULTIPOLYGON (((588847.611 261808.947, 588803....  2017  \n",
       "\n",
       "[3 rows x 33 columns]"
      ]
     },
     "execution_count": 84,
     "metadata": {},
     "output_type": "execute_result"
    }
   ],
   "source": [
    "set1gdf.head(3)"
   ]
  },
  {
   "cell_type": "code",
   "execution_count": 118,
   "id": "8a62aa49",
   "metadata": {},
   "outputs": [
    {
     "data": {
      "text/plain": [
       "{'2017', '2018', '2019', '2020', '2021', '2022'}"
      ]
     },
     "execution_count": 118,
     "metadata": {},
     "output_type": "execute_result"
    }
   ],
   "source": [
    "set(list(map(lambda x:x[2:6], \n",
    "         set1gdf[~set1gdf.wetdet_delin_number.isin(merged.wetdet_delin_number.unique())].wetdet_delin_number.values)))"
   ]
  },
  {
   "cell_type": "code",
   "execution_count": 124,
   "id": "d98d4e79",
   "metadata": {},
   "outputs": [],
   "source": [
    "missing_list = set1gdf[(~set1gdf.wetdet_delin_number.isin(merged.wetdet_delin_number.unique())) & (set1gdf.IDyear == '2017')].wetdet_delin_number.unique()"
   ]
  },
  {
   "cell_type": "code",
   "execution_count": 126,
   "id": "908c4a53",
   "metadata": {},
   "outputs": [
    {
     "data": {
      "text/plain": [
       "119"
      ]
     },
     "execution_count": 126,
     "metadata": {},
     "output_type": "execute_result"
    }
   ],
   "source": [
    "len(missing_list)"
   ]
  },
  {
   "cell_type": "code",
   "execution_count": 125,
   "id": "dee815a5",
   "metadata": {},
   "outputs": [
    {
     "data": {
      "text/plain": [
       "[]"
      ]
     },
     "execution_count": 125,
     "metadata": {},
     "output_type": "execute_result"
    }
   ],
   "source": [
    "[ID for ID in missing_list if ID in ndf]"
   ]
  },
  {
   "cell_type": "code",
   "execution_count": 127,
   "id": "7c07aef2",
   "metadata": {},
   "outputs": [
    {
     "data": {
      "text/plain": [
       "array(['Marion', 'Josephine', 'Jackson', 'Coos', 'Deschutes', 'Lake',\n",
       "       'Harney'], dtype=object)"
      ]
     },
     "execution_count": 127,
     "metadata": {},
     "output_type": "execute_result"
    }
   ],
   "source": [
    "set1gdf[set1gdf.wetdet_delin_number.isin(missing_list)].county.unique()"
   ]
  },
  {
   "cell_type": "code",
   "execution_count": 130,
   "id": "d3e3095a",
   "metadata": {},
   "outputs": [],
   "source": [
    "setIDs = set1gdf[(set1gdf.county == 'Clatsop') & (set1gdf.IDyear == '2017')].wetdet_delin_number.unique()"
   ]
  },
  {
   "cell_type": "code",
   "execution_count": 133,
   "id": "e01b63a2",
   "metadata": {},
   "outputs": [
    {
     "data": {
      "text/plain": [
       "array(['WD2018-0036'], dtype=object)"
      ]
     },
     "execution_count": 133,
     "metadata": {},
     "output_type": "execute_result"
    }
   ],
   "source": [
    "merged[~merged.wetdet_delin_number.isin(setIDs)].wetdet_delin_number.unique()"
   ]
  },
  {
   "cell_type": "code",
   "execution_count": 141,
   "id": "1e16f343",
   "metadata": {},
   "outputs": [
    {
     "data": {
      "text/plain": [
       "108000.0"
      ]
     },
     "execution_count": 141,
     "metadata": {},
     "output_type": "execute_result"
    }
   ],
   "source": [
    "60*60*3/0.1"
   ]
  }
 ],
 "metadata": {
  "kernelspec": {
   "display_name": "Python 3",
   "language": "python",
   "name": "python3"
  },
  "language_info": {
   "codemirror_mode": {
    "name": "ipython",
    "version": 3
   },
   "file_extension": ".py",
   "mimetype": "text/x-python",
   "name": "python",
   "nbconvert_exporter": "python",
   "pygments_lexer": "ipython3",
   "version": "3.8.8"
  }
 },
 "nbformat": 4,
 "nbformat_minor": 5
}
