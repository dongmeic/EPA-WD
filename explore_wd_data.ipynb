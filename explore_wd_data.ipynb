{
 "cells": [
  {
   "cell_type": "code",
   "execution_count": 1,
   "id": "6d122c7a",
   "metadata": {},
   "outputs": [
    {
     "name": "stderr",
     "output_type": "stream",
     "text": [
      "C:\\Users\\clid1852\\AppData\\Anaconda3\\envs\\geoenv\\lib\\site-packages\\geopandas\\_compat.py:106: UserWarning: The Shapely GEOS version (3.11.1-CAPI-1.17.1) is incompatible with the GEOS version PyGEOS was compiled with (3.9.1-CAPI-1.14.2). Conversions between both will be slow.\n",
      "  warnings.warn(\n"
     ]
    }
   ],
   "source": [
    "import pandas as pd\n",
    "import geopandas as gpd\n",
    "import os\n",
    "from os import walk\n",
    "import zipfile"
   ]
  },
  {
   "cell_type": "code",
   "execution_count": 4,
   "id": "ed12494d",
   "metadata": {},
   "outputs": [],
   "source": [
    "inpath = r'L:\\NaturalResources\\Wetlands\\Local Wetland Inventory\\WAPO\\EPA_2022_Tasks\\Task 1 WD Mapping'"
   ]
  },
  {
   "cell_type": "code",
   "execution_count": 5,
   "id": "a32a2c86",
   "metadata": {},
   "outputs": [],
   "source": [
    "wdpath = inpath + '\\\\DSL data originals\\Set001'"
   ]
  },
  {
   "cell_type": "code",
   "execution_count": 6,
   "id": "189101b6",
   "metadata": {},
   "outputs": [],
   "source": [
    "txpath = inpath + '\\\\GIS\\ORMAP_data\\Downloaded zip files'"
   ]
  },
  {
   "cell_type": "code",
   "execution_count": 7,
   "id": "4e305fc3",
   "metadata": {},
   "outputs": [],
   "source": [
    "newpath = os.path.join(inpath, \"test\")"
   ]
  },
  {
   "cell_type": "code",
   "execution_count": 8,
   "id": "1ce69cec",
   "metadata": {},
   "outputs": [],
   "source": [
    "os.mkdir(newpath)"
   ]
  },
  {
   "cell_type": "code",
   "execution_count": 20,
   "id": "6d29c788",
   "metadata": {},
   "outputs": [],
   "source": [
    "def list_files(path, folder=False):\n",
    "    f = []\n",
    "    for (dirpath, dirnames, filenames) in walk(path):\n",
    "        f.extend(filenames)\n",
    "        break\n",
    "    if folder:\n",
    "        f = [x[0] for x in os.walk(path)]\n",
    "    return f"
   ]
  },
  {
   "cell_type": "code",
   "execution_count": 14,
   "id": "3bc94f09",
   "metadata": {},
   "outputs": [
    {
     "data": {
      "text/plain": [
       "['ClatsopCoDelsDets2017-20220601.xlsx',\n",
       " 'CoosCo2017-20220601.xlsx',\n",
       " 'DeschutesCoDelDet2017-20220601.xlsx',\n",
       " 'HarneyCo2017-20220601.xlsx',\n",
       " 'JacksonCo2017-20220601.xlsx',\n",
       " 'JosephineCo2017-20220601.xlsx',\n",
       " 'LakeCoDelDet2017-20220601.xlsx',\n",
       " 'MarionCoDelDet2017-20220601.xlsx',\n",
       " '~$ClatsopCoDelsDets2017-20220601.xlsx',\n",
       " '~$CoosCo2017-20220601.xlsx']"
      ]
     },
     "execution_count": 14,
     "metadata": {},
     "output_type": "execute_result"
    }
   ],
   "source": [
    "list_files(wdpath)"
   ]
  },
  {
   "cell_type": "code",
   "execution_count": 15,
   "id": "2703a611",
   "metadata": {},
   "outputs": [
    {
     "data": {
      "text/plain": [
       "['2012 Taxlots.zip',\n",
       " '2014_state_agency_use_taxlots.gdb.zip',\n",
       " '2015_state_agency_use_taxlots.gdb.zip',\n",
       " '2016ShareableTaxLotsGDBJuneUpdate.zip',\n",
       " 'Morrow2015.zip',\n",
       " 'Shared_Taxlots_2017_GDB.zip',\n",
       " 'Shared_Taxlots_2018_GDB.zip',\n",
       " 'Shared_Taxlots_2019_GDB.zip',\n",
       " 'Shared_Taxlots_2020_GDB.zip',\n",
       " 'Shared_Taxlots_2021_GDB.zip',\n",
       " 'Shared_Taxlots_2022_GDB.zip',\n",
       " 'State Data2009.gdb.zip',\n",
       " 'taxlots_2011.zip']"
      ]
     },
     "execution_count": 15,
     "metadata": {},
     "output_type": "execute_result"
    }
   ],
   "source": [
    "list_files(txpath)"
   ]
  },
  {
   "cell_type": "code",
   "execution_count": 25,
   "id": "e79fe4bd",
   "metadata": {},
   "outputs": [],
   "source": [
    "year = 2022"
   ]
  },
  {
   "cell_type": "code",
   "execution_count": 26,
   "id": "c2c1ffd6",
   "metadata": {},
   "outputs": [],
   "source": [
    "with zipfile.ZipFile(os.path.join(txpath, 'Shared_Taxlots_'+str(year)+'_GDB.zip'), 'r') as zip_ref:\n",
    "    zip_ref.extractall(newpath)"
   ]
  },
  {
   "cell_type": "code",
   "execution_count": 27,
   "id": "7f5ddbd1",
   "metadata": {},
   "outputs": [
    {
     "data": {
      "text/plain": [
       "['L:\\\\NaturalResources\\\\Wetlands\\\\Local Wetland Inventory\\\\WAPO\\\\EPA_2022_Tasks\\\\Task 1 WD Mapping\\\\test',\n",
       " 'L:\\\\NaturalResources\\\\Wetlands\\\\Local Wetland Inventory\\\\WAPO\\\\EPA_2022_Tasks\\\\Task 1 WD Mapping\\\\test\\\\GDB',\n",
       " 'L:\\\\NaturalResources\\\\Wetlands\\\\Local Wetland Inventory\\\\WAPO\\\\EPA_2022_Tasks\\\\Task 1 WD Mapping\\\\test\\\\GDB\\\\Shared Taxlots.gdb']"
      ]
     },
     "execution_count": 27,
     "metadata": {},
     "output_type": "execute_result"
    }
   ],
   "source": [
    "list_files(newpath, folder=True)[1]"
   ]
  },
  {
   "cell_type": "code",
   "execution_count": 28,
   "id": "a9e52845",
   "metadata": {},
   "outputs": [],
   "source": [
    "os.renames(list_files(newpath, folder=True)[1], newpath+'\\\\Taxlots'+str(year))"
   ]
  },
  {
   "cell_type": "code",
   "execution_count": 29,
   "id": "8d9495e2",
   "metadata": {},
   "outputs": [],
   "source": [
    "datafile = os.path.join(wdpath, 'ClatsopCoDelsDets2017-20220601.xlsx')"
   ]
  },
  {
   "cell_type": "code",
   "execution_count": 31,
   "id": "95644b94",
   "metadata": {},
   "outputs": [
    {
     "data": {
      "text/plain": [
       "['Delineations-Determinations', 'Reorg']"
      ]
     },
     "execution_count": 31,
     "metadata": {},
     "output_type": "execute_result"
    }
   ],
   "source": [
    "xl = pd.ExcelFile(datafile)\n",
    "xl.sheet_names"
   ]
  },
  {
   "cell_type": "code",
   "execution_count": 32,
   "id": "9b250333",
   "metadata": {},
   "outputs": [],
   "source": [
    "wd_dt = pd.read_excel(datafile, sheet_name='Reorg')"
   ]
  },
  {
   "cell_type": "code",
   "execution_count": 33,
   "id": "8259a5d4",
   "metadata": {},
   "outputs": [
    {
     "data": {
      "text/html": [
       "<div>\n",
       "<style scoped>\n",
       "    .dataframe tbody tr th:only-of-type {\n",
       "        vertical-align: middle;\n",
       "    }\n",
       "\n",
       "    .dataframe tbody tr th {\n",
       "        vertical-align: top;\n",
       "    }\n",
       "\n",
       "    .dataframe thead th {\n",
       "        text-align: right;\n",
       "    }\n",
       "</style>\n",
       "<table border=\"1\" class=\"dataframe\">\n",
       "  <thead>\n",
       "    <tr style=\"text-align: right;\">\n",
       "      <th></th>\n",
       "      <th>wetdet_delin_number</th>\n",
       "      <th>trsqq</th>\n",
       "      <th>parcel_id</th>\n",
       "      <th>address_location_desc</th>\n",
       "      <th>city</th>\n",
       "      <th>county</th>\n",
       "      <th>site_name</th>\n",
       "      <th>site_desc</th>\n",
       "      <th>latitude</th>\n",
       "      <th>longitude</th>\n",
       "      <th>Coord-Source</th>\n",
       "      <th>DocumentName</th>\n",
       "      <th>DecisionLink</th>\n",
       "      <th>is_batch_file</th>\n",
       "      <th>status_name</th>\n",
       "      <th>received_date</th>\n",
       "      <th>response_date</th>\n",
       "      <th>reissuance_response_date</th>\n",
       "      <th>project_id</th>\n",
       "      <th>site_id</th>\n",
       "    </tr>\n",
       "  </thead>\n",
       "  <tbody>\n",
       "    <tr>\n",
       "      <th>0</th>\n",
       "      <td>WD2017-0003</td>\n",
       "      <td>06N10W03DA</td>\n",
       "      <td>500 (partial)</td>\n",
       "      <td>McCormick Rd .025 mi S of Hillila Rd</td>\n",
       "      <td>Gearhart</td>\n",
       "      <td>Clatsop</td>\n",
       "      <td>McCormick Rd 06N10W03DA</td>\n",
       "      <td>Residential</td>\n",
       "      <td>46.030197</td>\n",
       "      <td>-123.905217</td>\n",
       "      <td>DSL Verified</td>\n",
       "      <td>WD2017-0003final</td>\n",
       "      <td>https://docs.dsl.state.or.us/PublicReview/docv...</td>\n",
       "      <td>N</td>\n",
       "      <td>Approved</td>\n",
       "      <td>2017-01-03</td>\n",
       "      <td>2017-03-09</td>\n",
       "      <td>NaN</td>\n",
       "      <td>NaN</td>\n",
       "      <td>103777</td>\n",
       "    </tr>\n",
       "    <tr>\n",
       "      <th>1</th>\n",
       "      <td>WD2017-0033</td>\n",
       "      <td>08N08W25</td>\n",
       "      <td>101</td>\n",
       "      <td>W of 92260 Koppisch Rd, Astoria</td>\n",
       "      <td>Astoria</td>\n",
       "      <td>Clatsop</td>\n",
       "      <td>08N08W25</td>\n",
       "      <td>site evaluation</td>\n",
       "      <td>46.155778</td>\n",
       "      <td>-123.610751</td>\n",
       "      <td>DSL Verified</td>\n",
       "      <td>WD20170033AgencyDecision</td>\n",
       "      <td>https://docs.dsl.state.or.us/PublicReview/Elec...</td>\n",
       "      <td>Y</td>\n",
       "      <td>Completed by DSL</td>\n",
       "      <td>2017-01-12</td>\n",
       "      <td>2017-01-30</td>\n",
       "      <td>NaN</td>\n",
       "      <td>NaN</td>\n",
       "      <td>104259</td>\n",
       "    </tr>\n",
       "    <tr>\n",
       "      <th>2</th>\n",
       "      <td>WD2017-0056</td>\n",
       "      <td>08N10W09B</td>\n",
       "      <td>2500, ROWs (both partial)</td>\n",
       "      <td>Warrenton Dr and NW 17th St</td>\n",
       "      <td>Warrenton</td>\n",
       "      <td>Clatsop</td>\n",
       "      <td>Gann Dev 08N10W09B</td>\n",
       "      <td>residential development</td>\n",
       "      <td>46.190638</td>\n",
       "      <td>-123.932177</td>\n",
       "      <td>DSL Verified</td>\n",
       "      <td>WD2017-0056final</td>\n",
       "      <td>https://docs.dsl.state.or.us/PublicReview/docv...</td>\n",
       "      <td>N</td>\n",
       "      <td>Approved</td>\n",
       "      <td>2017-02-06</td>\n",
       "      <td>2017-05-17</td>\n",
       "      <td>NaN</td>\n",
       "      <td>NaN</td>\n",
       "      <td>104411</td>\n",
       "    </tr>\n",
       "  </tbody>\n",
       "</table>\n",
       "</div>"
      ],
      "text/plain": [
       "  wetdet_delin_number       trsqq                  parcel_id  \\\n",
       "0         WD2017-0003  06N10W03DA              500 (partial)   \n",
       "1         WD2017-0033    08N08W25                        101   \n",
       "2         WD2017-0056   08N10W09B  2500, ROWs (both partial)   \n",
       "\n",
       "                  address_location_desc       city   county  \\\n",
       "0  McCormick Rd .025 mi S of Hillila Rd   Gearhart  Clatsop   \n",
       "1       W of 92260 Koppisch Rd, Astoria    Astoria  Clatsop   \n",
       "2           Warrenton Dr and NW 17th St  Warrenton  Clatsop   \n",
       "\n",
       "                 site_name                site_desc   latitude   longitude  \\\n",
       "0  McCormick Rd 06N10W03DA              Residential  46.030197 -123.905217   \n",
       "1                 08N08W25          site evaluation  46.155778 -123.610751   \n",
       "2       Gann Dev 08N10W09B  residential development  46.190638 -123.932177   \n",
       "\n",
       "   Coord-Source              DocumentName  \\\n",
       "0  DSL Verified          WD2017-0003final   \n",
       "1  DSL Verified  WD20170033AgencyDecision   \n",
       "2  DSL Verified          WD2017-0056final   \n",
       "\n",
       "                                        DecisionLink is_batch_file  \\\n",
       "0  https://docs.dsl.state.or.us/PublicReview/docv...             N   \n",
       "1  https://docs.dsl.state.or.us/PublicReview/Elec...             Y   \n",
       "2  https://docs.dsl.state.or.us/PublicReview/docv...             N   \n",
       "\n",
       "        status_name received_date response_date  reissuance_response_date  \\\n",
       "0          Approved    2017-01-03    2017-03-09                       NaN   \n",
       "1  Completed by DSL    2017-01-12    2017-01-30                       NaN   \n",
       "2          Approved    2017-02-06    2017-05-17                       NaN   \n",
       "\n",
       "   project_id  site_id  \n",
       "0         NaN   103777  \n",
       "1         NaN   104259  \n",
       "2         NaN   104411  "
      ]
     },
     "execution_count": 33,
     "metadata": {},
     "output_type": "execute_result"
    }
   ],
   "source": [
    "wd_dt.head(3)"
   ]
  },
  {
   "cell_type": "code",
   "execution_count": 34,
   "id": "7ec5bba6",
   "metadata": {},
   "outputs": [
    {
     "data": {
      "text/plain": [
       "Index(['wetdet_delin_number', 'trsqq', 'parcel_id', 'address_location_desc',\n",
       "       'city', 'county', 'site_name', 'site_desc', 'latitude', 'longitude',\n",
       "       'Coord-Source', 'DocumentName', 'DecisionLink', 'is_batch_file',\n",
       "       'status_name', 'received_date', 'response_date',\n",
       "       'reissuance_response_date', 'project_id', 'site_id'],\n",
       "      dtype='object')"
      ]
     },
     "execution_count": 34,
     "metadata": {},
     "output_type": "execute_result"
    }
   ],
   "source": [
    "wd_dt.columns"
   ]
  },
  {
   "cell_type": "code",
   "execution_count": 38,
   "id": "e3eb9939",
   "metadata": {},
   "outputs": [],
   "source": [
    "txfilepath = os.path.join(newpath, 'Taxlots'+str(year), 'Shared Taxlots.gdb')"
   ]
  },
  {
   "cell_type": "code",
   "execution_count": 39,
   "id": "245a70a3",
   "metadata": {},
   "outputs": [],
   "source": [
    "tx_dt = gpd.read_file(txfilepath, layer='Taxlots')"
   ]
  },
  {
   "cell_type": "code",
   "execution_count": 42,
   "id": "a61f3c76",
   "metadata": {},
   "outputs": [],
   "source": [
    "tx_dt_s = gpd.read_file(txfilepath, layer='Taxlots', rows=10)"
   ]
  },
  {
   "cell_type": "code",
   "execution_count": 44,
   "id": "9f609a0e",
   "metadata": {},
   "outputs": [
    {
     "data": {
      "text/plain": [
       "Index(['County', 'Town', 'TownPart', 'TownDir', 'Range', 'RangePart',\n",
       "       'RangeDir', 'SecNumber', 'Qtr', 'QtrQtr', 'Anomaly', 'MapSufType',\n",
       "       'MapNumber', 'ORMapNum', 'Taxlot', 'MapTaxlot', 'ORTaxlot',\n",
       "       'TaxlotAcre', 'ReliaCode', 'TaxLotFeet', 'MapClass', 'MapRelCode',\n",
       "       'MapSufNum', 'REFLink', 'SpecialInt', 'INSTYEAR', 'PRIMACCNUM',\n",
       "       'OWNERLINE1', 'MAILADD1', 'MAILADD2', 'MAILCITY', 'MAILZIP', 'PRPCLASS',\n",
       "       'SIMAPTAX', 'OWNERLINE2', 'OWNERLINE3', 'AGENTNAME', 'MAILSTATE',\n",
       "       'MAILCNTRY', 'SITEADDNAM', 'SITEADDCTY', 'SITEZIP', 'INSTMONTH',\n",
       "       'INSTID', 'INSTTYPE', 'DWELLING', 'PRPCLSDSC', 'Shape_Length',\n",
       "       'Shape_Area', 'geometry'],\n",
       "      dtype='object')"
      ]
     },
     "execution_count": 44,
     "metadata": {},
     "output_type": "execute_result"
    }
   ],
   "source": [
    "tx_dt_s.columns"
   ]
  },
  {
   "cell_type": "code",
   "execution_count": 46,
   "id": "40941090",
   "metadata": {},
   "outputs": [
    {
     "data": {
      "text/plain": [
       "0    0106.00S38.00E0000--000000300\n",
       "1    0109.00S40.00E2800--000000800\n",
       "2    0106.00S38.00E0000--0000ROADS\n",
       "Name: ORTaxlot, dtype: object"
      ]
     },
     "execution_count": 46,
     "metadata": {},
     "output_type": "execute_result"
    }
   ],
   "source": [
    "tx_dt_s.ORTaxlot.head(3)"
   ]
  },
  {
   "cell_type": "code",
   "execution_count": 47,
   "id": "d2365e14",
   "metadata": {},
   "outputs": [],
   "source": [
    "cnt_ID = pd.read_excel(r'T:\\DCProjects\\EPA-WD\\CNT_Code.xlsx')"
   ]
  },
  {
   "cell_type": "code",
   "execution_count": 48,
   "id": "dd4871e0",
   "metadata": {},
   "outputs": [],
   "source": [
    "cnt_dict = dict(zip(cnt_ID.COUNTY, cnt_ID.ID))"
   ]
  },
  {
   "cell_type": "code",
   "execution_count": null,
   "id": "59f876bc",
   "metadata": {},
   "outputs": [],
   "source": []
  }
 ],
 "metadata": {
  "kernelspec": {
   "display_name": "Python 3 (ipykernel)",
   "language": "python",
   "name": "python3"
  },
  "language_info": {
   "codemirror_mode": {
    "name": "ipython",
    "version": 3
   },
   "file_extension": ".py",
   "mimetype": "text/x-python",
   "name": "python",
   "nbconvert_exporter": "python",
   "pygments_lexer": "ipython3",
   "version": "3.8.15"
  }
 },
 "nbformat": 4,
 "nbformat_minor": 5
}
