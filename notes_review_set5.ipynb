{
 "cells": [
  {
   "cell_type": "code",
   "execution_count": 1,
   "id": "d7c2612b",
   "metadata": {},
   "outputs": [],
   "source": [
    "%load_ext autoreload\n",
    "%autoreload 2"
   ]
  },
  {
   "cell_type": "code",
   "execution_count": 197,
   "id": "31eba31e",
   "metadata": {},
   "outputs": [],
   "source": [
    "from wdtools import *"
   ]
  },
  {
   "cell_type": "code",
   "execution_count": 3,
   "id": "bb8373d9",
   "metadata": {},
   "outputs": [
    {
     "name": "stdout",
     "output_type": "stream",
     "text": [
      "it took 9.0 minutes to complete\n"
     ]
    }
   ],
   "source": [
    "# this can take about 9 - 11 minutes\n",
    "start = time.time()\n",
    "all_taxlot = combine_taxlot()\n",
    "end = time.time()\n",
    "print(f'it took {round((end - start)/60, 0)} minutes to complete')"
   ]
  },
  {
   "cell_type": "code",
   "execution_count": 4,
   "id": "007cc0be",
   "metadata": {},
   "outputs": [],
   "source": [
    "setID = 'Set005'; nm_to_add = 3932"
   ]
  },
  {
   "cell_type": "code",
   "execution_count": 6,
   "id": "2c2645dd",
   "metadata": {},
   "outputs": [],
   "source": [
    "wd = combine_wd_tables(setID=setID, nm_to_add=nm_to_add)"
   ]
  },
  {
   "cell_type": "code",
   "execution_count": 405,
   "id": "9dced017",
   "metadata": {},
   "outputs": [],
   "source": [
    "df = pd.DataFrame(columns = ['wetdet_delin_number', 'record_ID', 'field', 'cor_type', 'from', 'to'])"
   ]
  },
  {
   "cell_type": "code",
   "execution_count": 406,
   "id": "0d8aa941",
   "metadata": {},
   "outputs": [],
   "source": [
    "#ml = 'N'\n",
    "ml = 'Y'"
   ]
  },
  {
   "cell_type": "code",
   "execution_count": 398,
   "id": "132a44f2",
   "metadata": {},
   "outputs": [],
   "source": [
    "notes = pd.read_csv(os.path.join(inpath + '\\\\output\\\\to_review\\\\', f'review_unmatched_{setID}_r2_{ml}_0.csv'))"
   ]
  },
  {
   "cell_type": "code",
   "execution_count": 366,
   "id": "f4d718ee",
   "metadata": {},
   "outputs": [
    {
     "data": {
      "text/plain": [
       "array(['WD2021-0038', 'WD2018-0169', 'WD2021-0410', 'WD2019-0609',\n",
       "       'WD2019-0213', 'WD2019-0444', 'WD2020-0171', 'WD2020-0358'],\n",
       "      dtype=object)"
      ]
     },
     "execution_count": 366,
     "metadata": {},
     "output_type": "execute_result"
    }
   ],
   "source": [
    "notes.wetdet_delin_number.unique()"
   ]
  },
  {
   "cell_type": "code",
   "execution_count": 11,
   "id": "2cc47515",
   "metadata": {},
   "outputs": [
    {
     "data": {
      "text/plain": [
       "Index(['wetdet_delin_number', 'trsqq', 'parcel_id', 'county', 'latitude',\n",
       "       'longitude', 'DecisionLink', 'record_ID', 'IDyear', 'correct_type',\n",
       "       'correction', 'cor_trsqq', 'ORTaxlot'],\n",
       "      dtype='object')"
      ]
     },
     "execution_count": 11,
     "metadata": {},
     "output_type": "execute_result"
    }
   ],
   "source": [
    "notes.columns"
   ]
  },
  {
   "cell_type": "code",
   "execution_count": 365,
   "id": "1d769620",
   "metadata": {},
   "outputs": [
    {
     "data": {
      "text/plain": [
       "(8, 13)"
      ]
     },
     "execution_count": 365,
     "metadata": {},
     "output_type": "execute_result"
    }
   ],
   "source": [
    "notes.shape"
   ]
  },
  {
   "cell_type": "code",
   "execution_count": 367,
   "id": "266b8668",
   "metadata": {},
   "outputs": [
    {
     "data": {
      "text/html": [
       "<div>\n",
       "<style scoped>\n",
       "    .dataframe tbody tr th:only-of-type {\n",
       "        vertical-align: middle;\n",
       "    }\n",
       "\n",
       "    .dataframe tbody tr th {\n",
       "        vertical-align: top;\n",
       "    }\n",
       "\n",
       "    .dataframe thead th {\n",
       "        text-align: right;\n",
       "    }\n",
       "</style>\n",
       "<table border=\"1\" class=\"dataframe\">\n",
       "  <thead>\n",
       "    <tr style=\"text-align: right;\">\n",
       "      <th></th>\n",
       "      <th>wetdet_delin_number</th>\n",
       "      <th>trsqq</th>\n",
       "      <th>parcel_id</th>\n",
       "      <th>county</th>\n",
       "      <th>latitude</th>\n",
       "      <th>longitude</th>\n",
       "      <th>DecisionLink</th>\n",
       "      <th>record_ID</th>\n",
       "      <th>IDyear</th>\n",
       "      <th>correct_type</th>\n",
       "      <th>correction</th>\n",
       "      <th>cor_trsqq</th>\n",
       "      <th>ORTaxlot</th>\n",
       "    </tr>\n",
       "  </thead>\n",
       "  <tbody>\n",
       "    <tr>\n",
       "      <th>0</th>\n",
       "      <td>WD2021-0038</td>\n",
       "      <td>04S39E06</td>\n",
       "      <td>2500</td>\n",
       "      <td>Union</td>\n",
       "      <td>45.241586</td>\n",
       "      <td>-117.985814</td>\n",
       "      <td>https://docs.dsl.state.or.us/PublicReview/docv...</td>\n",
       "      <td>4263</td>\n",
       "      <td>2021</td>\n",
       "      <td>section number</td>\n",
       "      <td>from 06 to 00</td>\n",
       "      <td>04S39E0000</td>\n",
       "      <td>3104.00S39.00E0000--000002500</td>\n",
       "    </tr>\n",
       "    <tr>\n",
       "      <th>1</th>\n",
       "      <td>WD2018-0169</td>\n",
       "      <td>06S08E12D</td>\n",
       "      <td>400p</td>\n",
       "      <td>Polk</td>\n",
       "      <td>45.062693</td>\n",
       "      <td>-123.608810</td>\n",
       "      <td>https://docs.dsl.state.or.us/PublicReview/docv...</td>\n",
       "      <td>4036</td>\n",
       "      <td>2018</td>\n",
       "      <td>township direction and range direction</td>\n",
       "      <td>from S and E to N and W</td>\n",
       "      <td>06N08W12D0</td>\n",
       "      <td>2706.00N08.00W12D0--000000400</td>\n",
       "    </tr>\n",
       "    <tr>\n",
       "      <th>2</th>\n",
       "      <td>WD2021-0410</td>\n",
       "      <td>4N29E0A</td>\n",
       "      <td>200p,300p</td>\n",
       "      <td>Umatilla</td>\n",
       "      <td>45.849426</td>\n",
       "      <td>-119.239912</td>\n",
       "      <td>https://docs.dsl.state.or.us/PublicReview/Elec...</td>\n",
       "      <td>4291</td>\n",
       "      <td>2021</td>\n",
       "      <td>to review</td>\n",
       "      <td>some lots are not matched, need to review trsq...</td>\n",
       "      <td>04N29E06C0</td>\n",
       "      <td>3004.00N29.00E06C0--000004601</td>\n",
       "    </tr>\n",
       "    <tr>\n",
       "      <th>3</th>\n",
       "      <td>WD2019-0609</td>\n",
       "      <td>05N28E13</td>\n",
       "      <td>1700,1800</td>\n",
       "      <td>Umatilla</td>\n",
       "      <td>45.920580</td>\n",
       "      <td>-119.254120</td>\n",
       "      <td>https://docs.dsl.state.or.us/PublicReview/Elec...</td>\n",
       "      <td>4167</td>\n",
       "      <td>2019</td>\n",
       "      <td>range direction and section number</td>\n",
       "      <td>from E and 13 to EA and 0</td>\n",
       "      <td>05N28EA000</td>\n",
       "      <td>3005.00N28.00EA000--000001800</td>\n",
       "    </tr>\n",
       "    <tr>\n",
       "      <th>4</th>\n",
       "      <td>WD2019-0213</td>\n",
       "      <td>07S22E20</td>\n",
       "      <td>2101</td>\n",
       "      <td>Wheeler</td>\n",
       "      <td>44.936798</td>\n",
       "      <td>-120.123687</td>\n",
       "      <td>https://docs.dsl.state.or.us/PublicReview/Elec...</td>\n",
       "      <td>4128</td>\n",
       "      <td>2019</td>\n",
       "      <td>section number</td>\n",
       "      <td>from 20 to 00</td>\n",
       "      <td>07S22E0000</td>\n",
       "      <td>3507.00S22.00E0000--000002101</td>\n",
       "    </tr>\n",
       "    <tr>\n",
       "      <th>5</th>\n",
       "      <td>WD2019-0444</td>\n",
       "      <td>04N29E32B</td>\n",
       "      <td>1102</td>\n",
       "      <td>Umatilla</td>\n",
       "      <td>45.787025</td>\n",
       "      <td>-119.221502</td>\n",
       "      <td>https://docs.dsl.state.or.us/PublicReview/docv...</td>\n",
       "      <td>4147</td>\n",
       "      <td>2019</td>\n",
       "      <td>QQ</td>\n",
       "      <td>from B0 to 00</td>\n",
       "      <td>04N29E3200</td>\n",
       "      <td>3004.00N29.00E3200--000001102</td>\n",
       "    </tr>\n",
       "    <tr>\n",
       "      <th>6</th>\n",
       "      <td>WD2020-0171</td>\n",
       "      <td>05S23E31BC</td>\n",
       "      <td>2600,2500,2400,1100,800,ROW</td>\n",
       "      <td>Gilliam</td>\n",
       "      <td>45.089165</td>\n",
       "      <td>-119.885209</td>\n",
       "      <td>https://docs.dsl.state.or.us/PublicReview/Elec...</td>\n",
       "      <td>4202</td>\n",
       "      <td>2020</td>\n",
       "      <td>range number</td>\n",
       "      <td>from 23 to 24</td>\n",
       "      <td>05S24E31BC</td>\n",
       "      <td>1105.00S24.00E31BC--000002600</td>\n",
       "    </tr>\n",
       "    <tr>\n",
       "      <th>7</th>\n",
       "      <td>WD2020-0358</td>\n",
       "      <td>03S40E16</td>\n",
       "      <td>302</td>\n",
       "      <td>Union</td>\n",
       "      <td>45.296042</td>\n",
       "      <td>-117.820711</td>\n",
       "      <td>https://docs.dsl.state.or.us/PublicReview/Elec...</td>\n",
       "      <td>4233</td>\n",
       "      <td>2020</td>\n",
       "      <td>section number</td>\n",
       "      <td>from 16 to 21</td>\n",
       "      <td>03S40E2100</td>\n",
       "      <td>3103.00S40.00E2100--000000200</td>\n",
       "    </tr>\n",
       "  </tbody>\n",
       "</table>\n",
       "</div>"
      ],
      "text/plain": [
       "  wetdet_delin_number       trsqq                    parcel_id    county  \\\n",
       "0         WD2021-0038    04S39E06                         2500     Union   \n",
       "1         WD2018-0169   06S08E12D                         400p      Polk   \n",
       "2         WD2021-0410     4N29E0A                    200p,300p  Umatilla   \n",
       "3         WD2019-0609    05N28E13                    1700,1800  Umatilla   \n",
       "4         WD2019-0213    07S22E20                         2101   Wheeler   \n",
       "5         WD2019-0444   04N29E32B                         1102  Umatilla   \n",
       "6         WD2020-0171  05S23E31BC  2600,2500,2400,1100,800,ROW   Gilliam   \n",
       "7         WD2020-0358    03S40E16                          302     Union   \n",
       "\n",
       "    latitude   longitude                                       DecisionLink  \\\n",
       "0  45.241586 -117.985814  https://docs.dsl.state.or.us/PublicReview/docv...   \n",
       "1  45.062693 -123.608810  https://docs.dsl.state.or.us/PublicReview/docv...   \n",
       "2  45.849426 -119.239912  https://docs.dsl.state.or.us/PublicReview/Elec...   \n",
       "3  45.920580 -119.254120  https://docs.dsl.state.or.us/PublicReview/Elec...   \n",
       "4  44.936798 -120.123687  https://docs.dsl.state.or.us/PublicReview/Elec...   \n",
       "5  45.787025 -119.221502  https://docs.dsl.state.or.us/PublicReview/docv...   \n",
       "6  45.089165 -119.885209  https://docs.dsl.state.or.us/PublicReview/Elec...   \n",
       "7  45.296042 -117.820711  https://docs.dsl.state.or.us/PublicReview/Elec...   \n",
       "\n",
       "   record_ID  IDyear                            correct_type  \\\n",
       "0       4263    2021                          section number   \n",
       "1       4036    2018  township direction and range direction   \n",
       "2       4291    2021                               to review   \n",
       "3       4167    2019      range direction and section number   \n",
       "4       4128    2019                          section number   \n",
       "5       4147    2019                                      QQ   \n",
       "6       4202    2020                            range number   \n",
       "7       4233    2020                          section number   \n",
       "\n",
       "                                          correction   cor_trsqq  \\\n",
       "0                                      from 06 to 00  04S39E0000   \n",
       "1                            from S and E to N and W  06N08W12D0   \n",
       "2  some lots are not matched, need to review trsq...  04N29E06C0   \n",
       "3                          from E and 13 to EA and 0  05N28EA000   \n",
       "4                                      from 20 to 00  07S22E0000   \n",
       "5                                      from B0 to 00  04N29E3200   \n",
       "6                                      from 23 to 24  05S24E31BC   \n",
       "7                                      from 16 to 21  03S40E2100   \n",
       "\n",
       "                        ORTaxlot  \n",
       "0  3104.00S39.00E0000--000002500  \n",
       "1  2706.00N08.00W12D0--000000400  \n",
       "2  3004.00N29.00E06C0--000004601  \n",
       "3  3005.00N28.00EA000--000001800  \n",
       "4  3507.00S22.00E0000--000002101  \n",
       "5  3004.00N29.00E3200--000001102  \n",
       "6  1105.00S24.00E31BC--000002600  \n",
       "7  3103.00S40.00E2100--000000200  "
      ]
     },
     "execution_count": 367,
     "metadata": {},
     "output_type": "execute_result"
    }
   ],
   "source": [
    "notes"
   ]
  },
  {
   "cell_type": "code",
   "execution_count": 370,
   "id": "0219935d",
   "metadata": {},
   "outputs": [],
   "source": [
    "i=6"
   ]
  },
  {
   "cell_type": "code",
   "execution_count": 372,
   "id": "58515b77",
   "metadata": {},
   "outputs": [],
   "source": [
    "i = i+1"
   ]
  },
  {
   "cell_type": "code",
   "execution_count": 369,
   "id": "464edc5e",
   "metadata": {},
   "outputs": [
    {
     "data": {
      "text/plain": [
       "7"
      ]
     },
     "execution_count": 369,
     "metadata": {},
     "output_type": "execute_result"
    }
   ],
   "source": [
    "i"
   ]
  },
  {
   "cell_type": "code",
   "execution_count": 373,
   "id": "9ef09850",
   "metadata": {},
   "outputs": [
    {
     "data": {
      "text/plain": [
       "wetdet_delin_number                      WD2020-0358\n",
       "record_ID                                       4233\n",
       "trsqq                                       03S40E16\n",
       "county                                         Union\n",
       "correct_type                          section number\n",
       "correction                             from 16 to 21\n",
       "cor_trsqq                                 03S40E2100\n",
       "parcel_id                                        302\n",
       "ORTaxlot               3103.00S40.00E2100--000000200\n",
       "Name: 7, dtype: object"
      ]
     },
     "execution_count": 373,
     "metadata": {},
     "output_type": "execute_result"
    }
   ],
   "source": [
    "notes.loc[i, ['wetdet_delin_number', 'record_ID', 'trsqq', 'county', 'correct_type', \n",
    "              'correction', 'cor_trsqq', 'parcel_id', 'ORTaxlot']]"
   ]
  },
  {
   "cell_type": "code",
   "execution_count": 31,
   "id": "5e44aabb",
   "metadata": {},
   "outputs": [
    {
     "data": {
      "text/plain": [
       "Index(['wetdet_delin_number', 'trsqq', 'parcel_id', 'county', 'latitude',\n",
       "       'longitude', 'DecisionLink', 'record_ID', 'IDyear', 'correct_type',\n",
       "       'correction', 'cor_trsqq', 'ORTaxlot'],\n",
       "      dtype='object')"
      ]
     },
     "execution_count": 31,
     "metadata": {},
     "output_type": "execute_result"
    }
   ],
   "source": [
    "notes.columns"
   ]
  },
  {
   "cell_type": "code",
   "execution_count": 46,
   "id": "16b88637",
   "metadata": {},
   "outputs": [
    {
     "name": "stdout",
     "output_type": "stream",
     "text": [
      "https://docs.dsl.state.or.us/PublicReview/ElectronicFile.aspx?docid=3918190&dbid=0\n"
     ]
    }
   ],
   "source": [
    "print(notes.loc[1, 'DecisionLink'])"
   ]
  },
  {
   "cell_type": "code",
   "execution_count": 374,
   "id": "64eeffba",
   "metadata": {
    "scrolled": true
   },
   "outputs": [
    {
     "name": "stdout",
     "output_type": "stream",
     "text": [
      "wetdet_delin_number      WD2020-0358\n",
      "correction             from 16 to 21\n",
      "Name: 7, dtype: object\n"
     ]
    }
   ],
   "source": [
    "print(notes.loc[i, ['wetdet_delin_number', 'correction']])"
   ]
  },
  {
   "cell_type": "code",
   "execution_count": 381,
   "id": "dc7951ed",
   "metadata": {},
   "outputs": [],
   "source": [
    "wdID = notes.loc[i,'wetdet_delin_number']"
   ]
  },
  {
   "cell_type": "code",
   "execution_count": 399,
   "id": "3ad4215d",
   "metadata": {},
   "outputs": [],
   "source": [
    "wdID = 'WD2020-0012'"
   ]
  },
  {
   "cell_type": "code",
   "execution_count": 377,
   "id": "a55a813b",
   "metadata": {},
   "outputs": [
    {
     "data": {
      "text/plain": [
       "True"
      ]
     },
     "execution_count": 377,
     "metadata": {},
     "output_type": "execute_result"
    }
   ],
   "source": [
    "url = wd.loc[wd.wetdet_delin_number == wdID, 'DecisionLink'].values[0]\n",
    "webbrowser.open(url)"
   ]
  },
  {
   "cell_type": "code",
   "execution_count": 20,
   "id": "b87e4820",
   "metadata": {},
   "outputs": [
    {
     "data": {
      "text/plain": [
       "<AxesSubplot:>"
      ]
     },
     "execution_count": 20,
     "metadata": {},
     "output_type": "execute_result"
    },
    {
     "data": {
      "image/png": "[encoded data removed]",
      "text/plain": [
       "<Figure size 432x288 with 1 Axes>"
      ]
     },
     "metadata": {
      "needs_background": "light"
     },
     "output_type": "display_data"
    }
   ],
   "source": [
    "all_taxlot[all_taxlot.ORTaxlot==notes.loc[i,'ORTaxlot']].plot()"
   ]
  },
  {
   "cell_type": "code",
   "execution_count": 401,
   "id": "a5891014",
   "metadata": {
    "scrolled": true
   },
   "outputs": [
    {
     "data": {
      "text/html": [
       "<div>\n",
       "<style scoped>\n",
       "    .dataframe tbody tr th:only-of-type {\n",
       "        vertical-align: middle;\n",
       "    }\n",
       "\n",
       "    .dataframe tbody tr th {\n",
       "        vertical-align: top;\n",
       "    }\n",
       "\n",
       "    .dataframe thead th {\n",
       "        text-align: right;\n",
       "    }\n",
       "</style>\n",
       "<table border=\"1\" class=\"dataframe\">\n",
       "  <thead>\n",
       "    <tr style=\"text-align: right;\">\n",
       "      <th></th>\n",
       "      <th>wetdet_delin_number</th>\n",
       "      <th>county</th>\n",
       "      <th>trsqq</th>\n",
       "      <th>parcel_id</th>\n",
       "      <th>latitude</th>\n",
       "      <th>longitude</th>\n",
       "      <th>record_ID</th>\n",
       "      <th>notes</th>\n",
       "    </tr>\n",
       "  </thead>\n",
       "  <tbody>\n",
       "    <tr>\n",
       "      <th>255</th>\n",
       "      <td>WD2020-0012</td>\n",
       "      <td>Union</td>\n",
       "      <td>02S38E35</td>\n",
       "      <td>1100</td>\n",
       "      <td>45.334287</td>\n",
       "      <td>-118.046058</td>\n",
       "      <td>4188</td>\n",
       "      <td></td>\n",
       "    </tr>\n",
       "    <tr>\n",
       "      <th>256</th>\n",
       "      <td>WD2020-0012</td>\n",
       "      <td>Union</td>\n",
       "      <td>03S38E03</td>\n",
       "      <td>200,300,3400,1600,1400,1300,</td>\n",
       "      <td>45.334287</td>\n",
       "      <td>-118.046058</td>\n",
       "      <td>4189</td>\n",
       "      <td></td>\n",
       "    </tr>\n",
       "    <tr>\n",
       "      <th>257</th>\n",
       "      <td>WD2020-0012</td>\n",
       "      <td>Union</td>\n",
       "      <td>03S38E03</td>\n",
       "      <td>1100,1000,700,800,3100,3200,</td>\n",
       "      <td>45.334287</td>\n",
       "      <td>-118.046058</td>\n",
       "      <td>4190</td>\n",
       "      <td></td>\n",
       "    </tr>\n",
       "    <tr>\n",
       "      <th>258</th>\n",
       "      <td>WD2020-0012</td>\n",
       "      <td>Union</td>\n",
       "      <td>03S38E03</td>\n",
       "      <td>2108</td>\n",
       "      <td>45.334287</td>\n",
       "      <td>-118.046058</td>\n",
       "      <td>4191</td>\n",
       "      <td></td>\n",
       "    </tr>\n",
       "    <tr>\n",
       "      <th>259</th>\n",
       "      <td>WD2020-0012</td>\n",
       "      <td>Union</td>\n",
       "      <td>02S38E34</td>\n",
       "      <td>600,700,900,1200,2103</td>\n",
       "      <td>45.334287</td>\n",
       "      <td>-118.046058</td>\n",
       "      <td>4192</td>\n",
       "      <td></td>\n",
       "    </tr>\n",
       "  </tbody>\n",
       "</table>\n",
       "</div>"
      ],
      "text/plain": [
       "    wetdet_delin_number county     trsqq                     parcel_id  \\\n",
       "255         WD2020-0012  Union  02S38E35                          1100   \n",
       "256         WD2020-0012  Union  03S38E03  200,300,3400,1600,1400,1300,   \n",
       "257         WD2020-0012  Union  03S38E03  1100,1000,700,800,3100,3200,   \n",
       "258         WD2020-0012  Union  03S38E03                          2108   \n",
       "259         WD2020-0012  Union  02S38E34         600,700,900,1200,2103   \n",
       "\n",
       "      latitude   longitude  record_ID notes  \n",
       "255  45.334287 -118.046058       4188        \n",
       "256  45.334287 -118.046058       4189        \n",
       "257  45.334287 -118.046058       4190        \n",
       "258  45.334287 -118.046058       4191        \n",
       "259  45.334287 -118.046058       4192        "
      ]
     },
     "execution_count": 401,
     "metadata": {},
     "output_type": "execute_result"
    }
   ],
   "source": [
    "selcols = ['wetdet_delin_number', 'county', 'trsqq', 'parcel_id', 'latitude', 'longitude', 'record_ID', 'notes']\n",
    "wd.loc[wd.wetdet_delin_number == wdID, selcols]"
   ]
  },
  {
   "cell_type": "code",
   "execution_count": 400,
   "id": "4e5edf99",
   "metadata": {},
   "outputs": [
    {
     "data": {
      "text/html": [
       "<div>\n",
       "<style scoped>\n",
       "    .dataframe tbody tr th:only-of-type {\n",
       "        vertical-align: middle;\n",
       "    }\n",
       "\n",
       "    .dataframe tbody tr th {\n",
       "        vertical-align: top;\n",
       "    }\n",
       "\n",
       "    .dataframe thead th {\n",
       "        text-align: right;\n",
       "    }\n",
       "</style>\n",
       "<table border=\"1\" class=\"dataframe\">\n",
       "  <thead>\n",
       "    <tr style=\"text-align: right;\">\n",
       "      <th></th>\n",
       "      <th>Longitude</th>\n",
       "      <th>Latitude</th>\n",
       "      <th>geometry</th>\n",
       "    </tr>\n",
       "  </thead>\n",
       "  <tbody>\n",
       "    <tr>\n",
       "      <th>0</th>\n",
       "      <td>-118.046058</td>\n",
       "      <td>45.334287</td>\n",
       "      <td>POINT (1943298.673 1315946.603)</td>\n",
       "    </tr>\n",
       "  </tbody>\n",
       "</table>\n",
       "</div>"
      ],
      "text/plain": [
       "    Longitude   Latitude                         geometry\n",
       "0 -118.046058  45.334287  POINT (1943298.673 1315946.603)"
      ]
     },
     "execution_count": 400,
     "metadata": {},
     "output_type": "execute_result"
    }
   ],
   "source": [
    "lon=wd.loc[wd.wetdet_delin_number == wdID, 'longitude'].values[0]\n",
    "lat=wd.loc[wd.wetdet_delin_number == wdID, 'latitude'].values[0]\n",
    "get_point_from_lonlat(lon=lon, lat=lat)"
   ]
  },
  {
   "cell_type": "code",
   "execution_count": 225,
   "id": "e50a8319",
   "metadata": {},
   "outputs": [],
   "source": [
    "wd_pt  = get_point_from_lonlat(lon = lon, lat = lat)"
   ]
  },
  {
   "cell_type": "code",
   "execution_count": 99,
   "id": "64c25cad",
   "metadata": {},
   "outputs": [],
   "source": [
    "taxlot = all_taxlot"
   ]
  },
  {
   "cell_type": "code",
   "execution_count": 226,
   "id": "d3799485",
   "metadata": {},
   "outputs": [],
   "source": [
    "year = 2021"
   ]
  },
  {
   "cell_type": "code",
   "execution_count": 227,
   "id": "21be3568",
   "metadata": {},
   "outputs": [],
   "source": [
    "tID = extract_taxlot_info(wd_pt = wd_pt, taxlot = taxlot, year = year)"
   ]
  },
  {
   "cell_type": "code",
   "execution_count": 228,
   "id": "fac8a034",
   "metadata": {},
   "outputs": [
    {
     "data": {
      "text/plain": [
       "'3004.00N29.00E06C0--000004601'"
      ]
     },
     "execution_count": 228,
     "metadata": {},
     "output_type": "execute_result"
    }
   ],
   "source": [
    "tID"
   ]
  },
  {
   "cell_type": "code",
   "execution_count": 385,
   "id": "36c7e7bf",
   "metadata": {},
   "outputs": [
    {
     "data": {
      "text/plain": [
       "'section number'"
      ]
     },
     "execution_count": 385,
     "metadata": {},
     "output_type": "execute_result"
    }
   ],
   "source": [
    "ctyp = notes.loc[i,'correct_type']#.split(' and ')[1]\n",
    "ctyp"
   ]
  },
  {
   "cell_type": "code",
   "execution_count": 85,
   "id": "9aa93248",
   "metadata": {},
   "outputs": [],
   "source": [
    "ctyp = 'QQ'"
   ]
  },
  {
   "cell_type": "code",
   "execution_count": 386,
   "id": "3ca02295",
   "metadata": {
    "scrolled": true
   },
   "outputs": [
    {
     "data": {
      "text/plain": [
       "'from 16 to 21'"
      ]
     },
     "execution_count": 386,
     "metadata": {},
     "output_type": "execute_result"
    }
   ],
   "source": [
    "crt = notes.loc[i,'correction']\n",
    "crt"
   ]
  },
  {
   "cell_type": "code",
   "execution_count": 387,
   "id": "0d4da899",
   "metadata": {},
   "outputs": [
    {
     "data": {
      "text/plain": [
       "['16', '21']"
      ]
     },
     "execution_count": 387,
     "metadata": {},
     "output_type": "execute_result"
    }
   ],
   "source": [
    "ft = crt.split('from ')[1].split(' to ')\n",
    "ft"
   ]
  },
  {
   "cell_type": "code",
   "execution_count": 86,
   "id": "168c0db1",
   "metadata": {},
   "outputs": [],
   "source": [
    "ft = ['1N1E33AC', '01N01E33AC']"
   ]
  },
  {
   "cell_type": "code",
   "execution_count": 73,
   "id": "ceef3cd3",
   "metadata": {},
   "outputs": [],
   "source": [
    "ft[0] = '00'"
   ]
  },
  {
   "cell_type": "code",
   "execution_count": 38,
   "id": "f7c4360d",
   "metadata": {},
   "outputs": [],
   "source": [
    "ft[1] = 'DB'"
   ]
  },
  {
   "cell_type": "code",
   "execution_count": 39,
   "id": "d5e01d71",
   "metadata": {
    "scrolled": true
   },
   "outputs": [
    {
     "data": {
      "text/plain": [
       "['Multnomah', 'Washington']"
      ]
     },
     "execution_count": 39,
     "metadata": {},
     "output_type": "execute_result"
    }
   ],
   "source": [
    "ft"
   ]
  },
  {
   "cell_type": "code",
   "execution_count": 517,
   "id": "28a6e03f",
   "metadata": {},
   "outputs": [],
   "source": [
    "f = crt.split('from ')[1].split(' and ')[0]\n",
    "t = crt.split(' to ')[1].split(' and ')[0]"
   ]
  },
  {
   "cell_type": "code",
   "execution_count": 523,
   "id": "6e76a794",
   "metadata": {},
   "outputs": [],
   "source": [
    "f = crt.split(' and ')[1].split(' to ')[0]\n",
    "t = crt.split(' and ')[2]"
   ]
  },
  {
   "cell_type": "code",
   "execution_count": 524,
   "id": "0a4ea532",
   "metadata": {},
   "outputs": [
    {
     "name": "stdout",
     "output_type": "stream",
     "text": [
      "Q VE\n"
     ]
    }
   ],
   "source": [
    "print(f, t)"
   ]
  },
  {
   "cell_type": "code",
   "execution_count": 390,
   "id": "d51acc68",
   "metadata": {},
   "outputs": [
    {
     "data": {
      "text/plain": [
       "4233"
      ]
     },
     "execution_count": 390,
     "metadata": {},
     "output_type": "execute_result"
    }
   ],
   "source": [
    "rID = notes.loc[i,'record_ID']\n",
    "rID"
   ]
  },
  {
   "cell_type": "code",
   "execution_count": 391,
   "id": "9a976998",
   "metadata": {},
   "outputs": [],
   "source": [
    "df = pd.read_csv(os.path.join(inpath + '\\\\output\\\\to_review\\\\', f'unmatched_df_{setID}_r2_{ml}_notes.csv'))"
   ]
  },
  {
   "cell_type": "code",
   "execution_count": 307,
   "id": "8ccd1208",
   "metadata": {},
   "outputs": [],
   "source": [
    "df = df.append({'wetdet_delin_number': 'WD2019-0487', 'record_ID': rID, 'field': 'trsqq', 'cor_type': ctyp, 'from': ft[0], 'to': ft[1]},\n",
    "        ignore_index = True)"
   ]
  },
  {
   "cell_type": "code",
   "execution_count": 361,
   "id": "c0cb0387",
   "metadata": {},
   "outputs": [],
   "source": [
    "df = df.append({'wetdet_delin_number': wdID, 'record_ID': rID, 'field': 'trsqq', 'cor_type': 'section number', 'from': '01', 'to': '1'},\n",
    "        ignore_index = True)"
   ]
  },
  {
   "cell_type": "code",
   "execution_count": 392,
   "id": "b24eb3be",
   "metadata": {},
   "outputs": [],
   "source": [
    "df = df.append({'wetdet_delin_number': wdID, 'record_ID': rID, 'field': 'trsqq', 'cor_type': ctyp, 'from': ft[0], 'to': ft[1]},\n",
    "        ignore_index = True)"
   ]
  },
  {
   "cell_type": "code",
   "execution_count": 189,
   "id": "88721252",
   "metadata": {},
   "outputs": [],
   "source": [
    "df = df.append({'wetdet_delin_number': wdID, 'record_ID': rID, 'field': 'county', 'cor_type': 'county', 'from': ft[0], 'to': ft[1]},\n",
    "        ignore_index = True)"
   ]
  },
  {
   "cell_type": "code",
   "execution_count": 255,
   "id": "92c4878c",
   "metadata": {},
   "outputs": [],
   "source": [
    "df = df.append({'wetdet_delin_number': wdID, 'record_ID': rID, 'field': 'parcel_id', 'cor_type': 'parcel id', 'from': '200p,300p', 'to': '300p'},\n",
    "        ignore_index = True)"
   ]
  },
  {
   "cell_type": "code",
   "execution_count": 525,
   "id": "ed8d3195",
   "metadata": {},
   "outputs": [],
   "source": [
    "df = df.append({'wetdet_delin_number': wdID, 'record_ID': rID, 'field': 'trsqq', 'cor_type': ctyp, 'from': f, 'to': t},\n",
    "        ignore_index = True)"
   ]
  },
  {
   "cell_type": "code",
   "execution_count": 597,
   "id": "51fedf38",
   "metadata": {},
   "outputs": [],
   "source": [
    "df = df.append({'wetdet_delin_number': wdID, 'record_ID': rID, 'field': 'county', 'cor_type': 'county', 'from': 'Benton', 'to': 'Polk'},\n",
    "        ignore_index = True)"
   ]
  },
  {
   "cell_type": "code",
   "execution_count": 393,
   "id": "168bf084",
   "metadata": {},
   "outputs": [
    {
     "data": {
      "text/html": [
       "<div>\n",
       "<style scoped>\n",
       "    .dataframe tbody tr th:only-of-type {\n",
       "        vertical-align: middle;\n",
       "    }\n",
       "\n",
       "    .dataframe tbody tr th {\n",
       "        vertical-align: top;\n",
       "    }\n",
       "\n",
       "    .dataframe thead th {\n",
       "        text-align: right;\n",
       "    }\n",
       "</style>\n",
       "<table border=\"1\" class=\"dataframe\">\n",
       "  <thead>\n",
       "    <tr style=\"text-align: right;\">\n",
       "      <th></th>\n",
       "      <th>wetdet_delin_number</th>\n",
       "      <th>record_ID</th>\n",
       "      <th>field</th>\n",
       "      <th>cor_type</th>\n",
       "      <th>from</th>\n",
       "      <th>to</th>\n",
       "    </tr>\n",
       "  </thead>\n",
       "  <tbody>\n",
       "    <tr>\n",
       "      <th>0</th>\n",
       "      <td>WD2021-0410</td>\n",
       "      <td>4290</td>\n",
       "      <td>parcel_id</td>\n",
       "      <td>parcel id</td>\n",
       "      <td>101,500,600,All part</td>\n",
       "      <td>101,200,500,600,All part</td>\n",
       "    </tr>\n",
       "    <tr>\n",
       "      <th>1</th>\n",
       "      <td>WD2021-0410</td>\n",
       "      <td>4291</td>\n",
       "      <td>parcel_id</td>\n",
       "      <td>parcel id</td>\n",
       "      <td>200p,300p</td>\n",
       "      <td>300p</td>\n",
       "    </tr>\n",
       "    <tr>\n",
       "      <th>2</th>\n",
       "      <td>WD2021-0038</td>\n",
       "      <td>4263</td>\n",
       "      <td>trsqq</td>\n",
       "      <td>section number</td>\n",
       "      <td>6</td>\n",
       "      <td>0</td>\n",
       "    </tr>\n",
       "    <tr>\n",
       "      <th>3</th>\n",
       "      <td>WD2018-0169</td>\n",
       "      <td>4036</td>\n",
       "      <td>trsqq</td>\n",
       "      <td>township direction</td>\n",
       "      <td>S</td>\n",
       "      <td>N</td>\n",
       "    </tr>\n",
       "    <tr>\n",
       "      <th>4</th>\n",
       "      <td>WD2018-0169</td>\n",
       "      <td>4036</td>\n",
       "      <td>trsqq</td>\n",
       "      <td>range direction</td>\n",
       "      <td>E</td>\n",
       "      <td>W</td>\n",
       "    </tr>\n",
       "    <tr>\n",
       "      <th>5</th>\n",
       "      <td>WD2019-0609</td>\n",
       "      <td>4167</td>\n",
       "      <td>trsqq</td>\n",
       "      <td>range direction</td>\n",
       "      <td>E</td>\n",
       "      <td>EA</td>\n",
       "    </tr>\n",
       "    <tr>\n",
       "      <th>6</th>\n",
       "      <td>WD2019-0609</td>\n",
       "      <td>4167</td>\n",
       "      <td>trsqq</td>\n",
       "      <td>section number</td>\n",
       "      <td>13</td>\n",
       "      <td>0</td>\n",
       "    </tr>\n",
       "    <tr>\n",
       "      <th>7</th>\n",
       "      <td>WD2019-0213</td>\n",
       "      <td>4128</td>\n",
       "      <td>trsqq</td>\n",
       "      <td>section number</td>\n",
       "      <td>20</td>\n",
       "      <td>0</td>\n",
       "    </tr>\n",
       "    <tr>\n",
       "      <th>8</th>\n",
       "      <td>WD2019-0444</td>\n",
       "      <td>4147</td>\n",
       "      <td>trsqq</td>\n",
       "      <td>QQ</td>\n",
       "      <td>B0</td>\n",
       "      <td>0</td>\n",
       "    </tr>\n",
       "    <tr>\n",
       "      <th>9</th>\n",
       "      <td>WD2020-0171</td>\n",
       "      <td>4202</td>\n",
       "      <td>trsqq</td>\n",
       "      <td>range number</td>\n",
       "      <td>23</td>\n",
       "      <td>24</td>\n",
       "    </tr>\n",
       "    <tr>\n",
       "      <th>10</th>\n",
       "      <td>WD2020-0358</td>\n",
       "      <td>4233</td>\n",
       "      <td>trsqq</td>\n",
       "      <td>section number</td>\n",
       "      <td>16</td>\n",
       "      <td>21</td>\n",
       "    </tr>\n",
       "  </tbody>\n",
       "</table>\n",
       "</div>"
      ],
      "text/plain": [
       "   wetdet_delin_number  record_ID      field            cor_type  \\\n",
       "0          WD2021-0410       4290  parcel_id           parcel id   \n",
       "1          WD2021-0410       4291  parcel_id           parcel id   \n",
       "2          WD2021-0038       4263      trsqq      section number   \n",
       "3          WD2018-0169       4036      trsqq  township direction   \n",
       "4          WD2018-0169       4036      trsqq     range direction   \n",
       "5          WD2019-0609       4167      trsqq     range direction   \n",
       "6          WD2019-0609       4167      trsqq      section number   \n",
       "7          WD2019-0213       4128      trsqq      section number   \n",
       "8          WD2019-0444       4147      trsqq                  QQ   \n",
       "9          WD2020-0171       4202      trsqq        range number   \n",
       "10         WD2020-0358       4233      trsqq      section number   \n",
       "\n",
       "                    from                        to  \n",
       "0   101,500,600,All part  101,200,500,600,All part  \n",
       "1              200p,300p                      300p  \n",
       "2                      6                         0  \n",
       "3                      S                         N  \n",
       "4                      E                         W  \n",
       "5                      E                        EA  \n",
       "6                     13                         0  \n",
       "7                     20                         0  \n",
       "8                     B0                         0  \n",
       "9                     23                        24  \n",
       "10                    16                        21  "
      ]
     },
     "execution_count": 393,
     "metadata": {},
     "output_type": "execute_result"
    }
   ],
   "source": [
    "df"
   ]
  },
  {
   "cell_type": "code",
   "execution_count": 169,
   "id": "b77770ef",
   "metadata": {},
   "outputs": [
    {
     "data": {
      "text/html": [
       "<div>\n",
       "<style scoped>\n",
       "    .dataframe tbody tr th:only-of-type {\n",
       "        vertical-align: middle;\n",
       "    }\n",
       "\n",
       "    .dataframe tbody tr th {\n",
       "        vertical-align: top;\n",
       "    }\n",
       "\n",
       "    .dataframe thead th {\n",
       "        text-align: right;\n",
       "    }\n",
       "</style>\n",
       "<table border=\"1\" class=\"dataframe\">\n",
       "  <thead>\n",
       "    <tr style=\"text-align: right;\">\n",
       "      <th></th>\n",
       "      <th>wetdet_delin_number</th>\n",
       "      <th>record_ID</th>\n",
       "      <th>field</th>\n",
       "      <th>cor_type</th>\n",
       "      <th>from</th>\n",
       "      <th>to</th>\n",
       "    </tr>\n",
       "  </thead>\n",
       "  <tbody>\n",
       "    <tr>\n",
       "      <th>0</th>\n",
       "      <td>WD2021-0038</td>\n",
       "      <td>4263</td>\n",
       "      <td>trsqq</td>\n",
       "      <td>section number</td>\n",
       "      <td>06</td>\n",
       "      <td>00</td>\n",
       "    </tr>\n",
       "  </tbody>\n",
       "</table>\n",
       "</div>"
      ],
      "text/plain": [
       "  wetdet_delin_number record_ID  field        cor_type from  to\n",
       "0         WD2021-0038      4263  trsqq  section number   06  00"
      ]
     },
     "execution_count": 169,
     "metadata": {},
     "output_type": "execute_result"
    }
   ],
   "source": [
    "df.head()"
   ]
  },
  {
   "cell_type": "code",
   "execution_count": 70,
   "id": "c1e39272",
   "metadata": {},
   "outputs": [],
   "source": [
    "df.loc[2, 'field'] = 'parcel_id'"
   ]
  },
  {
   "cell_type": "code",
   "execution_count": 394,
   "id": "3aeecdf0",
   "metadata": {},
   "outputs": [],
   "source": [
    "df.to_csv(os.path.join(inpath + '\\\\output\\\\to_review\\\\', f'unmatched_df_{setID}_r2_{ml}_notes.csv'), index=False)"
   ]
  },
  {
   "cell_type": "code",
   "execution_count": 171,
   "id": "5d3f8a8a",
   "metadata": {},
   "outputs": [
    {
     "data": {
      "text/plain": [
       "(1, 6)"
      ]
     },
     "execution_count": 171,
     "metadata": {},
     "output_type": "execute_result"
    }
   ],
   "source": [
    "df.shape"
   ]
  },
  {
   "cell_type": "code",
   "execution_count": 402,
   "id": "0a060bcc",
   "metadata": {},
   "outputs": [],
   "source": [
    "r1df = pd.read_csv(os.path.join(inpath + f'\\\\output\\\\to_review\\\\unmatched_df_{setID}_r1_N.csv'))"
   ]
  },
  {
   "cell_type": "code",
   "execution_count": 215,
   "id": "462a4794",
   "metadata": {},
   "outputs": [
    {
     "data": {
      "text/plain": [
       "Index(['wetdet_delin_number', 'trsqq', 'parcel_id', 'address_location_desc',\n",
       "       'city', 'county', 'site_name', 'site_desc', 'latitude', 'longitude',\n",
       "       'DocumentName', 'DecisionLink', 'is_batch_file', 'status_name',\n",
       "       'received_date', 'Coord-Source', 'response_date',\n",
       "       'reissuance_response_date', 'project_id', 'site_id', 'record_ID',\n",
       "       'notes', 'recyear', 'IDyear', 'missinglot'],\n",
       "      dtype='object')"
      ]
     },
     "execution_count": 215,
     "metadata": {},
     "output_type": "execute_result"
    }
   ],
   "source": [
    "r1df.columns"
   ]
  },
  {
   "cell_type": "code",
   "execution_count": 403,
   "id": "12923021",
   "metadata": {},
   "outputs": [],
   "source": [
    "wdIDs = r1df.wetdet_delin_number.unique()"
   ]
  },
  {
   "cell_type": "code",
   "execution_count": 404,
   "id": "f3569144",
   "metadata": {},
   "outputs": [],
   "source": [
    "i = 0"
   ]
  },
  {
   "cell_type": "code",
   "execution_count": 409,
   "id": "a82eb3b6",
   "metadata": {},
   "outputs": [],
   "source": [
    "i = i + 1"
   ]
  },
  {
   "cell_type": "code",
   "execution_count": 89,
   "id": "9effe996",
   "metadata": {},
   "outputs": [
    {
     "data": {
      "text/plain": [
       "5"
      ]
     },
     "execution_count": 89,
     "metadata": {},
     "output_type": "execute_result"
    }
   ],
   "source": [
    "i"
   ]
  },
  {
   "cell_type": "code",
   "execution_count": 433,
   "id": "0fc1fdbf",
   "metadata": {},
   "outputs": [],
   "source": [
    "df = pd.read_csv(os.path.join(inpath + '\\\\output\\\\to_review\\\\', f'unmatched_df_{setID}_r1_{ml}_notes.csv'))"
   ]
  },
  {
   "cell_type": "code",
   "execution_count": 410,
   "id": "d123339f",
   "metadata": {},
   "outputs": [
    {
     "data": {
      "text/html": [
       "<div>\n",
       "<style scoped>\n",
       "    .dataframe tbody tr th:only-of-type {\n",
       "        vertical-align: middle;\n",
       "    }\n",
       "\n",
       "    .dataframe tbody tr th {\n",
       "        vertical-align: top;\n",
       "    }\n",
       "\n",
       "    .dataframe thead th {\n",
       "        text-align: right;\n",
       "    }\n",
       "</style>\n",
       "<table border=\"1\" class=\"dataframe\">\n",
       "  <thead>\n",
       "    <tr style=\"text-align: right;\">\n",
       "      <th></th>\n",
       "      <th>wetdet_delin_number</th>\n",
       "      <th>trsqq</th>\n",
       "      <th>parcel_id</th>\n",
       "      <th>county</th>\n",
       "      <th>latitude</th>\n",
       "      <th>longitude</th>\n",
       "      <th>record_ID</th>\n",
       "    </tr>\n",
       "  </thead>\n",
       "  <tbody>\n",
       "    <tr>\n",
       "      <th>4</th>\n",
       "      <td>WD2019-0561</td>\n",
       "      <td>05N28E13</td>\n",
       "      <td>1900, 2000, 2100</td>\n",
       "      <td>Umatilla</td>\n",
       "      <td>45.920360</td>\n",
       "      <td>-119.247976</td>\n",
       "      <td>4155</td>\n",
       "    </tr>\n",
       "    <tr>\n",
       "      <th>5</th>\n",
       "      <td>WD2019-0561</td>\n",
       "      <td>05N29E18</td>\n",
       "      <td>600</td>\n",
       "      <td>Umatilla</td>\n",
       "      <td>45.920103</td>\n",
       "      <td>-119.237708</td>\n",
       "      <td>4156</td>\n",
       "    </tr>\n",
       "  </tbody>\n",
       "</table>\n",
       "</div>"
      ],
      "text/plain": [
       "  wetdet_delin_number     trsqq         parcel_id    county   latitude  \\\n",
       "4         WD2019-0561  05N28E13  1900, 2000, 2100  Umatilla  45.920360   \n",
       "5         WD2019-0561  05N29E18               600  Umatilla  45.920103   \n",
       "\n",
       "    longitude  record_ID  \n",
       "4 -119.247976       4155  \n",
       "5 -119.237708       4156  "
      ]
     },
     "execution_count": 410,
     "metadata": {},
     "output_type": "execute_result"
    }
   ],
   "source": [
    "r1df.loc[r1df.wetdet_delin_number == wdIDs[i], ['wetdet_delin_number', 'trsqq', 'parcel_id', 'county', \n",
    "                                                'latitude', 'longitude', 'record_ID']]"
   ]
  },
  {
   "cell_type": "code",
   "execution_count": 411,
   "id": "86eabd8f",
   "metadata": {},
   "outputs": [],
   "source": [
    "url = r1df.loc[r1df.wetdet_delin_number == wdIDs[i], 'DecisionLink'].values[0]\n",
    "if str(url) == 'nan':\n",
    "    print('Decision link is not available')\n",
    "else:\n",
    "    webbrowser.open(url)"
   ]
  },
  {
   "cell_type": "code",
   "execution_count": 417,
   "id": "1d0a66e5",
   "metadata": {},
   "outputs": [],
   "source": [
    "j=0"
   ]
  },
  {
   "cell_type": "code",
   "execution_count": 413,
   "id": "232e50d2",
   "metadata": {},
   "outputs": [],
   "source": [
    "sel = r1df.wetdet_delin_number == wdIDs[i]"
   ]
  },
  {
   "cell_type": "code",
   "execution_count": 425,
   "id": "97077b72",
   "metadata": {},
   "outputs": [],
   "source": [
    "j = j + 1"
   ]
  },
  {
   "cell_type": "code",
   "execution_count": 427,
   "id": "4cadefdf",
   "metadata": {},
   "outputs": [
    {
     "data": {
      "text/plain": [
       "1"
      ]
     },
     "execution_count": 427,
     "metadata": {},
     "output_type": "execute_result"
    }
   ],
   "source": [
    "j"
   ]
  },
  {
   "cell_type": "code",
   "execution_count": 428,
   "id": "99b38a72",
   "metadata": {},
   "outputs": [
    {
     "name": "stdout",
     "output_type": "stream",
     "text": [
      "reviewing WD2019-0561\n",
      "all lots are matched...\n",
      "corrected trsqq...\n",
      "('range direction and section number', 'from E and 18 to EB and 0')\n"
     ]
    }
   ],
   "source": [
    "crt = review_wd_record_w_coord(wd_id=wdIDs[i], \n",
    "                         county_to_check=r1df.loc[sel, 'county'].values[j], \n",
    "                         trsqq_to_check=r1df.loc[sel, 'trsqq'].values[j], \n",
    "                         parcel_IDs_to_check=r1df.loc[sel, 'parcel_id'].values[j], \n",
    "                         lon=r1df.loc[sel, 'longitude'].values[j], \n",
    "                         lat=r1df.loc[sel, 'latitude'].values[j], \n",
    "                         taxlot=all_taxlot, \n",
    "                         year=r1df.loc[sel, 'IDyear'].values[j])\n",
    "print(crt)"
   ]
  },
  {
   "cell_type": "code",
   "execution_count": 419,
   "id": "868d0e24",
   "metadata": {},
   "outputs": [
    {
     "data": {
      "text/plain": [
       "('range direction and section number', 'from E and 13 to EA and 0')"
      ]
     },
     "execution_count": 419,
     "metadata": {},
     "output_type": "execute_result"
    }
   ],
   "source": [
    "crt"
   ]
  },
  {
   "cell_type": "code",
   "execution_count": 415,
   "id": "83ae6626",
   "metadata": {},
   "outputs": [],
   "source": [
    "corrected_trsqq = '05N29EB0'"
   ]
  },
  {
   "cell_type": "code",
   "execution_count": 416,
   "id": "bfa1cc06",
   "metadata": {},
   "outputs": [
    {
     "data": {
      "text/plain": [
       "True"
      ]
     },
     "execution_count": 416,
     "metadata": {},
     "output_type": "execute_result"
    }
   ],
   "source": [
    "corrected_trsqq in trsqq"
   ]
  },
  {
   "cell_type": "code",
   "execution_count": 27,
   "id": "a4cba5c9",
   "metadata": {},
   "outputs": [],
   "source": [
    "txid = create_ORTaxlot(cnt_code=cnt_dict[r1df.loc[sel, 'county'].values[j]], \n",
    "                trsqq=corrected_trsqq, \n",
    "                lot=r1df.loc[sel, 'parcel_id'].values[j])"
   ]
  },
  {
   "cell_type": "code",
   "execution_count": 29,
   "id": "9709d4d3",
   "metadata": {},
   "outputs": [
    {
     "data": {
      "text/plain": [
       "True"
      ]
     },
     "execution_count": 29,
     "metadata": {},
     "output_type": "execute_result"
    }
   ],
   "source": [
    "txid in all_taxlot.ORTaxlot.values"
   ]
  },
  {
   "cell_type": "code",
   "execution_count": 30,
   "id": "4d37ca87",
   "metadata": {},
   "outputs": [
    {
     "data": {
      "text/plain": [
       "<AxesSubplot:>"
      ]
     },
     "execution_count": 30,
     "metadata": {},
     "output_type": "execute_result"
    },
    {
     "data": {
      "image/png": "[encoded data removed]",
      "text/plain": [
       "<Figure size 432x288 with 1 Axes>"
      ]
     },
     "metadata": {
      "needs_background": "light"
     },
     "output_type": "display_data"
    }
   ],
   "source": [
    "all_taxlot[all_taxlot.ORTaxlot==txid].plot()"
   ]
  },
  {
   "cell_type": "code",
   "execution_count": 59,
   "id": "699cc20c",
   "metadata": {},
   "outputs": [],
   "source": [
    "df = pd.DataFrame(columns = ['wetdet_delin_number', 'record_ID', 'field', 'cor_type', 'from', 'to'])"
   ]
  },
  {
   "cell_type": "code",
   "execution_count": 80,
   "id": "037fd401",
   "metadata": {},
   "outputs": [
    {
     "name": "stdout",
     "output_type": "stream",
     "text": [
      "['00', 'B0']\n"
     ]
    }
   ],
   "source": [
    "ft = crt[1].split('from ')[1].split(' to ')\n",
    "print(ft)"
   ]
  },
  {
   "cell_type": "code",
   "execution_count": 73,
   "id": "efbc2870",
   "metadata": {},
   "outputs": [
    {
     "data": {
      "text/plain": [
       "'WD2020-0195'"
      ]
     },
     "execution_count": 73,
     "metadata": {},
     "output_type": "execute_result"
    }
   ],
   "source": [
    "wdIDs[i]"
   ]
  },
  {
   "cell_type": "code",
   "execution_count": 434,
   "id": "f910809e",
   "metadata": {},
   "outputs": [],
   "source": [
    "df = df.append({'wetdet_delin_number': wdIDs[i],\n",
    "                'record_ID': r1df.loc[sel, 'record_ID'].values[j],\n",
    "                'field': 'trsqq', \n",
    "                'cor_type': 'section number', \n",
    "                'from': 18, \n",
    "                'to': 0},\n",
    "        ignore_index = True)"
   ]
  },
  {
   "cell_type": "code",
   "execution_count": 86,
   "id": "8c14970e",
   "metadata": {},
   "outputs": [],
   "source": [
    "df = df.append({'wetdet_delin_number': wdIDs[i],\n",
    "                'record_ID': r1df.loc[sel, 'record_ID'].values[j],\n",
    "                'field': 'trsqq', \n",
    "                'cor_type': crt[0], \n",
    "                'from': ft[0], \n",
    "                'to': ft[1]},\n",
    "        ignore_index = True)"
   ]
  },
  {
   "cell_type": "code",
   "execution_count": 435,
   "id": "d17298ba",
   "metadata": {},
   "outputs": [
    {
     "data": {
      "text/html": [
       "<div>\n",
       "<style scoped>\n",
       "    .dataframe tbody tr th:only-of-type {\n",
       "        vertical-align: middle;\n",
       "    }\n",
       "\n",
       "    .dataframe tbody tr th {\n",
       "        vertical-align: top;\n",
       "    }\n",
       "\n",
       "    .dataframe thead th {\n",
       "        text-align: right;\n",
       "    }\n",
       "</style>\n",
       "<table border=\"1\" class=\"dataframe\">\n",
       "  <thead>\n",
       "    <tr style=\"text-align: right;\">\n",
       "      <th></th>\n",
       "      <th>wetdet_delin_number</th>\n",
       "      <th>record_ID</th>\n",
       "      <th>field</th>\n",
       "      <th>cor_type</th>\n",
       "      <th>from</th>\n",
       "      <th>to</th>\n",
       "    </tr>\n",
       "  </thead>\n",
       "  <tbody>\n",
       "    <tr>\n",
       "      <th>0</th>\n",
       "      <td>WD2019-0561</td>\n",
       "      <td>4155</td>\n",
       "      <td>trsqq</td>\n",
       "      <td>range direction</td>\n",
       "      <td>E</td>\n",
       "      <td>EA</td>\n",
       "    </tr>\n",
       "    <tr>\n",
       "      <th>1</th>\n",
       "      <td>WD2019-0561</td>\n",
       "      <td>4155</td>\n",
       "      <td>trsqq</td>\n",
       "      <td>section number</td>\n",
       "      <td>13</td>\n",
       "      <td>0</td>\n",
       "    </tr>\n",
       "    <tr>\n",
       "      <th>2</th>\n",
       "      <td>WD2019-0561</td>\n",
       "      <td>4156</td>\n",
       "      <td>trsqq</td>\n",
       "      <td>range direction</td>\n",
       "      <td>E</td>\n",
       "      <td>EB</td>\n",
       "    </tr>\n",
       "    <tr>\n",
       "      <th>3</th>\n",
       "      <td>WD2019-0561</td>\n",
       "      <td>4156</td>\n",
       "      <td>trsqq</td>\n",
       "      <td>section number</td>\n",
       "      <td>18</td>\n",
       "      <td>0</td>\n",
       "    </tr>\n",
       "  </tbody>\n",
       "</table>\n",
       "</div>"
      ],
      "text/plain": [
       "  wetdet_delin_number  record_ID  field         cor_type from  to\n",
       "0         WD2019-0561       4155  trsqq  range direction    E  EA\n",
       "1         WD2019-0561       4155  trsqq   section number   13   0\n",
       "2         WD2019-0561       4156  trsqq  range direction    E  EB\n",
       "3         WD2019-0561       4156  trsqq   section number   18   0"
      ]
     },
     "execution_count": 435,
     "metadata": {},
     "output_type": "execute_result"
    }
   ],
   "source": [
    "df"
   ]
  },
  {
   "cell_type": "code",
   "execution_count": 431,
   "id": "cc0aca04",
   "metadata": {},
   "outputs": [],
   "source": [
    "ml = 'N'"
   ]
  },
  {
   "cell_type": "code",
   "execution_count": 436,
   "id": "a2d896f7",
   "metadata": {},
   "outputs": [],
   "source": [
    "df.to_csv(os.path.join(inpath + '\\\\output\\\\to_review\\\\', f'unmatched_df_{setID}_r1_{ml}_notes.csv'), index=False)"
   ]
  }
 ],
 "metadata": {
  "kernelspec": {
   "display_name": "Python 3",
   "language": "python",
   "name": "python3"
  },
  "language_info": {
   "codemirror_mode": {
    "name": "ipython",
    "version": 3
   },
   "file_extension": ".py",
   "mimetype": "text/x-python",
   "name": "python",
   "nbconvert_exporter": "python",
   "pygments_lexer": "ipython3",
   "version": "3.8.8"
  }
 },
 "nbformat": 4,
 "nbformat_minor": 5
}
