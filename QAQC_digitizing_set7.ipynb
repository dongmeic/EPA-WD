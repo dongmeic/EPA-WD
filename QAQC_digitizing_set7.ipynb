{
 "cells": [
  {
   "cell_type": "code",
   "execution_count": 1,
   "id": "78ea79da",
   "metadata": {},
   "outputs": [],
   "source": [
    "%load_ext autoreload\n",
    "%autoreload 2"
   ]
  },
  {
   "cell_type": "code",
   "execution_count": 2,
   "id": "aae1d245",
   "metadata": {},
   "outputs": [],
   "source": [
    "from wdtools import *"
   ]
  },
  {
   "cell_type": "code",
   "execution_count": 6,
   "id": "93733b8a",
   "metadata": {},
   "outputs": [],
   "source": [
    "path = outpath + '\\\\to_review'"
   ]
  },
  {
   "cell_type": "code",
   "execution_count": 7,
   "id": "22464d55",
   "metadata": {},
   "outputs": [],
   "source": [
    "wdIDs_set7 = read_text_file(path + '\\\\re_mapping_Set007.txt')"
   ]
  },
  {
   "cell_type": "code",
   "execution_count": 8,
   "id": "89fce667",
   "metadata": {},
   "outputs": [
    {
     "data": {
      "text/plain": [
       "30"
      ]
     },
     "execution_count": 8,
     "metadata": {},
     "output_type": "execute_result"
    }
   ],
   "source": [
    "len(wdIDs_set7)"
   ]
  },
  {
   "cell_type": "code",
   "execution_count": 9,
   "id": "c7012f7d",
   "metadata": {},
   "outputs": [],
   "source": [
    "setID = 'Set007'; nm_to_add = 4972"
   ]
  },
  {
   "cell_type": "code",
   "execution_count": 10,
   "id": "71983b50",
   "metadata": {},
   "outputs": [],
   "source": [
    "wd = combine_wd_tables(setID=setID, nm_to_add=nm_to_add)"
   ]
  },
  {
   "cell_type": "code",
   "execution_count": 11,
   "id": "e0342d75",
   "metadata": {},
   "outputs": [],
   "source": [
    "mapped = gpd.read_file(outpath + '\\\\final\\\\mapped_wd_Set007.shp')"
   ]
  },
  {
   "cell_type": "code",
   "execution_count": 12,
   "id": "c96cfbae",
   "metadata": {},
   "outputs": [],
   "source": [
    "mapped = mapped[mapped.code != 0]"
   ]
  },
  {
   "cell_type": "code",
   "execution_count": 13,
   "id": "41e39e66",
   "metadata": {},
   "outputs": [],
   "source": [
    "toCheck_df = wd[(wd.wetdet_delin_number.isin(wdIDs_set7)) & (~wd.wetdet_delin_number.isin(mapped.wdID.unique()))]"
   ]
  },
  {
   "cell_type": "code",
   "execution_count": 14,
   "id": "865ca03b",
   "metadata": {},
   "outputs": [
    {
     "data": {
      "text/plain": [
       "(35, 25)"
      ]
     },
     "execution_count": 14,
     "metadata": {},
     "output_type": "execute_result"
    }
   ],
   "source": [
    "toCheck_df.shape"
   ]
  },
  {
   "cell_type": "code",
   "execution_count": 15,
   "id": "9e519f06",
   "metadata": {},
   "outputs": [
    {
     "data": {
      "text/plain": [
       "23"
      ]
     },
     "execution_count": 15,
     "metadata": {},
     "output_type": "execute_result"
    }
   ],
   "source": [
    "len(toCheck_df.wetdet_delin_number.unique())"
   ]
  },
  {
   "cell_type": "code",
   "execution_count": 16,
   "id": "af9fb5e4",
   "metadata": {
    "scrolled": false
   },
   "outputs": [
    {
     "name": "stdout",
     "output_type": "stream",
     "text": [
      "65.2% digitized, 8 records remained, expected to be done in about 2 hours...\n",
      "WD2011-0309\n",
      "index = 337\n",
      "        county     trsqq  parcel_id  latitude   longitude  record_ID notes  \\\n",
      "336  Deschutes  17S11E00  6202,6205  44.03137 -121.567909       5309         \n",
      "337  Deschutes  18S10E00       many  44.03103 -121.568150       5310  Many   \n",
      "338  Deschutes  18S11E00       many  44.03103 -121.568150       5311  Many   \n",
      "\n",
      "    missinglot status_name is_batch_file  \n",
      "336          N    Approved             N  \n",
      "337          Y    Approved             N  \n",
      "338          Y    Approved             N  \n",
      "Press 'p' to pause or any key to stop...p\n",
      "Press 'a' to add the wd record or 'c' to continue...c\n",
      "69.6% digitized, 7 records remained, expected to be done in about 2 hours...\n",
      "WD2012-0039\n",
      "index = 340\n",
      "        county     trsqq parcel_id  latitude  longitude  record_ID notes  \\\n",
      "339  Deschutes  22S10E14   100,200   43.6723   -121.488       5312         \n",
      "\n",
      "    missinglot       status_name is_batch_file  \n",
      "339          N  Completed by DSL             Y  \n",
      "Press 'p' to pause or any key to stop...p\n",
      "Press 'a' to add the wd record or 'c' to continue...c\n",
      "73.9% digitized, 6 records remained, expected to be done in about 2 hours...\n",
      "WD2013-0247\n",
      "index = 356\n",
      "        county     trsqq parcel_id   latitude   longitude  record_ID notes  \\\n",
      "355  Deschutes  19S11E31       600  43.885892 -121.453861       5328         \n",
      "\n",
      "    missinglot status_name is_batch_file  \n",
      "355          N    Approved             N  \n",
      "Press 'p' to pause or any key to stop...p\n",
      "Press 'a' to add the wd record or 'c' to continue...c\n",
      "78.3% digitized, 5 records remained, expected to be done in about 1 hours...\n",
      "WD2014-0101\n",
      "index = 360\n",
      "        county     trsqq parcel_id  latitude  longitude  record_ID notes  \\\n",
      "359  Deschutes  17S12E06       100    44.128    -121.33       5332         \n",
      "\n",
      "    missinglot       status_name is_batch_file  \n",
      "359          N  Completed by DSL             Y  \n",
      "Press 'p' to pause or any key to stop...p\n",
      "Press 'a' to add the wd record or 'c' to continue...c\n",
      "82.6% digitized, 4 records remained, expected to be done in about 1 hours...\n",
      "WD2014-0326\n",
      "index = 378\n",
      "        county     trsqq parcel_id  latitude  longitude  record_ID notes  \\\n",
      "377  Deschutes  22S13E00       100       NaN        NaN       5350         \n",
      "378  Deschutes  22S10E00       100       NaN        NaN       5351         \n",
      "379  Deschutes  22S11E00       100       NaN        NaN       5352         \n",
      "380  Deschutes  22S14E00       100       NaN        NaN       5353         \n",
      "381  Deschutes  15S12E00      1300       NaN        NaN       5354         \n",
      "\n",
      "    missinglot       status_name is_batch_file  \n",
      "377          N  Completed by DSL             Y  \n",
      "378          N  Completed by DSL             Y  \n",
      "379          N  Completed by DSL             Y  \n",
      "380          N  Completed by DSL             Y  \n",
      "381          N  Completed by DSL             Y  \n",
      "Press 'p' to pause or any key to stop...p\n",
      "Press 'a' to add the wd record or 'c' to continue...c\n",
      "87.0% digitized, 3 records remained, expected to be done in about 1 hours...\n",
      "WD2015-0447\n",
      "index = 410\n",
      "        county       trsqq parcel_id   latitude   longitude  record_ID notes  \\\n",
      "409  Deschutes  19S11E20DC        99  43.907741 -121.433973       5382         \n",
      "\n",
      "    missinglot       status_name is_batch_file  \n",
      "409          N  Completed by DSL             Y  \n",
      "Press 'p' to pause or any key to stop...p\n",
      "Press 'a' to add the wd record or 'c' to continue...c\n",
      "91.3% digitized, 2 records remained, expected to be done in about 1 hours...\n",
      "WD2016-0098\n",
      "index = 415\n",
      "        county     trsqq parcel_id   latitude   longitude  record_ID notes  \\\n",
      "414  Deschutes  21S10E00       601  43.772972 -121.529656       5387         \n",
      "\n",
      "    missinglot       status_name is_batch_file  \n",
      "414          N  Completed by DSL             Y  \n",
      "Press 'p' to pause or any key to stop...p\n",
      "Press 'a' to add the wd record or 'c' to continue...c\n",
      "95.7% digitized, 1 records remained, expected to be done in about 0 hours...\n",
      "WD2016-0111\n",
      "index = 416\n",
      "        county       trsqq     parcel_id   latitude   longitude  record_ID  \\\n",
      "415  Deschutes  15S13E16BC  101,109,2900  44.270668 -121.188313       5388   \n",
      "\n",
      "    notes missinglot       status_name is_batch_file  \n",
      "415                N  Completed by DSL             Y  \n",
      "Press 'p' to pause or any key to stop...p\n",
      "Press 'a' to add the wd record or 'c' to continue...c\n"
     ]
    }
   ],
   "source": [
    "toadd = review_loop_r1(df=toCheck_df, partial=True, idx=True, wd_id='WD2010-0012')"
   ]
  }
 ],
 "metadata": {
  "kernelspec": {
   "display_name": "Python 3",
   "language": "python",
   "name": "python3"
  },
  "language_info": {
   "codemirror_mode": {
    "name": "ipython",
    "version": 3
   },
   "file_extension": ".py",
   "mimetype": "text/x-python",
   "name": "python",
   "nbconvert_exporter": "python",
   "pygments_lexer": "ipython3",
   "version": "3.8.8"
  }
 },
 "nbformat": 4,
 "nbformat_minor": 5
}
