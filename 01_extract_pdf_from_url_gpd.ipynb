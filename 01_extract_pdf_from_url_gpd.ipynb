{
 "cells": [
  {
   "cell_type": "code",
   "execution_count": 1,
   "id": "9a476d9b",
   "metadata": {},
   "outputs": [],
   "source": [
    "from urllib.request import urlopen"
   ]
  },
  {
   "cell_type": "code",
   "execution_count": 3,
   "id": "5784103a",
   "metadata": {},
   "outputs": [],
   "source": [
    "import io\n",
    "import requests"
   ]
  },
  {
   "cell_type": "code",
   "execution_count": 17,
   "id": "36511d7d",
   "metadata": {},
   "outputs": [],
   "source": [
    "from PyPDF2 import PdfFileReader, PdfFileWriter"
   ]
  },
  {
   "cell_type": "code",
   "execution_count": 4,
   "id": "8e73464b",
   "metadata": {},
   "outputs": [],
   "source": [
    "url = 'https://docs.dsl.state.or.us/PublicReview/ElectronicFile.aspx?docid=3878075&dbid=0'"
   ]
  },
  {
   "cell_type": "code",
   "execution_count": 6,
   "id": "fef8cfb7",
   "metadata": {},
   "outputs": [],
   "source": [
    "response = requests.get(url=url, timeout=120)"
   ]
  },
  {
   "cell_type": "code",
   "execution_count": 7,
   "id": "fb42a9a6",
   "metadata": {},
   "outputs": [],
   "source": [
    "on_fly_mem_obj = io.BytesIO(response.content)"
   ]
  },
  {
   "cell_type": "code",
   "execution_count": 8,
   "id": "2d43a882",
   "metadata": {},
   "outputs": [],
   "source": [
    "pdf_file = PdfReader(on_fly_mem_obj)"
   ]
  },
  {
   "cell_type": "code",
   "execution_count": 9,
   "id": "5951d64a",
   "metadata": {},
   "outputs": [
    {
     "data": {
      "text/plain": [
       "<PyPDF2._reader.PdfReader at 0x24b86ece4c0>"
      ]
     },
     "execution_count": 9,
     "metadata": {},
     "output_type": "execute_result"
    }
   ],
   "source": [
    "pdf_file"
   ]
  },
  {
   "cell_type": "code",
   "execution_count": 12,
   "id": "6b042d0b",
   "metadata": {},
   "outputs": [
    {
     "data": {
      "text/plain": [
       "31"
      ]
     },
     "execution_count": 12,
     "metadata": {},
     "output_type": "execute_result"
    }
   ],
   "source": [
    "pdf_file.numPages"
   ]
  },
  {
   "cell_type": "code",
   "execution_count": 32,
   "id": "ecd018a3",
   "metadata": {},
   "outputs": [],
   "source": [
    "page = 3"
   ]
  },
  {
   "cell_type": "code",
   "execution_count": 33,
   "id": "46cb6195",
   "metadata": {},
   "outputs": [],
   "source": [
    "pageObj = pdf_file.getPage(page)"
   ]
  },
  {
   "cell_type": "code",
   "execution_count": 34,
   "id": "8759661f",
   "metadata": {},
   "outputs": [],
   "source": [
    "pdf_writer = PdfFileWriter()"
   ]
  },
  {
   "cell_type": "code",
   "execution_count": 35,
   "id": "33b28071",
   "metadata": {},
   "outputs": [],
   "source": [
    "pdf_writer.addPage(pageObj)"
   ]
  },
  {
   "cell_type": "code",
   "execution_count": 21,
   "id": "514ff5b4",
   "metadata": {},
   "outputs": [],
   "source": [
    "name_of_split = 'WD2021-0624'"
   ]
  },
  {
   "cell_type": "code",
   "execution_count": 37,
   "id": "55242438",
   "metadata": {},
   "outputs": [],
   "source": [
    "pdf_outpath = r'L:\\NaturalResources\\Wetlands\\Local Wetland Inventory\\WAPO\\EPA_2022_Tasks\\Task 1 WD Mapping\\output\\pdf'"
   ]
  },
  {
   "cell_type": "code",
   "execution_count": 29,
   "id": "1673125b",
   "metadata": {},
   "outputs": [],
   "source": [
    "output = f'{pdf_outpath}\\\\{name_of_split}_{page+1}.pdf'"
   ]
  },
  {
   "cell_type": "code",
   "execution_count": 30,
   "id": "295fa19f",
   "metadata": {},
   "outputs": [
    {
     "data": {
      "text/plain": [
       "'L:\\\\NaturalResources\\\\Wetlands\\\\Local Wetland Inventory\\\\WAPO\\\\EPA_2022_Tasks\\\\Task 1 WD Mapping\\\\output\\\\pdf\\\\WD2021-0624_4.pdf'"
      ]
     },
     "execution_count": 30,
     "metadata": {},
     "output_type": "execute_result"
    }
   ],
   "source": [
    "output"
   ]
  },
  {
   "cell_type": "code",
   "execution_count": 36,
   "id": "2dd237d4",
   "metadata": {},
   "outputs": [],
   "source": [
    "with open(output, 'wb') as output_pdf:\n",
    "    pdf_writer.write(output_pdf)"
   ]
  },
  {
   "cell_type": "code",
   "execution_count": 47,
   "id": "74bef9d7",
   "metadata": {},
   "outputs": [],
   "source": [
    "def extract_page_from_docLink(url, pageNm, wdID):\n",
    "    response = requests.get(url=url, timeout=120)\n",
    "    on_fly_mem_obj = io.BytesIO(response.content)\n",
    "    pdf_file = PdfReader(on_fly_mem_obj)\n",
    "    pageObj = pdf_file.getPage(pageNm)\n",
    "    pdf_writer = PdfFileWriter()\n",
    "    pdf_writer.addPage(pageObj)\n",
    "    output = f'{pdf_outpath}\\\\{wdID}_{pageNm+1}.pdf'\n",
    "    with open(output, 'wb') as output_pdf:\n",
    "        pdf_writer.write(output_pdf) "
   ]
  },
  {
   "cell_type": "code",
   "execution_count": 59,
   "id": "ba9be23d",
   "metadata": {},
   "outputs": [],
   "source": [
    "extract_page_from_docLink(url='https://docs.dsl.state.or.us/PublicReview/ElectronicFile.aspx?docid=3874279&dbid=0', \n",
    "                          pageNm=6, wdID='WD2022-0251')"
   ]
  },
  {
   "cell_type": "code",
   "execution_count": 48,
   "id": "f479bfa7",
   "metadata": {},
   "outputs": [],
   "source": [
    "def extract_page_from_locPath(filePath, pageNm, wdID):\n",
    "    pdf_file = PdfReader(filePath)\n",
    "    pageObj = pdf_file.getPage(pageNm)\n",
    "    pdf_writer = PdfFileWriter()\n",
    "    pdf_writer.addPage(pageObj)\n",
    "    output = f'{pdf_outpath}\\\\{wdID}_{pageNm+1}.pdf'\n",
    "    with open(output, 'wb') as output_pdf:\n",
    "        pdf_writer.write(output_pdf) "
   ]
  },
  {
   "cell_type": "code",
   "execution_count": 54,
   "id": "175de3b0",
   "metadata": {},
   "outputs": [],
   "source": [
    "extract_page_from_locPath(filePath='T:/DCProjects/EPA-WD/docs/WD20190130 AgencyDecision.pdf', \n",
    "                          pageNm=4, wdID='WD2019-0130')"
   ]
  }
 ],
 "metadata": {
  "kernelspec": {
   "display_name": "Python 3",
   "language": "python",
   "name": "python3"
  },
  "language_info": {
   "codemirror_mode": {
    "name": "ipython",
    "version": 3
   },
   "file_extension": ".py",
   "mimetype": "text/x-python",
   "name": "python",
   "nbconvert_exporter": "python",
   "pygments_lexer": "ipython3",
   "version": "3.8.8"
  }
 },
 "nbformat": 4,
 "nbformat_minor": 5
}
