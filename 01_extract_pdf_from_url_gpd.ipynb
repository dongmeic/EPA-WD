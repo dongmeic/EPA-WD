{
 "cells": [
  {
   "cell_type": "code",
   "execution_count": 11,
   "id": "59bc0232",
   "metadata": {},
   "outputs": [],
   "source": [
    "from urllib.request import urlopen\n",
    "import io\n",
    "import requests\n",
    "import pandas as pd\n",
    "import webbrowser\n",
    "from PyPDF2 import PdfReader, PdfWriter"
   ]
  },
  {
   "cell_type": "code",
   "execution_count": 30,
   "id": "854c0a27",
   "metadata": {},
   "outputs": [],
   "source": [
    "from wdtools import *"
   ]
  },
  {
   "cell_type": "code",
   "execution_count": 3,
   "id": "2996fde6",
   "metadata": {},
   "outputs": [],
   "source": [
    "pdf_outpath = r'L:\\NaturalResources\\Wetlands\\Local Wetland Inventory\\WAPO\\EPA_2022_Tasks\\Task 1 WD Mapping\\output\\pdf'"
   ]
  },
  {
   "cell_type": "code",
   "execution_count": 4,
   "id": "ebb2c0b3",
   "metadata": {},
   "outputs": [],
   "source": [
    "setID = 'Set001'"
   ]
  },
  {
   "cell_type": "code",
   "execution_count": null,
   "id": "9a4d7e5a",
   "metadata": {},
   "outputs": [],
   "source": [
    "for i in range(6, 17):\n",
    "    extract_page_from_docLink(url='https://docs.dsl.state.or.us/PublicReview/ElectronicFile.aspx?docid=3650803&dbid=0', \n",
    "                          pageNm=i, wdID='WD2022-0084')"
   ]
  },
  {
   "cell_type": "code",
   "execution_count": 8,
   "id": "f3302b27",
   "metadata": {},
   "outputs": [],
   "source": [
    "extract_page_from_locPath(filePath=r'T:\\DCProjects\\EPA-WD\\docs\\WD20190615 InitialRequest.pdf', \n",
    "                          pageNm=5, wdID='WD2019-0615')"
   ]
  },
  {
   "cell_type": "code",
   "execution_count": 50,
   "id": "4f28d0ff",
   "metadata": {},
   "outputs": [],
   "source": [
    "for i in range(22, 55):\n",
    "    extract_page_from_locPath(filePath=r'T:\\DCProjects\\EPA-WD\\docs\\WD20190615 InitialRequest.pdf', \n",
    "                          pageNm=i, wdID='WD2019-0615')"
   ]
  },
  {
   "cell_type": "code",
   "execution_count": 5,
   "id": "8c182b8d",
   "metadata": {},
   "outputs": [],
   "source": [
    "revpath = r'L:\\NaturalResources\\Wetlands\\Local Wetland Inventory\\WAPO\\EPA_2022_Tasks\\Task 1 WD Mapping\\output\\to_review'"
   ]
  },
  {
   "cell_type": "code",
   "execution_count": 9,
   "id": "6c115460",
   "metadata": {},
   "outputs": [],
   "source": [
    "partial = pd.read_excel(f'{revpath}\\\\partial_matched_{setID}.xlsx')"
   ]
  },
  {
   "cell_type": "code",
   "execution_count": 41,
   "id": "fc61f646",
   "metadata": {},
   "outputs": [],
   "source": [
    "wdID = 'WD2019-0200'"
   ]
  },
  {
   "cell_type": "code",
   "execution_count": 37,
   "id": "9cfbd041",
   "metadata": {},
   "outputs": [],
   "source": [
    "#setID = 'Set001'; nm_to_add=0\n",
    "setID = 'Set002'; nm_to_add=1420\n",
    "wd = combine_wd_tables(setID=setID, nm_to_add=nm_to_add)"
   ]
  },
  {
   "cell_type": "code",
   "execution_count": 42,
   "id": "78b3d93d",
   "metadata": {},
   "outputs": [],
   "source": [
    "url = wd.loc[wd.wetdet_delin_number == wdID, 'DecisionLink'].values[0]"
   ]
  },
  {
   "cell_type": "code",
   "execution_count": 39,
   "id": "68b55b38",
   "metadata": {},
   "outputs": [
    {
     "data": {
      "text/plain": [
       "'https://docs.dsl.state.or.us/PublicReview/ElectronicFile.aspx?docid=3487619&dbid=0'"
      ]
     },
     "execution_count": 39,
     "metadata": {},
     "output_type": "execute_result"
    }
   ],
   "source": [
    "url"
   ]
  },
  {
   "cell_type": "code",
   "execution_count": 24,
   "id": "82a38c33",
   "metadata": {},
   "outputs": [],
   "source": [
    "extract_page_from_locPath(filePath=pdf_outpath+'\\\\WD2017-0356final.pdf', \n",
    "                          pageNm=5, wdID=wdID)"
   ]
  },
  {
   "cell_type": "code",
   "execution_count": 44,
   "id": "4c962a1b",
   "metadata": {},
   "outputs": [],
   "source": [
    "extract_page_from_docLink(url=url, pageNm=5, wdID=wdID)"
   ]
  },
  {
   "cell_type": "code",
   "execution_count": 38,
   "id": "5d4bdfba",
   "metadata": {},
   "outputs": [
    {
     "name": "stdout",
     "output_type": "stream",
     "text": [
      "8\n",
      "9\n",
      "10\n",
      "11\n",
      "12\n",
      "13\n",
      "14\n",
      "15\n"
     ]
    }
   ],
   "source": [
    "for i in range(8, 16):\n",
    "    extract_page_from_docLink(url=url, pageNm=i, wdID=wdID)\n",
    "#     extract_page_from_locPath(filePath=r'T:\\DCProjects\\EPA-WD\\docs\\WD20210179 Agency Decision.pdf', \n",
    "#                           pageNm=i, wdID='WD2021-0179')\n",
    "    print(i)"
   ]
  }
 ],
 "metadata": {
  "kernelspec": {
   "display_name": "Python 3",
   "language": "python",
   "name": "python3"
  },
  "language_info": {
   "codemirror_mode": {
    "name": "ipython",
    "version": 3
   },
   "file_extension": ".py",
   "mimetype": "text/x-python",
   "name": "python",
   "nbconvert_exporter": "python",
   "pygments_lexer": "ipython3",
   "version": "3.8.8"
  }
 },
 "nbformat": 4,
 "nbformat_minor": 5
}
