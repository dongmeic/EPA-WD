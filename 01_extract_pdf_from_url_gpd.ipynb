{
 "cells": [
  {
   "cell_type": "code",
   "execution_count": 1,
   "id": "59bc0232",
   "metadata": {},
   "outputs": [],
   "source": [
    "from urllib.request import urlopen\n",
    "import io\n",
    "import requests\n",
    "import pandas as pd\n",
    "import webbrowser\n",
    "from PyPDF2 import PdfReader, PdfWriter"
   ]
  },
  {
   "cell_type": "code",
   "execution_count": 2,
   "id": "854c0a27",
   "metadata": {},
   "outputs": [],
   "source": [
    "from wdtools import *"
   ]
  },
  {
   "cell_type": "code",
   "execution_count": 3,
   "id": "9a118d61",
   "metadata": {},
   "outputs": [],
   "source": [
    "pdf_path = r'L:\\NaturalResources\\Wetlands\\Local Wetland Inventory\\WAPO\\EPA_2022_Tasks\\Task 1 WD Mapping'"
   ]
  },
  {
   "cell_type": "code",
   "execution_count": 4,
   "id": "2996fde6",
   "metadata": {},
   "outputs": [],
   "source": [
    "pdf_outpath = fr'{pdf_path}\\output\\pdf'"
   ]
  },
  {
   "cell_type": "code",
   "execution_count": 5,
   "id": "8c182b8d",
   "metadata": {},
   "outputs": [],
   "source": [
    "revpath = r'L:\\NaturalResources\\Wetlands\\Local Wetland Inventory\\WAPO\\EPA_2022_Tasks\\Task 1 WD Mapping\\output\\to_review'"
   ]
  },
  {
   "cell_type": "code",
   "execution_count": 6,
   "id": "60b19c94",
   "metadata": {},
   "outputs": [],
   "source": [
    "#setID = 'Set001'; nm_to_add=0\n",
    "#setID = 'Set002'; nm_to_add=1420\n",
    "#setID = 'Set003'; nm_to_add = 2143\n",
    "#setID = 'Set004'; nm_to_add = 2878\n",
    "setID = 'Set005'; nm_to_add = 3932\n",
    "#setID = 'Set006'; nm_to_add = 4370\n",
    "wd = combine_wd_tables(setID=setID, nm_to_add=nm_to_add)"
   ]
  },
  {
   "cell_type": "code",
   "execution_count": 98,
   "id": "c1e14167",
   "metadata": {},
   "outputs": [],
   "source": [
    "wd_all = get_all_wd(num=6)"
   ]
  },
  {
   "cell_type": "code",
   "execution_count": 99,
   "id": "ba5e88dd",
   "metadata": {},
   "outputs": [
    {
     "data": {
      "text/plain": [
       "True"
      ]
     },
     "execution_count": 99,
     "metadata": {},
     "output_type": "execute_result"
    }
   ],
   "source": [
    "'WD2022-0657'in wd_all.wetdet_delin_number.unique()"
   ]
  },
  {
   "cell_type": "code",
   "execution_count": 103,
   "id": "5c386cdc",
   "metadata": {},
   "outputs": [
    {
     "data": {
      "text/html": [
       "<div>\n",
       "<style scoped>\n",
       "    .dataframe tbody tr th:only-of-type {\n",
       "        vertical-align: middle;\n",
       "    }\n",
       "\n",
       "    .dataframe tbody tr th {\n",
       "        vertical-align: top;\n",
       "    }\n",
       "\n",
       "    .dataframe thead th {\n",
       "        text-align: right;\n",
       "    }\n",
       "</style>\n",
       "<table border=\"1\" class=\"dataframe\">\n",
       "  <thead>\n",
       "    <tr style=\"text-align: right;\">\n",
       "      <th></th>\n",
       "      <th>wetdet_delin_number</th>\n",
       "      <th>trsqq</th>\n",
       "      <th>parcel_id</th>\n",
       "      <th>address_location_desc</th>\n",
       "      <th>city</th>\n",
       "      <th>county</th>\n",
       "      <th>site_name</th>\n",
       "      <th>site_desc</th>\n",
       "      <th>latitude</th>\n",
       "      <th>longitude</th>\n",
       "      <th>...</th>\n",
       "      <th>response_date</th>\n",
       "      <th>reissuance_response_date</th>\n",
       "      <th>project_id</th>\n",
       "      <th>site_id</th>\n",
       "      <th>record_ID</th>\n",
       "      <th>notes</th>\n",
       "      <th>recyear</th>\n",
       "      <th>IDyear</th>\n",
       "      <th>missinglot</th>\n",
       "      <th>SetID</th>\n",
       "    </tr>\n",
       "  </thead>\n",
       "  <tbody>\n",
       "    <tr>\n",
       "      <th>4365</th>\n",
       "      <td>WD2022-0657</td>\n",
       "      <td>01S35E00</td>\n",
       "      <td>300p,ROW</td>\n",
       "      <td>Emigrant Hill Frontage Rd/I-84 ROW</td>\n",
       "      <td>Meacham</td>\n",
       "      <td>Umatilla</td>\n",
       "      <td>I-84 Frontage Road: Meacham Creek &amp; UPRR (KN20...</td>\n",
       "      <td>WD2022-0675 delin bridge replacement (s03,s10)</td>\n",
       "      <td>45.501918</td>\n",
       "      <td>-118.420849</td>\n",
       "      <td>...</td>\n",
       "      <td>NaN</td>\n",
       "      <td>NaN</td>\n",
       "      <td>85289.0</td>\n",
       "      <td>141199</td>\n",
       "      <td>4366</td>\n",
       "      <td>ROW, Partial</td>\n",
       "      <td>2022</td>\n",
       "      <td>2022</td>\n",
       "      <td>N</td>\n",
       "      <td>5</td>\n",
       "    </tr>\n",
       "    <tr>\n",
       "      <th>4936</th>\n",
       "      <td>WD2022-0657</td>\n",
       "      <td>01S35E00</td>\n",
       "      <td>300p,ROW</td>\n",
       "      <td>Emigrant Hill Frontage Rd/I-84 ROW</td>\n",
       "      <td>Meacham</td>\n",
       "      <td>Umatilla</td>\n",
       "      <td>I-84 Frontage Road: Meacham Creek &amp; UPRR (KN20...</td>\n",
       "      <td>WD2022-0675 delin bridge replacement (s03,s10)</td>\n",
       "      <td>45.501918</td>\n",
       "      <td>-118.420849</td>\n",
       "      <td>...</td>\n",
       "      <td>NaN</td>\n",
       "      <td>NaN</td>\n",
       "      <td>85289.0</td>\n",
       "      <td>141199</td>\n",
       "      <td>4937</td>\n",
       "      <td>ROW, Partial</td>\n",
       "      <td>2022</td>\n",
       "      <td>2022</td>\n",
       "      <td>N</td>\n",
       "      <td>6</td>\n",
       "    </tr>\n",
       "  </tbody>\n",
       "</table>\n",
       "<p>2 rows × 26 columns</p>\n",
       "</div>"
      ],
      "text/plain": [
       "     wetdet_delin_number     trsqq parcel_id  \\\n",
       "4365         WD2022-0657  01S35E00  300p,ROW   \n",
       "4936         WD2022-0657  01S35E00  300p,ROW   \n",
       "\n",
       "                   address_location_desc     city    county  \\\n",
       "4365  Emigrant Hill Frontage Rd/I-84 ROW  Meacham  Umatilla   \n",
       "4936  Emigrant Hill Frontage Rd/I-84 ROW  Meacham  Umatilla   \n",
       "\n",
       "                                              site_name  \\\n",
       "4365  I-84 Frontage Road: Meacham Creek & UPRR (KN20...   \n",
       "4936  I-84 Frontage Road: Meacham Creek & UPRR (KN20...   \n",
       "\n",
       "                                           site_desc   latitude   longitude  \\\n",
       "4365  WD2022-0675 delin bridge replacement (s03,s10)  45.501918 -118.420849   \n",
       "4936  WD2022-0675 delin bridge replacement (s03,s10)  45.501918 -118.420849   \n",
       "\n",
       "      ... response_date reissuance_response_date project_id site_id record_ID  \\\n",
       "4365  ...           NaN                      NaN    85289.0  141199      4366   \n",
       "4936  ...           NaN                      NaN    85289.0  141199      4937   \n",
       "\n",
       "             notes recyear IDyear  missinglot  SetID  \n",
       "4365  ROW, Partial    2022   2022           N      5  \n",
       "4936  ROW, Partial    2022   2022           N      6  \n",
       "\n",
       "[2 rows x 26 columns]"
      ]
     },
     "execution_count": 103,
     "metadata": {},
     "output_type": "execute_result"
    }
   ],
   "source": [
    "wd_all[wd_all.wetdet_delin_number == 'WD2022-0657']"
   ]
  },
  {
   "cell_type": "code",
   "execution_count": 100,
   "id": "07b00702",
   "metadata": {},
   "outputs": [],
   "source": [
    "sa_gdf_all = get_all_SA(num=5)"
   ]
  },
  {
   "cell_type": "code",
   "execution_count": 132,
   "id": "3a004875",
   "metadata": {},
   "outputs": [
    {
     "data": {
      "text/plain": [
       "True"
      ]
     },
     "execution_count": 132,
     "metadata": {},
     "output_type": "execute_result"
    }
   ],
   "source": [
    "'WD2020-0383'in sa_gdf_all.wdID.unique()"
   ]
  },
  {
   "cell_type": "code",
   "execution_count": 133,
   "id": "4f904501",
   "metadata": {},
   "outputs": [
    {
     "data": {
      "text/plain": [
       "<AxesSubplot:>"
      ]
     },
     "execution_count": 133,
     "metadata": {},
     "output_type": "execute_result"
    },
    {
     "data": {
      "image/png": "[encoded data removed]",
      "text/plain": [
       "<Figure size 432x288 with 1 Axes>"
      ]
     },
     "metadata": {
      "needs_background": "light"
     },
     "output_type": "display_data"
    }
   ],
   "source": [
    "sa_gdf_all[sa_gdf_all.wdID=='WD2020-0383'].plot()"
   ]
  },
  {
   "cell_type": "markdown",
   "id": "5a23df77",
   "metadata": {},
   "source": [
    "toCheckIDs = ['WD2018-0659', 'WD2019-0624', 'WD2019-0327', 'WD2021-0117', 'WD2021-0569', 'WD2020-0220', 'WD2017-0074']"
   ]
  },
  {
   "cell_type": "markdown",
   "id": "76d5057d",
   "metadata": {},
   "source": [
    "wdIDs = [wid for wid in toCheckIDs if wid in wd_all.wetdet_delin_number.unique()]"
   ]
  },
  {
   "cell_type": "markdown",
   "id": "930d85e5",
   "metadata": {},
   "source": [
    "wdIDs"
   ]
  },
  {
   "cell_type": "markdown",
   "id": "2e6490af",
   "metadata": {},
   "source": [
    "wd_all[wd_all.wetdet_delin_number.isin(wdIDs)][['wetdet_delin_number', 'SetID']]"
   ]
  },
  {
   "cell_type": "markdown",
   "id": "33642b18",
   "metadata": {},
   "source": [
    "mappedIDs = [wid for wid in toCheckIDs if wid in sa_gdf_all.wdID.unique()]"
   ]
  },
  {
   "cell_type": "markdown",
   "id": "f01d3670",
   "metadata": {},
   "source": [
    "mappedIDs"
   ]
  },
  {
   "cell_type": "markdown",
   "id": "b660a72f",
   "metadata": {},
   "source": [
    "sa_gdf_all[sa_gdf_all.wdID=='WD2021-0495']"
   ]
  },
  {
   "cell_type": "markdown",
   "id": "88a68fd4",
   "metadata": {},
   "source": [
    "sa_gdf_all[sa_gdf_all.wdID=='WD2017-0074'].plot()"
   ]
  },
  {
   "cell_type": "code",
   "execution_count": 21,
   "id": "a215763a",
   "metadata": {},
   "outputs": [],
   "source": [
    "wdID = 'WD2022-0211'"
   ]
  },
  {
   "cell_type": "code",
   "execution_count": 22,
   "id": "3d92e2ce",
   "metadata": {},
   "outputs": [
    {
     "data": {
      "text/html": [
       "<div>\n",
       "<style scoped>\n",
       "    .dataframe tbody tr th:only-of-type {\n",
       "        vertical-align: middle;\n",
       "    }\n",
       "\n",
       "    .dataframe tbody tr th {\n",
       "        vertical-align: top;\n",
       "    }\n",
       "\n",
       "    .dataframe thead th {\n",
       "        text-align: right;\n",
       "    }\n",
       "</style>\n",
       "<table border=\"1\" class=\"dataframe\">\n",
       "  <thead>\n",
       "    <tr style=\"text-align: right;\">\n",
       "      <th></th>\n",
       "      <th>wetdet_delin_number</th>\n",
       "      <th>trsqq</th>\n",
       "      <th>parcel_id</th>\n",
       "      <th>address_location_desc</th>\n",
       "      <th>city</th>\n",
       "      <th>county</th>\n",
       "      <th>site_name</th>\n",
       "      <th>site_desc</th>\n",
       "      <th>latitude</th>\n",
       "      <th>longitude</th>\n",
       "      <th>...</th>\n",
       "      <th>received_date</th>\n",
       "      <th>response_date</th>\n",
       "      <th>reissuance_response_date</th>\n",
       "      <th>project_id</th>\n",
       "      <th>site_id</th>\n",
       "      <th>record_ID</th>\n",
       "      <th>notes</th>\n",
       "      <th>recyear</th>\n",
       "      <th>IDyear</th>\n",
       "      <th>missinglot</th>\n",
       "    </tr>\n",
       "  </thead>\n",
       "  <tbody>\n",
       "    <tr>\n",
       "      <th>413</th>\n",
       "      <td>WD2022-0211</td>\n",
       "      <td>08S04W29</td>\n",
       "      <td>13500</td>\n",
       "      <td>799 F St</td>\n",
       "      <td>Independence</td>\n",
       "      <td>Polk</td>\n",
       "      <td>Sunset Meadows Park</td>\n",
       "      <td>WD2022-0211 Offsite (grant)</td>\n",
       "      <td>NaN</td>\n",
       "      <td>NaN</td>\n",
       "      <td>...</td>\n",
       "      <td>2022-04-18</td>\n",
       "      <td>2022-04-22</td>\n",
       "      <td>NaT</td>\n",
       "      <td>84014.0</td>\n",
       "      <td>139079</td>\n",
       "      <td>4346</td>\n",
       "      <td></td>\n",
       "      <td>2022</td>\n",
       "      <td>2022</td>\n",
       "      <td>N</td>\n",
       "    </tr>\n",
       "  </tbody>\n",
       "</table>\n",
       "<p>1 rows × 25 columns</p>\n",
       "</div>"
      ],
      "text/plain": [
       "    wetdet_delin_number     trsqq parcel_id address_location_desc  \\\n",
       "413         WD2022-0211  08S04W29     13500              799 F St   \n",
       "\n",
       "             city county            site_name                    site_desc  \\\n",
       "413  Independence   Polk  Sunset Meadows Park  WD2022-0211 Offsite (grant)   \n",
       "\n",
       "     latitude  longitude  ... received_date response_date  \\\n",
       "413       NaN        NaN  ...    2022-04-18    2022-04-22   \n",
       "\n",
       "    reissuance_response_date project_id site_id record_ID notes recyear  \\\n",
       "413                      NaT    84014.0  139079      4346          2022   \n",
       "\n",
       "     IDyear  missinglot  \n",
       "413    2022           N  \n",
       "\n",
       "[1 rows x 25 columns]"
      ]
     },
     "execution_count": 22,
     "metadata": {},
     "output_type": "execute_result"
    }
   ],
   "source": [
    "wd[wd.wetdet_delin_number == wdID]"
   ]
  },
  {
   "cell_type": "code",
   "execution_count": 23,
   "id": "0ab9ad85",
   "metadata": {},
   "outputs": [
    {
     "name": "stdout",
     "output_type": "stream",
     "text": [
      "Decision link is not available\n"
     ]
    }
   ],
   "source": [
    "url = wd.loc[wd.wetdet_delin_number == wdID, 'DecisionLink'].values[0]\n",
    "if str(url) == 'nan':\n",
    "    print('Decision link is not available')\n",
    "else:\n",
    "    webbrowser.open(url)"
   ]
  },
  {
   "cell_type": "code",
   "execution_count": 135,
   "id": "45a2b8a8",
   "metadata": {},
   "outputs": [],
   "source": [
    "url = wd.loc[wd.wetdet_delin_number == wdID, 'DecisionLink'].values[0]\n",
    "extract_page_from_docLink(url=url, pageNm=3, wdID=wdID)"
   ]
  },
  {
   "cell_type": "code",
   "execution_count": 120,
   "id": "380ae699",
   "metadata": {},
   "outputs": [
    {
     "data": {
      "text/html": [
       "<div>\n",
       "<style scoped>\n",
       "    .dataframe tbody tr th:only-of-type {\n",
       "        vertical-align: middle;\n",
       "    }\n",
       "\n",
       "    .dataframe tbody tr th {\n",
       "        vertical-align: top;\n",
       "    }\n",
       "\n",
       "    .dataframe thead th {\n",
       "        text-align: right;\n",
       "    }\n",
       "</style>\n",
       "<table border=\"1\" class=\"dataframe\">\n",
       "  <thead>\n",
       "    <tr style=\"text-align: right;\">\n",
       "      <th></th>\n",
       "      <th>latitude</th>\n",
       "      <th>longitude</th>\n",
       "    </tr>\n",
       "  </thead>\n",
       "  <tbody>\n",
       "    <tr>\n",
       "      <th>29</th>\n",
       "      <td>44.115705</td>\n",
       "      <td>-123.181328</td>\n",
       "    </tr>\n",
       "    <tr>\n",
       "      <th>293</th>\n",
       "      <td>44.115705</td>\n",
       "      <td>-123.181328</td>\n",
       "    </tr>\n",
       "  </tbody>\n",
       "</table>\n",
       "</div>"
      ],
      "text/plain": [
       "      latitude   longitude\n",
       "29   44.115705 -123.181328\n",
       "293  44.115705 -123.181328"
      ]
     },
     "execution_count": 120,
     "metadata": {},
     "output_type": "execute_result"
    }
   ],
   "source": [
    "wd.loc[wd.wetdet_delin_number.isin(['WD2022-0430', 'WD2022-0431']), ['latitude', 'longitude']]"
   ]
  },
  {
   "cell_type": "code",
   "execution_count": 62,
   "id": "15ff3aa8",
   "metadata": {},
   "outputs": [
    {
     "data": {
      "text/html": [
       "<div>\n",
       "<style scoped>\n",
       "    .dataframe tbody tr th:only-of-type {\n",
       "        vertical-align: middle;\n",
       "    }\n",
       "\n",
       "    .dataframe tbody tr th {\n",
       "        vertical-align: top;\n",
       "    }\n",
       "\n",
       "    .dataframe thead th {\n",
       "        text-align: right;\n",
       "    }\n",
       "</style>\n",
       "<table border=\"1\" class=\"dataframe\">\n",
       "  <thead>\n",
       "    <tr style=\"text-align: right;\">\n",
       "      <th></th>\n",
       "      <th>Coord-Source</th>\n",
       "      <th>status_name</th>\n",
       "    </tr>\n",
       "  </thead>\n",
       "  <tbody>\n",
       "    <tr>\n",
       "      <th>29</th>\n",
       "      <td>DSL Verified</td>\n",
       "      <td>Approved</td>\n",
       "    </tr>\n",
       "  </tbody>\n",
       "</table>\n",
       "</div>"
      ],
      "text/plain": [
       "    Coord-Source status_name\n",
       "29  DSL Verified    Approved"
      ]
     },
     "execution_count": 62,
     "metadata": {},
     "output_type": "execute_result"
    }
   ],
   "source": [
    "wd.loc[wd.wetdet_delin_number == 'WD2022-0431', ['Coord-Source', 'status_name']]"
   ]
  },
  {
   "cell_type": "code",
   "execution_count": 86,
   "id": "bcdb6a7b",
   "metadata": {},
   "outputs": [
    {
     "data": {
      "text/plain": [
       "547    https://docs.dsl.state.or.us/PublicReview/Elec...\n",
       "Name: DecisionLink, dtype: object"
      ]
     },
     "execution_count": 86,
     "metadata": {},
     "output_type": "execute_result"
    }
   ],
   "source": [
    "wd[wd.wetdet_delin_number == wdID]['DecisionLink']"
   ]
  },
  {
   "cell_type": "code",
   "execution_count": 8,
   "id": "773e45f3",
   "metadata": {},
   "outputs": [
    {
     "data": {
      "text/html": [
       "<div>\n",
       "<style scoped>\n",
       "    .dataframe tbody tr th:only-of-type {\n",
       "        vertical-align: middle;\n",
       "    }\n",
       "\n",
       "    .dataframe tbody tr th {\n",
       "        vertical-align: top;\n",
       "    }\n",
       "\n",
       "    .dataframe thead th {\n",
       "        text-align: right;\n",
       "    }\n",
       "</style>\n",
       "<table border=\"1\" class=\"dataframe\">\n",
       "  <thead>\n",
       "    <tr style=\"text-align: right;\">\n",
       "      <th></th>\n",
       "      <th>longitude</th>\n",
       "      <th>latitude</th>\n",
       "    </tr>\n",
       "  </thead>\n",
       "  <tbody>\n",
       "    <tr>\n",
       "      <th>352</th>\n",
       "      <td>-123.088023</td>\n",
       "      <td>44.677806</td>\n",
       "    </tr>\n",
       "    <tr>\n",
       "      <th>353</th>\n",
       "      <td>-123.086747</td>\n",
       "      <td>44.680010</td>\n",
       "    </tr>\n",
       "  </tbody>\n",
       "</table>\n",
       "</div>"
      ],
      "text/plain": [
       "      longitude   latitude\n",
       "352 -123.088023  44.677806\n",
       "353 -123.086747  44.680010"
      ]
     },
     "execution_count": 8,
     "metadata": {},
     "output_type": "execute_result"
    }
   ],
   "source": [
    "wd.loc[wd.wetdet_delin_number == wdID, ['longitude', 'latitude']]"
   ]
  },
  {
   "cell_type": "code",
   "execution_count": 24,
   "id": "29a60878",
   "metadata": {},
   "outputs": [
    {
     "data": {
      "text/html": [
       "<div>\n",
       "<style scoped>\n",
       "    .dataframe tbody tr th:only-of-type {\n",
       "        vertical-align: middle;\n",
       "    }\n",
       "\n",
       "    .dataframe tbody tr th {\n",
       "        vertical-align: top;\n",
       "    }\n",
       "\n",
       "    .dataframe thead th {\n",
       "        text-align: right;\n",
       "    }\n",
       "</style>\n",
       "<table border=\"1\" class=\"dataframe\">\n",
       "  <thead>\n",
       "    <tr style=\"text-align: right;\">\n",
       "      <th></th>\n",
       "      <th>Longitude</th>\n",
       "      <th>Latitude</th>\n",
       "      <th>geometry</th>\n",
       "    </tr>\n",
       "  </thead>\n",
       "  <tbody>\n",
       "    <tr>\n",
       "      <th>0</th>\n",
       "      <td>-123.195325</td>\n",
       "      <td>44.843351</td>\n",
       "      <td>POINT (613455.107 1139013.871)</td>\n",
       "    </tr>\n",
       "  </tbody>\n",
       "</table>\n",
       "</div>"
      ],
      "text/plain": [
       "    Longitude   Latitude                        geometry\n",
       "0 -123.195325  44.843351  POINT (613455.107 1139013.871)"
      ]
     },
     "execution_count": 24,
     "metadata": {},
     "output_type": "execute_result"
    }
   ],
   "source": [
    "lon=-123.19532451319888\n",
    "lat=44.84335117060216\n",
    "get_point_from_lonlat(lon=lon, lat=lat)"
   ]
  },
  {
   "cell_type": "code",
   "execution_count": 14,
   "id": "74332fa8",
   "metadata": {},
   "outputs": [
    {
     "data": {
      "text/html": [
       "<div>\n",
       "<style scoped>\n",
       "    .dataframe tbody tr th:only-of-type {\n",
       "        vertical-align: middle;\n",
       "    }\n",
       "\n",
       "    .dataframe tbody tr th {\n",
       "        vertical-align: top;\n",
       "    }\n",
       "\n",
       "    .dataframe thead th {\n",
       "        text-align: right;\n",
       "    }\n",
       "</style>\n",
       "<table border=\"1\" class=\"dataframe\">\n",
       "  <thead>\n",
       "    <tr style=\"text-align: right;\">\n",
       "      <th></th>\n",
       "      <th>Longitude</th>\n",
       "      <th>Latitude</th>\n",
       "      <th>geometry</th>\n",
       "    </tr>\n",
       "  </thead>\n",
       "  <tbody>\n",
       "    <tr>\n",
       "      <th>0</th>\n",
       "      <td>NaN</td>\n",
       "      <td>NaN</td>\n",
       "      <td>POINT (nan nan)</td>\n",
       "    </tr>\n",
       "  </tbody>\n",
       "</table>\n",
       "</div>"
      ],
      "text/plain": [
       "   Longitude  Latitude         geometry\n",
       "0        NaN       NaN  POINT (nan nan)"
      ]
     },
     "execution_count": 14,
     "metadata": {},
     "output_type": "execute_result"
    }
   ],
   "source": [
    "lon=wd.loc[wd.wetdet_delin_number == wdID, 'longitude'].values[0]\n",
    "lat=wd.loc[wd.wetdet_delin_number == wdID, 'latitude'].values[0]\n",
    "get_point_from_lonlat(lon=lon, lat=lat)"
   ]
  },
  {
   "cell_type": "code",
   "execution_count": 33,
   "id": "0e8fddbd",
   "metadata": {},
   "outputs": [],
   "source": [
    "unmapped_notes = pd.read_excel(f'{inpath}\\\\notes\\\\LCOGUnmappedRecordsJB.xlsx', skiprows=1)"
   ]
  },
  {
   "cell_type": "code",
   "execution_count": 179,
   "id": "9d234cad",
   "metadata": {},
   "outputs": [
    {
     "data": {
      "text/plain": [
       "array([['WD2017-0050',\n",
       "        'georeferencing will take some time; pages from 7 to 21',\n",
       "        'There are six study areas']], dtype=object)"
      ]
     },
     "execution_count": 179,
     "metadata": {},
     "output_type": "execute_result"
    }
   ],
   "source": [
    "unmapped_notes[unmapped_notes.wetdet_delin_number == wdID][['wetdet_delin_number', 'issue', 'JB Notes']].values"
   ]
  },
  {
   "cell_type": "code",
   "execution_count": 25,
   "id": "0466c02e",
   "metadata": {},
   "outputs": [],
   "source": [
    "t = '08S04W29'\n",
    "ct_nm = 'Polk'"
   ]
  },
  {
   "cell_type": "code",
   "execution_count": 26,
   "id": "cae7a4cd",
   "metadata": {},
   "outputs": [
    {
     "data": {
      "text/plain": [
       "True"
      ]
     },
     "execution_count": 26,
     "metadata": {},
     "output_type": "execute_result"
    }
   ],
   "source": [
    "t in trsqq"
   ]
  },
  {
   "cell_type": "code",
   "execution_count": 27,
   "id": "2206d033",
   "metadata": {},
   "outputs": [
    {
     "data": {
      "text/plain": [
       "'2708.00S04.00W2900--0000'"
      ]
     },
     "execution_count": 27,
     "metadata": {},
     "output_type": "execute_result"
    }
   ],
   "source": [
    "create_ORMapNm(ct_nm=ct_nm, trsqq=t)"
   ]
  },
  {
   "cell_type": "code",
   "execution_count": 28,
   "id": "8621760d",
   "metadata": {},
   "outputs": [
    {
     "data": {
      "text/plain": [
       "'2708.00S04.00W2900--000013500'"
      ]
     },
     "execution_count": 28,
     "metadata": {},
     "output_type": "execute_result"
    }
   ],
   "source": [
    "create_ORTaxlot(cnt_code=cnt_dict[ct_nm], trsqq=t, lot='13500')"
   ]
  },
  {
   "cell_type": "code",
   "execution_count": 30,
   "id": "885522da",
   "metadata": {},
   "outputs": [
    {
     "data": {
      "text/plain": [
       "True"
      ]
     },
     "execution_count": 30,
     "metadata": {},
     "output_type": "execute_result"
    }
   ],
   "source": [
    "'2708.00S04.00W29DA--000013500' in all_txid"
   ]
  },
  {
   "cell_type": "code",
   "execution_count": 7,
   "id": "7adda65e",
   "metadata": {},
   "outputs": [
    {
     "data": {
      "text/plain": [
       "'02.00N10.00E3000'"
      ]
     },
     "execution_count": 7,
     "metadata": {},
     "output_type": "execute_result"
    }
   ],
   "source": [
    "convert_trsqq('02N010E30')"
   ]
  },
  {
   "cell_type": "code",
   "execution_count": 63,
   "id": "b38d0331",
   "metadata": {},
   "outputs": [
    {
     "name": "stdout",
     "output_type": "stream",
     "text": [
      "14\n",
      "15\n",
      "16\n",
      "17\n",
      "18\n",
      "19\n",
      "20\n"
     ]
    }
   ],
   "source": [
    "wdID = 'WD2022-0579'\n",
    "url = wd.loc[wd.wetdet_delin_number == wdID, 'DecisionLink'].values[0]\n",
    "#print(url)\n",
    "o = 0\n",
    "for i in range(14, 21):\n",
    "    if o==0:\n",
    "        extract_page_from_docLink(url=url, pageNm=i, wdID=wdID)\n",
    "    elif o==1:\n",
    "        extract_page_from_locPath(filePath=pdf_path+f'\\\\docs\\\\{wdID}_10_14.pdf', \n",
    "                              pageNm=i, wdID=wdID)\n",
    "    else:\n",
    "        extract_page_from_locPath(filePath='C:/Users/clid1852/Downloads/WD20170490R ReissuedAgencyDecision.pdf', \n",
    "                                  pageNm=i, wdID=wdID)\n",
    "    print(i)"
   ]
  },
  {
   "cell_type": "code",
   "execution_count": 95,
   "id": "b0cb7f1e",
   "metadata": {},
   "outputs": [
    {
     "data": {
      "text/plain": [
       "'https://docs.dsl.state.or.us/PublicReview/ElectronicFile.aspx?docid=3643703&dbid=0'"
      ]
     },
     "execution_count": 95,
     "metadata": {},
     "output_type": "execute_result"
    }
   ],
   "source": [
    "url"
   ]
  },
  {
   "cell_type": "code",
   "execution_count": 8,
   "id": "fd069ee7",
   "metadata": {},
   "outputs": [],
   "source": [
    "#wdID = 'WD2019-0320'\n",
    "extract_page_from_locPath(filePath=f'{pdf_path}\\\\docs\\\\WD20200012 AgencyDecision.pdf', \n",
    "                          pageNm=4, wdID=wdID)"
   ]
  },
  {
   "cell_type": "code",
   "execution_count": 13,
   "id": "5dac40f1",
   "metadata": {},
   "outputs": [],
   "source": [
    "#wdID = 'WD2022-0694'\n",
    "extract_page_from_locPath(filePath=f'C:/Users/clid1852/Downloads/WD20200212 Request.pdf', \n",
    "                          pageNm=3, wdID=wdID)"
   ]
  },
  {
   "cell_type": "code",
   "execution_count": 22,
   "id": "82a38c33",
   "metadata": {},
   "outputs": [],
   "source": [
    "wdID = 'WD2017-0050'\n",
    "extract_page_from_locPath(filePath=pdf_outpath+'\\\\WD2017-0050_7_21.pdf', \n",
    "                          pageNm=0, wdID=wdID)"
   ]
  },
  {
   "cell_type": "code",
   "execution_count": 57,
   "id": "2fd96b4f",
   "metadata": {},
   "outputs": [],
   "source": [
    "wdID = 'WD2017-0381'\n",
    "pages = '7_8'\n",
    "for i in range(1, 3):\n",
    "    filePath = pdf_outpath + f'\\\\{wdID}_{pages}.pdf'\n",
    "    extract_page_from_locPath(filePath, i, wdID, k=7) "
   ]
  },
  {
   "cell_type": "code",
   "execution_count": 199,
   "id": "c89bbac4",
   "metadata": {},
   "outputs": [],
   "source": [
    "# A - lon=-122.780067, lat=45.300856\n",
    "# F - lon=-122.829843, lat=45.496684\n",
    "# WTP - lon=-122.808718, lat=45.363563\n",
    "# C - lon=-122.878706, lat=45.431823\n",
    "# E - lon=-122.901504, lat=45.525420\n",
    "# B - lon=-122.893679, lat=45.467799\n",
    "pnt = get_point_from_lonlat(lon=-122.893679, lat=45.467799, transprj=True, export=True)"
   ]
  }
 ],
 "metadata": {
  "kernelspec": {
   "display_name": "Python 3",
   "language": "python",
   "name": "python3"
  },
  "language_info": {
   "codemirror_mode": {
    "name": "ipython",
    "version": 3
   },
   "file_extension": ".py",
   "mimetype": "text/x-python",
   "name": "python",
   "nbconvert_exporter": "python",
   "pygments_lexer": "ipython3",
   "version": "3.8.8"
  }
 },
 "nbformat": 4,
 "nbformat_minor": 5
}
