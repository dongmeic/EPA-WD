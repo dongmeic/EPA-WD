{
 "cells": [
  {
   "cell_type": "code",
   "execution_count": 1,
   "id": "59bc0232",
   "metadata": {},
   "outputs": [],
   "source": [
    "from urllib.request import urlopen\n",
    "import io\n",
    "import requests\n",
    "import pandas as pd\n",
    "import webbrowser\n",
    "from PyPDF2 import PdfReader, PdfWriter"
   ]
  },
  {
   "cell_type": "code",
   "execution_count": 2,
   "id": "854c0a27",
   "metadata": {},
   "outputs": [],
   "source": [
    "from wdtools import *"
   ]
  },
  {
   "cell_type": "code",
   "execution_count": 3,
   "id": "9a118d61",
   "metadata": {},
   "outputs": [],
   "source": [
    "pdf_path = r'L:\\NaturalResources\\Wetlands\\Local Wetland Inventory\\WAPO\\EPA_2022_Tasks\\Task 1 WD Mapping'\n",
    "pdf_outpath = fr'{pdf_path}\\output\\pdf'\n",
    "revpath = r'L:\\NaturalResources\\Wetlands\\Local Wetland Inventory\\WAPO\\EPA_2022_Tasks\\Task 1 WD Mapping\\output\\to_review'"
   ]
  },
  {
   "cell_type": "code",
   "execution_count": 83,
   "id": "60b19c94",
   "metadata": {},
   "outputs": [],
   "source": [
    "#setID = 'Set002'; nm_to_add=1420\n",
    "#setID = 'Set003'; nm_to_add = 2143\n",
    "#setID = 'Set004'; nm_to_add = 2878\n",
    "#setID = 'Set005'; nm_to_add = 3932\n",
    "#setID = 'Set006'; nm_to_add = 4370\n",
    "#setID = 'Set007'; nm_to_add = 4972\n",
    "setID = 'Set008'; nm_to_add = 5402\n",
    "wd = combine_wd_tables(setID=setID, nm_to_add=nm_to_add) #, raw=False"
   ]
  },
  {
   "cell_type": "code",
   "execution_count": 6,
   "id": "c1e14167",
   "metadata": {},
   "outputs": [],
   "source": [
    "wd_all = get_all_wd(num=7)"
   ]
  },
  {
   "cell_type": "code",
   "execution_count": 7,
   "id": "07b00702",
   "metadata": {},
   "outputs": [],
   "source": [
    "sa_gdf_all = get_all_SA(num=6)"
   ]
  },
  {
   "cell_type": "code",
   "execution_count": 132,
   "id": "3a004875",
   "metadata": {},
   "outputs": [
    {
     "data": {
      "text/plain": [
       "True"
      ]
     },
     "execution_count": 132,
     "metadata": {},
     "output_type": "execute_result"
    }
   ],
   "source": [
    "'WD2020-0383'in sa_gdf_all.wdID.unique()"
   ]
  },
  {
   "cell_type": "code",
   "execution_count": 133,
   "id": "4f904501",
   "metadata": {},
   "outputs": [
    {
     "data": {
      "text/plain": [
       "<AxesSubplot:>"
      ]
     },
     "execution_count": 133,
     "metadata": {},
     "output_type": "execute_result"
    },
    {
     "data": {
      "image/png": "[encoded data removed]",
      "text/plain": [
       "<Figure size 432x288 with 1 Axes>"
      ]
     },
     "metadata": {
      "needs_background": "light"
     },
     "output_type": "display_data"
    }
   ],
   "source": [
    "sa_gdf_all[sa_gdf_all.wdID=='WD2020-0383'].plot()"
   ]
  },
  {
   "cell_type": "markdown",
   "id": "5a23df77",
   "metadata": {},
   "source": [
    "toCheckIDs = ['WD2018-0659', 'WD2019-0624', 'WD2019-0327', 'WD2021-0117', 'WD2021-0569', 'WD2020-0220', 'WD2017-0074']"
   ]
  },
  {
   "cell_type": "markdown",
   "id": "76d5057d",
   "metadata": {},
   "source": [
    "wdIDs = [wid for wid in toCheckIDs if wid in wd_all.wetdet_delin_number.unique()]"
   ]
  },
  {
   "cell_type": "markdown",
   "id": "930d85e5",
   "metadata": {},
   "source": [
    "wdIDs"
   ]
  },
  {
   "cell_type": "markdown",
   "id": "2e6490af",
   "metadata": {},
   "source": [
    "wd_all[wd_all.wetdet_delin_number.isin(wdIDs)][['wetdet_delin_number', 'SetID']]"
   ]
  },
  {
   "cell_type": "markdown",
   "id": "33642b18",
   "metadata": {},
   "source": [
    "mappedIDs = [wid for wid in toCheckIDs if wid in sa_gdf_all.wdID.unique()]"
   ]
  },
  {
   "cell_type": "markdown",
   "id": "f01d3670",
   "metadata": {},
   "source": [
    "mappedIDs"
   ]
  },
  {
   "cell_type": "markdown",
   "id": "b660a72f",
   "metadata": {},
   "source": [
    "sa_gdf_all[sa_gdf_all.wdID=='WD2021-0495']"
   ]
  },
  {
   "cell_type": "markdown",
   "id": "88a68fd4",
   "metadata": {},
   "source": [
    "sa_gdf_all[sa_gdf_all.wdID=='WD2017-0074'].plot()"
   ]
  },
  {
   "cell_type": "code",
   "execution_count": 6,
   "id": "a215763a",
   "metadata": {},
   "outputs": [],
   "source": [
    "wdID = 'WD2011-0335'"
   ]
  },
  {
   "cell_type": "code",
   "execution_count": 32,
   "id": "0d1fbdb4",
   "metadata": {},
   "outputs": [
    {
     "data": {
      "text/plain": [
       "Index(['wetdet_delin_number', 'trsqq', 'parcel_id', 'address_location_desc',\n",
       "       'city', 'county', 'site_name', 'site_desc', 'latitude', 'longitude',\n",
       "       'Coord-Source', 'DocumentName', 'DecisionLink', 'is_batch_file',\n",
       "       'status_name', 'received_date', 'response_date',\n",
       "       'reissuance_response_date', 'project_id', 'site_id', 'record_ID',\n",
       "       'notes', 'recyear', 'IDyear', 'missinglot'],\n",
       "      dtype='object')"
      ]
     },
     "execution_count": 32,
     "metadata": {},
     "output_type": "execute_result"
    }
   ],
   "source": [
    "wd.columns"
   ]
  },
  {
   "cell_type": "code",
   "execution_count": 10,
   "id": "77810d46",
   "metadata": {},
   "outputs": [
    {
     "data": {
      "text/html": [
       "<div>\n",
       "<style scoped>\n",
       "    .dataframe tbody tr th:only-of-type {\n",
       "        vertical-align: middle;\n",
       "    }\n",
       "\n",
       "    .dataframe tbody tr th {\n",
       "        vertical-align: top;\n",
       "    }\n",
       "\n",
       "    .dataframe thead th {\n",
       "        text-align: right;\n",
       "    }\n",
       "</style>\n",
       "<table border=\"1\" class=\"dataframe\">\n",
       "  <thead>\n",
       "    <tr style=\"text-align: right;\">\n",
       "      <th></th>\n",
       "      <th>wetdet_delin_number</th>\n",
       "      <th>status_name</th>\n",
       "      <th>is_batch_file</th>\n",
       "    </tr>\n",
       "  </thead>\n",
       "  <tbody>\n",
       "    <tr>\n",
       "      <th>83</th>\n",
       "      <td>WD2009-0368</td>\n",
       "      <td>Withdrawn by DSL</td>\n",
       "      <td>Y</td>\n",
       "    </tr>\n",
       "  </tbody>\n",
       "</table>\n",
       "</div>"
      ],
      "text/plain": [
       "   wetdet_delin_number       status_name is_batch_file\n",
       "83         WD2009-0368  Withdrawn by DSL             Y"
      ]
     },
     "execution_count": 10,
     "metadata": {},
     "output_type": "execute_result"
    }
   ],
   "source": [
    "wd[(wd.status_name.isin([\"Withdrawn by DSL\", \"Withdrawn by Applicant\"])) & (wd.is_batch_file=='Y')][[\"wetdet_delin_number\", \"status_name\", \"is_batch_file\"]]"
   ]
  },
  {
   "cell_type": "code",
   "execution_count": 98,
   "id": "3d748f9e",
   "metadata": {},
   "outputs": [],
   "source": [
    "url = wd.loc[wd.wetdet_delin_number == 'WD2018-0281', 'DecisionLink'].values[0]\n",
    "if str(url) == 'nan':\n",
    "    print('Decision link is not available')\n",
    "else:\n",
    "    webbrowser.open(url)"
   ]
  },
  {
   "cell_type": "code",
   "execution_count": 8,
   "id": "38b00b1d",
   "metadata": {},
   "outputs": [],
   "source": [
    "wdID = 'WD2008-0358'"
   ]
  },
  {
   "cell_type": "code",
   "execution_count": 7,
   "id": "45a2b8a8",
   "metadata": {},
   "outputs": [],
   "source": [
    "url = wd.loc[wd.wetdet_delin_number == wdID, 'DecisionLink'].values[0]\n",
    "extract_page_from_docLink(url=url, pageNm=13, wdID=wdID)"
   ]
  },
  {
   "cell_type": "code",
   "execution_count": 120,
   "id": "380ae699",
   "metadata": {},
   "outputs": [
    {
     "data": {
      "text/html": [
       "<div>\n",
       "<style scoped>\n",
       "    .dataframe tbody tr th:only-of-type {\n",
       "        vertical-align: middle;\n",
       "    }\n",
       "\n",
       "    .dataframe tbody tr th {\n",
       "        vertical-align: top;\n",
       "    }\n",
       "\n",
       "    .dataframe thead th {\n",
       "        text-align: right;\n",
       "    }\n",
       "</style>\n",
       "<table border=\"1\" class=\"dataframe\">\n",
       "  <thead>\n",
       "    <tr style=\"text-align: right;\">\n",
       "      <th></th>\n",
       "      <th>latitude</th>\n",
       "      <th>longitude</th>\n",
       "    </tr>\n",
       "  </thead>\n",
       "  <tbody>\n",
       "    <tr>\n",
       "      <th>29</th>\n",
       "      <td>44.115705</td>\n",
       "      <td>-123.181328</td>\n",
       "    </tr>\n",
       "    <tr>\n",
       "      <th>293</th>\n",
       "      <td>44.115705</td>\n",
       "      <td>-123.181328</td>\n",
       "    </tr>\n",
       "  </tbody>\n",
       "</table>\n",
       "</div>"
      ],
      "text/plain": [
       "      latitude   longitude\n",
       "29   44.115705 -123.181328\n",
       "293  44.115705 -123.181328"
      ]
     },
     "execution_count": 120,
     "metadata": {},
     "output_type": "execute_result"
    }
   ],
   "source": [
    "wd.loc[wd.wetdet_delin_number.isin(['WD2022-0430', 'WD2022-0431']), ['latitude', 'longitude']]"
   ]
  },
  {
   "cell_type": "code",
   "execution_count": 62,
   "id": "15ff3aa8",
   "metadata": {},
   "outputs": [
    {
     "data": {
      "text/html": [
       "<div>\n",
       "<style scoped>\n",
       "    .dataframe tbody tr th:only-of-type {\n",
       "        vertical-align: middle;\n",
       "    }\n",
       "\n",
       "    .dataframe tbody tr th {\n",
       "        vertical-align: top;\n",
       "    }\n",
       "\n",
       "    .dataframe thead th {\n",
       "        text-align: right;\n",
       "    }\n",
       "</style>\n",
       "<table border=\"1\" class=\"dataframe\">\n",
       "  <thead>\n",
       "    <tr style=\"text-align: right;\">\n",
       "      <th></th>\n",
       "      <th>Coord-Source</th>\n",
       "      <th>status_name</th>\n",
       "    </tr>\n",
       "  </thead>\n",
       "  <tbody>\n",
       "    <tr>\n",
       "      <th>29</th>\n",
       "      <td>DSL Verified</td>\n",
       "      <td>Approved</td>\n",
       "    </tr>\n",
       "  </tbody>\n",
       "</table>\n",
       "</div>"
      ],
      "text/plain": [
       "    Coord-Source status_name\n",
       "29  DSL Verified    Approved"
      ]
     },
     "execution_count": 62,
     "metadata": {},
     "output_type": "execute_result"
    }
   ],
   "source": [
    "wd.loc[wd.wetdet_delin_number == 'WD2022-0431', ['Coord-Source', 'status_name']]"
   ]
  },
  {
   "cell_type": "code",
   "execution_count": 86,
   "id": "bcdb6a7b",
   "metadata": {},
   "outputs": [
    {
     "data": {
      "text/plain": [
       "547    https://docs.dsl.state.or.us/PublicReview/Elec...\n",
       "Name: DecisionLink, dtype: object"
      ]
     },
     "execution_count": 86,
     "metadata": {},
     "output_type": "execute_result"
    }
   ],
   "source": [
    "wd[wd.wetdet_delin_number == wdID]['DecisionLink']"
   ]
  },
  {
   "cell_type": "code",
   "execution_count": 8,
   "id": "773e45f3",
   "metadata": {},
   "outputs": [
    {
     "data": {
      "text/html": [
       "<div>\n",
       "<style scoped>\n",
       "    .dataframe tbody tr th:only-of-type {\n",
       "        vertical-align: middle;\n",
       "    }\n",
       "\n",
       "    .dataframe tbody tr th {\n",
       "        vertical-align: top;\n",
       "    }\n",
       "\n",
       "    .dataframe thead th {\n",
       "        text-align: right;\n",
       "    }\n",
       "</style>\n",
       "<table border=\"1\" class=\"dataframe\">\n",
       "  <thead>\n",
       "    <tr style=\"text-align: right;\">\n",
       "      <th></th>\n",
       "      <th>longitude</th>\n",
       "      <th>latitude</th>\n",
       "    </tr>\n",
       "  </thead>\n",
       "  <tbody>\n",
       "    <tr>\n",
       "      <th>352</th>\n",
       "      <td>-123.088023</td>\n",
       "      <td>44.677806</td>\n",
       "    </tr>\n",
       "    <tr>\n",
       "      <th>353</th>\n",
       "      <td>-123.086747</td>\n",
       "      <td>44.680010</td>\n",
       "    </tr>\n",
       "  </tbody>\n",
       "</table>\n",
       "</div>"
      ],
      "text/plain": [
       "      longitude   latitude\n",
       "352 -123.088023  44.677806\n",
       "353 -123.086747  44.680010"
      ]
     },
     "execution_count": 8,
     "metadata": {},
     "output_type": "execute_result"
    }
   ],
   "source": [
    "wd.loc[wd.wetdet_delin_number == wdID, ['longitude', 'latitude']]"
   ]
  },
  {
   "cell_type": "code",
   "execution_count": 24,
   "id": "29a60878",
   "metadata": {},
   "outputs": [
    {
     "data": {
      "text/html": [
       "<div>\n",
       "<style scoped>\n",
       "    .dataframe tbody tr th:only-of-type {\n",
       "        vertical-align: middle;\n",
       "    }\n",
       "\n",
       "    .dataframe tbody tr th {\n",
       "        vertical-align: top;\n",
       "    }\n",
       "\n",
       "    .dataframe thead th {\n",
       "        text-align: right;\n",
       "    }\n",
       "</style>\n",
       "<table border=\"1\" class=\"dataframe\">\n",
       "  <thead>\n",
       "    <tr style=\"text-align: right;\">\n",
       "      <th></th>\n",
       "      <th>Longitude</th>\n",
       "      <th>Latitude</th>\n",
       "      <th>geometry</th>\n",
       "    </tr>\n",
       "  </thead>\n",
       "  <tbody>\n",
       "    <tr>\n",
       "      <th>0</th>\n",
       "      <td>-123.195325</td>\n",
       "      <td>44.843351</td>\n",
       "      <td>POINT (613455.107 1139013.871)</td>\n",
       "    </tr>\n",
       "  </tbody>\n",
       "</table>\n",
       "</div>"
      ],
      "text/plain": [
       "    Longitude   Latitude                        geometry\n",
       "0 -123.195325  44.843351  POINT (613455.107 1139013.871)"
      ]
     },
     "execution_count": 24,
     "metadata": {},
     "output_type": "execute_result"
    }
   ],
   "source": [
    "lon=-123.19532451319888\n",
    "lat=44.84335117060216\n",
    "get_point_from_lonlat(lon=lon, lat=lat)"
   ]
  },
  {
   "cell_type": "code",
   "execution_count": 139,
   "id": "be160346",
   "metadata": {},
   "outputs": [],
   "source": [
    "wdID = 'WD2012-0112'"
   ]
  },
  {
   "cell_type": "code",
   "execution_count": 93,
   "id": "1e97b663",
   "metadata": {},
   "outputs": [
    {
     "data": {
      "text/plain": [
       "'WD2016-0031'"
      ]
     },
     "execution_count": 93,
     "metadata": {},
     "output_type": "execute_result"
    }
   ],
   "source": [
    "wdID"
   ]
  },
  {
   "cell_type": "code",
   "execution_count": 95,
   "id": "a1079611",
   "metadata": {},
   "outputs": [
    {
     "data": {
      "text/html": [
       "<div>\n",
       "<style scoped>\n",
       "    .dataframe tbody tr th:only-of-type {\n",
       "        vertical-align: middle;\n",
       "    }\n",
       "\n",
       "    .dataframe tbody tr th {\n",
       "        vertical-align: top;\n",
       "    }\n",
       "\n",
       "    .dataframe thead th {\n",
       "        text-align: right;\n",
       "    }\n",
       "</style>\n",
       "<table border=\"1\" class=\"dataframe\">\n",
       "  <thead>\n",
       "    <tr style=\"text-align: right;\">\n",
       "      <th></th>\n",
       "      <th>wetdet_delin_number</th>\n",
       "      <th>trsqq</th>\n",
       "      <th>parcel_id</th>\n",
       "      <th>address_location_desc</th>\n",
       "      <th>city</th>\n",
       "      <th>county</th>\n",
       "      <th>site_name</th>\n",
       "      <th>site_desc</th>\n",
       "      <th>latitude</th>\n",
       "      <th>longitude</th>\n",
       "      <th>...</th>\n",
       "      <th>response_date</th>\n",
       "      <th>reissuance_response_date</th>\n",
       "      <th>project_id</th>\n",
       "      <th>site_id</th>\n",
       "      <th>record_ID</th>\n",
       "      <th>notes</th>\n",
       "      <th>recyear</th>\n",
       "      <th>IDyear</th>\n",
       "      <th>missinglot</th>\n",
       "      <th>SetID</th>\n",
       "    </tr>\n",
       "  </thead>\n",
       "  <tbody>\n",
       "    <tr>\n",
       "      <th>413</th>\n",
       "      <td>WD2016-0031</td>\n",
       "      <td>17S12E36</td>\n",
       "      <td>100,300,400,502,600, All part</td>\n",
       "      <td>SW OF INTERSECTION BETWEEN NEFF RD AND ERICKSO...</td>\n",
       "      <td>BEND</td>\n",
       "      <td>Deschutes</td>\n",
       "      <td>COLLIER EXPANSION 17S12E36</td>\n",
       "      <td>WD2016-0031 SOLAR POWER GENERATION</td>\n",
       "      <td>44.06464</td>\n",
       "      <td>-121.229317</td>\n",
       "      <td>...</td>\n",
       "      <td>3/16/2016</td>\n",
       "      <td>NaN</td>\n",
       "      <td>NaN</td>\n",
       "      <td>97856</td>\n",
       "      <td>5386</td>\n",
       "      <td>Partial</td>\n",
       "      <td>2016</td>\n",
       "      <td>2016</td>\n",
       "      <td>N</td>\n",
       "      <td>7</td>\n",
       "    </tr>\n",
       "  </tbody>\n",
       "</table>\n",
       "<p>1 rows × 26 columns</p>\n",
       "</div>"
      ],
      "text/plain": [
       "    wetdet_delin_number     trsqq                      parcel_id  \\\n",
       "413         WD2016-0031  17S12E36  100,300,400,502,600, All part   \n",
       "\n",
       "                                 address_location_desc  city     county  \\\n",
       "413  SW OF INTERSECTION BETWEEN NEFF RD AND ERICKSO...  BEND  Deschutes   \n",
       "\n",
       "                      site_name                           site_desc  latitude  \\\n",
       "413  COLLIER EXPANSION 17S12E36  WD2016-0031 SOLAR POWER GENERATION  44.06464   \n",
       "\n",
       "      longitude  ... response_date reissuance_response_date project_id  \\\n",
       "413 -121.229317  ...     3/16/2016                      NaN        NaN   \n",
       "\n",
       "    site_id record_ID    notes recyear IDyear  missinglot  SetID  \n",
       "413   97856      5386  Partial    2016   2016           N      7  \n",
       "\n",
       "[1 rows x 26 columns]"
      ]
     },
     "execution_count": 95,
     "metadata": {},
     "output_type": "execute_result"
    }
   ],
   "source": [
    "wd[wd.wetdet_delin_number == wdID]"
   ]
  },
  {
   "cell_type": "code",
   "execution_count": 10,
   "id": "068390e1",
   "metadata": {},
   "outputs": [
    {
     "data": {
      "text/plain": [
       "'WD2008-0358'"
      ]
     },
     "execution_count": 10,
     "metadata": {},
     "output_type": "execute_result"
    }
   ],
   "source": [
    "wdID"
   ]
  },
  {
   "cell_type": "code",
   "execution_count": 86,
   "id": "d3501447",
   "metadata": {},
   "outputs": [
    {
     "data": {
      "text/html": [
       "<div>\n",
       "<style scoped>\n",
       "    .dataframe tbody tr th:only-of-type {\n",
       "        vertical-align: middle;\n",
       "    }\n",
       "\n",
       "    .dataframe tbody tr th {\n",
       "        vertical-align: top;\n",
       "    }\n",
       "\n",
       "    .dataframe thead th {\n",
       "        text-align: right;\n",
       "    }\n",
       "</style>\n",
       "<table border=\"1\" class=\"dataframe\">\n",
       "  <thead>\n",
       "    <tr style=\"text-align: right;\">\n",
       "      <th></th>\n",
       "      <th>wetdet_delin_number</th>\n",
       "      <th>trsqq</th>\n",
       "      <th>parcel_id</th>\n",
       "      <th>address_location_desc</th>\n",
       "      <th>city</th>\n",
       "      <th>county</th>\n",
       "      <th>site_name</th>\n",
       "      <th>site_desc</th>\n",
       "      <th>latitude</th>\n",
       "      <th>longitude</th>\n",
       "      <th>...</th>\n",
       "      <th>received_date</th>\n",
       "      <th>response_date</th>\n",
       "      <th>reissuance_response_date</th>\n",
       "      <th>project_id</th>\n",
       "      <th>site_id</th>\n",
       "      <th>record_ID</th>\n",
       "      <th>notes</th>\n",
       "      <th>recyear</th>\n",
       "      <th>IDyear</th>\n",
       "      <th>missinglot</th>\n",
       "    </tr>\n",
       "  </thead>\n",
       "  <tbody>\n",
       "    <tr>\n",
       "      <th>0</th>\n",
       "      <td>WD2008-0229</td>\n",
       "      <td>38S21E00</td>\n",
       "      <td>602</td>\n",
       "      <td>Warner Canyon Ski Area, Lakeview OR</td>\n",
       "      <td>Lakeview</td>\n",
       "      <td>Lake</td>\n",
       "      <td>38S21E00</td>\n",
       "      <td>WD2008-0229 Warner Canyon Waterworks (s30)</td>\n",
       "      <td>42.24389</td>\n",
       "      <td>-120.286</td>\n",
       "      <td>...</td>\n",
       "      <td>2008-04-03</td>\n",
       "      <td>2008-05-09</td>\n",
       "      <td>NaT</td>\n",
       "      <td>NaN</td>\n",
       "      <td>64004</td>\n",
       "      <td>5403</td>\n",
       "      <td></td>\n",
       "      <td>2008</td>\n",
       "      <td>2008</td>\n",
       "      <td>N</td>\n",
       "    </tr>\n",
       "  </tbody>\n",
       "</table>\n",
       "<p>1 rows × 25 columns</p>\n",
       "</div>"
      ],
      "text/plain": [
       "  wetdet_delin_number     trsqq parcel_id  \\\n",
       "0         WD2008-0229  38S21E00       602   \n",
       "\n",
       "                 address_location_desc      city county site_name  \\\n",
       "0  Warner Canyon Ski Area, Lakeview OR  Lakeview   Lake  38S21E00   \n",
       "\n",
       "                                    site_desc  latitude  longitude  ...  \\\n",
       "0  WD2008-0229 Warner Canyon Waterworks (s30)  42.24389   -120.286  ...   \n",
       "\n",
       "  received_date response_date reissuance_response_date project_id site_id  \\\n",
       "0    2008-04-03    2008-05-09                      NaT        NaN   64004   \n",
       "\n",
       "  record_ID notes recyear  IDyear  missinglot  \n",
       "0      5403          2008    2008           N  \n",
       "\n",
       "[1 rows x 25 columns]"
      ]
     },
     "execution_count": 86,
     "metadata": {},
     "output_type": "execute_result"
    }
   ],
   "source": [
    "wd[wd.wetdet_delin_number == wdID]"
   ]
  },
  {
   "cell_type": "code",
   "execution_count": 140,
   "id": "74332fa8",
   "metadata": {},
   "outputs": [
    {
     "name": "stdout",
     "output_type": "stream",
     "text": [
      "   Longitude  Latitude                        geometry\n",
      "0  -122.4697   44.8004  POINT (801186.301 1118015.525)\n"
     ]
    }
   ],
   "source": [
    "lon=wd.loc[wd.wetdet_delin_number == wdID, 'longitude'].values[0]\n",
    "lat=wd.loc[wd.wetdet_delin_number == wdID, 'latitude'].values[0]\n",
    "pnt = get_point_from_lonlat(lon=lon, lat=lat)\n",
    "print(pnt)"
   ]
  },
  {
   "cell_type": "code",
   "execution_count": 33,
   "id": "0e8fddbd",
   "metadata": {},
   "outputs": [],
   "source": [
    "unmapped_notes = pd.read_excel(f'{inpath}\\\\notes\\\\LCOGUnmappedRecordsJB.xlsx', skiprows=1)"
   ]
  },
  {
   "cell_type": "code",
   "execution_count": 179,
   "id": "9d234cad",
   "metadata": {},
   "outputs": [
    {
     "data": {
      "text/plain": [
       "array([['WD2017-0050',\n",
       "        'georeferencing will take some time; pages from 7 to 21',\n",
       "        'There are six study areas']], dtype=object)"
      ]
     },
     "execution_count": 179,
     "metadata": {},
     "output_type": "execute_result"
    }
   ],
   "source": [
    "unmapped_notes[unmapped_notes.wetdet_delin_number == wdID][['wetdet_delin_number', 'issue', 'JB Notes']].values"
   ]
  },
  {
   "cell_type": "code",
   "execution_count": 75,
   "id": "1d9fcde1",
   "metadata": {},
   "outputs": [
    {
     "name": "stdout",
     "output_type": "stream",
     "text": [
      "2011\n",
      "2012\n",
      "2013\n",
      "2014\n",
      "2015\n",
      "2016\n"
     ]
    }
   ],
   "source": [
    "Lake_taxlot = combine_taxlot(yearstart=2011, yearend=2017, all_counties=False, counties=['Lake'])"
   ]
  },
  {
   "cell_type": "code",
   "execution_count": 13,
   "id": "44682281",
   "metadata": {},
   "outputs": [
    {
     "name": "stdout",
     "output_type": "stream",
     "text": [
      "2009\n",
      "2011\n",
      "2012\n",
      "2014\n",
      "2015\n",
      "2016\n"
     ]
    }
   ],
   "source": [
    "Marion_taxlot = combine_taxlot(yearstart=2009, yearend=2017, skips=[2010, 2013], all_counties=False, counties=['Marion'])"
   ]
  },
  {
   "cell_type": "code",
   "execution_count": 17,
   "id": "c449ad86",
   "metadata": {},
   "outputs": [
    {
     "data": {
      "text/html": [
       "<div>\n",
       "<style scoped>\n",
       "    .dataframe tbody tr th:only-of-type {\n",
       "        vertical-align: middle;\n",
       "    }\n",
       "\n",
       "    .dataframe tbody tr th {\n",
       "        vertical-align: top;\n",
       "    }\n",
       "\n",
       "    .dataframe thead th {\n",
       "        text-align: right;\n",
       "    }\n",
       "</style>\n",
       "<table border=\"1\" class=\"dataframe\">\n",
       "  <thead>\n",
       "    <tr style=\"text-align: right;\">\n",
       "      <th></th>\n",
       "      <th>year</th>\n",
       "      <th>county</th>\n",
       "      <th>ORTaxlot</th>\n",
       "      <th>geometry</th>\n",
       "    </tr>\n",
       "  </thead>\n",
       "  <tbody>\n",
       "    <tr>\n",
       "      <th>0</th>\n",
       "      <td>2009.0</td>\n",
       "      <td>Marion</td>\n",
       "      <td>2404.00S01.00E06BB--000000100</td>\n",
       "      <td>MULTIPOLYGON (((735836.692 1287081.564, 735787...</td>\n",
       "    </tr>\n",
       "    <tr>\n",
       "      <th>1</th>\n",
       "      <td>2009.0</td>\n",
       "      <td>Marion</td>\n",
       "      <td>2404.00S01.00E06BB--000000200</td>\n",
       "      <td>MULTIPOLYGON (((735495.165 1287090.969, 735494...</td>\n",
       "    </tr>\n",
       "    <tr>\n",
       "      <th>2</th>\n",
       "      <td>2009.0</td>\n",
       "      <td>Marion</td>\n",
       "      <td>2404.00S01.00E06BB--000000300</td>\n",
       "      <td>MULTIPOLYGON (((735190.322 1287099.250, 735186...</td>\n",
       "    </tr>\n",
       "    <tr>\n",
       "      <th>3</th>\n",
       "      <td>2009.0</td>\n",
       "      <td>Marion</td>\n",
       "      <td>2404.00S01.00E06BB--000000500</td>\n",
       "      <td>MULTIPOLYGON (((735165.666 1286799.253, 735165...</td>\n",
       "    </tr>\n",
       "    <tr>\n",
       "      <th>4</th>\n",
       "      <td>2009.0</td>\n",
       "      <td>Marion</td>\n",
       "      <td>2404.00S01.00W0300--000001300</td>\n",
       "      <td>MULTIPOLYGON (((722277.183 1282832.592, 722268...</td>\n",
       "    </tr>\n",
       "  </tbody>\n",
       "</table>\n",
       "</div>"
      ],
      "text/plain": [
       "     year  county                       ORTaxlot  \\\n",
       "0  2009.0  Marion  2404.00S01.00E06BB--000000100   \n",
       "1  2009.0  Marion  2404.00S01.00E06BB--000000200   \n",
       "2  2009.0  Marion  2404.00S01.00E06BB--000000300   \n",
       "3  2009.0  Marion  2404.00S01.00E06BB--000000500   \n",
       "4  2009.0  Marion  2404.00S01.00W0300--000001300   \n",
       "\n",
       "                                            geometry  \n",
       "0  MULTIPOLYGON (((735836.692 1287081.564, 735787...  \n",
       "1  MULTIPOLYGON (((735495.165 1287090.969, 735494...  \n",
       "2  MULTIPOLYGON (((735190.322 1287099.250, 735186...  \n",
       "3  MULTIPOLYGON (((735165.666 1286799.253, 735165...  \n",
       "4  MULTIPOLYGON (((722277.183 1282832.592, 722268...  "
      ]
     },
     "execution_count": 17,
     "metadata": {},
     "output_type": "execute_result"
    }
   ],
   "source": [
    "Marion_taxlot.head()"
   ]
  },
  {
   "cell_type": "code",
   "execution_count": 141,
   "id": "0466c02e",
   "metadata": {},
   "outputs": [],
   "source": [
    "t = '09S03E08'\n",
    "ct_nm = 'Marion'"
   ]
  },
  {
   "cell_type": "code",
   "execution_count": 101,
   "id": "cae7a4cd",
   "metadata": {},
   "outputs": [
    {
     "data": {
      "text/plain": [
       "True"
      ]
     },
     "execution_count": 101,
     "metadata": {},
     "output_type": "execute_result"
    }
   ],
   "source": [
    "t in trsqq"
   ]
  },
  {
   "cell_type": "code",
   "execution_count": 15,
   "id": "2206d033",
   "metadata": {},
   "outputs": [
    {
     "name": "stdout",
     "output_type": "stream",
     "text": [
      "2408.00S03.00W13BA--0000\n"
     ]
    }
   ],
   "source": [
    "mpidx = create_ORMapNm(ct_nm=ct_nm, trsqq=t)\n",
    "print(mpidx)"
   ]
  },
  {
   "cell_type": "code",
   "execution_count": 95,
   "id": "67f28dd0",
   "metadata": {},
   "outputs": [
    {
     "data": {
      "text/plain": [
       "True"
      ]
     },
     "execution_count": 95,
     "metadata": {},
     "output_type": "execute_result"
    }
   ],
   "source": [
    "mpidx in all_mpidx"
   ]
  },
  {
   "cell_type": "code",
   "execution_count": 142,
   "id": "8621760d",
   "metadata": {},
   "outputs": [
    {
     "name": "stdout",
     "output_type": "stream",
     "text": [
      "2409.00S03.00E0800--000000500\n"
     ]
    }
   ],
   "source": [
    "txlot = create_ORTaxlot(cnt_code=cnt_dict[ct_nm], trsqq=t, lot='500')\n",
    "print(txlot)"
   ]
  },
  {
   "cell_type": "code",
   "execution_count": 143,
   "id": "885522da",
   "metadata": {
    "scrolled": true
   },
   "outputs": [
    {
     "data": {
      "text/plain": [
       "True"
      ]
     },
     "execution_count": 143,
     "metadata": {},
     "output_type": "execute_result"
    }
   ],
   "source": [
    "#txlot in all_txid\n",
    "#txlot in Lake_taxlot.ORTaxlot.unique()\n",
    "txlot in Marion_taxlot.ORTaxlot.unique()"
   ]
  },
  {
   "cell_type": "code",
   "execution_count": 144,
   "id": "64083a6e",
   "metadata": {},
   "outputs": [
    {
     "data": {
      "image/png": "[encoded data removed]",
      "text/plain": [
       "<Figure size 432x288 with 1 Axes>"
      ]
     },
     "metadata": {
      "needs_background": "light"
     },
     "output_type": "display_data"
    }
   ],
   "source": [
    "#poly = Lake_taxlot[Lake_taxlot.ORTaxlot==txlot]\n",
    "poly = Marion_taxlot[Marion_taxlot.ORTaxlot==txlot]\n",
    "base = poly.plot(color='white', edgecolor='black')\n",
    "pnt.plot(ax=base, marker='o', color='red', markersize=5);"
   ]
  },
  {
   "cell_type": "code",
   "execution_count": 7,
   "id": "7adda65e",
   "metadata": {},
   "outputs": [
    {
     "data": {
      "text/plain": [
       "'02.00N10.00E3000'"
      ]
     },
     "execution_count": 7,
     "metadata": {},
     "output_type": "execute_result"
    }
   ],
   "source": [
    "convert_trsqq('02N010E30')"
   ]
  },
  {
   "cell_type": "code",
   "execution_count": 87,
   "id": "b38d0331",
   "metadata": {},
   "outputs": [
    {
     "name": "stdout",
     "output_type": "stream",
     "text": [
      "13\n",
      "14\n",
      "15\n",
      "16\n",
      "17\n",
      "18\n"
     ]
    }
   ],
   "source": [
    "wdID = 'WD2016-0175'\n",
    "url = wd.loc[wd.wetdet_delin_number == wdID, 'DecisionLink'].values[0]\n",
    "#print(url)\n",
    "o = 2\n",
    "for i in range(13, 19):\n",
    "    if o==0:\n",
    "        extract_page_from_docLink(url=url, pageNm=i, wdID=wdID)\n",
    "    elif o==1:\n",
    "        extract_page_from_locPath(filePath=pdf_path+f'\\\\docs\\\\{wdID}_10_14.pdf', \n",
    "                              pageNm=i, wdID=wdID)\n",
    "    else:\n",
    "        extract_page_from_locPath(filePath=f'C:/Users/clid1852/Downloads/{wdID}final.pdf', \n",
    "                                  pageNm=i, wdID=wdID)\n",
    "    print(i)"
   ]
  },
  {
   "cell_type": "code",
   "execution_count": 95,
   "id": "b0cb7f1e",
   "metadata": {},
   "outputs": [
    {
     "data": {
      "text/plain": [
       "'https://docs.dsl.state.or.us/PublicReview/ElectronicFile.aspx?docid=3643703&dbid=0'"
      ]
     },
     "execution_count": 95,
     "metadata": {},
     "output_type": "execute_result"
    }
   ],
   "source": [
    "url"
   ]
  },
  {
   "cell_type": "code",
   "execution_count": 8,
   "id": "fd069ee7",
   "metadata": {},
   "outputs": [],
   "source": [
    "#wdID = 'WD2019-0320'\n",
    "extract_page_from_locPath(filePath=f'{pdf_path}\\\\docs\\\\WD20200012 AgencyDecision.pdf', \n",
    "                          pageNm=4, wdID=wdID)"
   ]
  },
  {
   "cell_type": "code",
   "execution_count": 13,
   "id": "5dac40f1",
   "metadata": {},
   "outputs": [],
   "source": [
    "#wdID = 'WD2022-0694'\n",
    "extract_page_from_locPath(filePath=f'C:/Users/clid1852/Downloads/WD20200212 Request.pdf', \n",
    "                          pageNm=3, wdID=wdID)"
   ]
  },
  {
   "cell_type": "code",
   "execution_count": 22,
   "id": "82a38c33",
   "metadata": {},
   "outputs": [],
   "source": [
    "wdID = 'WD2017-0050'\n",
    "extract_page_from_locPath(filePath=pdf_outpath+'\\\\WD2017-0050_7_21.pdf', \n",
    "                          pageNm=0, wdID=wdID)"
   ]
  },
  {
   "cell_type": "code",
   "execution_count": 57,
   "id": "2fd96b4f",
   "metadata": {},
   "outputs": [],
   "source": [
    "wdID = 'WD2017-0381'\n",
    "pages = '7_8'\n",
    "for i in range(1, 3):\n",
    "    filePath = pdf_outpath + f'\\\\{wdID}_{pages}.pdf'\n",
    "    extract_page_from_locPath(filePath, i, wdID, k=7) "
   ]
  },
  {
   "cell_type": "code",
   "execution_count": 199,
   "id": "c89bbac4",
   "metadata": {},
   "outputs": [],
   "source": [
    "# A - lon=-122.780067, lat=45.300856\n",
    "# F - lon=-122.829843, lat=45.496684\n",
    "# WTP - lon=-122.808718, lat=45.363563\n",
    "# C - lon=-122.878706, lat=45.431823\n",
    "# E - lon=-122.901504, lat=45.525420\n",
    "# B - lon=-122.893679, lat=45.467799\n",
    "pnt = get_point_from_lonlat(lon=-122.893679, lat=45.467799, transprj=True, export=True)"
   ]
  }
 ],
 "metadata": {
  "kernelspec": {
   "display_name": "Python 3",
   "language": "python",
   "name": "python3"
  },
  "language_info": {
   "codemirror_mode": {
    "name": "ipython",
    "version": 3
   },
   "file_extension": ".py",
   "mimetype": "text/x-python",
   "name": "python",
   "nbconvert_exporter": "python",
   "pygments_lexer": "ipython3",
   "version": "3.8.8"
  }
 },
 "nbformat": 4,
 "nbformat_minor": 5
}
