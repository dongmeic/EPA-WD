{
 "cells": [
  {
   "cell_type": "code",
   "execution_count": 1,
   "id": "59bc0232",
   "metadata": {},
   "outputs": [],
   "source": [
    "from urllib.request import urlopen"
   ]
  },
  {
   "cell_type": "code",
   "execution_count": 3,
   "id": "a1a5449c",
   "metadata": {},
   "outputs": [],
   "source": [
    "import io\n",
    "import requests"
   ]
  },
  {
   "cell_type": "code",
   "execution_count": 17,
   "id": "7ddde4a9",
   "metadata": {},
   "outputs": [],
   "source": [
    "from PyPDF2 import PdfFileReader, PdfFileWriter"
   ]
  },
  {
   "cell_type": "code",
   "execution_count": 4,
   "id": "8f663de2",
   "metadata": {},
   "outputs": [],
   "source": [
    "url = 'https://docs.dsl.state.or.us/PublicReview/ElectronicFile.aspx?docid=3878075&dbid=0'"
   ]
  },
  {
   "cell_type": "code",
   "execution_count": 6,
   "id": "c771d640",
   "metadata": {},
   "outputs": [],
   "source": [
    "response = requests.get(url=url, timeout=120)"
   ]
  },
  {
   "cell_type": "code",
   "execution_count": 7,
   "id": "37c08c71",
   "metadata": {},
   "outputs": [],
   "source": [
    "on_fly_mem_obj = io.BytesIO(response.content)"
   ]
  },
  {
   "cell_type": "code",
   "execution_count": 8,
   "id": "7756487c",
   "metadata": {},
   "outputs": [],
   "source": [
    "pdf_file = PdfReader(on_fly_mem_obj)"
   ]
  },
  {
   "cell_type": "code",
   "execution_count": 9,
   "id": "740929ac",
   "metadata": {},
   "outputs": [
    {
     "data": {
      "text/plain": [
       "<PyPDF2._reader.PdfReader at 0x24b86ece4c0>"
      ]
     },
     "execution_count": 9,
     "metadata": {},
     "output_type": "execute_result"
    }
   ],
   "source": [
    "pdf_file"
   ]
  },
  {
   "cell_type": "code",
   "execution_count": 12,
   "id": "0a430353",
   "metadata": {},
   "outputs": [
    {
     "data": {
      "text/plain": [
       "31"
      ]
     },
     "execution_count": 12,
     "metadata": {},
     "output_type": "execute_result"
    }
   ],
   "source": [
    "pdf_file.numPages"
   ]
  },
  {
   "cell_type": "code",
   "execution_count": 32,
   "id": "28550e47",
   "metadata": {},
   "outputs": [],
   "source": [
    "page = 3"
   ]
  },
  {
   "cell_type": "code",
   "execution_count": 33,
   "id": "be55a6f9",
   "metadata": {},
   "outputs": [],
   "source": [
    "pageObj = pdf_file.getPage(page)"
   ]
  },
  {
   "cell_type": "code",
   "execution_count": 34,
   "id": "72bab066",
   "metadata": {},
   "outputs": [],
   "source": [
    "pdf_writer = PdfFileWriter()"
   ]
  },
  {
   "cell_type": "code",
   "execution_count": 35,
   "id": "3126eaa1",
   "metadata": {},
   "outputs": [],
   "source": [
    "pdf_writer.addPage(pageObj)"
   ]
  },
  {
   "cell_type": "markdown",
   "id": "99d2907e",
   "metadata": {},
   "source": [
    "name_of_split = 'WD2021-0624'"
   ]
  },
  {
   "cell_type": "code",
   "execution_count": 37,
   "id": "71632aff",
   "metadata": {},
   "outputs": [],
   "source": [
    "pdf_outpath = r'L:\\NaturalResources\\Wetlands\\Local Wetland Inventory\\WAPO\\EPA_2022_Tasks\\Task 1 WD Mapping\\output\\pdf'"
   ]
  },
  {
   "cell_type": "code",
   "execution_count": 29,
   "id": "27c9caad",
   "metadata": {},
   "outputs": [],
   "source": [
    "output = f'{pdf_outpath}\\\\{name_of_split}_{page+1}.pdf'"
   ]
  },
  {
   "cell_type": "code",
   "execution_count": 30,
   "id": "f7664cc3",
   "metadata": {},
   "outputs": [
    {
     "data": {
      "text/plain": [
       "'L:\\\\NaturalResources\\\\Wetlands\\\\Local Wetland Inventory\\\\WAPO\\\\EPA_2022_Tasks\\\\Task 1 WD Mapping\\\\output\\\\pdf\\\\WD2021-0624_4.pdf'"
      ]
     },
     "execution_count": 30,
     "metadata": {},
     "output_type": "execute_result"
    }
   ],
   "source": [
    "output"
   ]
  },
  {
   "cell_type": "code",
   "execution_count": 36,
   "id": "49f95ca7",
   "metadata": {},
   "outputs": [],
   "source": [
    "with open(output, 'wb') as output_pdf:\n",
    "    pdf_writer.write(output_pdf)"
   ]
  },
  {
   "cell_type": "code",
   "execution_count": 47,
   "id": "51a812bf",
   "metadata": {},
   "outputs": [],
   "source": [
    "def extract_page_from_docLink(url, pageNm, wdID):\n",
    "    response = requests.get(url=url, timeout=120)\n",
    "    on_fly_mem_obj = io.BytesIO(response.content)\n",
    "    pdf_file = PdfReader(on_fly_mem_obj)\n",
    "    pageObj = pdf_file.getPage(pageNm)\n",
    "    pdf_writer = PdfFileWriter()\n",
    "    pdf_writer.addPage(pageObj)\n",
    "    output = f'{pdf_outpath}\\\\{wdID}_{pageNm+1}.pdf'\n",
    "    with open(output, 'wb') as output_pdf:\n",
    "        pdf_writer.write(output_pdf) "
   ]
  },
  {
   "cell_type": "code",
   "execution_count": 76,
   "id": "ec1742b2",
   "metadata": {},
   "outputs": [],
   "source": [
    "extract_page_from_docLink(url='https://docs.dsl.state.or.us/PublicReview/ElectronicFile.aspx?docid=3866062&dbid=0', \n",
    "                          pageNm=6, wdID='WD2022-0232')"
   ]
  },
  {
   "cell_type": "markdown",
   "id": "8c822a6f",
   "metadata": {},
   "source": [
    "for i in range(6, 17):\n",
    "    extract_page_from_docLink(url='https://docs.dsl.state.or.us/PublicReview/ElectronicFile.aspx?docid=3650803&dbid=0', \n",
    "                          pageNm=i, wdID='WD2022-0084')"
   ]
  },
  {
   "cell_type": "code",
   "execution_count": 48,
   "id": "ae89161c",
   "metadata": {},
   "outputs": [],
   "source": [
    "def extract_page_from_locPath(filePath, pageNm, wdID):\n",
    "    pdf_file = PdfReader(filePath)\n",
    "    pageObj = pdf_file.getPage(pageNm)\n",
    "    pdf_writer = PdfFileWriter()\n",
    "    pdf_writer.addPage(pageObj)\n",
    "    output = f'{pdf_outpath}\\\\{wdID}_{pageNm+1}.pdf'\n",
    "    with open(output, 'wb') as output_pdf:\n",
    "        pdf_writer.write(output_pdf) "
   ]
  },
  {
   "cell_type": "code",
   "execution_count": 54,
   "id": "f3302b27",
   "metadata": {},
   "outputs": [],
   "source": [
    "extract_page_from_locPath(filePath='T:/DCProjects/EPA-WD/docs/WD20190130 AgencyDecision.pdf', \n",
    "                          pageNm=4, wdID='WD2019-0130')"
   ]
  }
 ],
 "metadata": {
  "kernelspec": {
   "display_name": "Python 3",
   "language": "python",
   "name": "python3"
  },
  "language_info": {
   "codemirror_mode": {
    "name": "ipython",
    "version": 3
   },
   "file_extension": ".py",
   "mimetype": "text/x-python",
   "name": "python",
   "nbconvert_exporter": "python",
   "pygments_lexer": "ipython3",
   "version": "3.8.8"
  }
 },
 "nbformat": 4,
 "nbformat_minor": 5
}
