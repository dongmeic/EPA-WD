{
 "cells": [
  {
   "cell_type": "code",
   "execution_count": 1,
   "id": "59bc0232",
   "metadata": {},
   "outputs": [],
   "source": [
    "from urllib.request import urlopen\n",
    "import io\n",
    "import requests\n",
    "import pandas as pd\n",
    "import webbrowser\n",
    "from PyPDF2 import PdfReader, PdfWriter"
   ]
  },
  {
   "cell_type": "code",
   "execution_count": 2,
   "id": "854c0a27",
   "metadata": {},
   "outputs": [],
   "source": [
    "from wdtools import *"
   ]
  },
  {
   "cell_type": "code",
   "execution_count": 3,
   "id": "9a118d61",
   "metadata": {},
   "outputs": [],
   "source": [
    "pdf_path = r'L:\\NaturalResources\\Wetlands\\Local Wetland Inventory\\WAPO\\EPA_2022_Tasks\\Task 1 WD Mapping'"
   ]
  },
  {
   "cell_type": "code",
   "execution_count": 4,
   "id": "2996fde6",
   "metadata": {},
   "outputs": [],
   "source": [
    "pdf_outpath = fr'{pdf_path}\\output\\pdf'"
   ]
  },
  {
   "cell_type": "code",
   "execution_count": 5,
   "id": "8c182b8d",
   "metadata": {},
   "outputs": [],
   "source": [
    "revpath = r'L:\\NaturalResources\\Wetlands\\Local Wetland Inventory\\WAPO\\EPA_2022_Tasks\\Task 1 WD Mapping\\output\\to_review'"
   ]
  },
  {
   "cell_type": "code",
   "execution_count": 6,
   "id": "60b19c94",
   "metadata": {},
   "outputs": [],
   "source": [
    "#setID = 'Set001'; nm_to_add=0\n",
    "#setID = 'Set002'; nm_to_add=1420\n",
    "#setID = 'Set003'; nm_to_add = 2143\n",
    "#setID = 'Set004'; nm_to_add = 2878\n",
    "#setID = 'Set005'; nm_to_add = 3932\n",
    "setID = 'Set006'; nm_to_add = 4370\n",
    "wd = combine_wd_tables(setID=setID, nm_to_add=nm_to_add)"
   ]
  },
  {
   "cell_type": "code",
   "execution_count": 98,
   "id": "cdeb563d",
   "metadata": {},
   "outputs": [],
   "source": [
    "wd_all = get_all_wd(num=6)"
   ]
  },
  {
   "cell_type": "code",
   "execution_count": 99,
   "id": "12c52e5f",
   "metadata": {},
   "outputs": [
    {
     "data": {
      "text/plain": [
       "True"
      ]
     },
     "execution_count": 99,
     "metadata": {},
     "output_type": "execute_result"
    }
   ],
   "source": [
    "'WD2022-0657'in wd_all.wetdet_delin_number.unique()"
   ]
  },
  {
   "cell_type": "code",
   "execution_count": 103,
   "id": "dd684559",
   "metadata": {},
   "outputs": [
    {
     "data": {
      "text/html": [
       "<div>\n",
       "<style scoped>\n",
       "    .dataframe tbody tr th:only-of-type {\n",
       "        vertical-align: middle;\n",
       "    }\n",
       "\n",
       "    .dataframe tbody tr th {\n",
       "        vertical-align: top;\n",
       "    }\n",
       "\n",
       "    .dataframe thead th {\n",
       "        text-align: right;\n",
       "    }\n",
       "</style>\n",
       "<table border=\"1\" class=\"dataframe\">\n",
       "  <thead>\n",
       "    <tr style=\"text-align: right;\">\n",
       "      <th></th>\n",
       "      <th>wetdet_delin_number</th>\n",
       "      <th>trsqq</th>\n",
       "      <th>parcel_id</th>\n",
       "      <th>address_location_desc</th>\n",
       "      <th>city</th>\n",
       "      <th>county</th>\n",
       "      <th>site_name</th>\n",
       "      <th>site_desc</th>\n",
       "      <th>latitude</th>\n",
       "      <th>longitude</th>\n",
       "      <th>...</th>\n",
       "      <th>response_date</th>\n",
       "      <th>reissuance_response_date</th>\n",
       "      <th>project_id</th>\n",
       "      <th>site_id</th>\n",
       "      <th>record_ID</th>\n",
       "      <th>notes</th>\n",
       "      <th>recyear</th>\n",
       "      <th>IDyear</th>\n",
       "      <th>missinglot</th>\n",
       "      <th>SetID</th>\n",
       "    </tr>\n",
       "  </thead>\n",
       "  <tbody>\n",
       "    <tr>\n",
       "      <th>4365</th>\n",
       "      <td>WD2022-0657</td>\n",
       "      <td>01S35E00</td>\n",
       "      <td>300p,ROW</td>\n",
       "      <td>Emigrant Hill Frontage Rd/I-84 ROW</td>\n",
       "      <td>Meacham</td>\n",
       "      <td>Umatilla</td>\n",
       "      <td>I-84 Frontage Road: Meacham Creek &amp; UPRR (KN20...</td>\n",
       "      <td>WD2022-0675 delin bridge replacement (s03,s10)</td>\n",
       "      <td>45.501918</td>\n",
       "      <td>-118.420849</td>\n",
       "      <td>...</td>\n",
       "      <td>NaN</td>\n",
       "      <td>NaN</td>\n",
       "      <td>85289.0</td>\n",
       "      <td>141199</td>\n",
       "      <td>4366</td>\n",
       "      <td>ROW, Partial</td>\n",
       "      <td>2022</td>\n",
       "      <td>2022</td>\n",
       "      <td>N</td>\n",
       "      <td>5</td>\n",
       "    </tr>\n",
       "    <tr>\n",
       "      <th>4936</th>\n",
       "      <td>WD2022-0657</td>\n",
       "      <td>01S35E00</td>\n",
       "      <td>300p,ROW</td>\n",
       "      <td>Emigrant Hill Frontage Rd/I-84 ROW</td>\n",
       "      <td>Meacham</td>\n",
       "      <td>Umatilla</td>\n",
       "      <td>I-84 Frontage Road: Meacham Creek &amp; UPRR (KN20...</td>\n",
       "      <td>WD2022-0675 delin bridge replacement (s03,s10)</td>\n",
       "      <td>45.501918</td>\n",
       "      <td>-118.420849</td>\n",
       "      <td>...</td>\n",
       "      <td>NaN</td>\n",
       "      <td>NaN</td>\n",
       "      <td>85289.0</td>\n",
       "      <td>141199</td>\n",
       "      <td>4937</td>\n",
       "      <td>ROW, Partial</td>\n",
       "      <td>2022</td>\n",
       "      <td>2022</td>\n",
       "      <td>N</td>\n",
       "      <td>6</td>\n",
       "    </tr>\n",
       "  </tbody>\n",
       "</table>\n",
       "<p>2 rows × 26 columns</p>\n",
       "</div>"
      ],
      "text/plain": [
       "     wetdet_delin_number     trsqq parcel_id  \\\n",
       "4365         WD2022-0657  01S35E00  300p,ROW   \n",
       "4936         WD2022-0657  01S35E00  300p,ROW   \n",
       "\n",
       "                   address_location_desc     city    county  \\\n",
       "4365  Emigrant Hill Frontage Rd/I-84 ROW  Meacham  Umatilla   \n",
       "4936  Emigrant Hill Frontage Rd/I-84 ROW  Meacham  Umatilla   \n",
       "\n",
       "                                              site_name  \\\n",
       "4365  I-84 Frontage Road: Meacham Creek & UPRR (KN20...   \n",
       "4936  I-84 Frontage Road: Meacham Creek & UPRR (KN20...   \n",
       "\n",
       "                                           site_desc   latitude   longitude  \\\n",
       "4365  WD2022-0675 delin bridge replacement (s03,s10)  45.501918 -118.420849   \n",
       "4936  WD2022-0675 delin bridge replacement (s03,s10)  45.501918 -118.420849   \n",
       "\n",
       "      ... response_date reissuance_response_date project_id site_id record_ID  \\\n",
       "4365  ...           NaN                      NaN    85289.0  141199      4366   \n",
       "4936  ...           NaN                      NaN    85289.0  141199      4937   \n",
       "\n",
       "             notes recyear IDyear  missinglot  SetID  \n",
       "4365  ROW, Partial    2022   2022           N      5  \n",
       "4936  ROW, Partial    2022   2022           N      6  \n",
       "\n",
       "[2 rows x 26 columns]"
      ]
     },
     "execution_count": 103,
     "metadata": {},
     "output_type": "execute_result"
    }
   ],
   "source": [
    "wd_all[wd_all.wetdet_delin_number == 'WD2022-0657']"
   ]
  },
  {
   "cell_type": "code",
   "execution_count": 100,
   "id": "3f45d94c",
   "metadata": {},
   "outputs": [],
   "source": [
    "sa_gdf_all = get_all_SA(num=5)"
   ]
  },
  {
   "cell_type": "code",
   "execution_count": 101,
   "id": "7cb50590",
   "metadata": {},
   "outputs": [
    {
     "data": {
      "text/plain": [
       "True"
      ]
     },
     "execution_count": 101,
     "metadata": {},
     "output_type": "execute_result"
    }
   ],
   "source": [
    "'WD2022-0657'in sa_gdf_all.wdID.unique()"
   ]
  },
  {
   "cell_type": "code",
   "execution_count": 104,
   "id": "7a83e224",
   "metadata": {},
   "outputs": [
    {
     "data": {
      "text/plain": [
       "<AxesSubplot:>"
      ]
     },
     "execution_count": 104,
     "metadata": {},
     "output_type": "execute_result"
    },
    {
     "data": {
      "image/png": "[encoded data removed]",
      "text/plain": [
       "<Figure size 432x288 with 1 Axes>"
      ]
     },
     "metadata": {
      "needs_background": "light"
     },
     "output_type": "display_data"
    }
   ],
   "source": [
    "sa_gdf_all[sa_gdf_all.wdID=='WD2022-0657'].plot()"
   ]
  },
  {
   "cell_type": "markdown",
   "id": "986b9eed",
   "metadata": {},
   "source": [
    "toCheckIDs = ['WD2018-0659', 'WD2019-0624', 'WD2019-0327', 'WD2021-0117', 'WD2021-0569', 'WD2020-0220', 'WD2017-0074']"
   ]
  },
  {
   "cell_type": "markdown",
   "id": "727d874a",
   "metadata": {},
   "source": [
    "wdIDs = [wid for wid in toCheckIDs if wid in wd_all.wetdet_delin_number.unique()]"
   ]
  },
  {
   "cell_type": "markdown",
   "id": "c48aeaf4",
   "metadata": {},
   "source": [
    "wdIDs"
   ]
  },
  {
   "cell_type": "markdown",
   "id": "aeae8e5a",
   "metadata": {},
   "source": [
    "wd_all[wd_all.wetdet_delin_number.isin(wdIDs)][['wetdet_delin_number', 'SetID']]"
   ]
  },
  {
   "cell_type": "markdown",
   "id": "d23c272b",
   "metadata": {},
   "source": [
    "mappedIDs = [wid for wid in toCheckIDs if wid in sa_gdf_all.wdID.unique()]"
   ]
  },
  {
   "cell_type": "markdown",
   "id": "06522578",
   "metadata": {},
   "source": [
    "mappedIDs"
   ]
  },
  {
   "cell_type": "markdown",
   "id": "19bfdecc",
   "metadata": {},
   "source": [
    "sa_gdf_all[sa_gdf_all.wdID=='WD2021-0495']"
   ]
  },
  {
   "cell_type": "markdown",
   "id": "613f42a1",
   "metadata": {},
   "source": [
    "sa_gdf_all[sa_gdf_all.wdID=='WD2017-0074'].plot()"
   ]
  },
  {
   "cell_type": "code",
   "execution_count": 117,
   "id": "a215763a",
   "metadata": {},
   "outputs": [],
   "source": [
    "wdID = 'WD2022-0693'"
   ]
  },
  {
   "cell_type": "code",
   "execution_count": 118,
   "id": "45a2b8a8",
   "metadata": {},
   "outputs": [],
   "source": [
    "url = wd.loc[wd.wetdet_delin_number == wdID, 'DecisionLink'].values[0]\n",
    "extract_page_from_docLink(url=url, pageNm=5, wdID=wdID)"
   ]
  },
  {
   "cell_type": "code",
   "execution_count": 62,
   "id": "15ff3aa8",
   "metadata": {},
   "outputs": [
    {
     "data": {
      "text/html": [
       "<div>\n",
       "<style scoped>\n",
       "    .dataframe tbody tr th:only-of-type {\n",
       "        vertical-align: middle;\n",
       "    }\n",
       "\n",
       "    .dataframe tbody tr th {\n",
       "        vertical-align: top;\n",
       "    }\n",
       "\n",
       "    .dataframe thead th {\n",
       "        text-align: right;\n",
       "    }\n",
       "</style>\n",
       "<table border=\"1\" class=\"dataframe\">\n",
       "  <thead>\n",
       "    <tr style=\"text-align: right;\">\n",
       "      <th></th>\n",
       "      <th>Coord-Source</th>\n",
       "      <th>status_name</th>\n",
       "    </tr>\n",
       "  </thead>\n",
       "  <tbody>\n",
       "    <tr>\n",
       "      <th>29</th>\n",
       "      <td>DSL Verified</td>\n",
       "      <td>Approved</td>\n",
       "    </tr>\n",
       "  </tbody>\n",
       "</table>\n",
       "</div>"
      ],
      "text/plain": [
       "    Coord-Source status_name\n",
       "29  DSL Verified    Approved"
      ]
     },
     "execution_count": 62,
     "metadata": {},
     "output_type": "execute_result"
    }
   ],
   "source": [
    "wd.loc[wd.wetdet_delin_number == 'WD2022-0431', ['Coord-Source', 'status_name']]"
   ]
  },
  {
   "cell_type": "code",
   "execution_count": 86,
   "id": "5423b8f8",
   "metadata": {},
   "outputs": [
    {
     "data": {
      "text/plain": [
       "547    https://docs.dsl.state.or.us/PublicReview/Elec...\n",
       "Name: DecisionLink, dtype: object"
      ]
     },
     "execution_count": 86,
     "metadata": {},
     "output_type": "execute_result"
    }
   ],
   "source": [
    "wd[wd.wetdet_delin_number == wdID]['DecisionLink']"
   ]
  },
  {
   "cell_type": "code",
   "execution_count": 82,
   "id": "f1b7e960",
   "metadata": {},
   "outputs": [
    {
     "data": {
      "text/html": [
       "<div>\n",
       "<style scoped>\n",
       "    .dataframe tbody tr th:only-of-type {\n",
       "        vertical-align: middle;\n",
       "    }\n",
       "\n",
       "    .dataframe tbody tr th {\n",
       "        vertical-align: top;\n",
       "    }\n",
       "\n",
       "    .dataframe thead th {\n",
       "        text-align: right;\n",
       "    }\n",
       "</style>\n",
       "<table border=\"1\" class=\"dataframe\">\n",
       "  <thead>\n",
       "    <tr style=\"text-align: right;\">\n",
       "      <th></th>\n",
       "      <th>wetdet_delin_number</th>\n",
       "      <th>trsqq</th>\n",
       "      <th>parcel_id</th>\n",
       "      <th>address_location_desc</th>\n",
       "      <th>city</th>\n",
       "      <th>county</th>\n",
       "      <th>site_name</th>\n",
       "      <th>site_desc</th>\n",
       "      <th>latitude</th>\n",
       "      <th>longitude</th>\n",
       "      <th>...</th>\n",
       "      <th>received_date</th>\n",
       "      <th>response_date</th>\n",
       "      <th>reissuance_response_date</th>\n",
       "      <th>project_id</th>\n",
       "      <th>site_id</th>\n",
       "      <th>record_ID</th>\n",
       "      <th>notes</th>\n",
       "      <th>recyear</th>\n",
       "      <th>IDyear</th>\n",
       "      <th>missinglot</th>\n",
       "    </tr>\n",
       "  </thead>\n",
       "  <tbody>\n",
       "    <tr>\n",
       "      <th>548</th>\n",
       "      <td>WD2022-0565</td>\n",
       "      <td>01S10W02CC</td>\n",
       "      <td>700p</td>\n",
       "      <td>Corner of Elliot St and Spruce St</td>\n",
       "      <td>Bay City</td>\n",
       "      <td>Tillamook</td>\n",
       "      <td>Hugel Lot Addition 8 WD Development</td>\n",
       "      <td>WD2022-0565 delin single family dwelling</td>\n",
       "      <td>45.51307</td>\n",
       "      <td>-123.88538</td>\n",
       "      <td>...</td>\n",
       "      <td>2022-10-10</td>\n",
       "      <td>2023-01-25</td>\n",
       "      <td>NaN</td>\n",
       "      <td>85040</td>\n",
       "      <td>140559</td>\n",
       "      <td>4919</td>\n",
       "      <td>Partial</td>\n",
       "      <td>2022</td>\n",
       "      <td>2022</td>\n",
       "      <td>N</td>\n",
       "    </tr>\n",
       "  </tbody>\n",
       "</table>\n",
       "<p>1 rows × 25 columns</p>\n",
       "</div>"
      ],
      "text/plain": [
       "    wetdet_delin_number       trsqq parcel_id  \\\n",
       "548         WD2022-0565  01S10W02CC      700p   \n",
       "\n",
       "                 address_location_desc      city     county  \\\n",
       "548  Corner of Elliot St and Spruce St  Bay City  Tillamook   \n",
       "\n",
       "                               site_name  \\\n",
       "548  Hugel Lot Addition 8 WD Development   \n",
       "\n",
       "                                    site_desc  latitude  longitude  ...  \\\n",
       "548  WD2022-0565 delin single family dwelling  45.51307 -123.88538  ...   \n",
       "\n",
       "    received_date response_date reissuance_response_date project_id site_id  \\\n",
       "548    2022-10-10    2023-01-25                      NaN      85040  140559   \n",
       "\n",
       "    record_ID    notes  recyear  IDyear  missinglot  \n",
       "548      4919  Partial     2022    2022           N  \n",
       "\n",
       "[1 rows x 25 columns]"
      ]
     },
     "execution_count": 82,
     "metadata": {},
     "output_type": "execute_result"
    }
   ],
   "source": [
    "wd[wd.wetdet_delin_number == 'WD2022-0565']"
   ]
  },
  {
   "cell_type": "code",
   "execution_count": 8,
   "id": "773e45f3",
   "metadata": {},
   "outputs": [
    {
     "data": {
      "text/html": [
       "<div>\n",
       "<style scoped>\n",
       "    .dataframe tbody tr th:only-of-type {\n",
       "        vertical-align: middle;\n",
       "    }\n",
       "\n",
       "    .dataframe tbody tr th {\n",
       "        vertical-align: top;\n",
       "    }\n",
       "\n",
       "    .dataframe thead th {\n",
       "        text-align: right;\n",
       "    }\n",
       "</style>\n",
       "<table border=\"1\" class=\"dataframe\">\n",
       "  <thead>\n",
       "    <tr style=\"text-align: right;\">\n",
       "      <th></th>\n",
       "      <th>longitude</th>\n",
       "      <th>latitude</th>\n",
       "    </tr>\n",
       "  </thead>\n",
       "  <tbody>\n",
       "    <tr>\n",
       "      <th>352</th>\n",
       "      <td>-123.088023</td>\n",
       "      <td>44.677806</td>\n",
       "    </tr>\n",
       "    <tr>\n",
       "      <th>353</th>\n",
       "      <td>-123.086747</td>\n",
       "      <td>44.680010</td>\n",
       "    </tr>\n",
       "  </tbody>\n",
       "</table>\n",
       "</div>"
      ],
      "text/plain": [
       "      longitude   latitude\n",
       "352 -123.088023  44.677806\n",
       "353 -123.086747  44.680010"
      ]
     },
     "execution_count": 8,
     "metadata": {},
     "output_type": "execute_result"
    }
   ],
   "source": [
    "wd.loc[wd.wetdet_delin_number == wdID, ['longitude', 'latitude']]"
   ]
  },
  {
   "cell_type": "code",
   "execution_count": 9,
   "id": "29a60878",
   "metadata": {},
   "outputs": [
    {
     "data": {
      "text/html": [
       "<div>\n",
       "<style scoped>\n",
       "    .dataframe tbody tr th:only-of-type {\n",
       "        vertical-align: middle;\n",
       "    }\n",
       "\n",
       "    .dataframe tbody tr th {\n",
       "        vertical-align: top;\n",
       "    }\n",
       "\n",
       "    .dataframe thead th {\n",
       "        text-align: right;\n",
       "    }\n",
       "</style>\n",
       "<table border=\"1\" class=\"dataframe\">\n",
       "  <thead>\n",
       "    <tr style=\"text-align: right;\">\n",
       "      <th></th>\n",
       "      <th>Longitude</th>\n",
       "      <th>Latitude</th>\n",
       "      <th>geometry</th>\n",
       "    </tr>\n",
       "  </thead>\n",
       "  <tbody>\n",
       "    <tr>\n",
       "      <th>0</th>\n",
       "      <td>-123.088023</td>\n",
       "      <td>44.677806</td>\n",
       "      <td>POINT (639366.187 1077804.318)</td>\n",
       "    </tr>\n",
       "  </tbody>\n",
       "</table>\n",
       "</div>"
      ],
      "text/plain": [
       "    Longitude   Latitude                        geometry\n",
       "0 -123.088023  44.677806  POINT (639366.187 1077804.318)"
      ]
     },
     "execution_count": 9,
     "metadata": {},
     "output_type": "execute_result"
    }
   ],
   "source": [
    "lon=wd[wd.wetdet_delin_number == wdID].longitude.values[0]\n",
    "lat=wd[wd.wetdet_delin_number == wdID].latitude.values[0]\n",
    "get_point_from_lonlat(lon=lon, lat=lat)"
   ]
  },
  {
   "cell_type": "code",
   "execution_count": 181,
   "id": "74332fa8",
   "metadata": {},
   "outputs": [
    {
     "data": {
      "text/html": [
       "<div>\n",
       "<style scoped>\n",
       "    .dataframe tbody tr th:only-of-type {\n",
       "        vertical-align: middle;\n",
       "    }\n",
       "\n",
       "    .dataframe tbody tr th {\n",
       "        vertical-align: top;\n",
       "    }\n",
       "\n",
       "    .dataframe thead th {\n",
       "        text-align: right;\n",
       "    }\n",
       "</style>\n",
       "<table border=\"1\" class=\"dataframe\">\n",
       "  <thead>\n",
       "    <tr style=\"text-align: right;\">\n",
       "      <th></th>\n",
       "      <th>Longitude</th>\n",
       "      <th>Latitude</th>\n",
       "      <th>geometry</th>\n",
       "    </tr>\n",
       "  </thead>\n",
       "  <tbody>\n",
       "    <tr>\n",
       "      <th>0</th>\n",
       "      <td>-122.862067</td>\n",
       "      <td>45.619127</td>\n",
       "      <td>POINT (707978.149 1419074.903)</td>\n",
       "    </tr>\n",
       "  </tbody>\n",
       "</table>\n",
       "</div>"
      ],
      "text/plain": [
       "    Longitude   Latitude                        geometry\n",
       "0 -122.862067  45.619127  POINT (707978.149 1419074.903)"
      ]
     },
     "execution_count": 181,
     "metadata": {},
     "output_type": "execute_result"
    }
   ],
   "source": [
    "lon=wd.loc[wd.wetdet_delin_number == wdID, 'longitude'].values[0]\n",
    "lat=wd.loc[wd.wetdet_delin_number == wdID, 'latitude'].values[0]\n",
    "get_point_from_lonlat(lon=lon, lat=lat)"
   ]
  },
  {
   "cell_type": "code",
   "execution_count": 33,
   "id": "0e8fddbd",
   "metadata": {},
   "outputs": [],
   "source": [
    "unmapped_notes = pd.read_excel(f'{inpath}\\\\notes\\\\LCOGUnmappedRecordsJB.xlsx', skiprows=1)"
   ]
  },
  {
   "cell_type": "code",
   "execution_count": 179,
   "id": "9d234cad",
   "metadata": {},
   "outputs": [
    {
     "data": {
      "text/plain": [
       "array([['WD2017-0050',\n",
       "        'georeferencing will take some time; pages from 7 to 21',\n",
       "        'There are six study areas']], dtype=object)"
      ]
     },
     "execution_count": 179,
     "metadata": {},
     "output_type": "execute_result"
    }
   ],
   "source": [
    "unmapped_notes[unmapped_notes.wetdet_delin_number == wdID][['wetdet_delin_number', 'issue', 'JB Notes']].values"
   ]
  },
  {
   "cell_type": "code",
   "execution_count": 9,
   "id": "0466c02e",
   "metadata": {},
   "outputs": [],
   "source": [
    "t = '02N010E30'\n",
    "ct_nm = 'Hood River'"
   ]
  },
  {
   "cell_type": "code",
   "execution_count": 50,
   "id": "cae7a4cd",
   "metadata": {},
   "outputs": [
    {
     "data": {
      "text/plain": [
       "True"
      ]
     },
     "execution_count": 50,
     "metadata": {},
     "output_type": "execute_result"
    }
   ],
   "source": [
    "'02N10E30' in trsqq"
   ]
  },
  {
   "cell_type": "code",
   "execution_count": 52,
   "id": "2206d033",
   "metadata": {},
   "outputs": [
    {
     "data": {
      "text/plain": [
       "'1402.00N10.00E3000--0000'"
      ]
     },
     "execution_count": 52,
     "metadata": {},
     "output_type": "execute_result"
    }
   ],
   "source": [
    "create_ORMapNm(ct_nm=ct_nm, trsqq=t)"
   ]
  },
  {
   "cell_type": "code",
   "execution_count": 10,
   "id": "8621760d",
   "metadata": {},
   "outputs": [
    {
     "data": {
      "text/plain": [
       "'1402.00N10.00E3000--000000500'"
      ]
     },
     "execution_count": 10,
     "metadata": {},
     "output_type": "execute_result"
    }
   ],
   "source": [
    "create_ORTaxlot(cnt_code=cnt_dict[ct_nm], trsqq=t, lot='500')"
   ]
  },
  {
   "cell_type": "code",
   "execution_count": 82,
   "id": "885522da",
   "metadata": {},
   "outputs": [
    {
     "data": {
      "text/plain": [
       "True"
      ]
     },
     "execution_count": 82,
     "metadata": {},
     "output_type": "execute_result"
    }
   ],
   "source": [
    "'2107.00S11.00W01BB--000009300' in all_txid"
   ]
  },
  {
   "cell_type": "code",
   "execution_count": 7,
   "id": "7adda65e",
   "metadata": {},
   "outputs": [
    {
     "data": {
      "text/plain": [
       "'02.00N10.00E3000'"
      ]
     },
     "execution_count": 7,
     "metadata": {},
     "output_type": "execute_result"
    }
   ],
   "source": [
    "convert_trsqq('02N010E30')"
   ]
  },
  {
   "cell_type": "code",
   "execution_count": 13,
   "id": "28fed9bb",
   "metadata": {},
   "outputs": [
    {
     "name": "stdout",
     "output_type": "stream",
     "text": [
      "Decision link is not available\n"
     ]
    }
   ],
   "source": [
    "url = wd.loc[wd.wetdet_delin_number == wdID, 'DecisionLink'].values[0]\n",
    "if str(url) == 'nan':\n",
    "    print('Decision link is not available')\n",
    "else:\n",
    "    webbrowser.open(url)"
   ]
  },
  {
   "cell_type": "code",
   "execution_count": 63,
   "id": "b38d0331",
   "metadata": {},
   "outputs": [
    {
     "name": "stdout",
     "output_type": "stream",
     "text": [
      "14\n",
      "15\n",
      "16\n",
      "17\n",
      "18\n",
      "19\n",
      "20\n"
     ]
    }
   ],
   "source": [
    "wdID = 'WD2022-0579'\n",
    "url = wd.loc[wd.wetdet_delin_number == wdID, 'DecisionLink'].values[0]\n",
    "#print(url)\n",
    "o = 0\n",
    "for i in range(14, 21):\n",
    "    if o==0:\n",
    "        extract_page_from_docLink(url=url, pageNm=i, wdID=wdID)\n",
    "    elif o==1:\n",
    "        extract_page_from_locPath(filePath=pdf_path+f'\\\\docs\\\\{wdID}_10_14.pdf', \n",
    "                              pageNm=i, wdID=wdID)\n",
    "    else:\n",
    "        extract_page_from_locPath(filePath='C:/Users/clid1852/Downloads/WD20170490R ReissuedAgencyDecision.pdf', \n",
    "                                  pageNm=i, wdID=wdID)\n",
    "    print(i)"
   ]
  },
  {
   "cell_type": "code",
   "execution_count": 95,
   "id": "b0cb7f1e",
   "metadata": {},
   "outputs": [
    {
     "data": {
      "text/plain": [
       "'https://docs.dsl.state.or.us/PublicReview/ElectronicFile.aspx?docid=3643703&dbid=0'"
      ]
     },
     "execution_count": 95,
     "metadata": {},
     "output_type": "execute_result"
    }
   ],
   "source": [
    "url"
   ]
  },
  {
   "cell_type": "code",
   "execution_count": 140,
   "id": "fd069ee7",
   "metadata": {},
   "outputs": [],
   "source": [
    "wdID = 'WD2019-0320'\n",
    "extract_page_from_locPath(filePath=f'C:/Users/clid1852/Downloads/WD20190320 AgencyDecision (2).pdf', \n",
    "                          pageNm=6, wdID=wdID)"
   ]
  },
  {
   "cell_type": "code",
   "execution_count": 319,
   "id": "5dac40f1",
   "metadata": {},
   "outputs": [],
   "source": [
    "wdID = 'WD2022-0694'\n",
    "extract_page_from_locPath(filePath=f'C:/Users/clid1852/Downloads/WD20220694 InitialRequest.pdf', \n",
    "                          pageNm=20, wdID=wdID)"
   ]
  },
  {
   "cell_type": "code",
   "execution_count": 22,
   "id": "82a38c33",
   "metadata": {},
   "outputs": [],
   "source": [
    "wdID = 'WD2017-0050'\n",
    "extract_page_from_locPath(filePath=pdf_outpath+'\\\\WD2017-0050_7_21.pdf', \n",
    "                          pageNm=0, wdID=wdID)"
   ]
  },
  {
   "cell_type": "code",
   "execution_count": 57,
   "id": "2fd96b4f",
   "metadata": {},
   "outputs": [],
   "source": [
    "wdID = 'WD2017-0381'\n",
    "pages = '7_8'\n",
    "for i in range(1, 3):\n",
    "    filePath = pdf_outpath + f'\\\\{wdID}_{pages}.pdf'\n",
    "    extract_page_from_locPath(filePath, i, wdID, k=7) "
   ]
  },
  {
   "cell_type": "code",
   "execution_count": 199,
   "id": "c89bbac4",
   "metadata": {},
   "outputs": [],
   "source": [
    "# A - lon=-122.780067, lat=45.300856\n",
    "# F - lon=-122.829843, lat=45.496684\n",
    "# WTP - lon=-122.808718, lat=45.363563\n",
    "# C - lon=-122.878706, lat=45.431823\n",
    "# E - lon=-122.901504, lat=45.525420\n",
    "# B - lon=-122.893679, lat=45.467799\n",
    "pnt = get_point_from_lonlat(lon=-122.893679, lat=45.467799, transprj=True, export=True)"
   ]
  }
 ],
 "metadata": {
  "kernelspec": {
   "display_name": "Python 3",
   "language": "python",
   "name": "python3"
  },
  "language_info": {
   "codemirror_mode": {
    "name": "ipython",
    "version": 3
   },
   "file_extension": ".py",
   "mimetype": "text/x-python",
   "name": "python",
   "nbconvert_exporter": "python",
   "pygments_lexer": "ipython3",
   "version": "3.8.8"
  }
 },
 "nbformat": 4,
 "nbformat_minor": 5
}
