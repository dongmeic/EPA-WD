{
 "cells": [
  {
   "cell_type": "code",
   "execution_count": 1,
   "id": "59bc0232",
   "metadata": {},
   "outputs": [],
   "source": [
    "from urllib.request import urlopen\n",
    "import io\n",
    "import requests\n",
    "import pandas as pd\n",
    "import webbrowser\n",
    "from PyPDF2 import PdfReader, PdfWriter"
   ]
  },
  {
   "cell_type": "code",
   "execution_count": 2,
   "id": "854c0a27",
   "metadata": {},
   "outputs": [],
   "source": [
    "from wdtools import *"
   ]
  },
  {
   "cell_type": "code",
   "execution_count": 3,
   "id": "9a118d61",
   "metadata": {},
   "outputs": [],
   "source": [
    "pdf_path = r'L:\\NaturalResources\\Wetlands\\Local Wetland Inventory\\WAPO\\EPA_2022_Tasks\\Task 1 WD Mapping'"
   ]
  },
  {
   "cell_type": "code",
   "execution_count": 4,
   "id": "2996fde6",
   "metadata": {},
   "outputs": [],
   "source": [
    "pdf_outpath = fr'{pdf_path}\\output\\pdf'"
   ]
  },
  {
   "cell_type": "code",
   "execution_count": 5,
   "id": "8c182b8d",
   "metadata": {},
   "outputs": [],
   "source": [
    "revpath = r'L:\\NaturalResources\\Wetlands\\Local Wetland Inventory\\WAPO\\EPA_2022_Tasks\\Task 1 WD Mapping\\output\\to_review'"
   ]
  },
  {
   "cell_type": "code",
   "execution_count": 182,
   "id": "60b19c94",
   "metadata": {},
   "outputs": [],
   "source": [
    "#setID = 'Set001'; nm_to_add=0\n",
    "#setID = 'Set002'; nm_to_add=1420\n",
    "#setID = 'Set003'; nm_to_add = 2143\n",
    "setID = 'Set004'; nm_to_add = 2878\n",
    "#setID = 'Set005'; nm_to_add = 3932\n",
    "wd = combine_wd_tables(setID=setID, nm_to_add=nm_to_add)"
   ]
  },
  {
   "cell_type": "code",
   "execution_count": 101,
   "id": "121d4b4d",
   "metadata": {},
   "outputs": [],
   "source": [
    "wd = get_all_wd(num=4)"
   ]
  },
  {
   "cell_type": "code",
   "execution_count": 107,
   "id": "fbd36348",
   "metadata": {},
   "outputs": [],
   "source": [
    "sa_gdf_all = get_all_SA(num=4)"
   ]
  },
  {
   "cell_type": "code",
   "execution_count": 170,
   "id": "a12931b4",
   "metadata": {},
   "outputs": [
    {
     "data": {
      "text/html": [
       "<div>\n",
       "<style scoped>\n",
       "    .dataframe tbody tr th:only-of-type {\n",
       "        vertical-align: middle;\n",
       "    }\n",
       "\n",
       "    .dataframe tbody tr th {\n",
       "        vertical-align: top;\n",
       "    }\n",
       "\n",
       "    .dataframe thead th {\n",
       "        text-align: right;\n",
       "    }\n",
       "</style>\n",
       "<table border=\"1\" class=\"dataframe\">\n",
       "  <thead>\n",
       "    <tr style=\"text-align: right;\">\n",
       "      <th></th>\n",
       "      <th>code</th>\n",
       "      <th>wdID</th>\n",
       "      <th>geometry</th>\n",
       "      <th>SetID</th>\n",
       "    </tr>\n",
       "  </thead>\n",
       "  <tbody>\n",
       "    <tr>\n",
       "      <th>2412</th>\n",
       "      <td>2</td>\n",
       "      <td>WD2021-0495</td>\n",
       "      <td>POLYGON ((1184166.533 926606.419, 1184863.180 ...</td>\n",
       "      <td>4</td>\n",
       "    </tr>\n",
       "  </tbody>\n",
       "</table>\n",
       "</div>"
      ],
      "text/plain": [
       "      code         wdID                                           geometry  \\\n",
       "2412     2  WD2021-0495  POLYGON ((1184166.533 926606.419, 1184863.180 ...   \n",
       "\n",
       "      SetID  \n",
       "2412      4  "
      ]
     },
     "execution_count": 170,
     "metadata": {},
     "output_type": "execute_result"
    }
   ],
   "source": [
    "sa_gdf_all[sa_gdf_all.wdID=='WD2021-0495']"
   ]
  },
  {
   "cell_type": "code",
   "execution_count": 109,
   "id": "19ac6235",
   "metadata": {},
   "outputs": [
    {
     "data": {
      "text/plain": [
       "<AxesSubplot:>"
      ]
     },
     "execution_count": 109,
     "metadata": {},
     "output_type": "execute_result"
    },
    {
     "data": {
      "image/png": "[encoded data removed]",
      "text/plain": [
       "<Figure size 432x288 with 1 Axes>"
      ]
     },
     "metadata": {
      "needs_background": "light"
     },
     "output_type": "display_data"
    }
   ],
   "source": [
    "sa_gdf_all[sa_gdf_all.wdID=='WD2021-0495'].plot()"
   ]
  },
  {
   "cell_type": "code",
   "execution_count": 183,
   "id": "a215763a",
   "metadata": {},
   "outputs": [],
   "source": [
    "wdID = 'WD2020-0252'"
   ]
  },
  {
   "cell_type": "code",
   "execution_count": 181,
   "id": "45a2b8a8",
   "metadata": {},
   "outputs": [],
   "source": [
    "url = wd.loc[wd.wetdet_delin_number == wdID, 'DecisionLink'].values[0]\n",
    "extract_page_from_docLink(url=url, pageNm=7, wdID=wdID)"
   ]
  },
  {
   "cell_type": "code",
   "execution_count": 184,
   "id": "773e45f3",
   "metadata": {},
   "outputs": [
    {
     "data": {
      "text/html": [
       "<div>\n",
       "<style scoped>\n",
       "    .dataframe tbody tr th:only-of-type {\n",
       "        vertical-align: middle;\n",
       "    }\n",
       "\n",
       "    .dataframe tbody tr th {\n",
       "        vertical-align: top;\n",
       "    }\n",
       "\n",
       "    .dataframe thead th {\n",
       "        text-align: right;\n",
       "    }\n",
       "</style>\n",
       "<table border=\"1\" class=\"dataframe\">\n",
       "  <thead>\n",
       "    <tr style=\"text-align: right;\">\n",
       "      <th></th>\n",
       "      <th>longitude</th>\n",
       "      <th>latitude</th>\n",
       "    </tr>\n",
       "  </thead>\n",
       "  <tbody>\n",
       "    <tr>\n",
       "      <th>970</th>\n",
       "      <td>-123.014544</td>\n",
       "      <td>45.282375</td>\n",
       "    </tr>\n",
       "  </tbody>\n",
       "</table>\n",
       "</div>"
      ],
      "text/plain": [
       "      longitude   latitude\n",
       "970 -123.014544  45.282375"
      ]
     },
     "execution_count": 184,
     "metadata": {},
     "output_type": "execute_result"
    }
   ],
   "source": [
    "wd.loc[wd.wetdet_delin_number == wdID, ['longitude', 'latitude']]"
   ]
  },
  {
   "cell_type": "code",
   "execution_count": 185,
   "id": "29a60878",
   "metadata": {},
   "outputs": [
    {
     "data": {
      "text/html": [
       "<div>\n",
       "<style scoped>\n",
       "    .dataframe tbody tr th:only-of-type {\n",
       "        vertical-align: middle;\n",
       "    }\n",
       "\n",
       "    .dataframe tbody tr th {\n",
       "        vertical-align: top;\n",
       "    }\n",
       "\n",
       "    .dataframe thead th {\n",
       "        text-align: right;\n",
       "    }\n",
       "</style>\n",
       "<table border=\"1\" class=\"dataframe\">\n",
       "  <thead>\n",
       "    <tr style=\"text-align: right;\">\n",
       "      <th></th>\n",
       "      <th>Longitude</th>\n",
       "      <th>Latitude</th>\n",
       "      <th>geometry</th>\n",
       "    </tr>\n",
       "  </thead>\n",
       "  <tbody>\n",
       "    <tr>\n",
       "      <th>0</th>\n",
       "      <td>-123.014544</td>\n",
       "      <td>45.282375</td>\n",
       "      <td>POINT (665216.744 1297502.078)</td>\n",
       "    </tr>\n",
       "  </tbody>\n",
       "</table>\n",
       "</div>"
      ],
      "text/plain": [
       "    Longitude   Latitude                        geometry\n",
       "0 -123.014544  45.282375  POINT (665216.744 1297502.078)"
      ]
     },
     "execution_count": 185,
     "metadata": {},
     "output_type": "execute_result"
    }
   ],
   "source": [
    "lon=wd[wd.wetdet_delin_number == wdID].longitude.values[0]\n",
    "lat=wd[wd.wetdet_delin_number == wdID].latitude.values[0]\n",
    "get_point_from_lonlat(lon=lon, lat=lat)"
   ]
  },
  {
   "cell_type": "code",
   "execution_count": 181,
   "id": "74332fa8",
   "metadata": {},
   "outputs": [
    {
     "data": {
      "text/html": [
       "<div>\n",
       "<style scoped>\n",
       "    .dataframe tbody tr th:only-of-type {\n",
       "        vertical-align: middle;\n",
       "    }\n",
       "\n",
       "    .dataframe tbody tr th {\n",
       "        vertical-align: top;\n",
       "    }\n",
       "\n",
       "    .dataframe thead th {\n",
       "        text-align: right;\n",
       "    }\n",
       "</style>\n",
       "<table border=\"1\" class=\"dataframe\">\n",
       "  <thead>\n",
       "    <tr style=\"text-align: right;\">\n",
       "      <th></th>\n",
       "      <th>Longitude</th>\n",
       "      <th>Latitude</th>\n",
       "      <th>geometry</th>\n",
       "    </tr>\n",
       "  </thead>\n",
       "  <tbody>\n",
       "    <tr>\n",
       "      <th>0</th>\n",
       "      <td>-122.862067</td>\n",
       "      <td>45.619127</td>\n",
       "      <td>POINT (707978.149 1419074.903)</td>\n",
       "    </tr>\n",
       "  </tbody>\n",
       "</table>\n",
       "</div>"
      ],
      "text/plain": [
       "    Longitude   Latitude                        geometry\n",
       "0 -122.862067  45.619127  POINT (707978.149 1419074.903)"
      ]
     },
     "execution_count": 181,
     "metadata": {},
     "output_type": "execute_result"
    }
   ],
   "source": [
    "lon=wd.loc[wd.wetdet_delin_number == wdID, 'longitude'].values[0]\n",
    "lat=wd.loc[wd.wetdet_delin_number == wdID, 'latitude'].values[0]\n",
    "get_point_from_lonlat(lon=lon, lat=lat)"
   ]
  },
  {
   "cell_type": "code",
   "execution_count": 33,
   "id": "0e8fddbd",
   "metadata": {},
   "outputs": [],
   "source": [
    "unmapped_notes = pd.read_excel(f'{inpath}\\\\notes\\\\LCOGUnmappedRecordsJB.xlsx', skiprows=1)"
   ]
  },
  {
   "cell_type": "code",
   "execution_count": 179,
   "id": "9d234cad",
   "metadata": {},
   "outputs": [
    {
     "data": {
      "text/plain": [
       "array([['WD2017-0050',\n",
       "        'georeferencing will take some time; pages from 7 to 21',\n",
       "        'There are six study areas']], dtype=object)"
      ]
     },
     "execution_count": 179,
     "metadata": {},
     "output_type": "execute_result"
    }
   ],
   "source": [
    "unmapped_notes[unmapped_notes.wetdet_delin_number == wdID][['wetdet_delin_number', 'issue', 'JB Notes']].values"
   ]
  },
  {
   "cell_type": "code",
   "execution_count": 79,
   "id": "0466c02e",
   "metadata": {},
   "outputs": [],
   "source": [
    "t = '07S11W01BB'\n",
    "ct_nm = 'Lincoln'"
   ]
  },
  {
   "cell_type": "code",
   "execution_count": 80,
   "id": "cae7a4cd",
   "metadata": {},
   "outputs": [
    {
     "data": {
      "text/plain": [
       "True"
      ]
     },
     "execution_count": 80,
     "metadata": {},
     "output_type": "execute_result"
    }
   ],
   "source": [
    "t in trsqq"
   ]
  },
  {
   "cell_type": "code",
   "execution_count": 46,
   "id": "2206d033",
   "metadata": {},
   "outputs": [
    {
     "data": {
      "text/plain": [
       "'0212.00S05.00W02CB--0000'"
      ]
     },
     "execution_count": 46,
     "metadata": {},
     "output_type": "execute_result"
    }
   ],
   "source": [
    "create_ORMapNm(ct_nm=ct_nm, trsqq=t)"
   ]
  },
  {
   "cell_type": "code",
   "execution_count": 81,
   "id": "8621760d",
   "metadata": {},
   "outputs": [
    {
     "data": {
      "text/plain": [
       "'2107.00S11.00W01BB--000009300'"
      ]
     },
     "execution_count": 81,
     "metadata": {},
     "output_type": "execute_result"
    }
   ],
   "source": [
    "create_ORTaxlot(cnt_code=cnt_dict[ct_nm], trsqq=t, lot='9300')"
   ]
  },
  {
   "cell_type": "code",
   "execution_count": 82,
   "id": "885522da",
   "metadata": {},
   "outputs": [
    {
     "data": {
      "text/plain": [
       "True"
      ]
     },
     "execution_count": 82,
     "metadata": {},
     "output_type": "execute_result"
    }
   ],
   "source": [
    "'2107.00S11.00W01BB--000009300' in all_txid"
   ]
  },
  {
   "cell_type": "code",
   "execution_count": 146,
   "id": "28fed9bb",
   "metadata": {},
   "outputs": [
    {
     "data": {
      "text/plain": [
       "True"
      ]
     },
     "execution_count": 146,
     "metadata": {},
     "output_type": "execute_result"
    }
   ],
   "source": [
    "url = wd.loc[wd.wetdet_delin_number == wdID, 'DecisionLink'].values[0]\n",
    "webbrowser.open(url)"
   ]
  },
  {
   "cell_type": "code",
   "execution_count": 93,
   "id": "b38d0331",
   "metadata": {},
   "outputs": [
    {
     "name": "stdout",
     "output_type": "stream",
     "text": [
      "5\n",
      "6\n",
      "7\n",
      "8\n",
      "9\n",
      "10\n"
     ]
    }
   ],
   "source": [
    "wdID = 'WD2020-0217'\n",
    "url = wd.loc[wd.wetdet_delin_number == wdID, 'DecisionLink'].values[0]\n",
    "#print(url)\n",
    "o = 0\n",
    "for i in range(5, 11):\n",
    "    if o==0:\n",
    "        extract_page_from_docLink(url=url, pageNm=i, wdID=wdID)\n",
    "    elif o==1:\n",
    "        extract_page_from_locPath(filePath=pdf_path+f'\\\\docs\\\\{wdID}_10_14.pdf', \n",
    "                              pageNm=i, wdID=wdID)\n",
    "    else:\n",
    "        extract_page_from_locPath(filePath='C:/Users/clid1852/Downloads/WD20170490R ReissuedAgencyDecision.pdf', \n",
    "                                  pageNm=i, wdID=wdID)\n",
    "    print(i)"
   ]
  },
  {
   "cell_type": "code",
   "execution_count": 95,
   "id": "b0cb7f1e",
   "metadata": {},
   "outputs": [
    {
     "data": {
      "text/plain": [
       "'https://docs.dsl.state.or.us/PublicReview/ElectronicFile.aspx?docid=3643703&dbid=0'"
      ]
     },
     "execution_count": 95,
     "metadata": {},
     "output_type": "execute_result"
    }
   ],
   "source": [
    "url"
   ]
  },
  {
   "cell_type": "code",
   "execution_count": 140,
   "id": "fd069ee7",
   "metadata": {},
   "outputs": [],
   "source": [
    "wdID = 'WD2019-0320'\n",
    "extract_page_from_locPath(filePath=f'C:/Users/clid1852/Downloads/WD20190320 AgencyDecision (2).pdf', \n",
    "                          pageNm=6, wdID=wdID)"
   ]
  },
  {
   "cell_type": "code",
   "execution_count": 166,
   "id": "5dac40f1",
   "metadata": {},
   "outputs": [],
   "source": [
    "wdID = 'WD2021-0643'\n",
    "extract_page_from_locPath(filePath=f'C:/Users/clid1852/Downloads/WD2019-0074Final.pdf', \n",
    "                          pageNm=7, wdID=wdID)"
   ]
  },
  {
   "cell_type": "code",
   "execution_count": 22,
   "id": "82a38c33",
   "metadata": {},
   "outputs": [],
   "source": [
    "wdID = 'WD2017-0050'\n",
    "extract_page_from_locPath(filePath=pdf_outpath+'\\\\WD2017-0050_7_21.pdf', \n",
    "                          pageNm=0, wdID=wdID)"
   ]
  },
  {
   "cell_type": "code",
   "execution_count": 57,
   "id": "2fd96b4f",
   "metadata": {},
   "outputs": [],
   "source": [
    "wdID = 'WD2017-0381'\n",
    "pages = '7_8'\n",
    "for i in range(1, 3):\n",
    "    filePath = pdf_outpath + f'\\\\{wdID}_{pages}.pdf'\n",
    "    extract_page_from_locPath(filePath, i, wdID, k=7) "
   ]
  },
  {
   "cell_type": "code",
   "execution_count": 199,
   "id": "c89bbac4",
   "metadata": {},
   "outputs": [],
   "source": [
    "# A - lon=-122.780067, lat=45.300856\n",
    "# F - lon=-122.829843, lat=45.496684\n",
    "# WTP - lon=-122.808718, lat=45.363563\n",
    "# C - lon=-122.878706, lat=45.431823\n",
    "# E - lon=-122.901504, lat=45.525420\n",
    "# B - lon=-122.893679, lat=45.467799\n",
    "pnt = get_point_from_lonlat(lon=-122.893679, lat=45.467799, transprj=True, export=True)"
   ]
  }
 ],
 "metadata": {
  "kernelspec": {
   "display_name": "Python 3",
   "language": "python",
   "name": "python3"
  },
  "language_info": {
   "codemirror_mode": {
    "name": "ipython",
    "version": 3
   },
   "file_extension": ".py",
   "mimetype": "text/x-python",
   "name": "python",
   "nbconvert_exporter": "python",
   "pygments_lexer": "ipython3",
   "version": "3.8.8"
  }
 },
 "nbformat": 4,
 "nbformat_minor": 5
}
