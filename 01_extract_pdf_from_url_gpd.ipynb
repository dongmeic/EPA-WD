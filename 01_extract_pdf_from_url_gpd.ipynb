{
 "cells": [
  {
   "cell_type": "code",
   "execution_count": 1,
   "id": "59bc0232",
   "metadata": {},
   "outputs": [],
   "source": [
    "from urllib.request import urlopen\n",
    "import io\n",
    "import requests\n",
    "import pandas as pd\n",
    "import webbrowser\n",
    "from PyPDF2 import PdfReader, PdfWriter"
   ]
  },
  {
   "cell_type": "code",
   "execution_count": 2,
   "id": "854c0a27",
   "metadata": {},
   "outputs": [],
   "source": [
    "from wdtools import *"
   ]
  },
  {
   "cell_type": "code",
   "execution_count": 19,
   "id": "1b018077",
   "metadata": {},
   "outputs": [],
   "source": [
    "pdf_path = r'L:\\NaturalResources\\Wetlands\\Local Wetland Inventory\\WAPO\\EPA_2022_Tasks\\Task 1 WD Mapping'"
   ]
  },
  {
   "cell_type": "code",
   "execution_count": 20,
   "id": "2996fde6",
   "metadata": {},
   "outputs": [],
   "source": [
    "pdf_outpath = fr'{pdf_path}\\output\\pdf'"
   ]
  },
  {
   "cell_type": "code",
   "execution_count": 4,
   "id": "8c182b8d",
   "metadata": {},
   "outputs": [],
   "source": [
    "revpath = r'L:\\NaturalResources\\Wetlands\\Local Wetland Inventory\\WAPO\\EPA_2022_Tasks\\Task 1 WD Mapping\\output\\to_review'"
   ]
  },
  {
   "cell_type": "code",
   "execution_count": 5,
   "id": "60b19c94",
   "metadata": {},
   "outputs": [],
   "source": [
    "#setID = 'Set001'; nm_to_add=0\n",
    "setID = 'Set002'; nm_to_add=1420\n",
    "#setID = 'Set003'; nm_to_add = 2143\n",
    "#setID = 'Set004'; nm_to_add = 2878\n",
    "wd = combine_wd_tables(setID=setID, nm_to_add=nm_to_add)"
   ]
  },
  {
   "cell_type": "code",
   "execution_count": 15,
   "id": "45a2b8a8",
   "metadata": {},
   "outputs": [],
   "source": [
    "wdID = 'WD2017-0229'\n",
    "url = wd.loc[wd.wetdet_delin_number == wdID, 'DecisionLink'].values[0]\n",
    "extract_page_from_docLink(url=url, pageNm=11, wdID=wdID)"
   ]
  },
  {
   "cell_type": "code",
   "execution_count": 13,
   "id": "96dcdb53",
   "metadata": {},
   "outputs": [
    {
     "data": {
      "text/plain": [
       "'2504.00N25.00E0100--0000'"
      ]
     },
     "execution_count": 13,
     "metadata": {},
     "output_type": "execute_result"
    }
   ],
   "source": [
    "create_ORMapNm(ct_nm='Morrow', trsqq='04N25E01')"
   ]
  },
  {
   "cell_type": "code",
   "execution_count": 113,
   "id": "28fed9bb",
   "metadata": {},
   "outputs": [
    {
     "data": {
      "text/plain": [
       "True"
      ]
     },
     "execution_count": 113,
     "metadata": {},
     "output_type": "execute_result"
    }
   ],
   "source": [
    "webbrowser.open(url)"
   ]
  },
  {
   "cell_type": "code",
   "execution_count": null,
   "id": "bd48cc9a",
   "metadata": {},
   "outputs": [],
   "source": [
    "wdID = 'WD2017-0229'\n",
    "url = wd.loc[wd.wetdet_delin_number == wdID, 'DecisionLink'].values[0]\n",
    "#print(url)\n",
    "o = 1\n",
    "for i in range(24, 404):\n",
    "    if o==0:\n",
    "        extract_page_from_docLink(url=url, pageNm=i, wdID=wdID)\n",
    "    elif o==1:\n",
    "        extract_page_from_locPath(filePath=pdf_path+f'\\\\docs\\\\{wdID}final.pdf', \n",
    "                              pageNm=i, wdID=wdID)\n",
    "    else:\n",
    "        extract_page_from_locPath(filePath='C:/Users/clid1852/Downloads/WD2018-0364Final.pdf', \n",
    "                                  pageNm=i, wdID=wdID)\n",
    "    print(i)"
   ]
  },
  {
   "cell_type": "code",
   "execution_count": 95,
   "id": "b0cb7f1e",
   "metadata": {},
   "outputs": [
    {
     "data": {
      "text/plain": [
       "'https://docs.dsl.state.or.us/PublicReview/ElectronicFile.aspx?docid=3643703&dbid=0'"
      ]
     },
     "execution_count": 95,
     "metadata": {},
     "output_type": "execute_result"
    }
   ],
   "source": [
    "url"
   ]
  },
  {
   "cell_type": "code",
   "execution_count": 169,
   "id": "fd069ee7",
   "metadata": {},
   "outputs": [],
   "source": [
    "wdID = 'WD2019-0074'\n",
    "extract_page_from_locPath(filePath=f'C:/Users/clid1852/Downloads/{wdID}Final.pdf', \n",
    "                          pageNm=6, wdID=wdID)"
   ]
  },
  {
   "cell_type": "code",
   "execution_count": 166,
   "id": "5dac40f1",
   "metadata": {},
   "outputs": [],
   "source": [
    "wdID = 'WD2021-0643'\n",
    "extract_page_from_locPath(filePath=f'C:/Users/clid1852/Downloads/WD2019-0074Final.pdf', \n",
    "                          pageNm=7, wdID=wdID)"
   ]
  },
  {
   "cell_type": "code",
   "execution_count": 22,
   "id": "82a38c33",
   "metadata": {},
   "outputs": [],
   "source": [
    "wdID = 'WD2017-0050'\n",
    "extract_page_from_locPath(filePath=pdf_outpath+'\\\\WD2017-0050_7_21.pdf', \n",
    "                          pageNm=0, wdID=wdID)"
   ]
  },
  {
   "cell_type": "code",
   "execution_count": 57,
   "id": "2fd96b4f",
   "metadata": {},
   "outputs": [],
   "source": [
    "wdID = 'WD2017-0381'\n",
    "pages = '7_8'\n",
    "for i in range(1, 3):\n",
    "    filePath = pdf_outpath + f'\\\\{wdID}_{pages}.pdf'\n",
    "    extract_page_from_locPath(filePath, i, wdID, k=7) "
   ]
  },
  {
   "cell_type": "code",
   "execution_count": 199,
   "id": "c89bbac4",
   "metadata": {},
   "outputs": [],
   "source": [
    "# A - lon=-122.780067, lat=45.300856\n",
    "# F - lon=-122.829843, lat=45.496684\n",
    "# WTP - lon=-122.808718, lat=45.363563\n",
    "# C - lon=-122.878706, lat=45.431823\n",
    "# E - lon=-122.901504, lat=45.525420\n",
    "# B - lon=-122.893679, lat=45.467799\n",
    "pnt = get_point_from_lonlat(lon=-122.893679, lat=45.467799, transprj=True, export=True)"
   ]
  }
 ],
 "metadata": {
  "kernelspec": {
   "display_name": "Python 3",
   "language": "python",
   "name": "python3"
  },
  "language_info": {
   "codemirror_mode": {
    "name": "ipython",
    "version": 3
   },
   "file_extension": ".py",
   "mimetype": "text/x-python",
   "name": "python",
   "nbconvert_exporter": "python",
   "pygments_lexer": "ipython3",
   "version": "3.8.8"
  }
 },
 "nbformat": 4,
 "nbformat_minor": 5
}
