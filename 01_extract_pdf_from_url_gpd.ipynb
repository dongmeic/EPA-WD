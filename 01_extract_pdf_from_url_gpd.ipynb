{
 "cells": [
  {
   "cell_type": "code",
   "execution_count": 1,
   "id": "59bc0232",
   "metadata": {},
   "outputs": [],
   "source": [
    "from urllib.request import urlopen\n",
    "import io\n",
    "import requests\n",
    "import pandas as pd\n",
    "import webbrowser\n",
    "from PyPDF2 import PdfReader, PdfWriter"
   ]
  },
  {
   "cell_type": "code",
   "execution_count": 2,
   "id": "854c0a27",
   "metadata": {},
   "outputs": [],
   "source": [
    "from wdtools import *"
   ]
  },
  {
   "cell_type": "code",
   "execution_count": 3,
   "id": "2996fde6",
   "metadata": {},
   "outputs": [],
   "source": [
    "pdf_outpath = r'L:\\NaturalResources\\Wetlands\\Local Wetland Inventory\\WAPO\\EPA_2022_Tasks\\Task 1 WD Mapping\\output\\pdf'"
   ]
  },
  {
   "cell_type": "code",
   "execution_count": 4,
   "id": "ebb2c0b3",
   "metadata": {},
   "outputs": [],
   "source": [
    "setID = 'Set002'"
   ]
  },
  {
   "cell_type": "code",
   "execution_count": null,
   "id": "9a4d7e5a",
   "metadata": {},
   "outputs": [],
   "source": [
    "for i in range(6, 17):\n",
    "    extract_page_from_docLink(url='https://docs.dsl.state.or.us/PublicReview/ElectronicFile.aspx?docid=3650803&dbid=0', \n",
    "                          pageNm=i, wdID='WD2022-0084')"
   ]
  },
  {
   "cell_type": "code",
   "execution_count": 8,
   "id": "f3302b27",
   "metadata": {},
   "outputs": [],
   "source": [
    "extract_page_from_locPath(filePath=r'T:\\DCProjects\\EPA-WD\\docs\\WD20190615 InitialRequest.pdf', \n",
    "                          pageNm=5, wdID='WD2019-0615')"
   ]
  },
  {
   "cell_type": "code",
   "execution_count": 50,
   "id": "4f28d0ff",
   "metadata": {},
   "outputs": [],
   "source": [
    "for i in range(22, 55):\n",
    "    extract_page_from_locPath(filePath=r'T:\\DCProjects\\EPA-WD\\docs\\WD20190615 InitialRequest.pdf', \n",
    "                          pageNm=i, wdID='WD2019-0615')"
   ]
  },
  {
   "cell_type": "code",
   "execution_count": 5,
   "id": "8c182b8d",
   "metadata": {},
   "outputs": [],
   "source": [
    "revpath = r'L:\\NaturalResources\\Wetlands\\Local Wetland Inventory\\WAPO\\EPA_2022_Tasks\\Task 1 WD Mapping\\output\\to_review'"
   ]
  },
  {
   "cell_type": "code",
   "execution_count": 9,
   "id": "6c115460",
   "metadata": {},
   "outputs": [],
   "source": [
    "partial = pd.read_excel(f'{revpath}\\\\partial_matched_{setID}.xlsx')"
   ]
  },
  {
   "cell_type": "code",
   "execution_count": 46,
   "id": "fc61f646",
   "metadata": {},
   "outputs": [],
   "source": [
    "wdID = 'WD2020-0480'\n",
    "url = wd.loc[wd.wetdet_delin_number == wdID, 'DecisionLink'].values[0]\n",
    "extract_page_from_docLink(url=url, pageNm=4, wdID=wdID)"
   ]
  },
  {
   "cell_type": "code",
   "execution_count": 6,
   "id": "9cfbd041",
   "metadata": {},
   "outputs": [],
   "source": [
    "#setID = 'Set001'; nm_to_add=0\n",
    "setID = 'Set002'; nm_to_add=1420\n",
    "wd = combine_wd_tables(setID=setID, nm_to_add=nm_to_add)"
   ]
  },
  {
   "cell_type": "code",
   "execution_count": 97,
   "id": "d20971c0",
   "metadata": {},
   "outputs": [],
   "source": [
    "url = 'https://docs.dsl.state.or.us/PublicReview/PDF10/9f7f3d6a-ede1-4e09-bb85-a14a8f4561f8/3304157'"
   ]
  },
  {
   "cell_type": "code",
   "execution_count": 21,
   "id": "68b55b38",
   "metadata": {},
   "outputs": [
    {
     "data": {
      "text/plain": [
       "'https://docs.dsl.state.or.us/PublicReview/ElectronicFile.aspx?docid=3535862&dbid=0'"
      ]
     },
     "execution_count": 21,
     "metadata": {},
     "output_type": "execute_result"
    }
   ],
   "source": [
    "url"
   ]
  },
  {
   "cell_type": "code",
   "execution_count": 42,
   "id": "fd069ee7",
   "metadata": {},
   "outputs": [],
   "source": [
    "wdID = 'WD2020-0352'\n",
    "extract_page_from_locPath(filePath='C:/Users/clid1852/Downloads/WD20200352 AgencyDecision.pdf', \n",
    "                          pageNm=5, wdID=wdID)"
   ]
  },
  {
   "cell_type": "code",
   "execution_count": 180,
   "id": "82a38c33",
   "metadata": {},
   "outputs": [],
   "source": [
    "extract_page_from_locPath(filePath=pdf_outpath+'\\\\WD2017-0095final.pdf', \n",
    "                          pageNm=6, wdID='WD2017-0095')"
   ]
  },
  {
   "cell_type": "code",
   "execution_count": 205,
   "id": "2fd96b4f",
   "metadata": {},
   "outputs": [],
   "source": [
    "wdID = 'WD2018-0316'\n",
    "pages = '7_10'\n",
    "for i in range(0, 4):\n",
    "    filePath = pdf_outpath + f'\\\\{wdID}_{pages}.pdf'\n",
    "    extract_page_from_locPath(filePath, i, wdID) "
   ]
  },
  {
   "cell_type": "code",
   "execution_count": 45,
   "id": "5d4bdfba",
   "metadata": {},
   "outputs": [
    {
     "name": "stdout",
     "output_type": "stream",
     "text": [
      "6\n",
      "7\n",
      "8\n",
      "9\n",
      "10\n",
      "11\n"
     ]
    }
   ],
   "source": [
    "wdID = 'WD2020-0453'\n",
    "url = wd.loc[wd.wetdet_delin_number == wdID, 'DecisionLink'].values[0]\n",
    "for i in range(6, 12):\n",
    "    extract_page_from_docLink(url=url, pageNm=i, wdID=wdID)\n",
    "#     extract_page_from_locPath(filePath=pdf_outpath+'\\\\WD2017-0250.pdf', \n",
    "#                           pageNm=i, wdID='WD2017-0250')\n",
    "    print(i)"
   ]
  },
  {
   "cell_type": "code",
   "execution_count": 199,
   "id": "c89bbac4",
   "metadata": {},
   "outputs": [],
   "source": [
    "# A - lon=-122.780067, lat=45.300856\n",
    "# F - lon=-122.829843, lat=45.496684\n",
    "# WTP - lon=-122.808718, lat=45.363563\n",
    "# C - lon=-122.878706, lat=45.431823\n",
    "# E - lon=-122.901504, lat=45.525420\n",
    "# B - lon=-122.893679, lat=45.467799\n",
    "pnt = get_point_from_lonlat(lon=-122.893679, lat=45.467799, transprj=True, export=True)"
   ]
  }
 ],
 "metadata": {
  "kernelspec": {
   "display_name": "Python 3",
   "language": "python",
   "name": "python3"
  },
  "language_info": {
   "codemirror_mode": {
    "name": "ipython",
    "version": 3
   },
   "file_extension": ".py",
   "mimetype": "text/x-python",
   "name": "python",
   "nbconvert_exporter": "python",
   "pygments_lexer": "ipython3",
   "version": "3.8.8"
  }
 },
 "nbformat": 4,
 "nbformat_minor": 5
}
