{
 "cells": [
  {
   "cell_type": "code",
   "execution_count": 1,
   "id": "59bc0232",
   "metadata": {},
   "outputs": [],
   "source": [
    "from urllib.request import urlopen\n",
    "import io\n",
    "import requests\n",
    "import pandas as pd\n",
    "import webbrowser"
   ]
  },
  {
   "cell_type": "code",
   "execution_count": 2,
   "id": "854c0a27",
   "metadata": {},
   "outputs": [],
   "source": [
    "from PyPDF2 import PdfFileReader, PdfFileWriter"
   ]
  },
  {
   "cell_type": "code",
   "execution_count": 3,
   "id": "2996fde6",
   "metadata": {},
   "outputs": [],
   "source": [
    "pdf_outpath = r'L:\\NaturalResources\\Wetlands\\Local Wetland Inventory\\WAPO\\EPA_2022_Tasks\\Task 1 WD Mapping\\output\\pdf'"
   ]
  },
  {
   "cell_type": "code",
   "execution_count": 4,
   "id": "51a812bf",
   "metadata": {},
   "outputs": [],
   "source": [
    "def extract_page_from_docLink(url, pageNm, wdID):\n",
    "    response = requests.get(url=url, timeout=120)\n",
    "    on_fly_mem_obj = io.BytesIO(response.content)\n",
    "    pdf_file = PdfFileReader(on_fly_mem_obj)\n",
    "    pageObj = pdf_file.getPage(pageNm)\n",
    "    pdf_writer = PdfFileWriter()\n",
    "    pdf_writer.addPage(pageObj)\n",
    "    output = f'{pdf_outpath}\\\\{wdID}_{pageNm+1}.pdf'\n",
    "    with open(output, 'wb') as output_pdf:\n",
    "        pdf_writer.write(output_pdf) "
   ]
  },
  {
   "cell_type": "code",
   "execution_count": null,
   "id": "9a4d7e5a",
   "metadata": {},
   "outputs": [],
   "source": [
    "for i in range(6, 17):\n",
    "    extract_page_from_docLink(url='https://docs.dsl.state.or.us/PublicReview/ElectronicFile.aspx?docid=3650803&dbid=0', \n",
    "                          pageNm=i, wdID='WD2022-0084')"
   ]
  },
  {
   "cell_type": "code",
   "execution_count": 5,
   "id": "ae89161c",
   "metadata": {},
   "outputs": [],
   "source": [
    "def extract_page_from_locPath(filePath, pageNm, wdID):\n",
    "    pdf_file = PdfFileReader(filePath)\n",
    "    pageObj = pdf_file.getPage(pageNm)\n",
    "    pdf_writer = PdfFileWriter()\n",
    "    pdf_writer.addPage(pageObj)\n",
    "    output = f'{pdf_outpath}\\\\{wdID}_{pageNm+1}.pdf'\n",
    "    with open(output, 'wb') as output_pdf:\n",
    "        pdf_writer.write(output_pdf) "
   ]
  },
  {
   "cell_type": "code",
   "execution_count": 8,
   "id": "f3302b27",
   "metadata": {},
   "outputs": [],
   "source": [
    "extract_page_from_locPath(filePath=r'T:\\DCProjects\\EPA-WD\\docs\\WD20190615 InitialRequest.pdf', \n",
    "                          pageNm=5, wdID='WD2019-0615')"
   ]
  },
  {
   "cell_type": "code",
   "execution_count": 50,
   "id": "4f28d0ff",
   "metadata": {},
   "outputs": [],
   "source": [
    "for i in range(22, 55):\n",
    "    extract_page_from_locPath(filePath=r'T:\\DCProjects\\EPA-WD\\docs\\WD20190615 InitialRequest.pdf', \n",
    "                          pageNm=i, wdID='WD2019-0615')"
   ]
  },
  {
   "cell_type": "code",
   "execution_count": 6,
   "id": "8c182b8d",
   "metadata": {},
   "outputs": [],
   "source": [
    "revpath = r'L:\\NaturalResources\\Wetlands\\Local Wetland Inventory\\WAPO\\EPA_2022_Tasks\\Task 1 WD Mapping\\output\\to_review'"
   ]
  },
  {
   "cell_type": "code",
   "execution_count": 7,
   "id": "6c115460",
   "metadata": {},
   "outputs": [],
   "source": [
    "partial = pd.read_excel(f'{revpath}\\\\partial_matched_Set003.xlsx')"
   ]
  },
  {
   "cell_type": "code",
   "execution_count": 67,
   "id": "e6df9cf3",
   "metadata": {},
   "outputs": [
    {
     "data": {
      "text/plain": [
       "True"
      ]
     },
     "execution_count": 67,
     "metadata": {},
     "output_type": "execute_result"
    }
   ],
   "source": [
    "wdID = 'WD2022-0252'\n",
    "url = partial.loc[partial.wetdet_delin_number == wdID, 'DecisionLink'].values[0]\n",
    "webbrowser.open(url)"
   ]
  },
  {
   "cell_type": "code",
   "execution_count": 31,
   "id": "4ae7e766",
   "metadata": {},
   "outputs": [
    {
     "data": {
      "text/plain": [
       "nan"
      ]
     },
     "execution_count": 31,
     "metadata": {},
     "output_type": "execute_result"
    }
   ],
   "source": [
    "url"
   ]
  },
  {
   "cell_type": "code",
   "execution_count": 33,
   "id": "4d8d2e1c",
   "metadata": {},
   "outputs": [],
   "source": [
    "extract_page_from_locPath(filePath=r'C:\\Users\\clid1852\\Downloads\\WD20210535 InitialRequest.pdf', #T:\\DCProjects\\EPA-WD\\docs\\\n",
    "                          pageNm=13, wdID='WD2021-0535')"
   ]
  },
  {
   "cell_type": "code",
   "execution_count": 68,
   "id": "4c962a1b",
   "metadata": {},
   "outputs": [],
   "source": [
    "extract_page_from_docLink(url=url, pageNm=4, wdID=wdID)"
   ]
  },
  {
   "cell_type": "code",
   "execution_count": 38,
   "id": "5d4bdfba",
   "metadata": {},
   "outputs": [
    {
     "name": "stdout",
     "output_type": "stream",
     "text": [
      "8\n",
      "9\n",
      "10\n",
      "11\n",
      "12\n",
      "13\n",
      "14\n",
      "15\n"
     ]
    }
   ],
   "source": [
    "for i in range(8, 16):\n",
    "    extract_page_from_docLink(url=url, pageNm=i, wdID=wdID)\n",
    "#     extract_page_from_locPath(filePath=r'T:\\DCProjects\\EPA-WD\\docs\\WD20210179 Agency Decision.pdf', \n",
    "#                           pageNm=i, wdID='WD2021-0179')\n",
    "    print(i)"
   ]
  }
 ],
 "metadata": {
  "kernelspec": {
   "display_name": "Python 3",
   "language": "python",
   "name": "python3"
  },
  "language_info": {
   "codemirror_mode": {
    "name": "ipython",
    "version": 3
   },
   "file_extension": ".py",
   "mimetype": "text/x-python",
   "name": "python",
   "nbconvert_exporter": "python",
   "pygments_lexer": "ipython3",
   "version": "3.8.8"
  }
 },
 "nbformat": 4,
 "nbformat_minor": 5
}
