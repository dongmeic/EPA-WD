{
 "cells": [
  {
   "cell_type": "code",
   "execution_count": 1,
   "id": "f3cf5ace",
   "metadata": {},
   "outputs": [],
   "source": [
    "from urllib.request import urlopen"
   ]
  },
  {
   "cell_type": "code",
   "execution_count": 3,
   "id": "a306c662",
   "metadata": {},
   "outputs": [],
   "source": [
    "import io\n",
    "import requests"
   ]
  },
  {
   "cell_type": "code",
   "execution_count": 17,
   "id": "3b578593",
   "metadata": {},
   "outputs": [],
   "source": [
    "from PyPDF2 import PdfFileReader, PdfFileWriter"
   ]
  },
  {
   "cell_type": "code",
   "execution_count": 4,
   "id": "34ffed95",
   "metadata": {},
   "outputs": [],
   "source": [
    "url = 'https://docs.dsl.state.or.us/PublicReview/ElectronicFile.aspx?docid=3878075&dbid=0'"
   ]
  },
  {
   "cell_type": "code",
   "execution_count": 6,
   "id": "90e4b1df",
   "metadata": {},
   "outputs": [],
   "source": [
    "response = requests.get(url=url, timeout=120)"
   ]
  },
  {
   "cell_type": "code",
   "execution_count": 7,
   "id": "11f868aa",
   "metadata": {},
   "outputs": [],
   "source": [
    "on_fly_mem_obj = io.BytesIO(response.content)"
   ]
  },
  {
   "cell_type": "code",
   "execution_count": 8,
   "id": "d9d4e750",
   "metadata": {},
   "outputs": [],
   "source": [
    "pdf_file = PdfReader(on_fly_mem_obj)"
   ]
  },
  {
   "cell_type": "code",
   "execution_count": 9,
   "id": "c2a9271e",
   "metadata": {},
   "outputs": [
    {
     "data": {
      "text/plain": [
       "<PyPDF2._reader.PdfReader at 0x24b86ece4c0>"
      ]
     },
     "execution_count": 9,
     "metadata": {},
     "output_type": "execute_result"
    }
   ],
   "source": [
    "pdf_file"
   ]
  },
  {
   "cell_type": "code",
   "execution_count": 12,
   "id": "fec28afe",
   "metadata": {},
   "outputs": [
    {
     "data": {
      "text/plain": [
       "31"
      ]
     },
     "execution_count": 12,
     "metadata": {},
     "output_type": "execute_result"
    }
   ],
   "source": [
    "pdf_file.numPages"
   ]
  },
  {
   "cell_type": "code",
   "execution_count": 32,
   "id": "5303c3e0",
   "metadata": {},
   "outputs": [],
   "source": [
    "page = 3"
   ]
  },
  {
   "cell_type": "code",
   "execution_count": 33,
   "id": "c8406e2a",
   "metadata": {},
   "outputs": [],
   "source": [
    "pageObj = pdf_file.getPage(page)"
   ]
  },
  {
   "cell_type": "code",
   "execution_count": 34,
   "id": "b7b57253",
   "metadata": {},
   "outputs": [],
   "source": [
    "pdf_writer = PdfFileWriter()"
   ]
  },
  {
   "cell_type": "code",
   "execution_count": 35,
   "id": "1d524515",
   "metadata": {},
   "outputs": [],
   "source": [
    "pdf_writer.addPage(pageObj)"
   ]
  },
  {
   "cell_type": "code",
   "execution_count": 21,
   "id": "27d546b8",
   "metadata": {},
   "outputs": [],
   "source": [
    "name_of_split = 'WD2021-0624'"
   ]
  },
  {
   "cell_type": "code",
   "execution_count": 37,
   "id": "3ba97e74",
   "metadata": {},
   "outputs": [],
   "source": [
    "pdf_outpath = r'L:\\NaturalResources\\Wetlands\\Local Wetland Inventory\\WAPO\\EPA_2022_Tasks\\Task 1 WD Mapping\\output\\pdf'"
   ]
  },
  {
   "cell_type": "code",
   "execution_count": 29,
   "id": "51e4d3cd",
   "metadata": {},
   "outputs": [],
   "source": [
    "output = f'{pdf_outpath}\\\\{name_of_split}_{page+1}.pdf'"
   ]
  },
  {
   "cell_type": "code",
   "execution_count": 30,
   "id": "6dc4a48f",
   "metadata": {},
   "outputs": [
    {
     "data": {
      "text/plain": [
       "'L:\\\\NaturalResources\\\\Wetlands\\\\Local Wetland Inventory\\\\WAPO\\\\EPA_2022_Tasks\\\\Task 1 WD Mapping\\\\output\\\\pdf\\\\WD2021-0624_4.pdf'"
      ]
     },
     "execution_count": 30,
     "metadata": {},
     "output_type": "execute_result"
    }
   ],
   "source": [
    "output"
   ]
  },
  {
   "cell_type": "code",
   "execution_count": 36,
   "id": "1fabc251",
   "metadata": {},
   "outputs": [],
   "source": [
    "with open(output, 'wb') as output_pdf:\n",
    "    pdf_writer.write(output_pdf)"
   ]
  },
  {
   "cell_type": "code",
   "execution_count": 38,
   "id": "3e4a09b3",
   "metadata": {},
   "outputs": [],
   "source": [
    "def extract_page_from_docLink(url, pageNm, wdID):\n",
    "    response = requests.get(url=url, timeout=120)\n",
    "    on_fly_mem_obj = io.BytesIO(response.content)\n",
    "    pdf_file = PdfReader(on_fly_mem_obj)\n",
    "    pageObj = pdf_file.getPage(pageNm)\n",
    "    pdf_writer = PdfFileWriter()\n",
    "    pdf_writer.addPage(pageObj)\n",
    "    output = f'{pdf_outpath}\\\\{wdID}_{page+1}.pdf'\n",
    "    with open(output, 'wb') as output_pdf:\n",
    "        pdf_writer.write(output_pdf) "
   ]
  },
  {
   "cell_type": "code",
   "execution_count": 39,
   "id": "b81ed28e",
   "metadata": {},
   "outputs": [],
   "source": [
    "extract_page_from_docLink(url=url, pageNm=3, wdID='WD2021-0624')"
   ]
  }
 ],
 "metadata": {
  "kernelspec": {
   "display_name": "Python 3",
   "language": "python",
   "name": "python3"
  },
  "language_info": {
   "codemirror_mode": {
    "name": "ipython",
    "version": 3
   },
   "file_extension": ".py",
   "mimetype": "text/x-python",
   "name": "python",
   "nbconvert_exporter": "python",
   "pygments_lexer": "ipython3",
   "version": "3.8.8"
  }
 },
 "nbformat": 4,
 "nbformat_minor": 5
}
