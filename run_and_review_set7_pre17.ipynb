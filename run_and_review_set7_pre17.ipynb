{
 "cells": [
  {
   "cell_type": "code",
   "execution_count": 1,
   "id": "b5fb740d",
   "metadata": {},
   "outputs": [],
   "source": [
    "%load_ext autoreload\n",
    "%autoreload 2"
   ]
  },
  {
   "cell_type": "code",
   "execution_count": 18,
   "id": "f4728754",
   "metadata": {},
   "outputs": [],
   "source": [
    "from wdtools import *"
   ]
  },
  {
   "cell_type": "code",
   "execution_count": 19,
   "id": "a19bb634",
   "metadata": {},
   "outputs": [
    {
     "name": "stdout",
     "output_type": "stream",
     "text": [
      "2009\n",
      "2011\n",
      "2014\n",
      "2015\n",
      "2016\n",
      "it took 11.0 minutes to complete\n"
     ]
    }
   ],
   "source": [
    "# this can take about 9 minutes to read from 2009 to 2023\n",
    "start = time.time()\n",
    "all_taxlot = combine_taxlot(yearstart=2009, yearend=2017)\n",
    "end = time.time()\n",
    "print(f'it took {round((end - start)/60, 0)} minutes to complete')"
   ]
  },
  {
   "cell_type": "code",
   "execution_count": 4,
   "id": "cc9d5e7b",
   "metadata": {},
   "outputs": [
    {
     "data": {
      "text/plain": [
       "(8378764, 3)"
      ]
     },
     "execution_count": 4,
     "metadata": {},
     "output_type": "execute_result"
    }
   ],
   "source": [
    "all_taxlot.shape"
   ]
  },
  {
   "cell_type": "code",
   "execution_count": 20,
   "id": "a40037db",
   "metadata": {},
   "outputs": [],
   "source": [
    "n=7"
   ]
  },
  {
   "cell_type": "code",
   "execution_count": 6,
   "id": "146fa5d9",
   "metadata": {},
   "outputs": [],
   "source": [
    "wd_df = get_all_wd(num=n-1)"
   ]
  },
  {
   "cell_type": "code",
   "execution_count": 8,
   "id": "f7a81760",
   "metadata": {},
   "outputs": [
    {
     "data": {
      "text/plain": [
       "Index(['wetdet_delin_number', 'trsqq', 'parcel_id', 'address_location_desc',\n",
       "       'city', 'county', 'site_name', 'site_desc', 'latitude', 'longitude',\n",
       "       'Coord-Source', 'DocumentName', 'DecisionLink', 'is_batch_file',\n",
       "       'status_name', 'received_date', 'response_date',\n",
       "       'reissuance_response_date', 'project_id', 'site_id', 'record_ID',\n",
       "       'notes', 'recyear', 'IDyear', 'missinglot', 'SetID'],\n",
       "      dtype='object')"
      ]
     },
     "execution_count": 8,
     "metadata": {},
     "output_type": "execute_result"
    }
   ],
   "source": [
    "wd_df.columns"
   ]
  },
  {
   "cell_type": "code",
   "execution_count": 9,
   "id": "84811db0",
   "metadata": {},
   "outputs": [
    {
     "data": {
      "text/plain": [
       "(4972, 26)"
      ]
     },
     "execution_count": 9,
     "metadata": {},
     "output_type": "execute_result"
    }
   ],
   "source": [
    "wd_df.shape"
   ]
  },
  {
   "cell_type": "code",
   "execution_count": 7,
   "id": "6f280e0b",
   "metadata": {
    "scrolled": true
   },
   "outputs": [],
   "source": [
    "setID = 'Set00'+str(n); nm_to_add = wd_df.shape[0]"
   ]
  },
  {
   "cell_type": "code",
   "execution_count": 8,
   "id": "00a56412",
   "metadata": {},
   "outputs": [],
   "source": [
    "wd = combine_wd_tables(setID=setID, nm_to_add=nm_to_add)"
   ]
  },
  {
   "cell_type": "code",
   "execution_count": 27,
   "id": "89df1969",
   "metadata": {},
   "outputs": [
    {
     "data": {
      "text/html": [
       "<div>\n",
       "<style scoped>\n",
       "    .dataframe tbody tr th:only-of-type {\n",
       "        vertical-align: middle;\n",
       "    }\n",
       "\n",
       "    .dataframe tbody tr th {\n",
       "        vertical-align: top;\n",
       "    }\n",
       "\n",
       "    .dataframe thead th {\n",
       "        text-align: right;\n",
       "    }\n",
       "</style>\n",
       "<table border=\"1\" class=\"dataframe\">\n",
       "  <thead>\n",
       "    <tr style=\"text-align: right;\">\n",
       "      <th></th>\n",
       "      <th>wetdet_delin_number</th>\n",
       "      <th>trsqq</th>\n",
       "      <th>parcel_id</th>\n",
       "      <th>address_location_desc</th>\n",
       "      <th>city</th>\n",
       "      <th>county</th>\n",
       "      <th>site_name</th>\n",
       "      <th>site_desc</th>\n",
       "      <th>latitude</th>\n",
       "      <th>longitude</th>\n",
       "      <th>...</th>\n",
       "      <th>Coord-Source</th>\n",
       "      <th>response_date</th>\n",
       "      <th>reissuance_response_date</th>\n",
       "      <th>project_id</th>\n",
       "      <th>site_id</th>\n",
       "      <th>record_ID</th>\n",
       "      <th>notes</th>\n",
       "      <th>recyear</th>\n",
       "      <th>IDyear</th>\n",
       "      <th>missinglot</th>\n",
       "    </tr>\n",
       "  </thead>\n",
       "  <tbody>\n",
       "    <tr>\n",
       "      <th>344</th>\n",
       "      <td>WD2012-0170</td>\n",
       "      <td>15S10E00</td>\n",
       "      <td>1003</td>\n",
       "      <td>West McKinney Butte Rd, Sisters</td>\n",
       "      <td>Sisters</td>\n",
       "      <td>Deschutes</td>\n",
       "      <td>Sisters Skatepark Proj  15S10E00</td>\n",
       "      <td>WD2012-0170 Sisters Skatepark Project</td>\n",
       "      <td>44.2958</td>\n",
       "      <td>-121.5796</td>\n",
       "      <td>...</td>\n",
       "      <td>DSL Verified</td>\n",
       "      <td>2012-05-10</td>\n",
       "      <td>NaT</td>\n",
       "      <td>NaN</td>\n",
       "      <td>85306</td>\n",
       "      <td>5317</td>\n",
       "      <td></td>\n",
       "      <td>2012</td>\n",
       "      <td>2012</td>\n",
       "      <td>N</td>\n",
       "    </tr>\n",
       "  </tbody>\n",
       "</table>\n",
       "<p>1 rows × 25 columns</p>\n",
       "</div>"
      ],
      "text/plain": [
       "    wetdet_delin_number     trsqq parcel_id            address_location_desc  \\\n",
       "344         WD2012-0170  15S10E00      1003  West McKinney Butte Rd, Sisters   \n",
       "\n",
       "        city     county                         site_name  \\\n",
       "344  Sisters  Deschutes  Sisters Skatepark Proj  15S10E00   \n",
       "\n",
       "                                 site_desc  latitude  longitude  ...  \\\n",
       "344  WD2012-0170 Sisters Skatepark Project   44.2958  -121.5796  ...   \n",
       "\n",
       "     Coord-Source response_date reissuance_response_date project_id site_id  \\\n",
       "344  DSL Verified    2012-05-10                      NaT        NaN   85306   \n",
       "\n",
       "    record_ID notes recyear  IDyear  missinglot  \n",
       "344      5317          2012    2012           N  \n",
       "\n",
       "[1 rows x 25 columns]"
      ]
     },
     "execution_count": 27,
     "metadata": {},
     "output_type": "execute_result"
    }
   ],
   "source": [
    "wd[wd.wetdet_delin_number == 'WD2012-0170']"
   ]
  },
  {
   "cell_type": "code",
   "execution_count": 12,
   "id": "b7030a57",
   "metadata": {},
   "outputs": [
    {
     "data": {
      "text/plain": [
       "array(['Clatsop', 'CLATSOP', 'Deschutes', 'DESCHUTES'], dtype=object)"
      ]
     },
     "execution_count": 12,
     "metadata": {},
     "output_type": "execute_result"
    }
   ],
   "source": [
    "wd.county.unique()"
   ]
  },
  {
   "cell_type": "code",
   "execution_count": 13,
   "id": "5757147e",
   "metadata": {},
   "outputs": [],
   "source": [
    "wd.loc[:, 'county'] = wd.county.apply(lambda x: x.capitalize())"
   ]
  },
  {
   "cell_type": "code",
   "execution_count": 14,
   "id": "95c76e50",
   "metadata": {},
   "outputs": [
    {
     "data": {
      "text/plain": [
       "county\n",
       "Clatsop      296\n",
       "Deschutes    134\n",
       "Name: wetdet_delin_number, dtype: int64"
      ]
     },
     "execution_count": 14,
     "metadata": {},
     "output_type": "execute_result"
    }
   ],
   "source": [
    "wd.groupby(['county'])['wetdet_delin_number'].count()"
   ]
  },
  {
   "cell_type": "code",
   "execution_count": 15,
   "id": "7e743f55",
   "metadata": {},
   "outputs": [
    {
     "data": {
      "text/plain": [
       "Index(['wetdet_delin_number', 'trsqq', 'parcel_id', 'address_location_desc',\n",
       "       'city', 'county', 'site_name', 'site_desc', 'latitude', 'longitude',\n",
       "       'DocumentName', 'DecisionLink', 'is_batch_file', 'status_name',\n",
       "       'received_date', 'Coord-Source', 'response_date',\n",
       "       'reissuance_response_date', 'project_id', 'site_id', 'record_ID',\n",
       "       'notes', 'recyear', 'IDyear', 'missinglot'],\n",
       "      dtype='object')"
      ]
     },
     "execution_count": 15,
     "metadata": {},
     "output_type": "execute_result"
    }
   ],
   "source": [
    "wd.columns"
   ]
  },
  {
   "cell_type": "code",
   "execution_count": 16,
   "id": "4f99eae1",
   "metadata": {},
   "outputs": [
    {
     "data": {
      "text/plain": [
       "0      0\n",
       "1      0\n",
       "2      0\n",
       "3      0\n",
       "4      0\n",
       "      ..\n",
       "425    0\n",
       "426    0\n",
       "427    0\n",
       "428    0\n",
       "429    0\n",
       "Name: trsqq, Length: 430, dtype: int64"
      ]
     },
     "execution_count": 16,
     "metadata": {},
     "output_type": "execute_result"
    }
   ],
   "source": [
    "wd.trsqq.apply(lambda x: scan_trsqq(x))"
   ]
  },
  {
   "cell_type": "markdown",
   "id": "e454f8ce",
   "metadata": {},
   "source": [
    "wd[wd.trsqq=='07N0908C'] # manually corrected it in the same table"
   ]
  },
  {
   "cell_type": "markdown",
   "id": "6fa9c8a3",
   "metadata": {},
   "source": [
    "url = wd.loc[wd.wetdet_delin_number == 'WD2011-0047', 'DecisionLink'].values[0]\n",
    "if str(url) == 'nan':\n",
    "    print('Decision link is not available')\n",
    "else:\n",
    "    webbrowser.open(url)"
   ]
  },
  {
   "cell_type": "code",
   "execution_count": 21,
   "id": "ab96dd80",
   "metadata": {
    "scrolled": true
   },
   "outputs": [
    {
     "name": "stdout",
     "output_type": "stream",
     "text": [
      "it took 0.0 minutes to complete\n",
      "it is about 14.88% of data in the original 430 records unmatched\n",
      "there are 0 records (0.0% of the original records) without parcel id\n"
     ]
    }
   ],
   "source": [
    "wdf, setgdf, unmatched_df = run_Tier1(setID=setID, nm_to_add=nm_to_add, all_taxlot=all_taxlot)"
   ]
  },
  {
   "cell_type": "code",
   "execution_count": 10,
   "id": "b3906b28",
   "metadata": {},
   "outputs": [
    {
     "data": {
      "text/plain": [
       "(430, 25)"
      ]
     },
     "execution_count": 10,
     "metadata": {},
     "output_type": "execute_result"
    }
   ],
   "source": [
    "wdf.shape"
   ]
  },
  {
   "cell_type": "code",
   "execution_count": 19,
   "id": "088e35dc",
   "metadata": {},
   "outputs": [
    {
     "data": {
      "text/plain": [
       "Index(['wetdet_delin_number', 'trsqq', 'parcel_id', 'address_location_desc',\n",
       "       'city', 'county', 'site_name', 'site_desc', 'latitude', 'longitude',\n",
       "       'DocumentName', 'DecisionLink', 'is_batch_file', 'status_name',\n",
       "       'received_date', 'Coord-Source', 'response_date',\n",
       "       'reissuance_response_date', 'project_id', 'site_id', 'record_ID',\n",
       "       'notes', 'recyear', 'IDyear', 'missinglot'],\n",
       "      dtype='object')"
      ]
     },
     "execution_count": 19,
     "metadata": {},
     "output_type": "execute_result"
    }
   ],
   "source": [
    "unmatched_df.columns"
   ]
  },
  {
   "cell_type": "code",
   "execution_count": 11,
   "id": "20416239",
   "metadata": {},
   "outputs": [
    {
     "data": {
      "text/plain": [
       "(64, 25)"
      ]
     },
     "execution_count": 11,
     "metadata": {},
     "output_type": "execute_result"
    }
   ],
   "source": [
    "unmatched_df.shape"
   ]
  },
  {
   "cell_type": "code",
   "execution_count": 12,
   "id": "863ed4bc",
   "metadata": {},
   "outputs": [
    {
     "data": {
      "text/plain": [
       "33"
      ]
     },
     "execution_count": 12,
     "metadata": {},
     "output_type": "execute_result"
    }
   ],
   "source": [
    "len(unmatched_df.wetdet_delin_number.unique())"
   ]
  },
  {
   "cell_type": "code",
   "execution_count": 22,
   "id": "fa7edf39",
   "metadata": {},
   "outputs": [
    {
     "data": {
      "text/plain": [
       "Index(['wdID', 'trsqq', 'parcel_id', 'loc_desc', 'city', 'county', 'site_name',\n",
       "       'site_desc', 'latitude', 'longitude', 'doc_name', 'doc_link',\n",
       "       'isbatfile', 'status_nm', 'receiveddt', 'coord_src', 'responsedt',\n",
       "       'reissuance', 'project_id', 'site_id', 'record_ID', 'notes', 'recyear',\n",
       "       'IDyear', 'missinglot', 'lots', 'lot', 'cnt_code', 'ORTaxlot',\n",
       "       'geometry'],\n",
       "      dtype='object')"
      ]
     },
     "execution_count": 22,
     "metadata": {},
     "output_type": "execute_result"
    }
   ],
   "source": [
    "setgdf.columns"
   ]
  },
  {
   "cell_type": "code",
   "execution_count": 13,
   "id": "8ac9eb44",
   "metadata": {},
   "outputs": [
    {
     "data": {
      "text/plain": [
       "(686, 30)"
      ]
     },
     "execution_count": 13,
     "metadata": {},
     "output_type": "execute_result"
    }
   ],
   "source": [
    "setgdf.shape"
   ]
  },
  {
   "cell_type": "code",
   "execution_count": 14,
   "id": "68c077f9",
   "metadata": {},
   "outputs": [
    {
     "data": {
      "text/plain": [
       "279"
      ]
     },
     "execution_count": 14,
     "metadata": {},
     "output_type": "execute_result"
    }
   ],
   "source": [
    "len(setgdf.wdID.unique())"
   ]
  },
  {
   "cell_type": "code",
   "execution_count": 22,
   "id": "81ac5b24",
   "metadata": {},
   "outputs": [
    {
     "name": "stdout",
     "output_type": "stream",
     "text": [
      "reviewing WD2015-0449\n",
      "all lots are matched...\n",
      "corrected trsqq...\n",
      "reviewing WD2015-0283\n",
      "all lots are matched...\n",
      "corrected trsqq...\n",
      "reviewing WD2008-0294\n",
      "trsqq matched, checking county code...\n",
      "county code is corrected, need to check lot numbers...\n",
      "lot numbers might be wrong...\n",
      "reviewing WD2008-0343\n",
      "there is not any matched lot, need to review trsqq, the close-match is 08N10W27DD\n",
      "lots to check: ['202'], and lots to compare: ['100', '102', '200', '300', '400', '500', '600', '700', '800', '900', '1000', '1100', '1200', '1300', '1400', '1500', '1700', '1800', '1900', '2000', '2100', '2200', '2300', '2400', '2500', '2600', '2700', '2800', '2900', '3000', '3100', '3200', '3203', '3300', '3301', '3400', '3401', '3500', '3600', '3700', '3800', '3900', '4000', '4100', '4200', '4300', '4400', '4500', '4600', '5000', '5400', '5401', '5800', '5900', '6000', '6100', '6200', '6300', '6400', '6500', '6600', '6700', '6800', '6900', '7000', '7100', '7200', '7300', '7400', '7500', '7600', '7700', 'ROADS']\n",
      "reviewing WD2009-0135\n",
      "there is not any matched lot, need to review trsqq, the close-match is 02S03E17\n",
      "lots to check: ['201'], and lots to compare: ['1200', '1300', '1301', '1302', '1400', '1490', '1500', '1501', '1502', '1503', '1600', '1601', '1700', '1800', '1801', '1802', '1900', '2000', '2100', '2200', '2300', '2400', '2401', '2500', '2600', '2700', '2701', '2702', '2900', '3000', '3100', '3200', '3300', '3400', '3401', '3500', 'ROADS', 'WATER']\n",
      "reviewing WD2013-0169\n",
      "all lots are matched...\n",
      "corrected trsqq...\n",
      "reviewing WD2009-0289\n",
      "all lots are matched...\n",
      "corrected trsqq...\n",
      "reviewing WD2008-0325\n",
      "there is not any matched lot, need to review trsqq, the close-match is 08N10W27CA\n",
      "lots to check: ['201'], and lots to compare: ['100', '200', '300', '400', 'ROADS']\n",
      "reviewing WD2011-0063\n",
      "all lots are matched...\n",
      "corrected trsqq...\n",
      "reviewing WD2015-0266\n",
      "all lots are matched...\n",
      "corrected trsqq...\n",
      "reviewing WD2012-0073\n",
      "there is not any matched lot, need to review trsqq, the close-match is 17S12E06\n",
      "lots to check: ['4800', '4900'], and lots to compare: ['100', '200', '201', '300', '301', '302', '701', '705', '1000', '1001', '1002', '1100', '1101', '1102', '1103', '1104']\n",
      "reviewing WD2016-0255\n",
      "all lots are matched...\n",
      "corrected trsqq...\n",
      "reviewing WD2015-0061\n",
      "all lots are matched...\n",
      "corrected trsqq...\n",
      "reviewing WD2008-0302\n",
      "all lots are matched...\n",
      "corrected trsqq...\n",
      "reviewing WD2009-0155\n",
      "all lots are matched...\n",
      "corrected trsqq...\n",
      "reviewing WD2016-0001\n",
      "all lots are matched...\n",
      "corrected trsqq...\n",
      "reviewing WD2015-0297\n",
      "all lots are matched...\n",
      "corrected trsqq...\n"
     ]
    }
   ],
   "source": [
    "r1_df, r2_df = run_Tier2_step1(setID=setID, unmatched_df=unmatched_df, all_taxlot=all_taxlot)"
   ]
  },
  {
   "cell_type": "markdown",
   "id": "037f82c0",
   "metadata": {},
   "source": [
    "Manual run notes_review_set7 to get correction notes"
   ]
  },
  {
   "cell_type": "code",
   "execution_count": 23,
   "id": "d65c5b69",
   "metadata": {
    "scrolled": true
   },
   "outputs": [
    {
     "name": "stdout",
     "output_type": "stream",
     "text": [
      "it is about 12.09% of data in the original 430 records unmatched\n",
      "there are 0 records (0.0% of the original records) without parcel id\n"
     ]
    }
   ],
   "source": [
    "matched, unmatched_df2 = run_Tier2_step3(r1_df=r1_df, r2_df=r2_df, setID=setID, nm_to_add=nm_to_add, \n",
    "                                        wd=wdf, all_taxlot=all_taxlot)"
   ]
  }
 ],
 "metadata": {
  "kernelspec": {
   "display_name": "Python 3",
   "language": "python",
   "name": "python3"
  },
  "language_info": {
   "codemirror_mode": {
    "name": "ipython",
    "version": 3
   },
   "file_extension": ".py",
   "mimetype": "text/x-python",
   "name": "python",
   "nbconvert_exporter": "python",
   "pygments_lexer": "ipython3",
   "version": "3.8.8"
  }
 },
 "nbformat": 4,
 "nbformat_minor": 5
}
