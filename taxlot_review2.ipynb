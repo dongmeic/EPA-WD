{
 "cells": [
  {
   "cell_type": "code",
   "execution_count": 1,
   "id": "bdfdd61b",
   "metadata": {},
   "outputs": [],
   "source": [
    "%load_ext autoreload\n",
    "%autoreload 2"
   ]
  },
  {
   "cell_type": "code",
   "execution_count": 70,
   "id": "3d2be6c2",
   "metadata": {},
   "outputs": [],
   "source": [
    "from wdtools import *"
   ]
  },
  {
   "cell_type": "code",
   "execution_count": 3,
   "id": "90978bac",
   "metadata": {},
   "outputs": [],
   "source": [
    "import glob"
   ]
  },
  {
   "cell_type": "code",
   "execution_count": 71,
   "id": "e13904b9",
   "metadata": {},
   "outputs": [
    {
     "name": "stdout",
     "output_type": "stream",
     "text": [
      "Baker\n",
      "Benton\n",
      "Clackamas\n",
      "Clatsop\n",
      "Columbia\n",
      "Crook\n",
      "Curry\n",
      "Deschutes\n",
      "Gilliam\n",
      "Harney\n",
      "Hood_River\n",
      "Jackson\n",
      "Jefferson\n",
      "Josephine\n",
      "Klamath\n",
      "Lake\n",
      "Lane\n",
      "Lincoln\n",
      "Linn\n",
      "Marion\n",
      "Multnomah\n",
      "Polk\n",
      "Tillamook\n",
      "Union\n",
      "Wasco\n",
      "Washington\n",
      "Wheeler\n",
      "Yamhill\n"
     ]
    }
   ],
   "source": [
    "gdf = readTaxlots(year=2012, export=True)"
   ]
  },
  {
   "cell_type": "code",
   "execution_count": 25,
   "id": "22471c84",
   "metadata": {},
   "outputs": [],
   "source": [
    "year = 2012\n",
    "gdf = gdf[~gdf.geometry.isnull()]\n",
    "if isinstance(gdf, pd.DataFrame):\n",
    "    gdf = gpd.GeoDataFrame(gdf, crs=\"EPSG:2992\", geometry=\"geometry\")\n",
    "gdf.to_file(inpath + f'\\\\GIS\\\\ORMAP_data\\\\2009_2015\\\\ORTaxlots{year}.shp')"
   ]
  },
  {
   "cell_type": "code",
   "execution_count": 4,
   "id": "ec8c15d5",
   "metadata": {},
   "outputs": [],
   "source": [
    "year=2009"
   ]
  },
  {
   "cell_type": "code",
   "execution_count": 5,
   "id": "739e07b6",
   "metadata": {},
   "outputs": [],
   "source": [
    "layers = glob.glob(txpath + f'\\\\Taxlots{year}\\\\' + '*.shp')"
   ]
  },
  {
   "cell_type": "code",
   "execution_count": 9,
   "id": "b4be77c4",
   "metadata": {},
   "outputs": [
    {
     "data": {
      "text/plain": [
       "array(['Baker', 'Benton', 'Clackamas', 'Clatsop', 'Columbia', 'Coos',\n",
       "       'Crook', 'Curry', 'Deschutes', 'Douglas', 'Gilliam', 'Grant',\n",
       "       'Harney', 'Hood River', 'Jackson', 'Jefferson', 'Josephine',\n",
       "       'Klamath', 'Lake', 'Lane', 'Lincoln', 'Linn', 'Malheur', 'Marion',\n",
       "       'Morrow', 'Multnomah', 'Polk', 'Sherman', 'Tillamook', 'Umatilla',\n",
       "       'Union', 'Wallowa', 'Wasco', 'Washington', 'Wheeler', 'Yamhill'],\n",
       "      dtype=object)"
      ]
     },
     "execution_count": 9,
     "metadata": {},
     "output_type": "execute_result"
    }
   ],
   "source": [
    "cnt_ID.COUNTY.values"
   ]
  },
  {
   "cell_type": "code",
   "execution_count": 42,
   "id": "0971af15",
   "metadata": {},
   "outputs": [
    {
     "name": "stdout",
     "output_type": "stream",
     "text": [
      "L:\\NaturalResources\\Wetlands\\Local Wetland Inventory\\WAPO\\EPA_2022_Tasks\\Task 1 WD Mapping\\GIS\\ORMAP_data\\ORMAP_Taxlot_Years\\Taxlots2009\\Bake_tax_09.shp\n",
      "L:\\NaturalResources\\Wetlands\\Local Wetland Inventory\\WAPO\\EPA_2022_Tasks\\Task 1 WD Mapping\\GIS\\ORMAP_data\\ORMAP_Taxlot_Years\\Taxlots2009\\Bent_tax_09.shp\n",
      "L:\\NaturalResources\\Wetlands\\Local Wetland Inventory\\WAPO\\EPA_2022_Tasks\\Task 1 WD Mapping\\GIS\\ORMAP_data\\ORMAP_Taxlot_Years\\Taxlots2009\\Clac_tax_09.shp\n",
      "L:\\NaturalResources\\Wetlands\\Local Wetland Inventory\\WAPO\\EPA_2022_Tasks\\Task 1 WD Mapping\\GIS\\ORMAP_data\\ORMAP_Taxlot_Years\\Taxlots2009\\Colu_tax_09.shp\n",
      "L:\\NaturalResources\\Wetlands\\Local Wetland Inventory\\WAPO\\EPA_2022_Tasks\\Task 1 WD Mapping\\GIS\\ORMAP_data\\ORMAP_Taxlot_Years\\Taxlots2009\\Coos_tax_09.shp\n",
      "L:\\NaturalResources\\Wetlands\\Local Wetland Inventory\\WAPO\\EPA_2022_Tasks\\Task 1 WD Mapping\\GIS\\ORMAP_data\\ORMAP_Taxlot_Years\\Taxlots2009\\Croo_tax_09.shp\n",
      "L:\\NaturalResources\\Wetlands\\Local Wetland Inventory\\WAPO\\EPA_2022_Tasks\\Task 1 WD Mapping\\GIS\\ORMAP_data\\ORMAP_Taxlot_Years\\Taxlots2009\\Curr_tax_09.shp\n",
      "L:\\NaturalResources\\Wetlands\\Local Wetland Inventory\\WAPO\\EPA_2022_Tasks\\Task 1 WD Mapping\\GIS\\ORMAP_data\\ORMAP_Taxlot_Years\\Taxlots2009\\Desc_tax_09.shp\n",
      "L:\\NaturalResources\\Wetlands\\Local Wetland Inventory\\WAPO\\EPA_2022_Tasks\\Task 1 WD Mapping\\GIS\\ORMAP_data\\ORMAP_Taxlot_Years\\Taxlots2009\\Doug_tax_09.shp\n",
      "L:\\NaturalResources\\Wetlands\\Local Wetland Inventory\\WAPO\\EPA_2022_Tasks\\Task 1 WD Mapping\\GIS\\ORMAP_data\\ORMAP_Taxlot_Years\\Taxlots2009\\Gill_tax_09.shp\n",
      "L:\\NaturalResources\\Wetlands\\Local Wetland Inventory\\WAPO\\EPA_2022_Tasks\\Task 1 WD Mapping\\GIS\\ORMAP_data\\ORMAP_Taxlot_Years\\Taxlots2009\\Hood_tax_09.shp\n",
      "L:\\NaturalResources\\Wetlands\\Local Wetland Inventory\\WAPO\\EPA_2022_Tasks\\Task 1 WD Mapping\\GIS\\ORMAP_data\\ORMAP_Taxlot_Years\\Taxlots2009\\Jack_Tax_09.shp\n",
      "L:\\NaturalResources\\Wetlands\\Local Wetland Inventory\\WAPO\\EPA_2022_Tasks\\Task 1 WD Mapping\\GIS\\ORMAP_data\\ORMAP_Taxlot_Years\\Taxlots2009\\Jeff_tax_09.shp\n",
      "L:\\NaturalResources\\Wetlands\\Local Wetland Inventory\\WAPO\\EPA_2022_Tasks\\Task 1 WD Mapping\\GIS\\ORMAP_data\\ORMAP_Taxlot_Years\\Taxlots2009\\Jose_tax_09.shp\n",
      "L:\\NaturalResources\\Wetlands\\Local Wetland Inventory\\WAPO\\EPA_2022_Tasks\\Task 1 WD Mapping\\GIS\\ORMAP_data\\ORMAP_Taxlot_Years\\Taxlots2009\\Klam_tax_09.shp\n",
      "L:\\NaturalResources\\Wetlands\\Local Wetland Inventory\\WAPO\\EPA_2022_Tasks\\Task 1 WD Mapping\\GIS\\ORMAP_data\\ORMAP_Taxlot_Years\\Taxlots2009\\Lane_tax_09.shp\n",
      "L:\\NaturalResources\\Wetlands\\Local Wetland Inventory\\WAPO\\EPA_2022_Tasks\\Task 1 WD Mapping\\GIS\\ORMAP_data\\ORMAP_Taxlot_Years\\Taxlots2009\\Linc_tax_09.shp\n",
      "L:\\NaturalResources\\Wetlands\\Local Wetland Inventory\\WAPO\\EPA_2022_Tasks\\Task 1 WD Mapping\\GIS\\ORMAP_data\\ORMAP_Taxlot_Years\\Taxlots2009\\Linn_tax_09.shp\n",
      "L:\\NaturalResources\\Wetlands\\Local Wetland Inventory\\WAPO\\EPA_2022_Tasks\\Task 1 WD Mapping\\GIS\\ORMAP_data\\ORMAP_Taxlot_Years\\Taxlots2009\\Mari_tax_09.shp\n",
      "L:\\NaturalResources\\Wetlands\\Local Wetland Inventory\\WAPO\\EPA_2022_Tasks\\Task 1 WD Mapping\\GIS\\ORMAP_data\\ORMAP_Taxlot_Years\\Taxlots2009\\Morr_tax_09.shp\n",
      "L:\\NaturalResources\\Wetlands\\Local Wetland Inventory\\WAPO\\EPA_2022_Tasks\\Task 1 WD Mapping\\GIS\\ORMAP_data\\ORMAP_Taxlot_Years\\Taxlots2009\\Mult_tax_09.shp\n",
      "L:\\NaturalResources\\Wetlands\\Local Wetland Inventory\\WAPO\\EPA_2022_Tasks\\Task 1 WD Mapping\\GIS\\ORMAP_data\\ORMAP_Taxlot_Years\\Taxlots2009\\Polk_tax_09.shp\n",
      "L:\\NaturalResources\\Wetlands\\Local Wetland Inventory\\WAPO\\EPA_2022_Tasks\\Task 1 WD Mapping\\GIS\\ORMAP_data\\ORMAP_Taxlot_Years\\Taxlots2009\\Sher_tax_09.shp\n",
      "L:\\NaturalResources\\Wetlands\\Local Wetland Inventory\\WAPO\\EPA_2022_Tasks\\Task 1 WD Mapping\\GIS\\ORMAP_data\\ORMAP_Taxlot_Years\\Taxlots2009\\Till_tax_09.shp\n",
      "L:\\NaturalResources\\Wetlands\\Local Wetland Inventory\\WAPO\\EPA_2022_Tasks\\Task 1 WD Mapping\\GIS\\ORMAP_data\\ORMAP_Taxlot_Years\\Taxlots2009\\Umat_tax_09.shp\n",
      "L:\\NaturalResources\\Wetlands\\Local Wetland Inventory\\WAPO\\EPA_2022_Tasks\\Task 1 WD Mapping\\GIS\\ORMAP_data\\ORMAP_Taxlot_Years\\Taxlots2009\\Unio_tax_09.shp\n",
      "L:\\NaturalResources\\Wetlands\\Local Wetland Inventory\\WAPO\\EPA_2022_Tasks\\Task 1 WD Mapping\\GIS\\ORMAP_data\\ORMAP_Taxlot_Years\\Taxlots2009\\Wash_tax_09.shp\n",
      "L:\\NaturalResources\\Wetlands\\Local Wetland Inventory\\WAPO\\EPA_2022_Tasks\\Task 1 WD Mapping\\GIS\\ORMAP_data\\ORMAP_Taxlot_Years\\Taxlots2009\\Whee_tax_09.shp\n",
      "L:\\NaturalResources\\Wetlands\\Local Wetland Inventory\\WAPO\\EPA_2022_Tasks\\Task 1 WD Mapping\\GIS\\ORMAP_data\\ORMAP_Taxlot_Years\\Taxlots2009\\Yam_tax_09.shp\n"
     ]
    }
   ],
   "source": [
    "frames = []\n",
    "for layer in layers:   \n",
    "    c = layer.split('Taxlots2009\\\\')[1].replace('_tax_09.shp' , '').replace('_Tax_09.shp' , '')\n",
    "    cl = [cnt for cnt in cnt_ID.COUNTY.values if (cnt[0:4] == c) or (cnt[0:3] == c)]\n",
    "    if cl[0] != 'Wasco': \n",
    "        print(layer)\n",
    "        gdf = gpd.read_file(layer)\n",
    "        gdf.loc[:, 'County'] = cl[0]\n",
    "        #print(gdf.columns)  \n",
    "        if 'ORTaxlot' in gdf.columns:\n",
    "            gdf = gdf[['ORTaxlot', 'County', 'geometry']]\n",
    "            frames.append(gdf)\n",
    "        else:\n",
    "            if any([col in gdf.columns for col in ['FIRST_ORTa', 'FIRST_ORTA', 'FIRST_ORMa']]):\n",
    "\n",
    "                gdf.rename(columns={'FIRST_ORTa': 'ORTaxlot',\n",
    "                                    'FIRST_ORTA': 'ORTaxlot',\n",
    "                                    'FIRST_ORMa': 'ORTaxlot'}, \n",
    "                           inplace=True)\n",
    "            else:\n",
    "                gdf.rename(columns={'SIMAPTAX': 'ORTaxlot',\n",
    "                                   'ORTAXLOT': 'ORTaxlot'}, \n",
    "                           inplace=True)\n",
    "            if 'ORTaxlot' in gdf.columns:\n",
    "                gdf = gdf[['ORTaxlot', 'County', 'geometry']]\n",
    "                frames.append(gdf)"
   ]
  },
  {
   "cell_type": "code",
   "execution_count": 44,
   "id": "57af18a5",
   "metadata": {},
   "outputs": [],
   "source": [
    "taxlot09 = pd.concat(frames, ignore_index=True)"
   ]
  },
  {
   "cell_type": "code",
   "execution_count": 62,
   "id": "9a377053",
   "metadata": {},
   "outputs": [],
   "source": [
    "gdf = readTaxlots(year=2016)"
   ]
  },
  {
   "cell_type": "code",
   "execution_count": 63,
   "id": "ef3eb399",
   "metadata": {},
   "outputs": [
    {
     "data": {
      "text/html": [
       "<div>\n",
       "<style scoped>\n",
       "    .dataframe tbody tr th:only-of-type {\n",
       "        vertical-align: middle;\n",
       "    }\n",
       "\n",
       "    .dataframe tbody tr th {\n",
       "        vertical-align: top;\n",
       "    }\n",
       "\n",
       "    .dataframe thead th {\n",
       "        text-align: right;\n",
       "    }\n",
       "</style>\n",
       "<table border=\"1\" class=\"dataframe\">\n",
       "  <thead>\n",
       "    <tr style=\"text-align: right;\">\n",
       "      <th></th>\n",
       "      <th>County</th>\n",
       "      <th>Town</th>\n",
       "      <th>TownPart</th>\n",
       "      <th>TownDir</th>\n",
       "      <th>Range</th>\n",
       "      <th>RangePart</th>\n",
       "      <th>RangeDir</th>\n",
       "      <th>SecNumber</th>\n",
       "      <th>Qtr</th>\n",
       "      <th>QtrQtr</th>\n",
       "      <th>Anomaly</th>\n",
       "      <th>MapSufType</th>\n",
       "      <th>MapNumber</th>\n",
       "      <th>ORMapNum</th>\n",
       "      <th>Taxlot</th>\n",
       "      <th>MapTaxlot</th>\n",
       "      <th>ORTaxlot</th>\n",
       "      <th>geometry</th>\n",
       "      <th>Year</th>\n",
       "    </tr>\n",
       "  </thead>\n",
       "  <tbody>\n",
       "    <tr>\n",
       "      <th>0</th>\n",
       "      <td>1</td>\n",
       "      <td>9</td>\n",
       "      <td>0.0</td>\n",
       "      <td>S</td>\n",
       "      <td>40</td>\n",
       "      <td>0.0</td>\n",
       "      <td>E</td>\n",
       "      <td>3</td>\n",
       "      <td>0</td>\n",
       "      <td>0</td>\n",
       "      <td>--</td>\n",
       "      <td>0</td>\n",
       "      <td>09S40E03</td>\n",
       "      <td>0109.00S40.00E0300--0000</td>\n",
       "      <td>301</td>\n",
       "      <td>09S40E0300301</td>\n",
       "      <td>0109.00S40.00E0300--000000301</td>\n",
       "      <td>MULTIPOLYGON (((2012924.196 1129704.167, 20128...</td>\n",
       "      <td>2016</td>\n",
       "    </tr>\n",
       "    <tr>\n",
       "      <th>1</th>\n",
       "      <td>1</td>\n",
       "      <td>6</td>\n",
       "      <td>0.0</td>\n",
       "      <td>S</td>\n",
       "      <td>38</td>\n",
       "      <td>0.0</td>\n",
       "      <td>E</td>\n",
       "      <td>0</td>\n",
       "      <td>0</td>\n",
       "      <td>0</td>\n",
       "      <td>--</td>\n",
       "      <td>0</td>\n",
       "      <td>06S38E</td>\n",
       "      <td>0106.00S38.00E0000--0000</td>\n",
       "      <td>300</td>\n",
       "      <td>06S38E000000300</td>\n",
       "      <td>0106.00S38.00E0000--000000300</td>\n",
       "      <td>MULTIPOLYGON (((1931084.828 1209056.404, 19311...</td>\n",
       "      <td>2016</td>\n",
       "    </tr>\n",
       "    <tr>\n",
       "      <th>2</th>\n",
       "      <td>1</td>\n",
       "      <td>6</td>\n",
       "      <td>0.0</td>\n",
       "      <td>S</td>\n",
       "      <td>38</td>\n",
       "      <td>0.0</td>\n",
       "      <td>E</td>\n",
       "      <td>28</td>\n",
       "      <td>D</td>\n",
       "      <td>0</td>\n",
       "      <td>--</td>\n",
       "      <td>0</td>\n",
       "      <td>06S38E28D</td>\n",
       "      <td>0106.00S38.00E28D0--0000</td>\n",
       "      <td>300</td>\n",
       "      <td>06S38E28D000300</td>\n",
       "      <td>0106.00S38.00E28D0--000000300</td>\n",
       "      <td>MULTIPOLYGON (((1942736.541 1198484.688, 19427...</td>\n",
       "      <td>2016</td>\n",
       "    </tr>\n",
       "    <tr>\n",
       "      <th>3</th>\n",
       "      <td>1</td>\n",
       "      <td>6</td>\n",
       "      <td>0.0</td>\n",
       "      <td>S</td>\n",
       "      <td>38</td>\n",
       "      <td>0.0</td>\n",
       "      <td>E</td>\n",
       "      <td>0</td>\n",
       "      <td>0</td>\n",
       "      <td>0</td>\n",
       "      <td>--</td>\n",
       "      <td>0</td>\n",
       "      <td>06S38E</td>\n",
       "      <td>0106.00S38.00E0000--0000</td>\n",
       "      <td>700</td>\n",
       "      <td>06S38E000000700</td>\n",
       "      <td>0106.00S38.00E0000--000000700</td>\n",
       "      <td>MULTIPOLYGON (((1942035.975 1196826.837, 19420...</td>\n",
       "      <td>2016</td>\n",
       "    </tr>\n",
       "    <tr>\n",
       "      <th>4</th>\n",
       "      <td>1</td>\n",
       "      <td>6</td>\n",
       "      <td>0.0</td>\n",
       "      <td>S</td>\n",
       "      <td>38</td>\n",
       "      <td>0.0</td>\n",
       "      <td>E</td>\n",
       "      <td>33</td>\n",
       "      <td>0</td>\n",
       "      <td>0</td>\n",
       "      <td>--</td>\n",
       "      <td>0</td>\n",
       "      <td>06S38E33</td>\n",
       "      <td>0106.00S38.00E3300--0000</td>\n",
       "      <td>ROADS</td>\n",
       "      <td>06S38E3300ROADS</td>\n",
       "      <td>0106.00S38.00E3300--0000ROADS</td>\n",
       "      <td>MULTIPOLYGON (((1944721.799 1196440.695, 19448...</td>\n",
       "      <td>2016</td>\n",
       "    </tr>\n",
       "  </tbody>\n",
       "</table>\n",
       "</div>"
      ],
      "text/plain": [
       "   County  Town  TownPart TownDir  Range  RangePart RangeDir  SecNumber Qtr  \\\n",
       "0       1     9       0.0       S     40        0.0        E          3   0   \n",
       "1       1     6       0.0       S     38        0.0        E          0   0   \n",
       "2       1     6       0.0       S     38        0.0        E         28   D   \n",
       "3       1     6       0.0       S     38        0.0        E          0   0   \n",
       "4       1     6       0.0       S     38        0.0        E         33   0   \n",
       "\n",
       "  QtrQtr Anomaly MapSufType  MapNumber                  ORMapNum Taxlot  \\\n",
       "0      0      --          0   09S40E03  0109.00S40.00E0300--0000    301   \n",
       "1      0      --          0     06S38E  0106.00S38.00E0000--0000    300   \n",
       "2      0      --          0  06S38E28D  0106.00S38.00E28D0--0000    300   \n",
       "3      0      --          0     06S38E  0106.00S38.00E0000--0000    700   \n",
       "4      0      --          0   06S38E33  0106.00S38.00E3300--0000  ROADS   \n",
       "\n",
       "         MapTaxlot                       ORTaxlot  \\\n",
       "0    09S40E0300301  0109.00S40.00E0300--000000301   \n",
       "1  06S38E000000300  0106.00S38.00E0000--000000300   \n",
       "2  06S38E28D000300  0106.00S38.00E28D0--000000300   \n",
       "3  06S38E000000700  0106.00S38.00E0000--000000700   \n",
       "4  06S38E3300ROADS  0106.00S38.00E3300--0000ROADS   \n",
       "\n",
       "                                            geometry  Year  \n",
       "0  MULTIPOLYGON (((2012924.196 1129704.167, 20128...  2016  \n",
       "1  MULTIPOLYGON (((1931084.828 1209056.404, 19311...  2016  \n",
       "2  MULTIPOLYGON (((1942736.541 1198484.688, 19427...  2016  \n",
       "3  MULTIPOLYGON (((1942035.975 1196826.837, 19420...  2016  \n",
       "4  MULTIPOLYGON (((1944721.799 1196440.695, 19448...  2016  "
      ]
     },
     "execution_count": 63,
     "metadata": {},
     "output_type": "execute_result"
    }
   ],
   "source": [
    "gdf.head()"
   ]
  }
 ],
 "metadata": {
  "kernelspec": {
   "display_name": "Python 3",
   "language": "python",
   "name": "python3"
  },
  "language_info": {
   "codemirror_mode": {
    "name": "ipython",
    "version": 3
   },
   "file_extension": ".py",
   "mimetype": "text/x-python",
   "name": "python",
   "nbconvert_exporter": "python",
   "pygments_lexer": "ipython3",
   "version": "3.8.8"
  }
 },
 "nbformat": 4,
 "nbformat_minor": 5
}
