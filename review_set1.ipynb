{
 "cells": [
  {
   "cell_type": "code",
   "execution_count": 1,
   "id": "1b5b3c88",
   "metadata": {},
   "outputs": [],
   "source": [
    "%load_ext autoreload\n",
    "%autoreload 2"
   ]
  },
  {
   "cell_type": "code",
   "execution_count": 66,
   "id": "ac8cd3aa",
   "metadata": {},
   "outputs": [],
   "source": [
    "from wdtools import *"
   ]
  },
  {
   "cell_type": "code",
   "execution_count": 3,
   "id": "f6821a09",
   "metadata": {},
   "outputs": [
    {
     "name": "stdout",
     "output_type": "stream",
     "text": [
      "it took 9.0 minutes to complete\n"
     ]
    }
   ],
   "source": [
    "# this will take about 9 to 12 minutes\n",
    "start = time.time()\n",
    "all_taxlot = combine_taxlot()\n",
    "end = time.time()\n",
    "print(f'it took {round((end - start)/60, 0)} minutes to complete')"
   ]
  },
  {
   "cell_type": "code",
   "execution_count": 4,
   "id": "aafa1065",
   "metadata": {},
   "outputs": [],
   "source": [
    "setID = 'Set001'"
   ]
  },
  {
   "cell_type": "code",
   "execution_count": 81,
   "id": "3464c533",
   "metadata": {},
   "outputs": [],
   "source": [
    "wd = combine_wd_tables(setID=setID, nm_to_add=0)"
   ]
  },
  {
   "cell_type": "code",
   "execution_count": 7,
   "id": "9ae73f45",
   "metadata": {
    "scrolled": true
   },
   "outputs": [
    {
     "name": "stdout",
     "output_type": "stream",
     "text": [
      "it took 1.0 minutes to complete\n"
     ]
    }
   ],
   "source": [
    "# this might take a while (> 1 minute)\n",
    "start = time.time()\n",
    "df = combined_reindexed_data(setID=setID, nm_to_add=0)\n",
    "end = time.time()\n",
    "print(f'it took {round((end - start)/60, 0)} minutes to complete')"
   ]
  },
  {
   "cell_type": "code",
   "execution_count": 8,
   "id": "5e68e495",
   "metadata": {},
   "outputs": [
    {
     "name": "stdout",
     "output_type": "stream",
     "text": [
      "it took 7.0 minutes to complete\n"
     ]
    }
   ],
   "source": [
    "# this might take a while (7 minutes)\n",
    "start = time.time()\n",
    "gdf = match_wd_data_with_taxlot(df=df, setID=setID, all_taxlot=all_taxlot, export=True)\n",
    "end = time.time()\n",
    "print(f'it took {round((end - start)/60, 0)} minutes to complete')"
   ]
  },
  {
   "cell_type": "code",
   "execution_count": 9,
   "id": "7bacf0fd",
   "metadata": {},
   "outputs": [
    {
     "name": "stdout",
     "output_type": "stream",
     "text": [
      "it is about 6.13% of data in the original 1420 records unmatched\n",
      "there are 1 records (0.07% of the original records) without parcel id\n"
     ]
    }
   ],
   "source": [
    "unmatched_df = report_unmatched(gdf=gdf, setID=setID, nm_to_add=0, mute = False)"
   ]
  },
  {
   "cell_type": "code",
   "execution_count": 10,
   "id": "05a09cf5",
   "metadata": {},
   "outputs": [],
   "source": [
    "unmatched_df.to_csv(os.path.join(inpath + '\\\\output\\\\to_review\\\\', f'unmatched_df_{setID}.csv'), index=False) "
   ]
  },
  {
   "cell_type": "code",
   "execution_count": 11,
   "id": "e28c1eae",
   "metadata": {},
   "outputs": [],
   "source": [
    "r1_df, r2_df = split_unmatched_df(unmatched_df, ml='N', setID=setID)"
   ]
  },
  {
   "cell_type": "code",
   "execution_count": 12,
   "id": "617b75a1",
   "metadata": {},
   "outputs": [
    {
     "name": "stdout",
     "output_type": "stream",
     "text": [
      "reviewing WD2021-0066\n",
      "all lots are matched...\n",
      "corrected trsqq...\n",
      "reviewing WD2018-0057\n",
      "all lots are matched...\n",
      "corrected trsqq...\n",
      "reviewing WD2022-0172\n",
      "all lots are matched...\n",
      "corrected trsqq...\n",
      "reviewing WD2021-0422\n",
      "all lots are matched...\n",
      "corrected trsqq...\n",
      "reviewing WD2021-0343\n",
      "all lots are matched...\n",
      "corrected trsqq...\n",
      "reviewing WD2017-0313\n",
      "trsqq matched, checking county code...\n",
      "county code is corrected, need to check lot numbers...\n",
      "lot numbers might be wrong...\n",
      "reviewing WD2021-0551\n",
      "all lots are matched...\n",
      "corrected trsqq...\n",
      "reviewing WD2021-0180\n",
      "coordinate might be incorrect, nearby taxlot is 1537.00S01.00W21AB--000000806, about 25 ft away\n",
      "reviewing WD2020-0653\n",
      "all lots are matched...\n",
      "corrected trsqq...\n",
      "reviewing WD2022-0224\n",
      "all lots are matched...\n",
      "corrected trsqq...\n",
      "reviewing WD2017-0347\n",
      "there is not any matched lot, need to review trsqq, the close-match is 24S32E21\n",
      "lots to check: ['4900'], and lots to compare: ['100', '200', '300', '400', '500', '600', '700', '800']\n",
      "reviewing WD2019-0179\n",
      "coordinate might be incorrect, nearby taxlot is 1532.00S04.00W0000--000000200, about 34284 ft away\n",
      "reviewing WD2019-0420\n",
      "all lots are matched...\n",
      "corrected trsqq...\n",
      "reviewing WD2020-0586\n",
      "all lots are matched...\n",
      "corrected trsqq...\n",
      "reviewing WD2018-0522\n",
      "there is not any matched lot, need to review trsqq, the close-match is 25S13W03\n",
      "lots to check: ['1700'], and lots to compare: ['200']\n",
      "reviewing WD2021-0228\n",
      "all lots are matched...\n",
      "corrected trsqq...\n",
      "reviewing WD2022-0142\n",
      "trsqq matched, checking county code...\n",
      "corrected county...\n",
      "reviewing WD2018-0092\n",
      "all lots are matched...\n",
      "corrected trsqq...\n",
      "reviewing WD2020-0616\n",
      "all lots are matched...\n",
      "corrected trsqq...\n",
      "reviewing WD2020-0359\n",
      "all lots are matched...\n",
      "corrected trsqq...\n",
      "reviewing WD2022-0059\n",
      "all lots are matched...\n",
      "corrected trsqq...\n",
      "reviewing WD2018-0292\n",
      "all lots are matched...\n",
      "corrected trsqq...\n",
      "reviewing WD2020-0185\n",
      "all lots are matched...\n",
      "corrected trsqq...\n",
      "reviewing WD2019-0259\n",
      "coordinate might be incorrect, nearby taxlot is 0114.00S45.00E3300--0000WATER, about 122837 ft away\n",
      "reviewing WD2018-0657\n",
      "trsqq matched, checking county code...\n",
      "county code is corrected, need to check lot numbers...\n",
      "lot numbers might be wrong...\n",
      "reviewing WD2018-0386\n",
      "there is not any matched lot, need to review trsqq, the close-match is 06S03W12\n",
      "lots to check: ['1100', '500'], and lots to compare: ['100', '300', '400']\n",
      "reviewing WD2017-0298\n",
      "all lots are matched...\n",
      "corrected trsqq...\n",
      "reviewing WD2022-0278\n",
      "all lots are matched...\n",
      "corrected trsqq...\n",
      "reviewing WD2020-0071\n",
      "all lots are matched...\n",
      "corrected trsqq...\n",
      "reviewing WD2020-0243\n",
      "all lots are matched...\n",
      "corrected trsqq...\n",
      "reviewing WD2021-0638\n",
      "all lots are matched...\n",
      "corrected trsqq...\n",
      "reviewing WD2020-0668\n",
      "coordinate might be incorrect, nearby taxlot is 0918.00S12.00E08DA--000010200, about 29 ft away\n",
      "reviewing WD2017-0576\n",
      "all lots are matched...\n",
      "corrected trsqq...\n",
      "reviewing WD2019-0122\n",
      "all lots are matched...\n",
      "corrected trsqq...\n",
      "reviewing WD2022-0187\n",
      "all lots are matched...\n",
      "corrected trsqq...\n",
      "reviewing WD2020-0239\n",
      "trsqq matched, checking county code...\n",
      "corrected county...\n",
      "it took 7.0 minutes to complete\n"
     ]
    }
   ],
   "source": [
    "# this might take a while (7 minutes)\n",
    "start = time.time()\n",
    "rev_r2 = review_unmatched_df_r2(df=r2_df, taxlot=all_taxlot, setID=setID, ml='N', export=True)\n",
    "end = time.time()\n",
    "print(f'it took {round((end - start)/60, 0)} minutes to complete')"
   ]
  },
  {
   "cell_type": "code",
   "execution_count": 17,
   "id": "42dc25c3",
   "metadata": {},
   "outputs": [
    {
     "name": "stdout",
     "output_type": "stream",
     "text": [
      "Decision link is not available\n"
     ]
    }
   ],
   "source": [
    "wdID = 'WD2021-0422'\n",
    "url = rev_r2.loc[rev_r2.wetdet_delin_number == wdID, 'DecisionLink'].values[0]\n",
    "if str(url) == 'nan':\n",
    "    print('Decision link is not available')\n",
    "else:\n",
    "    webbrowser.open(url)"
   ]
  },
  {
   "cell_type": "code",
   "execution_count": 18,
   "id": "beaba7ef",
   "metadata": {},
   "outputs": [
    {
     "data": {
      "text/html": [
       "<div>\n",
       "<style scoped>\n",
       "    .dataframe tbody tr th:only-of-type {\n",
       "        vertical-align: middle;\n",
       "    }\n",
       "\n",
       "    .dataframe tbody tr th {\n",
       "        vertical-align: top;\n",
       "    }\n",
       "\n",
       "    .dataframe thead th {\n",
       "        text-align: right;\n",
       "    }\n",
       "</style>\n",
       "<table border=\"1\" class=\"dataframe\">\n",
       "  <thead>\n",
       "    <tr style=\"text-align: right;\">\n",
       "      <th></th>\n",
       "      <th>correct_type</th>\n",
       "      <th>correction</th>\n",
       "      <th>cor_trsqq</th>\n",
       "    </tr>\n",
       "  </thead>\n",
       "  <tbody>\n",
       "    <tr>\n",
       "      <th>1144</th>\n",
       "      <td>QQ</td>\n",
       "      <td>from 00 to D0</td>\n",
       "      <td>39S20E04D0</td>\n",
       "    </tr>\n",
       "  </tbody>\n",
       "</table>\n",
       "</div>"
      ],
      "text/plain": [
       "     correct_type     correction   cor_trsqq\n",
       "1144           QQ  from 00 to D0  39S20E04D0"
      ]
     },
     "execution_count": 18,
     "metadata": {},
     "output_type": "execute_result"
    }
   ],
   "source": [
    "rev_r2.loc[rev_r2.wetdet_delin_number == wdID, ['correct_type', 'correction', 'cor_trsqq']]"
   ]
  },
  {
   "cell_type": "code",
   "execution_count": 19,
   "id": "e2301365",
   "metadata": {},
   "outputs": [],
   "source": [
    "def check_review_notes_r2n(wdID, df):\n",
    "    url = df.loc[df.wetdet_delin_number == wdID, 'DecisionLink'].values[0]\n",
    "    if str(url) == 'nan':\n",
    "        print('Decision link is not available')\n",
    "    else:\n",
    "        webbrowser.open(url)\n",
    "    return df.loc[df.wetdet_delin_number == wdID, ['correct_type', 'correction', 'cor_trsqq']]"
   ]
  },
  {
   "cell_type": "code",
   "execution_count": 20,
   "id": "0d25bdd2",
   "metadata": {},
   "outputs": [
    {
     "name": "stdout",
     "output_type": "stream",
     "text": [
      "Decision link is not available\n"
     ]
    },
    {
     "data": {
      "text/html": [
       "<div>\n",
       "<style scoped>\n",
       "    .dataframe tbody tr th:only-of-type {\n",
       "        vertical-align: middle;\n",
       "    }\n",
       "\n",
       "    .dataframe tbody tr th {\n",
       "        vertical-align: top;\n",
       "    }\n",
       "\n",
       "    .dataframe thead th {\n",
       "        text-align: right;\n",
       "    }\n",
       "</style>\n",
       "<table border=\"1\" class=\"dataframe\">\n",
       "  <thead>\n",
       "    <tr style=\"text-align: right;\">\n",
       "      <th></th>\n",
       "      <th>correct_type</th>\n",
       "      <th>correction</th>\n",
       "      <th>cor_trsqq</th>\n",
       "    </tr>\n",
       "  </thead>\n",
       "  <tbody>\n",
       "    <tr>\n",
       "      <th>1144</th>\n",
       "      <td>QQ</td>\n",
       "      <td>from 00 to D0</td>\n",
       "      <td>39S20E04D0</td>\n",
       "    </tr>\n",
       "  </tbody>\n",
       "</table>\n",
       "</div>"
      ],
      "text/plain": [
       "     correct_type     correction   cor_trsqq\n",
       "1144           QQ  from 00 to D0  39S20E04D0"
      ]
     },
     "execution_count": 20,
     "metadata": {},
     "output_type": "execute_result"
    }
   ],
   "source": [
    "check_review_notes_r2n(wdID = wdID, df = rev_r2)"
   ]
  },
  {
   "cell_type": "code",
   "execution_count": 21,
   "id": "fec2c099",
   "metadata": {},
   "outputs": [],
   "source": [
    "def review_loop(df):\n",
    "    df = df.reset_index()\n",
    "    for i in range(df.shape[0]):\n",
    "        wdID = df.loc[i, 'wetdet_delin_number']\n",
    "        print(wdID)\n",
    "        print(check_review_notes_r2n(wdID = wdID, df = df))\n",
    "        user_input = input(\"Press 'p' to pause or any other key to continue...\")\n",
    "        if user_input == 'p':\n",
    "            while True:\n",
    "                user_input = input(\"Press 'c' to continue...\")\n",
    "                if user_input == 'c':\n",
    "                    break\n",
    "        time.sleep(1) # wait for 1 second between iterations"
   ]
  },
  {
   "cell_type": "code",
   "execution_count": 22,
   "id": "55e94120",
   "metadata": {
    "scrolled": true
   },
   "outputs": [
    {
     "name": "stdout",
     "output_type": "stream",
     "text": [
      "WD2021-0066\n",
      "      correct_type   correction   cor_trsqq\n",
      "0  range direction  from W to E  18S12E25B0\n",
      "Press 'p' to pause or any other key to continue...c\n",
      "WD2018-0057\n",
      "  correct_type     correction   cor_trsqq\n",
      "1           QQ  from 00 to BA  07S03W35BA\n",
      "Press 'p' to pause or any other key to continue...c\n",
      "WD2022-0172\n",
      "            correct_type                   correction   cor_trsqq\n",
      "2  section number and QQ  from 36 and A0 to 35 and B0  36S06W35B0\n",
      "Press 'p' to pause or any other key to continue...c\n",
      "WD2021-0422\n",
      "Decision link is not available\n",
      "  correct_type     correction   cor_trsqq\n",
      "3           QQ  from 00 to D0  39S20E04D0\n",
      "Press 'p' to pause or any other key to continue...C\n",
      "WD2021-0343\n",
      "  correct_type     correction   cor_trsqq\n",
      "4           QQ  from A0 to AA  18S10E10AA\n",
      "Press 'p' to pause or any other key to continue...c\n",
      "WD2017-0313\n",
      "  correct_type                                         correction cor_trsqq\n",
      "5   lot number  lot number ['3502', '3800'] might be incorrect...  08N07W20\n",
      "Press 'p' to pause or any other key to continue...c\n",
      "WD2021-0551\n",
      "         correct_type   correction   cor_trsqq\n",
      "6  township direction  from S to N  05N10W20BC\n",
      "Press 'p' to pause or any other key to continue...c\n",
      "WD2021-0180\n",
      "  correct_type                                         correction   cor_trsqq\n",
      "7   coordinate  coordinate might be incorrect, nearby taxlot i...  37S01W21AB\n",
      "Press 'p' to pause or any other key to continue...c\n",
      "WD2020-0653\n",
      "  correct_type     correction   cor_trsqq\n",
      "8           QQ  from BD to 00  17S13E1900\n",
      "Press 'p' to pause or any other key to continue...c\n",
      "WD2022-0224\n",
      "          correct_type                   correction   cor_trsqq\n",
      "9  range number and QQ  from 02 and A0 to 03 and AA  07S03W02AA\n",
      "Press 'p' to pause or any other key to continue...c\n",
      "WD2017-0347\n",
      "   correct_type                                         correction   cor_trsqq\n",
      "10    to review  there is not any matched lot, need to review t...  24S32E2100\n",
      "Press 'p' to pause or any other key to continue...c\n",
      "WD2019-0179\n",
      "   correct_type                                         correction cor_trsqq\n",
      "11   coordinate  coordinate might be incorrect, nearby taxlot i...    32S04W\n",
      "Press 'p' to pause or any other key to continue...c\n",
      "WD2019-0420\n",
      "       correct_type   correction   cor_trsqq\n",
      "12  range direction  from E to W  38S08W02D0\n",
      "Press 'p' to pause or any other key to continue...c\n",
      "WD2020-0586\n",
      "   correct_type     correction   cor_trsqq\n",
      "13           QQ  from BB to B0  20S10E25B0\n",
      "Press 'p' to pause or any other key to continue...c\n",
      "WD2018-0522\n",
      "   correct_type                                         correction   cor_trsqq\n",
      "14    to review  there is not any matched lot, need to review t...  25S13W0300\n",
      "Press 'p' to pause or any other key to continue...c\n",
      "WD2021-0228\n",
      "             correct_type                 correction   cor_trsqq\n",
      "15  section number and QQ  from 1 and C to 01 and CC  29S15W01CC\n",
      "Press 'p' to pause or any other key to continue...c\n",
      "WD2022-0142\n",
      "   correct_type               correction cor_trsqq\n",
      "16       county  from Marion to ['Polk']       NaN\n",
      "Press 'p' to pause or any other key to continue...c\n",
      "WD2018-0092\n",
      "   correct_type     correction   cor_trsqq\n",
      "17           QQ  from CB to 00  39S02E1900\n",
      "Press 'p' to pause or any other key to continue...c\n",
      "WD2020-0616\n",
      "      correct_type     correction   cor_trsqq\n",
      "18  section number  from 22 to 02  07S03W02DD\n",
      "Press 'p' to pause or any other key to continue...c\n",
      "WD2020-0359\n",
      "   correct_type     correction   cor_trsqq\n",
      "19           QQ  from CB to C0  20S11E18C0\n",
      "Press 'p' to pause or any other key to continue...c\n",
      "WD2022-0059\n",
      "   correct_type     correction   cor_trsqq\n",
      "20           QQ  from AD to A0  20S10E24A0\n",
      "Press 'p' to pause or any other key to continue...c\n",
      "WD2018-0292\n",
      "       correct_type   correction   cor_trsqq\n",
      "21  range direction  from W to E  14S12E36B0\n",
      "Press 'p' to pause or any other key to continue...c\n",
      "WD2020-0185\n",
      "             correct_type                   correction   cor_trsqq\n",
      "22  section number and QQ  from 01 and 40 to 14 and 00  05N10W1400\n",
      "Press 'p' to pause or any other key to continue...c\n",
      "WD2019-0259\n",
      "   correct_type                                         correction cor_trsqq\n",
      "23   coordinate  coordinate might be incorrect, nearby taxlot i...  14S45E33\n",
      "Press 'p' to pause or any other key to continue...c\n",
      "WD2018-0657\n",
      "   correct_type                                         correction cor_trsqq\n",
      "24   lot number  lot number ['5500'] might be incorrect, the ma...    39S19E\n",
      "Press 'p' to pause or any other key to continue...c\n",
      "WD2018-0386\n",
      "   correct_type                                         correction   cor_trsqq\n",
      "25    to review  there is not any matched lot, need to review t...  06S03W1200\n",
      "Press 'p' to pause or any other key to continue...c\n",
      "WD2017-0298\n",
      "   correct_type     correction   cor_trsqq\n",
      "26           QQ  from 00 to D0  08S03W12D0\n",
      "Press 'p' to pause or any other key to continue...c\n",
      "WD2022-0278\n",
      "Decision link is not available\n",
      "      correct_type     correction   cor_trsqq\n",
      "27  section number  from 13 to 00  37S02E0000\n",
      "Press 'p' to pause or any other key to continue...c\n",
      "WD2020-0071\n",
      "   correct_type     correction   cor_trsqq\n",
      "28           QQ  from 00 to B0  15S10E03B0\n",
      "Press 'p' to pause or any other key to continue...c\n",
      "WD2020-0243\n",
      "      correct_type     correction   cor_trsqq\n",
      "29  section number  from 27 to 34  04S01W34BB\n",
      "Press 'p' to pause or any other key to continue...c\n",
      "WD2021-0638\n",
      "Decision link is not available\n",
      "       correct_type     correction   cor_trsqq\n",
      "30  township number  from 10 to 18  18S13E2000\n",
      "Press 'p' to pause or any other key to continue...c\n",
      "WD2020-0668\n",
      "   correct_type                                         correction   cor_trsqq\n",
      "31   coordinate  coordinate might be incorrect, nearby taxlot i...  18S12E08DA\n",
      "Press 'p' to pause or any other key to continue...c\n",
      "WD2017-0576\n",
      "          correct_type   correction   cor_trsqq\n",
      "32  township direction  from S to N  05N10W30AD\n",
      "Press 'p' to pause or any other key to continue...c\n",
      "WD2019-0122\n",
      "   correct_type     correction   cor_trsqq\n",
      "33           QQ  from D0 to AC  26S14W02AC\n",
      "Press 'p' to pause or any other key to continue...C\n",
      "WD2022-0187\n",
      "Decision link is not available\n",
      "   correct_type     correction   cor_trsqq\n",
      "34           QQ  from 00 to AB  06N10W22AB\n",
      "Press 'p' to pause or any other key to continue...c\n",
      "WD2020-0239\n",
      "   correct_type                     correction cor_trsqq\n",
      "35       county  from Jackson to ['Josephine']       NaN\n",
      "Press 'p' to pause or any other key to continue...c\n"
     ]
    }
   ],
   "source": [
    "review_loop(df=rev_r2)"
   ]
  },
  {
   "cell_type": "code",
   "execution_count": 38,
   "id": "ec853cbc",
   "metadata": {},
   "outputs": [],
   "source": [
    "def check_unmatched_r1(wdID, df):\n",
    "    url = df.loc[df.wetdet_delin_number == wdID, 'DecisionLink'].values[0]\n",
    "    selcols = ['county', 'trsqq', 'parcel_id', 'latitude', 'longitude', 'record_ID', 'notes']\n",
    "    if str(url) == 'nan':\n",
    "        print('Decision link is not available')\n",
    "    else:\n",
    "        webbrowser.open(url)\n",
    "    return df.loc[df.wetdet_delin_number == wdID, selcols]"
   ]
  },
  {
   "cell_type": "code",
   "execution_count": 36,
   "id": "eb0bc525",
   "metadata": {},
   "outputs": [],
   "source": [
    "def review_loop_r1(df):\n",
    "    for wdID in df.wetdet_delin_number.unique():\n",
    "        print(wdID)\n",
    "        print(check_unmatched_r1(wdID = wdID, df = df))\n",
    "        user_input = input(\"Press 'p' to pause or any other key to continue...\")\n",
    "        if user_input == 'p':\n",
    "            while True:\n",
    "                user_input = input(\"Press 'c' to continue...\")\n",
    "                if user_input == 'c':\n",
    "                    break\n",
    "        time.sleep(1) # wait for 1 second between iterations"
   ]
  },
  {
   "cell_type": "code",
   "execution_count": 33,
   "id": "97371914",
   "metadata": {
    "scrolled": true
   },
   "outputs": [
    {
     "data": {
      "text/plain": [
       "array(['WD2020-0067', 'WD2018-0217', 'WD2018-0306', 'WD2019-0338'],\n",
       "      dtype=object)"
      ]
     },
     "execution_count": 33,
     "metadata": {},
     "output_type": "execute_result"
    }
   ],
   "source": [
    "r1_df.wetdet_delin_number.unique()"
   ]
  },
  {
   "cell_type": "code",
   "execution_count": 39,
   "id": "05990a66",
   "metadata": {},
   "outputs": [
    {
     "name": "stdout",
     "output_type": "stream",
     "text": [
      "WD2020-0067\n",
      "        county      trsqq            parcel_id   latitude   longitude  \\\n",
      "415  Deschutes  17S12E10C  400,500 all partial  44.109403 -121.245841   \n",
      "416  Deschutes  17S12E10C  400,500 all partial  44.109403 -121.245841   \n",
      "417  Deschutes  17S12E10C  400,500 all partial  44.109403 -121.245841   \n",
      "\n",
      "     record_ID    notes  \n",
      "415        416  Partial  \n",
      "416        417  Partial  \n",
      "417        418  Partial  \n",
      "Press 'p' to pause or any other key to continue...c\n",
      "WD2018-0217\n",
      "    county     trsqq parcel_id   latitude   longitude  record_ID notes\n",
      "204   Coos  24S13W06  101, 100  43.437761 -124.240703        205      \n",
      "205   Coos  24S13W07       101  43.437546 -124.261227        206      \n",
      "Press 'p' to pause or any other key to continue...c\n",
      "WD2018-0306\n",
      "     county     trsqq parcel_id  latitude  longitude  record_ID    notes\n",
      "574  Harney  21S37E00      500p   43.8666  -118.2428        575  Partial\n",
      "576  Harney  20S37E00      100p   43.8666  -118.2428        577  Partial\n",
      "Press 'p' to pause or any other key to continue...c\n",
      "WD2019-0338\n",
      "Decision link is not available\n",
      "    county      trsqq parcel_id   latitude   longitude  record_ID    notes\n",
      "234   Coos  24S13W34C      140p  43.432517 -124.252597        235  Partial\n",
      "236   Coos   24S13W00      200p  43.432517 -124.252597        237  Partial\n",
      "Press 'p' to pause or any other key to continue...c\n"
     ]
    }
   ],
   "source": [
    "review_loop_r1(df=r1_df)"
   ]
  },
  {
   "cell_type": "code",
   "execution_count": 40,
   "id": "bcaa25d7",
   "metadata": {},
   "outputs": [
    {
     "data": {
      "text/plain": [
       "'Set001'"
      ]
     },
     "execution_count": 40,
     "metadata": {},
     "output_type": "execute_result"
    }
   ],
   "source": [
    "setID"
   ]
  },
  {
   "cell_type": "code",
   "execution_count": 43,
   "id": "926c6d44",
   "metadata": {},
   "outputs": [],
   "source": [
    "cor_r2 = correct_unmatched(r2_df, setID, s='r2', ml='N', export=True)"
   ]
  },
  {
   "cell_type": "code",
   "execution_count": 67,
   "id": "b94032c2",
   "metadata": {
    "scrolled": true
   },
   "outputs": [],
   "source": [
    "cor_r2_2 = update_unmatched_df_r2(r2_df, setID, ml='N', export=True)"
   ]
  },
  {
   "cell_type": "code",
   "execution_count": 68,
   "id": "8dc0bb58",
   "metadata": {},
   "outputs": [],
   "source": [
    "rev_df = reindex_data(cor_r2_2)"
   ]
  },
  {
   "cell_type": "code",
   "execution_count": 69,
   "id": "02ac96db",
   "metadata": {},
   "outputs": [],
   "source": [
    "# make sure the matched data before update is correct\n",
    "matched = match_wd_data_with_taxlot(rev_df, setID, all_taxlot, export=True, update=True)"
   ]
  },
  {
   "cell_type": "code",
   "execution_count": 70,
   "id": "431f485a",
   "metadata": {},
   "outputs": [
    {
     "data": {
      "text/plain": [
       "(2782, 9)"
      ]
     },
     "execution_count": 70,
     "metadata": {},
     "output_type": "execute_result"
    }
   ],
   "source": [
    "matched.shape"
   ]
  },
  {
   "cell_type": "code",
   "execution_count": 71,
   "id": "95b9504e",
   "metadata": {},
   "outputs": [
    {
     "name": "stdout",
     "output_type": "stream",
     "text": [
      "it is about 4.86% of data in the original 1420 records unmatched\n",
      "there are 1 records (0.07% of the original records) without parcel id\n"
     ]
    }
   ],
   "source": [
    "unmatched_df = report_unmatched(gdf=matched, setID=setID, nm_to_add=0, mute = False)"
   ]
  },
  {
   "cell_type": "code",
   "execution_count": 72,
   "id": "10e32cfd",
   "metadata": {},
   "outputs": [],
   "source": [
    "missedID = [rID for rID in cor_r2_2.record_ID.values if rID not in matched.record_ID.values]"
   ]
  },
  {
   "cell_type": "code",
   "execution_count": 74,
   "id": "61881e60",
   "metadata": {},
   "outputs": [
    {
     "data": {
      "text/plain": [
       "18"
      ]
     },
     "execution_count": 74,
     "metadata": {},
     "output_type": "execute_result"
    }
   ],
   "source": [
    "len(missedID)"
   ]
  },
  {
   "cell_type": "code",
   "execution_count": 75,
   "id": "564d1736",
   "metadata": {},
   "outputs": [],
   "source": [
    "outpath = r'L:\\NaturalResources\\Wetlands\\Local Wetland Inventory\\WAPO\\EPA_2022_Tasks\\Task 1 WD Mapping\\output'\n",
    "matched = gpd.read_file(outpath + '\\\\matched\\\\matched_records_Set003.shp')"
   ]
  },
  {
   "cell_type": "code",
   "execution_count": 78,
   "id": "84967bae",
   "metadata": {},
   "outputs": [
    {
     "data": {
      "text/plain": [
       "array(['Partial', None, 'ROW, Partial', 'ROW', 'Partial, Rail',\n",
       "       'Partial, Water', 'Water', 'ROW, Partial, Rail',\n",
       "       'ROW, Partial, Many', nan], dtype=object)"
      ]
     },
     "execution_count": 78,
     "metadata": {},
     "output_type": "execute_result"
    }
   ],
   "source": [
    "matched.notes.unique()"
   ]
  },
  {
   "cell_type": "code",
   "execution_count": 76,
   "id": "0613ccc8",
   "metadata": {},
   "outputs": [],
   "source": [
    "matched_toReview = matched[matched.notes.notnull()] "
   ]
  },
  {
   "cell_type": "code",
   "execution_count": 79,
   "id": "2907d5e5",
   "metadata": {},
   "outputs": [
    {
     "data": {
      "text/plain": [
       "array(['Partial', 'ROW, Partial', 'ROW', 'Partial, Rail',\n",
       "       'Partial, Water', 'Water', 'ROW, Partial, Rail',\n",
       "       'ROW, Partial, Many'], dtype=object)"
      ]
     },
     "execution_count": 79,
     "metadata": {},
     "output_type": "execute_result"
    }
   ],
   "source": [
    "matched_toReview.notes.unique()"
   ]
  },
  {
   "cell_type": "code",
   "execution_count": 77,
   "id": "478629dd",
   "metadata": {},
   "outputs": [
    {
     "data": {
      "text/plain": [
       "263"
      ]
     },
     "execution_count": 77,
     "metadata": {},
     "output_type": "execute_result"
    }
   ],
   "source": [
    "len(matched_toReview.wdID.unique())"
   ]
  },
  {
   "cell_type": "code",
   "execution_count": 82,
   "id": "902197d3",
   "metadata": {},
   "outputs": [],
   "source": [
    "wd_toReview = wd[wd.wetdet_delin_number.isin(matched_toReview.wdID.unique())]"
   ]
  },
  {
   "cell_type": "code",
   "execution_count": 83,
   "id": "3a7ca03a",
   "metadata": {},
   "outputs": [],
   "source": [
    "wd_toReview.to_csv(outpath + f'\\\\to_review\\\\partial_matched_{setID}.csv', index=False)"
   ]
  },
  {
   "cell_type": "code",
   "execution_count": 84,
   "id": "081b1639",
   "metadata": {},
   "outputs": [
    {
     "data": {
      "text/plain": [
       "(69, 25)"
      ]
     },
     "execution_count": 84,
     "metadata": {},
     "output_type": "execute_result"
    }
   ],
   "source": [
    "unmatched_df.shape"
   ]
  },
  {
   "cell_type": "code",
   "execution_count": 85,
   "id": "1095f954",
   "metadata": {},
   "outputs": [],
   "source": [
    "unmatched_df.to_csv(os.path.join(inpath + '\\\\output\\\\to_review\\\\', f'unmatched_df_{setID}_2.csv'), index=False)"
   ]
  },
  {
   "cell_type": "code",
   "execution_count": 86,
   "id": "b313348b",
   "metadata": {},
   "outputs": [],
   "source": [
    "r1_t, r2_t = split_unmatched_df(unmatched_df, ml='Y', setID=setID)"
   ]
  },
  {
   "cell_type": "code",
   "execution_count": 87,
   "id": "0dc40fab",
   "metadata": {},
   "outputs": [
    {
     "name": "stdout",
     "output_type": "stream",
     "text": [
      "reviewing WD2019-0124\n",
      "there is not any matched lot, need to review trsqq, the close-match is 36S02W21\n",
      "lots to check: ['ROADS'], and lots to compare: ['100', '101', '102', '199', '200', '300', '400', '500', '600', '700', '800', '900', '1000', '1001', '1002', '1100', '1200', '1201', '1202', '1203', '1204', '1300', '1301', '1302', '1303', '1400', '1500', '1600', '1700']\n",
      "reviewing WD2021-0703\n",
      "there is not any matched lot, need to review trsqq, the close-match is 39S20E\n",
      "lots to check: [], and lots to compare: ['100', '200', '300', '400', '500', '600', '700', '800', '900', '1000', '1001', '1002', '1003', '1004', '1200', '1300', '1600', '1700', '1900', '2300', '2400', '2500', '2600', '2601', '2603', '2604', '2801', '2802', '2900', '3100', '3200', '3300', '3301', '3302', '3303', '3400', '3500', '3600', '3700', '3800', '3900', '4000', '4100', '4200', '4301', '4400', '4500', '4600', '4601', '4700', '4900', '5100', '5200', '5300', '5400', '5500', '5600', '5700', '5800', '5900', '6000', '6100', '6200', 'RAILS', 'ROADS', 'D00102200', 'D00202101', 'D00304800', 'D00405000', 'D00405001', 'RAILS', 'D00504300', 'D00504302', 'D00504303', 'D00504304', 'D00506400', 'D00506500', 'ROADS']\n",
      "reviewing WD2018-0281\n",
      "there is not any matched lot, need to review trsqq, the close-match is 25S13W03\n",
      "lots to check: [], and lots to compare: ['200']\n",
      "reviewing WD2022-0087\n",
      "coordinate might be incorrect, nearby taxlot is 0915.00S10.00E09BB--000008300, about 35 ft away\n",
      "reviewing WD2018-0124\n",
      "all lots are matched...\n",
      "corrected trsqq...\n",
      "reviewing WD2022-0261\n",
      "coordinate might be incorrect, nearby taxlot is 0629.00S15.00W1200--000000100, about 29 ft away\n"
     ]
    }
   ],
   "source": [
    "rev_r2_y = review_unmatched_df_r2(df=r2_t, taxlot=all_taxlot, setID=setID, ml='Y', export=True)"
   ]
  },
  {
   "cell_type": "code",
   "execution_count": 88,
   "id": "5838a1ba",
   "metadata": {},
   "outputs": [],
   "source": [
    "testdf = rev_r2_y.copy()"
   ]
  },
  {
   "cell_type": "code",
   "execution_count": 89,
   "id": "c9eacf50",
   "metadata": {},
   "outputs": [],
   "source": [
    "taxlot_to_check = get_taxlot_to_check_r2(revdf=testdf, taxlot=all_taxlot, setID=setID, ml='Y')"
   ]
  },
  {
   "cell_type": "code",
   "execution_count": 90,
   "id": "fa5e2ba0",
   "metadata": {},
   "outputs": [],
   "source": [
    "matchedTxlotIDs = [txlot for txlot in rev_r2_y.ORTaxlot.values if txlot in matched.ORTaxlot.values]"
   ]
  },
  {
   "cell_type": "code",
   "execution_count": 91,
   "id": "962fbe01",
   "metadata": {},
   "outputs": [
    {
     "data": {
      "text/plain": [
       "array([ 807, 1148,  209])"
      ]
     },
     "execution_count": 91,
     "metadata": {},
     "output_type": "execute_result"
    }
   ],
   "source": [
    "rev_r2_y.loc[rev_r2_y.ORTaxlot.isin(matchedTxlotIDs), 'record_ID'].values"
   ]
  },
  {
   "cell_type": "code",
   "execution_count": 93,
   "id": "681c7dae",
   "metadata": {},
   "outputs": [
    {
     "ename": "TypeError",
     "evalue": "match_wd_data_with_taxlot() got an unexpected keyword argument 'nm_to_add'",
     "output_type": "error",
     "traceback": [
      "\u001b[1;31m---------------------------------------------------------------------------\u001b[0m",
      "\u001b[1;31mTypeError\u001b[0m                                 Traceback (most recent call last)",
      "\u001b[1;32m<ipython-input-93-b6e5306bb3d4>\u001b[0m in \u001b[0;36m<module>\u001b[1;34m\u001b[0m\n\u001b[1;32m----> 1\u001b[1;33m \u001b[0mres\u001b[0m \u001b[1;33m=\u001b[0m \u001b[0mcheck_corrected_data\u001b[0m\u001b[1;33m(\u001b[0m\u001b[0mdf\u001b[0m\u001b[1;33m=\u001b[0m\u001b[0mdf1\u001b[0m\u001b[1;33m,\u001b[0m \u001b[0msetID\u001b[0m\u001b[1;33m=\u001b[0m\u001b[0msetID\u001b[0m\u001b[1;33m,\u001b[0m \u001b[0mall_taxlot\u001b[0m\u001b[1;33m=\u001b[0m\u001b[0mall_taxlot\u001b[0m\u001b[1;33m,\u001b[0m \u001b[0mnm_to_add\u001b[0m\u001b[1;33m=\u001b[0m\u001b[1;36m0\u001b[0m\u001b[1;33m,\u001b[0m \u001b[0mexport\u001b[0m\u001b[1;33m=\u001b[0m\u001b[1;32mFalse\u001b[0m\u001b[1;33m)\u001b[0m\u001b[1;33m\u001b[0m\u001b[1;33m\u001b[0m\u001b[0m\n\u001b[0m",
      "\u001b[1;32mT:\\DCProjects\\GitHub\\EPA-WD\\wdtools.py\u001b[0m in \u001b[0;36mcheck_corrected_data\u001b[1;34m(df, setID, all_taxlot, nm_to_add, export)\u001b[0m\n\u001b[0;32m    998\u001b[0m     \u001b[0mcor_df\u001b[0m\u001b[1;33m.\u001b[0m\u001b[0mloc\u001b[0m\u001b[1;33m[\u001b[0m\u001b[1;33m:\u001b[0m\u001b[1;33m,\u001b[0m \u001b[1;34m'county'\u001b[0m\u001b[1;33m]\u001b[0m \u001b[1;33m=\u001b[0m \u001b[0mcor_df\u001b[0m\u001b[1;33m.\u001b[0m\u001b[0mcounty\u001b[0m\u001b[1;33m.\u001b[0m\u001b[0mapply\u001b[0m\u001b[1;33m(\u001b[0m\u001b[1;32mlambda\u001b[0m \u001b[0mx\u001b[0m\u001b[1;33m:\u001b[0m \u001b[0mstring\u001b[0m\u001b[1;33m.\u001b[0m\u001b[0mcapwords\u001b[0m\u001b[1;33m(\u001b[0m\u001b[0mx\u001b[0m\u001b[1;33m)\u001b[0m\u001b[1;33m)\u001b[0m\u001b[1;33m\u001b[0m\u001b[1;33m\u001b[0m\u001b[0m\n\u001b[0;32m    999\u001b[0m     \u001b[0mcor_df\u001b[0m \u001b[1;33m=\u001b[0m \u001b[0mreindex_data\u001b[0m\u001b[1;33m(\u001b[0m\u001b[0mcor_df\u001b[0m\u001b[1;33m)\u001b[0m\u001b[1;33m\u001b[0m\u001b[1;33m\u001b[0m\u001b[0m\n\u001b[1;32m-> 1000\u001b[1;33m     \u001b[0mcor_df_re\u001b[0m \u001b[1;33m=\u001b[0m \u001b[0mmatch_wd_data_with_taxlot\u001b[0m\u001b[1;33m(\u001b[0m\u001b[0mdf\u001b[0m\u001b[1;33m=\u001b[0m\u001b[0mcor_df\u001b[0m\u001b[1;33m,\u001b[0m \u001b[0msetID\u001b[0m\u001b[1;33m=\u001b[0m\u001b[0msetID\u001b[0m\u001b[1;33m,\u001b[0m \u001b[0mall_taxlot\u001b[0m\u001b[1;33m=\u001b[0m\u001b[0mall_taxlot\u001b[0m\u001b[1;33m,\u001b[0m \u001b[0mnm_to_add\u001b[0m\u001b[1;33m=\u001b[0m\u001b[0mnm_to_add\u001b[0m\u001b[1;33m)\u001b[0m\u001b[1;33m\u001b[0m\u001b[1;33m\u001b[0m\u001b[0m\n\u001b[0m\u001b[0;32m   1001\u001b[0m     \u001b[0mcollist\u001b[0m \u001b[1;33m=\u001b[0m \u001b[0mlist\u001b[0m\u001b[1;33m(\u001b[0m\u001b[0mgdf\u001b[0m\u001b[1;33m.\u001b[0m\u001b[0mcolumns\u001b[0m\u001b[1;33m)\u001b[0m\u001b[1;33m\u001b[0m\u001b[1;33m\u001b[0m\u001b[0m\n\u001b[0;32m   1002\u001b[0m     \u001b[0mcollist\u001b[0m\u001b[1;33m.\u001b[0m\u001b[0mremove\u001b[0m\u001b[1;33m(\u001b[0m\u001b[1;34m'recordID'\u001b[0m\u001b[1;33m)\u001b[0m\u001b[1;33m\u001b[0m\u001b[1;33m\u001b[0m\u001b[0m\n",
      "\u001b[1;31mTypeError\u001b[0m: match_wd_data_with_taxlot() got an unexpected keyword argument 'nm_to_add'"
     ]
    }
   ],
   "source": [
    "res = check_corrected_data(df=df1, setID=setID, all_taxlot=all_taxlot, nm_to_add=0, export=False)"
   ]
  }
 ],
 "metadata": {
  "kernelspec": {
   "display_name": "Python 3",
   "language": "python",
   "name": "python3"
  },
  "language_info": {
   "codemirror_mode": {
    "name": "ipython",
    "version": 3
   },
   "file_extension": ".py",
   "mimetype": "text/x-python",
   "name": "python",
   "nbconvert_exporter": "python",
   "pygments_lexer": "ipython3",
   "version": "3.8.8"
  }
 },
 "nbformat": 4,
 "nbformat_minor": 5
}
