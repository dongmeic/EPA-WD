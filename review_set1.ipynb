{
 "cells": [
  {
   "cell_type": "code",
   "execution_count": 1,
   "id": "1b5b3c88",
   "metadata": {},
   "outputs": [],
   "source": [
    "%load_ext autoreload\n",
    "%autoreload 2"
   ]
  },
  {
   "cell_type": "code",
   "execution_count": 2,
   "id": "ac8cd3aa",
   "metadata": {},
   "outputs": [],
   "source": [
    "from wdtools import *"
   ]
  },
  {
   "cell_type": "code",
   "execution_count": 3,
   "id": "f6821a09",
   "metadata": {},
   "outputs": [
    {
     "name": "stdout",
     "output_type": "stream",
     "text": [
      "it took 9.0 minutes to complete\n"
     ]
    }
   ],
   "source": [
    "# this will take about 9 to 12 minutes\n",
    "start = time.time()\n",
    "all_taxlot = combine_taxlot()\n",
    "end = time.time()\n",
    "print(f'it took {round((end - start)/60, 0)} minutes to complete')"
   ]
  },
  {
   "cell_type": "code",
   "execution_count": 4,
   "id": "aafa1065",
   "metadata": {},
   "outputs": [],
   "source": [
    "setID = 'Set001'; nm_to_add=0"
   ]
  },
  {
   "cell_type": "code",
   "execution_count": 5,
   "id": "3464c533",
   "metadata": {},
   "outputs": [],
   "source": [
    "wd = combine_wd_tables(setID=setID, nm_to_add=nm_to_add)"
   ]
  },
  {
   "cell_type": "code",
   "execution_count": 6,
   "id": "9ae73f45",
   "metadata": {
    "scrolled": true
   },
   "outputs": [
    {
     "name": "stdout",
     "output_type": "stream",
     "text": [
      "it took 1.0 minutes to complete\n"
     ]
    }
   ],
   "source": [
    "# this might take a while\n",
    "start = time.time()\n",
    "df = combined_reindexed_data(setID=setID, nm_to_add=nm_to_add)\n",
    "end = time.time()\n",
    "print(f'it took {round((end - start)/60, 0)} minutes to complete')"
   ]
  },
  {
   "cell_type": "code",
   "execution_count": 7,
   "id": "5e68e495",
   "metadata": {},
   "outputs": [
    {
     "name": "stdout",
     "output_type": "stream",
     "text": [
      "it took 7.0 minutes to complete\n"
     ]
    }
   ],
   "source": [
    "# this might take a while (7 minutes)\n",
    "start = time.time()\n",
    "gdf = match_wd_data_with_taxlot(df=df, setID=setID, all_taxlot=all_taxlot, export=True)\n",
    "end = time.time()\n",
    "print(f'it took {round((end - start)/60, 0)} minutes to complete')"
   ]
  },
  {
   "cell_type": "code",
   "execution_count": 8,
   "id": "7bacf0fd",
   "metadata": {},
   "outputs": [
    {
     "name": "stdout",
     "output_type": "stream",
     "text": [
      "it is about 6.13% of data in the original 1420 records unmatched\n",
      "there are 1 records (0.07% of the original records) without parcel id\n"
     ]
    }
   ],
   "source": [
    "unmatched_df = report_unmatched(gdf=gdf, setID=setID, nm_to_add=0, mute = False)"
   ]
  },
  {
   "cell_type": "code",
   "execution_count": 9,
   "id": "05a09cf5",
   "metadata": {},
   "outputs": [],
   "source": [
    "unmatched_df.to_csv(os.path.join(inpath + '\\\\output\\\\to_review\\\\', f'unmatched_df_{setID}.csv'), index=False) "
   ]
  },
  {
   "cell_type": "code",
   "execution_count": 10,
   "id": "e28c1eae",
   "metadata": {},
   "outputs": [],
   "source": [
    "r1_df, r2_df = split_unmatched_df(unmatched_df, ml='N', setID=setID)"
   ]
  },
  {
   "cell_type": "code",
   "execution_count": 11,
   "id": "617b75a1",
   "metadata": {},
   "outputs": [
    {
     "name": "stdout",
     "output_type": "stream",
     "text": [
      "reviewing WD2018-0386\n",
      "there is not any matched lot, need to review trsqq, the close-match is 06S03W12\n",
      "lots to check: ['1100', '500'], and lots to compare: ['100', '300', '400']\n",
      "reviewing WD2018-0657\n",
      "trsqq matched, checking county code...\n",
      "county code is corrected, need to check lot numbers...\n",
      "lot numbers might be wrong...\n",
      "reviewing WD2022-0278\n",
      "all lots are matched...\n",
      "corrected trsqq...\n",
      "reviewing WD2021-0638\n",
      "all lots are matched...\n",
      "corrected trsqq...\n",
      "reviewing WD2022-0187\n",
      "all lots are matched...\n",
      "corrected trsqq...\n",
      "reviewing WD2020-0616\n",
      "all lots are matched...\n",
      "corrected trsqq...\n",
      "reviewing WD2018-0057\n",
      "all lots are matched...\n",
      "corrected trsqq...\n",
      "reviewing WD2017-0313\n",
      "trsqq matched, checking county code...\n",
      "county code is corrected, need to check lot numbers...\n",
      "lot numbers might be wrong...\n",
      "reviewing WD2022-0172\n",
      "all lots are matched...\n",
      "corrected trsqq...\n",
      "reviewing WD2021-0066\n",
      "all lots are matched...\n",
      "corrected trsqq...\n",
      "reviewing WD2022-0224\n",
      "all lots are matched...\n",
      "corrected trsqq...\n",
      "reviewing WD2020-0586\n",
      "all lots are matched...\n",
      "corrected trsqq...\n",
      "reviewing WD2018-0092\n",
      "all lots are matched...\n",
      "corrected trsqq...\n",
      "reviewing WD2021-0422\n",
      "all lots are matched...\n",
      "corrected trsqq...\n",
      "reviewing WD2021-0343\n",
      "all lots are matched...\n",
      "corrected trsqq...\n",
      "reviewing WD2019-0420\n",
      "all lots are matched...\n",
      "corrected trsqq...\n",
      "reviewing WD2017-0347\n",
      "there is not any matched lot, need to review trsqq, the close-match is 24S32E21\n",
      "lots to check: ['4900'], and lots to compare: ['100', '200', '300', '400', '500', '600', '700', '800']\n",
      "reviewing WD2021-0228\n",
      "all lots are matched...\n",
      "corrected trsqq...\n",
      "reviewing WD2020-0185\n",
      "all lots are matched...\n",
      "corrected trsqq...\n",
      "reviewing WD2020-0243\n",
      "all lots are matched...\n",
      "corrected trsqq...\n",
      "reviewing WD2018-0522\n",
      "there is not any matched lot, need to review trsqq, the close-match is 25S13W03\n",
      "lots to check: ['1700'], and lots to compare: ['200']\n",
      "reviewing WD2020-0653\n",
      "all lots are matched...\n",
      "corrected trsqq...\n",
      "reviewing WD2019-0259\n",
      "coordinate might be incorrect, nearby taxlot is 0114.00S45.00E3300--0000WATER, about 122837 ft away\n",
      "reviewing WD2019-0179\n",
      "coordinate might be incorrect, nearby taxlot is 1532.00S04.00W0000--000000200, about 34284 ft away\n",
      "reviewing WD2022-0059\n",
      "all lots are matched...\n",
      "corrected trsqq...\n",
      "reviewing WD2019-0122\n",
      "all lots are matched...\n",
      "corrected trsqq...\n",
      "reviewing WD2020-0668\n",
      "coordinate might be incorrect, nearby taxlot is 0918.00S12.00E08DA--000010200, about 29 ft away\n",
      "reviewing WD2017-0298\n",
      "all lots are matched...\n",
      "corrected trsqq...\n",
      "reviewing WD2020-0071\n",
      "all lots are matched...\n",
      "corrected trsqq...\n",
      "reviewing WD2020-0359\n",
      "all lots are matched...\n",
      "corrected trsqq...\n",
      "reviewing WD2020-0239\n",
      "trsqq matched, checking county code...\n",
      "corrected county...\n",
      "reviewing WD2022-0142\n",
      "trsqq matched, checking county code...\n",
      "corrected county...\n",
      "reviewing WD2017-0576\n",
      "all lots are matched...\n",
      "corrected trsqq...\n",
      "reviewing WD2018-0292\n",
      "all lots are matched...\n",
      "corrected trsqq...\n",
      "reviewing WD2021-0551\n",
      "all lots are matched...\n",
      "corrected trsqq...\n",
      "reviewing WD2021-0180\n",
      "coordinate might be incorrect, nearby taxlot is 1537.00S01.00W21AB--000000806, about 25 ft away\n",
      "it took 2.0 minutes to complete\n"
     ]
    }
   ],
   "source": [
    "# this might take a while (2 minutes)\n",
    "start = time.time()\n",
    "rev_r2 = review_unmatched_df_r2(df=r2_df, taxlot=all_taxlot, setID=setID, ml='N', export=True)\n",
    "end = time.time()\n",
    "print(f'it took {round((end - start)/60, 0)} minutes to complete')"
   ]
  },
  {
   "cell_type": "code",
   "execution_count": 111,
   "id": "42dc25c3",
   "metadata": {},
   "outputs": [
    {
     "name": "stdout",
     "output_type": "stream",
     "text": [
      "Decision link is not available\n"
     ]
    }
   ],
   "source": [
    "wdID = 'WD2021-0703'\n",
    "url = wd.loc[wd.wetdet_delin_number == wdID, 'DecisionLink'].values[0]\n",
    "if str(url) == 'nan':\n",
    "    print('Decision link is not available')\n",
    "else:\n",
    "    webbrowser.open(url)"
   ]
  },
  {
   "cell_type": "code",
   "execution_count": 18,
   "id": "beaba7ef",
   "metadata": {},
   "outputs": [
    {
     "data": {
      "text/html": [
       "<div>\n",
       "<style scoped>\n",
       "    .dataframe tbody tr th:only-of-type {\n",
       "        vertical-align: middle;\n",
       "    }\n",
       "\n",
       "    .dataframe tbody tr th {\n",
       "        vertical-align: top;\n",
       "    }\n",
       "\n",
       "    .dataframe thead th {\n",
       "        text-align: right;\n",
       "    }\n",
       "</style>\n",
       "<table border=\"1\" class=\"dataframe\">\n",
       "  <thead>\n",
       "    <tr style=\"text-align: right;\">\n",
       "      <th></th>\n",
       "      <th>correct_type</th>\n",
       "      <th>correction</th>\n",
       "      <th>cor_trsqq</th>\n",
       "    </tr>\n",
       "  </thead>\n",
       "  <tbody>\n",
       "    <tr>\n",
       "      <th>1144</th>\n",
       "      <td>QQ</td>\n",
       "      <td>from 00 to D0</td>\n",
       "      <td>39S20E04D0</td>\n",
       "    </tr>\n",
       "  </tbody>\n",
       "</table>\n",
       "</div>"
      ],
      "text/plain": [
       "     correct_type     correction   cor_trsqq\n",
       "1144           QQ  from 00 to D0  39S20E04D0"
      ]
     },
     "execution_count": 18,
     "metadata": {},
     "output_type": "execute_result"
    }
   ],
   "source": [
    "rev_r2.loc[rev_r2.wetdet_delin_number == wdID, ['correct_type', 'correction', 'cor_trsqq']]"
   ]
  },
  {
   "cell_type": "code",
   "execution_count": 20,
   "id": "0d25bdd2",
   "metadata": {},
   "outputs": [
    {
     "name": "stdout",
     "output_type": "stream",
     "text": [
      "Decision link is not available\n"
     ]
    },
    {
     "data": {
      "text/html": [
       "<div>\n",
       "<style scoped>\n",
       "    .dataframe tbody tr th:only-of-type {\n",
       "        vertical-align: middle;\n",
       "    }\n",
       "\n",
       "    .dataframe tbody tr th {\n",
       "        vertical-align: top;\n",
       "    }\n",
       "\n",
       "    .dataframe thead th {\n",
       "        text-align: right;\n",
       "    }\n",
       "</style>\n",
       "<table border=\"1\" class=\"dataframe\">\n",
       "  <thead>\n",
       "    <tr style=\"text-align: right;\">\n",
       "      <th></th>\n",
       "      <th>correct_type</th>\n",
       "      <th>correction</th>\n",
       "      <th>cor_trsqq</th>\n",
       "    </tr>\n",
       "  </thead>\n",
       "  <tbody>\n",
       "    <tr>\n",
       "      <th>1144</th>\n",
       "      <td>QQ</td>\n",
       "      <td>from 00 to D0</td>\n",
       "      <td>39S20E04D0</td>\n",
       "    </tr>\n",
       "  </tbody>\n",
       "</table>\n",
       "</div>"
      ],
      "text/plain": [
       "     correct_type     correction   cor_trsqq\n",
       "1144           QQ  from 00 to D0  39S20E04D0"
      ]
     },
     "execution_count": 20,
     "metadata": {},
     "output_type": "execute_result"
    }
   ],
   "source": [
    "check_review_notes_r2n(wdID = wdID, df = rev_r2)"
   ]
  },
  {
   "cell_type": "code",
   "execution_count": 22,
   "id": "95b48745",
   "metadata": {
    "scrolled": true
   },
   "outputs": [
    {
     "name": "stdout",
     "output_type": "stream",
     "text": [
      "WD2021-0066\n",
      "      correct_type   correction   cor_trsqq\n",
      "0  range direction  from W to E  18S12E25B0\n",
      "Press 'p' to pause or any other key to continue...c\n",
      "WD2018-0057\n",
      "  correct_type     correction   cor_trsqq\n",
      "1           QQ  from 00 to BA  07S03W35BA\n",
      "Press 'p' to pause or any other key to continue...c\n",
      "WD2022-0172\n",
      "            correct_type                   correction   cor_trsqq\n",
      "2  section number and QQ  from 36 and A0 to 35 and B0  36S06W35B0\n",
      "Press 'p' to pause or any other key to continue...c\n",
      "WD2021-0422\n",
      "Decision link is not available\n",
      "  correct_type     correction   cor_trsqq\n",
      "3           QQ  from 00 to D0  39S20E04D0\n",
      "Press 'p' to pause or any other key to continue...C\n",
      "WD2021-0343\n",
      "  correct_type     correction   cor_trsqq\n",
      "4           QQ  from A0 to AA  18S10E10AA\n",
      "Press 'p' to pause or any other key to continue...c\n",
      "WD2017-0313\n",
      "  correct_type                                         correction cor_trsqq\n",
      "5   lot number  lot number ['3502', '3800'] might be incorrect...  08N07W20\n",
      "Press 'p' to pause or any other key to continue...c\n",
      "WD2021-0551\n",
      "         correct_type   correction   cor_trsqq\n",
      "6  township direction  from S to N  05N10W20BC\n",
      "Press 'p' to pause or any other key to continue...c\n",
      "WD2021-0180\n",
      "  correct_type                                         correction   cor_trsqq\n",
      "7   coordinate  coordinate might be incorrect, nearby taxlot i...  37S01W21AB\n",
      "Press 'p' to pause or any other key to continue...c\n",
      "WD2020-0653\n",
      "  correct_type     correction   cor_trsqq\n",
      "8           QQ  from BD to 00  17S13E1900\n",
      "Press 'p' to pause or any other key to continue...c\n",
      "WD2022-0224\n",
      "          correct_type                   correction   cor_trsqq\n",
      "9  range number and QQ  from 02 and A0 to 03 and AA  07S03W02AA\n",
      "Press 'p' to pause or any other key to continue...c\n",
      "WD2017-0347\n",
      "   correct_type                                         correction   cor_trsqq\n",
      "10    to review  there is not any matched lot, need to review t...  24S32E2100\n",
      "Press 'p' to pause or any other key to continue...c\n",
      "WD2019-0179\n",
      "   correct_type                                         correction cor_trsqq\n",
      "11   coordinate  coordinate might be incorrect, nearby taxlot i...    32S04W\n",
      "Press 'p' to pause or any other key to continue...c\n",
      "WD2019-0420\n",
      "       correct_type   correction   cor_trsqq\n",
      "12  range direction  from E to W  38S08W02D0\n",
      "Press 'p' to pause or any other key to continue...c\n",
      "WD2020-0586\n",
      "   correct_type     correction   cor_trsqq\n",
      "13           QQ  from BB to B0  20S10E25B0\n",
      "Press 'p' to pause or any other key to continue...c\n",
      "WD2018-0522\n",
      "   correct_type                                         correction   cor_trsqq\n",
      "14    to review  there is not any matched lot, need to review t...  25S13W0300\n",
      "Press 'p' to pause or any other key to continue...c\n",
      "WD2021-0228\n",
      "             correct_type                 correction   cor_trsqq\n",
      "15  section number and QQ  from 1 and C to 01 and CC  29S15W01CC\n",
      "Press 'p' to pause or any other key to continue...c\n",
      "WD2022-0142\n",
      "   correct_type               correction cor_trsqq\n",
      "16       county  from Marion to ['Polk']       NaN\n",
      "Press 'p' to pause or any other key to continue...c\n",
      "WD2018-0092\n",
      "   correct_type     correction   cor_trsqq\n",
      "17           QQ  from CB to 00  39S02E1900\n",
      "Press 'p' to pause or any other key to continue...c\n",
      "WD2020-0616\n",
      "      correct_type     correction   cor_trsqq\n",
      "18  section number  from 22 to 02  07S03W02DD\n",
      "Press 'p' to pause or any other key to continue...c\n",
      "WD2020-0359\n",
      "   correct_type     correction   cor_trsqq\n",
      "19           QQ  from CB to C0  20S11E18C0\n",
      "Press 'p' to pause or any other key to continue...c\n",
      "WD2022-0059\n",
      "   correct_type     correction   cor_trsqq\n",
      "20           QQ  from AD to A0  20S10E24A0\n",
      "Press 'p' to pause or any other key to continue...c\n",
      "WD2018-0292\n",
      "       correct_type   correction   cor_trsqq\n",
      "21  range direction  from W to E  14S12E36B0\n",
      "Press 'p' to pause or any other key to continue...c\n",
      "WD2020-0185\n",
      "             correct_type                   correction   cor_trsqq\n",
      "22  section number and QQ  from 01 and 40 to 14 and 00  05N10W1400\n",
      "Press 'p' to pause or any other key to continue...c\n",
      "WD2019-0259\n",
      "   correct_type                                         correction cor_trsqq\n",
      "23   coordinate  coordinate might be incorrect, nearby taxlot i...  14S45E33\n",
      "Press 'p' to pause or any other key to continue...c\n",
      "WD2018-0657\n",
      "   correct_type                                         correction cor_trsqq\n",
      "24   lot number  lot number ['5500'] might be incorrect, the ma...    39S19E\n",
      "Press 'p' to pause or any other key to continue...c\n",
      "WD2018-0386\n",
      "   correct_type                                         correction   cor_trsqq\n",
      "25    to review  there is not any matched lot, need to review t...  06S03W1200\n",
      "Press 'p' to pause or any other key to continue...c\n",
      "WD2017-0298\n",
      "   correct_type     correction   cor_trsqq\n",
      "26           QQ  from 00 to D0  08S03W12D0\n",
      "Press 'p' to pause or any other key to continue...c\n",
      "WD2022-0278\n",
      "Decision link is not available\n",
      "      correct_type     correction   cor_trsqq\n",
      "27  section number  from 13 to 00  37S02E0000\n",
      "Press 'p' to pause or any other key to continue...c\n",
      "WD2020-0071\n",
      "   correct_type     correction   cor_trsqq\n",
      "28           QQ  from 00 to B0  15S10E03B0\n",
      "Press 'p' to pause or any other key to continue...c\n",
      "WD2020-0243\n",
      "      correct_type     correction   cor_trsqq\n",
      "29  section number  from 27 to 34  04S01W34BB\n",
      "Press 'p' to pause or any other key to continue...c\n",
      "WD2021-0638\n",
      "Decision link is not available\n",
      "       correct_type     correction   cor_trsqq\n",
      "30  township number  from 10 to 18  18S13E2000\n",
      "Press 'p' to pause or any other key to continue...c\n",
      "WD2020-0668\n",
      "   correct_type                                         correction   cor_trsqq\n",
      "31   coordinate  coordinate might be incorrect, nearby taxlot i...  18S12E08DA\n",
      "Press 'p' to pause or any other key to continue...c\n",
      "WD2017-0576\n",
      "          correct_type   correction   cor_trsqq\n",
      "32  township direction  from S to N  05N10W30AD\n",
      "Press 'p' to pause or any other key to continue...c\n",
      "WD2019-0122\n",
      "   correct_type     correction   cor_trsqq\n",
      "33           QQ  from D0 to AC  26S14W02AC\n",
      "Press 'p' to pause or any other key to continue...C\n",
      "WD2022-0187\n",
      "Decision link is not available\n",
      "   correct_type     correction   cor_trsqq\n",
      "34           QQ  from 00 to AB  06N10W22AB\n",
      "Press 'p' to pause or any other key to continue...c\n",
      "WD2020-0239\n",
      "   correct_type                     correction cor_trsqq\n",
      "35       county  from Jackson to ['Josephine']       NaN\n",
      "Press 'p' to pause or any other key to continue...c\n"
     ]
    }
   ],
   "source": [
    "#review_loop(df=rev_r2)"
   ]
  },
  {
   "cell_type": "code",
   "execution_count": 13,
   "id": "2fc051a2",
   "metadata": {
    "scrolled": true
   },
   "outputs": [
    {
     "data": {
      "text/plain": [
       "array(['WD2020-0067', 'WD2018-0306', 'WD2018-0217', 'WD2019-0338'],\n",
       "      dtype=object)"
      ]
     },
     "execution_count": 13,
     "metadata": {},
     "output_type": "execute_result"
    }
   ],
   "source": [
    "r1_df.wetdet_delin_number.unique()"
   ]
  },
  {
   "cell_type": "code",
   "execution_count": 39,
   "id": "ab28c9f8",
   "metadata": {},
   "outputs": [
    {
     "name": "stdout",
     "output_type": "stream",
     "text": [
      "WD2020-0067\n",
      "        county      trsqq            parcel_id   latitude   longitude  \\\n",
      "415  Deschutes  17S12E10C  400,500 all partial  44.109403 -121.245841   \n",
      "416  Deschutes  17S12E10C  400,500 all partial  44.109403 -121.245841   \n",
      "417  Deschutes  17S12E10C  400,500 all partial  44.109403 -121.245841   \n",
      "\n",
      "     record_ID    notes  \n",
      "415        416  Partial  \n",
      "416        417  Partial  \n",
      "417        418  Partial  \n",
      "Press 'p' to pause or any other key to continue...c\n",
      "WD2018-0217\n",
      "    county     trsqq parcel_id   latitude   longitude  record_ID notes\n",
      "204   Coos  24S13W06  101, 100  43.437761 -124.240703        205      \n",
      "205   Coos  24S13W07       101  43.437546 -124.261227        206      \n",
      "Press 'p' to pause or any other key to continue...c\n",
      "WD2018-0306\n",
      "     county     trsqq parcel_id  latitude  longitude  record_ID    notes\n",
      "574  Harney  21S37E00      500p   43.8666  -118.2428        575  Partial\n",
      "576  Harney  20S37E00      100p   43.8666  -118.2428        577  Partial\n",
      "Press 'p' to pause or any other key to continue...c\n",
      "WD2019-0338\n",
      "Decision link is not available\n",
      "    county      trsqq parcel_id   latitude   longitude  record_ID    notes\n",
      "234   Coos  24S13W34C      140p  43.432517 -124.252597        235  Partial\n",
      "236   Coos   24S13W00      200p  43.432517 -124.252597        237  Partial\n",
      "Press 'p' to pause or any other key to continue...c\n"
     ]
    }
   ],
   "source": [
    "#review_loop_r1(df=r1_df)"
   ]
  },
  {
   "cell_type": "code",
   "execution_count": 12,
   "id": "c73285e5",
   "metadata": {},
   "outputs": [],
   "source": [
    "cor_r2 = correct_unmatched(r2_df, setID, s='r2', ml='N', export=True)"
   ]
  },
  {
   "cell_type": "code",
   "execution_count": 13,
   "id": "810ddf98",
   "metadata": {
    "scrolled": true
   },
   "outputs": [],
   "source": [
    "cor_r2_2 = update_unmatched_df_r2(r2_df, setID, ml='N', export=True)"
   ]
  },
  {
   "cell_type": "code",
   "execution_count": 14,
   "id": "44d7e6a6",
   "metadata": {},
   "outputs": [],
   "source": [
    "rev_df = reindex_data(cor_r2_2)"
   ]
  },
  {
   "cell_type": "code",
   "execution_count": 15,
   "id": "1dd94adf",
   "metadata": {},
   "outputs": [],
   "source": [
    "# make sure the matched data before update is correct\n",
    "matched = match_wd_data_with_taxlot(rev_df, setID, all_taxlot, export=True, update=True)"
   ]
  },
  {
   "cell_type": "code",
   "execution_count": 16,
   "id": "c9a35ded",
   "metadata": {},
   "outputs": [
    {
     "data": {
      "text/plain": [
       "(2792, 9)"
      ]
     },
     "execution_count": 16,
     "metadata": {},
     "output_type": "execute_result"
    }
   ],
   "source": [
    "matched.shape"
   ]
  },
  {
   "cell_type": "code",
   "execution_count": 17,
   "id": "a5385a27",
   "metadata": {},
   "outputs": [
    {
     "name": "stdout",
     "output_type": "stream",
     "text": [
      "it is about 4.23% of data in the original 1420 records unmatched\n",
      "there are 1 records (0.07% of the original records) without parcel id\n"
     ]
    }
   ],
   "source": [
    "unmatched_df = report_unmatched(gdf=matched, setID=setID, nm_to_add=0, mute = False)"
   ]
  },
  {
   "cell_type": "code",
   "execution_count": 18,
   "id": "3a926657",
   "metadata": {},
   "outputs": [],
   "source": [
    "missedID = [rID for rID in cor_r2_2.record_ID.values if rID not in matched.record_ID.values]"
   ]
  },
  {
   "cell_type": "code",
   "execution_count": 19,
   "id": "58a2ed73",
   "metadata": {},
   "outputs": [
    {
     "data": {
      "text/plain": [
       "9"
      ]
     },
     "execution_count": 19,
     "metadata": {},
     "output_type": "execute_result"
    }
   ],
   "source": [
    "len(missedID)"
   ]
  },
  {
   "cell_type": "code",
   "execution_count": 20,
   "id": "727e64d6",
   "metadata": {},
   "outputs": [],
   "source": [
    "outpath = r'L:\\NaturalResources\\Wetlands\\Local Wetland Inventory\\WAPO\\EPA_2022_Tasks\\Task 1 WD Mapping\\output'\n",
    "matched = gpd.read_file(outpath + f'\\\\matched\\\\matched_records_{setID}.shp')"
   ]
  },
  {
   "cell_type": "code",
   "execution_count": 21,
   "id": "0d6b332b",
   "metadata": {},
   "outputs": [
    {
     "data": {
      "text/plain": [
       "array(['Partial', None, 'ROW, Partial', 'ROW', 'Partial, Rail',\n",
       "       'Partial, Water', 'Water', 'ROW, Partial, Rail',\n",
       "       'ROW, Partial, Many'], dtype=object)"
      ]
     },
     "execution_count": 21,
     "metadata": {},
     "output_type": "execute_result"
    }
   ],
   "source": [
    "matched.notes.unique()"
   ]
  },
  {
   "cell_type": "code",
   "execution_count": 22,
   "id": "01404684",
   "metadata": {},
   "outputs": [],
   "source": [
    "matched_toReview = matched[matched.notes.notnull()] "
   ]
  },
  {
   "cell_type": "code",
   "execution_count": 23,
   "id": "dd2a2015",
   "metadata": {},
   "outputs": [
    {
     "data": {
      "text/plain": [
       "array(['Partial', 'ROW, Partial', 'ROW', 'Partial, Rail',\n",
       "       'Partial, Water', 'Water', 'ROW, Partial, Rail',\n",
       "       'ROW, Partial, Many'], dtype=object)"
      ]
     },
     "execution_count": 23,
     "metadata": {},
     "output_type": "execute_result"
    }
   ],
   "source": [
    "matched_toReview.notes.unique()"
   ]
  },
  {
   "cell_type": "code",
   "execution_count": 24,
   "id": "9a86aaf6",
   "metadata": {},
   "outputs": [
    {
     "data": {
      "text/plain": [
       "263"
      ]
     },
     "execution_count": 24,
     "metadata": {},
     "output_type": "execute_result"
    }
   ],
   "source": [
    "len(matched_toReview.wdID.unique())"
   ]
  },
  {
   "cell_type": "code",
   "execution_count": 25,
   "id": "048a6a27",
   "metadata": {},
   "outputs": [],
   "source": [
    "wd_toReview = wd[wd.wetdet_delin_number.isin(matched_toReview.wdID.unique())]"
   ]
  },
  {
   "cell_type": "code",
   "execution_count": 26,
   "id": "82f250f6",
   "metadata": {},
   "outputs": [],
   "source": [
    "wd_toReview.to_csv(outpath + f'\\\\to_review\\\\partial_matched_{setID}.csv', index=False)"
   ]
  },
  {
   "cell_type": "code",
   "execution_count": 27,
   "id": "fd447a19",
   "metadata": {},
   "outputs": [
    {
     "data": {
      "text/plain": [
       "(60, 25)"
      ]
     },
     "execution_count": 27,
     "metadata": {},
     "output_type": "execute_result"
    }
   ],
   "source": [
    "unmatched_df.shape"
   ]
  },
  {
   "cell_type": "code",
   "execution_count": 28,
   "id": "01f80d99",
   "metadata": {},
   "outputs": [
    {
     "data": {
      "text/plain": [
       "31"
      ]
     },
     "execution_count": 28,
     "metadata": {},
     "output_type": "execute_result"
    }
   ],
   "source": [
    "len(unmatched_df.wetdet_delin_number.unique())"
   ]
  },
  {
   "cell_type": "code",
   "execution_count": 29,
   "id": "9fcde27f",
   "metadata": {},
   "outputs": [],
   "source": [
    "unmatched_df.to_csv(os.path.join(inpath + '\\\\output\\\\to_review\\\\', f'unmatched_df_{setID}_2.csv'), index=False)"
   ]
  },
  {
   "cell_type": "code",
   "execution_count": 30,
   "id": "174190d1",
   "metadata": {},
   "outputs": [],
   "source": [
    "r1_t, r2_t = split_unmatched_df(unmatched_df, ml='Y', setID=setID)"
   ]
  },
  {
   "cell_type": "code",
   "execution_count": 40,
   "id": "ed368248",
   "metadata": {},
   "outputs": [
    {
     "name": "stdout",
     "output_type": "stream",
     "text": [
      "reviewing WD2022-0261\n",
      "coordinate might be incorrect, nearby taxlot is 0629.00S15.00W1200--000000100, about 29 ft away\n",
      "reviewing WD2022-0087\n",
      "coordinate might be incorrect, nearby taxlot is 0915.00S10.00E09BB--000008300, about 35 ft away\n",
      "reviewing WD2018-0281\n",
      "there is not any matched lot, need to review trsqq, the close-match is 25S13W03\n",
      "lots to check: [], and lots to compare: ['200']\n",
      "reviewing WD2018-0124\n",
      "all lots are matched...\n",
      "corrected trsqq...\n",
      "reviewing WD2021-0703\n",
      "there is not any matched lot, need to review trsqq, the close-match is 39S20E\n",
      "lots to check: [], and lots to compare: ['100', '200', '300', '400', '500', '600', '700', '800', '900', '1000', '1001', '1002', '1003', '1004', '1200', '1300', '1600', '1700', '1900', '2300', '2400', '2500', '2600', '2601', '2603', '2604', '2801', '2802', '2900', '3100', '3200', '3300', '3301', '3302', '3303', '3400', '3500', '3600', '3700', '3800', '3900', '4000', '4100', '4200', '4301', '4400', '4500', '4600', '4601', '4700', '4900', '5100', '5200', '5300', '5400', '5500', '5600', '5700', '5800', '5900', '6000', '6100', '6200', 'RAILS', 'ROADS', 'D00102200', 'D00202101', 'D00304800', 'D00405000', 'D00405001', 'RAILS', 'D00504300', 'D00504302', 'D00504303', 'D00504304', 'D00506400', 'D00506500', 'ROADS']\n",
      "reviewing WD2019-0124\n",
      "there is not any matched lot, need to review trsqq, the close-match is 36S02W21\n",
      "lots to check: ['ROADS'], and lots to compare: ['100', '101', '102', '199', '200', '300', '400', '500', '600', '700', '800', '900', '1000', '1001', '1002', '1100', '1200', '1201', '1202', '1203', '1204', '1300', '1301', '1302', '1303', '1400', '1500', '1600', '1700']\n"
     ]
    }
   ],
   "source": [
    "rev_r2_y = review_unmatched_df_r2(df=r2_t, taxlot=all_taxlot, setID=setID, ml='Y', export=True)"
   ]
  },
  {
   "cell_type": "code",
   "execution_count": 34,
   "id": "fba14115",
   "metadata": {},
   "outputs": [
    {
     "data": {
      "text/html": [
       "<div>\n",
       "<style scoped>\n",
       "    .dataframe tbody tr th:only-of-type {\n",
       "        vertical-align: middle;\n",
       "    }\n",
       "\n",
       "    .dataframe tbody tr th {\n",
       "        vertical-align: top;\n",
       "    }\n",
       "\n",
       "    .dataframe thead th {\n",
       "        text-align: right;\n",
       "    }\n",
       "</style>\n",
       "<table border=\"1\" class=\"dataframe\">\n",
       "  <thead>\n",
       "    <tr style=\"text-align: right;\">\n",
       "      <th></th>\n",
       "      <th>wetdet_delin_number</th>\n",
       "      <th>trsqq</th>\n",
       "      <th>parcel_id</th>\n",
       "      <th>county</th>\n",
       "      <th>latitude</th>\n",
       "      <th>longitude</th>\n",
       "      <th>DecisionLink</th>\n",
       "      <th>record_ID</th>\n",
       "      <th>IDyear</th>\n",
       "      <th>correct_type</th>\n",
       "      <th>correction</th>\n",
       "      <th>cor_trsqq</th>\n",
       "      <th>ORTaxlot</th>\n",
       "    </tr>\n",
       "  </thead>\n",
       "  <tbody>\n",
       "    <tr>\n",
       "      <th>1088</th>\n",
       "      <td>WD2018-0124</td>\n",
       "      <td>39S20E21</td>\n",
       "      <td>ROWs</td>\n",
       "      <td>Lake</td>\n",
       "      <td>42.164626</td>\n",
       "      <td>-120.366529</td>\n",
       "      <td>https://docs.dsl.state.or.us/PublicReview/docv...</td>\n",
       "      <td>1089</td>\n",
       "      <td>2018</td>\n",
       "      <td>QQ</td>\n",
       "      <td>from 00 to CD</td>\n",
       "      <td>39S20E21CD</td>\n",
       "      <td>1939.00S20.00E21CD--0000ROADS</td>\n",
       "    </tr>\n",
       "    <tr>\n",
       "      <th>1147</th>\n",
       "      <td>WD2021-0703</td>\n",
       "      <td>38S20E09</td>\n",
       "      <td>Many</td>\n",
       "      <td>Lake</td>\n",
       "      <td>42.178657</td>\n",
       "      <td>-120.395374</td>\n",
       "      <td>NaN</td>\n",
       "      <td>1148</td>\n",
       "      <td>2021</td>\n",
       "      <td>to review</td>\n",
       "      <td>there is not any matched lot, need to review t...</td>\n",
       "      <td>39S20E0000</td>\n",
       "      <td>1939.00S20.00E0000--0000ROADS</td>\n",
       "    </tr>\n",
       "    <tr>\n",
       "      <th>208</th>\n",
       "      <td>WD2018-0281</td>\n",
       "      <td>25S13W04</td>\n",
       "      <td>MANY</td>\n",
       "      <td>Coos</td>\n",
       "      <td>43.432600</td>\n",
       "      <td>-124.240200</td>\n",
       "      <td>https://docs.dsl.state.or.us/PublicReview/Elec...</td>\n",
       "      <td>209</td>\n",
       "      <td>2018</td>\n",
       "      <td>to review</td>\n",
       "      <td>there is not any matched lot, need to review t...</td>\n",
       "      <td>25S13W0300</td>\n",
       "      <td>0625.00S13.00W0300--000000200</td>\n",
       "    </tr>\n",
       "  </tbody>\n",
       "</table>\n",
       "</div>"
      ],
      "text/plain": [
       "     wetdet_delin_number     trsqq parcel_id county   latitude   longitude  \\\n",
       "1088         WD2018-0124  39S20E21      ROWs   Lake  42.164626 -120.366529   \n",
       "1147         WD2021-0703  38S20E09      Many   Lake  42.178657 -120.395374   \n",
       "208          WD2018-0281  25S13W04      MANY   Coos  43.432600 -124.240200   \n",
       "\n",
       "                                           DecisionLink  record_ID IDyear  \\\n",
       "1088  https://docs.dsl.state.or.us/PublicReview/docv...       1089   2018   \n",
       "1147                                                NaN       1148   2021   \n",
       "208   https://docs.dsl.state.or.us/PublicReview/Elec...        209   2018   \n",
       "\n",
       "     correct_type                                         correction  \\\n",
       "1088           QQ                                      from 00 to CD   \n",
       "1147    to review  there is not any matched lot, need to review t...   \n",
       "208     to review  there is not any matched lot, need to review t...   \n",
       "\n",
       "       cor_trsqq                       ORTaxlot  \n",
       "1088  39S20E21CD  1939.00S20.00E21CD--0000ROADS  \n",
       "1147  39S20E0000  1939.00S20.00E0000--0000ROADS  \n",
       "208   25S13W0300  0625.00S13.00W0300--000000200  "
      ]
     },
     "execution_count": 34,
     "metadata": {},
     "output_type": "execute_result"
    }
   ],
   "source": [
    "rev_r2_y.head(3)"
   ]
  },
  {
   "cell_type": "code",
   "execution_count": 35,
   "id": "6b47c462",
   "metadata": {},
   "outputs": [
    {
     "name": "stdout",
     "output_type": "stream",
     "text": [
      "WD2018-0124\n",
      "  correct_type     correction   cor_trsqq\n",
      "0           QQ  from 00 to CD  39S20E21CD\n",
      "Press 'p' to pause or any other key to continue...c\n",
      "WD2021-0703\n",
      "Decision link is not available\n",
      "  correct_type                                         correction   cor_trsqq\n",
      "1    to review  there is not any matched lot, need to review t...  39S20E0000\n",
      "Press 'p' to pause or any other key to continue...c\n",
      "WD2018-0281\n",
      "  correct_type                                         correction   cor_trsqq\n",
      "2    to review  there is not any matched lot, need to review t...  25S13W0300\n",
      "Press 'p' to pause or any other key to continue...c\n",
      "WD2019-0124\n",
      "  correct_type                                         correction   cor_trsqq\n",
      "3    to review  there is not any matched lot, need to review t...  36S02W2100\n",
      "Press 'p' to pause or any other key to continue...c\n",
      "WD2022-0261\n",
      "Decision link is not available\n",
      "  correct_type                                         correction cor_trsqq\n",
      "4   coordinate  coordinate might be incorrect, nearby taxlot i...  29S15W12\n",
      "Press 'p' to pause or any other key to continue...c\n",
      "WD2022-0087\n",
      "  correct_type                                         correction   cor_trsqq\n",
      "5   coordinate  coordinate might be incorrect, nearby taxlot i...  15S10E09BB\n",
      "Press 'p' to pause or any other key to continue...c\n"
     ]
    }
   ],
   "source": [
    "#review_loop(df=rev_r2_y)"
   ]
  },
  {
   "cell_type": "code",
   "execution_count": 31,
   "id": "3c402439",
   "metadata": {},
   "outputs": [],
   "source": [
    "cor_r2 = correct_unmatched(r2_t, setID, s='r2', ml='Y', export=True)"
   ]
  },
  {
   "cell_type": "code",
   "execution_count": 32,
   "id": "deb8f780",
   "metadata": {},
   "outputs": [
    {
     "data": {
      "text/html": [
       "<div>\n",
       "<style scoped>\n",
       "    .dataframe tbody tr th:only-of-type {\n",
       "        vertical-align: middle;\n",
       "    }\n",
       "\n",
       "    .dataframe tbody tr th {\n",
       "        vertical-align: top;\n",
       "    }\n",
       "\n",
       "    .dataframe thead th {\n",
       "        text-align: right;\n",
       "    }\n",
       "</style>\n",
       "<table border=\"1\" class=\"dataframe\">\n",
       "  <thead>\n",
       "    <tr style=\"text-align: right;\">\n",
       "      <th></th>\n",
       "      <th>wetdet_delin_number</th>\n",
       "      <th>trsqq</th>\n",
       "      <th>parcel_id</th>\n",
       "      <th>address_location_desc</th>\n",
       "      <th>city</th>\n",
       "      <th>county</th>\n",
       "      <th>site_name</th>\n",
       "      <th>site_desc</th>\n",
       "      <th>latitude</th>\n",
       "      <th>longitude</th>\n",
       "      <th>...</th>\n",
       "      <th>received_date</th>\n",
       "      <th>response_date</th>\n",
       "      <th>reissuance_response_date</th>\n",
       "      <th>project_id</th>\n",
       "      <th>site_id</th>\n",
       "      <th>record_ID</th>\n",
       "      <th>notes</th>\n",
       "      <th>recyear</th>\n",
       "      <th>IDyear</th>\n",
       "      <th>missinglot</th>\n",
       "    </tr>\n",
       "  </thead>\n",
       "  <tbody>\n",
       "    <tr>\n",
       "      <th>1088</th>\n",
       "      <td>WD2018-0124</td>\n",
       "      <td>39S20E21CD</td>\n",
       "      <td>ROWs</td>\n",
       "      <td>Solar array new Lake Co Airport and powerline ...</td>\n",
       "      <td>Lakeview</td>\n",
       "      <td>Lake</td>\n",
       "      <td>Airport Solar Project 39S20E21</td>\n",
       "      <td>Produce and distribute solar power</td>\n",
       "      <td>42.164626</td>\n",
       "      <td>-120.366529</td>\n",
       "      <td>...</td>\n",
       "      <td>2018-03-05</td>\n",
       "      <td>2018-06-21</td>\n",
       "      <td>NaN</td>\n",
       "      <td>NaN</td>\n",
       "      <td>108472</td>\n",
       "      <td>1089</td>\n",
       "      <td>ROW</td>\n",
       "      <td>2018</td>\n",
       "      <td>2018</td>\n",
       "      <td>Y</td>\n",
       "    </tr>\n",
       "    <tr>\n",
       "      <th>1147</th>\n",
       "      <td>WD2021-0703</td>\n",
       "      <td>38S20E0000</td>\n",
       "      <td>ROW</td>\n",
       "      <td>NaN</td>\n",
       "      <td>Lakeview</td>\n",
       "      <td>Lake</td>\n",
       "      <td>Blue Marmot Solar Energy Project</td>\n",
       "      <td>WD2021-0703 Photovoltaic (PV) Solar Energy Gen...</td>\n",
       "      <td>42.178657</td>\n",
       "      <td>-120.395374</td>\n",
       "      <td>...</td>\n",
       "      <td>2021-12-21</td>\n",
       "      <td>NaT</td>\n",
       "      <td>NaN</td>\n",
       "      <td>83326.0</td>\n",
       "      <td>138094</td>\n",
       "      <td>1148</td>\n",
       "      <td>Many</td>\n",
       "      <td>2021</td>\n",
       "      <td>2021</td>\n",
       "      <td>Y</td>\n",
       "    </tr>\n",
       "  </tbody>\n",
       "</table>\n",
       "<p>2 rows × 25 columns</p>\n",
       "</div>"
      ],
      "text/plain": [
       "     wetdet_delin_number       trsqq parcel_id  \\\n",
       "1088         WD2018-0124  39S20E21CD      ROWs   \n",
       "1147         WD2021-0703  38S20E0000       ROW   \n",
       "\n",
       "                                  address_location_desc      city county  \\\n",
       "1088  Solar array new Lake Co Airport and powerline ...  Lakeview   Lake   \n",
       "1147                                                NaN  Lakeview   Lake   \n",
       "\n",
       "                             site_name  \\\n",
       "1088    Airport Solar Project 39S20E21   \n",
       "1147  Blue Marmot Solar Energy Project   \n",
       "\n",
       "                                              site_desc   latitude  \\\n",
       "1088                 Produce and distribute solar power  42.164626   \n",
       "1147  WD2021-0703 Photovoltaic (PV) Solar Energy Gen...  42.178657   \n",
       "\n",
       "       longitude  ... received_date response_date reissuance_response_date  \\\n",
       "1088 -120.366529  ...    2018-03-05    2018-06-21                      NaN   \n",
       "1147 -120.395374  ...    2021-12-21           NaT                      NaN   \n",
       "\n",
       "     project_id site_id record_ID notes  recyear  IDyear  missinglot  \n",
       "1088        NaN  108472      1089   ROW     2018    2018           Y  \n",
       "1147    83326.0  138094      1148  Many     2021    2021           Y  \n",
       "\n",
       "[2 rows x 25 columns]"
      ]
     },
     "execution_count": 32,
     "metadata": {},
     "output_type": "execute_result"
    }
   ],
   "source": [
    "cor_r2"
   ]
  },
  {
   "cell_type": "code",
   "execution_count": 33,
   "id": "ad1008e3",
   "metadata": {},
   "outputs": [],
   "source": [
    "cor_r2_2 = update_unmatched_df_r2(r2_t, setID, ml='Y', export=True)"
   ]
  },
  {
   "cell_type": "code",
   "execution_count": 34,
   "id": "f87cdf1f",
   "metadata": {},
   "outputs": [
    {
     "data": {
      "text/html": [
       "<div>\n",
       "<style scoped>\n",
       "    .dataframe tbody tr th:only-of-type {\n",
       "        vertical-align: middle;\n",
       "    }\n",
       "\n",
       "    .dataframe tbody tr th {\n",
       "        vertical-align: top;\n",
       "    }\n",
       "\n",
       "    .dataframe thead th {\n",
       "        text-align: right;\n",
       "    }\n",
       "</style>\n",
       "<table border=\"1\" class=\"dataframe\">\n",
       "  <thead>\n",
       "    <tr style=\"text-align: right;\">\n",
       "      <th></th>\n",
       "      <th>wetdet_delin_number</th>\n",
       "      <th>trsqq</th>\n",
       "      <th>parcel_id</th>\n",
       "      <th>address_location_desc</th>\n",
       "      <th>city</th>\n",
       "      <th>county</th>\n",
       "      <th>site_name</th>\n",
       "      <th>site_desc</th>\n",
       "      <th>latitude</th>\n",
       "      <th>longitude</th>\n",
       "      <th>...</th>\n",
       "      <th>received_date</th>\n",
       "      <th>response_date</th>\n",
       "      <th>reissuance_response_date</th>\n",
       "      <th>project_id</th>\n",
       "      <th>site_id</th>\n",
       "      <th>record_ID</th>\n",
       "      <th>notes</th>\n",
       "      <th>recyear</th>\n",
       "      <th>IDyear</th>\n",
       "      <th>missinglot</th>\n",
       "    </tr>\n",
       "  </thead>\n",
       "  <tbody>\n",
       "    <tr>\n",
       "      <th>0</th>\n",
       "      <td>WD2022-0261</td>\n",
       "      <td>29S15W12</td>\n",
       "      <td>ROW</td>\n",
       "      <td>Near 54391 Beach Loop Rd</td>\n",
       "      <td>Bandon</td>\n",
       "      <td>Coos</td>\n",
       "      <td>Beach Loop Rd</td>\n",
       "      <td>WD2022-0261 Roadway and drainage improvements</td>\n",
       "      <td>43.081203</td>\n",
       "      <td>-124.430481</td>\n",
       "      <td>...</td>\n",
       "      <td>2022-05-10 00:00:00</td>\n",
       "      <td>NaT</td>\n",
       "      <td>NaN</td>\n",
       "      <td>84179.0</td>\n",
       "      <td>139308</td>\n",
       "      <td>327</td>\n",
       "      <td>ROW</td>\n",
       "      <td>2022</td>\n",
       "      <td>2022</td>\n",
       "      <td>Y</td>\n",
       "    </tr>\n",
       "    <tr>\n",
       "      <th>1</th>\n",
       "      <td>WD2022-0087</td>\n",
       "      <td>15S10E09BB</td>\n",
       "      <td>Elm St ROW</td>\n",
       "      <td>half mile of ROW east side of S Elm St</td>\n",
       "      <td>Sisters</td>\n",
       "      <td>Deschutes</td>\n",
       "      <td>Sisters Multi-use trail</td>\n",
       "      <td>WD2022-0087 wetdet, parks grant</td>\n",
       "      <td>44.288619</td>\n",
       "      <td>-121.549925</td>\n",
       "      <td>...</td>\n",
       "      <td>2022-02-09 00:00:00</td>\n",
       "      <td>2022-03-08 00:00:00</td>\n",
       "      <td>NaN</td>\n",
       "      <td>83589.0</td>\n",
       "      <td>138483</td>\n",
       "      <td>559</td>\n",
       "      <td>ROW</td>\n",
       "      <td>2022</td>\n",
       "      <td>2022</td>\n",
       "      <td>Y</td>\n",
       "    </tr>\n",
       "    <tr>\n",
       "      <th>2</th>\n",
       "      <td>WD2018-0281</td>\n",
       "      <td>25S13W03</td>\n",
       "      <td>MANY</td>\n",
       "      <td>229-mi proposed pipeline beginning N of Jordan...</td>\n",
       "      <td>NaN</td>\n",
       "      <td>Coos</td>\n",
       "      <td>Pacific Connector Gas Pipeline (PCGP)</td>\n",
       "      <td>Natural gas transmission pipeline</td>\n",
       "      <td>43.432600</td>\n",
       "      <td>-124.240200</td>\n",
       "      <td>...</td>\n",
       "      <td>2018-05-08 00:00:00</td>\n",
       "      <td>2020-10-28 00:00:00</td>\n",
       "      <td>NaN</td>\n",
       "      <td>NaN</td>\n",
       "      <td>109100</td>\n",
       "      <td>209</td>\n",
       "      <td>Many</td>\n",
       "      <td>2018</td>\n",
       "      <td>2018</td>\n",
       "      <td>Y</td>\n",
       "    </tr>\n",
       "    <tr>\n",
       "      <th>3</th>\n",
       "      <td>WD2019-0124</td>\n",
       "      <td>36S02W21</td>\n",
       "      <td>Many,ROW,All part</td>\n",
       "      <td>OR140 E of I-5 at Exit 35 to intersection with...</td>\n",
       "      <td>Central Point</td>\n",
       "      <td>Jackson</td>\n",
       "      <td>OR140: Exit 35 to Blackwell Rd</td>\n",
       "      <td>WD2019-0124 Highway Improvement</td>\n",
       "      <td>42.419580</td>\n",
       "      <td>-122.954460</td>\n",
       "      <td>...</td>\n",
       "      <td>2019-03-04 00:00:00</td>\n",
       "      <td>2019-07-09 00:00:00</td>\n",
       "      <td>NaN</td>\n",
       "      <td>77800.0</td>\n",
       "      <td>128056</td>\n",
       "      <td>807</td>\n",
       "      <td>ROW, Partial, Many</td>\n",
       "      <td>2019</td>\n",
       "      <td>2019</td>\n",
       "      <td>Y</td>\n",
       "    </tr>\n",
       "    <tr>\n",
       "      <th>4</th>\n",
       "      <td>WD2018-0124</td>\n",
       "      <td>39S20E21CD</td>\n",
       "      <td>ROWs</td>\n",
       "      <td>Solar array new Lake Co Airport and powerline ...</td>\n",
       "      <td>Lakeview</td>\n",
       "      <td>Lake</td>\n",
       "      <td>Airport Solar Project 39S20E21</td>\n",
       "      <td>Produce and distribute solar power</td>\n",
       "      <td>42.164626</td>\n",
       "      <td>-120.366529</td>\n",
       "      <td>...</td>\n",
       "      <td>2018-03-05</td>\n",
       "      <td>2018-06-21</td>\n",
       "      <td>NaN</td>\n",
       "      <td>NaN</td>\n",
       "      <td>108472</td>\n",
       "      <td>1089</td>\n",
       "      <td>ROW</td>\n",
       "      <td>2018</td>\n",
       "      <td>2018</td>\n",
       "      <td>Y</td>\n",
       "    </tr>\n",
       "    <tr>\n",
       "      <th>5</th>\n",
       "      <td>WD2021-0703</td>\n",
       "      <td>38S20E0000</td>\n",
       "      <td>ROW</td>\n",
       "      <td>NaN</td>\n",
       "      <td>Lakeview</td>\n",
       "      <td>Lake</td>\n",
       "      <td>Blue Marmot Solar Energy Project</td>\n",
       "      <td>WD2021-0703 Photovoltaic (PV) Solar Energy Gen...</td>\n",
       "      <td>42.178657</td>\n",
       "      <td>-120.395374</td>\n",
       "      <td>...</td>\n",
       "      <td>2021-12-21</td>\n",
       "      <td>NaN</td>\n",
       "      <td>NaN</td>\n",
       "      <td>83326.0</td>\n",
       "      <td>138094</td>\n",
       "      <td>1148</td>\n",
       "      <td>Many</td>\n",
       "      <td>2021</td>\n",
       "      <td>2021</td>\n",
       "      <td>Y</td>\n",
       "    </tr>\n",
       "  </tbody>\n",
       "</table>\n",
       "<p>6 rows × 25 columns</p>\n",
       "</div>"
      ],
      "text/plain": [
       "  wetdet_delin_number       trsqq          parcel_id  \\\n",
       "0         WD2022-0261    29S15W12                ROW   \n",
       "1         WD2022-0087  15S10E09BB         Elm St ROW   \n",
       "2         WD2018-0281    25S13W03               MANY   \n",
       "3         WD2019-0124    36S02W21  Many,ROW,All part   \n",
       "4         WD2018-0124  39S20E21CD               ROWs   \n",
       "5         WD2021-0703  38S20E0000                ROW   \n",
       "\n",
       "                               address_location_desc           city  \\\n",
       "0                           Near 54391 Beach Loop Rd         Bandon   \n",
       "1             half mile of ROW east side of S Elm St        Sisters   \n",
       "2  229-mi proposed pipeline beginning N of Jordan...            NaN   \n",
       "3  OR140 E of I-5 at Exit 35 to intersection with...  Central Point   \n",
       "4  Solar array new Lake Co Airport and powerline ...       Lakeview   \n",
       "5                                                NaN       Lakeview   \n",
       "\n",
       "      county                              site_name  \\\n",
       "0       Coos                          Beach Loop Rd   \n",
       "1  Deschutes                Sisters Multi-use trail   \n",
       "2       Coos  Pacific Connector Gas Pipeline (PCGP)   \n",
       "3    Jackson         OR140: Exit 35 to Blackwell Rd   \n",
       "4       Lake         Airport Solar Project 39S20E21   \n",
       "5       Lake       Blue Marmot Solar Energy Project   \n",
       "\n",
       "                                           site_desc   latitude   longitude  \\\n",
       "0      WD2022-0261 Roadway and drainage improvements  43.081203 -124.430481   \n",
       "1                    WD2022-0087 wetdet, parks grant  44.288619 -121.549925   \n",
       "2                  Natural gas transmission pipeline  43.432600 -124.240200   \n",
       "3                    WD2019-0124 Highway Improvement  42.419580 -122.954460   \n",
       "4                 Produce and distribute solar power  42.164626 -120.366529   \n",
       "5  WD2021-0703 Photovoltaic (PV) Solar Energy Gen...  42.178657 -120.395374   \n",
       "\n",
       "   ...        received_date        response_date reissuance_response_date  \\\n",
       "0  ...  2022-05-10 00:00:00                  NaT                      NaN   \n",
       "1  ...  2022-02-09 00:00:00  2022-03-08 00:00:00                      NaN   \n",
       "2  ...  2018-05-08 00:00:00  2020-10-28 00:00:00                      NaN   \n",
       "3  ...  2019-03-04 00:00:00  2019-07-09 00:00:00                      NaN   \n",
       "4  ...           2018-03-05           2018-06-21                      NaN   \n",
       "5  ...           2021-12-21                  NaN                      NaN   \n",
       "\n",
       "  project_id site_id record_ID               notes  recyear  IDyear  \\\n",
       "0    84179.0  139308       327                 ROW     2022    2022   \n",
       "1    83589.0  138483       559                 ROW     2022    2022   \n",
       "2        NaN  109100       209                Many     2018    2018   \n",
       "3    77800.0  128056       807  ROW, Partial, Many     2019    2019   \n",
       "4        NaN  108472      1089                 ROW     2018    2018   \n",
       "5    83326.0  138094      1148                Many     2021    2021   \n",
       "\n",
       "   missinglot  \n",
       "0           Y  \n",
       "1           Y  \n",
       "2           Y  \n",
       "3           Y  \n",
       "4           Y  \n",
       "5           Y  \n",
       "\n",
       "[6 rows x 25 columns]"
      ]
     },
     "execution_count": 34,
     "metadata": {},
     "output_type": "execute_result"
    }
   ],
   "source": [
    "cor_r2_2"
   ]
  },
  {
   "cell_type": "code",
   "execution_count": 35,
   "id": "ba9c8602",
   "metadata": {},
   "outputs": [],
   "source": [
    "rev_df2 = reindex_data(cor_r2_2)"
   ]
  },
  {
   "cell_type": "code",
   "execution_count": 38,
   "id": "db7e8a38",
   "metadata": {},
   "outputs": [],
   "source": [
    "check = False\n",
    "if check:\n",
    "    matched = match_wd_data_with_taxlot(rev_df2, setID, all_taxlot, export=False, update=False)\n",
    "else:\n",
    "    matched = match_wd_data_with_taxlot(rev_df2, setID, all_taxlot, export=True, update=True)"
   ]
  },
  {
   "cell_type": "code",
   "execution_count": 37,
   "id": "c04ab926",
   "metadata": {},
   "outputs": [
    {
     "data": {
      "text/html": [
       "<div>\n",
       "<style scoped>\n",
       "    .dataframe tbody tr th:only-of-type {\n",
       "        vertical-align: middle;\n",
       "    }\n",
       "\n",
       "    .dataframe tbody tr th {\n",
       "        vertical-align: top;\n",
       "    }\n",
       "\n",
       "    .dataframe thead th {\n",
       "        text-align: right;\n",
       "    }\n",
       "</style>\n",
       "<table border=\"1\" class=\"dataframe\">\n",
       "  <thead>\n",
       "    <tr style=\"text-align: right;\">\n",
       "      <th></th>\n",
       "      <th>wdID</th>\n",
       "      <th>trsqq</th>\n",
       "      <th>parcel_id</th>\n",
       "      <th>loc_desc</th>\n",
       "      <th>city</th>\n",
       "      <th>county</th>\n",
       "      <th>site_name</th>\n",
       "      <th>site_desc</th>\n",
       "      <th>latitude</th>\n",
       "      <th>longitude</th>\n",
       "      <th>...</th>\n",
       "      <th>record_ID</th>\n",
       "      <th>notes</th>\n",
       "      <th>recyear</th>\n",
       "      <th>IDyear</th>\n",
       "      <th>missinglot</th>\n",
       "      <th>lots</th>\n",
       "      <th>lot</th>\n",
       "      <th>cnt_code</th>\n",
       "      <th>ORTaxlot</th>\n",
       "      <th>geometry</th>\n",
       "    </tr>\n",
       "  </thead>\n",
       "  <tbody>\n",
       "    <tr>\n",
       "      <th>0</th>\n",
       "      <td>WD2018-0124</td>\n",
       "      <td>39S20E21CD</td>\n",
       "      <td>ROWs</td>\n",
       "      <td>Solar array new Lake Co Airport and powerline ...</td>\n",
       "      <td>Lakeview</td>\n",
       "      <td>Lake</td>\n",
       "      <td>Airport Solar Project 39S20E21</td>\n",
       "      <td>Produce and distribute solar power</td>\n",
       "      <td>42.164626</td>\n",
       "      <td>-120.366529</td>\n",
       "      <td>...</td>\n",
       "      <td>1089</td>\n",
       "      <td>ROW</td>\n",
       "      <td>2018</td>\n",
       "      <td>2018</td>\n",
       "      <td>Y</td>\n",
       "      <td>ROADS</td>\n",
       "      <td>ROADS</td>\n",
       "      <td>19</td>\n",
       "      <td>1939.00S20.00E21CD--0000ROADS</td>\n",
       "      <td>MULTIPOLYGON (((1348557.666 152400.029, 134855...</td>\n",
       "    </tr>\n",
       "    <tr>\n",
       "      <th>1</th>\n",
       "      <td>WD2021-0703</td>\n",
       "      <td>38S20E0000</td>\n",
       "      <td>ROW</td>\n",
       "      <td>NaN</td>\n",
       "      <td>Lakeview</td>\n",
       "      <td>Lake</td>\n",
       "      <td>Blue Marmot Solar Energy Project</td>\n",
       "      <td>WD2021-0703 Photovoltaic (PV) Solar Energy Gen...</td>\n",
       "      <td>42.178657</td>\n",
       "      <td>-120.395374</td>\n",
       "      <td>...</td>\n",
       "      <td>1148</td>\n",
       "      <td>Many</td>\n",
       "      <td>2021</td>\n",
       "      <td>2021</td>\n",
       "      <td>Y</td>\n",
       "      <td>ROADS</td>\n",
       "      <td>ROADS</td>\n",
       "      <td>19</td>\n",
       "      <td>1938.00S20.00E0000--0000ROADS</td>\n",
       "      <td>MULTIPOLYGON (((1353340.761 196306.707, 135327...</td>\n",
       "    </tr>\n",
       "  </tbody>\n",
       "</table>\n",
       "<p>2 rows × 30 columns</p>\n",
       "</div>"
      ],
      "text/plain": [
       "          wdID       trsqq parcel_id  \\\n",
       "0  WD2018-0124  39S20E21CD      ROWs   \n",
       "1  WD2021-0703  38S20E0000       ROW   \n",
       "\n",
       "                                            loc_desc      city county  \\\n",
       "0  Solar array new Lake Co Airport and powerline ...  Lakeview   Lake   \n",
       "1                                                NaN  Lakeview   Lake   \n",
       "\n",
       "                          site_name  \\\n",
       "0    Airport Solar Project 39S20E21   \n",
       "1  Blue Marmot Solar Energy Project   \n",
       "\n",
       "                                           site_desc   latitude   longitude  \\\n",
       "0                 Produce and distribute solar power  42.164626 -120.366529   \n",
       "1  WD2021-0703 Photovoltaic (PV) Solar Energy Gen...  42.178657 -120.395374   \n",
       "\n",
       "   ... record_ID notes recyear IDyear missinglot   lots    lot  cnt_code  \\\n",
       "0  ...      1089   ROW    2018   2018          Y  ROADS  ROADS        19   \n",
       "1  ...      1148  Many    2021   2021          Y  ROADS  ROADS        19   \n",
       "\n",
       "                        ORTaxlot  \\\n",
       "0  1939.00S20.00E21CD--0000ROADS   \n",
       "1  1938.00S20.00E0000--0000ROADS   \n",
       "\n",
       "                                            geometry  \n",
       "0  MULTIPOLYGON (((1348557.666 152400.029, 134855...  \n",
       "1  MULTIPOLYGON (((1353340.761 196306.707, 135327...  \n",
       "\n",
       "[2 rows x 30 columns]"
      ]
     },
     "execution_count": 37,
     "metadata": {},
     "output_type": "execute_result"
    }
   ],
   "source": [
    "matched"
   ]
  },
  {
   "cell_type": "code",
   "execution_count": 41,
   "id": "830a95c7",
   "metadata": {},
   "outputs": [],
   "source": [
    "testdf = rev_r2_y.copy()"
   ]
  },
  {
   "cell_type": "code",
   "execution_count": 42,
   "id": "d1ebfd30",
   "metadata": {},
   "outputs": [],
   "source": [
    "taxlot_to_check = get_taxlot_to_check_r2(revdf=testdf, taxlot=all_taxlot, setID=setID, ml='Y')"
   ]
  },
  {
   "cell_type": "code",
   "execution_count": 43,
   "id": "edddc978",
   "metadata": {},
   "outputs": [],
   "source": [
    "matchedTxlotIDs = [txlot for txlot in rev_r2_y.ORTaxlot.values if txlot in matched.ORTaxlot.values]"
   ]
  },
  {
   "cell_type": "code",
   "execution_count": 44,
   "id": "f2a7c6d0",
   "metadata": {},
   "outputs": [
    {
     "data": {
      "text/plain": [
       "array([ 209, 1089, 1148,  807])"
      ]
     },
     "execution_count": 44,
     "metadata": {},
     "output_type": "execute_result"
    }
   ],
   "source": [
    "rev_r2_y.loc[rev_r2_y.ORTaxlot.isin(matchedTxlotIDs), 'record_ID'].values"
   ]
  },
  {
   "cell_type": "code",
   "execution_count": 46,
   "id": "5faef25a",
   "metadata": {},
   "outputs": [
    {
     "data": {
      "text/plain": [
       "(30067, 30)"
      ]
     },
     "execution_count": 46,
     "metadata": {},
     "output_type": "execute_result"
    }
   ],
   "source": [
    "df.shape"
   ]
  },
  {
   "cell_type": "code",
   "execution_count": 47,
   "id": "681c7dae",
   "metadata": {},
   "outputs": [],
   "source": [
    "# this might take a while\n",
    "res = check_corrected_data(df=df, setID=setID, all_taxlot=all_taxlot, nm_to_add=nm_to_add, export=False)"
   ]
  },
  {
   "cell_type": "code",
   "execution_count": 48,
   "id": "09be867b",
   "metadata": {},
   "outputs": [],
   "source": [
    "mapped = review_mapped_data(rev_df, setID, all_taxlot, nm_to_add=nm_to_add, export=False)"
   ]
  },
  {
   "cell_type": "code",
   "execution_count": 49,
   "id": "cdc1e710",
   "metadata": {},
   "outputs": [
    {
     "data": {
      "text/plain": [
       "Index(['Record_ID', 'wetdet_delin_number', 'trsqq', 'parcel_id',\n",
       "       'address_location_desc', 'city', 'county', 'site_name', 'site_desc',\n",
       "       'latitude', 'longitude', 'Coord_Source', 'DocumentName', 'DecisionLink',\n",
       "       'is_batch_file', 'status_name', 'received_date', 'response_date',\n",
       "       'reissuance_response_date', 'project_id', 'site_id', 'lot_num', 'lot',\n",
       "       'Match_Year', 'ORTAXLOT', 'Match_found', 'Manual_note', 'Shape_Length',\n",
       "       'Shape_Area', 'Edits_Complete', 'matcher2', 'geometry'],\n",
       "      dtype='object')"
      ]
     },
     "execution_count": 49,
     "metadata": {},
     "output_type": "execute_result"
    }
   ],
   "source": [
    "mapped.columns"
   ]
  },
  {
   "cell_type": "code",
   "execution_count": 50,
   "id": "5a07905d",
   "metadata": {},
   "outputs": [
    {
     "data": {
      "text/plain": [
       "array([nan,  1.,  2., 99.])"
      ]
     },
     "execution_count": 50,
     "metadata": {},
     "output_type": "execute_result"
    }
   ],
   "source": [
    "mapped.Edits_Complete.unique()"
   ]
  },
  {
   "cell_type": "code",
   "execution_count": 51,
   "id": "773b0b28",
   "metadata": {},
   "outputs": [],
   "source": [
    "setgdf = gpd.read_file(os.path.join(inpath, 'GIS', 'Join_Statewide.gdb'), layer=f'WD_{setID}_Combined')"
   ]
  },
  {
   "cell_type": "code",
   "execution_count": 52,
   "id": "03986f56",
   "metadata": {},
   "outputs": [
    {
     "data": {
      "text/plain": [
       "263"
      ]
     },
     "execution_count": 52,
     "metadata": {},
     "output_type": "execute_result"
    }
   ],
   "source": [
    "len(matched_toReview.wdID.unique())"
   ]
  },
  {
   "cell_type": "code",
   "execution_count": 53,
   "id": "ed18c296",
   "metadata": {},
   "outputs": [],
   "source": [
    "setgdf1 = setgdf[setgdf.Edits_Complete==1]"
   ]
  },
  {
   "cell_type": "code",
   "execution_count": 54,
   "id": "eead8f99",
   "metadata": {},
   "outputs": [
    {
     "data": {
      "text/plain": [
       "193"
      ]
     },
     "execution_count": 54,
     "metadata": {},
     "output_type": "execute_result"
    }
   ],
   "source": [
    "len(setgdf1.wetdet_delin_number.unique())"
   ]
  },
  {
   "cell_type": "code",
   "execution_count": 55,
   "id": "f05349f9",
   "metadata": {},
   "outputs": [
    {
     "data": {
      "text/plain": [
       "180"
      ]
     },
     "execution_count": 55,
     "metadata": {},
     "output_type": "execute_result"
    }
   ],
   "source": [
    "len([wid for wid in matched_toReview.wdID.unique() if wid in setgdf1.wetdet_delin_number.unique()])"
   ]
  },
  {
   "cell_type": "code",
   "execution_count": 56,
   "id": "3113c188",
   "metadata": {},
   "outputs": [],
   "source": [
    "automatched = matched[matched.notes.isnull()] "
   ]
  },
  {
   "cell_type": "code",
   "execution_count": 57,
   "id": "51655248",
   "metadata": {},
   "outputs": [
    {
     "data": {
      "text/plain": [
       "23"
      ]
     },
     "execution_count": 57,
     "metadata": {},
     "output_type": "execute_result"
    }
   ],
   "source": [
    "len([wid for wid in automatched.wdID.unique() if wid in setgdf1.wetdet_delin_number.unique()])"
   ]
  }
 ],
 "metadata": {
  "kernelspec": {
   "display_name": "Python 3",
   "language": "python",
   "name": "python3"
  },
  "language_info": {
   "codemirror_mode": {
    "name": "ipython",
    "version": 3
   },
   "file_extension": ".py",
   "mimetype": "text/x-python",
   "name": "python",
   "nbconvert_exporter": "python",
   "pygments_lexer": "ipython3",
   "version": "3.8.8"
  }
 },
 "nbformat": 4,
 "nbformat_minor": 5
}
