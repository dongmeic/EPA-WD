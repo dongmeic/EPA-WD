{
 "cells": [
  {
   "cell_type": "code",
   "execution_count": 1,
   "id": "69426a55",
   "metadata": {},
   "outputs": [],
   "source": [
    "%load_ext autoreload\n",
    "%autoreload 2"
   ]
  },
  {
   "cell_type": "code",
   "execution_count": 2,
   "id": "e4d74cc4",
   "metadata": {},
   "outputs": [],
   "source": [
    "from wdtools import *\n",
    "import fiona"
   ]
  },
  {
   "cell_type": "code",
   "execution_count": 3,
   "id": "3aac41ec",
   "metadata": {},
   "outputs": [
    {
     "name": "stdout",
     "output_type": "stream",
     "text": [
      "it took 10.0 minutes to complete\n"
     ]
    }
   ],
   "source": [
    "# this can take about 7 minutes\n",
    "start = time.time()\n",
    "all_taxlot = combine_taxlot()\n",
    "end = time.time()\n",
    "print(f'it took {round((end - start)/60, 0)} minutes to complete')"
   ]
  },
  {
   "cell_type": "code",
   "execution_count": 3,
   "id": "8222e009",
   "metadata": {},
   "outputs": [],
   "source": [
    "t = '12S05W27'"
   ]
  },
  {
   "cell_type": "code",
   "execution_count": 4,
   "id": "f1bcfed6",
   "metadata": {},
   "outputs": [
    {
     "data": {
      "text/plain": [
       "True"
      ]
     },
     "execution_count": 4,
     "metadata": {},
     "output_type": "execute_result"
    }
   ],
   "source": [
    "t in trsqq"
   ]
  },
  {
   "cell_type": "code",
   "execution_count": 5,
   "id": "aba98495",
   "metadata": {},
   "outputs": [
    {
     "data": {
      "text/plain": [
       "47890    0212.00S05.00W2700--000000100\n",
       "47891    0212.00S05.00W2700--000000300\n",
       "47892    0212.00S05.00W2700--000001000\n",
       "47893    0212.00S05.00W2700--0000ROADS\n",
       "Name: ORTaxlot, dtype: object"
      ]
     },
     "execution_count": 5,
     "metadata": {},
     "output_type": "execute_result"
    }
   ],
   "source": [
    "ttdf.loc[ttdf.trsqq == t, 'ORTaxlot']"
   ]
  },
  {
   "cell_type": "code",
   "execution_count": 11,
   "id": "a9700133",
   "metadata": {},
   "outputs": [
    {
     "data": {
      "text/plain": [
       "True"
      ]
     },
     "execution_count": 11,
     "metadata": {},
     "output_type": "execute_result"
    }
   ],
   "source": [
    "'0920.00S10.00E24A0--000015200' in ttdf.ORTaxlot.values"
   ]
  },
  {
   "cell_type": "code",
   "execution_count": 6,
   "id": "f5863bdc",
   "metadata": {},
   "outputs": [
    {
     "name": "stdout",
     "output_type": "stream",
     "text": [
      "2\n"
     ]
    }
   ],
   "source": [
    "cnt_code = cnt_dict['Benton']\n",
    "print(cnt_code)"
   ]
  },
  {
   "cell_type": "code",
   "execution_count": 22,
   "id": "2132495a",
   "metadata": {},
   "outputs": [],
   "source": [
    "txid_toCheck = ['1837.00S14.00E0300--0000ROADS', '1837.00S14.00E03DB--0000ROADS',\n",
    "       '1837.00S14.00E03CD--0000ROADS', '1837.00S14.00E03CA--0000ROADS',\n",
    "       '2903.00N10.00W32A0--000054069']"
   ]
  },
  {
   "cell_type": "code",
   "execution_count": 23,
   "id": "8322b1ab",
   "metadata": {},
   "outputs": [
    {
     "data": {
      "text/plain": [
       "[]"
      ]
     },
     "execution_count": 23,
     "metadata": {},
     "output_type": "execute_result"
    }
   ],
   "source": [
    "[txid for txid in txid_toCheck if txid in ttdf.ORTaxlot.values]"
   ]
  },
  {
   "cell_type": "code",
   "execution_count": 10,
   "id": "14b08e93",
   "metadata": {},
   "outputs": [
    {
     "data": {
      "text/plain": [
       "[]"
      ]
     },
     "execution_count": 10,
     "metadata": {},
     "output_type": "execute_result"
    }
   ],
   "source": [
    "[txid for txid in ttdf.ORTaxlot.values if ('1536.00S02.00W2800' in txid) & ('ROADS' in txid)] # "
   ]
  },
  {
   "cell_type": "code",
   "execution_count": 26,
   "id": "a1f3eba1",
   "metadata": {},
   "outputs": [
    {
     "data": {
      "text/plain": [
       "['2503.00N27.00E0000--T00001702']"
      ]
     },
     "execution_count": 26,
     "metadata": {},
     "output_type": "execute_result"
    }
   ],
   "source": [
    "[txid for txid in ttdf.ORTaxlot.values if ('2503.00N27.00E0000' in txid) & ('1702' in txid)] # & ('ROADS' in txid)"
   ]
  },
  {
   "cell_type": "code",
   "execution_count": 22,
   "id": "1941fde0",
   "metadata": {},
   "outputs": [
    {
     "data": {
      "text/plain": [
       "['1839.00S09.00E08CA--000000100',\n",
       " '1839.00S09.00E08CA--000000200',\n",
       " '1839.00S09.00E08CA--000000300',\n",
       " '1839.00S09.00E08CA--000000400',\n",
       " '1839.00S09.00E08CA--000000500',\n",
       " '1839.00S09.00E08CA--000000600',\n",
       " '1839.00S09.00E08CA--000000700',\n",
       " '1839.00S09.00E08CA--000000800',\n",
       " '1839.00S09.00E08CA--000000900',\n",
       " '1839.00S09.00E08CA--000001000',\n",
       " '1839.00S09.00E08CA--000001100',\n",
       " '1839.00S09.00E08CA--000001200',\n",
       " '1839.00S09.00E08CA--000001300',\n",
       " '1839.00S09.00E08CA--000001400',\n",
       " '1839.00S09.00E08CA--000001401',\n",
       " '1839.00S09.00E08CA--000001402',\n",
       " '1839.00S09.00E08CA--000001500']"
      ]
     },
     "execution_count": 22,
     "metadata": {},
     "output_type": "execute_result"
    }
   ],
   "source": [
    "[txid for txid in ttdf.ORTaxlot.values if ('1839.00S09.00E08C' in txid)]"
   ]
  },
  {
   "cell_type": "code",
   "execution_count": 23,
   "id": "969e5b16",
   "metadata": {},
   "outputs": [
    {
     "data": {
      "text/plain": [
       "[]"
      ]
     },
     "execution_count": 23,
     "metadata": {},
     "output_type": "execute_result"
    }
   ],
   "source": [
    "[txid for txid in df.ORTaxlot.values if ('1839.00S09.00E08D' in txid)]"
   ]
  },
  {
   "cell_type": "code",
   "execution_count": 20,
   "id": "79fafef9",
   "metadata": {},
   "outputs": [
    {
     "data": {
      "text/plain": [
       "['1839.00S09.00E0800--000001500', '1839.00S09.00E08CA--000001500']"
      ]
     },
     "execution_count": 20,
     "metadata": {},
     "output_type": "execute_result"
    }
   ],
   "source": [
    "[txid for txid in df.ORTaxlot.values if ('1839.00S09.00E08' in txid) & ('1500' in txid)]"
   ]
  },
  {
   "cell_type": "code",
   "execution_count": 21,
   "id": "5562c0b5",
   "metadata": {},
   "outputs": [
    {
     "data": {
      "text/plain": [
       "['1839.00S09.00E0800--000001600']"
      ]
     },
     "execution_count": 21,
     "metadata": {},
     "output_type": "execute_result"
    }
   ],
   "source": [
    "[txid for txid in df.ORTaxlot.values if ('1839.00S09.00E08' in txid) & ('1600' in txid)]"
   ]
  },
  {
   "cell_type": "code",
   "execution_count": 3,
   "id": "e50f7818",
   "metadata": {},
   "outputs": [],
   "source": [
    "revpath = inpath + '\\GIS\\ArcGIS Pro Project\\DataReview\\DataReview.gdb'"
   ]
  },
  {
   "cell_type": "code",
   "execution_count": 4,
   "id": "7e4a4aa4",
   "metadata": {},
   "outputs": [],
   "source": [
    "wlot = gpd.read_file(revpath, layer='Set003_wo_lot')"
   ]
  },
  {
   "cell_type": "code",
   "execution_count": 5,
   "id": "d1311123",
   "metadata": {},
   "outputs": [],
   "source": [
    "def check_completeness(setID='003', a=3):\n",
    "    partial = gpd.read_file(revpath, layer=f'Set{setID}_partial')\n",
    "    mapped1 = list(partial.wdID.unique())\n",
    "    mapped0 = [lyr for lyr in fiona.listlayers(revpath) if (lyr not in [f'Set{setID}_wo_lot', f'Set{setID}_partial']) and ('L' not in lyr)]\n",
    "    mapped2 = list(map(lambda x: x.replace('_', '-'), mapped0))\n",
    "    mapped = mapped1 + mapped2\n",
    "    matched = gpd.read_file(inpath + f'\\\\output\\matched\\matched_records_Set{setID}_edited.shp')\n",
    "    pct = (len(mapped)+a)/len(matched[~matched.notes.isnull()].wdID.unique())\n",
    "    print(f'{round(pct*100, 1)}% completed...')\n",
    "    return sorted(mapped), len(mapped)"
   ]
  },
  {
   "cell_type": "code",
   "execution_count": 6,
   "id": "eec70199",
   "metadata": {},
   "outputs": [
    {
     "name": "stdout",
     "output_type": "stream",
     "text": [
      "87.4% completed...\n"
     ]
    },
    {
     "data": {
      "text/plain": [
       "(['WD2017-0102',\n",
       "  'WD2017-0125',\n",
       "  'WD2017-0149',\n",
       "  'WD2017-0204',\n",
       "  'WD2017-0239',\n",
       "  'WD2017-0263',\n",
       "  'WD2017-0281',\n",
       "  'WD2017-0287',\n",
       "  'WD2017-0342',\n",
       "  'WD2017-0351',\n",
       "  'WD2017-0354',\n",
       "  'WD2017-0357',\n",
       "  'WD2017-0416',\n",
       "  'WD2017-0445',\n",
       "  'WD2017-0488',\n",
       "  'WD2018-0003',\n",
       "  'WD2018-0019',\n",
       "  'WD2018-0242',\n",
       "  'WD2018-0301',\n",
       "  'WD2018-0355',\n",
       "  'WD2018-0363',\n",
       "  'WD2018-0400',\n",
       "  'WD2018-0478',\n",
       "  'WD2018-0496',\n",
       "  'WD2018-0499',\n",
       "  'WD2018-0546',\n",
       "  'WD2019-0035',\n",
       "  'WD2019-0064',\n",
       "  'WD2019-0067',\n",
       "  'WD2019-0121',\n",
       "  'WD2019-0130',\n",
       "  'WD2019-0223',\n",
       "  'WD2019-0238',\n",
       "  'WD2019-0256',\n",
       "  'WD2019-0281',\n",
       "  'WD2019-0289',\n",
       "  'WD2019-0324',\n",
       "  'WD2019-0361',\n",
       "  'WD2019-0382',\n",
       "  'WD2019-0404',\n",
       "  'WD2019-0512',\n",
       "  'WD2019-0615',\n",
       "  'WD2019-0623',\n",
       "  'WD2019-0630',\n",
       "  'WD2020-0007',\n",
       "  'WD2020-0008',\n",
       "  'WD2020-0019',\n",
       "  'WD2020-0024',\n",
       "  'WD2020-0029',\n",
       "  'WD2020-0046',\n",
       "  'WD2020-0084',\n",
       "  'WD2020-0120',\n",
       "  'WD2020-0186',\n",
       "  'WD2020-0248',\n",
       "  'WD2020-0257',\n",
       "  'WD2020-0260',\n",
       "  'WD2020-0265',\n",
       "  'WD2020-0318',\n",
       "  'WD2020-0362',\n",
       "  'WD2020-0397',\n",
       "  'WD2020-0469',\n",
       "  'WD2020-0500',\n",
       "  'WD2020-0509',\n",
       "  'WD2020-0541',\n",
       "  'WD2020-0548',\n",
       "  'WD2020-0608',\n",
       "  'WD2020-0619',\n",
       "  'WD2020-0663',\n",
       "  'WD2020-0664',\n",
       "  'WD2020-0693',\n",
       "  'WD2021-0016',\n",
       "  'WD2021-0018',\n",
       "  'WD2021-0099',\n",
       "  'WD2021-0192',\n",
       "  'WD2021-0214',\n",
       "  'WD2021-0329',\n",
       "  'WD2021-0340',\n",
       "  'WD2021-0400',\n",
       "  'WD2021-0417',\n",
       "  'WD2021-0426',\n",
       "  'WD2021-0441',\n",
       "  'WD2021-0501',\n",
       "  'WD2021-0535',\n",
       "  'WD2021-0548',\n",
       "  'WD2021-0564',\n",
       "  'WD2021-0601',\n",
       "  'WD2021-0623',\n",
       "  'WD2021-0624',\n",
       "  'WD2021-0633',\n",
       "  'WD2022-0018',\n",
       "  'WD2022-0039',\n",
       "  'WD2022-0094',\n",
       "  'WD2022-0130',\n",
       "  'WD2022-0136',\n",
       "  'WD2022-0213',\n",
       "  'WD2022-0225',\n",
       "  'WD2022-0226',\n",
       "  'WD2022-0232',\n",
       "  'WD2022-0241',\n",
       "  'WD2022-0251',\n",
       "  'WD2022-0252',\n",
       "  'WD2022-0263'],\n",
       " 102)"
      ]
     },
     "execution_count": 6,
     "metadata": {},
     "output_type": "execute_result"
    }
   ],
   "source": [
    "check_completeness(setID='003', a=9)"
   ]
  },
  {
   "cell_type": "code",
   "execution_count": 11,
   "id": "0b39de77",
   "metadata": {},
   "outputs": [],
   "source": [
    "setID = '003'"
   ]
  },
  {
   "cell_type": "code",
   "execution_count": 12,
   "id": "2041c90c",
   "metadata": {},
   "outputs": [],
   "source": [
    "matched = gpd.read_file(inpath + f'\\\\output\\matched\\matched_records_Set{setID}_edited.shp')"
   ]
  },
  {
   "cell_type": "code",
   "execution_count": 13,
   "id": "f8b4b61f",
   "metadata": {
    "scrolled": true
   },
   "outputs": [
    {
     "data": {
      "text/plain": [
       "425"
      ]
     },
     "execution_count": 13,
     "metadata": {},
     "output_type": "execute_result"
    }
   ],
   "source": [
    "len(matched.wdID.unique())"
   ]
  },
  {
   "cell_type": "code",
   "execution_count": 15,
   "id": "520b2c96",
   "metadata": {},
   "outputs": [],
   "source": [
    "partial = pd.read_csv(inpath + '\\\\output\\\\to_review\\\\partial_matched_Set003.csv')"
   ]
  },
  {
   "cell_type": "code",
   "execution_count": 17,
   "id": "e7a35c86",
   "metadata": {},
   "outputs": [
    {
     "data": {
      "text/plain": [
       "127"
      ]
     },
     "execution_count": 17,
     "metadata": {},
     "output_type": "execute_result"
    }
   ],
   "source": [
    "len(partial.wetdet_delin_number.unique())"
   ]
  },
  {
   "cell_type": "code",
   "execution_count": 18,
   "id": "68ac38e5",
   "metadata": {},
   "outputs": [
    {
     "data": {
      "text/plain": [
       "0.2988235294117647"
      ]
     },
     "execution_count": 18,
     "metadata": {},
     "output_type": "execute_result"
    }
   ],
   "source": [
    "127/425"
   ]
  }
 ],
 "metadata": {
  "kernelspec": {
   "display_name": "Python 3",
   "language": "python",
   "name": "python3"
  },
  "language_info": {
   "codemirror_mode": {
    "name": "ipython",
    "version": 3
   },
   "file_extension": ".py",
   "mimetype": "text/x-python",
   "name": "python",
   "nbconvert_exporter": "python",
   "pygments_lexer": "ipython3",
   "version": "3.8.8"
  }
 },
 "nbformat": 4,
 "nbformat_minor": 5
}
