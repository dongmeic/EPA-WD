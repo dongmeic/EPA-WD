{
 "cells": [
  {
   "cell_type": "code",
   "execution_count": 1,
   "id": "e4d74cc4",
   "metadata": {},
   "outputs": [],
   "source": [
    "from wdtools import *"
   ]
  },
  {
   "cell_type": "code",
   "execution_count": 2,
   "id": "3aac41ec",
   "metadata": {},
   "outputs": [
    {
     "name": "stdout",
     "output_type": "stream",
     "text": [
      "it took 8.0 minutes to complete\n"
     ]
    }
   ],
   "source": [
    "# this can take about 7 minutes\n",
    "start = time.time()\n",
    "all_taxlot = combine_taxlot()\n",
    "end = time.time()\n",
    "print(f'it took {round((end - start)/60, 0)} minutes to complete')"
   ]
  }
 ],
 "metadata": {
  "kernelspec": {
   "display_name": "Python 3",
   "language": "python",
   "name": "python3"
  },
  "language_info": {
   "codemirror_mode": {
    "name": "ipython",
    "version": 3
   },
   "file_extension": ".py",
   "mimetype": "text/x-python",
   "name": "python",
   "nbconvert_exporter": "python",
   "pygments_lexer": "ipython3",
   "version": "3.8.8"
  }
 },
 "nbformat": 4,
 "nbformat_minor": 5
}
