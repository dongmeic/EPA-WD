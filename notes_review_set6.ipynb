{
 "cells": [
  {
   "cell_type": "code",
   "execution_count": 1,
   "id": "d7c2612b",
   "metadata": {},
   "outputs": [],
   "source": [
    "%load_ext autoreload\n",
    "%autoreload 2"
   ]
  },
  {
   "cell_type": "code",
   "execution_count": 135,
   "id": "31eba31e",
   "metadata": {},
   "outputs": [],
   "source": [
    "from wdtools import *"
   ]
  },
  {
   "cell_type": "code",
   "execution_count": 3,
   "id": "bb8373d9",
   "metadata": {},
   "outputs": [
    {
     "name": "stdout",
     "output_type": "stream",
     "text": [
      "it took 9.0 minutes to complete\n"
     ]
    }
   ],
   "source": [
    "# this can take about 9 - 11 minutes\n",
    "start = time.time()\n",
    "all_taxlot = combine_taxlot()\n",
    "end = time.time()\n",
    "print(f'it took {round((end - start)/60, 0)} minutes to complete')"
   ]
  },
  {
   "cell_type": "code",
   "execution_count": 4,
   "id": "007cc0be",
   "metadata": {},
   "outputs": [],
   "source": [
    "setID = 'Set006'; nm_to_add = 4370"
   ]
  },
  {
   "cell_type": "code",
   "execution_count": 5,
   "id": "2c2645dd",
   "metadata": {},
   "outputs": [],
   "source": [
    "wd = combine_wd_tables(setID=setID, nm_to_add=nm_to_add)"
   ]
  },
  {
   "cell_type": "code",
   "execution_count": 6,
   "id": "9dced017",
   "metadata": {},
   "outputs": [],
   "source": [
    "df = pd.DataFrame(columns = ['wetdet_delin_number', 'record_ID', 'field', 'cor_type', 'from', 'to'])"
   ]
  },
  {
   "cell_type": "code",
   "execution_count": 7,
   "id": "0d8aa941",
   "metadata": {},
   "outputs": [],
   "source": [
    "ml = 'N'\n",
    "#ml = 'Y'"
   ]
  },
  {
   "cell_type": "code",
   "execution_count": 143,
   "id": "132a44f2",
   "metadata": {},
   "outputs": [],
   "source": [
    "notes = pd.read_csv(os.path.join(inpath + '\\\\output\\\\to_review\\\\', f'review_unmatched_{setID}_r2_{ml}_0.csv'))"
   ]
  },
  {
   "cell_type": "code",
   "execution_count": 145,
   "id": "1a2a8bea",
   "metadata": {},
   "outputs": [
    {
     "data": {
      "text/plain": [
       "array(['WD2022-0656', 'WD2022-0599', 'WD2022-0448', 'WD2022-0489',\n",
       "       'WD2022-0636', 'WD2022-0483', 'WD2022-0436', 'WD2022-0604',\n",
       "       'WD2022-0695', 'WD2022-0474', 'WD2022-0435'], dtype=object)"
      ]
     },
     "execution_count": 145,
     "metadata": {},
     "output_type": "execute_result"
    }
   ],
   "source": [
    "notes.wetdet_delin_number.unique()"
   ]
  },
  {
   "cell_type": "code",
   "execution_count": 9,
   "id": "f4d718ee",
   "metadata": {},
   "outputs": [
    {
     "data": {
      "text/plain": [
       "array(['WD2022-0435', 'WD2022-0656', 'WD2022-0599', 'WD2022-0448',\n",
       "       'WD2022-0636', 'WD2022-0494', 'WD2022-0612', 'WD2022-0489',\n",
       "       'WD2022-0483', 'WD2022-0604', 'WD2022-0695', 'WD2022-0436',\n",
       "       'WD2022-0474'], dtype=object)"
      ]
     },
     "execution_count": 9,
     "metadata": {},
     "output_type": "execute_result"
    }
   ],
   "source": [
    "notes.wetdet_delin_number.unique()"
   ]
  },
  {
   "cell_type": "code",
   "execution_count": 10,
   "id": "2cc47515",
   "metadata": {},
   "outputs": [
    {
     "data": {
      "text/plain": [
       "Index(['wetdet_delin_number', 'trsqq', 'parcel_id', 'county', 'latitude',\n",
       "       'longitude', 'DecisionLink', 'record_ID', 'IDyear', 'correct_type',\n",
       "       'correction', 'cor_trsqq', 'ORTaxlot'],\n",
       "      dtype='object')"
      ]
     },
     "execution_count": 10,
     "metadata": {},
     "output_type": "execute_result"
    }
   ],
   "source": [
    "notes.columns"
   ]
  },
  {
   "cell_type": "code",
   "execution_count": 144,
   "id": "1d769620",
   "metadata": {},
   "outputs": [
    {
     "data": {
      "text/plain": [
       "(11, 13)"
      ]
     },
     "execution_count": 144,
     "metadata": {},
     "output_type": "execute_result"
    }
   ],
   "source": [
    "notes.shape"
   ]
  },
  {
   "cell_type": "code",
   "execution_count": 237,
   "id": "0219935d",
   "metadata": {},
   "outputs": [],
   "source": [
    "i=0"
   ]
  },
  {
   "cell_type": "code",
   "execution_count": 235,
   "id": "58515b77",
   "metadata": {},
   "outputs": [],
   "source": [
    "i = i+1"
   ]
  },
  {
   "cell_type": "code",
   "execution_count": 223,
   "id": "464edc5e",
   "metadata": {},
   "outputs": [
    {
     "data": {
      "text/plain": [
       "9"
      ]
     },
     "execution_count": 223,
     "metadata": {},
     "output_type": "execute_result"
    }
   ],
   "source": [
    "i"
   ]
  },
  {
   "cell_type": "code",
   "execution_count": 238,
   "id": "9ef09850",
   "metadata": {},
   "outputs": [
    {
     "data": {
      "text/plain": [
       "wetdet_delin_number                                          WD2022-0656\n",
       "record_ID                                                           4951\n",
       "trsqq                                                           08S08E00\n",
       "county                                                             Wasco\n",
       "correct_type           township number, range number, range direction...\n",
       "correction             from 08, 08, E, 00 and 00 to 07, 02, W, 28 and C0\n",
       "cor_trsqq                                                     07S02W28C0\n",
       "parcel_id                                                           200p\n",
       "ORTaxlot                                   2407.00S02.00W28C0--000001100\n",
       "Name: 0, dtype: object"
      ]
     },
     "execution_count": 238,
     "metadata": {},
     "output_type": "execute_result"
    }
   ],
   "source": [
    "notes.loc[i, ['wetdet_delin_number', 'record_ID', 'trsqq', 'county', 'correct_type', \n",
    "              'correction', 'cor_trsqq', 'parcel_id', 'ORTaxlot']]"
   ]
  },
  {
   "cell_type": "code",
   "execution_count": 127,
   "id": "ce3f90ff",
   "metadata": {},
   "outputs": [
    {
     "data": {
      "text/plain": [
       "'12S06W12BB'"
      ]
     },
     "execution_count": 127,
     "metadata": {},
     "output_type": "execute_result"
    }
   ],
   "source": [
    "taxlot2trsqq(x='0212.0S06.0W12BB00--000012000')"
   ]
  },
  {
   "cell_type": "code",
   "execution_count": 216,
   "id": "e6524c9d",
   "metadata": {},
   "outputs": [
    {
     "data": {
      "text/plain": [
       "'0832.00S15.00W3200--000000100'"
      ]
     },
     "execution_count": 216,
     "metadata": {},
     "output_type": "execute_result"
    }
   ],
   "source": [
    "create_ORTaxlot(cnt_code=cnt_dict['Curry'], trsqq='32S15W32', lot='100')"
   ]
  },
  {
   "cell_type": "code",
   "execution_count": 217,
   "id": "abee45df",
   "metadata": {},
   "outputs": [
    {
     "data": {
      "text/plain": [
       "False"
      ]
     },
     "execution_count": 217,
     "metadata": {},
     "output_type": "execute_result"
    }
   ],
   "source": [
    "'0832.00S15.00W3200--000000100' in all_txid"
   ]
  },
  {
   "cell_type": "code",
   "execution_count": 266,
   "id": "c056397f",
   "metadata": {},
   "outputs": [
    {
     "data": {
      "text/plain": [
       "True"
      ]
     },
     "execution_count": 266,
     "metadata": {},
     "output_type": "execute_result"
    }
   ],
   "source": [
    "'09S35VE' in trsqq"
   ]
  },
  {
   "cell_type": "code",
   "execution_count": 215,
   "id": "c9841fce",
   "metadata": {},
   "outputs": [
    {
     "data": {
      "text/plain": [
       "'32.00S15.00W3200'"
      ]
     },
     "execution_count": 215,
     "metadata": {},
     "output_type": "execute_result"
    }
   ],
   "source": [
    "convert_trsqq('32S15W32')"
   ]
  },
  {
   "cell_type": "code",
   "execution_count": 31,
   "id": "b8142157",
   "metadata": {},
   "outputs": [
    {
     "data": {
      "text/plain": [
       "Index(['wetdet_delin_number', 'trsqq', 'parcel_id', 'county', 'latitude',\n",
       "       'longitude', 'DecisionLink', 'record_ID', 'IDyear', 'correct_type',\n",
       "       'correction', 'cor_trsqq', 'ORTaxlot'],\n",
       "      dtype='object')"
      ]
     },
     "execution_count": 31,
     "metadata": {},
     "output_type": "execute_result"
    }
   ],
   "source": [
    "notes.columns"
   ]
  },
  {
   "cell_type": "code",
   "execution_count": 46,
   "id": "9215933e",
   "metadata": {},
   "outputs": [
    {
     "name": "stdout",
     "output_type": "stream",
     "text": [
      "https://docs.dsl.state.or.us/PublicReview/ElectronicFile.aspx?docid=3918190&dbid=0\n"
     ]
    }
   ],
   "source": [
    "print(notes.loc[1, 'DecisionLink'])"
   ]
  },
  {
   "cell_type": "code",
   "execution_count": 17,
   "id": "64eeffba",
   "metadata": {
    "scrolled": true
   },
   "outputs": [
    {
     "name": "stdout",
     "output_type": "stream",
     "text": [
      "some lots are not matched, need to review trsqq, the close-match is 08N10W25\n"
     ]
    }
   ],
   "source": [
    "print(notes.loc[i, 'correction'])"
   ]
  },
  {
   "cell_type": "code",
   "execution_count": 227,
   "id": "dc7951ed",
   "metadata": {},
   "outputs": [],
   "source": [
    "wdID = notes.loc[i,'wetdet_delin_number']"
   ]
  },
  {
   "cell_type": "code",
   "execution_count": 399,
   "id": "3ad4215d",
   "metadata": {},
   "outputs": [],
   "source": [
    "wdID = 'WD2020-0012'"
   ]
  },
  {
   "cell_type": "code",
   "execution_count": 228,
   "id": "a55a813b",
   "metadata": {},
   "outputs": [],
   "source": [
    "url = wd.loc[wd.wetdet_delin_number == wdID, 'DecisionLink'].values[0]\n",
    "if str(url) == 'nan':\n",
    "    print('Decision link is not available')\n",
    "else:\n",
    "    webbrowser.open(url)"
   ]
  },
  {
   "cell_type": "code",
   "execution_count": 19,
   "id": "b87e4820",
   "metadata": {},
   "outputs": [
    {
     "data": {
      "text/plain": [
       "<AxesSubplot:>"
      ]
     },
     "execution_count": 19,
     "metadata": {},
     "output_type": "execute_result"
    },
    {
     "data": {
      "image/png": "[encoded data removed]",
      "text/plain": [
       "<Figure size 432x288 with 1 Axes>"
      ]
     },
     "metadata": {
      "needs_background": "light"
     },
     "output_type": "display_data"
    }
   ],
   "source": [
    "all_taxlot[all_taxlot.ORTaxlot==notes.loc[i,'ORTaxlot']].plot()"
   ]
  },
  {
   "cell_type": "code",
   "execution_count": 229,
   "id": "a5891014",
   "metadata": {
    "scrolled": true
   },
   "outputs": [
    {
     "data": {
      "text/html": [
       "<div>\n",
       "<style scoped>\n",
       "    .dataframe tbody tr th:only-of-type {\n",
       "        vertical-align: middle;\n",
       "    }\n",
       "\n",
       "    .dataframe tbody tr th {\n",
       "        vertical-align: top;\n",
       "    }\n",
       "\n",
       "    .dataframe thead th {\n",
       "        text-align: right;\n",
       "    }\n",
       "</style>\n",
       "<table border=\"1\" class=\"dataframe\">\n",
       "  <thead>\n",
       "    <tr style=\"text-align: right;\">\n",
       "      <th></th>\n",
       "      <th>wetdet_delin_number</th>\n",
       "      <th>county</th>\n",
       "      <th>trsqq</th>\n",
       "      <th>parcel_id</th>\n",
       "      <th>latitude</th>\n",
       "      <th>longitude</th>\n",
       "      <th>record_ID</th>\n",
       "      <th>notes</th>\n",
       "    </tr>\n",
       "  </thead>\n",
       "  <tbody>\n",
       "    <tr>\n",
       "      <th>68</th>\n",
       "      <td>WD2022-0435</td>\n",
       "      <td>Clatsop</td>\n",
       "      <td>08N10W25D</td>\n",
       "      <td>700p, Hwy 101 ROW</td>\n",
       "      <td>46.143568</td>\n",
       "      <td>-123.871222</td>\n",
       "      <td>4439</td>\n",
       "      <td>ROW, Partial</td>\n",
       "    </tr>\n",
       "  </tbody>\n",
       "</table>\n",
       "</div>"
      ],
      "text/plain": [
       "   wetdet_delin_number   county      trsqq          parcel_id   latitude  \\\n",
       "68         WD2022-0435  Clatsop  08N10W25D  700p, Hwy 101 ROW  46.143568   \n",
       "\n",
       "     longitude  record_ID         notes  \n",
       "68 -123.871222       4439  ROW, Partial  "
      ]
     },
     "execution_count": 229,
     "metadata": {},
     "output_type": "execute_result"
    }
   ],
   "source": [
    "selcols = ['wetdet_delin_number', 'county', 'trsqq', 'parcel_id', 'latitude', 'longitude', 'record_ID', 'notes']\n",
    "wd.loc[wd.wetdet_delin_number == wdID, selcols]"
   ]
  },
  {
   "cell_type": "code",
   "execution_count": 230,
   "id": "d710fe93",
   "metadata": {},
   "outputs": [
    {
     "data": {
      "text/html": [
       "<div>\n",
       "<style scoped>\n",
       "    .dataframe tbody tr th:only-of-type {\n",
       "        vertical-align: middle;\n",
       "    }\n",
       "\n",
       "    .dataframe tbody tr th {\n",
       "        vertical-align: top;\n",
       "    }\n",
       "\n",
       "    .dataframe thead th {\n",
       "        text-align: right;\n",
       "    }\n",
       "</style>\n",
       "<table border=\"1\" class=\"dataframe\">\n",
       "  <thead>\n",
       "    <tr style=\"text-align: right;\">\n",
       "      <th></th>\n",
       "      <th>Longitude</th>\n",
       "      <th>Latitude</th>\n",
       "      <th>geometry</th>\n",
       "    </tr>\n",
       "  </thead>\n",
       "  <tbody>\n",
       "    <tr>\n",
       "      <th>0</th>\n",
       "      <td>-123.871222</td>\n",
       "      <td>46.143568</td>\n",
       "      <td>POINT (457752.862 1619204.124)</td>\n",
       "    </tr>\n",
       "  </tbody>\n",
       "</table>\n",
       "</div>"
      ],
      "text/plain": [
       "    Longitude   Latitude                        geometry\n",
       "0 -123.871222  46.143568  POINT (457752.862 1619204.124)"
      ]
     },
     "execution_count": 230,
     "metadata": {},
     "output_type": "execute_result"
    }
   ],
   "source": [
    "lon=wd.loc[wd.wetdet_delin_number == wdID, 'longitude'].values[0]\n",
    "lat=wd.loc[wd.wetdet_delin_number == wdID, 'latitude'].values[0]\n",
    "get_point_from_lonlat(lon=lon, lat=lat)"
   ]
  },
  {
   "cell_type": "code",
   "execution_count": 225,
   "id": "e5422688",
   "metadata": {},
   "outputs": [],
   "source": [
    "wd_pt  = get_point_from_lonlat(lon = lon, lat = lat)"
   ]
  },
  {
   "cell_type": "code",
   "execution_count": 99,
   "id": "ee724d32",
   "metadata": {},
   "outputs": [],
   "source": [
    "taxlot = all_taxlot"
   ]
  },
  {
   "cell_type": "code",
   "execution_count": 226,
   "id": "8631cedd",
   "metadata": {},
   "outputs": [],
   "source": [
    "year = 2021"
   ]
  },
  {
   "cell_type": "code",
   "execution_count": 227,
   "id": "8af348b9",
   "metadata": {},
   "outputs": [],
   "source": [
    "tID = extract_taxlot_info(wd_pt = wd_pt, taxlot = taxlot, year = year)"
   ]
  },
  {
   "cell_type": "code",
   "execution_count": 228,
   "id": "2390ed81",
   "metadata": {},
   "outputs": [
    {
     "data": {
      "text/plain": [
       "'3004.00N29.00E06C0--000004601'"
      ]
     },
     "execution_count": 228,
     "metadata": {},
     "output_type": "execute_result"
    }
   ],
   "source": [
    "tID"
   ]
  },
  {
   "cell_type": "code",
   "execution_count": 194,
   "id": "36c7e7bf",
   "metadata": {},
   "outputs": [
    {
     "data": {
      "text/plain": [
       "'QQ'"
      ]
     },
     "execution_count": 194,
     "metadata": {},
     "output_type": "execute_result"
    }
   ],
   "source": [
    "ctyp = notes.loc[i,'correct_type']#.split(' and ')[1]\n",
    "ctyp"
   ]
  },
  {
   "cell_type": "code",
   "execution_count": 85,
   "id": "9aa93248",
   "metadata": {},
   "outputs": [],
   "source": [
    "ctyp = 'QQ'"
   ]
  },
  {
   "cell_type": "code",
   "execution_count": 195,
   "id": "3ca02295",
   "metadata": {
    "scrolled": true
   },
   "outputs": [
    {
     "data": {
      "text/plain": [
       "'from 00 to A0'"
      ]
     },
     "execution_count": 195,
     "metadata": {},
     "output_type": "execute_result"
    }
   ],
   "source": [
    "crt = notes.loc[i,'correction']\n",
    "crt"
   ]
  },
  {
   "cell_type": "code",
   "execution_count": 196,
   "id": "0d4da899",
   "metadata": {},
   "outputs": [
    {
     "data": {
      "text/plain": [
       "['00', 'A0']"
      ]
     },
     "execution_count": 196,
     "metadata": {},
     "output_type": "execute_result"
    }
   ],
   "source": [
    "ft = crt.split('from ')[1].split(' to ')\n",
    "ft"
   ]
  },
  {
   "cell_type": "code",
   "execution_count": 86,
   "id": "168c0db1",
   "metadata": {},
   "outputs": [],
   "source": [
    "ft = ['1N1E33AC', '01N01E33AC']"
   ]
  },
  {
   "cell_type": "code",
   "execution_count": 73,
   "id": "ceef3cd3",
   "metadata": {},
   "outputs": [],
   "source": [
    "ft[0] = '00'"
   ]
  },
  {
   "cell_type": "code",
   "execution_count": 38,
   "id": "f7c4360d",
   "metadata": {},
   "outputs": [],
   "source": [
    "ft[1] = 'DB'"
   ]
  },
  {
   "cell_type": "code",
   "execution_count": 39,
   "id": "d5e01d71",
   "metadata": {
    "scrolled": true
   },
   "outputs": [
    {
     "data": {
      "text/plain": [
       "['Multnomah', 'Washington']"
      ]
     },
     "execution_count": 39,
     "metadata": {},
     "output_type": "execute_result"
    }
   ],
   "source": [
    "ft"
   ]
  },
  {
   "cell_type": "code",
   "execution_count": 517,
   "id": "28a6e03f",
   "metadata": {},
   "outputs": [],
   "source": [
    "f = crt.split('from ')[1].split(' and ')[0]\n",
    "t = crt.split(' to ')[1].split(' and ')[0]"
   ]
  },
  {
   "cell_type": "code",
   "execution_count": 523,
   "id": "6e76a794",
   "metadata": {},
   "outputs": [],
   "source": [
    "f = crt.split(' and ')[1].split(' to ')[0]\n",
    "t = crt.split(' and ')[2]"
   ]
  },
  {
   "cell_type": "code",
   "execution_count": 524,
   "id": "0a4ea532",
   "metadata": {},
   "outputs": [
    {
     "name": "stdout",
     "output_type": "stream",
     "text": [
      "Q VE\n"
     ]
    }
   ],
   "source": [
    "print(f, t)"
   ]
  },
  {
   "cell_type": "code",
   "execution_count": 231,
   "id": "d51acc68",
   "metadata": {},
   "outputs": [
    {
     "data": {
      "text/plain": [
       "4439"
      ]
     },
     "execution_count": 231,
     "metadata": {},
     "output_type": "execute_result"
    }
   ],
   "source": [
    "rID = notes.loc[i,'record_ID']\n",
    "rID"
   ]
  },
  {
   "cell_type": "code",
   "execution_count": 267,
   "id": "9a976998",
   "metadata": {},
   "outputs": [],
   "source": [
    "df = pd.read_csv(os.path.join(inpath + '\\\\output\\\\to_review\\\\', f'unmatched_df_{setID}_r2_{ml}_notes.csv'))"
   ]
  },
  {
   "cell_type": "code",
   "execution_count": 271,
   "id": "413317c7",
   "metadata": {},
   "outputs": [
    {
     "data": {
      "text/plain": [
       "'09S35VE00'"
      ]
     },
     "execution_count": 271,
     "metadata": {},
     "output_type": "execute_result"
    }
   ],
   "source": [
    "'09S35.5E00'.replace(df.loc[3, 'from'], df.loc[3, 'to'])"
   ]
  },
  {
   "cell_type": "code",
   "execution_count": 162,
   "id": "9f9d7030",
   "metadata": {},
   "outputs": [],
   "source": [
    "df = df.append({'wetdet_delin_number': wdID, 'record_ID': rID, 'field': 'trsqq', 'cor_type': 'range direction', 'from': '.5', 'to': 'V'},\n",
    "        ignore_index = True)"
   ]
  },
  {
   "cell_type": "code",
   "execution_count": 232,
   "id": "07374659",
   "metadata": {},
   "outputs": [],
   "source": [
    "df = df.append({'wetdet_delin_number': wdID, 'record_ID': rID, 'field': 'trsqq', 'cor_type': 'QQ', 'from': 'D0', 'to': '00'},\n",
    "        ignore_index = True)"
   ]
  },
  {
   "cell_type": "code",
   "execution_count": 198,
   "id": "b24eb3be",
   "metadata": {},
   "outputs": [],
   "source": [
    "df = df.append({'wetdet_delin_number': wdID, 'record_ID': rID, 'field': 'trsqq', 'cor_type': ctyp, 'from': ft[0], 'to': ft[1]},\n",
    "        ignore_index = True)"
   ]
  },
  {
   "cell_type": "code",
   "execution_count": 59,
   "id": "88721252",
   "metadata": {},
   "outputs": [],
   "source": [
    "df = df.append({'wetdet_delin_number': wdID, 'record_ID': rID, 'field': 'county', 'cor_type': ctyp, 'from': ft[0], 'to': ft[1]},\n",
    "        ignore_index = True)"
   ]
  },
  {
   "cell_type": "code",
   "execution_count": 47,
   "id": "92c4878c",
   "metadata": {},
   "outputs": [],
   "source": [
    "df = df.append({'wetdet_delin_number': wdID, 'record_ID': rID, 'field': 'parcel_id', 'cor_type': 'parcel id', 'from': '102,103', 'to': '100'},\n",
    "        ignore_index = True)"
   ]
  },
  {
   "cell_type": "code",
   "execution_count": 525,
   "id": "ed8d3195",
   "metadata": {},
   "outputs": [],
   "source": [
    "df = df.append({'wetdet_delin_number': wdID, 'record_ID': rID, 'field': 'trsqq', 'cor_type': ctyp, 'from': f, 'to': t},\n",
    "        ignore_index = True)"
   ]
  },
  {
   "cell_type": "code",
   "execution_count": 597,
   "id": "51fedf38",
   "metadata": {},
   "outputs": [],
   "source": [
    "df = df.append({'wetdet_delin_number': wdID, 'record_ID': rID, 'field': 'county', 'cor_type': 'county', 'from': 'Benton', 'to': 'Polk'},\n",
    "        ignore_index = True)"
   ]
  },
  {
   "cell_type": "code",
   "execution_count": 233,
   "id": "168bf084",
   "metadata": {},
   "outputs": [
    {
     "data": {
      "text/html": [
       "<div>\n",
       "<style scoped>\n",
       "    .dataframe tbody tr th:only-of-type {\n",
       "        vertical-align: middle;\n",
       "    }\n",
       "\n",
       "    .dataframe tbody tr th {\n",
       "        vertical-align: top;\n",
       "    }\n",
       "\n",
       "    .dataframe thead th {\n",
       "        text-align: right;\n",
       "    }\n",
       "</style>\n",
       "<table border=\"1\" class=\"dataframe\">\n",
       "  <thead>\n",
       "    <tr style=\"text-align: right;\">\n",
       "      <th></th>\n",
       "      <th>wetdet_delin_number</th>\n",
       "      <th>record_ID</th>\n",
       "      <th>field</th>\n",
       "      <th>cor_type</th>\n",
       "      <th>from</th>\n",
       "      <th>to</th>\n",
       "    </tr>\n",
       "  </thead>\n",
       "  <tbody>\n",
       "    <tr>\n",
       "      <th>0</th>\n",
       "      <td>WD2022-0435</td>\n",
       "      <td>4439</td>\n",
       "      <td>trsqq</td>\n",
       "      <td>QQ</td>\n",
       "      <td>D</td>\n",
       "      <td>0</td>\n",
       "    </tr>\n",
       "    <tr>\n",
       "      <th>1</th>\n",
       "      <td>WD2022-0448</td>\n",
       "      <td>4666</td>\n",
       "      <td>parcel_id</td>\n",
       "      <td>parcel id</td>\n",
       "      <td>102,103</td>\n",
       "      <td>100</td>\n",
       "    </tr>\n",
       "    <tr>\n",
       "      <th>2</th>\n",
       "      <td>WD2022-0636</td>\n",
       "      <td>4773</td>\n",
       "      <td>county</td>\n",
       "      <td>county</td>\n",
       "      <td>Marion</td>\n",
       "      <td>Linn</td>\n",
       "    </tr>\n",
       "    <tr>\n",
       "      <th>3</th>\n",
       "      <td>WD2022-0489</td>\n",
       "      <td>4509</td>\n",
       "      <td>trsqq</td>\n",
       "      <td>range direction</td>\n",
       "      <td>.5</td>\n",
       "      <td>V</td>\n",
       "    </tr>\n",
       "    <tr>\n",
       "      <th>4</th>\n",
       "      <td>WD2022-0483</td>\n",
       "      <td>4475</td>\n",
       "      <td>trsqq</td>\n",
       "      <td>QQ</td>\n",
       "      <td>DC</td>\n",
       "      <td>00</td>\n",
       "    </tr>\n",
       "    <tr>\n",
       "      <th>5</th>\n",
       "      <td>WD2022-0436</td>\n",
       "      <td>4845</td>\n",
       "      <td>trsqq</td>\n",
       "      <td>section number</td>\n",
       "      <td>28</td>\n",
       "      <td>00</td>\n",
       "    </tr>\n",
       "    <tr>\n",
       "      <th>6</th>\n",
       "      <td>WD2022-0604</td>\n",
       "      <td>4635</td>\n",
       "      <td>trsqq</td>\n",
       "      <td>QQ</td>\n",
       "      <td>00</td>\n",
       "      <td>A0</td>\n",
       "    </tr>\n",
       "    <tr>\n",
       "      <th>7</th>\n",
       "      <td>WD2022-0695</td>\n",
       "      <td>4674</td>\n",
       "      <td>trsqq</td>\n",
       "      <td>QQ</td>\n",
       "      <td>00</td>\n",
       "      <td>A0</td>\n",
       "    </tr>\n",
       "    <tr>\n",
       "      <th>8</th>\n",
       "      <td>WD2022-0474</td>\n",
       "      <td>4468</td>\n",
       "      <td>trsqq</td>\n",
       "      <td>QQ</td>\n",
       "      <td>00</td>\n",
       "      <td>C0</td>\n",
       "    </tr>\n",
       "    <tr>\n",
       "      <th>9</th>\n",
       "      <td>WD2022-0435</td>\n",
       "      <td>4439</td>\n",
       "      <td>trsqq</td>\n",
       "      <td>QQ</td>\n",
       "      <td>D0</td>\n",
       "      <td>00</td>\n",
       "    </tr>\n",
       "  </tbody>\n",
       "</table>\n",
       "</div>"
      ],
      "text/plain": [
       "  wetdet_delin_number  record_ID      field         cor_type     from    to\n",
       "0         WD2022-0435       4439      trsqq               QQ        D     0\n",
       "1         WD2022-0448       4666  parcel_id        parcel id  102,103   100\n",
       "2         WD2022-0636       4773     county           county   Marion  Linn\n",
       "3         WD2022-0489       4509      trsqq  range direction       .5     V\n",
       "4         WD2022-0483       4475      trsqq               QQ       DC    00\n",
       "5         WD2022-0436       4845      trsqq   section number       28    00\n",
       "6         WD2022-0604       4635      trsqq               QQ       00    A0\n",
       "7         WD2022-0695       4674      trsqq               QQ       00    A0\n",
       "8         WD2022-0474       4468      trsqq               QQ       00    C0\n",
       "9         WD2022-0435       4439      trsqq               QQ       D0    00"
      ]
     },
     "execution_count": 233,
     "metadata": {},
     "output_type": "execute_result"
    }
   ],
   "source": [
    "df"
   ]
  },
  {
   "cell_type": "code",
   "execution_count": 169,
   "id": "b77770ef",
   "metadata": {},
   "outputs": [
    {
     "data": {
      "text/html": [
       "<div>\n",
       "<style scoped>\n",
       "    .dataframe tbody tr th:only-of-type {\n",
       "        vertical-align: middle;\n",
       "    }\n",
       "\n",
       "    .dataframe tbody tr th {\n",
       "        vertical-align: top;\n",
       "    }\n",
       "\n",
       "    .dataframe thead th {\n",
       "        text-align: right;\n",
       "    }\n",
       "</style>\n",
       "<table border=\"1\" class=\"dataframe\">\n",
       "  <thead>\n",
       "    <tr style=\"text-align: right;\">\n",
       "      <th></th>\n",
       "      <th>wetdet_delin_number</th>\n",
       "      <th>record_ID</th>\n",
       "      <th>field</th>\n",
       "      <th>cor_type</th>\n",
       "      <th>from</th>\n",
       "      <th>to</th>\n",
       "    </tr>\n",
       "  </thead>\n",
       "  <tbody>\n",
       "    <tr>\n",
       "      <th>0</th>\n",
       "      <td>WD2021-0038</td>\n",
       "      <td>4263</td>\n",
       "      <td>trsqq</td>\n",
       "      <td>section number</td>\n",
       "      <td>06</td>\n",
       "      <td>00</td>\n",
       "    </tr>\n",
       "  </tbody>\n",
       "</table>\n",
       "</div>"
      ],
      "text/plain": [
       "  wetdet_delin_number record_ID  field        cor_type from  to\n",
       "0         WD2021-0038      4263  trsqq  section number   06  00"
      ]
     },
     "execution_count": 169,
     "metadata": {},
     "output_type": "execute_result"
    }
   ],
   "source": [
    "df.head()"
   ]
  },
  {
   "cell_type": "code",
   "execution_count": 70,
   "id": "c1e39272",
   "metadata": {},
   "outputs": [],
   "source": [
    "df.loc[2, 'field'] = 'parcel_id'"
   ]
  },
  {
   "cell_type": "code",
   "execution_count": 234,
   "id": "3aeecdf0",
   "metadata": {},
   "outputs": [],
   "source": [
    "df.to_csv(os.path.join(inpath + '\\\\output\\\\to_review\\\\', f'unmatched_df_{setID}_r2_{ml}_notes.csv'), index=False)"
   ]
  },
  {
   "cell_type": "code",
   "execution_count": 171,
   "id": "5d3f8a8a",
   "metadata": {},
   "outputs": [
    {
     "data": {
      "text/plain": [
       "(1, 6)"
      ]
     },
     "execution_count": 171,
     "metadata": {},
     "output_type": "execute_result"
    }
   ],
   "source": [
    "df.shape"
   ]
  },
  {
   "cell_type": "code",
   "execution_count": null,
   "id": "76d2ab63",
   "metadata": {},
   "outputs": [],
   "source": [
    "09S35V5E00"
   ]
  },
  {
   "cell_type": "code",
   "execution_count": 239,
   "id": "0a060bcc",
   "metadata": {},
   "outputs": [],
   "source": [
    "r1df = pd.read_csv(os.path.join(inpath + f'\\\\output\\\\to_review\\\\unmatched_df_{setID}_r1_N.csv'))"
   ]
  },
  {
   "cell_type": "code",
   "execution_count": 215,
   "id": "462a4794",
   "metadata": {},
   "outputs": [
    {
     "data": {
      "text/plain": [
       "Index(['wetdet_delin_number', 'trsqq', 'parcel_id', 'address_location_desc',\n",
       "       'city', 'county', 'site_name', 'site_desc', 'latitude', 'longitude',\n",
       "       'DocumentName', 'DecisionLink', 'is_batch_file', 'status_name',\n",
       "       'received_date', 'Coord-Source', 'response_date',\n",
       "       'reissuance_response_date', 'project_id', 'site_id', 'record_ID',\n",
       "       'notes', 'recyear', 'IDyear', 'missinglot'],\n",
       "      dtype='object')"
      ]
     },
     "execution_count": 215,
     "metadata": {},
     "output_type": "execute_result"
    }
   ],
   "source": [
    "r1df.columns"
   ]
  },
  {
   "cell_type": "code",
   "execution_count": 240,
   "id": "12923021",
   "metadata": {},
   "outputs": [],
   "source": [
    "wdIDs = r1df.wetdet_delin_number.unique()"
   ]
  },
  {
   "cell_type": "code",
   "execution_count": 260,
   "id": "6457a5bc",
   "metadata": {},
   "outputs": [
    {
     "data": {
      "text/plain": [
       "array(['WD2022-0398'], dtype=object)"
      ]
     },
     "execution_count": 260,
     "metadata": {},
     "output_type": "execute_result"
    }
   ],
   "source": [
    "wdIDs"
   ]
  },
  {
   "cell_type": "code",
   "execution_count": 261,
   "id": "f3569144",
   "metadata": {},
   "outputs": [],
   "source": [
    "i = 0"
   ]
  },
  {
   "cell_type": "code",
   "execution_count": 258,
   "id": "a82eb3b6",
   "metadata": {},
   "outputs": [],
   "source": [
    "i = i + 1"
   ]
  },
  {
   "cell_type": "code",
   "execution_count": 89,
   "id": "9effe996",
   "metadata": {},
   "outputs": [
    {
     "data": {
      "text/plain": [
       "5"
      ]
     },
     "execution_count": 89,
     "metadata": {},
     "output_type": "execute_result"
    }
   ],
   "source": [
    "i"
   ]
  },
  {
   "cell_type": "code",
   "execution_count": 243,
   "id": "0fc1fdbf",
   "metadata": {},
   "outputs": [],
   "source": [
    "# need to create the notes first\n",
    "#df = pd.read_csv(os.path.join(inpath + '\\\\output\\\\to_review\\\\', f'unmatched_df_{setID}_r1_{ml}_notes.csv'))"
   ]
  },
  {
   "cell_type": "code",
   "execution_count": 262,
   "id": "37e24f76",
   "metadata": {},
   "outputs": [
    {
     "data": {
      "text/html": [
       "<div>\n",
       "<style scoped>\n",
       "    .dataframe tbody tr th:only-of-type {\n",
       "        vertical-align: middle;\n",
       "    }\n",
       "\n",
       "    .dataframe tbody tr th {\n",
       "        vertical-align: top;\n",
       "    }\n",
       "\n",
       "    .dataframe thead th {\n",
       "        text-align: right;\n",
       "    }\n",
       "</style>\n",
       "<table border=\"1\" class=\"dataframe\">\n",
       "  <thead>\n",
       "    <tr style=\"text-align: right;\">\n",
       "      <th></th>\n",
       "      <th>wetdet_delin_number</th>\n",
       "      <th>trsqq</th>\n",
       "      <th>parcel_id</th>\n",
       "      <th>county</th>\n",
       "      <th>latitude</th>\n",
       "      <th>longitude</th>\n",
       "      <th>record_ID</th>\n",
       "    </tr>\n",
       "  </thead>\n",
       "  <tbody>\n",
       "    <tr>\n",
       "      <th>0</th>\n",
       "      <td>WD2022-0398</td>\n",
       "      <td>01S24ED01</td>\n",
       "      <td>902,903,1001p,1002p,1009p,2300,2301,2302p</td>\n",
       "      <td>Morrow</td>\n",
       "      <td>45.500892</td>\n",
       "      <td>-119.834938</td>\n",
       "      <td>4871</td>\n",
       "    </tr>\n",
       "    <tr>\n",
       "      <th>1</th>\n",
       "      <td>WD2022-0398</td>\n",
       "      <td>01S24ED01</td>\n",
       "      <td>2303p,4204p,2500,4600,ROW</td>\n",
       "      <td>Morrow</td>\n",
       "      <td>45.500892</td>\n",
       "      <td>-119.834938</td>\n",
       "      <td>4860</td>\n",
       "    </tr>\n",
       "  </tbody>\n",
       "</table>\n",
       "</div>"
      ],
      "text/plain": [
       "  wetdet_delin_number      trsqq                                  parcel_id  \\\n",
       "0         WD2022-0398  01S24ED01  902,903,1001p,1002p,1009p,2300,2301,2302p   \n",
       "1         WD2022-0398  01S24ED01                  2303p,4204p,2500,4600,ROW   \n",
       "\n",
       "   county   latitude   longitude  record_ID  \n",
       "0  Morrow  45.500892 -119.834938       4871  \n",
       "1  Morrow  45.500892 -119.834938       4860  "
      ]
     },
     "execution_count": 262,
     "metadata": {},
     "output_type": "execute_result"
    }
   ],
   "source": [
    "r1df.loc[r1df.wetdet_delin_number == wdIDs[i], ['wetdet_delin_number', 'trsqq', 'parcel_id', 'county', \n",
    "                                                'latitude', 'longitude', 'record_ID']]"
   ]
  },
  {
   "cell_type": "code",
   "execution_count": 245,
   "id": "86eabd8f",
   "metadata": {},
   "outputs": [],
   "source": [
    "url = r1df.loc[r1df.wetdet_delin_number == wdIDs[i], 'DecisionLink'].values[0]\n",
    "if str(url) == 'nan':\n",
    "    print('Decision link is not available')\n",
    "else:\n",
    "    webbrowser.open(url)"
   ]
  },
  {
   "cell_type": "code",
   "execution_count": 246,
   "id": "1d0a66e5",
   "metadata": {},
   "outputs": [],
   "source": [
    "j=0"
   ]
  },
  {
   "cell_type": "code",
   "execution_count": 247,
   "id": "232e50d2",
   "metadata": {},
   "outputs": [],
   "source": [
    "sel = r1df.wetdet_delin_number == wdIDs[i]"
   ]
  },
  {
   "cell_type": "code",
   "execution_count": 254,
   "id": "d503d061",
   "metadata": {},
   "outputs": [],
   "source": [
    "j = j + 1"
   ]
  },
  {
   "cell_type": "code",
   "execution_count": 427,
   "id": "8e4fce3f",
   "metadata": {},
   "outputs": [
    {
     "data": {
      "text/plain": [
       "1"
      ]
     },
     "execution_count": 427,
     "metadata": {},
     "output_type": "execute_result"
    }
   ],
   "source": [
    "j"
   ]
  },
  {
   "cell_type": "code",
   "execution_count": 248,
   "id": "99b38a72",
   "metadata": {},
   "outputs": [
    {
     "name": "stdout",
     "output_type": "stream",
     "text": [
      "reviewing WD2022-0398\n",
      "there is not any matched lot, need to review trsqq, the close-match is 01S24E\n",
      "lots to check: ['1001', '1002', '1009', '2300', '2301', '2302', '902', '903'], and lots to compare: ['100', '101', '102', '200', '300', '400', '401', '402', '403', '406', '499', '500', '600', '700', '701', '702', '800', '1000', '1003', '1004', '1005', '1006', '1007', '1008', '1100', '1101', '1102', '1200', '1300', '1301', '1400', '1500', '1701', '1900', '2000', '2100', '2400', '2500', '2700', '2701', '2702', '2703', '2705', '2800', '3000', '3200', '3300', '3301', '3302', '3400', '3500', '3501', '3502', '3503', '3600', '3700', '3800', '3900', '3901', '4000', '4100', '4101', '4102', '4201', '4202', '4205', '4700', 'ROADS', 'D00100900', 'D00100901', 'D00100902', 'D00100903', 'D00100904', 'D00101001', 'D00101002', 'D00101009', 'D00102300', 'D00102301', 'D00102302', 'D00102303', 'D00104204', 'D00104300', 'D00104400', 'D00104500', 'D00104600', 'ROADS']\n",
      "('to review', 'there is not any matched lot, need to review trsqq, the close-match is 01S24E')\n"
     ]
    }
   ],
   "source": [
    "crt = review_wd_record_w_coord(wd_id=wdIDs[i], \n",
    "                         county_to_check=r1df.loc[sel, 'county'].values[j], \n",
    "                         trsqq_to_check=r1df.loc[sel, 'trsqq'].values[j], \n",
    "                         parcel_IDs_to_check=r1df.loc[sel, 'parcel_id'].values[j], \n",
    "                         lon=r1df.loc[sel, 'longitude'].values[j], \n",
    "                         lat=r1df.loc[sel, 'latitude'].values[j], \n",
    "                         taxlot=all_taxlot, \n",
    "                         year=r1df.loc[sel, 'IDyear'].values[j])\n",
    "print(crt)"
   ]
  },
  {
   "cell_type": "code",
   "execution_count": 249,
   "id": "8d2053ed",
   "metadata": {},
   "outputs": [
    {
     "data": {
      "text/html": [
       "<div>\n",
       "<style scoped>\n",
       "    .dataframe tbody tr th:only-of-type {\n",
       "        vertical-align: middle;\n",
       "    }\n",
       "\n",
       "    .dataframe tbody tr th {\n",
       "        vertical-align: top;\n",
       "    }\n",
       "\n",
       "    .dataframe thead th {\n",
       "        text-align: right;\n",
       "    }\n",
       "</style>\n",
       "<table border=\"1\" class=\"dataframe\">\n",
       "  <thead>\n",
       "    <tr style=\"text-align: right;\">\n",
       "      <th></th>\n",
       "      <th>Longitude</th>\n",
       "      <th>Latitude</th>\n",
       "      <th>geometry</th>\n",
       "    </tr>\n",
       "  </thead>\n",
       "  <tbody>\n",
       "    <tr>\n",
       "      <th>0</th>\n",
       "      <td>-119.827373</td>\n",
       "      <td>45.50019</td>\n",
       "      <td>POINT (1484811.706 1367715.651)</td>\n",
       "    </tr>\n",
       "  </tbody>\n",
       "</table>\n",
       "</div>"
      ],
      "text/plain": [
       "    Longitude  Latitude                         geometry\n",
       "0 -119.827373  45.50019  POINT (1484811.706 1367715.651)"
      ]
     },
     "execution_count": 249,
     "metadata": {},
     "output_type": "execute_result"
    }
   ],
   "source": [
    "lon=wd.loc[wd.wetdet_delin_number == wdIDs[i], 'longitude'].values[0]\n",
    "lat=wd.loc[wd.wetdet_delin_number == wdIDs[i], 'latitude'].values[0]\n",
    "get_point_from_lonlat(lon=lon, lat=lat)"
   ]
  },
  {
   "cell_type": "code",
   "execution_count": 250,
   "id": "b1f80d66",
   "metadata": {},
   "outputs": [
    {
     "data": {
      "text/html": [
       "<div>\n",
       "<style scoped>\n",
       "    .dataframe tbody tr th:only-of-type {\n",
       "        vertical-align: middle;\n",
       "    }\n",
       "\n",
       "    .dataframe tbody tr th {\n",
       "        vertical-align: top;\n",
       "    }\n",
       "\n",
       "    .dataframe thead th {\n",
       "        text-align: right;\n",
       "    }\n",
       "</style>\n",
       "<table border=\"1\" class=\"dataframe\">\n",
       "  <thead>\n",
       "    <tr style=\"text-align: right;\">\n",
       "      <th></th>\n",
       "      <th>Longitude</th>\n",
       "      <th>Latitude</th>\n",
       "      <th>geometry</th>\n",
       "    </tr>\n",
       "  </thead>\n",
       "  <tbody>\n",
       "    <tr>\n",
       "      <th>0</th>\n",
       "      <td>-119.834938</td>\n",
       "      <td>45.500892</td>\n",
       "      <td>POINT (1482869.862 1367955.825)</td>\n",
       "    </tr>\n",
       "  </tbody>\n",
       "</table>\n",
       "</div>"
      ],
      "text/plain": [
       "    Longitude   Latitude                         geometry\n",
       "0 -119.834938  45.500892  POINT (1482869.862 1367955.825)"
      ]
     },
     "execution_count": 250,
     "metadata": {},
     "output_type": "execute_result"
    }
   ],
   "source": [
    "lat=45.500892\n",
    "lon=-119.834938\n",
    "get_point_from_lonlat(lon=lon, lat=lat)"
   ]
  },
  {
   "cell_type": "code",
   "execution_count": 419,
   "id": "a9e489bf",
   "metadata": {},
   "outputs": [
    {
     "data": {
      "text/plain": [
       "('range direction and section number', 'from E and 13 to EA and 0')"
      ]
     },
     "execution_count": 419,
     "metadata": {},
     "output_type": "execute_result"
    }
   ],
   "source": [
    "crt"
   ]
  },
  {
   "cell_type": "code",
   "execution_count": 415,
   "id": "83ae6626",
   "metadata": {},
   "outputs": [],
   "source": [
    "corrected_trsqq = '05N29EB0'"
   ]
  },
  {
   "cell_type": "code",
   "execution_count": 416,
   "id": "bfa1cc06",
   "metadata": {},
   "outputs": [
    {
     "data": {
      "text/plain": [
       "True"
      ]
     },
     "execution_count": 416,
     "metadata": {},
     "output_type": "execute_result"
    }
   ],
   "source": [
    "corrected_trsqq in trsqq"
   ]
  },
  {
   "cell_type": "code",
   "execution_count": 27,
   "id": "a4cba5c9",
   "metadata": {},
   "outputs": [],
   "source": [
    "txid = create_ORTaxlot(cnt_code=cnt_dict[r1df.loc[sel, 'county'].values[j]], \n",
    "                trsqq=corrected_trsqq, \n",
    "                lot=r1df.loc[sel, 'parcel_id'].values[j])"
   ]
  },
  {
   "cell_type": "code",
   "execution_count": 29,
   "id": "9709d4d3",
   "metadata": {},
   "outputs": [
    {
     "data": {
      "text/plain": [
       "True"
      ]
     },
     "execution_count": 29,
     "metadata": {},
     "output_type": "execute_result"
    }
   ],
   "source": [
    "txid in all_taxlot.ORTaxlot.values"
   ]
  },
  {
   "cell_type": "code",
   "execution_count": 30,
   "id": "4d37ca87",
   "metadata": {},
   "outputs": [
    {
     "data": {
      "text/plain": [
       "<AxesSubplot:>"
      ]
     },
     "execution_count": 30,
     "metadata": {},
     "output_type": "execute_result"
    },
    {
     "data": {
      "image/png": "[encoded data removed]",
      "text/plain": [
       "<Figure size 432x288 with 1 Axes>"
      ]
     },
     "metadata": {
      "needs_background": "light"
     },
     "output_type": "display_data"
    }
   ],
   "source": [
    "all_taxlot[all_taxlot.ORTaxlot==txid].plot()"
   ]
  },
  {
   "cell_type": "code",
   "execution_count": 251,
   "id": "699cc20c",
   "metadata": {},
   "outputs": [],
   "source": [
    "df = pd.DataFrame(columns = ['wetdet_delin_number', 'record_ID', 'field', 'cor_type', 'from', 'to'])"
   ]
  },
  {
   "cell_type": "code",
   "execution_count": 80,
   "id": "037fd401",
   "metadata": {},
   "outputs": [
    {
     "name": "stdout",
     "output_type": "stream",
     "text": [
      "['00', 'B0']\n"
     ]
    }
   ],
   "source": [
    "ft = crt[1].split('from ')[1].split(' to ')\n",
    "print(ft)"
   ]
  },
  {
   "cell_type": "code",
   "execution_count": 73,
   "id": "efbc2870",
   "metadata": {},
   "outputs": [
    {
     "data": {
      "text/plain": [
       "'WD2020-0195'"
      ]
     },
     "execution_count": 73,
     "metadata": {},
     "output_type": "execute_result"
    }
   ],
   "source": [
    "wdIDs[i]"
   ]
  },
  {
   "cell_type": "code",
   "execution_count": 256,
   "id": "87666fb8",
   "metadata": {},
   "outputs": [],
   "source": [
    "df = df.append({'wetdet_delin_number': wdIDs[i],\n",
    "                'record_ID': r1df.loc[sel, 'record_ID'].values[j],\n",
    "                'field': 'trsqq', \n",
    "                'cor_type': 'QQ', \n",
    "                'from': '10', \n",
    "                'to': '00'},\n",
    "        ignore_index = True)"
   ]
  },
  {
   "cell_type": "code",
   "execution_count": 86,
   "id": "8c14970e",
   "metadata": {},
   "outputs": [],
   "source": [
    "df = df.append({'wetdet_delin_number': wdIDs[i],\n",
    "                'record_ID': r1df.loc[sel, 'record_ID'].values[j],\n",
    "                'field': 'trsqq', \n",
    "                'cor_type': crt[0], \n",
    "                'from': ft[0], \n",
    "                'to': ft[1]},\n",
    "        ignore_index = True)"
   ]
  },
  {
   "cell_type": "code",
   "execution_count": 257,
   "id": "d17298ba",
   "metadata": {},
   "outputs": [
    {
     "data": {
      "text/html": [
       "<div>\n",
       "<style scoped>\n",
       "    .dataframe tbody tr th:only-of-type {\n",
       "        vertical-align: middle;\n",
       "    }\n",
       "\n",
       "    .dataframe tbody tr th {\n",
       "        vertical-align: top;\n",
       "    }\n",
       "\n",
       "    .dataframe thead th {\n",
       "        text-align: right;\n",
       "    }\n",
       "</style>\n",
       "<table border=\"1\" class=\"dataframe\">\n",
       "  <thead>\n",
       "    <tr style=\"text-align: right;\">\n",
       "      <th></th>\n",
       "      <th>wetdet_delin_number</th>\n",
       "      <th>record_ID</th>\n",
       "      <th>field</th>\n",
       "      <th>cor_type</th>\n",
       "      <th>from</th>\n",
       "      <th>to</th>\n",
       "    </tr>\n",
       "  </thead>\n",
       "  <tbody>\n",
       "    <tr>\n",
       "      <th>0</th>\n",
       "      <td>WD2022-0398</td>\n",
       "      <td>4871</td>\n",
       "      <td>trsqq</td>\n",
       "      <td>section number</td>\n",
       "      <td>D0</td>\n",
       "      <td>00</td>\n",
       "    </tr>\n",
       "    <tr>\n",
       "      <th>1</th>\n",
       "      <td>WD2022-0398</td>\n",
       "      <td>4871</td>\n",
       "      <td>trsqq</td>\n",
       "      <td>QQ</td>\n",
       "      <td>10</td>\n",
       "      <td>00</td>\n",
       "    </tr>\n",
       "    <tr>\n",
       "      <th>2</th>\n",
       "      <td>WD2022-0398</td>\n",
       "      <td>4860</td>\n",
       "      <td>trsqq</td>\n",
       "      <td>section number</td>\n",
       "      <td>D0</td>\n",
       "      <td>00</td>\n",
       "    </tr>\n",
       "    <tr>\n",
       "      <th>3</th>\n",
       "      <td>WD2022-0398</td>\n",
       "      <td>4860</td>\n",
       "      <td>trsqq</td>\n",
       "      <td>QQ</td>\n",
       "      <td>10</td>\n",
       "      <td>00</td>\n",
       "    </tr>\n",
       "  </tbody>\n",
       "</table>\n",
       "</div>"
      ],
      "text/plain": [
       "  wetdet_delin_number record_ID  field        cor_type from  to\n",
       "0         WD2022-0398      4871  trsqq  section number   D0  00\n",
       "1         WD2022-0398      4871  trsqq              QQ   10  00\n",
       "2         WD2022-0398      4860  trsqq  section number   D0  00\n",
       "3         WD2022-0398      4860  trsqq              QQ   10  00"
      ]
     },
     "execution_count": 257,
     "metadata": {},
     "output_type": "execute_result"
    }
   ],
   "source": [
    "df"
   ]
  },
  {
   "cell_type": "code",
   "execution_count": 263,
   "id": "cc0aca04",
   "metadata": {},
   "outputs": [],
   "source": [
    "ml = 'N'"
   ]
  },
  {
   "cell_type": "code",
   "execution_count": 264,
   "id": "a2d896f7",
   "metadata": {},
   "outputs": [],
   "source": [
    "df.to_csv(os.path.join(inpath + '\\\\output\\\\to_review\\\\', f'unmatched_df_{setID}_r1_{ml}_notes.csv'), index=False)"
   ]
  }
 ],
 "metadata": {
  "kernelspec": {
   "display_name": "Python 3",
   "language": "python",
   "name": "python3"
  },
  "language_info": {
   "codemirror_mode": {
    "name": "ipython",
    "version": 3
   },
   "file_extension": ".py",
   "mimetype": "text/x-python",
   "name": "python",
   "nbconvert_exporter": "python",
   "pygments_lexer": "ipython3",
   "version": "3.8.8"
  }
 },
 "nbformat": 4,
 "nbformat_minor": 5
}
