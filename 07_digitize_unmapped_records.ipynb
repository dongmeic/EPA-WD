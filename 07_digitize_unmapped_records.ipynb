{
 "cells": [
  {
   "cell_type": "code",
   "execution_count": 1,
   "id": "82c527cb",
   "metadata": {},
   "outputs": [],
   "source": [
    "%load_ext autoreload\n",
    "%autoreload 2"
   ]
  },
  {
   "cell_type": "code",
   "execution_count": 2,
   "id": "4b091c40",
   "metadata": {},
   "outputs": [],
   "source": [
    "from wdtools import *"
   ]
  },
  {
   "cell_type": "code",
   "execution_count": 3,
   "id": "d1a4fa3a",
   "metadata": {},
   "outputs": [],
   "source": [
    "setID = 'Set002'; nm_to_add=1420"
   ]
  },
  {
   "cell_type": "code",
   "execution_count": 4,
   "id": "2b0f92e4",
   "metadata": {},
   "outputs": [],
   "source": [
    "wd = combine_wd_tables(setID=setID, nm_to_add=nm_to_add)"
   ]
  },
  {
   "cell_type": "code",
   "execution_count": 5,
   "id": "ce012158",
   "metadata": {},
   "outputs": [],
   "source": [
    "toCheck_df = wd[wd.wetdet_delin_number.isin(['WD2017-0198', 'WD2017-0229', 'WD2019-0082'])]"
   ]
  },
  {
   "cell_type": "code",
   "execution_count": 6,
   "id": "f2cf5f09",
   "metadata": {},
   "outputs": [
    {
     "name": "stdout",
     "output_type": "stream",
     "text": [
      "0.0% digitized, 3 records remained, expected to be done in about 2 hours...\n",
      "WD2017-0229\n",
      "index = 3\n",
      "     county     trsqq                   parcel_id   latitude   longitude  \\\n",
      "2     Baker  07S40E00  Many tax maps and tax lots  45.831088 -119.623309   \n",
      "3     Baker  10S40E00  Many tax maps and tax lots  45.831088 -119.623309   \n",
      "4     Baker  09S41E00  Many tax maps and tax lots  45.831088 -119.623309   \n",
      "5     Baker  09S40E00  Many tax maps and tax lots  45.831088 -119.623309   \n",
      "6     Baker  08S40E00  Many tax maps and tax lots  45.831088 -119.623309   \n",
      "7     Baker  10S41E00  Many tax maps and tax lots  45.831088 -119.623309   \n",
      "8     Baker  11S43E00  Many tax maps and tax lots  45.831088 -119.623309   \n",
      "9     Baker  15S45E00  Many tax maps and tax lots  45.831088 -119.623309   \n",
      "10    Baker  10S42E00  Many tax maps and tax lots  45.831088 -119.623309   \n",
      "11    Baker  14S45E00  Many tax maps and tax lots  45.831088 -119.623309   \n",
      "12    Baker  14S44E00  Many tax maps and tax lots  45.831088 -119.623309   \n",
      "13    Baker  13S44E00  Many tax maps and tax lots  45.831088 -119.623309   \n",
      "14    Baker  12S43E00  Many tax maps and tax lots  45.831088 -119.623309   \n",
      "15    Baker  12S42E00  Many tax maps and tax lots  45.831088 -119.623309   \n",
      "16    Baker  11S42E00  Many tax maps and tax lots  45.831088 -119.623309   \n",
      "650  Morrow  01N26E00  Many tax maps and tax lots  45.831088 -119.623309   \n",
      "651  Morrow  01N27E00  Many tax maps and tax lots  45.831088 -119.623309   \n",
      "652  Morrow  01N28E00  Many tax maps and tax lots  45.831088 -119.623309   \n",
      "653  Morrow  02N25E00  Many tax maps and tax lots  45.831088 -119.623309   \n",
      "654  Morrow  02N26E00  Many tax maps and tax lots  45.831088 -119.623309   \n",
      "655  Morrow  04N25E00  Many tax maps and tax lots  45.831088 -119.623309   \n",
      "656  Morrow  04N26E00  Many tax maps and tax lots  45.831088 -119.623309   \n",
      "\n",
      "     record_ID          notes missinglot  \n",
      "2         1423  Partial, Many          Y  \n",
      "3         1424  Partial, Many          Y  \n",
      "4         1425  Partial, Many          Y  \n",
      "5         1426  Partial, Many          Y  \n",
      "6         1427  Partial, Many          Y  \n",
      "7         1428  Partial, Many          Y  \n",
      "8         1429  Partial, Many          Y  \n",
      "9         1430  Partial, Many          Y  \n",
      "10        1431  Partial, Many          Y  \n",
      "11        1432  Partial, Many          Y  \n",
      "12        1433  Partial, Many          Y  \n",
      "13        1434  Partial, Many          Y  \n",
      "14        1435  Partial, Many          Y  \n",
      "15        1436  Partial, Many          Y  \n",
      "16        1437  Partial, Many          Y  \n",
      "650       2071  Partial, Many          Y  \n",
      "651       2072  Partial, Many          Y  \n",
      "652       2073  Partial, Many          Y  \n",
      "653       2074  Partial, Many          Y  \n",
      "654       2075  Partial, Many          Y  \n",
      "655       2076  Partial, Many          Y  \n",
      "656       2077  Partial, Many          Y  \n",
      "Press 'p' to pause or any key to stop...p\n",
      "Press 'a' to add the wd record or 'c' to continue...c\n",
      "33.3% digitized, 2 records remained, expected to be done in about 2 hours...\n",
      "WD2017-0198\n",
      "index = 648\n",
      "     county       trsqq parcel_id   latitude   longitude  record_ID notes  \\\n",
      "647  Morrow  05N27E19BC       100  45.900754 -119.488097       2068         \n",
      "648  Morrow    05N27E19       100  45.900754 -119.488097       2069         \n",
      "649  Morrow  05N27E19CB       ROW  45.900754 -119.488097       2070   ROW   \n",
      "\n",
      "    missinglot  \n",
      "647          N  \n",
      "648          N  \n",
      "649          Y  \n",
      "Press 'p' to pause or any key to stop...P\n",
      "Press 'a' to add the wd record or 'c' to continue...C\n",
      "66.7% digitized, 1 records remained, expected to be done in about 1 hours...\n",
      "WD2019-0082\n",
      "index = 677\n",
      "     county     trsqq                               parcel_id   latitude  \\\n",
      "676  Morrow  04N25E02            100,104,105,106,107,All part  45.861727   \n",
      "677  Morrow  04N25E02            100,104,105,106,107,All part  45.861727   \n",
      "678  Morrow  03N26E00                                    510p  45.771581   \n",
      "679  Morrow  03N26E00                                    510p  45.771581   \n",
      "680  Morrow  04N26E00  3405,3407,3416,3419,4700,4703,All part  45.824771   \n",
      "681  Morrow  04N26E00  3405,3407,3416,3419,4700,4703,All part  45.824771   \n",
      "682  Morrow  04N26E07                    100,200,201,All part  45.840226   \n",
      "683  Morrow  04N26E07                    100,200,201,All part  45.840226   \n",
      "684  Morrow  04N25E12                                    103p  45.846284   \n",
      "685  Morrow  04N25E12                                    103p  45.846284   \n",
      "686  Morrow  04N25E01                                    102p  45.863658   \n",
      "687  Morrow  04N25E01                                    102p  45.863658   \n",
      "\n",
      "      longitude  record_ID    notes missinglot  \n",
      "676 -119.647871       2097  Partial          N  \n",
      "677 -119.647871       2098  Partial          N  \n",
      "678 -119.622717       2099  Partial          N  \n",
      "679 -119.622717       2100  Partial          N  \n",
      "680 -119.618111       2101  Partial          N  \n",
      "681 -119.618111       2102  Partial          N  \n",
      "682 -119.619808       2103  Partial          N  \n",
      "683 -119.619808       2104  Partial          N  \n",
      "684 -119.626709       2105  Partial          N  \n",
      "685 -119.626709       2106  Partial          N  \n",
      "686 -119.654349       2107  Partial          N  \n",
      "687 -119.654349       2108  Partial          N  \n",
      "Press 'p' to pause or any key to stop...P\n",
      "Press 'a' to add the wd record or 'c' to continue...C\n"
     ]
    }
   ],
   "source": [
    "review_loop_r1(df=toCheck_df, partial=True, idx=True)"
   ]
  }
 ],
 "metadata": {
  "kernelspec": {
   "display_name": "Python 3",
   "language": "python",
   "name": "python3"
  },
  "language_info": {
   "codemirror_mode": {
    "name": "ipython",
    "version": 3
   },
   "file_extension": ".py",
   "mimetype": "text/x-python",
   "name": "python",
   "nbconvert_exporter": "python",
   "pygments_lexer": "ipython3",
   "version": "3.8.8"
  }
 },
 "nbformat": 4,
 "nbformat_minor": 5
}
