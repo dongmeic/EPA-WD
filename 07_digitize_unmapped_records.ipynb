{
 "cells": [
  {
   "cell_type": "code",
   "execution_count": 1,
   "id": "64ebdf78",
   "metadata": {},
   "outputs": [],
   "source": [
    "%load_ext autoreload\n",
    "%autoreload 2"
   ]
  },
  {
   "cell_type": "code",
   "execution_count": 431,
   "id": "388c8360",
   "metadata": {},
   "outputs": [],
   "source": [
    "from wdtools import *"
   ]
  },
  {
   "cell_type": "code",
   "execution_count": 32,
   "id": "7bc96563",
   "metadata": {},
   "outputs": [],
   "source": [
    "#setID = 'Set001'; nm_to_add=0\n",
    "#setID = 'Set002'; nm_to_add=1420\n",
    "#setID = 'Set003'; nm_to_add = 2143\n",
    "setID = 'Set004'; nm_to_add = 2878"
   ]
  },
  {
   "cell_type": "code",
   "execution_count": 33,
   "id": "6cf655c8",
   "metadata": {},
   "outputs": [],
   "source": [
    "wd = combine_wd_tables(setID=setID, nm_to_add=nm_to_add)"
   ]
  },
  {
   "cell_type": "code",
   "execution_count": 59,
   "id": "a4c2262c",
   "metadata": {},
   "outputs": [],
   "source": [
    "unmapped_notes = pd.read_excel(f'{inpath}\\\\notes\\\\LCOGUnmappedRecordsJB.xlsx', skiprows=1)"
   ]
  },
  {
   "cell_type": "code",
   "execution_count": 13,
   "id": "88fe2366",
   "metadata": {},
   "outputs": [],
   "source": [
    "mappedIDs = ['WD2017-0198', 'WD2017-0229', 'WD2019-0082', 'WD2021-0179']\n",
    "holdIDs = ['WD2022-0291', 'WD2021-0703']\n",
    "nomapIDs = ['WD2021-0181', 'WD2022-0158']\n",
    "maybeIDs = ['WD2017-0050', 'WD2017-0022', 'WD2020-0531']"
   ]
  },
  {
   "cell_type": "code",
   "execution_count": 15,
   "id": "190a75c7",
   "metadata": {},
   "outputs": [],
   "source": [
    "skipIDs = mappedIDs + holdIDs + nomapIDs + maybeIDs"
   ]
  },
  {
   "cell_type": "code",
   "execution_count": 16,
   "id": "817461e7",
   "metadata": {},
   "outputs": [],
   "source": [
    "wdIDs = [wid for wid in unmapped_notes.wetdet_delin_number.unique() if wid not in skipIDs]"
   ]
  },
  {
   "cell_type": "code",
   "execution_count": 34,
   "id": "0ea53e13",
   "metadata": {},
   "outputs": [
    {
     "data": {
      "text/plain": [
       "31"
      ]
     },
     "execution_count": 34,
     "metadata": {},
     "output_type": "execute_result"
    }
   ],
   "source": [
    "len(wdIDs)"
   ]
  },
  {
   "cell_type": "code",
   "execution_count": 35,
   "id": "86dbc34e",
   "metadata": {},
   "outputs": [],
   "source": [
    "toCheck_df = wd[wd.wetdet_delin_number.isin(wdIDs)]"
   ]
  },
  {
   "cell_type": "code",
   "execution_count": 36,
   "id": "f01b5315",
   "metadata": {},
   "outputs": [
    {
     "name": "stdout",
     "output_type": "stream",
     "text": [
      "0.0% digitized, 15 records remained, expected to be done in about 12 hours...\n",
      "WD2021-0031\n",
      "index = 27\n",
      "   county     trsqq parcel_id   latitude   longitude  record_ID notes  \\\n",
      "26  Crook  15S14E01   702,800  44.292086 -120.989141       2905         \n",
      "27  Crook  15S15E07       300  44.292086 -120.989141       2906         \n",
      "28  Crook  15S14E12   100,401  44.292086 -120.989141       2907         \n",
      "29  Crook  15S14E06       600  44.292086 -120.989141       2908         \n",
      "\n",
      "   missinglot  \n",
      "26          N  \n",
      "27          N  \n",
      "28          N  \n",
      "29          N  \n",
      "Press 'p' to pause or any key to stop...p\n",
      "Press 'a' to add the wd record or 'c' to continue...c\n",
      "6.7% digitized, 14 records remained, expected to be done in about 11 hours...\n",
      "WD2018-0002\n",
      "index = 97\n",
      "        county     trsqq parcel_id   latitude   longitude  record_ID  \\\n",
      "96  Hood River  03S09E00  100p,ROW  45.319481 -121.628633       2975   \n",
      "\n",
      "           notes missinglot  \n",
      "96  ROW, Partial          N  \n",
      "Press 'p' to pause or any key to stop...p\n",
      "Press 'a' to add the wd record or 'c' to continue...c\n",
      "13.3% digitized, 13 records remained, expected to be done in about 10 hours...\n",
      "WD2019-0389\n",
      "index = 116\n",
      "         county       trsqq parcel_id   latitude   longitude  record_ID notes  \\\n",
      "115  Hood River  03N10E25CB       ROW  45.712225 -121.519843       2994   ROW   \n",
      "116  Hood River    03N10E25       ROW  45.712225 -121.519843       2995   ROW   \n",
      "\n",
      "    missinglot  \n",
      "115          Y  \n",
      "116          Y  \n",
      "Press 'p' to pause or any key to stop...P\n",
      "Press 'a' to add the wd record or 'c' to continue...C\n",
      "20.0% digitized, 12 records remained, expected to be done in about 10 hours...\n",
      "WD2020-0400\n",
      "index = 185\n",
      "        county       trsqq      parcel_id   latitude   longitude  record_ID  \\\n",
      "184  Jefferson  11S13E12AC            ROW  44.626691 -121.110808       3063   \n",
      "185  Jefferson  11S13E12AD            ROW  44.626691 -121.110808       3064   \n",
      "186  Jefferson   11S13E12D            ROW  44.626691 -121.110808       3065   \n",
      "187  Jefferson  11S13E01CB  690p,691p,ROW  44.626691 -121.110808       3066   \n",
      "188  Jefferson  11S13E02DA            ROW  44.626691 -121.110808       3067   \n",
      "189  Jefferson  11S13E12DD            ROW  44.626691 -121.110808       3068   \n",
      "\n",
      "            notes missinglot  \n",
      "184           ROW          Y  \n",
      "185           ROW          Y  \n",
      "186           ROW          Y  \n",
      "187  ROW, Partial          N  \n",
      "188           ROW          Y  \n",
      "189           ROW          Y  \n",
      "Press 'p' to pause or any key to stop...P\n",
      "Press 'a' to add the wd record or 'c' to continue...C\n",
      "26.7% digitized, 11 records remained, expected to be done in about 9 hours...\n",
      "WD2021-0183\n",
      "index = 192\n",
      "        county       trsqq parcel_id   latitude   longitude  record_ID notes  \\\n",
      "191  Jefferson  11S13E11AC       ROW  44.629032 -121.137258       3070   ROW   \n",
      "192  Jefferson  11S13E11DB       ROW        NaN         NaN       3071   ROW   \n",
      "193  Jefferson  11S13E11AD       ROW        NaN         NaN       3072   ROW   \n",
      "194  Jefferson  11S13E01CD       ROW        NaN         NaN       3073   ROW   \n",
      "195  Jefferson  11S13E11DA       ROW        NaN         NaN       3074   ROW   \n",
      "\n",
      "    missinglot  \n",
      "191          Y  \n",
      "192          Y  \n",
      "193          Y  \n",
      "194          Y  \n",
      "195          Y  \n",
      "Press 'p' to pause or any key to stop...P\n",
      "Press 'a' to add the wd record or 'c' to continue...C\n",
      "33.3% digitized, 10 records remained, expected to be done in about 8 hours...\n",
      "WD2017-0419\n",
      "index = 225\n",
      "    county       trsqq           parcel_id   latitude   longitude  record_ID  \\\n",
      "224   Linn  11S03W05DB      5600,RAILS,ROW  44.637831 -123.069913       3103   \n",
      "225   Linn  11S03W04CB                 100  44.637831 -123.069913       3104   \n",
      "226   Linn  11S03W05DD         100,202,300  44.637831 -123.069913       3105   \n",
      "227   Linn  11S03W05DA  600,3800,RAILS,ROW  44.637831 -123.069913       3106   \n",
      "228   Linn  11S03W04CC                 ROW  44.637831 -123.069913       3107   \n",
      "\n",
      "         notes missinglot  \n",
      "224  ROW, Rail          N  \n",
      "225                     N  \n",
      "226                     N  \n",
      "227  ROW, Rail          N  \n",
      "228        ROW          Y  \n",
      "Press 'p' to pause or any key to stop...p\n",
      "Press 'a' to add the wd record or 'c' to continue...c\n",
      "40.0% digitized, 9 records remained, expected to be done in about 7 hours...\n",
      "WD2019-0208\n",
      "index = 308\n",
      "    county     trsqq parcel_id  latitude  longitude  record_ID    notes  \\\n",
      "307   Linn  11S02W10      400p   44.6314  -122.9211       3186  Partial   \n",
      "\n",
      "    missinglot  \n",
      "307          N  \n",
      "Press 'p' to pause or any key to stop...p\n",
      "Press 'a' to add the wd record or 'c' to continue...c\n",
      "46.7% digitized, 8 records remained, expected to be done in about 6 hours...\n",
      "WD2019-0320\n",
      "index = 318\n",
      "    county     trsqq  parcel_id   latitude  longitude  record_ID    notes  \\\n",
      "317   Linn  12S04W01  601p,700p  44.560536 -123.12258       3196  Partial   \n",
      "\n",
      "    missinglot  \n",
      "317          N  \n",
      "Press 'p' to pause or any key to stop...p\n",
      "Press 'a' to add the wd record or 'c' to continue...c\n",
      "53.3% digitized, 7 records remained, expected to be done in about 6 hours...\n",
      "WD2019-0436\n",
      "index = 323\n",
      "    county     trsqq parcel_id   latitude   longitude  record_ID    notes  \\\n",
      "322   Linn  10S01W33      600p  44.651524 -122.811079       3201  Partial   \n",
      "\n",
      "    missinglot  \n",
      "322          N  \n",
      "Press 'p' to pause or any key to stop...p\n",
      "Press 'a' to add the wd record or 'c' to continue...c\n",
      "60.0% digitized, 6 records remained, expected to be done in about 5 hours...\n",
      "WD2020-0208\n",
      "index = 350\n",
      "    county     trsqq     parcel_id   latitude   longitude  record_ID notes  \\\n",
      "349   Linn  12S02W16      2300,ROW        NaN         NaN       3228   ROW   \n",
      "350   Linn  12S02W23           ROW        NaN         NaN       3229   ROW   \n",
      "351   Linn  12S02W15          ROWs        NaN         NaN       3230   ROW   \n",
      "352   Linn  12S02W09           ROW  44.536339 -122.927786       3231   ROW   \n",
      "353   Linn  12S02W22  300,400,ROWs        NaN         NaN       3232   ROW   \n",
      "\n",
      "    missinglot  \n",
      "349          N  \n",
      "350          Y  \n",
      "351          Y  \n",
      "352          Y  \n",
      "353          N  \n",
      "Press 'p' to pause or any key to stop...p\n",
      "Press 'a' to add the wd record or 'c' to continue...c\n",
      "66.7% digitized, 5 records remained, expected to be done in about 4 hours...\n",
      "WD2020-0568\n",
      "index = 389\n",
      "    county     trsqq parcel_id   latitude   longitude  record_ID    notes  \\\n",
      "388   Linn  12S02W23     1701p  44.515499 -122.902774       3267  Partial   \n",
      "\n",
      "    missinglot  \n",
      "388          N  \n",
      "Press 'p' to pause or any key to stop...p\n",
      "Press 'a' to add the wd record or 'c' to continue...c\n",
      "73.3% digitized, 4 records remained, expected to be done in about 3 hours...\n",
      "WD2018-0139\n",
      "index = 524\n",
      "        county       trsqq parcel_id  latitude  longitude  record_ID notes  \\\n",
      "523  Multnomah  01S01E20CB       ROW  45.46717 -122.72083       3402   ROW   \n",
      "\n",
      "    missinglot  \n",
      "523          Y  \n",
      "Press 'p' to pause or any key to stop...p\n",
      "Press 'a' to add the wd record or 'c' to continue...c\n",
      "80.0% digitized, 3 records remained, expected to be done in about 2 hours...\n",
      "WD2019-0300\n",
      "index = 643\n",
      "        county       trsqq parcel_id   latitude  longitude  record_ID notes  \\\n",
      "642  Multnomah  01N01E22BC      2500  45.556435 -122.67705       3521         \n",
      "\n",
      "    missinglot  \n",
      "642          N  \n",
      "Press 'p' to pause or any key to stop...p\n",
      "Press 'a' to add the wd record or 'c' to continue...c\n",
      "86.7% digitized, 2 records remained, expected to be done in about 2 hours...\n",
      "WD2021-0653\n",
      "index = 823\n",
      "        county      trsqq parcel_id   latitude  longitude  record_ID    notes  \\\n",
      "822  Multnomah  01S03E20D     1200p  45.464835 -122.46644       3701  Partial   \n",
      "\n",
      "    missinglot  \n",
      "822          N  \n",
      "Press 'p' to pause or any key to stop...p\n",
      "Press 'a' to add the wd record or 'c' to continue...c\n",
      "93.3% digitized, 1 records remained, expected to be done in about 1 hours...\n",
      "WD2020-0252\n",
      "index = 971\n",
      "      county       trsqq parcel_id   latitude   longitude  record_ID notes  \\\n",
      "970  Yamhill  03S03W26AD       ROW  45.282375 -123.014544       3849   ROW   \n",
      "\n",
      "    missinglot  \n",
      "970          Y  \n",
      "Press 'p' to pause or any key to stop...p\n",
      "Press 'a' to add the wd record or 'c' to continue...c\n"
     ]
    }
   ],
   "source": [
    "review_loop_r1(df=toCheck_df, partial=True, idx=True)"
   ]
  },
  {
   "cell_type": "code",
   "execution_count": 37,
   "id": "cc77c9a0",
   "metadata": {},
   "outputs": [],
   "source": [
    "issuepath = inpath + '\\\\GIS\\\\ArcGIS Pro Project\\\\DataReview\\\\issueIDs.gdb'"
   ]
  },
  {
   "cell_type": "code",
   "execution_count": 369,
   "id": "25940a2b",
   "metadata": {},
   "outputs": [],
   "source": [
    "mapped = [lyr for lyr in fiona.listlayers(issuepath) if (lyr != 'WD2017_0229') and ('L' not in lyr)]"
   ]
  },
  {
   "cell_type": "code",
   "execution_count": 40,
   "id": "5cfeaadd",
   "metadata": {},
   "outputs": [
    {
     "data": {
      "text/plain": [
       "35"
      ]
     },
     "execution_count": 40,
     "metadata": {},
     "output_type": "execute_result"
    }
   ],
   "source": [
    "len(mapped)"
   ]
  },
  {
   "cell_type": "code",
   "execution_count": 370,
   "id": "2a65465a",
   "metadata": {},
   "outputs": [],
   "source": [
    "gdf = merge_single_partial_file(setID=False, wIDlist=mapped, from_set=False)"
   ]
  },
  {
   "cell_type": "code",
   "execution_count": 372,
   "id": "dd41952a",
   "metadata": {},
   "outputs": [],
   "source": [
    "gdf = gdf.dissolve('wdID')\n",
    "gdf['wdID'] = gdf.index\n",
    "gdf.reset_index(drop=True, inplace=True)"
   ]
  },
  {
   "cell_type": "code",
   "execution_count": 373,
   "id": "20cb40af",
   "metadata": {},
   "outputs": [],
   "source": [
    "code0 = [\"WD2019-0300\", \"WD2021-0597\", \"WD2019-0436\", \"WD2020-0568\", \"WD2019-0300\"]\n",
    "code1 = [\"WD2017-0314\", \"WD2019-0046\", \"WD2019-0496\", \"WD2021-0416\", \"WD2021-0653\"]"
   ]
  },
  {
   "cell_type": "code",
   "execution_count": 374,
   "id": "77a784f6",
   "metadata": {},
   "outputs": [],
   "source": [
    "gdf.loc[gdf.wdID.isin(code0),'code'] = 0\n",
    "gdf.loc[gdf.wdID.isin(code1),'code'] = 1\n",
    "gdf.loc[gdf.code.isnull(),'code'] = 2"
   ]
  },
  {
   "cell_type": "code",
   "execution_count": 152,
   "id": "0be5892e",
   "metadata": {},
   "outputs": [
    {
     "data": {
      "text/plain": [
       "(35, 6)"
      ]
     },
     "execution_count": 152,
     "metadata": {},
     "output_type": "execute_result"
    }
   ],
   "source": [
    "gdf.shape"
   ]
  },
  {
   "cell_type": "code",
   "execution_count": 413,
   "id": "8a044c03",
   "metadata": {},
   "outputs": [],
   "source": [
    "wd_df = get_all_wd(num=4)"
   ]
  },
  {
   "cell_type": "code",
   "execution_count": 76,
   "id": "aeefff33",
   "metadata": {},
   "outputs": [],
   "source": [
    "set_dict = dict(zip(wd_df.wetdet_delin_number, wd_df.SetID))"
   ]
  },
  {
   "cell_type": "code",
   "execution_count": 375,
   "id": "292efabf",
   "metadata": {},
   "outputs": [],
   "source": [
    "gdf.loc[:,'SetID'] = gdf.wdID.map(set_dict)"
   ]
  },
  {
   "cell_type": "code",
   "execution_count": 385,
   "id": "c17bf37d",
   "metadata": {},
   "outputs": [],
   "source": [
    "sa_gdf_all = get_all_SA(num=4)"
   ]
  },
  {
   "cell_type": "code",
   "execution_count": 386,
   "id": "689298dc",
   "metadata": {},
   "outputs": [],
   "source": [
    "all_gdf = pd.concat([sa_gdf_all[['wdID', 'code', 'SetID', 'geometry']],\n",
    "                    gdf[['wdID', 'code', 'SetID', 'geometry']]], ignore_index=True)"
   ]
  },
  {
   "cell_type": "code",
   "execution_count": 88,
   "id": "dccdce6f",
   "metadata": {},
   "outputs": [
    {
     "name": "stdout",
     "output_type": "stream",
     "text": [
      "it took 9.0 minutes to complete\n"
     ]
    }
   ],
   "source": [
    "start = time.time()\n",
    "all_taxlot = combine_taxlot()\n",
    "end = time.time()\n",
    "print(f'it took {round((end - start)/60, 0)} minutes to complete')"
   ]
  },
  {
   "cell_type": "code",
   "execution_count": 89,
   "id": "82a1db75",
   "metadata": {},
   "outputs": [
    {
     "name": "stdout",
     "output_type": "stream",
     "text": [
      "it took 1.0 minutes to complete\n"
     ]
    }
   ],
   "source": [
    "start = time.time()\n",
    "all_mapIdx = read_all_mapIdx()\n",
    "end = time.time()\n",
    "print(f'it took {round((end - start)/60, 0)} minutes to complete')"
   ]
  },
  {
   "cell_type": "code",
   "execution_count": 387,
   "id": "3214ebef",
   "metadata": {},
   "outputs": [
    {
     "data": {
      "text/plain": [
       "['WD2019-0511', 'WD2021-0686', 'WD2022-0026']"
      ]
     },
     "execution_count": 387,
     "metadata": {},
     "output_type": "execute_result"
    }
   ],
   "source": [
    "wdID_list, n = check_duplicates(sa_gdf_all.wdID.values)\n",
    "wdID_list"
   ]
  },
  {
   "cell_type": "code",
   "execution_count": 388,
   "id": "f217b138",
   "metadata": {},
   "outputs": [
    {
     "data": {
      "text/plain": [
       "[]"
      ]
     },
     "execution_count": 388,
     "metadata": {},
     "output_type": "execute_result"
    }
   ],
   "source": [
    "wdID_list, n = check_duplicates(gdf.wdID.values)\n",
    "wdID_list"
   ]
  },
  {
   "cell_type": "code",
   "execution_count": 389,
   "id": "cc0e69a1",
   "metadata": {},
   "outputs": [],
   "source": [
    "wdID_list, n = check_duplicates(all_gdf.wdID.values)"
   ]
  },
  {
   "cell_type": "code",
   "execution_count": 390,
   "id": "e0bfdf89",
   "metadata": {},
   "outputs": [
    {
     "data": {
      "text/plain": [
       "['WD2019-0259',\n",
       " 'WD2019-0511',\n",
       " 'WD2021-0686',\n",
       " 'WD2018-0352',\n",
       " 'WD2022-0026',\n",
       " 'WD2019-0300',\n",
       " 'WD2021-0495']"
      ]
     },
     "execution_count": 390,
     "metadata": {},
     "output_type": "execute_result"
    }
   ],
   "source": [
    "wdID_list"
   ]
  },
  {
   "cell_type": "code",
   "execution_count": 391,
   "id": "e7cc30da",
   "metadata": {},
   "outputs": [],
   "source": [
    "gdf.loc[gdf.wdID=='WD2021-0495', 'wdID'] = 'WD2021-0031'\n",
    "gdf = gdf[~gdf.wdID.isin(['WD2019-0259', 'WD2018-0352', 'WD2019-0300'])]\n",
    "sa_gdf_all = sa_gdf_all[~sa_gdf_all.wdID.isin(['WD2019-0259'])]\n",
    "sa_gdf_all = sa_gdf_all[~((sa_gdf_all.wdID=='WD2021-0686') & (sa_gdf_all.SetID==1))]\n",
    "sa_gdf_all = sa_gdf_all[~((sa_gdf_all.wdID=='WD2022-0026') & (sa_gdf_all.SetID==2))]"
   ]
  },
  {
   "cell_type": "code",
   "execution_count": 392,
   "id": "4d00ebd8",
   "metadata": {},
   "outputs": [
    {
     "data": {
      "text/html": [
       "<div>\n",
       "<style scoped>\n",
       "    .dataframe tbody tr th:only-of-type {\n",
       "        vertical-align: middle;\n",
       "    }\n",
       "\n",
       "    .dataframe tbody tr th {\n",
       "        vertical-align: top;\n",
       "    }\n",
       "\n",
       "    .dataframe thead th {\n",
       "        text-align: right;\n",
       "    }\n",
       "</style>\n",
       "<table border=\"1\" class=\"dataframe\">\n",
       "  <thead>\n",
       "    <tr style=\"text-align: right;\">\n",
       "      <th></th>\n",
       "      <th>code</th>\n",
       "      <th>wdID</th>\n",
       "      <th>geometry</th>\n",
       "      <th>SetID</th>\n",
       "    </tr>\n",
       "  </thead>\n",
       "  <tbody>\n",
       "    <tr>\n",
       "      <th>453</th>\n",
       "      <td>0</td>\n",
       "      <td>WD2019-0511</td>\n",
       "      <td>POLYGON ((667916.072 1236023.094, 667881.278 1...</td>\n",
       "      <td>1</td>\n",
       "    </tr>\n",
       "    <tr>\n",
       "      <th>1120</th>\n",
       "      <td>2</td>\n",
       "      <td>WD2018-0352</td>\n",
       "      <td>MULTIPOLYGON Z (((590189.143 1033810.888 0.000...</td>\n",
       "      <td>2</td>\n",
       "    </tr>\n",
       "    <tr>\n",
       "      <th>1203</th>\n",
       "      <td>0</td>\n",
       "      <td>WD2019-0511</td>\n",
       "      <td>MULTIPOLYGON Z (((598409.865 958092.642 0.000,...</td>\n",
       "      <td>2</td>\n",
       "    </tr>\n",
       "    <tr>\n",
       "      <th>2148</th>\n",
       "      <td>0</td>\n",
       "      <td>WD2019-0300</td>\n",
       "      <td>POLYGON ((754471.158 1395046.121, 754571.146 1...</td>\n",
       "      <td>4</td>\n",
       "    </tr>\n",
       "    <tr>\n",
       "      <th>2183</th>\n",
       "      <td>0</td>\n",
       "      <td>WD2019-0511</td>\n",
       "      <td>MULTIPOLYGON (((601741.516 983380.405, 601794....</td>\n",
       "      <td>4</td>\n",
       "    </tr>\n",
       "    <tr>\n",
       "      <th>2412</th>\n",
       "      <td>2</td>\n",
       "      <td>WD2021-0495</td>\n",
       "      <td>POLYGON ((1184166.533 926606.419, 1184863.180 ...</td>\n",
       "      <td>4</td>\n",
       "    </tr>\n",
       "    <tr>\n",
       "      <th>2447</th>\n",
       "      <td>2</td>\n",
       "      <td>WD2021-0686</td>\n",
       "      <td>POLYGON ((1164530.417 959846.060, 1164454.040 ...</td>\n",
       "      <td>4</td>\n",
       "    </tr>\n",
       "    <tr>\n",
       "      <th>2454</th>\n",
       "      <td>2</td>\n",
       "      <td>WD2022-0026</td>\n",
       "      <td>POLYGON ((880278.127 1346054.362, 878422.925 1...</td>\n",
       "      <td>4</td>\n",
       "    </tr>\n",
       "  </tbody>\n",
       "</table>\n",
       "</div>"
      ],
      "text/plain": [
       "      code         wdID                                           geometry  \\\n",
       "453      0  WD2019-0511  POLYGON ((667916.072 1236023.094, 667881.278 1...   \n",
       "1120     2  WD2018-0352  MULTIPOLYGON Z (((590189.143 1033810.888 0.000...   \n",
       "1203     0  WD2019-0511  MULTIPOLYGON Z (((598409.865 958092.642 0.000,...   \n",
       "2148     0  WD2019-0300  POLYGON ((754471.158 1395046.121, 754571.146 1...   \n",
       "2183     0  WD2019-0511  MULTIPOLYGON (((601741.516 983380.405, 601794....   \n",
       "2412     2  WD2021-0495  POLYGON ((1184166.533 926606.419, 1184863.180 ...   \n",
       "2447     2  WD2021-0686  POLYGON ((1164530.417 959846.060, 1164454.040 ...   \n",
       "2454     2  WD2022-0026  POLYGON ((880278.127 1346054.362, 878422.925 1...   \n",
       "\n",
       "      SetID  \n",
       "453       1  \n",
       "1120      2  \n",
       "1203      2  \n",
       "2148      4  \n",
       "2183      4  \n",
       "2412      4  \n",
       "2447      4  \n",
       "2454      4  "
      ]
     },
     "execution_count": 392,
     "metadata": {},
     "output_type": "execute_result"
    }
   ],
   "source": [
    "sa_gdf_all[sa_gdf_all.wdID.isin(wdID_list)]"
   ]
  },
  {
   "cell_type": "code",
   "execution_count": 103,
   "id": "3b538d0d",
   "metadata": {},
   "outputs": [
    {
     "data": {
      "text/plain": [
       "Index(['wetdet_delin_number', 'trsqq', 'parcel_id', 'address_location_desc',\n",
       "       'city', 'county', 'site_name', 'site_desc', 'latitude', 'longitude',\n",
       "       'Coord-Source', 'DocumentName', 'DecisionLink', 'is_batch_file',\n",
       "       'status_name', 'received_date', 'response_date',\n",
       "       'reissuance_response_date', 'project_id', 'site_id', 'record_ID',\n",
       "       'notes', 'recyear', 'IDyear', 'missinglot', 'SetID'],\n",
       "      dtype='object')"
      ]
     },
     "execution_count": 103,
     "metadata": {},
     "output_type": "execute_result"
    }
   ],
   "source": [
    "wd_df.columns"
   ]
  },
  {
   "cell_type": "code",
   "execution_count": 393,
   "id": "11c078e2",
   "metadata": {},
   "outputs": [],
   "source": [
    "wd_df.loc[wd_df.county == 'TIllamook', 'county'] = 'Tillamook'\n",
    "wd_df.loc[wd_df.county == 'Yamhill and Washington', 'county'] = 'Yamhill'"
   ]
  },
  {
   "cell_type": "markdown",
   "id": "c9ddf1dd",
   "metadata": {},
   "source": [
    "all_gdf = all_gdf.dissolve('wdID')\n",
    "all_gdf['wdID'] = all_gdf.index\n",
    "all_gdf.reset_index(drop=True, inplace=True)"
   ]
  },
  {
   "cell_type": "code",
   "execution_count": 394,
   "id": "ad675fa5",
   "metadata": {},
   "outputs": [],
   "source": [
    "selectedID = wd_df.parcel_id.astype(str) != 'nan'\n",
    "wd_df = wd_df.copy()[selectedID]\n",
    "wd_df['notes'] = wd_df.copy()['parcel_id'].apply(lambda x: make_notes(x))\n",
    "wd_dt = wd_df[wd_df.notes == '']"
   ]
  },
  {
   "cell_type": "code",
   "execution_count": 424,
   "id": "726fa151",
   "metadata": {},
   "outputs": [],
   "source": [
    "wd_df_c = get_corrected_wd_df(num=4)"
   ]
  },
  {
   "cell_type": "code",
   "execution_count": 429,
   "id": "8d0e3ce9",
   "metadata": {},
   "outputs": [],
   "source": [
    "wd_df_c.loc[wd_df_c.county == 'Yamhill and Washington', 'county'] = 'Yamhill'"
   ]
  },
  {
   "cell_type": "code",
   "execution_count": 433,
   "id": "85e2060a",
   "metadata": {},
   "outputs": [
    {
     "data": {
      "text/plain": [
       "Index(['wetdet_delin_number', 'trsqq', 'parcel_id', 'address_location_desc',\n",
       "       'city', 'county', 'site_name', 'site_desc', 'latitude', 'longitude',\n",
       "       'Coord-Source', 'DocumentName', 'DecisionLink', 'is_batch_file',\n",
       "       'status_name', 'received_date', 'response_date',\n",
       "       'reissuance_response_date', 'project_id', 'site_id', 'record_ID',\n",
       "       'notes', 'recyear', 'IDyear', 'missinglot', 'SetID'],\n",
       "      dtype='object')"
      ]
     },
     "execution_count": 433,
     "metadata": {},
     "output_type": "execute_result"
    }
   ],
   "source": [
    "wd_df_c.columns"
   ]
  },
  {
   "cell_type": "code",
   "execution_count": 432,
   "id": "716d3e67",
   "metadata": {},
   "outputs": [
    {
     "name": "stdout",
     "output_type": "stream",
     "text": [
      "it took 3.0 minutes to complete\n"
     ]
    }
   ],
   "source": [
    "start = time.time()\n",
    "out = split_SA_by_rid_in_df(wd_df=wd_df_c[wd_df_c.notes.isnull()], \n",
    "                            sa_gdf_all=all_gdf, \n",
    "                            all_mapIdx=all_mapIdx, \n",
    "                            all_taxlot=all_taxlot, \n",
    "                            em_wids=all_gdf.wdID.unique(),\n",
    "                            export=True, \n",
    "                            outnm='wd_sa_gdf', \n",
    "                            review=True)\n",
    "end = time.time()\n",
    "print(f'it took {round((end - start)/60, 0)} minutes to complete')"
   ]
  },
  {
   "cell_type": "code",
   "execution_count": 434,
   "id": "cea5bb02",
   "metadata": {},
   "outputs": [],
   "source": [
    "wdIDs = wd_df_c[~wd_df_c.notes.isnull()].wetdet_delin_number.unique()"
   ]
  },
  {
   "cell_type": "code",
   "execution_count": 436,
   "id": "1aaa42a0",
   "metadata": {},
   "outputs": [
    {
     "data": {
      "text/plain": [
       "769"
      ]
     },
     "execution_count": 436,
     "metadata": {},
     "output_type": "execute_result"
    }
   ],
   "source": [
    "len(wdIDs)"
   ]
  },
  {
   "cell_type": "code",
   "execution_count": 439,
   "id": "ca3eb0bd",
   "metadata": {},
   "outputs": [
    {
     "data": {
      "text/plain": [
       "Index(['wdID', 'trsqq', 'parcel_id', 'loc_desc', 'city', 'county', 'site_name',\n",
       "       'site_desc', 'latitude', 'longitude', 'doc_name', 'doc_link',\n",
       "       'isbatfile', 'status_nm', 'receiveddt', 'responsedt', 'reissuance',\n",
       "       'project_id', 'site_id', 'SetID', 'record_ID', 'ORMapNum', 'geometry',\n",
       "       'code', 'lat', 'lon'],\n",
       "      dtype='object')"
      ]
     },
     "execution_count": 439,
     "metadata": {},
     "output_type": "execute_result"
    }
   ],
   "source": [
    "out.columns"
   ]
  },
  {
   "cell_type": "code",
   "execution_count": 440,
   "id": "5f37009e",
   "metadata": {},
   "outputs": [],
   "source": [
    "out_gdf = out[~out.wdID.isin(wdIDs)]"
   ]
  },
  {
   "cell_type": "code",
   "execution_count": 442,
   "id": "7899b02c",
   "metadata": {},
   "outputs": [
    {
     "data": {
      "text/plain": [
       "(2232, 26)"
      ]
     },
     "execution_count": 442,
     "metadata": {},
     "output_type": "execute_result"
    }
   ],
   "source": [
    "out.shape"
   ]
  },
  {
   "cell_type": "code",
   "execution_count": 441,
   "id": "b6010319",
   "metadata": {},
   "outputs": [
    {
     "data": {
      "text/plain": [
       "(2106, 26)"
      ]
     },
     "execution_count": 441,
     "metadata": {},
     "output_type": "execute_result"
    }
   ],
   "source": [
    "out_gdf.shape"
   ]
  },
  {
   "cell_type": "code",
   "execution_count": 448,
   "id": "d2ea8d2e",
   "metadata": {},
   "outputs": [],
   "source": [
    "out_gdf.to_file(f'{outpath}\\\\test\\\\wd_sa_gdf.shp')"
   ]
  },
  {
   "cell_type": "code",
   "execution_count": 438,
   "id": "6a14783b",
   "metadata": {
    "scrolled": true
   },
   "outputs": [],
   "source": [
    "all_gdf_s = all_gdf[all_gdf.wdID.isin(wdIDs)]"
   ]
  },
  {
   "cell_type": "code",
   "execution_count": 445,
   "id": "52c19034",
   "metadata": {},
   "outputs": [
    {
     "data": {
      "text/plain": [
       "763"
      ]
     },
     "execution_count": 445,
     "metadata": {},
     "output_type": "execute_result"
    }
   ],
   "source": [
    "len(all_gdf_s.wdID.unique())"
   ]
  },
  {
   "cell_type": "code",
   "execution_count": 450,
   "id": "307f4d5f",
   "metadata": {},
   "outputs": [
    {
     "data": {
      "text/plain": [
       "False"
      ]
     },
     "execution_count": 450,
     "metadata": {},
     "output_type": "execute_result"
    }
   ],
   "source": [
    "'WD2017-0229' in all_gdf.wdID.unique()"
   ]
  },
  {
   "cell_type": "code",
   "execution_count": 451,
   "id": "7f30463a",
   "metadata": {},
   "outputs": [
    {
     "data": {
      "text/plain": [
       "False"
      ]
     },
     "execution_count": 451,
     "metadata": {},
     "output_type": "execute_result"
    }
   ],
   "source": [
    "'WD2021-0179' in all_gdf.wdID.unique()"
   ]
  },
  {
   "cell_type": "code",
   "execution_count": 449,
   "id": "6a94bb13",
   "metadata": {},
   "outputs": [
    {
     "data": {
      "text/html": [
       "<div>\n",
       "<style scoped>\n",
       "    .dataframe tbody tr th:only-of-type {\n",
       "        vertical-align: middle;\n",
       "    }\n",
       "\n",
       "    .dataframe tbody tr th {\n",
       "        vertical-align: top;\n",
       "    }\n",
       "\n",
       "    .dataframe thead th {\n",
       "        text-align: right;\n",
       "    }\n",
       "</style>\n",
       "<table border=\"1\" class=\"dataframe\">\n",
       "  <thead>\n",
       "    <tr style=\"text-align: right;\">\n",
       "      <th></th>\n",
       "      <th>wdID</th>\n",
       "      <th>code</th>\n",
       "      <th>SetID</th>\n",
       "      <th>geometry</th>\n",
       "    </tr>\n",
       "  </thead>\n",
       "  <tbody>\n",
       "    <tr>\n",
       "      <th>0</th>\n",
       "      <td>WD2017-0003</td>\n",
       "      <td>2.0</td>\n",
       "      <td>1</td>\n",
       "      <td>POLYGON ((447632.599 1578055.844, 447349.923 1...</td>\n",
       "    </tr>\n",
       "    <tr>\n",
       "      <th>1</th>\n",
       "      <td>WD2017-0014</td>\n",
       "      <td>2.0</td>\n",
       "      <td>1</td>\n",
       "      <td>POLYGON ((659383.287 224983.480, 659986.729 22...</td>\n",
       "    </tr>\n",
       "    <tr>\n",
       "      <th>5</th>\n",
       "      <td>WD2017-0034</td>\n",
       "      <td>2.0</td>\n",
       "      <td>1</td>\n",
       "      <td>POLYGON ((673696.996 1156836.787, 673762.888 1...</td>\n",
       "    </tr>\n",
       "  </tbody>\n",
       "</table>\n",
       "</div>"
      ],
      "text/plain": [
       "          wdID  code  SetID                                           geometry\n",
       "0  WD2017-0003   2.0      1  POLYGON ((447632.599 1578055.844, 447349.923 1...\n",
       "1  WD2017-0014   2.0      1  POLYGON ((659383.287 224983.480, 659986.729 22...\n",
       "5  WD2017-0034   2.0      1  POLYGON ((673696.996 1156836.787, 673762.888 1..."
      ]
     },
     "execution_count": 449,
     "metadata": {},
     "output_type": "execute_result"
    }
   ],
   "source": [
    "all_gdf_s.head(3)"
   ]
  },
  {
   "cell_type": "code",
   "execution_count": 415,
   "id": "1b7c69e5",
   "metadata": {},
   "outputs": [],
   "source": [
    "cnt_df = wd_df.county.value_counts().rename_axis('county').reset_index(name='counts')"
   ]
  },
  {
   "cell_type": "code",
   "execution_count": 403,
   "id": "f884510f",
   "metadata": {},
   "outputs": [],
   "source": [
    "dat = pd.read_excel(wdpath+'\\\\202307RunPolkGilliamUmatillaUnionWheeler2017-2022ALL.xlsx')"
   ]
  },
  {
   "cell_type": "code",
   "execution_count": 405,
   "id": "ff8ceede",
   "metadata": {},
   "outputs": [],
   "source": [
    "cnt_df1 = dat.county.value_counts().rename_axis('county').reset_index(name='counts')"
   ]
  },
  {
   "cell_type": "code",
   "execution_count": 416,
   "id": "e14c4b1a",
   "metadata": {},
   "outputs": [],
   "source": [
    "cnt_df2 = pd.concat([cnt_df, cnt_df1], ignore_index=True)"
   ]
  },
  {
   "cell_type": "code",
   "execution_count": 418,
   "id": "40088662",
   "metadata": {},
   "outputs": [],
   "source": [
    "cnt_df2.to_csv(inpath+'\\\\reporting\\\\deliveries_records_by_county.csv', index=False)"
   ]
  }
 ],
 "metadata": {
  "kernelspec": {
   "display_name": "Python 3",
   "language": "python",
   "name": "python3"
  },
  "language_info": {
   "codemirror_mode": {
    "name": "ipython",
    "version": 3
   },
   "file_extension": ".py",
   "mimetype": "text/x-python",
   "name": "python",
   "nbconvert_exporter": "python",
   "pygments_lexer": "ipython3",
   "version": "3.8.8"
  }
 },
 "nbformat": 4,
 "nbformat_minor": 5
}
