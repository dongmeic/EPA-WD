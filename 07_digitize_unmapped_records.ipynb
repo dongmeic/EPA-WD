{
 "cells": [
  {
   "cell_type": "code",
   "execution_count": 1,
   "id": "413f2015",
   "metadata": {},
   "outputs": [],
   "source": [
    "%load_ext autoreload\n",
    "%autoreload 2"
   ]
  },
  {
   "cell_type": "code",
   "execution_count": 362,
   "id": "9e76a162",
   "metadata": {},
   "outputs": [],
   "source": [
    "from wdtools import *"
   ]
  },
  {
   "cell_type": "code",
   "execution_count": 32,
   "id": "3ef3e511",
   "metadata": {},
   "outputs": [],
   "source": [
    "#setID = 'Set001'; nm_to_add=0\n",
    "#setID = 'Set002'; nm_to_add=1420\n",
    "#setID = 'Set003'; nm_to_add = 2143\n",
    "setID = 'Set004'; nm_to_add = 2878"
   ]
  },
  {
   "cell_type": "code",
   "execution_count": 33,
   "id": "94b5fb94",
   "metadata": {},
   "outputs": [],
   "source": [
    "wd = combine_wd_tables(setID=setID, nm_to_add=nm_to_add)"
   ]
  },
  {
   "cell_type": "code",
   "execution_count": 59,
   "id": "2db3ca47",
   "metadata": {},
   "outputs": [],
   "source": [
    "unmapped_notes = pd.read_excel(f'{inpath}\\\\notes\\\\LCOGUnmappedRecordsJB.xlsx', skiprows=1)"
   ]
  },
  {
   "cell_type": "code",
   "execution_count": 13,
   "id": "574c237c",
   "metadata": {},
   "outputs": [],
   "source": [
    "mappedIDs = ['WD2017-0198', 'WD2017-0229', 'WD2019-0082', 'WD2021-0179']\n",
    "holdIDs = ['WD2022-0291', 'WD2021-0703']\n",
    "nomapIDs = ['WD2021-0181', 'WD2022-0158']\n",
    "maybeIDs = ['WD2017-0050', 'WD2017-0022', 'WD2020-0531']"
   ]
  },
  {
   "cell_type": "code",
   "execution_count": 15,
   "id": "48bd48bb",
   "metadata": {},
   "outputs": [],
   "source": [
    "skipIDs = mappedIDs + holdIDs + nomapIDs + maybeIDs"
   ]
  },
  {
   "cell_type": "code",
   "execution_count": 16,
   "id": "3f4f1f01",
   "metadata": {},
   "outputs": [],
   "source": [
    "wdIDs = [wid for wid in unmapped_notes.wetdet_delin_number.unique() if wid not in skipIDs]"
   ]
  },
  {
   "cell_type": "code",
   "execution_count": 34,
   "id": "ee5d1ef9",
   "metadata": {},
   "outputs": [
    {
     "data": {
      "text/plain": [
       "31"
      ]
     },
     "execution_count": 34,
     "metadata": {},
     "output_type": "execute_result"
    }
   ],
   "source": [
    "len(wdIDs)"
   ]
  },
  {
   "cell_type": "code",
   "execution_count": 35,
   "id": "31e6ddaa",
   "metadata": {},
   "outputs": [],
   "source": [
    "toCheck_df = wd[wd.wetdet_delin_number.isin(wdIDs)]"
   ]
  },
  {
   "cell_type": "code",
   "execution_count": 36,
   "id": "e8fd317d",
   "metadata": {},
   "outputs": [
    {
     "name": "stdout",
     "output_type": "stream",
     "text": [
      "0.0% digitized, 15 records remained, expected to be done in about 12 hours...\n",
      "WD2021-0031\n",
      "index = 27\n",
      "   county     trsqq parcel_id   latitude   longitude  record_ID notes  \\\n",
      "26  Crook  15S14E01   702,800  44.292086 -120.989141       2905         \n",
      "27  Crook  15S15E07       300  44.292086 -120.989141       2906         \n",
      "28  Crook  15S14E12   100,401  44.292086 -120.989141       2907         \n",
      "29  Crook  15S14E06       600  44.292086 -120.989141       2908         \n",
      "\n",
      "   missinglot  \n",
      "26          N  \n",
      "27          N  \n",
      "28          N  \n",
      "29          N  \n",
      "Press 'p' to pause or any key to stop...p\n",
      "Press 'a' to add the wd record or 'c' to continue...c\n",
      "6.7% digitized, 14 records remained, expected to be done in about 11 hours...\n",
      "WD2018-0002\n",
      "index = 97\n",
      "        county     trsqq parcel_id   latitude   longitude  record_ID  \\\n",
      "96  Hood River  03S09E00  100p,ROW  45.319481 -121.628633       2975   \n",
      "\n",
      "           notes missinglot  \n",
      "96  ROW, Partial          N  \n",
      "Press 'p' to pause or any key to stop...p\n",
      "Press 'a' to add the wd record or 'c' to continue...c\n",
      "13.3% digitized, 13 records remained, expected to be done in about 10 hours...\n",
      "WD2019-0389\n",
      "index = 116\n",
      "         county       trsqq parcel_id   latitude   longitude  record_ID notes  \\\n",
      "115  Hood River  03N10E25CB       ROW  45.712225 -121.519843       2994   ROW   \n",
      "116  Hood River    03N10E25       ROW  45.712225 -121.519843       2995   ROW   \n",
      "\n",
      "    missinglot  \n",
      "115          Y  \n",
      "116          Y  \n",
      "Press 'p' to pause or any key to stop...P\n",
      "Press 'a' to add the wd record or 'c' to continue...C\n",
      "20.0% digitized, 12 records remained, expected to be done in about 10 hours...\n",
      "WD2020-0400\n",
      "index = 185\n",
      "        county       trsqq      parcel_id   latitude   longitude  record_ID  \\\n",
      "184  Jefferson  11S13E12AC            ROW  44.626691 -121.110808       3063   \n",
      "185  Jefferson  11S13E12AD            ROW  44.626691 -121.110808       3064   \n",
      "186  Jefferson   11S13E12D            ROW  44.626691 -121.110808       3065   \n",
      "187  Jefferson  11S13E01CB  690p,691p,ROW  44.626691 -121.110808       3066   \n",
      "188  Jefferson  11S13E02DA            ROW  44.626691 -121.110808       3067   \n",
      "189  Jefferson  11S13E12DD            ROW  44.626691 -121.110808       3068   \n",
      "\n",
      "            notes missinglot  \n",
      "184           ROW          Y  \n",
      "185           ROW          Y  \n",
      "186           ROW          Y  \n",
      "187  ROW, Partial          N  \n",
      "188           ROW          Y  \n",
      "189           ROW          Y  \n",
      "Press 'p' to pause or any key to stop...P\n",
      "Press 'a' to add the wd record or 'c' to continue...C\n",
      "26.7% digitized, 11 records remained, expected to be done in about 9 hours...\n",
      "WD2021-0183\n",
      "index = 192\n",
      "        county       trsqq parcel_id   latitude   longitude  record_ID notes  \\\n",
      "191  Jefferson  11S13E11AC       ROW  44.629032 -121.137258       3070   ROW   \n",
      "192  Jefferson  11S13E11DB       ROW        NaN         NaN       3071   ROW   \n",
      "193  Jefferson  11S13E11AD       ROW        NaN         NaN       3072   ROW   \n",
      "194  Jefferson  11S13E01CD       ROW        NaN         NaN       3073   ROW   \n",
      "195  Jefferson  11S13E11DA       ROW        NaN         NaN       3074   ROW   \n",
      "\n",
      "    missinglot  \n",
      "191          Y  \n",
      "192          Y  \n",
      "193          Y  \n",
      "194          Y  \n",
      "195          Y  \n",
      "Press 'p' to pause or any key to stop...P\n",
      "Press 'a' to add the wd record or 'c' to continue...C\n",
      "33.3% digitized, 10 records remained, expected to be done in about 8 hours...\n",
      "WD2017-0419\n",
      "index = 225\n",
      "    county       trsqq           parcel_id   latitude   longitude  record_ID  \\\n",
      "224   Linn  11S03W05DB      5600,RAILS,ROW  44.637831 -123.069913       3103   \n",
      "225   Linn  11S03W04CB                 100  44.637831 -123.069913       3104   \n",
      "226   Linn  11S03W05DD         100,202,300  44.637831 -123.069913       3105   \n",
      "227   Linn  11S03W05DA  600,3800,RAILS,ROW  44.637831 -123.069913       3106   \n",
      "228   Linn  11S03W04CC                 ROW  44.637831 -123.069913       3107   \n",
      "\n",
      "         notes missinglot  \n",
      "224  ROW, Rail          N  \n",
      "225                     N  \n",
      "226                     N  \n",
      "227  ROW, Rail          N  \n",
      "228        ROW          Y  \n",
      "Press 'p' to pause or any key to stop...p\n",
      "Press 'a' to add the wd record or 'c' to continue...c\n",
      "40.0% digitized, 9 records remained, expected to be done in about 7 hours...\n",
      "WD2019-0208\n",
      "index = 308\n",
      "    county     trsqq parcel_id  latitude  longitude  record_ID    notes  \\\n",
      "307   Linn  11S02W10      400p   44.6314  -122.9211       3186  Partial   \n",
      "\n",
      "    missinglot  \n",
      "307          N  \n",
      "Press 'p' to pause or any key to stop...p\n",
      "Press 'a' to add the wd record or 'c' to continue...c\n",
      "46.7% digitized, 8 records remained, expected to be done in about 6 hours...\n",
      "WD2019-0320\n",
      "index = 318\n",
      "    county     trsqq  parcel_id   latitude  longitude  record_ID    notes  \\\n",
      "317   Linn  12S04W01  601p,700p  44.560536 -123.12258       3196  Partial   \n",
      "\n",
      "    missinglot  \n",
      "317          N  \n",
      "Press 'p' to pause or any key to stop...p\n",
      "Press 'a' to add the wd record or 'c' to continue...c\n",
      "53.3% digitized, 7 records remained, expected to be done in about 6 hours...\n",
      "WD2019-0436\n",
      "index = 323\n",
      "    county     trsqq parcel_id   latitude   longitude  record_ID    notes  \\\n",
      "322   Linn  10S01W33      600p  44.651524 -122.811079       3201  Partial   \n",
      "\n",
      "    missinglot  \n",
      "322          N  \n",
      "Press 'p' to pause or any key to stop...p\n",
      "Press 'a' to add the wd record or 'c' to continue...c\n",
      "60.0% digitized, 6 records remained, expected to be done in about 5 hours...\n",
      "WD2020-0208\n",
      "index = 350\n",
      "    county     trsqq     parcel_id   latitude   longitude  record_ID notes  \\\n",
      "349   Linn  12S02W16      2300,ROW        NaN         NaN       3228   ROW   \n",
      "350   Linn  12S02W23           ROW        NaN         NaN       3229   ROW   \n",
      "351   Linn  12S02W15          ROWs        NaN         NaN       3230   ROW   \n",
      "352   Linn  12S02W09           ROW  44.536339 -122.927786       3231   ROW   \n",
      "353   Linn  12S02W22  300,400,ROWs        NaN         NaN       3232   ROW   \n",
      "\n",
      "    missinglot  \n",
      "349          N  \n",
      "350          Y  \n",
      "351          Y  \n",
      "352          Y  \n",
      "353          N  \n",
      "Press 'p' to pause or any key to stop...p\n",
      "Press 'a' to add the wd record or 'c' to continue...c\n",
      "66.7% digitized, 5 records remained, expected to be done in about 4 hours...\n",
      "WD2020-0568\n",
      "index = 389\n",
      "    county     trsqq parcel_id   latitude   longitude  record_ID    notes  \\\n",
      "388   Linn  12S02W23     1701p  44.515499 -122.902774       3267  Partial   \n",
      "\n",
      "    missinglot  \n",
      "388          N  \n",
      "Press 'p' to pause or any key to stop...p\n",
      "Press 'a' to add the wd record or 'c' to continue...c\n",
      "73.3% digitized, 4 records remained, expected to be done in about 3 hours...\n",
      "WD2018-0139\n",
      "index = 524\n",
      "        county       trsqq parcel_id  latitude  longitude  record_ID notes  \\\n",
      "523  Multnomah  01S01E20CB       ROW  45.46717 -122.72083       3402   ROW   \n",
      "\n",
      "    missinglot  \n",
      "523          Y  \n",
      "Press 'p' to pause or any key to stop...p\n",
      "Press 'a' to add the wd record or 'c' to continue...c\n",
      "80.0% digitized, 3 records remained, expected to be done in about 2 hours...\n",
      "WD2019-0300\n",
      "index = 643\n",
      "        county       trsqq parcel_id   latitude  longitude  record_ID notes  \\\n",
      "642  Multnomah  01N01E22BC      2500  45.556435 -122.67705       3521         \n",
      "\n",
      "    missinglot  \n",
      "642          N  \n",
      "Press 'p' to pause or any key to stop...p\n",
      "Press 'a' to add the wd record or 'c' to continue...c\n",
      "86.7% digitized, 2 records remained, expected to be done in about 2 hours...\n",
      "WD2021-0653\n",
      "index = 823\n",
      "        county      trsqq parcel_id   latitude  longitude  record_ID    notes  \\\n",
      "822  Multnomah  01S03E20D     1200p  45.464835 -122.46644       3701  Partial   \n",
      "\n",
      "    missinglot  \n",
      "822          N  \n",
      "Press 'p' to pause or any key to stop...p\n",
      "Press 'a' to add the wd record or 'c' to continue...c\n",
      "93.3% digitized, 1 records remained, expected to be done in about 1 hours...\n",
      "WD2020-0252\n",
      "index = 971\n",
      "      county       trsqq parcel_id   latitude   longitude  record_ID notes  \\\n",
      "970  Yamhill  03S03W26AD       ROW  45.282375 -123.014544       3849   ROW   \n",
      "\n",
      "    missinglot  \n",
      "970          Y  \n",
      "Press 'p' to pause or any key to stop...p\n",
      "Press 'a' to add the wd record or 'c' to continue...c\n"
     ]
    }
   ],
   "source": [
    "review_loop_r1(df=toCheck_df, partial=True, idx=True)"
   ]
  },
  {
   "cell_type": "code",
   "execution_count": 37,
   "id": "7b63cf2e",
   "metadata": {},
   "outputs": [],
   "source": [
    "issuepath = inpath + '\\\\GIS\\\\ArcGIS Pro Project\\\\DataReview\\\\issueIDs.gdb'"
   ]
  },
  {
   "cell_type": "code",
   "execution_count": 38,
   "id": "387e0723",
   "metadata": {},
   "outputs": [],
   "source": [
    "mapped = [lyr for lyr in fiona.listlayers(issuepath) if (lyr != 'WD2017_0229') and ('L' not in lyr)]"
   ]
  },
  {
   "cell_type": "code",
   "execution_count": 40,
   "id": "768169bf",
   "metadata": {},
   "outputs": [
    {
     "data": {
      "text/plain": [
       "35"
      ]
     },
     "execution_count": 40,
     "metadata": {},
     "output_type": "execute_result"
    }
   ],
   "source": [
    "len(mapped)"
   ]
  },
  {
   "cell_type": "code",
   "execution_count": 81,
   "id": "66214ee1",
   "metadata": {},
   "outputs": [],
   "source": [
    "gdf = merge_single_partial_file(setID=False, wIDlist=mapped, from_set=False)"
   ]
  },
  {
   "cell_type": "code",
   "execution_count": 82,
   "id": "8e36f5e9",
   "metadata": {},
   "outputs": [],
   "source": [
    "gdf = gdf.dissolve('wdID')\n",
    "gdf['wdID'] = gdf.index\n",
    "gdf.reset_index(drop=True, inplace=True)"
   ]
  },
  {
   "cell_type": "code",
   "execution_count": 83,
   "id": "5460d3f0",
   "metadata": {},
   "outputs": [],
   "source": [
    "code0 = [\"WD2019-0300\", \"WD2021-0597\", \"WD2019-0436\", \"WD2020-0568\", \"WD2019-0300\"]\n",
    "code1 = [\"WD2017-0314\", \"WD2019-0046\", \"WD2019-0496\", \"WD2021-0416\", \"WD2021-0653\"]"
   ]
  },
  {
   "cell_type": "code",
   "execution_count": 84,
   "id": "f6eacf65",
   "metadata": {},
   "outputs": [],
   "source": [
    "gdf.loc[gdf.wdID.isin(code0),'code'] = 0\n",
    "gdf.loc[gdf.wdID.isin(code1),'code'] = 1\n",
    "gdf.loc[gdf.code.isnull(),'code'] = 2"
   ]
  },
  {
   "cell_type": "code",
   "execution_count": 152,
   "id": "651c0c98",
   "metadata": {},
   "outputs": [
    {
     "data": {
      "text/plain": [
       "(35, 6)"
      ]
     },
     "execution_count": 152,
     "metadata": {},
     "output_type": "execute_result"
    }
   ],
   "source": [
    "gdf.shape"
   ]
  },
  {
   "cell_type": "code",
   "execution_count": 74,
   "id": "d8c997e7",
   "metadata": {},
   "outputs": [],
   "source": [
    "wd_df = get_all_wd(num=4)"
   ]
  },
  {
   "cell_type": "code",
   "execution_count": 76,
   "id": "0282506f",
   "metadata": {},
   "outputs": [],
   "source": [
    "set_dict = dict(zip(wd_df.wetdet_delin_number, wd_df.SetID))"
   ]
  },
  {
   "cell_type": "code",
   "execution_count": 85,
   "id": "f61557ed",
   "metadata": {},
   "outputs": [],
   "source": [
    "gdf.loc[:,'SetID'] = gdf.wdID.map(set_dict)"
   ]
  },
  {
   "cell_type": "code",
   "execution_count": 195,
   "id": "040dacae",
   "metadata": {},
   "outputs": [],
   "source": [
    "sa_gdf_all = get_all_SA(num=4)"
   ]
  },
  {
   "cell_type": "code",
   "execution_count": 80,
   "id": "f226f8da",
   "metadata": {},
   "outputs": [
    {
     "data": {
      "text/html": [
       "<div>\n",
       "<style scoped>\n",
       "    .dataframe tbody tr th:only-of-type {\n",
       "        vertical-align: middle;\n",
       "    }\n",
       "\n",
       "    .dataframe tbody tr th {\n",
       "        vertical-align: top;\n",
       "    }\n",
       "\n",
       "    .dataframe thead th {\n",
       "        text-align: right;\n",
       "    }\n",
       "</style>\n",
       "<table border=\"1\" class=\"dataframe\">\n",
       "  <thead>\n",
       "    <tr style=\"text-align: right;\">\n",
       "      <th></th>\n",
       "      <th>code</th>\n",
       "      <th>wdID</th>\n",
       "      <th>geometry</th>\n",
       "      <th>SetID</th>\n",
       "    </tr>\n",
       "  </thead>\n",
       "  <tbody>\n",
       "    <tr>\n",
       "      <th>0</th>\n",
       "      <td>2</td>\n",
       "      <td>WD2017-0003</td>\n",
       "      <td>POLYGON ((447632.599 1578055.844, 447349.923 1...</td>\n",
       "      <td>1</td>\n",
       "    </tr>\n",
       "    <tr>\n",
       "      <th>1</th>\n",
       "      <td>2</td>\n",
       "      <td>WD2017-0014</td>\n",
       "      <td>POLYGON ((659383.287 224983.480, 659986.729 22...</td>\n",
       "      <td>1</td>\n",
       "    </tr>\n",
       "    <tr>\n",
       "      <th>2</th>\n",
       "      <td>0</td>\n",
       "      <td>WD2017-0016</td>\n",
       "      <td>POLYGON ((266404.216 519932.161, 266504.107 51...</td>\n",
       "      <td>1</td>\n",
       "    </tr>\n",
       "  </tbody>\n",
       "</table>\n",
       "</div>"
      ],
      "text/plain": [
       "   code         wdID                                           geometry  SetID\n",
       "0     2  WD2017-0003  POLYGON ((447632.599 1578055.844, 447349.923 1...      1\n",
       "1     2  WD2017-0014  POLYGON ((659383.287 224983.480, 659986.729 22...      1\n",
       "2     0  WD2017-0016  POLYGON ((266404.216 519932.161, 266504.107 51...      1"
      ]
     },
     "execution_count": 80,
     "metadata": {},
     "output_type": "execute_result"
    }
   ],
   "source": [
    "sa_gdf_all.head(3)"
   ]
  },
  {
   "cell_type": "code",
   "execution_count": 226,
   "id": "0ba46a0f",
   "metadata": {},
   "outputs": [],
   "source": [
    "all_gdf = pd.concat([sa_gdf_all[['wdID', 'code', 'SetID', 'geometry']],\n",
    "                    gdf[['wdID', 'code', 'SetID', 'geometry']]], ignore_index=True)"
   ]
  },
  {
   "cell_type": "code",
   "execution_count": 88,
   "id": "f029bfc9",
   "metadata": {},
   "outputs": [
    {
     "name": "stdout",
     "output_type": "stream",
     "text": [
      "it took 9.0 minutes to complete\n"
     ]
    }
   ],
   "source": [
    "start = time.time()\n",
    "all_taxlot = combine_taxlot()\n",
    "end = time.time()\n",
    "print(f'it took {round((end - start)/60, 0)} minutes to complete')"
   ]
  },
  {
   "cell_type": "code",
   "execution_count": 89,
   "id": "a99600bb",
   "metadata": {},
   "outputs": [
    {
     "name": "stdout",
     "output_type": "stream",
     "text": [
      "it took 1.0 minutes to complete\n"
     ]
    }
   ],
   "source": [
    "start = time.time()\n",
    "all_mapIdx = read_all_mapIdx()\n",
    "end = time.time()\n",
    "print(f'it took {round((end - start)/60, 0)} minutes to complete')"
   ]
  },
  {
   "cell_type": "code",
   "execution_count": 201,
   "id": "9fce993c",
   "metadata": {},
   "outputs": [],
   "source": [
    "gdf.loc[gdf.wdID=='WD2021-0495', 'wdID'] = 'WD2021-0031'\n",
    "gdf = gdf[~gdf.wdID.isin(['WD2019-0259', 'WD2018-0352', 'WD2019-0300'])]\n",
    "sa_gdf_all = sa_gdf_all[~sa_gdf_all.wdID.isin(['WD2019-0259'])]\n",
    "sa_gdf_all = sa_gdf_all[~((sa_gdf_all.wdID=='WD2021-0686') & (sa_gdf_all.SetID==1))]\n",
    "sa_gdf_all = sa_gdf_all[~((sa_gdf_all.wdID=='WD2022-0026') & (sa_gdf_all.SetID==2))]"
   ]
  },
  {
   "cell_type": "code",
   "execution_count": 229,
   "id": "b717e195",
   "metadata": {},
   "outputs": [
    {
     "data": {
      "text/html": [
       "<div>\n",
       "<style scoped>\n",
       "    .dataframe tbody tr th:only-of-type {\n",
       "        vertical-align: middle;\n",
       "    }\n",
       "\n",
       "    .dataframe tbody tr th {\n",
       "        vertical-align: top;\n",
       "    }\n",
       "\n",
       "    .dataframe thead th {\n",
       "        text-align: right;\n",
       "    }\n",
       "</style>\n",
       "<table border=\"1\" class=\"dataframe\">\n",
       "  <thead>\n",
       "    <tr style=\"text-align: right;\">\n",
       "      <th></th>\n",
       "      <th>code</th>\n",
       "      <th>wdID</th>\n",
       "      <th>geometry</th>\n",
       "      <th>SetID</th>\n",
       "    </tr>\n",
       "  </thead>\n",
       "  <tbody>\n",
       "    <tr>\n",
       "      <th>453</th>\n",
       "      <td>0</td>\n",
       "      <td>WD2019-0511</td>\n",
       "      <td>POLYGON ((667916.072 1236023.094, 667881.278 1...</td>\n",
       "      <td>1</td>\n",
       "    </tr>\n",
       "    <tr>\n",
       "      <th>1203</th>\n",
       "      <td>0</td>\n",
       "      <td>WD2019-0511</td>\n",
       "      <td>MULTIPOLYGON Z (((598409.865 958092.642 0.000,...</td>\n",
       "      <td>2</td>\n",
       "    </tr>\n",
       "    <tr>\n",
       "      <th>2183</th>\n",
       "      <td>0</td>\n",
       "      <td>WD2019-0511</td>\n",
       "      <td>MULTIPOLYGON (((601741.516 983380.405, 601794....</td>\n",
       "      <td>4</td>\n",
       "    </tr>\n",
       "  </tbody>\n",
       "</table>\n",
       "</div>"
      ],
      "text/plain": [
       "      code         wdID                                           geometry  \\\n",
       "453      0  WD2019-0511  POLYGON ((667916.072 1236023.094, 667881.278 1...   \n",
       "1203     0  WD2019-0511  MULTIPOLYGON Z (((598409.865 958092.642 0.000,...   \n",
       "2183     0  WD2019-0511  MULTIPOLYGON (((601741.516 983380.405, 601794....   \n",
       "\n",
       "      SetID  \n",
       "453       1  \n",
       "1203      2  \n",
       "2183      4  "
      ]
     },
     "execution_count": 229,
     "metadata": {},
     "output_type": "execute_result"
    }
   ],
   "source": [
    "sa_gdf_all[sa_gdf_all.wdID.isin(wdID_list)]"
   ]
  },
  {
   "cell_type": "code",
   "execution_count": 103,
   "id": "fcb81917",
   "metadata": {},
   "outputs": [
    {
     "data": {
      "text/plain": [
       "Index(['wetdet_delin_number', 'trsqq', 'parcel_id', 'address_location_desc',\n",
       "       'city', 'county', 'site_name', 'site_desc', 'latitude', 'longitude',\n",
       "       'Coord-Source', 'DocumentName', 'DecisionLink', 'is_batch_file',\n",
       "       'status_name', 'received_date', 'response_date',\n",
       "       'reissuance_response_date', 'project_id', 'site_id', 'record_ID',\n",
       "       'notes', 'recyear', 'IDyear', 'missinglot', 'SetID'],\n",
       "      dtype='object')"
      ]
     },
     "execution_count": 103,
     "metadata": {},
     "output_type": "execute_result"
    }
   ],
   "source": [
    "wd_df.columns"
   ]
  },
  {
   "cell_type": "code",
   "execution_count": 233,
   "id": "e46ba599",
   "metadata": {},
   "outputs": [],
   "source": [
    "wd_df.loc[wd_df.county == 'TIllamook', 'county'] = 'Tillamook'"
   ]
  },
  {
   "cell_type": "code",
   "execution_count": 234,
   "id": "0262588f",
   "metadata": {},
   "outputs": [],
   "source": [
    "wd_df.loc[wd_df.county == 'Yamhill and Washington', 'county'] = 'Yamhill'"
   ]
  },
  {
   "cell_type": "markdown",
   "id": "28e59124",
   "metadata": {},
   "source": [
    "all_gdf = all_gdf.dissolve('wdID')\n",
    "all_gdf['wdID'] = all_gdf.index\n",
    "all_gdf.reset_index(drop=True, inplace=True)"
   ]
  },
  {
   "cell_type": "code",
   "execution_count": 275,
   "id": "03e83bc8",
   "metadata": {},
   "outputs": [],
   "source": [
    "selectedID = wd_df.parcel_id.astype(str) != 'nan'\n",
    "wd_df = wd_df.copy()[selectedID]\n",
    "wd_df['notes'] = wd_df.copy()['parcel_id'].apply(lambda x: make_notes(x))"
   ]
  },
  {
   "cell_type": "code",
   "execution_count": 280,
   "id": "562af0ee",
   "metadata": {},
   "outputs": [],
   "source": [
    "wd_dt = wd_df[wd_df.notes == '']"
   ]
  },
  {
   "cell_type": "code",
   "execution_count": 363,
   "id": "83cc45a6",
   "metadata": {},
   "outputs": [
    {
     "name": "stdout",
     "output_type": "stream",
     "text": [
      "it took 3.0 minutes to complete\n"
     ]
    }
   ],
   "source": [
    "start = time.time()\n",
    "out = split_SA_by_wid_in_df(wd_df=wd_dt, \n",
    "                            sa_gdf_all=all_gdf, \n",
    "                            all_mapIdx=all_mapIdx, \n",
    "                            all_taxlot=all_taxlot, \n",
    "                            em_wids=all_gdf.wdID.unique(),\n",
    "                            export=True, \n",
    "                            outnm='wd_sa_gdf', \n",
    "                            review=True)\n",
    "end = time.time()\n",
    "print(f'it took {round((end - start)/60, 0)} minutes to complete')"
   ]
  }
 ],
 "metadata": {
  "kernelspec": {
   "display_name": "Python 3",
   "language": "python",
   "name": "python3"
  },
  "language_info": {
   "codemirror_mode": {
    "name": "ipython",
    "version": 3
   },
   "file_extension": ".py",
   "mimetype": "text/x-python",
   "name": "python",
   "nbconvert_exporter": "python",
   "pygments_lexer": "ipython3",
   "version": "3.8.8"
  }
 },
 "nbformat": 4,
 "nbformat_minor": 5
}
