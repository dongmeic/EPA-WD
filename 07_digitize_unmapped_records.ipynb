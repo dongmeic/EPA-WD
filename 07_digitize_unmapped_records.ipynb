{
 "cells": [
  {
   "cell_type": "code",
   "execution_count": 1,
   "id": "39d961f5",
   "metadata": {},
   "outputs": [],
   "source": [
    "%load_ext autoreload\n",
    "%autoreload 2"
   ]
  },
  {
   "cell_type": "code",
   "execution_count": 452,
   "id": "67acbe3d",
   "metadata": {},
   "outputs": [],
   "source": [
    "from wdtools import *"
   ]
  },
  {
   "cell_type": "code",
   "execution_count": 32,
   "id": "0cad45c1",
   "metadata": {},
   "outputs": [],
   "source": [
    "#setID = 'Set001'; nm_to_add=0\n",
    "#setID = 'Set002'; nm_to_add=1420\n",
    "#setID = 'Set003'; nm_to_add = 2143\n",
    "setID = 'Set004'; nm_to_add = 2878"
   ]
  },
  {
   "cell_type": "code",
   "execution_count": 33,
   "id": "73e7f1a0",
   "metadata": {},
   "outputs": [],
   "source": [
    "wd = combine_wd_tables(setID=setID, nm_to_add=nm_to_add)"
   ]
  },
  {
   "cell_type": "code",
   "execution_count": 59,
   "id": "a6d0c8a3",
   "metadata": {},
   "outputs": [],
   "source": [
    "unmapped_notes = pd.read_excel(f'{inpath}\\\\notes\\\\LCOGUnmappedRecordsJB.xlsx', skiprows=1)"
   ]
  },
  {
   "cell_type": "code",
   "execution_count": 13,
   "id": "12ad72ce",
   "metadata": {},
   "outputs": [],
   "source": [
    "mappedIDs = ['WD2017-0198', 'WD2017-0229', 'WD2019-0082', 'WD2021-0179']\n",
    "holdIDs = ['WD2022-0291', 'WD2021-0703']\n",
    "nomapIDs = ['WD2021-0181', 'WD2022-0158']\n",
    "maybeIDs = ['WD2017-0050', 'WD2017-0022', 'WD2020-0531']"
   ]
  },
  {
   "cell_type": "code",
   "execution_count": 15,
   "id": "9fd6ea4b",
   "metadata": {},
   "outputs": [],
   "source": [
    "skipIDs = mappedIDs + holdIDs + nomapIDs + maybeIDs"
   ]
  },
  {
   "cell_type": "code",
   "execution_count": 16,
   "id": "def47194",
   "metadata": {},
   "outputs": [],
   "source": [
    "wdIDs = [wid for wid in unmapped_notes.wetdet_delin_number.unique() if wid not in skipIDs]"
   ]
  },
  {
   "cell_type": "code",
   "execution_count": 34,
   "id": "a4aa2f16",
   "metadata": {},
   "outputs": [
    {
     "data": {
      "text/plain": [
       "31"
      ]
     },
     "execution_count": 34,
     "metadata": {},
     "output_type": "execute_result"
    }
   ],
   "source": [
    "len(wdIDs)"
   ]
  },
  {
   "cell_type": "code",
   "execution_count": 35,
   "id": "97151e17",
   "metadata": {},
   "outputs": [],
   "source": [
    "toCheck_df = wd[wd.wetdet_delin_number.isin(wdIDs)]"
   ]
  },
  {
   "cell_type": "code",
   "execution_count": 36,
   "id": "8b8cbcd6",
   "metadata": {},
   "outputs": [
    {
     "name": "stdout",
     "output_type": "stream",
     "text": [
      "0.0% digitized, 15 records remained, expected to be done in about 12 hours...\n",
      "WD2021-0031\n",
      "index = 27\n",
      "   county     trsqq parcel_id   latitude   longitude  record_ID notes  \\\n",
      "26  Crook  15S14E01   702,800  44.292086 -120.989141       2905         \n",
      "27  Crook  15S15E07       300  44.292086 -120.989141       2906         \n",
      "28  Crook  15S14E12   100,401  44.292086 -120.989141       2907         \n",
      "29  Crook  15S14E06       600  44.292086 -120.989141       2908         \n",
      "\n",
      "   missinglot  \n",
      "26          N  \n",
      "27          N  \n",
      "28          N  \n",
      "29          N  \n",
      "Press 'p' to pause or any key to stop...p\n",
      "Press 'a' to add the wd record or 'c' to continue...c\n",
      "6.7% digitized, 14 records remained, expected to be done in about 11 hours...\n",
      "WD2018-0002\n",
      "index = 97\n",
      "        county     trsqq parcel_id   latitude   longitude  record_ID  \\\n",
      "96  Hood River  03S09E00  100p,ROW  45.319481 -121.628633       2975   \n",
      "\n",
      "           notes missinglot  \n",
      "96  ROW, Partial          N  \n",
      "Press 'p' to pause or any key to stop...p\n",
      "Press 'a' to add the wd record or 'c' to continue...c\n",
      "13.3% digitized, 13 records remained, expected to be done in about 10 hours...\n",
      "WD2019-0389\n",
      "index = 116\n",
      "         county       trsqq parcel_id   latitude   longitude  record_ID notes  \\\n",
      "115  Hood River  03N10E25CB       ROW  45.712225 -121.519843       2994   ROW   \n",
      "116  Hood River    03N10E25       ROW  45.712225 -121.519843       2995   ROW   \n",
      "\n",
      "    missinglot  \n",
      "115          Y  \n",
      "116          Y  \n",
      "Press 'p' to pause or any key to stop...P\n",
      "Press 'a' to add the wd record or 'c' to continue...C\n",
      "20.0% digitized, 12 records remained, expected to be done in about 10 hours...\n",
      "WD2020-0400\n",
      "index = 185\n",
      "        county       trsqq      parcel_id   latitude   longitude  record_ID  \\\n",
      "184  Jefferson  11S13E12AC            ROW  44.626691 -121.110808       3063   \n",
      "185  Jefferson  11S13E12AD            ROW  44.626691 -121.110808       3064   \n",
      "186  Jefferson   11S13E12D            ROW  44.626691 -121.110808       3065   \n",
      "187  Jefferson  11S13E01CB  690p,691p,ROW  44.626691 -121.110808       3066   \n",
      "188  Jefferson  11S13E02DA            ROW  44.626691 -121.110808       3067   \n",
      "189  Jefferson  11S13E12DD            ROW  44.626691 -121.110808       3068   \n",
      "\n",
      "            notes missinglot  \n",
      "184           ROW          Y  \n",
      "185           ROW          Y  \n",
      "186           ROW          Y  \n",
      "187  ROW, Partial          N  \n",
      "188           ROW          Y  \n",
      "189           ROW          Y  \n",
      "Press 'p' to pause or any key to stop...P\n",
      "Press 'a' to add the wd record or 'c' to continue...C\n",
      "26.7% digitized, 11 records remained, expected to be done in about 9 hours...\n",
      "WD2021-0183\n",
      "index = 192\n",
      "        county       trsqq parcel_id   latitude   longitude  record_ID notes  \\\n",
      "191  Jefferson  11S13E11AC       ROW  44.629032 -121.137258       3070   ROW   \n",
      "192  Jefferson  11S13E11DB       ROW        NaN         NaN       3071   ROW   \n",
      "193  Jefferson  11S13E11AD       ROW        NaN         NaN       3072   ROW   \n",
      "194  Jefferson  11S13E01CD       ROW        NaN         NaN       3073   ROW   \n",
      "195  Jefferson  11S13E11DA       ROW        NaN         NaN       3074   ROW   \n",
      "\n",
      "    missinglot  \n",
      "191          Y  \n",
      "192          Y  \n",
      "193          Y  \n",
      "194          Y  \n",
      "195          Y  \n",
      "Press 'p' to pause or any key to stop...P\n",
      "Press 'a' to add the wd record or 'c' to continue...C\n",
      "33.3% digitized, 10 records remained, expected to be done in about 8 hours...\n",
      "WD2017-0419\n",
      "index = 225\n",
      "    county       trsqq           parcel_id   latitude   longitude  record_ID  \\\n",
      "224   Linn  11S03W05DB      5600,RAILS,ROW  44.637831 -123.069913       3103   \n",
      "225   Linn  11S03W04CB                 100  44.637831 -123.069913       3104   \n",
      "226   Linn  11S03W05DD         100,202,300  44.637831 -123.069913       3105   \n",
      "227   Linn  11S03W05DA  600,3800,RAILS,ROW  44.637831 -123.069913       3106   \n",
      "228   Linn  11S03W04CC                 ROW  44.637831 -123.069913       3107   \n",
      "\n",
      "         notes missinglot  \n",
      "224  ROW, Rail          N  \n",
      "225                     N  \n",
      "226                     N  \n",
      "227  ROW, Rail          N  \n",
      "228        ROW          Y  \n",
      "Press 'p' to pause or any key to stop...p\n",
      "Press 'a' to add the wd record or 'c' to continue...c\n",
      "40.0% digitized, 9 records remained, expected to be done in about 7 hours...\n",
      "WD2019-0208\n",
      "index = 308\n",
      "    county     trsqq parcel_id  latitude  longitude  record_ID    notes  \\\n",
      "307   Linn  11S02W10      400p   44.6314  -122.9211       3186  Partial   \n",
      "\n",
      "    missinglot  \n",
      "307          N  \n",
      "Press 'p' to pause or any key to stop...p\n",
      "Press 'a' to add the wd record or 'c' to continue...c\n",
      "46.7% digitized, 8 records remained, expected to be done in about 6 hours...\n",
      "WD2019-0320\n",
      "index = 318\n",
      "    county     trsqq  parcel_id   latitude  longitude  record_ID    notes  \\\n",
      "317   Linn  12S04W01  601p,700p  44.560536 -123.12258       3196  Partial   \n",
      "\n",
      "    missinglot  \n",
      "317          N  \n",
      "Press 'p' to pause or any key to stop...p\n",
      "Press 'a' to add the wd record or 'c' to continue...c\n",
      "53.3% digitized, 7 records remained, expected to be done in about 6 hours...\n",
      "WD2019-0436\n",
      "index = 323\n",
      "    county     trsqq parcel_id   latitude   longitude  record_ID    notes  \\\n",
      "322   Linn  10S01W33      600p  44.651524 -122.811079       3201  Partial   \n",
      "\n",
      "    missinglot  \n",
      "322          N  \n",
      "Press 'p' to pause or any key to stop...p\n",
      "Press 'a' to add the wd record or 'c' to continue...c\n",
      "60.0% digitized, 6 records remained, expected to be done in about 5 hours...\n",
      "WD2020-0208\n",
      "index = 350\n",
      "    county     trsqq     parcel_id   latitude   longitude  record_ID notes  \\\n",
      "349   Linn  12S02W16      2300,ROW        NaN         NaN       3228   ROW   \n",
      "350   Linn  12S02W23           ROW        NaN         NaN       3229   ROW   \n",
      "351   Linn  12S02W15          ROWs        NaN         NaN       3230   ROW   \n",
      "352   Linn  12S02W09           ROW  44.536339 -122.927786       3231   ROW   \n",
      "353   Linn  12S02W22  300,400,ROWs        NaN         NaN       3232   ROW   \n",
      "\n",
      "    missinglot  \n",
      "349          N  \n",
      "350          Y  \n",
      "351          Y  \n",
      "352          Y  \n",
      "353          N  \n",
      "Press 'p' to pause or any key to stop...p\n",
      "Press 'a' to add the wd record or 'c' to continue...c\n",
      "66.7% digitized, 5 records remained, expected to be done in about 4 hours...\n",
      "WD2020-0568\n",
      "index = 389\n",
      "    county     trsqq parcel_id   latitude   longitude  record_ID    notes  \\\n",
      "388   Linn  12S02W23     1701p  44.515499 -122.902774       3267  Partial   \n",
      "\n",
      "    missinglot  \n",
      "388          N  \n",
      "Press 'p' to pause or any key to stop...p\n",
      "Press 'a' to add the wd record or 'c' to continue...c\n",
      "73.3% digitized, 4 records remained, expected to be done in about 3 hours...\n",
      "WD2018-0139\n",
      "index = 524\n",
      "        county       trsqq parcel_id  latitude  longitude  record_ID notes  \\\n",
      "523  Multnomah  01S01E20CB       ROW  45.46717 -122.72083       3402   ROW   \n",
      "\n",
      "    missinglot  \n",
      "523          Y  \n",
      "Press 'p' to pause or any key to stop...p\n",
      "Press 'a' to add the wd record or 'c' to continue...c\n",
      "80.0% digitized, 3 records remained, expected to be done in about 2 hours...\n",
      "WD2019-0300\n",
      "index = 643\n",
      "        county       trsqq parcel_id   latitude  longitude  record_ID notes  \\\n",
      "642  Multnomah  01N01E22BC      2500  45.556435 -122.67705       3521         \n",
      "\n",
      "    missinglot  \n",
      "642          N  \n",
      "Press 'p' to pause or any key to stop...p\n",
      "Press 'a' to add the wd record or 'c' to continue...c\n",
      "86.7% digitized, 2 records remained, expected to be done in about 2 hours...\n",
      "WD2021-0653\n",
      "index = 823\n",
      "        county      trsqq parcel_id   latitude  longitude  record_ID    notes  \\\n",
      "822  Multnomah  01S03E20D     1200p  45.464835 -122.46644       3701  Partial   \n",
      "\n",
      "    missinglot  \n",
      "822          N  \n",
      "Press 'p' to pause or any key to stop...p\n",
      "Press 'a' to add the wd record or 'c' to continue...c\n",
      "93.3% digitized, 1 records remained, expected to be done in about 1 hours...\n",
      "WD2020-0252\n",
      "index = 971\n",
      "      county       trsqq parcel_id   latitude   longitude  record_ID notes  \\\n",
      "970  Yamhill  03S03W26AD       ROW  45.282375 -123.014544       3849   ROW   \n",
      "\n",
      "    missinglot  \n",
      "970          Y  \n",
      "Press 'p' to pause or any key to stop...p\n",
      "Press 'a' to add the wd record or 'c' to continue...c\n"
     ]
    }
   ],
   "source": [
    "review_loop_r1(df=toCheck_df, partial=True, idx=True)"
   ]
  },
  {
   "cell_type": "code",
   "execution_count": 37,
   "id": "1823e884",
   "metadata": {},
   "outputs": [],
   "source": [
    "issuepath = inpath + '\\\\GIS\\\\ArcGIS Pro Project\\\\DataReview\\\\issueIDs.gdb'"
   ]
  },
  {
   "cell_type": "code",
   "execution_count": 369,
   "id": "56a90c67",
   "metadata": {},
   "outputs": [],
   "source": [
    "mapped = [lyr for lyr in fiona.listlayers(issuepath) if (lyr != 'WD2017_0229') and ('L' not in lyr)]"
   ]
  },
  {
   "cell_type": "code",
   "execution_count": 40,
   "id": "e9d2030c",
   "metadata": {},
   "outputs": [
    {
     "data": {
      "text/plain": [
       "35"
      ]
     },
     "execution_count": 40,
     "metadata": {},
     "output_type": "execute_result"
    }
   ],
   "source": [
    "len(mapped)"
   ]
  },
  {
   "cell_type": "code",
   "execution_count": 370,
   "id": "d464ec5a",
   "metadata": {},
   "outputs": [],
   "source": [
    "gdf = merge_single_partial_file(setID=False, wIDlist=mapped, from_set=False)"
   ]
  },
  {
   "cell_type": "code",
   "execution_count": 372,
   "id": "c03eb7ee",
   "metadata": {},
   "outputs": [],
   "source": [
    "gdf = gdf.dissolve('wdID')\n",
    "gdf['wdID'] = gdf.index\n",
    "gdf.reset_index(drop=True, inplace=True)"
   ]
  },
  {
   "cell_type": "code",
   "execution_count": 373,
   "id": "9db50990",
   "metadata": {},
   "outputs": [],
   "source": [
    "code0 = [\"WD2019-0300\", \"WD2021-0597\", \"WD2019-0436\", \"WD2020-0568\", \"WD2019-0300\"]\n",
    "code1 = [\"WD2017-0314\", \"WD2019-0046\", \"WD2019-0496\", \"WD2021-0416\", \"WD2021-0653\"]"
   ]
  },
  {
   "cell_type": "code",
   "execution_count": 374,
   "id": "2daa95fa",
   "metadata": {},
   "outputs": [],
   "source": [
    "gdf.loc[gdf.wdID.isin(code0),'code'] = 0\n",
    "gdf.loc[gdf.wdID.isin(code1),'code'] = 1\n",
    "gdf.loc[gdf.code.isnull(),'code'] = 2"
   ]
  },
  {
   "cell_type": "code",
   "execution_count": 152,
   "id": "db9f357e",
   "metadata": {},
   "outputs": [
    {
     "data": {
      "text/plain": [
       "(35, 6)"
      ]
     },
     "execution_count": 152,
     "metadata": {},
     "output_type": "execute_result"
    }
   ],
   "source": [
    "gdf.shape"
   ]
  },
  {
   "cell_type": "code",
   "execution_count": 413,
   "id": "9230cfa7",
   "metadata": {},
   "outputs": [],
   "source": [
    "wd_df = get_all_wd(num=4)"
   ]
  },
  {
   "cell_type": "code",
   "execution_count": 76,
   "id": "b6e1ddd1",
   "metadata": {},
   "outputs": [],
   "source": [
    "set_dict = dict(zip(wd_df.wetdet_delin_number, wd_df.SetID))"
   ]
  },
  {
   "cell_type": "code",
   "execution_count": 375,
   "id": "c2031a3d",
   "metadata": {},
   "outputs": [],
   "source": [
    "gdf.loc[:,'SetID'] = gdf.wdID.map(set_dict)"
   ]
  },
  {
   "cell_type": "code",
   "execution_count": 385,
   "id": "147b80e9",
   "metadata": {},
   "outputs": [],
   "source": [
    "sa_gdf_all = get_all_SA(num=4)"
   ]
  },
  {
   "cell_type": "code",
   "execution_count": 386,
   "id": "f26a57fb",
   "metadata": {},
   "outputs": [],
   "source": [
    "all_gdf = pd.concat([sa_gdf_all[['wdID', 'code', 'SetID', 'geometry']],\n",
    "                    gdf[['wdID', 'code', 'SetID', 'geometry']]], ignore_index=True)"
   ]
  },
  {
   "cell_type": "code",
   "execution_count": 88,
   "id": "6007a8b8",
   "metadata": {},
   "outputs": [
    {
     "name": "stdout",
     "output_type": "stream",
     "text": [
      "it took 9.0 minutes to complete\n"
     ]
    }
   ],
   "source": [
    "start = time.time()\n",
    "all_taxlot = combine_taxlot()\n",
    "end = time.time()\n",
    "print(f'it took {round((end - start)/60, 0)} minutes to complete')"
   ]
  },
  {
   "cell_type": "code",
   "execution_count": 89,
   "id": "8c218e70",
   "metadata": {},
   "outputs": [
    {
     "name": "stdout",
     "output_type": "stream",
     "text": [
      "it took 1.0 minutes to complete\n"
     ]
    }
   ],
   "source": [
    "start = time.time()\n",
    "all_mapIdx = read_all_mapIdx()\n",
    "end = time.time()\n",
    "print(f'it took {round((end - start)/60, 0)} minutes to complete')"
   ]
  },
  {
   "cell_type": "code",
   "execution_count": 387,
   "id": "40349068",
   "metadata": {},
   "outputs": [
    {
     "data": {
      "text/plain": [
       "['WD2019-0511', 'WD2021-0686', 'WD2022-0026']"
      ]
     },
     "execution_count": 387,
     "metadata": {},
     "output_type": "execute_result"
    }
   ],
   "source": [
    "wdID_list, n = check_duplicates(sa_gdf_all.wdID.values)\n",
    "wdID_list"
   ]
  },
  {
   "cell_type": "code",
   "execution_count": 388,
   "id": "1b647787",
   "metadata": {},
   "outputs": [
    {
     "data": {
      "text/plain": [
       "[]"
      ]
     },
     "execution_count": 388,
     "metadata": {},
     "output_type": "execute_result"
    }
   ],
   "source": [
    "wdID_list, n = check_duplicates(gdf.wdID.values)\n",
    "wdID_list"
   ]
  },
  {
   "cell_type": "code",
   "execution_count": 389,
   "id": "20658da3",
   "metadata": {},
   "outputs": [],
   "source": [
    "wdID_list, n = check_duplicates(all_gdf.wdID.values)"
   ]
  },
  {
   "cell_type": "code",
   "execution_count": 390,
   "id": "308a3f13",
   "metadata": {},
   "outputs": [
    {
     "data": {
      "text/plain": [
       "['WD2019-0259',\n",
       " 'WD2019-0511',\n",
       " 'WD2021-0686',\n",
       " 'WD2018-0352',\n",
       " 'WD2022-0026',\n",
       " 'WD2019-0300',\n",
       " 'WD2021-0495']"
      ]
     },
     "execution_count": 390,
     "metadata": {},
     "output_type": "execute_result"
    }
   ],
   "source": [
    "wdID_list"
   ]
  },
  {
   "cell_type": "code",
   "execution_count": 391,
   "id": "6e309e6d",
   "metadata": {},
   "outputs": [],
   "source": [
    "gdf.loc[gdf.wdID=='WD2021-0495', 'wdID'] = 'WD2021-0031'\n",
    "gdf = gdf[~gdf.wdID.isin(['WD2019-0259', 'WD2018-0352', 'WD2019-0300'])]\n",
    "sa_gdf_all = sa_gdf_all[~sa_gdf_all.wdID.isin(['WD2019-0259'])]\n",
    "sa_gdf_all = sa_gdf_all[~((sa_gdf_all.wdID=='WD2021-0686') & (sa_gdf_all.SetID==1))]\n",
    "sa_gdf_all = sa_gdf_all[~((sa_gdf_all.wdID=='WD2022-0026') & (sa_gdf_all.SetID==2))]"
   ]
  },
  {
   "cell_type": "code",
   "execution_count": 392,
   "id": "d12fcb82",
   "metadata": {},
   "outputs": [
    {
     "data": {
      "text/html": [
       "<div>\n",
       "<style scoped>\n",
       "    .dataframe tbody tr th:only-of-type {\n",
       "        vertical-align: middle;\n",
       "    }\n",
       "\n",
       "    .dataframe tbody tr th {\n",
       "        vertical-align: top;\n",
       "    }\n",
       "\n",
       "    .dataframe thead th {\n",
       "        text-align: right;\n",
       "    }\n",
       "</style>\n",
       "<table border=\"1\" class=\"dataframe\">\n",
       "  <thead>\n",
       "    <tr style=\"text-align: right;\">\n",
       "      <th></th>\n",
       "      <th>code</th>\n",
       "      <th>wdID</th>\n",
       "      <th>geometry</th>\n",
       "      <th>SetID</th>\n",
       "    </tr>\n",
       "  </thead>\n",
       "  <tbody>\n",
       "    <tr>\n",
       "      <th>453</th>\n",
       "      <td>0</td>\n",
       "      <td>WD2019-0511</td>\n",
       "      <td>POLYGON ((667916.072 1236023.094, 667881.278 1...</td>\n",
       "      <td>1</td>\n",
       "    </tr>\n",
       "    <tr>\n",
       "      <th>1120</th>\n",
       "      <td>2</td>\n",
       "      <td>WD2018-0352</td>\n",
       "      <td>MULTIPOLYGON Z (((590189.143 1033810.888 0.000...</td>\n",
       "      <td>2</td>\n",
       "    </tr>\n",
       "    <tr>\n",
       "      <th>1203</th>\n",
       "      <td>0</td>\n",
       "      <td>WD2019-0511</td>\n",
       "      <td>MULTIPOLYGON Z (((598409.865 958092.642 0.000,...</td>\n",
       "      <td>2</td>\n",
       "    </tr>\n",
       "    <tr>\n",
       "      <th>2148</th>\n",
       "      <td>0</td>\n",
       "      <td>WD2019-0300</td>\n",
       "      <td>POLYGON ((754471.158 1395046.121, 754571.146 1...</td>\n",
       "      <td>4</td>\n",
       "    </tr>\n",
       "    <tr>\n",
       "      <th>2183</th>\n",
       "      <td>0</td>\n",
       "      <td>WD2019-0511</td>\n",
       "      <td>MULTIPOLYGON (((601741.516 983380.405, 601794....</td>\n",
       "      <td>4</td>\n",
       "    </tr>\n",
       "    <tr>\n",
       "      <th>2412</th>\n",
       "      <td>2</td>\n",
       "      <td>WD2021-0495</td>\n",
       "      <td>POLYGON ((1184166.533 926606.419, 1184863.180 ...</td>\n",
       "      <td>4</td>\n",
       "    </tr>\n",
       "    <tr>\n",
       "      <th>2447</th>\n",
       "      <td>2</td>\n",
       "      <td>WD2021-0686</td>\n",
       "      <td>POLYGON ((1164530.417 959846.060, 1164454.040 ...</td>\n",
       "      <td>4</td>\n",
       "    </tr>\n",
       "    <tr>\n",
       "      <th>2454</th>\n",
       "      <td>2</td>\n",
       "      <td>WD2022-0026</td>\n",
       "      <td>POLYGON ((880278.127 1346054.362, 878422.925 1...</td>\n",
       "      <td>4</td>\n",
       "    </tr>\n",
       "  </tbody>\n",
       "</table>\n",
       "</div>"
      ],
      "text/plain": [
       "      code         wdID                                           geometry  \\\n",
       "453      0  WD2019-0511  POLYGON ((667916.072 1236023.094, 667881.278 1...   \n",
       "1120     2  WD2018-0352  MULTIPOLYGON Z (((590189.143 1033810.888 0.000...   \n",
       "1203     0  WD2019-0511  MULTIPOLYGON Z (((598409.865 958092.642 0.000,...   \n",
       "2148     0  WD2019-0300  POLYGON ((754471.158 1395046.121, 754571.146 1...   \n",
       "2183     0  WD2019-0511  MULTIPOLYGON (((601741.516 983380.405, 601794....   \n",
       "2412     2  WD2021-0495  POLYGON ((1184166.533 926606.419, 1184863.180 ...   \n",
       "2447     2  WD2021-0686  POLYGON ((1164530.417 959846.060, 1164454.040 ...   \n",
       "2454     2  WD2022-0026  POLYGON ((880278.127 1346054.362, 878422.925 1...   \n",
       "\n",
       "      SetID  \n",
       "453       1  \n",
       "1120      2  \n",
       "1203      2  \n",
       "2148      4  \n",
       "2183      4  \n",
       "2412      4  \n",
       "2447      4  \n",
       "2454      4  "
      ]
     },
     "execution_count": 392,
     "metadata": {},
     "output_type": "execute_result"
    }
   ],
   "source": [
    "sa_gdf_all[sa_gdf_all.wdID.isin(wdID_list)]"
   ]
  },
  {
   "cell_type": "code",
   "execution_count": 103,
   "id": "1d56ac56",
   "metadata": {},
   "outputs": [
    {
     "data": {
      "text/plain": [
       "Index(['wetdet_delin_number', 'trsqq', 'parcel_id', 'address_location_desc',\n",
       "       'city', 'county', 'site_name', 'site_desc', 'latitude', 'longitude',\n",
       "       'Coord-Source', 'DocumentName', 'DecisionLink', 'is_batch_file',\n",
       "       'status_name', 'received_date', 'response_date',\n",
       "       'reissuance_response_date', 'project_id', 'site_id', 'record_ID',\n",
       "       'notes', 'recyear', 'IDyear', 'missinglot', 'SetID'],\n",
       "      dtype='object')"
      ]
     },
     "execution_count": 103,
     "metadata": {},
     "output_type": "execute_result"
    }
   ],
   "source": [
    "wd_df.columns"
   ]
  },
  {
   "cell_type": "code",
   "execution_count": 393,
   "id": "54b6b547",
   "metadata": {},
   "outputs": [],
   "source": [
    "wd_df.loc[wd_df.county == 'TIllamook', 'county'] = 'Tillamook'\n",
    "wd_df.loc[wd_df.county == 'Yamhill and Washington', 'county'] = 'Yamhill'"
   ]
  },
  {
   "cell_type": "markdown",
   "id": "ce50801e",
   "metadata": {},
   "source": [
    "all_gdf = all_gdf.dissolve('wdID')\n",
    "all_gdf['wdID'] = all_gdf.index\n",
    "all_gdf.reset_index(drop=True, inplace=True)"
   ]
  },
  {
   "cell_type": "code",
   "execution_count": 394,
   "id": "064ac3d8",
   "metadata": {},
   "outputs": [],
   "source": [
    "selectedID = wd_df.parcel_id.astype(str) != 'nan'\n",
    "wd_df = wd_df.copy()[selectedID]\n",
    "wd_df['notes'] = wd_df.copy()['parcel_id'].apply(lambda x: make_notes(x))\n",
    "wd_dt = wd_df[wd_df.notes == '']"
   ]
  },
  {
   "cell_type": "code",
   "execution_count": 424,
   "id": "68785631",
   "metadata": {},
   "outputs": [],
   "source": [
    "wd_df_c = get_corrected_wd_df(num=4)"
   ]
  },
  {
   "cell_type": "code",
   "execution_count": 429,
   "id": "cc4c1561",
   "metadata": {},
   "outputs": [],
   "source": [
    "wd_df_c.loc[wd_df_c.county == 'Yamhill and Washington', 'county'] = 'Yamhill'"
   ]
  },
  {
   "cell_type": "code",
   "execution_count": 433,
   "id": "b79e40c7",
   "metadata": {},
   "outputs": [
    {
     "data": {
      "text/plain": [
       "Index(['wetdet_delin_number', 'trsqq', 'parcel_id', 'address_location_desc',\n",
       "       'city', 'county', 'site_name', 'site_desc', 'latitude', 'longitude',\n",
       "       'Coord-Source', 'DocumentName', 'DecisionLink', 'is_batch_file',\n",
       "       'status_name', 'received_date', 'response_date',\n",
       "       'reissuance_response_date', 'project_id', 'site_id', 'record_ID',\n",
       "       'notes', 'recyear', 'IDyear', 'missinglot', 'SetID'],\n",
       "      dtype='object')"
      ]
     },
     "execution_count": 433,
     "metadata": {},
     "output_type": "execute_result"
    }
   ],
   "source": [
    "wd_df_c.columns"
   ]
  },
  {
   "cell_type": "code",
   "execution_count": 432,
   "id": "c75ef6be",
   "metadata": {},
   "outputs": [
    {
     "name": "stdout",
     "output_type": "stream",
     "text": [
      "it took 3.0 minutes to complete\n"
     ]
    }
   ],
   "source": [
    "start = time.time()\n",
    "out = split_SA_by_rid_in_df(wd_df=wd_df_c[wd_df_c.notes.isnull()], \n",
    "                            sa_gdf_all=all_gdf, \n",
    "                            all_mapIdx=all_mapIdx, \n",
    "                            all_taxlot=all_taxlot, \n",
    "                            em_wids=all_gdf.wdID.unique(),\n",
    "                            export=True, \n",
    "                            outnm='wd_sa_gdf', \n",
    "                            review=True)\n",
    "end = time.time()\n",
    "print(f'it took {round((end - start)/60, 0)} minutes to complete')"
   ]
  },
  {
   "cell_type": "code",
   "execution_count": 434,
   "id": "0b0c5ade",
   "metadata": {},
   "outputs": [],
   "source": [
    "# wd IDs to review\n",
    "wdIDs = wd_df_c[~wd_df_c.notes.isnull()].wetdet_delin_number.unique()"
   ]
  },
  {
   "cell_type": "code",
   "execution_count": 454,
   "id": "942954cf",
   "metadata": {},
   "outputs": [
    {
     "data": {
      "text/plain": [
       "769"
      ]
     },
     "execution_count": 454,
     "metadata": {},
     "output_type": "execute_result"
    }
   ],
   "source": [
    "len(wdIDs)"
   ]
  },
  {
   "cell_type": "code",
   "execution_count": 439,
   "id": "cc2a24c2",
   "metadata": {},
   "outputs": [
    {
     "data": {
      "text/plain": [
       "Index(['wdID', 'trsqq', 'parcel_id', 'loc_desc', 'city', 'county', 'site_name',\n",
       "       'site_desc', 'latitude', 'longitude', 'doc_name', 'doc_link',\n",
       "       'isbatfile', 'status_nm', 'receiveddt', 'responsedt', 'reissuance',\n",
       "       'project_id', 'site_id', 'SetID', 'record_ID', 'ORMapNum', 'geometry',\n",
       "       'code', 'lat', 'lon'],\n",
       "      dtype='object')"
      ]
     },
     "execution_count": 439,
     "metadata": {},
     "output_type": "execute_result"
    }
   ],
   "source": [
    "out.columns"
   ]
  },
  {
   "cell_type": "code",
   "execution_count": 440,
   "id": "9d70f31a",
   "metadata": {},
   "outputs": [],
   "source": [
    "out_gdf = out[~out.wdID.isin(wdIDs)]"
   ]
  },
  {
   "cell_type": "code",
   "execution_count": 442,
   "id": "48a57dca",
   "metadata": {},
   "outputs": [
    {
     "data": {
      "text/plain": [
       "(2232, 26)"
      ]
     },
     "execution_count": 442,
     "metadata": {},
     "output_type": "execute_result"
    }
   ],
   "source": [
    "out.shape"
   ]
  },
  {
   "cell_type": "code",
   "execution_count": 441,
   "id": "fe6f1b12",
   "metadata": {},
   "outputs": [
    {
     "data": {
      "text/plain": [
       "(2106, 26)"
      ]
     },
     "execution_count": 441,
     "metadata": {},
     "output_type": "execute_result"
    }
   ],
   "source": [
    "out_gdf.shape"
   ]
  },
  {
   "cell_type": "code",
   "execution_count": 448,
   "id": "29546314",
   "metadata": {},
   "outputs": [],
   "source": [
    "out_gdf.to_file(f'{outpath}\\\\test\\\\wd_sa_gdf.shp')"
   ]
  },
  {
   "cell_type": "code",
   "execution_count": 438,
   "id": "5fba3ccb",
   "metadata": {
    "scrolled": true
   },
   "outputs": [],
   "source": [
    "all_gdf_s = all_gdf[all_gdf.wdID.isin(wdIDs)]"
   ]
  },
  {
   "cell_type": "code",
   "execution_count": 445,
   "id": "e137cc7f",
   "metadata": {},
   "outputs": [
    {
     "data": {
      "text/plain": [
       "763"
      ]
     },
     "execution_count": 445,
     "metadata": {},
     "output_type": "execute_result"
    }
   ],
   "source": [
    "len(all_gdf_s.wdID.unique())"
   ]
  },
  {
   "cell_type": "code",
   "execution_count": 450,
   "id": "abc1d26f",
   "metadata": {},
   "outputs": [
    {
     "data": {
      "text/plain": [
       "False"
      ]
     },
     "execution_count": 450,
     "metadata": {},
     "output_type": "execute_result"
    }
   ],
   "source": [
    "'WD2017-0229' in all_gdf.wdID.unique()"
   ]
  },
  {
   "cell_type": "code",
   "execution_count": 451,
   "id": "b743c56d",
   "metadata": {},
   "outputs": [
    {
     "data": {
      "text/plain": [
       "False"
      ]
     },
     "execution_count": 451,
     "metadata": {},
     "output_type": "execute_result"
    }
   ],
   "source": [
    "'WD2021-0179' in all_gdf.wdID.unique()"
   ]
  },
  {
   "cell_type": "code",
   "execution_count": 449,
   "id": "77235e32",
   "metadata": {},
   "outputs": [
    {
     "data": {
      "text/html": [
       "<div>\n",
       "<style scoped>\n",
       "    .dataframe tbody tr th:only-of-type {\n",
       "        vertical-align: middle;\n",
       "    }\n",
       "\n",
       "    .dataframe tbody tr th {\n",
       "        vertical-align: top;\n",
       "    }\n",
       "\n",
       "    .dataframe thead th {\n",
       "        text-align: right;\n",
       "    }\n",
       "</style>\n",
       "<table border=\"1\" class=\"dataframe\">\n",
       "  <thead>\n",
       "    <tr style=\"text-align: right;\">\n",
       "      <th></th>\n",
       "      <th>wdID</th>\n",
       "      <th>code</th>\n",
       "      <th>SetID</th>\n",
       "      <th>geometry</th>\n",
       "    </tr>\n",
       "  </thead>\n",
       "  <tbody>\n",
       "    <tr>\n",
       "      <th>0</th>\n",
       "      <td>WD2017-0003</td>\n",
       "      <td>2.0</td>\n",
       "      <td>1</td>\n",
       "      <td>POLYGON ((447632.599 1578055.844, 447349.923 1...</td>\n",
       "    </tr>\n",
       "    <tr>\n",
       "      <th>1</th>\n",
       "      <td>WD2017-0014</td>\n",
       "      <td>2.0</td>\n",
       "      <td>1</td>\n",
       "      <td>POLYGON ((659383.287 224983.480, 659986.729 22...</td>\n",
       "    </tr>\n",
       "    <tr>\n",
       "      <th>5</th>\n",
       "      <td>WD2017-0034</td>\n",
       "      <td>2.0</td>\n",
       "      <td>1</td>\n",
       "      <td>POLYGON ((673696.996 1156836.787, 673762.888 1...</td>\n",
       "    </tr>\n",
       "  </tbody>\n",
       "</table>\n",
       "</div>"
      ],
      "text/plain": [
       "          wdID  code  SetID                                           geometry\n",
       "0  WD2017-0003   2.0      1  POLYGON ((447632.599 1578055.844, 447349.923 1...\n",
       "1  WD2017-0014   2.0      1  POLYGON ((659383.287 224983.480, 659986.729 22...\n",
       "5  WD2017-0034   2.0      1  POLYGON ((673696.996 1156836.787, 673762.888 1..."
      ]
     },
     "execution_count": 449,
     "metadata": {},
     "output_type": "execute_result"
    }
   ],
   "source": [
    "all_gdf_s.head(3)"
   ]
  },
  {
   "cell_type": "code",
   "execution_count": 453,
   "id": "2ee9192b",
   "metadata": {},
   "outputs": [],
   "source": [
    "wd_df_cor = get_corrected_wd_df(num=4)"
   ]
  },
  {
   "cell_type": "code",
   "execution_count": 457,
   "id": "c8275267",
   "metadata": {},
   "outputs": [],
   "source": [
    "wdIDs_s = [wid for wid in wdIDs if check_duplicates(wd_df_cor.loc[wd_df_cor.wetdet_delin_number==wid, 'trsqq'].values)[1] > 0]"
   ]
  },
  {
   "cell_type": "code",
   "execution_count": 460,
   "id": "36b2435e",
   "metadata": {},
   "outputs": [],
   "source": [
    "wdIDs_ss = [wid for wid in wdIDs_s if len(wd_df_cor.loc[wd_df_cor.wetdet_delin_number==wid, 'county'].unique()) > 1]"
   ]
  },
  {
   "cell_type": "code",
   "execution_count": 458,
   "id": "a41b5084",
   "metadata": {},
   "outputs": [
    {
     "data": {
      "text/plain": [
       "84"
      ]
     },
     "execution_count": 458,
     "metadata": {},
     "output_type": "execute_result"
    }
   ],
   "source": [
    "len(wdIDs_s)"
   ]
  },
  {
   "cell_type": "code",
   "execution_count": 461,
   "id": "c1a0adb1",
   "metadata": {},
   "outputs": [
    {
     "data": {
      "text/plain": [
       "1"
      ]
     },
     "execution_count": 461,
     "metadata": {},
     "output_type": "execute_result"
    }
   ],
   "source": [
    "len(wdIDs_ss)"
   ]
  },
  {
   "cell_type": "code",
   "execution_count": 467,
   "id": "313af7fb",
   "metadata": {},
   "outputs": [
    {
     "data": {
      "text/plain": [
       "Index(['wetdet_delin_number', 'trsqq', 'parcel_id', 'address_location_desc',\n",
       "       'city', 'county', 'site_name', 'site_desc', 'latitude', 'longitude',\n",
       "       'Coord-Source', 'DocumentName', 'DecisionLink', 'is_batch_file',\n",
       "       'status_name', 'received_date', 'response_date',\n",
       "       'reissuance_response_date', 'project_id', 'site_id', 'record_ID',\n",
       "       'notes', 'recyear', 'IDyear', 'missinglot', 'SetID'],\n",
       "      dtype='object')"
      ]
     },
     "execution_count": 467,
     "metadata": {},
     "output_type": "execute_result"
    }
   ],
   "source": [
    "wd_df_cor.columns"
   ]
  },
  {
   "cell_type": "code",
   "execution_count": 469,
   "id": "3129034a",
   "metadata": {},
   "outputs": [
    {
     "data": {
      "text/html": [
       "<div>\n",
       "<style scoped>\n",
       "    .dataframe tbody tr th:only-of-type {\n",
       "        vertical-align: middle;\n",
       "    }\n",
       "\n",
       "    .dataframe tbody tr th {\n",
       "        vertical-align: top;\n",
       "    }\n",
       "\n",
       "    .dataframe thead th {\n",
       "        text-align: right;\n",
       "    }\n",
       "</style>\n",
       "<table border=\"1\" class=\"dataframe\">\n",
       "  <thead>\n",
       "    <tr style=\"text-align: right;\">\n",
       "      <th></th>\n",
       "      <th>wetdet_delin_number</th>\n",
       "      <th>trsqq</th>\n",
       "      <th>parcel_id</th>\n",
       "      <th>address_location_desc</th>\n",
       "      <th>city</th>\n",
       "      <th>county</th>\n",
       "      <th>site_name</th>\n",
       "      <th>site_desc</th>\n",
       "      <th>latitude</th>\n",
       "      <th>longitude</th>\n",
       "      <th>...</th>\n",
       "      <th>response_date</th>\n",
       "      <th>reissuance_response_date</th>\n",
       "      <th>project_id</th>\n",
       "      <th>site_id</th>\n",
       "      <th>record_ID</th>\n",
       "      <th>notes</th>\n",
       "      <th>recyear</th>\n",
       "      <th>IDyear</th>\n",
       "      <th>missinglot</th>\n",
       "      <th>SetID</th>\n",
       "    </tr>\n",
       "  </thead>\n",
       "  <tbody>\n",
       "    <tr>\n",
       "      <th>91</th>\n",
       "      <td>WD2020-0280</td>\n",
       "      <td>07N10W15BB</td>\n",
       "      <td>100,200,1600,1700,ROW all partial</td>\n",
       "      <td>W of 90266 Hwy 101</td>\n",
       "      <td>Warrenton</td>\n",
       "      <td>Clatsop</td>\n",
       "      <td>Dune Estates Subdivision</td>\n",
       "      <td>WD2020-0280 delineation</td>\n",
       "      <td>46.094286</td>\n",
       "      <td>-123.92086</td>\n",
       "      <td>...</td>\n",
       "      <td>2020-10-22</td>\n",
       "      <td>NaN</td>\n",
       "      <td>79733.0</td>\n",
       "      <td>132949</td>\n",
       "      <td>92</td>\n",
       "      <td>ROW, Partial</td>\n",
       "      <td>2020</td>\n",
       "      <td>2020</td>\n",
       "      <td>N</td>\n",
       "      <td>1</td>\n",
       "    </tr>\n",
       "    <tr>\n",
       "      <th>95</th>\n",
       "      <td>WD2020-0280</td>\n",
       "      <td>07N10W15BB</td>\n",
       "      <td>3200,3300,ROWs all partial</td>\n",
       "      <td>W of 90266 Hwy 101</td>\n",
       "      <td>Warrenton</td>\n",
       "      <td>Clatsop</td>\n",
       "      <td>Dune Estates Subdivision</td>\n",
       "      <td>WD2020-0280 delineation</td>\n",
       "      <td>46.094286</td>\n",
       "      <td>-123.92086</td>\n",
       "      <td>...</td>\n",
       "      <td>2020-10-22</td>\n",
       "      <td>NaN</td>\n",
       "      <td>79733.0</td>\n",
       "      <td>139666</td>\n",
       "      <td>96</td>\n",
       "      <td>ROW, Partial</td>\n",
       "      <td>2020</td>\n",
       "      <td>2020</td>\n",
       "      <td>N</td>\n",
       "      <td>1</td>\n",
       "    </tr>\n",
       "    <tr>\n",
       "      <th>97</th>\n",
       "      <td>WD2020-0280</td>\n",
       "      <td>07N10W15BB</td>\n",
       "      <td>3400,3500,3600,ROW all partial</td>\n",
       "      <td>W of 90266 Hwy 101</td>\n",
       "      <td>Warrenton</td>\n",
       "      <td>Clatsop</td>\n",
       "      <td>Dune Estates Subdivision</td>\n",
       "      <td>WD2020-0280 delineation</td>\n",
       "      <td>46.094286</td>\n",
       "      <td>-123.92086</td>\n",
       "      <td>...</td>\n",
       "      <td>2020-10-22</td>\n",
       "      <td>NaN</td>\n",
       "      <td>79733.0</td>\n",
       "      <td>139665</td>\n",
       "      <td>98</td>\n",
       "      <td>ROW, Partial</td>\n",
       "      <td>2020</td>\n",
       "      <td>2020</td>\n",
       "      <td>N</td>\n",
       "      <td>1</td>\n",
       "    </tr>\n",
       "    <tr>\n",
       "      <th>99</th>\n",
       "      <td>WD2020-0280</td>\n",
       "      <td>07N10W15BB</td>\n",
       "      <td>2700,2800,2900,ROW all partial</td>\n",
       "      <td>W of 90266 Hwy 101</td>\n",
       "      <td>Warrenton</td>\n",
       "      <td>Clatsop</td>\n",
       "      <td>Dune Estates Subdivision</td>\n",
       "      <td>WD2020-0280 delineation</td>\n",
       "      <td>46.094286</td>\n",
       "      <td>-123.92086</td>\n",
       "      <td>...</td>\n",
       "      <td>2020-10-22</td>\n",
       "      <td>NaN</td>\n",
       "      <td>79733.0</td>\n",
       "      <td>139663</td>\n",
       "      <td>100</td>\n",
       "      <td>ROW, Partial</td>\n",
       "      <td>2020</td>\n",
       "      <td>2020</td>\n",
       "      <td>N</td>\n",
       "      <td>1</td>\n",
       "    </tr>\n",
       "    <tr>\n",
       "      <th>100</th>\n",
       "      <td>WD2020-0280</td>\n",
       "      <td>07N10W15BB</td>\n",
       "      <td>2400,2500,2600,ROW all partial</td>\n",
       "      <td>W of 90266 Hwy 101</td>\n",
       "      <td>Warrenton</td>\n",
       "      <td>Clatsop</td>\n",
       "      <td>Dune Estates Subdivision</td>\n",
       "      <td>WD2020-0280 delineation</td>\n",
       "      <td>46.094286</td>\n",
       "      <td>-123.92086</td>\n",
       "      <td>...</td>\n",
       "      <td>2020-10-22</td>\n",
       "      <td>NaN</td>\n",
       "      <td>79733.0</td>\n",
       "      <td>139662</td>\n",
       "      <td>101</td>\n",
       "      <td>ROW, Partial</td>\n",
       "      <td>2020</td>\n",
       "      <td>2020</td>\n",
       "      <td>N</td>\n",
       "      <td>1</td>\n",
       "    </tr>\n",
       "    <tr>\n",
       "      <th>101</th>\n",
       "      <td>WD2020-0280</td>\n",
       "      <td>07N10W15BB</td>\n",
       "      <td>1800,3700 all partial</td>\n",
       "      <td>W of 90266 Hwy 101</td>\n",
       "      <td>Warrenton</td>\n",
       "      <td>Clatsop</td>\n",
       "      <td>Dune Estates Subdivision</td>\n",
       "      <td>WD2020-0280 delineation</td>\n",
       "      <td>46.094286</td>\n",
       "      <td>-123.92086</td>\n",
       "      <td>...</td>\n",
       "      <td>2020-10-22</td>\n",
       "      <td>NaN</td>\n",
       "      <td>79733.0</td>\n",
       "      <td>139660</td>\n",
       "      <td>102</td>\n",
       "      <td>Partial</td>\n",
       "      <td>2020</td>\n",
       "      <td>2020</td>\n",
       "      <td>N</td>\n",
       "      <td>1</td>\n",
       "    </tr>\n",
       "    <tr>\n",
       "      <th>103</th>\n",
       "      <td>WD2020-0280</td>\n",
       "      <td>07N10W15BB</td>\n",
       "      <td>3000,3100,ROW all partial</td>\n",
       "      <td>W of 90266 Hwy 101</td>\n",
       "      <td>Warrenton</td>\n",
       "      <td>Clatsop</td>\n",
       "      <td>Dune Estates Subdivision</td>\n",
       "      <td>WD2020-0280 delineation</td>\n",
       "      <td>46.094286</td>\n",
       "      <td>-123.92086</td>\n",
       "      <td>...</td>\n",
       "      <td>2020-10-22</td>\n",
       "      <td>NaN</td>\n",
       "      <td>79733.0</td>\n",
       "      <td>139664</td>\n",
       "      <td>104</td>\n",
       "      <td>ROW, Partial</td>\n",
       "      <td>2020</td>\n",
       "      <td>2020</td>\n",
       "      <td>N</td>\n",
       "      <td>1</td>\n",
       "    </tr>\n",
       "    <tr>\n",
       "      <th>104</th>\n",
       "      <td>WD2020-0280</td>\n",
       "      <td>07N10W15BB</td>\n",
       "      <td>2100,2200,2300,ROW all partial</td>\n",
       "      <td>W of 90266 Hwy 101</td>\n",
       "      <td>Warrenton</td>\n",
       "      <td>Clatsop</td>\n",
       "      <td>Dune Estates Subdivision</td>\n",
       "      <td>WD2020-0280 delineation</td>\n",
       "      <td>46.094286</td>\n",
       "      <td>-123.92086</td>\n",
       "      <td>...</td>\n",
       "      <td>2020-10-22</td>\n",
       "      <td>NaN</td>\n",
       "      <td>79733.0</td>\n",
       "      <td>139661</td>\n",
       "      <td>105</td>\n",
       "      <td>ROW, Partial</td>\n",
       "      <td>2020</td>\n",
       "      <td>2020</td>\n",
       "      <td>N</td>\n",
       "      <td>1</td>\n",
       "    </tr>\n",
       "  </tbody>\n",
       "</table>\n",
       "<p>8 rows × 26 columns</p>\n",
       "</div>"
      ],
      "text/plain": [
       "    wetdet_delin_number       trsqq                          parcel_id  \\\n",
       "91          WD2020-0280  07N10W15BB  100,200,1600,1700,ROW all partial   \n",
       "95          WD2020-0280  07N10W15BB         3200,3300,ROWs all partial   \n",
       "97          WD2020-0280  07N10W15BB     3400,3500,3600,ROW all partial   \n",
       "99          WD2020-0280  07N10W15BB     2700,2800,2900,ROW all partial   \n",
       "100         WD2020-0280  07N10W15BB     2400,2500,2600,ROW all partial   \n",
       "101         WD2020-0280  07N10W15BB              1800,3700 all partial   \n",
       "103         WD2020-0280  07N10W15BB          3000,3100,ROW all partial   \n",
       "104         WD2020-0280  07N10W15BB     2100,2200,2300,ROW all partial   \n",
       "\n",
       "    address_location_desc       city   county                 site_name  \\\n",
       "91     W of 90266 Hwy 101  Warrenton  Clatsop  Dune Estates Subdivision   \n",
       "95     W of 90266 Hwy 101  Warrenton  Clatsop  Dune Estates Subdivision   \n",
       "97     W of 90266 Hwy 101  Warrenton  Clatsop  Dune Estates Subdivision   \n",
       "99     W of 90266 Hwy 101  Warrenton  Clatsop  Dune Estates Subdivision   \n",
       "100    W of 90266 Hwy 101  Warrenton  Clatsop  Dune Estates Subdivision   \n",
       "101    W of 90266 Hwy 101  Warrenton  Clatsop  Dune Estates Subdivision   \n",
       "103    W of 90266 Hwy 101  Warrenton  Clatsop  Dune Estates Subdivision   \n",
       "104    W of 90266 Hwy 101  Warrenton  Clatsop  Dune Estates Subdivision   \n",
       "\n",
       "                   site_desc   latitude  longitude  ... response_date  \\\n",
       "91   WD2020-0280 delineation  46.094286 -123.92086  ...    2020-10-22   \n",
       "95   WD2020-0280 delineation  46.094286 -123.92086  ...    2020-10-22   \n",
       "97   WD2020-0280 delineation  46.094286 -123.92086  ...    2020-10-22   \n",
       "99   WD2020-0280 delineation  46.094286 -123.92086  ...    2020-10-22   \n",
       "100  WD2020-0280 delineation  46.094286 -123.92086  ...    2020-10-22   \n",
       "101  WD2020-0280 delineation  46.094286 -123.92086  ...    2020-10-22   \n",
       "103  WD2020-0280 delineation  46.094286 -123.92086  ...    2020-10-22   \n",
       "104  WD2020-0280 delineation  46.094286 -123.92086  ...    2020-10-22   \n",
       "\n",
       "    reissuance_response_date project_id site_id record_ID         notes  \\\n",
       "91                       NaN    79733.0  132949        92  ROW, Partial   \n",
       "95                       NaN    79733.0  139666        96  ROW, Partial   \n",
       "97                       NaN    79733.0  139665        98  ROW, Partial   \n",
       "99                       NaN    79733.0  139663       100  ROW, Partial   \n",
       "100                      NaN    79733.0  139662       101  ROW, Partial   \n",
       "101                      NaN    79733.0  139660       102       Partial   \n",
       "103                      NaN    79733.0  139664       104  ROW, Partial   \n",
       "104                      NaN    79733.0  139661       105  ROW, Partial   \n",
       "\n",
       "    recyear IDyear  missinglot  SetID  \n",
       "91     2020   2020           N      1  \n",
       "95     2020   2020           N      1  \n",
       "97     2020   2020           N      1  \n",
       "99     2020   2020           N      1  \n",
       "100    2020   2020           N      1  \n",
       "101    2020   2020           N      1  \n",
       "103    2020   2020           N      1  \n",
       "104    2020   2020           N      1  \n",
       "\n",
       "[8 rows x 26 columns]"
      ]
     },
     "execution_count": 469,
     "metadata": {},
     "output_type": "execute_result"
    }
   ],
   "source": [
    "wd_df_cor[(wd_df_cor.wetdet_delin_number==wdIDs_s[0]) & (wd_df_cor.trsqq=='07N10W15BB')]"
   ]
  },
  {
   "cell_type": "code",
   "execution_count": 466,
   "id": "958ce3f6",
   "metadata": {},
   "outputs": [
    {
     "data": {
      "text/html": [
       "<div>\n",
       "<style scoped>\n",
       "    .dataframe tbody tr th:only-of-type {\n",
       "        vertical-align: middle;\n",
       "    }\n",
       "\n",
       "    .dataframe tbody tr th {\n",
       "        vertical-align: top;\n",
       "    }\n",
       "\n",
       "    .dataframe thead th {\n",
       "        text-align: right;\n",
       "    }\n",
       "</style>\n",
       "<table border=\"1\" class=\"dataframe\">\n",
       "  <thead>\n",
       "    <tr style=\"text-align: right;\">\n",
       "      <th></th>\n",
       "      <th>Longitude</th>\n",
       "      <th>Latitude</th>\n",
       "      <th>geometry</th>\n",
       "    </tr>\n",
       "  </thead>\n",
       "  <tbody>\n",
       "    <tr>\n",
       "      <th>0</th>\n",
       "      <td>-123.92086</td>\n",
       "      <td>46.094286</td>\n",
       "      <td>POINT (444428.530 1601763.211)</td>\n",
       "    </tr>\n",
       "  </tbody>\n",
       "</table>\n",
       "</div>"
      ],
      "text/plain": [
       "   Longitude   Latitude                        geometry\n",
       "0 -123.92086  46.094286  POINT (444428.530 1601763.211)"
      ]
     },
     "execution_count": 466,
     "metadata": {},
     "output_type": "execute_result"
    }
   ],
   "source": [
    "get_point_from_lonlat(lon=-123.92086, lat=46.094286, transprj=True, export=True)"
   ]
  },
  {
   "cell_type": "code",
   "execution_count": 462,
   "id": "1f9d4193",
   "metadata": {},
   "outputs": [
    {
     "data": {
      "text/html": [
       "<div>\n",
       "<style scoped>\n",
       "    .dataframe tbody tr th:only-of-type {\n",
       "        vertical-align: middle;\n",
       "    }\n",
       "\n",
       "    .dataframe tbody tr th {\n",
       "        vertical-align: top;\n",
       "    }\n",
       "\n",
       "    .dataframe thead th {\n",
       "        text-align: right;\n",
       "    }\n",
       "</style>\n",
       "<table border=\"1\" class=\"dataframe\">\n",
       "  <thead>\n",
       "    <tr style=\"text-align: right;\">\n",
       "      <th></th>\n",
       "      <th>wetdet_delin_number</th>\n",
       "      <th>trsqq</th>\n",
       "      <th>parcel_id</th>\n",
       "      <th>address_location_desc</th>\n",
       "      <th>city</th>\n",
       "      <th>county</th>\n",
       "      <th>site_name</th>\n",
       "      <th>site_desc</th>\n",
       "      <th>latitude</th>\n",
       "      <th>longitude</th>\n",
       "      <th>...</th>\n",
       "      <th>response_date</th>\n",
       "      <th>reissuance_response_date</th>\n",
       "      <th>project_id</th>\n",
       "      <th>site_id</th>\n",
       "      <th>record_ID</th>\n",
       "      <th>notes</th>\n",
       "      <th>recyear</th>\n",
       "      <th>IDyear</th>\n",
       "      <th>missinglot</th>\n",
       "      <th>SetID</th>\n",
       "    </tr>\n",
       "  </thead>\n",
       "  <tbody>\n",
       "    <tr>\n",
       "      <th>2012</th>\n",
       "      <td>WD2022-0026</td>\n",
       "      <td>02S04E02A</td>\n",
       "      <td>Many</td>\n",
       "      <td>12852 SE Bluff Rd, Sandy, OR</td>\n",
       "      <td>NaN</td>\n",
       "      <td>Clackamas</td>\n",
       "      <td>Clackamas Mt Hood EHP BRIC</td>\n",
       "      <td>WD2022-0026 - PGE</td>\n",
       "      <td>45.430128</td>\n",
       "      <td>-122.275735</td>\n",
       "      <td>...</td>\n",
       "      <td>2022-01-27</td>\n",
       "      <td>NaN</td>\n",
       "      <td>83419.0</td>\n",
       "      <td>138237</td>\n",
       "      <td>2013</td>\n",
       "      <td>Many</td>\n",
       "      <td>2022</td>\n",
       "      <td>2022</td>\n",
       "      <td>Y</td>\n",
       "      <td>2</td>\n",
       "    </tr>\n",
       "    <tr>\n",
       "      <th>2013</th>\n",
       "      <td>WD2022-0026</td>\n",
       "      <td>01S05E00</td>\n",
       "      <td>Many</td>\n",
       "      <td>Bull Run Reservoir #2</td>\n",
       "      <td>NaN</td>\n",
       "      <td>Clackamas</td>\n",
       "      <td>Clackamas Mt Hood EHP BRIC</td>\n",
       "      <td>WD2022-0026 offsite wetdet</td>\n",
       "      <td>45.444581</td>\n",
       "      <td>-122.154343</td>\n",
       "      <td>...</td>\n",
       "      <td>2022-01-27</td>\n",
       "      <td>NaN</td>\n",
       "      <td>83419.0</td>\n",
       "      <td>138236</td>\n",
       "      <td>2014</td>\n",
       "      <td>Many</td>\n",
       "      <td>2022</td>\n",
       "      <td>2022</td>\n",
       "      <td>Y</td>\n",
       "      <td>2</td>\n",
       "    </tr>\n",
       "    <tr>\n",
       "      <th>2014</th>\n",
       "      <td>WD2022-0026</td>\n",
       "      <td>01S06E00</td>\n",
       "      <td>Many</td>\n",
       "      <td>Bull Run Reservoir #1</td>\n",
       "      <td>NaN</td>\n",
       "      <td>Clackamas</td>\n",
       "      <td>Clackamas Mt Hood EHP BRIC</td>\n",
       "      <td>WD2022-0026 wetdet</td>\n",
       "      <td>45.471494</td>\n",
       "      <td>-122.095475</td>\n",
       "      <td>...</td>\n",
       "      <td>2022-01-27</td>\n",
       "      <td>NaN</td>\n",
       "      <td>83419.0</td>\n",
       "      <td>138222</td>\n",
       "      <td>2015</td>\n",
       "      <td>Many</td>\n",
       "      <td>2022</td>\n",
       "      <td>2022</td>\n",
       "      <td>Y</td>\n",
       "      <td>2</td>\n",
       "    </tr>\n",
       "    <tr>\n",
       "      <th>2015</th>\n",
       "      <td>WD2022-0026</td>\n",
       "      <td>02S05E04</td>\n",
       "      <td>Many</td>\n",
       "      <td>12852 SE Bluff Rd, Sandy, OR</td>\n",
       "      <td>NaN</td>\n",
       "      <td>Clackamas</td>\n",
       "      <td>Clackamas Mt Hood EHP BRIC</td>\n",
       "      <td>WD2022-0026 - PGE</td>\n",
       "      <td>45.430128</td>\n",
       "      <td>-122.275735</td>\n",
       "      <td>...</td>\n",
       "      <td>2022-01-27</td>\n",
       "      <td>NaN</td>\n",
       "      <td>83419.0</td>\n",
       "      <td>141443</td>\n",
       "      <td>2016</td>\n",
       "      <td>Many</td>\n",
       "      <td>2022</td>\n",
       "      <td>2022</td>\n",
       "      <td>Y</td>\n",
       "      <td>2</td>\n",
       "    </tr>\n",
       "    <tr>\n",
       "      <th>2016</th>\n",
       "      <td>WD2022-0026</td>\n",
       "      <td>02S05E03</td>\n",
       "      <td>Many</td>\n",
       "      <td>12852 SE Bluff Rd, Sandy, OR</td>\n",
       "      <td>NaN</td>\n",
       "      <td>Clackamas</td>\n",
       "      <td>Clackamas Mt Hood EHP BRIC</td>\n",
       "      <td>WD2022-0026 - PGE</td>\n",
       "      <td>45.430128</td>\n",
       "      <td>-122.275735</td>\n",
       "      <td>...</td>\n",
       "      <td>2022-01-27</td>\n",
       "      <td>NaN</td>\n",
       "      <td>83419.0</td>\n",
       "      <td>141444</td>\n",
       "      <td>2017</td>\n",
       "      <td>Many</td>\n",
       "      <td>2022</td>\n",
       "      <td>2022</td>\n",
       "      <td>Y</td>\n",
       "      <td>2</td>\n",
       "    </tr>\n",
       "    <tr>\n",
       "      <th>2017</th>\n",
       "      <td>WD2022-0026</td>\n",
       "      <td>01S05E33</td>\n",
       "      <td>Many</td>\n",
       "      <td>Bull Run Reservoir #2</td>\n",
       "      <td>NaN</td>\n",
       "      <td>Clackamas</td>\n",
       "      <td>Clackamas Mt Hood EHP BRIC</td>\n",
       "      <td>WD2022-0026 offsite wetdet</td>\n",
       "      <td>45.444581</td>\n",
       "      <td>-122.154343</td>\n",
       "      <td>...</td>\n",
       "      <td>2022-01-27</td>\n",
       "      <td>NaN</td>\n",
       "      <td>83419.0</td>\n",
       "      <td>141445</td>\n",
       "      <td>2018</td>\n",
       "      <td>Many</td>\n",
       "      <td>2022</td>\n",
       "      <td>2022</td>\n",
       "      <td>Y</td>\n",
       "      <td>2</td>\n",
       "    </tr>\n",
       "    <tr>\n",
       "      <th>2018</th>\n",
       "      <td>WD2022-0026</td>\n",
       "      <td>02S04E01AC</td>\n",
       "      <td>Many</td>\n",
       "      <td>12852 SE Bluff Rd, Sandy, OR</td>\n",
       "      <td>NaN</td>\n",
       "      <td>Clackamas</td>\n",
       "      <td>Clackamas Mt Hood EHP BRIC</td>\n",
       "      <td>WD2022-0026 - PGE</td>\n",
       "      <td>45.430128</td>\n",
       "      <td>-122.275735</td>\n",
       "      <td>...</td>\n",
       "      <td>2022-01-27</td>\n",
       "      <td>NaN</td>\n",
       "      <td>83419.0</td>\n",
       "      <td>141447</td>\n",
       "      <td>2019</td>\n",
       "      <td>Many</td>\n",
       "      <td>2022</td>\n",
       "      <td>2022</td>\n",
       "      <td>Y</td>\n",
       "      <td>2</td>\n",
       "    </tr>\n",
       "    <tr>\n",
       "      <th>2019</th>\n",
       "      <td>WD2022-0026</td>\n",
       "      <td>02S05E06</td>\n",
       "      <td>Many</td>\n",
       "      <td>12852 SE Bluff Rd, Sandy, OR</td>\n",
       "      <td>NaN</td>\n",
       "      <td>Clackamas</td>\n",
       "      <td>Clackamas Mt Hood EHP BRIC</td>\n",
       "      <td>WD2022-0026 - PGE</td>\n",
       "      <td>45.430128</td>\n",
       "      <td>-122.275735</td>\n",
       "      <td>...</td>\n",
       "      <td>2022-01-27</td>\n",
       "      <td>NaN</td>\n",
       "      <td>83419.0</td>\n",
       "      <td>141441</td>\n",
       "      <td>2020</td>\n",
       "      <td>Many</td>\n",
       "      <td>2022</td>\n",
       "      <td>2022</td>\n",
       "      <td>Y</td>\n",
       "      <td>2</td>\n",
       "    </tr>\n",
       "    <tr>\n",
       "      <th>2020</th>\n",
       "      <td>WD2022-0026</td>\n",
       "      <td>02S05E05</td>\n",
       "      <td>Many</td>\n",
       "      <td>12852 SE Bluff Rd, Sandy, OR</td>\n",
       "      <td>NaN</td>\n",
       "      <td>Clackamas</td>\n",
       "      <td>Clackamas Mt Hood EHP BRIC</td>\n",
       "      <td>WD2022-0026 - PGE</td>\n",
       "      <td>45.430128</td>\n",
       "      <td>-122.275735</td>\n",
       "      <td>...</td>\n",
       "      <td>2022-01-27</td>\n",
       "      <td>NaN</td>\n",
       "      <td>83419.0</td>\n",
       "      <td>141442</td>\n",
       "      <td>2021</td>\n",
       "      <td>Many</td>\n",
       "      <td>2022</td>\n",
       "      <td>2022</td>\n",
       "      <td>Y</td>\n",
       "      <td>2</td>\n",
       "    </tr>\n",
       "    <tr>\n",
       "      <th>2021</th>\n",
       "      <td>WD2022-0026</td>\n",
       "      <td>02S04E01</td>\n",
       "      <td>Many</td>\n",
       "      <td>12852 SE Bluff Rd, Sandy, OR</td>\n",
       "      <td>NaN</td>\n",
       "      <td>Clackamas</td>\n",
       "      <td>Clackamas Mt Hood EHP BRIC</td>\n",
       "      <td>WD2022-0026 - PGE</td>\n",
       "      <td>45.430128</td>\n",
       "      <td>-122.275735</td>\n",
       "      <td>...</td>\n",
       "      <td>2022-01-27</td>\n",
       "      <td>NaN</td>\n",
       "      <td>83419.0</td>\n",
       "      <td>141446</td>\n",
       "      <td>2022</td>\n",
       "      <td>Many</td>\n",
       "      <td>2022</td>\n",
       "      <td>2022</td>\n",
       "      <td>Y</td>\n",
       "      <td>2</td>\n",
       "    </tr>\n",
       "    <tr>\n",
       "      <th>2022</th>\n",
       "      <td>WD2022-0026</td>\n",
       "      <td>02S04E01AB</td>\n",
       "      <td>Many</td>\n",
       "      <td>12852 SE Bluff Rd, Sandy, OR</td>\n",
       "      <td>NaN</td>\n",
       "      <td>Clackamas</td>\n",
       "      <td>Clackamas Mt Hood EHP BRIC</td>\n",
       "      <td>WD2022-0026 - PGE</td>\n",
       "      <td>45.430128</td>\n",
       "      <td>-122.275735</td>\n",
       "      <td>...</td>\n",
       "      <td>2022-01-27</td>\n",
       "      <td>NaN</td>\n",
       "      <td>83419.0</td>\n",
       "      <td>141440</td>\n",
       "      <td>2023</td>\n",
       "      <td>Many</td>\n",
       "      <td>2022</td>\n",
       "      <td>2022</td>\n",
       "      <td>Y</td>\n",
       "      <td>2</td>\n",
       "    </tr>\n",
       "    <tr>\n",
       "      <th>3703</th>\n",
       "      <td>WD2022-0026</td>\n",
       "      <td>01S06E00</td>\n",
       "      <td>Many</td>\n",
       "      <td>Bull Run Reservoir #1</td>\n",
       "      <td>NaN</td>\n",
       "      <td>Multnomah</td>\n",
       "      <td>Clackamas Mt Hood EHP BRIC</td>\n",
       "      <td>WD2022-0026 wetdet</td>\n",
       "      <td>45.471494</td>\n",
       "      <td>-122.095475</td>\n",
       "      <td>...</td>\n",
       "      <td>2022-01-27</td>\n",
       "      <td>NaN</td>\n",
       "      <td>83419.0</td>\n",
       "      <td>141449</td>\n",
       "      <td>3704</td>\n",
       "      <td>Many</td>\n",
       "      <td>2022</td>\n",
       "      <td>2022</td>\n",
       "      <td>Y</td>\n",
       "      <td>4</td>\n",
       "    </tr>\n",
       "    <tr>\n",
       "      <th>3704</th>\n",
       "      <td>WD2022-0026</td>\n",
       "      <td>01S05E00</td>\n",
       "      <td>Many</td>\n",
       "      <td>Bull Run Reservoir #2</td>\n",
       "      <td>NaN</td>\n",
       "      <td>Multnomah</td>\n",
       "      <td>Clackamas Mt Hood EHP BRIC</td>\n",
       "      <td>WD2022-0026 offsite wetdet</td>\n",
       "      <td>45.444581</td>\n",
       "      <td>-122.154343</td>\n",
       "      <td>...</td>\n",
       "      <td>2022-01-27</td>\n",
       "      <td>NaN</td>\n",
       "      <td>83419.0</td>\n",
       "      <td>141448</td>\n",
       "      <td>3705</td>\n",
       "      <td>Many</td>\n",
       "      <td>2022</td>\n",
       "      <td>2022</td>\n",
       "      <td>Y</td>\n",
       "      <td>4</td>\n",
       "    </tr>\n",
       "  </tbody>\n",
       "</table>\n",
       "<p>13 rows × 26 columns</p>\n",
       "</div>"
      ],
      "text/plain": [
       "     wetdet_delin_number       trsqq parcel_id         address_location_desc  \\\n",
       "2012         WD2022-0026   02S04E02A      Many  12852 SE Bluff Rd, Sandy, OR   \n",
       "2013         WD2022-0026    01S05E00      Many         Bull Run Reservoir #2   \n",
       "2014         WD2022-0026    01S06E00      Many         Bull Run Reservoir #1   \n",
       "2015         WD2022-0026    02S05E04      Many  12852 SE Bluff Rd, Sandy, OR   \n",
       "2016         WD2022-0026    02S05E03      Many  12852 SE Bluff Rd, Sandy, OR   \n",
       "2017         WD2022-0026    01S05E33      Many         Bull Run Reservoir #2   \n",
       "2018         WD2022-0026  02S04E01AC      Many  12852 SE Bluff Rd, Sandy, OR   \n",
       "2019         WD2022-0026    02S05E06      Many  12852 SE Bluff Rd, Sandy, OR   \n",
       "2020         WD2022-0026    02S05E05      Many  12852 SE Bluff Rd, Sandy, OR   \n",
       "2021         WD2022-0026    02S04E01      Many  12852 SE Bluff Rd, Sandy, OR   \n",
       "2022         WD2022-0026  02S04E01AB      Many  12852 SE Bluff Rd, Sandy, OR   \n",
       "3703         WD2022-0026    01S06E00      Many         Bull Run Reservoir #1   \n",
       "3704         WD2022-0026    01S05E00      Many         Bull Run Reservoir #2   \n",
       "\n",
       "     city     county                   site_name                   site_desc  \\\n",
       "2012  NaN  Clackamas  Clackamas Mt Hood EHP BRIC           WD2022-0026 - PGE   \n",
       "2013  NaN  Clackamas  Clackamas Mt Hood EHP BRIC  WD2022-0026 offsite wetdet   \n",
       "2014  NaN  Clackamas  Clackamas Mt Hood EHP BRIC          WD2022-0026 wetdet   \n",
       "2015  NaN  Clackamas  Clackamas Mt Hood EHP BRIC           WD2022-0026 - PGE   \n",
       "2016  NaN  Clackamas  Clackamas Mt Hood EHP BRIC           WD2022-0026 - PGE   \n",
       "2017  NaN  Clackamas  Clackamas Mt Hood EHP BRIC  WD2022-0026 offsite wetdet   \n",
       "2018  NaN  Clackamas  Clackamas Mt Hood EHP BRIC           WD2022-0026 - PGE   \n",
       "2019  NaN  Clackamas  Clackamas Mt Hood EHP BRIC           WD2022-0026 - PGE   \n",
       "2020  NaN  Clackamas  Clackamas Mt Hood EHP BRIC           WD2022-0026 - PGE   \n",
       "2021  NaN  Clackamas  Clackamas Mt Hood EHP BRIC           WD2022-0026 - PGE   \n",
       "2022  NaN  Clackamas  Clackamas Mt Hood EHP BRIC           WD2022-0026 - PGE   \n",
       "3703  NaN  Multnomah  Clackamas Mt Hood EHP BRIC          WD2022-0026 wetdet   \n",
       "3704  NaN  Multnomah  Clackamas Mt Hood EHP BRIC  WD2022-0026 offsite wetdet   \n",
       "\n",
       "       latitude   longitude  ... response_date reissuance_response_date  \\\n",
       "2012  45.430128 -122.275735  ...    2022-01-27                      NaN   \n",
       "2013  45.444581 -122.154343  ...    2022-01-27                      NaN   \n",
       "2014  45.471494 -122.095475  ...    2022-01-27                      NaN   \n",
       "2015  45.430128 -122.275735  ...    2022-01-27                      NaN   \n",
       "2016  45.430128 -122.275735  ...    2022-01-27                      NaN   \n",
       "2017  45.444581 -122.154343  ...    2022-01-27                      NaN   \n",
       "2018  45.430128 -122.275735  ...    2022-01-27                      NaN   \n",
       "2019  45.430128 -122.275735  ...    2022-01-27                      NaN   \n",
       "2020  45.430128 -122.275735  ...    2022-01-27                      NaN   \n",
       "2021  45.430128 -122.275735  ...    2022-01-27                      NaN   \n",
       "2022  45.430128 -122.275735  ...    2022-01-27                      NaN   \n",
       "3703  45.471494 -122.095475  ...    2022-01-27                      NaN   \n",
       "3704  45.444581 -122.154343  ...    2022-01-27                      NaN   \n",
       "\n",
       "     project_id site_id record_ID notes recyear IDyear  missinglot  SetID  \n",
       "2012    83419.0  138237      2013  Many    2022   2022           Y      2  \n",
       "2013    83419.0  138236      2014  Many    2022   2022           Y      2  \n",
       "2014    83419.0  138222      2015  Many    2022   2022           Y      2  \n",
       "2015    83419.0  141443      2016  Many    2022   2022           Y      2  \n",
       "2016    83419.0  141444      2017  Many    2022   2022           Y      2  \n",
       "2017    83419.0  141445      2018  Many    2022   2022           Y      2  \n",
       "2018    83419.0  141447      2019  Many    2022   2022           Y      2  \n",
       "2019    83419.0  141441      2020  Many    2022   2022           Y      2  \n",
       "2020    83419.0  141442      2021  Many    2022   2022           Y      2  \n",
       "2021    83419.0  141446      2022  Many    2022   2022           Y      2  \n",
       "2022    83419.0  141440      2023  Many    2022   2022           Y      2  \n",
       "3703    83419.0  141449      3704  Many    2022   2022           Y      4  \n",
       "3704    83419.0  141448      3705  Many    2022   2022           Y      4  \n",
       "\n",
       "[13 rows x 26 columns]"
      ]
     },
     "execution_count": 462,
     "metadata": {},
     "output_type": "execute_result"
    }
   ],
   "source": [
    "wd_df_cor[wd_df_cor.wetdet_delin_number==wdIDs_ss[0]]"
   ]
  },
  {
   "cell_type": "code",
   "execution_count": 415,
   "id": "ce5d8de1",
   "metadata": {},
   "outputs": [],
   "source": [
    "cnt_df = wd_df.county.value_counts().rename_axis('county').reset_index(name='counts')"
   ]
  },
  {
   "cell_type": "code",
   "execution_count": 403,
   "id": "41763dc5",
   "metadata": {},
   "outputs": [],
   "source": [
    "dat = pd.read_excel(wdpath+'\\\\202307RunPolkGilliamUmatillaUnionWheeler2017-2022ALL.xlsx')"
   ]
  },
  {
   "cell_type": "code",
   "execution_count": 405,
   "id": "6a3df67c",
   "metadata": {},
   "outputs": [],
   "source": [
    "cnt_df1 = dat.county.value_counts().rename_axis('county').reset_index(name='counts')"
   ]
  },
  {
   "cell_type": "code",
   "execution_count": 416,
   "id": "0854fa96",
   "metadata": {},
   "outputs": [],
   "source": [
    "cnt_df2 = pd.concat([cnt_df, cnt_df1], ignore_index=True)"
   ]
  },
  {
   "cell_type": "code",
   "execution_count": 418,
   "id": "fafa09b3",
   "metadata": {},
   "outputs": [],
   "source": [
    "cnt_df2.to_csv(inpath+'\\\\reporting\\\\deliveries_records_by_county.csv', index=False)"
   ]
  }
 ],
 "metadata": {
  "kernelspec": {
   "display_name": "Python 3",
   "language": "python",
   "name": "python3"
  },
  "language_info": {
   "codemirror_mode": {
    "name": "ipython",
    "version": 3
   },
   "file_extension": ".py",
   "mimetype": "text/x-python",
   "name": "python",
   "nbconvert_exporter": "python",
   "pygments_lexer": "ipython3",
   "version": "3.8.8"
  }
 },
 "nbformat": 4,
 "nbformat_minor": 5
}
