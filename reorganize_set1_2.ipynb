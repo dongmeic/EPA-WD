{
 "cells": [
  {
   "cell_type": "code",
   "execution_count": 1,
   "id": "b3140928",
   "metadata": {},
   "outputs": [],
   "source": [
    "%load_ext autoreload\n",
    "%autoreload 2"
   ]
  },
  {
   "cell_type": "code",
   "execution_count": 2,
   "id": "78b049cf",
   "metadata": {},
   "outputs": [],
   "source": [
    "from wdtools import *"
   ]
  },
  {
   "cell_type": "code",
   "execution_count": 48,
   "id": "cc18a0ce",
   "metadata": {},
   "outputs": [],
   "source": [
    "#setID = 'Set001'; nm_to_add=0\n",
    "setID = 'Set002'; nm_to_add=1420"
   ]
  },
  {
   "cell_type": "code",
   "execution_count": 49,
   "id": "412cbf44",
   "metadata": {},
   "outputs": [],
   "source": [
    "setdf = gpd.read_file(inpath+\"\\\\GIS\\\\Join_Statewide.gdb\", layer=f'WD_{setID}_Combined')"
   ]
  },
  {
   "cell_type": "code",
   "execution_count": 50,
   "id": "9c6d949a",
   "metadata": {},
   "outputs": [],
   "source": [
    "matched = gpd.read_file(outpath+f\"\\\\matched\\\\matched_records_{setID}_edited.shp\")"
   ]
  },
  {
   "cell_type": "code",
   "execution_count": 51,
   "id": "e1a0746c",
   "metadata": {},
   "outputs": [],
   "source": [
    "partial = pd.read_csv(outpath + f'\\\\to_review\\\\partial_matched_{setID}.csv')"
   ]
  },
  {
   "cell_type": "code",
   "execution_count": 52,
   "id": "3e9fddec",
   "metadata": {},
   "outputs": [
    {
     "data": {
      "text/plain": [
       "['WD2017-0061',\n",
       " 'WD2021-0021',\n",
       " 'WD2017-0158',\n",
       " 'WD2019-0393',\n",
       " 'WD2020-0272',\n",
       " 'WD2017-0275',\n",
       " 'WD2018-0158']"
      ]
     },
     "execution_count": 52,
     "metadata": {},
     "output_type": "execute_result"
    }
   ],
   "source": [
    "[wdID for wdID in partial.wetdet_delin_number.unique() if wdID not in setdf.wetdet_delin_number.unique()]"
   ]
  },
  {
   "cell_type": "code",
   "execution_count": 53,
   "id": "59b39e06",
   "metadata": {},
   "outputs": [],
   "source": [
    "with open(outpath+f'\\\\matched\\\\{setID}_edited.txt') as f:\n",
    "    editedIDs = f.readlines()"
   ]
  },
  {
   "cell_type": "code",
   "execution_count": 54,
   "id": "baa4f054",
   "metadata": {},
   "outputs": [],
   "source": [
    "dat = setdf[setdf.wetdet_delin_number.isin(list(partial.wetdet_delin_number.unique()) + editedIDs[0].split(\", \"))]\n",
    "dat.rename(columns={'wetdet_delin_number': 'wdID'}, inplace=True)"
   ]
  },
  {
   "cell_type": "code",
   "execution_count": 55,
   "id": "307e54f6",
   "metadata": {},
   "outputs": [],
   "source": [
    "dat = dat[['wdID', 'geometry']].dissolve('wdID')\n",
    "dat.loc[:, 'wdID'] = list(map(lambda x: x.replace('-', '_'), list(dat.index)))"
   ]
  },
  {
   "cell_type": "code",
   "execution_count": 57,
   "id": "0dcab7f0",
   "metadata": {},
   "outputs": [
    {
     "data": {
      "text/plain": [
       "(139, 2)"
      ]
     },
     "execution_count": 57,
     "metadata": {},
     "output_type": "execute_result"
    }
   ],
   "source": [
    "dat.shape"
   ]
  },
  {
   "cell_type": "code",
   "execution_count": 58,
   "id": "8a8e0666",
   "metadata": {},
   "outputs": [],
   "source": [
    "dat.to_file(outpath+f'\\\\matched\\\\{setID}_partial.shp', index=False)"
   ]
  },
  {
   "cell_type": "code",
   "execution_count": 59,
   "id": "ecdab5ea",
   "metadata": {},
   "outputs": [],
   "source": [
    "unmatched = pd.read_csv(os.path.join(inpath + '\\\\output\\\\to_review\\\\', f'unmatched_df_{setID}_2.csv'))"
   ]
  },
  {
   "cell_type": "code",
   "execution_count": 60,
   "id": "dceabeec",
   "metadata": {},
   "outputs": [],
   "source": [
    "dat2 = setdf[setdf.wetdet_delin_number.isin(unmatched.wetdet_delin_number.unique())]"
   ]
  },
  {
   "cell_type": "code",
   "execution_count": 61,
   "id": "3486acad",
   "metadata": {},
   "outputs": [],
   "source": [
    "dat2.rename(columns={'wetdet_delin_number': 'wdID'}, inplace=True)\n",
    "dat2 = dat2[['wdID', 'geometry']].dissolve('wdID')\n",
    "dat2.loc[:, 'wdID'] = list(map(lambda x: x.replace('-', '_'), list(dat2.index)))"
   ]
  },
  {
   "cell_type": "code",
   "execution_count": 62,
   "id": "c1fddaf5",
   "metadata": {},
   "outputs": [],
   "source": [
    "dat2.to_file(outpath+f'\\\\matched\\\\{setID}_unmatched.shp', index=False)"
   ]
  },
  {
   "cell_type": "code",
   "execution_count": 63,
   "id": "1bbc6beb",
   "metadata": {},
   "outputs": [
    {
     "data": {
      "text/plain": [
       "(12, 2)"
      ]
     },
     "execution_count": 63,
     "metadata": {},
     "output_type": "execute_result"
    }
   ],
   "source": [
    "dat2.shape"
   ]
  },
  {
   "cell_type": "code",
   "execution_count": 41,
   "id": "30411b48",
   "metadata": {
    "scrolled": true
   },
   "outputs": [
    {
     "data": {
      "text/html": [
       "<div>\n",
       "<style scoped>\n",
       "    .dataframe tbody tr th:only-of-type {\n",
       "        vertical-align: middle;\n",
       "    }\n",
       "\n",
       "    .dataframe tbody tr th {\n",
       "        vertical-align: top;\n",
       "    }\n",
       "\n",
       "    .dataframe thead th {\n",
       "        text-align: right;\n",
       "    }\n",
       "</style>\n",
       "<table border=\"1\" class=\"dataframe\">\n",
       "  <thead>\n",
       "    <tr style=\"text-align: right;\">\n",
       "      <th></th>\n",
       "      <th>Longitude</th>\n",
       "      <th>Latitude</th>\n",
       "      <th>geometry</th>\n",
       "    </tr>\n",
       "  </thead>\n",
       "  <tbody>\n",
       "    <tr>\n",
       "      <th>0</th>\n",
       "      <td>-122.866871</td>\n",
       "      <td>42.431362</td>\n",
       "      <td>POINT (673256.255 257629.707)</td>\n",
       "    </tr>\n",
       "  </tbody>\n",
       "</table>\n",
       "</div>"
      ],
      "text/plain": [
       "    Longitude   Latitude                       geometry\n",
       "0 -122.866871  42.431362  POINT (673256.255 257629.707)"
      ]
     },
     "execution_count": 41,
     "metadata": {},
     "output_type": "execute_result"
    }
   ],
   "source": [
    "get_point_from_lonlat(lon=-122.866871, lat=42.431362)"
   ]
  }
 ],
 "metadata": {
  "kernelspec": {
   "display_name": "Python 3",
   "language": "python",
   "name": "python3"
  },
  "language_info": {
   "codemirror_mode": {
    "name": "ipython",
    "version": 3
   },
   "file_extension": ".py",
   "mimetype": "text/x-python",
   "name": "python",
   "nbconvert_exporter": "python",
   "pygments_lexer": "ipython3",
   "version": "3.8.8"
  }
 },
 "nbformat": 4,
 "nbformat_minor": 5
}
