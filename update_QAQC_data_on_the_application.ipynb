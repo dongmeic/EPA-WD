{
 "cells": [
  {
   "cell_type": "code",
   "execution_count": 1,
   "id": "8c0c4005",
   "metadata": {},
   "outputs": [],
   "source": [
    "%load_ext autoreload\n",
    "%autoreload 2"
   ]
  },
  {
   "cell_type": "code",
   "execution_count": 130,
   "id": "b8fdd5c7",
   "metadata": {},
   "outputs": [],
   "source": [
    "from wdtools import *"
   ]
  },
  {
   "cell_type": "code",
   "execution_count": 22,
   "id": "1eaacd98",
   "metadata": {},
   "outputs": [],
   "source": [
    "setID = 'Set007'; nm_to_add = 4972"
   ]
  },
  {
   "cell_type": "code",
   "execution_count": 69,
   "id": "da606fb0",
   "metadata": {},
   "outputs": [],
   "source": [
    "wd = combine_wd_tables(setID=setID, nm_to_add=nm_to_add, raw=False)"
   ]
  },
  {
   "cell_type": "code",
   "execution_count": 5,
   "id": "8d0f2443",
   "metadata": {},
   "outputs": [],
   "source": [
    "file = outpath + f'\\\\to_review\\\\re_mapping_{setID}.txt'\n",
    "with open(file) as f:\n",
    "    remapIDs = f.readlines()"
   ]
  },
  {
   "cell_type": "code",
   "execution_count": 6,
   "id": "2f0ae0ea",
   "metadata": {},
   "outputs": [
    {
     "data": {
      "text/plain": [
       "Index(['wetdet_delin_number', 'trsqq', 'parcel_id', 'address_location_desc',\n",
       "       'city', 'county', 'site_name', 'site_desc', 'latitude', 'longitude',\n",
       "       'Coord-Source', 'DocumentName', 'DecisionLink', 'is_batch_file',\n",
       "       'status_name', 'received_date', 'response_date',\n",
       "       'reissuance_response_date', 'project_id', 'site_id', 'record_ID',\n",
       "       'notes', 'recyear', 'IDyear', 'missinglot', 'SetID'],\n",
       "      dtype='object')"
      ]
     },
     "execution_count": 6,
     "metadata": {},
     "output_type": "execute_result"
    }
   ],
   "source": [
    "wd.columns"
   ]
  },
  {
   "cell_type": "code",
   "execution_count": 78,
   "id": "a524836a",
   "metadata": {},
   "outputs": [
    {
     "data": {
      "text/plain": [
       "299"
      ]
     },
     "execution_count": 78,
     "metadata": {},
     "output_type": "execute_result"
    }
   ],
   "source": [
    "len(wd.wetdet_delin_number.unique())"
   ]
  },
  {
   "cell_type": "code",
   "execution_count": 14,
   "id": "645c139c",
   "metadata": {},
   "outputs": [],
   "source": [
    "partialIDs = list(wd[wd.notes != ''].wetdet_delin_number.unique())"
   ]
  },
  {
   "cell_type": "code",
   "execution_count": 97,
   "id": "5fbe0c0e",
   "metadata": {},
   "outputs": [],
   "source": [
    "unmatched = pd.read_csv(outpath+f'\\\\to_review\\\\unmatched_df_{setID}_2.csv')"
   ]
  },
  {
   "cell_type": "code",
   "execution_count": 98,
   "id": "043d17cd",
   "metadata": {},
   "outputs": [
    {
     "data": {
      "text/plain": [
       "Index(['wetdet_delin_number', 'trsqq', 'parcel_id', 'address_location_desc',\n",
       "       'city', 'county', 'site_name', 'site_desc', 'latitude', 'longitude',\n",
       "       'DocumentName', 'DecisionLink', 'is_batch_file', 'status_name',\n",
       "       'received_date', 'Coord-Source', 'response_date',\n",
       "       'reissuance_response_date', 'project_id', 'site_id', 'record_ID',\n",
       "       'notes', 'recyear', 'IDyear', 'missinglot'],\n",
       "      dtype='object')"
      ]
     },
     "execution_count": 98,
     "metadata": {},
     "output_type": "execute_result"
    }
   ],
   "source": [
    "unmatched.columns"
   ]
  },
  {
   "cell_type": "code",
   "execution_count": 100,
   "id": "aab6e0c0",
   "metadata": {},
   "outputs": [],
   "source": [
    "unmatchedIDs = list(unmatched.wetdet_delin_number.unique())"
   ]
  },
  {
   "cell_type": "code",
   "execution_count": 115,
   "id": "c37e0c44",
   "metadata": {},
   "outputs": [],
   "source": [
    "issues = pd.read_excel(outpath + f'\\\\to_review\\\\{setID}_Mapping_Issues.xlsx')"
   ]
  },
  {
   "cell_type": "code",
   "execution_count": 116,
   "id": "00b2ce7b",
   "metadata": {},
   "outputs": [],
   "source": [
    "issueIDs = list(issues.wetdet_delin_number.unique())"
   ]
  },
  {
   "cell_type": "code",
   "execution_count": 117,
   "id": "f9629792",
   "metadata": {},
   "outputs": [],
   "source": [
    "qaqcIDs = remapIDs[0].split(', ') + partialIDs + unmatchedIDs + issueIDs"
   ]
  },
  {
   "cell_type": "code",
   "execution_count": 118,
   "id": "40c17fa6",
   "metadata": {},
   "outputs": [],
   "source": [
    "check_cnt = wd[wd.wetdet_delin_number.isin(qaqcIDs)][['county', 'wetdet_delin_number']].groupby(['wetdet_delin_number']).agg(lambda x: x.nunique()).reset_index().rename(columns={'wetdet_delin_number':'wdID', 'county':'count'})"
   ]
  },
  {
   "cell_type": "code",
   "execution_count": 119,
   "id": "2d8b21f3",
   "metadata": {},
   "outputs": [
    {
     "data": {
      "text/html": [
       "<div>\n",
       "<style scoped>\n",
       "    .dataframe tbody tr th:only-of-type {\n",
       "        vertical-align: middle;\n",
       "    }\n",
       "\n",
       "    .dataframe tbody tr th {\n",
       "        vertical-align: top;\n",
       "    }\n",
       "\n",
       "    .dataframe thead th {\n",
       "        text-align: right;\n",
       "    }\n",
       "</style>\n",
       "<table border=\"1\" class=\"dataframe\">\n",
       "  <thead>\n",
       "    <tr style=\"text-align: right;\">\n",
       "      <th></th>\n",
       "      <th>wdID</th>\n",
       "      <th>count</th>\n",
       "    </tr>\n",
       "  </thead>\n",
       "  <tbody>\n",
       "  </tbody>\n",
       "</table>\n",
       "</div>"
      ],
      "text/plain": [
       "Empty DataFrame\n",
       "Columns: [wdID, count]\n",
       "Index: []"
      ]
     },
     "execution_count": 119,
     "metadata": {},
     "output_type": "execute_result"
    }
   ],
   "source": [
    "check_cnt[check_cnt['count']>1]"
   ]
  },
  {
   "cell_type": "code",
   "execution_count": 131,
   "id": "8fa5aafe",
   "metadata": {},
   "outputs": [],
   "source": [
    "test = update_QAQC_data(setID=setID, wd=wd, \n",
    "                        totcol='P2_2008_16', \n",
    "                        qaqc_col='P2_ToMap', \n",
    "                        export=False)"
   ]
  },
  {
   "cell_type": "markdown",
   "id": "d096e4c6",
   "metadata": {},
   "source": [
    "ignore below codes"
   ]
  },
  {
   "cell_type": "code",
   "execution_count": 120,
   "id": "f6738455",
   "metadata": {},
   "outputs": [],
   "source": [
    "qaqc_df = wd[wd.wetdet_delin_number.isin(qaqcIDs)][['county', 'wetdet_delin_number']].groupby(['county']).agg(lambda x: x.nunique()).reset_index().rename(columns={'wetdet_delin_number':'QAQC_count'})"
   ]
  },
  {
   "cell_type": "code",
   "execution_count": 121,
   "id": "542f8853",
   "metadata": {},
   "outputs": [
    {
     "data": {
      "text/html": [
       "<div>\n",
       "<style scoped>\n",
       "    .dataframe tbody tr th:only-of-type {\n",
       "        vertical-align: middle;\n",
       "    }\n",
       "\n",
       "    .dataframe tbody tr th {\n",
       "        vertical-align: top;\n",
       "    }\n",
       "\n",
       "    .dataframe thead th {\n",
       "        text-align: right;\n",
       "    }\n",
       "</style>\n",
       "<table border=\"1\" class=\"dataframe\">\n",
       "  <thead>\n",
       "    <tr style=\"text-align: right;\">\n",
       "      <th></th>\n",
       "      <th>county</th>\n",
       "      <th>QAQC_count</th>\n",
       "    </tr>\n",
       "  </thead>\n",
       "  <tbody>\n",
       "    <tr>\n",
       "      <th>0</th>\n",
       "      <td>Clatsop</td>\n",
       "      <td>91</td>\n",
       "    </tr>\n",
       "    <tr>\n",
       "      <th>1</th>\n",
       "      <td>Deschutes</td>\n",
       "      <td>26</td>\n",
       "    </tr>\n",
       "  </tbody>\n",
       "</table>\n",
       "</div>"
      ],
      "text/plain": [
       "      county  QAQC_count\n",
       "0    Clatsop          91\n",
       "1  Deschutes          26"
      ]
     },
     "execution_count": 121,
     "metadata": {},
     "output_type": "execute_result"
    }
   ],
   "source": [
    "qaqc_df"
   ]
  },
  {
   "cell_type": "code",
   "execution_count": 37,
   "id": "bfc5a6f9",
   "metadata": {},
   "outputs": [],
   "source": [
    "total_df = wd[['county', 'wetdet_delin_number']].groupby(['county']).agg(lambda x: x.nunique()).reset_index().rename(columns={'wetdet_delin_number':'total_count'})"
   ]
  },
  {
   "cell_type": "code",
   "execution_count": 38,
   "id": "5d6fbe22",
   "metadata": {},
   "outputs": [
    {
     "data": {
      "text/html": [
       "<div>\n",
       "<style scoped>\n",
       "    .dataframe tbody tr th:only-of-type {\n",
       "        vertical-align: middle;\n",
       "    }\n",
       "\n",
       "    .dataframe tbody tr th {\n",
       "        vertical-align: top;\n",
       "    }\n",
       "\n",
       "    .dataframe thead th {\n",
       "        text-align: right;\n",
       "    }\n",
       "</style>\n",
       "<table border=\"1\" class=\"dataframe\">\n",
       "  <thead>\n",
       "    <tr style=\"text-align: right;\">\n",
       "      <th></th>\n",
       "      <th>county</th>\n",
       "      <th>total_count</th>\n",
       "    </tr>\n",
       "  </thead>\n",
       "  <tbody>\n",
       "    <tr>\n",
       "      <th>0</th>\n",
       "      <td>Clatsop</td>\n",
       "      <td>201</td>\n",
       "    </tr>\n",
       "    <tr>\n",
       "      <th>1</th>\n",
       "      <td>Deschutes</td>\n",
       "      <td>98</td>\n",
       "    </tr>\n",
       "  </tbody>\n",
       "</table>\n",
       "</div>"
      ],
      "text/plain": [
       "      county  total_count\n",
       "0    Clatsop          201\n",
       "1  Deschutes           98"
      ]
     },
     "execution_count": 38,
     "metadata": {},
     "output_type": "execute_result"
    }
   ],
   "source": [
    "total_df"
   ]
  },
  {
   "cell_type": "code",
   "execution_count": 31,
   "id": "038ca894",
   "metadata": {},
   "outputs": [],
   "source": [
    "gdf = gpd.read_file(inpath+'\\\\reporting\\\\WD_Counts.shp')"
   ]
  },
  {
   "cell_type": "code",
   "execution_count": 34,
   "id": "62a2357a",
   "metadata": {},
   "outputs": [
    {
     "data": {
      "text/plain": [
       "Index(['County', 'Note', 'P1_2017_22', 'P1_ToMap', 'P2_2008_16', 'P2_ToMap',\n",
       "       'P3_1990_07', 'P3_ToMap', 'Tot_ToMap', 'Tot_Count', 'QAQC_Ratio',\n",
       "       'Auto_Comp', 'geometry'],\n",
       "      dtype='object')"
      ]
     },
     "execution_count": 34,
     "metadata": {},
     "output_type": "execute_result"
    }
   ],
   "source": [
    "gdf.columns"
   ]
  },
  {
   "cell_type": "code",
   "execution_count": 58,
   "id": "e3f6e4d1",
   "metadata": {},
   "outputs": [],
   "source": [
    "sel = qaqc_df.county.unique()"
   ]
  },
  {
   "cell_type": "code",
   "execution_count": 52,
   "id": "4918e04a",
   "metadata": {},
   "outputs": [
    {
     "data": {
      "text/html": [
       "<div>\n",
       "<style scoped>\n",
       "    .dataframe tbody tr th:only-of-type {\n",
       "        vertical-align: middle;\n",
       "    }\n",
       "\n",
       "    .dataframe tbody tr th {\n",
       "        vertical-align: top;\n",
       "    }\n",
       "\n",
       "    .dataframe thead th {\n",
       "        text-align: right;\n",
       "    }\n",
       "</style>\n",
       "<table border=\"1\" class=\"dataframe\">\n",
       "  <thead>\n",
       "    <tr style=\"text-align: right;\">\n",
       "      <th></th>\n",
       "      <th>county</th>\n",
       "      <th>total_count</th>\n",
       "    </tr>\n",
       "  </thead>\n",
       "  <tbody>\n",
       "    <tr>\n",
       "      <th>0</th>\n",
       "      <td>Clatsop</td>\n",
       "      <td>201</td>\n",
       "    </tr>\n",
       "    <tr>\n",
       "      <th>1</th>\n",
       "      <td>Deschutes</td>\n",
       "      <td>98</td>\n",
       "    </tr>\n",
       "  </tbody>\n",
       "</table>\n",
       "</div>"
      ],
      "text/plain": [
       "      county  total_count\n",
       "0    Clatsop          201\n",
       "1  Deschutes           98"
      ]
     },
     "execution_count": 52,
     "metadata": {},
     "output_type": "execute_result"
    }
   ],
   "source": [
    "total_df.loc[total_df.county.isin(sel), \n",
    "             ['county', 'total_count']]"
   ]
  },
  {
   "cell_type": "code",
   "execution_count": 54,
   "id": "8ad18a42",
   "metadata": {},
   "outputs": [
    {
     "data": {
      "text/html": [
       "<div>\n",
       "<style scoped>\n",
       "    .dataframe tbody tr th:only-of-type {\n",
       "        vertical-align: middle;\n",
       "    }\n",
       "\n",
       "    .dataframe tbody tr th {\n",
       "        vertical-align: top;\n",
       "    }\n",
       "\n",
       "    .dataframe thead th {\n",
       "        text-align: right;\n",
       "    }\n",
       "</style>\n",
       "<table border=\"1\" class=\"dataframe\">\n",
       "  <thead>\n",
       "    <tr style=\"text-align: right;\">\n",
       "      <th></th>\n",
       "      <th>County</th>\n",
       "      <th>P2_2008_16</th>\n",
       "      <th>P2_ToMap</th>\n",
       "    </tr>\n",
       "  </thead>\n",
       "  <tbody>\n",
       "    <tr>\n",
       "      <th>9</th>\n",
       "      <td>Deschutes</td>\n",
       "      <td>132</td>\n",
       "      <td>66</td>\n",
       "    </tr>\n",
       "    <tr>\n",
       "      <th>35</th>\n",
       "      <td>Clatsop</td>\n",
       "      <td>275</td>\n",
       "      <td>137</td>\n",
       "    </tr>\n",
       "  </tbody>\n",
       "</table>\n",
       "</div>"
      ],
      "text/plain": [
       "       County  P2_2008_16  P2_ToMap\n",
       "9   Deschutes         132        66\n",
       "35    Clatsop         275       137"
      ]
     },
     "execution_count": 54,
     "metadata": {},
     "output_type": "execute_result"
    }
   ],
   "source": [
    "gdf.loc[gdf.County.isin(sel), \n",
    "        ['County', 'P2_2008_16', 'P2_ToMap']]"
   ]
  },
  {
   "cell_type": "code",
   "execution_count": 44,
   "id": "8fd246ad",
   "metadata": {},
   "outputs": [],
   "source": [
    "wdcnt_dict = total_df.set_index('county').to_dict(orient='dict')['total_count']"
   ]
  },
  {
   "cell_type": "code",
   "execution_count": 122,
   "id": "bd642c3e",
   "metadata": {},
   "outputs": [],
   "source": [
    "qccnt_dict = qaqc_df.set_index('county').to_dict(orient='dict')['QAQC_count']"
   ]
  },
  {
   "cell_type": "code",
   "execution_count": 123,
   "id": "f55309b2",
   "metadata": {},
   "outputs": [
    {
     "data": {
      "text/plain": [
       "{'Clatsop': 91, 'Deschutes': 26}"
      ]
     },
     "execution_count": 123,
     "metadata": {},
     "output_type": "execute_result"
    }
   ],
   "source": [
    "qccnt_dict"
   ]
  },
  {
   "cell_type": "code",
   "execution_count": 55,
   "id": "8adf73c2",
   "metadata": {},
   "outputs": [],
   "source": [
    "gdf.loc[gdf.County.isin(sel), 'P2_2008_16'] = gdf[gdf.County.isin(sel)].County.map(wdcnt_dict)"
   ]
  },
  {
   "cell_type": "code",
   "execution_count": 124,
   "id": "f9b3bedf",
   "metadata": {},
   "outputs": [],
   "source": [
    "gdf.loc[gdf.County.isin(sel), 'P2_ToMap'] = gdf[gdf.County.isin(sel)].County.map(qccnt_dict)"
   ]
  },
  {
   "cell_type": "code",
   "execution_count": 125,
   "id": "74f21bbb",
   "metadata": {},
   "outputs": [
    {
     "data": {
      "text/html": [
       "<div>\n",
       "<style scoped>\n",
       "    .dataframe tbody tr th:only-of-type {\n",
       "        vertical-align: middle;\n",
       "    }\n",
       "\n",
       "    .dataframe tbody tr th {\n",
       "        vertical-align: top;\n",
       "    }\n",
       "\n",
       "    .dataframe thead th {\n",
       "        text-align: right;\n",
       "    }\n",
       "</style>\n",
       "<table border=\"1\" class=\"dataframe\">\n",
       "  <thead>\n",
       "    <tr style=\"text-align: right;\">\n",
       "      <th></th>\n",
       "      <th>County</th>\n",
       "      <th>P2_2008_16</th>\n",
       "      <th>P2_ToMap</th>\n",
       "    </tr>\n",
       "  </thead>\n",
       "  <tbody>\n",
       "    <tr>\n",
       "      <th>9</th>\n",
       "      <td>Deschutes</td>\n",
       "      <td>98</td>\n",
       "      <td>26</td>\n",
       "    </tr>\n",
       "    <tr>\n",
       "      <th>35</th>\n",
       "      <td>Clatsop</td>\n",
       "      <td>201</td>\n",
       "      <td>91</td>\n",
       "    </tr>\n",
       "  </tbody>\n",
       "</table>\n",
       "</div>"
      ],
      "text/plain": [
       "       County  P2_2008_16  P2_ToMap\n",
       "9   Deschutes          98        26\n",
       "35    Clatsop         201        91"
      ]
     },
     "execution_count": 125,
     "metadata": {},
     "output_type": "execute_result"
    }
   ],
   "source": [
    "gdf.loc[gdf.County.isin(sel), \n",
    "        ['County', 'P2_2008_16', 'P2_ToMap']]"
   ]
  },
  {
   "cell_type": "code",
   "execution_count": 126,
   "id": "f300e7ab",
   "metadata": {},
   "outputs": [],
   "source": [
    "gdf.loc[:, 'Tot_ToMap'] =  gdf.P1_ToMap + gdf.P2_ToMap + gdf.P3_ToMap\n",
    "gdf.loc[:, 'Tot_Count'] =  gdf.P1_2017_22 + gdf.P2_2008_16 + gdf.P3_1990_07\n",
    "gdf.loc[:, 'QAQC_Ratio'] = gdf.Tot_ToMap / gdf.Tot_Count\n",
    "gdf.loc[:, 'Auto_Comp'] = gdf.Tot_Count - gdf.Tot_ToMap"
   ]
  },
  {
   "cell_type": "code",
   "execution_count": 127,
   "id": "d6570e6f",
   "metadata": {},
   "outputs": [],
   "source": [
    "gdf.to_file(inpath+'\\\\reporting\\\\WD_Counts.shp')"
   ]
  },
  {
   "cell_type": "code",
   "execution_count": 132,
   "id": "ccbd0e92",
   "metadata": {},
   "outputs": [
    {
     "data": {
      "text/html": [
       "<div>\n",
       "<style scoped>\n",
       "    .dataframe tbody tr th:only-of-type {\n",
       "        vertical-align: middle;\n",
       "    }\n",
       "\n",
       "    .dataframe tbody tr th {\n",
       "        vertical-align: top;\n",
       "    }\n",
       "\n",
       "    .dataframe thead th {\n",
       "        text-align: right;\n",
       "    }\n",
       "</style>\n",
       "<table border=\"1\" class=\"dataframe\">\n",
       "  <thead>\n",
       "    <tr style=\"text-align: right;\">\n",
       "      <th></th>\n",
       "      <th>County</th>\n",
       "      <th>P2_2008_16</th>\n",
       "      <th>P2_ToMap</th>\n",
       "    </tr>\n",
       "  </thead>\n",
       "  <tbody>\n",
       "    <tr>\n",
       "      <th>9</th>\n",
       "      <td>Deschutes</td>\n",
       "      <td>98</td>\n",
       "      <td>26</td>\n",
       "    </tr>\n",
       "    <tr>\n",
       "      <th>35</th>\n",
       "      <td>Clatsop</td>\n",
       "      <td>201</td>\n",
       "      <td>91</td>\n",
       "    </tr>\n",
       "  </tbody>\n",
       "</table>\n",
       "</div>"
      ],
      "text/plain": [
       "       County  P2_2008_16  P2_ToMap\n",
       "9   Deschutes          98        26\n",
       "35    Clatsop         201        91"
      ]
     },
     "execution_count": 132,
     "metadata": {},
     "output_type": "execute_result"
    }
   ],
   "source": [
    "test.loc[test.County.isin(sel), \n",
    "        ['County', 'P2_2008_16', 'P2_ToMap']]"
   ]
  },
  {
   "cell_type": "code",
   "execution_count": 128,
   "id": "bfd15b0f",
   "metadata": {},
   "outputs": [],
   "source": [
    "os.remove(inpath+\"\\\\reporting\\\\WD_Counts.zip\")"
   ]
  },
  {
   "cell_type": "code",
   "execution_count": 129,
   "id": "f54c3177",
   "metadata": {},
   "outputs": [
    {
     "name": "stdout",
     "output_type": "stream",
     "text": [
      " *** Input File name passed for zipping - ['L:\\\\NaturalResources\\\\Wetlands\\\\Local Wetland Inventory\\\\WAPO\\\\EPA_2022_Tasks\\\\Task 1 WD Mapping\\\\reporting\\\\WD_Counts.cpg', 'L:\\\\NaturalResources\\\\Wetlands\\\\Local Wetland Inventory\\\\WAPO\\\\EPA_2022_Tasks\\\\Task 1 WD Mapping\\\\reporting\\\\WD_Counts.dbf', 'L:\\\\NaturalResources\\\\Wetlands\\\\Local Wetland Inventory\\\\WAPO\\\\EPA_2022_Tasks\\\\Task 1 WD Mapping\\\\reporting\\\\WD_Counts.prj', 'L:\\\\NaturalResources\\\\Wetlands\\\\Local Wetland Inventory\\\\WAPO\\\\EPA_2022_Tasks\\\\Task 1 WD Mapping\\\\reporting\\\\WD_Counts.shp', 'L:\\\\NaturalResources\\\\Wetlands\\\\Local Wetland Inventory\\\\WAPO\\\\EPA_2022_Tasks\\\\Task 1 WD Mapping\\\\reporting\\\\WD_Counts.shx']\n",
      " *** out_zip_file is - L:\\NaturalResources\\Wetlands\\Local Wetland Inventory\\WAPO\\EPA_2022_Tasks\\Task 1 WD Mapping\\reporting\\WD_Counts.zip\n",
      " *** Processing file L:\\NaturalResources\\Wetlands\\Local Wetland Inventory\\WAPO\\EPA_2022_Tasks\\Task 1 WD Mapping\\reporting\\WD_Counts.cpg\n",
      " *** Processing file L:\\NaturalResources\\Wetlands\\Local Wetland Inventory\\WAPO\\EPA_2022_Tasks\\Task 1 WD Mapping\\reporting\\WD_Counts.dbf\n",
      " *** Processing file L:\\NaturalResources\\Wetlands\\Local Wetland Inventory\\WAPO\\EPA_2022_Tasks\\Task 1 WD Mapping\\reporting\\WD_Counts.prj\n",
      " *** Processing file L:\\NaturalResources\\Wetlands\\Local Wetland Inventory\\WAPO\\EPA_2022_Tasks\\Task 1 WD Mapping\\reporting\\WD_Counts.shp\n",
      " *** Processing file L:\\NaturalResources\\Wetlands\\Local Wetland Inventory\\WAPO\\EPA_2022_Tasks\\Task 1 WD Mapping\\reporting\\WD_Counts.shx\n"
     ]
    }
   ],
   "source": [
    "file_name_list = glob.glob(inpath+\"\\\\reporting\\\\WD_Counts.*\")\n",
    "zip_file_name = inpath+\"\\\\reporting\\\\WD_Counts.zip\"\n",
    "file_compress(file_name_list, zip_file_name)"
   ]
  }
 ],
 "metadata": {
  "kernelspec": {
   "display_name": "Python 3",
   "language": "python",
   "name": "python3"
  },
  "language_info": {
   "codemirror_mode": {
    "name": "ipython",
    "version": 3
   },
   "file_extension": ".py",
   "mimetype": "text/x-python",
   "name": "python",
   "nbconvert_exporter": "python",
   "pygments_lexer": "ipython3",
   "version": "3.8.8"
  }
 },
 "nbformat": 4,
 "nbformat_minor": 5
}
