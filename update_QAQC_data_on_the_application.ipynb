{
 "cells": [
  {
   "cell_type": "code",
   "execution_count": 1,
   "id": "8c0c4005",
   "metadata": {},
   "outputs": [],
   "source": [
    "%load_ext autoreload\n",
    "%autoreload 2"
   ]
  },
  {
   "cell_type": "code",
   "execution_count": 2,
   "id": "b8fdd5c7",
   "metadata": {},
   "outputs": [],
   "source": [
    "from wdtools import *"
   ]
  },
  {
   "cell_type": "code",
   "execution_count": 3,
   "id": "8265fa1e",
   "metadata": {},
   "outputs": [],
   "source": [
    "setID = 'Set008'; nm_to_add = 5402"
   ]
  },
  {
   "cell_type": "code",
   "execution_count": 24,
   "id": "10b78ef2",
   "metadata": {},
   "outputs": [],
   "source": [
    "gdf_file = f'{outpath}//final//mapped_wd_{setID}.shp'"
   ]
  },
  {
   "cell_type": "code",
   "execution_count": 25,
   "id": "5f3bc9a8",
   "metadata": {},
   "outputs": [
    {
     "data": {
      "text/plain": [
       "False"
      ]
     },
     "execution_count": 25,
     "metadata": {},
     "output_type": "execute_result"
    }
   ],
   "source": [
    "os.path.isfile(gdf_file)"
   ]
  },
  {
   "cell_type": "code",
   "execution_count": 35,
   "id": "23025f9e",
   "metadata": {},
   "outputs": [],
   "source": [
    "wd = combine_wd_tables(setID=setID, nm_to_add=nm_to_add, raw=False)"
   ]
  },
  {
   "cell_type": "code",
   "execution_count": 36,
   "id": "478588bf",
   "metadata": {},
   "outputs": [
    {
     "data": {
      "text/plain": [
       "array(['Lake', 'Marion'], dtype=object)"
      ]
     },
     "execution_count": 36,
     "metadata": {},
     "output_type": "execute_result"
    }
   ],
   "source": [
    "wd.county.unique()"
   ]
  },
  {
   "cell_type": "code",
   "execution_count": 20,
   "id": "307c3388",
   "metadata": {},
   "outputs": [
    {
     "data": {
      "text/plain": [
       "295"
      ]
     },
     "execution_count": 20,
     "metadata": {},
     "output_type": "execute_result"
    }
   ],
   "source": [
    "len(wd.wetdet_delin_number.unique())"
   ]
  },
  {
   "cell_type": "code",
   "execution_count": 5,
   "id": "833dfa3d",
   "metadata": {},
   "outputs": [],
   "source": [
    "matched = gpd.read_file(f'{outpath}\\\\matched\\\\matched_records_Set008.shp')"
   ]
  },
  {
   "cell_type": "code",
   "execution_count": 7,
   "id": "e5034c60",
   "metadata": {},
   "outputs": [],
   "source": [
    "file = fr'{outpath}\\to_review\\re_mapping_{setID}.txt' \n",
    "with open(file) as f: \n",
    "    remapIDs = f.readlines()"
   ]
  },
  {
   "cell_type": "code",
   "execution_count": 8,
   "id": "0bae3e5e",
   "metadata": {},
   "outputs": [],
   "source": [
    "unmatched = pd.read_csv(fr'{outpath}\\to_review\\unmatched_df_{setID}_2.csv')"
   ]
  },
  {
   "cell_type": "code",
   "execution_count": 10,
   "id": "b60a695d",
   "metadata": {},
   "outputs": [
    {
     "data": {
      "text/plain": [
       "array([nan, 'Many', 'Partial', 'ROW', 'ROW, Partial'], dtype=object)"
      ]
     },
     "execution_count": 10,
     "metadata": {},
     "output_type": "execute_result"
    }
   ],
   "source": [
    "wd.notes.unique()"
   ]
  },
  {
   "cell_type": "code",
   "execution_count": 11,
   "id": "053597c0",
   "metadata": {},
   "outputs": [],
   "source": [
    "partialIDs = list(wd[~wd.notes.isnull()].wetdet_delin_number.unique())"
   ]
  },
  {
   "cell_type": "code",
   "execution_count": 13,
   "id": "2fb545d4",
   "metadata": {},
   "outputs": [
    {
     "data": {
      "text/plain": [
       "83"
      ]
     },
     "execution_count": 13,
     "metadata": {},
     "output_type": "execute_result"
    }
   ],
   "source": [
    "len(partialIDs)"
   ]
  },
  {
   "cell_type": "code",
   "execution_count": 14,
   "id": "c8579a38",
   "metadata": {},
   "outputs": [],
   "source": [
    "unmatchedIDs = list(unmatched.wetdet_delin_number.unique())"
   ]
  },
  {
   "cell_type": "code",
   "execution_count": 16,
   "id": "224ae593",
   "metadata": {},
   "outputs": [],
   "source": [
    "issues = pd.read_excel(fr'{outpath}\\to_review\\{setID}_Mapping_Issues.xlsx')"
   ]
  },
  {
   "cell_type": "code",
   "execution_count": 17,
   "id": "7ca5bdac",
   "metadata": {},
   "outputs": [],
   "source": [
    "issueIDs = list(issues.wetdet_delin_number.unique())"
   ]
  },
  {
   "cell_type": "code",
   "execution_count": 18,
   "id": "5724fa3e",
   "metadata": {},
   "outputs": [],
   "source": [
    "qaqcIDs = unique(remapIDs[0].split(', ') + partialIDs + unmatchedIDs + issueIDs)"
   ]
  },
  {
   "cell_type": "code",
   "execution_count": 40,
   "id": "15f35de5",
   "metadata": {},
   "outputs": [
    {
     "data": {
      "text/plain": [
       "109"
      ]
     },
     "execution_count": 40,
     "metadata": {},
     "output_type": "execute_result"
    }
   ],
   "source": [
    "len(qaqcIDs)"
   ]
  },
  {
   "cell_type": "code",
   "execution_count": 21,
   "id": "d067165f",
   "metadata": {},
   "outputs": [
    {
     "data": {
      "text/plain": [
       "186"
      ]
     },
     "execution_count": 21,
     "metadata": {},
     "output_type": "execute_result"
    }
   ],
   "source": [
    "len([wid for wid in matched.wdID.unique() if wid not in qaqcIDs])"
   ]
  },
  {
   "cell_type": "code",
   "execution_count": 22,
   "id": "b7493fb3",
   "metadata": {},
   "outputs": [],
   "source": [
    "check_cnt = wd[wd.wetdet_delin_number.isin(qaqcIDs)][['county', 'wetdet_delin_number']].groupby(['wetdet_delin_number']).agg(lambda x: x.nunique()).reset_index().rename(columns={'wetdet_delin_number':'wdID', 'county':'count'})"
   ]
  },
  {
   "cell_type": "code",
   "execution_count": 23,
   "id": "2ac6aa90",
   "metadata": {},
   "outputs": [
    {
     "data": {
      "text/html": [
       "<div>\n",
       "<style scoped>\n",
       "    .dataframe tbody tr th:only-of-type {\n",
       "        vertical-align: middle;\n",
       "    }\n",
       "\n",
       "    .dataframe tbody tr th {\n",
       "        vertical-align: top;\n",
       "    }\n",
       "\n",
       "    .dataframe thead th {\n",
       "        text-align: right;\n",
       "    }\n",
       "</style>\n",
       "<table border=\"1\" class=\"dataframe\">\n",
       "  <thead>\n",
       "    <tr style=\"text-align: right;\">\n",
       "      <th></th>\n",
       "      <th>wdID</th>\n",
       "      <th>count</th>\n",
       "    </tr>\n",
       "  </thead>\n",
       "  <tbody>\n",
       "  </tbody>\n",
       "</table>\n",
       "</div>"
      ],
      "text/plain": [
       "Empty DataFrame\n",
       "Columns: [wdID, count]\n",
       "Index: []"
      ]
     },
     "execution_count": 23,
     "metadata": {},
     "output_type": "execute_result"
    }
   ],
   "source": [
    "check_cnt[check_cnt['count']>1]"
   ]
  },
  {
   "cell_type": "code",
   "execution_count": 41,
   "id": "5c6c78d6",
   "metadata": {},
   "outputs": [],
   "source": [
    "qaqc_df = wd[wd.wetdet_delin_number.isin(qaqcIDs)][['county', 'wetdet_delin_number']].groupby(['county']).agg(lambda x: x.nunique()).reset_index().rename(columns={'wetdet_delin_number':'QAQC_count'})"
   ]
  },
  {
   "cell_type": "code",
   "execution_count": 42,
   "id": "1f9eee43",
   "metadata": {},
   "outputs": [
    {
     "data": {
      "text/html": [
       "<div>\n",
       "<style scoped>\n",
       "    .dataframe tbody tr th:only-of-type {\n",
       "        vertical-align: middle;\n",
       "    }\n",
       "\n",
       "    .dataframe tbody tr th {\n",
       "        vertical-align: top;\n",
       "    }\n",
       "\n",
       "    .dataframe thead th {\n",
       "        text-align: right;\n",
       "    }\n",
       "</style>\n",
       "<table border=\"1\" class=\"dataframe\">\n",
       "  <thead>\n",
       "    <tr style=\"text-align: right;\">\n",
       "      <th></th>\n",
       "      <th>county</th>\n",
       "      <th>QAQC_count</th>\n",
       "    </tr>\n",
       "  </thead>\n",
       "  <tbody>\n",
       "    <tr>\n",
       "      <th>0</th>\n",
       "      <td>Lake</td>\n",
       "      <td>21</td>\n",
       "    </tr>\n",
       "    <tr>\n",
       "      <th>1</th>\n",
       "      <td>Marion</td>\n",
       "      <td>88</td>\n",
       "    </tr>\n",
       "  </tbody>\n",
       "</table>\n",
       "</div>"
      ],
      "text/plain": [
       "   county  QAQC_count\n",
       "0    Lake          21\n",
       "1  Marion          88"
      ]
     },
     "execution_count": 42,
     "metadata": {},
     "output_type": "execute_result"
    }
   ],
   "source": [
    "qaqc_df"
   ]
  },
  {
   "cell_type": "code",
   "execution_count": 43,
   "id": "670ff903",
   "metadata": {},
   "outputs": [],
   "source": [
    "gdf = update_QAQC_data(setID=setID, wd=wd, \n",
    "                        totcol='P2_2008_16', \n",
    "                        qaqc_col='P2_ToMap', \n",
    "                        export=True)"
   ]
  },
  {
   "cell_type": "code",
   "execution_count": 37,
   "id": "577d1d23",
   "metadata": {},
   "outputs": [
    {
     "data": {
      "text/plain": [
       "Index(['County', 'Note', 'P1_2017_22', 'P1_ToMap', 'P2_2008_16', 'P2_ToMap',\n",
       "       'P3_1990_07', 'P3_ToMap', 'Tot_ToMap', 'Tot_Count', 'QAQC_Ratio',\n",
       "       'Auto_Comp', 'geometry'],\n",
       "      dtype='object')"
      ]
     },
     "execution_count": 37,
     "metadata": {},
     "output_type": "execute_result"
    }
   ],
   "source": [
    "gdf.columns"
   ]
  },
  {
   "cell_type": "code",
   "execution_count": 44,
   "id": "0c64f721",
   "metadata": {},
   "outputs": [
    {
     "data": {
      "text/html": [
       "<div>\n",
       "<style scoped>\n",
       "    .dataframe tbody tr th:only-of-type {\n",
       "        vertical-align: middle;\n",
       "    }\n",
       "\n",
       "    .dataframe tbody tr th {\n",
       "        vertical-align: top;\n",
       "    }\n",
       "\n",
       "    .dataframe thead th {\n",
       "        text-align: right;\n",
       "    }\n",
       "</style>\n",
       "<table border=\"1\" class=\"dataframe\">\n",
       "  <thead>\n",
       "    <tr style=\"text-align: right;\">\n",
       "      <th></th>\n",
       "      <th>County</th>\n",
       "      <th>P2_2008_16</th>\n",
       "      <th>P2_ToMap</th>\n",
       "    </tr>\n",
       "  </thead>\n",
       "  <tbody>\n",
       "    <tr>\n",
       "      <th>5</th>\n",
       "      <td>Lake</td>\n",
       "      <td>33</td>\n",
       "      <td>21</td>\n",
       "    </tr>\n",
       "    <tr>\n",
       "      <th>20</th>\n",
       "      <td>Marion</td>\n",
       "      <td>262</td>\n",
       "      <td>88</td>\n",
       "    </tr>\n",
       "  </tbody>\n",
       "</table>\n",
       "</div>"
      ],
      "text/plain": [
       "    County  P2_2008_16  P2_ToMap\n",
       "5     Lake          33        21\n",
       "20  Marion         262        88"
      ]
     },
     "execution_count": 44,
     "metadata": {},
     "output_type": "execute_result"
    }
   ],
   "source": [
    "gdf[gdf.County.isin(wd.county.unique())][['County','P2_2008_16', 'P2_ToMap']]"
   ]
  },
  {
   "cell_type": "code",
   "execution_count": 3,
   "id": "1eaacd98",
   "metadata": {},
   "outputs": [],
   "source": [
    "setID = 'Set007'; nm_to_add = 4972"
   ]
  },
  {
   "cell_type": "code",
   "execution_count": 4,
   "id": "da606fb0",
   "metadata": {},
   "outputs": [],
   "source": [
    "wd = combine_wd_tables(setID=setID, nm_to_add=nm_to_add, raw=False)"
   ]
  },
  {
   "cell_type": "code",
   "execution_count": 16,
   "id": "e0b3f704",
   "metadata": {},
   "outputs": [],
   "source": [
    "mapped = gpd.read_file(f'{outpath}//final//mapped_wd_{setID}.shp')"
   ]
  },
  {
   "cell_type": "markdown",
   "id": "e78bb067",
   "metadata": {},
   "source": [
    "file = outpath + f'\\\\to_review\\\\re_mapping_{setID}.txt'\n",
    "with open(file) as f:\n",
    "    remapIDs = f.readlines()"
   ]
  },
  {
   "cell_type": "code",
   "execution_count": 6,
   "id": "2f0ae0ea",
   "metadata": {},
   "outputs": [
    {
     "data": {
      "text/plain": [
       "Index(['wetdet_delin_number', 'trsqq', 'parcel_id', 'address_location_desc',\n",
       "       'city', 'county', 'site_name', 'site_desc', 'latitude', 'longitude',\n",
       "       'Coord-Source', 'DocumentName', 'DecisionLink', 'is_batch_file',\n",
       "       'status_name', 'received_date', 'response_date',\n",
       "       'reissuance_response_date', 'project_id', 'site_id', 'record_ID',\n",
       "       'notes', 'recyear', 'IDyear', 'missinglot', 'SetID'],\n",
       "      dtype='object')"
      ]
     },
     "execution_count": 6,
     "metadata": {},
     "output_type": "execute_result"
    }
   ],
   "source": [
    "wd.columns"
   ]
  },
  {
   "cell_type": "code",
   "execution_count": 5,
   "id": "a524836a",
   "metadata": {},
   "outputs": [
    {
     "data": {
      "text/plain": [
       "299"
      ]
     },
     "execution_count": 5,
     "metadata": {},
     "output_type": "execute_result"
    }
   ],
   "source": [
    "len(wd.wetdet_delin_number.unique())"
   ]
  },
  {
   "cell_type": "markdown",
   "id": "eec597ef",
   "metadata": {},
   "source": [
    "partialIDs = list(wd[wd.notes != ''].wetdet_delin_number.unique())"
   ]
  },
  {
   "cell_type": "markdown",
   "id": "fa4115ae",
   "metadata": {},
   "source": [
    "unmatched = pd.read_csv(outpath+f'\\\\to_review\\\\unmatched_df_{setID}_2.csv')"
   ]
  },
  {
   "cell_type": "markdown",
   "id": "d18c0b65",
   "metadata": {},
   "source": [
    "unmatched.columns"
   ]
  },
  {
   "cell_type": "markdown",
   "id": "aef23595",
   "metadata": {},
   "source": [
    "unmatchedIDs = list(unmatched.wetdet_delin_number.unique())"
   ]
  },
  {
   "cell_type": "markdown",
   "id": "cedb99b3",
   "metadata": {},
   "source": [
    "issues = pd.read_excel(outpath + f'\\\\to_review\\\\{setID}_Mapping_Issues.xlsx')"
   ]
  },
  {
   "cell_type": "markdown",
   "id": "e684631f",
   "metadata": {},
   "source": [
    "issueIDs = list(issues.wetdet_delin_number.unique())"
   ]
  },
  {
   "cell_type": "code",
   "execution_count": 20,
   "id": "f9629792",
   "metadata": {},
   "outputs": [],
   "source": [
    "qaqcIDs = wd[~wd.wetdet_delin_number.isin(mapped.wdID.unique())].wetdet_delin_number.unique() #remapIDs[0].split(', ') + partialIDs + unmatchedIDs + issueIDs"
   ]
  },
  {
   "cell_type": "code",
   "execution_count": 21,
   "id": "63a3e459",
   "metadata": {},
   "outputs": [
    {
     "data": {
      "text/plain": [
       "26"
      ]
     },
     "execution_count": 21,
     "metadata": {},
     "output_type": "execute_result"
    }
   ],
   "source": [
    "len(qaqcIDs)"
   ]
  },
  {
   "cell_type": "code",
   "execution_count": 22,
   "id": "40c17fa6",
   "metadata": {},
   "outputs": [],
   "source": [
    "check_cnt = wd[wd.wetdet_delin_number.isin(qaqcIDs)][['county', 'wetdet_delin_number']].groupby(['wetdet_delin_number']).agg(lambda x: x.nunique()).reset_index().rename(columns={'wetdet_delin_number':'wdID', 'county':'count'})"
   ]
  },
  {
   "cell_type": "code",
   "execution_count": 23,
   "id": "2d8b21f3",
   "metadata": {},
   "outputs": [
    {
     "data": {
      "text/html": [
       "<div>\n",
       "<style scoped>\n",
       "    .dataframe tbody tr th:only-of-type {\n",
       "        vertical-align: middle;\n",
       "    }\n",
       "\n",
       "    .dataframe tbody tr th {\n",
       "        vertical-align: top;\n",
       "    }\n",
       "\n",
       "    .dataframe thead th {\n",
       "        text-align: right;\n",
       "    }\n",
       "</style>\n",
       "<table border=\"1\" class=\"dataframe\">\n",
       "  <thead>\n",
       "    <tr style=\"text-align: right;\">\n",
       "      <th></th>\n",
       "      <th>wdID</th>\n",
       "      <th>count</th>\n",
       "    </tr>\n",
       "  </thead>\n",
       "  <tbody>\n",
       "  </tbody>\n",
       "</table>\n",
       "</div>"
      ],
      "text/plain": [
       "Empty DataFrame\n",
       "Columns: [wdID, count]\n",
       "Index: []"
      ]
     },
     "execution_count": 23,
     "metadata": {},
     "output_type": "execute_result"
    }
   ],
   "source": [
    "check_cnt[check_cnt['count']>1]"
   ]
  },
  {
   "cell_type": "code",
   "execution_count": 26,
   "id": "20cad21b",
   "metadata": {},
   "outputs": [],
   "source": [
    "gdf = update_QAQC_data(setID=setID, wd=wd, \n",
    "                        totcol='P2_2008_16', \n",
    "                        qaqc_col='P2_ToMap', \n",
    "                        export=True)"
   ]
  },
  {
   "cell_type": "code",
   "execution_count": 45,
   "id": "abb16fb7",
   "metadata": {},
   "outputs": [],
   "source": [
    "os.remove(inpath+\"\\\\reporting\\\\WD_Counts.zip\")"
   ]
  },
  {
   "cell_type": "code",
   "execution_count": 46,
   "id": "76c109b2",
   "metadata": {},
   "outputs": [
    {
     "name": "stdout",
     "output_type": "stream",
     "text": [
      " *** Input File name passed for zipping - ['L:\\\\NaturalResources\\\\Wetlands\\\\Local Wetland Inventory\\\\WAPO\\\\EPA_2022_Tasks\\\\Task 1 WD Mapping\\\\reporting\\\\WD_Counts.cpg', 'L:\\\\NaturalResources\\\\Wetlands\\\\Local Wetland Inventory\\\\WAPO\\\\EPA_2022_Tasks\\\\Task 1 WD Mapping\\\\reporting\\\\WD_Counts.dbf', 'L:\\\\NaturalResources\\\\Wetlands\\\\Local Wetland Inventory\\\\WAPO\\\\EPA_2022_Tasks\\\\Task 1 WD Mapping\\\\reporting\\\\WD_Counts.prj', 'L:\\\\NaturalResources\\\\Wetlands\\\\Local Wetland Inventory\\\\WAPO\\\\EPA_2022_Tasks\\\\Task 1 WD Mapping\\\\reporting\\\\WD_Counts.shp', 'L:\\\\NaturalResources\\\\Wetlands\\\\Local Wetland Inventory\\\\WAPO\\\\EPA_2022_Tasks\\\\Task 1 WD Mapping\\\\reporting\\\\WD_Counts.shx']\n",
      " *** out_zip_file is - L:\\NaturalResources\\Wetlands\\Local Wetland Inventory\\WAPO\\EPA_2022_Tasks\\Task 1 WD Mapping\\reporting\\WD_Counts.zip\n",
      " *** Processing file L:\\NaturalResources\\Wetlands\\Local Wetland Inventory\\WAPO\\EPA_2022_Tasks\\Task 1 WD Mapping\\reporting\\WD_Counts.cpg\n",
      " *** Processing file L:\\NaturalResources\\Wetlands\\Local Wetland Inventory\\WAPO\\EPA_2022_Tasks\\Task 1 WD Mapping\\reporting\\WD_Counts.dbf\n",
      " *** Processing file L:\\NaturalResources\\Wetlands\\Local Wetland Inventory\\WAPO\\EPA_2022_Tasks\\Task 1 WD Mapping\\reporting\\WD_Counts.prj\n",
      " *** Processing file L:\\NaturalResources\\Wetlands\\Local Wetland Inventory\\WAPO\\EPA_2022_Tasks\\Task 1 WD Mapping\\reporting\\WD_Counts.shp\n",
      " *** Processing file L:\\NaturalResources\\Wetlands\\Local Wetland Inventory\\WAPO\\EPA_2022_Tasks\\Task 1 WD Mapping\\reporting\\WD_Counts.shx\n"
     ]
    }
   ],
   "source": [
    "file_name_list = glob.glob(inpath+\"\\\\reporting\\\\WD_Counts.*\")\n",
    "zip_file_name = inpath+\"\\\\reporting\\\\WD_Counts.zip\"\n",
    "file_compress(file_name_list, zip_file_name)"
   ]
  },
  {
   "cell_type": "markdown",
   "id": "d096e4c6",
   "metadata": {},
   "source": [
    "ignore below codes"
   ]
  },
  {
   "cell_type": "code",
   "execution_count": 120,
   "id": "f6738455",
   "metadata": {},
   "outputs": [],
   "source": [
    "qaqc_df = wd[wd.wetdet_delin_number.isin(qaqcIDs)][['county', 'wetdet_delin_number']].groupby(['county']).agg(lambda x: x.nunique()).reset_index().rename(columns={'wetdet_delin_number':'QAQC_count'})"
   ]
  },
  {
   "cell_type": "code",
   "execution_count": 121,
   "id": "542f8853",
   "metadata": {},
   "outputs": [
    {
     "data": {
      "text/html": [
       "<div>\n",
       "<style scoped>\n",
       "    .dataframe tbody tr th:only-of-type {\n",
       "        vertical-align: middle;\n",
       "    }\n",
       "\n",
       "    .dataframe tbody tr th {\n",
       "        vertical-align: top;\n",
       "    }\n",
       "\n",
       "    .dataframe thead th {\n",
       "        text-align: right;\n",
       "    }\n",
       "</style>\n",
       "<table border=\"1\" class=\"dataframe\">\n",
       "  <thead>\n",
       "    <tr style=\"text-align: right;\">\n",
       "      <th></th>\n",
       "      <th>county</th>\n",
       "      <th>QAQC_count</th>\n",
       "    </tr>\n",
       "  </thead>\n",
       "  <tbody>\n",
       "    <tr>\n",
       "      <th>0</th>\n",
       "      <td>Clatsop</td>\n",
       "      <td>91</td>\n",
       "    </tr>\n",
       "    <tr>\n",
       "      <th>1</th>\n",
       "      <td>Deschutes</td>\n",
       "      <td>26</td>\n",
       "    </tr>\n",
       "  </tbody>\n",
       "</table>\n",
       "</div>"
      ],
      "text/plain": [
       "      county  QAQC_count\n",
       "0    Clatsop          91\n",
       "1  Deschutes          26"
      ]
     },
     "execution_count": 121,
     "metadata": {},
     "output_type": "execute_result"
    }
   ],
   "source": [
    "qaqc_df"
   ]
  },
  {
   "cell_type": "code",
   "execution_count": 37,
   "id": "bfc5a6f9",
   "metadata": {},
   "outputs": [],
   "source": [
    "total_df = wd[['county', 'wetdet_delin_number']].groupby(['county']).agg(lambda x: x.nunique()).reset_index().rename(columns={'wetdet_delin_number':'total_count'})"
   ]
  },
  {
   "cell_type": "code",
   "execution_count": 38,
   "id": "5d6fbe22",
   "metadata": {},
   "outputs": [
    {
     "data": {
      "text/html": [
       "<div>\n",
       "<style scoped>\n",
       "    .dataframe tbody tr th:only-of-type {\n",
       "        vertical-align: middle;\n",
       "    }\n",
       "\n",
       "    .dataframe tbody tr th {\n",
       "        vertical-align: top;\n",
       "    }\n",
       "\n",
       "    .dataframe thead th {\n",
       "        text-align: right;\n",
       "    }\n",
       "</style>\n",
       "<table border=\"1\" class=\"dataframe\">\n",
       "  <thead>\n",
       "    <tr style=\"text-align: right;\">\n",
       "      <th></th>\n",
       "      <th>county</th>\n",
       "      <th>total_count</th>\n",
       "    </tr>\n",
       "  </thead>\n",
       "  <tbody>\n",
       "    <tr>\n",
       "      <th>0</th>\n",
       "      <td>Clatsop</td>\n",
       "      <td>201</td>\n",
       "    </tr>\n",
       "    <tr>\n",
       "      <th>1</th>\n",
       "      <td>Deschutes</td>\n",
       "      <td>98</td>\n",
       "    </tr>\n",
       "  </tbody>\n",
       "</table>\n",
       "</div>"
      ],
      "text/plain": [
       "      county  total_count\n",
       "0    Clatsop          201\n",
       "1  Deschutes           98"
      ]
     },
     "execution_count": 38,
     "metadata": {},
     "output_type": "execute_result"
    }
   ],
   "source": [
    "total_df"
   ]
  },
  {
   "cell_type": "code",
   "execution_count": 31,
   "id": "038ca894",
   "metadata": {},
   "outputs": [],
   "source": [
    "gdf = gpd.read_file(inpath+'\\\\reporting\\\\WD_Counts.shp')"
   ]
  },
  {
   "cell_type": "code",
   "execution_count": 34,
   "id": "62a2357a",
   "metadata": {},
   "outputs": [
    {
     "data": {
      "text/plain": [
       "Index(['County', 'Note', 'P1_2017_22', 'P1_ToMap', 'P2_2008_16', 'P2_ToMap',\n",
       "       'P3_1990_07', 'P3_ToMap', 'Tot_ToMap', 'Tot_Count', 'QAQC_Ratio',\n",
       "       'Auto_Comp', 'geometry'],\n",
       "      dtype='object')"
      ]
     },
     "execution_count": 34,
     "metadata": {},
     "output_type": "execute_result"
    }
   ],
   "source": [
    "gdf.columns"
   ]
  },
  {
   "cell_type": "code",
   "execution_count": 58,
   "id": "e3f6e4d1",
   "metadata": {},
   "outputs": [],
   "source": [
    "sel = qaqc_df.county.unique()"
   ]
  },
  {
   "cell_type": "code",
   "execution_count": 52,
   "id": "4918e04a",
   "metadata": {},
   "outputs": [
    {
     "data": {
      "text/html": [
       "<div>\n",
       "<style scoped>\n",
       "    .dataframe tbody tr th:only-of-type {\n",
       "        vertical-align: middle;\n",
       "    }\n",
       "\n",
       "    .dataframe tbody tr th {\n",
       "        vertical-align: top;\n",
       "    }\n",
       "\n",
       "    .dataframe thead th {\n",
       "        text-align: right;\n",
       "    }\n",
       "</style>\n",
       "<table border=\"1\" class=\"dataframe\">\n",
       "  <thead>\n",
       "    <tr style=\"text-align: right;\">\n",
       "      <th></th>\n",
       "      <th>county</th>\n",
       "      <th>total_count</th>\n",
       "    </tr>\n",
       "  </thead>\n",
       "  <tbody>\n",
       "    <tr>\n",
       "      <th>0</th>\n",
       "      <td>Clatsop</td>\n",
       "      <td>201</td>\n",
       "    </tr>\n",
       "    <tr>\n",
       "      <th>1</th>\n",
       "      <td>Deschutes</td>\n",
       "      <td>98</td>\n",
       "    </tr>\n",
       "  </tbody>\n",
       "</table>\n",
       "</div>"
      ],
      "text/plain": [
       "      county  total_count\n",
       "0    Clatsop          201\n",
       "1  Deschutes           98"
      ]
     },
     "execution_count": 52,
     "metadata": {},
     "output_type": "execute_result"
    }
   ],
   "source": [
    "total_df.loc[total_df.county.isin(sel), \n",
    "             ['county', 'total_count']]"
   ]
  },
  {
   "cell_type": "code",
   "execution_count": 54,
   "id": "8ad18a42",
   "metadata": {},
   "outputs": [
    {
     "data": {
      "text/html": [
       "<div>\n",
       "<style scoped>\n",
       "    .dataframe tbody tr th:only-of-type {\n",
       "        vertical-align: middle;\n",
       "    }\n",
       "\n",
       "    .dataframe tbody tr th {\n",
       "        vertical-align: top;\n",
       "    }\n",
       "\n",
       "    .dataframe thead th {\n",
       "        text-align: right;\n",
       "    }\n",
       "</style>\n",
       "<table border=\"1\" class=\"dataframe\">\n",
       "  <thead>\n",
       "    <tr style=\"text-align: right;\">\n",
       "      <th></th>\n",
       "      <th>County</th>\n",
       "      <th>P2_2008_16</th>\n",
       "      <th>P2_ToMap</th>\n",
       "    </tr>\n",
       "  </thead>\n",
       "  <tbody>\n",
       "    <tr>\n",
       "      <th>9</th>\n",
       "      <td>Deschutes</td>\n",
       "      <td>132</td>\n",
       "      <td>66</td>\n",
       "    </tr>\n",
       "    <tr>\n",
       "      <th>35</th>\n",
       "      <td>Clatsop</td>\n",
       "      <td>275</td>\n",
       "      <td>137</td>\n",
       "    </tr>\n",
       "  </tbody>\n",
       "</table>\n",
       "</div>"
      ],
      "text/plain": [
       "       County  P2_2008_16  P2_ToMap\n",
       "9   Deschutes         132        66\n",
       "35    Clatsop         275       137"
      ]
     },
     "execution_count": 54,
     "metadata": {},
     "output_type": "execute_result"
    }
   ],
   "source": [
    "gdf.loc[gdf.County.isin(sel), \n",
    "        ['County', 'P2_2008_16', 'P2_ToMap']]"
   ]
  },
  {
   "cell_type": "code",
   "execution_count": 44,
   "id": "8fd246ad",
   "metadata": {},
   "outputs": [],
   "source": [
    "wdcnt_dict = total_df.set_index('county').to_dict(orient='dict')['total_count']"
   ]
  },
  {
   "cell_type": "code",
   "execution_count": 122,
   "id": "bd642c3e",
   "metadata": {},
   "outputs": [],
   "source": [
    "qccnt_dict = qaqc_df.set_index('county').to_dict(orient='dict')['QAQC_count']"
   ]
  },
  {
   "cell_type": "code",
   "execution_count": 123,
   "id": "f55309b2",
   "metadata": {},
   "outputs": [
    {
     "data": {
      "text/plain": [
       "{'Clatsop': 91, 'Deschutes': 26}"
      ]
     },
     "execution_count": 123,
     "metadata": {},
     "output_type": "execute_result"
    }
   ],
   "source": [
    "qccnt_dict"
   ]
  },
  {
   "cell_type": "code",
   "execution_count": 55,
   "id": "8adf73c2",
   "metadata": {},
   "outputs": [],
   "source": [
    "gdf.loc[gdf.County.isin(sel), 'P2_2008_16'] = gdf[gdf.County.isin(sel)].County.map(wdcnt_dict)"
   ]
  },
  {
   "cell_type": "code",
   "execution_count": 124,
   "id": "f9b3bedf",
   "metadata": {},
   "outputs": [],
   "source": [
    "gdf.loc[gdf.County.isin(sel), 'P2_ToMap'] = gdf[gdf.County.isin(sel)].County.map(qccnt_dict)"
   ]
  },
  {
   "cell_type": "code",
   "execution_count": 125,
   "id": "74f21bbb",
   "metadata": {},
   "outputs": [
    {
     "data": {
      "text/html": [
       "<div>\n",
       "<style scoped>\n",
       "    .dataframe tbody tr th:only-of-type {\n",
       "        vertical-align: middle;\n",
       "    }\n",
       "\n",
       "    .dataframe tbody tr th {\n",
       "        vertical-align: top;\n",
       "    }\n",
       "\n",
       "    .dataframe thead th {\n",
       "        text-align: right;\n",
       "    }\n",
       "</style>\n",
       "<table border=\"1\" class=\"dataframe\">\n",
       "  <thead>\n",
       "    <tr style=\"text-align: right;\">\n",
       "      <th></th>\n",
       "      <th>County</th>\n",
       "      <th>P2_2008_16</th>\n",
       "      <th>P2_ToMap</th>\n",
       "    </tr>\n",
       "  </thead>\n",
       "  <tbody>\n",
       "    <tr>\n",
       "      <th>9</th>\n",
       "      <td>Deschutes</td>\n",
       "      <td>98</td>\n",
       "      <td>26</td>\n",
       "    </tr>\n",
       "    <tr>\n",
       "      <th>35</th>\n",
       "      <td>Clatsop</td>\n",
       "      <td>201</td>\n",
       "      <td>91</td>\n",
       "    </tr>\n",
       "  </tbody>\n",
       "</table>\n",
       "</div>"
      ],
      "text/plain": [
       "       County  P2_2008_16  P2_ToMap\n",
       "9   Deschutes          98        26\n",
       "35    Clatsop         201        91"
      ]
     },
     "execution_count": 125,
     "metadata": {},
     "output_type": "execute_result"
    }
   ],
   "source": [
    "gdf.loc[gdf.County.isin(sel), \n",
    "        ['County', 'P2_2008_16', 'P2_ToMap']]"
   ]
  },
  {
   "cell_type": "code",
   "execution_count": 126,
   "id": "f300e7ab",
   "metadata": {},
   "outputs": [],
   "source": [
    "gdf.loc[:, 'Tot_ToMap'] =  gdf.P1_ToMap + gdf.P2_ToMap + gdf.P3_ToMap\n",
    "gdf.loc[:, 'Tot_Count'] =  gdf.P1_2017_22 + gdf.P2_2008_16 + gdf.P3_1990_07\n",
    "gdf.loc[:, 'QAQC_Ratio'] = gdf.Tot_ToMap / gdf.Tot_Count\n",
    "gdf.loc[:, 'Auto_Comp'] = gdf.Tot_Count - gdf.Tot_ToMap"
   ]
  },
  {
   "cell_type": "code",
   "execution_count": 127,
   "id": "d6570e6f",
   "metadata": {},
   "outputs": [],
   "source": [
    "gdf.to_file(inpath+'\\\\reporting\\\\WD_Counts.shp')"
   ]
  },
  {
   "cell_type": "code",
   "execution_count": 132,
   "id": "ccbd0e92",
   "metadata": {},
   "outputs": [
    {
     "data": {
      "text/html": [
       "<div>\n",
       "<style scoped>\n",
       "    .dataframe tbody tr th:only-of-type {\n",
       "        vertical-align: middle;\n",
       "    }\n",
       "\n",
       "    .dataframe tbody tr th {\n",
       "        vertical-align: top;\n",
       "    }\n",
       "\n",
       "    .dataframe thead th {\n",
       "        text-align: right;\n",
       "    }\n",
       "</style>\n",
       "<table border=\"1\" class=\"dataframe\">\n",
       "  <thead>\n",
       "    <tr style=\"text-align: right;\">\n",
       "      <th></th>\n",
       "      <th>County</th>\n",
       "      <th>P2_2008_16</th>\n",
       "      <th>P2_ToMap</th>\n",
       "    </tr>\n",
       "  </thead>\n",
       "  <tbody>\n",
       "    <tr>\n",
       "      <th>9</th>\n",
       "      <td>Deschutes</td>\n",
       "      <td>98</td>\n",
       "      <td>26</td>\n",
       "    </tr>\n",
       "    <tr>\n",
       "      <th>35</th>\n",
       "      <td>Clatsop</td>\n",
       "      <td>201</td>\n",
       "      <td>91</td>\n",
       "    </tr>\n",
       "  </tbody>\n",
       "</table>\n",
       "</div>"
      ],
      "text/plain": [
       "       County  P2_2008_16  P2_ToMap\n",
       "9   Deschutes          98        26\n",
       "35    Clatsop         201        91"
      ]
     },
     "execution_count": 132,
     "metadata": {},
     "output_type": "execute_result"
    }
   ],
   "source": [
    "test.loc[test.County.isin(sel), \n",
    "        ['County', 'P2_2008_16', 'P2_ToMap']]"
   ]
  }
 ],
 "metadata": {
  "kernelspec": {
   "display_name": "Python 3",
   "language": "python",
   "name": "python3"
  },
  "language_info": {
   "codemirror_mode": {
    "name": "ipython",
    "version": 3
   },
   "file_extension": ".py",
   "mimetype": "text/x-python",
   "name": "python",
   "nbconvert_exporter": "python",
   "pygments_lexer": "ipython3",
   "version": "3.8.8"
  }
 },
 "nbformat": 4,
 "nbformat_minor": 5
}
