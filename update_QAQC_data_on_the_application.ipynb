{
 "cells": [
  {
   "cell_type": "code",
   "execution_count": 1,
   "id": "8c0c4005",
   "metadata": {},
   "outputs": [],
   "source": [
    "%load_ext autoreload\n",
    "%autoreload 2"
   ]
  },
  {
   "cell_type": "code",
   "execution_count": 104,
   "id": "909d4c28",
   "metadata": {},
   "outputs": [],
   "source": [
    "from wdtools import *"
   ]
  },
  {
   "cell_type": "code",
   "execution_count": 22,
   "id": "b1413d4c",
   "metadata": {},
   "outputs": [],
   "source": [
    "setID = 'Set007'; nm_to_add = 4972"
   ]
  },
  {
   "cell_type": "code",
   "execution_count": 69,
   "id": "69eb9f29",
   "metadata": {},
   "outputs": [],
   "source": [
    "wd = combine_wd_tables(setID=setID, nm_to_add=nm_to_add, raw=False)"
   ]
  },
  {
   "cell_type": "code",
   "execution_count": 5,
   "id": "57b479ac",
   "metadata": {},
   "outputs": [],
   "source": [
    "file = outpath + f'\\\\to_review\\\\re_mapping_{setID}.txt'\n",
    "with open(file) as f:\n",
    "    remapIDs = f.readlines()"
   ]
  },
  {
   "cell_type": "code",
   "execution_count": 6,
   "id": "ca013f48",
   "metadata": {},
   "outputs": [
    {
     "data": {
      "text/plain": [
       "Index(['wetdet_delin_number', 'trsqq', 'parcel_id', 'address_location_desc',\n",
       "       'city', 'county', 'site_name', 'site_desc', 'latitude', 'longitude',\n",
       "       'Coord-Source', 'DocumentName', 'DecisionLink', 'is_batch_file',\n",
       "       'status_name', 'received_date', 'response_date',\n",
       "       'reissuance_response_date', 'project_id', 'site_id', 'record_ID',\n",
       "       'notes', 'recyear', 'IDyear', 'missinglot', 'SetID'],\n",
       "      dtype='object')"
      ]
     },
     "execution_count": 6,
     "metadata": {},
     "output_type": "execute_result"
    }
   ],
   "source": [
    "wd.columns"
   ]
  },
  {
   "cell_type": "code",
   "execution_count": 78,
   "id": "02df3044",
   "metadata": {},
   "outputs": [
    {
     "data": {
      "text/plain": [
       "299"
      ]
     },
     "execution_count": 78,
     "metadata": {},
     "output_type": "execute_result"
    }
   ],
   "source": [
    "len(wd.wetdet_delin_number.unique())"
   ]
  },
  {
   "cell_type": "code",
   "execution_count": 14,
   "id": "3b4cc8e3",
   "metadata": {},
   "outputs": [],
   "source": [
    "partialIDs = list(wd[wd.notes != ''].wetdet_delin_number.unique())"
   ]
  },
  {
   "cell_type": "code",
   "execution_count": 97,
   "id": "73896835",
   "metadata": {},
   "outputs": [],
   "source": [
    "unmatched = pd.read_csv(outpath+f'\\\\to_review\\\\unmatched_df_{setID}_2.csv')"
   ]
  },
  {
   "cell_type": "code",
   "execution_count": 98,
   "id": "71cb8678",
   "metadata": {},
   "outputs": [
    {
     "data": {
      "text/plain": [
       "Index(['wetdet_delin_number', 'trsqq', 'parcel_id', 'address_location_desc',\n",
       "       'city', 'county', 'site_name', 'site_desc', 'latitude', 'longitude',\n",
       "       'DocumentName', 'DecisionLink', 'is_batch_file', 'status_name',\n",
       "       'received_date', 'Coord-Source', 'response_date',\n",
       "       'reissuance_response_date', 'project_id', 'site_id', 'record_ID',\n",
       "       'notes', 'recyear', 'IDyear', 'missinglot'],\n",
       "      dtype='object')"
      ]
     },
     "execution_count": 98,
     "metadata": {},
     "output_type": "execute_result"
    }
   ],
   "source": [
    "unmatched.columns"
   ]
  },
  {
   "cell_type": "code",
   "execution_count": 100,
   "id": "e2fcd9de",
   "metadata": {},
   "outputs": [],
   "source": [
    "unmatchedIDs = list(unmatched.wetdet_delin_number.unique())"
   ]
  },
  {
   "cell_type": "code",
   "execution_count": 101,
   "id": "60e6eb45",
   "metadata": {},
   "outputs": [],
   "source": [
    "qaqcIDs = remapIDs[0].split(', ') + partialIDs + unmatchedIDs"
   ]
  },
  {
   "cell_type": "code",
   "execution_count": 102,
   "id": "1bce46d7",
   "metadata": {},
   "outputs": [],
   "source": [
    "check_cnt = wd[wd.wetdet_delin_number.isin(qaqcIDs)][['county', 'wetdet_delin_number']].groupby(['wetdet_delin_number']).agg(lambda x: x.nunique()).reset_index().rename(columns={'wetdet_delin_number':'wdID', 'county':'count'})"
   ]
  },
  {
   "cell_type": "code",
   "execution_count": 103,
   "id": "c16c2afc",
   "metadata": {},
   "outputs": [
    {
     "data": {
      "text/html": [
       "<div>\n",
       "<style scoped>\n",
       "    .dataframe tbody tr th:only-of-type {\n",
       "        vertical-align: middle;\n",
       "    }\n",
       "\n",
       "    .dataframe tbody tr th {\n",
       "        vertical-align: top;\n",
       "    }\n",
       "\n",
       "    .dataframe thead th {\n",
       "        text-align: right;\n",
       "    }\n",
       "</style>\n",
       "<table border=\"1\" class=\"dataframe\">\n",
       "  <thead>\n",
       "    <tr style=\"text-align: right;\">\n",
       "      <th></th>\n",
       "      <th>wdID</th>\n",
       "      <th>count</th>\n",
       "    </tr>\n",
       "  </thead>\n",
       "  <tbody>\n",
       "  </tbody>\n",
       "</table>\n",
       "</div>"
      ],
      "text/plain": [
       "Empty DataFrame\n",
       "Columns: [wdID, count]\n",
       "Index: []"
      ]
     },
     "execution_count": 103,
     "metadata": {},
     "output_type": "execute_result"
    }
   ],
   "source": [
    "check_cnt[check_cnt['count']>1]"
   ]
  },
  {
   "cell_type": "code",
   "execution_count": 105,
   "id": "5d5fb2a9",
   "metadata": {},
   "outputs": [],
   "source": [
    "test = update_QAQC_data(setID=setID, wd=wd, \n",
    "                        totcol='P2_2008_16', \n",
    "                        qaqc_col='P2_ToMap', \n",
    "                        export=False)"
   ]
  },
  {
   "cell_type": "markdown",
   "id": "466b310b",
   "metadata": {},
   "source": [
    "ignore below codes"
   ]
  },
  {
   "cell_type": "code",
   "execution_count": 106,
   "id": "7d183e14",
   "metadata": {},
   "outputs": [],
   "source": [
    "qaqc_df = wd[wd.wetdet_delin_number.isin(qaqcIDs)][['county', 'wetdet_delin_number']].groupby(['county']).agg(lambda x: x.nunique()).reset_index().rename(columns={'wetdet_delin_number':'QAQC_count'})"
   ]
  },
  {
   "cell_type": "code",
   "execution_count": 107,
   "id": "3fa43f3c",
   "metadata": {},
   "outputs": [
    {
     "data": {
      "text/html": [
       "<div>\n",
       "<style scoped>\n",
       "    .dataframe tbody tr th:only-of-type {\n",
       "        vertical-align: middle;\n",
       "    }\n",
       "\n",
       "    .dataframe tbody tr th {\n",
       "        vertical-align: top;\n",
       "    }\n",
       "\n",
       "    .dataframe thead th {\n",
       "        text-align: right;\n",
       "    }\n",
       "</style>\n",
       "<table border=\"1\" class=\"dataframe\">\n",
       "  <thead>\n",
       "    <tr style=\"text-align: right;\">\n",
       "      <th></th>\n",
       "      <th>county</th>\n",
       "      <th>QAQC_count</th>\n",
       "    </tr>\n",
       "  </thead>\n",
       "  <tbody>\n",
       "    <tr>\n",
       "      <th>0</th>\n",
       "      <td>Clatsop</td>\n",
       "      <td>91</td>\n",
       "    </tr>\n",
       "    <tr>\n",
       "      <th>1</th>\n",
       "      <td>Deschutes</td>\n",
       "      <td>25</td>\n",
       "    </tr>\n",
       "  </tbody>\n",
       "</table>\n",
       "</div>"
      ],
      "text/plain": [
       "      county  QAQC_count\n",
       "0    Clatsop          91\n",
       "1  Deschutes          25"
      ]
     },
     "execution_count": 107,
     "metadata": {},
     "output_type": "execute_result"
    }
   ],
   "source": [
    "qaqc_df"
   ]
  },
  {
   "cell_type": "code",
   "execution_count": 37,
   "id": "52b3527e",
   "metadata": {},
   "outputs": [],
   "source": [
    "total_df = wd[['county', 'wetdet_delin_number']].groupby(['county']).agg(lambda x: x.nunique()).reset_index().rename(columns={'wetdet_delin_number':'total_count'})"
   ]
  },
  {
   "cell_type": "code",
   "execution_count": 38,
   "id": "ddc1cd57",
   "metadata": {},
   "outputs": [
    {
     "data": {
      "text/html": [
       "<div>\n",
       "<style scoped>\n",
       "    .dataframe tbody tr th:only-of-type {\n",
       "        vertical-align: middle;\n",
       "    }\n",
       "\n",
       "    .dataframe tbody tr th {\n",
       "        vertical-align: top;\n",
       "    }\n",
       "\n",
       "    .dataframe thead th {\n",
       "        text-align: right;\n",
       "    }\n",
       "</style>\n",
       "<table border=\"1\" class=\"dataframe\">\n",
       "  <thead>\n",
       "    <tr style=\"text-align: right;\">\n",
       "      <th></th>\n",
       "      <th>county</th>\n",
       "      <th>total_count</th>\n",
       "    </tr>\n",
       "  </thead>\n",
       "  <tbody>\n",
       "    <tr>\n",
       "      <th>0</th>\n",
       "      <td>Clatsop</td>\n",
       "      <td>201</td>\n",
       "    </tr>\n",
       "    <tr>\n",
       "      <th>1</th>\n",
       "      <td>Deschutes</td>\n",
       "      <td>98</td>\n",
       "    </tr>\n",
       "  </tbody>\n",
       "</table>\n",
       "</div>"
      ],
      "text/plain": [
       "      county  total_count\n",
       "0    Clatsop          201\n",
       "1  Deschutes           98"
      ]
     },
     "execution_count": 38,
     "metadata": {},
     "output_type": "execute_result"
    }
   ],
   "source": [
    "total_df"
   ]
  },
  {
   "cell_type": "code",
   "execution_count": 31,
   "id": "23b32570",
   "metadata": {},
   "outputs": [],
   "source": [
    "gdf = gpd.read_file(inpath+'\\\\reporting\\\\WD_Counts.shp')"
   ]
  },
  {
   "cell_type": "code",
   "execution_count": 34,
   "id": "35cd4576",
   "metadata": {},
   "outputs": [
    {
     "data": {
      "text/plain": [
       "Index(['County', 'Note', 'P1_2017_22', 'P1_ToMap', 'P2_2008_16', 'P2_ToMap',\n",
       "       'P3_1990_07', 'P3_ToMap', 'Tot_ToMap', 'Tot_Count', 'QAQC_Ratio',\n",
       "       'Auto_Comp', 'geometry'],\n",
       "      dtype='object')"
      ]
     },
     "execution_count": 34,
     "metadata": {},
     "output_type": "execute_result"
    }
   ],
   "source": [
    "gdf.columns"
   ]
  },
  {
   "cell_type": "code",
   "execution_count": 58,
   "id": "edd16740",
   "metadata": {},
   "outputs": [],
   "source": [
    "sel = qaqc_df.county.unique()"
   ]
  },
  {
   "cell_type": "code",
   "execution_count": 52,
   "id": "5d5d4bb6",
   "metadata": {},
   "outputs": [
    {
     "data": {
      "text/html": [
       "<div>\n",
       "<style scoped>\n",
       "    .dataframe tbody tr th:only-of-type {\n",
       "        vertical-align: middle;\n",
       "    }\n",
       "\n",
       "    .dataframe tbody tr th {\n",
       "        vertical-align: top;\n",
       "    }\n",
       "\n",
       "    .dataframe thead th {\n",
       "        text-align: right;\n",
       "    }\n",
       "</style>\n",
       "<table border=\"1\" class=\"dataframe\">\n",
       "  <thead>\n",
       "    <tr style=\"text-align: right;\">\n",
       "      <th></th>\n",
       "      <th>county</th>\n",
       "      <th>total_count</th>\n",
       "    </tr>\n",
       "  </thead>\n",
       "  <tbody>\n",
       "    <tr>\n",
       "      <th>0</th>\n",
       "      <td>Clatsop</td>\n",
       "      <td>201</td>\n",
       "    </tr>\n",
       "    <tr>\n",
       "      <th>1</th>\n",
       "      <td>Deschutes</td>\n",
       "      <td>98</td>\n",
       "    </tr>\n",
       "  </tbody>\n",
       "</table>\n",
       "</div>"
      ],
      "text/plain": [
       "      county  total_count\n",
       "0    Clatsop          201\n",
       "1  Deschutes           98"
      ]
     },
     "execution_count": 52,
     "metadata": {},
     "output_type": "execute_result"
    }
   ],
   "source": [
    "total_df.loc[total_df.county.isin(sel), \n",
    "             ['county', 'total_count']]"
   ]
  },
  {
   "cell_type": "code",
   "execution_count": 54,
   "id": "f173ca83",
   "metadata": {},
   "outputs": [
    {
     "data": {
      "text/html": [
       "<div>\n",
       "<style scoped>\n",
       "    .dataframe tbody tr th:only-of-type {\n",
       "        vertical-align: middle;\n",
       "    }\n",
       "\n",
       "    .dataframe tbody tr th {\n",
       "        vertical-align: top;\n",
       "    }\n",
       "\n",
       "    .dataframe thead th {\n",
       "        text-align: right;\n",
       "    }\n",
       "</style>\n",
       "<table border=\"1\" class=\"dataframe\">\n",
       "  <thead>\n",
       "    <tr style=\"text-align: right;\">\n",
       "      <th></th>\n",
       "      <th>County</th>\n",
       "      <th>P2_2008_16</th>\n",
       "      <th>P2_ToMap</th>\n",
       "    </tr>\n",
       "  </thead>\n",
       "  <tbody>\n",
       "    <tr>\n",
       "      <th>9</th>\n",
       "      <td>Deschutes</td>\n",
       "      <td>132</td>\n",
       "      <td>66</td>\n",
       "    </tr>\n",
       "    <tr>\n",
       "      <th>35</th>\n",
       "      <td>Clatsop</td>\n",
       "      <td>275</td>\n",
       "      <td>137</td>\n",
       "    </tr>\n",
       "  </tbody>\n",
       "</table>\n",
       "</div>"
      ],
      "text/plain": [
       "       County  P2_2008_16  P2_ToMap\n",
       "9   Deschutes         132        66\n",
       "35    Clatsop         275       137"
      ]
     },
     "execution_count": 54,
     "metadata": {},
     "output_type": "execute_result"
    }
   ],
   "source": [
    "gdf.loc[gdf.County.isin(sel), \n",
    "        ['County', 'P2_2008_16', 'P2_ToMap']]"
   ]
  },
  {
   "cell_type": "code",
   "execution_count": 44,
   "id": "fcafefdc",
   "metadata": {},
   "outputs": [],
   "source": [
    "wdcnt_dict = total_df.set_index('county').to_dict(orient='dict')['total_count']"
   ]
  },
  {
   "cell_type": "code",
   "execution_count": 108,
   "id": "64eb3839",
   "metadata": {},
   "outputs": [],
   "source": [
    "qccnt_dict = qaqc_df.set_index('county').to_dict(orient='dict')['QAQC_count']"
   ]
  },
  {
   "cell_type": "code",
   "execution_count": 46,
   "id": "06bf85ee",
   "metadata": {},
   "outputs": [
    {
     "data": {
      "text/plain": [
       "{'Clatsop': 87, 'Deschutes': 23}"
      ]
     },
     "execution_count": 46,
     "metadata": {},
     "output_type": "execute_result"
    }
   ],
   "source": [
    "qccnt_dict"
   ]
  },
  {
   "cell_type": "code",
   "execution_count": 55,
   "id": "40365e9e",
   "metadata": {},
   "outputs": [],
   "source": [
    "gdf.loc[gdf.County.isin(sel), 'P2_2008_16'] = gdf[gdf.County.isin(sel)].County.map(wdcnt_dict)"
   ]
  },
  {
   "cell_type": "code",
   "execution_count": 109,
   "id": "84cf0b55",
   "metadata": {},
   "outputs": [],
   "source": [
    "gdf.loc[gdf.County.isin(sel), 'P2_ToMap'] = gdf[gdf.County.isin(sel)].County.map(qccnt_dict)"
   ]
  },
  {
   "cell_type": "code",
   "execution_count": 110,
   "id": "15b6981b",
   "metadata": {},
   "outputs": [
    {
     "data": {
      "text/html": [
       "<div>\n",
       "<style scoped>\n",
       "    .dataframe tbody tr th:only-of-type {\n",
       "        vertical-align: middle;\n",
       "    }\n",
       "\n",
       "    .dataframe tbody tr th {\n",
       "        vertical-align: top;\n",
       "    }\n",
       "\n",
       "    .dataframe thead th {\n",
       "        text-align: right;\n",
       "    }\n",
       "</style>\n",
       "<table border=\"1\" class=\"dataframe\">\n",
       "  <thead>\n",
       "    <tr style=\"text-align: right;\">\n",
       "      <th></th>\n",
       "      <th>County</th>\n",
       "      <th>P2_2008_16</th>\n",
       "      <th>P2_ToMap</th>\n",
       "    </tr>\n",
       "  </thead>\n",
       "  <tbody>\n",
       "    <tr>\n",
       "      <th>9</th>\n",
       "      <td>Deschutes</td>\n",
       "      <td>98</td>\n",
       "      <td>25</td>\n",
       "    </tr>\n",
       "    <tr>\n",
       "      <th>35</th>\n",
       "      <td>Clatsop</td>\n",
       "      <td>201</td>\n",
       "      <td>91</td>\n",
       "    </tr>\n",
       "  </tbody>\n",
       "</table>\n",
       "</div>"
      ],
      "text/plain": [
       "       County  P2_2008_16  P2_ToMap\n",
       "9   Deschutes          98        25\n",
       "35    Clatsop         201        91"
      ]
     },
     "execution_count": 110,
     "metadata": {},
     "output_type": "execute_result"
    }
   ],
   "source": [
    "gdf.loc[gdf.County.isin(sel), \n",
    "        ['County', 'P2_2008_16', 'P2_ToMap']]"
   ]
  },
  {
   "cell_type": "code",
   "execution_count": 59,
   "id": "c7676ccc",
   "metadata": {},
   "outputs": [],
   "source": [
    "gdf.loc[:, 'Tot_ToMap'] =  gdf.P1_ToMap + gdf.P2_ToMap + gdf.P3_ToMap\n",
    "gdf.loc[:, 'Tot_Count'] =  gdf.P1_2017_22 + gdf.P2_2008_16 + gdf.P3_1990_07\n",
    "gdf.loc[:, 'QAQC_Ratio'] = gdf.Tot_ToMap / gdf.Tot_Count\n",
    "gdf.loc[:, 'Auto_Comp'] = gdf.Tot_Count - gdf.Tot_ToMap"
   ]
  },
  {
   "cell_type": "code",
   "execution_count": 112,
   "id": "472afbd0",
   "metadata": {},
   "outputs": [],
   "source": [
    "gdf.to_file(inpath+'\\\\reporting\\\\WD_Counts.shp')"
   ]
  },
  {
   "cell_type": "code",
   "execution_count": 111,
   "id": "7448a8f7",
   "metadata": {},
   "outputs": [
    {
     "data": {
      "text/html": [
       "<div>\n",
       "<style scoped>\n",
       "    .dataframe tbody tr th:only-of-type {\n",
       "        vertical-align: middle;\n",
       "    }\n",
       "\n",
       "    .dataframe tbody tr th {\n",
       "        vertical-align: top;\n",
       "    }\n",
       "\n",
       "    .dataframe thead th {\n",
       "        text-align: right;\n",
       "    }\n",
       "</style>\n",
       "<table border=\"1\" class=\"dataframe\">\n",
       "  <thead>\n",
       "    <tr style=\"text-align: right;\">\n",
       "      <th></th>\n",
       "      <th>County</th>\n",
       "      <th>P2_2008_16</th>\n",
       "      <th>P2_ToMap</th>\n",
       "    </tr>\n",
       "  </thead>\n",
       "  <tbody>\n",
       "    <tr>\n",
       "      <th>9</th>\n",
       "      <td>Deschutes</td>\n",
       "      <td>98</td>\n",
       "      <td>25</td>\n",
       "    </tr>\n",
       "    <tr>\n",
       "      <th>35</th>\n",
       "      <td>Clatsop</td>\n",
       "      <td>201</td>\n",
       "      <td>91</td>\n",
       "    </tr>\n",
       "  </tbody>\n",
       "</table>\n",
       "</div>"
      ],
      "text/plain": [
       "       County  P2_2008_16  P2_ToMap\n",
       "9   Deschutes          98        25\n",
       "35    Clatsop         201        91"
      ]
     },
     "execution_count": 111,
     "metadata": {},
     "output_type": "execute_result"
    }
   ],
   "source": [
    "test.loc[test.County.isin(sel), \n",
    "        ['County', 'P2_2008_16', 'P2_ToMap']]"
   ]
  },
  {
   "cell_type": "code",
   "execution_count": 113,
   "id": "309998ab",
   "metadata": {},
   "outputs": [],
   "source": [
    "os.remove(inpath+\"\\\\reporting\\\\WD_Counts.zip\")"
   ]
  },
  {
   "cell_type": "code",
   "execution_count": 114,
   "id": "ad74b22c",
   "metadata": {},
   "outputs": [
    {
     "name": "stdout",
     "output_type": "stream",
     "text": [
      " *** Input File name passed for zipping - ['L:\\\\NaturalResources\\\\Wetlands\\\\Local Wetland Inventory\\\\WAPO\\\\EPA_2022_Tasks\\\\Task 1 WD Mapping\\\\reporting\\\\WD_Counts.cpg', 'L:\\\\NaturalResources\\\\Wetlands\\\\Local Wetland Inventory\\\\WAPO\\\\EPA_2022_Tasks\\\\Task 1 WD Mapping\\\\reporting\\\\WD_Counts.dbf', 'L:\\\\NaturalResources\\\\Wetlands\\\\Local Wetland Inventory\\\\WAPO\\\\EPA_2022_Tasks\\\\Task 1 WD Mapping\\\\reporting\\\\WD_Counts.prj', 'L:\\\\NaturalResources\\\\Wetlands\\\\Local Wetland Inventory\\\\WAPO\\\\EPA_2022_Tasks\\\\Task 1 WD Mapping\\\\reporting\\\\WD_Counts.shp', 'L:\\\\NaturalResources\\\\Wetlands\\\\Local Wetland Inventory\\\\WAPO\\\\EPA_2022_Tasks\\\\Task 1 WD Mapping\\\\reporting\\\\WD_Counts.shx']\n",
      " *** out_zip_file is - L:\\NaturalResources\\Wetlands\\Local Wetland Inventory\\WAPO\\EPA_2022_Tasks\\Task 1 WD Mapping\\reporting\\WD_Counts.zip\n",
      " *** Processing file L:\\NaturalResources\\Wetlands\\Local Wetland Inventory\\WAPO\\EPA_2022_Tasks\\Task 1 WD Mapping\\reporting\\WD_Counts.cpg\n",
      " *** Processing file L:\\NaturalResources\\Wetlands\\Local Wetland Inventory\\WAPO\\EPA_2022_Tasks\\Task 1 WD Mapping\\reporting\\WD_Counts.dbf\n",
      " *** Processing file L:\\NaturalResources\\Wetlands\\Local Wetland Inventory\\WAPO\\EPA_2022_Tasks\\Task 1 WD Mapping\\reporting\\WD_Counts.prj\n",
      " *** Processing file L:\\NaturalResources\\Wetlands\\Local Wetland Inventory\\WAPO\\EPA_2022_Tasks\\Task 1 WD Mapping\\reporting\\WD_Counts.shp\n",
      " *** Processing file L:\\NaturalResources\\Wetlands\\Local Wetland Inventory\\WAPO\\EPA_2022_Tasks\\Task 1 WD Mapping\\reporting\\WD_Counts.shx\n"
     ]
    }
   ],
   "source": [
    "file_name_list = glob.glob(inpath+\"\\\\reporting\\\\WD_Counts.*\")\n",
    "zip_file_name = inpath+\"\\\\reporting\\\\WD_Counts.zip\"\n",
    "file_compress(file_name_list, zip_file_name)"
   ]
  }
 ],
 "metadata": {
  "kernelspec": {
   "display_name": "Python 3",
   "language": "python",
   "name": "python3"
  },
  "language_info": {
   "codemirror_mode": {
    "name": "ipython",
    "version": 3
   },
   "file_extension": ".py",
   "mimetype": "text/x-python",
   "name": "python",
   "nbconvert_exporter": "python",
   "pygments_lexer": "ipython3",
   "version": "3.8.8"
  }
 },
 "nbformat": 4,
 "nbformat_minor": 5
}
