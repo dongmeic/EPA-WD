{
 "cells": [
  {
   "cell_type": "code",
   "execution_count": 1,
   "id": "97342d85",
   "metadata": {},
   "outputs": [],
   "source": [
    "from wdtools import *"
   ]
  },
  {
   "cell_type": "code",
   "execution_count": 2,
   "id": "532d197e",
   "metadata": {},
   "outputs": [
    {
     "name": "stdout",
     "output_type": "stream",
     "text": [
      "it took 7.0 minutes to complete\n"
     ]
    }
   ],
   "source": [
    "# this can take about 17 minutes\n",
    "start = time.time()\n",
    "all_taxlot = combine_taxlot()\n",
    "end = time.time()\n",
    "print(f'it took {round((end - start)/60, 0)} minutes to complete')"
   ]
  },
  {
   "cell_type": "code",
   "execution_count": 3,
   "id": "bef7700c",
   "metadata": {},
   "outputs": [
    {
     "data": {
      "text/plain": [
       "(9043030, 3)"
      ]
     },
     "execution_count": 3,
     "metadata": {},
     "output_type": "execute_result"
    }
   ],
   "source": [
    "all_taxlot.shape"
   ]
  },
  {
   "cell_type": "code",
   "execution_count": 4,
   "id": "c6a060a3",
   "metadata": {},
   "outputs": [
    {
     "data": {
      "text/html": [
       "<div>\n",
       "<style scoped>\n",
       "    .dataframe tbody tr th:only-of-type {\n",
       "        vertical-align: middle;\n",
       "    }\n",
       "\n",
       "    .dataframe tbody tr th {\n",
       "        vertical-align: top;\n",
       "    }\n",
       "\n",
       "    .dataframe thead th {\n",
       "        text-align: right;\n",
       "    }\n",
       "</style>\n",
       "<table border=\"1\" class=\"dataframe\">\n",
       "  <thead>\n",
       "    <tr style=\"text-align: right;\">\n",
       "      <th></th>\n",
       "      <th>year</th>\n",
       "      <th>ORTaxlot</th>\n",
       "      <th>geometry</th>\n",
       "    </tr>\n",
       "  </thead>\n",
       "  <tbody>\n",
       "    <tr>\n",
       "      <th>0</th>\n",
       "      <td>2017</td>\n",
       "      <td></td>\n",
       "      <td>MULTIPOLYGON (((762282.329 1368122.698, 762282...</td>\n",
       "    </tr>\n",
       "    <tr>\n",
       "      <th>1</th>\n",
       "      <td>2017</td>\n",
       "      <td>0 .00.000000--0000</td>\n",
       "      <td>MULTIPOLYGON (((486021.516 1375588.457, 485872...</td>\n",
       "    </tr>\n",
       "    <tr>\n",
       "      <th>2</th>\n",
       "      <td>2017</td>\n",
       "      <td>0 .00.000000--000000000</td>\n",
       "      <td>MULTIPOLYGON (((458567.232 1386372.520, 458625...</td>\n",
       "    </tr>\n",
       "  </tbody>\n",
       "</table>\n",
       "</div>"
      ],
      "text/plain": [
       "   year                 ORTaxlot  \\\n",
       "0  2017                            \n",
       "1  2017       0 .00.000000--0000   \n",
       "2  2017  0 .00.000000--000000000   \n",
       "\n",
       "                                            geometry  \n",
       "0  MULTIPOLYGON (((762282.329 1368122.698, 762282...  \n",
       "1  MULTIPOLYGON (((486021.516 1375588.457, 485872...  \n",
       "2  MULTIPOLYGON (((458567.232 1386372.520, 458625...  "
      ]
     },
     "execution_count": 4,
     "metadata": {},
     "output_type": "execute_result"
    }
   ],
   "source": [
    "all_taxlot.head(3)"
   ]
  },
  {
   "cell_type": "code",
   "execution_count": 5,
   "id": "8be4d53d",
   "metadata": {},
   "outputs": [],
   "source": [
    "setID = 'Set003'"
   ]
  },
  {
   "cell_type": "code",
   "execution_count": 6,
   "id": "f876f1c0",
   "metadata": {},
   "outputs": [],
   "source": [
    "nm_to_add = 2143"
   ]
  },
  {
   "cell_type": "code",
   "execution_count": 7,
   "id": "27c29cec",
   "metadata": {},
   "outputs": [],
   "source": [
    "df = combined_reindexed_data(setID=setID, nm_to_add=nm_to_add) "
   ]
  },
  {
   "cell_type": "code",
   "execution_count": 9,
   "id": "d1b3fc2d",
   "metadata": {},
   "outputs": [
    {
     "data": {
      "text/html": [
       "<div>\n",
       "<style scoped>\n",
       "    .dataframe tbody tr th:only-of-type {\n",
       "        vertical-align: middle;\n",
       "    }\n",
       "\n",
       "    .dataframe tbody tr th {\n",
       "        vertical-align: top;\n",
       "    }\n",
       "\n",
       "    .dataframe thead th {\n",
       "        text-align: right;\n",
       "    }\n",
       "</style>\n",
       "<table border=\"1\" class=\"dataframe\">\n",
       "  <thead>\n",
       "    <tr style=\"text-align: right;\">\n",
       "      <th></th>\n",
       "      <th>wetdet_delin_number</th>\n",
       "      <th>trsqq</th>\n",
       "      <th>parcel_id</th>\n",
       "      <th>address_location_desc</th>\n",
       "      <th>city</th>\n",
       "      <th>county</th>\n",
       "      <th>site_name</th>\n",
       "      <th>site_desc</th>\n",
       "      <th>latitude</th>\n",
       "      <th>longitude</th>\n",
       "      <th>...</th>\n",
       "      <th>recordID</th>\n",
       "      <th>notes</th>\n",
       "      <th>lots</th>\n",
       "      <th>lot</th>\n",
       "      <th>cnt_code</th>\n",
       "      <th>ORTaxlot</th>\n",
       "      <th>recyear</th>\n",
       "      <th>IDyear</th>\n",
       "      <th>missinglot</th>\n",
       "      <th>record_ID</th>\n",
       "    </tr>\n",
       "  </thead>\n",
       "  <tbody>\n",
       "    <tr>\n",
       "      <th>0</th>\n",
       "      <td>WD2017-0028</td>\n",
       "      <td>04N01W09BB</td>\n",
       "      <td>100</td>\n",
       "      <td>E of Hwy 30, N of Gable Rd</td>\n",
       "      <td>St Helens</td>\n",
       "      <td>Columbia</td>\n",
       "      <td>Gable Rd 04N01W09BB</td>\n",
       "      <td>NaN</td>\n",
       "      <td>45.84792</td>\n",
       "      <td>-122.823410</td>\n",
       "      <td>...</td>\n",
       "      <td>1</td>\n",
       "      <td>None</td>\n",
       "      <td>100</td>\n",
       "      <td>100</td>\n",
       "      <td>5.0</td>\n",
       "      <td>0504.00N01.00W09BB--000000100</td>\n",
       "      <td>2017</td>\n",
       "      <td>2017</td>\n",
       "      <td>N</td>\n",
       "      <td>2144</td>\n",
       "    </tr>\n",
       "    <tr>\n",
       "      <th>1</th>\n",
       "      <td>WD2017-0038</td>\n",
       "      <td>03N02W12BD</td>\n",
       "      <td>1000,1100,1300</td>\n",
       "      <td>NaN</td>\n",
       "      <td>Scappoose</td>\n",
       "      <td>Columbia</td>\n",
       "      <td>Seely Ln Park Proj 03N02W12BD</td>\n",
       "      <td>Seely Lane Park Project (grant)</td>\n",
       "      <td>45.75837</td>\n",
       "      <td>-122.882498</td>\n",
       "      <td>...</td>\n",
       "      <td>2</td>\n",
       "      <td>None</td>\n",
       "      <td>1000, 1100, 1300</td>\n",
       "      <td>1000</td>\n",
       "      <td>5.0</td>\n",
       "      <td>0503.00N02.00W12BD--000001000</td>\n",
       "      <td>2017</td>\n",
       "      <td>2017</td>\n",
       "      <td>N</td>\n",
       "      <td>2145</td>\n",
       "    </tr>\n",
       "    <tr>\n",
       "      <th>2</th>\n",
       "      <td>WD2017-0038</td>\n",
       "      <td>03N02W12BD</td>\n",
       "      <td>1000,1100,1300</td>\n",
       "      <td>NaN</td>\n",
       "      <td>Scappoose</td>\n",
       "      <td>Columbia</td>\n",
       "      <td>Seely Ln Park Proj 03N02W12BD</td>\n",
       "      <td>Seely Lane Park Project (grant)</td>\n",
       "      <td>45.75837</td>\n",
       "      <td>-122.882498</td>\n",
       "      <td>...</td>\n",
       "      <td>2</td>\n",
       "      <td>None</td>\n",
       "      <td>1000, 1100, 1300</td>\n",
       "      <td>1100</td>\n",
       "      <td>5.0</td>\n",
       "      <td>0503.00N02.00W12BD--000001100</td>\n",
       "      <td>2017</td>\n",
       "      <td>2017</td>\n",
       "      <td>N</td>\n",
       "      <td>2145</td>\n",
       "    </tr>\n",
       "  </tbody>\n",
       "</table>\n",
       "<p>3 rows × 30 columns</p>\n",
       "</div>"
      ],
      "text/plain": [
       "  wetdet_delin_number       trsqq       parcel_id       address_location_desc  \\\n",
       "0         WD2017-0028  04N01W09BB             100  E of Hwy 30, N of Gable Rd   \n",
       "1         WD2017-0038  03N02W12BD  1000,1100,1300                         NaN   \n",
       "2         WD2017-0038  03N02W12BD  1000,1100,1300                         NaN   \n",
       "\n",
       "        city    county                      site_name  \\\n",
       "0  St Helens  Columbia            Gable Rd 04N01W09BB   \n",
       "1  Scappoose  Columbia  Seely Ln Park Proj 03N02W12BD   \n",
       "2  Scappoose  Columbia  Seely Ln Park Proj 03N02W12BD   \n",
       "\n",
       "                         site_desc  latitude   longitude  ... recordID notes  \\\n",
       "0                              NaN  45.84792 -122.823410  ...        1  None   \n",
       "1  Seely Lane Park Project (grant)  45.75837 -122.882498  ...        2  None   \n",
       "2  Seely Lane Park Project (grant)  45.75837 -122.882498  ...        2  None   \n",
       "\n",
       "               lots   lot cnt_code                       ORTaxlot recyear  \\\n",
       "0               100   100      5.0  0504.00N01.00W09BB--000000100    2017   \n",
       "1  1000, 1100, 1300  1000      5.0  0503.00N02.00W12BD--000001000    2017   \n",
       "2  1000, 1100, 1300  1100      5.0  0503.00N02.00W12BD--000001100    2017   \n",
       "\n",
       "   IDyear  missinglot  record_ID  \n",
       "0    2017           N       2144  \n",
       "1    2017           N       2145  \n",
       "2    2017           N       2145  \n",
       "\n",
       "[3 rows x 30 columns]"
      ]
     },
     "execution_count": 9,
     "metadata": {},
     "output_type": "execute_result"
    }
   ],
   "source": [
    "df.head(3)"
   ]
  },
  {
   "cell_type": "code",
   "execution_count": 8,
   "id": "9951c9de",
   "metadata": {},
   "outputs": [],
   "source": [
    "# export = False\n",
    "gdf = match_wd_data_with_taxlot(df=df, setID=setID, all_taxlot=all_taxlot, nm_to_add=nm_to_add, export=True)"
   ]
  },
  {
   "cell_type": "code",
   "execution_count": 10,
   "id": "bf15aae8",
   "metadata": {},
   "outputs": [
    {
     "data": {
      "text/html": [
       "<div>\n",
       "<style scoped>\n",
       "    .dataframe tbody tr th:only-of-type {\n",
       "        vertical-align: middle;\n",
       "    }\n",
       "\n",
       "    .dataframe tbody tr th {\n",
       "        vertical-align: top;\n",
       "    }\n",
       "\n",
       "    .dataframe thead th {\n",
       "        text-align: right;\n",
       "    }\n",
       "</style>\n",
       "<table border=\"1\" class=\"dataframe\">\n",
       "  <thead>\n",
       "    <tr style=\"text-align: right;\">\n",
       "      <th></th>\n",
       "      <th>wdID</th>\n",
       "      <th>trsqq</th>\n",
       "      <th>parcel_id</th>\n",
       "      <th>loc_desc</th>\n",
       "      <th>city</th>\n",
       "      <th>county</th>\n",
       "      <th>site_name</th>\n",
       "      <th>site_desc</th>\n",
       "      <th>latitude</th>\n",
       "      <th>longitude</th>\n",
       "      <th>...</th>\n",
       "      <th>notes</th>\n",
       "      <th>lots</th>\n",
       "      <th>lot</th>\n",
       "      <th>cnt_code</th>\n",
       "      <th>ORTaxlot</th>\n",
       "      <th>recyear</th>\n",
       "      <th>IDyear</th>\n",
       "      <th>missinglot</th>\n",
       "      <th>record_ID</th>\n",
       "      <th>geometry</th>\n",
       "    </tr>\n",
       "  </thead>\n",
       "  <tbody>\n",
       "    <tr>\n",
       "      <th>1099</th>\n",
       "      <td>WD2022-0178</td>\n",
       "      <td>13S11W19AC</td>\n",
       "      <td>7201</td>\n",
       "      <td>NE Crestline Dr and NE Alsea Hwy</td>\n",
       "      <td>Waldport</td>\n",
       "      <td>Lincoln</td>\n",
       "      <td>Southworth Park</td>\n",
       "      <td>WD2022-0178 wetdet (grant)</td>\n",
       "      <td>44.428263</td>\n",
       "      <td>-124.060213</td>\n",
       "      <td>...</td>\n",
       "      <td>None</td>\n",
       "      <td>7201</td>\n",
       "      <td>7201</td>\n",
       "      <td>21.0</td>\n",
       "      <td>2113.00S11.00W19AC--000007201</td>\n",
       "      <td>2022</td>\n",
       "      <td>2022</td>\n",
       "      <td>N</td>\n",
       "      <td>2685</td>\n",
       "      <td>MULTIPOLYGON (((382770.605 996651.487, 382757....</td>\n",
       "    </tr>\n",
       "    <tr>\n",
       "      <th>1100</th>\n",
       "      <td>WD2022-0201</td>\n",
       "      <td>06S11W34DA</td>\n",
       "      <td>700</td>\n",
       "      <td>5522 NW Keel Ave</td>\n",
       "      <td>Lincoln City</td>\n",
       "      <td>Lincoln</td>\n",
       "      <td>Paul Allen</td>\n",
       "      <td>WD2022-0201 Offsite WetDet</td>\n",
       "      <td>45.005230</td>\n",
       "      <td>-124.008293</td>\n",
       "      <td>...</td>\n",
       "      <td>None</td>\n",
       "      <td>700</td>\n",
       "      <td>700</td>\n",
       "      <td>21.0</td>\n",
       "      <td>2106.00S11.00W34DA--000000700</td>\n",
       "      <td>2022</td>\n",
       "      <td>2022</td>\n",
       "      <td>N</td>\n",
       "      <td>2686</td>\n",
       "      <td>MULTIPOLYGON (((405353.058 1205960.731, 405352...</td>\n",
       "    </tr>\n",
       "    <tr>\n",
       "      <th>1101</th>\n",
       "      <td>WD2022-0292</td>\n",
       "      <td>12S11W21</td>\n",
       "      <td>200</td>\n",
       "      <td>Beaver Creek Rd</td>\n",
       "      <td>Seal Rock</td>\n",
       "      <td>Lincoln</td>\n",
       "      <td>ENF8419</td>\n",
       "      <td>WD2022-0292 wetdet</td>\n",
       "      <td>44.511479</td>\n",
       "      <td>-124.032859</td>\n",
       "      <td>...</td>\n",
       "      <td>None</td>\n",
       "      <td>200</td>\n",
       "      <td>200</td>\n",
       "      <td>21.0</td>\n",
       "      <td>2112.00S11.00W2100--000000200</td>\n",
       "      <td>2022</td>\n",
       "      <td>2022</td>\n",
       "      <td>N</td>\n",
       "      <td>2687</td>\n",
       "      <td>MULTIPOLYGON (((392145.802 1026540.501, 392271...</td>\n",
       "    </tr>\n",
       "  </tbody>\n",
       "</table>\n",
       "<p>3 rows × 31 columns</p>\n",
       "</div>"
      ],
      "text/plain": [
       "             wdID       trsqq parcel_id                          loc_desc  \\\n",
       "1099  WD2022-0178  13S11W19AC      7201  NE Crestline Dr and NE Alsea Hwy   \n",
       "1100  WD2022-0201  06S11W34DA       700                  5522 NW Keel Ave   \n",
       "1101  WD2022-0292    12S11W21       200                   Beaver Creek Rd   \n",
       "\n",
       "              city   county        site_name                   site_desc  \\\n",
       "1099      Waldport  Lincoln  Southworth Park  WD2022-0178 wetdet (grant)   \n",
       "1100  Lincoln City  Lincoln       Paul Allen  WD2022-0201 Offsite WetDet   \n",
       "1101     Seal Rock  Lincoln          ENF8419          WD2022-0292 wetdet   \n",
       "\n",
       "       latitude   longitude  ... notes  lots   lot cnt_code  \\\n",
       "1099  44.428263 -124.060213  ...  None  7201  7201     21.0   \n",
       "1100  45.005230 -124.008293  ...  None   700   700     21.0   \n",
       "1101  44.511479 -124.032859  ...  None   200   200     21.0   \n",
       "\n",
       "                           ORTaxlot recyear IDyear  missinglot  record_ID  \\\n",
       "1099  2113.00S11.00W19AC--000007201    2022   2022           N       2685   \n",
       "1100  2106.00S11.00W34DA--000000700    2022   2022           N       2686   \n",
       "1101  2112.00S11.00W2100--000000200    2022   2022           N       2687   \n",
       "\n",
       "                                               geometry  \n",
       "1099  MULTIPOLYGON (((382770.605 996651.487, 382757....  \n",
       "1100  MULTIPOLYGON (((405353.058 1205960.731, 405352...  \n",
       "1101  MULTIPOLYGON (((392145.802 1026540.501, 392271...  \n",
       "\n",
       "[3 rows x 31 columns]"
      ]
     },
     "execution_count": 10,
     "metadata": {},
     "output_type": "execute_result"
    }
   ],
   "source": [
    "gdf.tail(3)"
   ]
  },
  {
   "cell_type": "code",
   "execution_count": 11,
   "id": "e06e09d0",
   "metadata": {},
   "outputs": [],
   "source": [
    "wd = combine_wd_tables(setID=setID, nm_to_add=nm_to_add)"
   ]
  },
  {
   "cell_type": "code",
   "execution_count": 12,
   "id": "4a6a0785",
   "metadata": {},
   "outputs": [
    {
     "data": {
      "text/html": [
       "<div>\n",
       "<style scoped>\n",
       "    .dataframe tbody tr th:only-of-type {\n",
       "        vertical-align: middle;\n",
       "    }\n",
       "\n",
       "    .dataframe tbody tr th {\n",
       "        vertical-align: top;\n",
       "    }\n",
       "\n",
       "    .dataframe thead th {\n",
       "        text-align: right;\n",
       "    }\n",
       "</style>\n",
       "<table border=\"1\" class=\"dataframe\">\n",
       "  <thead>\n",
       "    <tr style=\"text-align: right;\">\n",
       "      <th></th>\n",
       "      <th>wetdet_delin_number</th>\n",
       "      <th>trsqq</th>\n",
       "      <th>parcel_id</th>\n",
       "      <th>address_location_desc</th>\n",
       "      <th>city</th>\n",
       "      <th>county</th>\n",
       "      <th>site_name</th>\n",
       "      <th>site_desc</th>\n",
       "      <th>latitude</th>\n",
       "      <th>longitude</th>\n",
       "      <th>...</th>\n",
       "      <th>received_date</th>\n",
       "      <th>response_date</th>\n",
       "      <th>reissuance_response_date</th>\n",
       "      <th>project_id</th>\n",
       "      <th>site_id</th>\n",
       "      <th>record_ID</th>\n",
       "      <th>notes</th>\n",
       "      <th>recyear</th>\n",
       "      <th>IDyear</th>\n",
       "      <th>missinglot</th>\n",
       "    </tr>\n",
       "  </thead>\n",
       "  <tbody>\n",
       "    <tr>\n",
       "      <th>0</th>\n",
       "      <td>WD2017-0028</td>\n",
       "      <td>04N01W09BB</td>\n",
       "      <td>100</td>\n",
       "      <td>E of Hwy 30, N of Gable Rd</td>\n",
       "      <td>St Helens</td>\n",
       "      <td>Columbia</td>\n",
       "      <td>Gable Rd 04N01W09BB</td>\n",
       "      <td>NaN</td>\n",
       "      <td>45.847920</td>\n",
       "      <td>-122.823410</td>\n",
       "      <td>...</td>\n",
       "      <td>2017-01-20</td>\n",
       "      <td>2017-03-01</td>\n",
       "      <td>NaN</td>\n",
       "      <td>NaN</td>\n",
       "      <td>104151</td>\n",
       "      <td>2144</td>\n",
       "      <td>None</td>\n",
       "      <td>2017</td>\n",
       "      <td>2017</td>\n",
       "      <td>N</td>\n",
       "    </tr>\n",
       "    <tr>\n",
       "      <th>1</th>\n",
       "      <td>WD2017-0038</td>\n",
       "      <td>03N02W12BD</td>\n",
       "      <td>1000,1100,1300</td>\n",
       "      <td>NaN</td>\n",
       "      <td>Scappoose</td>\n",
       "      <td>Columbia</td>\n",
       "      <td>Seely Ln Park Proj 03N02W12BD</td>\n",
       "      <td>Seely Lane Park Project (grant)</td>\n",
       "      <td>45.758370</td>\n",
       "      <td>-122.882498</td>\n",
       "      <td>...</td>\n",
       "      <td>2017-02-01</td>\n",
       "      <td>2017-02-22</td>\n",
       "      <td>NaN</td>\n",
       "      <td>NaN</td>\n",
       "      <td>104260</td>\n",
       "      <td>2145</td>\n",
       "      <td>None</td>\n",
       "      <td>2017</td>\n",
       "      <td>2017</td>\n",
       "      <td>N</td>\n",
       "    </tr>\n",
       "    <tr>\n",
       "      <th>2</th>\n",
       "      <td>WD2017-0076</td>\n",
       "      <td>04N01W05CD</td>\n",
       "      <td>2102</td>\n",
       "      <td>2480 Gable Rd, St Helens</td>\n",
       "      <td>St Helens</td>\n",
       "      <td>Columbia</td>\n",
       "      <td>04N01W05CD</td>\n",
       "      <td>NaN</td>\n",
       "      <td>45.851632</td>\n",
       "      <td>-122.836404</td>\n",
       "      <td>...</td>\n",
       "      <td>2017-02-24</td>\n",
       "      <td>2017-03-02</td>\n",
       "      <td>NaN</td>\n",
       "      <td>NaN</td>\n",
       "      <td>104533</td>\n",
       "      <td>2146</td>\n",
       "      <td>None</td>\n",
       "      <td>2017</td>\n",
       "      <td>2017</td>\n",
       "      <td>N</td>\n",
       "    </tr>\n",
       "  </tbody>\n",
       "</table>\n",
       "<p>3 rows × 25 columns</p>\n",
       "</div>"
      ],
      "text/plain": [
       "  wetdet_delin_number       trsqq       parcel_id       address_location_desc  \\\n",
       "0         WD2017-0028  04N01W09BB             100  E of Hwy 30, N of Gable Rd   \n",
       "1         WD2017-0038  03N02W12BD  1000,1100,1300                         NaN   \n",
       "2         WD2017-0076  04N01W05CD            2102    2480 Gable Rd, St Helens   \n",
       "\n",
       "        city    county                      site_name  \\\n",
       "0  St Helens  Columbia            Gable Rd 04N01W09BB   \n",
       "1  Scappoose  Columbia  Seely Ln Park Proj 03N02W12BD   \n",
       "2  St Helens  Columbia                     04N01W05CD   \n",
       "\n",
       "                         site_desc   latitude   longitude  ... received_date  \\\n",
       "0                              NaN  45.847920 -122.823410  ...    2017-01-20   \n",
       "1  Seely Lane Park Project (grant)  45.758370 -122.882498  ...    2017-02-01   \n",
       "2                              NaN  45.851632 -122.836404  ...    2017-02-24   \n",
       "\n",
       "  response_date reissuance_response_date project_id site_id record_ID notes  \\\n",
       "0    2017-03-01                      NaN        NaN  104151      2144  None   \n",
       "1    2017-02-22                      NaN        NaN  104260      2145  None   \n",
       "2    2017-03-02                      NaN        NaN  104533      2146  None   \n",
       "\n",
       "   recyear  IDyear  missinglot  \n",
       "0     2017    2017           N  \n",
       "1     2017    2017           N  \n",
       "2     2017    2017           N  \n",
       "\n",
       "[3 rows x 25 columns]"
      ]
     },
     "execution_count": 12,
     "metadata": {},
     "output_type": "execute_result"
    }
   ],
   "source": [
    "wd.head(3)"
   ]
  },
  {
   "cell_type": "code",
   "execution_count": 13,
   "id": "eac4768f",
   "metadata": {},
   "outputs": [
    {
     "data": {
      "text/plain": [
       "Index(['wetdet_delin_number', 'trsqq', 'parcel_id', 'address_location_desc',\n",
       "       'city', 'county', 'site_name', 'site_desc', 'latitude', 'longitude',\n",
       "       'Coord-Source', 'DocumentName', 'DecisionLink', 'is_batch_file',\n",
       "       'status_name', 'received_date', 'response_date',\n",
       "       'reissuance_response_date', 'project_id', 'site_id', 'record_ID',\n",
       "       'notes', 'recyear', 'IDyear', 'missinglot'],\n",
       "      dtype='object')"
      ]
     },
     "execution_count": 13,
     "metadata": {},
     "output_type": "execute_result"
    }
   ],
   "source": [
    "wd.columns"
   ]
  },
  {
   "cell_type": "code",
   "execution_count": 14,
   "id": "7ddb5b0c",
   "metadata": {},
   "outputs": [
    {
     "name": "stdout",
     "output_type": "stream",
     "text": [
      "it is about 37.41% of data in the original 735 records unmatched\n",
      "there are 0 records (0.0% of the original records) without parcel id\n"
     ]
    }
   ],
   "source": [
    "unmatched_df = report_unmatched(gdf=gdf, setID=setID, nm_to_add=nm_to_add, mute = False)"
   ]
  },
  {
   "cell_type": "code",
   "execution_count": 15,
   "id": "897a4bdb",
   "metadata": {},
   "outputs": [],
   "source": [
    "unmatched_df.to_csv(os.path.join(inpath + '\\\\output\\\\to_review\\\\', f'unmatched_df_{setID}.csv'), index=False) "
   ]
  },
  {
   "cell_type": "code",
   "execution_count": 6,
   "id": "0472336e",
   "metadata": {
    "scrolled": true
   },
   "outputs": [],
   "source": [
    "res = check_corrected_data(df=df, setID=setID, all_taxlot=all_taxlot, nm_to_add=nm_to_add, export=False)"
   ]
  },
  {
   "cell_type": "code",
   "execution_count": 7,
   "id": "3f3ff019",
   "metadata": {},
   "outputs": [
    {
     "data": {
      "text/plain": [
       "1331"
      ]
     },
     "execution_count": 7,
     "metadata": {},
     "output_type": "execute_result"
    }
   ],
   "source": [
    "len(res[0].record_ID.unique())"
   ]
  },
  {
   "cell_type": "code",
   "execution_count": 8,
   "id": "233d0d02",
   "metadata": {},
   "outputs": [
    {
     "data": {
      "text/plain": [
       "1307"
      ]
     },
     "execution_count": 8,
     "metadata": {},
     "output_type": "execute_result"
    }
   ],
   "source": [
    "len(res[0][~res[0].wdID.isin(res[1].wetdet_delin_number.values)].record_ID.unique())"
   ]
  },
  {
   "cell_type": "code",
   "execution_count": 9,
   "id": "923d82e3",
   "metadata": {},
   "outputs": [],
   "source": [
    "df_wlots_to_check = res[3]"
   ]
  },
  {
   "cell_type": "code",
   "execution_count": 10,
   "id": "398fa19d",
   "metadata": {},
   "outputs": [
    {
     "data": {
      "text/plain": [
       "27"
      ]
     },
     "execution_count": 10,
     "metadata": {},
     "output_type": "execute_result"
    }
   ],
   "source": [
    "len(df_wlots_to_check[df_wlots_to_check.missinglot=='N'].record_ID.unique())"
   ]
  },
  {
   "cell_type": "code",
   "execution_count": 11,
   "id": "b06ec33a",
   "metadata": {},
   "outputs": [],
   "source": [
    "df_wlots_to_check.to_csv(os.path.join(inpath + '\\\\output\\\\to_review\\\\', f'df_with_lots_check_{setID}.csv'), index=False) "
   ]
  }
 ],
 "metadata": {
  "kernelspec": {
   "display_name": "Python 3",
   "language": "python",
   "name": "python3"
  },
  "language_info": {
   "codemirror_mode": {
    "name": "ipython",
    "version": 3
   },
   "file_extension": ".py",
   "mimetype": "text/x-python",
   "name": "python",
   "nbconvert_exporter": "python",
   "pygments_lexer": "ipython3",
   "version": "3.8.8"
  }
 },
 "nbformat": 4,
 "nbformat_minor": 5
}
