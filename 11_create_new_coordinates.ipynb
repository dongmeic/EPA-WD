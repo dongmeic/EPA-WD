{
 "cells": [
  {
   "cell_type": "code",
   "execution_count": 1,
   "id": "46c4e8bd",
   "metadata": {},
   "outputs": [],
   "source": [
    "import arcpy"
   ]
  },
  {
   "cell_type": "code",
   "execution_count": 3,
   "id": "4b95990f",
   "metadata": {},
   "outputs": [],
   "source": [
    "inpath = r'L:\\NaturalResources\\Wetlands\\Local Wetland Inventory\\WAPO\\EPA_2022_Tasks\\Task 1 WD Mapping'\n",
    "outpath = inpath + '\\\\output'"
   ]
  },
  {
   "cell_type": "code",
   "execution_count": 4,
   "id": "5471a57e",
   "metadata": {},
   "outputs": [],
   "source": [
    "inFeatures = outpath+'\\\\test\\\\WD2020_0280_txm.shp'\n",
    "outFeatureClass = inpath + '\\\\GIS\\\\ArcGIS Pro Project\\\\DataReview\\\\DataReview.gdb\\\\WD2020_0280_txm_p'"
   ]
  },
  {
   "cell_type": "code",
   "execution_count": 5,
   "id": "7282e6d7",
   "metadata": {},
   "outputs": [
    {
     "data": {
      "text/html": [
       "<div class='gpresult'><h2>Messages</h2><div id='messages' data-messages='[\"Start Time: Tuesday, August 1, 2023 11:43:23 PM\",\"Succeeded at Tuesday, August 1, 2023 11:43:29 PM (Elapsed Time: 5.62 seconds)\"]' data-show='true'><div id = 'default' /></div></div>"
      ],
      "text/plain": [
       "<Result 'L:\\\\NaturalResources\\\\Wetlands\\\\Local Wetland Inventory\\\\WAPO\\\\EPA_2022_Tasks\\\\Task 1 WD Mapping\\\\GIS\\\\ArcGIS Pro Project\\\\DataReview\\\\DataReview.gdb\\\\WD2020_0280_txm_p'>"
      ]
     },
     "execution_count": 5,
     "metadata": {},
     "output_type": "execute_result"
    }
   ],
   "source": [
    "arcpy.management.FeatureToPoint(inFeatures, outFeatureClass, \"INSIDE\")"
   ]
  }
 ],
 "metadata": {
  "kernelspec": {
   "display_name": "Python 3",
   "language": "python",
   "name": "python3"
  },
  "language_info": {
   "codemirror_mode": {
    "name": "ipython",
    "version": 3
   },
   "file_extension": ".py",
   "mimetype": "text/x-python",
   "name": "python",
   "nbconvert_exporter": "python",
   "pygments_lexer": "ipython3",
   "version": "3.9.11"
  }
 },
 "nbformat": 4,
 "nbformat_minor": 5
}
