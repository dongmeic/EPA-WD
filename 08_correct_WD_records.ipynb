{
 "cells": [
  {
   "cell_type": "code",
   "execution_count": 1,
   "id": "8b07f8cc",
   "metadata": {},
   "outputs": [],
   "source": [
    "%load_ext autoreload\n",
    "%autoreload 2"
   ]
  },
  {
   "cell_type": "code",
   "execution_count": 2,
   "id": "eb6f2a4c",
   "metadata": {},
   "outputs": [],
   "source": [
    "from wdtools import *"
   ]
  },
  {
   "cell_type": "code",
   "execution_count": 3,
   "id": "11e8cb69",
   "metadata": {},
   "outputs": [],
   "source": [
    "wd_df = get_all_wd(num=6, raw=True)"
   ]
  },
  {
   "cell_type": "code",
   "execution_count": 54,
   "id": "cf61df4e",
   "metadata": {},
   "outputs": [],
   "source": [
    "cor_set1_0 = pd.read_excel(wdpath+'\\\\Data corrections feedback to DSL\\\\DSL Database corrections set001.xlsx', nrows=27)"
   ]
  },
  {
   "cell_type": "code",
   "execution_count": 14,
   "id": "a96d5cd1",
   "metadata": {
    "scrolled": true
   },
   "outputs": [
    {
     "data": {
      "text/plain": [
       "Index(['wetdet_delin_number', 'trsqq', 'parcel_id', 'address_location_desc',\n",
       "       'city', 'county', 'site_name', 'site_desc', 'latitude', 'longitude',\n",
       "       'Coord-Source', 'DocumentName', 'DecisionLink', 'is_batch_file',\n",
       "       'status_name', 'received_date', 'response_date',\n",
       "       'reissuance_response_date', 'project_id', 'site_id', 'record_ID',\n",
       "       'notes', 'recyear', 'IDyear', 'missinglot', 'SetID'],\n",
       "      dtype='object')"
      ]
     },
     "execution_count": 14,
     "metadata": {},
     "output_type": "execute_result"
    }
   ],
   "source": [
    "wd_df.columns"
   ]
  },
  {
   "cell_type": "code",
   "execution_count": 17,
   "id": "b93f7e89",
   "metadata": {},
   "outputs": [
    {
     "data": {
      "text/plain": [
       "False"
      ]
     },
     "execution_count": 17,
     "metadata": {},
     "output_type": "execute_result"
    }
   ],
   "source": [
    "len(cor_set1_0.wetdet_delin_number.values)==len(cor_set1_0.wetdet_delin_number.unique())"
   ]
  },
  {
   "cell_type": "code",
   "execution_count": 25,
   "id": "504d5e3e",
   "metadata": {},
   "outputs": [],
   "source": [
    "cor_set1_0.county=cor_set1_0.county.apply(lambda x: x.capitalize())"
   ]
  },
  {
   "cell_type": "code",
   "execution_count": 36,
   "id": "683187e8",
   "metadata": {},
   "outputs": [],
   "source": [
    "cor_set1_0[~cor_set1_0.city.isnull()].city=cor_set1_0[~cor_set1_0.city.isnull()].city.apply(lambda x: x.capitalize())"
   ]
  },
  {
   "cell_type": "code",
   "execution_count": 26,
   "id": "e5c93b96",
   "metadata": {},
   "outputs": [],
   "source": [
    "wdID_list, n=check_duplicates(cor_set1_0.wetdet_delin_number.values)"
   ]
  },
  {
   "cell_type": "code",
   "execution_count": 29,
   "id": "2d1708e7",
   "metadata": {},
   "outputs": [],
   "source": [
    "selwid = [wid for wid in cor_set1_0.wetdet_delin_number.unique() if wid not in wdID_list]"
   ]
  },
  {
   "cell_type": "code",
   "execution_count": 51,
   "id": "32f33907",
   "metadata": {},
   "outputs": [],
   "source": [
    "set1df = wd_df[(wd_df.SetID==1)]"
   ]
  },
  {
   "cell_type": "code",
   "execution_count": 44,
   "id": "ebc28492",
   "metadata": {},
   "outputs": [],
   "source": [
    "to_cor_set1 = set1df[set1df.wetdet_delin_number.isin(selwid)]"
   ]
  },
  {
   "cell_type": "code",
   "execution_count": 38,
   "id": "4110248b",
   "metadata": {},
   "outputs": [],
   "source": [
    "cor_set1 = cor_set1_0[cor_set1_0.wetdet_delin_number.isin(selwid)]"
   ]
  },
  {
   "cell_type": "code",
   "execution_count": 45,
   "id": "ffd2eb1f",
   "metadata": {},
   "outputs": [],
   "source": [
    "to_cor_set1.trsqq = to_cor_set1.wetdet_delin_number.map(dict(zip(cor_set1.wetdet_delin_number, cor_set1.trsqq)))\n",
    "to_cor_set1.parcel_id = to_cor_set1.wetdet_delin_number.map(dict(zip(cor_set1.wetdet_delin_number, cor_set1.parcel_id)))\n",
    "to_cor_set1.county = to_cor_set1.wetdet_delin_number.map(dict(zip(cor_set1.wetdet_delin_number, cor_set1.county)))"
   ]
  },
  {
   "cell_type": "code",
   "execution_count": 50,
   "id": "cfd957be",
   "metadata": {},
   "outputs": [],
   "source": [
    "wid='WD2022-0291'\n",
    "to_cor_set1.loc[to_cor_set1.wetdet_delin_number==wid,'city'] = cor_set1.loc[cor_set1.wetdet_delin_number==wid,'city']\n",
    "to_cor_set1.loc[to_cor_set1.wetdet_delin_number==wid,'latitude'] = cor_set1.loc[cor_set1.wetdet_delin_number==wid,'latitude']\n",
    "to_cor_set1.loc[to_cor_set1.wetdet_delin_number==wid,'longitude'] = cor_set1.loc[cor_set1.wetdet_delin_number==wid,'longitude']"
   ]
  },
  {
   "cell_type": "code",
   "execution_count": 52,
   "id": "e3d1858c",
   "metadata": {},
   "outputs": [
    {
     "data": {
      "text/html": [
       "<div>\n",
       "<style scoped>\n",
       "    .dataframe tbody tr th:only-of-type {\n",
       "        vertical-align: middle;\n",
       "    }\n",
       "\n",
       "    .dataframe tbody tr th {\n",
       "        vertical-align: top;\n",
       "    }\n",
       "\n",
       "    .dataframe thead th {\n",
       "        text-align: right;\n",
       "    }\n",
       "</style>\n",
       "<table border=\"1\" class=\"dataframe\">\n",
       "  <thead>\n",
       "    <tr style=\"text-align: right;\">\n",
       "      <th></th>\n",
       "      <th>wetdet_delin_number</th>\n",
       "      <th>trsqq</th>\n",
       "      <th>parcel_id</th>\n",
       "      <th>address_location_desc</th>\n",
       "      <th>city</th>\n",
       "      <th>county</th>\n",
       "      <th>site_name</th>\n",
       "      <th>site_desc</th>\n",
       "      <th>latitude</th>\n",
       "      <th>longitude</th>\n",
       "      <th>...</th>\n",
       "      <th>response_date</th>\n",
       "      <th>reissuance_response_date</th>\n",
       "      <th>project_id</th>\n",
       "      <th>site_id</th>\n",
       "      <th>record_ID</th>\n",
       "      <th>notes</th>\n",
       "      <th>recyear</th>\n",
       "      <th>IDyear</th>\n",
       "      <th>missinglot</th>\n",
       "      <th>SetID</th>\n",
       "    </tr>\n",
       "  </thead>\n",
       "  <tbody>\n",
       "    <tr>\n",
       "      <th>1069</th>\n",
       "      <td>WD2021-0437</td>\n",
       "      <td>36S05W17AD</td>\n",
       "      <td>4400,4402,4403,6100,6101</td>\n",
       "      <td>401 NE Anderson St Grants Pass</td>\n",
       "      <td>Grants Pass</td>\n",
       "      <td>Josephine</td>\n",
       "      <td>OHCS Oak View Garden - Eagle Cap</td>\n",
       "      <td>WD2021-0437 wetdet</td>\n",
       "      <td>42.441098</td>\n",
       "      <td>-123.213555</td>\n",
       "      <td>...</td>\n",
       "      <td>2021-09-07</td>\n",
       "      <td>NaN</td>\n",
       "      <td>82553.0</td>\n",
       "      <td>136894</td>\n",
       "      <td>1070</td>\n",
       "      <td></td>\n",
       "      <td>2021</td>\n",
       "      <td>2021</td>\n",
       "      <td>N</td>\n",
       "      <td>1</td>\n",
       "    </tr>\n",
       "  </tbody>\n",
       "</table>\n",
       "<p>1 rows × 26 columns</p>\n",
       "</div>"
      ],
      "text/plain": [
       "     wetdet_delin_number       trsqq                 parcel_id  \\\n",
       "1069         WD2021-0437  36S05W17AD  4400,4402,4403,6100,6101   \n",
       "\n",
       "               address_location_desc         city     county  \\\n",
       "1069  401 NE Anderson St Grants Pass  Grants Pass  Josephine   \n",
       "\n",
       "                             site_name           site_desc   latitude  \\\n",
       "1069  OHCS Oak View Garden - Eagle Cap  WD2021-0437 wetdet  42.441098   \n",
       "\n",
       "       longitude  ... response_date reissuance_response_date project_id  \\\n",
       "1069 -123.213555  ...    2021-09-07                      NaN    82553.0   \n",
       "\n",
       "     site_id record_ID notes recyear IDyear  missinglot  SetID  \n",
       "1069  136894      1070          2021   2021           N      1  \n",
       "\n",
       "[1 rows x 26 columns]"
      ]
     },
     "execution_count": 52,
     "metadata": {},
     "output_type": "execute_result"
    }
   ],
   "source": [
    "set1df[set1df.wetdet_delin_number.isin(wdID_list)]"
   ]
  },
  {
   "cell_type": "code",
   "execution_count": 55,
   "id": "39242c6c",
   "metadata": {},
   "outputs": [
    {
     "data": {
      "text/html": [
       "<div>\n",
       "<style scoped>\n",
       "    .dataframe tbody tr th:only-of-type {\n",
       "        vertical-align: middle;\n",
       "    }\n",
       "\n",
       "    .dataframe tbody tr th {\n",
       "        vertical-align: top;\n",
       "    }\n",
       "\n",
       "    .dataframe thead th {\n",
       "        text-align: right;\n",
       "    }\n",
       "</style>\n",
       "<table border=\"1\" class=\"dataframe\">\n",
       "  <thead>\n",
       "    <tr style=\"text-align: right;\">\n",
       "      <th></th>\n",
       "      <th>wetdet_delin_number</th>\n",
       "      <th>trsqq</th>\n",
       "      <th>parcel_id</th>\n",
       "      <th>address_location_desc</th>\n",
       "      <th>city</th>\n",
       "      <th>county</th>\n",
       "      <th>site_name</th>\n",
       "      <th>site_desc</th>\n",
       "      <th>latitude</th>\n",
       "      <th>longitude</th>\n",
       "      <th>matched ORTAXLOT#</th>\n",
       "    </tr>\n",
       "  </thead>\n",
       "  <tbody>\n",
       "    <tr>\n",
       "      <th>17</th>\n",
       "      <td>WD2021-0437</td>\n",
       "      <td>36S05W17AD</td>\n",
       "      <td>4400,4402,4403</td>\n",
       "      <td>401 NE Anderson St Grants Pass</td>\n",
       "      <td>Grants Pass</td>\n",
       "      <td>Josephine</td>\n",
       "      <td>OHCS Oak View Garden - Eagle Cap</td>\n",
       "      <td>WD2021-0437 wetdet</td>\n",
       "      <td>42.441098</td>\n",
       "      <td>-123.213555</td>\n",
       "      <td>1736.00S05.00W17AD--000004400</td>\n",
       "    </tr>\n",
       "    <tr>\n",
       "      <th>18</th>\n",
       "      <td>WD2021-0437</td>\n",
       "      <td>36S05W17AC</td>\n",
       "      <td>6100,6101</td>\n",
       "      <td>401 NE Anderson St Grants Pass</td>\n",
       "      <td>Grants Pass</td>\n",
       "      <td>Josephine</td>\n",
       "      <td>OHCS Oak View Garden - Eagle Cap</td>\n",
       "      <td>WD2021-0437 wetdet</td>\n",
       "      <td>42.441098</td>\n",
       "      <td>-123.213555</td>\n",
       "      <td>1736.00S05.00W17AC--000006101</td>\n",
       "    </tr>\n",
       "  </tbody>\n",
       "</table>\n",
       "</div>"
      ],
      "text/plain": [
       "   wetdet_delin_number       trsqq       parcel_id  \\\n",
       "17         WD2021-0437  36S05W17AD  4400,4402,4403   \n",
       "18         WD2021-0437  36S05W17AC       6100,6101   \n",
       "\n",
       "             address_location_desc         city     county  \\\n",
       "17  401 NE Anderson St Grants Pass  Grants Pass  Josephine   \n",
       "18  401 NE Anderson St Grants Pass  Grants Pass  Josephine   \n",
       "\n",
       "                           site_name           site_desc   latitude  \\\n",
       "17  OHCS Oak View Garden - Eagle Cap  WD2021-0437 wetdet  42.441098   \n",
       "18  OHCS Oak View Garden - Eagle Cap  WD2021-0437 wetdet  42.441098   \n",
       "\n",
       "     longitude              matched ORTAXLOT#  \n",
       "17 -123.213555  1736.00S05.00W17AD--000004400  \n",
       "18 -123.213555  1736.00S05.00W17AC--000006101  "
      ]
     },
     "execution_count": 55,
     "metadata": {},
     "output_type": "execute_result"
    }
   ],
   "source": [
    "# this changes the record ID, skip\n",
    "cor_set1_0[cor_set1_0.wetdet_delin_number.isin(wdID_list)]"
   ]
  },
  {
   "cell_type": "code",
   "execution_count": 61,
   "id": "24850f35",
   "metadata": {},
   "outputs": [],
   "source": [
    "set1df1 = pd.concat([set1df[~set1df.wetdet_delin_number.isin(to_cor_set1.wetdet_delin_number.values)], to_cor_set1], \n",
    "                    ignore_index=True)"
   ]
  },
  {
   "cell_type": "code",
   "execution_count": 62,
   "id": "96f95bf1",
   "metadata": {},
   "outputs": [],
   "source": [
    "set1df1 = set1df1.sort_values(by=['record_ID']) "
   ]
  },
  {
   "cell_type": "code",
   "execution_count": 65,
   "id": "54875491",
   "metadata": {},
   "outputs": [
    {
     "data": {
      "text/plain": [
       "array(['Clatsop', 'Coos', 'Deschutes', 'Crook', 'Harney', 'Malheur',\n",
       "       'Jackson', 'Josephine', 'Lake', 'Marion', 'Polk'], dtype=object)"
      ]
     },
     "execution_count": 65,
     "metadata": {},
     "output_type": "execute_result"
    }
   ],
   "source": [
    "set1df1.county.unique()"
   ]
  },
  {
   "cell_type": "code",
   "execution_count": 66,
   "id": "968484bb",
   "metadata": {},
   "outputs": [],
   "source": [
    "set1df1.to_csv(wdpath+'\\\\Corrected_by_Set\\\\Set1_2017-20220601.csv', index=False)"
   ]
  },
  {
   "cell_type": "code",
   "execution_count": 67,
   "id": "f115ad5e",
   "metadata": {},
   "outputs": [],
   "source": [
    "cor_set2_0 = pd.read_excel(wdpath+'\\\\Data corrections feedback to DSL\\\\DSL Database corrections set002.xlsx')"
   ]
  },
  {
   "cell_type": "code",
   "execution_count": 68,
   "id": "5f1f6209",
   "metadata": {},
   "outputs": [],
   "source": [
    "wdID_list, n=check_duplicates(cor_set2_0.wetdet_delin_number.values)"
   ]
  },
  {
   "cell_type": "code",
   "execution_count": 69,
   "id": "e3338a37",
   "metadata": {},
   "outputs": [
    {
     "data": {
      "text/plain": [
       "[]"
      ]
     },
     "execution_count": 69,
     "metadata": {},
     "output_type": "execute_result"
    }
   ],
   "source": [
    "wdID_list"
   ]
  },
  {
   "cell_type": "code",
   "execution_count": 70,
   "id": "894046ab",
   "metadata": {},
   "outputs": [],
   "source": [
    "set2df = wd_df[(wd_df.SetID==2)]"
   ]
  },
  {
   "cell_type": "code",
   "execution_count": 84,
   "id": "59d5ec8d",
   "metadata": {},
   "outputs": [
    {
     "data": {
      "text/plain": [
       "array(['Baker', 'Benton', 'Clackamas', 'Morrow'], dtype=object)"
      ]
     },
     "execution_count": 84,
     "metadata": {},
     "output_type": "execute_result"
    }
   ],
   "source": [
    "set2df.county.unique()"
   ]
  },
  {
   "cell_type": "code",
   "execution_count": 75,
   "id": "6b51607e",
   "metadata": {},
   "outputs": [],
   "source": [
    "to_cor_set2 = set2df[set2df.record_ID.isin(cor_set2_0.Record_ID.values)]"
   ]
  },
  {
   "cell_type": "code",
   "execution_count": 78,
   "id": "f67b4d80",
   "metadata": {},
   "outputs": [],
   "source": [
    "to_cor_set2.trsqq = to_cor_set2.record_ID.map(dict(zip(cor_set2_0.Record_ID, cor_set2_0.trsqq)))\n",
    "to_cor_set2.county = to_cor_set2.record_ID.map(dict(zip(cor_set2_0.Record_ID, cor_set2_0.county)))"
   ]
  },
  {
   "cell_type": "code",
   "execution_count": 79,
   "id": "f3484e83",
   "metadata": {},
   "outputs": [],
   "source": [
    "set2df1 = pd.concat([set2df[~set2df.record_ID.isin(to_cor_set2.record_ID.values)], to_cor_set2], \n",
    "                    ignore_index=True)"
   ]
  },
  {
   "cell_type": "code",
   "execution_count": 80,
   "id": "c28c0a91",
   "metadata": {},
   "outputs": [],
   "source": [
    "set2df1 = set2df1.sort_values(by=['record_ID'])"
   ]
  },
  {
   "cell_type": "code",
   "execution_count": 83,
   "id": "1a2ffe66",
   "metadata": {},
   "outputs": [
    {
     "data": {
      "text/plain": [
       "array(['Baker', 'Benton', 'Polk', 'Clackamas', 'Multnomah', 'Morrow'],\n",
       "      dtype=object)"
      ]
     },
     "execution_count": 83,
     "metadata": {},
     "output_type": "execute_result"
    }
   ],
   "source": [
    "set2df1.county.unique()"
   ]
  },
  {
   "cell_type": "code",
   "execution_count": 82,
   "id": "d0c786c7",
   "metadata": {},
   "outputs": [],
   "source": [
    "set2df1.to_csv(wdpath+'\\\\Corrected_by_Set\\\\Set2_2017-20220601.csv', index=False)"
   ]
  },
  {
   "cell_type": "code",
   "execution_count": 86,
   "id": "98f4bb93",
   "metadata": {},
   "outputs": [],
   "source": [
    "set3df = wd_df[(wd_df.SetID==3)]"
   ]
  },
  {
   "cell_type": "code",
   "execution_count": 101,
   "id": "0b8c2c76",
   "metadata": {},
   "outputs": [
    {
     "data": {
      "text/plain": [
       "array(['Columbia', 'Grant', 'Klamath', 'Lincoln', 'Tillamook',\n",
       "       'TIllamook'], dtype=object)"
      ]
     },
     "execution_count": 101,
     "metadata": {},
     "output_type": "execute_result"
    }
   ],
   "source": [
    "set3df.county.unique()"
   ]
  },
  {
   "cell_type": "code",
   "execution_count": 85,
   "id": "3c3e560a",
   "metadata": {},
   "outputs": [],
   "source": [
    "cor_set3_0 = pd.read_excel(inpath+'\\\\output\\\\corrected\\\\corrected_Set003.xlsx')"
   ]
  },
  {
   "cell_type": "code",
   "execution_count": 87,
   "id": "c5d48a1a",
   "metadata": {},
   "outputs": [],
   "source": [
    "to_cor_set3 = set3df[set3df.record_ID.isin(cor_set3_0.record_ID.values)]"
   ]
  },
  {
   "cell_type": "code",
   "execution_count": 88,
   "id": "61b11e81",
   "metadata": {},
   "outputs": [],
   "source": [
    "to_cor_set3.trsqq = to_cor_set3.record_ID.map(dict(zip(cor_set3_0.record_ID, cor_set3_0.trsqq)))\n",
    "to_cor_set3.county = to_cor_set3.record_ID.map(dict(zip(cor_set3_0.record_ID, cor_set3_0.county)))"
   ]
  },
  {
   "cell_type": "code",
   "execution_count": 91,
   "id": "ffb61940",
   "metadata": {},
   "outputs": [
    {
     "data": {
      "text/plain": [
       "'800,900,1000'"
      ]
     },
     "execution_count": 91,
     "metadata": {},
     "output_type": "execute_result"
    }
   ],
   "source": [
    "to_cor_set3.loc[to_cor_set3.record_ID==2162, 'parcel_id'].values[0]"
   ]
  },
  {
   "cell_type": "code",
   "execution_count": 92,
   "id": "b81d662b",
   "metadata": {},
   "outputs": [],
   "source": [
    "set3df1 = pd.concat([set3df[~set3df.record_ID.isin(to_cor_set3.record_ID.values)], to_cor_set3], \n",
    "                    ignore_index=True)"
   ]
  },
  {
   "cell_type": "code",
   "execution_count": 97,
   "id": "0e5a9a73",
   "metadata": {},
   "outputs": [],
   "source": [
    "set3df1.loc[set3df1.county=='TIllamook', 'county'] = 'Tillamook'"
   ]
  },
  {
   "cell_type": "code",
   "execution_count": 102,
   "id": "e05e6fcc",
   "metadata": {},
   "outputs": [
    {
     "data": {
      "text/plain": [
       "array(['Columbia', 'Grant', 'Klamath', 'Lincoln', 'Tillamook', 'Lane'],\n",
       "      dtype=object)"
      ]
     },
     "execution_count": 102,
     "metadata": {},
     "output_type": "execute_result"
    }
   ],
   "source": [
    "set3df1.county.unique()"
   ]
  },
  {
   "cell_type": "code",
   "execution_count": 124,
   "id": "900bd379",
   "metadata": {},
   "outputs": [],
   "source": [
    "set3df1 = set3df1.sort_values(by=['record_ID'])"
   ]
  },
  {
   "cell_type": "code",
   "execution_count": 125,
   "id": "807a2e4d",
   "metadata": {},
   "outputs": [],
   "source": [
    "set3df1.to_csv(wdpath+'\\\\Corrected_by_Set\\\\Set3_2017-20220601.csv', index=False)"
   ]
  },
  {
   "cell_type": "code",
   "execution_count": 12,
   "id": "e3213a48",
   "metadata": {},
   "outputs": [],
   "source": [
    "cor_set4_0 = pd.read_csv(inpath+'\\\\output\\\\corrected\\\\corrected_Set004.csv')"
   ]
  },
  {
   "cell_type": "code",
   "execution_count": 99,
   "id": "9865575e",
   "metadata": {},
   "outputs": [],
   "source": [
    "set4df = wd_df[(wd_df.SetID==4)]"
   ]
  },
  {
   "cell_type": "code",
   "execution_count": 103,
   "id": "8c421b51",
   "metadata": {},
   "outputs": [],
   "source": [
    "to_cor_set4 = set4df[set4df.record_ID.isin(cor_set4_0.record_ID.values)]"
   ]
  },
  {
   "cell_type": "code",
   "execution_count": 104,
   "id": "77b14066",
   "metadata": {},
   "outputs": [],
   "source": [
    "selrid1 = cor_set4_0.loc[cor_set4_0.field=='trsqq', 'record_ID'].values\n",
    "selrid2 = cor_set4_0.loc[cor_set4_0.field=='county', 'record_ID'].values"
   ]
  },
  {
   "cell_type": "code",
   "execution_count": 120,
   "id": "e3664381",
   "metadata": {},
   "outputs": [],
   "source": [
    "to_cor_set4.loc[to_cor_set4.record_ID.isin(selrid1), 'trsqq'] = to_cor_set4[to_cor_set4.record_ID.isin(selrid1)].record_ID.map(dict(zip(cor_set4_0.record_ID, cor_set4_0.trsqq)))"
   ]
  },
  {
   "cell_type": "code",
   "execution_count": 118,
   "id": "0771a92a",
   "metadata": {},
   "outputs": [],
   "source": [
    "to_cor_set4.loc[to_cor_set4.record_ID.isin(selrid2), 'county'] = to_cor_set4[to_cor_set4.record_ID.isin(selrid2)].record_ID.map(dict(zip(cor_set4_0.record_ID, cor_set4_0.to)))"
   ]
  },
  {
   "cell_type": "code",
   "execution_count": 123,
   "id": "60399ea8",
   "metadata": {},
   "outputs": [],
   "source": [
    "set4df1 = pd.concat([set4df[~set4df.record_ID.isin(to_cor_set4.record_ID.values)], to_cor_set4], \n",
    "                    ignore_index=True)\n",
    "set4df1 = set4df1.sort_values(by=['record_ID'])\n",
    "set4df1.to_csv(wdpath+'\\\\Corrected_by_Set\\\\Set4_2017-20220601.csv', index=False)"
   ]
  },
  {
   "cell_type": "code",
   "execution_count": 29,
   "id": "d5e09f95",
   "metadata": {},
   "outputs": [],
   "source": [
    "set4df1 = pd.read_csv(wdpath+'\\\\Corrected_by_Set\\\\Set004.csv')"
   ]
  },
  {
   "cell_type": "code",
   "execution_count": 30,
   "id": "44ce9ba7",
   "metadata": {},
   "outputs": [
    {
     "data": {
      "text/plain": [
       "array(['Crook', 'Curry', 'Hood River', 'Jefferson', 'Linn', 'Benton',\n",
       "       'Multnomah', 'Washington', 'Wasco', 'Yamhill',\n",
       "       'Yamhill and Washington'], dtype=object)"
      ]
     },
     "execution_count": 30,
     "metadata": {},
     "output_type": "execute_result"
    }
   ],
   "source": [
    "set4df1.county.unique()"
   ]
  },
  {
   "cell_type": "code",
   "execution_count": 31,
   "id": "3dcde983",
   "metadata": {},
   "outputs": [],
   "source": [
    "set4df1.loc[set4df1.county == 'Yamhill and Washington', 'county'] = 'Yamhill'"
   ]
  },
  {
   "cell_type": "code",
   "execution_count": 32,
   "id": "10970027",
   "metadata": {},
   "outputs": [],
   "source": [
    "set4df1.to_csv(wdpath+'\\\\Corrected_by_Set\\\\Set004.csv', index=False)"
   ]
  },
  {
   "cell_type": "code",
   "execution_count": 14,
   "id": "7eb41dd0",
   "metadata": {},
   "outputs": [],
   "source": [
    "cor_set5_0 = pd.read_excel(inpath+'\\\\output\\\\corrected\\\\corrected_Set005.xlsx')\n",
    "set5df = wd_df[(wd_df.SetID==5)]\n",
    "to_cor_set5 = set5df[set5df.record_ID.isin(cor_set5_0.record_ID.values)]"
   ]
  },
  {
   "cell_type": "code",
   "execution_count": 6,
   "id": "d6c3ac0d",
   "metadata": {},
   "outputs": [],
   "source": [
    "selrid1 = cor_set5_0.loc[cor_set5_0.field=='trsqq', 'record_ID'].values\n",
    "selrid2 = cor_set5_0.loc[cor_set5_0.field=='parcel_id', 'record_ID'].values"
   ]
  },
  {
   "cell_type": "code",
   "execution_count": 13,
   "id": "2435395b",
   "metadata": {},
   "outputs": [
    {
     "data": {
      "text/plain": [
       "Index(['wetdet_delin_number', 'record_ID', 'field', 'cor_type', 'from', 'to',\n",
       "       'trsqq', 'parcel_id'],\n",
       "      dtype='object')"
      ]
     },
     "execution_count": 13,
     "metadata": {},
     "output_type": "execute_result"
    }
   ],
   "source": [
    "cor_set4_0.columns"
   ]
  },
  {
   "cell_type": "code",
   "execution_count": 11,
   "id": "d4f32f69",
   "metadata": {},
   "outputs": [
    {
     "data": {
      "text/plain": [
       "Index(['wetdet_delin_number', 'record_ID', 'field', 'cor_type', 'from', 'to'], dtype='object')"
      ]
     },
     "execution_count": 11,
     "metadata": {},
     "output_type": "execute_result"
    }
   ],
   "source": [
    "cor_set5_0.columns"
   ]
  },
  {
   "cell_type": "code",
   "execution_count": 9,
   "id": "67fa7e67",
   "metadata": {},
   "outputs": [
    {
     "data": {
      "text/plain": [
       "True"
      ]
     },
     "execution_count": 9,
     "metadata": {},
     "output_type": "execute_result"
    }
   ],
   "source": [
    "'trsqq' in to_cor_set5.columns"
   ]
  },
  {
   "cell_type": "code",
   "execution_count": 17,
   "id": "7a234d78",
   "metadata": {},
   "outputs": [],
   "source": [
    "df = cor_set5_0[cor_set5_0.record_ID.isin(selrid1)][['record_ID', 'trsqq']].drop_duplicates()"
   ]
  },
  {
   "cell_type": "code",
   "execution_count": 18,
   "id": "8aa7d69e",
   "metadata": {},
   "outputs": [],
   "source": [
    "to_cor_set5.loc[to_cor_set5.record_ID.isin(selrid1), 'trsqq'] = to_cor_set5[to_cor_set5.record_ID.isin(selrid1)].record_ID.map(dict(zip(df.record_ID, df.trsqq)))"
   ]
  },
  {
   "cell_type": "code",
   "execution_count": 19,
   "id": "8ebe1567",
   "metadata": {},
   "outputs": [],
   "source": [
    "df1 = cor_set5_0[cor_set5_0.record_ID.isin(selrid2)][['record_ID', 'parcel_id']].drop_duplicates()"
   ]
  },
  {
   "cell_type": "code",
   "execution_count": 20,
   "id": "f56fe3fc",
   "metadata": {},
   "outputs": [],
   "source": [
    "to_cor_set5.loc[to_cor_set5.record_ID.isin(selrid2), 'parcel_id'] = to_cor_set5[to_cor_set5.record_ID.isin(selrid2)].record_ID.map(dict(zip(df1.record_ID, df1.parcel_id)))"
   ]
  },
  {
   "cell_type": "code",
   "execution_count": 21,
   "id": "1458a3c2",
   "metadata": {},
   "outputs": [],
   "source": [
    "set5df1 = pd.concat([set5df[~set5df.record_ID.isin(to_cor_set5.record_ID.values)], to_cor_set5], ignore_index=True)\n",
    "set5df1 = set5df1.sort_values(by=['record_ID'])"
   ]
  },
  {
   "cell_type": "code",
   "execution_count": 34,
   "id": "657e0591",
   "metadata": {},
   "outputs": [],
   "source": [
    "#Set5_2017-20221231.csv\n",
    "set5df1.to_csv(wdpath+'\\\\Corrected_by_Set\\\\Set005.csv', index=False) # adjusted the name to Set00*, same as above"
   ]
  },
  {
   "cell_type": "code",
   "execution_count": 23,
   "id": "020a620f",
   "metadata": {},
   "outputs": [],
   "source": [
    "dtset5 = pd.read_csv(wdpath+'\\\\Corrected_by_Set\\\\Set005.csv')"
   ]
  },
  {
   "cell_type": "code",
   "execution_count": 27,
   "id": "0c4e47fd",
   "metadata": {
    "scrolled": true
   },
   "outputs": [
    {
     "data": {
      "text/plain": [
       "'2017'"
      ]
     },
     "execution_count": 27,
     "metadata": {},
     "output_type": "execute_result"
    }
   ],
   "source": [
    "dtset5.received_date.values[0].split('-')[0]"
   ]
  },
  {
   "cell_type": "code",
   "execution_count": 4,
   "id": "a0c9b6f3",
   "metadata": {},
   "outputs": [],
   "source": [
    "cor_set6_0 = pd.read_excel(inpath+'\\\\output\\\\corrected\\\\corrected_Set006.xlsx')\n",
    "set6df = wd_df[(wd_df.SetID==6)]\n",
    "to_cor_set6 = set6df[set6df.record_ID.isin(cor_set6_0.record_ID.values)]"
   ]
  },
  {
   "cell_type": "code",
   "execution_count": 5,
   "id": "7e98af02",
   "metadata": {},
   "outputs": [
    {
     "data": {
      "text/html": [
       "<div>\n",
       "<style scoped>\n",
       "    .dataframe tbody tr th:only-of-type {\n",
       "        vertical-align: middle;\n",
       "    }\n",
       "\n",
       "    .dataframe tbody tr th {\n",
       "        vertical-align: top;\n",
       "    }\n",
       "\n",
       "    .dataframe thead th {\n",
       "        text-align: right;\n",
       "    }\n",
       "</style>\n",
       "<table border=\"1\" class=\"dataframe\">\n",
       "  <thead>\n",
       "    <tr style=\"text-align: right;\">\n",
       "      <th></th>\n",
       "      <th>wetdet_delin_number</th>\n",
       "      <th>record_ID</th>\n",
       "      <th>trsqq</th>\n",
       "      <th>county</th>\n",
       "      <th>parcel_id</th>\n",
       "      <th>field</th>\n",
       "      <th>cor_type</th>\n",
       "      <th>from</th>\n",
       "      <th>to</th>\n",
       "    </tr>\n",
       "  </thead>\n",
       "  <tbody>\n",
       "    <tr>\n",
       "      <th>0</th>\n",
       "      <td>WD2022-0448</td>\n",
       "      <td>4666</td>\n",
       "      <td>NaN</td>\n",
       "      <td>NaN</td>\n",
       "      <td>100.0</td>\n",
       "      <td>parcel_id</td>\n",
       "      <td>parcel id</td>\n",
       "      <td>102103</td>\n",
       "      <td>100</td>\n",
       "    </tr>\n",
       "    <tr>\n",
       "      <th>1</th>\n",
       "      <td>WD2022-0636</td>\n",
       "      <td>4773</td>\n",
       "      <td>NaN</td>\n",
       "      <td>Linn</td>\n",
       "      <td>NaN</td>\n",
       "      <td>county</td>\n",
       "      <td>county</td>\n",
       "      <td>Marion</td>\n",
       "      <td>Linn</td>\n",
       "    </tr>\n",
       "    <tr>\n",
       "      <th>2</th>\n",
       "      <td>WD2022-0489</td>\n",
       "      <td>4509</td>\n",
       "      <td>09S35VE</td>\n",
       "      <td>NaN</td>\n",
       "      <td>NaN</td>\n",
       "      <td>trsqq</td>\n",
       "      <td>range direction</td>\n",
       "      <td>0.5</td>\n",
       "      <td>V</td>\n",
       "    </tr>\n",
       "    <tr>\n",
       "      <th>3</th>\n",
       "      <td>WD2022-0483</td>\n",
       "      <td>4475</td>\n",
       "      <td>17S12E35</td>\n",
       "      <td>NaN</td>\n",
       "      <td>NaN</td>\n",
       "      <td>trsqq</td>\n",
       "      <td>QQ</td>\n",
       "      <td>DC</td>\n",
       "      <td>0</td>\n",
       "    </tr>\n",
       "    <tr>\n",
       "      <th>4</th>\n",
       "      <td>WD2022-0436</td>\n",
       "      <td>4845</td>\n",
       "      <td>03N24E</td>\n",
       "      <td>NaN</td>\n",
       "      <td>NaN</td>\n",
       "      <td>trsqq</td>\n",
       "      <td>section number</td>\n",
       "      <td>28</td>\n",
       "      <td>0</td>\n",
       "    </tr>\n",
       "    <tr>\n",
       "      <th>5</th>\n",
       "      <td>WD2022-0604</td>\n",
       "      <td>4635</td>\n",
       "      <td>36S06W24A0</td>\n",
       "      <td>NaN</td>\n",
       "      <td>NaN</td>\n",
       "      <td>trsqq</td>\n",
       "      <td>QQ</td>\n",
       "      <td>0</td>\n",
       "      <td>A0</td>\n",
       "    </tr>\n",
       "    <tr>\n",
       "      <th>6</th>\n",
       "      <td>WD2022-0695</td>\n",
       "      <td>4674</td>\n",
       "      <td>17S03W30A0</td>\n",
       "      <td>NaN</td>\n",
       "      <td>NaN</td>\n",
       "      <td>trsqq</td>\n",
       "      <td>QQ</td>\n",
       "      <td>0</td>\n",
       "      <td>A0</td>\n",
       "    </tr>\n",
       "    <tr>\n",
       "      <th>7</th>\n",
       "      <td>WD2022-0474</td>\n",
       "      <td>4468</td>\n",
       "      <td>32S15W32C0</td>\n",
       "      <td>NaN</td>\n",
       "      <td>NaN</td>\n",
       "      <td>trsqq</td>\n",
       "      <td>QQ</td>\n",
       "      <td>0</td>\n",
       "      <td>C0</td>\n",
       "    </tr>\n",
       "    <tr>\n",
       "      <th>8</th>\n",
       "      <td>WD2022-0435</td>\n",
       "      <td>4439</td>\n",
       "      <td>08N10W25</td>\n",
       "      <td>NaN</td>\n",
       "      <td>NaN</td>\n",
       "      <td>trsqq</td>\n",
       "      <td>QQ</td>\n",
       "      <td>D0</td>\n",
       "      <td>0</td>\n",
       "    </tr>\n",
       "    <tr>\n",
       "      <th>9</th>\n",
       "      <td>WD2022-0398</td>\n",
       "      <td>4871</td>\n",
       "      <td>01S24E</td>\n",
       "      <td>NaN</td>\n",
       "      <td>NaN</td>\n",
       "      <td>trsqq</td>\n",
       "      <td>section number, QQ</td>\n",
       "      <td>D01</td>\n",
       "      <td>0</td>\n",
       "    </tr>\n",
       "    <tr>\n",
       "      <th>10</th>\n",
       "      <td>WD2022-0398</td>\n",
       "      <td>4860</td>\n",
       "      <td>01S24E</td>\n",
       "      <td>NaN</td>\n",
       "      <td>NaN</td>\n",
       "      <td>trsqq</td>\n",
       "      <td>section number, QQ</td>\n",
       "      <td>D01</td>\n",
       "      <td>0</td>\n",
       "    </tr>\n",
       "  </tbody>\n",
       "</table>\n",
       "</div>"
      ],
      "text/plain": [
       "   wetdet_delin_number  record_ID       trsqq county  parcel_id      field  \\\n",
       "0          WD2022-0448       4666         NaN    NaN      100.0  parcel_id   \n",
       "1          WD2022-0636       4773         NaN   Linn        NaN     county   \n",
       "2          WD2022-0489       4509     09S35VE    NaN        NaN      trsqq   \n",
       "3          WD2022-0483       4475    17S12E35    NaN        NaN      trsqq   \n",
       "4          WD2022-0436       4845      03N24E    NaN        NaN      trsqq   \n",
       "5          WD2022-0604       4635  36S06W24A0    NaN        NaN      trsqq   \n",
       "6          WD2022-0695       4674  17S03W30A0    NaN        NaN      trsqq   \n",
       "7          WD2022-0474       4468  32S15W32C0    NaN        NaN      trsqq   \n",
       "8          WD2022-0435       4439    08N10W25    NaN        NaN      trsqq   \n",
       "9          WD2022-0398       4871      01S24E    NaN        NaN      trsqq   \n",
       "10         WD2022-0398       4860      01S24E    NaN        NaN      trsqq   \n",
       "\n",
       "              cor_type    from    to  \n",
       "0            parcel id  102103   100  \n",
       "1               county  Marion  Linn  \n",
       "2      range direction     0.5     V  \n",
       "3                   QQ      DC     0  \n",
       "4       section number      28     0  \n",
       "5                   QQ       0    A0  \n",
       "6                   QQ       0    A0  \n",
       "7                   QQ       0    C0  \n",
       "8                   QQ      D0     0  \n",
       "9   section number, QQ     D01     0  \n",
       "10  section number, QQ     D01     0  "
      ]
     },
     "execution_count": 5,
     "metadata": {},
     "output_type": "execute_result"
    }
   ],
   "source": [
    "cor_set6_0"
   ]
  },
  {
   "cell_type": "code",
   "execution_count": 6,
   "id": "4f93aa29",
   "metadata": {},
   "outputs": [],
   "source": [
    "selrid = cor_set6_0.loc[cor_set6_0.field=='trsqq', 'record_ID'].values"
   ]
  },
  {
   "cell_type": "code",
   "execution_count": 7,
   "id": "12683ea5",
   "metadata": {},
   "outputs": [],
   "source": [
    "df = cor_set6_0[cor_set6_0.record_ID.isin(selrid)][['record_ID', 'trsqq']].drop_duplicates()"
   ]
  },
  {
   "cell_type": "code",
   "execution_count": 8,
   "id": "14a2a795",
   "metadata": {},
   "outputs": [],
   "source": [
    "to_cor_set6.loc[to_cor_set6.record_ID.isin(selrid), 'trsqq'] = to_cor_set6[to_cor_set6.record_ID.isin(selrid)].record_ID.map(dict(zip(df.record_ID, df.trsqq)))"
   ]
  },
  {
   "cell_type": "code",
   "execution_count": 10,
   "id": "33b1209e",
   "metadata": {},
   "outputs": [],
   "source": [
    "to_cor_set6.loc[to_cor_set6.record_ID==4666, 'parcel_id'] = '100'"
   ]
  },
  {
   "cell_type": "code",
   "execution_count": 12,
   "id": "b8d74be6",
   "metadata": {},
   "outputs": [],
   "source": [
    "to_cor_set6.loc[to_cor_set6.record_ID==4773, 'county'] = 'Linn'"
   ]
  },
  {
   "cell_type": "code",
   "execution_count": 13,
   "id": "8f7c86dd",
   "metadata": {},
   "outputs": [],
   "source": [
    "set6df1 = pd.concat([set6df[~set6df.record_ID.isin(to_cor_set6.record_ID.values)], to_cor_set6], ignore_index=True)\n",
    "set6df1 = set6df1.sort_values(by=['record_ID'])"
   ]
  },
  {
   "cell_type": "code",
   "execution_count": 14,
   "id": "5c86c337",
   "metadata": {},
   "outputs": [],
   "source": [
    "set6df1.to_csv(wdpath+'\\\\Corrected_by_Set\\\\Set006.csv', index=False)"
   ]
  }
 ],
 "metadata": {
  "kernelspec": {
   "display_name": "Python 3",
   "language": "python",
   "name": "python3"
  },
  "language_info": {
   "codemirror_mode": {
    "name": "ipython",
    "version": 3
   },
   "file_extension": ".py",
   "mimetype": "text/x-python",
   "name": "python",
   "nbconvert_exporter": "python",
   "pygments_lexer": "ipython3",
   "version": "3.8.8"
  }
 },
 "nbformat": 4,
 "nbformat_minor": 5
}
