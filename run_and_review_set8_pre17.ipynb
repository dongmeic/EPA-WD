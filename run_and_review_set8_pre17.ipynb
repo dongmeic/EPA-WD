{
 "cells": [
  {
   "cell_type": "code",
   "execution_count": 1,
   "id": "b5fb740d",
   "metadata": {},
   "outputs": [],
   "source": [
    "%load_ext autoreload\n",
    "%autoreload 2"
   ]
  },
  {
   "cell_type": "code",
   "execution_count": 2,
   "id": "f4728754",
   "metadata": {},
   "outputs": [],
   "source": [
    "from wdtools import *"
   ]
  },
  {
   "cell_type": "code",
   "execution_count": 3,
   "id": "a19bb634",
   "metadata": {},
   "outputs": [
    {
     "name": "stdout",
     "output_type": "stream",
     "text": [
      "2011\n",
      "2012\n",
      "2013\n",
      "2014\n",
      "2015\n",
      "2016\n",
      "it took 0.0 minutes to complete\n"
     ]
    }
   ],
   "source": [
    "# counties listed should have the same years available\n",
    "start = time.time()\n",
    "Lake_taxlot = combine_taxlot(yearstart=2011, yearend=2017, all_counties=False, counties=['Lake'])\n",
    "end = time.time()\n",
    "print(f'it took {round((end - start)/60, 0)} minutes to complete')"
   ]
  },
  {
   "cell_type": "code",
   "execution_count": 4,
   "id": "d30ed2a5",
   "metadata": {},
   "outputs": [
    {
     "name": "stdout",
     "output_type": "stream",
     "text": [
      "2009\n",
      "2011\n",
      "2012\n",
      "2014\n",
      "2015\n",
      "2016\n"
     ]
    }
   ],
   "source": [
    "Marion_taxlot = combine_taxlot(yearstart=2009, yearend=2017, skips=[2010, 2013], all_counties=False, counties=['Marion'])"
   ]
  },
  {
   "cell_type": "code",
   "execution_count": 5,
   "id": "937e0ada",
   "metadata": {},
   "outputs": [],
   "source": [
    "all_taxlot = Lake_taxlot.append(Marion_taxlot)"
   ]
  },
  {
   "cell_type": "code",
   "execution_count": 48,
   "id": "2dbf336a",
   "metadata": {},
   "outputs": [
    {
     "data": {
      "text/plain": [
       "Index(['year', 'county', 'ORTaxlot', 'geometry'], dtype='object')"
      ]
     },
     "execution_count": 48,
     "metadata": {},
     "output_type": "execute_result"
    }
   ],
   "source": [
    "all_taxlot.columns"
   ]
  },
  {
   "cell_type": "code",
   "execution_count": 6,
   "id": "cc9d5e7b",
   "metadata": {
    "scrolled": true
   },
   "outputs": [
    {
     "data": {
      "text/plain": [
       "(837009, 4)"
      ]
     },
     "execution_count": 6,
     "metadata": {},
     "output_type": "execute_result"
    }
   ],
   "source": [
    "all_taxlot.shape"
   ]
  },
  {
   "cell_type": "code",
   "execution_count": 7,
   "id": "a40037db",
   "metadata": {},
   "outputs": [],
   "source": [
    "n=8"
   ]
  },
  {
   "cell_type": "code",
   "execution_count": 8,
   "id": "146fa5d9",
   "metadata": {},
   "outputs": [],
   "source": [
    "wd_df = get_all_wd(num=n-1)"
   ]
  },
  {
   "cell_type": "code",
   "execution_count": 9,
   "id": "f7a81760",
   "metadata": {},
   "outputs": [
    {
     "data": {
      "text/plain": [
       "Index(['wetdet_delin_number', 'trsqq', 'parcel_id', 'address_location_desc',\n",
       "       'city', 'county', 'site_name', 'site_desc', 'latitude', 'longitude',\n",
       "       'Coord-Source', 'DocumentName', 'DecisionLink', 'is_batch_file',\n",
       "       'status_name', 'received_date', 'response_date',\n",
       "       'reissuance_response_date', 'project_id', 'site_id', 'record_ID',\n",
       "       'notes', 'recyear', 'IDyear', 'missinglot', 'SetID'],\n",
       "      dtype='object')"
      ]
     },
     "execution_count": 9,
     "metadata": {},
     "output_type": "execute_result"
    }
   ],
   "source": [
    "wd_df.columns"
   ]
  },
  {
   "cell_type": "code",
   "execution_count": 10,
   "id": "84811db0",
   "metadata": {},
   "outputs": [
    {
     "data": {
      "text/plain": [
       "(5402, 26)"
      ]
     },
     "execution_count": 10,
     "metadata": {},
     "output_type": "execute_result"
    }
   ],
   "source": [
    "wd_df.shape"
   ]
  },
  {
   "cell_type": "code",
   "execution_count": 11,
   "id": "6f280e0b",
   "metadata": {
    "scrolled": true
   },
   "outputs": [],
   "source": [
    "setID = 'Set00'+str(n); nm_to_add = wd_df.shape[0]"
   ]
  },
  {
   "cell_type": "code",
   "execution_count": 12,
   "id": "00a56412",
   "metadata": {},
   "outputs": [],
   "source": [
    "wd = combine_wd_tables(setID=setID, nm_to_add=nm_to_add)"
   ]
  },
  {
   "cell_type": "code",
   "execution_count": 13,
   "id": "b7030a57",
   "metadata": {},
   "outputs": [
    {
     "data": {
      "text/plain": [
       "array(['Lake', 'LAKE', 'Marion', 'MARION'], dtype=object)"
      ]
     },
     "execution_count": 13,
     "metadata": {},
     "output_type": "execute_result"
    }
   ],
   "source": [
    "wd.county.unique()"
   ]
  },
  {
   "cell_type": "code",
   "execution_count": 14,
   "id": "5757147e",
   "metadata": {},
   "outputs": [],
   "source": [
    "wd.loc[:, 'county'] = wd.county.apply(lambda x: x.capitalize())"
   ]
  },
  {
   "cell_type": "code",
   "execution_count": 15,
   "id": "95c76e50",
   "metadata": {},
   "outputs": [
    {
     "data": {
      "text/plain": [
       "county\n",
       "Lake       33\n",
       "Marion    262\n",
       "Name: wetdet_delin_number, dtype: int64"
      ]
     },
     "execution_count": 15,
     "metadata": {},
     "output_type": "execute_result"
    }
   ],
   "source": [
    "wd.groupby(['county'])['wetdet_delin_number'].nunique()"
   ]
  },
  {
   "cell_type": "code",
   "execution_count": 16,
   "id": "4f99eae1",
   "metadata": {},
   "outputs": [
    {
     "data": {
      "text/plain": [
       "0      0\n",
       "1      0\n",
       "2      0\n",
       "3      0\n",
       "4      0\n",
       "      ..\n",
       "454    0\n",
       "455    0\n",
       "456    0\n",
       "457    0\n",
       "458    0\n",
       "Name: trsqq, Length: 459, dtype: int64"
      ]
     },
     "execution_count": 16,
     "metadata": {},
     "output_type": "execute_result"
    }
   ],
   "source": [
    "wd.trsqq.apply(lambda x: scan_trsqq(x))"
   ]
  },
  {
   "cell_type": "code",
   "execution_count": 51,
   "id": "ab96dd80",
   "metadata": {
    "scrolled": true
   },
   "outputs": [
    {
     "name": "stdout",
     "output_type": "stream",
     "text": [
      "it took 3.0 minutes to complete\n",
      "it is about 7.19% of data in the original 459 records unmatched\n",
      "there are 1 records (0.22% of the original records) without parcel id\n"
     ]
    }
   ],
   "source": [
    "wdf, setgdf, unmatched_df = run_Tier1(setID=setID, nm_to_add=nm_to_add, all_taxlot=all_taxlot)"
   ]
  },
  {
   "cell_type": "code",
   "execution_count": 40,
   "id": "b3906b28",
   "metadata": {},
   "outputs": [
    {
     "data": {
      "text/plain": [
       "(459, 25)"
      ]
     },
     "execution_count": 40,
     "metadata": {},
     "output_type": "execute_result"
    }
   ],
   "source": [
    "wdf.shape"
   ]
  },
  {
   "cell_type": "code",
   "execution_count": 52,
   "id": "20416239",
   "metadata": {},
   "outputs": [
    {
     "data": {
      "text/plain": [
       "(33, 25)"
      ]
     },
     "execution_count": 52,
     "metadata": {},
     "output_type": "execute_result"
    }
   ],
   "source": [
    "unmatched_df.shape"
   ]
  },
  {
   "cell_type": "code",
   "execution_count": 53,
   "id": "863ed4bc",
   "metadata": {},
   "outputs": [
    {
     "data": {
      "text/plain": [
       "19"
      ]
     },
     "execution_count": 53,
     "metadata": {},
     "output_type": "execute_result"
    }
   ],
   "source": [
    "len(unmatched_df.wetdet_delin_number.unique())"
   ]
  },
  {
   "cell_type": "code",
   "execution_count": 21,
   "id": "fa7edf39",
   "metadata": {},
   "outputs": [
    {
     "data": {
      "text/plain": [
       "Index(['wdID', 'trsqq', 'parcel_id', 'loc_desc', 'city', 'county', 'site_name',\n",
       "       'site_desc', 'latitude', 'longitude', 'coord_src', 'doc_name',\n",
       "       'doc_link', 'isbatfile', 'status_nm', 'receiveddt', 'responsedt',\n",
       "       'reissuance', 'project_id', 'site_id', 'record_ID', 'notes', 'recyear',\n",
       "       'IDyear', 'missinglot', 'lots', 'lot', 'cnt_code', 'ORTaxlot',\n",
       "       'geometry'],\n",
       "      dtype='object')"
      ]
     },
     "execution_count": 21,
     "metadata": {},
     "output_type": "execute_result"
    }
   ],
   "source": [
    "setgdf.columns"
   ]
  },
  {
   "cell_type": "code",
   "execution_count": 22,
   "id": "8ac9eb44",
   "metadata": {},
   "outputs": [
    {
     "data": {
      "text/plain": [
       "(831, 30)"
      ]
     },
     "execution_count": 22,
     "metadata": {},
     "output_type": "execute_result"
    }
   ],
   "source": [
    "setgdf.shape"
   ]
  },
  {
   "cell_type": "code",
   "execution_count": 23,
   "id": "68c077f9",
   "metadata": {},
   "outputs": [
    {
     "data": {
      "text/plain": [
       "276"
      ]
     },
     "execution_count": 23,
     "metadata": {},
     "output_type": "execute_result"
    }
   ],
   "source": [
    "len(setgdf.wdID.unique())"
   ]
  },
  {
   "cell_type": "code",
   "execution_count": 54,
   "id": "942fd61d",
   "metadata": {},
   "outputs": [
    {
     "data": {
      "text/plain": [
       "array(['Y', 'N', nan], dtype=object)"
      ]
     },
     "execution_count": 54,
     "metadata": {},
     "output_type": "execute_result"
    }
   ],
   "source": [
    "unmatched_df.missinglot.unique()"
   ]
  },
  {
   "cell_type": "code",
   "execution_count": 55,
   "id": "f4c4319b",
   "metadata": {},
   "outputs": [
    {
     "name": "stdout",
     "output_type": "stream",
     "text": [
      "reviewing WD2011-0023\n",
      "all lots are matched...\n",
      "corrected trsqq...\n",
      "reviewing WD2010-0305\n",
      "all lots are matched...\n",
      "corrected trsqq...\n",
      "reviewing WD2010-0015\n",
      "all lots are matched...\n",
      "corrected trsqq...\n",
      "reviewing WD2008-0098\n",
      "all lots are matched...\n",
      "corrected trsqq...\n",
      "reviewing WD2012-0175\n",
      "some lots are not matched, need to review trsqq, the close-match is 09S03E30DA\n",
      "lots to check: ['100', '102', '3600'], and lots to compare: ['100', '200', '300', '400', '500', '600', '700', '1100', '1300', '1400', '1500', '1600', '1700', '1800', '2000', '2100', '2200', '2300', '2400', '2500', '2700', '2701', '2800', '3000', '3400', '3500', '3600', '3700', '3800', 'ROADS', 'WATER']\n",
      "reviewing WD2013-0362\n",
      "coordinate might be incorrect, nearby taxlot is 2410.00S03.00W2400--0000WATER, about 27313 ft away\n"
     ]
    }
   ],
   "source": [
    "r1_df, r2_df = run_Tier2_step1(setID=setID, unmatched_df=unmatched_df, all_taxlot=all_taxlot)"
   ]
  },
  {
   "cell_type": "code",
   "execution_count": 58,
   "id": "75229615",
   "metadata": {},
   "outputs": [
    {
     "name": "stdout",
     "output_type": "stream",
     "text": [
      "it is about 5.66% of data in the original 459 records unmatched\n",
      "there are 1 records (0.22% of the original records) without parcel id\n"
     ]
    }
   ],
   "source": [
    "matched, unmatched_df2 = run_Tier2_step3(r1_df=r1_df, r2_df=r2_df, setID=setID, nm_to_add=nm_to_add, \n",
    "                                        wd=wdf, all_taxlot=all_taxlot)"
   ]
  },
  {
   "cell_type": "code",
   "execution_count": 56,
   "id": "d3406534",
   "metadata": {
    "scrolled": false
   },
   "outputs": [
    {
     "name": "stdout",
     "output_type": "stream",
     "text": [
      "0.0% digitized, 19 records remained, expected to be done in about 5 hours...\n",
      "WD2011-0335\n",
      "index = 248\n",
      "     county       trsqq parcel_id   latitude   longitude  record_ID notes  \\\n",
      "247  Marion   05S02W12C      MANY  45.151031 -122.880669       5650  Many   \n",
      "245  Marion  05S01W07CB      MANY  45.151031 -122.880669       5648  Many   \n",
      "244  Marion  05S02W12BB      MANY  45.151031 -122.880669       5647  Many   \n",
      "250  Marion   05S02W12A      MANY  45.151031 -122.880669       5653  Many   \n",
      "248  Marion  05S02W12BC      MANY  45.151031 -122.880669       5651  Many   \n",
      "246  Marion  05S02W12DB      MANY  45.151031 -122.880669       5649  Many   \n",
      "\n",
      "    missinglot status_name is_batch_file  \n",
      "247          Y    Approved             N  \n",
      "245          Y    Approved             N  \n",
      "244          Y    Approved             N  \n",
      "250          Y    Approved             N  \n",
      "248          Y    Approved             N  \n",
      "246          Y    Approved             N  \n",
      "Press 'p' to pause or any key to stop...s\n"
     ]
    }
   ],
   "source": [
    "review_loop_r1(df=unmatched_df2, partial=True, idx=True)"
   ]
  }
 ],
 "metadata": {
  "kernelspec": {
   "display_name": "Python 3",
   "language": "python",
   "name": "python3"
  },
  "language_info": {
   "codemirror_mode": {
    "name": "ipython",
    "version": 3
   },
   "file_extension": ".py",
   "mimetype": "text/x-python",
   "name": "python",
   "nbconvert_exporter": "python",
   "pygments_lexer": "ipython3",
   "version": "3.8.8"
  }
 },
 "nbformat": 4,
 "nbformat_minor": 5
}
