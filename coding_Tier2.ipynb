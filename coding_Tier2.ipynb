{
 "cells": [
  {
   "cell_type": "code",
   "execution_count": 1,
   "id": "2ec323fc",
   "metadata": {},
   "outputs": [],
   "source": [
    "from wdtools import *"
   ]
  },
  {
   "cell_type": "code",
   "execution_count": 2,
   "id": "68e53807",
   "metadata": {},
   "outputs": [
    {
     "name": "stdout",
     "output_type": "stream",
     "text": [
      "it took 7.0 minutes to complete\n"
     ]
    }
   ],
   "source": [
    "# this can take about 7 minutes\n",
    "start = time.time()\n",
    "all_taxlot = combine_taxlot()\n",
    "end = time.time()\n",
    "print(f'it took {round((end - start)/60, 0)} minutes to complete')"
   ]
  },
  {
   "cell_type": "code",
   "execution_count": 103,
   "id": "2841fcfc",
   "metadata": {},
   "outputs": [],
   "source": [
    "setID = 'Set003'\n",
    "nm_to_add = 2143"
   ]
  },
  {
   "cell_type": "code",
   "execution_count": 104,
   "id": "648cdfd5",
   "metadata": {},
   "outputs": [],
   "source": [
    "df = combined_reindexed_data(setID=setID, nm_to_add=nm_to_add) "
   ]
  },
  {
   "cell_type": "code",
   "execution_count": 105,
   "id": "5f7b194c",
   "metadata": {},
   "outputs": [],
   "source": [
    "# export = False\n",
    "gdf = match_wd_data_with_taxlot(df=df, setID=setID, all_taxlot=all_taxlot, nm_to_add=nm_to_add, export=False)"
   ]
  },
  {
   "cell_type": "code",
   "execution_count": 106,
   "id": "f542be31",
   "metadata": {},
   "outputs": [
    {
     "name": "stdout",
     "output_type": "stream",
     "text": [
      "it is about 12.38% of data in the original 735 records unmatched\n",
      "there are 0 records (0.0% of the original records) without parcel id\n"
     ]
    }
   ],
   "source": [
    "unmatched_df = report_unmatched(gdf=gdf, setID=setID, nm_to_add=nm_to_add, mute = False)"
   ]
  },
  {
   "cell_type": "code",
   "execution_count": 118,
   "id": "99f8165d",
   "metadata": {},
   "outputs": [],
   "source": [
    "unmatched_df = unmatched_df.sort_values(by=['wetdet_delin_number'], ascending=False, key=lambda x: x.map(x.value_counts()))"
   ]
  },
  {
   "cell_type": "code",
   "execution_count": 119,
   "id": "fc3be465",
   "metadata": {},
   "outputs": [],
   "source": [
    "unmatched_df.to_csv(os.path.join(inpath + '\\\\output\\\\to_review\\\\', f'unmatched_df_{setID}.csv'), index=False) "
   ]
  },
  {
   "cell_type": "code",
   "execution_count": 16,
   "id": "16321bb3",
   "metadata": {},
   "outputs": [],
   "source": [
    "def get_lot_number_from_taxlot(x):\n",
    "    return int(x.split('--')[1])"
   ]
  },
  {
   "cell_type": "code",
   "execution_count": 102,
   "id": "1b4b18c6",
   "metadata": {},
   "outputs": [],
   "source": [
    "# this function only works when the coordinates are accurate and one-on-one match among WD ID, trsqq, parcel IDs, and coordinate\n",
    "# limitation - one WD record (possible with multiple records with different trasqq and parcel IDs) has only one coordindate\n",
    "def review_wd_record_w_coord(wd_id, county_to_check, trsqq_to_check, parcel_IDs_to_check, lon, lat, taxlot, year):\n",
    "        print(f'reviewing {wd_id}')\n",
    "        wd_pt  = get_point_from_lonlat(lon = lon, lat = lat)\n",
    "        tID = extract_taxlot_info(wd_pt = wd_pt, taxlot = taxlot, year = year)\n",
    "        trsqq, trsqq_dict, df = read_trsqq()\n",
    "        trsqq_to_check_c = pad_string(trsqq_to_check)\n",
    "        if \"away\" not in tID:\n",
    "            trsqq_to_compare = trsqq_dict[tID]\n",
    "            trsqq_to_compare_c = pad_string(trsqq_to_compare)\n",
    "            if trsqq_to_compare_c == trsqq_to_check_c:\n",
    "                print(\"trsqq matched, checking county code...\")\n",
    "                cnty_code = int(get_county_code_from_lonlat(lon, lat))\n",
    "                county_to_compare = [key for key, value in cnt_dict.items() if value == cnty_code]\n",
    "                # need to check the typos in the county name first\n",
    "                if county_to_check == county_to_compare[0]:\n",
    "                    print(\"county code is corrected, need to check lot numbers...\")\n",
    "                    lots_to_check = [int(x) for x in get_lot_numbers(parcel_IDs_to_check)]\n",
    "                    lots_to_compare = df.loc[df.trsqq==trsqq_to_compare, 'ORTaxlot'].values\n",
    "                    lots_to_compare = list(map(get_lot_number_from_taxlot, lots_to_compare))\n",
    "                    if any([x not in lots_to_compare for x in lots_to_check]):\n",
    "                        lots_to_correct = [x for x in lots_to_check if x not in lots_to_compare]\n",
    "                        cor_type, cor_notes = \"lot number\", f'lot number {lots_to_correct} might be incorrect'\n",
    "                        print(\"lot numbers might be wrong...\")\n",
    "                    else:\n",
    "                        print('lot numbers seem to be correct, need some review')\n",
    "                        cor_type, cor_notes = None, None\n",
    "                else:\n",
    "                    cor_type, cor_notes = \"county\", f'from {county_to_check} to {county_to_compare}'\n",
    "                    print(\"corrected county...\")\n",
    "            else:\n",
    "                cor_type, cor_notes = report_trsqq_correction(trsqq_to_check_c, trsqq_to_compare_c)\n",
    "                print(\"corrected trsqq...\")\n",
    "        else:\n",
    "            cor_type, cor_notes = \"coordinate\", f'coordinate might be incorrect, nearby taxlot is {tID}'\n",
    "        return cor_type, cor_notes"
   ]
  },
  {
   "cell_type": "code",
   "execution_count": 101,
   "id": "6af28112",
   "metadata": {},
   "outputs": [],
   "source": [
    "def report_trsqq_correction(trsqq_to_check, trsqq_to_compare, to_correct=False):\n",
    "    diff_idx, correct_trsqq_elements, errors = compare_trsqq(trsqq_to_check, trsqq_to_compare)\n",
    "    if len(diff_idx) == 1:\n",
    "        keylist = trsqq_correction_dict[diff_idx[0]]\n",
    "        res = f'from {errors} to {correct_trsqq_elements}'\n",
    "        if to_correct:\n",
    "            return trsqq_to_compare\n",
    "        else:\n",
    "            return keylist, res\n",
    "    else:\n",
    "        keylist = [trsqq_correction_dict.get(key) for key in diff_idx]\n",
    "        if len(keylist) == 2:\n",
    "            joined_keys = ' and '.join(keylist)\n",
    "            joined_errors = ' and '.join(errors)\n",
    "            joined_corrections = ' and '.join(correct_trsqq_elements)\n",
    "            res = f'from {joined_errors} to {joined_corrections}'\n",
    "        else:\n",
    "            joined_keys = join_list_elements(keylist)\n",
    "            res = f'from {join_list_elements(errors)} to {join_list_elements(correct_trsqq_elements)}'\n",
    "        if to_correct:\n",
    "            return trsqq_to_compare\n",
    "        else:\n",
    "            return joined_keys, res"
   ]
  },
  {
   "cell_type": "code",
   "execution_count": 97,
   "id": "17c06ee5",
   "metadata": {},
   "outputs": [],
   "source": [
    "def correct_trsqq(trsqq_to_check, lon, lat, taxlot, year):\n",
    "    #print(trsqq_to_check)\n",
    "    wd_pt  = get_point_from_lonlat(lon = lon, lat = lat)\n",
    "    tID = extract_taxlot_info(wd_pt = wd_pt, taxlot = taxlot, year = year)\n",
    "    trsqq, trsqq_dict, df = read_trsqq()\n",
    "    trsqq_to_check_c = pad_string(trsqq_to_check)\n",
    "    trsqq_to_compare = trsqq_dict[tID]\n",
    "    trsqq_to_compare_c = pad_string(trsqq_to_compare)\n",
    "    res = report_trsqq_correction(trsqq_to_check_c, trsqq_to_compare_c, to_correct=True)    \n",
    "    return res, tID"
   ]
  },
  {
   "cell_type": "code",
   "execution_count": 67,
   "id": "f960dc9e",
   "metadata": {},
   "outputs": [
    {
     "name": "stdout",
     "output_type": "stream",
     "text": [
      "reviewing record WD2017-0177\n"
     ]
    }
   ],
   "source": [
    "res = review_wd_record(record_ID='WD2017-0177', \n",
    "                       county_to_check='Columbia', \n",
    "                       trsqq_to_check='05N01W34CD', \n",
    "                       parcel_IDs_to_check=parcel_IDs_to_check, \n",
    "                       lon=lon, \n",
    "                       lat=lat, \n",
    "                       taxlot=all_taxlot, \n",
    "                       year=year)"
   ]
  },
  {
   "cell_type": "code",
   "execution_count": 68,
   "id": "40b3eb3a",
   "metadata": {
    "scrolled": true
   },
   "outputs": [
    {
     "data": {
      "text/plain": [
       "(['section number', 'QQ'],\n",
       " 'section number and QQ are corrected from 34 and CD to 05 and 00 respectively')"
      ]
     },
     "execution_count": 68,
     "metadata": {},
     "output_type": "execute_result"
    }
   ],
   "source": [
    "res"
   ]
  },
  {
   "cell_type": "code",
   "execution_count": 37,
   "id": "41f29ff6",
   "metadata": {},
   "outputs": [],
   "source": [
    "def compare_trsqq(trsqq_to_check, trsqq_to_compare):\n",
    "    numbers1, letters1 = separate_numbers_letters(trsqq_to_check[:-2])\n",
    "    numbers2, letters2 = separate_numbers_letters(trsqq_to_compare[:-2])\n",
    "    letters1.append(trsqq_to_check[-2:])\n",
    "    letters2.append(trsqq_to_compare[-2:])\n",
    "    trsqq_to_check_lst = remove_tuple_format(combine_lists(numbers1, letters1))\n",
    "    trsqq_to_compare_lst = remove_tuple_format(combine_lists(numbers2, letters2))\n",
    "    diff_idx = find_different_indices(trsqq_to_check_lst, trsqq_to_compare_lst)\n",
    "    if len(diff_idx) != 0:\n",
    "        if len(diff_idx) == 1:\n",
    "            correct_trsqq_elements = trsqq_to_compare_lst[diff_idx[0]]\n",
    "            errors = trsqq_to_check_lst[diff_idx[0]]\n",
    "        else:\n",
    "            correct_trsqq_elements = get_list_elements_by_index(trsqq_to_compare_lst, diff_idx)\n",
    "            errors = get_list_elements_by_index(trsqq_to_check_lst, diff_idx)\n",
    "    return diff_idx, correct_trsqq_elements, errors"
   ]
  },
  {
   "cell_type": "code",
   "execution_count": 52,
   "id": "0caa8e60",
   "metadata": {},
   "outputs": [],
   "source": [
    "trsqq_to_check='05N01W34CD'; trsqq_to_compare='05N01W0500'"
   ]
  },
  {
   "cell_type": "code",
   "execution_count": 53,
   "id": "4390c564",
   "metadata": {},
   "outputs": [],
   "source": [
    "numbers1, letters1 = separate_numbers_letters(trsqq_to_check[:-2])\n",
    "numbers2, letters2 = separate_numbers_letters(trsqq_to_compare[:-2])\n",
    "letters1.append(trsqq_to_check[-2:])\n",
    "letters2.append(trsqq_to_compare[-2:])\n",
    "trsqq_to_check_lst = remove_tuple_format(combine_lists(numbers1, letters1))\n",
    "trsqq_to_compare_lst = remove_tuple_format(combine_lists(numbers2, letters2))\n",
    "diff_idx = find_different_indices(trsqq_to_check_lst, trsqq_to_compare_lst)"
   ]
  },
  {
   "cell_type": "code",
   "execution_count": 29,
   "id": "89f173c6",
   "metadata": {},
   "outputs": [],
   "source": [
    "setID = 'Set003'"
   ]
  },
  {
   "cell_type": "code",
   "execution_count": 108,
   "id": "7b158063",
   "metadata": {},
   "outputs": [],
   "source": [
    "unmatched = pd.read_csv(os.path.join(inpath + '\\\\output\\\\to_review\\\\', f'unmatched_df_{setID}.csv'))"
   ]
  },
  {
   "cell_type": "code",
   "execution_count": 31,
   "id": "39578900",
   "metadata": {
    "scrolled": true
   },
   "outputs": [
    {
     "data": {
      "text/plain": [
       "Index(['wetdet_delin_number', 'trsqq', 'parcel_id', 'address_location_desc',\n",
       "       'city', 'county', 'site_name', 'site_desc', 'latitude', 'longitude',\n",
       "       'Coord-Source', 'DocumentName', 'DecisionLink', 'is_batch_file',\n",
       "       'status_name', 'received_date', 'response_date',\n",
       "       'reissuance_response_date', 'project_id', 'site_id', 'record_ID',\n",
       "       'notes', 'recyear', 'IDyear', 'missinglot'],\n",
       "      dtype='object')"
      ]
     },
     "execution_count": 31,
     "metadata": {},
     "output_type": "execute_result"
    }
   ],
   "source": [
    "unmatched.columns"
   ]
  },
  {
   "cell_type": "code",
   "execution_count": 109,
   "id": "37b9e0d5",
   "metadata": {},
   "outputs": [
    {
     "data": {
      "text/plain": [
       "(91, 25)"
      ]
     },
     "execution_count": 109,
     "metadata": {},
     "output_type": "execute_result"
    }
   ],
   "source": [
    "unmatched.shape"
   ]
  },
  {
   "cell_type": "code",
   "execution_count": 110,
   "id": "f134d50a",
   "metadata": {},
   "outputs": [],
   "source": [
    "to_review = unmatched[((unmatched.latitude.astype(str) != 'nan')|(unmatched.longitude.astype(str) != 'nan')) & (unmatched.missinglot == 'N')]"
   ]
  },
  {
   "cell_type": "code",
   "execution_count": 111,
   "id": "413587aa",
   "metadata": {},
   "outputs": [
    {
     "data": {
      "text/plain": [
       "(50, 25)"
      ]
     },
     "execution_count": 111,
     "metadata": {},
     "output_type": "execute_result"
    }
   ],
   "source": [
    "to_review.shape"
   ]
  },
  {
   "cell_type": "code",
   "execution_count": 112,
   "id": "2db56884",
   "metadata": {},
   "outputs": [],
   "source": [
    "outdf = to_review[['wetdet_delin_number', 'trsqq', 'parcel_id', 'county', 'latitude', 'longitude', 'DecisionLink', 'record_ID', 'IDyear']]"
   ]
  },
  {
   "cell_type": "code",
   "execution_count": 113,
   "id": "044f3b5e",
   "metadata": {
    "scrolled": true
   },
   "outputs": [
    {
     "name": "stdout",
     "output_type": "stream",
     "text": [
      "reviewing record 2155\n",
      "reviewing record 2159\n",
      "reviewing record 2162\n",
      "reviewing record 2261\n",
      "reviewing record 2262\n",
      "reviewing record 2263\n",
      "reviewing record 2264\n",
      "reviewing record 2265\n",
      "reviewing record 2266\n",
      "reviewing record 2392\n",
      "reviewing record 2426\n",
      "reviewing record 2427\n",
      "reviewing record 2428\n",
      "reviewing record 2429\n",
      "reviewing record 2430\n",
      "reviewing record 2431\n",
      "reviewing record 2432\n",
      "reviewing record 2433\n",
      "reviewing record 2434\n",
      "reviewing record 2435\n",
      "reviewing record 2436\n",
      "reviewing record 2437\n",
      "reviewing record 2438\n",
      "reviewing record 2439\n",
      "reviewing record 2440\n",
      "reviewing record 2441\n",
      "reviewing record 2442\n",
      "reviewing record 2443\n",
      "reviewing record 2444\n",
      "reviewing record 2445\n",
      "reviewing record 2446\n",
      "reviewing record 2447\n",
      "reviewing record 2448\n",
      "reviewing record 2449\n",
      "reviewing record 2450\n",
      "reviewing record 2451\n",
      "reviewing record 2452\n",
      "reviewing record 2453\n",
      "reviewing record 2454\n",
      "reviewing record 2455\n",
      "reviewing record 2456\n",
      "reviewing record 2457\n",
      "reviewing record 2467\n",
      "reviewing record 2525\n",
      "reviewing record 2537\n",
      "reviewing record 2642\n",
      "reviewing record 2660\n",
      "reviewing record 2681\n",
      "reviewing record 2682\n",
      "trsqq matched, checking county code...\n",
      "corrected county ...\n",
      "reviewing record 2777\n"
     ]
    },
    {
     "name": "stderr",
     "output_type": "stream",
     "text": [
      "C:\\Users\\clid1852\\AppData\\Anaconda3\\envs\\geoenv\\lib\\site-packages\\pandas\\core\\indexing.py:1597: SettingWithCopyWarning: \n",
      "A value is trying to be set on a copy of a slice from a DataFrame.\n",
      "Try using .loc[row_indexer,col_indexer] = value instead\n",
      "\n",
      "See the caveats in the documentation: https://pandas.pydata.org/pandas-docs/stable/user_guide/indexing.html#returning-a-view-versus-a-copy\n",
      "  self.obj[key] = value\n",
      "C:\\Users\\clid1852\\AppData\\Anaconda3\\envs\\geoenv\\lib\\site-packages\\pandas\\core\\indexing.py:1676: SettingWithCopyWarning: \n",
      "A value is trying to be set on a copy of a slice from a DataFrame.\n",
      "Try using .loc[row_indexer,col_indexer] = value instead\n",
      "\n",
      "See the caveats in the documentation: https://pandas.pydata.org/pandas-docs/stable/user_guide/indexing.html#returning-a-view-versus-a-copy\n",
      "  self._setitem_single_column(ilocs[0], value, pi)\n"
     ]
    }
   ],
   "source": [
    "outdf.loc[:,'correct_type'], outdf.loc[:,'correction'] = zip(*outdf.apply(lambda row: review_wd_record_w_coord(wd_id = row.wetdet_delin_number, \n",
    "                                                                        county_to_check = row.county, \n",
    "                                                                        trsqq_to_check = row.trsqq, \n",
    "                                                                        parcel_IDs_to_check = row.parcel_id, \n",
    "                                                                        lon = row.longitude, \n",
    "                                                                        lat = row.latitude, \n",
    "                                                                        taxlot = all_taxlot, \n",
    "                                                                        year = row.IDyear), axis = 1))"
   ]
  },
  {
   "cell_type": "code",
   "execution_count": 114,
   "id": "57ebc849",
   "metadata": {},
   "outputs": [],
   "source": [
    "sel = ~outdf.correct_type.isin(['county', 'lot number', 'coordinate'])"
   ]
  },
  {
   "cell_type": "code",
   "execution_count": 115,
   "id": "cacde801",
   "metadata": {},
   "outputs": [
    {
     "name": "stdout",
     "output_type": "stream",
     "text": [
      "05N01W34CD\n",
      "05N02W27\n",
      "07N02W17CC\n",
      "08S04W23\n",
      "08S04W15\n",
      "08S04W23B\n",
      "08S04W22\n",
      "08S04W21\n",
      "08S04W16\n",
      "24S09E00\n",
      "39S09W09\n",
      "39S09W08\n",
      "39S09W05D\n",
      "39S09W13\n",
      "39S09W14AA\n",
      "39S09W15\n",
      "39S09W13A\n",
      "39S09W13AA\n",
      "39S09W15BD\n",
      "39S09W13AB\n",
      "39S09W13BB\n",
      "39S09W14\n",
      "39S09W14AC\n",
      "39S09W14BD\n",
      "39S09W14AA\n",
      "39S09W14AA\n",
      "39S09W14AB\n",
      "39S09W14BC\n",
      "39S09W14BC\n",
      "39S09W14BB\n",
      "39S09W15AC\n",
      "39S09W14BA\n",
      "39S09W14AC\n",
      "39S09W13BB\n",
      "39S09W08D\n",
      "39S09W15BB\n",
      "39S09W16\n",
      "39S09W08\n",
      "39S09W08C\n",
      "39S09W09C\n",
      "39S09W16B\n",
      "39S09W15BC\n",
      "33S07E00\n",
      "33S07E03\n",
      "33S07E03\n",
      "7S11W22CD\n",
      "06S11W35C\n",
      "18S12W02B\n",
      "03S10W18\n"
     ]
    },
    {
     "name": "stderr",
     "output_type": "stream",
     "text": [
      "C:\\Users\\clid1852\\AppData\\Anaconda3\\envs\\geoenv\\lib\\site-packages\\pandas\\core\\indexing.py:1599: SettingWithCopyWarning: \n",
      "A value is trying to be set on a copy of a slice from a DataFrame.\n",
      "Try using .loc[row_indexer,col_indexer] = value instead\n",
      "\n",
      "See the caveats in the documentation: https://pandas.pydata.org/pandas-docs/stable/user_guide/indexing.html#returning-a-view-versus-a-copy\n",
      "  self.obj[key] = infer_fill_value(value)\n",
      "C:\\Users\\clid1852\\AppData\\Anaconda3\\envs\\geoenv\\lib\\site-packages\\pandas\\core\\indexing.py:1676: SettingWithCopyWarning: \n",
      "A value is trying to be set on a copy of a slice from a DataFrame.\n",
      "Try using .loc[row_indexer,col_indexer] = value instead\n",
      "\n",
      "See the caveats in the documentation: https://pandas.pydata.org/pandas-docs/stable/user_guide/indexing.html#returning-a-view-versus-a-copy\n",
      "  self._setitem_single_column(ilocs[0], value, pi)\n"
     ]
    }
   ],
   "source": [
    "outdf.loc[sel, 'cor_trsqq'], outdf.loc[sel, 'ORMAP_tID'] = zip(*outdf.loc[sel,:].apply(lambda row: correct_trsqq(trsqq_to_check = row.trsqq, \n",
    "                                                                               lon = row.longitude,\n",
    "                                                                               lat = row.latitude,\n",
    "                                                                               taxlot = all_taxlot,\n",
    "                                                                               year = row.IDyear), axis = 1))"
   ]
  },
  {
   "cell_type": "code",
   "execution_count": 100,
   "id": "a98d0d72",
   "metadata": {},
   "outputs": [],
   "source": [
    "outdf.to_excel(os.path.join(inpath + '\\\\output\\\\to_review\\\\', f'review_unmatched_{setID}.xlsx'), index=False)"
   ]
  }
 ],
 "metadata": {
  "kernelspec": {
   "display_name": "Python 3",
   "language": "python",
   "name": "python3"
  },
  "language_info": {
   "codemirror_mode": {
    "name": "ipython",
    "version": 3
   },
   "file_extension": ".py",
   "mimetype": "text/x-python",
   "name": "python",
   "nbconvert_exporter": "python",
   "pygments_lexer": "ipython3",
   "version": "3.8.8"
  }
 },
 "nbformat": 4,
 "nbformat_minor": 5
}
