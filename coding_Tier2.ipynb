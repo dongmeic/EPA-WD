{
 "cells": [
  {
   "cell_type": "code",
   "execution_count": 1,
   "id": "5af97fe1",
   "metadata": {},
   "outputs": [],
   "source": [
    "from wdtools import *"
   ]
  },
  {
   "cell_type": "code",
   "execution_count": 2,
   "id": "8d7c3acd",
   "metadata": {},
   "outputs": [
    {
     "name": "stdout",
     "output_type": "stream",
     "text": [
      "it took 7.0 minutes to complete\n"
     ]
    }
   ],
   "source": [
    "# this can take about 7 minutes\n",
    "start = time.time()\n",
    "all_taxlot = combine_taxlot()\n",
    "end = time.time()\n",
    "print(f'it took {round((end - start)/60, 0)} minutes to complete')"
   ]
  },
  {
   "cell_type": "code",
   "execution_count": 3,
   "id": "35575d3f",
   "metadata": {},
   "outputs": [],
   "source": [
    "setID = 'Set003'\n",
    "nm_to_add = 2143"
   ]
  },
  {
   "cell_type": "code",
   "execution_count": 4,
   "id": "c2e67920",
   "metadata": {},
   "outputs": [],
   "source": [
    "df = combined_reindexed_data(setID=setID, nm_to_add=nm_to_add) "
   ]
  },
  {
   "cell_type": "code",
   "execution_count": 5,
   "id": "68201388",
   "metadata": {},
   "outputs": [],
   "source": [
    "# export = False\n",
    "gdf = match_wd_data_with_taxlot(df=df, setID=setID, all_taxlot=all_taxlot, nm_to_add=nm_to_add, export=False)"
   ]
  },
  {
   "cell_type": "code",
   "execution_count": 6,
   "id": "348532cd",
   "metadata": {},
   "outputs": [
    {
     "name": "stdout",
     "output_type": "stream",
     "text": [
      "it is about 12.38% of data in the original 735 records unmatched\n",
      "there are 0 records (0.0% of the original records) without parcel id\n"
     ]
    }
   ],
   "source": [
    "unmatched_df = report_unmatched(gdf=gdf, setID=setID, nm_to_add=nm_to_add, mute = False)"
   ]
  },
  {
   "cell_type": "code",
   "execution_count": 7,
   "id": "04989867",
   "metadata": {},
   "outputs": [],
   "source": [
    "unmatched_df = unmatched_df.sort_values(by=['wetdet_delin_number'], ascending=False, key=lambda x: x.map(x.value_counts()))"
   ]
  },
  {
   "cell_type": "code",
   "execution_count": 119,
   "id": "6a6305ba",
   "metadata": {},
   "outputs": [],
   "source": [
    "unmatched_df.to_csv(os.path.join(inpath + '\\\\output\\\\to_review\\\\', f'unmatched_df_{setID}.csv'), index=False) "
   ]
  },
  {
   "cell_type": "code",
   "execution_count": 249,
   "id": "c99dbfd7",
   "metadata": {},
   "outputs": [],
   "source": [
    "wd_id = 'WD2017-0177'\n",
    "county_to_check = 'Columbia'\n",
    "trsqq_to_check = '05N01W34CD'\n",
    "parcel_IDs_to_check = '600,700,800,All part'\n",
    "lon = -122.798881\n",
    "lat = 45.868417\n",
    "taxlot = all_taxlot\n",
    "year = '2017'"
   ]
  },
  {
   "cell_type": "code",
   "execution_count": 254,
   "id": "bb68c0e7",
   "metadata": {},
   "outputs": [],
   "source": [
    "wd_pt  = get_point_from_lonlat(lon = lon, lat = lat)\n",
    "tID = extract_taxlot_info(wd_pt = wd_pt, taxlot = taxlot, year = year)\n",
    "trsqq, trsqq_dict, df = read_trsqq()\n",
    "trsqq_to_check_c = pad_string(trsqq_to_check)\n",
    "lots_to_check = [x for x in get_lot_numbers(parcel_IDs_to_check)]\n",
    "trsqq_to_compare = trsqq_dict[tID]\n",
    "trsqq_to_compare_c = pad_string(trsqq_to_compare)\n",
    "lots_to_compare = df.loc[df.trsqq==trsqq_to_compare, 'ORTaxlot'].values\n",
    "lots_to_compare = list(map(get_lot_number_from_taxlot, lots_to_compare))"
   ]
  },
  {
   "cell_type": "code",
   "execution_count": 258,
   "id": "7f0d7ab0",
   "metadata": {},
   "outputs": [
    {
     "name": "stdout",
     "output_type": "stream",
     "text": [
      "reviewing WD2017-0177\n",
      "all lots are matched...\n",
      "corrected trsqq...\n"
     ]
    },
    {
     "data": {
      "text/plain": [
       "('section number and QQ', 'from 34 and CD to 05 and 00')"
      ]
     },
     "execution_count": 258,
     "metadata": {},
     "output_type": "execute_result"
    }
   ],
   "source": [
    "review_wd_record_w_coord(wd_id, county_to_check, trsqq_to_check, parcel_IDs_to_check, lon, lat, taxlot, year)"
   ]
  },
  {
   "cell_type": "code",
   "execution_count": 68,
   "id": "a20e036b",
   "metadata": {
    "scrolled": true
   },
   "outputs": [
    {
     "data": {
      "text/plain": [
       "(['section number', 'QQ'],\n",
       " 'section number and QQ are corrected from 34 and CD to 05 and 00 respectively')"
      ]
     },
     "execution_count": 68,
     "metadata": {},
     "output_type": "execute_result"
    }
   ],
   "source": [
    "res"
   ]
  },
  {
   "cell_type": "code",
   "execution_count": 52,
   "id": "7cb11d0a",
   "metadata": {},
   "outputs": [],
   "source": [
    "trsqq_to_check='05N01W34CD'; trsqq_to_compare='05N01W0500'"
   ]
  },
  {
   "cell_type": "code",
   "execution_count": 53,
   "id": "0bb4441a",
   "metadata": {},
   "outputs": [],
   "source": [
    "numbers1, letters1 = separate_numbers_letters(trsqq_to_check[:-2])\n",
    "numbers2, letters2 = separate_numbers_letters(trsqq_to_compare[:-2])\n",
    "letters1.append(trsqq_to_check[-2:])\n",
    "letters2.append(trsqq_to_compare[-2:])\n",
    "trsqq_to_check_lst = remove_tuple_format(combine_lists(numbers1, letters1))\n",
    "trsqq_to_compare_lst = remove_tuple_format(combine_lists(numbers2, letters2))\n",
    "diff_idx = find_different_indices(trsqq_to_check_lst, trsqq_to_compare_lst)"
   ]
  },
  {
   "cell_type": "code",
   "execution_count": 13,
   "id": "79d7c08f",
   "metadata": {},
   "outputs": [],
   "source": [
    "unmatched = pd.read_excel(os.path.join(inpath + '\\\\output\\\\to_review\\\\', f'unmatched_df_{setID}_r2.xlsx'))"
   ]
  },
  {
   "cell_type": "code",
   "execution_count": 121,
   "id": "565978f3",
   "metadata": {
    "scrolled": true
   },
   "outputs": [
    {
     "data": {
      "text/plain": [
       "Index(['wetdet_delin_number', 'trsqq', 'parcel_id', 'address_location_desc',\n",
       "       'city', 'county', 'site_name', 'site_desc', 'latitude', 'longitude',\n",
       "       'Coord-Source', 'DocumentName', 'DecisionLink', 'is_batch_file',\n",
       "       'status_name', 'received_date', 'response_date',\n",
       "       'reissuance_response_date', 'project_id', 'site_id', 'record_ID',\n",
       "       'notes', 'recyear', 'IDyear', 'missinglot'],\n",
       "      dtype='object')"
      ]
     },
     "execution_count": 121,
     "metadata": {},
     "output_type": "execute_result"
    }
   ],
   "source": [
    "unmatched.columns"
   ]
  },
  {
   "cell_type": "code",
   "execution_count": 122,
   "id": "b67387a8",
   "metadata": {},
   "outputs": [
    {
     "data": {
      "text/plain": [
       "(11, 25)"
      ]
     },
     "execution_count": 122,
     "metadata": {},
     "output_type": "execute_result"
    }
   ],
   "source": [
    "unmatched.shape"
   ]
  },
  {
   "cell_type": "code",
   "execution_count": 14,
   "id": "a546bad5",
   "metadata": {},
   "outputs": [],
   "source": [
    "to_review = unmatched[((unmatched.latitude.astype(str) != 'nan')|(unmatched.longitude.astype(str) != 'nan')) & (unmatched.missinglot == 'N')]"
   ]
  },
  {
   "cell_type": "code",
   "execution_count": 128,
   "id": "96c6d7d3",
   "metadata": {},
   "outputs": [
    {
     "data": {
      "text/plain": [
       "(10, 25)"
      ]
     },
     "execution_count": 128,
     "metadata": {},
     "output_type": "execute_result"
    }
   ],
   "source": [
    "to_review.shape"
   ]
  },
  {
   "cell_type": "code",
   "execution_count": 15,
   "id": "ba9ac16c",
   "metadata": {},
   "outputs": [],
   "source": [
    "outdf = to_review[['wetdet_delin_number', 'trsqq', 'parcel_id', 'county', 'latitude', 'longitude', 'DecisionLink', 'record_ID', 'IDyear']]"
   ]
  },
  {
   "cell_type": "code",
   "execution_count": 17,
   "id": "f10d7c79",
   "metadata": {},
   "outputs": [
    {
     "data": {
      "text/plain": [
       "array(['3000p', '106p', 8009001000, '6000p', 5602, 1100, 201, '300p', 300,\n",
       "       '600,700,800,All part'], dtype=object)"
      ]
     },
     "execution_count": 17,
     "metadata": {},
     "output_type": "execute_result"
    }
   ],
   "source": [
    "outdf.parcel_id.values"
   ]
  },
  {
   "cell_type": "code",
   "execution_count": 22,
   "id": "b2135ad7",
   "metadata": {
    "scrolled": true
   },
   "outputs": [
    {
     "name": "stdout",
     "output_type": "stream",
     "text": [
      "reviewing WD2019-0512\n",
      "all lots are matched...\n",
      "corrected trsqq...\n",
      "reviewing WD2021-0192\n",
      "there is not any matched lot, need to review trsqq, the close-match is 06S11W34AD\n",
      "lots to check: ['106'], and lots to compare: ['100', '200', '300', '400', '500', '600', '700', '800', '900', '1000', '1100', '1200', '1300', '1400', '1500', '1600', '1700', '1800', '1900', '2000', '2100', '2200', '2300', '2400', '2500', '2600', '2700', '2800', '2900', '3000', '3100', '3200', '3300', '3400', '3500', '3700', '3800', '3900', '4000', '4100', '4200', '4300', '4400', '4401', '4500', '4600', '4700', '4800', '4900', '5000', '5100', '5200', '5300', '5400', '5500', '5501', 'ROW', 'ROW']\n",
      "reviewing WD2017-0267\n",
      "all lots are matched...\n",
      "corrected trsqq...\n",
      "reviewing WD2020-0265\n",
      "all lots are matched...\n",
      "corrected trsqq...\n",
      "reviewing WD2020-0261\n",
      "all lots are matched...\n",
      "corrected trsqq...\n",
      "reviewing WD2017-0214\n",
      "all lots are matched...\n",
      "corrected trsqq...\n",
      "reviewing WD2018-0242\n",
      "there is not any matched lot, need to review trsqq, the close-match is 24S09E30CD\n",
      "lots to check: ['201'], and lots to compare: ['100', '200', '300', '400', '500', '600', '700', '800', '900', '1000', '1100', '1200', '1300', '1400', '1401', '1600', '1601', '1602', '1700', '1800', '1900', '2000', '2100', '2200', '2300', '2301', '2302', '2400', '2500', '2700', '2800', '2900', '3000', '3100', '3200', '3300', '3400', '3500', '3600', '3700', '3800', '3900', '4000', '4100', '4200']\n",
      "reviewing WD2022-0018\n",
      "all lots are matched...\n",
      "corrected trsqq...\n",
      "reviewing WD2021-0269\n",
      "all lots are matched...\n",
      "corrected trsqq...\n",
      "reviewing WD2017-0177\n",
      "all lots are matched...\n",
      "corrected trsqq...\n"
     ]
    },
    {
     "name": "stderr",
     "output_type": "stream",
     "text": [
      "C:\\Users\\clid1852\\AppData\\Anaconda3\\envs\\geoenv\\lib\\site-packages\\pandas\\core\\indexing.py:1676: SettingWithCopyWarning: \n",
      "A value is trying to be set on a copy of a slice from a DataFrame.\n",
      "Try using .loc[row_indexer,col_indexer] = value instead\n",
      "\n",
      "See the caveats in the documentation: https://pandas.pydata.org/pandas-docs/stable/user_guide/indexing.html#returning-a-view-versus-a-copy\n",
      "  self._setitem_single_column(ilocs[0], value, pi)\n"
     ]
    }
   ],
   "source": [
    "outdf.loc[:,'correct_type'], outdf.loc[:,'correction'] = zip(*outdf.apply(lambda row: review_wd_record_w_coord(wd_id = row.wetdet_delin_number, \n",
    "                                                                        county_to_check = row.county, \n",
    "                                                                        trsqq_to_check = row.trsqq, \n",
    "                                                                        parcel_IDs_to_check = row.parcel_id, \n",
    "                                                                        lon = row.longitude, \n",
    "                                                                        lat = row.latitude, \n",
    "                                                                        taxlot = all_taxlot, \n",
    "                                                                        year = row.IDyear), axis = 1))"
   ]
  },
  {
   "cell_type": "code",
   "execution_count": 23,
   "id": "3a6998dd",
   "metadata": {},
   "outputs": [],
   "source": [
    "sel = ~outdf.correct_type.isin(['county', 'lot number', 'coordinate'])"
   ]
  },
  {
   "cell_type": "code",
   "execution_count": 24,
   "id": "e7392eeb",
   "metadata": {},
   "outputs": [
    {
     "name": "stderr",
     "output_type": "stream",
     "text": [
      "C:\\Users\\clid1852\\AppData\\Anaconda3\\envs\\geoenv\\lib\\site-packages\\pandas\\core\\indexing.py:1599: SettingWithCopyWarning: \n",
      "A value is trying to be set on a copy of a slice from a DataFrame.\n",
      "Try using .loc[row_indexer,col_indexer] = value instead\n",
      "\n",
      "See the caveats in the documentation: https://pandas.pydata.org/pandas-docs/stable/user_guide/indexing.html#returning-a-view-versus-a-copy\n",
      "  self.obj[key] = infer_fill_value(value)\n",
      "C:\\Users\\clid1852\\AppData\\Anaconda3\\envs\\geoenv\\lib\\site-packages\\pandas\\core\\indexing.py:1676: SettingWithCopyWarning: \n",
      "A value is trying to be set on a copy of a slice from a DataFrame.\n",
      "Try using .loc[row_indexer,col_indexer] = value instead\n",
      "\n",
      "See the caveats in the documentation: https://pandas.pydata.org/pandas-docs/stable/user_guide/indexing.html#returning-a-view-versus-a-copy\n",
      "  self._setitem_single_column(ilocs[0], value, pi)\n"
     ]
    }
   ],
   "source": [
    "outdf.loc[sel, 'cor_trsqq'], outdf.loc[sel, 'ORTaxlot'] = zip(*outdf.loc[sel,:].apply(lambda row: correct_trsqq(trsqq_to_check = row.trsqq, \n",
    "                                                                               lon = row.longitude,\n",
    "                                                                               lat = row.latitude,\n",
    "                                                                               taxlot = all_taxlot,\n",
    "                                                                               year = row.IDyear), axis = 1))"
   ]
  },
  {
   "cell_type": "code",
   "execution_count": 25,
   "id": "a2b7081d",
   "metadata": {},
   "outputs": [],
   "source": [
    "outdf.to_excel(os.path.join(inpath + '\\\\output\\\\to_review\\\\', f'review_unmatched_{setID}.xlsx'), index=False)"
   ]
  },
  {
   "cell_type": "code",
   "execution_count": 35,
   "id": "64cd74c9",
   "metadata": {},
   "outputs": [],
   "source": [
    "def review_unmatched_df_r2(df, export=False):\n",
    "    outdf = df[['wetdet_delin_number', 'trsqq', 'parcel_id', 'county', 'latitude', 'longitude', 'DecisionLink', 'record_ID', 'IDyear']]\n",
    "    outdf.loc[:,'correct_type'], outdf.loc[:,'correction'] = zip(*outdf.apply(lambda row: review_wd_record_w_coord(wd_id = row.wetdet_delin_number, \n",
    "                                                                        county_to_check = row.county, \n",
    "                                                                        trsqq_to_check = row.trsqq, \n",
    "                                                                        parcel_IDs_to_check = row.parcel_id, \n",
    "                                                                        lon = row.longitude, \n",
    "                                                                        lat = row.latitude, \n",
    "                                                                        taxlot = all_taxlot, \n",
    "                                                                        year = row.IDyear), axis = 1))\n",
    "    sel = ~outdf.correct_type.isin(['county', 'lot number', 'coordinate'])\n",
    "    outdf.loc[sel, 'cor_trsqq'], outdf.loc[sel, 'ORTaxlot'] = zip(*outdf.loc[sel,:].apply(lambda row: correct_trsqq(trsqq_to_check = row.trsqq, \n",
    "                                                                               lon = row.longitude,\n",
    "                                                                               lat = row.latitude,\n",
    "                                                                               taxlot = all_taxlot,\n",
    "                                                                               year = row.IDyear), axis = 1))\n",
    "    if export:\n",
    "        outdf.to_csv(os.path.join(inpath + '\\\\output\\\\to_review\\\\', f'review_unmatched_{setID}.csv'), index=False)\n",
    "    return outdf"
   ]
  },
  {
   "cell_type": "code",
   "execution_count": 36,
   "id": "074935fb",
   "metadata": {},
   "outputs": [
    {
     "name": "stdout",
     "output_type": "stream",
     "text": [
      "reviewing WD2019-0512\n",
      "all lots are matched...\n",
      "corrected trsqq...\n",
      "reviewing WD2021-0192\n",
      "there is not any matched lot, need to review trsqq, the close-match is 06S11W34AD\n",
      "lots to check: ['106'], and lots to compare: ['100', '200', '300', '400', '500', '600', '700', '800', '900', '1000', '1100', '1200', '1300', '1400', '1500', '1600', '1700', '1800', '1900', '2000', '2100', '2200', '2300', '2400', '2500', '2600', '2700', '2800', '2900', '3000', '3100', '3200', '3300', '3400', '3500', '3700', '3800', '3900', '4000', '4100', '4200', '4300', '4400', '4401', '4500', '4600', '4700', '4800', '4900', '5000', '5100', '5200', '5300', '5400', '5500', '5501', 'ROW', 'ROW']\n",
      "reviewing WD2017-0267\n",
      "all lots are matched...\n",
      "corrected trsqq...\n",
      "reviewing WD2020-0265\n",
      "all lots are matched...\n",
      "corrected trsqq...\n",
      "reviewing WD2020-0261\n",
      "all lots are matched...\n",
      "corrected trsqq...\n",
      "reviewing WD2017-0214\n",
      "all lots are matched...\n",
      "corrected trsqq...\n",
      "reviewing WD2018-0242\n",
      "there is not any matched lot, need to review trsqq, the close-match is 24S09E30CD\n",
      "lots to check: ['201'], and lots to compare: ['100', '200', '300', '400', '500', '600', '700', '800', '900', '1000', '1100', '1200', '1300', '1400', '1401', '1600', '1601', '1602', '1700', '1800', '1900', '2000', '2100', '2200', '2300', '2301', '2302', '2400', '2500', '2700', '2800', '2900', '3000', '3100', '3200', '3300', '3400', '3500', '3600', '3700', '3800', '3900', '4000', '4100', '4200']\n",
      "reviewing WD2022-0018\n",
      "all lots are matched...\n",
      "corrected trsqq...\n",
      "reviewing WD2021-0269\n",
      "all lots are matched...\n",
      "corrected trsqq...\n",
      "reviewing WD2017-0177\n",
      "all lots are matched...\n",
      "corrected trsqq...\n"
     ]
    },
    {
     "name": "stderr",
     "output_type": "stream",
     "text": [
      "C:\\Users\\clid1852\\AppData\\Anaconda3\\envs\\geoenv\\lib\\site-packages\\pandas\\core\\indexing.py:1597: SettingWithCopyWarning: \n",
      "A value is trying to be set on a copy of a slice from a DataFrame.\n",
      "Try using .loc[row_indexer,col_indexer] = value instead\n",
      "\n",
      "See the caveats in the documentation: https://pandas.pydata.org/pandas-docs/stable/user_guide/indexing.html#returning-a-view-versus-a-copy\n",
      "  self.obj[key] = value\n",
      "C:\\Users\\clid1852\\AppData\\Anaconda3\\envs\\geoenv\\lib\\site-packages\\pandas\\core\\indexing.py:1676: SettingWithCopyWarning: \n",
      "A value is trying to be set on a copy of a slice from a DataFrame.\n",
      "Try using .loc[row_indexer,col_indexer] = value instead\n",
      "\n",
      "See the caveats in the documentation: https://pandas.pydata.org/pandas-docs/stable/user_guide/indexing.html#returning-a-view-versus-a-copy\n",
      "  self._setitem_single_column(ilocs[0], value, pi)\n",
      "C:\\Users\\clid1852\\AppData\\Anaconda3\\envs\\geoenv\\lib\\site-packages\\pandas\\core\\indexing.py:1599: SettingWithCopyWarning: \n",
      "A value is trying to be set on a copy of a slice from a DataFrame.\n",
      "Try using .loc[row_indexer,col_indexer] = value instead\n",
      "\n",
      "See the caveats in the documentation: https://pandas.pydata.org/pandas-docs/stable/user_guide/indexing.html#returning-a-view-versus-a-copy\n",
      "  self.obj[key] = infer_fill_value(value)\n",
      "C:\\Users\\clid1852\\AppData\\Anaconda3\\envs\\geoenv\\lib\\site-packages\\pandas\\core\\indexing.py:1676: SettingWithCopyWarning: \n",
      "A value is trying to be set on a copy of a slice from a DataFrame.\n",
      "Try using .loc[row_indexer,col_indexer] = value instead\n",
      "\n",
      "See the caveats in the documentation: https://pandas.pydata.org/pandas-docs/stable/user_guide/indexing.html#returning-a-view-versus-a-copy\n",
      "  self._setitem_single_column(ilocs[0], value, pi)\n"
     ]
    },
    {
     "data": {
      "text/html": [
       "<div>\n",
       "<style scoped>\n",
       "    .dataframe tbody tr th:only-of-type {\n",
       "        vertical-align: middle;\n",
       "    }\n",
       "\n",
       "    .dataframe tbody tr th {\n",
       "        vertical-align: top;\n",
       "    }\n",
       "\n",
       "    .dataframe thead th {\n",
       "        text-align: right;\n",
       "    }\n",
       "</style>\n",
       "<table border=\"1\" class=\"dataframe\">\n",
       "  <thead>\n",
       "    <tr style=\"text-align: right;\">\n",
       "      <th></th>\n",
       "      <th>wetdet_delin_number</th>\n",
       "      <th>trsqq</th>\n",
       "      <th>parcel_id</th>\n",
       "      <th>county</th>\n",
       "      <th>latitude</th>\n",
       "      <th>longitude</th>\n",
       "      <th>DecisionLink</th>\n",
       "      <th>record_ID</th>\n",
       "      <th>IDyear</th>\n",
       "      <th>correct_type</th>\n",
       "      <th>correction</th>\n",
       "      <th>cor_trsqq</th>\n",
       "      <th>ORTaxlot</th>\n",
       "    </tr>\n",
       "  </thead>\n",
       "  <tbody>\n",
       "    <tr>\n",
       "      <th>0</th>\n",
       "      <td>WD2019-0512</td>\n",
       "      <td>33S07E00</td>\n",
       "      <td>3000p</td>\n",
       "      <td>Klamath</td>\n",
       "      <td>42.705738</td>\n",
       "      <td>-122.028364</td>\n",
       "      <td>https://docs.dsl.state.or.us/PublicReview/Elec...</td>\n",
       "      <td>2467</td>\n",
       "      <td>2019</td>\n",
       "      <td>range direction and section number</td>\n",
       "      <td>from E and 00 to VE and 0</td>\n",
       "      <td>33S07VE000</td>\n",
       "      <td>1833.00S07.50E0000--000003000</td>\n",
       "    </tr>\n",
       "    <tr>\n",
       "      <th>1</th>\n",
       "      <td>WD2021-0192</td>\n",
       "      <td>06S11W35C</td>\n",
       "      <td>106p</td>\n",
       "      <td>Lincoln</td>\n",
       "      <td>45.008654</td>\n",
       "      <td>-124.008015</td>\n",
       "      <td>https://docs.dsl.state.or.us/PublicReview/Elec...</td>\n",
       "      <td>2660</td>\n",
       "      <td>2021</td>\n",
       "      <td>to review</td>\n",
       "      <td>there is not any matched lot, need to review t...</td>\n",
       "      <td>06S11W34AD</td>\n",
       "      <td>2106.00S11.00W34AD--00000ROAD</td>\n",
       "    </tr>\n",
       "    <tr>\n",
       "      <th>2</th>\n",
       "      <td>WD2017-0267</td>\n",
       "      <td>07N02W17CC</td>\n",
       "      <td>8009001000</td>\n",
       "      <td>Columbia</td>\n",
       "      <td>46.096642</td>\n",
       "      <td>-122.964890</td>\n",
       "      <td>https://docs.dsl.state.or.us/PublicReview/docv...</td>\n",
       "      <td>2162</td>\n",
       "      <td>2017</td>\n",
       "      <td>QQ</td>\n",
       "      <td>from CC to BA</td>\n",
       "      <td>07N02W17BA</td>\n",
       "      <td>0507.00N02.00W17BA--000001400</td>\n",
       "    </tr>\n",
       "    <tr>\n",
       "      <th>4</th>\n",
       "      <td>WD2020-0265</td>\n",
       "      <td>03S10W18</td>\n",
       "      <td>6000p</td>\n",
       "      <td>Tillamook</td>\n",
       "      <td>45.315100</td>\n",
       "      <td>-123.958635</td>\n",
       "      <td>https://docs.dsl.state.or.us/PublicReview/Elec...</td>\n",
       "      <td>2777</td>\n",
       "      <td>2020</td>\n",
       "      <td>section number</td>\n",
       "      <td>from 18 to 00</td>\n",
       "      <td>03S10W0000</td>\n",
       "      <td>2903.00S10.00W0000--000006000</td>\n",
       "    </tr>\n",
       "    <tr>\n",
       "      <th>5</th>\n",
       "      <td>WD2020-0261</td>\n",
       "      <td>7S11W22CD</td>\n",
       "      <td>5602</td>\n",
       "      <td>Lincoln</td>\n",
       "      <td>44.945091</td>\n",
       "      <td>-124.022405</td>\n",
       "      <td>https://docs.dsl.state.or.us/PublicReview/docv...</td>\n",
       "      <td>2642</td>\n",
       "      <td>2020</td>\n",
       "      <td>township number and QQ</td>\n",
       "      <td>from 7 and C to 07 and CD</td>\n",
       "      <td>07S11W22CD</td>\n",
       "      <td>2107.00S11.00W22CD--000005602</td>\n",
       "    </tr>\n",
       "    <tr>\n",
       "      <th>6</th>\n",
       "      <td>WD2017-0214</td>\n",
       "      <td>05N02W27</td>\n",
       "      <td>1100</td>\n",
       "      <td>Columbia</td>\n",
       "      <td>45.887599</td>\n",
       "      <td>-122.919317</td>\n",
       "      <td>https://docs.dsl.state.or.us/PublicReview/Elec...</td>\n",
       "      <td>2159</td>\n",
       "      <td>2017</td>\n",
       "      <td>QQ</td>\n",
       "      <td>from 00 to B0</td>\n",
       "      <td>05N02W27B0</td>\n",
       "      <td>0505.00N02.00W27B0--000001100</td>\n",
       "    </tr>\n",
       "    <tr>\n",
       "      <th>7</th>\n",
       "      <td>WD2018-0242</td>\n",
       "      <td>24S09E00</td>\n",
       "      <td>201</td>\n",
       "      <td>Klamath</td>\n",
       "      <td>43.461260</td>\n",
       "      <td>-121.696353</td>\n",
       "      <td>https://docs.dsl.state.or.us/PublicReview/docv...</td>\n",
       "      <td>2392</td>\n",
       "      <td>2018</td>\n",
       "      <td>to review</td>\n",
       "      <td>there is not any matched lot, need to review t...</td>\n",
       "      <td>24S09E30CD</td>\n",
       "      <td>1824.00S09.00E30CD--000002000</td>\n",
       "    </tr>\n",
       "    <tr>\n",
       "      <th>8</th>\n",
       "      <td>WD2022-0018</td>\n",
       "      <td>33S07E03</td>\n",
       "      <td>300p</td>\n",
       "      <td>Klamath</td>\n",
       "      <td>42.689590</td>\n",
       "      <td>-121.981000</td>\n",
       "      <td>https://docs.dsl.state.or.us/PublicReview/Elec...</td>\n",
       "      <td>2537</td>\n",
       "      <td>2022</td>\n",
       "      <td>range direction and section number</td>\n",
       "      <td>from E and 03 to VE and 0</td>\n",
       "      <td>33S07VE000</td>\n",
       "      <td>1833.00S07.50E0000--000004900</td>\n",
       "    </tr>\n",
       "    <tr>\n",
       "      <th>9</th>\n",
       "      <td>WD2021-0269</td>\n",
       "      <td>33S07E03</td>\n",
       "      <td>300</td>\n",
       "      <td>Klamath</td>\n",
       "      <td>42.740143</td>\n",
       "      <td>-121.981167</td>\n",
       "      <td>https://docs.dsl.state.or.us/PublicReview/Elec...</td>\n",
       "      <td>2525</td>\n",
       "      <td>2021</td>\n",
       "      <td>range direction, section number and QQ</td>\n",
       "      <td>from E, 03 and 00 to VE, 0 and 90</td>\n",
       "      <td>33S07VE090</td>\n",
       "      <td>1833.00S07.50E0900--000000300</td>\n",
       "    </tr>\n",
       "    <tr>\n",
       "      <th>10</th>\n",
       "      <td>WD2017-0177</td>\n",
       "      <td>05N01W34CD</td>\n",
       "      <td>600,700,800,All part</td>\n",
       "      <td>Columbia</td>\n",
       "      <td>45.868417</td>\n",
       "      <td>-122.798881</td>\n",
       "      <td>https://docs.dsl.state.or.us/PublicReview/Elec...</td>\n",
       "      <td>2155</td>\n",
       "      <td>2017</td>\n",
       "      <td>section number and QQ</td>\n",
       "      <td>from 34 and CD to 05 and 00</td>\n",
       "      <td>05N01W0500</td>\n",
       "      <td>0505.00N01.00W0500--000000800</td>\n",
       "    </tr>\n",
       "  </tbody>\n",
       "</table>\n",
       "</div>"
      ],
      "text/plain": [
       "   wetdet_delin_number       trsqq             parcel_id     county  \\\n",
       "0          WD2019-0512    33S07E00                 3000p    Klamath   \n",
       "1          WD2021-0192   06S11W35C                  106p    Lincoln   \n",
       "2          WD2017-0267  07N02W17CC            8009001000   Columbia   \n",
       "4          WD2020-0265    03S10W18                 6000p  Tillamook   \n",
       "5          WD2020-0261   7S11W22CD                  5602    Lincoln   \n",
       "6          WD2017-0214    05N02W27                  1100   Columbia   \n",
       "7          WD2018-0242    24S09E00                   201    Klamath   \n",
       "8          WD2022-0018    33S07E03                  300p    Klamath   \n",
       "9          WD2021-0269    33S07E03                   300    Klamath   \n",
       "10         WD2017-0177  05N01W34CD  600,700,800,All part   Columbia   \n",
       "\n",
       "     latitude   longitude                                       DecisionLink  \\\n",
       "0   42.705738 -122.028364  https://docs.dsl.state.or.us/PublicReview/Elec...   \n",
       "1   45.008654 -124.008015  https://docs.dsl.state.or.us/PublicReview/Elec...   \n",
       "2   46.096642 -122.964890  https://docs.dsl.state.or.us/PublicReview/docv...   \n",
       "4   45.315100 -123.958635  https://docs.dsl.state.or.us/PublicReview/Elec...   \n",
       "5   44.945091 -124.022405  https://docs.dsl.state.or.us/PublicReview/docv...   \n",
       "6   45.887599 -122.919317  https://docs.dsl.state.or.us/PublicReview/Elec...   \n",
       "7   43.461260 -121.696353  https://docs.dsl.state.or.us/PublicReview/docv...   \n",
       "8   42.689590 -121.981000  https://docs.dsl.state.or.us/PublicReview/Elec...   \n",
       "9   42.740143 -121.981167  https://docs.dsl.state.or.us/PublicReview/Elec...   \n",
       "10  45.868417 -122.798881  https://docs.dsl.state.or.us/PublicReview/Elec...   \n",
       "\n",
       "    record_ID  IDyear                            correct_type  \\\n",
       "0        2467    2019      range direction and section number   \n",
       "1        2660    2021                               to review   \n",
       "2        2162    2017                                      QQ   \n",
       "4        2777    2020                          section number   \n",
       "5        2642    2020                  township number and QQ   \n",
       "6        2159    2017                                      QQ   \n",
       "7        2392    2018                               to review   \n",
       "8        2537    2022      range direction and section number   \n",
       "9        2525    2021  range direction, section number and QQ   \n",
       "10       2155    2017                   section number and QQ   \n",
       "\n",
       "                                           correction   cor_trsqq  \\\n",
       "0                           from E and 00 to VE and 0  33S07VE000   \n",
       "1   there is not any matched lot, need to review t...  06S11W34AD   \n",
       "2                                       from CC to BA  07N02W17BA   \n",
       "4                                       from 18 to 00  03S10W0000   \n",
       "5                           from 7 and C to 07 and CD  07S11W22CD   \n",
       "6                                       from 00 to B0  05N02W27B0   \n",
       "7   there is not any matched lot, need to review t...  24S09E30CD   \n",
       "8                           from E and 03 to VE and 0  33S07VE000   \n",
       "9                   from E, 03 and 00 to VE, 0 and 90  33S07VE090   \n",
       "10                        from 34 and CD to 05 and 00  05N01W0500   \n",
       "\n",
       "                         ORTaxlot  \n",
       "0   1833.00S07.50E0000--000003000  \n",
       "1   2106.00S11.00W34AD--00000ROAD  \n",
       "2   0507.00N02.00W17BA--000001400  \n",
       "4   2903.00S10.00W0000--000006000  \n",
       "5   2107.00S11.00W22CD--000005602  \n",
       "6   0505.00N02.00W27B0--000001100  \n",
       "7   1824.00S09.00E30CD--000002000  \n",
       "8   1833.00S07.50E0000--000004900  \n",
       "9   1833.00S07.50E0900--000000300  \n",
       "10  0505.00N01.00W0500--000000800  "
      ]
     },
     "execution_count": 36,
     "metadata": {},
     "output_type": "execute_result"
    }
   ],
   "source": [
    "review_unmatched_df_r2(outdf, export=False)"
   ]
  },
  {
   "cell_type": "code",
   "execution_count": 136,
   "id": "ba76f9b0",
   "metadata": {
    "scrolled": true
   },
   "outputs": [
    {
     "data": {
      "text/plain": [
       "array([2019, 2021, 2017, 2020, 2020, 2017, 2018, 2022, 2021, 2017],\n",
       "      dtype=int64)"
      ]
     },
     "execution_count": 136,
     "metadata": {},
     "output_type": "execute_result"
    }
   ],
   "source": [
    "outdf.IDyear.values"
   ]
  },
  {
   "cell_type": "code",
   "execution_count": 151,
   "id": "8ede6214",
   "metadata": {},
   "outputs": [
    {
     "data": {
      "text/plain": [
       "Index(['year', 'ORTaxlot', 'geometry'], dtype='object')"
      ]
     },
     "execution_count": 151,
     "metadata": {},
     "output_type": "execute_result"
    }
   ],
   "source": [
    "all_taxlot.columns"
   ]
  },
  {
   "cell_type": "code",
   "execution_count": 190,
   "id": "47707df6",
   "metadata": {
    "scrolled": true
   },
   "outputs": [
    {
     "data": {
      "text/plain": [
       "Index(['wetdet_delin_number', 'trsqq', 'parcel_id', 'county', 'latitude',\n",
       "       'longitude', 'DecisionLink', 'record_ID', 'IDyear', 'correct_type',\n",
       "       'correction', 'cor_trsqq', 'ORTaxlot'],\n",
       "      dtype='object')"
      ]
     },
     "execution_count": 190,
     "metadata": {},
     "output_type": "execute_result"
    }
   ],
   "source": [
    "outdf.columns"
   ]
  },
  {
   "cell_type": "code",
   "execution_count": 26,
   "id": "1e8e9255",
   "metadata": {
    "scrolled": true
   },
   "outputs": [
    {
     "name": "stderr",
     "output_type": "stream",
     "text": [
      "<ipython-input-26-2c82acb7f74c>:1: SettingWithCopyWarning: \n",
      "A value is trying to be set on a copy of a slice from a DataFrame.\n",
      "Try using .loc[row_indexer,col_indexer] = value instead\n",
      "\n",
      "See the caveats in the documentation: https://pandas.pydata.org/pandas-docs/stable/user_guide/indexing.html#returning-a-view-versus-a-copy\n",
      "  outdf['pairs'] = list(zip(outdf['IDyear'].astype(str), outdf['ORTaxlot']))\n"
     ]
    }
   ],
   "source": [
    "outdf['pairs'] = list(zip(outdf['IDyear'].astype(str), outdf['ORTaxlot']))"
   ]
  },
  {
   "cell_type": "code",
   "execution_count": 27,
   "id": "8fc6cfb1",
   "metadata": {},
   "outputs": [],
   "source": [
    "taxlots_to_review = all_taxlot[all_taxlot[['year', 'ORTaxlot']].apply(tuple, axis=1).isin(outdf.pairs.values)]"
   ]
  },
  {
   "cell_type": "code",
   "execution_count": 28,
   "id": "4a444ad1",
   "metadata": {},
   "outputs": [],
   "source": [
    "taxlots_to_review_2 = taxlots_to_review.merge(outdf, on='ORTaxlot')"
   ]
  },
  {
   "cell_type": "code",
   "execution_count": 31,
   "id": "1b28c0ef",
   "metadata": {},
   "outputs": [],
   "source": [
    "taxlots_to_review_2.drop(columns=['pairs'], inplace=True)"
   ]
  },
  {
   "cell_type": "code",
   "execution_count": 32,
   "id": "f694f1a8",
   "metadata": {},
   "outputs": [
    {
     "name": "stderr",
     "output_type": "stream",
     "text": [
      "<ipython-input-32-2f2d8f405b7b>:1: UserWarning: Column names longer than 10 characters will be truncated when saved to ESRI Shapefile.\n",
      "  taxlots_to_review_2.to_file(os.path.join(inpath + '\\\\output\\\\to_review\\\\', f'review_unmatched_{setID}_r2.shp'))\n"
     ]
    }
   ],
   "source": [
    "taxlots_to_review_2.to_file(os.path.join(inpath + '\\\\output\\\\to_review\\\\', f'review_unmatched_{setID}_r2.shp'))"
   ]
  }
 ],
 "metadata": {
  "kernelspec": {
   "display_name": "Python 3",
   "language": "python",
   "name": "python3"
  },
  "language_info": {
   "codemirror_mode": {
    "name": "ipython",
    "version": 3
   },
   "file_extension": ".py",
   "mimetype": "text/x-python",
   "name": "python",
   "nbconvert_exporter": "python",
   "pygments_lexer": "ipython3",
   "version": "3.8.8"
  }
 },
 "nbformat": 4,
 "nbformat_minor": 5
}
