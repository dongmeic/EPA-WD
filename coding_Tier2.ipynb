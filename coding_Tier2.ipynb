{
 "cells": [
  {
   "cell_type": "code",
   "execution_count": 1,
   "id": "98a2191d",
   "metadata": {},
   "outputs": [],
   "source": [
    "from wdtools import *"
   ]
  },
  {
   "cell_type": "code",
   "execution_count": 2,
   "id": "17706b9f",
   "metadata": {},
   "outputs": [
    {
     "name": "stdout",
     "output_type": "stream",
     "text": [
      "it took 7.0 minutes to complete\n"
     ]
    }
   ],
   "source": [
    "# this can take about 7 minutes\n",
    "start = time.time()\n",
    "all_taxlot = combine_taxlot()\n",
    "end = time.time()\n",
    "print(f'it took {round((end - start)/60, 0)} minutes to complete')"
   ]
  },
  {
   "cell_type": "code",
   "execution_count": 3,
   "id": "05cd2512",
   "metadata": {},
   "outputs": [],
   "source": [
    "setID = 'Set003'\n",
    "nm_to_add = 2143"
   ]
  },
  {
   "cell_type": "code",
   "execution_count": 4,
   "id": "072aebb0",
   "metadata": {},
   "outputs": [],
   "source": [
    "df = combined_reindexed_data(setID=setID, nm_to_add=nm_to_add) "
   ]
  },
  {
   "cell_type": "code",
   "execution_count": 5,
   "id": "52c92dfe",
   "metadata": {},
   "outputs": [],
   "source": [
    "# export = False\n",
    "gdf = match_wd_data_with_taxlot(df=df, setID=setID, all_taxlot=all_taxlot, nm_to_add=nm_to_add, export=False)"
   ]
  },
  {
   "cell_type": "code",
   "execution_count": 6,
   "id": "9a8e6ed7",
   "metadata": {},
   "outputs": [
    {
     "name": "stdout",
     "output_type": "stream",
     "text": [
      "it is about 12.38% of data in the original 735 records unmatched\n",
      "there are 0 records (0.0% of the original records) without parcel id\n"
     ]
    }
   ],
   "source": [
    "unmatched_df = report_unmatched(gdf=gdf, setID=setID, nm_to_add=nm_to_add, mute = False)"
   ]
  },
  {
   "cell_type": "code",
   "execution_count": 7,
   "id": "16425ff8",
   "metadata": {},
   "outputs": [],
   "source": [
    "unmatched_df = unmatched_df.sort_values(by=['wetdet_delin_number'], ascending=False, key=lambda x: x.map(x.value_counts()))"
   ]
  },
  {
   "cell_type": "code",
   "execution_count": 119,
   "id": "2e090ed8",
   "metadata": {},
   "outputs": [],
   "source": [
    "unmatched_df.to_csv(os.path.join(inpath + '\\\\output\\\\to_review\\\\', f'unmatched_df_{setID}.csv'), index=False) "
   ]
  },
  {
   "cell_type": "code",
   "execution_count": 249,
   "id": "3cb05bc0",
   "metadata": {},
   "outputs": [],
   "source": [
    "wd_id = 'WD2017-0177'\n",
    "county_to_check = 'Columbia'\n",
    "trsqq_to_check = '05N01W34CD'\n",
    "parcel_IDs_to_check = '600,700,800,All part'\n",
    "lon = -122.798881\n",
    "lat = 45.868417\n",
    "taxlot = all_taxlot\n",
    "year = '2017'"
   ]
  },
  {
   "cell_type": "code",
   "execution_count": 254,
   "id": "2eca202c",
   "metadata": {},
   "outputs": [],
   "source": [
    "wd_pt  = get_point_from_lonlat(lon = lon, lat = lat)\n",
    "tID = extract_taxlot_info(wd_pt = wd_pt, taxlot = taxlot, year = year)\n",
    "trsqq, trsqq_dict, df = read_trsqq()\n",
    "trsqq_to_check_c = pad_string(trsqq_to_check)\n",
    "lots_to_check = [x for x in get_lot_numbers(parcel_IDs_to_check)]\n",
    "trsqq_to_compare = trsqq_dict[tID]\n",
    "trsqq_to_compare_c = pad_string(trsqq_to_compare)\n",
    "lots_to_compare = df.loc[df.trsqq==trsqq_to_compare, 'ORTaxlot'].values\n",
    "lots_to_compare = list(map(get_lot_number_from_taxlot, lots_to_compare))"
   ]
  },
  {
   "cell_type": "code",
   "execution_count": 258,
   "id": "27f0dc5c",
   "metadata": {},
   "outputs": [
    {
     "name": "stdout",
     "output_type": "stream",
     "text": [
      "reviewing WD2017-0177\n",
      "all lots are matched...\n",
      "corrected trsqq...\n"
     ]
    },
    {
     "data": {
      "text/plain": [
       "('section number and QQ', 'from 34 and CD to 05 and 00')"
      ]
     },
     "execution_count": 258,
     "metadata": {},
     "output_type": "execute_result"
    }
   ],
   "source": [
    "review_wd_record_w_coord(wd_id, county_to_check, trsqq_to_check, parcel_IDs_to_check, lon, lat, taxlot, year)"
   ]
  },
  {
   "cell_type": "code",
   "execution_count": 68,
   "id": "f704505c",
   "metadata": {
    "scrolled": true
   },
   "outputs": [
    {
     "data": {
      "text/plain": [
       "(['section number', 'QQ'],\n",
       " 'section number and QQ are corrected from 34 and CD to 05 and 00 respectively')"
      ]
     },
     "execution_count": 68,
     "metadata": {},
     "output_type": "execute_result"
    }
   ],
   "source": [
    "res"
   ]
  },
  {
   "cell_type": "code",
   "execution_count": 52,
   "id": "6bad5067",
   "metadata": {},
   "outputs": [],
   "source": [
    "trsqq_to_check='05N01W34CD'; trsqq_to_compare='05N01W0500'"
   ]
  },
  {
   "cell_type": "code",
   "execution_count": 53,
   "id": "52ff1956",
   "metadata": {},
   "outputs": [],
   "source": [
    "numbers1, letters1 = separate_numbers_letters(trsqq_to_check[:-2])\n",
    "numbers2, letters2 = separate_numbers_letters(trsqq_to_compare[:-2])\n",
    "letters1.append(trsqq_to_check[-2:])\n",
    "letters2.append(trsqq_to_compare[-2:])\n",
    "trsqq_to_check_lst = remove_tuple_format(combine_lists(numbers1, letters1))\n",
    "trsqq_to_compare_lst = remove_tuple_format(combine_lists(numbers2, letters2))\n",
    "diff_idx = find_different_indices(trsqq_to_check_lst, trsqq_to_compare_lst)"
   ]
  },
  {
   "cell_type": "code",
   "execution_count": 13,
   "id": "3d66c59b",
   "metadata": {},
   "outputs": [],
   "source": [
    "unmatched = pd.read_excel(os.path.join(inpath + '\\\\output\\\\to_review\\\\', f'unmatched_df_{setID}_r2.xlsx'))"
   ]
  },
  {
   "cell_type": "code",
   "execution_count": 121,
   "id": "3d8e2c31",
   "metadata": {
    "scrolled": true
   },
   "outputs": [
    {
     "data": {
      "text/plain": [
       "Index(['wetdet_delin_number', 'trsqq', 'parcel_id', 'address_location_desc',\n",
       "       'city', 'county', 'site_name', 'site_desc', 'latitude', 'longitude',\n",
       "       'Coord-Source', 'DocumentName', 'DecisionLink', 'is_batch_file',\n",
       "       'status_name', 'received_date', 'response_date',\n",
       "       'reissuance_response_date', 'project_id', 'site_id', 'record_ID',\n",
       "       'notes', 'recyear', 'IDyear', 'missinglot'],\n",
       "      dtype='object')"
      ]
     },
     "execution_count": 121,
     "metadata": {},
     "output_type": "execute_result"
    }
   ],
   "source": [
    "unmatched.columns"
   ]
  },
  {
   "cell_type": "code",
   "execution_count": 122,
   "id": "33e86e67",
   "metadata": {},
   "outputs": [
    {
     "data": {
      "text/plain": [
       "(11, 25)"
      ]
     },
     "execution_count": 122,
     "metadata": {},
     "output_type": "execute_result"
    }
   ],
   "source": [
    "unmatched.shape"
   ]
  },
  {
   "cell_type": "code",
   "execution_count": 14,
   "id": "fb1dbce5",
   "metadata": {},
   "outputs": [],
   "source": [
    "to_review = unmatched[((unmatched.latitude.astype(str) != 'nan')|(unmatched.longitude.astype(str) != 'nan')) & (unmatched.missinglot == 'N')]"
   ]
  },
  {
   "cell_type": "code",
   "execution_count": 128,
   "id": "314b7217",
   "metadata": {},
   "outputs": [
    {
     "data": {
      "text/plain": [
       "(10, 25)"
      ]
     },
     "execution_count": 128,
     "metadata": {},
     "output_type": "execute_result"
    }
   ],
   "source": [
    "to_review.shape"
   ]
  },
  {
   "cell_type": "code",
   "execution_count": 15,
   "id": "7787af36",
   "metadata": {},
   "outputs": [],
   "source": [
    "outdf = to_review[['wetdet_delin_number', 'trsqq', 'parcel_id', 'county', 'latitude', 'longitude', 'DecisionLink', 'record_ID', 'IDyear']]"
   ]
  },
  {
   "cell_type": "code",
   "execution_count": 17,
   "id": "98b097e3",
   "metadata": {},
   "outputs": [
    {
     "data": {
      "text/plain": [
       "array(['3000p', '106p', 8009001000, '6000p', 5602, 1100, 201, '300p', 300,\n",
       "       '600,700,800,All part'], dtype=object)"
      ]
     },
     "execution_count": 17,
     "metadata": {},
     "output_type": "execute_result"
    }
   ],
   "source": [
    "outdf.parcel_id.values"
   ]
  },
  {
   "cell_type": "code",
   "execution_count": 22,
   "id": "fce0b1aa",
   "metadata": {
    "scrolled": true
   },
   "outputs": [
    {
     "name": "stdout",
     "output_type": "stream",
     "text": [
      "reviewing WD2019-0512\n",
      "all lots are matched...\n",
      "corrected trsqq...\n",
      "reviewing WD2021-0192\n",
      "there is not any matched lot, need to review trsqq, the close-match is 06S11W34AD\n",
      "lots to check: ['106'], and lots to compare: ['100', '200', '300', '400', '500', '600', '700', '800', '900', '1000', '1100', '1200', '1300', '1400', '1500', '1600', '1700', '1800', '1900', '2000', '2100', '2200', '2300', '2400', '2500', '2600', '2700', '2800', '2900', '3000', '3100', '3200', '3300', '3400', '3500', '3700', '3800', '3900', '4000', '4100', '4200', '4300', '4400', '4401', '4500', '4600', '4700', '4800', '4900', '5000', '5100', '5200', '5300', '5400', '5500', '5501', 'ROW', 'ROW']\n",
      "reviewing WD2017-0267\n",
      "all lots are matched...\n",
      "corrected trsqq...\n",
      "reviewing WD2020-0265\n",
      "all lots are matched...\n",
      "corrected trsqq...\n",
      "reviewing WD2020-0261\n",
      "all lots are matched...\n",
      "corrected trsqq...\n",
      "reviewing WD2017-0214\n",
      "all lots are matched...\n",
      "corrected trsqq...\n",
      "reviewing WD2018-0242\n",
      "there is not any matched lot, need to review trsqq, the close-match is 24S09E30CD\n",
      "lots to check: ['201'], and lots to compare: ['100', '200', '300', '400', '500', '600', '700', '800', '900', '1000', '1100', '1200', '1300', '1400', '1401', '1600', '1601', '1602', '1700', '1800', '1900', '2000', '2100', '2200', '2300', '2301', '2302', '2400', '2500', '2700', '2800', '2900', '3000', '3100', '3200', '3300', '3400', '3500', '3600', '3700', '3800', '3900', '4000', '4100', '4200']\n",
      "reviewing WD2022-0018\n",
      "all lots are matched...\n",
      "corrected trsqq...\n",
      "reviewing WD2021-0269\n",
      "all lots are matched...\n",
      "corrected trsqq...\n",
      "reviewing WD2017-0177\n",
      "all lots are matched...\n",
      "corrected trsqq...\n"
     ]
    },
    {
     "name": "stderr",
     "output_type": "stream",
     "text": [
      "C:\\Users\\clid1852\\AppData\\Anaconda3\\envs\\geoenv\\lib\\site-packages\\pandas\\core\\indexing.py:1676: SettingWithCopyWarning: \n",
      "A value is trying to be set on a copy of a slice from a DataFrame.\n",
      "Try using .loc[row_indexer,col_indexer] = value instead\n",
      "\n",
      "See the caveats in the documentation: https://pandas.pydata.org/pandas-docs/stable/user_guide/indexing.html#returning-a-view-versus-a-copy\n",
      "  self._setitem_single_column(ilocs[0], value, pi)\n"
     ]
    }
   ],
   "source": [
    "outdf.loc[:,'correct_type'], outdf.loc[:,'correction'] = zip(*outdf.apply(lambda row: review_wd_record_w_coord(wd_id = row.wetdet_delin_number, \n",
    "                                                                        county_to_check = row.county, \n",
    "                                                                        trsqq_to_check = row.trsqq, \n",
    "                                                                        parcel_IDs_to_check = row.parcel_id, \n",
    "                                                                        lon = row.longitude, \n",
    "                                                                        lat = row.latitude, \n",
    "                                                                        taxlot = all_taxlot, \n",
    "                                                                        year = row.IDyear), axis = 1))"
   ]
  },
  {
   "cell_type": "code",
   "execution_count": 23,
   "id": "adebe94e",
   "metadata": {},
   "outputs": [],
   "source": [
    "sel = ~outdf.correct_type.isin(['county', 'lot number', 'coordinate'])"
   ]
  },
  {
   "cell_type": "code",
   "execution_count": 24,
   "id": "e59efb78",
   "metadata": {},
   "outputs": [
    {
     "name": "stderr",
     "output_type": "stream",
     "text": [
      "C:\\Users\\clid1852\\AppData\\Anaconda3\\envs\\geoenv\\lib\\site-packages\\pandas\\core\\indexing.py:1599: SettingWithCopyWarning: \n",
      "A value is trying to be set on a copy of a slice from a DataFrame.\n",
      "Try using .loc[row_indexer,col_indexer] = value instead\n",
      "\n",
      "See the caveats in the documentation: https://pandas.pydata.org/pandas-docs/stable/user_guide/indexing.html#returning-a-view-versus-a-copy\n",
      "  self.obj[key] = infer_fill_value(value)\n",
      "C:\\Users\\clid1852\\AppData\\Anaconda3\\envs\\geoenv\\lib\\site-packages\\pandas\\core\\indexing.py:1676: SettingWithCopyWarning: \n",
      "A value is trying to be set on a copy of a slice from a DataFrame.\n",
      "Try using .loc[row_indexer,col_indexer] = value instead\n",
      "\n",
      "See the caveats in the documentation: https://pandas.pydata.org/pandas-docs/stable/user_guide/indexing.html#returning-a-view-versus-a-copy\n",
      "  self._setitem_single_column(ilocs[0], value, pi)\n"
     ]
    }
   ],
   "source": [
    "outdf.loc[sel, 'cor_trsqq'], outdf.loc[sel, 'ORTaxlot'] = zip(*outdf.loc[sel,:].apply(lambda row: correct_trsqq(trsqq_to_check = row.trsqq, \n",
    "                                                                               lon = row.longitude,\n",
    "                                                                               lat = row.latitude,\n",
    "                                                                               taxlot = all_taxlot,\n",
    "                                                                               year = row.IDyear), axis = 1))"
   ]
  },
  {
   "cell_type": "code",
   "execution_count": 25,
   "id": "65d02def",
   "metadata": {},
   "outputs": [],
   "source": [
    "outdf.to_excel(os.path.join(inpath + '\\\\output\\\\to_review\\\\', f'review_unmatched_{setID}.xlsx'), index=False)"
   ]
  },
  {
   "cell_type": "code",
   "execution_count": 136,
   "id": "7dd31ebb",
   "metadata": {
    "scrolled": true
   },
   "outputs": [
    {
     "data": {
      "text/plain": [
       "array([2019, 2021, 2017, 2020, 2020, 2017, 2018, 2022, 2021, 2017],\n",
       "      dtype=int64)"
      ]
     },
     "execution_count": 136,
     "metadata": {},
     "output_type": "execute_result"
    }
   ],
   "source": [
    "outdf.IDyear.values"
   ]
  },
  {
   "cell_type": "code",
   "execution_count": 151,
   "id": "8973f16f",
   "metadata": {},
   "outputs": [
    {
     "data": {
      "text/plain": [
       "Index(['year', 'ORTaxlot', 'geometry'], dtype='object')"
      ]
     },
     "execution_count": 151,
     "metadata": {},
     "output_type": "execute_result"
    }
   ],
   "source": [
    "all_taxlot.columns"
   ]
  },
  {
   "cell_type": "code",
   "execution_count": 190,
   "id": "a7c4e881",
   "metadata": {
    "scrolled": true
   },
   "outputs": [
    {
     "data": {
      "text/plain": [
       "Index(['wetdet_delin_number', 'trsqq', 'parcel_id', 'county', 'latitude',\n",
       "       'longitude', 'DecisionLink', 'record_ID', 'IDyear', 'correct_type',\n",
       "       'correction', 'cor_trsqq', 'ORTaxlot'],\n",
       "      dtype='object')"
      ]
     },
     "execution_count": 190,
     "metadata": {},
     "output_type": "execute_result"
    }
   ],
   "source": [
    "outdf.columns"
   ]
  },
  {
   "cell_type": "code",
   "execution_count": 26,
   "id": "4cee7541",
   "metadata": {
    "scrolled": true
   },
   "outputs": [
    {
     "name": "stderr",
     "output_type": "stream",
     "text": [
      "<ipython-input-26-2c82acb7f74c>:1: SettingWithCopyWarning: \n",
      "A value is trying to be set on a copy of a slice from a DataFrame.\n",
      "Try using .loc[row_indexer,col_indexer] = value instead\n",
      "\n",
      "See the caveats in the documentation: https://pandas.pydata.org/pandas-docs/stable/user_guide/indexing.html#returning-a-view-versus-a-copy\n",
      "  outdf['pairs'] = list(zip(outdf['IDyear'].astype(str), outdf['ORTaxlot']))\n"
     ]
    }
   ],
   "source": [
    "outdf['pairs'] = list(zip(outdf['IDyear'].astype(str), outdf['ORTaxlot']))"
   ]
  },
  {
   "cell_type": "code",
   "execution_count": 27,
   "id": "dbeee167",
   "metadata": {},
   "outputs": [],
   "source": [
    "taxlots_to_review = all_taxlot[all_taxlot[['year', 'ORTaxlot']].apply(tuple, axis=1).isin(outdf.pairs.values)]"
   ]
  },
  {
   "cell_type": "code",
   "execution_count": 28,
   "id": "32b26c1b",
   "metadata": {},
   "outputs": [],
   "source": [
    "taxlots_to_review_2 = taxlots_to_review.merge(outdf, on='ORTaxlot')"
   ]
  },
  {
   "cell_type": "code",
   "execution_count": 31,
   "id": "a07e5bcc",
   "metadata": {},
   "outputs": [],
   "source": [
    "taxlots_to_review_2.drop(columns=['pairs'], inplace=True)"
   ]
  },
  {
   "cell_type": "code",
   "execution_count": 32,
   "id": "09f48f3a",
   "metadata": {},
   "outputs": [
    {
     "name": "stderr",
     "output_type": "stream",
     "text": [
      "<ipython-input-32-2f2d8f405b7b>:1: UserWarning: Column names longer than 10 characters will be truncated when saved to ESRI Shapefile.\n",
      "  taxlots_to_review_2.to_file(os.path.join(inpath + '\\\\output\\\\to_review\\\\', f'review_unmatched_{setID}_r2.shp'))\n"
     ]
    }
   ],
   "source": [
    "taxlots_to_review_2.to_file(os.path.join(inpath + '\\\\output\\\\to_review\\\\', f'review_unmatched_{setID}_r2.shp'))"
   ]
  }
 ],
 "metadata": {
  "kernelspec": {
   "display_name": "Python 3",
   "language": "python",
   "name": "python3"
  },
  "language_info": {
   "codemirror_mode": {
    "name": "ipython",
    "version": 3
   },
   "file_extension": ".py",
   "mimetype": "text/x-python",
   "name": "python",
   "nbconvert_exporter": "python",
   "pygments_lexer": "ipython3",
   "version": "3.8.8"
  }
 },
 "nbformat": 4,
 "nbformat_minor": 5
}
