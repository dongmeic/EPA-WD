{
 "cells": [
  {
   "cell_type": "code",
   "execution_count": 1,
   "id": "3ef42228",
   "metadata": {},
   "outputs": [],
   "source": [
    "%load_ext autoreload\n",
    "%autoreload 2"
   ]
  },
  {
   "cell_type": "code",
   "execution_count": 2,
   "id": "d1828014",
   "metadata": {},
   "outputs": [],
   "source": [
    "from wdtools import *"
   ]
  },
  {
   "cell_type": "code",
   "execution_count": 3,
   "id": "b4f6c2d9",
   "metadata": {},
   "outputs": [],
   "source": [
    "n=7"
   ]
  },
  {
   "cell_type": "code",
   "execution_count": 4,
   "id": "a184d16d",
   "metadata": {},
   "outputs": [],
   "source": [
    "matched = gpd.read_file(os.path.join(inpath + '\\\\output\\\\matched\\\\', f'matched_records_Set00{n}_edited.shp'))"
   ]
  },
  {
   "cell_type": "code",
   "execution_count": 5,
   "id": "4aa60d4f",
   "metadata": {},
   "outputs": [],
   "source": [
    "nm_to_add = 4972"
   ]
  },
  {
   "cell_type": "code",
   "execution_count": 6,
   "id": "4bfe76e1",
   "metadata": {},
   "outputs": [],
   "source": [
    "wd = combine_wd_tables(setID=f'Set00{n}', nm_to_add=nm_to_add)"
   ]
  },
  {
   "cell_type": "code",
   "execution_count": null,
   "id": "365e3470",
   "metadata": {},
   "outputs": [],
   "source": [
    "wdID = ''"
   ]
  },
  {
   "cell_type": "code",
   "execution_count": null,
   "id": "1d251ab0",
   "metadata": {},
   "outputs": [],
   "source": [
    "matched[matched.wdID==wdID].plot()"
   ]
  },
  {
   "cell_type": "markdown",
   "id": "df2e817e",
   "metadata": {},
   "source": [
    "#wd_all = get_all_wd(num=n)\n",
    "sa_gdf_all = get_all_SA(num=n)\n",
    "df = wd_all[wd_all.wetdet_delin_number.isin(sa_gdf_all[sa_gdf_all.code==0].wdID.values)]"
   ]
  },
  {
   "cell_type": "markdown",
   "id": "da0f49d5",
   "metadata": {},
   "source": [
    "wd_all.columns"
   ]
  },
  {
   "cell_type": "markdown",
   "id": "fa64dd88",
   "metadata": {},
   "source": [
    "wd_all[wd_all.wetdet_delin_number=='WD2020-0673'].DecisionLink"
   ]
  },
  {
   "cell_type": "markdown",
   "id": "543e1540",
   "metadata": {},
   "source": [
    "sa_gdf_all[sa_gdf_all.wdID =='WD2021-0420'].plot()"
   ]
  }
 ],
 "metadata": {
  "kernelspec": {
   "display_name": "Python 3",
   "language": "python",
   "name": "python3"
  },
  "language_info": {
   "codemirror_mode": {
    "name": "ipython",
    "version": 3
   },
   "file_extension": ".py",
   "mimetype": "text/x-python",
   "name": "python",
   "nbconvert_exporter": "python",
   "pygments_lexer": "ipython3",
   "version": "3.8.8"
  }
 },
 "nbformat": 4,
 "nbformat_minor": 5
}
