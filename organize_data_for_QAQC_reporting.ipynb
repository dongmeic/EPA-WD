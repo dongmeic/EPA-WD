{
 "cells": [
  {
   "cell_type": "code",
   "execution_count": 1,
   "id": "bae4b2a1",
   "metadata": {},
   "outputs": [],
   "source": [
    "%load_ext autoreload\n",
    "%autoreload 2"
   ]
  },
  {
   "cell_type": "code",
   "execution_count": 2,
   "id": "8b7e8a86",
   "metadata": {},
   "outputs": [],
   "source": [
    "from wdtools import *"
   ]
  },
  {
   "cell_type": "code",
   "execution_count": 3,
   "id": "16f80a69",
   "metadata": {},
   "outputs": [],
   "source": [
    "import glob"
   ]
  },
  {
   "cell_type": "code",
   "execution_count": 4,
   "id": "c6e1649d",
   "metadata": {},
   "outputs": [],
   "source": [
    "wd_all = get_all_wd(num=6)"
   ]
  },
  {
   "cell_type": "code",
   "execution_count": 5,
   "id": "bde11f90",
   "metadata": {},
   "outputs": [],
   "source": [
    "sa_gdf_all = get_all_SA(num=6)"
   ]
  },
  {
   "cell_type": "code",
   "execution_count": 6,
   "id": "f1fd993c",
   "metadata": {},
   "outputs": [],
   "source": [
    "IDstoRev = wd_all[~wd_all.wetdet_delin_number.isin(sa_gdf_all.wdID.unique())].wetdet_delin_number.unique()"
   ]
  },
  {
   "cell_type": "code",
   "execution_count": 7,
   "id": "e55522d7",
   "metadata": {},
   "outputs": [
    {
     "data": {
      "text/plain": [
       "Index(['wetdet_delin_number', 'trsqq', 'parcel_id', 'address_location_desc',\n",
       "       'city', 'county', 'site_name', 'site_desc', 'latitude', 'longitude',\n",
       "       'Coord-Source', 'DocumentName', 'DecisionLink', 'is_batch_file',\n",
       "       'status_name', 'received_date', 'response_date',\n",
       "       'reissuance_response_date', 'project_id', 'site_id', 'record_ID',\n",
       "       'notes', 'recyear', 'IDyear', 'missinglot', 'SetID'],\n",
       "      dtype='object')"
      ]
     },
     "execution_count": 7,
     "metadata": {},
     "output_type": "execute_result"
    }
   ],
   "source": [
    "wd_all.columns"
   ]
  },
  {
   "cell_type": "code",
   "execution_count": 8,
   "id": "3d9dc765",
   "metadata": {},
   "outputs": [],
   "source": [
    "set6IDs = wd_all[(wd_all.wetdet_delin_number.isin(IDstoRev))&(wd_all.IDyear=='2022')&(wd_all.SetID == 6)].wetdet_delin_number.unique()"
   ]
  },
  {
   "cell_type": "code",
   "execution_count": 9,
   "id": "2ff9fda5",
   "metadata": {},
   "outputs": [],
   "source": [
    "set6IssueIDs = pd.read_csv(outpath + '\\\\to_review\\\\Set006_Mapping_Issues.csv').wetdet_delin_number.unique()"
   ]
  },
  {
   "cell_type": "code",
   "execution_count": 10,
   "id": "accdc1bb",
   "metadata": {},
   "outputs": [
    {
     "data": {
      "text/plain": [
       "[]"
      ]
     },
     "execution_count": 10,
     "metadata": {},
     "output_type": "execute_result"
    }
   ],
   "source": [
    "[wid for wid in set6IDs if wid not in set6IssueIDs]"
   ]
  },
  {
   "cell_type": "code",
   "execution_count": 11,
   "id": "c9920c13",
   "metadata": {},
   "outputs": [
    {
     "data": {
      "text/html": [
       "<div>\n",
       "<style scoped>\n",
       "    .dataframe tbody tr th:only-of-type {\n",
       "        vertical-align: middle;\n",
       "    }\n",
       "\n",
       "    .dataframe tbody tr th {\n",
       "        vertical-align: top;\n",
       "    }\n",
       "\n",
       "    .dataframe thead th {\n",
       "        text-align: right;\n",
       "    }\n",
       "</style>\n",
       "<table border=\"1\" class=\"dataframe\">\n",
       "  <thead>\n",
       "    <tr style=\"text-align: right;\">\n",
       "      <th></th>\n",
       "      <th>wetdet_delin_number</th>\n",
       "      <th>county</th>\n",
       "      <th>trsqq</th>\n",
       "      <th>parcel_id</th>\n",
       "      <th>is_batch_file</th>\n",
       "      <th>status_name</th>\n",
       "      <th>missinglot</th>\n",
       "      <th>notes</th>\n",
       "      <th>SetID</th>\n",
       "    </tr>\n",
       "  </thead>\n",
       "  <tbody>\n",
       "  </tbody>\n",
       "</table>\n",
       "</div>"
      ],
      "text/plain": [
       "Empty DataFrame\n",
       "Columns: [wetdet_delin_number, county, trsqq, parcel_id, is_batch_file, status_name, missinglot, notes, SetID]\n",
       "Index: []"
      ]
     },
     "execution_count": 11,
     "metadata": {},
     "output_type": "execute_result"
    }
   ],
   "source": [
    "wd_all[(wd_all.wetdet_delin_number.isin(IDstoRev))&(wd_all.IDyear=='2022')&(wd_all.SetID != 6)][['wetdet_delin_number', 'county', 'trsqq', 'parcel_id','is_batch_file',\n",
    "       'status_name', 'missinglot', 'notes', 'SetID']]"
   ]
  },
  {
   "cell_type": "code",
   "execution_count": 12,
   "id": "339254ac",
   "metadata": {},
   "outputs": [
    {
     "data": {
      "text/html": [
       "<div>\n",
       "<style scoped>\n",
       "    .dataframe tbody tr th:only-of-type {\n",
       "        vertical-align: middle;\n",
       "    }\n",
       "\n",
       "    .dataframe tbody tr th {\n",
       "        vertical-align: top;\n",
       "    }\n",
       "\n",
       "    .dataframe thead th {\n",
       "        text-align: right;\n",
       "    }\n",
       "</style>\n",
       "<table border=\"1\" class=\"dataframe\">\n",
       "  <thead>\n",
       "    <tr style=\"text-align: right;\">\n",
       "      <th></th>\n",
       "      <th>wetdet_delin_number</th>\n",
       "      <th>county</th>\n",
       "      <th>trsqq</th>\n",
       "      <th>parcel_id</th>\n",
       "      <th>is_batch_file</th>\n",
       "      <th>status_name</th>\n",
       "      <th>missinglot</th>\n",
       "      <th>notes</th>\n",
       "      <th>SetID</th>\n",
       "    </tr>\n",
       "  </thead>\n",
       "  <tbody>\n",
       "    <tr>\n",
       "      <th>1147</th>\n",
       "      <td>WD2021-0703</td>\n",
       "      <td>Lake</td>\n",
       "      <td>38S20E09</td>\n",
       "      <td>Many</td>\n",
       "      <td>N</td>\n",
       "      <td>Site Visit Needed</td>\n",
       "      <td>Y</td>\n",
       "      <td>Many</td>\n",
       "      <td>1</td>\n",
       "    </tr>\n",
       "    <tr>\n",
       "      <th>2491</th>\n",
       "      <td>WD2020-0389</td>\n",
       "      <td>Klamath</td>\n",
       "      <td>30S05E00</td>\n",
       "      <td>100p</td>\n",
       "      <td>N</td>\n",
       "      <td>Withdrawn by Applicant</td>\n",
       "      <td>N</td>\n",
       "      <td>Partial</td>\n",
       "      <td>3</td>\n",
       "    </tr>\n",
       "    <tr>\n",
       "      <th>2492</th>\n",
       "      <td>WD2020-0389</td>\n",
       "      <td>Klamath</td>\n",
       "      <td>30S06E00</td>\n",
       "      <td>200p</td>\n",
       "      <td>N</td>\n",
       "      <td>Withdrawn by Applicant</td>\n",
       "      <td>N</td>\n",
       "      <td>Partial</td>\n",
       "      <td>3</td>\n",
       "    </tr>\n",
       "    <tr>\n",
       "      <th>2493</th>\n",
       "      <td>WD2020-0389</td>\n",
       "      <td>Klamath</td>\n",
       "      <td>31S06E00</td>\n",
       "      <td>100p</td>\n",
       "      <td>N</td>\n",
       "      <td>Withdrawn by Applicant</td>\n",
       "      <td>N</td>\n",
       "      <td>Partial</td>\n",
       "      <td>3</td>\n",
       "    </tr>\n",
       "    <tr>\n",
       "      <th>2494</th>\n",
       "      <td>WD2020-0389</td>\n",
       "      <td>Klamath</td>\n",
       "      <td>31S07E00</td>\n",
       "      <td>200p</td>\n",
       "      <td>N</td>\n",
       "      <td>Withdrawn by Applicant</td>\n",
       "      <td>N</td>\n",
       "      <td>Partial</td>\n",
       "      <td>3</td>\n",
       "    </tr>\n",
       "    <tr>\n",
       "      <th>...</th>\n",
       "      <td>...</td>\n",
       "      <td>...</td>\n",
       "      <td>...</td>\n",
       "      <td>...</td>\n",
       "      <td>...</td>\n",
       "      <td>...</td>\n",
       "      <td>...</td>\n",
       "      <td>...</td>\n",
       "      <td>...</td>\n",
       "    </tr>\n",
       "    <tr>\n",
       "      <th>4834</th>\n",
       "      <td>WD2022-0656</td>\n",
       "      <td>Marion</td>\n",
       "      <td>08S01E31</td>\n",
       "      <td>100p</td>\n",
       "      <td>N</td>\n",
       "      <td>Hold</td>\n",
       "      <td>N</td>\n",
       "      <td>Partial</td>\n",
       "      <td>6</td>\n",
       "    </tr>\n",
       "    <tr>\n",
       "      <th>4835</th>\n",
       "      <td>WD2022-0656</td>\n",
       "      <td>Marion</td>\n",
       "      <td>09S02E16</td>\n",
       "      <td>100p,1200p,1300p,1600p,ROW</td>\n",
       "      <td>N</td>\n",
       "      <td>Hold</td>\n",
       "      <td>N</td>\n",
       "      <td>ROW, Partial</td>\n",
       "      <td>6</td>\n",
       "    </tr>\n",
       "    <tr>\n",
       "      <th>4950</th>\n",
       "      <td>WD2022-0656</td>\n",
       "      <td>Wasco</td>\n",
       "      <td>08S08E00</td>\n",
       "      <td>200p</td>\n",
       "      <td>N</td>\n",
       "      <td>Hold</td>\n",
       "      <td>N</td>\n",
       "      <td>Partial</td>\n",
       "      <td>6</td>\n",
       "    </tr>\n",
       "    <tr>\n",
       "      <th>4951</th>\n",
       "      <td>WD2022-0656</td>\n",
       "      <td>Wasco</td>\n",
       "      <td>08S09E00</td>\n",
       "      <td>100p</td>\n",
       "      <td>N</td>\n",
       "      <td>Hold</td>\n",
       "      <td>N</td>\n",
       "      <td>Partial</td>\n",
       "      <td>6</td>\n",
       "    </tr>\n",
       "    <tr>\n",
       "      <th>4952</th>\n",
       "      <td>WD2022-0656</td>\n",
       "      <td>Wasco</td>\n",
       "      <td>08S10E00</td>\n",
       "      <td>100p</td>\n",
       "      <td>N</td>\n",
       "      <td>Hold</td>\n",
       "      <td>N</td>\n",
       "      <td>Partial</td>\n",
       "      <td>6</td>\n",
       "    </tr>\n",
       "  </tbody>\n",
       "</table>\n",
       "<p>79 rows × 9 columns</p>\n",
       "</div>"
      ],
      "text/plain": [
       "     wetdet_delin_number   county     trsqq                   parcel_id  \\\n",
       "1147         WD2021-0703     Lake  38S20E09                        Many   \n",
       "2491         WD2020-0389  Klamath  30S05E00                        100p   \n",
       "2492         WD2020-0389  Klamath  30S06E00                        200p   \n",
       "2493         WD2020-0389  Klamath  31S06E00                        100p   \n",
       "2494         WD2020-0389  Klamath  31S07E00                        200p   \n",
       "...                  ...      ...       ...                         ...   \n",
       "4834         WD2022-0656   Marion  08S01E31                        100p   \n",
       "4835         WD2022-0656   Marion  09S02E16  100p,1200p,1300p,1600p,ROW   \n",
       "4950         WD2022-0656    Wasco  08S08E00                        200p   \n",
       "4951         WD2022-0656    Wasco  08S09E00                        100p   \n",
       "4952         WD2022-0656    Wasco  08S10E00                        100p   \n",
       "\n",
       "     is_batch_file             status_name missinglot         notes  SetID  \n",
       "1147             N       Site Visit Needed          Y          Many      1  \n",
       "2491             N  Withdrawn by Applicant          N       Partial      3  \n",
       "2492             N  Withdrawn by Applicant          N       Partial      3  \n",
       "2493             N  Withdrawn by Applicant          N       Partial      3  \n",
       "2494             N  Withdrawn by Applicant          N       Partial      3  \n",
       "...            ...                     ...        ...           ...    ...  \n",
       "4834             N                    Hold          N       Partial      6  \n",
       "4835             N                    Hold          N  ROW, Partial      6  \n",
       "4950             N                    Hold          N       Partial      6  \n",
       "4951             N                    Hold          N       Partial      6  \n",
       "4952             N                    Hold          N       Partial      6  \n",
       "\n",
       "[79 rows x 9 columns]"
      ]
     },
     "execution_count": 12,
     "metadata": {},
     "output_type": "execute_result"
    }
   ],
   "source": [
    "wd_all[(wd_all.wetdet_delin_number.isin(IDstoRev))&(wd_all.IDyear!='2022')][['wetdet_delin_number', 'county', 'trsqq', 'parcel_id','is_batch_file',\n",
    "       'status_name', 'missinglot', 'notes', 'SetID']]"
   ]
  },
  {
   "cell_type": "code",
   "execution_count": 68,
   "id": "01452170",
   "metadata": {},
   "outputs": [
    {
     "name": "stdout",
     "output_type": "stream",
     "text": [
      "Decision link is not available\n"
     ]
    }
   ],
   "source": [
    "url = wd_all.loc[wd_all.wetdet_delin_number == 'WD2022-0158', 'DecisionLink'].values[0]\n",
    "if str(url) == 'nan':\n",
    "    print('Decision link is not available')\n",
    "else:\n",
    "    webbrowser.open(url)"
   ]
  },
  {
   "cell_type": "markdown",
   "id": "f9dc9afd",
   "metadata": {},
   "source": [
    "file = outpath + '\\\\to_review\\\\code2.txt'\n",
    "with open(file) as f:\n",
    "    code2 = f.readlines()\n",
    "code2IDs = code2[0].split(', ')\n",
    "wd_all[wd_all.wetdet_delin_number.isin(code2IDs)].SetID.unique()\n",
    "gdf = gpd.read_file(outpath + '\\\\final\\\\Set001_mapped_wd.shp')\n",
    "gdf.loc[gdf.wdID.isin(code2IDs), 'code'] = 2\n",
    "gdf.to_file(outpath + '\\\\final\\\\Set001_mapped_wd.shp')"
   ]
  },
  {
   "cell_type": "markdown",
   "id": "647d2ef7",
   "metadata": {},
   "source": [
    "gdf = gpd.read_file(outpath + '\\\\matched\\\\matched_records_Set005.shp')\n",
    "gdf[gdf.wdID=='WD2019-0487'].plot()\n",
    "gdf[gdf.wdID=='WD2019-0233'].plot()\n",
    "ngdf = gpd.read_file(outpath + '\\\\final\\\\mapped_wd_Set005.shp')\n",
    "sgdf = gdf[gdf.wdID.isin(['WD2019-0233', 'WD2019-0487'])][['wdID', 'geometry']]\n",
    "sgdf = sgdf.dissolve('wdID')\n",
    "sgdf['wdID'] = sgdf.index\n",
    "sgdf.reset_index(drop=True, inplace=True)\n",
    "sgdf['code'] = 0\n",
    "setgdf = pd.concat([ngdf, sgdf[['code', 'wdID', 'geometry']]])\n",
    "setgdf.to_file(os.path.join(inpath, \"output\", \"final\", f\"Set005_mapped_wd.shp\"), index=False)"
   ]
  },
  {
   "cell_type": "code",
   "execution_count": 13,
   "id": "3e1af9df",
   "metadata": {},
   "outputs": [],
   "source": [
    "file = outpath + '\\\\to_review\\\\re_mapping.txt'\n",
    "with open(file) as f:\n",
    "    remapIDs = f.readlines()"
   ]
  },
  {
   "cell_type": "markdown",
   "id": "56552286",
   "metadata": {},
   "source": [
    "file = outpath + '\\\\to_review\\\\questions.txt'\n",
    "with open(file) as f:\n",
    "    qsIDs = f.readlines()"
   ]
  },
  {
   "cell_type": "code",
   "execution_count": 16,
   "id": "9f945286",
   "metadata": {},
   "outputs": [],
   "source": [
    "qsIDs_tb = pd.read_excel(inpath + '\\\\reporting\\\\QAQC_questions.xlsx')"
   ]
  },
  {
   "cell_type": "code",
   "execution_count": 22,
   "id": "172dfa62",
   "metadata": {},
   "outputs": [],
   "source": [
    "qsIDs = list(qsIDs_tb.wetdet_delin_number.unique())"
   ]
  },
  {
   "cell_type": "code",
   "execution_count": 24,
   "id": "5e1d00a6",
   "metadata": {},
   "outputs": [],
   "source": [
    "qaqcIDs = remapIDs[0].split(', ') + qsIDs"
   ]
  },
  {
   "cell_type": "code",
   "execution_count": 26,
   "id": "ccf347e9",
   "metadata": {},
   "outputs": [
    {
     "data": {
      "text/plain": [
       "327"
      ]
     },
     "execution_count": 26,
     "metadata": {},
     "output_type": "execute_result"
    }
   ],
   "source": [
    "len(unique(qaqcIDs))"
   ]
  },
  {
   "cell_type": "code",
   "execution_count": 27,
   "id": "c5b7b1d8",
   "metadata": {},
   "outputs": [],
   "source": [
    "check_cnt = wd_all[wd_all.wetdet_delin_number.isin(unique(qaqcIDs))][['county', 'wetdet_delin_number']].groupby(['wetdet_delin_number']).agg(lambda x: x.nunique()).reset_index().rename(columns={'wetdet_delin_number':'wdID', 'county':'count'})"
   ]
  },
  {
   "cell_type": "code",
   "execution_count": 28,
   "id": "d22e905b",
   "metadata": {},
   "outputs": [
    {
     "data": {
      "text/html": [
       "<div>\n",
       "<style scoped>\n",
       "    .dataframe tbody tr th:only-of-type {\n",
       "        vertical-align: middle;\n",
       "    }\n",
       "\n",
       "    .dataframe tbody tr th {\n",
       "        vertical-align: top;\n",
       "    }\n",
       "\n",
       "    .dataframe thead th {\n",
       "        text-align: right;\n",
       "    }\n",
       "</style>\n",
       "<table border=\"1\" class=\"dataframe\">\n",
       "  <thead>\n",
       "    <tr style=\"text-align: right;\">\n",
       "      <th></th>\n",
       "      <th>wdID</th>\n",
       "      <th>count</th>\n",
       "    </tr>\n",
       "  </thead>\n",
       "  <tbody>\n",
       "    <tr>\n",
       "      <th>70</th>\n",
       "      <td>WD2019-0008</td>\n",
       "      <td>2</td>\n",
       "    </tr>\n",
       "  </tbody>\n",
       "</table>\n",
       "</div>"
      ],
      "text/plain": [
       "           wdID  count\n",
       "70  WD2019-0008      2"
      ]
     },
     "execution_count": 28,
     "metadata": {},
     "output_type": "execute_result"
    }
   ],
   "source": [
    "check_cnt[check_cnt['count']>1]"
   ]
  },
  {
   "cell_type": "code",
   "execution_count": 29,
   "id": "44773a27",
   "metadata": {},
   "outputs": [
    {
     "data": {
      "text/html": [
       "<div>\n",
       "<style scoped>\n",
       "    .dataframe tbody tr th:only-of-type {\n",
       "        vertical-align: middle;\n",
       "    }\n",
       "\n",
       "    .dataframe tbody tr th {\n",
       "        vertical-align: top;\n",
       "    }\n",
       "\n",
       "    .dataframe thead th {\n",
       "        text-align: right;\n",
       "    }\n",
       "</style>\n",
       "<table border=\"1\" class=\"dataframe\">\n",
       "  <thead>\n",
       "    <tr style=\"text-align: right;\">\n",
       "      <th></th>\n",
       "      <th>wetdet_delin_number</th>\n",
       "      <th>county</th>\n",
       "      <th>trsqq</th>\n",
       "      <th>parcel_id</th>\n",
       "      <th>SetID</th>\n",
       "    </tr>\n",
       "  </thead>\n",
       "  <tbody>\n",
       "    <tr>\n",
       "      <th>2093</th>\n",
       "      <td>WD2019-0008</td>\n",
       "      <td>Morrow</td>\n",
       "      <td>01N26E00</td>\n",
       "      <td>3502,3500,3400.3300,3301,3600,3201,3200,2900,2700</td>\n",
       "      <td>2</td>\n",
       "    </tr>\n",
       "    <tr>\n",
       "      <th>2094</th>\n",
       "      <td>WD2019-0008</td>\n",
       "      <td>Morrow</td>\n",
       "      <td>01N26E00</td>\n",
       "      <td>1100,1102,1200,1301,1500,2805</td>\n",
       "      <td>2</td>\n",
       "    </tr>\n",
       "    <tr>\n",
       "      <th>2095</th>\n",
       "      <td>WD2019-0008</td>\n",
       "      <td>Morrow</td>\n",
       "      <td>01N25E00</td>\n",
       "      <td>1600,3100</td>\n",
       "      <td>2</td>\n",
       "    </tr>\n",
       "    <tr>\n",
       "      <th>4111</th>\n",
       "      <td>WD2019-0008</td>\n",
       "      <td>Umatilla</td>\n",
       "      <td>02N28E00</td>\n",
       "      <td>1900p</td>\n",
       "      <td>5</td>\n",
       "    </tr>\n",
       "  </tbody>\n",
       "</table>\n",
       "</div>"
      ],
      "text/plain": [
       "     wetdet_delin_number    county     trsqq  \\\n",
       "2093         WD2019-0008    Morrow  01N26E00   \n",
       "2094         WD2019-0008    Morrow  01N26E00   \n",
       "2095         WD2019-0008    Morrow  01N25E00   \n",
       "4111         WD2019-0008  Umatilla  02N28E00   \n",
       "\n",
       "                                              parcel_id  SetID  \n",
       "2093  3502,3500,3400.3300,3301,3600,3201,3200,2900,2700      2  \n",
       "2094                      1100,1102,1200,1301,1500,2805      2  \n",
       "2095                                          1600,3100      2  \n",
       "4111                                              1900p      5  "
      ]
     },
     "execution_count": 29,
     "metadata": {},
     "output_type": "execute_result"
    }
   ],
   "source": [
    "wd_all[wd_all.wetdet_delin_number.isin(check_cnt[check_cnt['count']>1].wdID.unique())][['wetdet_delin_number', 'county', 'trsqq', 'parcel_id', 'SetID']]"
   ]
  },
  {
   "cell_type": "code",
   "execution_count": 30,
   "id": "1d18f2e4",
   "metadata": {},
   "outputs": [],
   "source": [
    "qaqc_df = wd_all[wd_all.wetdet_delin_number.isin(qaqcIDs)][['county', 'wetdet_delin_number']].groupby(['county']).agg(lambda x: x.nunique()).reset_index().rename(columns={'wetdet_delin_number':'QAQC_count'})"
   ]
  },
  {
   "cell_type": "code",
   "execution_count": 31,
   "id": "f690a0c3",
   "metadata": {},
   "outputs": [
    {
     "data": {
      "text/plain": [
       "327"
      ]
     },
     "execution_count": 31,
     "metadata": {},
     "output_type": "execute_result"
    }
   ],
   "source": [
    "qaqc_df.QAQC_count.sum()"
   ]
  },
  {
   "cell_type": "code",
   "execution_count": 32,
   "id": "e3e478d1",
   "metadata": {},
   "outputs": [],
   "source": [
    "total_df = wd_all[['county', 'wetdet_delin_number']].groupby(['county']).agg(lambda x: x.nunique()).reset_index().rename(columns={'wetdet_delin_number':'total_count'})"
   ]
  },
  {
   "cell_type": "code",
   "execution_count": 33,
   "id": "f446895b",
   "metadata": {},
   "outputs": [
    {
     "data": {
      "text/plain": [
       "3080"
      ]
     },
     "execution_count": 33,
     "metadata": {},
     "output_type": "execute_result"
    }
   ],
   "source": [
    "total_df.total_count.sum()"
   ]
  },
  {
   "cell_type": "code",
   "execution_count": 34,
   "id": "9765add0",
   "metadata": {},
   "outputs": [
    {
     "data": {
      "text/plain": [
       "0.4344155844155844"
      ]
     },
     "execution_count": 34,
     "metadata": {},
     "output_type": "execute_result"
    }
   ],
   "source": [
    "(327+1011)/3080"
   ]
  },
  {
   "cell_type": "code",
   "execution_count": 113,
   "id": "027c4ba9",
   "metadata": {},
   "outputs": [
    {
     "data": {
      "text/plain": [
       "3916"
      ]
     },
     "execution_count": 113,
     "metadata": {},
     "output_type": "execute_result"
    }
   ],
   "source": [
    "781+650+906+869+443+267"
   ]
  },
  {
   "cell_type": "code",
   "execution_count": 35,
   "id": "b2801364",
   "metadata": {},
   "outputs": [],
   "source": [
    "total_df.merge(qaqc_df, on='county', how='left').to_csv(inpath+'\\\\reporting\\\\mapping_wd_counts.csv', index=False)"
   ]
  },
  {
   "cell_type": "code",
   "execution_count": 36,
   "id": "e55c5ce6",
   "metadata": {},
   "outputs": [],
   "source": [
    "rep_dat = pd.read_excel(inpath+'\\\\reporting\\\\mapping_wd_counts.xlsx')"
   ]
  },
  {
   "cell_type": "code",
   "execution_count": 37,
   "id": "fd630eea",
   "metadata": {},
   "outputs": [
    {
     "data": {
      "text/plain": [
       "Index(['County', 'Note', 'P1_2017_22', 'P1_ToMap', 'P2_2008_16', 'P2_ToMap',\n",
       "       'P3_1990_07', 'P3_ToMap'],\n",
       "      dtype='object')"
      ]
     },
     "execution_count": 37,
     "metadata": {},
     "output_type": "execute_result"
    }
   ],
   "source": [
    "rep_dat.columns"
   ]
  },
  {
   "cell_type": "code",
   "execution_count": 38,
   "id": "76d9e60a",
   "metadata": {},
   "outputs": [
    {
     "data": {
      "text/plain": [
       "array(['Participating', 'Non-Participating'], dtype=object)"
      ]
     },
     "execution_count": 38,
     "metadata": {},
     "output_type": "execute_result"
    }
   ],
   "source": [
    "rep_dat.Note.unique()"
   ]
  },
  {
   "cell_type": "code",
   "execution_count": 39,
   "id": "51d2877d",
   "metadata": {},
   "outputs": [
    {
     "data": {
      "text/plain": [
       "1100"
      ]
     },
     "execution_count": 39,
     "metadata": {},
     "output_type": "execute_result"
    }
   ],
   "source": [
    "rep_dat.P1_ToMap.sum()"
   ]
  },
  {
   "cell_type": "code",
   "execution_count": 40,
   "id": "908d0284",
   "metadata": {},
   "outputs": [],
   "source": [
    "df = rep_dat[rep_dat.Note=='Participating']"
   ]
  },
  {
   "cell_type": "code",
   "execution_count": 41,
   "id": "4fe6ac12",
   "metadata": {},
   "outputs": [
    {
     "data": {
      "text/plain": [
       "327"
      ]
     },
     "execution_count": 41,
     "metadata": {},
     "output_type": "execute_result"
    }
   ],
   "source": [
    "df.P1_ToMap.sum()"
   ]
  },
  {
   "cell_type": "code",
   "execution_count": 42,
   "id": "871d753e",
   "metadata": {},
   "outputs": [],
   "source": [
    "total = df.P1_2017_22.sum() + df.P2_2008_16.sum() + df.P3_1990_07.sum()"
   ]
  },
  {
   "cell_type": "code",
   "execution_count": 43,
   "id": "456931e5",
   "metadata": {},
   "outputs": [
    {
     "data": {
      "text/plain": [
       "0.32878048780487806"
      ]
     },
     "execution_count": 43,
     "metadata": {},
     "output_type": "execute_result"
    }
   ],
   "source": [
    "1011/df.P1_2017_22.sum()"
   ]
  },
  {
   "cell_type": "code",
   "execution_count": 44,
   "id": "938be344",
   "metadata": {},
   "outputs": [
    {
     "data": {
      "text/plain": [
       "16262"
      ]
     },
     "execution_count": 44,
     "metadata": {},
     "output_type": "execute_result"
    }
   ],
   "source": [
    "total"
   ]
  },
  {
   "cell_type": "code",
   "execution_count": 145,
   "id": "72744e49",
   "metadata": {},
   "outputs": [],
   "source": [
    "# hourly billing rate\n",
    "hbr = 87.51"
   ]
  },
  {
   "cell_type": "code",
   "execution_count": 146,
   "id": "54a36c7e",
   "metadata": {},
   "outputs": [],
   "source": [
    "# ratio for QAQC\n",
    "qaqc_r = 0.5"
   ]
  },
  {
   "cell_type": "code",
   "execution_count": 154,
   "id": "c810b88c",
   "metadata": {},
   "outputs": [],
   "source": [
    "# counts per hour\n",
    "cpr = 1/0.8"
   ]
  },
  {
   "cell_type": "code",
   "execution_count": 148,
   "id": "ad70554f",
   "metadata": {},
   "outputs": [],
   "source": [
    "# budget\n",
    "bdgt = 50000"
   ]
  },
  {
   "cell_type": "code",
   "execution_count": 162,
   "id": "86e907d7",
   "metadata": {},
   "outputs": [],
   "source": [
    "remain_total = df.P2_2008_16.sum() + df.P3_1990_07.sum()"
   ]
  },
  {
   "cell_type": "code",
   "execution_count": 167,
   "id": "771d3c4b",
   "metadata": {},
   "outputs": [
    {
     "data": {
      "text/plain": [
       "176.66794258373204"
      ]
     },
     "execution_count": 167,
     "metadata": {},
     "output_type": "execute_result"
    }
   ],
   "source": [
    "remain_total*0.7/2090*40"
   ]
  },
  {
   "cell_type": "code",
   "execution_count": 168,
   "id": "fc1b5ccf",
   "metadata": {
    "scrolled": true
   },
   "outputs": [
    {
     "data": {
      "text/plain": [
       "1750.625"
      ]
     },
     "execution_count": 168,
     "metadata": {},
     "output_type": "execute_result"
    }
   ],
   "source": [
    "(df.P1_ToMap.sum() + remain_total*qaqc_r)/4"
   ]
  },
  {
   "cell_type": "code",
   "execution_count": 170,
   "id": "5d43e18c",
   "metadata": {},
   "outputs": [
    {
     "data": {
      "text/plain": [
       "3.382456140350877"
      ]
     },
     "execution_count": 170,
     "metadata": {},
     "output_type": "execute_result"
    }
   ],
   "source": [
    "(1751+177)/570"
   ]
  },
  {
   "cell_type": "code",
   "execution_count": 155,
   "id": "ec90dae3",
   "metadata": {},
   "outputs": [
    {
     "data": {
      "text/plain": [
       "11.384700960000002"
      ]
     },
     "execution_count": 155,
     "metadata": {},
     "output_type": "execute_result"
    }
   ],
   "source": [
    "total * qaqc_r * hbr/cpr/bdgt"
   ]
  },
  {
   "cell_type": "code",
   "execution_count": 156,
   "id": "ea09de4c",
   "metadata": {},
   "outputs": [],
   "source": [
    "mapped = df.P1_2017_22.sum() - df.P1_ToMap.sum()"
   ]
  },
  {
   "cell_type": "code",
   "execution_count": 158,
   "id": "cf417909",
   "metadata": {},
   "outputs": [
    {
     "data": {
      "text/plain": [
       "2666"
      ]
     },
     "execution_count": 158,
     "metadata": {},
     "output_type": "execute_result"
    }
   ],
   "source": [
    "mapped"
   ]
  },
  {
   "cell_type": "code",
   "execution_count": 157,
   "id": "cf79cbda",
   "metadata": {},
   "outputs": [
    {
     "data": {
      "text/plain": [
       "0.16394047472635592"
      ]
     },
     "execution_count": 157,
     "metadata": {},
     "output_type": "execute_result"
    }
   ],
   "source": [
    "mapped / total"
   ]
  },
  {
   "cell_type": "code",
   "execution_count": 150,
   "id": "8c0f314d",
   "metadata": {},
   "outputs": [
    {
     "data": {
      "text/plain": [
       "571.3632727688264"
      ]
     },
     "execution_count": 150,
     "metadata": {},
     "output_type": "execute_result"
    }
   ],
   "source": [
    "bdgt/hbr"
   ]
  },
  {
   "cell_type": "code",
   "execution_count": 45,
   "id": "57549531",
   "metadata": {},
   "outputs": [],
   "source": [
    "gdf = gpd.read_file(r'X:\\Data\\State\\ORCnty2015.shp')\n",
    "gdf = gdf[['altName', 'geometry']]\n",
    "gdf.rename(columns={'altName':'County'}, inplace=True)"
   ]
  },
  {
   "cell_type": "code",
   "execution_count": 46,
   "id": "24fe1c62",
   "metadata": {},
   "outputs": [],
   "source": [
    "gdf = gdf.merge(rep_dat, on='County', how='left')"
   ]
  },
  {
   "cell_type": "code",
   "execution_count": 47,
   "id": "143ff69c",
   "metadata": {},
   "outputs": [],
   "source": [
    "gdf.loc[:, 'Tot_ToMap'] =  gdf.P1_ToMap + gdf.P2_ToMap + gdf.P3_ToMap"
   ]
  },
  {
   "cell_type": "code",
   "execution_count": 48,
   "id": "e9b6ebdb",
   "metadata": {},
   "outputs": [],
   "source": [
    "gdf.loc[:, 'Tot_Count'] =  gdf.P1_2017_22 + gdf.P2_2008_16 + gdf.P3_1990_07"
   ]
  },
  {
   "cell_type": "code",
   "execution_count": 49,
   "id": "98f515c3",
   "metadata": {},
   "outputs": [],
   "source": [
    "gdf.loc[:, 'QAQC_Ratio'] = gdf.Tot_ToMap / gdf.Tot_Count"
   ]
  },
  {
   "cell_type": "code",
   "execution_count": 50,
   "id": "c8215678",
   "metadata": {},
   "outputs": [],
   "source": [
    "gdf.loc[:, 'Auto_Comp'] = gdf.Tot_Count - gdf.Tot_ToMap"
   ]
  },
  {
   "cell_type": "code",
   "execution_count": 51,
   "id": "238a7b4a",
   "metadata": {},
   "outputs": [],
   "source": [
    "gdf.to_file(inpath+'\\\\reporting\\\\WD_Counts.shp')"
   ]
  },
  {
   "cell_type": "code",
   "execution_count": 212,
   "id": "b714fa7d",
   "metadata": {},
   "outputs": [],
   "source": [
    "os.remove(inpath+\"\\\\reporting\\\\WD_Counts.zip\")"
   ]
  },
  {
   "cell_type": "code",
   "execution_count": 207,
   "id": "250ecb17",
   "metadata": {},
   "outputs": [],
   "source": [
    "file_name_list = glob.glob(inpath+\"\\\\reporting\\\\WD_Counts.*\")"
   ]
  },
  {
   "cell_type": "code",
   "execution_count": 193,
   "id": "ebcc9ece",
   "metadata": {},
   "outputs": [],
   "source": [
    "zip_file_name = inpath+\"\\\\reporting\\\\WD_Counts.zip\""
   ]
  },
  {
   "cell_type": "code",
   "execution_count": 208,
   "id": "a3fc505f",
   "metadata": {},
   "outputs": [
    {
     "data": {
      "text/plain": [
       "['L:\\\\NaturalResources\\\\Wetlands\\\\Local Wetland Inventory\\\\WAPO\\\\EPA_2022_Tasks\\\\Task 1 WD Mapping\\\\reporting\\\\WD_Counts.cpg',\n",
       " 'L:\\\\NaturalResources\\\\Wetlands\\\\Local Wetland Inventory\\\\WAPO\\\\EPA_2022_Tasks\\\\Task 1 WD Mapping\\\\reporting\\\\WD_Counts.dbf',\n",
       " 'L:\\\\NaturalResources\\\\Wetlands\\\\Local Wetland Inventory\\\\WAPO\\\\EPA_2022_Tasks\\\\Task 1 WD Mapping\\\\reporting\\\\WD_Counts.prj',\n",
       " 'L:\\\\NaturalResources\\\\Wetlands\\\\Local Wetland Inventory\\\\WAPO\\\\EPA_2022_Tasks\\\\Task 1 WD Mapping\\\\reporting\\\\WD_Counts.shp',\n",
       " 'L:\\\\NaturalResources\\\\Wetlands\\\\Local Wetland Inventory\\\\WAPO\\\\EPA_2022_Tasks\\\\Task 1 WD Mapping\\\\reporting\\\\WD_Counts.shx']"
      ]
     },
     "execution_count": 208,
     "metadata": {},
     "output_type": "execute_result"
    }
   ],
   "source": [
    "file_name_list"
   ]
  },
  {
   "cell_type": "code",
   "execution_count": 213,
   "id": "d1f8a1a5",
   "metadata": {},
   "outputs": [
    {
     "name": "stdout",
     "output_type": "stream",
     "text": [
      " *** Input File name passed for zipping - ['L:\\\\NaturalResources\\\\Wetlands\\\\Local Wetland Inventory\\\\WAPO\\\\EPA_2022_Tasks\\\\Task 1 WD Mapping\\\\reporting\\\\WD_Counts.cpg', 'L:\\\\NaturalResources\\\\Wetlands\\\\Local Wetland Inventory\\\\WAPO\\\\EPA_2022_Tasks\\\\Task 1 WD Mapping\\\\reporting\\\\WD_Counts.dbf', 'L:\\\\NaturalResources\\\\Wetlands\\\\Local Wetland Inventory\\\\WAPO\\\\EPA_2022_Tasks\\\\Task 1 WD Mapping\\\\reporting\\\\WD_Counts.prj', 'L:\\\\NaturalResources\\\\Wetlands\\\\Local Wetland Inventory\\\\WAPO\\\\EPA_2022_Tasks\\\\Task 1 WD Mapping\\\\reporting\\\\WD_Counts.shp', 'L:\\\\NaturalResources\\\\Wetlands\\\\Local Wetland Inventory\\\\WAPO\\\\EPA_2022_Tasks\\\\Task 1 WD Mapping\\\\reporting\\\\WD_Counts.shx']\n",
      " *** out_zip_file is - L:\\NaturalResources\\Wetlands\\Local Wetland Inventory\\WAPO\\EPA_2022_Tasks\\Task 1 WD Mapping\\reporting\\WD_Counts.zip\n",
      " *** Processing file L:\\NaturalResources\\Wetlands\\Local Wetland Inventory\\WAPO\\EPA_2022_Tasks\\Task 1 WD Mapping\\reporting\\WD_Counts.cpg\n",
      " *** Processing file L:\\NaturalResources\\Wetlands\\Local Wetland Inventory\\WAPO\\EPA_2022_Tasks\\Task 1 WD Mapping\\reporting\\WD_Counts.dbf\n",
      " *** Processing file L:\\NaturalResources\\Wetlands\\Local Wetland Inventory\\WAPO\\EPA_2022_Tasks\\Task 1 WD Mapping\\reporting\\WD_Counts.prj\n",
      " *** Processing file L:\\NaturalResources\\Wetlands\\Local Wetland Inventory\\WAPO\\EPA_2022_Tasks\\Task 1 WD Mapping\\reporting\\WD_Counts.shp\n",
      " *** Processing file L:\\NaturalResources\\Wetlands\\Local Wetland Inventory\\WAPO\\EPA_2022_Tasks\\Task 1 WD Mapping\\reporting\\WD_Counts.shx\n"
     ]
    }
   ],
   "source": [
    "file_compress(file_name_list, zip_file_name)"
   ]
  }
 ],
 "metadata": {
  "kernelspec": {
   "display_name": "Python 3",
   "language": "python",
   "name": "python3"
  },
  "language_info": {
   "codemirror_mode": {
    "name": "ipython",
    "version": 3
   },
   "file_extension": ".py",
   "mimetype": "text/x-python",
   "name": "python",
   "nbconvert_exporter": "python",
   "pygments_lexer": "ipython3",
   "version": "3.8.8"
  }
 },
 "nbformat": 4,
 "nbformat_minor": 5
}
