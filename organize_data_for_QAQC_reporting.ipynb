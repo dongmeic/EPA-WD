{
 "cells": [
  {
   "cell_type": "code",
   "execution_count": 1,
   "id": "bae4b2a1",
   "metadata": {},
   "outputs": [],
   "source": [
    "%load_ext autoreload\n",
    "%autoreload 2"
   ]
  },
  {
   "cell_type": "code",
   "execution_count": 117,
   "id": "8b7e8a86",
   "metadata": {},
   "outputs": [],
   "source": [
    "from wdtools import *"
   ]
  },
  {
   "cell_type": "code",
   "execution_count": 185,
   "id": "16f80a69",
   "metadata": {},
   "outputs": [],
   "source": [
    "import glob"
   ]
  },
  {
   "cell_type": "code",
   "execution_count": 82,
   "id": "c6e1649d",
   "metadata": {},
   "outputs": [],
   "source": [
    "wd_all = get_all_wd(num=6)"
   ]
  },
  {
   "cell_type": "code",
   "execution_count": 58,
   "id": "bde11f90",
   "metadata": {},
   "outputs": [],
   "source": [
    "sa_gdf_all = get_all_SA(num=6)"
   ]
  },
  {
   "cell_type": "code",
   "execution_count": 60,
   "id": "f1fd993c",
   "metadata": {},
   "outputs": [],
   "source": [
    "IDstoRev = wd_all[~wd_all.wetdet_delin_number.isin(sa_gdf_all.wdID.unique())].wetdet_delin_number.unique()"
   ]
  },
  {
   "cell_type": "code",
   "execution_count": 32,
   "id": "e55522d7",
   "metadata": {},
   "outputs": [
    {
     "data": {
      "text/plain": [
       "Index(['wetdet_delin_number', 'trsqq', 'parcel_id', 'address_location_desc',\n",
       "       'city', 'county', 'site_name', 'site_desc', 'latitude', 'longitude',\n",
       "       'Coord-Source', 'DocumentName', 'DecisionLink', 'is_batch_file',\n",
       "       'status_name', 'received_date', 'response_date',\n",
       "       'reissuance_response_date', 'project_id', 'site_id', 'record_ID',\n",
       "       'notes', 'recyear', 'IDyear', 'missinglot', 'SetID'],\n",
       "      dtype='object')"
      ]
     },
     "execution_count": 32,
     "metadata": {},
     "output_type": "execute_result"
    }
   ],
   "source": [
    "wd_all.columns"
   ]
  },
  {
   "cell_type": "code",
   "execution_count": 70,
   "id": "3d9dc765",
   "metadata": {},
   "outputs": [],
   "source": [
    "set6IDs = wd_all[(wd_all.wetdet_delin_number.isin(IDstoRev))&(wd_all.IDyear=='2022')&(wd_all.SetID == 6)].wetdet_delin_number.unique()"
   ]
  },
  {
   "cell_type": "code",
   "execution_count": 73,
   "id": "2ff9fda5",
   "metadata": {},
   "outputs": [],
   "source": [
    "set6IssueIDs = pd.read_csv(outpath + '\\\\to_review\\\\Set006_Mapping_Issues.csv').wetdet_delin_number.unique()"
   ]
  },
  {
   "cell_type": "code",
   "execution_count": 75,
   "id": "accdc1bb",
   "metadata": {},
   "outputs": [
    {
     "data": {
      "text/plain": [
       "[]"
      ]
     },
     "execution_count": 75,
     "metadata": {},
     "output_type": "execute_result"
    }
   ],
   "source": [
    "[wid for wid in set6IDs if wid not in set6IssueIDs]"
   ]
  },
  {
   "cell_type": "code",
   "execution_count": 67,
   "id": "c9920c13",
   "metadata": {},
   "outputs": [
    {
     "data": {
      "text/html": [
       "<div>\n",
       "<style scoped>\n",
       "    .dataframe tbody tr th:only-of-type {\n",
       "        vertical-align: middle;\n",
       "    }\n",
       "\n",
       "    .dataframe tbody tr th {\n",
       "        vertical-align: top;\n",
       "    }\n",
       "\n",
       "    .dataframe thead th {\n",
       "        text-align: right;\n",
       "    }\n",
       "</style>\n",
       "<table border=\"1\" class=\"dataframe\">\n",
       "  <thead>\n",
       "    <tr style=\"text-align: right;\">\n",
       "      <th></th>\n",
       "      <th>wetdet_delin_number</th>\n",
       "      <th>county</th>\n",
       "      <th>trsqq</th>\n",
       "      <th>parcel_id</th>\n",
       "      <th>is_batch_file</th>\n",
       "      <th>status_name</th>\n",
       "      <th>missinglot</th>\n",
       "      <th>notes</th>\n",
       "      <th>SetID</th>\n",
       "    </tr>\n",
       "  </thead>\n",
       "  <tbody>\n",
       "    <tr>\n",
       "      <th>3317</th>\n",
       "      <td>WD2022-0158</td>\n",
       "      <td>Linn</td>\n",
       "      <td>02N02E07</td>\n",
       "      <td>NaN</td>\n",
       "      <td>Y</td>\n",
       "      <td>Withdrawn by DSL</td>\n",
       "      <td>NaN</td>\n",
       "      <td>NaN</td>\n",
       "      <td>4</td>\n",
       "    </tr>\n",
       "  </tbody>\n",
       "</table>\n",
       "</div>"
      ],
      "text/plain": [
       "     wetdet_delin_number county     trsqq parcel_id is_batch_file  \\\n",
       "3317         WD2022-0158   Linn  02N02E07       NaN             Y   \n",
       "\n",
       "           status_name missinglot notes  SetID  \n",
       "3317  Withdrawn by DSL        NaN   NaN      4  "
      ]
     },
     "execution_count": 67,
     "metadata": {},
     "output_type": "execute_result"
    }
   ],
   "source": [
    "wd_all[(wd_all.wetdet_delin_number.isin(IDstoRev))&(wd_all.IDyear=='2022')&(wd_all.SetID != 6)][['wetdet_delin_number', 'county', 'trsqq', 'parcel_id','is_batch_file',\n",
    "       'status_name', 'missinglot', 'notes', 'SetID']]"
   ]
  },
  {
   "cell_type": "code",
   "execution_count": 63,
   "id": "339254ac",
   "metadata": {},
   "outputs": [
    {
     "data": {
      "text/html": [
       "<div>\n",
       "<style scoped>\n",
       "    .dataframe tbody tr th:only-of-type {\n",
       "        vertical-align: middle;\n",
       "    }\n",
       "\n",
       "    .dataframe tbody tr th {\n",
       "        vertical-align: top;\n",
       "    }\n",
       "\n",
       "    .dataframe thead th {\n",
       "        text-align: right;\n",
       "    }\n",
       "</style>\n",
       "<table border=\"1\" class=\"dataframe\">\n",
       "  <thead>\n",
       "    <tr style=\"text-align: right;\">\n",
       "      <th></th>\n",
       "      <th>wetdet_delin_number</th>\n",
       "      <th>county</th>\n",
       "      <th>trsqq</th>\n",
       "      <th>parcel_id</th>\n",
       "      <th>is_batch_file</th>\n",
       "      <th>status_name</th>\n",
       "      <th>missinglot</th>\n",
       "      <th>notes</th>\n",
       "      <th>SetID</th>\n",
       "    </tr>\n",
       "  </thead>\n",
       "  <tbody>\n",
       "    <tr>\n",
       "      <th>1147</th>\n",
       "      <td>WD2021-0703</td>\n",
       "      <td>Lake</td>\n",
       "      <td>38S20E09</td>\n",
       "      <td>Many</td>\n",
       "      <td>N</td>\n",
       "      <td>Site Visit Needed</td>\n",
       "      <td>Y</td>\n",
       "      <td>Many</td>\n",
       "      <td>1</td>\n",
       "    </tr>\n",
       "    <tr>\n",
       "      <th>2491</th>\n",
       "      <td>WD2020-0389</td>\n",
       "      <td>Klamath</td>\n",
       "      <td>30S05E00</td>\n",
       "      <td>100p</td>\n",
       "      <td>N</td>\n",
       "      <td>Withdrawn by Applicant</td>\n",
       "      <td>N</td>\n",
       "      <td>Partial</td>\n",
       "      <td>3</td>\n",
       "    </tr>\n",
       "    <tr>\n",
       "      <th>2492</th>\n",
       "      <td>WD2020-0389</td>\n",
       "      <td>Klamath</td>\n",
       "      <td>30S06E00</td>\n",
       "      <td>200p</td>\n",
       "      <td>N</td>\n",
       "      <td>Withdrawn by Applicant</td>\n",
       "      <td>N</td>\n",
       "      <td>Partial</td>\n",
       "      <td>3</td>\n",
       "    </tr>\n",
       "    <tr>\n",
       "      <th>2493</th>\n",
       "      <td>WD2020-0389</td>\n",
       "      <td>Klamath</td>\n",
       "      <td>31S06E00</td>\n",
       "      <td>100p</td>\n",
       "      <td>N</td>\n",
       "      <td>Withdrawn by Applicant</td>\n",
       "      <td>N</td>\n",
       "      <td>Partial</td>\n",
       "      <td>3</td>\n",
       "    </tr>\n",
       "    <tr>\n",
       "      <th>2494</th>\n",
       "      <td>WD2020-0389</td>\n",
       "      <td>Klamath</td>\n",
       "      <td>31S07E00</td>\n",
       "      <td>200p</td>\n",
       "      <td>N</td>\n",
       "      <td>Withdrawn by Applicant</td>\n",
       "      <td>N</td>\n",
       "      <td>Partial</td>\n",
       "      <td>3</td>\n",
       "    </tr>\n",
       "    <tr>\n",
       "      <th>2802</th>\n",
       "      <td>WD2021-0181</td>\n",
       "      <td>Tillamook</td>\n",
       "      <td>03N10W32A</td>\n",
       "      <td>54069</td>\n",
       "      <td>Y</td>\n",
       "      <td>Withdrawn by DSL</td>\n",
       "      <td>N</td>\n",
       "      <td></td>\n",
       "      <td>3</td>\n",
       "    </tr>\n",
       "  </tbody>\n",
       "</table>\n",
       "</div>"
      ],
      "text/plain": [
       "     wetdet_delin_number     county      trsqq parcel_id is_batch_file  \\\n",
       "1147         WD2021-0703       Lake   38S20E09      Many             N   \n",
       "2491         WD2020-0389    Klamath   30S05E00      100p             N   \n",
       "2492         WD2020-0389    Klamath   30S06E00      200p             N   \n",
       "2493         WD2020-0389    Klamath   31S06E00      100p             N   \n",
       "2494         WD2020-0389    Klamath   31S07E00      200p             N   \n",
       "2802         WD2021-0181  Tillamook  03N10W32A     54069             Y   \n",
       "\n",
       "                 status_name missinglot    notes  SetID  \n",
       "1147       Site Visit Needed          Y     Many      1  \n",
       "2491  Withdrawn by Applicant          N  Partial      3  \n",
       "2492  Withdrawn by Applicant          N  Partial      3  \n",
       "2493  Withdrawn by Applicant          N  Partial      3  \n",
       "2494  Withdrawn by Applicant          N  Partial      3  \n",
       "2802        Withdrawn by DSL          N               3  "
      ]
     },
     "execution_count": 63,
     "metadata": {},
     "output_type": "execute_result"
    }
   ],
   "source": [
    "wd_all[(wd_all.wetdet_delin_number.isin(IDstoRev))&(wd_all.IDyear!='2022')][['wetdet_delin_number', 'county', 'trsqq', 'parcel_id','is_batch_file',\n",
    "       'status_name', 'missinglot', 'notes', 'SetID']]"
   ]
  },
  {
   "cell_type": "code",
   "execution_count": 68,
   "id": "01452170",
   "metadata": {},
   "outputs": [
    {
     "name": "stdout",
     "output_type": "stream",
     "text": [
      "Decision link is not available\n"
     ]
    }
   ],
   "source": [
    "url = wd_all.loc[wd_all.wetdet_delin_number == 'WD2022-0158', 'DecisionLink'].values[0]\n",
    "if str(url) == 'nan':\n",
    "    print('Decision link is not available')\n",
    "else:\n",
    "    webbrowser.open(url)"
   ]
  },
  {
   "cell_type": "code",
   "execution_count": null,
   "id": "1dffe87f",
   "metadata": {},
   "outputs": [],
   "source": [
    "file = outpath + '\\\\to_review\\\\code2.txt'\n",
    "with open(file) as f:\n",
    "    code2 = f.readlines()\n",
    "code2IDs = code2[0].split(', ')\n",
    "wd_all[wd_all.wetdet_delin_number.isin(code2IDs)].SetID.unique()\n",
    "gdf = gpd.read_file(outpath + '\\\\final\\\\Set001_mapped_wd.shp')\n",
    "gdf.loc[gdf.wdID.isin(code2IDs), 'code'] = 2\n",
    "gdf.to_file(outpath + '\\\\final\\\\Set001_mapped_wd.shp')"
   ]
  },
  {
   "cell_type": "code",
   "execution_count": null,
   "id": "635a40e1",
   "metadata": {},
   "outputs": [],
   "source": [
    "gdf = gpd.read_file(outpath + '\\\\matched\\\\matched_records_Set005.shp')\n",
    "gdf[gdf.wdID=='WD2019-0487'].plot()\n",
    "gdf[gdf.wdID=='WD2019-0233'].plot()\n",
    "ngdf = gpd.read_file(outpath + '\\\\final\\\\mapped_wd_Set005.shp')\n",
    "sgdf = gdf[gdf.wdID.isin(['WD2019-0233', 'WD2019-0487'])][['wdID', 'geometry']]\n",
    "sgdf = sgdf.dissolve('wdID')\n",
    "sgdf['wdID'] = sgdf.index\n",
    "sgdf.reset_index(drop=True, inplace=True)\n",
    "sgdf['code'] = 0\n",
    "setgdf = pd.concat([ngdf, sgdf[['code', 'wdID', 'geometry']]])\n",
    "setgdf.to_file(os.path.join(inpath, \"output\", \"final\", f\"Set005_mapped_wd.shp\"), index=False)"
   ]
  },
  {
   "cell_type": "code",
   "execution_count": 14,
   "id": "3e1af9df",
   "metadata": {},
   "outputs": [],
   "source": [
    "file = outpath + '\\\\to_review\\\\re_mapping.txt'\n",
    "with open(file) as f:\n",
    "    remapIDs = f.readlines()"
   ]
  },
  {
   "cell_type": "code",
   "execution_count": 79,
   "id": "fcb98ad5",
   "metadata": {},
   "outputs": [],
   "source": [
    "file = outpath + '\\\\to_review\\\\questions.txt'\n",
    "with open(file) as f:\n",
    "    qsIDs = f.readlines()"
   ]
  },
  {
   "cell_type": "code",
   "execution_count": 80,
   "id": "5e1d00a6",
   "metadata": {},
   "outputs": [],
   "source": [
    "qaqcIDs = remapIDs[0].split(', ') + qsIDs[0].split(', ')"
   ]
  },
  {
   "cell_type": "code",
   "execution_count": 81,
   "id": "ccf347e9",
   "metadata": {},
   "outputs": [
    {
     "data": {
      "text/plain": [
       "408"
      ]
     },
     "execution_count": 81,
     "metadata": {},
     "output_type": "execute_result"
    }
   ],
   "source": [
    "len(qaqcIDs)"
   ]
  },
  {
   "cell_type": "code",
   "execution_count": 125,
   "id": "c5b7b1d8",
   "metadata": {},
   "outputs": [],
   "source": [
    "check_cnt = wd_all[wd_all.wetdet_delin_number.isin(qaqcIDs)][['county', 'wetdet_delin_number']].groupby(['wetdet_delin_number']).agg(lambda x: x.nunique()).reset_index().rename(columns={'wetdet_delin_number':'wdID', 'county':'count'})"
   ]
  },
  {
   "cell_type": "code",
   "execution_count": 128,
   "id": "d22e905b",
   "metadata": {},
   "outputs": [
    {
     "data": {
      "text/html": [
       "<div>\n",
       "<style scoped>\n",
       "    .dataframe tbody tr th:only-of-type {\n",
       "        vertical-align: middle;\n",
       "    }\n",
       "\n",
       "    .dataframe tbody tr th {\n",
       "        vertical-align: top;\n",
       "    }\n",
       "\n",
       "    .dataframe thead th {\n",
       "        text-align: right;\n",
       "    }\n",
       "</style>\n",
       "<table border=\"1\" class=\"dataframe\">\n",
       "  <thead>\n",
       "    <tr style=\"text-align: right;\">\n",
       "      <th></th>\n",
       "      <th>wdID</th>\n",
       "      <th>count</th>\n",
       "    </tr>\n",
       "  </thead>\n",
       "  <tbody>\n",
       "    <tr>\n",
       "      <th>81</th>\n",
       "      <td>WD2019-0008</td>\n",
       "      <td>2</td>\n",
       "    </tr>\n",
       "    <tr>\n",
       "      <th>145</th>\n",
       "      <td>WD2019-0610</td>\n",
       "      <td>2</td>\n",
       "    </tr>\n",
       "  </tbody>\n",
       "</table>\n",
       "</div>"
      ],
      "text/plain": [
       "            wdID  count\n",
       "81   WD2019-0008      2\n",
       "145  WD2019-0610      2"
      ]
     },
     "execution_count": 128,
     "metadata": {},
     "output_type": "execute_result"
    }
   ],
   "source": [
    "check_cnt[check_cnt['count']>1]"
   ]
  },
  {
   "cell_type": "code",
   "execution_count": 131,
   "id": "44773a27",
   "metadata": {},
   "outputs": [
    {
     "data": {
      "text/html": [
       "<div>\n",
       "<style scoped>\n",
       "    .dataframe tbody tr th:only-of-type {\n",
       "        vertical-align: middle;\n",
       "    }\n",
       "\n",
       "    .dataframe tbody tr th {\n",
       "        vertical-align: top;\n",
       "    }\n",
       "\n",
       "    .dataframe thead th {\n",
       "        text-align: right;\n",
       "    }\n",
       "</style>\n",
       "<table border=\"1\" class=\"dataframe\">\n",
       "  <thead>\n",
       "    <tr style=\"text-align: right;\">\n",
       "      <th></th>\n",
       "      <th>wetdet_delin_number</th>\n",
       "      <th>county</th>\n",
       "      <th>trsqq</th>\n",
       "      <th>parcel_id</th>\n",
       "      <th>SetID</th>\n",
       "    </tr>\n",
       "  </thead>\n",
       "  <tbody>\n",
       "    <tr>\n",
       "      <th>896</th>\n",
       "      <td>WD2019-0610</td>\n",
       "      <td>Jackson</td>\n",
       "      <td>35S02W32</td>\n",
       "      <td>2000,2003,2004</td>\n",
       "      <td>1</td>\n",
       "    </tr>\n",
       "    <tr>\n",
       "      <th>897</th>\n",
       "      <td>WD2019-0610</td>\n",
       "      <td>Jackson</td>\n",
       "      <td>36S04W15BB</td>\n",
       "      <td>100,700,800,900,1000,1100,1200,1300,1400,1500</td>\n",
       "      <td>1</td>\n",
       "    </tr>\n",
       "    <tr>\n",
       "      <th>898</th>\n",
       "      <td>WD2019-0610</td>\n",
       "      <td>Jackson</td>\n",
       "      <td>36S04W16</td>\n",
       "      <td>2700,2800,7600</td>\n",
       "      <td>1</td>\n",
       "    </tr>\n",
       "    <tr>\n",
       "      <th>899</th>\n",
       "      <td>WD2019-0610</td>\n",
       "      <td>Jackson</td>\n",
       "      <td>36S04W16A</td>\n",
       "      <td>1300,1401,1402,1403,1404,1407,1409,1500,1502,1503</td>\n",
       "      <td>1</td>\n",
       "    </tr>\n",
       "    <tr>\n",
       "      <th>900</th>\n",
       "      <td>WD2019-0610</td>\n",
       "      <td>Jackson</td>\n",
       "      <td>36S04W16AA</td>\n",
       "      <td>1100,1200,1300,1400,1500,1600,1700</td>\n",
       "      <td>1</td>\n",
       "    </tr>\n",
       "    <tr>\n",
       "      <th>901</th>\n",
       "      <td>WD2019-0610</td>\n",
       "      <td>Jackson</td>\n",
       "      <td>36S04W17</td>\n",
       "      <td>300</td>\n",
       "      <td>1</td>\n",
       "    </tr>\n",
       "    <tr>\n",
       "      <th>902</th>\n",
       "      <td>WD2019-0610</td>\n",
       "      <td>Jackson</td>\n",
       "      <td>36S04W19</td>\n",
       "      <td>100,200,201,300</td>\n",
       "      <td>1</td>\n",
       "    </tr>\n",
       "    <tr>\n",
       "      <th>903</th>\n",
       "      <td>WD2019-0610</td>\n",
       "      <td>Jackson</td>\n",
       "      <td>36S04W19D</td>\n",
       "      <td>202,300</td>\n",
       "      <td>1</td>\n",
       "    </tr>\n",
       "    <tr>\n",
       "      <th>904</th>\n",
       "      <td>WD2019-0610</td>\n",
       "      <td>Jackson</td>\n",
       "      <td>36S04W20</td>\n",
       "      <td>100,200,400,401,403,500,600</td>\n",
       "      <td>1</td>\n",
       "    </tr>\n",
       "    <tr>\n",
       "      <th>905</th>\n",
       "      <td>WD2019-0610</td>\n",
       "      <td>Jackson</td>\n",
       "      <td>36S04W15</td>\n",
       "      <td>100,1604,2000</td>\n",
       "      <td>1</td>\n",
       "    </tr>\n",
       "    <tr>\n",
       "      <th>906</th>\n",
       "      <td>WD2019-0610</td>\n",
       "      <td>Jackson</td>\n",
       "      <td>36S04W11</td>\n",
       "      <td>100</td>\n",
       "      <td>1</td>\n",
       "    </tr>\n",
       "    <tr>\n",
       "      <th>907</th>\n",
       "      <td>WD2019-0610</td>\n",
       "      <td>Jackson</td>\n",
       "      <td>36S02W09</td>\n",
       "      <td>101,105,200</td>\n",
       "      <td>1</td>\n",
       "    </tr>\n",
       "    <tr>\n",
       "      <th>908</th>\n",
       "      <td>WD2019-0610</td>\n",
       "      <td>Jackson</td>\n",
       "      <td>36S04W21B</td>\n",
       "      <td>100</td>\n",
       "      <td>1</td>\n",
       "    </tr>\n",
       "    <tr>\n",
       "      <th>909</th>\n",
       "      <td>WD2019-0610</td>\n",
       "      <td>Jackson</td>\n",
       "      <td>36S03W02</td>\n",
       "      <td>100,202,300,400,500,600</td>\n",
       "      <td>1</td>\n",
       "    </tr>\n",
       "    <tr>\n",
       "      <th>910</th>\n",
       "      <td>WD2019-0610</td>\n",
       "      <td>Jackson</td>\n",
       "      <td>36S02W04</td>\n",
       "      <td>314,315,316,401,402,404,405,700,1000,1100</td>\n",
       "      <td>1</td>\n",
       "    </tr>\n",
       "    <tr>\n",
       "      <th>911</th>\n",
       "      <td>WD2019-0610</td>\n",
       "      <td>Jackson</td>\n",
       "      <td>36S02W05</td>\n",
       "      <td>100,200,300,500,600,700,701,706,801,901</td>\n",
       "      <td>1</td>\n",
       "    </tr>\n",
       "    <tr>\n",
       "      <th>912</th>\n",
       "      <td>WD2019-0610</td>\n",
       "      <td>Jackson</td>\n",
       "      <td>36S02W06</td>\n",
       "      <td>101,102,104,200</td>\n",
       "      <td>1</td>\n",
       "    </tr>\n",
       "    <tr>\n",
       "      <th>913</th>\n",
       "      <td>WD2019-0610</td>\n",
       "      <td>Jackson</td>\n",
       "      <td>36S02W15</td>\n",
       "      <td>800,1001,1100</td>\n",
       "      <td>1</td>\n",
       "    </tr>\n",
       "    <tr>\n",
       "      <th>914</th>\n",
       "      <td>WD2019-0610</td>\n",
       "      <td>Jackson</td>\n",
       "      <td>36S02W16</td>\n",
       "      <td>100</td>\n",
       "      <td>1</td>\n",
       "    </tr>\n",
       "    <tr>\n",
       "      <th>915</th>\n",
       "      <td>WD2019-0610</td>\n",
       "      <td>Jackson</td>\n",
       "      <td>36S02W14</td>\n",
       "      <td>800,801</td>\n",
       "      <td>1</td>\n",
       "    </tr>\n",
       "    <tr>\n",
       "      <th>916</th>\n",
       "      <td>WD2019-0610</td>\n",
       "      <td>Jackson</td>\n",
       "      <td>36S04W14B</td>\n",
       "      <td>100,300,500,600,700,900,1200</td>\n",
       "      <td>1</td>\n",
       "    </tr>\n",
       "    <tr>\n",
       "      <th>917</th>\n",
       "      <td>WD2019-0610</td>\n",
       "      <td>Jackson</td>\n",
       "      <td>36S03W01</td>\n",
       "      <td>100,200,201,202,203,300,400,402,500,601</td>\n",
       "      <td>1</td>\n",
       "    </tr>\n",
       "    <tr>\n",
       "      <th>918</th>\n",
       "      <td>WD2019-0610</td>\n",
       "      <td>Jackson</td>\n",
       "      <td>36S03W03</td>\n",
       "      <td>100,200,400,600,700</td>\n",
       "      <td>1</td>\n",
       "    </tr>\n",
       "    <tr>\n",
       "      <th>919</th>\n",
       "      <td>WD2019-0610</td>\n",
       "      <td>Jackson</td>\n",
       "      <td>36S03W04</td>\n",
       "      <td>500,700,900</td>\n",
       "      <td>1</td>\n",
       "    </tr>\n",
       "    <tr>\n",
       "      <th>920</th>\n",
       "      <td>WD2019-0610</td>\n",
       "      <td>Jackson</td>\n",
       "      <td>36S03W05</td>\n",
       "      <td>300,400,700,800,900</td>\n",
       "      <td>1</td>\n",
       "    </tr>\n",
       "    <tr>\n",
       "      <th>921</th>\n",
       "      <td>WD2019-0610</td>\n",
       "      <td>Jackson</td>\n",
       "      <td>36S03W06</td>\n",
       "      <td>300</td>\n",
       "      <td>1</td>\n",
       "    </tr>\n",
       "    <tr>\n",
       "      <th>922</th>\n",
       "      <td>WD2019-0610</td>\n",
       "      <td>Jackson</td>\n",
       "      <td>36S03W07</td>\n",
       "      <td>100</td>\n",
       "      <td>1</td>\n",
       "    </tr>\n",
       "    <tr>\n",
       "      <th>923</th>\n",
       "      <td>WD2019-0610</td>\n",
       "      <td>Jackson</td>\n",
       "      <td>36S03W10</td>\n",
       "      <td>101,104,700,800,915</td>\n",
       "      <td>1</td>\n",
       "    </tr>\n",
       "    <tr>\n",
       "      <th>924</th>\n",
       "      <td>WD2019-0610</td>\n",
       "      <td>Jackson</td>\n",
       "      <td>36S04W12A</td>\n",
       "      <td>600,1100</td>\n",
       "      <td>1</td>\n",
       "    </tr>\n",
       "    <tr>\n",
       "      <th>925</th>\n",
       "      <td>WD2019-0610</td>\n",
       "      <td>Jackson</td>\n",
       "      <td>36S04W12C</td>\n",
       "      <td>1000,1300,1700,1800,1900,2000,2100,2300</td>\n",
       "      <td>1</td>\n",
       "    </tr>\n",
       "    <tr>\n",
       "      <th>926</th>\n",
       "      <td>WD2019-0610</td>\n",
       "      <td>Jackson</td>\n",
       "      <td>36S04W12D</td>\n",
       "      <td>100,900,1300,1400,1600,1700,1800,1900,2000</td>\n",
       "      <td>1</td>\n",
       "    </tr>\n",
       "    <tr>\n",
       "      <th>927</th>\n",
       "      <td>WD2019-0610</td>\n",
       "      <td>Jackson</td>\n",
       "      <td>36S04W13</td>\n",
       "      <td>200,301,302,304,305</td>\n",
       "      <td>1</td>\n",
       "    </tr>\n",
       "    <tr>\n",
       "      <th>928</th>\n",
       "      <td>WD2019-0610</td>\n",
       "      <td>Jackson</td>\n",
       "      <td>36S04W14A</td>\n",
       "      <td>200,300,400</td>\n",
       "      <td>1</td>\n",
       "    </tr>\n",
       "    <tr>\n",
       "      <th>929</th>\n",
       "      <td>WD2019-0610</td>\n",
       "      <td>Jackson</td>\n",
       "      <td>36S02W23</td>\n",
       "      <td>100,101,102,103</td>\n",
       "      <td>1</td>\n",
       "    </tr>\n",
       "    <tr>\n",
       "      <th>1023</th>\n",
       "      <td>WD2019-0610</td>\n",
       "      <td>Josephine</td>\n",
       "      <td>36S05W13</td>\n",
       "      <td>100</td>\n",
       "      <td>1</td>\n",
       "    </tr>\n",
       "    <tr>\n",
       "      <th>1024</th>\n",
       "      <td>WD2019-0610</td>\n",
       "      <td>Josephine</td>\n",
       "      <td>36S05W14</td>\n",
       "      <td>100,200,300,503,1200</td>\n",
       "      <td>1</td>\n",
       "    </tr>\n",
       "    <tr>\n",
       "      <th>1025</th>\n",
       "      <td>WD2019-0610</td>\n",
       "      <td>Josephine</td>\n",
       "      <td>36S05W15</td>\n",
       "      <td>100</td>\n",
       "      <td>1</td>\n",
       "    </tr>\n",
       "    <tr>\n",
       "      <th>1026</th>\n",
       "      <td>WD2019-0610</td>\n",
       "      <td>Josephine</td>\n",
       "      <td>36S05W15AB</td>\n",
       "      <td>300,400,500</td>\n",
       "      <td>1</td>\n",
       "    </tr>\n",
       "    <tr>\n",
       "      <th>1027</th>\n",
       "      <td>WD2019-0610</td>\n",
       "      <td>Josephine</td>\n",
       "      <td>36S05W15AC</td>\n",
       "      <td>100</td>\n",
       "      <td>1</td>\n",
       "    </tr>\n",
       "    <tr>\n",
       "      <th>1028</th>\n",
       "      <td>WD2019-0610</td>\n",
       "      <td>Josephine</td>\n",
       "      <td>36S05W15B</td>\n",
       "      <td>100</td>\n",
       "      <td>1</td>\n",
       "    </tr>\n",
       "    <tr>\n",
       "      <th>1029</th>\n",
       "      <td>WD2019-0610</td>\n",
       "      <td>Josephine</td>\n",
       "      <td>36S05W24</td>\n",
       "      <td>100,200</td>\n",
       "      <td>1</td>\n",
       "    </tr>\n",
       "    <tr>\n",
       "      <th>2093</th>\n",
       "      <td>WD2019-0008</td>\n",
       "      <td>Morrow</td>\n",
       "      <td>01N26E00</td>\n",
       "      <td>3502,3500,3400.3300,3301,3600,3201,3200,2900,2700</td>\n",
       "      <td>2</td>\n",
       "    </tr>\n",
       "    <tr>\n",
       "      <th>2094</th>\n",
       "      <td>WD2019-0008</td>\n",
       "      <td>Morrow</td>\n",
       "      <td>01N26E00</td>\n",
       "      <td>1100,1102,1200,1301,1500,2805</td>\n",
       "      <td>2</td>\n",
       "    </tr>\n",
       "    <tr>\n",
       "      <th>2095</th>\n",
       "      <td>WD2019-0008</td>\n",
       "      <td>Morrow</td>\n",
       "      <td>01N25E00</td>\n",
       "      <td>1600,3100</td>\n",
       "      <td>2</td>\n",
       "    </tr>\n",
       "    <tr>\n",
       "      <th>4111</th>\n",
       "      <td>WD2019-0008</td>\n",
       "      <td>Umatilla</td>\n",
       "      <td>02N28E00</td>\n",
       "      <td>1900p</td>\n",
       "      <td>5</td>\n",
       "    </tr>\n",
       "  </tbody>\n",
       "</table>\n",
       "</div>"
      ],
      "text/plain": [
       "     wetdet_delin_number     county       trsqq  \\\n",
       "896          WD2019-0610    Jackson    35S02W32   \n",
       "897          WD2019-0610    Jackson  36S04W15BB   \n",
       "898          WD2019-0610    Jackson    36S04W16   \n",
       "899          WD2019-0610    Jackson   36S04W16A   \n",
       "900          WD2019-0610    Jackson  36S04W16AA   \n",
       "901          WD2019-0610    Jackson    36S04W17   \n",
       "902          WD2019-0610    Jackson    36S04W19   \n",
       "903          WD2019-0610    Jackson   36S04W19D   \n",
       "904          WD2019-0610    Jackson    36S04W20   \n",
       "905          WD2019-0610    Jackson    36S04W15   \n",
       "906          WD2019-0610    Jackson    36S04W11   \n",
       "907          WD2019-0610    Jackson    36S02W09   \n",
       "908          WD2019-0610    Jackson   36S04W21B   \n",
       "909          WD2019-0610    Jackson    36S03W02   \n",
       "910          WD2019-0610    Jackson    36S02W04   \n",
       "911          WD2019-0610    Jackson    36S02W05   \n",
       "912          WD2019-0610    Jackson    36S02W06   \n",
       "913          WD2019-0610    Jackson    36S02W15   \n",
       "914          WD2019-0610    Jackson    36S02W16   \n",
       "915          WD2019-0610    Jackson    36S02W14   \n",
       "916          WD2019-0610    Jackson   36S04W14B   \n",
       "917          WD2019-0610    Jackson    36S03W01   \n",
       "918          WD2019-0610    Jackson    36S03W03   \n",
       "919          WD2019-0610    Jackson    36S03W04   \n",
       "920          WD2019-0610    Jackson    36S03W05   \n",
       "921          WD2019-0610    Jackson    36S03W06   \n",
       "922          WD2019-0610    Jackson    36S03W07   \n",
       "923          WD2019-0610    Jackson    36S03W10   \n",
       "924          WD2019-0610    Jackson   36S04W12A   \n",
       "925          WD2019-0610    Jackson   36S04W12C   \n",
       "926          WD2019-0610    Jackson   36S04W12D   \n",
       "927          WD2019-0610    Jackson    36S04W13   \n",
       "928          WD2019-0610    Jackson   36S04W14A   \n",
       "929          WD2019-0610    Jackson    36S02W23   \n",
       "1023         WD2019-0610  Josephine    36S05W13   \n",
       "1024         WD2019-0610  Josephine    36S05W14   \n",
       "1025         WD2019-0610  Josephine    36S05W15   \n",
       "1026         WD2019-0610  Josephine  36S05W15AB   \n",
       "1027         WD2019-0610  Josephine  36S05W15AC   \n",
       "1028         WD2019-0610  Josephine   36S05W15B   \n",
       "1029         WD2019-0610  Josephine    36S05W24   \n",
       "2093         WD2019-0008     Morrow    01N26E00   \n",
       "2094         WD2019-0008     Morrow    01N26E00   \n",
       "2095         WD2019-0008     Morrow    01N25E00   \n",
       "4111         WD2019-0008   Umatilla    02N28E00   \n",
       "\n",
       "                                              parcel_id  SetID  \n",
       "896                                      2000,2003,2004      1  \n",
       "897       100,700,800,900,1000,1100,1200,1300,1400,1500      1  \n",
       "898                                      2700,2800,7600      1  \n",
       "899   1300,1401,1402,1403,1404,1407,1409,1500,1502,1503      1  \n",
       "900                  1100,1200,1300,1400,1500,1600,1700      1  \n",
       "901                                                 300      1  \n",
       "902                                     100,200,201,300      1  \n",
       "903                                             202,300      1  \n",
       "904                         100,200,400,401,403,500,600      1  \n",
       "905                                       100,1604,2000      1  \n",
       "906                                                 100      1  \n",
       "907                                         101,105,200      1  \n",
       "908                                                 100      1  \n",
       "909                             100,202,300,400,500,600      1  \n",
       "910           314,315,316,401,402,404,405,700,1000,1100      1  \n",
       "911             100,200,300,500,600,700,701,706,801,901      1  \n",
       "912                                     101,102,104,200      1  \n",
       "913                                       800,1001,1100      1  \n",
       "914                                                 100      1  \n",
       "915                                             800,801      1  \n",
       "916                        100,300,500,600,700,900,1200      1  \n",
       "917             100,200,201,202,203,300,400,402,500,601      1  \n",
       "918                                 100,200,400,600,700      1  \n",
       "919                                         500,700,900      1  \n",
       "920                                 300,400,700,800,900      1  \n",
       "921                                                 300      1  \n",
       "922                                                 100      1  \n",
       "923                                 101,104,700,800,915      1  \n",
       "924                                            600,1100      1  \n",
       "925             1000,1300,1700,1800,1900,2000,2100,2300      1  \n",
       "926          100,900,1300,1400,1600,1700,1800,1900,2000      1  \n",
       "927                                 200,301,302,304,305      1  \n",
       "928                                         200,300,400      1  \n",
       "929                                     100,101,102,103      1  \n",
       "1023                                                100      1  \n",
       "1024                               100,200,300,503,1200      1  \n",
       "1025                                                100      1  \n",
       "1026                                        300,400,500      1  \n",
       "1027                                                100      1  \n",
       "1028                                                100      1  \n",
       "1029                                            100,200      1  \n",
       "2093  3502,3500,3400.3300,3301,3600,3201,3200,2900,2700      2  \n",
       "2094                      1100,1102,1200,1301,1500,2805      2  \n",
       "2095                                          1600,3100      2  \n",
       "4111                                              1900p      5  "
      ]
     },
     "execution_count": 131,
     "metadata": {},
     "output_type": "execute_result"
    }
   ],
   "source": [
    "wd_all[wd_all.wetdet_delin_number.isin(check_cnt[check_cnt['count']>1].wdID.unique())][['wetdet_delin_number', 'county', 'trsqq', 'parcel_id', 'SetID']]"
   ]
  },
  {
   "cell_type": "code",
   "execution_count": 109,
   "id": "1d18f2e4",
   "metadata": {},
   "outputs": [],
   "source": [
    "qaqc_df = wd_all[wd_all.wetdet_delin_number.isin(qaqcIDs)][['county', 'wetdet_delin_number']].groupby(['county']).agg(lambda x: x.nunique()).reset_index().rename(columns={'wetdet_delin_number':'QAQC_count'})"
   ]
  },
  {
   "cell_type": "code",
   "execution_count": 111,
   "id": "f690a0c3",
   "metadata": {},
   "outputs": [
    {
     "data": {
      "text/plain": [
       "409"
      ]
     },
     "execution_count": 111,
     "metadata": {},
     "output_type": "execute_result"
    }
   ],
   "source": [
    "qaqc_df.QAQC_count.sum()"
   ]
  },
  {
   "cell_type": "code",
   "execution_count": 106,
   "id": "e3e478d1",
   "metadata": {},
   "outputs": [],
   "source": [
    "total_df = wd_all[['county', 'wetdet_delin_number']].groupby(['county']).agg(lambda x: x.nunique()).reset_index().rename(columns={'wetdet_delin_number':'total_count'})"
   ]
  },
  {
   "cell_type": "code",
   "execution_count": 112,
   "id": "f446895b",
   "metadata": {},
   "outputs": [
    {
     "data": {
      "text/plain": [
       "3080"
      ]
     },
     "execution_count": 112,
     "metadata": {},
     "output_type": "execute_result"
    }
   ],
   "source": [
    "total_df.total_count.sum()"
   ]
  },
  {
   "cell_type": "code",
   "execution_count": 120,
   "id": "9765add0",
   "metadata": {},
   "outputs": [
    {
     "data": {
      "text/plain": [
       "0.4607142857142857"
      ]
     },
     "execution_count": 120,
     "metadata": {},
     "output_type": "execute_result"
    }
   ],
   "source": [
    "(408+1011)/3080"
   ]
  },
  {
   "cell_type": "code",
   "execution_count": 113,
   "id": "027c4ba9",
   "metadata": {},
   "outputs": [
    {
     "data": {
      "text/plain": [
       "3916"
      ]
     },
     "execution_count": 113,
     "metadata": {},
     "output_type": "execute_result"
    }
   ],
   "source": [
    "781+650+906+869+443+267"
   ]
  },
  {
   "cell_type": "code",
   "execution_count": 121,
   "id": "b2801364",
   "metadata": {},
   "outputs": [],
   "source": [
    "total_df.merge(qaqc_df, on='county', how='left').to_csv(inpath+'\\\\reporting\\\\mapping_wd_counts.csv', index=False)"
   ]
  },
  {
   "cell_type": "code",
   "execution_count": 173,
   "id": "e55c5ce6",
   "metadata": {},
   "outputs": [],
   "source": [
    "rep_dat = pd.read_excel(inpath+'\\\\reporting\\\\mapping_wd_counts.xlsx')"
   ]
  },
  {
   "cell_type": "code",
   "execution_count": 97,
   "id": "fd630eea",
   "metadata": {},
   "outputs": [
    {
     "data": {
      "text/plain": [
       "Index(['County', 'Note', 'P1_2017_22', 'P1_ToMap', 'P2_2008_16', 'P2_ToMap',\n",
       "       'P3_1990_07', 'P3_ToMap'],\n",
       "      dtype='object')"
      ]
     },
     "execution_count": 97,
     "metadata": {},
     "output_type": "execute_result"
    }
   ],
   "source": [
    "rep_dat.columns"
   ]
  },
  {
   "cell_type": "code",
   "execution_count": 98,
   "id": "76d9e60a",
   "metadata": {},
   "outputs": [
    {
     "data": {
      "text/plain": [
       "array(['Participating', 'Non-Participating'], dtype=object)"
      ]
     },
     "execution_count": 98,
     "metadata": {},
     "output_type": "execute_result"
    }
   ],
   "source": [
    "rep_dat.Note.unique()"
   ]
  },
  {
   "cell_type": "code",
   "execution_count": 133,
   "id": "51d2877d",
   "metadata": {},
   "outputs": [
    {
     "data": {
      "text/plain": [
       "1182"
      ]
     },
     "execution_count": 133,
     "metadata": {},
     "output_type": "execute_result"
    }
   ],
   "source": [
    "rep_dat.P1_ToMap.sum()"
   ]
  },
  {
   "cell_type": "code",
   "execution_count": 134,
   "id": "908d0284",
   "metadata": {},
   "outputs": [],
   "source": [
    "df = rep_dat[rep_dat.Note=='Participating']"
   ]
  },
  {
   "cell_type": "code",
   "execution_count": 135,
   "id": "4fe6ac12",
   "metadata": {},
   "outputs": [
    {
     "data": {
      "text/plain": [
       "409"
      ]
     },
     "execution_count": 135,
     "metadata": {},
     "output_type": "execute_result"
    }
   ],
   "source": [
    "df.P1_ToMap.sum()"
   ]
  },
  {
   "cell_type": "code",
   "execution_count": 137,
   "id": "871d753e",
   "metadata": {},
   "outputs": [],
   "source": [
    "total = df.P1_2017_22.sum() + df.P2_2008_16.sum() + df.P3_1990_07.sum()"
   ]
  },
  {
   "cell_type": "code",
   "execution_count": 164,
   "id": "456931e5",
   "metadata": {},
   "outputs": [
    {
     "data": {
      "text/plain": [
       "0.32878048780487806"
      ]
     },
     "execution_count": 164,
     "metadata": {},
     "output_type": "execute_result"
    }
   ],
   "source": [
    "1011/df.P1_2017_22.sum()"
   ]
  },
  {
   "cell_type": "code",
   "execution_count": 138,
   "id": "938be344",
   "metadata": {},
   "outputs": [
    {
     "data": {
      "text/plain": [
       "16262"
      ]
     },
     "execution_count": 138,
     "metadata": {},
     "output_type": "execute_result"
    }
   ],
   "source": [
    "total"
   ]
  },
  {
   "cell_type": "code",
   "execution_count": 145,
   "id": "72744e49",
   "metadata": {},
   "outputs": [],
   "source": [
    "# hourly billing rate\n",
    "hbr = 87.51"
   ]
  },
  {
   "cell_type": "code",
   "execution_count": 146,
   "id": "54a36c7e",
   "metadata": {},
   "outputs": [],
   "source": [
    "# ratio for QAQC\n",
    "qaqc_r = 0.5"
   ]
  },
  {
   "cell_type": "code",
   "execution_count": 154,
   "id": "c810b88c",
   "metadata": {},
   "outputs": [],
   "source": [
    "# counts per hour\n",
    "cpr = 1/0.8"
   ]
  },
  {
   "cell_type": "code",
   "execution_count": 148,
   "id": "ad70554f",
   "metadata": {},
   "outputs": [],
   "source": [
    "# budget\n",
    "bdgt = 50000"
   ]
  },
  {
   "cell_type": "code",
   "execution_count": 162,
   "id": "86e907d7",
   "metadata": {},
   "outputs": [],
   "source": [
    "remain_total = df.P2_2008_16.sum() + df.P3_1990_07.sum()"
   ]
  },
  {
   "cell_type": "code",
   "execution_count": 167,
   "id": "771d3c4b",
   "metadata": {},
   "outputs": [
    {
     "data": {
      "text/plain": [
       "176.66794258373204"
      ]
     },
     "execution_count": 167,
     "metadata": {},
     "output_type": "execute_result"
    }
   ],
   "source": [
    "remain_total*0.7/2090*40"
   ]
  },
  {
   "cell_type": "code",
   "execution_count": 168,
   "id": "fc1b5ccf",
   "metadata": {
    "scrolled": true
   },
   "outputs": [
    {
     "data": {
      "text/plain": [
       "1750.625"
      ]
     },
     "execution_count": 168,
     "metadata": {},
     "output_type": "execute_result"
    }
   ],
   "source": [
    "(df.P1_ToMap.sum() + remain_total*qaqc_r)/4"
   ]
  },
  {
   "cell_type": "code",
   "execution_count": 170,
   "id": "5d43e18c",
   "metadata": {},
   "outputs": [
    {
     "data": {
      "text/plain": [
       "3.382456140350877"
      ]
     },
     "execution_count": 170,
     "metadata": {},
     "output_type": "execute_result"
    }
   ],
   "source": [
    "(1751+177)/570"
   ]
  },
  {
   "cell_type": "code",
   "execution_count": 155,
   "id": "ec90dae3",
   "metadata": {},
   "outputs": [
    {
     "data": {
      "text/plain": [
       "11.384700960000002"
      ]
     },
     "execution_count": 155,
     "metadata": {},
     "output_type": "execute_result"
    }
   ],
   "source": [
    "total * qaqc_r * hbr/cpr/bdgt"
   ]
  },
  {
   "cell_type": "code",
   "execution_count": 156,
   "id": "ea09de4c",
   "metadata": {},
   "outputs": [],
   "source": [
    "mapped = df.P1_2017_22.sum() - df.P1_ToMap.sum()"
   ]
  },
  {
   "cell_type": "code",
   "execution_count": 158,
   "id": "cf417909",
   "metadata": {},
   "outputs": [
    {
     "data": {
      "text/plain": [
       "2666"
      ]
     },
     "execution_count": 158,
     "metadata": {},
     "output_type": "execute_result"
    }
   ],
   "source": [
    "mapped"
   ]
  },
  {
   "cell_type": "code",
   "execution_count": 157,
   "id": "cf79cbda",
   "metadata": {},
   "outputs": [
    {
     "data": {
      "text/plain": [
       "0.16394047472635592"
      ]
     },
     "execution_count": 157,
     "metadata": {},
     "output_type": "execute_result"
    }
   ],
   "source": [
    "mapped / total"
   ]
  },
  {
   "cell_type": "code",
   "execution_count": 150,
   "id": "8c0f314d",
   "metadata": {},
   "outputs": [
    {
     "data": {
      "text/plain": [
       "571.3632727688264"
      ]
     },
     "execution_count": 150,
     "metadata": {},
     "output_type": "execute_result"
    }
   ],
   "source": [
    "bdgt/hbr"
   ]
  },
  {
   "cell_type": "code",
   "execution_count": 178,
   "id": "57549531",
   "metadata": {},
   "outputs": [],
   "source": [
    "gdf = gpd.read_file(r'X:\\Data\\State\\ORCnty2015.shp')\n",
    "gdf = gdf[['altName', 'geometry']]\n",
    "gdf.rename(columns={'altName':'County'}, inplace=True)"
   ]
  },
  {
   "cell_type": "code",
   "execution_count": 179,
   "id": "24fe1c62",
   "metadata": {},
   "outputs": [],
   "source": [
    "gdf = gdf.merge(rep_dat, on='County', how='left')"
   ]
  },
  {
   "cell_type": "code",
   "execution_count": 180,
   "id": "143ff69c",
   "metadata": {},
   "outputs": [],
   "source": [
    "gdf.loc[:, 'Tot_ToMap'] =  gdf.P1_ToMap + gdf.P2_ToMap + gdf.P3_ToMap"
   ]
  },
  {
   "cell_type": "code",
   "execution_count": 190,
   "id": "e9b6ebdb",
   "metadata": {},
   "outputs": [],
   "source": [
    "gdf.loc[:, 'Tot_Count'] =  gdf.P1_2017_22 + gdf.P2_2008_16 + gdf.P3_1990_07"
   ]
  },
  {
   "cell_type": "code",
   "execution_count": 204,
   "id": "98f515c3",
   "metadata": {},
   "outputs": [],
   "source": [
    "gdf.loc[:, 'QAQC_Ratio'] = gdf.Tot_ToMap / gdf.Tot_Count"
   ]
  },
  {
   "cell_type": "code",
   "execution_count": 210,
   "id": "c8215678",
   "metadata": {},
   "outputs": [],
   "source": [
    "gdf.loc[:, 'Auto_Comp'] = gdf.Tot_Count - gdf.Tot_ToMap"
   ]
  },
  {
   "cell_type": "code",
   "execution_count": 211,
   "id": "238a7b4a",
   "metadata": {},
   "outputs": [],
   "source": [
    "gdf.to_file(inpath+'\\\\reporting\\\\WD_Counts.shp')"
   ]
  },
  {
   "cell_type": "code",
   "execution_count": 212,
   "id": "b714fa7d",
   "metadata": {},
   "outputs": [],
   "source": [
    "os.remove(inpath+\"\\\\reporting\\\\WD_Counts.zip\")"
   ]
  },
  {
   "cell_type": "code",
   "execution_count": 207,
   "id": "250ecb17",
   "metadata": {},
   "outputs": [],
   "source": [
    "file_name_list = glob.glob(inpath+\"\\\\reporting\\\\WD_Counts.*\")"
   ]
  },
  {
   "cell_type": "code",
   "execution_count": 193,
   "id": "ebcc9ece",
   "metadata": {},
   "outputs": [],
   "source": [
    "zip_file_name = inpath+\"\\\\reporting\\\\WD_Counts.zip\""
   ]
  },
  {
   "cell_type": "code",
   "execution_count": 208,
   "id": "a3fc505f",
   "metadata": {},
   "outputs": [
    {
     "data": {
      "text/plain": [
       "['L:\\\\NaturalResources\\\\Wetlands\\\\Local Wetland Inventory\\\\WAPO\\\\EPA_2022_Tasks\\\\Task 1 WD Mapping\\\\reporting\\\\WD_Counts.cpg',\n",
       " 'L:\\\\NaturalResources\\\\Wetlands\\\\Local Wetland Inventory\\\\WAPO\\\\EPA_2022_Tasks\\\\Task 1 WD Mapping\\\\reporting\\\\WD_Counts.dbf',\n",
       " 'L:\\\\NaturalResources\\\\Wetlands\\\\Local Wetland Inventory\\\\WAPO\\\\EPA_2022_Tasks\\\\Task 1 WD Mapping\\\\reporting\\\\WD_Counts.prj',\n",
       " 'L:\\\\NaturalResources\\\\Wetlands\\\\Local Wetland Inventory\\\\WAPO\\\\EPA_2022_Tasks\\\\Task 1 WD Mapping\\\\reporting\\\\WD_Counts.shp',\n",
       " 'L:\\\\NaturalResources\\\\Wetlands\\\\Local Wetland Inventory\\\\WAPO\\\\EPA_2022_Tasks\\\\Task 1 WD Mapping\\\\reporting\\\\WD_Counts.shx']"
      ]
     },
     "execution_count": 208,
     "metadata": {},
     "output_type": "execute_result"
    }
   ],
   "source": [
    "file_name_list"
   ]
  },
  {
   "cell_type": "code",
   "execution_count": 213,
   "id": "d1f8a1a5",
   "metadata": {},
   "outputs": [
    {
     "name": "stdout",
     "output_type": "stream",
     "text": [
      " *** Input File name passed for zipping - ['L:\\\\NaturalResources\\\\Wetlands\\\\Local Wetland Inventory\\\\WAPO\\\\EPA_2022_Tasks\\\\Task 1 WD Mapping\\\\reporting\\\\WD_Counts.cpg', 'L:\\\\NaturalResources\\\\Wetlands\\\\Local Wetland Inventory\\\\WAPO\\\\EPA_2022_Tasks\\\\Task 1 WD Mapping\\\\reporting\\\\WD_Counts.dbf', 'L:\\\\NaturalResources\\\\Wetlands\\\\Local Wetland Inventory\\\\WAPO\\\\EPA_2022_Tasks\\\\Task 1 WD Mapping\\\\reporting\\\\WD_Counts.prj', 'L:\\\\NaturalResources\\\\Wetlands\\\\Local Wetland Inventory\\\\WAPO\\\\EPA_2022_Tasks\\\\Task 1 WD Mapping\\\\reporting\\\\WD_Counts.shp', 'L:\\\\NaturalResources\\\\Wetlands\\\\Local Wetland Inventory\\\\WAPO\\\\EPA_2022_Tasks\\\\Task 1 WD Mapping\\\\reporting\\\\WD_Counts.shx']\n",
      " *** out_zip_file is - L:\\NaturalResources\\Wetlands\\Local Wetland Inventory\\WAPO\\EPA_2022_Tasks\\Task 1 WD Mapping\\reporting\\WD_Counts.zip\n",
      " *** Processing file L:\\NaturalResources\\Wetlands\\Local Wetland Inventory\\WAPO\\EPA_2022_Tasks\\Task 1 WD Mapping\\reporting\\WD_Counts.cpg\n",
      " *** Processing file L:\\NaturalResources\\Wetlands\\Local Wetland Inventory\\WAPO\\EPA_2022_Tasks\\Task 1 WD Mapping\\reporting\\WD_Counts.dbf\n",
      " *** Processing file L:\\NaturalResources\\Wetlands\\Local Wetland Inventory\\WAPO\\EPA_2022_Tasks\\Task 1 WD Mapping\\reporting\\WD_Counts.prj\n",
      " *** Processing file L:\\NaturalResources\\Wetlands\\Local Wetland Inventory\\WAPO\\EPA_2022_Tasks\\Task 1 WD Mapping\\reporting\\WD_Counts.shp\n",
      " *** Processing file L:\\NaturalResources\\Wetlands\\Local Wetland Inventory\\WAPO\\EPA_2022_Tasks\\Task 1 WD Mapping\\reporting\\WD_Counts.shx\n"
     ]
    }
   ],
   "source": [
    "file_compress(file_name_list, zip_file_name)"
   ]
  }
 ],
 "metadata": {
  "kernelspec": {
   "display_name": "Python 3",
   "language": "python",
   "name": "python3"
  },
  "language_info": {
   "codemirror_mode": {
    "name": "ipython",
    "version": 3
   },
   "file_extension": ".py",
   "mimetype": "text/x-python",
   "name": "python",
   "nbconvert_exporter": "python",
   "pygments_lexer": "ipython3",
   "version": "3.8.8"
  }
 },
 "nbformat": 4,
 "nbformat_minor": 5
}
