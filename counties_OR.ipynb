{
 "cells": [
  {
   "cell_type": "code",
   "execution_count": 2,
   "id": "2b85c3c0",
   "metadata": {},
   "outputs": [],
   "source": [
    "import geopandas as gpd\n",
    "import pandas as pd"
   ]
  },
  {
   "cell_type": "code",
   "execution_count": 3,
   "id": "b5e21773",
   "metadata": {},
   "outputs": [],
   "source": [
    "cnts = gpd.read_file(r\"L:\\NaturalResources\\Wetlands\\Local Wetland Inventory\\WAPO\\EPA_2022_Tasks\\Task 1 WD Mapping\\GIS\\Oregon_Counties.shp\")"
   ]
  },
  {
   "cell_type": "code",
   "execution_count": 5,
   "id": "1ad9e14d",
   "metadata": {},
   "outputs": [
    {
     "data": {
      "text/plain": [
       "<Geographic 2D CRS: EPSG:4269>\n",
       "Name: NAD83\n",
       "Axis Info [ellipsoidal]:\n",
       "- Lat[north]: Geodetic latitude (degree)\n",
       "- Lon[east]: Geodetic longitude (degree)\n",
       "Area of Use:\n",
       "- name: North America - onshore and offshore: Canada - Alberta; British Columbia; Manitoba; New Brunswick; Newfoundland and Labrador; Northwest Territories; Nova Scotia; Nunavut; Ontario; Prince Edward Island; Quebec; Saskatchewan; Yukon. Puerto Rico. United States (USA) - Alabama; Alaska; Arizona; Arkansas; California; Colorado; Connecticut; Delaware; Florida; Georgia; Hawaii; Idaho; Illinois; Indiana; Iowa; Kansas; Kentucky; Louisiana; Maine; Maryland; Massachusetts; Michigan; Minnesota; Mississippi; Missouri; Montana; Nebraska; Nevada; New Hampshire; New Jersey; New Mexico; New York; North Carolina; North Dakota; Ohio; Oklahoma; Oregon; Pennsylvania; Rhode Island; South Carolina; South Dakota; Tennessee; Texas; Utah; Vermont; Virginia; Washington; West Virginia; Wisconsin; Wyoming. US Virgin Islands. British Virgin Islands.\n",
       "- bounds: (167.65071105957, 14.928194130078, -47.743430543984, 86.453745196084)\n",
       "Datum: North American Datum 1983\n",
       "- Ellipsoid: GRS 1980\n",
       "- Prime Meridian: Greenwich"
      ]
     },
     "execution_count": 5,
     "metadata": {},
     "output_type": "execute_result"
    }
   ],
   "source": [
    "cnts.crs"
   ]
  },
  {
   "cell_type": "code",
   "execution_count": 8,
   "id": "dfadef27",
   "metadata": {},
   "outputs": [],
   "source": [
    "def get_point_from_lonlat(lon, lat, transprj=True, export=True):\n",
    "    \"\"\"\n",
    "    Get a point from a lon/lat pair\n",
    "    \"\"\"\n",
    "    df = pd.DataFrame([[lon, lat]], columns=['Longitude', 'Latitude'])\n",
    "    gdf = gpd.GeoDataFrame(df, crs=\"EPSG:4326\", geometry=gpd.points_from_xy(df.Longitude, df.Latitude))\n",
    "    if transprj:\n",
    "        gdf = gdf.to_crs(epsg=2992)\n",
    "    if export:\n",
    "        gdf.to_file(inpath + '\\\\test\\point.shp')\n",
    "    return gdf"
   ]
  },
  {
   "cell_type": "code",
   "execution_count": 11,
   "id": "7b9ce784",
   "metadata": {},
   "outputs": [],
   "source": [
    "pnt = get_point_from_lonlat(lon=-123.351673, lat=45.304685, transprj=False, export=False)"
   ]
  },
  {
   "cell_type": "code",
   "execution_count": 14,
   "id": "d0f983ed",
   "metadata": {},
   "outputs": [
    {
     "data": {
      "text/html": [
       "<div>\n",
       "<style scoped>\n",
       "    .dataframe tbody tr th:only-of-type {\n",
       "        vertical-align: middle;\n",
       "    }\n",
       "\n",
       "    .dataframe tbody tr th {\n",
       "        vertical-align: top;\n",
       "    }\n",
       "\n",
       "    .dataframe thead th {\n",
       "        text-align: right;\n",
       "    }\n",
       "</style>\n",
       "<table border=\"1\" class=\"dataframe\">\n",
       "  <thead>\n",
       "    <tr style=\"text-align: right;\">\n",
       "      <th></th>\n",
       "      <th>STATEFP</th>\n",
       "      <th>COUNTYFP</th>\n",
       "      <th>COUNTYNS</th>\n",
       "      <th>AFFGEOID</th>\n",
       "      <th>GEOID</th>\n",
       "      <th>NAME</th>\n",
       "      <th>NAMELSAD</th>\n",
       "      <th>STUSPS</th>\n",
       "      <th>STATE_NAME</th>\n",
       "      <th>LSAD</th>\n",
       "      <th>ALAND</th>\n",
       "      <th>AWATER</th>\n",
       "      <th>Shape_Leng</th>\n",
       "      <th>Shape_Area</th>\n",
       "      <th>geometry</th>\n",
       "    </tr>\n",
       "  </thead>\n",
       "  <tbody>\n",
       "    <tr>\n",
       "      <th>0</th>\n",
       "      <td>41</td>\n",
       "      <td>041</td>\n",
       "      <td>01135856</td>\n",
       "      <td>0500000US41041</td>\n",
       "      <td>41041</td>\n",
       "      <td>Lincoln</td>\n",
       "      <td>Lincoln County</td>\n",
       "      <td>OR</td>\n",
       "      <td>Oregon</td>\n",
       "      <td>06</td>\n",
       "      <td>2.540731e+09</td>\n",
       "      <td>553147948.0</td>\n",
       "      <td>2.633880</td>\n",
       "      <td>0.291816</td>\n",
       "      <td>POLYGON ((-124.11401 44.28984, -124.11334 44.2...</td>\n",
       "    </tr>\n",
       "    <tr>\n",
       "      <th>1</th>\n",
       "      <td>41</td>\n",
       "      <td>047</td>\n",
       "      <td>01135859</td>\n",
       "      <td>0500000US41047</td>\n",
       "      <td>41047</td>\n",
       "      <td>Marion</td>\n",
       "      <td>Marion County</td>\n",
       "      <td>OR</td>\n",
       "      <td>Oregon</td>\n",
       "      <td>06</td>\n",
       "      <td>3.059028e+09</td>\n",
       "      <td>26557042.0</td>\n",
       "      <td>4.803694</td>\n",
       "      <td>0.351539</td>\n",
       "      <td>POLYGON ((-123.18091 44.85755, -123.18053 44.8...</td>\n",
       "    </tr>\n",
       "    <tr>\n",
       "      <th>2</th>\n",
       "      <td>41</td>\n",
       "      <td>055</td>\n",
       "      <td>01135863</td>\n",
       "      <td>0500000US41055</td>\n",
       "      <td>41055</td>\n",
       "      <td>Sherman</td>\n",
       "      <td>Sherman County</td>\n",
       "      <td>OR</td>\n",
       "      <td>Oregon</td>\n",
       "      <td>06</td>\n",
       "      <td>2.133152e+09</td>\n",
       "      <td>19617472.0</td>\n",
       "      <td>3.413503</td>\n",
       "      <td>0.247403</td>\n",
       "      <td>POLYGON ((-121.03120 45.28586, -121.02635 45.2...</td>\n",
       "    </tr>\n",
       "  </tbody>\n",
       "</table>\n",
       "</div>"
      ],
      "text/plain": [
       "  STATEFP COUNTYFP  COUNTYNS        AFFGEOID  GEOID     NAME        NAMELSAD  \\\n",
       "0      41      041  01135856  0500000US41041  41041  Lincoln  Lincoln County   \n",
       "1      41      047  01135859  0500000US41047  41047   Marion   Marion County   \n",
       "2      41      055  01135863  0500000US41055  41055  Sherman  Sherman County   \n",
       "\n",
       "  STUSPS STATE_NAME LSAD         ALAND       AWATER  Shape_Leng  Shape_Area  \\\n",
       "0     OR     Oregon   06  2.540731e+09  553147948.0    2.633880    0.291816   \n",
       "1     OR     Oregon   06  3.059028e+09   26557042.0    4.803694    0.351539   \n",
       "2     OR     Oregon   06  2.133152e+09   19617472.0    3.413503    0.247403   \n",
       "\n",
       "                                            geometry  \n",
       "0  POLYGON ((-124.11401 44.28984, -124.11334 44.2...  \n",
       "1  POLYGON ((-123.18091 44.85755, -123.18053 44.8...  \n",
       "2  POLYGON ((-121.03120 45.28586, -121.02635 45.2...  "
      ]
     },
     "execution_count": 14,
     "metadata": {},
     "output_type": "execute_result"
    }
   ],
   "source": [
    "cnts.head(3)"
   ]
  },
  {
   "cell_type": "code",
   "execution_count": 19,
   "id": "20463bfb",
   "metadata": {},
   "outputs": [],
   "source": [
    "polygon = cnts"
   ]
  },
  {
   "cell_type": "code",
   "execution_count": 24,
   "id": "ada1be0c",
   "metadata": {},
   "outputs": [],
   "source": [
    "point = pnt"
   ]
  },
  {
   "cell_type": "code",
   "execution_count": 20,
   "id": "3580b295",
   "metadata": {},
   "outputs": [],
   "source": [
    "id_list = list(polygon.NAME)"
   ]
  },
  {
   "cell_type": "code",
   "execution_count": 21,
   "id": "47d16a5b",
   "metadata": {},
   "outputs": [],
   "source": [
    "df = pd.DataFrame().reindex_like(points).dropna()"
   ]
  },
  {
   "cell_type": "code",
   "execution_count": 23,
   "id": "96ffaefb",
   "metadata": {},
   "outputs": [
    {
     "data": {
      "text/plain": [
       "['Lincoln',\n",
       " 'Marion',\n",
       " 'Sherman',\n",
       " 'Benton',\n",
       " 'Grant',\n",
       " 'Baker',\n",
       " 'Multnomah',\n",
       " 'Wasco',\n",
       " 'Douglas',\n",
       " 'Tillamook',\n",
       " 'Clatsop',\n",
       " 'Josephine',\n",
       " 'Clackamas',\n",
       " 'Curry',\n",
       " 'Gilliam',\n",
       " 'Linn',\n",
       " 'Deschutes',\n",
       " 'Jefferson',\n",
       " 'Malheur',\n",
       " 'Washington',\n",
       " 'Wallowa',\n",
       " 'Lane',\n",
       " 'Union',\n",
       " 'Umatilla',\n",
       " 'Hood River',\n",
       " 'Yamhill',\n",
       " 'Wheeler',\n",
       " 'Coos',\n",
       " 'Morrow',\n",
       " 'Polk',\n",
       " 'Lake',\n",
       " 'Crook',\n",
       " 'Jackson',\n",
       " 'Harney',\n",
       " 'Columbia',\n",
       " 'Klamath']"
      ]
     },
     "execution_count": 23,
     "metadata": {},
     "output_type": "execute_result"
    }
   ],
   "source": [
    "id_list"
   ]
  },
  {
   "cell_type": "code",
   "execution_count": 25,
   "id": "203df58b",
   "metadata": {},
   "outputs": [],
   "source": [
    "pip_mask = polygon.contains(point.loc[0, 'geometry'])"
   ]
  },
  {
   "cell_type": "code",
   "execution_count": 27,
   "id": "fbad56e7",
   "metadata": {},
   "outputs": [],
   "source": [
    "pip_data = polygon.loc[pip_mask].copy()"
   ]
  },
  {
   "cell_type": "code",
   "execution_count": 30,
   "id": "9d512bb3",
   "metadata": {},
   "outputs": [
    {
     "data": {
      "text/plain": [
       "'Yamhill'"
      ]
     },
     "execution_count": 30,
     "metadata": {},
     "output_type": "execute_result"
    }
   ],
   "source": [
    "pip_data.NAME.values[0]"
   ]
  },
  {
   "cell_type": "code",
   "execution_count": 31,
   "id": "6727785a",
   "metadata": {},
   "outputs": [],
   "source": [
    "def extract_county_name(point, polygon):\n",
    "    \"\"\"\n",
    "    Extract county name from a point in polygon analysis\n",
    "    \"\"\"\n",
    "    pip_mask = polygon.contains(point.loc[0, 'geometry'])\n",
    "    if any(pip_mask):\n",
    "        pip_data = polygon.loc[pip_mask].copy()\n",
    "    else:\n",
    "        pip_data = gpd.sjoin_nearest(point, polygon, distance_col='dist')\n",
    "    cnty = pip_data.NAME.values[0]\n",
    "    if not any(pip_mask):\n",
    "        dist = pip_data.dist.values[0]\n",
    "        print(f'Found {cnty}, about {int(dist+0.5)} degree away')\n",
    "    return cnty"
   ]
  },
  {
   "cell_type": "code",
   "execution_count": 32,
   "id": "83b66a45",
   "metadata": {},
   "outputs": [
    {
     "data": {
      "text/plain": [
       "'Yamhill'"
      ]
     },
     "execution_count": 32,
     "metadata": {},
     "output_type": "execute_result"
    }
   ],
   "source": [
    "extract_county_name(point, polygon)"
   ]
  }
 ],
 "metadata": {
  "kernelspec": {
   "display_name": "Python 3",
   "language": "python",
   "name": "python3"
  },
  "language_info": {
   "codemirror_mode": {
    "name": "ipython",
    "version": 3
   },
   "file_extension": ".py",
   "mimetype": "text/x-python",
   "name": "python",
   "nbconvert_exporter": "python",
   "pygments_lexer": "ipython3",
   "version": "3.8.8"
  }
 },
 "nbformat": 4,
 "nbformat_minor": 5
}
