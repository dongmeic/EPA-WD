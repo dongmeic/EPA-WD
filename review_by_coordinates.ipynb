{
 "cells": [
  {
   "cell_type": "code",
   "execution_count": 1,
   "id": "87c893a4",
   "metadata": {},
   "outputs": [],
   "source": [
    "from wdtools import *"
   ]
  },
  {
   "cell_type": "code",
   "execution_count": 2,
   "id": "d22f4c6c",
   "metadata": {},
   "outputs": [
    {
     "name": "stdout",
     "output_type": "stream",
     "text": [
      "it took 7.0 minutes to complete\n"
     ]
    }
   ],
   "source": [
    "# this can take about 7 minutes\n",
    "start = time.time()\n",
    "all_taxlot = combine_taxlot()\n",
    "end = time.time()\n",
    "print(f'it took {round((end - start)/60, 0)} minutes to complete')"
   ]
  },
  {
   "cell_type": "code",
   "execution_count": 5,
   "id": "886f558b",
   "metadata": {},
   "outputs": [],
   "source": [
    "trsqq, trsqq_dict, df = read_trsqq()"
   ]
  },
  {
   "cell_type": "code",
   "execution_count": 10,
   "id": "b2624928",
   "metadata": {},
   "outputs": [],
   "source": [
    "test = '07N02W17CC'"
   ]
  },
  {
   "cell_type": "code",
   "execution_count": 11,
   "id": "cef779e0",
   "metadata": {},
   "outputs": [
    {
     "data": {
      "text/plain": [
       "False"
      ]
     },
     "execution_count": 11,
     "metadata": {},
     "output_type": "execute_result"
    }
   ],
   "source": [
    "test in trsqq"
   ]
  },
  {
   "cell_type": "code",
   "execution_count": 9,
   "id": "37b83ac8",
   "metadata": {},
   "outputs": [
    {
     "data": {
      "text/plain": [
       "280971    0507.00N02.00W08CC--000000202\n",
       "280972    0507.00N02.00W08CC--000000204\n",
       "280973    0507.00N02.00W08CC--000000300\n",
       "280974    0507.00N02.00W08CC--000000600\n",
       "280975    0507.00N02.00W08CC--000000700\n",
       "280976    0507.00N02.00W08CC--000000701\n",
       "280977    0507.00N02.00W08CC--000000800\n",
       "280978    0507.00N02.00W08CC--000000900\n",
       "280979    0507.00N02.00W08CC--000001000\n",
       "Name: ORTaxlot, dtype: object"
      ]
     },
     "execution_count": 9,
     "metadata": {},
     "output_type": "execute_result"
    }
   ],
   "source": [
    "df.loc[df.trsqq == test, 'ORTaxlot']"
   ]
  }
 ],
 "metadata": {
  "kernelspec": {
   "display_name": "Python 3",
   "language": "python",
   "name": "python3"
  },
  "language_info": {
   "codemirror_mode": {
    "name": "ipython",
    "version": 3
   },
   "file_extension": ".py",
   "mimetype": "text/x-python",
   "name": "python",
   "nbconvert_exporter": "python",
   "pygments_lexer": "ipython3",
   "version": "3.8.8"
  }
 },
 "nbformat": 4,
 "nbformat_minor": 5
}
