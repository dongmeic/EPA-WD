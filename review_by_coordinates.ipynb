{
 "cells": [
  {
   "cell_type": "code",
   "execution_count": 2,
   "id": "6d139225",
   "metadata": {},
   "outputs": [],
   "source": [
    "import re"
   ]
  },
  {
   "cell_type": "code",
   "execution_count": 1,
   "id": "a9989eef",
   "metadata": {},
   "outputs": [],
   "source": [
    "def get_lot_numbers(x):\n",
    "    if type(x) is int:\n",
    "        s = str(x)\n",
    "        if len(str(x)) > 4:\n",
    "            idx = [i for i, char in enumerate(s) if char != '0']\n",
    "            lot_list = []\n",
    "            for i in range(len(idx)-1):\n",
    "                lot_list.append(s[idx[i]:idx[i+1]])\n",
    "            lot_list.append(s[idx[len(idx)-1]:])\n",
    "            res = lot_list\n",
    "        else:\n",
    "            res = s\n",
    "    else:\n",
    "        # remove parenthesis from text\n",
    "        if '(' in x:\n",
    "            txt = x.replace('(','').replace(')','')\n",
    "        else:\n",
    "            txt = x\n",
    "        # split the text\n",
    "        lot_list = re.split(\",|, | |-\", txt)\n",
    "        # remove text elements\n",
    "        l = []\n",
    "        # in case there are still number-letter strings (e.g., '1a')\n",
    "        for t in [lot for lot in lot_list if ~lot.isnumeric()]:\n",
    "            if any(c.isdigit() for c in t):\n",
    "                l.append(re.sub('\\D', '', t))\n",
    "        res = unique([lot for lot in lot_list if lot.isnumeric()] + l)\n",
    "    return res"
   ]
  },
  {
   "cell_type": "code",
   "execution_count": 3,
   "id": "ed0bedb0",
   "metadata": {},
   "outputs": [
    {
     "data": {
      "text/plain": [
       "'201'"
      ]
     },
     "execution_count": 3,
     "metadata": {},
     "output_type": "execute_result"
    }
   ],
   "source": [
    "get_lot_numbers(201)"
   ]
  }
 ],
 "metadata": {
  "kernelspec": {
   "display_name": "Python 3",
   "language": "python",
   "name": "python3"
  },
  "language_info": {
   "codemirror_mode": {
    "name": "ipython",
    "version": 3
   },
   "file_extension": ".py",
   "mimetype": "text/x-python",
   "name": "python",
   "nbconvert_exporter": "python",
   "pygments_lexer": "ipython3",
   "version": "3.8.8"
  }
 },
 "nbformat": 4,
 "nbformat_minor": 5
}
