{
 "cells": [
  {
   "cell_type": "code",
   "execution_count": 5,
   "id": "f5691514",
   "metadata": {},
   "outputs": [
    {
     "name": "stdout",
     "output_type": "stream",
     "text": [
      "The autoreload extension is already loaded. To reload it, use:\n",
      "  %reload_ext autoreload\n"
     ]
    }
   ],
   "source": [
    "%load_ext autoreload\n",
    "%autoreload 2"
   ]
  },
  {
   "cell_type": "code",
   "execution_count": 75,
   "id": "87c893a4",
   "metadata": {},
   "outputs": [],
   "source": [
    "from wdtools import *"
   ]
  },
  {
   "cell_type": "code",
   "execution_count": 2,
   "id": "d22f4c6c",
   "metadata": {},
   "outputs": [
    {
     "name": "stdout",
     "output_type": "stream",
     "text": [
      "it took 7.0 minutes to complete\n"
     ]
    }
   ],
   "source": [
    "# this can take about 7 minutes\n",
    "start = time.time()\n",
    "all_taxlot = combine_taxlot()\n",
    "end = time.time()\n",
    "print(f'it took {round((end - start)/60, 0)} minutes to complete')"
   ]
  },
  {
   "cell_type": "code",
   "execution_count": 23,
   "id": "886f558b",
   "metadata": {},
   "outputs": [],
   "source": [
    "trsqq, trsqq_dict, df = read_trsqq()"
   ]
  },
  {
   "cell_type": "code",
   "execution_count": 101,
   "id": "b2624928",
   "metadata": {},
   "outputs": [],
   "source": [
    "test = '39S09E08C'"
   ]
  },
  {
   "cell_type": "code",
   "execution_count": 102,
   "id": "cef779e0",
   "metadata": {},
   "outputs": [
    {
     "data": {
      "text/plain": [
       "False"
      ]
     },
     "execution_count": 102,
     "metadata": {},
     "output_type": "execute_result"
    }
   ],
   "source": [
    "test in trsqq"
   ]
  },
  {
   "cell_type": "code",
   "execution_count": 77,
   "id": "55f61c85",
   "metadata": {},
   "outputs": [
    {
     "data": {
      "text/plain": [
       "'33.00S07.50E0900'"
      ]
     },
     "execution_count": 77,
     "metadata": {},
     "output_type": "execute_result"
    }
   ],
   "source": [
    "convert_trsqq(test)[:16]"
   ]
  },
  {
   "cell_type": "code",
   "execution_count": 94,
   "id": "91f50057",
   "metadata": {},
   "outputs": [
    {
     "data": {
      "text/plain": [
       "706990    1839.00S09.00E1400--000000101\n",
       "706991    1839.00S09.00E1400--000000102\n",
       "706992    1839.00S09.00E1400--000000103\n",
       "706993    1839.00S09.00E1400--000000104\n",
       "706994    1839.00S09.00E1400--000000105\n",
       "706995    1839.00S09.00E1400--000000106\n",
       "706996    1839.00S09.00E1400--000000500\n",
       "706997    1839.00S09.00E1400--000000600\n",
       "706998    1839.00S09.00E1400--000000700\n",
       "706999    1839.00S09.00E1400--000000800\n",
       "707000    1839.00S09.00E1400--000000900\n",
       "707001    1839.00S09.00E1400--000001000\n",
       "Name: ORTaxlot, dtype: object"
      ]
     },
     "execution_count": 94,
     "metadata": {},
     "output_type": "execute_result"
    }
   ],
   "source": [
    "df.loc[df.trsqq == test, 'ORTaxlot']"
   ]
  },
  {
   "cell_type": "code",
   "execution_count": 98,
   "id": "37b83ac8",
   "metadata": {},
   "outputs": [
    {
     "data": {
      "text/plain": [
       "Series([], Name: ORTaxlot, dtype: object)"
      ]
     },
     "execution_count": 98,
     "metadata": {},
     "output_type": "execute_result"
    }
   ],
   "source": [
    "df.loc[df.trsqq == '39S09E08D', 'ORTaxlot']"
   ]
  },
  {
   "cell_type": "code",
   "execution_count": 95,
   "id": "fcbc5b6d",
   "metadata": {},
   "outputs": [],
   "source": [
    "lat = 42.1553\n",
    "lon = -121.47"
   ]
  },
  {
   "cell_type": "code",
   "execution_count": 96,
   "id": "7c8eebd6",
   "metadata": {},
   "outputs": [],
   "source": [
    "wd_pt = get_point_from_lonlat(lon, lat, export=True)"
   ]
  },
  {
   "cell_type": "code",
   "execution_count": 97,
   "id": "68a57bdd",
   "metadata": {},
   "outputs": [
    {
     "data": {
      "text/plain": [
       "'1839.00S11.50E2500--000000301'"
      ]
     },
     "execution_count": 97,
     "metadata": {},
     "output_type": "execute_result"
    }
   ],
   "source": [
    "extract_taxlot_info(wd_pt, all_taxlot, year='2022')"
   ]
  },
  {
   "cell_type": "code",
   "execution_count": 14,
   "id": "ba040e6a",
   "metadata": {},
   "outputs": [],
   "source": [
    "setID = 'Set003'"
   ]
  },
  {
   "cell_type": "code",
   "execution_count": 15,
   "id": "fa112772",
   "metadata": {},
   "outputs": [],
   "source": [
    "matched = gpd.read_file(os.path.join(inpath + f'\\\\{outfolder}\\\\', f'matched_records_{setID}.shp'))"
   ]
  },
  {
   "cell_type": "code",
   "execution_count": 20,
   "id": "9b678ca0",
   "metadata": {},
   "outputs": [
    {
     "data": {
      "text/plain": [
       "True"
      ]
     },
     "execution_count": 20,
     "metadata": {},
     "output_type": "execute_result"
    }
   ],
   "source": [
    "'WD2019-0121' in matched.wdID.unique()"
   ]
  },
  {
   "cell_type": "code",
   "execution_count": 19,
   "id": "d58ed4b0",
   "metadata": {},
   "outputs": [
    {
     "data": {
      "text/plain": [
       "662    1834.00S07.00E2800--000000100\n",
       "704    1834.00S07.00E34DC--000001800\n",
       "Name: ORTaxlot, dtype: object"
      ]
     },
     "execution_count": 19,
     "metadata": {},
     "output_type": "execute_result"
    }
   ],
   "source": [
    "matched.loc[matched.wdID=='WD2020-0007', 'ORTaxlot']"
   ]
  },
  {
   "cell_type": "code",
   "execution_count": 27,
   "id": "8f0ab346",
   "metadata": {},
   "outputs": [
    {
     "name": "stdout",
     "output_type": "stream",
     "text": [
      "100.5\n"
     ]
    }
   ],
   "source": [
    "my_string = \"100.50000\"\n",
    "my_string = my_string.rstrip('0')  # remove ending zeros\n",
    "\n",
    "print(my_string)  # prints \"100.5\""
   ]
  }
 ],
 "metadata": {
  "kernelspec": {
   "display_name": "Python 3",
   "language": "python",
   "name": "python3"
  },
  "language_info": {
   "codemirror_mode": {
    "name": "ipython",
    "version": 3
   },
   "file_extension": ".py",
   "mimetype": "text/x-python",
   "name": "python",
   "nbconvert_exporter": "python",
   "pygments_lexer": "ipython3",
   "version": "3.8.8"
  }
 },
 "nbformat": 4,
 "nbformat_minor": 5
}
