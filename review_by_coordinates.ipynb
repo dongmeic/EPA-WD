{
 "cells": [
  {
   "cell_type": "code",
   "execution_count": 1,
   "id": "37997deb",
   "metadata": {},
   "outputs": [],
   "source": [
    "%load_ext autoreload\n",
    "%autoreload 2"
   ]
  },
  {
   "cell_type": "code",
   "execution_count": 2,
   "id": "87c893a4",
   "metadata": {},
   "outputs": [],
   "source": [
    "from wdtools import *"
   ]
  },
  {
   "cell_type": "code",
   "execution_count": 2,
   "id": "d22f4c6c",
   "metadata": {},
   "outputs": [
    {
     "name": "stdout",
     "output_type": "stream",
     "text": [
      "it took 9.0 minutes to complete\n"
     ]
    }
   ],
   "source": [
    "# this can take about 9 minutes\n",
    "start = time.time()\n",
    "all_taxlot = combine_taxlot()\n",
    "end = time.time()\n",
    "print(f'it took {round((end - start)/60, 0)} minutes to complete')"
   ]
  },
  {
   "cell_type": "code",
   "execution_count": 3,
   "id": "886f558b",
   "metadata": {},
   "outputs": [],
   "source": [
    "trsqq, trsqq_dict, df = read_trsqq()"
   ]
  },
  {
   "cell_type": "code",
   "execution_count": 20,
   "id": "b2624928",
   "metadata": {},
   "outputs": [],
   "source": [
    "test = '03N02W16AC'"
   ]
  },
  {
   "cell_type": "code",
   "execution_count": 21,
   "id": "cef779e0",
   "metadata": {},
   "outputs": [
    {
     "data": {
      "text/plain": [
       "False"
      ]
     },
     "execution_count": 21,
     "metadata": {},
     "output_type": "execute_result"
    }
   ],
   "source": [
    "test in trsqq"
   ]
  },
  {
   "cell_type": "code",
   "execution_count": 7,
   "id": "32cc48f3",
   "metadata": {},
   "outputs": [
    {
     "data": {
      "text/plain": [
       "'3603.00S03.00W3600--0000WATER'"
      ]
     },
     "execution_count": 7,
     "metadata": {},
     "output_type": "execute_result"
    }
   ],
   "source": [
    "trsqq_dict[test]"
   ]
  },
  {
   "cell_type": "code",
   "execution_count": 111,
   "id": "33fe50d6",
   "metadata": {},
   "outputs": [],
   "source": [
    "x = \"lot number ['ROADS'] might be incorrect, the matched taxlot is 1839.00S09.00E1600--000001100 for 39S09E16\""
   ]
  },
  {
   "cell_type": "code",
   "execution_count": 114,
   "id": "6bec8143",
   "metadata": {},
   "outputs": [],
   "source": [
    "txid = x.split('the matched taxlot is ')[1].split(' for ')[0]"
   ]
  },
  {
   "cell_type": "code",
   "execution_count": 115,
   "id": "a323cfea",
   "metadata": {},
   "outputs": [
    {
     "data": {
      "text/plain": [
       "'1839.00S09.00E1600--000001100'"
      ]
     },
     "execution_count": 115,
     "metadata": {},
     "output_type": "execute_result"
    }
   ],
   "source": [
    "txid"
   ]
  },
  {
   "cell_type": "code",
   "execution_count": 113,
   "id": "32d25d80",
   "metadata": {},
   "outputs": [],
   "source": [
    "trsqq = x.split(' for ')[1]"
   ]
  },
  {
   "cell_type": "code",
   "execution_count": 108,
   "id": "53da579b",
   "metadata": {},
   "outputs": [],
   "source": [
    "txid = x.split(', about')[0].replace('coordinate might be incorrect, nearby taxlot is ', '')"
   ]
  },
  {
   "cell_type": "code",
   "execution_count": 109,
   "id": "7921a62a",
   "metadata": {},
   "outputs": [
    {
     "data": {
      "text/plain": [
       "'0504.00N01.00W03CB--000001900'"
      ]
     },
     "execution_count": 109,
     "metadata": {},
     "output_type": "execute_result"
    }
   ],
   "source": [
    "txid"
   ]
  },
  {
   "cell_type": "code",
   "execution_count": 9,
   "id": "77ce912b",
   "metadata": {},
   "outputs": [
    {
     "data": {
      "text/html": [
       "<div>\n",
       "<style scoped>\n",
       "    .dataframe tbody tr th:only-of-type {\n",
       "        vertical-align: middle;\n",
       "    }\n",
       "\n",
       "    .dataframe tbody tr th {\n",
       "        vertical-align: top;\n",
       "    }\n",
       "\n",
       "    .dataframe thead th {\n",
       "        text-align: right;\n",
       "    }\n",
       "</style>\n",
       "<table border=\"1\" class=\"dataframe\">\n",
       "  <thead>\n",
       "    <tr style=\"text-align: right;\">\n",
       "      <th></th>\n",
       "      <th>ORTaxlot</th>\n",
       "      <th>trsqq</th>\n",
       "    </tr>\n",
       "  </thead>\n",
       "  <tbody>\n",
       "    <tr>\n",
       "      <th>0</th>\n",
       "      <td>0000.0000.0000000--0000000000</td>\n",
       "      <td>0000.0000-</td>\n",
       "    </tr>\n",
       "    <tr>\n",
       "      <th>1</th>\n",
       "      <td>00000000000000000000000000000</td>\n",
       "      <td>000000</td>\n",
       "    </tr>\n",
       "    <tr>\n",
       "      <th>2</th>\n",
       "      <td>0106.00S37.00E0000--000000100</td>\n",
       "      <td>06S37E</td>\n",
       "    </tr>\n",
       "  </tbody>\n",
       "</table>\n",
       "</div>"
      ],
      "text/plain": [
       "                        ORTaxlot       trsqq\n",
       "0  0000.0000.0000000--0000000000  0000.0000-\n",
       "1  00000000000000000000000000000      000000\n",
       "2  0106.00S37.00E0000--000000100      06S37E"
      ]
     },
     "execution_count": 9,
     "metadata": {},
     "output_type": "execute_result"
    }
   ],
   "source": [
    "df.head(3)"
   ]
  },
  {
   "cell_type": "code",
   "execution_count": 11,
   "id": "da74b562",
   "metadata": {},
   "outputs": [
    {
     "data": {
      "text/plain": [
       "True"
      ]
     },
     "execution_count": 11,
     "metadata": {},
     "output_type": "execute_result"
    }
   ],
   "source": [
    "'1838.00S11.50E3100--000000400' in df.ORTaxlot.values"
   ]
  },
  {
   "cell_type": "code",
   "execution_count": 106,
   "id": "bdac7810",
   "metadata": {},
   "outputs": [
    {
     "data": {
      "text/plain": [
       "'39S09E14'"
      ]
     },
     "execution_count": 106,
     "metadata": {},
     "output_type": "execute_result"
    }
   ],
   "source": [
    "trsqq_dict['1839.00S09.00E1400--000000101']"
   ]
  },
  {
   "cell_type": "code",
   "execution_count": 77,
   "id": "695de96b",
   "metadata": {},
   "outputs": [
    {
     "data": {
      "text/plain": [
       "'33.00S07.50E0900'"
      ]
     },
     "execution_count": 77,
     "metadata": {},
     "output_type": "execute_result"
    }
   ],
   "source": [
    "convert_trsqq(test)[:16]"
   ]
  },
  {
   "cell_type": "code",
   "execution_count": 19,
   "id": "f84f9ec6",
   "metadata": {},
   "outputs": [
    {
     "data": {
      "text/plain": [
       "1246140    2601.00N03.00E22D0--000000101\n",
       "1246141    2601.00N03.00E22D0--000000102\n",
       "1246142    2601.00N03.00E22D0--000000200\n",
       "1246143    2601.00N03.00E22D0--000000300\n",
       "1246144    2601.00N03.00E22D0--000000400\n",
       "1246145    2601.00N03.00E22D0--000000500\n",
       "1246146    2601.00N03.00E22D0--000000600\n",
       "1246147    2601.00N03.00E22D0--000000700\n",
       "1246148    2601.00N03.00E22D0--000000900\n",
       "1246149    2601.00N03.00E22D0--000001001\n",
       "1246150    2601.00N03.00E22D0--000001003\n",
       "1246151    2601.00N03.00E22D0--000001004\n",
       "1246152    2601.00N03.00E22D0--000001005\n",
       "1246153    2601.00N03.00E22D0--000001006\n",
       "1246154    2601.00N03.00E22D0--000001007\n",
       "1246155    2601.00N03.00E22D0--000001008\n",
       "1246156    2601.00N03.00E22D0--000001100\n",
       "1246157    2601.00N03.00E22D0--000001300\n",
       "1246158    2601.00N03.00E22D0--000001400\n",
       "1246159    2601.00N03.00E22D0--000001500\n",
       "1246160    2601.00N03.00E22D0--000001600\n",
       "1246161    2601.00N03.00E22D0--0000NONTL\n",
       "Name: ORTaxlot, dtype: object"
      ]
     },
     "execution_count": 19,
     "metadata": {},
     "output_type": "execute_result"
    }
   ],
   "source": [
    "df.loc[df.trsqq == test, 'ORTaxlot']"
   ]
  },
  {
   "cell_type": "code",
   "execution_count": 105,
   "id": "37b83ac8",
   "metadata": {},
   "outputs": [
    {
     "data": {
      "text/plain": [
       "706990    1839.00S09.00E1400--000000101\n",
       "706991    1839.00S09.00E1400--000000102\n",
       "706992    1839.00S09.00E1400--000000103\n",
       "706993    1839.00S09.00E1400--000000104\n",
       "706994    1839.00S09.00E1400--000000105\n",
       "706995    1839.00S09.00E1400--000000106\n",
       "706996    1839.00S09.00E1400--000000500\n",
       "706997    1839.00S09.00E1400--000000600\n",
       "706998    1839.00S09.00E1400--000000700\n",
       "706999    1839.00S09.00E1400--000000800\n",
       "707000    1839.00S09.00E1400--000000900\n",
       "707001    1839.00S09.00E1400--000001000\n",
       "Name: ORTaxlot, dtype: object"
      ]
     },
     "execution_count": 105,
     "metadata": {},
     "output_type": "execute_result"
    }
   ],
   "source": [
    "df.loc[df.trsqq == '39S09E14', 'ORTaxlot']"
   ]
  },
  {
   "cell_type": "code",
   "execution_count": 9,
   "id": "0055474d",
   "metadata": {},
   "outputs": [],
   "source": [
    "lat = 42.385614\n",
    "lon = -121.049808"
   ]
  },
  {
   "cell_type": "code",
   "execution_count": 10,
   "id": "2dedfbc7",
   "metadata": {},
   "outputs": [],
   "source": [
    "wd_pt = get_point_from_lonlat(lon, lat, export=True)"
   ]
  },
  {
   "cell_type": "code",
   "execution_count": 11,
   "id": "3012cbcd",
   "metadata": {},
   "outputs": [
    {
     "data": {
      "text/plain": [
       "'1837.00S14.00E03CD--000001600'"
      ]
     },
     "execution_count": 11,
     "metadata": {},
     "output_type": "execute_result"
    }
   ],
   "source": [
    "extract_taxlot_info(wd_pt, all_taxlot, year='2018')"
   ]
  },
  {
   "cell_type": "code",
   "execution_count": 14,
   "id": "14684701",
   "metadata": {},
   "outputs": [],
   "source": [
    "setID = 'Set003'"
   ]
  },
  {
   "cell_type": "code",
   "execution_count": 117,
   "id": "a7e7213d",
   "metadata": {},
   "outputs": [],
   "source": [
    "matched = gpd.read_file(os.path.join(inpath + f'\\\\{outfolder}\\\\', f'matched_records_{setID}.shp'))"
   ]
  },
  {
   "cell_type": "code",
   "execution_count": 118,
   "id": "d322cb6b",
   "metadata": {},
   "outputs": [
    {
     "data": {
      "text/plain": [
       "True"
      ]
     },
     "execution_count": 118,
     "metadata": {},
     "output_type": "execute_result"
    }
   ],
   "source": [
    "'WD2020-0526' in matched.wdID.unique()"
   ]
  },
  {
   "cell_type": "code",
   "execution_count": 119,
   "id": "6f4b0816",
   "metadata": {},
   "outputs": [
    {
     "data": {
      "text/html": [
       "<div>\n",
       "<style scoped>\n",
       "    .dataframe tbody tr th:only-of-type {\n",
       "        vertical-align: middle;\n",
       "    }\n",
       "\n",
       "    .dataframe tbody tr th {\n",
       "        vertical-align: top;\n",
       "    }\n",
       "\n",
       "    .dataframe thead th {\n",
       "        text-align: right;\n",
       "    }\n",
       "</style>\n",
       "<table border=\"1\" class=\"dataframe\">\n",
       "  <thead>\n",
       "    <tr style=\"text-align: right;\">\n",
       "      <th></th>\n",
       "      <th>wdID</th>\n",
       "      <th>trsqq</th>\n",
       "      <th>parcel_id</th>\n",
       "      <th>notes</th>\n",
       "      <th>lots</th>\n",
       "      <th>lot</th>\n",
       "      <th>ORTaxlot</th>\n",
       "      <th>record_ID</th>\n",
       "      <th>geometry</th>\n",
       "    </tr>\n",
       "  </thead>\n",
       "  <tbody>\n",
       "    <tr>\n",
       "      <th>1305</th>\n",
       "      <td>WD2020-0526</td>\n",
       "      <td>02N10W00</td>\n",
       "      <td>5201</td>\n",
       "      <td>None</td>\n",
       "      <td>5201</td>\n",
       "      <td>5201</td>\n",
       "      <td>2902.00N10.00W0000--000005201</td>\n",
       "      <td>2791</td>\n",
       "      <td>POLYGON ((434013.105 1431294.936, 434085.556 1...</td>\n",
       "    </tr>\n",
       "  </tbody>\n",
       "</table>\n",
       "</div>"
      ],
      "text/plain": [
       "             wdID     trsqq parcel_id notes  lots   lot  \\\n",
       "1305  WD2020-0526  02N10W00      5201  None  5201  5201   \n",
       "\n",
       "                           ORTaxlot  record_ID  \\\n",
       "1305  2902.00N10.00W0000--000005201       2791   \n",
       "\n",
       "                                               geometry  \n",
       "1305  POLYGON ((434013.105 1431294.936, 434085.556 1...  "
      ]
     },
     "execution_count": 119,
     "metadata": {},
     "output_type": "execute_result"
    }
   ],
   "source": [
    "matched[matched.wdID=='WD2020-0526']"
   ]
  },
  {
   "cell_type": "code",
   "execution_count": 19,
   "id": "e830dfa2",
   "metadata": {},
   "outputs": [
    {
     "data": {
      "text/plain": [
       "662    1834.00S07.00E2800--000000100\n",
       "704    1834.00S07.00E34DC--000001800\n",
       "Name: ORTaxlot, dtype: object"
      ]
     },
     "execution_count": 19,
     "metadata": {},
     "output_type": "execute_result"
    }
   ],
   "source": [
    "matched.loc[matched.wdID=='WD2020-0007', 'ORTaxlot']"
   ]
  },
  {
   "cell_type": "code",
   "execution_count": null,
   "id": "9bccc7c8",
   "metadata": {},
   "outputs": [],
   "source": []
  }
 ],
 "metadata": {
  "kernelspec": {
   "display_name": "Python 3",
   "language": "python",
   "name": "python3"
  },
  "language_info": {
   "codemirror_mode": {
    "name": "ipython",
    "version": 3
   },
   "file_extension": ".py",
   "mimetype": "text/x-python",
   "name": "python",
   "nbconvert_exporter": "python",
   "pygments_lexer": "ipython3",
   "version": "3.8.8"
  }
 },
 "nbformat": 4,
 "nbformat_minor": 5
}
