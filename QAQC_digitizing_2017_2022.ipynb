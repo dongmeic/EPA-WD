{
 "cells": [
  {
   "cell_type": "code",
   "execution_count": 1,
   "id": "78ea79da",
   "metadata": {},
   "outputs": [],
   "source": [
    "%load_ext autoreload\n",
    "%autoreload 2"
   ]
  },
  {
   "cell_type": "code",
   "execution_count": 2,
   "id": "aae1d245",
   "metadata": {},
   "outputs": [],
   "source": [
    "from wdtools import *"
   ]
  },
  {
   "cell_type": "code",
   "execution_count": 3,
   "id": "93733b8a",
   "metadata": {},
   "outputs": [],
   "source": [
    "path = outpath + '\\\\to_review'"
   ]
  },
  {
   "cell_type": "code",
   "execution_count": 4,
   "id": "021243c0",
   "metadata": {},
   "outputs": [],
   "source": [
    "wdIDs = read_text_file(path + '\\\\re_mapping.txt')"
   ]
  },
  {
   "cell_type": "code",
   "execution_count": 5,
   "id": "db89543f",
   "metadata": {},
   "outputs": [],
   "source": [
    "issueIDs = pd.read_excel(inpath + '\\\\reporting\\\\QAQC_questions.xlsx')"
   ]
  },
  {
   "cell_type": "code",
   "execution_count": 6,
   "id": "0e2c9445",
   "metadata": {},
   "outputs": [
    {
     "data": {
      "text/plain": [
       "(43, 4)"
      ]
     },
     "execution_count": 6,
     "metadata": {},
     "output_type": "execute_result"
    }
   ],
   "source": [
    "issueIDs.shape"
   ]
  },
  {
   "cell_type": "code",
   "execution_count": 7,
   "id": "56dbd259",
   "metadata": {},
   "outputs": [
    {
     "data": {
      "text/plain": [
       "285"
      ]
     },
     "execution_count": 7,
     "metadata": {},
     "output_type": "execute_result"
    }
   ],
   "source": [
    "len(wdIDs)"
   ]
  },
  {
   "cell_type": "code",
   "execution_count": 8,
   "id": "71983b50",
   "metadata": {},
   "outputs": [],
   "source": [
    "wd_all = get_all_wd(num=6)"
   ]
  },
  {
   "cell_type": "code",
   "execution_count": 9,
   "id": "c76414fe",
   "metadata": {},
   "outputs": [],
   "source": [
    "sa_gdf_all = get_all_SA(num=6)"
   ]
  },
  {
   "cell_type": "code",
   "execution_count": 11,
   "id": "da1a719b",
   "metadata": {},
   "outputs": [],
   "source": [
    "mapped = sa_gdf_all[sa_gdf_all.code != 0]"
   ]
  },
  {
   "cell_type": "code",
   "execution_count": 12,
   "id": "41e39e66",
   "metadata": {},
   "outputs": [],
   "source": [
    "toCheck_df = wd_all[(wd_all.wetdet_delin_number.isin(wdIDs)) & (~wd_all.wetdet_delin_number.isin(mapped.wdID.unique()))]"
   ]
  },
  {
   "cell_type": "code",
   "execution_count": 13,
   "id": "865ca03b",
   "metadata": {},
   "outputs": [
    {
     "data": {
      "text/plain": [
       "(366, 26)"
      ]
     },
     "execution_count": 13,
     "metadata": {},
     "output_type": "execute_result"
    }
   ],
   "source": [
    "toCheck_df.shape"
   ]
  },
  {
   "cell_type": "code",
   "execution_count": 14,
   "id": "9e519f06",
   "metadata": {},
   "outputs": [
    {
     "data": {
      "text/plain": [
       "283"
      ]
     },
     "execution_count": 14,
     "metadata": {},
     "output_type": "execute_result"
    }
   ],
   "source": [
    "len(toCheck_df.wetdet_delin_number.unique())"
   ]
  },
  {
   "cell_type": "code",
   "execution_count": null,
   "id": "cc4815df",
   "metadata": {},
   "outputs": [],
   "source": [
    "toadd = review_loop_r1(df=toCheck_df, partial=True, idx=True)"
   ]
  }
 ],
 "metadata": {
  "kernelspec": {
   "display_name": "Python 3",
   "language": "python",
   "name": "python3"
  },
  "language_info": {
   "codemirror_mode": {
    "name": "ipython",
    "version": 3
   },
   "file_extension": ".py",
   "mimetype": "text/x-python",
   "name": "python",
   "nbconvert_exporter": "python",
   "pygments_lexer": "ipython3",
   "version": "3.8.8"
  }
 },
 "nbformat": 4,
 "nbformat_minor": 5
}
