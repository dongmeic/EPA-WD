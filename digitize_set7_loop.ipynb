{
 "cells": [
  {
   "cell_type": "code",
   "execution_count": 1,
   "id": "a96a643c",
   "metadata": {},
   "outputs": [],
   "source": [
    "%load_ext autoreload\n",
    "%autoreload 2"
   ]
  },
  {
   "cell_type": "code",
   "execution_count": 2,
   "id": "a7c7d806",
   "metadata": {},
   "outputs": [],
   "source": [
    "from wdtools import *"
   ]
  },
  {
   "cell_type": "code",
   "execution_count": 3,
   "id": "59b1583a",
   "metadata": {},
   "outputs": [],
   "source": [
    "setID = 'Set007'; nm_to_add = 4972"
   ]
  },
  {
   "cell_type": "code",
   "execution_count": 4,
   "id": "db038a1c",
   "metadata": {},
   "outputs": [],
   "source": [
    "wd = combine_wd_tables(setID=setID, nm_to_add=nm_to_add, raw=False)"
   ]
  },
  {
   "cell_type": "code",
   "execution_count": 14,
   "id": "ea6a6d2d",
   "metadata": {},
   "outputs": [
    {
     "data": {
      "text/plain": [
       "Index(['wetdet_delin_number', 'trsqq', 'parcel_id', 'address_location_desc',\n",
       "       'city', 'county', 'site_name', 'site_desc', 'latitude', 'longitude',\n",
       "       'DocumentName', 'DecisionLink', 'is_batch_file', 'status_name',\n",
       "       'received_date', 'Coord-Source', 'response_date',\n",
       "       'reissuance_response_date', 'project_id', 'site_id', 'record_ID',\n",
       "       'notes', 'recyear', 'IDyear', 'missinglot'],\n",
       "      dtype='object')"
      ]
     },
     "execution_count": 14,
     "metadata": {},
     "output_type": "execute_result"
    }
   ],
   "source": [
    "wd.columns"
   ]
  },
  {
   "cell_type": "code",
   "execution_count": 5,
   "id": "60a4861b",
   "metadata": {},
   "outputs": [],
   "source": [
    "matched = gpd.read_file(os.path.join(inpath + '\\\\output\\\\matched\\\\', f'matched_records_{setID}_edited.shp'))"
   ]
  },
  {
   "cell_type": "code",
   "execution_count": 6,
   "id": "e2685714",
   "metadata": {},
   "outputs": [],
   "source": [
    "unmatched = pd.read_csv(os.path.join(inpath + '\\\\output\\\\to_review\\\\', f'unmatched_df_{setID}_2.csv'))"
   ]
  },
  {
   "cell_type": "code",
   "execution_count": 7,
   "id": "80ecd408",
   "metadata": {
    "scrolled": true
   },
   "outputs": [
    {
     "data": {
      "text/plain": [
       "Index(['wdID', 'trsqq', 'parcel_id', 'notes', 'lots', 'lot', 'ORTaxlot',\n",
       "       'record_ID', 'geometry'],\n",
       "      dtype='object')"
      ]
     },
     "execution_count": 7,
     "metadata": {},
     "output_type": "execute_result"
    }
   ],
   "source": [
    "matched.columns"
   ]
  },
  {
   "cell_type": "code",
   "execution_count": 8,
   "id": "65464575",
   "metadata": {},
   "outputs": [
    {
     "data": {
      "text/plain": [
       "16"
      ]
     },
     "execution_count": 8,
     "metadata": {},
     "output_type": "execute_result"
    }
   ],
   "source": [
    "# unmatched records based on wdID\n",
    "unmatchedIDs = wd[~wd.wetdet_delin_number.isin(matched.wdID.unique())].wetdet_delin_number.unique()\n",
    "len(unmatchedIDs)"
   ]
  },
  {
   "cell_type": "code",
   "execution_count": 9,
   "id": "5c211925",
   "metadata": {},
   "outputs": [
    {
     "data": {
      "text/plain": [
       "22"
      ]
     },
     "execution_count": 9,
     "metadata": {},
     "output_type": "execute_result"
    }
   ],
   "source": [
    "# unmatched records based record IDs\n",
    "unmatchedwdIDs = unmatched.wetdet_delin_number.unique()\n",
    "len(unmatchedwdIDs)"
   ]
  },
  {
   "cell_type": "code",
   "execution_count": 10,
   "id": "f83618a4",
   "metadata": {},
   "outputs": [
    {
     "data": {
      "text/plain": [
       "(52, 25)"
      ]
     },
     "execution_count": 10,
     "metadata": {},
     "output_type": "execute_result"
    }
   ],
   "source": [
    "unmatched.shape"
   ]
  },
  {
   "cell_type": "code",
   "execution_count": 11,
   "id": "f07948d5",
   "metadata": {},
   "outputs": [
    {
     "data": {
      "text/plain": [
       "True"
      ]
     },
     "execution_count": 11,
     "metadata": {},
     "output_type": "execute_result"
    }
   ],
   "source": [
    "all([wdID in unmatchedwdIDs for wdID in unmatchedIDs])"
   ]
  },
  {
   "cell_type": "code",
   "execution_count": 37,
   "id": "c3e54cb1",
   "metadata": {},
   "outputs": [],
   "source": [
    "df = wd[(wd.wetdet_delin_number.isin(matched.wdID.unique()))&(wd.notes=='')]"
   ]
  },
  {
   "cell_type": "code",
   "execution_count": 31,
   "id": "d37d7875",
   "metadata": {},
   "outputs": [
    {
     "data": {
      "text/plain": [
       "(253, 25)"
      ]
     },
     "execution_count": 31,
     "metadata": {},
     "output_type": "execute_result"
    }
   ],
   "source": [
    "df.shape"
   ]
  },
  {
   "cell_type": "markdown",
   "id": "065943f6",
   "metadata": {},
   "source": [
    "toAdd = review_loop_r1(df=df, \n",
    "                       partial=True, \n",
    "                       idx=True, \n",
    "                       wd_id='WD2014-0225',\n",
    "                       plot=True,\n",
    "                       gdf=matched)\n",
    "print(toAdd)"
   ]
  },
  {
   "cell_type": "code",
   "execution_count": 12,
   "id": "7014ad07",
   "metadata": {
    "scrolled": false
   },
   "outputs": [
    {
     "name": "stdout",
     "output_type": "stream",
     "text": [
      "0.0% digitized, 22 records remained, expected to be done in about 18 hours...\n",
      "WD2013-0217\n",
      "index = 1\n",
      "     county       trsqq parcel_id   latitude   longitude  record_ID notes  \\\n",
      "0   Clatsop    08N10W14      MANY  46.177288 -123.905843       5155  Many   \n",
      "1   Clatsop    08N10W15      MANY  46.177288 -123.905843       5159  Many   \n",
      "2   Clatsop  08N10W22BD      MANY  46.177288 -123.905843       5158  Many   \n",
      "3   Clatsop  08N10W22BA      MANY  46.177288 -123.905843       5157  Many   \n",
      "4   Clatsop  08N10W22AB      MANY  46.177288 -123.905843       5156  Many   \n",
      "5   Clatsop  08N10W23BD      MANY  46.177288 -123.905843       5162  Many   \n",
      "6   Clatsop  08N10W22AC      MANY  46.177288 -123.905843       5154  Many   \n",
      "7   Clatsop   08N10W15D      MANY  46.177288 -123.905843       5153  Many   \n",
      "8   Clatsop    08N10W26      MANY  46.146847 -123.868485       5152  Many   \n",
      "9   Clatsop    08N10W23      MANY  46.177288 -123.905843       5163  Many   \n",
      "10  Clatsop    08N10W26      MANY  46.177288 -123.905843       5164  Many   \n",
      "11  Clatsop  08N10W16DA      MANY  46.146847 -123.868485       5160  Many   \n",
      "12  Clatsop  08N10W22AA      MANY  46.177288 -123.905843       5161  Many   \n",
      "13  Clatsop    08N10W22      MANY  46.177288 -123.905843       5167  Many   \n",
      "14  Clatsop  08N10W22AD      MANY  46.177288 -123.905843       5168  Many   \n",
      "15  Clatsop    08N10W25      MANY  46.177288 -123.905843       5165  Many   \n",
      "\n",
      "   missinglot              status_name is_batch_file  \n",
      "0           Y  Approved with Revisions             N  \n",
      "1           Y  Approved with Revisions             N  \n",
      "2           Y  Approved with Revisions             N  \n",
      "3           Y  Approved with Revisions             N  \n",
      "4           Y  Approved with Revisions             N  \n",
      "5           Y  Approved with Revisions             N  \n",
      "6           Y  Approved with Revisions             N  \n",
      "7           Y  Approved with Revisions             N  \n",
      "8           Y  Approved with Revisions             N  \n",
      "9           Y  Approved with Revisions             N  \n",
      "10          Y  Approved with Revisions             N  \n",
      "11          Y  Approved with Revisions             N  \n",
      "12          Y  Approved with Revisions             N  \n",
      "13          Y  Approved with Revisions             N  \n",
      "14          Y  Approved with Revisions             N  \n",
      "15          Y  Approved with Revisions             N  \n",
      "Press 'p' to pause or any key to stop...s\n"
     ]
    }
   ],
   "source": [
    "review_loop_r1(df=unmatched, partial=True, idx=True) #, wd_id='WD2022-0489'"
   ]
  },
  {
   "cell_type": "code",
   "execution_count": 12,
   "id": "d9adc1e9",
   "metadata": {},
   "outputs": [],
   "source": [
    "outpath = r'L:\\NaturalResources\\Wetlands\\Local Wetland Inventory\\WAPO\\EPA_2022_Tasks\\Task 1 WD Mapping\\output'\n",
    "partial = pd.read_csv(outpath + f'\\\\to_review\\\\partial_matched_{setID}.csv')"
   ]
  },
  {
   "cell_type": "code",
   "execution_count": 14,
   "id": "a819b47e",
   "metadata": {},
   "outputs": [
    {
     "data": {
      "text/plain": [
       "Index(['wetdet_delin_number', 'trsqq', 'parcel_id', 'address_location_desc',\n",
       "       'city', 'county', 'site_name', 'site_desc', 'latitude', 'longitude',\n",
       "       'Coord-Source', 'DocumentName', 'DecisionLink', 'is_batch_file',\n",
       "       'status_name', 'received_date', 'response_date',\n",
       "       'reissuance_response_date', 'project_id', 'site_id', 'record_ID',\n",
       "       'notes', 'recyear', 'IDyear', 'missinglot'],\n",
       "      dtype='object')"
      ]
     },
     "execution_count": 14,
     "metadata": {},
     "output_type": "execute_result"
    }
   ],
   "source": [
    "partial.columns"
   ]
  },
  {
   "cell_type": "code",
   "execution_count": 13,
   "id": "35384f5e",
   "metadata": {},
   "outputs": [
    {
     "data": {
      "text/plain": [
       "132"
      ]
     },
     "execution_count": 13,
     "metadata": {},
     "output_type": "execute_result"
    }
   ],
   "source": [
    "len(partial.wetdet_delin_number.unique())"
   ]
  },
  {
   "cell_type": "code",
   "execution_count": 15,
   "id": "f9398178",
   "metadata": {},
   "outputs": [
    {
     "data": {
      "text/plain": [
       "array(['WD2022-0594', 'WD2022-0585', 'WD2022-0388', 'WD2022-0618',\n",
       "       'WD2022-0427', 'WD2022-0482'], dtype=object)"
      ]
     },
     "execution_count": 15,
     "metadata": {},
     "output_type": "execute_result"
    }
   ],
   "source": [
    "skips"
   ]
  },
  {
   "cell_type": "code",
   "execution_count": 19,
   "id": "b42c0cd0",
   "metadata": {},
   "outputs": [],
   "source": [
    "skips = wd[(wd.status_name.isin([\"Withdrawn by DSL\", \"Withdrawn by Applicant\"])) & (wd.is_batch_file=='Y')].wetdet_delin_number.unique()\n",
    "IDstoCheck = [wdID for wdID in partial.wetdet_delin_number.unique() if wdID not in list(unmatchedwdIDs) + list(skips)]"
   ]
  },
  {
   "cell_type": "code",
   "execution_count": 18,
   "id": "38ec20b9",
   "metadata": {},
   "outputs": [],
   "source": [
    "toCheck_df = partial[partial.wetdet_delin_number.isin(IDstoCheck)]"
   ]
  },
  {
   "cell_type": "code",
   "execution_count": 19,
   "id": "dd8dcb51",
   "metadata": {},
   "outputs": [],
   "source": [
    "toCheck_df.to_csv(outpath + f'\\\\to_review\\\\tomap_{setID}.csv', index=False)"
   ]
  },
  {
   "cell_type": "code",
   "execution_count": 20,
   "id": "880fe0de",
   "metadata": {},
   "outputs": [],
   "source": [
    "toCheck_df = pd.read_csv(outpath + f'\\\\to_review\\\\tomap_{setID}.csv')"
   ]
  },
  {
   "cell_type": "code",
   "execution_count": 22,
   "id": "6fa637e7",
   "metadata": {
    "scrolled": false
   },
   "outputs": [
    {
     "name": "stdout",
     "output_type": "stream",
     "text": [
      "87.5% digitized, 16 records remained, expected to be done in about 13 hours...\n",
      "WD2022-0565\n",
      "index = 256\n",
      "        county       trsqq parcel_id  latitude  longitude  record_ID    notes  \\\n",
      "255  Tillamook  01S10W02CC      700p  45.51307 -123.88538       4919  Partial   \n",
      "\n",
      "    missinglot  \n",
      "255          N  \n",
      "Press 'p' to pause or any key to stop...p\n",
      "Press 'a' to add the wd record or 'c' to continue...c\n",
      "88.3% digitized, 15 records remained, expected to be done in about 12 hours...\n",
      "WD2022-0645\n",
      "index = 257\n",
      "        county       trsqq       parcel_id   latitude   longitude  record_ID  \\\n",
      "256  Tillamook  01N10W34AC  800p,901p, ROW  45.531766 -123.893983       4920   \n",
      "\n",
      "            notes missinglot  \n",
      "256  ROW, Partial          N  \n",
      "Press 'p' to pause or any key to stop...p\n",
      "Press 'a' to add the wd record or 'c' to continue...c\n",
      "89.1% digitized, 14 records remained, expected to be done in about 11 hours...\n",
      "WD2022-0680\n",
      "index = 258\n",
      "        county       trsqq                                     parcel_id  \\\n",
      "257  Tillamook  01N10W34DA  3804,3805,3900,3902,3903,3904, 8th Place ROW   \n",
      "\n",
      "     latitude  longitude  record_ID         notes missinglot  \n",
      "257  45.52801 -123.88609       4921  ROW, Partial          N  \n",
      "Press 'p' to pause or any key to stop...p\n",
      "Press 'a' to add the wd record or 'c' to continue...c\n",
      "89.8% digitized, 13 records remained, expected to be done in about 10 hours...\n",
      "WD2022-0401\n",
      "index = 259\n",
      "        county       trsqq parcel_id   latitude   longitude  record_ID  \\\n",
      "258  Tillamook  01N10W34DA      102p  45.529037 -123.886385       4926   \n",
      "\n",
      "       notes missinglot  \n",
      "258  Partial          N  \n",
      "Press 'p' to pause or any key to stop...p\n",
      "Press 'a' to add the wd record or 'c' to continue...c\n",
      "90.6% digitized, 12 records remained, expected to be done in about 10 hours...\n",
      "WD2022-0459\n",
      "index = 260\n",
      "       county     trsqq           parcel_id   latitude   longitude  record_ID  \\\n",
      "259  Umatilla  05N28E15  500p,600p,700p,ROW  45.908881 -119.299723       4935   \n",
      "\n",
      "            notes missinglot  \n",
      "259  ROW, Partial          N  \n",
      "Press 'p' to pause or any key to stop...p\n",
      "Press 'a' to add the wd record or 'c' to continue...c\n",
      "91.4% digitized, 11 records remained, expected to be done in about 9 hours...\n",
      "WD2022-0657\n",
      "index = 261\n",
      "Decision link is not available\n",
      "       county     trsqq parcel_id   latitude   longitude  record_ID  \\\n",
      "260  Umatilla  01S35E00  300p,ROW  45.501918 -118.420849       4937   \n",
      "\n",
      "            notes missinglot  \n",
      "260  ROW, Partial          N  \n",
      "Press 'p' to pause or any key to stop...p\n",
      "Press 'a' to add the wd record or 'c' to continue...c\n",
      "92.2% digitized, 10 records remained, expected to be done in about 8 hours...\n",
      "WD2022-0576\n",
      "index = 262\n",
      "       county     trsqq parcel_id   latitude   longitude  record_ID    notes  \\\n",
      "261  Umatilla  06S30E00     2491p  45.041863 -119.101498       4939  Partial   \n",
      "\n",
      "    missinglot  \n",
      "261          N  \n",
      "Press 'p' to pause or any key to stop...p\n",
      "Press 'a' to add the wd record or 'c' to continue...c\n",
      "93.0% digitized, 9 records remained, expected to be done in about 7 hours...\n",
      "WD2022-0606\n",
      "index = 263\n",
      "       county     trsqq parcel_id   latitude  longitude  record_ID    notes  \\\n",
      "262  Umatilla  05N29E22      400p  45.901617 -119.16863       4940  Partial   \n",
      "\n",
      "    missinglot  \n",
      "262          N  \n",
      "Press 'p' to pause or any key to stop...p\n",
      "Press 'a' to add the wd record or 'c' to continue...c\n",
      "93.8% digitized, 8 records remained, expected to be done in about 6 hours...\n",
      "WD2022-0368\n",
      "index = 264\n",
      "    county     trsqq   parcel_id   latitude   longitude  record_ID    notes  \\\n",
      "263  Union  02S37E00  2300,2302p  45.355894 -118.134021       4941  Partial   \n",
      "\n",
      "    missinglot  \n",
      "263          N  \n",
      "Press 'p' to pause or any key to stop...p\n",
      "Press 'a' to add the wd record or 'c' to continue...c\n",
      "94.5% digitized, 7 records remained, expected to be done in about 6 hours...\n",
      "WD2022-0416\n",
      "index = 265\n",
      "    county     trsqq                                       parcel_id  \\\n",
      "264  Wasco  01S14E00         2100p,2300p,2600p,2700p,2900p,3900p,ROW   \n",
      "265  Wasco  02S15E00                           1200p,1300p,1400p,ROW   \n",
      "266  Wasco  01S15E00             2500p,2600p,2601p,2900p,3000p,3100p   \n",
      "267  Wasco  01S15E00                           3200p,3700p,3800p,ROW   \n",
      "268  Wasco  01S15E00                    100p,1400p,1600p,1800p,2000p   \n",
      "269  Wasco  02S15E00  300p,400p,500p,600p,700p,800p,900p,1000p,1100p   \n",
      "\n",
      "      latitude   longitude  record_ID         notes missinglot  \n",
      "264  45.420782 -120.947276       4943  ROW, Partial          N  \n",
      "265  45.420782 -120.947276       4944  ROW, Partial          N  \n",
      "266  45.420782 -120.947276       4945       Partial          N  \n",
      "267  45.420782 -120.947276       4946  ROW, Partial          N  \n",
      "268  45.420782 -120.947276       4947       Partial          N  \n",
      "269  45.420782 -120.947276       4948       Partial          N  \n",
      "Press 'p' to pause or any key to stop...p\n",
      "Press 'a' to add the wd record or 'c' to continue...c\n",
      "95.3% digitized, 6 records remained, expected to be done in about 5 hours...\n",
      "WD2022-0367\n",
      "index = 271\n",
      "      county       trsqq parcel_id   latitude   longitude  record_ID    notes  \\\n",
      "270  Yamhill  03S02W19AC     5912p  45.294456 -122.978643       4955  Partial   \n",
      "271  Yamhill  03S02W19DB     4690p  45.294456 -122.978643       4956  Partial   \n",
      "\n",
      "    missinglot  \n",
      "270          N  \n",
      "271          N  \n",
      "Press 'p' to pause or any key to stop...p\n",
      "Press 'a' to add the wd record or 'c' to continue...c\n",
      "96.1% digitized, 5 records remained, expected to be done in about 4 hours...\n",
      "WD2022-0377\n",
      "index = 273\n",
      "      county     trsqq parcel_id  latitude  longitude  record_ID    notes  \\\n",
      "272  Yamhill  03S04W25      600p  45.28291 -123.13183       4957  Partial   \n",
      "\n",
      "    missinglot  \n",
      "272          N  \n",
      "Press 'p' to pause or any key to stop...p\n",
      "Press 'a' to add the wd record or 'c' to continue...c\n",
      "96.9% digitized, 4 records remained, expected to be done in about 3 hours...\n",
      "WD2022-0461\n",
      "index = 274\n",
      "      county     trsqq parcel_id  latitude   longitude  record_ID    notes  \\\n",
      "273  Yamhill  04S04W06      300p  45.25415 -123.216247       4958  Partial   \n",
      "\n",
      "    missinglot  \n",
      "273          N  \n",
      "Press 'p' to pause or any key to stop...p\n",
      "Press 'a' to add the wd record or 'c' to continue...c\n",
      "97.7% digitized, 3 records remained, expected to be done in about 2 hours...\n",
      "WD2022-0558\n",
      "index = 275\n",
      "      county     trsqq                                      parcel_id  \\\n",
      "274  Yamhill  03S02W08  4900,5000,5100,5200,5300,5400,6200,6300,5500p   \n",
      "\n",
      "      latitude   longitude  record_ID    notes missinglot  \n",
      "274  45.321068 -122.964009       4959  Partial          N  \n",
      "Press 'p' to pause or any key to stop...p\n",
      "Press 'a' to add the wd record or 'c' to continue...c\n",
      "98.4% digitized, 2 records remained, expected to be done in about 2 hours...\n",
      "WD2022-0578\n",
      "index = 276\n",
      "      county     trsqq                          parcel_id   latitude  \\\n",
      "275  Yamhill  03S04W21  2100p,2101p, NW Meadowlake RD ROW  45.288859   \n",
      "276  Yamhill  03S04W28                         900p,1102p  45.287014   \n",
      "\n",
      "      longitude  record_ID         notes missinglot  \n",
      "275 -123.193865       4960  ROW, Partial          N  \n",
      "276 -123.189981       4961       Partial          N  \n",
      "Press 'p' to pause or any key to stop...p\n",
      "Press 'a' to add the wd record or 'c' to continue...c\n",
      "99.2% digitized, 1 records remained, expected to be done in about 1 hours...\n",
      "WD2022-0693\n",
      "index = 285\n",
      "      county     trsqq parcel_id  latitude   longitude  record_ID    notes  \\\n",
      "284  Yamhill  04S04W06      300p  45.25415 -123.216247       4969  Partial   \n",
      "\n",
      "    missinglot  \n",
      "284          N  \n",
      "Press 'p' to pause or any key to stop...p\n",
      "Press 'a' to add the wd record or 'c' to continue...c\n"
     ]
    }
   ],
   "source": [
    "toadd = review_loop_r1(df=toCheck_df, partial=True, idx=True, wd_id='WD2022-0564') #, wd_id='WD2022-0669'"
   ]
  },
  {
   "cell_type": "code",
   "execution_count": 10,
   "id": "c8a98883",
   "metadata": {},
   "outputs": [],
   "source": [
    "tocheckIDs = ['WD2017-0266']"
   ]
  },
  {
   "cell_type": "code",
   "execution_count": 11,
   "id": "684ded10",
   "metadata": {
    "scrolled": true
   },
   "outputs": [
    {
     "name": "stdout",
     "output_type": "stream",
     "text": [
      "0.0% digitized, 1 records remained, expected to be done in about 1 hours...\n",
      "WD2017-0266\n",
      "index = 1\n",
      "    county     trsqq parcel_id   latitude   longitude  record_ID notes  \\\n",
      "214   Linn  10S03W15   I-5 ROW  44.703675 -123.050415       3093   ROW   \n",
      "\n",
      "    missinglot  \n",
      "214          N  \n",
      "Press 'p' to pause or any key to stop...p\n",
      "Press 'a' to add the wd record or 'c' to continue...c\n"
     ]
    }
   ],
   "source": [
    "review_loop_r1(wdid_list=tocheckIDs, partial=True, idx=True, wddf=wd)"
   ]
  }
 ],
 "metadata": {
  "kernelspec": {
   "display_name": "Python 3",
   "language": "python",
   "name": "python3"
  },
  "language_info": {
   "codemirror_mode": {
    "name": "ipython",
    "version": 3
   },
   "file_extension": ".py",
   "mimetype": "text/x-python",
   "name": "python",
   "nbconvert_exporter": "python",
   "pygments_lexer": "ipython3",
   "version": "3.8.8"
  }
 },
 "nbformat": 4,
 "nbformat_minor": 5
}
