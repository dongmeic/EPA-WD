{
 "cells": [
  {
   "cell_type": "code",
   "execution_count": 1,
   "id": "451860b5",
   "metadata": {},
   "outputs": [],
   "source": [
    "%load_ext autoreload\n",
    "%autoreload 2"
   ]
  },
  {
   "cell_type": "code",
   "execution_count": 2,
   "id": "a7c7d806",
   "metadata": {},
   "outputs": [],
   "source": [
    "from wdtools import *"
   ]
  },
  {
   "cell_type": "code",
   "execution_count": 3,
   "id": "59b1583a",
   "metadata": {},
   "outputs": [],
   "source": [
    "setID = 'Set007'; nm_to_add = 4972"
   ]
  },
  {
   "cell_type": "code",
   "execution_count": 4,
   "id": "db038a1c",
   "metadata": {},
   "outputs": [],
   "source": [
    "wd = combine_wd_tables(setID=setID, nm_to_add=nm_to_add, raw=False)"
   ]
  },
  {
   "cell_type": "code",
   "execution_count": 14,
   "id": "ea6a6d2d",
   "metadata": {},
   "outputs": [
    {
     "data": {
      "text/plain": [
       "Index(['wetdet_delin_number', 'trsqq', 'parcel_id', 'address_location_desc',\n",
       "       'city', 'county', 'site_name', 'site_desc', 'latitude', 'longitude',\n",
       "       'DocumentName', 'DecisionLink', 'is_batch_file', 'status_name',\n",
       "       'received_date', 'Coord-Source', 'response_date',\n",
       "       'reissuance_response_date', 'project_id', 'site_id', 'record_ID',\n",
       "       'notes', 'recyear', 'IDyear', 'missinglot'],\n",
       "      dtype='object')"
      ]
     },
     "execution_count": 14,
     "metadata": {},
     "output_type": "execute_result"
    }
   ],
   "source": [
    "wd.columns"
   ]
  },
  {
   "cell_type": "code",
   "execution_count": 5,
   "id": "60a4861b",
   "metadata": {},
   "outputs": [],
   "source": [
    "matched = gpd.read_file(os.path.join(inpath + '\\\\output\\\\matched\\\\', f'matched_records_{setID}_edited.shp'))"
   ]
  },
  {
   "cell_type": "code",
   "execution_count": 6,
   "id": "e2685714",
   "metadata": {},
   "outputs": [],
   "source": [
    "unmatched = pd.read_csv(os.path.join(inpath + '\\\\output\\\\to_review\\\\', f'unmatched_df_{setID}_2.csv'))"
   ]
  },
  {
   "cell_type": "code",
   "execution_count": 7,
   "id": "80ecd408",
   "metadata": {
    "scrolled": true
   },
   "outputs": [
    {
     "data": {
      "text/plain": [
       "Index(['wdID', 'trsqq', 'parcel_id', 'notes', 'lots', 'lot', 'ORTaxlot',\n",
       "       'record_ID', 'geometry'],\n",
       "      dtype='object')"
      ]
     },
     "execution_count": 7,
     "metadata": {},
     "output_type": "execute_result"
    }
   ],
   "source": [
    "matched.columns"
   ]
  },
  {
   "cell_type": "code",
   "execution_count": 7,
   "id": "65464575",
   "metadata": {},
   "outputs": [
    {
     "data": {
      "text/plain": [
       "16"
      ]
     },
     "execution_count": 7,
     "metadata": {},
     "output_type": "execute_result"
    }
   ],
   "source": [
    "# unmatched records based on wdID\n",
    "unmatchedIDs = wd[~wd.wetdet_delin_number.isin(matched.wdID.unique())].wetdet_delin_number.unique()\n",
    "len(unmatchedIDs)"
   ]
  },
  {
   "cell_type": "code",
   "execution_count": 8,
   "id": "5c211925",
   "metadata": {},
   "outputs": [
    {
     "data": {
      "text/plain": [
       "22"
      ]
     },
     "execution_count": 8,
     "metadata": {},
     "output_type": "execute_result"
    }
   ],
   "source": [
    "# unmatched records based record IDs\n",
    "unmatchedwdIDs = unmatched.wetdet_delin_number.unique()\n",
    "len(unmatchedwdIDs)"
   ]
  },
  {
   "cell_type": "code",
   "execution_count": 10,
   "id": "f83618a4",
   "metadata": {},
   "outputs": [
    {
     "data": {
      "text/plain": [
       "(52, 25)"
      ]
     },
     "execution_count": 10,
     "metadata": {},
     "output_type": "execute_result"
    }
   ],
   "source": [
    "unmatched.shape"
   ]
  },
  {
   "cell_type": "code",
   "execution_count": 11,
   "id": "f07948d5",
   "metadata": {},
   "outputs": [
    {
     "data": {
      "text/plain": [
       "True"
      ]
     },
     "execution_count": 11,
     "metadata": {},
     "output_type": "execute_result"
    }
   ],
   "source": [
    "all([wdID in unmatchedwdIDs for wdID in unmatchedIDs])"
   ]
  },
  {
   "cell_type": "code",
   "execution_count": 15,
   "id": "c3e54cb1",
   "metadata": {},
   "outputs": [],
   "source": [
    "df = wd[(wd.wetdet_delin_number.isin(matched.wdID.unique()))&(wd.notes.isnull())]"
   ]
  },
  {
   "cell_type": "code",
   "execution_count": 16,
   "id": "d37d7875",
   "metadata": {},
   "outputs": [
    {
     "data": {
      "text/plain": [
       "(253, 26)"
      ]
     },
     "execution_count": 16,
     "metadata": {},
     "output_type": "execute_result"
    }
   ],
   "source": [
    "df.shape"
   ]
  },
  {
   "cell_type": "markdown",
   "id": "065943f6",
   "metadata": {},
   "source": [
    "toAdd = review_loop_r1(df=df, \n",
    "                       partial=True, \n",
    "                       idx=True, \n",
    "                       wd_id='WD2014-0225',\n",
    "                       plot=True,\n",
    "                       gdf=matched)\n",
    "print(toAdd)"
   ]
  },
  {
   "cell_type": "markdown",
   "id": "61575d38",
   "metadata": {
    "scrolled": false
   },
   "source": [
    "review_loop_r1(df=unmatched, partial=True, idx=True) #, wd_id='WD2011-0309'"
   ]
  },
  {
   "cell_type": "code",
   "execution_count": 9,
   "id": "d9adc1e9",
   "metadata": {},
   "outputs": [],
   "source": [
    "outpath = r'L:\\NaturalResources\\Wetlands\\Local Wetland Inventory\\WAPO\\EPA_2022_Tasks\\Task 1 WD Mapping\\output'\n",
    "partial = pd.read_csv(outpath + f'\\\\to_review\\\\partial_matched_{setID}.csv')"
   ]
  },
  {
   "cell_type": "code",
   "execution_count": 14,
   "id": "a819b47e",
   "metadata": {},
   "outputs": [
    {
     "data": {
      "text/plain": [
       "Index(['wetdet_delin_number', 'trsqq', 'parcel_id', 'address_location_desc',\n",
       "       'city', 'county', 'site_name', 'site_desc', 'latitude', 'longitude',\n",
       "       'Coord-Source', 'DocumentName', 'DecisionLink', 'is_batch_file',\n",
       "       'status_name', 'received_date', 'response_date',\n",
       "       'reissuance_response_date', 'project_id', 'site_id', 'record_ID',\n",
       "       'notes', 'recyear', 'IDyear', 'missinglot'],\n",
       "      dtype='object')"
      ]
     },
     "execution_count": 14,
     "metadata": {},
     "output_type": "execute_result"
    }
   ],
   "source": [
    "partial.columns"
   ]
  },
  {
   "cell_type": "code",
   "execution_count": 12,
   "id": "35384f5e",
   "metadata": {},
   "outputs": [
    {
     "data": {
      "text/plain": [
       "74"
      ]
     },
     "execution_count": 12,
     "metadata": {},
     "output_type": "execute_result"
    }
   ],
   "source": [
    "len(partial.wetdet_delin_number.unique())"
   ]
  },
  {
   "cell_type": "code",
   "execution_count": 10,
   "id": "b42c0cd0",
   "metadata": {},
   "outputs": [],
   "source": [
    "#skips = wd[(wd.status_name.isin([\"Withdrawn by DSL\", \"Withdrawn by Applicant\"])) & (wd.is_batch_file=='Y')].wetdet_delin_number.unique()\n",
    "IDstoCheck = [wdID for wdID in partial.wetdet_delin_number.unique() if wdID not in list(unmatchedwdIDs)] # + list(skips)"
   ]
  },
  {
   "cell_type": "code",
   "execution_count": 11,
   "id": "38ec20b9",
   "metadata": {},
   "outputs": [],
   "source": [
    "toCheck_df = partial[partial.wetdet_delin_number.isin(IDstoCheck)]"
   ]
  },
  {
   "cell_type": "code",
   "execution_count": 18,
   "id": "dd8dcb51",
   "metadata": {},
   "outputs": [],
   "source": [
    "toCheck_df.to_csv(outpath + f'\\\\to_review\\\\tomap_{setID}.csv', index=False)"
   ]
  },
  {
   "cell_type": "code",
   "execution_count": 20,
   "id": "880fe0de",
   "metadata": {},
   "outputs": [],
   "source": [
    "toCheck_df = pd.read_csv(outpath + f'\\\\to_review\\\\tomap_{setID}.csv')"
   ]
  },
  {
   "cell_type": "code",
   "execution_count": 12,
   "id": "6fa637e7",
   "metadata": {
    "scrolled": false
   },
   "outputs": [
    {
     "name": "stdout",
     "output_type": "stream",
     "text": [
      "8.2% digitized, 67 records remained, expected to be done in about 17 hours...\n",
      "WD2008-0615\n",
      "index = 22\n",
      "     county     trsqq parcel_id  latitude  longitude  record_ID    notes  \\\n",
      "21  Clatsop  08N07W19     1000p  46.16536 -123.60512       5024  Partial   \n",
      "\n",
      "   missinglot       status_name is_batch_file  \n",
      "21          N  Completed by DSL             Y  \n",
      "Press 'p' to pause or any key to stop...p\n",
      "Press 'a' to add the wd record or 'c' to continue...c\n",
      "9.6% digitized, 66 records remained, expected to be done in about 17 hours...\n",
      "WD2009-0012\n",
      "index = 23\n",
      "     county     trsqq parcel_id   latitude   longitude  record_ID    notes  \\\n",
      "22  Clatsop  08N10W26      500p  46.152201 -123.882011       5026  Partial   \n",
      "\n",
      "   missinglot              status_name is_batch_file  \n",
      "22          N  Approved with Revisions             N  \n",
      "Press 'p' to pause or any key to stop...p\n",
      "Press 'a' to add the wd record or 'c' to continue...c\n",
      "11.0% digitized, 65 records remained, expected to be done in about 16 hours...\n",
      "WD2009-0064\n",
      "index = 24\n",
      "     county     trsqq      parcel_id   latitude   longitude  record_ID  \\\n",
      "23  Clatsop  08N08W15  100p,200p,201  46.176294 -123.656656       5029   \n",
      "\n",
      "      notes missinglot              status_name is_batch_file  \n",
      "23  Partial          N  Approved with Revisions             N  \n",
      "Press 'p' to pause or any key to stop...p\n",
      "Press 'a' to add the wd record or 'c' to continue...c\n",
      "12.3% digitized, 64 records remained, expected to be done in about 16 hours...\n",
      "WD2009-0099\n",
      "index = 25\n",
      "     county       trsqq          parcel_id   latitude   longitude  record_ID  \\\n",
      "24  Clatsop  08N10W22CB  4900, 6700, 6800p  46.161386 -123.919988       5031   \n",
      "\n",
      "      notes missinglot status_name is_batch_file  \n",
      "24  Partial          N    Approved             N  \n",
      "Press 'p' to pause or any key to stop...p\n",
      "Press 'a' to add the wd record or 'c' to continue...c\n",
      "13.7% digitized, 63 records remained, expected to be done in about 16 hours...\n",
      "WD2009-0159\n",
      "index = 26\n",
      "     county      trsqq                                     parcel_id  \\\n",
      "25  Clatsop   05N10W14                  601,605,701,800,ROW,All part   \n",
      "26  Clatsop  05N10W23A  101,105,106,107,110,112,113,300,ROW,All part   \n",
      "\n",
      "     latitude   longitude  record_ID         notes missinglot status_name  \\\n",
      "25  45.918617 -123.894367       5037  ROW, Partial          N    Approved   \n",
      "26  45.906100 -123.880500       5038  ROW, Partial          N    Approved   \n",
      "\n",
      "   is_batch_file  \n",
      "25             N  \n",
      "26             N  \n",
      "Press 'p' to pause or any key to stop...p\n",
      "Press 'a' to add the wd record or 'c' to continue...c\n",
      "15.1% digitized, 62 records remained, expected to be done in about 16 hours...\n",
      "WD2009-0243\n",
      "index = 28\n",
      "     county      trsqq parcel_id   latitude  longitude  record_ID    notes  \\\n",
      "27  Clatsop  07N10W22D      500p  46.074247 -123.90479       5042  Partial   \n",
      "\n",
      "   missinglot              status_name is_batch_file  \n",
      "27          N  Approved with Revisions             N  \n",
      "Press 'p' to pause or any key to stop...p\n",
      "Press 'a' to add the wd record or 'c' to continue...c\n",
      "16.4% digitized, 61 records remained, expected to be done in about 15 hours...\n",
      "WD2009-0277\n",
      "index = 29\n",
      "     county     trsqq parcel_id  latitude  longitude  record_ID    notes  \\\n",
      "28  Clatsop  08N07W18      600p   45.6862  -123.1953       5044  Partial   \n",
      "\n",
      "   missinglot       status_name is_batch_file  \n",
      "28          N  Completed by DSL             Y  \n",
      "Press 'p' to pause or any key to stop...p\n",
      "Press 'a' to add the wd record or 'c' to continue...c\n",
      "17.8% digitized, 60 records remained, expected to be done in about 15 hours...\n",
      "WD2009-0299\n",
      "index = 30\n",
      "     county       trsqq parcel_id  latitude  longitude  record_ID    notes  \\\n",
      "29  Clatsop  06N10W22BA      100p   45.9963  -123.9122       5048  Partial   \n",
      "\n",
      "   missinglot       status_name is_batch_file  \n",
      "29          N  Completed by DSL             Y  \n",
      "Press 'p' to pause or any key to stop...p\n",
      "Press 'a' to add the wd record or 'c' to continue...c\n",
      "19.2% digitized, 59 records remained, expected to be done in about 15 hours...\n",
      "WD2009-0333\n",
      "index = 31\n",
      "     county       trsqq                               parcel_id   latitude  \\\n",
      "30  Clatsop  08N09W07CC                        3500p,12700p,ROW  46.188307   \n",
      "31  Clatsop    08N10W13           100,102,200,1500,ROW,All part  46.188307   \n",
      "32  Clatsop  08N09W07CB    100,200,201,202,203,290,ROW,All part  46.188307   \n",
      "33  Clatsop  08N09W07CA   5400,500,401,400,600,704,ROW,All part  46.188307   \n",
      "34  Clatsop  08N09W07CC  1300,1400,1500,1600,2500,2600,All part  46.188307   \n",
      "\n",
      "    longitude  record_ID         notes missinglot status_name is_batch_file  \n",
      "30 -123.85694       5050  ROW, Partial          N    Approved             N  \n",
      "31 -123.85694       5051  ROW, Partial          N    Approved             N  \n",
      "32 -123.85694       5052  ROW, Partial          N    Approved             N  \n",
      "33 -123.85694       5053  ROW, Partial          N    Approved             N  \n",
      "34 -123.85694       5054       Partial          N    Approved             N  \n",
      "Press 'p' to pause or any key to stop...p\n",
      "Press 'a' to add the wd record or 'c' to continue...c\n",
      "20.5% digitized, 58 records remained, expected to be done in about 15 hours...\n",
      "WD2009-0468\n",
      "index = 36\n",
      "     county     trsqq    parcel_id   latitude   longitude  record_ID    notes  \\\n",
      "35  Clatsop  08N10W22  2000p,2305p  46.163889 -123.900556       5058  Partial   \n",
      "\n",
      "   missinglot status_name is_batch_file  \n",
      "35          N    Approved             N  \n",
      "Press 'p' to pause or any key to stop...p\n",
      "Press 'a' to add the wd record or 'c' to continue...c\n",
      "21.9% digitized, 57 records remained, expected to be done in about 14 hours...\n",
      "WD2009-0477\n",
      "index = 37\n",
      "     county       trsqq                                  parcel_id   latitude  \\\n",
      "36  Clatsop  08N10W28AD  500,600,800,900,1100,1200,2000,2100,2200p  46.151811   \n",
      "37  Clatsop    08N10W28       100,101,200p,400p,500p,600,700p,900p  46.151811   \n",
      "38  Clatsop    08N10W28                 1000,1100p,1401,1500,1600p  46.151811   \n",
      "\n",
      "     longitude  record_ID    notes missinglot status_name is_batch_file  \n",
      "36 -123.923518       5059  Partial          N    Approved             N  \n",
      "37 -123.923518       5060  Partial          N    Approved             N  \n",
      "38 -123.923518       5061  Partial          N    Approved             N  \n",
      "Press 'p' to pause or any key to stop...s\n"
     ]
    }
   ],
   "source": [
    "toadd = review_loop_r1(df=toCheck_df, partial=True, idx=True, wd_id='WD2009-0477')"
   ]
  },
  {
   "cell_type": "code",
   "execution_count": 10,
   "id": "c8a98883",
   "metadata": {},
   "outputs": [],
   "source": [
    "tocheckIDs = ['WD2017-0266']"
   ]
  },
  {
   "cell_type": "code",
   "execution_count": 11,
   "id": "684ded10",
   "metadata": {
    "scrolled": true
   },
   "outputs": [
    {
     "name": "stdout",
     "output_type": "stream",
     "text": [
      "0.0% digitized, 1 records remained, expected to be done in about 1 hours...\n",
      "WD2017-0266\n",
      "index = 1\n",
      "    county     trsqq parcel_id   latitude   longitude  record_ID notes  \\\n",
      "214   Linn  10S03W15   I-5 ROW  44.703675 -123.050415       3093   ROW   \n",
      "\n",
      "    missinglot  \n",
      "214          N  \n",
      "Press 'p' to pause or any key to stop...p\n",
      "Press 'a' to add the wd record or 'c' to continue...c\n"
     ]
    }
   ],
   "source": [
    "review_loop_r1(wdid_list=tocheckIDs, partial=True, idx=True, wddf=wd)"
   ]
  }
 ],
 "metadata": {
  "kernelspec": {
   "display_name": "Python 3",
   "language": "python",
   "name": "python3"
  },
  "language_info": {
   "codemirror_mode": {
    "name": "ipython",
    "version": 3
   },
   "file_extension": ".py",
   "mimetype": "text/x-python",
   "name": "python",
   "nbconvert_exporter": "python",
   "pygments_lexer": "ipython3",
   "version": "3.8.8"
  }
 },
 "nbformat": 4,
 "nbformat_minor": 5
}
