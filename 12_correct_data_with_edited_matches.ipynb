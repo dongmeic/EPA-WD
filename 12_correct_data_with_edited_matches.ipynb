{
 "cells": [
  {
   "cell_type": "code",
   "execution_count": 1,
   "id": "60399a12",
   "metadata": {},
   "outputs": [],
   "source": [
    "%load_ext autoreload\n",
    "%autoreload 2"
   ]
  },
  {
   "cell_type": "code",
   "execution_count": 2,
   "id": "860b0127",
   "metadata": {},
   "outputs": [],
   "source": [
    "from wdtools import *"
   ]
  },
  {
   "cell_type": "code",
   "execution_count": 3,
   "id": "09778958",
   "metadata": {},
   "outputs": [],
   "source": [
    "n = 7"
   ]
  },
  {
   "cell_type": "code",
   "execution_count": 4,
   "id": "4528693d",
   "metadata": {},
   "outputs": [],
   "source": [
    "setID = 'Set00'+str(n); nm_to_add = 4972"
   ]
  },
  {
   "cell_type": "code",
   "execution_count": 7,
   "id": "3b6b2220",
   "metadata": {},
   "outputs": [
    {
     "data": {
      "text/plain": [
       "'output\\\\matched'"
      ]
     },
     "execution_count": 7,
     "metadata": {},
     "output_type": "execute_result"
    }
   ],
   "source": [
    "outfolder"
   ]
  },
  {
   "cell_type": "code",
   "execution_count": 10,
   "id": "e96aa06a",
   "metadata": {},
   "outputs": [],
   "source": [
    "outpath = inpath + '\\\\' + outfolder"
   ]
  },
  {
   "cell_type": "code",
   "execution_count": 9,
   "id": "64a99505",
   "metadata": {},
   "outputs": [],
   "source": [
    "matched = gpd.read_file(outpath + f'\\\\matched_records_{setID}.shp')"
   ]
  },
  {
   "cell_type": "code",
   "execution_count": 14,
   "id": "6a37efac",
   "metadata": {},
   "outputs": [],
   "source": [
    "edited = gpd.read_file(outpath+ f'\\\\matched_records_{setID}_edited.shp')"
   ]
  },
  {
   "cell_type": "code",
   "execution_count": 29,
   "id": "cac13407",
   "metadata": {},
   "outputs": [],
   "source": [
    "with open(outpath+f'\\\\{setID}_edited.txt') as f:\n",
    "    editedIDs = f.readlines()[0].split(', ')"
   ]
  },
  {
   "cell_type": "code",
   "execution_count": 16,
   "id": "0158c14e",
   "metadata": {},
   "outputs": [],
   "source": [
    "path=inpath+r'\\GIS\\ArcGIS Pro Project\\DataReview\\DataReview.gdb'"
   ]
  },
  {
   "cell_type": "code",
   "execution_count": 17,
   "id": "778f6cd4",
   "metadata": {},
   "outputs": [],
   "source": [
    "data = gpd.read_file(path, layer='matched_record')"
   ]
  },
  {
   "cell_type": "code",
   "execution_count": 20,
   "id": "560312db",
   "metadata": {},
   "outputs": [],
   "source": [
    "to_check = data.wdID.unique()"
   ]
  },
  {
   "cell_type": "code",
   "execution_count": 21,
   "id": "0d08440d",
   "metadata": {},
   "outputs": [
    {
     "data": {
      "text/plain": [
       "[]"
      ]
     },
     "execution_count": 21,
     "metadata": {},
     "output_type": "execute_result"
    }
   ],
   "source": [
    "[wid for wid in editedIDs if wid in to_check]"
   ]
  },
  {
   "cell_type": "code",
   "execution_count": 22,
   "id": "d6515d67",
   "metadata": {},
   "outputs": [],
   "source": [
    "updated = matched[~matched.wdID.isin(editedIDs)].append(edited[edited.wdID.isin(editedIDs)], \n",
    "                                              ignore_index=True)"
   ]
  },
  {
   "cell_type": "code",
   "execution_count": 32,
   "id": "22030dfa",
   "metadata": {},
   "outputs": [],
   "source": [
    "with open(outpath+f'\\\\{setID}_edited.txt') as f:\n",
    "    test = f.readlines()"
   ]
  },
  {
   "cell_type": "code",
   "execution_count": 38,
   "id": "d716e599",
   "metadata": {},
   "outputs": [],
   "source": [
    "if len(test) == 1:\n",
    "    test = test[0].split(', ')"
   ]
  },
  {
   "cell_type": "code",
   "execution_count": 37,
   "id": "9fdecd86",
   "metadata": {},
   "outputs": [
    {
     "data": {
      "text/plain": [
       "1"
      ]
     },
     "execution_count": 37,
     "metadata": {},
     "output_type": "execute_result"
    }
   ],
   "source": [
    "len(test)"
   ]
  },
  {
   "cell_type": "code",
   "execution_count": 39,
   "id": "8a407c65",
   "metadata": {},
   "outputs": [
    {
     "data": {
      "text/plain": [
       "['WD2008-0615',\n",
       " 'WD2009-0299',\n",
       " 'WD2009-0504',\n",
       " 'WD2010-0216',\n",
       " 'WD2012-0293',\n",
       " 'WD2013-0284',\n",
       " 'WD2014-0003',\n",
       " 'WD2014-0279',\n",
       " 'WD2014-0312',\n",
       " 'WD2015-0485',\n",
       " 'WD2016-0001',\n",
       " 'WD2016-0234',\n",
       " 'WD2014-0487',\n",
       " 'WD2016-0427']"
      ]
     },
     "execution_count": 39,
     "metadata": {},
     "output_type": "execute_result"
    }
   ],
   "source": [
    "test"
   ]
  },
  {
   "cell_type": "code",
   "execution_count": 25,
   "id": "bf7d9abd",
   "metadata": {
    "scrolled": true
   },
   "outputs": [],
   "source": [
    "updated.to_file(outpath+ f'\\\\matched_records_{setID}_edited.shp')"
   ]
  }
 ],
 "metadata": {
  "kernelspec": {
   "display_name": "Python 3",
   "language": "python",
   "name": "python3"
  },
  "language_info": {
   "codemirror_mode": {
    "name": "ipython",
    "version": 3
   },
   "file_extension": ".py",
   "mimetype": "text/x-python",
   "name": "python",
   "nbconvert_exporter": "python",
   "pygments_lexer": "ipython3",
   "version": "3.8.8"
  }
 },
 "nbformat": 4,
 "nbformat_minor": 5
}
