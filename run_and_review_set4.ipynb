{
 "cells": [
  {
   "cell_type": "code",
   "execution_count": 1,
   "id": "55367207",
   "metadata": {},
   "outputs": [],
   "source": [
    "%load_ext autoreload\n",
    "%autoreload 2"
   ]
  },
  {
   "cell_type": "code",
   "execution_count": 112,
   "id": "97342d85",
   "metadata": {},
   "outputs": [],
   "source": [
    "from wdtools import *"
   ]
  },
  {
   "cell_type": "code",
   "execution_count": 4,
   "id": "532d197e",
   "metadata": {},
   "outputs": [
    {
     "name": "stdout",
     "output_type": "stream",
     "text": [
      "it took 9.0 minutes to complete\n"
     ]
    }
   ],
   "source": [
    "# this can take about 9 - 11 minutes\n",
    "start = time.time()\n",
    "all_taxlot = combine_taxlot()\n",
    "end = time.time()\n",
    "print(f'it took {round((end - start)/60, 0)} minutes to complete')"
   ]
  },
  {
   "cell_type": "code",
   "execution_count": 58,
   "id": "2c5187a9",
   "metadata": {},
   "outputs": [
    {
     "data": {
      "text/plain": [
       "(10726424, 3)"
      ]
     },
     "execution_count": 58,
     "metadata": {},
     "output_type": "execute_result"
    }
   ],
   "source": [
    "all_taxlot.shape"
   ]
  },
  {
   "cell_type": "code",
   "execution_count": 5,
   "id": "2207602f",
   "metadata": {},
   "outputs": [
    {
     "data": {
      "text/html": [
       "<div>\n",
       "<style scoped>\n",
       "    .dataframe tbody tr th:only-of-type {\n",
       "        vertical-align: middle;\n",
       "    }\n",
       "\n",
       "    .dataframe tbody tr th {\n",
       "        vertical-align: top;\n",
       "    }\n",
       "\n",
       "    .dataframe thead th {\n",
       "        text-align: right;\n",
       "    }\n",
       "</style>\n",
       "<table border=\"1\" class=\"dataframe\">\n",
       "  <thead>\n",
       "    <tr style=\"text-align: right;\">\n",
       "      <th></th>\n",
       "      <th>year</th>\n",
       "      <th>ORTaxlot</th>\n",
       "      <th>geometry</th>\n",
       "    </tr>\n",
       "  </thead>\n",
       "  <tbody>\n",
       "    <tr>\n",
       "      <th>0</th>\n",
       "      <td>2016</td>\n",
       "      <td></td>\n",
       "      <td>MULTIPOLYGON (((647614.242 1382867.700, 647613...</td>\n",
       "    </tr>\n",
       "    <tr>\n",
       "      <th>1</th>\n",
       "      <td>2016</td>\n",
       "      <td>0 .00.000000--0000</td>\n",
       "      <td>MULTIPOLYGON (((486021.517 1375588.457, 485872...</td>\n",
       "    </tr>\n",
       "    <tr>\n",
       "      <th>2</th>\n",
       "      <td>2016</td>\n",
       "      <td>0 .00.000000--000000000</td>\n",
       "      <td>MULTIPOLYGON (((485310.155 1359830.882, 485282...</td>\n",
       "    </tr>\n",
       "  </tbody>\n",
       "</table>\n",
       "</div>"
      ],
      "text/plain": [
       "   year                 ORTaxlot  \\\n",
       "0  2016                            \n",
       "1  2016       0 .00.000000--0000   \n",
       "2  2016  0 .00.000000--000000000   \n",
       "\n",
       "                                            geometry  \n",
       "0  MULTIPOLYGON (((647614.242 1382867.700, 647613...  \n",
       "1  MULTIPOLYGON (((486021.517 1375588.457, 485872...  \n",
       "2  MULTIPOLYGON (((485310.155 1359830.882, 485282...  "
      ]
     },
     "execution_count": 5,
     "metadata": {},
     "output_type": "execute_result"
    }
   ],
   "source": [
    "all_taxlot.head(3)"
   ]
  },
  {
   "cell_type": "code",
   "execution_count": 91,
   "id": "9b45bf86",
   "metadata": {},
   "outputs": [],
   "source": [
    "setID = 'Set004'; nm_to_add = 2878"
   ]
  },
  {
   "cell_type": "code",
   "execution_count": 88,
   "id": "b331cd95",
   "metadata": {},
   "outputs": [],
   "source": [
    "wd = combine_wd_tables(setID=setID, nm_to_add=nm_to_add)"
   ]
  },
  {
   "cell_type": "code",
   "execution_count": 59,
   "id": "381a2082",
   "metadata": {},
   "outputs": [
    {
     "data": {
      "text/plain": [
       "(1054, 25)"
      ]
     },
     "execution_count": 59,
     "metadata": {},
     "output_type": "execute_result"
    }
   ],
   "source": [
    "wd.shape"
   ]
  },
  {
   "cell_type": "code",
   "execution_count": 8,
   "id": "453e3001",
   "metadata": {},
   "outputs": [
    {
     "data": {
      "text/plain": [
       "array(['Crook', 'Curry', 'Hood River', 'Jefferson', 'Linn', 'Multnomah',\n",
       "       'Wasco', 'Yamhill', 'Yamhill and Washington'], dtype=object)"
      ]
     },
     "execution_count": 8,
     "metadata": {},
     "output_type": "execute_result"
    }
   ],
   "source": [
    "wd.county.unique()"
   ]
  },
  {
   "cell_type": "code",
   "execution_count": 16,
   "id": "c0d5f0e6",
   "metadata": {},
   "outputs": [
    {
     "data": {
      "text/plain": [
       "array(['WD2022-0083'], dtype=object)"
      ]
     },
     "execution_count": 16,
     "metadata": {},
     "output_type": "execute_result"
    }
   ],
   "source": [
    "wd[wd.county=='Yamhill and Washington'].wetdet_delin_number.unique()"
   ]
  },
  {
   "cell_type": "code",
   "execution_count": 9,
   "id": "b0e4fd8e",
   "metadata": {},
   "outputs": [
    {
     "data": {
      "text/plain": [
       "Index(['wetdet_delin_number', 'trsqq', 'parcel_id', 'address_location_desc',\n",
       "       'city', 'county', 'site_name', 'site_desc', 'latitude', 'longitude',\n",
       "       'DocumentName', 'DecisionLink', 'is_batch_file', 'status_name',\n",
       "       'received_date', 'Coord-Source', 'response_date',\n",
       "       'reissuance_response_date', 'project_id', 'site_id', 'record_ID',\n",
       "       'notes', 'recyear', 'IDyear', 'missinglot'],\n",
       "      dtype='object')"
      ]
     },
     "execution_count": 9,
     "metadata": {},
     "output_type": "execute_result"
    }
   ],
   "source": [
    "wd.columns"
   ]
  },
  {
   "cell_type": "code",
   "execution_count": 10,
   "id": "587f7a98",
   "metadata": {},
   "outputs": [
    {
     "data": {
      "text/plain": [
       "array(['700p', '1601,1700,1800,All part', '1210,4000', '600', '1600',\n",
       "       '300,1223,1224,2000,All part', '1400', '100,601',\n",
       "       '100,200,400,600,601,ROW,All part', '5900p,ROW', '200', '100',\n",
       "       '2000', '900', '7300p,WATER,ROW', '202', '601', '300', '1223',\n",
       "       '702,800', '100,401', '2900,3000', '1228', '800p,1900',\n",
       "       '1600,1609', '1600p', '500', '1231', '600p', '300p', '100p',\n",
       "       '800p', '2300,2301,2400,2800',\n",
       "       '300,800,1800,1900,2000,2100,All part', '100p,ROW',\n",
       "       '1600,1602,1605,1608,All part', '300p,301p,ROW', '1000p,1100p,ROW',\n",
       "       '101p', '100,101,ROW', '200,600,ROW', '102,400,ROW', '101',\n",
       "       '200,301,500,501,700,800,900,1000,ROW', '501,700,701,ROW',\n",
       "       '101,ROW', '204', '100,104,500,ROW', '201,205,300,ROW', 'ROWs',\n",
       "       '4600p,4800p,ROWs', '100p,2100p,ROW', '604p,605p', '400', '1500',\n",
       "       '200,203', '1502,1800', '3200', '1200', '800,900', '298p,299',\n",
       "       '2103,2105', '2103,2104,2105', '117', '2302', '201', '2300p',\n",
       "       '100p,101p', '2502, 2503', '1900', 'ROW', '700', '100,101',\n",
       "       '1600,1700,1800,1900,1901,1902,2000,2100', '1922',\n",
       "       '1603,2501,2503,All part', '1501', '100p,200p', '4600p',\n",
       "       '1500,1600,1700,ROW,All part', '6800p,7100p,ROW', '1000p',\n",
       "       '3300,3400', '100,ROW', '4000', '502', '1904', '4900', '400p,ROW',\n",
       "       '100p,101p,ROW', '100,101,200,ROW,All part', '1920', '1601',\n",
       "       '1000p,1001,1002', '2201,2202,2400p', '5400', '1102', '200p',\n",
       "       '2400', '299', '3100p', '800', '500,600,700,901',\n",
       "       '800,900,903,904,1000', '1300', '1401', '2800,3800', '501',\n",
       "       '2800,ROW', '206p,800p,ROW', '100p,200p,ROW', '300p,400p,ROW',\n",
       "       '400p,500p,ROW', '100,200,300,ROW,All part', '690p,691p,ROW',\n",
       "       '100,199,200,300,800,900',\n",
       "       '8500,8400,8300,8200,8100,8000,7900,7800,All part',\n",
       "       '4200,5100,5000,4900,ROW,All part',\n",
       "       '7700,7600,7500,2300,2203,1800,1500,1504,All part',\n",
       "       '1503,1580,1602,1600,1400,1300,4000,4100,All part', '800,1300',\n",
       "       '1200p', '6200', '632', '2200', '400,405', '1800', '1208', '1700',\n",
       "       '2409', '1207', 'I-5 ROW', '403p', '1100p',\n",
       "       '1500,1600,1702,1703,1800,1901,2000', '102,103', '5600, ROW',\n",
       "       '1701', '5500p', '5600,RAILS,ROW', '100,202,300',\n",
       "       '600,3800,RAILS,ROW', '1100,1102', '3805,3930', '2602', '2202',\n",
       "       '300, 403', '2604', '600,607p', '1018', '102,105p',\n",
       "       '300,500,501,All part', '702', '110', '2802, 2804', '400p',\n",
       "       '301,302', '2700', '5400,5600,5700,5800,5900', '113,114,203',\n",
       "       '1000', '2700,2701', '1201, 1203', '7000', '6500', '1001', '124',\n",
       "       '1800, 1900, 2000', '1104', '8300', '100,500,501,ROW,All part',\n",
       "       '600p,603p,ROW', '226', '401', '1701p', '303,401', '1702', '805',\n",
       "       '2000,2100,3302', '2404', '2100', '3802', '7400', '1800,5200',\n",
       "       '101p,102p', '506', '103', '601p,700p', '600,607', '902', '301',\n",
       "       '2102', '1302,1403,1300,1404,All part', '700p,800p', '500p',\n",
       "       '221p', '3000p', '4403', '901', '600, 1000', '2300,ROW',\n",
       "       '300,400,ROWs', '100,101,106,108', '200,205', '432', '216', '502p',\n",
       "       '11700', '3300', '1000,1100,1200', '2300p,ROW', '212,214',\n",
       "       '203,206,207', '100p,1000p,ROW', '300p,ROW', '1800p', '2401p',\n",
       "       '3000', '3500', '11000,11100,1700,All part', '102p,200p',\n",
       "       '200,300,400,401,402,500,501,All part', '502,600,800,All part',\n",
       "       '100,5600,11500,All part', '100,6901,7001,All part', '3700', '105',\n",
       "       '4500,4502,4503', '810', '2205', '301,400,303p,401p', '1302p',\n",
       "       '1100', '202,205', '903', '704p,2500', '400p,402p', '203',\n",
       "       '201p,210,404p', '306', '100,101,500', 'WATER', nan, '3502',\n",
       "       '1001,ROWs', '907', '3902', '600p,1500p,ROW', '1501p',\n",
       "       '4600,4601,4602', '5700,5800,5900,6000,ROW', '100,200,300',\n",
       "       '8600,8700,ROW', '200,300,500', '100,200,300,400,500,600,700',\n",
       "       '800,900,1300,1700,2100,2400,2500',\n",
       "       '600,800,900,1000,1200,1300,1400,1600,1700,1800',\n",
       "       '1300,1400,1500,3900,4000', '300,400',\n",
       "       '100,200,300,400,500,600,700,800', '2700,3200,3600,3700', '4500',\n",
       "       '800,1200', '116', '2600,2700', '100,200p',\n",
       "       '101,102,300,301,800,801,1100,1200', '900p', '300, 1400', '13800',\n",
       "       '600,500,400', '100,200,300,ROW', '800,901',\n",
       "       '1100,1500,1600,4800,4900,5000,5100,5200,All part', '1500p,1600p',\n",
       "       '5300,5400,5500,5600,5700,5800,5900,6000,All part',\n",
       "       '6900,7700,7800,7900,8000,8100,8200,8300,All part',\n",
       "       '6100,6200,6300,6400,6500,6600,6700,6800,All part', '5100',\n",
       "       '6500,6501,6502', '12200,12100', '6800,7100', '11200',\n",
       "       '10002, 10003', '2300', '12500', '3600p,500p,ROW', '7300',\n",
       "       '2000,2100,2400,2500,ROW,All part',\n",
       "       '1000,1800,1801,1901,1900,All part', '900p,ROW', '2500,2600',\n",
       "       '1100,1200,1300,All part', '1200,1500,2100,2200,3200,All part',\n",
       "       '400,600', '1100,1200,1300,1400,1500,90000',\n",
       "       '100,200,300,400,500,900,1000,1100,1200', '700,800,900,1000',\n",
       "       '300,400,500,700,900', '5600', '3100', '10004', '5900', '3600p',\n",
       "       '100,202', '4100', '200,300,700,2000',\n",
       "       '8300,8400,8500,8600,8700,8800,8900,ROWs,All part',\n",
       "       '100,700,800,900,1000,1100,1200,1300,ROWs,All part',\n",
       "       '12500p,12600p,ROWs', '1200p,3900,4000,8300p,ROWs',\n",
       "       '15100,15300,15600,15700,15800,15900,ROWs,All part',\n",
       "       '601,602,1900,2000,2100,2200,2300,ROWs,All part',\n",
       "       '7600p,3400,5400,5500,6900,ROWs,All part',\n",
       "       '6200,6300,6800,7000,7300,7400,7500,ROWs,All part',\n",
       "       '3900,4000,4100,4200,5301,6000,6100,ROWs,All part',\n",
       "       '3000,3100,3200,3300,3500,3700,3800,ROWs,All part',\n",
       "       '2400,2500,2501,2600,2702,2800,2900,ROWs,All part',\n",
       "       '13100,13200,13300,ROWs,All part',\n",
       "       '12500,12600,12700,12800,12900,13000,ROWs,All part',\n",
       "       '12100,12200,12300,12400,12401,ROWs,All part',\n",
       "       '7500,7600,8100,8300,8400,8500,ROWs,All part',\n",
       "       '11300,11400,11500,11600,11700,11800,ROWs,All part',\n",
       "       '1400,4000,4100,4200,4300,7200,7300,ROWs,All part',\n",
       "       '9000,9100,9200,9600,9700,9800,ROWs,All part',\n",
       "       '11900,12000,12100,12200,12300,12400,ROWs,All part', '13200',\n",
       "       '6500, 6600', '10900, 11100, 11200', '4800,4900,5000', '3800,3900',\n",
       "       '100p ,200p', '404', '1700,1800', '3400', '1003', '207p,216p',\n",
       "       '90078,90079,90080,All part',\n",
       "       '90068,90069,90072,90073,90074,All part',\n",
       "       '600,2400,2500,2600,3500,3600,3700,3702,All part',\n",
       "       '3800,4500,90000,90064,90065,90066,90067,All part',\n",
       "       '14700,14800,14900,15000,15100,17600,All part',\n",
       "       '102,300,400,500,All part',\n",
       "       '1400,900,600,500,400,300,ROW,All part', '202p,800p,ROW',\n",
       "       '300p,200p,ROW', '202,201,108,107,105,104,ROW,All part',\n",
       "       '300,400,500,All part', '700,800,900',\n",
       "       '2600,2700,2800,3000,ROW,All part', '500, 600, 700', '102p',\n",
       "       '1300,1400,1500p', '7100', '100,200,300,400,500,All part', '8900',\n",
       "       '11401', '6600', '6700', '10700', '10000', '4800', '2600', '12600',\n",
       "       '700,701,702', '12700', '11000, 98000', '5500', '2500',\n",
       "       '2100,2200', '600,700p', '7200', '10600', '2502', '200,300,ROW',\n",
       "       '1100,1300,1400,1500,1700,1800,1900,2300,2400,2500', '16900,ROW',\n",
       "       '2600,2700,2800,2900,3000,3100,3200,3300,3400',\n",
       "       '4400,4600,4700,4800,4900,ROW', '100p,1000p', '3600', '1200p,ROW',\n",
       "       '200p,ROW', '1400,1500p,1600p,1700,ROW', '7700', '300,800,ROW',\n",
       "       '108, 109, 110', '2900, 3100, 3400', '100, 200', '108', '20800',\n",
       "       '1300,1400,1500', '4300p,ROW', '500p,2700p,ROW', '6402, 6401',\n",
       "       '5300', '1200,1300,1400', '1303,1600p', '101, 901', '200,301',\n",
       "       '2300,2400,2500', '600p,800p',\n",
       "       '1400,1500,1600p,2100,2200,23000,2400,2500,ROW',\n",
       "       '4000,4100p,4200,4400,4600,4700,4900p,ROW', '1800,ROW',\n",
       "       '2600,2701,2800,3100,ROW', '600p,ROW', '12100',\n",
       "       '2700,2800,2900,3000,3100,3200,3400', '101,901', '7600', '6900',\n",
       "       '201p,300,400', '3300,3400,3601,3800,3900,4000,4100,4200,4300',\n",
       "       '100,200,300,400,700,4300,4400,ROW', '4500,6400,6500,ROW',\n",
       "       '2700,ROW', '1500,1600,1700,1800,2100,2200,2300,2400,2500,2600',\n",
       "       '100,1100p', '6400,6500,6600,All part', '4900,8600',\n",
       "       '2600,2700,ROW', '8200,8300,8400p', '3000,2901,2902,2903', '12800',\n",
       "       '1300, 1400', '6400', '3800', '6100', '13400', '12004',\n",
       "       '400,500,1300,1400,1401,1402,ROW', '7200,7700,7900,9100,All part',\n",
       "       '300p,400p', '100,500,600,700,All part', '100,300,400,All part',\n",
       "       '300,1400', '2800', '9401,9400,9300', '4400,4300,4200',\n",
       "       '2000p,ROW', '12100p,ROW', '205p,210p,ROW', '6821p,6822p,ROW',\n",
       "       '70000,70002,70003,70004,70005,All part', '400p,500p',\n",
       "       '900,1800,1900,All part', '1000,1100,1200,ROW,All part',\n",
       "       '205p,207p,206,ROW', '104p,ROW', '108,109,300,All part',\n",
       "       '100p,200p,300', '6600,7300', '6300,6400',\n",
       "       '300,400p,500,600,700,800,900', '1000,1100p,1200,1300p',\n",
       "       '13100,13200', '3600,3800', '200p,201', '2800,2801', '500,501',\n",
       "       '2501,2601', '701', 'Many', '100,900', '2300p,2400p,ROW',\n",
       "       '700p,ROW', '300p,500p', '300p,500p,ROW', '100p,903p',\n",
       "       '100,400,1402', '2700,2800,2900,3100,3200, ROW',\n",
       "       '100,200,400,500,600,800,900,1000,2400,2500,2600',\n",
       "       '3400p,3500p,ROW', '2700p,4100p,ROW',\n",
       "       '100p,500p,1100,1800p,1900,ROW', '700,800,1500,ROW,All part',\n",
       "       '1200,1201,2200p,ROW', '3400,3500,3600,ROW,All part', '400,ROW',\n",
       "       '2800,ROW,Rails', '500,600,700', '100,200', '702p,107p,ROW',\n",
       "       '500,ROW', '101p,ROW', '300,400,401', '400,500,600', '1200,1300',\n",
       "       '190,300', '202,400,500,600,800,2000,2100,2200,2201,2600,2900',\n",
       "       '1900,2100,2300,2700,2900,6200,6300,6400,6500',\n",
       "       '4200,4300,4400,4500,4600,4700', '300,400,1100,ROW,All part',\n",
       "       '1990', '100,500,600', '5600,10000', '503',\n",
       "       '1300,2800, ROW,WATER,All part',\n",
       "       '500,700,800,801,ROW,WATER,All part',\n",
       "       '300,400,500,600,700,ROW,All part', '1100,1301,1303,ROW,All part',\n",
       "       '500,1600,1700,1800,1900,2600,ROW,All part',\n",
       "       '4800,4801,4802,4803,ROW,All part',\n",
       "       '100,200,300,1900,2000,3400,3500,All part',\n",
       "       '900,1000,1200,1300,2300,2700', '600,700,800', '604', '1502',\n",
       "       '2100p', '1101', '601p', '3105', '3306,ROW', '300,400,501,ROW',\n",
       "       '1900p', '1502p', '604p,ROW', '1100,1500', '1900,1700p',\n",
       "       '100p,800p,801p', '1300p,1500p', '2001', '700p, 802p',\n",
       "       '500,600,800,ROW,All part', '2700,2800', '602', '1202p,1300',\n",
       "       '301p', '200,201', '4100p,4200p,ROW', '900p,1200p,ROW', '1700p',\n",
       "       '9800', '106', '2700p,ROW',\n",
       "       '1000,1100,1200,1400,1500,ROW,All part',\n",
       "       '1100,1101,800,ROW,All part', 'NE Chehalem ROW, Hwy 240 ROW',\n",
       "       'NE Chehalem ROW', '3900p', '1100,1000', '200p,400,500,600p',\n",
       "       '107', '301,700', '801p', '1300p,1400', '106p,108p', '901p,1000p',\n",
       "       '14700', '4800p,ROW', '700p,1000p,ROW',\n",
       "       '1400,1801,1802,ROW,All part', '1300p,ROW', '1900p,ROW',\n",
       "       '2100,2400', '601,603', '4200,4300,4400,4100p,4500p,ROW',\n",
       "       '300,500,600,ROW,All part', '11102,11103,11104,All part',\n",
       "       '3201p,3202', '700p,900p,ROW', '100,201,310,All part', '6803',\n",
       "       '2400p', '2100p,2400p', '900,1000', '5002',\n",
       "       '300,304,308,601,700,1400,ROW,All part',\n",
       "       '4500,4600,5390,ROW,All part',\n",
       "       '100,200,700,900,1200,1300,1400,All part',\n",
       "       '1500,1600,1700,1900,90000,91000,ROW,All part',\n",
       "       '102,104,2201,2200,2500,2600,ROW,All part',\n",
       "       '3700,4101,4200,4300,4400,All part', '803,804,901',\n",
       "       '300,304,308,ROW,All part', '1200,90600',\n",
       "       '90200,90300,90400,90500,ROW,All part',\n",
       "       '2300,2400,2600,2800,2900,3000',\n",
       "       '3701,3801,4000,4100,4200,6500,6501,ROW,All part',\n",
       "       '1000,1100,1200,1900,2200,2300,All part', '400p,502p,ROW',\n",
       "       '100,1000,90000,All part', '2400,2401,2402,2404,ROW,All part',\n",
       "       '1702,2101,2500,2700,3200,3400,3401,3500,All part',\n",
       "       '900p,1000p,ROW', '1000,1100,1101,1800,1801,All part',\n",
       "       '301,390,400,500,600,700,900,ROW,All part',\n",
       "       '1902,1903,2014,6501,ROW,All part', '200,300,400,500,600',\n",
       "       '2900,ROW', '2800,3300,3400,3500,3600,ROWs', '5200', '600,700'],\n",
       "      dtype=object)"
      ]
     },
     "execution_count": 10,
     "metadata": {},
     "output_type": "execute_result"
    }
   ],
   "source": [
    "wd.parcel_id.unique()"
   ]
  },
  {
   "cell_type": "code",
   "execution_count": 100,
   "id": "c3050a92",
   "metadata": {},
   "outputs": [],
   "source": [
    "ndf.loc[:, 'ORTaxlot'] = ndf[['cnt_code', 'trsqq', 'lot']].apply(lambda row: create_ORTaxlot(cnt_code=row.cnt_code, trsqq=row.trsqq, lot=row.lot), axis = 1)"
   ]
  },
  {
   "cell_type": "code",
   "execution_count": 102,
   "id": "55f9a51d",
   "metadata": {},
   "outputs": [
    {
     "data": {
      "text/plain": [
       "1050    3603.00S04.00W2500--000000700\n",
       "1051    3603.00S03.00W3600--000000100\n",
       "1051    3603.00S03.00W3600--0000ROADS\n",
       "1052    3603.00S05.00W2300--000000900\n",
       "1053    3603.00S04.00W22CC--000001200\n",
       "Name: ORTaxlot, dtype: object"
      ]
     },
     "execution_count": 102,
     "metadata": {},
     "output_type": "execute_result"
    }
   ],
   "source": [
    "ndf.ORTaxlot.tail()"
   ]
  },
  {
   "cell_type": "code",
   "execution_count": 113,
   "id": "27c29cec",
   "metadata": {
    "scrolled": true
   },
   "outputs": [],
   "source": [
    "setdf = combined_reindexed_data(setID=setID, nm_to_add=nm_to_add) "
   ]
  },
  {
   "cell_type": "code",
   "execution_count": 60,
   "id": "a7975788",
   "metadata": {},
   "outputs": [
    {
     "data": {
      "text/plain": [
       "Index(['wetdet_delin_number', 'trsqq', 'parcel_id', 'address_location_desc',\n",
       "       'city', 'county', 'site_name', 'site_desc', 'latitude', 'longitude',\n",
       "       'DocumentName', 'DecisionLink', 'is_batch_file', 'status_name',\n",
       "       'received_date', 'Coord-Source', 'response_date',\n",
       "       'reissuance_response_date', 'project_id', 'site_id', 'recordID',\n",
       "       'notes', 'lots', 'lot', 'cnt_code', 'ORTaxlot', 'recyear', 'IDyear',\n",
       "       'missinglot', 'record_ID'],\n",
       "      dtype='object')"
      ]
     },
     "execution_count": 60,
     "metadata": {},
     "output_type": "execute_result"
    }
   ],
   "source": [
    "setdf.columns"
   ]
  },
  {
   "cell_type": "code",
   "execution_count": 38,
   "id": "a2d13691",
   "metadata": {},
   "outputs": [
    {
     "data": {
      "text/plain": [
       "array(['Crook', 'Curry', 'Hood River', 'Jefferson', 'Linn', 'Multnomah',\n",
       "       'Wasco', 'Yamhill'], dtype=object)"
      ]
     },
     "execution_count": 38,
     "metadata": {},
     "output_type": "execute_result"
    }
   ],
   "source": [
    "setdf.county.unique()"
   ]
  },
  {
   "cell_type": "code",
   "execution_count": 33,
   "id": "6789a80e",
   "metadata": {},
   "outputs": [
    {
     "data": {
      "text/html": [
       "<div>\n",
       "<style scoped>\n",
       "    .dataframe tbody tr th:only-of-type {\n",
       "        vertical-align: middle;\n",
       "    }\n",
       "\n",
       "    .dataframe tbody tr th {\n",
       "        vertical-align: top;\n",
       "    }\n",
       "\n",
       "    .dataframe thead th {\n",
       "        text-align: right;\n",
       "    }\n",
       "</style>\n",
       "<table border=\"1\" class=\"dataframe\">\n",
       "  <thead>\n",
       "    <tr style=\"text-align: right;\">\n",
       "      <th></th>\n",
       "      <th>wetdet_delin_number</th>\n",
       "      <th>trsqq</th>\n",
       "      <th>parcel_id</th>\n",
       "      <th>address_location_desc</th>\n",
       "      <th>city</th>\n",
       "      <th>county</th>\n",
       "      <th>site_name</th>\n",
       "      <th>site_desc</th>\n",
       "      <th>latitude</th>\n",
       "      <th>longitude</th>\n",
       "      <th>...</th>\n",
       "      <th>recordID</th>\n",
       "      <th>notes</th>\n",
       "      <th>lots</th>\n",
       "      <th>lot</th>\n",
       "      <th>cnt_code</th>\n",
       "      <th>ORTaxlot</th>\n",
       "      <th>recyear</th>\n",
       "      <th>IDyear</th>\n",
       "      <th>missinglot</th>\n",
       "      <th>record_ID</th>\n",
       "    </tr>\n",
       "  </thead>\n",
       "  <tbody>\n",
       "    <tr>\n",
       "      <th>1999</th>\n",
       "      <td>WD2022-0221</td>\n",
       "      <td>03S04W25</td>\n",
       "      <td>600,700</td>\n",
       "      <td>8670 NE Mineral Springs Rd</td>\n",
       "      <td>Carlton</td>\n",
       "      <td>Yamhill</td>\n",
       "      <td>Flying Feather Orchards Inc</td>\n",
       "      <td>WD2022-0221 Offsite WetDet</td>\n",
       "      <td>45.282096</td>\n",
       "      <td>-123.132765</td>\n",
       "      <td>...</td>\n",
       "      <td>177</td>\n",
       "      <td></td>\n",
       "      <td>600, 700</td>\n",
       "      <td>700</td>\n",
       "      <td>36.0</td>\n",
       "      <td>36.003.00S04.00W2500--000000700</td>\n",
       "      <td>2022</td>\n",
       "      <td>2022</td>\n",
       "      <td>N</td>\n",
       "      <td>3929</td>\n",
       "    </tr>\n",
       "    <tr>\n",
       "      <th>2000</th>\n",
       "      <td>WD2022-0262</td>\n",
       "      <td>03S03W36</td>\n",
       "      <td>100,ROW</td>\n",
       "      <td>SE Edwards Dr and SE 8th St</td>\n",
       "      <td>Dundee</td>\n",
       "      <td>Yamhill</td>\n",
       "      <td>Dundee School Site</td>\n",
       "      <td>WD2022-0262 New school</td>\n",
       "      <td>45.273976</td>\n",
       "      <td>-123.003608</td>\n",
       "      <td>...</td>\n",
       "      <td>178</td>\n",
       "      <td>ROW</td>\n",
       "      <td>100, ROADS</td>\n",
       "      <td>100</td>\n",
       "      <td>36.0</td>\n",
       "      <td>36.003.00S03.00W3600--000000100</td>\n",
       "      <td>2022</td>\n",
       "      <td>2022</td>\n",
       "      <td>N</td>\n",
       "      <td>3930</td>\n",
       "    </tr>\n",
       "    <tr>\n",
       "      <th>2001</th>\n",
       "      <td>WD2022-0262</td>\n",
       "      <td>03S03W36</td>\n",
       "      <td>100,ROW</td>\n",
       "      <td>SE Edwards Dr and SE 8th St</td>\n",
       "      <td>Dundee</td>\n",
       "      <td>Yamhill</td>\n",
       "      <td>Dundee School Site</td>\n",
       "      <td>WD2022-0262 New school</td>\n",
       "      <td>45.273976</td>\n",
       "      <td>-123.003608</td>\n",
       "      <td>...</td>\n",
       "      <td>178</td>\n",
       "      <td>ROW</td>\n",
       "      <td>100, ROADS</td>\n",
       "      <td>ROADS</td>\n",
       "      <td>36.0</td>\n",
       "      <td>36.003.00S03.00W3600--0000ROADS</td>\n",
       "      <td>2022</td>\n",
       "      <td>2022</td>\n",
       "      <td>N</td>\n",
       "      <td>3930</td>\n",
       "    </tr>\n",
       "    <tr>\n",
       "      <th>2002</th>\n",
       "      <td>WD2022-0284</td>\n",
       "      <td>03S05W23</td>\n",
       "      <td>900</td>\n",
       "      <td>14900 NW Meadowlake Rd</td>\n",
       "      <td>Carlton</td>\n",
       "      <td>Yamhill</td>\n",
       "      <td>Brenda Smola-Foti ENF Site</td>\n",
       "      <td>WD2022-0284 ENF Site</td>\n",
       "      <td>45.300294</td>\n",
       "      <td>-123.264603</td>\n",
       "      <td>...</td>\n",
       "      <td>179</td>\n",
       "      <td></td>\n",
       "      <td>900</td>\n",
       "      <td>900</td>\n",
       "      <td>36.0</td>\n",
       "      <td>36.003.00S05.00W2300--000000900</td>\n",
       "      <td>2022</td>\n",
       "      <td>2022</td>\n",
       "      <td>N</td>\n",
       "      <td>3931</td>\n",
       "    </tr>\n",
       "    <tr>\n",
       "      <th>2003</th>\n",
       "      <td>WD2022-0303</td>\n",
       "      <td>03S04W22CC</td>\n",
       "      <td>1200</td>\n",
       "      <td>S 3rd St</td>\n",
       "      <td>Carlton</td>\n",
       "      <td>Yamhill</td>\n",
       "      <td>JR Meadows 3</td>\n",
       "      <td>WD2022-0303 Residential subdivision</td>\n",
       "      <td>45.289073</td>\n",
       "      <td>-123.172854</td>\n",
       "      <td>...</td>\n",
       "      <td>180</td>\n",
       "      <td></td>\n",
       "      <td>1200</td>\n",
       "      <td>1200</td>\n",
       "      <td>36.0</td>\n",
       "      <td>36.003.00S04.00W22CC--000001200</td>\n",
       "      <td>2022</td>\n",
       "      <td>2022</td>\n",
       "      <td>N</td>\n",
       "      <td>3932</td>\n",
       "    </tr>\n",
       "  </tbody>\n",
       "</table>\n",
       "<p>5 rows × 30 columns</p>\n",
       "</div>"
      ],
      "text/plain": [
       "     wetdet_delin_number       trsqq parcel_id        address_location_desc  \\\n",
       "1999         WD2022-0221    03S04W25   600,700   8670 NE Mineral Springs Rd   \n",
       "2000         WD2022-0262    03S03W36   100,ROW  SE Edwards Dr and SE 8th St   \n",
       "2001         WD2022-0262    03S03W36   100,ROW  SE Edwards Dr and SE 8th St   \n",
       "2002         WD2022-0284    03S05W23       900       14900 NW Meadowlake Rd   \n",
       "2003         WD2022-0303  03S04W22CC      1200                     S 3rd St   \n",
       "\n",
       "         city   county                    site_name  \\\n",
       "1999  Carlton  Yamhill  Flying Feather Orchards Inc   \n",
       "2000   Dundee  Yamhill           Dundee School Site   \n",
       "2001   Dundee  Yamhill           Dundee School Site   \n",
       "2002  Carlton  Yamhill   Brenda Smola-Foti ENF Site   \n",
       "2003  Carlton  Yamhill                 JR Meadows 3   \n",
       "\n",
       "                                site_desc   latitude   longitude  ...  \\\n",
       "1999           WD2022-0221 Offsite WetDet  45.282096 -123.132765  ...   \n",
       "2000               WD2022-0262 New school  45.273976 -123.003608  ...   \n",
       "2001               WD2022-0262 New school  45.273976 -123.003608  ...   \n",
       "2002                 WD2022-0284 ENF Site  45.300294 -123.264603  ...   \n",
       "2003  WD2022-0303 Residential subdivision  45.289073 -123.172854  ...   \n",
       "\n",
       "     recordID notes        lots    lot cnt_code  \\\n",
       "1999      177          600, 700    700     36.0   \n",
       "2000      178   ROW  100, ROADS    100     36.0   \n",
       "2001      178   ROW  100, ROADS  ROADS     36.0   \n",
       "2002      179               900    900     36.0   \n",
       "2003      180              1200   1200     36.0   \n",
       "\n",
       "                             ORTaxlot recyear  IDyear  missinglot  record_ID  \n",
       "1999  36.003.00S04.00W2500--000000700    2022    2022           N       3929  \n",
       "2000  36.003.00S03.00W3600--000000100    2022    2022           N       3930  \n",
       "2001  36.003.00S03.00W3600--0000ROADS    2022    2022           N       3930  \n",
       "2002  36.003.00S05.00W2300--000000900    2022    2022           N       3931  \n",
       "2003  36.003.00S04.00W22CC--000001200    2022    2022           N       3932  \n",
       "\n",
       "[5 rows x 30 columns]"
      ]
     },
     "execution_count": 33,
     "metadata": {},
     "output_type": "execute_result"
    }
   ],
   "source": [
    "setdf.tail(5)"
   ]
  },
  {
   "cell_type": "code",
   "execution_count": 9,
   "id": "b94f41ba",
   "metadata": {},
   "outputs": [
    {
     "name": "stdout",
     "output_type": "stream",
     "text": [
      "it took 0.0 minutes to complete\n"
     ]
    }
   ],
   "source": [
    "# this might take a while (2 minutes)\n",
    "start = time.time()\n",
    "# export = False\n",
    "setgdf = match_wd_data_with_taxlot(df=setdf, setID=setID, all_taxlot=all_taxlot, export=True)\n",
    "end = time.time()\n",
    "print(f'it took {round((end - start)/60, 0)} minutes to complete')"
   ]
  },
  {
   "cell_type": "code",
   "execution_count": 61,
   "id": "b2cd856b",
   "metadata": {},
   "outputs": [
    {
     "data": {
      "text/plain": [
       "(1498, 31)"
      ]
     },
     "execution_count": 61,
     "metadata": {},
     "output_type": "execute_result"
    }
   ],
   "source": [
    "setgdf.shape"
   ]
  },
  {
   "cell_type": "code",
   "execution_count": 10,
   "id": "9fdc793a",
   "metadata": {},
   "outputs": [
    {
     "data": {
      "text/html": [
       "<div>\n",
       "<style scoped>\n",
       "    .dataframe tbody tr th:only-of-type {\n",
       "        vertical-align: middle;\n",
       "    }\n",
       "\n",
       "    .dataframe tbody tr th {\n",
       "        vertical-align: top;\n",
       "    }\n",
       "\n",
       "    .dataframe thead th {\n",
       "        text-align: right;\n",
       "    }\n",
       "</style>\n",
       "<table border=\"1\" class=\"dataframe\">\n",
       "  <thead>\n",
       "    <tr style=\"text-align: right;\">\n",
       "      <th></th>\n",
       "      <th>wdID</th>\n",
       "      <th>trsqq</th>\n",
       "      <th>parcel_id</th>\n",
       "      <th>loc_desc</th>\n",
       "      <th>city</th>\n",
       "      <th>county</th>\n",
       "      <th>site_name</th>\n",
       "      <th>site_desc</th>\n",
       "      <th>latitude</th>\n",
       "      <th>longitude</th>\n",
       "      <th>...</th>\n",
       "      <th>notes</th>\n",
       "      <th>lots</th>\n",
       "      <th>lot</th>\n",
       "      <th>cnt_code</th>\n",
       "      <th>ORTaxlot</th>\n",
       "      <th>recyear</th>\n",
       "      <th>IDyear</th>\n",
       "      <th>missinglot</th>\n",
       "      <th>record_ID</th>\n",
       "      <th>geometry</th>\n",
       "    </tr>\n",
       "  </thead>\n",
       "  <tbody>\n",
       "    <tr>\n",
       "      <th>1495</th>\n",
       "      <td>WD2022-0054</td>\n",
       "      <td>02N13E32AD</td>\n",
       "      <td>1200,1300</td>\n",
       "      <td>2505 W 7th St</td>\n",
       "      <td>The Dalles</td>\n",
       "      <td>Wasco</td>\n",
       "      <td>Mid Columbia Community Action Coalition</td>\n",
       "      <td>WD2022-0054 Offsite</td>\n",
       "      <td>45.614359</td>\n",
       "      <td>-121.212464</td>\n",
       "      <td>...</td>\n",
       "      <td></td>\n",
       "      <td>1200, 1300</td>\n",
       "      <td>1200</td>\n",
       "      <td>33.0</td>\n",
       "      <td>3302.00N13.00E32AD--000001200</td>\n",
       "      <td>2022</td>\n",
       "      <td>2022</td>\n",
       "      <td>N</td>\n",
       "      <td>3750</td>\n",
       "      <td>MULTIPOLYGON (((1130209.661 1409792.398, 11303...</td>\n",
       "    </tr>\n",
       "    <tr>\n",
       "      <th>1496</th>\n",
       "      <td>WD2022-0054</td>\n",
       "      <td>02N13E32AD</td>\n",
       "      <td>1200,1300</td>\n",
       "      <td>2505 W 7th St</td>\n",
       "      <td>The Dalles</td>\n",
       "      <td>Wasco</td>\n",
       "      <td>Mid Columbia Community Action Coalition</td>\n",
       "      <td>WD2022-0054 Offsite</td>\n",
       "      <td>45.614359</td>\n",
       "      <td>-121.212464</td>\n",
       "      <td>...</td>\n",
       "      <td></td>\n",
       "      <td>1200, 1300</td>\n",
       "      <td>1300</td>\n",
       "      <td>33.0</td>\n",
       "      <td>3302.00N13.00E32AD--000001300</td>\n",
       "      <td>2022</td>\n",
       "      <td>2022</td>\n",
       "      <td>N</td>\n",
       "      <td>3750</td>\n",
       "      <td>MULTIPOLYGON (((1130114.371 1409554.741, 11301...</td>\n",
       "    </tr>\n",
       "    <tr>\n",
       "      <th>1497</th>\n",
       "      <td>WD2022-0217</td>\n",
       "      <td>02N13E33A</td>\n",
       "      <td>100</td>\n",
       "      <td>between 2649 and 2925 River Rd</td>\n",
       "      <td>The Dalles</td>\n",
       "      <td>Wasco</td>\n",
       "      <td>Jeannette Kreft potential purchase</td>\n",
       "      <td>WD2022-0217 offsite wetdet</td>\n",
       "      <td>45.619238</td>\n",
       "      <td>-121.198721</td>\n",
       "      <td>...</td>\n",
       "      <td></td>\n",
       "      <td>100</td>\n",
       "      <td>100</td>\n",
       "      <td>33.0</td>\n",
       "      <td>3302.00N13.00E33A0--000000100</td>\n",
       "      <td>2022</td>\n",
       "      <td>2022</td>\n",
       "      <td>N</td>\n",
       "      <td>3752</td>\n",
       "      <td>MULTIPOLYGON (((1133709.217 1411667.613, 11337...</td>\n",
       "    </tr>\n",
       "  </tbody>\n",
       "</table>\n",
       "<p>3 rows × 31 columns</p>\n",
       "</div>"
      ],
      "text/plain": [
       "             wdID       trsqq  parcel_id                        loc_desc  \\\n",
       "1495  WD2022-0054  02N13E32AD  1200,1300                   2505 W 7th St   \n",
       "1496  WD2022-0054  02N13E32AD  1200,1300                   2505 W 7th St   \n",
       "1497  WD2022-0217   02N13E33A        100  between 2649 and 2925 River Rd   \n",
       "\n",
       "            city county                                site_name  \\\n",
       "1495  The Dalles  Wasco  Mid Columbia Community Action Coalition   \n",
       "1496  The Dalles  Wasco  Mid Columbia Community Action Coalition   \n",
       "1497  The Dalles  Wasco       Jeannette Kreft potential purchase   \n",
       "\n",
       "                       site_desc   latitude   longitude  ... notes  \\\n",
       "1495         WD2022-0054 Offsite  45.614359 -121.212464  ...         \n",
       "1496         WD2022-0054 Offsite  45.614359 -121.212464  ...         \n",
       "1497  WD2022-0217 offsite wetdet  45.619238 -121.198721  ...         \n",
       "\n",
       "            lots   lot cnt_code                       ORTaxlot recyear IDyear  \\\n",
       "1495  1200, 1300  1200     33.0  3302.00N13.00E32AD--000001200    2022   2022   \n",
       "1496  1200, 1300  1300     33.0  3302.00N13.00E32AD--000001300    2022   2022   \n",
       "1497         100   100     33.0  3302.00N13.00E33A0--000000100    2022   2022   \n",
       "\n",
       "      missinglot  record_ID                                           geometry  \n",
       "1495           N       3750  MULTIPOLYGON (((1130209.661 1409792.398, 11303...  \n",
       "1496           N       3750  MULTIPOLYGON (((1130114.371 1409554.741, 11301...  \n",
       "1497           N       3752  MULTIPOLYGON (((1133709.217 1411667.613, 11337...  \n",
       "\n",
       "[3 rows x 31 columns]"
      ]
     },
     "execution_count": 10,
     "metadata": {},
     "output_type": "execute_result"
    }
   ],
   "source": [
    "setgdf.tail(3)"
   ]
  },
  {
   "cell_type": "code",
   "execution_count": 11,
   "id": "3b680a06",
   "metadata": {},
   "outputs": [
    {
     "name": "stdout",
     "output_type": "stream",
     "text": [
      "it is about 29.98% of data in the original 1054 records unmatched\n",
      "there are 2 records (0.19% of the original records) without parcel id\n"
     ]
    }
   ],
   "source": [
    "unmatched_df = report_unmatched(gdf=setgdf, setID=setID, nm_to_add=nm_to_add, mute = False, export=True)"
   ]
  },
  {
   "cell_type": "code",
   "execution_count": 62,
   "id": "566ec01b",
   "metadata": {},
   "outputs": [
    {
     "data": {
      "text/plain": [
       "array(['Yamhill and Washington', 'Yamhill', 'Multnomah', 'Jefferson',\n",
       "       'Hood River', 'Linn', 'Crook'], dtype=object)"
      ]
     },
     "execution_count": 62,
     "metadata": {},
     "output_type": "execute_result"
    }
   ],
   "source": [
    "unmatched_df.county.unique()"
   ]
  },
  {
   "cell_type": "code",
   "execution_count": 82,
   "id": "368ef740",
   "metadata": {},
   "outputs": [
    {
     "data": {
      "text/plain": [
       "False"
      ]
     },
     "execution_count": 82,
     "metadata": {},
     "output_type": "execute_result"
    }
   ],
   "source": [
    "'WD2022-0262' in setgdf.wdID.values"
   ]
  },
  {
   "cell_type": "code",
   "execution_count": 103,
   "id": "bd279629",
   "metadata": {},
   "outputs": [
    {
     "data": {
      "text/plain": [
       "Index(['wetdet_delin_number', 'trsqq', 'parcel_id', 'address_location_desc',\n",
       "       'city', 'county', 'site_name', 'site_desc', 'latitude', 'longitude',\n",
       "       'DocumentName', 'DecisionLink', 'is_batch_file', 'status_name',\n",
       "       'received_date', 'Coord-Source', 'response_date',\n",
       "       'reissuance_response_date', 'project_id', 'site_id', 'recordID',\n",
       "       'notes', 'lots', 'lot', 'cnt_code', 'ORTaxlot', 'recyear', 'IDyear',\n",
       "       'missinglot', 'record_ID'],\n",
       "      dtype='object')"
      ]
     },
     "execution_count": 103,
     "metadata": {},
     "output_type": "execute_result"
    }
   ],
   "source": [
    "setdf.columns"
   ]
  },
  {
   "cell_type": "code",
   "execution_count": 84,
   "id": "2411f0c3",
   "metadata": {},
   "outputs": [
    {
     "data": {
      "text/plain": [
       "0     0716.00S21.00E0000--000000700\n",
       "1     0716.00S20.00E0000--000001601\n",
       "2     0716.00S20.00E0000--000001700\n",
       "3     0716.00S20.00E0000--000001800\n",
       "4     0715.00S15.00E0000--000001210\n",
       "5     0715.00S15.00E0000--000004000\n",
       "6     0714.00S15.00E2000--000000600\n",
       "7     0714.00S16.00E0000--000001600\n",
       "8     0715.00S15.00E0000--000001223\n",
       "9     0715.00S15.00E0000--000001224\n",
       "10    0715.00S15.00E0000--000002000\n",
       "11    0715.00S15.00E0000--000000300\n",
       "12    0715.00S15.00E0000--000001223\n",
       "13    0715.00S15.00E0000--000001224\n",
       "14    0715.00S15.00E0000--000002000\n",
       "15    0715.00S15.00E0000--000000300\n",
       "16    0714.00S16.00E32CB--000001400\n",
       "17    0716.00S23.00E0000--000000100\n",
       "18    0716.00S23.00E0000--000000601\n",
       "19    0715.00S16.00E05BB--000000100\n",
       "Name: ORTaxlot, dtype: object"
      ]
     },
     "execution_count": 84,
     "metadata": {},
     "output_type": "execute_result"
    }
   ],
   "source": [
    "setdf.ORTaxlot.head(20)"
   ]
  },
  {
   "cell_type": "code",
   "execution_count": 86,
   "id": "785cec20",
   "metadata": {
    "scrolled": true
   },
   "outputs": [
    {
     "data": {
      "text/plain": [
       "36"
      ]
     },
     "execution_count": 86,
     "metadata": {},
     "output_type": "execute_result"
    }
   ],
   "source": [
    "int(setdf.loc[setdf.wetdet_delin_number == 'WD2022-0262', 'cnt_code'].values[0])"
   ]
  },
  {
   "cell_type": "code",
   "execution_count": 13,
   "id": "212a184d",
   "metadata": {},
   "outputs": [],
   "source": [
    "r1_df, r2_df = split_unmatched_df(unmatched_df, ml='N', setID=setID)"
   ]
  },
  {
   "cell_type": "code",
   "execution_count": 63,
   "id": "1b24cb7a",
   "metadata": {
    "scrolled": true
   },
   "outputs": [
    {
     "data": {
      "text/plain": [
       "Index(['wetdet_delin_number', 'trsqq', 'parcel_id', 'address_location_desc',\n",
       "       'city', 'county', 'site_name', 'site_desc', 'latitude', 'longitude',\n",
       "       'DocumentName', 'DecisionLink', 'is_batch_file', 'status_name',\n",
       "       'received_date', 'Coord-Source', 'response_date',\n",
       "       'reissuance_response_date', 'project_id', 'site_id', 'record_ID',\n",
       "       'notes', 'recyear', 'IDyear', 'missinglot'],\n",
       "      dtype='object')"
      ]
     },
     "execution_count": 63,
     "metadata": {},
     "output_type": "execute_result"
    }
   ],
   "source": [
    "r2_df.columns"
   ]
  },
  {
   "cell_type": "code",
   "execution_count": 32,
   "id": "b5769830",
   "metadata": {},
   "outputs": [
    {
     "data": {
      "text/html": [
       "<div>\n",
       "<style scoped>\n",
       "    .dataframe tbody tr th:only-of-type {\n",
       "        vertical-align: middle;\n",
       "    }\n",
       "\n",
       "    .dataframe tbody tr th {\n",
       "        vertical-align: top;\n",
       "    }\n",
       "\n",
       "    .dataframe thead th {\n",
       "        text-align: right;\n",
       "    }\n",
       "</style>\n",
       "<table border=\"1\" class=\"dataframe\">\n",
       "  <thead>\n",
       "    <tr style=\"text-align: right;\">\n",
       "      <th></th>\n",
       "      <th>wetdet_delin_number</th>\n",
       "      <th>trsqq</th>\n",
       "      <th>parcel_id</th>\n",
       "      <th>address_location_desc</th>\n",
       "      <th>city</th>\n",
       "      <th>county</th>\n",
       "      <th>site_name</th>\n",
       "      <th>site_desc</th>\n",
       "      <th>latitude</th>\n",
       "      <th>longitude</th>\n",
       "      <th>...</th>\n",
       "      <th>Coord-Source</th>\n",
       "      <th>response_date</th>\n",
       "      <th>reissuance_response_date</th>\n",
       "      <th>project_id</th>\n",
       "      <th>site_id</th>\n",
       "      <th>record_ID</th>\n",
       "      <th>notes</th>\n",
       "      <th>recyear</th>\n",
       "      <th>IDyear</th>\n",
       "      <th>missinglot</th>\n",
       "    </tr>\n",
       "  </thead>\n",
       "  <tbody>\n",
       "    <tr>\n",
       "      <th>1051</th>\n",
       "      <td>WD2022-0262</td>\n",
       "      <td>03S03W36</td>\n",
       "      <td>100,ROW</td>\n",
       "      <td>SE Edwards Dr and SE 8th St</td>\n",
       "      <td>Dundee</td>\n",
       "      <td>Yamhill</td>\n",
       "      <td>Dundee School Site</td>\n",
       "      <td>WD2022-0262 New school</td>\n",
       "      <td>45.273976</td>\n",
       "      <td>-123.003608</td>\n",
       "      <td>...</td>\n",
       "      <td>DSL Verified</td>\n",
       "      <td>2022-09-28</td>\n",
       "      <td>NaN</td>\n",
       "      <td>84180.0</td>\n",
       "      <td>139309</td>\n",
       "      <td>3930</td>\n",
       "      <td>ROW</td>\n",
       "      <td>2022</td>\n",
       "      <td>2022</td>\n",
       "      <td>N</td>\n",
       "    </tr>\n",
       "    <tr>\n",
       "      <th>1049</th>\n",
       "      <td>WD2022-0188</td>\n",
       "      <td>03S03W26DA</td>\n",
       "      <td>100</td>\n",
       "      <td>359 SW 5th St</td>\n",
       "      <td>Dundee</td>\n",
       "      <td>Yamhill</td>\n",
       "      <td>Sander Estate Park</td>\n",
       "      <td>WD2022-0188 Offsite (grant)</td>\n",
       "      <td>45.280627</td>\n",
       "      <td>-123.013218</td>\n",
       "      <td>...</td>\n",
       "      <td>DSL Verified</td>\n",
       "      <td>2022-04-14</td>\n",
       "      <td>NaN</td>\n",
       "      <td>83915.0</td>\n",
       "      <td>138957</td>\n",
       "      <td>3928</td>\n",
       "      <td></td>\n",
       "      <td>2022</td>\n",
       "      <td>2022</td>\n",
       "      <td>N</td>\n",
       "    </tr>\n",
       "    <tr>\n",
       "      <th>1004</th>\n",
       "      <td>WD2021-0520</td>\n",
       "      <td>03S05W20</td>\n",
       "      <td>800</td>\n",
       "      <td>Panther Creek Rd</td>\n",
       "      <td>Carlton</td>\n",
       "      <td>Yamhill</td>\n",
       "      <td>Marshall Potential Purchase</td>\n",
       "      <td>WD2021-0520 wetdet</td>\n",
       "      <td>45.299907</td>\n",
       "      <td>-123.330246</td>\n",
       "      <td>...</td>\n",
       "      <td>DSL Verified</td>\n",
       "      <td>2021-10-11</td>\n",
       "      <td>NaN</td>\n",
       "      <td>82827.0</td>\n",
       "      <td>137264</td>\n",
       "      <td>3883</td>\n",
       "      <td></td>\n",
       "      <td>2021</td>\n",
       "      <td>2021</td>\n",
       "      <td>N</td>\n",
       "    </tr>\n",
       "  </tbody>\n",
       "</table>\n",
       "<p>3 rows × 25 columns</p>\n",
       "</div>"
      ],
      "text/plain": [
       "     wetdet_delin_number       trsqq parcel_id        address_location_desc  \\\n",
       "1051         WD2022-0262    03S03W36   100,ROW  SE Edwards Dr and SE 8th St   \n",
       "1049         WD2022-0188  03S03W26DA       100                359 SW 5th St   \n",
       "1004         WD2021-0520    03S05W20       800             Panther Creek Rd   \n",
       "\n",
       "         city   county                    site_name  \\\n",
       "1051   Dundee  Yamhill           Dundee School Site   \n",
       "1049   Dundee  Yamhill           Sander Estate Park   \n",
       "1004  Carlton  Yamhill  Marshall Potential Purchase   \n",
       "\n",
       "                        site_desc   latitude   longitude  ...  Coord-Source  \\\n",
       "1051       WD2022-0262 New school  45.273976 -123.003608  ...  DSL Verified   \n",
       "1049  WD2022-0188 Offsite (grant)  45.280627 -123.013218  ...  DSL Verified   \n",
       "1004           WD2021-0520 wetdet  45.299907 -123.330246  ...  DSL Verified   \n",
       "\n",
       "     response_date reissuance_response_date project_id site_id record_ID  \\\n",
       "1051    2022-09-28                      NaN    84180.0  139309      3930   \n",
       "1049    2022-04-14                      NaN    83915.0  138957      3928   \n",
       "1004    2021-10-11                      NaN    82827.0  137264      3883   \n",
       "\n",
       "     notes  recyear  IDyear  missinglot  \n",
       "1051   ROW     2022    2022           N  \n",
       "1049           2022    2022           N  \n",
       "1004           2021    2021           N  \n",
       "\n",
       "[3 rows x 25 columns]"
      ]
     },
     "execution_count": 32,
     "metadata": {},
     "output_type": "execute_result"
    }
   ],
   "source": [
    "r2_df.head(3)"
   ]
  },
  {
   "cell_type": "code",
   "execution_count": 52,
   "id": "2f0e3967",
   "metadata": {},
   "outputs": [
    {
     "data": {
      "text/html": [
       "<div>\n",
       "<style scoped>\n",
       "    .dataframe tbody tr th:only-of-type {\n",
       "        vertical-align: middle;\n",
       "    }\n",
       "\n",
       "    .dataframe tbody tr th {\n",
       "        vertical-align: top;\n",
       "    }\n",
       "\n",
       "    .dataframe thead th {\n",
       "        text-align: right;\n",
       "    }\n",
       "</style>\n",
       "<table border=\"1\" class=\"dataframe\">\n",
       "  <thead>\n",
       "    <tr style=\"text-align: right;\">\n",
       "      <th></th>\n",
       "      <th>wetdet_delin_number</th>\n",
       "      <th>trsqq</th>\n",
       "      <th>parcel_id</th>\n",
       "      <th>address_location_desc</th>\n",
       "      <th>city</th>\n",
       "      <th>county</th>\n",
       "      <th>site_name</th>\n",
       "      <th>site_desc</th>\n",
       "      <th>latitude</th>\n",
       "      <th>longitude</th>\n",
       "      <th>...</th>\n",
       "      <th>Coord-Source</th>\n",
       "      <th>response_date</th>\n",
       "      <th>reissuance_response_date</th>\n",
       "      <th>project_id</th>\n",
       "      <th>site_id</th>\n",
       "      <th>record_ID</th>\n",
       "      <th>notes</th>\n",
       "      <th>recyear</th>\n",
       "      <th>IDyear</th>\n",
       "      <th>missinglot</th>\n",
       "    </tr>\n",
       "  </thead>\n",
       "  <tbody>\n",
       "    <tr>\n",
       "      <th>975</th>\n",
       "      <td>WD2020-0348</td>\n",
       "      <td>03S05W18</td>\n",
       "      <td>300,400,500,All part</td>\n",
       "      <td>Accessible via gravel drive from the City of C...</td>\n",
       "      <td>Carlton</td>\n",
       "      <td>Yamhill</td>\n",
       "      <td>Carlton Reservoir Dredging Plan</td>\n",
       "      <td>WD2020-0348 Public water supply (PWS) reservoir</td>\n",
       "      <td>45.304685</td>\n",
       "      <td>-123.351673</td>\n",
       "      <td>...</td>\n",
       "      <td>DSL Verified</td>\n",
       "      <td>2020-10-12</td>\n",
       "      <td>NaN</td>\n",
       "      <td>80137.0</td>\n",
       "      <td>133195</td>\n",
       "      <td>3854</td>\n",
       "      <td>Partial</td>\n",
       "      <td>2020</td>\n",
       "      <td>2020</td>\n",
       "      <td>N</td>\n",
       "    </tr>\n",
       "  </tbody>\n",
       "</table>\n",
       "<p>1 rows × 25 columns</p>\n",
       "</div>"
      ],
      "text/plain": [
       "    wetdet_delin_number     trsqq             parcel_id  \\\n",
       "975         WD2020-0348  03S05W18  300,400,500,All part   \n",
       "\n",
       "                                 address_location_desc     city   county  \\\n",
       "975  Accessible via gravel drive from the City of C...  Carlton  Yamhill   \n",
       "\n",
       "                           site_name  \\\n",
       "975  Carlton Reservoir Dredging Plan   \n",
       "\n",
       "                                           site_desc   latitude   longitude  \\\n",
       "975  WD2020-0348 Public water supply (PWS) reservoir  45.304685 -123.351673   \n",
       "\n",
       "     ...  Coord-Source response_date reissuance_response_date project_id  \\\n",
       "975  ...  DSL Verified    2020-10-12                      NaN    80137.0   \n",
       "\n",
       "    site_id record_ID    notes  recyear  IDyear  missinglot  \n",
       "975  133195      3854  Partial     2020    2020           N  \n",
       "\n",
       "[1 rows x 25 columns]"
      ]
     },
     "execution_count": 52,
     "metadata": {},
     "output_type": "execute_result"
    }
   ],
   "source": [
    "r2_df[r2_df.wetdet_delin_number =='WD2020-0348']"
   ]
  },
  {
   "cell_type": "code",
   "execution_count": 71,
   "id": "8360eae8",
   "metadata": {
    "scrolled": true
   },
   "outputs": [
    {
     "name": "stdout",
     "output_type": "stream",
     "text": [
      "reviewing WD2022-0262\n",
      "trsqq matched, checking county code...\n",
      "county code is corrected, need to check lot numbers...\n",
      "lot numbers seem to be correct, need to review\n",
      "reviewing WD2022-0188\n",
      "trsqq matched, checking county code...\n",
      "county code is corrected, need to check lot numbers...\n",
      "lot numbers seem to be correct, need to review\n",
      "reviewing WD2021-0520\n",
      "trsqq matched, checking county code...\n",
      "county code is corrected, need to check lot numbers...\n",
      "lot numbers seem to be correct, need to review\n",
      "reviewing WD2017-0522\n",
      "trsqq matched, checking county code...\n",
      "county code is corrected, need to check lot numbers...\n",
      "lot numbers seem to be correct, need to review\n",
      "reviewing WD2020-0644\n",
      "trsqq matched, checking county code...\n",
      "county code is corrected, need to check lot numbers...\n",
      "lot numbers seem to be correct, need to review\n",
      "reviewing WD2019-0031\n",
      "trsqq matched, checking county code...\n",
      "county code is corrected, need to check lot numbers...\n",
      "lot numbers seem to be correct, need to review\n",
      "reviewing WD2022-0288\n",
      "trsqq matched, checking county code...\n",
      "county code is corrected, need to check lot numbers...\n",
      "lot numbers seem to be correct, need to review\n",
      "reviewing WD2019-0620\n",
      "trsqq matched, checking county code...\n",
      "county code is corrected, need to check lot numbers...\n",
      "lot numbers seem to be correct, need to review\n",
      "reviewing WD2020-0435\n",
      "trsqq matched, checking county code...\n",
      "county code is corrected, need to check lot numbers...\n",
      "lot numbers seem to be correct, need to review\n",
      "reviewing WD2019-0239\n",
      "trsqq matched, checking county code...\n",
      "corrected county...\n",
      "reviewing WD2021-0706\n",
      "trsqq matched, checking county code...\n",
      "county code is corrected, need to check lot numbers...\n",
      "lot numbers seem to be correct, need to review\n",
      "reviewing WD2017-0070\n",
      "trsqq matched, checking county code...\n",
      "county code is corrected, need to check lot numbers...\n",
      "lot numbers seem to be correct, need to review\n",
      "reviewing WD2017-0288\n",
      "trsqq matched, checking county code...\n",
      "county code is corrected, need to check lot numbers...\n",
      "lot numbers seem to be correct, need to review\n",
      "reviewing WD2019-0052\n",
      "trsqq matched, checking county code...\n",
      "county code is corrected, need to check lot numbers...\n",
      "lot numbers seem to be correct, need to review\n",
      "reviewing WD2017-0536\n",
      "trsqq matched, checking county code...\n",
      "county code is corrected, need to check lot numbers...\n",
      "lot numbers seem to be correct, need to review\n",
      "reviewing WD2018-0002\n",
      "trsqq matched, checking county code...\n",
      "county code is corrected, need to check lot numbers...\n",
      "lot numbers seem to be correct, need to review\n",
      "reviewing WD2019-0303\n",
      "trsqq matched, checking county code...\n",
      "county code is corrected, need to check lot numbers...\n",
      "lot numbers seem to be correct, need to review\n",
      "reviewing WD2017-0386\n",
      "trsqq matched, checking county code...\n",
      "county code is corrected, need to check lot numbers...\n",
      "lot numbers seem to be correct, need to review\n",
      "reviewing WD2021-0283\n",
      "trsqq matched, checking county code...\n",
      "county code is corrected, need to check lot numbers...\n",
      "lot numbers seem to be correct, need to review\n",
      "reviewing WD2022-0014\n",
      "trsqq matched, checking county code...\n",
      "county code is corrected, need to check lot numbers...\n",
      "lot numbers seem to be correct, need to review\n",
      "reviewing WD2022-0303\n",
      "trsqq matched, checking county code...\n",
      "county code is corrected, need to check lot numbers...\n",
      "lot numbers seem to be correct, need to review\n",
      "reviewing WD2018-0393\n",
      "trsqq matched, checking county code...\n",
      "county code is corrected, need to check lot numbers...\n",
      "lot numbers seem to be correct, need to review\n",
      "reviewing WD2022-0221\n",
      "trsqq matched, checking county code...\n",
      "county code is corrected, need to check lot numbers...\n",
      "lot numbers seem to be correct, need to review\n",
      "reviewing WD2018-0398\n",
      "trsqq matched, checking county code...\n",
      "county code is corrected, need to check lot numbers...\n",
      "lot numbers seem to be correct, need to review\n",
      "reviewing WD2021-0197\n",
      "trsqq matched, checking county code...\n",
      "county code is corrected, need to check lot numbers...\n",
      "lot numbers seem to be correct, need to review\n",
      "reviewing WD2019-0396\n",
      "trsqq matched, checking county code...\n",
      "county code is corrected, need to check lot numbers...\n",
      "lot numbers seem to be correct, need to review\n",
      "reviewing WD2019-0226\n",
      "trsqq matched, checking county code...\n",
      "county code is corrected, need to check lot numbers...\n",
      "lot numbers seem to be correct, need to review\n",
      "reviewing WD2018-0343\n",
      "trsqq matched, checking county code...\n",
      "corrected county...\n",
      "reviewing WD2020-0414\n",
      "trsqq matched, checking county code...\n",
      "county code is corrected, need to check lot numbers...\n",
      "lot numbers seem to be correct, need to review\n",
      "reviewing WD2018-0564\n",
      "trsqq matched, checking county code...\n",
      "county code is corrected, need to check lot numbers...\n",
      "lot numbers seem to be correct, need to review\n",
      "reviewing WD2019-0156\n",
      "all lots are matched...\n",
      "corrected trsqq...\n",
      "reviewing WD2020-0246\n",
      "trsqq matched, checking county code...\n",
      "county code is corrected, need to check lot numbers...\n",
      "lot numbers seem to be correct, need to review\n",
      "reviewing WD2020-0504\n",
      "trsqq matched, checking county code...\n",
      "county code is corrected, need to check lot numbers...\n",
      "lot numbers seem to be correct, need to review\n",
      "reviewing WD2019-0039\n",
      "all lots are matched...\n",
      "corrected trsqq...\n",
      "reviewing WD2019-0405\n",
      "trsqq matched, checking county code...\n",
      "county code is corrected, need to check lot numbers...\n",
      "lot numbers seem to be correct, need to review\n",
      "reviewing WD2019-0203\n",
      "trsqq matched, checking county code...\n",
      "county code is corrected, need to check lot numbers...\n",
      "lot numbers seem to be correct, need to review\n",
      "reviewing WD2020-0051\n",
      "trsqq matched, checking county code...\n",
      "county code is corrected, need to check lot numbers...\n",
      "lot numbers seem to be correct, need to review\n",
      "reviewing WD2020-0348\n",
      "trsqq matched, checking county code...\n",
      "county code is corrected, need to check lot numbers...\n",
      "lot numbers seem to be correct, need to review\n",
      "reviewing WD2019-0349\n",
      "trsqq matched, checking county code...\n",
      "county code is corrected, need to check lot numbers...\n",
      "lot numbers seem to be correct, need to review\n",
      "reviewing WD2022-0284\n",
      "trsqq matched, checking county code...\n",
      "county code is corrected, need to check lot numbers...\n",
      "lot numbers seem to be correct, need to review\n",
      "reviewing WD2018-0094\n",
      "trsqq matched, checking county code...\n",
      "county code is corrected, need to check lot numbers...\n",
      "lot numbers seem to be correct, need to review\n",
      "reviewing WD2017-0036\n",
      "trsqq matched, checking county code...\n",
      "county code is corrected, need to check lot numbers...\n",
      "lot numbers seem to be correct, need to review\n",
      "reviewing WD2017-0398\n",
      "trsqq matched, checking county code...\n",
      "county code is corrected, need to check lot numbers...\n",
      "lot numbers seem to be correct, need to review\n",
      "reviewing WD2018-0133\n",
      "trsqq matched, checking county code...\n",
      "county code is corrected, need to check lot numbers...\n",
      "lot numbers seem to be correct, need to review\n",
      "reviewing WD2021-0531\n",
      "trsqq matched, checking county code...\n",
      "county code is corrected, need to check lot numbers...\n",
      "lot numbers seem to be correct, need to review\n",
      "reviewing WD2021-0102\n",
      "trsqq matched, checking county code...\n",
      "corrected county...\n",
      "reviewing WD2020-0505\n",
      "trsqq matched, checking county code...\n",
      "county code is corrected, need to check lot numbers...\n",
      "lot numbers seem to be correct, need to review\n",
      "reviewing WD2020-0081\n",
      "all lots are matched...\n",
      "corrected trsqq...\n",
      "reviewing WD2017-0353\n",
      "trsqq matched, checking county code...\n",
      "county code is corrected, need to check lot numbers...\n",
      "lot numbers seem to be correct, need to review\n",
      "reviewing WD2018-0038\n",
      "coordinate might be incorrect, nearby taxlot is 2602.00N01.00E2800--0000NONTL, about 7308 ft away\n",
      "reviewing WD2019-0302\n",
      "trsqq matched, checking county code...\n",
      "county code is corrected, need to check lot numbers...\n",
      "lot numbers seem to be correct, need to review\n",
      "reviewing WD2021-0031\n",
      "all lots are matched...\n",
      "corrected trsqq...\n",
      "reviewing WD2017-0556\n",
      "trsqq matched, checking county code...\n",
      "county code is corrected, need to check lot numbers...\n",
      "lot numbers seem to be correct, need to review\n",
      "reviewing WD2018-0189\n",
      "trsqq matched, checking county code...\n",
      "county code is corrected, need to check lot numbers...\n",
      "lot numbers seem to be correct, need to review\n",
      "reviewing WD2018-0321\n",
      "there is not any matched lot, need to review trsqq, the close-match is 01N03E23\n",
      "lots to check: ['1600'], and lots to compare: ['103', '104', '105', '107', '108', '109', '110', '111', '112', '113', '114', '115', '116', '117', '200', '300', '404', '406', '407', '408', '700', '800', '900', '1000', '1100', '1200', '1300', '0000NONTL']\n",
      "reviewing WD2017-0108\n"
     ]
    },
    {
     "name": "stdout",
     "output_type": "stream",
     "text": [
      "trsqq matched, checking county code...\n",
      "county code is corrected, need to check lot numbers...\n",
      "lot numbers seem to be correct, need to review\n",
      "reviewing WD2017-0486\n",
      "trsqq matched, checking county code...\n",
      "corrected county...\n",
      "reviewing WD2018-0041\n",
      "trsqq matched, checking county code...\n",
      "county code is corrected, need to check lot numbers...\n",
      "lot numbers seem to be correct, need to review\n",
      "reviewing WD2021-0650\n",
      "trsqq matched, checking county code...\n",
      "county code is corrected, need to check lot numbers...\n",
      "lot numbers seem to be correct, need to review\n",
      "reviewing WD2022-0052\n",
      "trsqq matched, checking county code...\n",
      "county code is corrected, need to check lot numbers...\n",
      "lot numbers seem to be correct, need to review\n",
      "reviewing WD2019-0202\n",
      "trsqq matched, checking county code...\n",
      "county code is corrected, need to check lot numbers...\n",
      "lot numbers seem to be correct, need to review\n",
      "reviewing WD2021-0554\n",
      "trsqq matched, checking county code...\n",
      "county code is corrected, need to check lot numbers...\n",
      "lot numbers seem to be correct, need to review\n",
      "reviewing WD2020-0175\n",
      "trsqq matched, checking county code...\n",
      "county code is corrected, need to check lot numbers...\n",
      "lot numbers seem to be correct, need to review\n",
      "reviewing WD2022-0265\n",
      "trsqq matched, checking county code...\n",
      "county code is corrected, need to check lot numbers...\n",
      "lot numbers seem to be correct, need to review\n",
      "reviewing WD2018-0086\n",
      "trsqq matched, checking county code...\n",
      "county code is corrected, need to check lot numbers...\n",
      "lot numbers seem to be correct, need to review\n",
      "reviewing WD2022-0137\n",
      "trsqq matched, checking county code...\n",
      "county code is corrected, need to check lot numbers...\n",
      "lot numbers seem to be correct, need to review\n",
      "reviewing WD2021-0433\n",
      "trsqq matched, checking county code...\n",
      "county code is corrected, need to check lot numbers...\n",
      "lot numbers seem to be correct, need to review\n",
      "reviewing WD2018-0032\n",
      "trsqq matched, checking county code...\n",
      "county code is corrected, need to check lot numbers...\n",
      "lot numbers seem to be correct, need to review\n",
      "reviewing WD2021-0199\n",
      "trsqq matched, checking county code...\n",
      "county code is corrected, need to check lot numbers...\n",
      "lot numbers seem to be correct, need to review\n",
      "reviewing WD2020-0551\n",
      "trsqq matched, checking county code...\n",
      "county code is corrected, need to check lot numbers...\n",
      "lot numbers might be wrong...\n",
      "reviewing WD2017-0266\n",
      "all lots are matched...\n",
      "corrected trsqq...\n",
      "reviewing WD2021-0585\n",
      "trsqq matched, checking county code...\n",
      "county code is corrected, need to check lot numbers...\n",
      "lot numbers seem to be correct, need to review\n",
      "reviewing WD2020-0113\n",
      "trsqq matched, checking county code...\n",
      "county code is corrected, need to check lot numbers...\n",
      "lot numbers seem to be correct, need to review\n",
      "reviewing WD2020-0635\n",
      "trsqq matched, checking county code...\n",
      "county code is corrected, need to check lot numbers...\n",
      "lot numbers might be wrong...\n",
      "reviewing WD2022-0025\n",
      "trsqq matched, checking county code...\n",
      "county code is corrected, need to check lot numbers...\n",
      "lot numbers seem to be correct, need to review\n",
      "reviewing WD2019-0419\n",
      "trsqq matched, checking county code...\n",
      "county code is corrected, need to check lot numbers...\n",
      "lot numbers seem to be correct, need to review\n",
      "reviewing WD2019-0532\n",
      "trsqq matched, checking county code...\n",
      "county code is corrected, need to check lot numbers...\n",
      "lot numbers seem to be correct, need to review\n",
      "reviewing WD2018-0052\n",
      "trsqq matched, checking county code...\n",
      "county code is corrected, need to check lot numbers...\n",
      "lot numbers seem to be correct, need to review\n",
      "reviewing WD2018-0227\n",
      "trsqq matched, checking county code...\n",
      "county code is corrected, need to check lot numbers...\n",
      "lot numbers seem to be correct, need to review\n",
      "reviewing WD2017-0209\n",
      "trsqq matched, checking county code...\n",
      "county code is corrected, need to check lot numbers...\n",
      "lot numbers seem to be correct, need to review\n",
      "reviewing WD2019-0126\n",
      "trsqq matched, checking county code...\n",
      "county code is corrected, need to check lot numbers...\n",
      "lot numbers seem to be correct, need to review\n",
      "reviewing WD2019-0030\n",
      "there is not any matched lot, need to review trsqq, the close-match is 05N10W10\n",
      "lots to check: ['2500'], and lots to compare: ['301', '302', '400', '500', '501', '502', '504', '600', '700', '800', '900', '1000', '1001', '1002', '1003', '1004', '1005', '1009', '1010', '1011', '1012', '1200', '1201', '1202', '1500', '1600', '1601', '1602', '1603', '1604', '1605', '1606', '1608', '1700', '1801', '1807', '1808', '1809', '1810', '1900', '1902', '1903', '2000', '0000NONTL', 'ROADS']\n",
      "reviewing WD2019-0118\n",
      "trsqq matched, checking county code...\n",
      "county code is corrected, need to check lot numbers...\n",
      "lot numbers seem to be correct, need to review\n",
      "reviewing WD2020-0203\n",
      "trsqq matched, checking county code...\n",
      "county code is corrected, need to check lot numbers...\n",
      "lot numbers seem to be correct, need to review\n",
      "reviewing WD2019-0159\n",
      "trsqq matched, checking county code...\n",
      "county code is corrected, need to check lot numbers...\n",
      "lot numbers seem to be correct, need to review\n",
      "reviewing WD2022-0057\n",
      "trsqq matched, checking county code...\n",
      "county code is corrected, need to check lot numbers...\n",
      "lot numbers seem to be correct, need to review\n",
      "reviewing WD2020-0331\n",
      "trsqq matched, checking county code...\n",
      "county code is corrected, need to check lot numbers...\n",
      "lot numbers seem to be correct, need to review\n",
      "reviewing WD2021-0126\n",
      "trsqq matched, checking county code...\n",
      "county code is corrected, need to check lot numbers...\n",
      "lot numbers seem to be correct, need to review\n",
      "reviewing WD2021-0552\n",
      "trsqq matched, checking county code...\n",
      "county code is corrected, need to check lot numbers...\n",
      "lot numbers seem to be correct, need to review\n",
      "reviewing WD2019-0167\n",
      "all lots are matched...\n",
      "corrected trsqq...\n",
      "reviewing WD2017-0278\n",
      "trsqq matched, checking county code...\n",
      "county code is corrected, need to check lot numbers...\n",
      "lot numbers seem to be correct, need to review\n",
      "reviewing WD2022-0116\n",
      "trsqq matched, checking county code...\n",
      "county code is corrected, need to check lot numbers...\n",
      "lot numbers seem to be correct, need to review\n",
      "reviewing WD2018-0633\n",
      "trsqq matched, checking county code...\n",
      "county code is corrected, need to check lot numbers...\n",
      "lot numbers seem to be correct, need to review\n",
      "reviewing WD2020-0149\n",
      "all lots are matched...\n",
      "corrected trsqq...\n",
      "reviewing WD2020-0110\n",
      "trsqq matched, checking county code...\n",
      "county code is corrected, need to check lot numbers...\n",
      "lot numbers seem to be correct, need to review\n",
      "reviewing WD2019-0556\n",
      "trsqq matched, checking county code...\n",
      "county code is corrected, need to check lot numbers...\n",
      "lot numbers seem to be correct, need to review\n",
      "reviewing WD2017-0134\n",
      "trsqq matched, checking county code...\n",
      "county code is corrected, need to check lot numbers...\n",
      "lot numbers seem to be correct, need to review\n",
      "reviewing WD2022-0056\n",
      "trsqq matched, checking county code...\n",
      "county code is corrected, need to check lot numbers...\n",
      "lot numbers seem to be correct, need to review\n",
      "reviewing WD2019-0415\n",
      "trsqq matched, checking county code...\n",
      "county code is corrected, need to check lot numbers...\n",
      "lot numbers seem to be correct, need to review\n",
      "reviewing WD2017-0505\n",
      "trsqq matched, checking county code...\n",
      "county code is corrected, need to check lot numbers...\n",
      "lot numbers seem to be correct, need to review\n",
      "reviewing WD2018-0015\n",
      "trsqq matched, checking county code...\n",
      "county code is corrected, need to check lot numbers...\n",
      "lot numbers seem to be correct, need to review\n",
      "reviewing WD2018-0341\n",
      "trsqq matched, checking county code...\n",
      "county code is corrected, need to check lot numbers...\n",
      "lot numbers seem to be correct, need to review\n",
      "reviewing WD2020-0537\n",
      "trsqq matched, checking county code...\n",
      "county code is corrected, need to check lot numbers...\n",
      "lot numbers seem to be correct, need to review\n",
      "reviewing WD2018-0510\n",
      "trsqq matched, checking county code...\n",
      "county code is corrected, need to check lot numbers...\n",
      "lot numbers seem to be correct, need to review\n",
      "reviewing WD2018-0246\n",
      "trsqq matched, checking county code...\n",
      "county code is corrected, need to check lot numbers...\n",
      "lot numbers seem to be correct, need to review\n",
      "reviewing WD2020-0006\n",
      "trsqq matched, checking county code...\n",
      "county code is corrected, need to check lot numbers...\n",
      "lot numbers seem to be correct, need to review\n",
      "reviewing WD2017-0395\n"
     ]
    },
    {
     "name": "stdout",
     "output_type": "stream",
     "text": [
      "trsqq matched, checking county code...\n",
      "county code is corrected, need to check lot numbers...\n",
      "lot numbers seem to be correct, need to review\n",
      "reviewing WD2021-0711\n",
      "trsqq matched, checking county code...\n",
      "county code is corrected, need to check lot numbers...\n",
      "lot numbers seem to be correct, need to review\n",
      "reviewing WD2018-0335\n",
      "trsqq matched, checking county code...\n",
      "county code is corrected, need to check lot numbers...\n",
      "lot numbers seem to be correct, need to review\n",
      "reviewing WD2017-0499\n",
      "trsqq matched, checking county code...\n",
      "county code is corrected, need to check lot numbers...\n",
      "lot numbers seem to be correct, need to review\n",
      "reviewing WD2019-0358\n",
      "trsqq matched, checking county code...\n",
      "county code is corrected, need to check lot numbers...\n",
      "lot numbers seem to be correct, need to review\n",
      "reviewing WD2017-0166\n",
      "trsqq matched, checking county code...\n",
      "county code is corrected, need to check lot numbers...\n",
      "lot numbers seem to be correct, need to review\n",
      "reviewing WD2019-0412\n",
      "trsqq matched, checking county code...\n",
      "county code is corrected, need to check lot numbers...\n",
      "lot numbers seem to be correct, need to review\n",
      "reviewing WD2017-0304\n",
      "trsqq matched, checking county code...\n",
      "county code is corrected, need to check lot numbers...\n",
      "lot numbers seem to be correct, need to review\n",
      "reviewing WD2022-0010\n",
      "trsqq matched, checking county code...\n",
      "county code is corrected, need to check lot numbers...\n",
      "lot numbers seem to be correct, need to review\n",
      "reviewing WD2022-0100\n",
      "trsqq matched, checking county code...\n",
      "county code is corrected, need to check lot numbers...\n",
      "lot numbers seem to be correct, need to review\n",
      "reviewing WD2019-0323\n",
      "trsqq matched, checking county code...\n",
      "county code is corrected, need to check lot numbers...\n",
      "lot numbers seem to be correct, need to review\n",
      "reviewing WD2017-0359\n",
      "trsqq matched, checking county code...\n",
      "county code is corrected, need to check lot numbers...\n",
      "lot numbers seem to be correct, need to review\n",
      "reviewing WD2018-0336\n",
      "trsqq matched, checking county code...\n",
      "county code is corrected, need to check lot numbers...\n",
      "lot numbers seem to be correct, need to review\n",
      "reviewing WD2020-0068\n",
      "trsqq matched, checking county code...\n",
      "county code is corrected, need to check lot numbers...\n",
      "lot numbers seem to be correct, need to review\n",
      "reviewing WD2017-0107\n",
      "trsqq matched, checking county code...\n",
      "county code is corrected, need to check lot numbers...\n",
      "lot numbers seem to be correct, need to review\n",
      "reviewing WD2022-0189\n",
      "trsqq matched, checking county code...\n",
      "county code is corrected, need to check lot numbers...\n",
      "lot numbers seem to be correct, need to review\n",
      "reviewing WD2019-0081\n",
      "trsqq matched, checking county code...\n",
      "county code is corrected, need to check lot numbers...\n",
      "lot numbers seem to be correct, need to review\n",
      "reviewing WD2021-0572\n",
      "trsqq matched, checking county code...\n",
      "county code is corrected, need to check lot numbers...\n",
      "lot numbers seem to be correct, need to review\n",
      "reviewing WD2020-0542\n",
      "trsqq matched, checking county code...\n",
      "county code is corrected, need to check lot numbers...\n",
      "lot numbers seem to be correct, need to review\n",
      "reviewing WD2017-0057\n",
      "trsqq matched, checking county code...\n",
      "corrected county...\n",
      "reviewing WD2020-0568\n",
      "all lots are matched...\n",
      "corrected trsqq...\n",
      "reviewing WD2021-0097\n",
      "there is not any matched lot, need to review trsqq, the close-match is 04S04W18\n",
      "lots to check: ['14700'], and lots to compare: ['100', '101', '102', '103', '105', '106', '107', '108', '200', '202', '203', '204', '205', '206', '300', '700', '701', '900', '1000', '1001', '1200', '1201', '1202', '1203', '1300', '1400', '1500', '1600', '1700', 'ROADS']\n",
      "reviewing WD2021-0553\n",
      "trsqq matched, checking county code...\n",
      "county code is corrected, need to check lot numbers...\n",
      "lot numbers seem to be correct, need to review\n",
      "reviewing WD2021-0643\n",
      "trsqq matched, checking county code...\n",
      "county code is corrected, need to check lot numbers...\n",
      "lot numbers seem to be correct, need to review\n",
      "reviewing WD2018-0462\n",
      "trsqq matched, checking county code...\n",
      "corrected county...\n",
      "reviewing WD2017-0137\n",
      "trsqq matched, checking county code...\n",
      "county code is corrected, need to check lot numbers...\n",
      "lot numbers seem to be correct, need to review\n",
      "reviewing WD2018-0649\n",
      "trsqq matched, checking county code...\n",
      "county code is corrected, need to check lot numbers...\n",
      "lot numbers seem to be correct, need to review\n",
      "reviewing WD2022-0113\n",
      "trsqq matched, checking county code...\n",
      "county code is corrected, need to check lot numbers...\n",
      "lot numbers seem to be correct, need to review\n",
      "reviewing WD2022-0177\n",
      "trsqq matched, checking county code...\n",
      "county code is corrected, need to check lot numbers...\n",
      "lot numbers seem to be correct, need to review\n",
      "reviewing WD2021-0149\n",
      "trsqq matched, checking county code...\n",
      "county code is corrected, need to check lot numbers...\n",
      "lot numbers seem to be correct, need to review\n",
      "reviewing WD2018-0644\n",
      "trsqq matched, checking county code...\n",
      "county code is corrected, need to check lot numbers...\n",
      "lot numbers seem to be correct, need to review\n",
      "reviewing WD2021-0609\n",
      "trsqq matched, checking county code...\n",
      "county code is corrected, need to check lot numbers...\n",
      "lot numbers seem to be correct, need to review\n",
      "reviewing WD2018-0274\n",
      "trsqq matched, checking county code...\n",
      "county code is corrected, need to check lot numbers...\n",
      "lot numbers seem to be correct, need to review\n"
     ]
    }
   ],
   "source": [
    "rev_r2 = review_unmatched_df_r2(df=r2_df, taxlot=all_taxlot, setID=setID, ml='N', export=True)"
   ]
  },
  {
   "cell_type": "code",
   "execution_count": 77,
   "id": "d53bd55d",
   "metadata": {},
   "outputs": [
    {
     "name": "stdout",
     "output_type": "stream",
     "text": [
      "WD2022-0262\n",
      "  correct_type                                      correction cor_trsqq\n",
      "0         None  lot numbers seem to be correct, need to review       NaN\n"
     ]
    },
    {
     "ename": "KeyboardInterrupt",
     "evalue": "Interrupted by user",
     "output_type": "error",
     "traceback": [
      "\u001b[1;31m---------------------------------------------------------------------------\u001b[0m",
      "\u001b[1;31mKeyboardInterrupt\u001b[0m                         Traceback (most recent call last)",
      "\u001b[1;32m<ipython-input-77-7e886bdb38b5>\u001b[0m in \u001b[0;36m<module>\u001b[1;34m\u001b[0m\n\u001b[1;32m----> 1\u001b[1;33m \u001b[0mreview_loop\u001b[0m\u001b[1;33m(\u001b[0m\u001b[0mrev_r2\u001b[0m\u001b[1;33m)\u001b[0m\u001b[1;33m\u001b[0m\u001b[1;33m\u001b[0m\u001b[0m\n\u001b[0m",
      "\u001b[1;32m~\\.0GitHub\\EPA-WD\\wdtools.py\u001b[0m in \u001b[0;36mreview_loop\u001b[1;34m(df)\u001b[0m\n\u001b[0;32m    109\u001b[0m         \u001b[0mprint\u001b[0m\u001b[1;33m(\u001b[0m\u001b[0mwdID\u001b[0m\u001b[1;33m)\u001b[0m\u001b[1;33m\u001b[0m\u001b[1;33m\u001b[0m\u001b[0m\n\u001b[0;32m    110\u001b[0m         \u001b[0mprint\u001b[0m\u001b[1;33m(\u001b[0m\u001b[0mcheck_review_notes_r2n\u001b[0m\u001b[1;33m(\u001b[0m\u001b[0mwdID\u001b[0m \u001b[1;33m=\u001b[0m \u001b[0mwdID\u001b[0m\u001b[1;33m,\u001b[0m \u001b[0mdf\u001b[0m \u001b[1;33m=\u001b[0m \u001b[0mdf\u001b[0m\u001b[1;33m)\u001b[0m\u001b[1;33m)\u001b[0m\u001b[1;33m\u001b[0m\u001b[1;33m\u001b[0m\u001b[0m\n\u001b[1;32m--> 111\u001b[1;33m         \u001b[0muser_input\u001b[0m \u001b[1;33m=\u001b[0m \u001b[0minput\u001b[0m\u001b[1;33m(\u001b[0m\u001b[1;34m\"Press 'p' to pause or any other key to continue...\"\u001b[0m\u001b[1;33m)\u001b[0m\u001b[1;33m\u001b[0m\u001b[1;33m\u001b[0m\u001b[0m\n\u001b[0m\u001b[0;32m    112\u001b[0m         \u001b[1;32mif\u001b[0m \u001b[0muser_input\u001b[0m \u001b[1;33m==\u001b[0m \u001b[1;34m'p'\u001b[0m\u001b[1;33m:\u001b[0m\u001b[1;33m\u001b[0m\u001b[1;33m\u001b[0m\u001b[0m\n\u001b[0;32m    113\u001b[0m             \u001b[1;32mwhile\u001b[0m \u001b[1;32mTrue\u001b[0m\u001b[1;33m:\u001b[0m\u001b[1;33m\u001b[0m\u001b[1;33m\u001b[0m\u001b[0m\n",
      "\u001b[1;32m~\\AppData\\Anaconda3\\envs\\geoenv\\lib\\site-packages\\ipykernel\\kernelbase.py\u001b[0m in \u001b[0;36mraw_input\u001b[1;34m(self, prompt)\u001b[0m\n\u001b[0;32m    846\u001b[0m                 \u001b[1;34m\"raw_input was called, but this frontend does not support input requests.\"\u001b[0m\u001b[1;33m\u001b[0m\u001b[1;33m\u001b[0m\u001b[0m\n\u001b[0;32m    847\u001b[0m             )\n\u001b[1;32m--> 848\u001b[1;33m         return self._input_request(str(prompt),\n\u001b[0m\u001b[0;32m    849\u001b[0m             \u001b[0mself\u001b[0m\u001b[1;33m.\u001b[0m\u001b[0m_parent_ident\u001b[0m\u001b[1;33m,\u001b[0m\u001b[1;33m\u001b[0m\u001b[1;33m\u001b[0m\u001b[0m\n\u001b[0;32m    850\u001b[0m             \u001b[0mself\u001b[0m\u001b[1;33m.\u001b[0m\u001b[0m_parent_header\u001b[0m\u001b[1;33m,\u001b[0m\u001b[1;33m\u001b[0m\u001b[1;33m\u001b[0m\u001b[0m\n",
      "\u001b[1;32m~\\AppData\\Anaconda3\\envs\\geoenv\\lib\\site-packages\\ipykernel\\kernelbase.py\u001b[0m in \u001b[0;36m_input_request\u001b[1;34m(self, prompt, ident, parent, password)\u001b[0m\n\u001b[0;32m    890\u001b[0m             \u001b[1;32mexcept\u001b[0m \u001b[0mKeyboardInterrupt\u001b[0m\u001b[1;33m:\u001b[0m\u001b[1;33m\u001b[0m\u001b[1;33m\u001b[0m\u001b[0m\n\u001b[0;32m    891\u001b[0m                 \u001b[1;31m# re-raise KeyboardInterrupt, to truncate traceback\u001b[0m\u001b[1;33m\u001b[0m\u001b[1;33m\u001b[0m\u001b[1;33m\u001b[0m\u001b[0m\n\u001b[1;32m--> 892\u001b[1;33m                 \u001b[1;32mraise\u001b[0m \u001b[0mKeyboardInterrupt\u001b[0m\u001b[1;33m(\u001b[0m\u001b[1;34m\"Interrupted by user\"\u001b[0m\u001b[1;33m)\u001b[0m \u001b[1;32mfrom\u001b[0m \u001b[1;32mNone\u001b[0m\u001b[1;33m\u001b[0m\u001b[1;33m\u001b[0m\u001b[0m\n\u001b[0m\u001b[0;32m    893\u001b[0m             \u001b[1;32mexcept\u001b[0m \u001b[0mException\u001b[0m \u001b[1;32mas\u001b[0m \u001b[0me\u001b[0m\u001b[1;33m:\u001b[0m\u001b[1;33m\u001b[0m\u001b[1;33m\u001b[0m\u001b[0m\n\u001b[0;32m    894\u001b[0m                 \u001b[0mself\u001b[0m\u001b[1;33m.\u001b[0m\u001b[0mlog\u001b[0m\u001b[1;33m.\u001b[0m\u001b[0mwarning\u001b[0m\u001b[1;33m(\u001b[0m\u001b[1;34m\"Invalid Message:\"\u001b[0m\u001b[1;33m,\u001b[0m \u001b[0mexc_info\u001b[0m\u001b[1;33m=\u001b[0m\u001b[1;32mTrue\u001b[0m\u001b[1;33m)\u001b[0m\u001b[1;33m\u001b[0m\u001b[1;33m\u001b[0m\u001b[0m\n",
      "\u001b[1;31mKeyboardInterrupt\u001b[0m: Interrupted by user"
     ]
    }
   ],
   "source": [
    "review_loop(rev_r2)"
   ]
  },
  {
   "cell_type": "code",
   "execution_count": 20,
   "id": "30578508",
   "metadata": {},
   "outputs": [],
   "source": [
    "# need to review the notes\n",
    "cor_r1 = correct_unmatched(r1_df, setID, s='r1', ml='N', export=True)"
   ]
  },
  {
   "cell_type": "code",
   "execution_count": 21,
   "id": "d8092b1e",
   "metadata": {},
   "outputs": [],
   "source": [
    "cor_r2 = correct_unmatched(r2_df, setID, s='r2', ml='N', export=True)"
   ]
  },
  {
   "cell_type": "code",
   "execution_count": 22,
   "id": "d64f3659",
   "metadata": {},
   "outputs": [
    {
     "data": {
      "text/plain": [
       "array(['33S07E03', '05N01W34CD', '33S07E03', '7S11W22CD', '05N02W27',\n",
       "       '07N02W17CC', '03S10W18', '24S09E00', '33S07E00', '06S11W35C'],\n",
       "      dtype=object)"
      ]
     },
     "execution_count": 22,
     "metadata": {},
     "output_type": "execute_result"
    }
   ],
   "source": [
    "r2_df.trsqq.values"
   ]
  },
  {
   "cell_type": "code",
   "execution_count": 23,
   "id": "4e3ff2b2",
   "metadata": {},
   "outputs": [
    {
     "data": {
      "text/plain": [
       "array(['07N02W08CC', '24S09E30CD', '06S11W35CB'], dtype=object)"
      ]
     },
     "execution_count": 23,
     "metadata": {},
     "output_type": "execute_result"
    }
   ],
   "source": [
    "cor_r2.trsqq.values"
   ]
  },
  {
   "cell_type": "code",
   "execution_count": 24,
   "id": "6d9b6027",
   "metadata": {},
   "outputs": [],
   "source": [
    "cor_r2_2 = update_unmatched_df_r2(r2_df, setID, ml='N', export=True)"
   ]
  },
  {
   "cell_type": "code",
   "execution_count": 25,
   "id": "b8bfe746",
   "metadata": {},
   "outputs": [],
   "source": [
    "# make sure the notes are updated\n",
    "df = combine_corrected_unmatched(setID, ml='N')"
   ]
  },
  {
   "cell_type": "code",
   "execution_count": 26,
   "id": "a134ff30",
   "metadata": {},
   "outputs": [
    {
     "data": {
      "text/plain": [
       "50"
      ]
     },
     "execution_count": 26,
     "metadata": {},
     "output_type": "execute_result"
    }
   ],
   "source": [
    "len(df.record_ID.unique())"
   ]
  },
  {
   "cell_type": "code",
   "execution_count": 27,
   "id": "d7d91dd7",
   "metadata": {},
   "outputs": [
    {
     "data": {
      "text/plain": [
       "Index(['wetdet_delin_number', 'trsqq', 'parcel_id', 'address_location_desc',\n",
       "       'city', 'county', 'site_name', 'site_desc', 'latitude', 'longitude',\n",
       "       'Coord-Source', 'DocumentName', 'DecisionLink', 'is_batch_file',\n",
       "       'status_name', 'received_date', 'response_date',\n",
       "       'reissuance_response_date', 'project_id', 'site_id', 'record_ID',\n",
       "       'notes', 'recyear', 'IDyear', 'missinglot'],\n",
       "      dtype='object')"
      ]
     },
     "execution_count": 27,
     "metadata": {},
     "output_type": "execute_result"
    }
   ],
   "source": [
    "df.columns"
   ]
  },
  {
   "cell_type": "code",
   "execution_count": 28,
   "id": "86fe3171",
   "metadata": {},
   "outputs": [],
   "source": [
    "rev_df = reindex_data(df)"
   ]
  },
  {
   "cell_type": "code",
   "execution_count": 29,
   "id": "cd109338",
   "metadata": {},
   "outputs": [],
   "source": [
    "adj_df = adjust_taxlot_df(rev_df[rev_df.wetdet_delin_number == 'WD2022-0136'])"
   ]
  },
  {
   "cell_type": "code",
   "execution_count": 30,
   "id": "c77e7023",
   "metadata": {},
   "outputs": [],
   "source": [
    "rev_df = adj_df.append(rev_df[rev_df.wetdet_delin_number != 'WD2022-0136'], ignore_index=True)"
   ]
  },
  {
   "cell_type": "code",
   "execution_count": 31,
   "id": "6a412ab0",
   "metadata": {},
   "outputs": [
    {
     "data": {
      "text/plain": [
       "(178, 29)"
      ]
     },
     "execution_count": 31,
     "metadata": {},
     "output_type": "execute_result"
    }
   ],
   "source": [
    "rev_df.shape"
   ]
  },
  {
   "cell_type": "code",
   "execution_count": 32,
   "id": "98d6a147",
   "metadata": {},
   "outputs": [],
   "source": [
    "# make sure the matched data before update is correct\n",
    "matched = match_wd_data_with_taxlot(rev_df, setID, all_taxlot, export=True, update=True)"
   ]
  },
  {
   "cell_type": "code",
   "execution_count": 33,
   "id": "3c0a1eab",
   "metadata": {},
   "outputs": [
    {
     "data": {
      "text/plain": [
       "Index(['wdID', 'trsqq', 'parcel_id', 'notes', 'lots', 'lot', 'ORTaxlot',\n",
       "       'record_ID', 'geometry'],\n",
       "      dtype='object')"
      ]
     },
     "execution_count": 33,
     "metadata": {},
     "output_type": "execute_result"
    }
   ],
   "source": [
    "matched.columns"
   ]
  },
  {
   "cell_type": "code",
   "execution_count": 34,
   "id": "b2017eb1",
   "metadata": {},
   "outputs": [],
   "source": [
    "missedID = [rID for rID in df.record_ID.values if rID not in matched.record_ID.values]"
   ]
  },
  {
   "cell_type": "code",
   "execution_count": 35,
   "id": "09db488d",
   "metadata": {},
   "outputs": [
    {
     "data": {
      "text/plain": [
       "[2437, 2450, 2454]"
      ]
     },
     "execution_count": 35,
     "metadata": {},
     "output_type": "execute_result"
    }
   ],
   "source": [
    "sorted(missedID)"
   ]
  },
  {
   "cell_type": "code",
   "execution_count": 36,
   "id": "ab6ea4cf",
   "metadata": {},
   "outputs": [],
   "source": [
    "outpath = r'L:\\NaturalResources\\Wetlands\\Local Wetland Inventory\\WAPO\\EPA_2022_Tasks\\Task 1 WD Mapping\\output'"
   ]
  },
  {
   "cell_type": "code",
   "execution_count": 37,
   "id": "e9ec843d",
   "metadata": {},
   "outputs": [],
   "source": [
    "matched = gpd.read_file(outpath + '\\\\matched\\\\matched_records_Set003.shp')"
   ]
  },
  {
   "cell_type": "code",
   "execution_count": 38,
   "id": "ecb11dbf",
   "metadata": {},
   "outputs": [
    {
     "data": {
      "text/plain": [
       "Index(['wdID', 'trsqq', 'parcel_id', 'notes', 'lots', 'lot', 'ORTaxlot',\n",
       "       'record_ID', 'geometry'],\n",
       "      dtype='object')"
      ]
     },
     "execution_count": 38,
     "metadata": {},
     "output_type": "execute_result"
    }
   ],
   "source": [
    "matched.columns"
   ]
  },
  {
   "cell_type": "code",
   "execution_count": 39,
   "id": "9952c01f",
   "metadata": {},
   "outputs": [],
   "source": [
    "matched_toReview = matched[matched.notes.notnull()] "
   ]
  },
  {
   "cell_type": "code",
   "execution_count": 40,
   "id": "57d64efe",
   "metadata": {},
   "outputs": [
    {
     "data": {
      "text/plain": [
       "127"
      ]
     },
     "execution_count": 40,
     "metadata": {},
     "output_type": "execute_result"
    }
   ],
   "source": [
    "len(matched_toReview.wdID.unique())"
   ]
  },
  {
   "cell_type": "code",
   "execution_count": 41,
   "id": "36fd0e50",
   "metadata": {},
   "outputs": [],
   "source": [
    "wd_toReview = wd[wd.wetdet_delin_number.isin(matched_toReview.wdID.unique())]"
   ]
  },
  {
   "cell_type": "code",
   "execution_count": 42,
   "id": "6ed8cee1",
   "metadata": {},
   "outputs": [],
   "source": [
    "wd_toReview.to_csv(outpath + '\\\\to_review\\\\partial_matched_Set003.csv', index=False)"
   ]
  },
  {
   "cell_type": "code",
   "execution_count": 43,
   "id": "569b0040",
   "metadata": {},
   "outputs": [
    {
     "name": "stdout",
     "output_type": "stream",
     "text": [
      "it is about 5.03% of data in the original 735 records unmatched\n",
      "there are 0 records (0.0% of the original records) without parcel id\n"
     ]
    }
   ],
   "source": [
    "unmatched_df = report_unmatched(gdf=matched, setID=setID, nm_to_add=nm_to_add, mute = False)"
   ]
  },
  {
   "cell_type": "code",
   "execution_count": 44,
   "id": "99f016fa",
   "metadata": {},
   "outputs": [
    {
     "data": {
      "text/plain": [
       "(37, 25)"
      ]
     },
     "execution_count": 44,
     "metadata": {},
     "output_type": "execute_result"
    }
   ],
   "source": [
    "unmatched_df.shape"
   ]
  },
  {
   "cell_type": "code",
   "execution_count": 45,
   "id": "dc67d780",
   "metadata": {},
   "outputs": [
    {
     "data": {
      "text/plain": [
       "Index(['wetdet_delin_number', 'trsqq', 'parcel_id', 'address_location_desc',\n",
       "       'city', 'county', 'site_name', 'site_desc', 'latitude', 'longitude',\n",
       "       'Coord-Source', 'DocumentName', 'DecisionLink', 'is_batch_file',\n",
       "       'status_name', 'received_date', 'response_date',\n",
       "       'reissuance_response_date', 'project_id', 'site_id', 'record_ID',\n",
       "       'notes', 'recyear', 'IDyear', 'missinglot'],\n",
       "      dtype='object')"
      ]
     },
     "execution_count": 45,
     "metadata": {},
     "output_type": "execute_result"
    }
   ],
   "source": [
    "unmatched_df.columns"
   ]
  },
  {
   "cell_type": "code",
   "execution_count": 46,
   "id": "fe6bf6e0",
   "metadata": {},
   "outputs": [
    {
     "data": {
      "text/html": [
       "<div>\n",
       "<style scoped>\n",
       "    .dataframe tbody tr th:only-of-type {\n",
       "        vertical-align: middle;\n",
       "    }\n",
       "\n",
       "    .dataframe tbody tr th {\n",
       "        vertical-align: top;\n",
       "    }\n",
       "\n",
       "    .dataframe thead th {\n",
       "        text-align: right;\n",
       "    }\n",
       "</style>\n",
       "<table border=\"1\" class=\"dataframe\">\n",
       "  <thead>\n",
       "    <tr style=\"text-align: right;\">\n",
       "      <th></th>\n",
       "      <th>wetdet_delin_number</th>\n",
       "      <th>trsqq</th>\n",
       "      <th>parcel_id</th>\n",
       "      <th>address_location_desc</th>\n",
       "      <th>city</th>\n",
       "      <th>county</th>\n",
       "      <th>site_name</th>\n",
       "      <th>site_desc</th>\n",
       "      <th>latitude</th>\n",
       "      <th>longitude</th>\n",
       "      <th>...</th>\n",
       "      <th>received_date</th>\n",
       "      <th>response_date</th>\n",
       "      <th>reissuance_response_date</th>\n",
       "      <th>project_id</th>\n",
       "      <th>site_id</th>\n",
       "      <th>record_ID</th>\n",
       "      <th>notes</th>\n",
       "      <th>recyear</th>\n",
       "      <th>IDyear</th>\n",
       "      <th>missinglot</th>\n",
       "    </tr>\n",
       "  </thead>\n",
       "  <tbody>\n",
       "    <tr>\n",
       "      <th>659</th>\n",
       "      <td>WD2021-0181</td>\n",
       "      <td>03N10W32A</td>\n",
       "      <td>54069</td>\n",
       "      <td>Pelican Ln Lot 13, Lot is on the corner of Pel...</td>\n",
       "      <td>Manzanita</td>\n",
       "      <td>Tillamook</td>\n",
       "      <td>Shawn Overstreet</td>\n",
       "      <td>WD2021-0181 Offsite</td>\n",
       "      <td>NaN</td>\n",
       "      <td>NaN</td>\n",
       "      <td>...</td>\n",
       "      <td>2021-04-05</td>\n",
       "      <td>2021-06-14</td>\n",
       "      <td>NaN</td>\n",
       "      <td>81746.0</td>\n",
       "      <td>135726</td>\n",
       "      <td>2803</td>\n",
       "      <td></td>\n",
       "      <td>2021</td>\n",
       "      <td>2021</td>\n",
       "      <td>N</td>\n",
       "    </tr>\n",
       "  </tbody>\n",
       "</table>\n",
       "<p>1 rows × 25 columns</p>\n",
       "</div>"
      ],
      "text/plain": [
       "    wetdet_delin_number      trsqq parcel_id  \\\n",
       "659         WD2021-0181  03N10W32A     54069   \n",
       "\n",
       "                                 address_location_desc       city     county  \\\n",
       "659  Pelican Ln Lot 13, Lot is on the corner of Pel...  Manzanita  Tillamook   \n",
       "\n",
       "            site_name            site_desc  latitude  longitude  ...  \\\n",
       "659  Shawn Overstreet  WD2021-0181 Offsite       NaN        NaN  ...   \n",
       "\n",
       "    received_date response_date reissuance_response_date project_id site_id  \\\n",
       "659    2021-04-05    2021-06-14                      NaN    81746.0  135726   \n",
       "\n",
       "    record_ID notes  recyear  IDyear  missinglot  \n",
       "659      2803           2021    2021           N  \n",
       "\n",
       "[1 rows x 25 columns]"
      ]
     },
     "execution_count": 46,
     "metadata": {},
     "output_type": "execute_result"
    }
   ],
   "source": [
    "unmatched_df[unmatched_df.record_ID == 2803]"
   ]
  },
  {
   "cell_type": "code",
   "execution_count": 47,
   "id": "47327c4d",
   "metadata": {},
   "outputs": [
    {
     "data": {
      "text/plain": [
       "[2803]"
      ]
     },
     "execution_count": 47,
     "metadata": {},
     "output_type": "execute_result"
    }
   ],
   "source": [
    "[rID for rID in unmatched_df.loc[unmatched_df.missinglot=='N', 'record_ID'].values if rID not in missedID]"
   ]
  },
  {
   "cell_type": "code",
   "execution_count": 48,
   "id": "9b4bf432",
   "metadata": {},
   "outputs": [],
   "source": [
    "missed_r1_ID = [rID for rID in missedID if rID in r1_df.record_ID.values]"
   ]
  },
  {
   "cell_type": "code",
   "execution_count": 49,
   "id": "562633d8",
   "metadata": {},
   "outputs": [
    {
     "data": {
      "text/plain": [
       "[2437, 2450, 2454]"
      ]
     },
     "execution_count": 49,
     "metadata": {},
     "output_type": "execute_result"
    }
   ],
   "source": [
    "missed_r1_ID"
   ]
  },
  {
   "cell_type": "code",
   "execution_count": 50,
   "id": "7b4b4170",
   "metadata": {},
   "outputs": [
    {
     "data": {
      "text/plain": [
       "Index(['wetdet_delin_number', 'trsqq', 'parcel_id', 'address_location_desc',\n",
       "       'city', 'county', 'site_name', 'site_desc', 'latitude', 'longitude',\n",
       "       'Coord-Source', 'DocumentName', 'DecisionLink', 'is_batch_file',\n",
       "       'status_name', 'received_date', 'response_date',\n",
       "       'reissuance_response_date', 'project_id', 'site_id', 'record_ID',\n",
       "       'notes', 'recyear', 'IDyear', 'missinglot', 'lots', 'lot', 'cnt_code',\n",
       "       'ORTaxlot'],\n",
       "      dtype='object')"
      ]
     },
     "execution_count": 50,
     "metadata": {},
     "output_type": "execute_result"
    }
   ],
   "source": [
    "rev_df.columns"
   ]
  },
  {
   "cell_type": "code",
   "execution_count": 51,
   "id": "76da2ea8",
   "metadata": {},
   "outputs": [
    {
     "data": {
      "text/plain": [
       "Index(['wetdet_delin_number', 'trsqq', 'parcel_id', 'address_location_desc',\n",
       "       'city', 'county', 'site_name', 'site_desc', 'latitude', 'longitude',\n",
       "       'Coord-Source', 'DocumentName', 'DecisionLink', 'is_batch_file',\n",
       "       'status_name', 'received_date', 'response_date',\n",
       "       'reissuance_response_date', 'project_id', 'site_id', 'record_ID',\n",
       "       'notes', 'recyear', 'IDyear', 'missinglot'],\n",
       "      dtype='object')"
      ]
     },
     "execution_count": 51,
     "metadata": {},
     "output_type": "execute_result"
    }
   ],
   "source": [
    "r1_df.columns"
   ]
  },
  {
   "cell_type": "code",
   "execution_count": 52,
   "id": "1d52c927",
   "metadata": {},
   "outputs": [
    {
     "data": {
      "text/html": [
       "<div>\n",
       "<style scoped>\n",
       "    .dataframe tbody tr th:only-of-type {\n",
       "        vertical-align: middle;\n",
       "    }\n",
       "\n",
       "    .dataframe tbody tr th {\n",
       "        vertical-align: top;\n",
       "    }\n",
       "\n",
       "    .dataframe thead th {\n",
       "        text-align: right;\n",
       "    }\n",
       "</style>\n",
       "<table border=\"1\" class=\"dataframe\">\n",
       "  <thead>\n",
       "    <tr style=\"text-align: right;\">\n",
       "      <th></th>\n",
       "      <th>record_ID</th>\n",
       "      <th>trsqq</th>\n",
       "      <th>parcel_id</th>\n",
       "      <th>county</th>\n",
       "      <th>wetdet_delin_number</th>\n",
       "    </tr>\n",
       "  </thead>\n",
       "  <tbody>\n",
       "    <tr>\n",
       "      <th>293</th>\n",
       "      <td>2437</td>\n",
       "      <td>39S09W14</td>\n",
       "      <td>200p</td>\n",
       "      <td>Klamath</td>\n",
       "      <td>WD2019-0121</td>\n",
       "    </tr>\n",
       "    <tr>\n",
       "      <th>306</th>\n",
       "      <td>2450</td>\n",
       "      <td>39S09W08D</td>\n",
       "      <td>1500p,1600p</td>\n",
       "      <td>Klamath</td>\n",
       "      <td>WD2019-0121</td>\n",
       "    </tr>\n",
       "    <tr>\n",
       "      <th>310</th>\n",
       "      <td>2454</td>\n",
       "      <td>39S09W08C</td>\n",
       "      <td>1300p</td>\n",
       "      <td>Klamath</td>\n",
       "      <td>WD2019-0121</td>\n",
       "    </tr>\n",
       "  </tbody>\n",
       "</table>\n",
       "</div>"
      ],
      "text/plain": [
       "     record_ID      trsqq    parcel_id   county wetdet_delin_number\n",
       "293       2437   39S09W14         200p  Klamath         WD2019-0121\n",
       "306       2450  39S09W08D  1500p,1600p  Klamath         WD2019-0121\n",
       "310       2454  39S09W08C        1300p  Klamath         WD2019-0121"
      ]
     },
     "execution_count": 52,
     "metadata": {},
     "output_type": "execute_result"
    }
   ],
   "source": [
    "r1_df.loc[r1_df.record_ID.isin(missed_r1_ID), ['record_ID','trsqq', 'parcel_id','county', 'wetdet_delin_number']]"
   ]
  },
  {
   "cell_type": "code",
   "execution_count": 53,
   "id": "6e077f02",
   "metadata": {},
   "outputs": [
    {
     "data": {
      "text/html": [
       "<div>\n",
       "<style scoped>\n",
       "    .dataframe tbody tr th:only-of-type {\n",
       "        vertical-align: middle;\n",
       "    }\n",
       "\n",
       "    .dataframe tbody tr th {\n",
       "        vertical-align: top;\n",
       "    }\n",
       "\n",
       "    .dataframe thead th {\n",
       "        text-align: right;\n",
       "    }\n",
       "</style>\n",
       "<table border=\"1\" class=\"dataframe\">\n",
       "  <thead>\n",
       "    <tr style=\"text-align: right;\">\n",
       "      <th></th>\n",
       "      <th>record_ID</th>\n",
       "      <th>trsqq</th>\n",
       "      <th>parcel_id</th>\n",
       "      <th>county</th>\n",
       "      <th>wetdet_delin_number</th>\n",
       "    </tr>\n",
       "  </thead>\n",
       "  <tbody>\n",
       "    <tr>\n",
       "      <th>293</th>\n",
       "      <td>2437</td>\n",
       "      <td>39S09E1400</td>\n",
       "      <td>200p</td>\n",
       "      <td>Klamath</td>\n",
       "      <td>WD2019-0121</td>\n",
       "    </tr>\n",
       "    <tr>\n",
       "      <th>306</th>\n",
       "      <td>2450</td>\n",
       "      <td>39S09E08D0</td>\n",
       "      <td>1500p,1600p</td>\n",
       "      <td>Klamath</td>\n",
       "      <td>WD2019-0121</td>\n",
       "    </tr>\n",
       "    <tr>\n",
       "      <th>310</th>\n",
       "      <td>2454</td>\n",
       "      <td>39S09E08C0</td>\n",
       "      <td>1300p</td>\n",
       "      <td>Klamath</td>\n",
       "      <td>WD2019-0121</td>\n",
       "    </tr>\n",
       "  </tbody>\n",
       "</table>\n",
       "</div>"
      ],
      "text/plain": [
       "     record_ID       trsqq    parcel_id   county wetdet_delin_number\n",
       "293       2437  39S09E1400         200p  Klamath         WD2019-0121\n",
       "306       2450  39S09E08D0  1500p,1600p  Klamath         WD2019-0121\n",
       "310       2454  39S09E08C0        1300p  Klamath         WD2019-0121"
      ]
     },
     "execution_count": 53,
     "metadata": {},
     "output_type": "execute_result"
    }
   ],
   "source": [
    "cor_r1.loc[cor_r1.record_ID.isin(missed_r1_ID), ['record_ID','trsqq', 'parcel_id','county', 'wetdet_delin_number']]"
   ]
  },
  {
   "cell_type": "code",
   "execution_count": 54,
   "id": "5d990775",
   "metadata": {},
   "outputs": [
    {
     "data": {
      "text/html": [
       "<div>\n",
       "<style scoped>\n",
       "    .dataframe tbody tr th:only-of-type {\n",
       "        vertical-align: middle;\n",
       "    }\n",
       "\n",
       "    .dataframe tbody tr th {\n",
       "        vertical-align: top;\n",
       "    }\n",
       "\n",
       "    .dataframe thead th {\n",
       "        text-align: right;\n",
       "    }\n",
       "</style>\n",
       "<table border=\"1\" class=\"dataframe\">\n",
       "  <thead>\n",
       "    <tr style=\"text-align: right;\">\n",
       "      <th></th>\n",
       "      <th>record_ID</th>\n",
       "      <th>ORTaxlot</th>\n",
       "      <th>trsqq</th>\n",
       "      <th>parcel_id</th>\n",
       "      <th>county</th>\n",
       "      <th>wetdet_delin_number</th>\n",
       "    </tr>\n",
       "  </thead>\n",
       "  <tbody>\n",
       "    <tr>\n",
       "      <th>25</th>\n",
       "      <td>2437</td>\n",
       "      <td>1839.00S09.00E1400--000000200</td>\n",
       "      <td>39S09E1400</td>\n",
       "      <td>200p</td>\n",
       "      <td>Klamath</td>\n",
       "      <td>WD2019-0121</td>\n",
       "    </tr>\n",
       "    <tr>\n",
       "      <th>80</th>\n",
       "      <td>2450</td>\n",
       "      <td>1839.00S09.00E08D0--000001500</td>\n",
       "      <td>39S09E08D0</td>\n",
       "      <td>1500p,1600p</td>\n",
       "      <td>Klamath</td>\n",
       "      <td>WD2019-0121</td>\n",
       "    </tr>\n",
       "    <tr>\n",
       "      <th>81</th>\n",
       "      <td>2450</td>\n",
       "      <td>1839.00S09.00E08D0--000001600</td>\n",
       "      <td>39S09E08D0</td>\n",
       "      <td>1500p,1600p</td>\n",
       "      <td>Klamath</td>\n",
       "      <td>WD2019-0121</td>\n",
       "    </tr>\n",
       "    <tr>\n",
       "      <th>88</th>\n",
       "      <td>2454</td>\n",
       "      <td>1839.00S09.00E08C0--000001300</td>\n",
       "      <td>39S09E08C0</td>\n",
       "      <td>1300p</td>\n",
       "      <td>Klamath</td>\n",
       "      <td>WD2019-0121</td>\n",
       "    </tr>\n",
       "  </tbody>\n",
       "</table>\n",
       "</div>"
      ],
      "text/plain": [
       "    record_ID                       ORTaxlot       trsqq    parcel_id  \\\n",
       "25       2437  1839.00S09.00E1400--000000200  39S09E1400         200p   \n",
       "80       2450  1839.00S09.00E08D0--000001500  39S09E08D0  1500p,1600p   \n",
       "81       2450  1839.00S09.00E08D0--000001600  39S09E08D0  1500p,1600p   \n",
       "88       2454  1839.00S09.00E08C0--000001300  39S09E08C0        1300p   \n",
       "\n",
       "     county wetdet_delin_number  \n",
       "25  Klamath         WD2019-0121  \n",
       "80  Klamath         WD2019-0121  \n",
       "81  Klamath         WD2019-0121  \n",
       "88  Klamath         WD2019-0121  "
      ]
     },
     "execution_count": 54,
     "metadata": {},
     "output_type": "execute_result"
    }
   ],
   "source": [
    "rev_df.loc[rev_df.record_ID.isin(missed_r1_ID), ['record_ID','ORTaxlot', 'trsqq', 'parcel_id','county', 'wetdet_delin_number']]"
   ]
  },
  {
   "cell_type": "code",
   "execution_count": 55,
   "id": "5727f7fd",
   "metadata": {},
   "outputs": [],
   "source": [
    "missed_r2_ID = [rID for rID in missedID if rID in r2_df.record_ID.values]"
   ]
  },
  {
   "cell_type": "code",
   "execution_count": 56,
   "id": "041cde0e",
   "metadata": {},
   "outputs": [
    {
     "data": {
      "text/plain": [
       "[]"
      ]
     },
     "execution_count": 56,
     "metadata": {},
     "output_type": "execute_result"
    }
   ],
   "source": [
    "missed_r2_ID"
   ]
  },
  {
   "cell_type": "code",
   "execution_count": 57,
   "id": "241a3805",
   "metadata": {},
   "outputs": [
    {
     "data": {
      "text/plain": [
       "array([2525, 2155, 2537, 2642, 2159, 2162, 2777, 2392, 2467, 2660])"
      ]
     },
     "execution_count": 57,
     "metadata": {},
     "output_type": "execute_result"
    }
   ],
   "source": [
    "rev_r2.record_ID.values"
   ]
  },
  {
   "cell_type": "code",
   "execution_count": 59,
   "id": "d16cdfc9",
   "metadata": {},
   "outputs": [],
   "source": [
    "unmatched_df.to_csv(os.path.join(inpath + '\\\\output\\\\to_review\\\\', f'unmatched_df_{setID}_2.csv'), index=False)"
   ]
  },
  {
   "cell_type": "code",
   "execution_count": 60,
   "id": "5ca55f34",
   "metadata": {},
   "outputs": [],
   "source": [
    "testdf = unmatched_df[unmatched_df.missinglot=='Y']"
   ]
  },
  {
   "cell_type": "code",
   "execution_count": 61,
   "id": "e2a3dd6c",
   "metadata": {},
   "outputs": [
    {
     "data": {
      "text/plain": [
       "(33, 25)"
      ]
     },
     "execution_count": 61,
     "metadata": {},
     "output_type": "execute_result"
    }
   ],
   "source": [
    "testdf.shape"
   ]
  },
  {
   "cell_type": "code",
   "execution_count": 62,
   "id": "8cdd34f0",
   "metadata": {},
   "outputs": [],
   "source": [
    "row_txid = [txid for txid in all_txid if 'ROADS' in txid]"
   ]
  },
  {
   "cell_type": "code",
   "execution_count": 63,
   "id": "0df5750d",
   "metadata": {},
   "outputs": [],
   "source": [
    "water_txid = [txid for txid in all_txid if 'WATER' in txid]"
   ]
  },
  {
   "cell_type": "code",
   "execution_count": 64,
   "id": "01d689b9",
   "metadata": {},
   "outputs": [],
   "source": [
    "rail_txid = [txid for txid in all_txid if 'RAILS' in txid]"
   ]
  },
  {
   "cell_type": "code",
   "execution_count": 65,
   "id": "7c14dd4f",
   "metadata": {},
   "outputs": [
    {
     "data": {
      "text/plain": [
       "array(['ROW', 'Rail', 'Many', 'ROW, Rail'], dtype=object)"
      ]
     },
     "execution_count": 65,
     "metadata": {},
     "output_type": "execute_result"
    }
   ],
   "source": [
    "testdf.notes.unique()"
   ]
  },
  {
   "cell_type": "code",
   "execution_count": 66,
   "id": "dcc0b2bf",
   "metadata": {},
   "outputs": [],
   "source": [
    "r1_t, r2_t = split_unmatched_df(unmatched_df, ml='Y', setID=setID)"
   ]
  },
  {
   "cell_type": "code",
   "execution_count": 67,
   "id": "e038e0df",
   "metadata": {},
   "outputs": [
    {
     "name": "stdout",
     "output_type": "stream",
     "text": [
      "reviewing WD2017-0136\n",
      "trsqq matched, checking county code...\n",
      "county code is corrected, need to check lot numbers...\n",
      "lot numbers might be wrong...\n",
      "reviewing WD2021-0624\n",
      "there is not any matched lot, need to review trsqq, the close-match is 01S09W30\n",
      "lots to check: ['RAILS'], and lots to compare: ['100', '101', '102', '103', '104', '105', '200', '201', '300', '400', '500', '600', '701', '900', '1000', '1001', '1100']\n",
      "reviewing WD2020-0526\n",
      "there is not any matched lot, need to review trsqq, the close-match is 02N10W\n",
      "lots to check: ['ROADS'], and lots to compare: ['100', '200', '600', '1100', '1200', '1900', '2000', '2200', '2280', '2290', '2500', '2700', '2800', '3200', '3300', '3400', '3700', '3800', '3900', '4000', '4400', '4500', '4800', '4900', '5000', '5100', '5201', '5203', '5600', '5700', '5800', '5900', '6000', '6001', '6100', '6101', '99980']\n",
      "reviewing WD2017-0124\n",
      "coordinate might be incorrect, nearby taxlot is 1838.00S11.50E3100--000001000, about 26 ft away\n",
      "reviewing WD2017-0375\n",
      "there is not any matched lot, need to review trsqq, the close-match is 05S11W25\n",
      "lots to check: ['ROADS'], and lots to compare: ['400', '490', '500', '800', '804', '805', '808', '809', '812', '900', '1000', '1200', '1201', '1202', '1300', '99980']\n",
      "reviewing WD2018-0196\n",
      "trsqq matched, checking county code...\n",
      "county code is corrected, need to check lot numbers...\n",
      "lot numbers might be wrong...\n",
      "reviewing WD2020-0009\n",
      "coordinate might be incorrect, nearby taxlot is 0504.00N01.00W03CB--000001900, about 39 ft away\n",
      "reviewing WD2018-0281\n",
      "there is not any matched lot, need to review trsqq, the close-match is 41S12E11\n",
      "lots to check: [], and lots to compare: ['200', '300', '400', '500', '600', '700', '701', '800', '900', '1000', '1100', '1200', '1300', '1301', '1400', '1500', '1600', '1700']\n",
      "reviewing WD2020-0120\n",
      "some lots are not matched, need to review trsqq, the close-match is 08N04W15\n",
      "lots to check: ['ROADS', 'RAILS'], and lots to compare: ['100', '200', '300', '400', '500', '600', '700', '100', '200', '300', '301', 'ROADS']\n"
     ]
    }
   ],
   "source": [
    "rev_r2_y = review_unmatched_df_r2(df=r2_t, taxlot=all_taxlot, setID=setID, ml='Y', export=True)"
   ]
  },
  {
   "cell_type": "code",
   "execution_count": 68,
   "id": "685cbf52",
   "metadata": {},
   "outputs": [
    {
     "data": {
      "text/plain": [
       "Index(['wetdet_delin_number', 'trsqq', 'parcel_id', 'county', 'latitude',\n",
       "       'longitude', 'DecisionLink', 'record_ID', 'IDyear', 'correct_type',\n",
       "       'correction', 'cor_trsqq', 'ORTaxlot'],\n",
       "      dtype='object')"
      ]
     },
     "execution_count": 68,
     "metadata": {},
     "output_type": "execute_result"
    }
   ],
   "source": [
    "rev_r2_y.columns"
   ]
  },
  {
   "cell_type": "code",
   "execution_count": 69,
   "id": "13940ff5",
   "metadata": {},
   "outputs": [],
   "source": [
    "testdf = rev_r2_y.copy()"
   ]
  },
  {
   "cell_type": "code",
   "execution_count": 70,
   "id": "dc3f23a8",
   "metadata": {},
   "outputs": [],
   "source": [
    "taxlot_to_check = get_taxlot_to_check_r2(revdf=testdf, taxlot=all_taxlot, setID=setID, ml='Y')"
   ]
  },
  {
   "cell_type": "code",
   "execution_count": 71,
   "id": "3b8773a3",
   "metadata": {},
   "outputs": [
    {
     "data": {
      "text/plain": [
       "Index(['year', 'ORTaxlot', 'geometry', 'wdID', 'trsqq', 'parcel_id', 'county',\n",
       "       'latitude', 'longitude', 'doc_link', 'record_ID', 'IDyear', 'cor_type',\n",
       "       'correction', 'cor_trsqq'],\n",
       "      dtype='object')"
      ]
     },
     "execution_count": 71,
     "metadata": {},
     "output_type": "execute_result"
    }
   ],
   "source": [
    "taxlot_to_check.columns"
   ]
  },
  {
   "cell_type": "code",
   "execution_count": 72,
   "id": "b694ea70",
   "metadata": {},
   "outputs": [
    {
     "data": {
      "text/plain": [
       "9"
      ]
     },
     "execution_count": 72,
     "metadata": {},
     "output_type": "execute_result"
    }
   ],
   "source": [
    "len(rev_r2_y.ORTaxlot.values)"
   ]
  },
  {
   "cell_type": "code",
   "execution_count": 73,
   "id": "daab7f5b",
   "metadata": {},
   "outputs": [],
   "source": [
    "matchedTxlotIDs = [txlot for txlot in rev_r2_y.ORTaxlot.values if txlot in matched.ORTaxlot.values]"
   ]
  },
  {
   "cell_type": "code",
   "execution_count": 74,
   "id": "a9ac3132",
   "metadata": {},
   "outputs": [
    {
     "data": {
      "text/plain": [
       "array([2836, 2792, 2710, 2250])"
      ]
     },
     "execution_count": 74,
     "metadata": {},
     "output_type": "execute_result"
    }
   ],
   "source": [
    "rev_r2_y.loc[rev_r2_y.ORTaxlot.isin(matchedTxlotIDs), 'record_ID'].values"
   ]
  },
  {
   "cell_type": "code",
   "execution_count": 75,
   "id": "c784867f",
   "metadata": {},
   "outputs": [
    {
     "data": {
      "text/plain": [
       "['2903.00N10.00W3500--000099980',\n",
       " '1838.00S11.50E3100--000001000',\n",
       " '1839.00S09.00E1600--000001100',\n",
       " '0504.00N01.00W03CB--000001900',\n",
       " '1841.00S12.00E1100--000000400']"
      ]
     },
     "execution_count": 75,
     "metadata": {},
     "output_type": "execute_result"
    }
   ],
   "source": [
    "[txlot for txlot in rev_r2_y.ORTaxlot.values if txlot not in matched.ORTaxlot.values]"
   ]
  }
 ],
 "metadata": {
  "kernelspec": {
   "display_name": "Python 3",
   "language": "python",
   "name": "python3"
  },
  "language_info": {
   "codemirror_mode": {
    "name": "ipython",
    "version": 3
   },
   "file_extension": ".py",
   "mimetype": "text/x-python",
   "name": "python",
   "nbconvert_exporter": "python",
   "pygments_lexer": "ipython3",
   "version": "3.8.8"
  }
 },
 "nbformat": 4,
 "nbformat_minor": 5
}
