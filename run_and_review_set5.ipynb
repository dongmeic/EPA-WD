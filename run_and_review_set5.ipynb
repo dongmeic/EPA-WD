{
 "cells": [
  {
   "cell_type": "code",
   "execution_count": 1,
   "id": "b5fb740d",
   "metadata": {},
   "outputs": [],
   "source": [
    "%load_ext autoreload\n",
    "%autoreload 2"
   ]
  },
  {
   "cell_type": "code",
   "execution_count": 20,
   "id": "f4728754",
   "metadata": {},
   "outputs": [],
   "source": [
    "from wdtools import *"
   ]
  },
  {
   "cell_type": "code",
   "execution_count": 3,
   "id": "a19bb634",
   "metadata": {},
   "outputs": [
    {
     "name": "stdout",
     "output_type": "stream",
     "text": [
      "it took 8.0 minutes to complete\n"
     ]
    }
   ],
   "source": [
    "# this can take about 9 - 11 minutes\n",
    "start = time.time()\n",
    "all_taxlot = combine_taxlot()\n",
    "end = time.time()\n",
    "print(f'it took {round((end - start)/60, 0)} minutes to complete')"
   ]
  },
  {
   "cell_type": "code",
   "execution_count": 4,
   "id": "146fa5d9",
   "metadata": {},
   "outputs": [],
   "source": [
    "wd_df = get_all_wd(num=4)"
   ]
  },
  {
   "cell_type": "code",
   "execution_count": 5,
   "id": "f7a81760",
   "metadata": {},
   "outputs": [
    {
     "data": {
      "text/plain": [
       "Index(['wetdet_delin_number', 'trsqq', 'parcel_id', 'address_location_desc',\n",
       "       'city', 'county', 'site_name', 'site_desc', 'latitude', 'longitude',\n",
       "       'Coord-Source', 'DocumentName', 'DecisionLink', 'is_batch_file',\n",
       "       'status_name', 'received_date', 'response_date',\n",
       "       'reissuance_response_date', 'project_id', 'site_id', 'record_ID',\n",
       "       'notes', 'recyear', 'IDyear', 'missinglot', 'SetID'],\n",
       "      dtype='object')"
      ]
     },
     "execution_count": 5,
     "metadata": {},
     "output_type": "execute_result"
    }
   ],
   "source": [
    "wd_df.columns"
   ]
  },
  {
   "cell_type": "code",
   "execution_count": 6,
   "id": "84811db0",
   "metadata": {},
   "outputs": [
    {
     "data": {
      "text/plain": [
       "(3932, 26)"
      ]
     },
     "execution_count": 6,
     "metadata": {},
     "output_type": "execute_result"
    }
   ],
   "source": [
    "wd_df.shape"
   ]
  },
  {
   "cell_type": "code",
   "execution_count": 7,
   "id": "81d0c0df",
   "metadata": {},
   "outputs": [
    {
     "data": {
      "text/plain": [
       "3932"
      ]
     },
     "execution_count": 7,
     "metadata": {},
     "output_type": "execute_result"
    }
   ],
   "source": [
    "2878 + wd_df[wd_df.SetID == 4].shape[0]"
   ]
  },
  {
   "cell_type": "code",
   "execution_count": 8,
   "id": "865b4e63",
   "metadata": {},
   "outputs": [
    {
     "data": {
      "text/plain": [
       "array(['WD2022-0083'], dtype=object)"
      ]
     },
     "execution_count": 8,
     "metadata": {},
     "output_type": "execute_result"
    }
   ],
   "source": [
    "wd_df[wd_df.county == 'Yamhill and Washington'].wetdet_delin_number.unique()"
   ]
  },
  {
   "cell_type": "code",
   "execution_count": 9,
   "id": "045f6f36",
   "metadata": {},
   "outputs": [],
   "source": [
    "dat = pd.read_excel(wdpath+'\\\\202307RunPolkGilliamUmatillaUnionWheeler2017-2022ALL.xlsx')"
   ]
  },
  {
   "cell_type": "code",
   "execution_count": 10,
   "id": "a01b1c3e",
   "metadata": {},
   "outputs": [
    {
     "data": {
      "text/plain": [
       "array(['Gilliam', 'Polk', 'Umatilla', 'Union', 'Wheeler', nan],\n",
       "      dtype=object)"
      ]
     },
     "execution_count": 10,
     "metadata": {},
     "output_type": "execute_result"
    }
   ],
   "source": [
    "dat.county.unique()"
   ]
  },
  {
   "cell_type": "code",
   "execution_count": 11,
   "id": "ea76e8eb",
   "metadata": {},
   "outputs": [],
   "source": [
    "wd_dt = dat[(~dat.county.isnull()) | (~dat.trsqq.isnull()) | (~dat.parcel_id.isnull())]"
   ]
  },
  {
   "cell_type": "code",
   "execution_count": 12,
   "id": "534658de",
   "metadata": {},
   "outputs": [
    {
     "data": {
      "text/plain": [
       "(438, 20)"
      ]
     },
     "execution_count": 12,
     "metadata": {},
     "output_type": "execute_result"
    }
   ],
   "source": [
    "wd_dt.shape"
   ]
  },
  {
   "cell_type": "code",
   "execution_count": 21,
   "id": "6f280e0b",
   "metadata": {
    "scrolled": true
   },
   "outputs": [],
   "source": [
    "setID = 'Set005'; nm_to_add = 3932"
   ]
  },
  {
   "cell_type": "code",
   "execution_count": 28,
   "id": "ab96dd80",
   "metadata": {},
   "outputs": [
    {
     "name": "stdout",
     "output_type": "stream",
     "text": [
      "it took 1.0 minutes to complete\n",
      "it is about 15.07% of data in the original 438 records unmatched\n",
      "there are 0 records (0.0% of the original records) without parcel id\n"
     ]
    }
   ],
   "source": [
    "wd, setgdf, unmatched_df = run_Tier1(setID=setID, nm_to_add=nm_to_add, all_taxlot=all_taxlot)"
   ]
  },
  {
   "cell_type": "code",
   "execution_count": 25,
   "id": "9ba73f91",
   "metadata": {},
   "outputs": [
    {
     "name": "stdout",
     "output_type": "stream",
     "text": [
      "reviewing WD2021-0038\n",
      "all lots are matched...\n",
      "corrected trsqq...\n",
      "reviewing WD2018-0169\n",
      "all lots are matched...\n",
      "corrected trsqq...\n",
      "reviewing WD2021-0410\n",
      "some lots are not matched, need to review trsqq, the close-match is 04N29E06C\n",
      "lots to check: ['200', '300'], and lots to compare: ['100', '101', '102', '103', '104', '105', '106', '200', '400', '401', '500', '600', '700', '800', '900', '1000', '1100', '1101', '1200', '1300', '1400', '1401', '1500', '1600', '1700', '1701', '1800', '1900', '2000', '2100', '2200', '2400', '2500', '2600', '2700', '2800', '2900', '3000', '3100', '3200', '3300', '3400', '3500', '3600', '3700', '3800', '3900', '4000', '4001', '4002', '4003', '4004', '4005', '4100', '4200', '4300', '4301', '4400', '4500', '4600', '4601']\n",
      "reviewing WD2019-0609\n",
      "all lots are matched...\n",
      "corrected trsqq...\n",
      "reviewing WD2019-0213\n",
      "all lots are matched...\n",
      "corrected trsqq...\n",
      "reviewing WD2019-0444\n",
      "all lots are matched...\n",
      "corrected trsqq...\n",
      "reviewing WD2020-0171\n",
      "all lots are matched...\n",
      "corrected trsqq...\n",
      "reviewing WD2020-0358\n",
      "all lots are matched...\n",
      "corrected trsqq...\n"
     ]
    }
   ],
   "source": [
    "r1_df, r2_df = run_Tier2_step1(setID=setID, unmatched_df=unmatched_df, all_taxlot=all_taxlot)"
   ]
  },
  {
   "cell_type": "markdown",
   "id": "cdece2e3",
   "metadata": {},
   "source": [
    "Manual run notes_review_set5 to get correction notes"
   ]
  },
  {
   "cell_type": "code",
   "execution_count": 29,
   "id": "e878758d",
   "metadata": {},
   "outputs": [
    {
     "name": "stdout",
     "output_type": "stream",
     "text": [
      "it is about 13.01% of data in the original 438 records unmatched\n",
      "there are 0 records (0.0% of the original records) without parcel id\n"
     ]
    }
   ],
   "source": [
    "matched, unmatched_df = run_Tier2_step3(r1_df=r1_df, r2_df=r2_df, setID=setID, nm_to_add=nm_to_add, \n",
    "                                        wd=wd, all_taxlot=all_taxlot)"
   ]
  },
  {
   "cell_type": "code",
   "execution_count": 30,
   "id": "db92b742",
   "metadata": {},
   "outputs": [
    {
     "data": {
      "text/plain": [
       "True"
      ]
     },
     "execution_count": 30,
     "metadata": {},
     "output_type": "execute_result"
    }
   ],
   "source": [
    "'WD2018-0660' in matched.wdID.unique()"
   ]
  },
  {
   "cell_type": "code",
   "execution_count": 27,
   "id": "bcc5c84f",
   "metadata": {},
   "outputs": [],
   "source": [
    "unmatched_df.to_csv(os.path.join(inpath + '\\\\output\\\\to_review\\\\', f'unmatched_df_{setID}_2.csv'), index=False)"
   ]
  }
 ],
 "metadata": {
  "kernelspec": {
   "display_name": "Python 3",
   "language": "python",
   "name": "python3"
  },
  "language_info": {
   "codemirror_mode": {
    "name": "ipython",
    "version": 3
   },
   "file_extension": ".py",
   "mimetype": "text/x-python",
   "name": "python",
   "nbconvert_exporter": "python",
   "pygments_lexer": "ipython3",
   "version": "3.8.8"
  }
 },
 "nbformat": 4,
 "nbformat_minor": 5
}
