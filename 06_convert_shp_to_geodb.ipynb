{
 "cells": [
  {
   "cell_type": "code",
   "execution_count": 1,
   "id": "6b2412c1",
   "metadata": {},
   "outputs": [],
   "source": [
    "import arcpy"
   ]
  },
  {
   "cell_type": "code",
   "execution_count": 2,
   "id": "5576dc43",
   "metadata": {},
   "outputs": [],
   "source": [
    "arcpy.env.overwriteOutput = True"
   ]
  },
  {
   "cell_type": "code",
   "execution_count": 4,
   "id": "c1523a70",
   "metadata": {},
   "outputs": [],
   "source": [
    "folder = r'L:\\NaturalResources\\Wetlands\\Local Wetland Inventory\\WAPO\\EPA_2022_Tasks\\Task 1 WD Mapping'"
   ]
  },
  {
   "cell_type": "code",
   "execution_count": 5,
   "id": "e07afbe3",
   "metadata": {},
   "outputs": [],
   "source": [
    "years = [2009, 2011, 2012, 2014, 2015]"
   ]
  },
  {
   "cell_type": "code",
   "execution_count": 5,
   "id": "92abf919",
   "metadata": {},
   "outputs": [],
   "source": [
    "outfolder = fr'{folder}\\GIS\\ORMAP_data\\ORMAP_Taxlot_Years'"
   ]
  },
  {
   "cell_type": "code",
   "execution_count": 12,
   "id": "253c31be",
   "metadata": {},
   "outputs": [],
   "source": [
    "for year in years:\n",
    "    fgdb_nm = f'Taxlots{year}'\n",
    "    arcpy.management.CreateFileGDB(outfolder, f\"{fgdb_nm}.gdb\")"
   ]
  },
  {
   "cell_type": "code",
   "execution_count": 7,
   "id": "155f7330",
   "metadata": {},
   "outputs": [],
   "source": [
    "for year in [2012]:\n",
    "    fgdb_nm = f'Taxlots{year}'\n",
    "    arcpy.env.workspace = outfolder + f'\\\\{fgdb_nm}.gdb'\n",
    "    infc = fr'{folder}\\GIS\\ORMAP_data\\2009_2015\\OR{fgdb_nm}.shp'\n",
    "    arcpy.management.CopyFeatures(infc, f\"{fgdb_nm}\")"
   ]
  },
  {
   "cell_type": "code",
   "execution_count": 4,
   "id": "f1c5cd70",
   "metadata": {},
   "outputs": [],
   "source": [
    "outfolder = fr'{folder}\\GIS\\ArcGIS Pro Project\\DataReview'"
   ]
  },
  {
   "cell_type": "code",
   "execution_count": 5,
   "id": "ea7882e7",
   "metadata": {},
   "outputs": [],
   "source": [
    "fgdb_nm = 'example_data_7_11_23'"
   ]
  },
  {
   "cell_type": "code",
   "execution_count": 6,
   "id": "e85e9984",
   "metadata": {},
   "outputs": [
    {
     "data": {
      "text/html": [
       "<div class='gpresult'><h2>Messages</h2><div id='messages' data-messages='[\"Start Time: Tuesday, July 11, 2023 12:56:22 PM\",\"Succeeded at Tuesday, July 11, 2023 12:56:23 PM (Elapsed Time: 1.08 seconds)\"]' data-show='true'><div id = 'default' /></div></div>"
      ],
      "text/plain": [
       "<Result 'L:\\\\NaturalResources\\\\Wetlands\\\\Local Wetland Inventory\\\\WAPO\\\\EPA_2022_Tasks\\\\Task 1 WD Mapping\\\\GIS\\\\ArcGIS Pro Project\\\\DataReview\\\\example_data_7_11_23.gdb'>"
      ]
     },
     "execution_count": 6,
     "metadata": {},
     "output_type": "execute_result"
    }
   ],
   "source": [
    "arcpy.management.CreateFileGDB(outfolder, f\"{fgdb_nm}.gdb\")"
   ]
  },
  {
   "cell_type": "code",
   "execution_count": 7,
   "id": "f1bb8cd5",
   "metadata": {},
   "outputs": [],
   "source": [
    "arcpy.env.workspace = outfolder + f'\\\\{fgdb_nm}.gdb'"
   ]
  },
  {
   "cell_type": "code",
   "execution_count": 8,
   "id": "5fa5d786",
   "metadata": {},
   "outputs": [],
   "source": [
    "infc = f'{folder}\\\\output\\\\test\\\\{fgdb_nm}.shp'"
   ]
  },
  {
   "cell_type": "code",
   "execution_count": 9,
   "id": "a9b8e875",
   "metadata": {},
   "outputs": [],
   "source": [
    "fieldList = arcpy.ListFields(infc)"
   ]
  },
  {
   "cell_type": "code",
   "execution_count": 10,
   "id": "e3ca8016",
   "metadata": {},
   "outputs": [],
   "source": [
    "oldfnms = ['wdID', 'loc_desc', 'doc_name', 'doc_link', 'isbatfile', 'status_nm', 'receiveddt', 'responsedt', 'reissuance']"
   ]
  },
  {
   "cell_type": "code",
   "execution_count": 11,
   "id": "40b2e36b",
   "metadata": {},
   "outputs": [],
   "source": [
    "newfnms = ['wetdet_delin_number', 'address_location_desc', 'DocumentName', 'DecisionLink', 'is_batch_file',\n",
    "          'status_name', 'received_date', 'response_date', 'reissuance_response_date']"
   ]
  },
  {
   "cell_type": "code",
   "execution_count": 12,
   "id": "c3fb53d1",
   "metadata": {},
   "outputs": [
    {
     "data": {
      "text/plain": [
       "['FID',\n",
       " 'Shape',\n",
       " 'wdID',\n",
       " 'trsqq',\n",
       " 'parcel_id',\n",
       " 'loc_desc',\n",
       " 'city',\n",
       " 'county',\n",
       " 'site_name',\n",
       " 'site_desc',\n",
       " 'latitude',\n",
       " 'longitude',\n",
       " 'doc_name',\n",
       " 'doc_link',\n",
       " 'isbatfile',\n",
       " 'status_nm',\n",
       " 'receiveddt',\n",
       " 'responsedt',\n",
       " 'reissuance',\n",
       " 'project_id',\n",
       " 'site_id',\n",
       " 'SetID',\n",
       " 'record_ID',\n",
       " 'ORMapNum',\n",
       " 'code',\n",
       " 'lat',\n",
       " 'lon']"
      ]
     },
     "execution_count": 12,
     "metadata": {},
     "output_type": "execute_result"
    }
   ],
   "source": [
    "[field.name for field in fieldList]"
   ]
  },
  {
   "cell_type": "code",
   "execution_count": 13,
   "id": "3b4a4136",
   "metadata": {},
   "outputs": [
    {
     "data": {
      "text/html": [
       "<div class='gpresult'><h2>Messages</h2><div id='messages' data-messages='[\"Start Time: Tuesday, July 11, 2023 12:56:24 PM\",\"Succeeded at Tuesday, July 11, 2023 12:56:26 PM (Elapsed Time: 2.25 seconds)\"]' data-show='true'><div id = 'default' /></div></div>"
      ],
      "text/plain": [
       "<Result 'L:\\\\NaturalResources\\\\Wetlands\\\\Local Wetland Inventory\\\\WAPO\\\\EPA_2022_Tasks\\\\Task 1 WD Mapping\\\\GIS\\\\ArcGIS Pro Project\\\\DataReview\\\\example_data_7_11_23.gdb\\\\example_data_7_11_23'>"
      ]
     },
     "execution_count": 13,
     "metadata": {},
     "output_type": "execute_result"
    }
   ],
   "source": [
    "arcpy.management.CopyFeatures(infc, f\"{fgdb_nm}\")"
   ]
  },
  {
   "cell_type": "code",
   "execution_count": 14,
   "id": "e71f29d4",
   "metadata": {},
   "outputs": [],
   "source": [
    "for oldfnm in oldfnms:\n",
    "    ind = oldfnms.index(oldfnm)\n",
    "    arcpy.management.AlterField(f\"{fgdb_nm}\", oldfnm, newfnms[ind], newfnms[ind])"
   ]
  }
 ],
 "metadata": {
  "kernelspec": {
   "display_name": "Python 3 (ipykernel)",
   "language": "python",
   "name": "python3"
  },
  "language_info": {
   "codemirror_mode": {
    "name": "ipython",
    "version": 3
   },
   "file_extension": ".py",
   "mimetype": "text/x-python",
   "name": "python",
   "nbconvert_exporter": "python",
   "pygments_lexer": "ipython3",
   "version": "3.9.16"
  }
 },
 "nbformat": 4,
 "nbformat_minor": 5
}
