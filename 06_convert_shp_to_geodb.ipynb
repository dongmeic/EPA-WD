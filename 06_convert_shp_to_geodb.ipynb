{
 "cells": [
  {
   "cell_type": "code",
   "execution_count": 1,
   "id": "fe0e2a46",
   "metadata": {},
   "outputs": [],
   "source": [
    "import arcpy"
   ]
  },
  {
   "cell_type": "code",
   "execution_count": 2,
   "id": "88a00f72",
   "metadata": {},
   "outputs": [],
   "source": [
    "arcpy.env.overwriteOutput = True"
   ]
  },
  {
   "cell_type": "code",
   "execution_count": 3,
   "id": "58366ade",
   "metadata": {},
   "outputs": [],
   "source": [
    "folder = r'L:\\NaturalResources\\Wetlands\\Local Wetland Inventory\\WAPO\\EPA_2022_Tasks\\Task 1 WD Mapping'"
   ]
  },
  {
   "cell_type": "code",
   "execution_count": 4,
   "id": "43193acd",
   "metadata": {},
   "outputs": [],
   "source": [
    "outfolder = fr'{folder}\\GIS\\ArcGIS Pro Project\\DataReview'"
   ]
  },
  {
   "cell_type": "code",
   "execution_count": 5,
   "id": "d742baba",
   "metadata": {},
   "outputs": [],
   "source": [
    "fgdb_nm = 'Morrow'"
   ]
  },
  {
   "cell_type": "code",
   "execution_count": 6,
   "id": "b68bc3b3",
   "metadata": {},
   "outputs": [
    {
     "data": {
      "text/html": [
       "<div class='gpresult'><h2>Messages</h2><div id='messages' data-messages='[\"Start Time: Monday, July 10, 2023 11:41:17 AM\",\"Succeeded at Monday, July 10, 2023 11:41:23 AM (Elapsed Time: 6.13 seconds)\"]' data-show='true'><div id = 'default' /></div></div>"
      ],
      "text/plain": [
       "<Result 'L:\\\\NaturalResources\\\\Wetlands\\\\Local Wetland Inventory\\\\WAPO\\\\EPA_2022_Tasks\\\\Task 1 WD Mapping\\\\GIS\\\\ArcGIS Pro Project\\\\DataReview\\\\Morrow.gdb'>"
      ]
     },
     "execution_count": 6,
     "metadata": {},
     "output_type": "execute_result"
    }
   ],
   "source": [
    "arcpy.management.CreateFileGDB(outfolder, f\"{fgdb_nm}.gdb\")"
   ]
  },
  {
   "cell_type": "code",
   "execution_count": 7,
   "id": "827adf73",
   "metadata": {},
   "outputs": [],
   "source": [
    "arcpy.env.workspace = outfolder + f'\\\\{fgdb_nm}.gdb'"
   ]
  },
  {
   "cell_type": "code",
   "execution_count": 8,
   "id": "8a96292e",
   "metadata": {},
   "outputs": [],
   "source": [
    "infc = f'{folder}\\\\output\\\\test\\\\{fgdb_nm}.shp'"
   ]
  },
  {
   "cell_type": "code",
   "execution_count": 9,
   "id": "8aa94dc2",
   "metadata": {},
   "outputs": [],
   "source": [
    "fieldList = arcpy.ListFields(infc)"
   ]
  },
  {
   "cell_type": "code",
   "execution_count": 10,
   "id": "e732307a",
   "metadata": {},
   "outputs": [],
   "source": [
    "oldfnms = ['wdID', 'loc_desc', 'doc_name', 'doc_link', 'isbatfile', 'status_nm', 'receiveddt', 'responsedt', 'reissuance']"
   ]
  },
  {
   "cell_type": "code",
   "execution_count": 11,
   "id": "1ee4cbaf",
   "metadata": {},
   "outputs": [],
   "source": [
    "newfnms = ['wetdet_delin_number', 'address_location_desc', 'DocumentName', 'DecisionLink', 'is_batch_file',\n",
    "          'status_name', 'received_date', 'response_date', 'reissuance_response_date']"
   ]
  },
  {
   "cell_type": "code",
   "execution_count": 12,
   "id": "df885edd",
   "metadata": {},
   "outputs": [
    {
     "data": {
      "text/plain": [
       "['FID',\n",
       " 'Shape',\n",
       " 'wdID',\n",
       " 'trsqq',\n",
       " 'parcel_id',\n",
       " 'loc_desc',\n",
       " 'city',\n",
       " 'county',\n",
       " 'site_name',\n",
       " 'site_desc',\n",
       " 'latitude',\n",
       " 'longitude',\n",
       " 'doc_name',\n",
       " 'doc_link',\n",
       " 'isbatfile',\n",
       " 'status_nm',\n",
       " 'receiveddt',\n",
       " 'responsedt',\n",
       " 'reissuance',\n",
       " 'project_id',\n",
       " 'site_id',\n",
       " 'SetID',\n",
       " 'record_ID',\n",
       " 'ORMapNum',\n",
       " 'code',\n",
       " 'lat',\n",
       " 'lon']"
      ]
     },
     "execution_count": 12,
     "metadata": {},
     "output_type": "execute_result"
    }
   ],
   "source": [
    "[field.name for field in fieldList]"
   ]
  },
  {
   "cell_type": "code",
   "execution_count": 13,
   "id": "b86d659a",
   "metadata": {},
   "outputs": [
    {
     "data": {
      "text/html": [
       "<div class='gpresult'><h2>Messages</h2><div id='messages' data-messages='[\"Start Time: Monday, July 10, 2023 11:41:26 AM\",\"Succeeded at Monday, July 10, 2023 11:41:32 AM (Elapsed Time: 5.91 seconds)\"]' data-show='true'><div id = 'default' /></div></div>"
      ],
      "text/plain": [
       "<Result 'L:\\\\NaturalResources\\\\Wetlands\\\\Local Wetland Inventory\\\\WAPO\\\\EPA_2022_Tasks\\\\Task 1 WD Mapping\\\\GIS\\\\ArcGIS Pro Project\\\\DataReview\\\\Morrow.gdb\\\\Morrow'>"
      ]
     },
     "execution_count": 13,
     "metadata": {},
     "output_type": "execute_result"
    }
   ],
   "source": [
    "arcpy.management.CopyFeatures(infc, f\"{fgdb_nm}\")"
   ]
  },
  {
   "cell_type": "code",
   "execution_count": 14,
   "id": "c978276c",
   "metadata": {},
   "outputs": [],
   "source": [
    "for oldfnm in oldfnms:\n",
    "    ind = oldfnms.index(oldfnm)\n",
    "    arcpy.management.AlterField(f\"{fgdb_nm}\", oldfnm, newfnms[ind], newfnms[ind])"
   ]
  }
 ],
 "metadata": {
  "kernelspec": {
   "display_name": "Python 3",
   "language": "python",
   "name": "python3"
  },
  "language_info": {
   "codemirror_mode": {
    "name": "ipython",
    "version": 3
   },
   "file_extension": ".py",
   "mimetype": "text/x-python",
   "name": "python",
   "nbconvert_exporter": "python",
   "pygments_lexer": "ipython3",
   "version": "3.9.11"
  }
 },
 "nbformat": 4,
 "nbformat_minor": 5
}
