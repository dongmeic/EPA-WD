{
 "cells": [
  {
   "cell_type": "code",
   "execution_count": 1,
   "id": "6b2412c1",
   "metadata": {},
   "outputs": [],
   "source": [
    "import arcpy"
   ]
  },
  {
   "cell_type": "code",
   "execution_count": 2,
   "id": "5576dc43",
   "metadata": {},
   "outputs": [],
   "source": [
    "arcpy.env.overwriteOutput = True"
   ]
  },
  {
   "cell_type": "code",
   "execution_count": 3,
   "id": "c1523a70",
   "metadata": {},
   "outputs": [],
   "source": [
    "folder = r'L:\\NaturalResources\\Wetlands\\Local Wetland Inventory\\WAPO\\EPA_2022_Tasks\\Task 1 WD Mapping'"
   ]
  },
  {
   "cell_type": "code",
   "execution_count": 4,
   "id": "8bc585ea",
   "metadata": {},
   "outputs": [],
   "source": [
    "inpath = r'C:\\Users\\clid1852\\Documents\\ArcGIS\\Projects\\EPA_WD\\EPA_WD.gdb'"
   ]
  },
  {
   "cell_type": "code",
   "execution_count": 5,
   "id": "2e4eba37",
   "metadata": {},
   "outputs": [],
   "source": [
    "outfolder = fr'{folder}\\GIS\\ORMAP_data\\ORMAP_Taxlot_Years'"
   ]
  },
  {
   "cell_type": "code",
   "execution_count": 6,
   "id": "eee9f6a6",
   "metadata": {},
   "outputs": [],
   "source": [
    "import pandas as pd"
   ]
  },
  {
   "cell_type": "code",
   "execution_count": 7,
   "id": "24a23710",
   "metadata": {},
   "outputs": [],
   "source": [
    "cnt_ID = pd.read_excel(folder+'\\\\notes\\\\CNT_Code.xlsx')\n",
    "cnt_dict = dict(zip(cnt_ID.ID, cnt_ID.COUNTY))"
   ]
  },
  {
   "cell_type": "code",
   "execution_count": 14,
   "id": "e972ed0e",
   "metadata": {},
   "outputs": [],
   "source": [
    "#year = 2017 #2011, 2012, 2014, 2015, 2016, 2017"
   ]
  },
  {
   "cell_type": "code",
   "execution_count": 9,
   "id": "7fa6039b",
   "metadata": {},
   "outputs": [],
   "source": [
    "fields = [f.name for f in arcpy.ListFields(fc)]"
   ]
  },
  {
   "cell_type": "code",
   "execution_count": 19,
   "id": "7c1cc8e5",
   "metadata": {},
   "outputs": [
    {
     "name": "stdout",
     "output_type": "stream",
     "text": [
      "2023\n",
      "Baker\n",
      "Benton\n",
      "Clackamas\n",
      "Clatsop\n",
      "Columbia\n",
      "Coos\n",
      "Crook\n",
      "Curry\n",
      "Deschutes\n",
      "Gilliam\n",
      "Grant\n",
      "Harney\n",
      "Hood River\n",
      "Jackson\n",
      "Jefferson\n",
      "Josephine\n",
      "Klamath\n",
      "Lake\n",
      "Lane\n",
      "Lincoln\n",
      "Linn\n",
      "Marion\n",
      "Morrow\n",
      "Multnomah\n",
      "Polk\n",
      "Tillamook\n",
      "Umatilla\n",
      "Union\n",
      "Wasco\n",
      "Wheeler\n",
      "Yamhill\n"
     ]
    }
   ],
   "source": [
    "for year in range(2016, 2024):\n",
    "    print(year)\n",
    "    fc = outfolder + f'\\\\Taxlots{year}.gdb\\\\Taxlots' #Taxlots{year}\n",
    "    out_location = outfolder + f'\\\\Taxlots{year}.gdb'\n",
    "    counties = list(set(row[0] for row in arcpy.da.SearchCursor(fc, \"County\")))\n",
    "    for county in counties:\n",
    "        if county != 0:\n",
    "            cntname = cnt_dict[int(county)]\n",
    "            print(cntname) \n",
    "            lyr=arcpy.management.MakeFeatureLayer(fc, cntname, f\"County={county}\")\n",
    "            arcpy.conversion.FeatureClassToGeodatabase(lyr, out_location)  "
   ]
  },
  {
   "cell_type": "code",
   "execution_count": 28,
   "id": "0760e330",
   "metadata": {},
   "outputs": [
    {
     "name": "stdout",
     "output_type": "stream",
     "text": [
      "Wheeler\n",
      "Marion\n",
      "Hood River\n",
      "Josephine\n",
      "Klamath\n",
      "Baker\n",
      "Crook\n",
      "Polk\n",
      "Union\n",
      "Gilliam\n",
      "Sherman\n",
      "Tillamook\n",
      "Yamhill\n",
      "Jefferson\n",
      "Benton\n",
      "Morrow\n",
      "Columbia\n"
     ]
    }
   ],
   "source": [
    "year = 2009\n",
    "fc = outfolder + f'\\\\Taxlots{year}.gdb\\\\Taxlots{year}'\n",
    "counties = set(row[0] for row in arcpy.da.SearchCursor(fc, \"County\"))\n",
    "out_location = outfolder + f'\\\\Taxlots{year}.gdb'\n",
    "for county in counties:\n",
    "    print(county)\n",
    "    lyr=arcpy.management.MakeFeatureLayer(fc, county, f\"County='{county}'\")\n",
    "    arcpy.conversion.FeatureClassToGeodatabase(lyr, out_location)"
   ]
  },
  {
   "cell_type": "code",
   "execution_count": 9,
   "id": "dcd4d118",
   "metadata": {},
   "outputs": [
    {
     "name": "stdout",
     "output_type": "stream",
     "text": [
      "1996\n",
      "Clackamas\n",
      "Multnomah\n",
      "Washington\n",
      "1997\n",
      "Clackamas\n",
      "Multnomah\n",
      "Washington\n",
      "1998\n",
      "Clackamas\n",
      "Multnomah\n",
      "Washington\n",
      "1999\n",
      "Clackamas\n",
      "Multnomah\n",
      "Washington\n",
      "2000\n",
      "Clackamas\n",
      "Multnomah\n",
      "Washington\n",
      "2001\n",
      "Clackamas\n",
      "Multnomah\n",
      "Washington\n",
      "2002\n",
      "Clackamas\n",
      "Multnomah\n",
      "Washington\n",
      "2003\n",
      "Clackamas\n",
      "Multnomah\n",
      "Washington\n",
      "2004\n",
      "Clackamas\n",
      "Multnomah\n",
      "Washington\n",
      "2005\n",
      "Clackamas\n",
      "Multnomah\n",
      "Washington\n",
      "2006\n",
      "Clackamas\n",
      "Multnomah\n",
      "Washington\n",
      "2007\n",
      "Clackamas\n",
      "Multnomah\n",
      "Washington\n",
      "2008\n",
      "Clackamas\n",
      "Multnomah\n",
      "Washington\n"
     ]
    }
   ],
   "source": [
    "counties = ['Clackamas', 'Multnomah', 'Washington']\n",
    "for year in range(1996, 2009):\n",
    "    print(year)\n",
    "    #fc = fr'{inpath}\\Taxlots{year}'\n",
    "    fc = fr'{folder}\\GIS\\ORMAP_data\\Metro\\Taxlots{year}\\Taxlots{year}.shp'\n",
    "    fgdb_nm = f'Taxlots{year}'\n",
    "    out_location = outfolder + f'\\\\{fgdb_nm}.gdb'\n",
    "    arcpy.management.CreateFileGDB(outfolder, f\"{fgdb_nm}.gdb\")\n",
    "    for county in counties:\n",
    "        print(county)\n",
    "        lyr=arcpy.management.MakeFeatureLayer(fc, county, f\"COUNTY='{county[0]}'\")\n",
    "        arcpy.conversion.FeatureClassToGeodatabase(lyr, out_location)"
   ]
  },
  {
   "cell_type": "code",
   "execution_count": 5,
   "id": "e07afbe3",
   "metadata": {},
   "outputs": [],
   "source": [
    "years = [2009, 2011, 2012, 2014, 2015]"
   ]
  },
  {
   "cell_type": "code",
   "execution_count": 12,
   "id": "253c31be",
   "metadata": {},
   "outputs": [],
   "source": [
    "for year in years:\n",
    "    fgdb_nm = f'Taxlots{year}'\n",
    "    arcpy.management.CreateFileGDB(outfolder, f\"{fgdb_nm}.gdb\")"
   ]
  },
  {
   "cell_type": "code",
   "execution_count": 7,
   "id": "155f7330",
   "metadata": {},
   "outputs": [],
   "source": [
    "for year in [2012]:\n",
    "    fgdb_nm = f'Taxlots{year}'\n",
    "    arcpy.env.workspace = outfolder + f'\\\\{fgdb_nm}.gdb'\n",
    "    infc = fr'{folder}\\GIS\\ORMAP_data\\2009_2015\\OR{fgdb_nm}.shp'\n",
    "    arcpy.management.CopyFeatures(infc, f\"{fgdb_nm}\")"
   ]
  },
  {
   "cell_type": "code",
   "execution_count": 4,
   "id": "f1c5cd70",
   "metadata": {},
   "outputs": [],
   "source": [
    "outfolder = fr'{folder}\\GIS\\ArcGIS Pro Project\\DataReview'"
   ]
  },
  {
   "cell_type": "code",
   "execution_count": 10,
   "id": "ea7882e7",
   "metadata": {},
   "outputs": [],
   "source": [
    "#fgdb_nm = 'example_data_7_11_23'\n",
    "fgdb_nm = 'Lane_County_WD'"
   ]
  },
  {
   "cell_type": "code",
   "execution_count": 11,
   "id": "e85e9984",
   "metadata": {},
   "outputs": [
    {
     "data": {
      "text/html": [
       "<div class='gpresult'><h2>Messages</h2><div id='messages' data-messages='[\"Start Time: Monday, October 30, 2023 9:36:34 AM\",\"Succeeded at Monday, October 30, 2023 9:36:35 AM (Elapsed Time: 1.03 seconds)\"]' data-show='true'><div id = 'default' /></div></div>"
      ],
      "text/plain": [
       "<Result 'L:\\\\NaturalResources\\\\Wetlands\\\\Local Wetland Inventory\\\\WAPO\\\\EPA_2022_Tasks\\\\Task 1 WD Mapping\\\\GIS\\\\ORMAP_data\\\\ORMAP_Taxlot_Years\\\\Lane_County_WD.gdb'>"
      ]
     },
     "execution_count": 11,
     "metadata": {},
     "output_type": "execute_result"
    }
   ],
   "source": [
    "arcpy.management.CreateFileGDB(outfolder, f\"{fgdb_nm}.gdb\")"
   ]
  },
  {
   "cell_type": "code",
   "execution_count": 12,
   "id": "f1bb8cd5",
   "metadata": {},
   "outputs": [],
   "source": [
    "arcpy.env.workspace = outfolder + f'\\\\{fgdb_nm}.gdb'"
   ]
  },
  {
   "cell_type": "code",
   "execution_count": 13,
   "id": "5fa5d786",
   "metadata": {},
   "outputs": [],
   "source": [
    "#infc = f'{folder}\\\\output\\\\test\\\\{fgdb_nm}.shp'\n",
    "infc = fr'{folder}\\output\\final\\Lane_County_WD.shp'"
   ]
  },
  {
   "cell_type": "code",
   "execution_count": 14,
   "id": "a9b8e875",
   "metadata": {},
   "outputs": [],
   "source": [
    "fieldList = arcpy.ListFields(infc)"
   ]
  },
  {
   "cell_type": "code",
   "execution_count": 15,
   "id": "e3ca8016",
   "metadata": {},
   "outputs": [],
   "source": [
    "oldfnms = ['wdID', 'loc_desc', 'doc_name', 'doc_link', 'isbatfile', 'status_nm', 'receiveddt', 'responsedt', 'reissuance']"
   ]
  },
  {
   "cell_type": "code",
   "execution_count": 16,
   "id": "40b2e36b",
   "metadata": {},
   "outputs": [],
   "source": [
    "newfnms = ['wetdet_delin_number', 'address_location_desc', 'DocumentName', 'DecisionLink', 'is_batch_file',\n",
    "          'status_name', 'received_date', 'response_date', 'reissuance_response_date']"
   ]
  },
  {
   "cell_type": "code",
   "execution_count": 17,
   "id": "c3fb53d1",
   "metadata": {},
   "outputs": [
    {
     "data": {
      "text/plain": [
       "['FID',\n",
       " 'Shape',\n",
       " 'wdID',\n",
       " 'trsqq',\n",
       " 'loc_desc',\n",
       " 'city',\n",
       " 'county',\n",
       " 'site_name',\n",
       " 'site_desc',\n",
       " 'latitude',\n",
       " 'longitude',\n",
       " 'doc_name',\n",
       " 'doc_link',\n",
       " 'isbatfile',\n",
       " 'status_nm',\n",
       " 'receiveddt',\n",
       " 'responsedt',\n",
       " 'reissuance',\n",
       " 'project_id',\n",
       " 'ORMapNum',\n",
       " 'record_ID',\n",
       " 'parcel_id',\n",
       " 'site_id',\n",
       " 'lat',\n",
       " 'lon',\n",
       " 'code',\n",
       " 'match']"
      ]
     },
     "execution_count": 17,
     "metadata": {},
     "output_type": "execute_result"
    }
   ],
   "source": [
    "[field.name for field in fieldList]"
   ]
  },
  {
   "cell_type": "code",
   "execution_count": 18,
   "id": "3b4a4136",
   "metadata": {},
   "outputs": [
    {
     "data": {
      "text/html": [
       "<div class='gpresult'><h2>Messages</h2><div id='messages' data-messages='[\"Start Time: Monday, October 30, 2023 9:37:08 AM\",\"Succeeded at Monday, October 30, 2023 9:37:10 AM (Elapsed Time: 2.06 seconds)\"]' data-show='true'><div id = 'default' /></div></div>"
      ],
      "text/plain": [
       "<Result 'L:\\\\NaturalResources\\\\Wetlands\\\\Local Wetland Inventory\\\\WAPO\\\\EPA_2022_Tasks\\\\Task 1 WD Mapping\\\\GIS\\\\ORMAP_data\\\\ORMAP_Taxlot_Years\\\\Lane_County_WD.gdb\\\\Lane_County_WD'>"
      ]
     },
     "execution_count": 18,
     "metadata": {},
     "output_type": "execute_result"
    }
   ],
   "source": [
    "arcpy.management.CopyFeatures(infc, f\"{fgdb_nm}\")"
   ]
  },
  {
   "cell_type": "code",
   "execution_count": 19,
   "id": "e71f29d4",
   "metadata": {},
   "outputs": [],
   "source": [
    "for oldfnm in oldfnms:\n",
    "    ind = oldfnms.index(oldfnm)\n",
    "    arcpy.management.AlterField(f\"{fgdb_nm}\", oldfnm, newfnms[ind], newfnms[ind])"
   ]
  }
 ],
 "metadata": {
  "kernelspec": {
   "display_name": "Python 3 (ipykernel)",
   "language": "python",
   "name": "python3"
  },
  "language_info": {
   "codemirror_mode": {
    "name": "ipython",
    "version": 3
   },
   "file_extension": ".py",
   "mimetype": "text/x-python",
   "name": "python",
   "nbconvert_exporter": "python",
   "pygments_lexer": "ipython3",
   "version": "3.9.16"
  }
 },
 "nbformat": 4,
 "nbformat_minor": 5
}
