{
 "cells": [
  {
   "cell_type": "code",
   "execution_count": 1,
   "id": "f0e39328",
   "metadata": {},
   "outputs": [],
   "source": [
    "%load_ext autoreload\n",
    "%autoreload 2"
   ]
  },
  {
   "cell_type": "code",
   "execution_count": 2,
   "id": "a7c7d806",
   "metadata": {},
   "outputs": [],
   "source": [
    "from wdtools import *"
   ]
  },
  {
   "cell_type": "code",
   "execution_count": 3,
   "id": "59b1583a",
   "metadata": {},
   "outputs": [],
   "source": [
    "setID = 'Set005'; nm_to_add = 3932"
   ]
  },
  {
   "cell_type": "code",
   "execution_count": 4,
   "id": "db038a1c",
   "metadata": {},
   "outputs": [],
   "source": [
    "wd = combine_wd_tables(setID=setID, nm_to_add=nm_to_add)"
   ]
  },
  {
   "cell_type": "code",
   "execution_count": 5,
   "id": "60a4861b",
   "metadata": {},
   "outputs": [],
   "source": [
    "matched = gpd.read_file(os.path.join(inpath + '\\\\output\\\\matched\\\\', f'matched_records_{setID}_edited.shp'))"
   ]
  },
  {
   "cell_type": "code",
   "execution_count": 7,
   "id": "e2685714",
   "metadata": {},
   "outputs": [],
   "source": [
    "unmatched = pd.read_csv(os.path.join(inpath + '\\\\output\\\\to_review\\\\', f'unmatched_df_{setID}_2.csv'))"
   ]
  },
  {
   "cell_type": "code",
   "execution_count": 8,
   "id": "80ecd408",
   "metadata": {
    "scrolled": true
   },
   "outputs": [
    {
     "data": {
      "text/plain": [
       "Index(['wdID', 'trsqq', 'parcel_id', 'notes', 'lots', 'lot', 'ORTaxlot',\n",
       "       'record_ID', 'geometry'],\n",
       "      dtype='object')"
      ]
     },
     "execution_count": 8,
     "metadata": {},
     "output_type": "execute_result"
    }
   ],
   "source": [
    "matched.columns"
   ]
  },
  {
   "cell_type": "code",
   "execution_count": 9,
   "id": "65464575",
   "metadata": {},
   "outputs": [
    {
     "data": {
      "text/plain": [
       "10"
      ]
     },
     "execution_count": 9,
     "metadata": {},
     "output_type": "execute_result"
    }
   ],
   "source": [
    "# unmatched records based on wdID\n",
    "unmatchedIDs = wd[~wd.wetdet_delin_number.isin(matched.wdID.unique())].wetdet_delin_number.unique()\n",
    "len(unmatchedIDs)"
   ]
  },
  {
   "cell_type": "code",
   "execution_count": 10,
   "id": "5c211925",
   "metadata": {},
   "outputs": [
    {
     "data": {
      "text/plain": [
       "13"
      ]
     },
     "execution_count": 10,
     "metadata": {},
     "output_type": "execute_result"
    }
   ],
   "source": [
    "# unmatched records based record IDs\n",
    "unmatchedwdIDs = unmatched.wetdet_delin_number.unique()\n",
    "len(unmatchedwdIDs)"
   ]
  },
  {
   "cell_type": "code",
   "execution_count": 11,
   "id": "f83618a4",
   "metadata": {},
   "outputs": [
    {
     "data": {
      "text/plain": [
       "(57, 25)"
      ]
     },
     "execution_count": 11,
     "metadata": {},
     "output_type": "execute_result"
    }
   ],
   "source": [
    "unmatched.shape"
   ]
  },
  {
   "cell_type": "code",
   "execution_count": 12,
   "id": "f07948d5",
   "metadata": {},
   "outputs": [
    {
     "data": {
      "text/plain": [
       "True"
      ]
     },
     "execution_count": 12,
     "metadata": {},
     "output_type": "execute_result"
    }
   ],
   "source": [
    "all([wdID in unmatchedwdIDs for wdID in unmatchedIDs])"
   ]
  },
  {
   "cell_type": "code",
   "execution_count": 13,
   "id": "7014ad07",
   "metadata": {
    "scrolled": true
   },
   "outputs": [
    {
     "name": "stdout",
     "output_type": "stream",
     "text": [
      "0.0% digitized, 13 records remained, expected to be done in about 10 hours...\n",
      "WD2017-0229\n",
      "index = 1\n",
      "      county     trsqq                   parcel_id   latitude   longitude  \\\n",
      "0      Union  02S35E00  Many tax maps and tax lots  45.831088 -119.623309   \n",
      "1      Union  03S37E00  Many tax maps and tax lots  45.831088 -119.623309   \n",
      "2      Union  03S36E00  Many tax maps and tax lots  45.831088 -119.623309   \n",
      "3      Union  02S37E00  Many tax maps and tax lots  45.831088 -119.623309   \n",
      "4      Union  02S36E00  Many tax maps and tax lots  45.831088 -119.623309   \n",
      "5      Union  05S39E00  Many tax maps and tax lots  45.831088 -119.623309   \n",
      "6   Umatilla  01S34E00  Many tax maps and tax lots  45.831088 -119.623309   \n",
      "7      Union  03S38E00  Many tax maps and tax lots  45.831088 -119.623309   \n",
      "8   Umatilla  01S36E00  Many tax maps and tax lots  45.831088 -119.623309   \n",
      "9   Umatilla  02S33E00  Many tax maps and tax lots  45.831088 -119.623309   \n",
      "10  Umatilla  01S32E00  Many tax maps and tax lots  45.831088 -119.623309   \n",
      "11  Umatilla  02S32E00  Many tax maps and tax lots  45.831088 -119.623309   \n",
      "12  Umatilla  02S31E00  Many tax maps and tax lots  45.831088 -119.623309   \n",
      "13  Umatilla  02S30E00  Many tax maps and tax lots  45.831088 -119.623309   \n",
      "14  Umatilla  01S35E00  Many tax maps and tax lots  45.831088 -119.623309   \n",
      "15     Union  01S35E00  Many tax maps and tax lots  45.831088 -119.623309   \n",
      "16  Umatilla  01N29E00  Many tax maps and tax lots  45.831088 -119.623309   \n",
      "17     Union  04S38E00  Many tax maps and tax lots  45.831088 -119.623309   \n",
      "18     Union  06S39E00  Many tax maps and tax lots  45.831088 -119.623309   \n",
      "\n",
      "    record_ID          notes missinglot  \n",
      "0        3972  Partial, Many          Y  \n",
      "1        3978  Partial, Many          Y  \n",
      "2        3977  Partial, Many          Y  \n",
      "3        3976  Partial, Many          Y  \n",
      "4        3975  Partial, Many          Y  \n",
      "5        3974  Partial, Many          Y  \n",
      "6        3973  Partial, Many          Y  \n",
      "7        3981  Partial, Many          Y  \n",
      "8        3971  Partial, Many          Y  \n",
      "9        3970  Partial, Many          Y  \n",
      "10       3969  Partial, Many          Y  \n",
      "11       3968  Partial, Many          Y  \n",
      "12       3967  Partial, Many          Y  \n",
      "13       3966  Partial, Many          Y  \n",
      "14       3965  Partial, Many          Y  \n",
      "15       3964  Partial, Many          Y  \n",
      "16       3963  Partial, Many          Y  \n",
      "17       3979  Partial, Many          Y  \n",
      "18       3980  Partial, Many          Y  \n",
      "Press 'p' to pause or any key to stop...P\n",
      "Press 'a' to add the wd record or 'c' to continue...C\n",
      "7.7% digitized, 12 records remained, expected to be done in about 10 hours...\n",
      "WD2017-0246\n",
      "index = 20\n",
      "   county       trsqq parcel_id   latitude  longitude  record_ID notes  \\\n",
      "19   Polk  08S04W21CA      MANY  44.855198 -123.19441       3989  Many   \n",
      "20   Polk    08S04W20      MANY  44.855198 -123.19441       3990  Many   \n",
      "21   Polk  08S04W21CC      MANY  44.855198 -123.19441       3991  Many   \n",
      "22   Polk  08S04W21DB      MANY  44.855198 -123.19441       3988  Many   \n",
      "23   Polk  08S04W29AA      MANY  44.855198 -123.19441       3987  Many   \n",
      "24   Polk   08S04W29A      MANY  44.855198 -123.19441       3986  Many   \n",
      "25   Polk   08S04W20C      MANY  44.855198 -123.19441       3985  Many   \n",
      "26   Polk  08S04W20CD      MANY  44.855198 -123.19441       3984  Many   \n",
      "27   Polk    08S04W17      MANY  44.855198 -123.19441       3983  Many   \n",
      "\n",
      "   missinglot  \n",
      "19          Y  \n",
      "20          Y  \n",
      "21          Y  \n",
      "22          Y  \n",
      "23          Y  \n",
      "24          Y  \n",
      "25          Y  \n",
      "26          Y  \n",
      "27          Y  \n",
      "Press 'p' to pause or any key to stop...p\n",
      "Press 'a' to add the wd record or 'c' to continue...c\n",
      "15.4% digitized, 11 records remained, expected to be done in about 9 hours...\n",
      "WD2021-0216\n",
      "index = 29\n",
      "Decision link is not available\n",
      "      county      trsqq parcel_id   latitude   longitude  record_ID notes  \\\n",
      "28  Umatilla   06N38E20      MANY  46.000176 -118.114133       4277  Many   \n",
      "29  Umatilla  06N38E19A      MANY  46.000176 -118.114133       4276  Many   \n",
      "30  Umatilla  06N38E18D      MANY  46.000176 -118.114133       4275  Many   \n",
      "31  Umatilla  06N38E18C      MANY  46.000176 -118.114133       4274  Many   \n",
      "32  Umatilla  06N38E00C      MANY  46.000176 -118.114133       4273  Many   \n",
      "33  Umatilla   06N38E21      MANY  46.000176 -118.114133       4280  Many   \n",
      "34  Umatilla  06N38E20A      MANY  46.000176 -118.114133       4278  Many   \n",
      "35  Umatilla  06N38E20B      MANY  46.000176 -118.114133       4279  Many   \n",
      "\n",
      "   missinglot  \n",
      "28          Y  \n",
      "29          Y  \n",
      "30          Y  \n",
      "31          Y  \n",
      "32          Y  \n",
      "33          Y  \n",
      "34          Y  \n",
      "35          Y  \n",
      "Press 'p' to pause or any key to stop...p\n",
      "Press 'a' to add the wd record or 'c' to continue...c\n",
      "23.1% digitized, 10 records remained, expected to be done in about 8 hours...\n",
      "WD2020-0012\n",
      "index = 37\n",
      "   county     trsqq                     parcel_id   latitude   longitude  \\\n",
      "36  Union  02S38E35                          1100  45.334287 -118.046058   \n",
      "37  Union  03S38E03  200,300,3400,1600,1400,1300,  45.334287 -118.046058   \n",
      "38  Union  03S38E03  1100,1000,700,800,3100,3200,  45.334287 -118.046058   \n",
      "39  Union  03S38E03                          2108  45.334287 -118.046058   \n",
      "\n",
      "    record_ID notes missinglot  \n",
      "36       4188   NaN          N  \n",
      "37       4189   NaN          N  \n",
      "38       4190   NaN          N  \n",
      "39       4191   NaN          N  \n",
      "Press 'p' to pause or any key to stop...p\n",
      "Press 'a' to add the wd record or 'c' to continue...c\n",
      "30.8% digitized, 9 records remained, expected to be done in about 7 hours...\n",
      "WD2019-0562\n",
      "index = 41\n",
      "      county       trsqq parcel_id  latitude   longitude  record_ID notes  \\\n",
      "40  Umatilla  05N28E22BB       ROW  45.90464 -119.307395       4159   ROW   \n",
      "41  Umatilla    05N28E22       ROW  45.90464 -119.307395       4158   ROW   \n",
      "42  Umatilla    05N28E21       ROW  45.90464 -119.307395       4157   ROW   \n",
      "\n",
      "   missinglot  \n",
      "40          Y  \n",
      "41          Y  \n",
      "42          Y  \n",
      "Press 'p' to pause or any key to stop...p\n",
      "Press 'a' to add the wd record or 'c' to continue...c\n",
      "38.5% digitized, 8 records remained, expected to be done in about 6 hours...\n",
      "WD2019-0597\n",
      "index = 44\n",
      "      county       trsqq parcel_id  latitude   longitude  record_ID notes  \\\n",
      "43  Umatilla    05N28E21       ROW  45.90954 -119.307518       4163   ROW   \n",
      "44  Umatilla  05N28E15BC       ROW  45.90954 -119.307518       4164   ROW   \n",
      "45  Umatilla    05N28E00       ROW  45.90954 -119.307518       4165   ROW   \n",
      "\n",
      "   missinglot  \n",
      "43          Y  \n",
      "44          Y  \n",
      "45          Y  \n",
      "Press 'p' to pause or any key to stop...p\n",
      "Press 'a' to add the wd record or 'c' to continue...c\n",
      "46.2% digitized, 7 records remained, expected to be done in about 6 hours...\n",
      "WD2021-0621\n",
      "index = 47\n",
      "      county       trsqq parcel_id   latitude   longitude  record_ID notes  \\\n",
      "46  Umatilla  05N28E16DA       ROW  45.915615 -119.307588       4317   ROW   \n",
      "47  Umatilla  05N28E15CB       ROW  45.911887 -119.307425       4318   ROW   \n",
      "48  Umatilla    05N28E22      ROWs  45.904621 -119.307467       4319   ROW   \n",
      "\n",
      "   missinglot  \n",
      "46          Y  \n",
      "47          Y  \n",
      "48          Y  \n",
      "Press 'p' to pause or any key to stop...p\n",
      "Press 'a' to add the wd record or 'c' to continue...c\n",
      "53.8% digitized, 6 records remained, expected to be done in about 5 hours...\n",
      "WD2017-0074\n",
      "index = 50\n",
      "      county     trsqq parcel_id   latitude   longitude  record_ID notes  \\\n",
      "49  Umatilla  02N32E05       ROW  45.673019 -118.811465       3938   ROW   \n",
      "50  Umatilla  02N32E09       ROW  45.673019 -118.811465       3939   ROW   \n",
      "\n",
      "   missinglot  \n",
      "49          Y  \n",
      "50          Y  \n",
      "Press 'p' to pause or any key to stop...p\n",
      "Press 'a' to add the wd record or 'c' to continue...c\n",
      "61.5% digitized, 5 records remained, expected to be done in about 4 hours...\n",
      "WD2021-0472\n",
      "index = 52\n",
      "      county     trsqq parcel_id   latitude   longitude  record_ID notes  \\\n",
      "51  Umatilla  02N35E04       ROW  45.685334 -118.454608       4299   ROW   \n",
      "52  Umatilla  02N35E00       ROW  45.685334 -118.454608       4300   ROW   \n",
      "\n",
      "   missinglot  \n",
      "51          Y  \n",
      "52          Y  \n",
      "Press 'p' to pause or any key to stop...p\n",
      "Press 'a' to add the wd record or 'c' to continue...c\n",
      "69.2% digitized, 4 records remained, expected to be done in about 3 hours...\n",
      "WD2019-0470\n",
      "index = 54\n",
      "      county     trsqq parcel_id   latitude   longitude  record_ID notes  \\\n",
      "53  Umatilla  05N28E22       ROW  45.904588 -119.307404       4148   ROW   \n",
      "\n",
      "   missinglot  \n",
      "53          Y  \n"
     ]
    },
    {
     "name": "stdout",
     "output_type": "stream",
     "text": [
      "Press 'p' to pause or any key to stop...p\n",
      "Press 'a' to add the wd record or 'c' to continue...c\n",
      "76.9% digitized, 3 records remained, expected to be done in about 2 hours...\n",
      "WD2021-0410\n",
      "index = 55\n",
      "      county    trsqq  parcel_id   latitude   longitude  record_ID    notes  \\\n",
      "54  Umatilla  4N29E0A  200p,300p  45.849426 -119.239912       4291  Partial   \n",
      "\n",
      "   missinglot  \n",
      "54          N  \n",
      "Press 'p' to pause or any key to stop...p\n",
      "Press 'a' to add the wd record or 'c' to continue...c\n",
      "84.6% digitized, 2 records remained, expected to be done in about 2 hours...\n",
      "WD2022-0211\n",
      "index = 56\n",
      "Decision link is not available\n",
      "   county     trsqq parcel_id  latitude  longitude  record_ID notes missinglot\n",
      "55   Polk  08S04W29     13500       NaN        NaN       4346   NaN          N\n",
      "Press 'p' to pause or any key to stop...p\n",
      "Press 'a' to add the wd record or 'c' to continue...c\n",
      "92.3% digitized, 1 records remained, expected to be done in about 1 hours...\n",
      "WD2020-0212\n",
      "index = 57\n",
      "Decision link is not available\n",
      "      county      trsqq parcel_id  latitude  longitude  record_ID notes  \\\n",
      "56  Umatilla  05N36E20A       ROW       NaN        NaN       4207   ROW   \n",
      "\n",
      "   missinglot  \n",
      "56          Y  \n",
      "Press 'p' to pause or any key to stop...p\n",
      "Press 'a' to add the wd record or 'c' to continue...c\n"
     ]
    }
   ],
   "source": [
    "review_loop_r1(df=unmatched, partial=True, idx=True)"
   ]
  },
  {
   "cell_type": "code",
   "execution_count": 14,
   "id": "d9adc1e9",
   "metadata": {},
   "outputs": [],
   "source": [
    "outpath = r'L:\\NaturalResources\\Wetlands\\Local Wetland Inventory\\WAPO\\EPA_2022_Tasks\\Task 1 WD Mapping\\output'\n",
    "partial = pd.read_csv(outpath + f'\\\\to_review\\\\partial_matched_{setID}.csv')"
   ]
  },
  {
   "cell_type": "code",
   "execution_count": 15,
   "id": "a819b47e",
   "metadata": {},
   "outputs": [
    {
     "data": {
      "text/plain": [
       "Index(['wetdet_delin_number', 'trsqq', 'parcel_id', 'address_location_desc',\n",
       "       'city', 'county', 'site_name', 'site_desc', 'latitude', 'longitude',\n",
       "       'Coord-Source', 'DocumentName', 'DecisionLink', 'is_batch_file',\n",
       "       'status_name', 'received_date', 'response_date',\n",
       "       'reissuance_response_date', 'project_id', 'site_id', 'record_ID',\n",
       "       'notes', 'recyear', 'IDyear', 'missinglot'],\n",
       "      dtype='object')"
      ]
     },
     "execution_count": 15,
     "metadata": {},
     "output_type": "execute_result"
    }
   ],
   "source": [
    "partial.columns"
   ]
  },
  {
   "cell_type": "code",
   "execution_count": 16,
   "id": "35384f5e",
   "metadata": {},
   "outputs": [
    {
     "data": {
      "text/plain": [
       "89"
      ]
     },
     "execution_count": 16,
     "metadata": {},
     "output_type": "execute_result"
    }
   ],
   "source": [
    "len(partial.wetdet_delin_number.unique())"
   ]
  },
  {
   "cell_type": "code",
   "execution_count": 17,
   "id": "d5b7e3f4",
   "metadata": {},
   "outputs": [],
   "source": [
    "IDstoCheck = [wdID for wdID in partial.wetdet_delin_number.unique() if wdID not in unmatchedwdIDs]"
   ]
  },
  {
   "cell_type": "code",
   "execution_count": 18,
   "id": "ae8c9c5a",
   "metadata": {},
   "outputs": [
    {
     "data": {
      "text/plain": [
       "87"
      ]
     },
     "execution_count": 18,
     "metadata": {},
     "output_type": "execute_result"
    }
   ],
   "source": [
    "len(IDstoCheck)"
   ]
  },
  {
   "cell_type": "code",
   "execution_count": 19,
   "id": "38ec20b9",
   "metadata": {},
   "outputs": [],
   "source": [
    "toCheck_df = partial[partial.wetdet_delin_number.isin(IDstoCheck)]"
   ]
  },
  {
   "cell_type": "code",
   "execution_count": 20,
   "id": "dd8dcb51",
   "metadata": {},
   "outputs": [],
   "source": [
    "toCheck_df.to_csv(outpath + f'\\\\to_review\\\\tomap_{setID}.csv', index=False)"
   ]
  },
  {
   "cell_type": "code",
   "execution_count": 7,
   "id": "880fe0de",
   "metadata": {},
   "outputs": [],
   "source": [
    "toCheck_df = pd.read_csv(outpath + f'\\\\to_review\\\\tomap_{setID}.csv')"
   ]
  },
  {
   "cell_type": "code",
   "execution_count": 22,
   "id": "6fa637e7",
   "metadata": {
    "scrolled": true
   },
   "outputs": [
    {
     "name": "stdout",
     "output_type": "stream",
     "text": [
      "98.9% digitized, 1 records remained, expected to be done in about 1 hours...\n",
      "WD2022-0710\n",
      "index = 226\n",
      "    county      trsqq   parcel_id  latitude  longitude  record_ID  \\\n",
      "225   Polk  08S04W28D  100p,WATER   44.8455  -123.1825       4369   \n",
      "\n",
      "              notes missinglot  \n",
      "225  Partial, Water          N  \n",
      "Press 'p' to pause or any key to stop...p\n",
      "Press 'a' to add the wd record or 'c' to continue...c\n"
     ]
    }
   ],
   "source": [
    "toadd = review_loop_r1(df=toCheck_df, partial=True, idx=True, wd_id='WD2022-0669') #, wd_id='WD2022-0669'"
   ]
  },
  {
   "cell_type": "code",
   "execution_count": 10,
   "id": "c8a98883",
   "metadata": {},
   "outputs": [],
   "source": [
    "tocheckIDs = ['WD2017-0266']"
   ]
  },
  {
   "cell_type": "code",
   "execution_count": 11,
   "id": "684ded10",
   "metadata": {
    "scrolled": true
   },
   "outputs": [
    {
     "name": "stdout",
     "output_type": "stream",
     "text": [
      "0.0% digitized, 1 records remained, expected to be done in about 1 hours...\n",
      "WD2017-0266\n",
      "index = 1\n",
      "    county     trsqq parcel_id   latitude   longitude  record_ID notes  \\\n",
      "214   Linn  10S03W15   I-5 ROW  44.703675 -123.050415       3093   ROW   \n",
      "\n",
      "    missinglot  \n",
      "214          N  \n",
      "Press 'p' to pause or any key to stop...p\n",
      "Press 'a' to add the wd record or 'c' to continue...c\n"
     ]
    }
   ],
   "source": [
    "review_loop_r1(wdid_list=tocheckIDs, partial=True, idx=True, wddf=wd)"
   ]
  }
 ],
 "metadata": {
  "kernelspec": {
   "display_name": "Python 3",
   "language": "python",
   "name": "python3"
  },
  "language_info": {
   "codemirror_mode": {
    "name": "ipython",
    "version": 3
   },
   "file_extension": ".py",
   "mimetype": "text/x-python",
   "name": "python",
   "nbconvert_exporter": "python",
   "pygments_lexer": "ipython3",
   "version": "3.8.8"
  }
 },
 "nbformat": 4,
 "nbformat_minor": 5
}
