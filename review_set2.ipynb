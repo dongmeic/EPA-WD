{
 "cells": [
  {
   "cell_type": "code",
   "execution_count": 1,
   "id": "1b5b3c88",
   "metadata": {},
   "outputs": [],
   "source": [
    "%load_ext autoreload\n",
    "%autoreload 2"
   ]
  },
  {
   "cell_type": "code",
   "execution_count": 2,
   "id": "ac8cd3aa",
   "metadata": {},
   "outputs": [],
   "source": [
    "from wdtools import *"
   ]
  },
  {
   "cell_type": "code",
   "execution_count": 7,
   "id": "f6821a09",
   "metadata": {},
   "outputs": [
    {
     "name": "stdout",
     "output_type": "stream",
     "text": [
      "it took 9.0 minutes to complete\n"
     ]
    }
   ],
   "source": [
    "# this will take about 9 to 12 minutes\n",
    "start = time.time()\n",
    "all_taxlot = combine_taxlot()\n",
    "end = time.time()\n",
    "print(f'it took {round((end - start)/60, 0)} minutes to complete')"
   ]
  },
  {
   "cell_type": "code",
   "execution_count": 3,
   "id": "aafa1065",
   "metadata": {},
   "outputs": [],
   "source": [
    "setID = 'Set002'; nm_to_add=1420"
   ]
  },
  {
   "cell_type": "code",
   "execution_count": 4,
   "id": "3464c533",
   "metadata": {},
   "outputs": [],
   "source": [
    "wd = combine_wd_tables(setID=setID, nm_to_add=nm_to_add)"
   ]
  },
  {
   "cell_type": "code",
   "execution_count": 5,
   "id": "8726148d",
   "metadata": {},
   "outputs": [
    {
     "data": {
      "text/plain": [
       "2143"
      ]
     },
     "execution_count": 5,
     "metadata": {},
     "output_type": "execute_result"
    }
   ],
   "source": [
    "nm_to_add+wd.shape[0]"
   ]
  },
  {
   "cell_type": "code",
   "execution_count": 6,
   "id": "54032195",
   "metadata": {},
   "outputs": [
    {
     "data": {
      "text/plain": [
       "(723, 25)"
      ]
     },
     "execution_count": 6,
     "metadata": {},
     "output_type": "execute_result"
    }
   ],
   "source": [
    "wd.shape"
   ]
  },
  {
   "cell_type": "code",
   "execution_count": 17,
   "id": "9ae73f45",
   "metadata": {
    "scrolled": true
   },
   "outputs": [],
   "source": [
    "df = combined_reindexed_data(setID=setID, nm_to_add=nm_to_add)"
   ]
  },
  {
   "cell_type": "code",
   "execution_count": 18,
   "id": "5e68e495",
   "metadata": {},
   "outputs": [
    {
     "name": "stdout",
     "output_type": "stream",
     "text": [
      "it took 2.0 minutes to complete\n"
     ]
    }
   ],
   "source": [
    "start = time.time()\n",
    "gdf = match_wd_data_with_taxlot(df=df, setID=setID, all_taxlot=all_taxlot, export=False)\n",
    "end = time.time()\n",
    "print(f'it took {round((end - start)/60, 0)} minutes to complete')"
   ]
  },
  {
   "cell_type": "code",
   "execution_count": 19,
   "id": "7bacf0fd",
   "metadata": {},
   "outputs": [
    {
     "name": "stdout",
     "output_type": "stream",
     "text": [
      "it is about 10.24% of data in the original 723 records unmatched\n",
      "there are 1 records (0.14% of the original records) without parcel id\n"
     ]
    }
   ],
   "source": [
    "unmatched_df = report_unmatched(gdf=gdf, setID=setID, nm_to_add=1420, mute = False)"
   ]
  },
  {
   "cell_type": "code",
   "execution_count": 20,
   "id": "05a09cf5",
   "metadata": {},
   "outputs": [],
   "source": [
    "unmatched_df.to_csv(os.path.join(inpath + '\\\\output\\\\to_review\\\\', f'unmatched_df_{setID}.csv'), index=False) "
   ]
  },
  {
   "cell_type": "code",
   "execution_count": 21,
   "id": "e28c1eae",
   "metadata": {},
   "outputs": [],
   "source": [
    "r1_df, r2_df = split_unmatched_df(unmatched_df, ml='N', setID=setID)"
   ]
  },
  {
   "cell_type": "code",
   "execution_count": 29,
   "id": "68fdb856",
   "metadata": {},
   "outputs": [
    {
     "data": {
      "text/plain": [
       "True"
      ]
     },
     "execution_count": 29,
     "metadata": {},
     "output_type": "execute_result"
    }
   ],
   "source": [
    "'WD2019-0544' in r2_df.wetdet_delin_number.unique()"
   ]
  },
  {
   "cell_type": "code",
   "execution_count": 13,
   "id": "617b75a1",
   "metadata": {},
   "outputs": [
    {
     "name": "stdout",
     "output_type": "stream",
     "text": [
      "reviewing WD2017-0498\n",
      "all lots are matched...\n",
      "corrected trsqq...\n",
      "reviewing WD2021-0013\n",
      "all lots are matched...\n",
      "corrected trsqq...\n",
      "reviewing WD2020-0620\n",
      "all lots are matched...\n",
      "corrected trsqq...\n",
      "reviewing WD2021-0285\n",
      "all lots are matched...\n",
      "corrected trsqq...\n",
      "reviewing WD2021-0651\n",
      "there is not any matched lot, need to review trsqq, the close-match is 03N27E\n",
      "lots to check: ['1702'], and lots to compare: ['106', '107', '1100', '1102', '1103', 'T00000100', 'T00000101', 'T00000104', 'T00000105', 'T00000106', 'T00000107', 'T00000108', 'T00000200', 'T00000300', 'T00000400', 'T00000700', 'T00000800', 'T00000900', 'T00001100', 'T00001101', 'T00001200', 'T00001204', 'T00001300', 'T00001400', 'T00001401', 'T00001700', 'T00001701', 'T00001702', 'ROADS', '100', '300', '301', '500', '600', '800', '900', '1000', '1200', '1300', '1400', '1500', '1600', '1700', '1800', '1900', '2000', '2100', '2200', '2300', '2400', '2500', '2600', '2700', '2800', '2900', '3000', '3100', '3200', '3300', '3400', '3500', '3600', '3700', '3800', '3900', '4000', '4200', '4201', '4300', '4400', '4500', '4600', '4700', '4701', '4702', '4703', '4704', '4705', '4800', '4900', '5000', '5100', '5200', '5300', '5400', '5401', '5500', '5600', '5700', '5800', '5900', '5901', '5902', '6000', '6200']\n",
      "reviewing WD2017-0290\n",
      "all lots are matched...\n",
      "corrected trsqq...\n",
      "reviewing WD2020-0584\n",
      "all lots are matched...\n",
      "corrected trsqq...\n",
      "reviewing WD2019-0511\n",
      "trsqq matched, checking county code...\n",
      "corrected county...\n",
      "reviewing WD2022-0066\n",
      "all lots are matched...\n",
      "corrected trsqq...\n",
      "reviewing WD2020-0383\n",
      "there is not any matched lot, need to review trsqq, the close-match is 03N27E\n",
      "lots to check: ['1702'], and lots to compare: ['106', '107', '1100', '1102', '1103', 'T00000100', 'T00000101', 'T00000104', 'T00000105', 'T00000106', 'T00000107', 'T00000108', 'T00000200', 'T00000300', 'T00000400', 'T00000700', 'T00000800', 'T00000900', 'T00001100', 'T00001101', 'T00001200', 'T00001204', 'T00001300', 'T00001400', 'T00001401', 'T00001700', 'T00001701', 'T00001702', 'ROADS', '100', '300', '301', '500', '600', '800', '900', '1000', '1200', '1300', '1400', '1500', '1600', '1700', '1800', '1900', '2000', '2100', '2200', '2300', '2400', '2500', '2600', '2700', '2800', '2900', '3000', '3100', '3200', '3300', '3400', '3500', '3600', '3700', '3800', '3900', '4000', '4200', '4201', '4300', '4400', '4500', '4600', '4700', '4701', '4702', '4703', '4704', '4705', '4800', '4900', '5000', '5100', '5200', '5300', '5400', '5401', '5500', '5600', '5700', '5800', '5900', '5901', '5902', '6000', '6200']\n",
      "reviewing WD2021-0521\n",
      "all lots are matched...\n",
      "corrected trsqq...\n",
      "reviewing WD2021-0252\n",
      "trsqq matched, checking county code...\n",
      "county code is corrected, need to check lot numbers...\n",
      "lot numbers might be wrong...\n",
      "reviewing WD2020-0229\n",
      "trsqq matched, checking county code...\n",
      "county code is corrected, need to check lot numbers...\n",
      "lot numbers might be wrong...\n",
      "reviewing WD2021-0670\n",
      "all lots are matched...\n",
      "corrected trsqq...\n",
      "reviewing WD2017-0418\n",
      "all lots are matched...\n",
      "corrected trsqq...\n",
      "reviewing WD2019-0375\n",
      "all lots are matched...\n",
      "corrected trsqq...\n",
      "reviewing WD2019-0299\n",
      "all lots are matched...\n",
      "corrected trsqq...\n",
      "reviewing WD2018-0326\n",
      "all lots are matched...\n",
      "corrected trsqq...\n",
      "reviewing WD2018-0584\n",
      "all lots are matched...\n",
      "corrected trsqq...\n",
      "reviewing WD2019-0544\n",
      "trsqq matched, checking county code...\n",
      "county code is corrected, need to check lot numbers...\n",
      "lot numbers might be wrong...\n",
      "reviewing WD2018-0158\n",
      "trsqq matched, checking county code...\n",
      "county code is corrected, need to check lot numbers...\n",
      "lot numbers might be wrong...\n",
      "reviewing WD2017-0001\n",
      "trsqq matched, checking county code...\n",
      "county code is corrected, need to check lot numbers...\n",
      "lot numbers might be wrong...\n",
      "reviewing WD2021-0582\n",
      "all lots are matched...\n",
      "corrected trsqq...\n",
      "reviewing WD2019-0300\n",
      "all lots are matched...\n",
      "corrected trsqq...\n",
      "reviewing WD2017-0275\n",
      "all lots are matched...\n",
      "corrected trsqq...\n",
      "reviewing WD2021-0616\n",
      "all lots are matched...\n",
      "corrected trsqq...\n",
      "reviewing WD2020-0582\n",
      "all lots are matched...\n",
      "corrected trsqq...\n",
      "reviewing WD2020-0677\n",
      "trsqq matched, checking county code...\n",
      "county code is corrected, need to check lot numbers...\n",
      "lot numbers might be wrong...\n",
      "it took 8.0 minutes to complete\n"
     ]
    }
   ],
   "source": [
    "# this might take a while (8 minutes)\n",
    "start = time.time()\n",
    "rev_r2 = review_unmatched_df_r2(df=r2_df, taxlot=all_taxlot, setID=setID, ml='N', export=True)\n",
    "end = time.time()\n",
    "print(f'it took {round((end - start)/60, 0)} minutes to complete')"
   ]
  },
  {
   "cell_type": "code",
   "execution_count": 17,
   "id": "42dc25c3",
   "metadata": {},
   "outputs": [
    {
     "name": "stdout",
     "output_type": "stream",
     "text": [
      "Decision link is not available\n"
     ]
    }
   ],
   "source": [
    "wdID = 'WD2021-0422'\n",
    "url = rev_r2.loc[rev_r2.wetdet_delin_number == wdID, 'DecisionLink'].values[0]\n",
    "if str(url) == 'nan':\n",
    "    print('Decision link is not available')\n",
    "else:\n",
    "    webbrowser.open(url)"
   ]
  },
  {
   "cell_type": "code",
   "execution_count": 18,
   "id": "beaba7ef",
   "metadata": {},
   "outputs": [
    {
     "data": {
      "text/html": [
       "<div>\n",
       "<style scoped>\n",
       "    .dataframe tbody tr th:only-of-type {\n",
       "        vertical-align: middle;\n",
       "    }\n",
       "\n",
       "    .dataframe tbody tr th {\n",
       "        vertical-align: top;\n",
       "    }\n",
       "\n",
       "    .dataframe thead th {\n",
       "        text-align: right;\n",
       "    }\n",
       "</style>\n",
       "<table border=\"1\" class=\"dataframe\">\n",
       "  <thead>\n",
       "    <tr style=\"text-align: right;\">\n",
       "      <th></th>\n",
       "      <th>correct_type</th>\n",
       "      <th>correction</th>\n",
       "      <th>cor_trsqq</th>\n",
       "    </tr>\n",
       "  </thead>\n",
       "  <tbody>\n",
       "    <tr>\n",
       "      <th>1144</th>\n",
       "      <td>QQ</td>\n",
       "      <td>from 00 to D0</td>\n",
       "      <td>39S20E04D0</td>\n",
       "    </tr>\n",
       "  </tbody>\n",
       "</table>\n",
       "</div>"
      ],
      "text/plain": [
       "     correct_type     correction   cor_trsqq\n",
       "1144           QQ  from 00 to D0  39S20E04D0"
      ]
     },
     "execution_count": 18,
     "metadata": {},
     "output_type": "execute_result"
    }
   ],
   "source": [
    "rev_r2.loc[rev_r2.wetdet_delin_number == wdID, ['correct_type', 'correction', 'cor_trsqq']]"
   ]
  },
  {
   "cell_type": "code",
   "execution_count": 20,
   "id": "0d25bdd2",
   "metadata": {},
   "outputs": [
    {
     "name": "stdout",
     "output_type": "stream",
     "text": [
      "Decision link is not available\n"
     ]
    },
    {
     "data": {
      "text/html": [
       "<div>\n",
       "<style scoped>\n",
       "    .dataframe tbody tr th:only-of-type {\n",
       "        vertical-align: middle;\n",
       "    }\n",
       "\n",
       "    .dataframe tbody tr th {\n",
       "        vertical-align: top;\n",
       "    }\n",
       "\n",
       "    .dataframe thead th {\n",
       "        text-align: right;\n",
       "    }\n",
       "</style>\n",
       "<table border=\"1\" class=\"dataframe\">\n",
       "  <thead>\n",
       "    <tr style=\"text-align: right;\">\n",
       "      <th></th>\n",
       "      <th>correct_type</th>\n",
       "      <th>correction</th>\n",
       "      <th>cor_trsqq</th>\n",
       "    </tr>\n",
       "  </thead>\n",
       "  <tbody>\n",
       "    <tr>\n",
       "      <th>1144</th>\n",
       "      <td>QQ</td>\n",
       "      <td>from 00 to D0</td>\n",
       "      <td>39S20E04D0</td>\n",
       "    </tr>\n",
       "  </tbody>\n",
       "</table>\n",
       "</div>"
      ],
      "text/plain": [
       "     correct_type     correction   cor_trsqq\n",
       "1144           QQ  from 00 to D0  39S20E04D0"
      ]
     },
     "execution_count": 20,
     "metadata": {},
     "output_type": "execute_result"
    }
   ],
   "source": [
    "check_review_notes_r2n(wdID = wdID, df = rev_r2)"
   ]
  },
  {
   "cell_type": "code",
   "execution_count": 16,
   "id": "9846b9cd",
   "metadata": {
    "scrolled": false
   },
   "outputs": [],
   "source": [
    "#review_loop(df=rev_r2)"
   ]
  },
  {
   "cell_type": "code",
   "execution_count": 16,
   "id": "aecdec86",
   "metadata": {
    "scrolled": true
   },
   "outputs": [
    {
     "data": {
      "text/plain": [
       "array(['WD2021-0250'], dtype=object)"
      ]
     },
     "execution_count": 16,
     "metadata": {},
     "output_type": "execute_result"
    }
   ],
   "source": [
    "r1_df.wetdet_delin_number.unique()"
   ]
  },
  {
   "cell_type": "code",
   "execution_count": 17,
   "id": "05419d2b",
   "metadata": {
    "scrolled": true
   },
   "outputs": [
    {
     "name": "stdout",
     "output_type": "stream",
     "text": [
      "WD2021-0250\n",
      "   county      trsqq            parcel_id   latitude   longitude  record_ID  \\\n",
      "56  Baker  08S37ED02  3000,3100,3500,3601  44.831504 -118.198506       1477   \n",
      "57  Baker  08S37ED05     101,300,400,2000  44.831727 -118.199277       1478   \n",
      "\n",
      "   notes  \n",
      "56        \n",
      "57        \n",
      "Press 'p' to pause or any other key to continue...c\n"
     ]
    }
   ],
   "source": [
    "review_loop_r1(df=r1_df)"
   ]
  },
  {
   "cell_type": "code",
   "execution_count": 18,
   "id": "01ad1265",
   "metadata": {},
   "outputs": [
    {
     "data": {
      "text/plain": [
       "'Set002'"
      ]
     },
     "execution_count": 18,
     "metadata": {},
     "output_type": "execute_result"
    }
   ],
   "source": [
    "setID"
   ]
  },
  {
   "cell_type": "code",
   "execution_count": 12,
   "id": "028a36b0",
   "metadata": {},
   "outputs": [],
   "source": [
    "cor_r2 = correct_unmatched(r2_df, setID, s='r2', ml='N', export=True)"
   ]
  },
  {
   "cell_type": "code",
   "execution_count": 13,
   "id": "cc8f8312",
   "metadata": {
    "scrolled": true
   },
   "outputs": [],
   "source": [
    "cor_r2_2 = update_unmatched_df_r2(r2_df, setID, ml='N', export=True)"
   ]
  },
  {
   "cell_type": "code",
   "execution_count": 14,
   "id": "325cf7e2",
   "metadata": {},
   "outputs": [],
   "source": [
    "rev_df = reindex_data(cor_r2_2)"
   ]
  },
  {
   "cell_type": "code",
   "execution_count": 15,
   "id": "3b6c9f47",
   "metadata": {},
   "outputs": [],
   "source": [
    "# make sure the matched data before update is correct\n",
    "matched = match_wd_data_with_taxlot(rev_df, setID, all_taxlot, export=True, update=True)"
   ]
  },
  {
   "cell_type": "code",
   "execution_count": 6,
   "id": "9769da83",
   "metadata": {},
   "outputs": [],
   "source": [
    "outpath = r'L:\\NaturalResources\\Wetlands\\Local Wetland Inventory\\WAPO\\EPA_2022_Tasks\\Task 1 WD Mapping\\output'\n",
    "matched = gpd.read_file(outpath + f'\\\\matched\\\\matched_records_{setID}.shp') #_edited"
   ]
  },
  {
   "cell_type": "code",
   "execution_count": 7,
   "id": "320ccaa4",
   "metadata": {},
   "outputs": [
    {
     "name": "stdout",
     "output_type": "stream",
     "text": [
      "it is about 7.75% of data in the original 723 records unmatched\n",
      "there are 1 records (0.14% of the original records) without parcel id\n"
     ]
    }
   ],
   "source": [
    "unmatched_df = report_unmatched(gdf=matched, setID=setID, nm_to_add=1420, mute = False)"
   ]
  },
  {
   "cell_type": "code",
   "execution_count": 17,
   "id": "2685beba",
   "metadata": {},
   "outputs": [],
   "source": [
    "missedID = [rID for rID in cor_r2_2.record_ID.values if rID not in matched.record_ID.values]"
   ]
  },
  {
   "cell_type": "code",
   "execution_count": 18,
   "id": "9aabc881",
   "metadata": {},
   "outputs": [
    {
     "data": {
      "text/plain": [
       "10"
      ]
     },
     "execution_count": 18,
     "metadata": {},
     "output_type": "execute_result"
    }
   ],
   "source": [
    "len(missedID)"
   ]
  },
  {
   "cell_type": "code",
   "execution_count": 19,
   "id": "17c11514",
   "metadata": {},
   "outputs": [],
   "source": [
    "matched_toReview = matched[matched.notes.notnull()] "
   ]
  },
  {
   "cell_type": "code",
   "execution_count": 20,
   "id": "7f0a7571",
   "metadata": {},
   "outputs": [
    {
     "data": {
      "text/plain": [
       "140"
      ]
     },
     "execution_count": 20,
     "metadata": {},
     "output_type": "execute_result"
    }
   ],
   "source": [
    "len(matched_toReview.wdID.unique())"
   ]
  },
  {
   "cell_type": "code",
   "execution_count": 21,
   "id": "9a2f9431",
   "metadata": {},
   "outputs": [],
   "source": [
    "wd_toReview = wd[wd.wetdet_delin_number.isin(matched_toReview.wdID.unique())]"
   ]
  },
  {
   "cell_type": "code",
   "execution_count": 22,
   "id": "0a923c19",
   "metadata": {},
   "outputs": [],
   "source": [
    "outpath = r'L:\\NaturalResources\\Wetlands\\Local Wetland Inventory\\WAPO\\EPA_2022_Tasks\\Task 1 WD Mapping\\output'"
   ]
  },
  {
   "cell_type": "code",
   "execution_count": 23,
   "id": "6cbe8e4a",
   "metadata": {},
   "outputs": [],
   "source": [
    "wd_toReview.to_csv(outpath + f'\\\\to_review\\\\partial_matched_{setID}.csv', index=False)"
   ]
  },
  {
   "cell_type": "code",
   "execution_count": 24,
   "id": "9ee1ab24",
   "metadata": {},
   "outputs": [
    {
     "data": {
      "text/plain": [
       "(56, 25)"
      ]
     },
     "execution_count": 24,
     "metadata": {},
     "output_type": "execute_result"
    }
   ],
   "source": [
    "unmatched_df.shape"
   ]
  },
  {
   "cell_type": "code",
   "execution_count": 25,
   "id": "fec68bd4",
   "metadata": {},
   "outputs": [
    {
     "data": {
      "text/plain": [
       "Index(['wetdet_delin_number', 'trsqq', 'parcel_id', 'address_location_desc',\n",
       "       'city', 'county', 'site_name', 'site_desc', 'latitude', 'longitude',\n",
       "       'Coord-Source', 'DocumentName', 'DecisionLink', 'is_batch_file',\n",
       "       'status_name', 'received_date', 'response_date',\n",
       "       'reissuance_response_date', 'project_id', 'site_id', 'record_ID',\n",
       "       'notes', 'recyear', 'IDyear', 'missinglot'],\n",
       "      dtype='object')"
      ]
     },
     "execution_count": 25,
     "metadata": {},
     "output_type": "execute_result"
    }
   ],
   "source": [
    "unmatched_df.columns"
   ]
  },
  {
   "cell_type": "code",
   "execution_count": 8,
   "id": "f4516a60",
   "metadata": {},
   "outputs": [],
   "source": [
    "unmatched_df.to_csv(os.path.join(inpath + '\\\\output\\\\to_review\\\\', f'unmatched_df_{setID}_2.csv'), index=False)"
   ]
  },
  {
   "cell_type": "code",
   "execution_count": 5,
   "id": "d7e2ef8f",
   "metadata": {},
   "outputs": [],
   "source": [
    "unmatched_df = pd.read_csv(os.path.join(inpath + '\\\\output\\\\to_review\\\\', f'unmatched_df_{setID}_2.csv'))"
   ]
  },
  {
   "cell_type": "code",
   "execution_count": 6,
   "id": "b5b2f1a2",
   "metadata": {},
   "outputs": [],
   "source": [
    "r1_t, r2_t = split_unmatched_df(unmatched_df, ml='Y', setID=setID)"
   ]
  },
  {
   "cell_type": "code",
   "execution_count": 8,
   "id": "36976563",
   "metadata": {},
   "outputs": [
    {
     "name": "stdout",
     "output_type": "stream",
     "text": [
      "reviewing WD2018-0670\n",
      "all lots are matched...\n",
      "corrected trsqq...\n",
      "reviewing WD2019-0041\n",
      "all lots are matched...\n",
      "corrected trsqq...\n",
      "reviewing WD2022-0210\n",
      "trsqq matched, checking county code...\n",
      "county code is corrected, need to check lot numbers...\n",
      "the record seems to be correct, need to review why it was not matched in match_wd_data_with_taxlot\n"
     ]
    }
   ],
   "source": [
    "rev_r2_y = review_unmatched_df_r2(df=r2_t, taxlot=all_taxlot, setID=setID, ml='Y', export=True)"
   ]
  },
  {
   "cell_type": "code",
   "execution_count": 30,
   "id": "3ceaba04",
   "metadata": {},
   "outputs": [
    {
     "data": {
      "text/html": [
       "<div>\n",
       "<style scoped>\n",
       "    .dataframe tbody tr th:only-of-type {\n",
       "        vertical-align: middle;\n",
       "    }\n",
       "\n",
       "    .dataframe tbody tr th {\n",
       "        vertical-align: top;\n",
       "    }\n",
       "\n",
       "    .dataframe thead th {\n",
       "        text-align: right;\n",
       "    }\n",
       "</style>\n",
       "<table border=\"1\" class=\"dataframe\">\n",
       "  <thead>\n",
       "    <tr style=\"text-align: right;\">\n",
       "      <th></th>\n",
       "      <th>Longitude</th>\n",
       "      <th>Latitude</th>\n",
       "      <th>geometry</th>\n",
       "    </tr>\n",
       "  </thead>\n",
       "  <tbody>\n",
       "    <tr>\n",
       "      <th>0</th>\n",
       "      <td>-122.353285</td>\n",
       "      <td>45.433245</td>\n",
       "      <td>POINT (836599.506 1347969.276)</td>\n",
       "    </tr>\n",
       "  </tbody>\n",
       "</table>\n",
       "</div>"
      ],
      "text/plain": [
       "    Longitude   Latitude                        geometry\n",
       "0 -122.353285  45.433245  POINT (836599.506 1347969.276)"
      ]
     },
     "execution_count": 30,
     "metadata": {},
     "output_type": "execute_result"
    }
   ],
   "source": [
    "get_point_from_lonlat(lon=-122.353285, lat=45.433245)"
   ]
  },
  {
   "cell_type": "code",
   "execution_count": 26,
   "id": "2527a081",
   "metadata": {},
   "outputs": [],
   "source": [
    "setgdf = gpd.read_file(os.path.join(inpath, 'GIS', 'Join_Statewide.gdb'), layer=f'WD_{setID}_Combined')"
   ]
  },
  {
   "cell_type": "code",
   "execution_count": 24,
   "id": "64948059",
   "metadata": {},
   "outputs": [],
   "source": [
    "toCheck_df = pd.read_csv(inpath + f'\\\\output\\\\to_review\\\\unmatched_df_{setID}_3.csv')"
   ]
  },
  {
   "cell_type": "code",
   "execution_count": 26,
   "id": "850a5c14",
   "metadata": {},
   "outputs": [
    {
     "data": {
      "text/plain": [
       "(8, 25)"
      ]
     },
     "execution_count": 26,
     "metadata": {},
     "output_type": "execute_result"
    }
   ],
   "source": [
    "toCheck_df.shape"
   ]
  },
  {
   "cell_type": "code",
   "execution_count": 27,
   "id": "fe1b5717",
   "metadata": {},
   "outputs": [
    {
     "name": "stdout",
     "output_type": "stream",
     "text": [
      "reviewing WD2021-0250\n",
      "there is not any matched lot, need to review trsqq, the close-match is 08S37E\n",
      "lots to check: ['3000', '3100', '3500', '3601'], and lots to compare: ['100', '101', '2200', '2300', '2400', 'ROADS', 'D00101000', 'D00101100', 'D00101200', 'D00101300', 'D00101400', 'D00101500', 'D00101600', 'D00101700', 'D00200102', 'D00202500', 'D00202600', 'D00202700', 'D00202800', 'D00202900', 'D00203000', 'D00203100', 'D00203200', 'D00203400', 'D00203500', 'D00203600', 'D00203601', 'D00203700', 'D00203800', 'ROADS', 'D00301800', 'D00301900', 'D00400200', 'D00400300', 'D00400900', 'D00500400', 'D00500500', 'D00500600', 'D00500700', 'D00500800', 'D00502000', 'D00502100', 'D00503900', 'D00503999']\n",
      "reviewing WD2021-0250\n",
      "some lots are not matched, need to review trsqq, the close-match is 08S37E\n",
      "lots to check: ['101', '2000', '300', '400'], and lots to compare: ['100', '101', '2200', '2300', '2400', 'ROADS', 'D00101000', 'D00101100', 'D00101200', 'D00101300', 'D00101400', 'D00101500', 'D00101600', 'D00101700', 'D00200102', 'D00202500', 'D00202600', 'D00202700', 'D00202800', 'D00202900', 'D00203000', 'D00203100', 'D00203200', 'D00203400', 'D00203500', 'D00203600', 'D00203601', 'D00203700', 'D00203800', 'ROADS', 'D00301800', 'D00301900', 'D00400200', 'D00400300', 'D00400900', 'D00500400', 'D00500500', 'D00500600', 'D00500700', 'D00500800', 'D00502000', 'D00502100', 'D00503900', 'D00503999']\n",
      "reviewing WD2019-0544\n",
      "trsqq matched, checking county code...\n",
      "county code is corrected, need to check lot numbers...\n",
      "lot numbers might be wrong...\n",
      "reviewing WD2020-0229\n",
      "trsqq matched, checking county code...\n",
      "county code is corrected, need to check lot numbers...\n",
      "lot numbers might be wrong...\n",
      "reviewing WD2020-0677\n",
      "trsqq matched, checking county code...\n",
      "county code is corrected, need to check lot numbers...\n",
      "lot numbers might be wrong...\n",
      "reviewing WD2021-0252\n",
      "trsqq matched, checking county code...\n",
      "county code is corrected, need to check lot numbers...\n",
      "lot numbers might be wrong...\n",
      "reviewing WD2021-0616\n",
      "all lots are matched...\n",
      "corrected trsqq...\n",
      "reviewing WD2017-0001\n",
      "trsqq matched, checking county code...\n",
      "county code is corrected, need to check lot numbers...\n",
      "lot numbers might be wrong...\n"
     ]
    }
   ],
   "source": [
    "rev_r2_3 = review_unmatched_df_r2(toCheck_df, all_taxlot, setID, ml='N', export=False)"
   ]
  }
 ],
 "metadata": {
  "kernelspec": {
   "display_name": "Python 3",
   "language": "python",
   "name": "python3"
  },
  "language_info": {
   "codemirror_mode": {
    "name": "ipython",
    "version": 3
   },
   "file_extension": ".py",
   "mimetype": "text/x-python",
   "name": "python",
   "nbconvert_exporter": "python",
   "pygments_lexer": "ipython3",
   "version": "3.8.8"
  }
 },
 "nbformat": 4,
 "nbformat_minor": 5
}
