{
 "cells": [
  {
   "cell_type": "code",
   "execution_count": 1,
   "id": "1b5b3c88",
   "metadata": {},
   "outputs": [],
   "source": [
    "%load_ext autoreload\n",
    "%autoreload 2"
   ]
  },
  {
   "cell_type": "code",
   "execution_count": 14,
   "id": "ac8cd3aa",
   "metadata": {},
   "outputs": [],
   "source": [
    "from wdtools import *"
   ]
  },
  {
   "cell_type": "code",
   "execution_count": 3,
   "id": "f6821a09",
   "metadata": {},
   "outputs": [
    {
     "name": "stdout",
     "output_type": "stream",
     "text": [
      "it took 9.0 minutes to complete\n"
     ]
    }
   ],
   "source": [
    "# this will take about 9 to 12 minutes\n",
    "start = time.time()\n",
    "all_taxlot = combine_taxlot()\n",
    "end = time.time()\n",
    "print(f'it took {round((end - start)/60, 0)} minutes to complete')"
   ]
  },
  {
   "cell_type": "code",
   "execution_count": 4,
   "id": "aafa1065",
   "metadata": {},
   "outputs": [],
   "source": [
    "setID = 'Set002'"
   ]
  },
  {
   "cell_type": "code",
   "execution_count": 5,
   "id": "3464c533",
   "metadata": {},
   "outputs": [],
   "source": [
    "wd = combine_wd_tables(setID=setID, nm_to_add=1420)"
   ]
  },
  {
   "cell_type": "code",
   "execution_count": 7,
   "id": "55fd21dd",
   "metadata": {},
   "outputs": [
    {
     "data": {
      "text/plain": [
       "(723, 25)"
      ]
     },
     "execution_count": 7,
     "metadata": {},
     "output_type": "execute_result"
    }
   ],
   "source": [
    "wd.shape"
   ]
  },
  {
   "cell_type": "code",
   "execution_count": 8,
   "id": "9ae73f45",
   "metadata": {
    "scrolled": true
   },
   "outputs": [],
   "source": [
    "df = combined_reindexed_data(setID=setID, nm_to_add=1420)"
   ]
  },
  {
   "cell_type": "code",
   "execution_count": 9,
   "id": "5e68e495",
   "metadata": {},
   "outputs": [],
   "source": [
    "start = time.time()\n",
    "gdf = match_wd_data_with_taxlot(df=df, setID=setID, all_taxlot=all_taxlot, export=True)\n",
    "end = time.time()\n",
    "print(f'it took {round((end - start)/60, 0)} minutes to complete')"
   ]
  },
  {
   "cell_type": "code",
   "execution_count": 10,
   "id": "7bacf0fd",
   "metadata": {},
   "outputs": [
    {
     "name": "stdout",
     "output_type": "stream",
     "text": [
      "it is about 10.24% of data in the original 723 records unmatched\n",
      "there are 1 records (0.14% of the original records) without parcel id\n"
     ]
    }
   ],
   "source": [
    "unmatched_df = report_unmatched(gdf=gdf, setID=setID, nm_to_add=1420, mute = False)"
   ]
  },
  {
   "cell_type": "code",
   "execution_count": 11,
   "id": "05a09cf5",
   "metadata": {},
   "outputs": [],
   "source": [
    "unmatched_df.to_csv(os.path.join(inpath + '\\\\output\\\\to_review\\\\', f'unmatched_df_{setID}.csv'), index=False) "
   ]
  },
  {
   "cell_type": "code",
   "execution_count": 12,
   "id": "e28c1eae",
   "metadata": {},
   "outputs": [],
   "source": [
    "r1_df, r2_df = split_unmatched_df(unmatched_df, ml='N', setID=setID)"
   ]
  },
  {
   "cell_type": "code",
   "execution_count": 13,
   "id": "617b75a1",
   "metadata": {},
   "outputs": [
    {
     "name": "stdout",
     "output_type": "stream",
     "text": [
      "reviewing WD2019-0544\n",
      "trsqq matched, checking county code...\n",
      "county code is corrected, need to check lot numbers...\n",
      "lot numbers might be wrong...\n",
      "reviewing WD2021-0582\n",
      "all lots are matched...\n",
      "corrected trsqq...\n",
      "reviewing WD2020-0383\n",
      "there is not any matched lot, need to review trsqq, the close-match is 03N27E\n",
      "lots to check: ['1702'], and lots to compare: ['106', '107', '1100', '1102', '1103', 'T00000100', 'T00000101', 'T00000104', 'T00000105', 'T00000106', 'T00000107', 'T00000108', 'T00000200', 'T00000300', 'T00000400', 'T00000700', 'T00000800', 'T00000900', 'T00001100', 'T00001101', 'T00001200', 'T00001204', 'T00001300', 'T00001400', 'T00001401', 'T00001700', 'T00001701', 'T00001702', 'ROADS', '100', '300', '301', '500', '600', '800', '900', '1000', '1200', '1300', '1400', '1500', '1600', '1700', '1800', '1900', '2000', '2100', '2200', '2300', '2400', '2500', '2600', '2700', '2800', '2900', '3000', '3100', '3200', '3300', '3400', '3500', '3600', '3700', '3800', '3900', '4000', '4200', '4201', '4300', '4400', '4500', '4600', '4700', '4701', '4702', '4703', '4704', '4705', '4800', '4900', '5000', '5100', '5200', '5300', '5400', '5401', '5500', '5600', '5700', '5800', '5900', '5901', '5902', '6000', '6200']\n",
      "reviewing WD2018-0584\n",
      "all lots are matched...\n",
      "corrected trsqq...\n",
      "reviewing WD2021-0651\n",
      "there is not any matched lot, need to review trsqq, the close-match is 03N27E\n",
      "lots to check: ['1702'], and lots to compare: ['106', '107', '1100', '1102', '1103', 'T00000100', 'T00000101', 'T00000104', 'T00000105', 'T00000106', 'T00000107', 'T00000108', 'T00000200', 'T00000300', 'T00000400', 'T00000700', 'T00000800', 'T00000900', 'T00001100', 'T00001101', 'T00001200', 'T00001204', 'T00001300', 'T00001400', 'T00001401', 'T00001700', 'T00001701', 'T00001702', 'ROADS', '100', '300', '301', '500', '600', '800', '900', '1000', '1200', '1300', '1400', '1500', '1600', '1700', '1800', '1900', '2000', '2100', '2200', '2300', '2400', '2500', '2600', '2700', '2800', '2900', '3000', '3100', '3200', '3300', '3400', '3500', '3600', '3700', '3800', '3900', '4000', '4200', '4201', '4300', '4400', '4500', '4600', '4700', '4701', '4702', '4703', '4704', '4705', '4800', '4900', '5000', '5100', '5200', '5300', '5400', '5401', '5500', '5600', '5700', '5800', '5900', '5901', '5902', '6000', '6200']\n",
      "reviewing WD2021-0670\n",
      "all lots are matched...\n",
      "corrected trsqq...\n",
      "reviewing WD2022-0066\n",
      "all lots are matched...\n",
      "corrected trsqq...\n",
      "reviewing WD2021-0521\n",
      "all lots are matched...\n",
      "corrected trsqq...\n",
      "reviewing WD2017-0275\n",
      "all lots are matched...\n",
      "corrected trsqq...\n",
      "reviewing WD2018-0158\n",
      "trsqq matched, checking county code...\n",
      "county code is corrected, need to check lot numbers...\n",
      "lot numbers might be wrong...\n",
      "reviewing WD2017-0001\n",
      "trsqq matched, checking county code...\n",
      "county code is corrected, need to check lot numbers...\n",
      "lot numbers might be wrong...\n",
      "reviewing WD2021-0285\n",
      "all lots are matched...\n",
      "corrected trsqq...\n",
      "reviewing WD2021-0013\n",
      "all lots are matched...\n",
      "corrected trsqq...\n",
      "reviewing WD2019-0299\n",
      "all lots are matched...\n",
      "corrected trsqq...\n",
      "reviewing WD2021-0616\n",
      "all lots are matched...\n",
      "corrected trsqq...\n",
      "reviewing WD2021-0252\n",
      "trsqq matched, checking county code...\n",
      "county code is corrected, need to check lot numbers...\n",
      "lot numbers might be wrong...\n",
      "reviewing WD2020-0620\n",
      "all lots are matched...\n",
      "corrected trsqq...\n",
      "reviewing WD2017-0418\n",
      "all lots are matched...\n",
      "corrected trsqq...\n",
      "reviewing WD2019-0300\n",
      "all lots are matched...\n",
      "corrected trsqq...\n",
      "reviewing WD2020-0584\n",
      "all lots are matched...\n",
      "corrected trsqq...\n",
      "reviewing WD2020-0229\n",
      "trsqq matched, checking county code...\n",
      "county code is corrected, need to check lot numbers...\n",
      "lot numbers might be wrong...\n",
      "reviewing WD2019-0375\n",
      "all lots are matched...\n",
      "corrected trsqq...\n",
      "reviewing WD2020-0677\n",
      "trsqq matched, checking county code...\n",
      "county code is corrected, need to check lot numbers...\n",
      "lot numbers might be wrong...\n",
      "reviewing WD2018-0326\n",
      "all lots are matched...\n",
      "corrected trsqq...\n",
      "reviewing WD2019-0511\n",
      "trsqq matched, checking county code...\n",
      "corrected county...\n",
      "reviewing WD2017-0498\n",
      "all lots are matched...\n",
      "corrected trsqq...\n",
      "reviewing WD2020-0582\n",
      "all lots are matched...\n",
      "corrected trsqq...\n",
      "reviewing WD2017-0290\n",
      "all lots are matched...\n",
      "corrected trsqq...\n",
      "it took 5.0 minutes to complete\n"
     ]
    }
   ],
   "source": [
    "# this might take a while (5 minutes)\n",
    "start = time.time()\n",
    "rev_r2 = review_unmatched_df_r2(df=r2_df, taxlot=all_taxlot, setID=setID, ml='N', export=True)\n",
    "end = time.time()\n",
    "print(f'it took {round((end - start)/60, 0)} minutes to complete')"
   ]
  },
  {
   "cell_type": "code",
   "execution_count": 17,
   "id": "42dc25c3",
   "metadata": {},
   "outputs": [
    {
     "name": "stdout",
     "output_type": "stream",
     "text": [
      "Decision link is not available\n"
     ]
    }
   ],
   "source": [
    "wdID = 'WD2021-0422'\n",
    "url = rev_r2.loc[rev_r2.wetdet_delin_number == wdID, 'DecisionLink'].values[0]\n",
    "if str(url) == 'nan':\n",
    "    print('Decision link is not available')\n",
    "else:\n",
    "    webbrowser.open(url)"
   ]
  },
  {
   "cell_type": "code",
   "execution_count": 18,
   "id": "beaba7ef",
   "metadata": {},
   "outputs": [
    {
     "data": {
      "text/html": [
       "<div>\n",
       "<style scoped>\n",
       "    .dataframe tbody tr th:only-of-type {\n",
       "        vertical-align: middle;\n",
       "    }\n",
       "\n",
       "    .dataframe tbody tr th {\n",
       "        vertical-align: top;\n",
       "    }\n",
       "\n",
       "    .dataframe thead th {\n",
       "        text-align: right;\n",
       "    }\n",
       "</style>\n",
       "<table border=\"1\" class=\"dataframe\">\n",
       "  <thead>\n",
       "    <tr style=\"text-align: right;\">\n",
       "      <th></th>\n",
       "      <th>correct_type</th>\n",
       "      <th>correction</th>\n",
       "      <th>cor_trsqq</th>\n",
       "    </tr>\n",
       "  </thead>\n",
       "  <tbody>\n",
       "    <tr>\n",
       "      <th>1144</th>\n",
       "      <td>QQ</td>\n",
       "      <td>from 00 to D0</td>\n",
       "      <td>39S20E04D0</td>\n",
       "    </tr>\n",
       "  </tbody>\n",
       "</table>\n",
       "</div>"
      ],
      "text/plain": [
       "     correct_type     correction   cor_trsqq\n",
       "1144           QQ  from 00 to D0  39S20E04D0"
      ]
     },
     "execution_count": 18,
     "metadata": {},
     "output_type": "execute_result"
    }
   ],
   "source": [
    "rev_r2.loc[rev_r2.wetdet_delin_number == wdID, ['correct_type', 'correction', 'cor_trsqq']]"
   ]
  },
  {
   "cell_type": "code",
   "execution_count": 20,
   "id": "0d25bdd2",
   "metadata": {},
   "outputs": [
    {
     "name": "stdout",
     "output_type": "stream",
     "text": [
      "Decision link is not available\n"
     ]
    },
    {
     "data": {
      "text/html": [
       "<div>\n",
       "<style scoped>\n",
       "    .dataframe tbody tr th:only-of-type {\n",
       "        vertical-align: middle;\n",
       "    }\n",
       "\n",
       "    .dataframe tbody tr th {\n",
       "        vertical-align: top;\n",
       "    }\n",
       "\n",
       "    .dataframe thead th {\n",
       "        text-align: right;\n",
       "    }\n",
       "</style>\n",
       "<table border=\"1\" class=\"dataframe\">\n",
       "  <thead>\n",
       "    <tr style=\"text-align: right;\">\n",
       "      <th></th>\n",
       "      <th>correct_type</th>\n",
       "      <th>correction</th>\n",
       "      <th>cor_trsqq</th>\n",
       "    </tr>\n",
       "  </thead>\n",
       "  <tbody>\n",
       "    <tr>\n",
       "      <th>1144</th>\n",
       "      <td>QQ</td>\n",
       "      <td>from 00 to D0</td>\n",
       "      <td>39S20E04D0</td>\n",
       "    </tr>\n",
       "  </tbody>\n",
       "</table>\n",
       "</div>"
      ],
      "text/plain": [
       "     correct_type     correction   cor_trsqq\n",
       "1144           QQ  from 00 to D0  39S20E04D0"
      ]
     },
     "execution_count": 20,
     "metadata": {},
     "output_type": "execute_result"
    }
   ],
   "source": [
    "check_review_notes_r2n(wdID = wdID, df = rev_r2)"
   ]
  },
  {
   "cell_type": "code",
   "execution_count": 15,
   "id": "9846b9cd",
   "metadata": {
    "scrolled": false
   },
   "outputs": [
    {
     "name": "stdout",
     "output_type": "stream",
     "text": [
      "WD2019-0544\n",
      "  correct_type                                         correction   cor_trsqq\n",
      "0   lot number  lot number ['4100'] might be incorrect, the ma...  12S06W12BB\n",
      "Press 'p' to pause or any other key to continue...c\n",
      "WD2021-0582\n",
      "Decision link is not available\n",
      "   correct_type     correction   cor_trsqq\n",
      "1  range number  from 23 to 24  04N24E0000\n",
      "Press 'p' to pause or any other key to continue...c\n",
      "WD2020-0383\n",
      "  correct_type                                         correction   cor_trsqq\n",
      "2    to review  there is not any matched lot, need to review t...  03N27E0000\n",
      "Press 'p' to pause or any other key to continue...c\n",
      "WD2018-0584\n",
      "   correct_type     correction   cor_trsqq\n",
      "3  range number  from 03 to 05  02S05E2000\n",
      "Press 'p' to pause or any other key to continue...c\n",
      "WD2021-0651\n",
      "  correct_type                                         correction   cor_trsqq\n",
      "4    to review  there is not any matched lot, need to review t...  03N27E0000\n",
      "Press 'p' to pause or any other key to continue...c\n",
      "WD2021-0670\n",
      "Decision link is not available\n",
      "     correct_type     correction   cor_trsqq\n",
      "5  section number  from 15 to 00  07S45E0000\n",
      "Press 'p' to pause or any other key to continue...c\n",
      "WD2022-0066\n",
      "     correct_type     correction   cor_trsqq\n",
      "6  section number  from 24 to 00  04N25E0000\n",
      "Press 'p' to pause or any other key to continue...c\n",
      "WD2021-0521\n",
      "Decision link is not available\n",
      "      correct_type   correction   cor_trsqq\n",
      "7  range direction  from W to E  02S01E13DD\n",
      "Press 'p' to pause or any other key to continue...c\n",
      "WD2017-0275\n",
      "     correct_type     correction   cor_trsqq\n",
      "8  section number  from 17 to 00  03N24E0000\n",
      "Press 'p' to pause or any other key to continue...c\n",
      "WD2018-0158\n",
      "  correct_type                                         correction cor_trsqq\n",
      "9   lot number  lot number ['100', '105', '106'] might be inco...    02N24E\n",
      "Press 'p' to pause or any other key to continue...c\n",
      "WD2017-0001\n",
      "   correct_type                                         correction cor_trsqq\n",
      "10   lot number  lot number ['110'] might be incorrect, the mat...    04N23E\n",
      "Press 'p' to pause or any other key to continue...c\n",
      "WD2021-0285\n",
      "          correct_type   correction   cor_trsqq\n",
      "11  township direction  from N to S  03S01W12D0\n",
      "Press 'p' to pause or any other key to continue...c\n",
      "WD2021-0013\n",
      "Decision link is not available\n",
      "             correct_type                   correction   cor_trsqq\n",
      "12  section number and QQ  from 33 and DD to 00 and 00  07S39E0000\n",
      "Press 'p' to pause or any other key to continue...c\n",
      "WD2019-0299\n",
      "   correct_type     correction   cor_trsqq\n",
      "13           QQ  from C0 to CB  01S02E28CB\n",
      "Press 'p' to pause or any other key to continue...c\n",
      "WD2021-0616\n",
      "                              correct_type                 correction  \\\n",
      "14  township direction and range direction  from S and Q to VS and VE   \n",
      "\n",
      "       cor_trsqq  \n",
      "14  03VS08VE14DC  \n",
      "Press 'p' to pause or any other key to continue...c\n",
      "WD2021-0252\n",
      "   correct_type                                         correction   cor_trsqq\n",
      "15   lot number  lot number ['15600', '15800'] might be incorre...  02S01E08BC\n",
      "Press 'p' to pause or any other key to continue...c\n",
      "WD2020-0620\n",
      "Decision link is not available\n",
      "      correct_type     correction   cor_trsqq\n",
      "16  section number  from 10 to 00  10S37E0000\n",
      "Press 'p' to pause or any other key to continue...c\n",
      "WD2017-0418\n",
      "   correct_type     correction   cor_trsqq\n",
      "17           QQ  from B0 to 00  03S04E1700\n",
      "Press 'p' to pause or any other key to continue...c\n",
      "WD2019-0300\n",
      "   correct_type     correction   cor_trsqq\n",
      "18           QQ  from BC to BD  01N01E22BD\n",
      "Press 'p' to pause or any other key to continue...c\n",
      "WD2020-0584\n",
      "          correct_type   correction   cor_trsqq\n",
      "19  township direction  from N to S  14S05W28CD\n",
      "Press 'p' to pause or any other key to continue...c\n",
      "WD2020-0229\n",
      "   correct_type                                         correction  cor_trsqq\n",
      "20   lot number  lot number ['2001'] might be incorrect, the ma...  01S04E31D\n",
      "Press 'p' to pause or any other key to continue...c\n",
      "WD2019-0375\n",
      "Decision link is not available\n",
      "   correct_type     correction   cor_trsqq\n",
      "21           QQ  from 00 to B0  10S37E10B0\n",
      "Press 'p' to pause or any other key to continue...c\n",
      "WD2020-0677\n",
      "   correct_type                                         correction   cor_trsqq\n",
      "22   lot number  lot number ['9600'] might be incorrect, the ma...  02S02E08DC\n",
      "Press 'p' to pause or any other key to continue...c\n",
      "WD2018-0326\n",
      "      correct_type     correction   cor_trsqq\n",
      "23  section number  from 33 to 00  01N25E0000\n",
      "Press 'p' to pause or any other key to continue...c\n",
      "WD2019-0511\n",
      "   correct_type               correction cor_trsqq\n",
      "24       county  from Benton to ['Polk']       NaN\n",
      "Press 'p' to pause or any other key to continue...c\n",
      "WD2017-0498\n",
      "          correct_type   correction   cor_trsqq\n",
      "25  township direction  from N to S  02S03E06AA\n",
      "Press 'p' to pause or any other key to continue...c\n",
      "WD2020-0582\n",
      "Decision link is not available\n",
      "      correct_type     correction   cor_trsqq\n",
      "26  section number  from 36 to 00  13S36E0000\n",
      "Press 'p' to pause or any other key to continue...c\n",
      "WD2017-0290\n",
      "   correct_type     correction   cor_trsqq\n",
      "27           QQ  from 00 to DA  02S26E27DA\n",
      "Press 'p' to pause or any other key to continue...c\n"
     ]
    }
   ],
   "source": [
    "review_loop(df=rev_r2)"
   ]
  },
  {
   "cell_type": "code",
   "execution_count": 16,
   "id": "aecdec86",
   "metadata": {
    "scrolled": true
   },
   "outputs": [
    {
     "data": {
      "text/plain": [
       "array(['WD2021-0250'], dtype=object)"
      ]
     },
     "execution_count": 16,
     "metadata": {},
     "output_type": "execute_result"
    }
   ],
   "source": [
    "r1_df.wetdet_delin_number.unique()"
   ]
  },
  {
   "cell_type": "code",
   "execution_count": 17,
   "id": "05419d2b",
   "metadata": {
    "scrolled": true
   },
   "outputs": [
    {
     "name": "stdout",
     "output_type": "stream",
     "text": [
      "WD2021-0250\n",
      "   county      trsqq            parcel_id   latitude   longitude  record_ID  \\\n",
      "56  Baker  08S37ED02  3000,3100,3500,3601  44.831504 -118.198506       1477   \n",
      "57  Baker  08S37ED05     101,300,400,2000  44.831727 -118.199277       1478   \n",
      "\n",
      "   notes  \n",
      "56        \n",
      "57        \n",
      "Press 'p' to pause or any other key to continue...c\n"
     ]
    }
   ],
   "source": [
    "review_loop_r1(df=r1_df)"
   ]
  },
  {
   "cell_type": "code",
   "execution_count": 40,
   "id": "01ad1265",
   "metadata": {},
   "outputs": [
    {
     "data": {
      "text/plain": [
       "'Set001'"
      ]
     },
     "execution_count": 40,
     "metadata": {},
     "output_type": "execute_result"
    }
   ],
   "source": [
    "setID"
   ]
  },
  {
   "cell_type": "code",
   "execution_count": 43,
   "id": "028a36b0",
   "metadata": {},
   "outputs": [],
   "source": [
    "cor_r2 = correct_unmatched(r2_df, setID, s='r2', ml='N', export=True)"
   ]
  },
  {
   "cell_type": "code",
   "execution_count": 67,
   "id": "cc8f8312",
   "metadata": {
    "scrolled": true
   },
   "outputs": [],
   "source": [
    "cor_r2_2 = update_unmatched_df_r2(r2_df, setID, ml='N', export=True)"
   ]
  },
  {
   "cell_type": "code",
   "execution_count": 68,
   "id": "325cf7e2",
   "metadata": {},
   "outputs": [],
   "source": [
    "rev_df = reindex_data(cor_r2_2)"
   ]
  },
  {
   "cell_type": "code",
   "execution_count": 69,
   "id": "3b6c9f47",
   "metadata": {},
   "outputs": [],
   "source": [
    "# make sure the matched data before update is correct\n",
    "matched = match_wd_data_with_taxlot(rev_df, setID, all_taxlot, export=True, update=True)"
   ]
  },
  {
   "cell_type": "code",
   "execution_count": null,
   "id": "681c7dae",
   "metadata": {},
   "outputs": [],
   "source": [
    "res1 = check_corrected_data(df=df1, setID=setID, all_taxlot=all_taxlot, export=False)"
   ]
  },
  {
   "cell_type": "code",
   "execution_count": null,
   "id": "2bc62440",
   "metadata": {},
   "outputs": [],
   "source": [
    "setID = 'Set002'"
   ]
  },
  {
   "cell_type": "code",
   "execution_count": null,
   "id": "9f241384",
   "metadata": {},
   "outputs": [],
   "source": [
    "wd2 = combine_wd_tables(setID='Set002', nm_to_add=1420)"
   ]
  },
  {
   "cell_type": "code",
   "execution_count": null,
   "id": "41daff06",
   "metadata": {},
   "outputs": [],
   "source": [
    "df2 = combined_reindexed_data(setID='Set002', nm_to_add=1420) "
   ]
  },
  {
   "cell_type": "code",
   "execution_count": null,
   "id": "fe5e059f",
   "metadata": {},
   "outputs": [],
   "source": [
    "gdf2 = match_wd_data_with_taxlot(df=df2, setID='Set002', all_taxlot=all_taxlot, nm_to_add=1420, export=False)\n",
    "res2 = check_corrected_data(df=df2, setID='Set002', all_taxlot=all_taxlot, nm_to_add=1420, export=False)"
   ]
  }
 ],
 "metadata": {
  "kernelspec": {
   "display_name": "Python 3",
   "language": "python",
   "name": "python3"
  },
  "language_info": {
   "codemirror_mode": {
    "name": "ipython",
    "version": 3
   },
   "file_extension": ".py",
   "mimetype": "text/x-python",
   "name": "python",
   "nbconvert_exporter": "python",
   "pygments_lexer": "ipython3",
   "version": "3.8.8"
  }
 },
 "nbformat": 4,
 "nbformat_minor": 5
}
