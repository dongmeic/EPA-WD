{
 "cells": [
  {
   "cell_type": "code",
   "execution_count": 1,
   "id": "8e06d28d",
   "metadata": {},
   "outputs": [],
   "source": [
    "%load_ext autoreload\n",
    "%autoreload 2"
   ]
  },
  {
   "cell_type": "code",
   "execution_count": 211,
   "id": "b8854608",
   "metadata": {},
   "outputs": [],
   "source": [
    "from wdtools import *\n",
    "import fiona\n",
    "import webbrowser"
   ]
  },
  {
   "cell_type": "code",
   "execution_count": 3,
   "id": "4d6a76da",
   "metadata": {},
   "outputs": [],
   "source": [
    "revpath = inpath + '\\GIS\\ArcGIS Pro Project\\DataReview\\DataReview.gdb'"
   ]
  },
  {
   "cell_type": "code",
   "execution_count": 11,
   "id": "c0068534",
   "metadata": {},
   "outputs": [],
   "source": [
    "setID = 'Set003'"
   ]
  },
  {
   "cell_type": "code",
   "execution_count": 5,
   "id": "828b8443",
   "metadata": {},
   "outputs": [],
   "source": [
    "nm_to_add = 2143"
   ]
  },
  {
   "cell_type": "code",
   "execution_count": 12,
   "id": "7e013bdb",
   "metadata": {},
   "outputs": [],
   "source": [
    "wd = combine_wd_tables(setID=setID, nm_to_add=nm_to_add)"
   ]
  },
  {
   "cell_type": "code",
   "execution_count": 42,
   "id": "159e83a6",
   "metadata": {},
   "outputs": [
    {
     "data": {
      "text/plain": [
       "Index(['wetdet_delin_number', 'trsqq', 'parcel_id', 'address_location_desc',\n",
       "       'city', 'county', 'site_name', 'site_desc', 'latitude', 'longitude',\n",
       "       'Coord-Source', 'DocumentName', 'DecisionLink', 'is_batch_file',\n",
       "       'status_name', 'received_date', 'response_date',\n",
       "       'reissuance_response_date', 'project_id', 'site_id', 'record_ID',\n",
       "       'notes', 'recyear', 'IDyear', 'missinglot'],\n",
       "      dtype='object')"
      ]
     },
     "execution_count": 42,
     "metadata": {},
     "output_type": "execute_result"
    }
   ],
   "source": [
    "wd.columns"
   ]
  },
  {
   "cell_type": "code",
   "execution_count": 43,
   "id": "f958a610",
   "metadata": {},
   "outputs": [
    {
     "data": {
      "text/plain": [
       "433"
      ]
     },
     "execution_count": 43,
     "metadata": {},
     "output_type": "execute_result"
    }
   ],
   "source": [
    "len(wd.wetdet_delin_number.unique())"
   ]
  },
  {
   "cell_type": "code",
   "execution_count": 14,
   "id": "aade4c1f",
   "metadata": {},
   "outputs": [],
   "source": [
    "matched = gpd.read_file(inpath + f'\\\\output\\matched\\matched_records_{setID}_edited.shp')"
   ]
  },
  {
   "cell_type": "code",
   "execution_count": 137,
   "id": "389c843b",
   "metadata": {},
   "outputs": [],
   "source": [
    "mapped0 = [lyr for lyr in fiona.listlayers(revpath) if (lyr not in [f'{setID}_wo_lot', f'{setID}_partial']) and ('L' not in lyr)]"
   ]
  },
  {
   "cell_type": "code",
   "execution_count": 16,
   "id": "82289b0a",
   "metadata": {},
   "outputs": [],
   "source": [
    "partial = gpd.read_file(revpath, layer=f'{setID}_partial')"
   ]
  },
  {
   "cell_type": "code",
   "execution_count": 17,
   "id": "c7efff9c",
   "metadata": {},
   "outputs": [],
   "source": [
    "def review_mapped(setID):\n",
    "    mapped0 = [lyr for lyr in fiona.listlayers(revpath) if (lyr not in [f'{setID}_wo_lot', f'{setID}_partial']) and ('L' not in lyr)]\n",
    "    for wID in mapped0:\n",
    "        gdf = gpd.read_file(revpath, layer=wID)\n",
    "        if 'wdID' in gdf.columns:\n",
    "            if len(gdf.wdID.unique()) > 1:\n",
    "                print(wID)"
   ]
  },
  {
   "cell_type": "code",
   "execution_count": 18,
   "id": "2c62d41c",
   "metadata": {},
   "outputs": [],
   "source": [
    "def revise_single_partial_file(wID):\n",
    "    gdf = gpd.read_file(revpath, layer=wID)\n",
    "    selcols = ['Shape_Length', 'Shape_Area']\n",
    "    if 'wdID' in gdf.columns:\n",
    "        df = gdf.copy()[selcols +  ['wdID']]\n",
    "    else:\n",
    "        df = gdf.copy()[selcols]\n",
    "        df.loc[:,'wdID'] = wID.replace('_', '-')\n",
    "    df.loc[:,'geometry'] = gdf.loc[:,'geometry']\n",
    "    return df"
   ]
  },
  {
   "cell_type": "code",
   "execution_count": 19,
   "id": "f75e7b1a",
   "metadata": {},
   "outputs": [],
   "source": [
    "def merge_single_partial_file(wIDlist):\n",
    "    df = pd.DataFrame()\n",
    "    for wID in wIDlist:\n",
    "        df=pd.concat([df, revise_single_partial_file(wID)], ignore_index=True)\n",
    "    gdf = gpd.GeoDataFrame(df, crs=\"EPSG:2992\", geometry='geometry')\n",
    "    return gdf"
   ]
  },
  {
   "cell_type": "code",
   "execution_count": 237,
   "id": "6976851d",
   "metadata": {},
   "outputs": [],
   "source": [
    "def combine_matched_digitized(setID, editedIDs, nm_to_add):\n",
    "    mapped0 = [lyr for lyr in fiona.listlayers(revpath) if (lyr not in [f'{setID}_wo_lot', f'{setID}_partial']) and ('L' not in lyr)]\n",
    "    matched = gpd.read_file(inpath + f'\\\\output\\matched\\matched_records_{setID}_edited.shp')\n",
    "    partial = gpd.read_file(revpath, layer=f'{setID}_partial')\n",
    "    gdf = merge_single_partial_file(mapped0)\n",
    "    dat = gdf.append(partial, ignore_index=True)\n",
    "    edited_gdf = matched[matched.wdID.isin(editedIDs)]\n",
    "    edited_gdf = edited_gdf[['wdID', 'geometry']].dissolve('wdID')\n",
    "    edited_gdf.loc[:, 'wdID'] = edited_gdf.index\n",
    "    data1 = edited_gdf.append(dat[['wdID', 'geometry']], ignore_index=True)\n",
    "    matched_df = matched[['wdID', 'geometry']].dissolve('wdID')\n",
    "    matched_df.loc[:, 'wdID'] = matched_df.index\n",
    "    excluded = [wdID for wdID in data1.wdID.unique() if wdID in matched_df.wdID.unique()]\n",
    "    issues = pd.read_csv(os.path.join(inpath, \"output\", \"to_review\", f\"{setID}_Mapping_Issues.csv\"))\n",
    "    issueIDs = list(issues.wetdet_delin_number.unique())\n",
    "    matched_gdf = matched_df[~matched_df.wdID.isin(excluded+issueIDs)]\n",
    "    data2 = matched_gdf.append(data1, ignore_index=True)\n",
    "    wo_lot = gpd.read_file(revpath, layer=f'{setID}_wo_lot')\n",
    "    wd = combine_wd_tables(setID=setID, nm_to_add=nm_to_add)\n",
    "    data3 = data2.append(wo_lot[['wdID', 'geometry']], ignore_index=True)\n",
    "    unmatchedIDs = [wdID for wdID in wd.wetdet_delin_number.unique() if wdID not in data3.wdID.unique()]\n",
    "    toCheck = [ID for ID in unmatchedIDs if ID not in issueIDs]\n",
    "    return data3, toCheck"
   ]
  },
  {
   "cell_type": "code",
   "execution_count": 20,
   "id": "ccc9e439",
   "metadata": {
    "scrolled": true
   },
   "outputs": [
    {
     "data": {
      "text/html": [
       "<div>\n",
       "<style scoped>\n",
       "    .dataframe tbody tr th:only-of-type {\n",
       "        vertical-align: middle;\n",
       "    }\n",
       "\n",
       "    .dataframe tbody tr th {\n",
       "        vertical-align: top;\n",
       "    }\n",
       "\n",
       "    .dataframe thead th {\n",
       "        text-align: right;\n",
       "    }\n",
       "</style>\n",
       "<table border=\"1\" class=\"dataframe\">\n",
       "  <thead>\n",
       "    <tr style=\"text-align: right;\">\n",
       "      <th></th>\n",
       "      <th>Shape_Length</th>\n",
       "      <th>Shape_Area</th>\n",
       "      <th>wdID</th>\n",
       "      <th>geometry</th>\n",
       "    </tr>\n",
       "  </thead>\n",
       "  <tbody>\n",
       "    <tr>\n",
       "      <th>0</th>\n",
       "      <td>14604.540094</td>\n",
       "      <td>8.568226e+06</td>\n",
       "      <td>WD2019-0130</td>\n",
       "      <td>MULTIPOLYGON (((710392.945 1475437.580, 710804...</td>\n",
       "    </tr>\n",
       "  </tbody>\n",
       "</table>\n",
       "</div>"
      ],
      "text/plain": [
       "   Shape_Length    Shape_Area         wdID  \\\n",
       "0  14604.540094  8.568226e+06  WD2019-0130   \n",
       "\n",
       "                                            geometry  \n",
       "0  MULTIPOLYGON (((710392.945 1475437.580, 710804...  "
      ]
     },
     "execution_count": 20,
     "metadata": {},
     "output_type": "execute_result"
    }
   ],
   "source": [
    "revise_single_partial_file('WD2019_0130')"
   ]
  },
  {
   "cell_type": "code",
   "execution_count": 173,
   "id": "065a2410",
   "metadata": {},
   "outputs": [],
   "source": [
    "edited = ['WD2018-0261', 'WD2018-0422', 'WD2018-0635', 'WD2018-0642', 'WD2019-0048', \n",
    "          'WD2019-0369', 'WD2020-0507', 'WD2021-0536', 'WD2021-0590', 'WD2021-0700']"
   ]
  },
  {
   "cell_type": "code",
   "execution_count": 238,
   "id": "df2237ba",
   "metadata": {},
   "outputs": [],
   "source": [
    "res = combine_matched_digitized(setID=setID, editedIDs=edited, nm_to_add=nm_to_add)"
   ]
  },
  {
   "cell_type": "code",
   "execution_count": 239,
   "id": "093e42ad",
   "metadata": {},
   "outputs": [],
   "source": [
    "gdf = res[0]"
   ]
  },
  {
   "cell_type": "code",
   "execution_count": 240,
   "id": "820de235",
   "metadata": {},
   "outputs": [
    {
     "data": {
      "text/plain": [
       "424"
      ]
     },
     "execution_count": 240,
     "metadata": {},
     "output_type": "execute_result"
    }
   ],
   "source": [
    "len(gdf.wdID.unique())"
   ]
  },
  {
   "cell_type": "code",
   "execution_count": 241,
   "id": "a7a50a4e",
   "metadata": {},
   "outputs": [
    {
     "data": {
      "text/plain": [
       "[]"
      ]
     },
     "execution_count": 241,
     "metadata": {},
     "output_type": "execute_result"
    }
   ],
   "source": [
    "res[1]"
   ]
  },
  {
   "cell_type": "code",
   "execution_count": 199,
   "id": "d1dd0ec6",
   "metadata": {},
   "outputs": [],
   "source": [
    "unmatchedIDs = [wdID for wdID in wd.wetdet_delin_number.unique() if wdID not in gdf.wdID.unique()]"
   ]
  },
  {
   "cell_type": "code",
   "execution_count": 204,
   "id": "33c1f02c",
   "metadata": {},
   "outputs": [],
   "source": [
    "issueIDs = res[1]"
   ]
  },
  {
   "cell_type": "code",
   "execution_count": 219,
   "id": "f60e8741",
   "metadata": {},
   "outputs": [
    {
     "name": "stdout",
     "output_type": "stream",
     "text": [
      "['WD2018-0485', 'WD2019-0060', 'WD2021-0181']\n"
     ]
    }
   ],
   "source": [
    "toCheck = [ID for ID in unmatchedIDs if ID not in issueIDs]\n",
    "print(toCheck)"
   ]
  },
  {
   "cell_type": "code",
   "execution_count": 227,
   "id": "c411d97f",
   "metadata": {},
   "outputs": [],
   "source": [
    "wo_lot = gpd.read_file(revpath, layer=f'{setID}_wo_lot')"
   ]
  },
  {
   "cell_type": "code",
   "execution_count": 230,
   "id": "23e92785",
   "metadata": {},
   "outputs": [
    {
     "data": {
      "text/html": [
       "<div>\n",
       "<style scoped>\n",
       "    .dataframe tbody tr th:only-of-type {\n",
       "        vertical-align: middle;\n",
       "    }\n",
       "\n",
       "    .dataframe tbody tr th {\n",
       "        vertical-align: top;\n",
       "    }\n",
       "\n",
       "    .dataframe thead th {\n",
       "        text-align: right;\n",
       "    }\n",
       "</style>\n",
       "<table border=\"1\" class=\"dataframe\">\n",
       "  <thead>\n",
       "    <tr style=\"text-align: right;\">\n",
       "      <th></th>\n",
       "      <th>record_ID</th>\n",
       "      <th>wetdet_delin_number</th>\n",
       "    </tr>\n",
       "  </thead>\n",
       "  <tbody>\n",
       "    <tr>\n",
       "      <th>83</th>\n",
       "      <td>2227</td>\n",
       "      <td>WD2020-0009</td>\n",
       "    </tr>\n",
       "    <tr>\n",
       "      <th>199</th>\n",
       "      <td>2343</td>\n",
       "      <td>WD2017-0124</td>\n",
       "    </tr>\n",
       "    <tr>\n",
       "      <th>217</th>\n",
       "      <td>2361</td>\n",
       "      <td>WD2018-0196</td>\n",
       "    </tr>\n",
       "  </tbody>\n",
       "</table>\n",
       "</div>"
      ],
      "text/plain": [
       "     record_ID wetdet_delin_number\n",
       "83        2227         WD2020-0009\n",
       "199       2343         WD2017-0124\n",
       "217       2361         WD2018-0196"
      ]
     },
     "execution_count": 230,
     "metadata": {},
     "output_type": "execute_result"
    }
   ],
   "source": [
    "wd.loc[wd.record_ID.isin(wo_lot.record_ID.values), ['record_ID', 'wetdet_delin_number']]"
   ]
  },
  {
   "cell_type": "code",
   "execution_count": 223,
   "id": "7cd7cf35",
   "metadata": {},
   "outputs": [],
   "source": [
    "df = wd[wd.wetdet_delin_number.isin(toCheck)]"
   ]
  },
  {
   "cell_type": "code",
   "execution_count": 224,
   "id": "2f78c830",
   "metadata": {},
   "outputs": [
    {
     "name": "stderr",
     "output_type": "stream",
     "text": [
      "C:\\Users\\clid1852\\AppData\\Anaconda3\\envs\\geoenv\\lib\\site-packages\\pandas\\core\\indexing.py:1597: SettingWithCopyWarning: \n",
      "A value is trying to be set on a copy of a slice from a DataFrame.\n",
      "Try using .loc[row_indexer,col_indexer] = value instead\n",
      "\n",
      "See the caveats in the documentation: https://pandas.pydata.org/pandas-docs/stable/user_guide/indexing.html#returning-a-view-versus-a-copy\n",
      "  self.obj[key] = value\n",
      "C:\\Users\\clid1852\\AppData\\Anaconda3\\envs\\geoenv\\lib\\site-packages\\pandas\\core\\indexing.py:1676: SettingWithCopyWarning: \n",
      "A value is trying to be set on a copy of a slice from a DataFrame.\n",
      "Try using .loc[row_indexer,col_indexer] = value instead\n",
      "\n",
      "See the caveats in the documentation: https://pandas.pydata.org/pandas-docs/stable/user_guide/indexing.html#returning-a-view-versus-a-copy\n",
      "  self._setitem_single_column(ilocs[0], value, pi)\n"
     ]
    }
   ],
   "source": [
    "df = reindex_data(df)"
   ]
  },
  {
   "cell_type": "code",
   "execution_count": 225,
   "id": "fa605423",
   "metadata": {},
   "outputs": [
    {
     "data": {
      "text/html": [
       "<div>\n",
       "<style scoped>\n",
       "    .dataframe tbody tr th:only-of-type {\n",
       "        vertical-align: middle;\n",
       "    }\n",
       "\n",
       "    .dataframe tbody tr th {\n",
       "        vertical-align: top;\n",
       "    }\n",
       "\n",
       "    .dataframe thead th {\n",
       "        text-align: right;\n",
       "    }\n",
       "</style>\n",
       "<table border=\"1\" class=\"dataframe\">\n",
       "  <thead>\n",
       "    <tr style=\"text-align: right;\">\n",
       "      <th></th>\n",
       "      <th>wetdet_delin_number</th>\n",
       "      <th>trsqq</th>\n",
       "      <th>parcel_id</th>\n",
       "      <th>address_location_desc</th>\n",
       "      <th>city</th>\n",
       "      <th>county</th>\n",
       "      <th>site_name</th>\n",
       "      <th>site_desc</th>\n",
       "      <th>latitude</th>\n",
       "      <th>longitude</th>\n",
       "      <th>...</th>\n",
       "      <th>site_id</th>\n",
       "      <th>record_ID</th>\n",
       "      <th>notes</th>\n",
       "      <th>recyear</th>\n",
       "      <th>IDyear</th>\n",
       "      <th>missinglot</th>\n",
       "      <th>lots</th>\n",
       "      <th>lot</th>\n",
       "      <th>cnt_code</th>\n",
       "      <th>ORTaxlot</th>\n",
       "    </tr>\n",
       "  </thead>\n",
       "  <tbody>\n",
       "    <tr>\n",
       "      <th>268</th>\n",
       "      <td>WD2018-0485</td>\n",
       "      <td>37S14E03</td>\n",
       "      <td>ROW</td>\n",
       "      <td>ROW Highway 504 and ROW of Henwas St.</td>\n",
       "      <td>Bly</td>\n",
       "      <td>Klamath</td>\n",
       "      <td>Bly Water Line Project</td>\n",
       "      <td>Development of new buried water line in road r...</td>\n",
       "      <td>43.390332</td>\n",
       "      <td>-121.044816</td>\n",
       "      <td>...</td>\n",
       "      <td>110223</td>\n",
       "      <td>2412</td>\n",
       "      <td>ROW</td>\n",
       "      <td>2018</td>\n",
       "      <td>2018</td>\n",
       "      <td>Y</td>\n",
       "      <td>ROADS</td>\n",
       "      <td>ROADS</td>\n",
       "      <td>18</td>\n",
       "      <td>1837.00S14.00E0300--0000ROADS</td>\n",
       "    </tr>\n",
       "    <tr>\n",
       "      <th>269</th>\n",
       "      <td>WD2018-0485</td>\n",
       "      <td>37S14E03DB</td>\n",
       "      <td>ROW</td>\n",
       "      <td>ROW Highway 504 and ROW of Henwas St.</td>\n",
       "      <td>Bly</td>\n",
       "      <td>Klamath</td>\n",
       "      <td>Bly Water Line Project</td>\n",
       "      <td>Development of new buried water line in road r...</td>\n",
       "      <td>43.390332</td>\n",
       "      <td>-121.044816</td>\n",
       "      <td>...</td>\n",
       "      <td>141481</td>\n",
       "      <td>2413</td>\n",
       "      <td>ROW</td>\n",
       "      <td>2018</td>\n",
       "      <td>2018</td>\n",
       "      <td>Y</td>\n",
       "      <td>ROADS</td>\n",
       "      <td>ROADS</td>\n",
       "      <td>18</td>\n",
       "      <td>1837.00S14.00E03DB--0000ROADS</td>\n",
       "    </tr>\n",
       "    <tr>\n",
       "      <th>279</th>\n",
       "      <td>WD2019-0060</td>\n",
       "      <td>37S14E03DB</td>\n",
       "      <td>ROW</td>\n",
       "      <td>Along Elder and Gerber Streets, S of Henwas St</td>\n",
       "      <td>Bly</td>\n",
       "      <td>Klamath</td>\n",
       "      <td>Bly New Waterline</td>\n",
       "      <td>new waterline</td>\n",
       "      <td>42.385614</td>\n",
       "      <td>-121.049808</td>\n",
       "      <td>...</td>\n",
       "      <td>127769</td>\n",
       "      <td>2423</td>\n",
       "      <td>ROW</td>\n",
       "      <td>2019</td>\n",
       "      <td>2019</td>\n",
       "      <td>Y</td>\n",
       "      <td>ROADS</td>\n",
       "      <td>ROADS</td>\n",
       "      <td>18</td>\n",
       "      <td>1837.00S14.00E03DB--0000ROADS</td>\n",
       "    </tr>\n",
       "  </tbody>\n",
       "</table>\n",
       "<p>3 rows × 29 columns</p>\n",
       "</div>"
      ],
      "text/plain": [
       "    wetdet_delin_number       trsqq parcel_id  \\\n",
       "268         WD2018-0485    37S14E03       ROW   \n",
       "269         WD2018-0485  37S14E03DB       ROW   \n",
       "279         WD2019-0060  37S14E03DB       ROW   \n",
       "\n",
       "                              address_location_desc city   county  \\\n",
       "268           ROW Highway 504 and ROW of Henwas St.  Bly  Klamath   \n",
       "269           ROW Highway 504 and ROW of Henwas St.  Bly  Klamath   \n",
       "279  Along Elder and Gerber Streets, S of Henwas St  Bly  Klamath   \n",
       "\n",
       "                  site_name  \\\n",
       "268  Bly Water Line Project   \n",
       "269  Bly Water Line Project   \n",
       "279       Bly New Waterline   \n",
       "\n",
       "                                             site_desc   latitude   longitude  \\\n",
       "268  Development of new buried water line in road r...  43.390332 -121.044816   \n",
       "269  Development of new buried water line in road r...  43.390332 -121.044816   \n",
       "279                                      new waterline  42.385614 -121.049808   \n",
       "\n",
       "     ... site_id record_ID notes recyear IDyear missinglot   lots    lot  \\\n",
       "268  ...  110223      2412   ROW    2018   2018          Y  ROADS  ROADS   \n",
       "269  ...  141481      2413   ROW    2018   2018          Y  ROADS  ROADS   \n",
       "279  ...  127769      2423   ROW    2019   2019          Y  ROADS  ROADS   \n",
       "\n",
       "     cnt_code                       ORTaxlot  \n",
       "268        18  1837.00S14.00E0300--0000ROADS  \n",
       "269        18  1837.00S14.00E03DB--0000ROADS  \n",
       "279        18  1837.00S14.00E03DB--0000ROADS  \n",
       "\n",
       "[3 rows x 29 columns]"
      ]
     },
     "execution_count": 225,
     "metadata": {},
     "output_type": "execute_result"
    }
   ],
   "source": [
    "df.head(3)"
   ]
  },
  {
   "cell_type": "code",
   "execution_count": 226,
   "id": "cfb814a3",
   "metadata": {},
   "outputs": [
    {
     "data": {
      "text/plain": [
       "array(['1837.00S14.00E0300--0000ROADS', '1837.00S14.00E03DB--0000ROADS',\n",
       "       '1837.00S14.00E03CD--0000ROADS', '1837.00S14.00E03CA--0000ROADS',\n",
       "       '2903.00N10.00W32A0--000054069'], dtype=object)"
      ]
     },
     "execution_count": 226,
     "metadata": {},
     "output_type": "execute_result"
    }
   ],
   "source": [
    "df.ORTaxlot.unique()"
   ]
  },
  {
   "cell_type": "code",
   "execution_count": null,
   "id": "8511e086",
   "metadata": {},
   "outputs": [],
   "source": [
    "wdID = 'WD2021-0181'\n",
    "url = wd.loc[wd.wetdet_delin_number == wdID, 'DecisionLink'].values[0]\n",
    "webbrowser.open(url)"
   ]
  },
  {
   "cell_type": "code",
   "execution_count": 216,
   "id": "1623813b",
   "metadata": {},
   "outputs": [
    {
     "data": {
      "text/plain": [
       "nan"
      ]
     },
     "execution_count": 216,
     "metadata": {},
     "output_type": "execute_result"
    }
   ],
   "source": [
    "url"
   ]
  },
  {
   "cell_type": "code",
   "execution_count": 221,
   "id": "dce1b1fb",
   "metadata": {},
   "outputs": [
    {
     "data": {
      "text/plain": [
       "'WD2021-0181'"
      ]
     },
     "execution_count": 221,
     "metadata": {},
     "output_type": "execute_result"
    }
   ],
   "source": [
    "wdID"
   ]
  },
  {
   "cell_type": "code",
   "execution_count": 222,
   "id": "69f86e4a",
   "metadata": {},
   "outputs": [
    {
     "data": {
      "text/plain": [
       "659    2803\n",
       "Name: record_ID, dtype: int32"
      ]
     },
     "execution_count": 222,
     "metadata": {},
     "output_type": "execute_result"
    }
   ],
   "source": [
    "wd.loc[wd.wetdet_delin_number == wdID, 'record_ID']"
   ]
  },
  {
   "cell_type": "code",
   "execution_count": null,
   "id": "9e8a65f4",
   "metadata": {},
   "outputs": [],
   "source": [
    "extract_page_from_docLink(url=url, pageNm=4, wdID=wdID)"
   ]
  },
  {
   "cell_type": "code",
   "execution_count": 214,
   "id": "d1ec67eb",
   "metadata": {},
   "outputs": [],
   "source": [
    "extract_page_from_locPath(filePath=r'C:\\Users\\clid1852\\Downloads\\WD20190060 AgencyDecision.pdf', #T:\\DCProjects\\EPA-WD\\docs\\\n",
    "                          pageNm=8, wdID=wdID)"
   ]
  },
  {
   "cell_type": "code",
   "execution_count": 47,
   "id": "a0c9b7f0",
   "metadata": {},
   "outputs": [],
   "source": [
    "tomapID = matched[matched.notes.str.contains('Partial', case=False, na=False)].wdID.unique()"
   ]
  }
 ],
 "metadata": {
  "kernelspec": {
   "display_name": "Python 3",
   "language": "python",
   "name": "python3"
  },
  "language_info": {
   "codemirror_mode": {
    "name": "ipython",
    "version": 3
   },
   "file_extension": ".py",
   "mimetype": "text/x-python",
   "name": "python",
   "nbconvert_exporter": "python",
   "pygments_lexer": "ipython3",
   "version": "3.8.8"
  }
 },
 "nbformat": 4,
 "nbformat_minor": 5
}
