{
 "cells": [
  {
   "cell_type": "code",
   "execution_count": 1,
   "id": "a2407446",
   "metadata": {},
   "outputs": [],
   "source": [
    "%load_ext autoreload\n",
    "%autoreload 2"
   ]
  },
  {
   "cell_type": "code",
   "execution_count": 211,
   "id": "4bbc42e9",
   "metadata": {},
   "outputs": [],
   "source": [
    "from wdtools import *\n",
    "import fiona\n",
    "import webbrowser"
   ]
  },
  {
   "cell_type": "code",
   "execution_count": 3,
   "id": "58dbcdf7",
   "metadata": {},
   "outputs": [],
   "source": [
    "revpath = inpath + '\\GIS\\ArcGIS Pro Project\\DataReview\\DataReview.gdb'"
   ]
  },
  {
   "cell_type": "code",
   "execution_count": 11,
   "id": "00e05109",
   "metadata": {},
   "outputs": [],
   "source": [
    "setID = 'Set003'"
   ]
  },
  {
   "cell_type": "code",
   "execution_count": 5,
   "id": "f6768976",
   "metadata": {},
   "outputs": [],
   "source": [
    "nm_to_add = 2143"
   ]
  },
  {
   "cell_type": "code",
   "execution_count": 12,
   "id": "9112b126",
   "metadata": {},
   "outputs": [],
   "source": [
    "wd = combine_wd_tables(setID=setID, nm_to_add=nm_to_add)"
   ]
  },
  {
   "cell_type": "code",
   "execution_count": 42,
   "id": "727cda6f",
   "metadata": {},
   "outputs": [
    {
     "data": {
      "text/plain": [
       "Index(['wetdet_delin_number', 'trsqq', 'parcel_id', 'address_location_desc',\n",
       "       'city', 'county', 'site_name', 'site_desc', 'latitude', 'longitude',\n",
       "       'Coord-Source', 'DocumentName', 'DecisionLink', 'is_batch_file',\n",
       "       'status_name', 'received_date', 'response_date',\n",
       "       'reissuance_response_date', 'project_id', 'site_id', 'record_ID',\n",
       "       'notes', 'recyear', 'IDyear', 'missinglot'],\n",
       "      dtype='object')"
      ]
     },
     "execution_count": 42,
     "metadata": {},
     "output_type": "execute_result"
    }
   ],
   "source": [
    "wd.columns"
   ]
  },
  {
   "cell_type": "code",
   "execution_count": 43,
   "id": "d44538ad",
   "metadata": {},
   "outputs": [
    {
     "data": {
      "text/plain": [
       "433"
      ]
     },
     "execution_count": 43,
     "metadata": {},
     "output_type": "execute_result"
    }
   ],
   "source": [
    "len(wd.wetdet_delin_number.unique())"
   ]
  },
  {
   "cell_type": "code",
   "execution_count": 14,
   "id": "4b47ccec",
   "metadata": {},
   "outputs": [],
   "source": [
    "matched = gpd.read_file(inpath + f'\\\\output\\matched\\matched_records_{setID}_edited.shp')"
   ]
  },
  {
   "cell_type": "code",
   "execution_count": 137,
   "id": "e315f9b7",
   "metadata": {},
   "outputs": [],
   "source": [
    "mapped0 = [lyr for lyr in fiona.listlayers(revpath) if (lyr not in [f'{setID}_wo_lot', f'{setID}_partial']) and ('L' not in lyr)]"
   ]
  },
  {
   "cell_type": "code",
   "execution_count": 16,
   "id": "23b72944",
   "metadata": {},
   "outputs": [],
   "source": [
    "partial = gpd.read_file(revpath, layer=f'{setID}_partial')"
   ]
  },
  {
   "cell_type": "code",
   "execution_count": 17,
   "id": "de7901fa",
   "metadata": {},
   "outputs": [],
   "source": [
    "def review_mapped(setID):\n",
    "    mapped0 = [lyr for lyr in fiona.listlayers(revpath) if (lyr not in [f'{setID}_wo_lot', f'{setID}_partial']) and ('L' not in lyr)]\n",
    "    for wID in mapped0:\n",
    "        gdf = gpd.read_file(revpath, layer=wID)\n",
    "        if 'wdID' in gdf.columns:\n",
    "            if len(gdf.wdID.unique()) > 1:\n",
    "                print(wID)"
   ]
  },
  {
   "cell_type": "code",
   "execution_count": 18,
   "id": "b6f3285a",
   "metadata": {},
   "outputs": [],
   "source": [
    "def revise_single_partial_file(wID):\n",
    "    gdf = gpd.read_file(revpath, layer=wID)\n",
    "    selcols = ['Shape_Length', 'Shape_Area']\n",
    "    if 'wdID' in gdf.columns:\n",
    "        df = gdf.copy()[selcols +  ['wdID']]\n",
    "    else:\n",
    "        df = gdf.copy()[selcols]\n",
    "        df.loc[:,'wdID'] = wID.replace('_', '-')\n",
    "    df.loc[:,'geometry'] = gdf.loc[:,'geometry']\n",
    "    return df"
   ]
  },
  {
   "cell_type": "code",
   "execution_count": 19,
   "id": "1d1cec5a",
   "metadata": {},
   "outputs": [],
   "source": [
    "def merge_single_partial_file(wIDlist):\n",
    "    df = pd.DataFrame()\n",
    "    for wID in wIDlist:\n",
    "        df=pd.concat([df, revise_single_partial_file(wID)], ignore_index=True)\n",
    "    gdf = gpd.GeoDataFrame(df, crs=\"EPSG:2992\", geometry='geometry')\n",
    "    return gdf"
   ]
  },
  {
   "cell_type": "code",
   "execution_count": 201,
   "id": "2b33d1c3",
   "metadata": {},
   "outputs": [],
   "source": [
    "def combine_matched_digitized(setID, editedIDs, nm_to_add):\n",
    "    mapped0 = [lyr for lyr in fiona.listlayers(revpath) if (lyr not in [f'{setID}_wo_lot', f'{setID}_partial']) and ('L' not in lyr)]\n",
    "    matched = gpd.read_file(inpath + f'\\\\output\\matched\\matched_records_{setID}_edited.shp')\n",
    "    partial = gpd.read_file(revpath, layer=f'{setID}_partial')\n",
    "    gdf = merge_single_partial_file(mapped0)\n",
    "    dat = gdf.append(partial, ignore_index=True)\n",
    "    edited_gdf = matched[matched.wdID.isin(editedIDs)]\n",
    "    edited_gdf = edited_gdf[['wdID', 'geometry']].dissolve('wdID')\n",
    "    edited_gdf.loc[:, 'wdID'] = edited_gdf.index\n",
    "    data1 = edited_gdf.append(dat[['wdID', 'geometry']], ignore_index=True)\n",
    "    matched_df = matched[['wdID', 'geometry']].dissolve('wdID')\n",
    "    matched_df.loc[:, 'wdID'] = matched_df.index\n",
    "    excluded = [wdID for wdID in data1.wdID.unique() if wdID in matched_df.wdID.unique()]\n",
    "    issues = pd.read_csv(os.path.join(inpath, \"output\", \"to_review\", f\"{setID}_Mapping_Issues.csv\"))\n",
    "    issueIDs = list(issues.wetdet_delin_number.unique())\n",
    "    matched_gdf = matched_df[~matched_df.wdID.isin(excluded+issueIDs)]\n",
    "    data2 = matched_gdf.append(data1, ignore_index=True)\n",
    "    wo_lot = gpd.read_file(revpath, layer=f'{setID}_wo_lot')\n",
    "    wd = combine_wd_tables(setID=setID, nm_to_add=nm_to_add)\n",
    "    df = wd[wd.record_ID.isin(wo_lot.record_ID)][['wetdet_delin_number', 'record_ID']]\n",
    "    df.rename(columns={'wetdet_delin_number': 'wdID'}, inplace=True)\n",
    "    wo_lot = wo_lot.merge(df, on='record_ID')\n",
    "    data3 = data2.append(wo_lot[['wdID', 'geometry']], ignore_index=True)\n",
    "    return data3, issueIDs"
   ]
  },
  {
   "cell_type": "code",
   "execution_count": 20,
   "id": "467a9962",
   "metadata": {
    "scrolled": true
   },
   "outputs": [
    {
     "data": {
      "text/html": [
       "<div>\n",
       "<style scoped>\n",
       "    .dataframe tbody tr th:only-of-type {\n",
       "        vertical-align: middle;\n",
       "    }\n",
       "\n",
       "    .dataframe tbody tr th {\n",
       "        vertical-align: top;\n",
       "    }\n",
       "\n",
       "    .dataframe thead th {\n",
       "        text-align: right;\n",
       "    }\n",
       "</style>\n",
       "<table border=\"1\" class=\"dataframe\">\n",
       "  <thead>\n",
       "    <tr style=\"text-align: right;\">\n",
       "      <th></th>\n",
       "      <th>Shape_Length</th>\n",
       "      <th>Shape_Area</th>\n",
       "      <th>wdID</th>\n",
       "      <th>geometry</th>\n",
       "    </tr>\n",
       "  </thead>\n",
       "  <tbody>\n",
       "    <tr>\n",
       "      <th>0</th>\n",
       "      <td>14604.540094</td>\n",
       "      <td>8.568226e+06</td>\n",
       "      <td>WD2019-0130</td>\n",
       "      <td>MULTIPOLYGON (((710392.945 1475437.580, 710804...</td>\n",
       "    </tr>\n",
       "  </tbody>\n",
       "</table>\n",
       "</div>"
      ],
      "text/plain": [
       "   Shape_Length    Shape_Area         wdID  \\\n",
       "0  14604.540094  8.568226e+06  WD2019-0130   \n",
       "\n",
       "                                            geometry  \n",
       "0  MULTIPOLYGON (((710392.945 1475437.580, 710804...  "
      ]
     },
     "execution_count": 20,
     "metadata": {},
     "output_type": "execute_result"
    }
   ],
   "source": [
    "revise_single_partial_file('WD2019_0130')"
   ]
  },
  {
   "cell_type": "code",
   "execution_count": 173,
   "id": "fdae56b1",
   "metadata": {},
   "outputs": [],
   "source": [
    "edited = ['WD2018-0261', 'WD2018-0422', 'WD2018-0635', 'WD2018-0642', 'WD2019-0048', \n",
    "          'WD2019-0369', 'WD2020-0507', 'WD2021-0536', 'WD2021-0590', 'WD2021-0700']"
   ]
  },
  {
   "cell_type": "code",
   "execution_count": 202,
   "id": "61cd4645",
   "metadata": {},
   "outputs": [],
   "source": [
    "res = combine_matched_digitized(setID=setID, editedIDs=edited, nm_to_add=nm_to_add)"
   ]
  },
  {
   "cell_type": "code",
   "execution_count": 203,
   "id": "1355f2e5",
   "metadata": {},
   "outputs": [],
   "source": [
    "gdf = res[0]"
   ]
  },
  {
   "cell_type": "code",
   "execution_count": 192,
   "id": "2cb6240a",
   "metadata": {},
   "outputs": [
    {
     "data": {
      "text/plain": [
       "422"
      ]
     },
     "execution_count": 192,
     "metadata": {},
     "output_type": "execute_result"
    }
   ],
   "source": [
    "len(gdf.wdID.unique())"
   ]
  },
  {
   "cell_type": "code",
   "execution_count": 199,
   "id": "eb9e2e11",
   "metadata": {},
   "outputs": [],
   "source": [
    "unmatchedIDs = [wdID for wdID in wd.wetdet_delin_number.unique() if wdID not in gdf.wdID.unique()]"
   ]
  },
  {
   "cell_type": "code",
   "execution_count": 204,
   "id": "79b22f09",
   "metadata": {},
   "outputs": [],
   "source": [
    "issueIDs = res[1]"
   ]
  },
  {
   "cell_type": "code",
   "execution_count": 205,
   "id": "2e00bbfc",
   "metadata": {},
   "outputs": [
    {
     "data": {
      "text/plain": [
       "['WD2018-0485', 'WD2019-0060', 'WD2021-0181']"
      ]
     },
     "execution_count": 205,
     "metadata": {},
     "output_type": "execute_result"
    }
   ],
   "source": [
    "[ID for ID in unmatchedIDs if ID not in issueIDs]"
   ]
  },
  {
   "cell_type": "code",
   "execution_count": null,
   "id": "114fc254",
   "metadata": {},
   "outputs": [],
   "source": [
    "wdID = 'WD2021-0181'\n",
    "url = wd.loc[wd.wetdet_delin_number == wdID, 'DecisionLink'].values[0]\n",
    "webbrowser.open(url)"
   ]
  },
  {
   "cell_type": "code",
   "execution_count": 216,
   "id": "dafc123d",
   "metadata": {},
   "outputs": [
    {
     "data": {
      "text/plain": [
       "nan"
      ]
     },
     "execution_count": 216,
     "metadata": {},
     "output_type": "execute_result"
    }
   ],
   "source": [
    "url"
   ]
  },
  {
   "cell_type": "code",
   "execution_count": 217,
   "id": "7880d6ec",
   "metadata": {},
   "outputs": [
    {
     "data": {
      "text/plain": [
       "659    2803\n",
       "Name: record_ID, dtype: int32"
      ]
     },
     "execution_count": 217,
     "metadata": {},
     "output_type": "execute_result"
    }
   ],
   "source": [
    "wd.loc[wd.wetdet_delin_number == wdID, 'record_ID']"
   ]
  },
  {
   "cell_type": "code",
   "execution_count": null,
   "id": "a0e5b7fd",
   "metadata": {},
   "outputs": [],
   "source": [
    "extract_page_from_docLink(url=url, pageNm=4, wdID=wdID)"
   ]
  },
  {
   "cell_type": "code",
   "execution_count": 214,
   "id": "edf176c1",
   "metadata": {},
   "outputs": [],
   "source": [
    "extract_page_from_locPath(filePath=r'C:\\Users\\clid1852\\Downloads\\WD20190060 AgencyDecision.pdf', #T:\\DCProjects\\EPA-WD\\docs\\\n",
    "                          pageNm=8, wdID=wdID)"
   ]
  },
  {
   "cell_type": "code",
   "execution_count": 47,
   "id": "60c4d1a7",
   "metadata": {},
   "outputs": [],
   "source": [
    "tomapID = matched[matched.notes.str.contains('Partial', case=False, na=False)].wdID.unique()"
   ]
  }
 ],
 "metadata": {
  "kernelspec": {
   "display_name": "Python 3",
   "language": "python",
   "name": "python3"
  },
  "language_info": {
   "codemirror_mode": {
    "name": "ipython",
    "version": 3
   },
   "file_extension": ".py",
   "mimetype": "text/x-python",
   "name": "python",
   "nbconvert_exporter": "python",
   "pygments_lexer": "ipython3",
   "version": "3.8.8"
  }
 },
 "nbformat": 4,
 "nbformat_minor": 5
}
