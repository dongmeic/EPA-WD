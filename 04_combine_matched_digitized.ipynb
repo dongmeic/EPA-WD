{
 "cells": [
  {
   "cell_type": "code",
   "execution_count": 1,
   "id": "8e06d28d",
   "metadata": {},
   "outputs": [],
   "source": [
    "%load_ext autoreload\n",
    "%autoreload 2"
   ]
  },
  {
   "cell_type": "code",
   "execution_count": 10,
   "id": "b8854608",
   "metadata": {},
   "outputs": [],
   "source": [
    "from wdtools import *\n",
    "import webbrowser"
   ]
  },
  {
   "cell_type": "code",
   "execution_count": 4,
   "id": "74ea110d",
   "metadata": {},
   "outputs": [],
   "source": [
    "#sets = list(map(lambda x: 'Set00'+x, ['1', '2', '3', '4']))\n",
    "sets = ['Set005']"
   ]
  },
  {
   "cell_type": "code",
   "execution_count": 5,
   "id": "f2a4b265",
   "metadata": {},
   "outputs": [],
   "source": [
    "#nm2add = [0, 1420, 2143, 2878]\n",
    "nm2add = [3932]"
   ]
  },
  {
   "cell_type": "code",
   "execution_count": 8,
   "id": "a67c7436",
   "metadata": {},
   "outputs": [],
   "source": [
    "import os.path"
   ]
  },
  {
   "cell_type": "code",
   "execution_count": 11,
   "id": "46379b30",
   "metadata": {},
   "outputs": [
    {
     "name": "stdout",
     "output_type": "stream",
     "text": [
      "it took 0.0 minutes to complete\n",
      "toCheck - ['WD2017-0229', 'WD2020-0212', 'WD2022-0211'], \n",
      "          digitized - 88,\n",
      "          unmatched - (11, ['WD2017-0229', 'WD2019-0233', 'WD2019-0384', 'WD2019-0487', 'WD2020-0012', 'WD2020-0212', 'WD2021-0184', 'WD2021-0651', 'WD2022-0211', 'WD2022-0576', 'WD2022-0606']),\n",
      "          issue IDs - (9, ['WD2019-0487', 'WD2020-0012', 'WD2019-0233', 'WD2019-0384', 'WD2020-0157', 'WD2021-0184', 'WD2021-0651', 'WD2022-0576', 'WD2022-0606']),\n",
      "          final shape - (214, 3)\n"
     ]
    }
   ],
   "source": [
    "for setid in sets:\n",
    "    gdf, toCheck, matched_gdf, digitized_nIDs, unmatchedIDs, issueIDs = run_Tier3_4_final(setID=setid, \n",
    "                                                                                          nm_to_add=nm2add[sets.index(setid)])\n",
    "    print(f\"\"\"toCheck - {toCheck}, \n",
    "          digitized - {digitized_nIDs},\n",
    "          unmatched - {len(unmatchedIDs), unmatchedIDs},\n",
    "          issue IDs - {len(issueIDs), issueIDs},\n",
    "          final shape - {gdf.shape}\"\"\")"
   ]
  },
  {
   "cell_type": "markdown",
   "id": "bdeaec0f",
   "metadata": {},
   "source": [
    "# set1 to set4\n",
    "toCheck - [], \n",
    "          digitized - 279,\n",
    "          unmatched - (2, ['WD2018-0281', 'WD2021-0703']),\n",
    "          issue IDs - (4, ['WD2018-0281', 'WD2022-0291', 'WD2019-0259', 'WD2021-0703']),\n",
    "          final shape - (1001, 3)\n",
    "it took 0.0 minutes to complete\n",
    "toCheck - [], \n",
    "          digitized - 154,\n",
    "          unmatched - (13, ['WD2017-0229', 'WD2019-0496', 'WD2020-0269', 'WD2017-0061', 'WD2018-0340', 'WD2019-0046', 'WD2017-0314', 'WD2019-0300', 'WD2020-0083', 'WD2020-0131', 'WD2020-0487', 'WD2017-0198', 'WD2019-0082']),\n",
    "          issue IDs - (15, ['WD2019-0496', 'WD2020-0269', 'WD2017-0061', 'WD2018-0340', 'WD2018-0352', 'WD2019-0046', 'WD2017-0314', 'WD2018-0168', 'WD2020-0083', 'WD2017-0198', 'WD2019-0082', 'WD2017-0229', 'WD2019-0300', 'WD2020-0131', 'WD2020-0487']),\n",
    "          final shape - (421, 3)\n",
    "it took 0.0 minutes to complete\n",
    "toCheck - [], \n",
    "          digitized - 126,\n",
    "          unmatched - (9, ['WD2018-0281', 'WD2020-0389', 'WD2021-0179', 'WD2021-0597', 'WD2017-0136', 'WD2017-0375', 'WD2020-0510', 'WD2021-0181', 'WD2021-0416']),\n",
    "          issue IDs - (9, ['WD2017-0375', 'WD2017-0136', 'WD2018-0281', 'WD2020-0389', 'WD2020-0510', 'WD2021-0179', 'WD2021-0416', 'WD2021-0597', 'WD2021-0181']),\n",
    "          final shape - (424, 3)\n",
    "it took 0.0 minutes to complete\n",
    "toCheck - [], \n",
    "          digitized - 198,\n",
    "          unmatched - (18, ['WD2017-0022', 'WD2021-0031', 'WD2018-0002', 'WD2019-0389', 'WD2020-0400', 'WD2021-0183', 'WD2017-0419', 'WD2019-0208', 'WD2019-0320', 'WD2019-0436', 'WD2020-0208', 'WD2020-0531', 'WD2020-0568', 'WD2022-0158', 'WD2017-0050', 'WD2018-0139', 'WD2021-0653', 'WD2020-0252']),\n",
    "          issue IDs - (18, ['WD2021-0031', 'WD2017-0050', 'WD2020-0400', 'WD2021-0183', 'WD2020-0208', 'WD2022-0158', 'WD2018-0139', 'WD2017-0022', 'WD2018-0002', 'WD2017-0419', 'WD2019-0436', 'WD2020-0531', 'WD2021-0653', 'WD2020-0252', 'WD2019-0208', 'WD2019-0320', 'WD2019-0389', 'WD2020-0568']),\n",
    "          final shape - (658, 3)"
   ]
  },
  {
   "cell_type": "code",
   "execution_count": 8,
   "id": "58b9a72a",
   "metadata": {},
   "outputs": [],
   "source": [
    "# adjust set001 from Joel's work\n",
    "set1_jd = gpd.read_file(inpath + '\\GIS\\Join_Statewide.gdb', layer='WD_Set001_Combined')"
   ]
  },
  {
   "cell_type": "code",
   "execution_count": 10,
   "id": "73cf5fb8",
   "metadata": {},
   "outputs": [
    {
     "data": {
      "text/plain": [
       "Index(['Record_ID', 'wetdet_delin_number', 'trsqq', 'parcel_id',\n",
       "       'address_location_desc', 'city', 'county', 'site_name', 'site_desc',\n",
       "       'latitude', 'longitude', 'Coord_Source', 'DocumentName', 'DecisionLink',\n",
       "       'is_batch_file', 'status_name', 'received_date', 'response_date',\n",
       "       'reissuance_response_date', 'project_id', 'site_id', 'lot_num', 'lot',\n",
       "       'Match_Year', 'ORTAXLOT', 'Match_found', 'Manual_note', 'Shape_Length',\n",
       "       'Shape_Area', 'Edits_Complete', 'matcher2', 'geometry'],\n",
       "      dtype='object')"
      ]
     },
     "execution_count": 10,
     "metadata": {},
     "output_type": "execute_result"
    }
   ],
   "source": [
    "set1_jd.columns"
   ]
  },
  {
   "cell_type": "code",
   "execution_count": 40,
   "id": "933c07dc",
   "metadata": {},
   "outputs": [
    {
     "data": {
      "text/plain": [
       "array(['Applicant Data', 'DSL Verified', 'Approximate', '', None],\n",
       "      dtype=object)"
      ]
     },
     "execution_count": 40,
     "metadata": {},
     "output_type": "execute_result"
    }
   ],
   "source": [
    "set1_jd.Coord_Source.unique()"
   ]
  },
  {
   "cell_type": "code",
   "execution_count": 13,
   "id": "3c58d4d4",
   "metadata": {
    "scrolled": true
   },
   "outputs": [],
   "source": [
    "mapped_set1 = gpd.read_file(outpath + '\\\\final\\\\mapped_wd_Set001.shp')"
   ]
  },
  {
   "cell_type": "code",
   "execution_count": 27,
   "id": "caedf795",
   "metadata": {},
   "outputs": [],
   "source": [
    "s_wdIDs = set1_jd[(set1_jd.Match_found==1) & (set1_jd.Manual_note.isnull())].wetdet_delin_number.unique()"
   ]
  },
  {
   "cell_type": "code",
   "execution_count": 32,
   "id": "440c9a1a",
   "metadata": {},
   "outputs": [
    {
     "data": {
      "text/plain": [
       "740"
      ]
     },
     "execution_count": 32,
     "metadata": {},
     "output_type": "execute_result"
    }
   ],
   "source": [
    "len(s_wdIDs)"
   ]
  },
  {
   "cell_type": "code",
   "execution_count": 35,
   "id": "3e6b22a5",
   "metadata": {},
   "outputs": [
    {
     "data": {
      "text/plain": [
       "724"
      ]
     },
     "execution_count": 35,
     "metadata": {},
     "output_type": "execute_result"
    }
   ],
   "source": [
    "wdIDs_code0 = mapped_set1[mapped_set1.code==0].wdID.unique()\n",
    "len(wdIDs_code0)"
   ]
  },
  {
   "cell_type": "code",
   "execution_count": 37,
   "id": "f7606cda",
   "metadata": {},
   "outputs": [],
   "source": [
    "wdIDs_adj = [wdID for wdID in s_wdIDs if wdID not in wdIDs_code0]"
   ]
  },
  {
   "cell_type": "code",
   "execution_count": 42,
   "id": "f511d9a0",
   "metadata": {},
   "outputs": [],
   "source": [
    "mapped_set1.loc[(mapped_set1.wdID.isin(wdIDs_adj)) & (mapped_set1.code == 2), 'code'] = 0"
   ]
  },
  {
   "cell_type": "code",
   "execution_count": 43,
   "id": "4e4496b7",
   "metadata": {},
   "outputs": [],
   "source": [
    "mapped_set1.to_file(outpath + '\\\\final\\\\mapped_wd_Set001.shp', index=False)"
   ]
  },
  {
   "cell_type": "code",
   "execution_count": 9,
   "id": "b9bac1b7",
   "metadata": {},
   "outputs": [
    {
     "name": "stdout",
     "output_type": "stream",
     "text": [
      "it took 0.0 minutes to complete\n",
      "toCheck - [], \n",
      "          digitized - 198,\n",
      "          unmatched - (18, ['WD2017-0022', 'WD2021-0031', 'WD2018-0002', 'WD2019-0389', 'WD2020-0400', 'WD2021-0183', 'WD2017-0419', 'WD2019-0208', 'WD2019-0320', 'WD2019-0436', 'WD2020-0208', 'WD2020-0531', 'WD2020-0568', 'WD2022-0158', 'WD2017-0050', 'WD2018-0139', 'WD2021-0653', 'WD2020-0252']),\n",
      "          issue IDs - (19, ['WD2021-0031', 'WD2017-0050', 'WD2020-0400', 'WD2021-0183', 'WD2020-0208', 'WD2022-0158', 'WD2018-0139', 'WD2017-0022', 'WD2018-0002', 'WD2017-0419', 'WD2019-0320 ', 'WD2019-0436', 'WD2020-0531', 'WD2021-0653', 'WD2020-0252', 'WD2019-0208', 'WD2019-0320', 'WD2019-0389', 'WD2020-0568']),\n",
      "          final shape - (658, 3)\n"
     ]
    }
   ],
   "source": [
    "# run the sets separatedly\n",
    "setid = sets[3]\n",
    "gdf, toCheck, matched_gdf, digitized_nIDs, unmatchedIDs, issueIDs = run_Tier3_4_final(setID=setid, \n",
    "                                                                                          nm_to_add=nm2add[sets.index(setid)])\n",
    "print(f\"\"\"toCheck - {toCheck}, \n",
    "          digitized - {digitized_nIDs},\n",
    "          unmatched - {len(unmatchedIDs), unmatchedIDs},\n",
    "          issue IDs - {len(issueIDs), issueIDs},\n",
    "          final shape - {gdf.shape}\"\"\")"
   ]
  },
  {
   "cell_type": "code",
   "execution_count": 3,
   "id": "702fd862",
   "metadata": {},
   "outputs": [],
   "source": [
    "#setID = 'Set001'; nm_to_add=0\n",
    "#setID = 'Set003'; nm_to_add = 2143\n",
    "#setID = 'Set002'; nm_to_add=1420\n",
    "#setID = 'Set004'; nm_to_add=2878\n",
    "setID = 'Set005'; nm_to_add = 3932"
   ]
  },
  {
   "cell_type": "code",
   "execution_count": 4,
   "id": "4d6a76da",
   "metadata": {},
   "outputs": [],
   "source": [
    "revpath = inpath + f'\\GIS\\ArcGIS Pro Project\\DataReview\\{setID}.gdb'"
   ]
  },
  {
   "cell_type": "code",
   "execution_count": 5,
   "id": "7e013bdb",
   "metadata": {},
   "outputs": [],
   "source": [
    "wd = combine_wd_tables(setID=setID, nm_to_add=nm_to_add)"
   ]
  },
  {
   "cell_type": "code",
   "execution_count": 6,
   "id": "f958a610",
   "metadata": {},
   "outputs": [
    {
     "data": {
      "text/plain": [
       "676"
      ]
     },
     "execution_count": 6,
     "metadata": {},
     "output_type": "execute_result"
    }
   ],
   "source": [
    "len(wd.wetdet_delin_number.unique())"
   ]
  },
  {
   "cell_type": "code",
   "execution_count": 7,
   "id": "aade4c1f",
   "metadata": {},
   "outputs": [],
   "source": [
    "matched = gpd.read_file(inpath + f'\\\\output\\matched\\matched_records_{setID}_edited.shp')"
   ]
  },
  {
   "cell_type": "code",
   "execution_count": 8,
   "id": "389c843b",
   "metadata": {},
   "outputs": [],
   "source": [
    "mapped0 = [lyr for lyr in fiona.listlayers(revpath) if (lyr not in [f'{setID}_wo_lot', f'{setID}_partial']) and ('L' not in lyr)]"
   ]
  },
  {
   "cell_type": "code",
   "execution_count": 9,
   "id": "82289b0a",
   "metadata": {},
   "outputs": [],
   "source": [
    "partial = gpd.read_file(revpath, layer=f'{setID}_partial')"
   ]
  },
  {
   "cell_type": "code",
   "execution_count": 10,
   "id": "de18f6ce",
   "metadata": {},
   "outputs": [],
   "source": [
    "with open(outpath+f'\\\\matched\\\\{setID}_edited.txt') as f:\n",
    "    edited = f.readlines()"
   ]
  },
  {
   "cell_type": "code",
   "execution_count": 11,
   "id": "df2237ba",
   "metadata": {},
   "outputs": [
    {
     "name": "stdout",
     "output_type": "stream",
     "text": [
      "it took 0.0 minutes to complete\n"
     ]
    }
   ],
   "source": [
    "# this might take a while\n",
    "# make sure all files are ready, including {setID}_wo_lot and {setID}_Mapping_Issues.csv\n",
    "start = time.time()\n",
    "gdf, toCheck, matched_gdf, digitized_nIDs, unmatchedIDs, issueIDs = combine_matched_digitized(setID=setID, \n",
    "                                                                                 editedIDs=edited[0].split(\", \"), \n",
    "                                                                                 nm_to_add=nm_to_add)\n",
    "end = time.time()\n",
    "print(f'it took {round((end - start)/60, 0)} minutes to complete')"
   ]
  },
  {
   "cell_type": "code",
   "execution_count": 26,
   "id": "820de235",
   "metadata": {},
   "outputs": [
    {
     "data": {
      "text/plain": [
       "423"
      ]
     },
     "execution_count": 26,
     "metadata": {},
     "output_type": "execute_result"
    }
   ],
   "source": [
    "len(gdf.wdID.unique())"
   ]
  },
  {
   "cell_type": "code",
   "execution_count": 27,
   "id": "f2ac7b43",
   "metadata": {},
   "outputs": [
    {
     "data": {
      "text/plain": [
       "288"
      ]
     },
     "execution_count": 27,
     "metadata": {},
     "output_type": "execute_result"
    }
   ],
   "source": [
    "len(matched_gdf.wdID.unique())"
   ]
  },
  {
   "cell_type": "code",
   "execution_count": 28,
   "id": "a7a50a4e",
   "metadata": {},
   "outputs": [
    {
     "data": {
      "text/plain": [
       "[]"
      ]
     },
     "execution_count": 28,
     "metadata": {},
     "output_type": "execute_result"
    }
   ],
   "source": [
    "toCheck"
   ]
  },
  {
   "cell_type": "code",
   "execution_count": 29,
   "id": "e2e69b74",
   "metadata": {},
   "outputs": [
    {
     "data": {
      "text/plain": [
       "145"
      ]
     },
     "execution_count": 29,
     "metadata": {},
     "output_type": "execute_result"
    }
   ],
   "source": [
    "digitized_nIDs"
   ]
  },
  {
   "cell_type": "code",
   "execution_count": 30,
   "id": "6ea9fe82",
   "metadata": {},
   "outputs": [
    {
     "data": {
      "text/plain": [
       "11"
      ]
     },
     "execution_count": 30,
     "metadata": {},
     "output_type": "execute_result"
    }
   ],
   "source": [
    "len(unmatchedIDs)"
   ]
  },
  {
   "cell_type": "markdown",
   "id": "aae8182d",
   "metadata": {},
   "source": [
    "Ignore below codes..."
   ]
  },
  {
   "cell_type": "code",
   "execution_count": 12,
   "id": "1ba74d61",
   "metadata": {},
   "outputs": [],
   "source": [
    "setID=setID \n",
    "editedIDs=edited\n",
    "nm_to_add=nm_to_add"
   ]
  },
  {
   "cell_type": "code",
   "execution_count": 20,
   "id": "49e93dbe",
   "metadata": {},
   "outputs": [],
   "source": [
    "partial = partial.to_crs(epsg=2992)"
   ]
  },
  {
   "cell_type": "code",
   "execution_count": 13,
   "id": "ed7c5018",
   "metadata": {},
   "outputs": [],
   "source": [
    "gdf = merge_single_partial_file(setID=setID, wIDlist=mapped0)"
   ]
  },
  {
   "cell_type": "code",
   "execution_count": 16,
   "id": "1901cf4a",
   "metadata": {},
   "outputs": [],
   "source": [
    "dat = gdf.append(partial, ignore_index=True)\n",
    "edited_gdf = matched[matched.wdID.isin(editedIDs)]\n",
    "edited_gdf = edited_gdf[['wdID', 'geometry']].dissolve('wdID')\n",
    "edited_gdf.loc[:, 'wdID'] = edited_gdf.index\n",
    "data1 = edited_gdf.append(dat[['wdID', 'geometry']], ignore_index=True)"
   ]
  },
  {
   "cell_type": "code",
   "execution_count": 17,
   "id": "f24b888a",
   "metadata": {},
   "outputs": [],
   "source": [
    "wo_lot = gpd.read_file(revpath, layer=f'{setID}_wo_lot')\n",
    "wo_lot = wo_lot.to_crs(epsg=2992)\n",
    "data2 = data1.append(wo_lot[['wdID', 'geometry']], ignore_index=True)\n",
    "# exclude the ones that were digitized or edited in the original matches\n",
    "excluded = [wdID for wdID in data2.wdID.unique() if wdID in matched.wdID.unique()]\n",
    "issues = pd.read_csv(os.path.join(inpath, \"output\", \"to_review\", f\"{setID}_Mapping_Issues.csv\"))\n",
    "# exclude the ones that have issues\n",
    "issueIDs = list(issues.wetdet_delin_number.unique())\n",
    "matched_gdf = matched[~matched.wdID.isin(excluded+issueIDs)]\n",
    "# merge matched and digitized/edited\n",
    "data3 = matched_gdf.append(data2, ignore_index=True)"
   ]
  },
  {
   "cell_type": "code",
   "execution_count": 18,
   "id": "f2530218",
   "metadata": {},
   "outputs": [],
   "source": [
    "final_gdf = data3[['wdID', 'geometry']].dissolve('wdID')\n",
    "final_gdf.loc[:, 'wdID'] = final_gdf.index"
   ]
  },
  {
   "cell_type": "code",
   "execution_count": 20,
   "id": "4209cac5",
   "metadata": {
    "scrolled": true
   },
   "outputs": [
    {
     "data": {
      "text/plain": [
       "(423, 2)"
      ]
     },
     "execution_count": 20,
     "metadata": {},
     "output_type": "execute_result"
    }
   ],
   "source": [
    "final_gdf.shape"
   ]
  }
 ],
 "metadata": {
  "kernelspec": {
   "display_name": "Python 3",
   "language": "python",
   "name": "python3"
  },
  "language_info": {
   "codemirror_mode": {
    "name": "ipython",
    "version": 3
   },
   "file_extension": ".py",
   "mimetype": "text/x-python",
   "name": "python",
   "nbconvert_exporter": "python",
   "pygments_lexer": "ipython3",
   "version": "3.8.8"
  }
 },
 "nbformat": 4,
 "nbformat_minor": 5
}
