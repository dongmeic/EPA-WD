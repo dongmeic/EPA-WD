{
 "cells": [
  {
   "cell_type": "code",
   "execution_count": 1,
   "id": "8e06d28d",
   "metadata": {},
   "outputs": [],
   "source": [
    "%load_ext autoreload\n",
    "%autoreload 2"
   ]
  },
  {
   "cell_type": "code",
   "execution_count": 73,
   "id": "b8854608",
   "metadata": {},
   "outputs": [],
   "source": [
    "from wdtools import *\n",
    "import webbrowser"
   ]
  },
  {
   "cell_type": "code",
   "execution_count": 3,
   "id": "4d6a76da",
   "metadata": {},
   "outputs": [],
   "source": [
    "revpath = inpath + '\\GIS\\ArcGIS Pro Project\\DataReview\\DataReview.gdb'"
   ]
  },
  {
   "cell_type": "code",
   "execution_count": 4,
   "id": "c0068534",
   "metadata": {},
   "outputs": [],
   "source": [
    "setID = 'Set003'"
   ]
  },
  {
   "cell_type": "code",
   "execution_count": 5,
   "id": "828b8443",
   "metadata": {},
   "outputs": [],
   "source": [
    "nm_to_add = 2143"
   ]
  },
  {
   "cell_type": "code",
   "execution_count": 6,
   "id": "7e013bdb",
   "metadata": {},
   "outputs": [],
   "source": [
    "wd = combine_wd_tables(setID=setID, nm_to_add=nm_to_add)"
   ]
  },
  {
   "cell_type": "code",
   "execution_count": 7,
   "id": "159e83a6",
   "metadata": {},
   "outputs": [
    {
     "data": {
      "text/plain": [
       "Index(['wetdet_delin_number', 'trsqq', 'parcel_id', 'address_location_desc',\n",
       "       'city', 'county', 'site_name', 'site_desc', 'latitude', 'longitude',\n",
       "       'Coord-Source', 'DocumentName', 'DecisionLink', 'is_batch_file',\n",
       "       'status_name', 'received_date', 'response_date',\n",
       "       'reissuance_response_date', 'project_id', 'site_id', 'record_ID',\n",
       "       'notes', 'recyear', 'IDyear', 'missinglot'],\n",
       "      dtype='object')"
      ]
     },
     "execution_count": 7,
     "metadata": {},
     "output_type": "execute_result"
    }
   ],
   "source": [
    "wd.columns"
   ]
  },
  {
   "cell_type": "code",
   "execution_count": 8,
   "id": "f958a610",
   "metadata": {},
   "outputs": [
    {
     "data": {
      "text/plain": [
       "433"
      ]
     },
     "execution_count": 8,
     "metadata": {},
     "output_type": "execute_result"
    }
   ],
   "source": [
    "len(wd.wetdet_delin_number.unique())"
   ]
  },
  {
   "cell_type": "code",
   "execution_count": 9,
   "id": "aade4c1f",
   "metadata": {},
   "outputs": [],
   "source": [
    "matched = gpd.read_file(inpath + f'\\\\output\\matched\\matched_records_{setID}_edited.shp')"
   ]
  },
  {
   "cell_type": "code",
   "execution_count": 10,
   "id": "389c843b",
   "metadata": {},
   "outputs": [],
   "source": [
    "mapped0 = [lyr for lyr in fiona.listlayers(revpath) if (lyr not in [f'{setID}_wo_lot', f'{setID}_partial']) and ('L' not in lyr)]"
   ]
  },
  {
   "cell_type": "code",
   "execution_count": 11,
   "id": "82289b0a",
   "metadata": {},
   "outputs": [],
   "source": [
    "partial = gpd.read_file(revpath, layer=f'{setID}_partial')"
   ]
  },
  {
   "cell_type": "code",
   "execution_count": 12,
   "id": "ccc9e439",
   "metadata": {
    "scrolled": true
   },
   "outputs": [
    {
     "data": {
      "text/html": [
       "<div>\n",
       "<style scoped>\n",
       "    .dataframe tbody tr th:only-of-type {\n",
       "        vertical-align: middle;\n",
       "    }\n",
       "\n",
       "    .dataframe tbody tr th {\n",
       "        vertical-align: top;\n",
       "    }\n",
       "\n",
       "    .dataframe thead th {\n",
       "        text-align: right;\n",
       "    }\n",
       "</style>\n",
       "<table border=\"1\" class=\"dataframe\">\n",
       "  <thead>\n",
       "    <tr style=\"text-align: right;\">\n",
       "      <th></th>\n",
       "      <th>Shape_Length</th>\n",
       "      <th>Shape_Area</th>\n",
       "      <th>wdID</th>\n",
       "      <th>geometry</th>\n",
       "    </tr>\n",
       "  </thead>\n",
       "  <tbody>\n",
       "    <tr>\n",
       "      <th>0</th>\n",
       "      <td>14604.540094</td>\n",
       "      <td>8.568226e+06</td>\n",
       "      <td>WD2019-0130</td>\n",
       "      <td>MULTIPOLYGON (((710392.945 1475437.580, 710804...</td>\n",
       "    </tr>\n",
       "  </tbody>\n",
       "</table>\n",
       "</div>"
      ],
      "text/plain": [
       "   Shape_Length    Shape_Area         wdID  \\\n",
       "0  14604.540094  8.568226e+06  WD2019-0130   \n",
       "\n",
       "                                            geometry  \n",
       "0  MULTIPOLYGON (((710392.945 1475437.580, 710804...  "
      ]
     },
     "execution_count": 12,
     "metadata": {},
     "output_type": "execute_result"
    }
   ],
   "source": [
    "revise_single_partial_file('WD2019_0130')"
   ]
  },
  {
   "cell_type": "code",
   "execution_count": 13,
   "id": "065a2410",
   "metadata": {},
   "outputs": [],
   "source": [
    "edited = ['WD2018-0261', 'WD2018-0422', 'WD2018-0635', 'WD2018-0642', 'WD2019-0048', \n",
    "          'WD2019-0369', 'WD2020-0507', 'WD2021-0536', 'WD2021-0590', 'WD2021-0700']"
   ]
  },
  {
   "cell_type": "code",
   "execution_count": 74,
   "id": "df2237ba",
   "metadata": {},
   "outputs": [],
   "source": [
    "gdf, toCheck, digitized_nIDs, issueIDs = combine_matched_digitized(setID=setID, editedIDs=edited, nm_to_add=nm_to_add)"
   ]
  },
  {
   "cell_type": "code",
   "execution_count": 18,
   "id": "820de235",
   "metadata": {},
   "outputs": [
    {
     "data": {
      "text/plain": [
       "424"
      ]
     },
     "execution_count": 18,
     "metadata": {},
     "output_type": "execute_result"
    }
   ],
   "source": [
    "len(gdf.wdID.unique())"
   ]
  },
  {
   "cell_type": "code",
   "execution_count": 19,
   "id": "a7a50a4e",
   "metadata": {},
   "outputs": [
    {
     "data": {
      "text/plain": [
       "[]"
      ]
     },
     "execution_count": 19,
     "metadata": {},
     "output_type": "execute_result"
    }
   ],
   "source": [
    "toCheck"
   ]
  },
  {
   "cell_type": "code",
   "execution_count": 33,
   "id": "e2e69b74",
   "metadata": {},
   "outputs": [
    {
     "data": {
      "text/plain": [
       "119"
      ]
     },
     "execution_count": 33,
     "metadata": {},
     "output_type": "execute_result"
    }
   ],
   "source": [
    "digitized_nIDs"
   ]
  },
  {
   "cell_type": "code",
   "execution_count": 44,
   "id": "a4358ebf",
   "metadata": {},
   "outputs": [],
   "source": [
    "editedIDs = edited"
   ]
  },
  {
   "cell_type": "code",
   "execution_count": 45,
   "id": "0f0aa765",
   "metadata": {},
   "outputs": [],
   "source": [
    "mapped0 = [lyr for lyr in fiona.listlayers(revpath) if (lyr not in [f'{setID}_wo_lot', f'{setID}_partial']) and ('L' not in lyr)]"
   ]
  },
  {
   "cell_type": "code",
   "execution_count": 46,
   "id": "1746010f",
   "metadata": {},
   "outputs": [],
   "source": [
    "matched = gpd.read_file(inpath + f'\\\\output\\matched\\matched_records_{setID}_edited.shp')"
   ]
  },
  {
   "cell_type": "code",
   "execution_count": 48,
   "id": "5ffb02e2",
   "metadata": {},
   "outputs": [
    {
     "data": {
      "text/plain": [
       "<Projected CRS: EPSG:2992>\n",
       "Name: NAD83 / Oregon GIC Lambert (ft)\n",
       "Axis Info [cartesian]:\n",
       "- X[east]: Easting (foot)\n",
       "- Y[north]: Northing (foot)\n",
       "Area of Use:\n",
       "- name: United States (USA) - Oregon.\n",
       "- bounds: (-124.6, 41.98, -116.47, 46.26)\n",
       "Coordinate Operation:\n",
       "- name: Oregon GIC Lambert (International feet)\n",
       "- method: Lambert Conic Conformal (2SP)\n",
       "Datum: North American Datum 1983\n",
       "- Ellipsoid: GRS 1980\n",
       "- Prime Meridian: Greenwich"
      ]
     },
     "execution_count": 48,
     "metadata": {},
     "output_type": "execute_result"
    }
   ],
   "source": [
    "matched.crs"
   ]
  },
  {
   "cell_type": "code",
   "execution_count": 47,
   "id": "07463255",
   "metadata": {},
   "outputs": [],
   "source": [
    "partial = gpd.read_file(revpath, layer=f'{setID}_partial')"
   ]
  },
  {
   "cell_type": "code",
   "execution_count": 50,
   "id": "49e93dbe",
   "metadata": {},
   "outputs": [],
   "source": [
    "partial = partial.to_crs(epsg=2992)"
   ]
  },
  {
   "cell_type": "code",
   "execution_count": 65,
   "id": "ed7c5018",
   "metadata": {},
   "outputs": [],
   "source": [
    "gdf = merge_single_partial_file(mapped0)"
   ]
  },
  {
   "cell_type": "code",
   "execution_count": 64,
   "id": "9f208b91",
   "metadata": {},
   "outputs": [
    {
     "data": {
      "text/plain": [
       "35"
      ]
     },
     "execution_count": 64,
     "metadata": {},
     "output_type": "execute_result"
    }
   ],
   "source": [
    "len(mapped0)"
   ]
  },
  {
   "cell_type": "code",
   "execution_count": 66,
   "id": "c26970c1",
   "metadata": {
    "scrolled": true
   },
   "outputs": [
    {
     "data": {
      "text/plain": [
       "(119, 4)"
      ]
     },
     "execution_count": 66,
     "metadata": {},
     "output_type": "execute_result"
    }
   ],
   "source": [
    "gdf.shape"
   ]
  },
  {
   "cell_type": "code",
   "execution_count": 68,
   "id": "24c2ca85",
   "metadata": {},
   "outputs": [
    {
     "data": {
      "text/plain": [
       "109"
      ]
     },
     "execution_count": 68,
     "metadata": {},
     "output_type": "execute_result"
    }
   ],
   "source": [
    "len(gdf.wdID.unique())"
   ]
  },
  {
   "cell_type": "code",
   "execution_count": 54,
   "id": "1901cf4a",
   "metadata": {},
   "outputs": [],
   "source": [
    "dat = gdf.append(partial, ignore_index=True)\n",
    "edited_gdf = matched[matched.wdID.isin(editedIDs)]\n",
    "edited_gdf = edited_gdf[['wdID', 'geometry']].dissolve('wdID')\n",
    "edited_gdf.loc[:, 'wdID'] = edited_gdf.index\n",
    "data1 = edited_gdf.append(dat[['wdID', 'geometry']], ignore_index=True)"
   ]
  },
  {
   "cell_type": "code",
   "execution_count": 56,
   "id": "f24b888a",
   "metadata": {},
   "outputs": [],
   "source": [
    "matched_df = matched[['wdID', 'geometry']].dissolve('wdID')\n",
    "matched_df.loc[:, 'wdID'] = matched_df.index\n",
    "excluded = [wdID for wdID in data1.wdID.unique() if wdID in matched_df.wdID.unique()]\n",
    "issues = pd.read_csv(os.path.join(inpath, \"output\", \"to_review\", f\"{setID}_Mapping_Issues.csv\"))\n",
    "issueIDs = list(issues.wetdet_delin_number.unique())\n",
    "matched_gdf = matched_df[~matched_df.wdID.isin(excluded+issueIDs)]\n",
    "data2 = matched_gdf.append(data1, ignore_index=True)"
   ]
  },
  {
   "cell_type": "code",
   "execution_count": 57,
   "id": "9805668e",
   "metadata": {},
   "outputs": [],
   "source": [
    "wo_lot = gpd.read_file(revpath, layer=f'{setID}_wo_lot')"
   ]
  },
  {
   "cell_type": "code",
   "execution_count": 59,
   "id": "c4fbf519",
   "metadata": {},
   "outputs": [],
   "source": [
    "wo_lot = wo_lot.to_crs(epsg=2992)"
   ]
  },
  {
   "cell_type": "code",
   "execution_count": 60,
   "id": "f2530218",
   "metadata": {},
   "outputs": [],
   "source": [
    "wd = combine_wd_tables(setID=setID, nm_to_add=nm_to_add)\n",
    "data3 = data2.append(wo_lot[['wdID', 'geometry']], ignore_index=True)\n",
    "unmatchedIDs = [wdID for wdID in wd.wetdet_delin_number.unique() if wdID not in data3.wdID.unique()]\n",
    "toCheck = [ID for ID in unmatchedIDs if ID not in issueIDs]\n",
    "digitized_nIDs = len(editedIDs) + len(dat.wdID.unique()) + len(wo_lot.wdID.unique())"
   ]
  },
  {
   "cell_type": "code",
   "execution_count": 62,
   "id": "4209cac5",
   "metadata": {},
   "outputs": [
    {
     "data": {
      "text/plain": [
       "(509, 2)"
      ]
     },
     "execution_count": 62,
     "metadata": {},
     "output_type": "execute_result"
    }
   ],
   "source": [
    "data3.shape"
   ]
  },
  {
   "cell_type": "code",
   "execution_count": 61,
   "id": "40a13ebd",
   "metadata": {},
   "outputs": [],
   "source": [
    "data3.to_file(os.path.join(inpath, 'output', 'final', f'mapped_wd_{setID}.shp'))"
   ]
  },
  {
   "cell_type": "code",
   "execution_count": null,
   "id": "8511e086",
   "metadata": {},
   "outputs": [],
   "source": [
    "wdID = 'WD2021-0181'\n",
    "url = wd.loc[wd.wetdet_delin_number == wdID, 'DecisionLink'].values[0]\n",
    "webbrowser.open(url)"
   ]
  },
  {
   "cell_type": "code",
   "execution_count": 216,
   "id": "1623813b",
   "metadata": {},
   "outputs": [
    {
     "data": {
      "text/plain": [
       "nan"
      ]
     },
     "execution_count": 216,
     "metadata": {},
     "output_type": "execute_result"
    }
   ],
   "source": [
    "url"
   ]
  },
  {
   "cell_type": "code",
   "execution_count": 221,
   "id": "dce1b1fb",
   "metadata": {},
   "outputs": [
    {
     "data": {
      "text/plain": [
       "'WD2021-0181'"
      ]
     },
     "execution_count": 221,
     "metadata": {},
     "output_type": "execute_result"
    }
   ],
   "source": [
    "wdID"
   ]
  },
  {
   "cell_type": "code",
   "execution_count": 222,
   "id": "69f86e4a",
   "metadata": {},
   "outputs": [
    {
     "data": {
      "text/plain": [
       "659    2803\n",
       "Name: record_ID, dtype: int32"
      ]
     },
     "execution_count": 222,
     "metadata": {},
     "output_type": "execute_result"
    }
   ],
   "source": [
    "wd.loc[wd.wetdet_delin_number == wdID, 'record_ID']"
   ]
  },
  {
   "cell_type": "code",
   "execution_count": null,
   "id": "9e8a65f4",
   "metadata": {},
   "outputs": [],
   "source": [
    "extract_page_from_docLink(url=url, pageNm=4, wdID=wdID)"
   ]
  },
  {
   "cell_type": "code",
   "execution_count": 214,
   "id": "d1ec67eb",
   "metadata": {},
   "outputs": [],
   "source": [
    "extract_page_from_locPath(filePath=r'C:\\Users\\clid1852\\Downloads\\WD20190060 AgencyDecision.pdf', #T:\\DCProjects\\EPA-WD\\docs\\\n",
    "                          pageNm=8, wdID=wdID)"
   ]
  },
  {
   "cell_type": "code",
   "execution_count": 47,
   "id": "a0c9b7f0",
   "metadata": {},
   "outputs": [],
   "source": [
    "tomapID = matched[matched.notes.str.contains('Partial', case=False, na=False)].wdID.unique()"
   ]
  }
 ],
 "metadata": {
  "kernelspec": {
   "display_name": "Python 3",
   "language": "python",
   "name": "python3"
  },
  "language_info": {
   "codemirror_mode": {
    "name": "ipython",
    "version": 3
   },
   "file_extension": ".py",
   "mimetype": "text/x-python",
   "name": "python",
   "nbconvert_exporter": "python",
   "pygments_lexer": "ipython3",
   "version": "3.8.8"
  }
 },
 "nbformat": 4,
 "nbformat_minor": 5
}
