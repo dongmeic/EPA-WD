{
 "cells": [
  {
   "cell_type": "code",
   "execution_count": 1,
   "id": "ec3a673a",
   "metadata": {},
   "outputs": [],
   "source": [
    "from wdtools import *"
   ]
  },
  {
   "cell_type": "code",
   "execution_count": 2,
   "id": "b9872a76",
   "metadata": {},
   "outputs": [],
   "source": [
    "setID = 'Set003'"
   ]
  },
  {
   "cell_type": "code",
   "execution_count": 3,
   "id": "9f4e7827",
   "metadata": {},
   "outputs": [],
   "source": [
    "r2_df = pd.read_csv(os.path.join(inpath + '\\\\output\\\\to_review\\\\unmatched_df_Set003_r2_N.csv'))"
   ]
  },
  {
   "cell_type": "code",
   "execution_count": 4,
   "id": "197777f2",
   "metadata": {},
   "outputs": [],
   "source": [
    "cor_r2_2 = update_unmatched_df_r2(r2_df, setID, ml='N', export=False)"
   ]
  },
  {
   "cell_type": "code",
   "execution_count": 5,
   "id": "1aafbe50",
   "metadata": {},
   "outputs": [
    {
     "data": {
      "text/plain": [
       "array(['05N02W27B', '33S07VE', '33S07VE', '07S11W22CD', '05N01W05',\n",
       "       '03S10W', '33S07VE09', '06S11W35C', '07N02W08CC', '24S09E30CD'],\n",
       "      dtype=object)"
      ]
     },
     "execution_count": 5,
     "metadata": {},
     "output_type": "execute_result"
    }
   ],
   "source": [
    "cor_r2_2.trsqq.values"
   ]
  },
  {
   "cell_type": "code",
   "execution_count": 6,
   "id": "797a0326",
   "metadata": {},
   "outputs": [],
   "source": [
    "df = combine_corrected_unmatched(setID, ml='N')"
   ]
  },
  {
   "cell_type": "code",
   "execution_count": 7,
   "id": "5cc81775",
   "metadata": {},
   "outputs": [
    {
     "data": {
      "text/plain": [
       "(50, 25)"
      ]
     },
     "execution_count": 7,
     "metadata": {},
     "output_type": "execute_result"
    }
   ],
   "source": [
    "df.shape"
   ]
  },
  {
   "cell_type": "code",
   "execution_count": 8,
   "id": "240c380e",
   "metadata": {},
   "outputs": [],
   "source": [
    "rev_df = reindex_data(df)"
   ]
  },
  {
   "cell_type": "code",
   "execution_count": 9,
   "id": "6b8684fe",
   "metadata": {},
   "outputs": [
    {
     "data": {
      "text/plain": [
       "(178, 29)"
      ]
     },
     "execution_count": 9,
     "metadata": {},
     "output_type": "execute_result"
    }
   ],
   "source": [
    "rev_df.shape"
   ]
  },
  {
   "cell_type": "code",
   "execution_count": 10,
   "id": "c84c838f",
   "metadata": {},
   "outputs": [],
   "source": [
    "s = 'r2'\n",
    "ml = 'N'"
   ]
  },
  {
   "cell_type": "code",
   "execution_count": 11,
   "id": "7948855f",
   "metadata": {},
   "outputs": [],
   "source": [
    "notes = pd.read_csv(os.path.join(inpath + '\\\\output\\\\to_review\\\\', f'unmatched_df_{setID}_{s}_{ml}_notes.csv'))"
   ]
  },
  {
   "cell_type": "code",
   "execution_count": 12,
   "id": "56d564c0",
   "metadata": {},
   "outputs": [
    {
     "data": {
      "text/html": [
       "<div>\n",
       "<style scoped>\n",
       "    .dataframe tbody tr th:only-of-type {\n",
       "        vertical-align: middle;\n",
       "    }\n",
       "\n",
       "    .dataframe tbody tr th {\n",
       "        vertical-align: top;\n",
       "    }\n",
       "\n",
       "    .dataframe thead th {\n",
       "        text-align: right;\n",
       "    }\n",
       "</style>\n",
       "<table border=\"1\" class=\"dataframe\">\n",
       "  <thead>\n",
       "    <tr style=\"text-align: right;\">\n",
       "      <th></th>\n",
       "      <th>wetdet_delin_number</th>\n",
       "      <th>field</th>\n",
       "      <th>cor_type</th>\n",
       "      <th>from</th>\n",
       "      <th>to</th>\n",
       "    </tr>\n",
       "  </thead>\n",
       "  <tbody>\n",
       "    <tr>\n",
       "      <th>0</th>\n",
       "      <td>WD2017-0267</td>\n",
       "      <td>trsqq</td>\n",
       "      <td>section number</td>\n",
       "      <td>17</td>\n",
       "      <td>08</td>\n",
       "    </tr>\n",
       "    <tr>\n",
       "      <th>1</th>\n",
       "      <td>WD2021-0192</td>\n",
       "      <td>trsqq</td>\n",
       "      <td>QQ</td>\n",
       "      <td>C0</td>\n",
       "      <td>CB</td>\n",
       "    </tr>\n",
       "    <tr>\n",
       "      <th>2</th>\n",
       "      <td>WD2018-0242</td>\n",
       "      <td>trsqq</td>\n",
       "      <td>section number</td>\n",
       "      <td>00</td>\n",
       "      <td>30</td>\n",
       "    </tr>\n",
       "    <tr>\n",
       "      <th>3</th>\n",
       "      <td>WD2018-0242</td>\n",
       "      <td>trsqq</td>\n",
       "      <td>QQ</td>\n",
       "      <td>00</td>\n",
       "      <td>CD</td>\n",
       "    </tr>\n",
       "    <tr>\n",
       "      <th>4</th>\n",
       "      <td>WD2018-0242</td>\n",
       "      <td>parcel_id</td>\n",
       "      <td>parcel id</td>\n",
       "      <td>201</td>\n",
       "      <td>2000</td>\n",
       "    </tr>\n",
       "  </tbody>\n",
       "</table>\n",
       "</div>"
      ],
      "text/plain": [
       "  wetdet_delin_number      field        cor_type from    to\n",
       "0         WD2017-0267      trsqq  section number   17    08\n",
       "1         WD2021-0192      trsqq              QQ   C0    CB\n",
       "2         WD2018-0242      trsqq  section number   00    30\n",
       "3         WD2018-0242      trsqq              QQ   00    CD\n",
       "4         WD2018-0242  parcel_id       parcel id  201  2000"
      ]
     },
     "execution_count": 12,
     "metadata": {},
     "output_type": "execute_result"
    }
   ],
   "source": [
    "notes"
   ]
  },
  {
   "cell_type": "code",
   "execution_count": 13,
   "id": "1eecb6e3",
   "metadata": {},
   "outputs": [],
   "source": [
    "df = r2_df"
   ]
  },
  {
   "cell_type": "code",
   "execution_count": 14,
   "id": "b758e89d",
   "metadata": {},
   "outputs": [],
   "source": [
    "df = df.copy()[df.wetdet_delin_number.isin(notes.wetdet_delin_number.unique())]"
   ]
  },
  {
   "cell_type": "code",
   "execution_count": 15,
   "id": "a0ce112d",
   "metadata": {},
   "outputs": [
    {
     "data": {
      "text/html": [
       "<div>\n",
       "<style scoped>\n",
       "    .dataframe tbody tr th:only-of-type {\n",
       "        vertical-align: middle;\n",
       "    }\n",
       "\n",
       "    .dataframe tbody tr th {\n",
       "        vertical-align: top;\n",
       "    }\n",
       "\n",
       "    .dataframe thead th {\n",
       "        text-align: right;\n",
       "    }\n",
       "</style>\n",
       "<table border=\"1\" class=\"dataframe\">\n",
       "  <thead>\n",
       "    <tr style=\"text-align: right;\">\n",
       "      <th></th>\n",
       "      <th>wetdet_delin_number</th>\n",
       "      <th>trsqq</th>\n",
       "      <th>parcel_id</th>\n",
       "      <th>address_location_desc</th>\n",
       "      <th>city</th>\n",
       "      <th>county</th>\n",
       "      <th>site_name</th>\n",
       "      <th>site_desc</th>\n",
       "      <th>latitude</th>\n",
       "      <th>longitude</th>\n",
       "      <th>...</th>\n",
       "      <th>received_date</th>\n",
       "      <th>response_date</th>\n",
       "      <th>reissuance_response_date</th>\n",
       "      <th>project_id</th>\n",
       "      <th>site_id</th>\n",
       "      <th>record_ID</th>\n",
       "      <th>notes</th>\n",
       "      <th>recyear</th>\n",
       "      <th>IDyear</th>\n",
       "      <th>missinglot</th>\n",
       "    </tr>\n",
       "  </thead>\n",
       "  <tbody>\n",
       "    <tr>\n",
       "      <th>0</th>\n",
       "      <td>WD2021-0192</td>\n",
       "      <td>06S11W35C</td>\n",
       "      <td>106p</td>\n",
       "      <td>1848 NE Sal La Sea Dr</td>\n",
       "      <td>Lincoln City</td>\n",
       "      <td>Lincoln</td>\n",
       "      <td>Logan Culvert Replacement Project</td>\n",
       "      <td>WD2021-0192 Replacement of existing culvert wi...</td>\n",
       "      <td>45.008654</td>\n",
       "      <td>-124.008015</td>\n",
       "      <td>...</td>\n",
       "      <td>2021-04-13</td>\n",
       "      <td>2022-02-17</td>\n",
       "      <td>NaN</td>\n",
       "      <td>81783.0</td>\n",
       "      <td>135782</td>\n",
       "      <td>2660</td>\n",
       "      <td>Partial</td>\n",
       "      <td>2021</td>\n",
       "      <td>2021</td>\n",
       "      <td>N</td>\n",
       "    </tr>\n",
       "    <tr>\n",
       "      <th>6</th>\n",
       "      <td>WD2017-0267</td>\n",
       "      <td>07N02W17CC</td>\n",
       "      <td>800,900,1000</td>\n",
       "      <td>29120 Dike Rd, Rainier</td>\n",
       "      <td>Rainier</td>\n",
       "      <td>Columbia</td>\n",
       "      <td>Columbia Crossing 07N02W17CC</td>\n",
       "      <td>Retail development</td>\n",
       "      <td>46.096642</td>\n",
       "      <td>-122.964890</td>\n",
       "      <td>...</td>\n",
       "      <td>2017-06-23</td>\n",
       "      <td>2017-07-26</td>\n",
       "      <td>NaN</td>\n",
       "      <td>58816.0</td>\n",
       "      <td>105996</td>\n",
       "      <td>2162</td>\n",
       "      <td>NaN</td>\n",
       "      <td>2017</td>\n",
       "      <td>2017</td>\n",
       "      <td>N</td>\n",
       "    </tr>\n",
       "    <tr>\n",
       "      <th>7</th>\n",
       "      <td>WD2018-0242</td>\n",
       "      <td>24S09E00</td>\n",
       "      <td>201</td>\n",
       "      <td>Multiple</td>\n",
       "      <td>Crescent</td>\n",
       "      <td>Klamath</td>\n",
       "      <td>Crescent Waste Water Proj</td>\n",
       "      <td>Waste water treatment facility and infrastruct...</td>\n",
       "      <td>43.461260</td>\n",
       "      <td>-121.696353</td>\n",
       "      <td>...</td>\n",
       "      <td>2018-04-26</td>\n",
       "      <td>2018-07-23</td>\n",
       "      <td>NaN</td>\n",
       "      <td>NaN</td>\n",
       "      <td>141553</td>\n",
       "      <td>2392</td>\n",
       "      <td>NaN</td>\n",
       "      <td>2018</td>\n",
       "      <td>2018</td>\n",
       "      <td>N</td>\n",
       "    </tr>\n",
       "  </tbody>\n",
       "</table>\n",
       "<p>3 rows × 25 columns</p>\n",
       "</div>"
      ],
      "text/plain": [
       "  wetdet_delin_number       trsqq     parcel_id   address_location_desc  \\\n",
       "0         WD2021-0192   06S11W35C          106p   1848 NE Sal La Sea Dr   \n",
       "6         WD2017-0267  07N02W17CC  800,900,1000  29120 Dike Rd, Rainier   \n",
       "7         WD2018-0242    24S09E00           201                Multiple   \n",
       "\n",
       "           city    county                          site_name  \\\n",
       "0  Lincoln City   Lincoln  Logan Culvert Replacement Project   \n",
       "6       Rainier  Columbia       Columbia Crossing 07N02W17CC   \n",
       "7      Crescent   Klamath          Crescent Waste Water Proj   \n",
       "\n",
       "                                           site_desc   latitude   longitude  \\\n",
       "0  WD2021-0192 Replacement of existing culvert wi...  45.008654 -124.008015   \n",
       "6                                 Retail development  46.096642 -122.964890   \n",
       "7  Waste water treatment facility and infrastruct...  43.461260 -121.696353   \n",
       "\n",
       "   ... received_date response_date reissuance_response_date project_id  \\\n",
       "0  ...    2021-04-13    2022-02-17                      NaN    81783.0   \n",
       "6  ...    2017-06-23    2017-07-26                      NaN    58816.0   \n",
       "7  ...    2018-04-26    2018-07-23                      NaN        NaN   \n",
       "\n",
       "  site_id record_ID    notes  recyear  IDyear  missinglot  \n",
       "0  135782      2660  Partial     2021    2021           N  \n",
       "6  105996      2162      NaN     2017    2017           N  \n",
       "7  141553      2392      NaN     2018    2018           N  \n",
       "\n",
       "[3 rows x 25 columns]"
      ]
     },
     "execution_count": 15,
     "metadata": {},
     "output_type": "execute_result"
    }
   ],
   "source": [
    "df"
   ]
  },
  {
   "cell_type": "code",
   "execution_count": 16,
   "id": "980572f2",
   "metadata": {},
   "outputs": [],
   "source": [
    "for wdID in df.wetdet_delin_number.unique():\n",
    "    sel = df.wetdet_delin_number == wdID\n",
    "    fields = notes.loc[notes.wetdet_delin_number == wdID, 'field'].unique()\n",
    "    for field in fields:\n",
    "        sel2 = (notes.wetdet_delin_number==wdID) & (notes.field==field)\n",
    "        k = notes[sel2].shape[0]\n",
    "        if k > 1:\n",
    "            df.loc[sel, field] = df[sel][field].apply(lambda x: pad_string(x))\n",
    "            cor_types = notes.loc[sel2, 'cor_type'].values\n",
    "            for cor_type in cor_types:\n",
    "                sel3 = (notes.wetdet_delin_number==wdID) & (notes.field==field) & (notes.cor_type==cor_type)\n",
    "                ind = trsqq_cor_dict[cor_type]\n",
    "                df.loc[sel, field] = df[sel][field].apply(lambda x: replace_str_index(x,\n",
    "                                                                                      index=ind,\n",
    "                                                                                      replacement=notes.loc[sel3, 'to'].values[0]))\n",
    "        else:\n",
    "            df.loc[sel, field] = df[sel][field].apply(lambda x: x.replace(notes.loc[sel2, 'from'].values[0],\n",
    "                                                                        notes.loc[sel2, 'to'].values[0]))"
   ]
  },
  {
   "cell_type": "code",
   "execution_count": 17,
   "id": "5aa49b2e",
   "metadata": {},
   "outputs": [
    {
     "data": {
      "text/html": [
       "<div>\n",
       "<style scoped>\n",
       "    .dataframe tbody tr th:only-of-type {\n",
       "        vertical-align: middle;\n",
       "    }\n",
       "\n",
       "    .dataframe tbody tr th {\n",
       "        vertical-align: top;\n",
       "    }\n",
       "\n",
       "    .dataframe thead th {\n",
       "        text-align: right;\n",
       "    }\n",
       "</style>\n",
       "<table border=\"1\" class=\"dataframe\">\n",
       "  <thead>\n",
       "    <tr style=\"text-align: right;\">\n",
       "      <th></th>\n",
       "      <th>wetdet_delin_number</th>\n",
       "      <th>trsqq</th>\n",
       "      <th>parcel_id</th>\n",
       "      <th>address_location_desc</th>\n",
       "      <th>city</th>\n",
       "      <th>county</th>\n",
       "      <th>site_name</th>\n",
       "      <th>site_desc</th>\n",
       "      <th>latitude</th>\n",
       "      <th>longitude</th>\n",
       "      <th>...</th>\n",
       "      <th>received_date</th>\n",
       "      <th>response_date</th>\n",
       "      <th>reissuance_response_date</th>\n",
       "      <th>project_id</th>\n",
       "      <th>site_id</th>\n",
       "      <th>record_ID</th>\n",
       "      <th>notes</th>\n",
       "      <th>recyear</th>\n",
       "      <th>IDyear</th>\n",
       "      <th>missinglot</th>\n",
       "    </tr>\n",
       "  </thead>\n",
       "  <tbody>\n",
       "    <tr>\n",
       "      <th>0</th>\n",
       "      <td>WD2021-0192</td>\n",
       "      <td>06S11W35C</td>\n",
       "      <td>106p</td>\n",
       "      <td>1848 NE Sal La Sea Dr</td>\n",
       "      <td>Lincoln City</td>\n",
       "      <td>Lincoln</td>\n",
       "      <td>Logan Culvert Replacement Project</td>\n",
       "      <td>WD2021-0192 Replacement of existing culvert wi...</td>\n",
       "      <td>45.008654</td>\n",
       "      <td>-124.008015</td>\n",
       "      <td>...</td>\n",
       "      <td>2021-04-13</td>\n",
       "      <td>2022-02-17</td>\n",
       "      <td>NaN</td>\n",
       "      <td>81783.0</td>\n",
       "      <td>135782</td>\n",
       "      <td>2660</td>\n",
       "      <td>Partial</td>\n",
       "      <td>2021</td>\n",
       "      <td>2021</td>\n",
       "      <td>N</td>\n",
       "    </tr>\n",
       "    <tr>\n",
       "      <th>6</th>\n",
       "      <td>WD2017-0267</td>\n",
       "      <td>07N02W08CC</td>\n",
       "      <td>800,900,1000</td>\n",
       "      <td>29120 Dike Rd, Rainier</td>\n",
       "      <td>Rainier</td>\n",
       "      <td>Columbia</td>\n",
       "      <td>Columbia Crossing 07N02W17CC</td>\n",
       "      <td>Retail development</td>\n",
       "      <td>46.096642</td>\n",
       "      <td>-122.964890</td>\n",
       "      <td>...</td>\n",
       "      <td>2017-06-23</td>\n",
       "      <td>2017-07-26</td>\n",
       "      <td>NaN</td>\n",
       "      <td>58816.0</td>\n",
       "      <td>105996</td>\n",
       "      <td>2162</td>\n",
       "      <td>NaN</td>\n",
       "      <td>2017</td>\n",
       "      <td>2017</td>\n",
       "      <td>N</td>\n",
       "    </tr>\n",
       "    <tr>\n",
       "      <th>7</th>\n",
       "      <td>WD2018-0242</td>\n",
       "      <td>24S09E30CD</td>\n",
       "      <td>2000</td>\n",
       "      <td>Multiple</td>\n",
       "      <td>Crescent</td>\n",
       "      <td>Klamath</td>\n",
       "      <td>Crescent Waste Water Proj</td>\n",
       "      <td>Waste water treatment facility and infrastruct...</td>\n",
       "      <td>43.461260</td>\n",
       "      <td>-121.696353</td>\n",
       "      <td>...</td>\n",
       "      <td>2018-04-26</td>\n",
       "      <td>2018-07-23</td>\n",
       "      <td>NaN</td>\n",
       "      <td>NaN</td>\n",
       "      <td>141553</td>\n",
       "      <td>2392</td>\n",
       "      <td>NaN</td>\n",
       "      <td>2018</td>\n",
       "      <td>2018</td>\n",
       "      <td>N</td>\n",
       "    </tr>\n",
       "  </tbody>\n",
       "</table>\n",
       "<p>3 rows × 25 columns</p>\n",
       "</div>"
      ],
      "text/plain": [
       "  wetdet_delin_number       trsqq     parcel_id   address_location_desc  \\\n",
       "0         WD2021-0192   06S11W35C          106p   1848 NE Sal La Sea Dr   \n",
       "6         WD2017-0267  07N02W08CC  800,900,1000  29120 Dike Rd, Rainier   \n",
       "7         WD2018-0242  24S09E30CD          2000                Multiple   \n",
       "\n",
       "           city    county                          site_name  \\\n",
       "0  Lincoln City   Lincoln  Logan Culvert Replacement Project   \n",
       "6       Rainier  Columbia       Columbia Crossing 07N02W17CC   \n",
       "7      Crescent   Klamath          Crescent Waste Water Proj   \n",
       "\n",
       "                                           site_desc   latitude   longitude  \\\n",
       "0  WD2021-0192 Replacement of existing culvert wi...  45.008654 -124.008015   \n",
       "6                                 Retail development  46.096642 -122.964890   \n",
       "7  Waste water treatment facility and infrastruct...  43.461260 -121.696353   \n",
       "\n",
       "   ... received_date response_date reissuance_response_date project_id  \\\n",
       "0  ...    2021-04-13    2022-02-17                      NaN    81783.0   \n",
       "6  ...    2017-06-23    2017-07-26                      NaN    58816.0   \n",
       "7  ...    2018-04-26    2018-07-23                      NaN        NaN   \n",
       "\n",
       "  site_id record_ID    notes  recyear  IDyear  missinglot  \n",
       "0  135782      2660  Partial     2021    2021           N  \n",
       "6  105996      2162      NaN     2017    2017           N  \n",
       "7  141553      2392      NaN     2018    2018           N  \n",
       "\n",
       "[3 rows x 25 columns]"
      ]
     },
     "execution_count": 17,
     "metadata": {},
     "output_type": "execute_result"
    }
   ],
   "source": [
    "df"
   ]
  },
  {
   "cell_type": "code",
   "execution_count": 18,
   "id": "3538699e",
   "metadata": {},
   "outputs": [],
   "source": [
    "wdID = 'WD2021-0192'"
   ]
  },
  {
   "cell_type": "code",
   "execution_count": 19,
   "id": "eab5830f",
   "metadata": {},
   "outputs": [],
   "source": [
    "sel = df.wetdet_delin_number == wdID\n",
    "fields = notes.loc[notes.wetdet_delin_number == wdID, 'field'].unique()"
   ]
  },
  {
   "cell_type": "code",
   "execution_count": 21,
   "id": "ea395de8",
   "metadata": {},
   "outputs": [],
   "source": [
    "field = fields[0]"
   ]
  },
  {
   "cell_type": "code",
   "execution_count": 22,
   "id": "93759e17",
   "metadata": {},
   "outputs": [],
   "source": [
    "sel2 = (notes.wetdet_delin_number==wdID) & (notes.field==field)\n",
    "k = notes[sel2].shape[0]"
   ]
  },
  {
   "cell_type": "code",
   "execution_count": 23,
   "id": "3fa575fa",
   "metadata": {},
   "outputs": [
    {
     "data": {
      "text/plain": [
       "1"
      ]
     },
     "execution_count": 23,
     "metadata": {},
     "output_type": "execute_result"
    }
   ],
   "source": [
    "k"
   ]
  },
  {
   "cell_type": "code",
   "execution_count": 24,
   "id": "ac8f80a3",
   "metadata": {},
   "outputs": [
    {
     "data": {
      "text/plain": [
       "0    06S11W35C\n",
       "Name: trsqq, dtype: object"
      ]
     },
     "execution_count": 24,
     "metadata": {},
     "output_type": "execute_result"
    }
   ],
   "source": [
    "df[sel][field]"
   ]
  },
  {
   "cell_type": "code",
   "execution_count": 25,
   "id": "2c428824",
   "metadata": {},
   "outputs": [],
   "source": [
    "x = '06S11W35C'"
   ]
  },
  {
   "cell_type": "code",
   "execution_count": 27,
   "id": "e2f8da8b",
   "metadata": {},
   "outputs": [
    {
     "data": {
      "text/plain": [
       "'C0'"
      ]
     },
     "execution_count": 27,
     "metadata": {},
     "output_type": "execute_result"
    }
   ],
   "source": [
    "notes.loc[sel2, 'from'].values[0]"
   ]
  },
  {
   "cell_type": "code",
   "execution_count": 30,
   "id": "dd47be22",
   "metadata": {},
   "outputs": [
    {
     "data": {
      "text/plain": [
       "'24S09E0000'"
      ]
     },
     "execution_count": 30,
     "metadata": {},
     "output_type": "execute_result"
    }
   ],
   "source": [
    "pad_string('24S09E00')"
   ]
  },
  {
   "cell_type": "code",
   "execution_count": 29,
   "id": "c9f81180",
   "metadata": {},
   "outputs": [
    {
     "data": {
      "text/plain": [
       "'06S11W35CB'"
      ]
     },
     "execution_count": 29,
     "metadata": {},
     "output_type": "execute_result"
    }
   ],
   "source": [
    "pad_string(x).replace(notes.loc[sel2, 'from'].values[0], notes.loc[sel2, 'to'].values[0])"
   ]
  }
 ],
 "metadata": {
  "kernelspec": {
   "display_name": "Python 3",
   "language": "python",
   "name": "python3"
  },
  "language_info": {
   "codemirror_mode": {
    "name": "ipython",
    "version": 3
   },
   "file_extension": ".py",
   "mimetype": "text/x-python",
   "name": "python",
   "nbconvert_exporter": "python",
   "pygments_lexer": "ipython3",
   "version": "3.8.8"
  }
 },
 "nbformat": 4,
 "nbformat_minor": 5
}
