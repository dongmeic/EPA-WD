{
 "cells": [
  {
   "cell_type": "code",
   "execution_count": 1,
   "id": "3c81371d",
   "metadata": {},
   "outputs": [],
   "source": [
    "%load_ext autoreload\n",
    "%autoreload 2"
   ]
  },
  {
   "cell_type": "code",
   "execution_count": 2,
   "id": "c52bfea2",
   "metadata": {},
   "outputs": [],
   "source": [
    "from wdtools import *"
   ]
  },
  {
   "cell_type": "code",
   "execution_count": 31,
   "id": "73d4af4b",
   "metadata": {},
   "outputs": [],
   "source": [
    "mapped = [lyr for lyr in fiona.listlayers(issuepath) if (lyr != 'WD2017_0229') and ('L' not in lyr)]"
   ]
  },
  {
   "cell_type": "code",
   "execution_count": 26,
   "id": "3a87a6ad",
   "metadata": {},
   "outputs": [],
   "source": [
    "ID_lst = list(map(lambda x:x.replace(\"_\", \"-\"), mapped))"
   ]
  },
  {
   "cell_type": "code",
   "execution_count": 4,
   "id": "b1a3e699",
   "metadata": {},
   "outputs": [
    {
     "data": {
      "text/plain": [
       "35"
      ]
     },
     "execution_count": 4,
     "metadata": {},
     "output_type": "execute_result"
    }
   ],
   "source": [
    "len(mapped)"
   ]
  },
  {
   "cell_type": "code",
   "execution_count": 12,
   "id": "2720dfdf",
   "metadata": {},
   "outputs": [],
   "source": [
    "setID = 'Set004'"
   ]
  },
  {
   "cell_type": "code",
   "execution_count": 13,
   "id": "d4518064",
   "metadata": {},
   "outputs": [],
   "source": [
    "issueIDs_by_set = pd.read_csv(outpath + f'\\\\to_review\\\\{setID}_Mapping_Issues.csv')"
   ]
  },
  {
   "cell_type": "code",
   "execution_count": 14,
   "id": "6d4aa59b",
   "metadata": {},
   "outputs": [
    {
     "data": {
      "text/plain": [
       "array(['WD2021-0031', 'WD2017-0050', 'WD2020-0400', 'WD2021-0183',\n",
       "       'WD2020-0208', 'WD2022-0158', 'WD2018-0139', 'WD2017-0022',\n",
       "       'WD2018-0002', 'WD2017-0419', 'WD2019-0436', 'WD2020-0531',\n",
       "       'WD2021-0653', 'WD2020-0252', 'WD2019-0208', 'WD2019-0320',\n",
       "       'WD2019-0389', 'WD2020-0568'], dtype=object)"
      ]
     },
     "execution_count": 14,
     "metadata": {},
     "output_type": "execute_result"
    }
   ],
   "source": [
    "issueIDs_by_set.wetdet_delin_number.values"
   ]
  },
  {
   "cell_type": "code",
   "execution_count": 28,
   "id": "b213e77e",
   "metadata": {},
   "outputs": [],
   "source": [
    "mappedIDs = [wdID for wdID in issueIDs_by_set.wetdet_delin_number.values if wdID in ID_lst]"
   ]
  },
  {
   "cell_type": "code",
   "execution_count": 15,
   "id": "c60a3e79",
   "metadata": {},
   "outputs": [],
   "source": [
    "set_gdf = gpd.read_file(outpath + f'\\\\final\\\\mapped_wd_{setID}.shp')"
   ]
  },
  {
   "cell_type": "code",
   "execution_count": 16,
   "id": "dffc3a45",
   "metadata": {},
   "outputs": [
    {
     "data": {
      "text/html": [
       "<div>\n",
       "<style scoped>\n",
       "    .dataframe tbody tr th:only-of-type {\n",
       "        vertical-align: middle;\n",
       "    }\n",
       "\n",
       "    .dataframe tbody tr th {\n",
       "        vertical-align: top;\n",
       "    }\n",
       "\n",
       "    .dataframe thead th {\n",
       "        text-align: right;\n",
       "    }\n",
       "</style>\n",
       "<table border=\"1\" class=\"dataframe\">\n",
       "  <thead>\n",
       "    <tr style=\"text-align: right;\">\n",
       "      <th></th>\n",
       "      <th>code</th>\n",
       "      <th>wdID</th>\n",
       "      <th>geometry</th>\n",
       "    </tr>\n",
       "  </thead>\n",
       "  <tbody>\n",
       "    <tr>\n",
       "      <th>0</th>\n",
       "      <td>0</td>\n",
       "      <td>WD2017-0020</td>\n",
       "      <td>MULTIPOLYGON (((679785.514 1296539.985, 679758...</td>\n",
       "    </tr>\n",
       "    <tr>\n",
       "      <th>1</th>\n",
       "      <td>2</td>\n",
       "      <td>WD2017-0036</td>\n",
       "      <td>POLYGON ((624741.103 1304629.012, 624789.357 1...</td>\n",
       "    </tr>\n",
       "    <tr>\n",
       "      <th>2</th>\n",
       "      <td>2</td>\n",
       "      <td>WD2017-0052</td>\n",
       "      <td>MULTIPOLYGON (((762874.664 1362889.004, 762896...</td>\n",
       "    </tr>\n",
       "  </tbody>\n",
       "</table>\n",
       "</div>"
      ],
      "text/plain": [
       "   code         wdID                                           geometry\n",
       "0     0  WD2017-0020  MULTIPOLYGON (((679785.514 1296539.985, 679758...\n",
       "1     2  WD2017-0036  POLYGON ((624741.103 1304629.012, 624789.357 1...\n",
       "2     2  WD2017-0052  MULTIPOLYGON (((762874.664 1362889.004, 762896..."
      ]
     },
     "execution_count": 16,
     "metadata": {},
     "output_type": "execute_result"
    }
   ],
   "source": [
    "set_gdf.head(3)"
   ]
  },
  {
   "cell_type": "code",
   "execution_count": 34,
   "id": "6cfeef15",
   "metadata": {},
   "outputs": [],
   "source": [
    "gdf = merge_single_partial_file(setID=False, \n",
    "                                wIDlist=list(map(lambda x:x.replace(\"-\", \"_\"), mappedIDs)), \n",
    "                                from_set=False)"
   ]
  },
  {
   "cell_type": "code",
   "execution_count": 36,
   "id": "fcd1b846",
   "metadata": {},
   "outputs": [],
   "source": [
    "code0 = [\"WD2019-0300\", \"WD2021-0597\", \"WD2019-0436\", \"WD2020-0568\", \"WD2019-0300\"]\n",
    "code1 = [\"WD2017-0314\", \"WD2019-0046\", \"WD2019-0496\", \"WD2021-0416\", \"WD2021-0653\"]"
   ]
  },
  {
   "cell_type": "code",
   "execution_count": 37,
   "id": "88e898df",
   "metadata": {},
   "outputs": [],
   "source": [
    "gdf = gdf.dissolve('wdID')\n",
    "gdf['wdID'] = gdf.index\n",
    "gdf.reset_index(drop=True, inplace=True)\n",
    "gdf.loc[gdf.wdID.isin(code0),'code'] = 0\n",
    "gdf.loc[gdf.wdID.isin(code1),'code'] = 1\n",
    "gdf.loc[gdf.code.isnull(),'code'] = 2"
   ]
  },
  {
   "cell_type": "code",
   "execution_count": 40,
   "id": "7041e0a1",
   "metadata": {},
   "outputs": [],
   "source": [
    "set_gdf = pd.concat([set_gdf, gdf[['code', 'wdID', 'geometry']]])"
   ]
  },
  {
   "cell_type": "code",
   "execution_count": 42,
   "id": "44ac98a6",
   "metadata": {},
   "outputs": [],
   "source": [
    "set_gdf.to_file(os.path.join(inpath, \"output\", \"final\", f\"{setID}_mapped_wd.shp\"), index=False)"
   ]
  },
  {
   "cell_type": "code",
   "execution_count": 66,
   "id": "8729b28f",
   "metadata": {},
   "outputs": [],
   "source": [
    "tocheckIDs, set_gdf = add_issueIDs_to_set(setID='Set004', export=True)"
   ]
  },
  {
   "cell_type": "code",
   "execution_count": 61,
   "id": "57b9ddc0",
   "metadata": {},
   "outputs": [
    {
     "data": {
      "text/plain": [
       "['WD2021-0179', 'WD2021-0181']"
      ]
     },
     "execution_count": 61,
     "metadata": {},
     "output_type": "execute_result"
    }
   ],
   "source": [
    "tocheckIDs"
   ]
  },
  {
   "cell_type": "code",
   "execution_count": 56,
   "id": "e7cf2e6e",
   "metadata": {},
   "outputs": [
    {
     "data": {
      "text/plain": [
       "True"
      ]
     },
     "execution_count": 56,
     "metadata": {},
     "output_type": "execute_result"
    }
   ],
   "source": [
    "'WD2018-0168' in set_gdf.wdID.values"
   ]
  },
  {
   "cell_type": "code",
   "execution_count": 57,
   "id": "00b59bb9",
   "metadata": {},
   "outputs": [
    {
     "data": {
      "text/plain": [
       "<AxesSubplot:>"
      ]
     },
     "execution_count": 57,
     "metadata": {},
     "output_type": "execute_result"
    },
    {
     "data": {
      "image/png": "[encoded data removed]",
      "text/plain": [
       "<Figure size 432x288 with 1 Axes>"
      ]
     },
     "metadata": {
      "needs_background": "light"
     },
     "output_type": "display_data"
    }
   ],
   "source": [
    "set_gdf[set_gdf.wdID=='WD2018-0168'].plot()"
   ]
  },
  {
   "cell_type": "code",
   "execution_count": 62,
   "id": "d5060fad",
   "metadata": {},
   "outputs": [],
   "source": [
    "def add_issueIDs_to_set(setID, export=True):\n",
    "    mapped = [lyr for lyr in fiona.listlayers(issuepath) if (lyr != 'WD2017_0229') and ('L' not in lyr)]\n",
    "    ID_lst = list(map(lambda x:x.replace(\"_\", \"-\"), mapped))\n",
    "    issueIDs_by_set = pd.read_csv(outpath + f'\\\\to_review\\\\{setID}_Mapping_Issues.csv')\n",
    "    mappedIDs = [wdID for wdID in issueIDs_by_set.wetdet_delin_number.values if wdID in ID_lst]\n",
    "    tocheckIDs = [wdID for wdID in issueIDs_by_set.wetdet_delin_number.values if wdID not in ID_lst]\n",
    "    set_gdf = gpd.read_file(outpath + f'\\\\final\\\\mapped_wd_{setID}.shp')\n",
    "    gdf = merge_single_partial_file(setID=False, \n",
    "                                wIDlist=list(map(lambda x:x.replace(\"-\", \"_\"), mappedIDs)), \n",
    "                                from_set=False)\n",
    "    gdf = gdf.dissolve('wdID')\n",
    "    gdf['wdID'] = gdf.index\n",
    "    gdf.reset_index(drop=True, inplace=True)\n",
    "    gdf.loc[gdf.wdID.isin(code0),'code'] = 0\n",
    "    gdf.loc[gdf.wdID.isin(code1),'code'] = 1\n",
    "    gdf.loc[gdf.code.isnull(),'code'] = 2\n",
    "    set_gdf = pd.concat([set_gdf[~set_gdf.wdID.isin(mappedIDs)], gdf[['code', 'wdID', 'geometry']]])\n",
    "    if export:\n",
    "        set_gdf.to_file(os.path.join(inpath, \"output\", \"final\", f\"{setID}_mapped_wd.shp\"), index=False)\n",
    "    return tocheckIDs, set_gdf"
   ]
  }
 ],
 "metadata": {
  "kernelspec": {
   "display_name": "Python 3",
   "language": "python",
   "name": "python3"
  },
  "language_info": {
   "codemirror_mode": {
    "name": "ipython",
    "version": 3
   },
   "file_extension": ".py",
   "mimetype": "text/x-python",
   "name": "python",
   "nbconvert_exporter": "python",
   "pygments_lexer": "ipython3",
   "version": "3.8.8"
  }
 },
 "nbformat": 4,
 "nbformat_minor": 5
}
