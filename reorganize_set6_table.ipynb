{
 "cells": [
  {
   "cell_type": "code",
   "execution_count": 1,
   "id": "d20c4d6b",
   "metadata": {},
   "outputs": [],
   "source": [
    "%load_ext autoreload\n",
    "%autoreload 2"
   ]
  },
  {
   "cell_type": "code",
   "execution_count": 2,
   "id": "4e8d51e3",
   "metadata": {},
   "outputs": [],
   "source": [
    "from wdtools import *"
   ]
  },
  {
   "cell_type": "code",
   "execution_count": 4,
   "id": "cc4b64ef",
   "metadata": {},
   "outputs": [],
   "source": [
    "datafile = wdpath+\"\\\\20220602-20221231Grp7.xlsx\"\n",
    "xl = pd.ExcelFile(datafile)"
   ]
  },
  {
   "cell_type": "code",
   "execution_count": 5,
   "id": "3e9d49eb",
   "metadata": {},
   "outputs": [
    {
     "data": {
      "text/plain": [
       "['Delineations-Determinations', 'reorg', 'non-participants']"
      ]
     },
     "execution_count": 5,
     "metadata": {},
     "output_type": "execute_result"
    }
   ],
   "source": [
    "xl.sheet_names"
   ]
  },
  {
   "cell_type": "code",
   "execution_count": 20,
   "id": "d5e3960d",
   "metadata": {},
   "outputs": [],
   "source": [
    "dat = pd.read_excel(datafile, sheet_name=xl.sheet_names[1])"
   ]
  },
  {
   "cell_type": "code",
   "execution_count": 24,
   "id": "13c9ab25",
   "metadata": {},
   "outputs": [],
   "source": [
    "dat = dat[~dat.wetdet_delin_number.isin(['WD2022-0383', 'WD2022-0464'])]"
   ]
  },
  {
   "cell_type": "code",
   "execution_count": 25,
   "id": "cbb55de7",
   "metadata": {
    "scrolled": true
   },
   "outputs": [
    {
     "data": {
      "text/plain": [
       "array(['Baker', 'Benton', 'Clackamas', 'Clatsop', 'Columbia', 'Coos',\n",
       "       'Crook', 'Curry', 'Deschutes', 'Gilliam', 'Grant', 'Harney',\n",
       "       'Hood River', 'Jackson', 'Jefferson', 'Josephine', 'Klamath',\n",
       "       'Lake', 'Lane', 'Lincoln', 'Linn', 'Marion', 'Morrow', 'Multnomah',\n",
       "       'Polk', 'Tillamook', 'Umatilla', 'Union', 'Wasco', 'Yamhill'],\n",
       "      dtype=object)"
      ]
     },
     "execution_count": 25,
     "metadata": {},
     "output_type": "execute_result"
    }
   ],
   "source": [
    "dat.county.unique()"
   ]
  },
  {
   "cell_type": "code",
   "execution_count": 10,
   "id": "be4ee3c9",
   "metadata": {},
   "outputs": [],
   "source": [
    "np_cnt = ['Washington', 'Sherman', 'Wallowa', 'Douglas', 'Malheur']"
   ]
  },
  {
   "cell_type": "code",
   "execution_count": 26,
   "id": "14dad2f8",
   "metadata": {},
   "outputs": [
    {
     "data": {
      "text/plain": [
       "[]"
      ]
     },
     "execution_count": 26,
     "metadata": {},
     "output_type": "execute_result"
    }
   ],
   "source": [
    "[cnt for cnt in dat.county.unique() if cnt in np_cnt]"
   ]
  },
  {
   "cell_type": "code",
   "execution_count": 7,
   "id": "c8da6157",
   "metadata": {},
   "outputs": [],
   "source": [
    "npdat = pd.read_excel(datafile, sheet_name=xl.sheet_names[2])"
   ]
  },
  {
   "cell_type": "code",
   "execution_count": 8,
   "id": "6427b024",
   "metadata": {},
   "outputs": [
    {
     "data": {
      "text/plain": [
       "array(['Douglas', 'Malheur', 'Washington'], dtype=object)"
      ]
     },
     "execution_count": 8,
     "metadata": {},
     "output_type": "execute_result"
    }
   ],
   "source": [
    "npdat.county.unique()"
   ]
  },
  {
   "cell_type": "code",
   "execution_count": 11,
   "id": "3a7344c3",
   "metadata": {},
   "outputs": [],
   "source": [
    "wd_df = get_all_wd(num=5)"
   ]
  },
  {
   "cell_type": "code",
   "execution_count": 14,
   "id": "de1fd8dc",
   "metadata": {},
   "outputs": [
    {
     "data": {
      "text/plain": [
       "False"
      ]
     },
     "execution_count": 14,
     "metadata": {},
     "output_type": "execute_result"
    }
   ],
   "source": [
    "any([wid in wd_df.wetdet_delin_number.unique() for wid in ['WD2022-0383', 'WD2022-0464']])"
   ]
  },
  {
   "cell_type": "code",
   "execution_count": 29,
   "id": "84cf7472",
   "metadata": {},
   "outputs": [
    {
     "data": {
      "text/plain": [
       "[]"
      ]
     },
     "execution_count": 29,
     "metadata": {},
     "output_type": "execute_result"
    }
   ],
   "source": [
    "[cnt for cnt in dat.county.unique() if cnt not in wd_df.county.unique()]"
   ]
  }
 ],
 "metadata": {
  "kernelspec": {
   "display_name": "Python 3",
   "language": "python",
   "name": "python3"
  },
  "language_info": {
   "codemirror_mode": {
    "name": "ipython",
    "version": 3
   },
   "file_extension": ".py",
   "mimetype": "text/x-python",
   "name": "python",
   "nbconvert_exporter": "python",
   "pygments_lexer": "ipython3",
   "version": "3.8.8"
  }
 },
 "nbformat": 4,
 "nbformat_minor": 5
}
