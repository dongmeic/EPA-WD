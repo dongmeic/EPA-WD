{
 "cells": [
  {
   "cell_type": "code",
   "execution_count": 1,
   "id": "4da9eb2d",
   "metadata": {},
   "outputs": [],
   "source": [
    "%load_ext autoreload\n",
    "%autoreload 2"
   ]
  },
  {
   "cell_type": "code",
   "execution_count": 106,
   "id": "874fce4f",
   "metadata": {},
   "outputs": [],
   "source": [
    "from wdtools import *"
   ]
  },
  {
   "cell_type": "code",
   "execution_count": 3,
   "id": "e5a4c2dd",
   "metadata": {},
   "outputs": [],
   "source": [
    "setID = 'Set002'; nm_to_add=1420"
   ]
  },
  {
   "cell_type": "code",
   "execution_count": 4,
   "id": "ca9b3054",
   "metadata": {},
   "outputs": [],
   "source": [
    "setgdf = gpd.read_file(os.path.join(inpath, 'GIS', 'Join_Statewide.gdb'), layer=f'WD_{setID}_Combined')"
   ]
  },
  {
   "cell_type": "code",
   "execution_count": 9,
   "id": "1040ff79",
   "metadata": {},
   "outputs": [
    {
     "data": {
      "text/plain": [
       "Index(['Record_ID', 'wetdet_delin_number', 'trsqq', 'parcel_id',\n",
       "       'address_location_desc', 'city', 'county', 'site_name', 'site_desc',\n",
       "       'latitude', 'longitude', 'Coord_Source', 'DocumentName', 'DecisionLink',\n",
       "       'is_batch_file', 'status_name', 'received_date', 'response_date',\n",
       "       'reissuance_response_date', 'project_id', 'site_id', 'lot_num', 'lot',\n",
       "       'Match_Year', 'ORTAXLOT', 'Match_found', 'Manual_note', 'Shape_Length',\n",
       "       'Shape_Area', 'Edits_Complete', 'matcher2', 'geometry'],\n",
       "      dtype='object')"
      ]
     },
     "execution_count": 9,
     "metadata": {},
     "output_type": "execute_result"
    }
   ],
   "source": [
    "setgdf.columns"
   ]
  },
  {
   "cell_type": "code",
   "execution_count": 5,
   "id": "ab28628f",
   "metadata": {},
   "outputs": [],
   "source": [
    "wd = combine_wd_tables(setID=setID, nm_to_add=nm_to_add)"
   ]
  },
  {
   "cell_type": "code",
   "execution_count": 6,
   "id": "b82e7e2c",
   "metadata": {},
   "outputs": [],
   "source": [
    "matched = gpd.read_file(os.path.join(inpath + '\\\\output\\\\matched\\\\', f'matched_records_{setID}_edited.shp'))"
   ]
  },
  {
   "cell_type": "code",
   "execution_count": 7,
   "id": "b4079cc2",
   "metadata": {},
   "outputs": [],
   "source": [
    "unmatched = pd.read_csv(os.path.join(inpath + '\\\\output\\\\to_review\\\\', f'unmatched_df_{setID}_2.csv'))"
   ]
  },
  {
   "cell_type": "code",
   "execution_count": 8,
   "id": "4f0bb82e",
   "metadata": {},
   "outputs": [
    {
     "data": {
      "text/plain": [
       "Index(['wdID', 'trsqq', 'parcel_id', 'notes', 'lots', 'lot', 'ORTaxlot',\n",
       "       'record_ID', 'geometry'],\n",
       "      dtype='object')"
      ]
     },
     "execution_count": 8,
     "metadata": {},
     "output_type": "execute_result"
    }
   ],
   "source": [
    "matched.columns"
   ]
  },
  {
   "cell_type": "code",
   "execution_count": 8,
   "id": "d84b4122",
   "metadata": {},
   "outputs": [],
   "source": [
    "outpath = r'L:\\NaturalResources\\Wetlands\\Local Wetland Inventory\\WAPO\\EPA_2022_Tasks\\Task 1 WD Mapping\\output'\n",
    "partial = pd.read_csv(outpath + f'\\\\to_review\\\\partial_matched_{setID}.csv')"
   ]
  },
  {
   "cell_type": "code",
   "execution_count": 9,
   "id": "22579964",
   "metadata": {},
   "outputs": [
    {
     "data": {
      "text/plain": [
       "(336, 25)"
      ]
     },
     "execution_count": 9,
     "metadata": {},
     "output_type": "execute_result"
    }
   ],
   "source": [
    "partial.shape"
   ]
  },
  {
   "cell_type": "code",
   "execution_count": 99,
   "id": "9c6ad38b",
   "metadata": {},
   "outputs": [],
   "source": [
    "wdID = 'WD2018-0158'"
   ]
  },
  {
   "cell_type": "code",
   "execution_count": 100,
   "id": "f780b7d1",
   "metadata": {},
   "outputs": [
    {
     "data": {
      "text/plain": [
       "False"
      ]
     },
     "execution_count": 100,
     "metadata": {},
     "output_type": "execute_result"
    }
   ],
   "source": [
    "wdID in setgdf.wetdet_delin_number.unique()"
   ]
  },
  {
   "cell_type": "code",
   "execution_count": 84,
   "id": "860c09f8",
   "metadata": {},
   "outputs": [
    {
     "data": {
      "text/plain": [
       "<AxesSubplot:>"
      ]
     },
     "execution_count": 84,
     "metadata": {},
     "output_type": "execute_result"
    },
    {
     "data": {
      "image/png": "[encoded data removed]",
      "text/plain": [
       "<Figure size 432x288 with 1 Axes>"
      ]
     },
     "metadata": {
      "needs_background": "light"
     },
     "output_type": "display_data"
    }
   ],
   "source": [
    "setgdf[setgdf.wetdet_delin_number == wdID].plot()"
   ]
  },
  {
   "cell_type": "code",
   "execution_count": 85,
   "id": "ad3e7001",
   "metadata": {},
   "outputs": [
    {
     "data": {
      "text/plain": [
       "True"
      ]
     },
     "execution_count": 85,
     "metadata": {},
     "output_type": "execute_result"
    }
   ],
   "source": [
    "wdID in matched.wdID.unique()"
   ]
  },
  {
   "cell_type": "code",
   "execution_count": 153,
   "id": "00c60148",
   "metadata": {
    "scrolled": true
   },
   "outputs": [
    {
     "data": {
      "text/html": [
       "<div>\n",
       "<style scoped>\n",
       "    .dataframe tbody tr th:only-of-type {\n",
       "        vertical-align: middle;\n",
       "    }\n",
       "\n",
       "    .dataframe tbody tr th {\n",
       "        vertical-align: top;\n",
       "    }\n",
       "\n",
       "    .dataframe thead th {\n",
       "        text-align: right;\n",
       "    }\n",
       "</style>\n",
       "<table border=\"1\" class=\"dataframe\">\n",
       "  <thead>\n",
       "    <tr style=\"text-align: right;\">\n",
       "      <th></th>\n",
       "      <th>Record_ID</th>\n",
       "      <th>wetdet_delin_number</th>\n",
       "      <th>trsqq</th>\n",
       "      <th>parcel_id</th>\n",
       "      <th>address_location_desc</th>\n",
       "      <th>city</th>\n",
       "      <th>county</th>\n",
       "      <th>site_name</th>\n",
       "      <th>site_desc</th>\n",
       "      <th>latitude</th>\n",
       "      <th>...</th>\n",
       "      <th>lot</th>\n",
       "      <th>Match_Year</th>\n",
       "      <th>ORTAXLOT</th>\n",
       "      <th>Match_found</th>\n",
       "      <th>Manual_note</th>\n",
       "      <th>Shape_Length</th>\n",
       "      <th>Shape_Area</th>\n",
       "      <th>Edits_Complete</th>\n",
       "      <th>matcher2</th>\n",
       "      <th>geometry</th>\n",
       "    </tr>\n",
       "  </thead>\n",
       "  <tbody>\n",
       "    <tr>\n",
       "      <th>754</th>\n",
       "      <td>806.0</td>\n",
       "      <td>WD2019-0124</td>\n",
       "      <td>36S02W20</td>\n",
       "      <td>1700p</td>\n",
       "      <td>OR140 E of I-5 at Exit 35 to intersection with...</td>\n",
       "      <td>Central Point</td>\n",
       "      <td>Jackson</td>\n",
       "      <td>OR140: Exit 35 to Blackwell Rd</td>\n",
       "      <td>WD2019-0124 Highway Improvement</td>\n",
       "      <td>42.41958</td>\n",
       "      <td>...</td>\n",
       "      <td>1700.0</td>\n",
       "      <td>2019.0</td>\n",
       "      <td>None</td>\n",
       "      <td>1.0</td>\n",
       "      <td>partial</td>\n",
       "      <td>347.981161</td>\n",
       "      <td>3430.575580</td>\n",
       "      <td>1.0</td>\n",
       "      <td>806lot1</td>\n",
       "      <td>MULTIPOLYGON (((648767.153 254227.990, 648774....</td>\n",
       "    </tr>\n",
       "    <tr>\n",
       "      <th>879</th>\n",
       "      <td>808.0</td>\n",
       "      <td>WD2019-0124</td>\n",
       "      <td>36S02W21</td>\n",
       "      <td>1204,1300,1301,1302,1303,ROW,All part</td>\n",
       "      <td>OR140 E of I-5 at Exit 35 to intersection with...</td>\n",
       "      <td>Central Point</td>\n",
       "      <td>Jackson</td>\n",
       "      <td>OR140: Exit 35 to Blackwell Rd</td>\n",
       "      <td>WD2019-0124 Highway Improvement</td>\n",
       "      <td>42.41958</td>\n",
       "      <td>...</td>\n",
       "      <td>1204.0</td>\n",
       "      <td>2019.0</td>\n",
       "      <td>None</td>\n",
       "      <td>1.0</td>\n",
       "      <td>ROW &amp; partial</td>\n",
       "      <td>5143.087453</td>\n",
       "      <td>763430.973534</td>\n",
       "      <td>1.0</td>\n",
       "      <td>808lot1</td>\n",
       "      <td>MULTIPOLYGON (((648622.195 254668.958, 648903....</td>\n",
       "    </tr>\n",
       "    <tr>\n",
       "      <th>1992</th>\n",
       "      <td>807.0</td>\n",
       "      <td>WD2019-0124</td>\n",
       "      <td>36S02W28</td>\n",
       "      <td>Many,ROW,All part</td>\n",
       "      <td>OR140 E of I-5 at Exit 35 to intersection with...</td>\n",
       "      <td>Central Point</td>\n",
       "      <td>Jackson</td>\n",
       "      <td>OR140: Exit 35 to Blackwell Rd</td>\n",
       "      <td>WD2019-0124 Highway Improvement</td>\n",
       "      <td>42.41958</td>\n",
       "      <td>...</td>\n",
       "      <td>1204.0</td>\n",
       "      <td>2019.0</td>\n",
       "      <td>None</td>\n",
       "      <td>1.0</td>\n",
       "      <td>ROW &amp; partial</td>\n",
       "      <td>9254.570319</td>\n",
       "      <td>843547.213428</td>\n",
       "      <td>1.0</td>\n",
       "      <td>807lot1</td>\n",
       "      <td>MULTIPOLYGON (((650078.433 253067.239, 650129....</td>\n",
       "    </tr>\n",
       "  </tbody>\n",
       "</table>\n",
       "<p>3 rows × 32 columns</p>\n",
       "</div>"
      ],
      "text/plain": [
       "      Record_ID wetdet_delin_number     trsqq  \\\n",
       "754       806.0         WD2019-0124  36S02W20   \n",
       "879       808.0         WD2019-0124  36S02W21   \n",
       "1992      807.0         WD2019-0124  36S02W28   \n",
       "\n",
       "                                  parcel_id  \\\n",
       "754                                   1700p   \n",
       "879   1204,1300,1301,1302,1303,ROW,All part   \n",
       "1992                      Many,ROW,All part   \n",
       "\n",
       "                                  address_location_desc           city  \\\n",
       "754   OR140 E of I-5 at Exit 35 to intersection with...  Central Point   \n",
       "879   OR140 E of I-5 at Exit 35 to intersection with...  Central Point   \n",
       "1992  OR140 E of I-5 at Exit 35 to intersection with...  Central Point   \n",
       "\n",
       "       county                       site_name  \\\n",
       "754   Jackson  OR140: Exit 35 to Blackwell Rd   \n",
       "879   Jackson  OR140: Exit 35 to Blackwell Rd   \n",
       "1992  Jackson  OR140: Exit 35 to Blackwell Rd   \n",
       "\n",
       "                            site_desc  latitude  ...     lot Match_Year  \\\n",
       "754   WD2019-0124 Highway Improvement  42.41958  ...  1700.0     2019.0   \n",
       "879   WD2019-0124 Highway Improvement  42.41958  ...  1204.0     2019.0   \n",
       "1992  WD2019-0124 Highway Improvement  42.41958  ...  1204.0     2019.0   \n",
       "\n",
       "     ORTAXLOT Match_found    Manual_note Shape_Length     Shape_Area  \\\n",
       "754      None         1.0        partial   347.981161    3430.575580   \n",
       "879      None         1.0  ROW & partial  5143.087453  763430.973534   \n",
       "1992     None         1.0  ROW & partial  9254.570319  843547.213428   \n",
       "\n",
       "     Edits_Complete matcher2  \\\n",
       "754             1.0  806lot1   \n",
       "879             1.0  808lot1   \n",
       "1992            1.0  807lot1   \n",
       "\n",
       "                                               geometry  \n",
       "754   MULTIPOLYGON (((648767.153 254227.990, 648774....  \n",
       "879   MULTIPOLYGON (((648622.195 254668.958, 648903....  \n",
       "1992  MULTIPOLYGON (((650078.433 253067.239, 650129....  \n",
       "\n",
       "[3 rows x 32 columns]"
      ]
     },
     "execution_count": 153,
     "metadata": {},
     "output_type": "execute_result"
    }
   ],
   "source": [
    "setgdf[setgdf.wetdet_delin_number == wdID]"
   ]
  },
  {
   "cell_type": "code",
   "execution_count": 15,
   "id": "cad0248a",
   "metadata": {},
   "outputs": [],
   "source": [
    "mapped_list = []"
   ]
  },
  {
   "cell_type": "code",
   "execution_count": 16,
   "id": "c3f13de2",
   "metadata": {},
   "outputs": [
    {
     "data": {
      "text/plain": [
       "'WD2020-0391'"
      ]
     },
     "execution_count": 16,
     "metadata": {},
     "output_type": "execute_result"
    }
   ],
   "source": [
    "wdID"
   ]
  },
  {
   "cell_type": "code",
   "execution_count": 71,
   "id": "9b284c7a",
   "metadata": {},
   "outputs": [],
   "source": [
    "mapped_list.append(wdID)"
   ]
  },
  {
   "cell_type": "code",
   "execution_count": 104,
   "id": "698a6e0d",
   "metadata": {},
   "outputs": [
    {
     "data": {
      "text/plain": [
       "['WD2020-0677', 'WD2019-0544', 'WD2021-0252', 'WD2021-0616']"
      ]
     },
     "execution_count": 104,
     "metadata": {},
     "output_type": "execute_result"
    }
   ],
   "source": [
    "mapped_list"
   ]
  },
  {
   "cell_type": "code",
   "execution_count": 91,
   "id": "a5df4470",
   "metadata": {},
   "outputs": [
    {
     "data": {
      "text/plain": [
       "False"
      ]
     },
     "execution_count": 91,
     "metadata": {},
     "output_type": "execute_result"
    }
   ],
   "source": [
    "wdID in mapped_list"
   ]
  },
  {
   "cell_type": "code",
   "execution_count": 182,
   "id": "b5fb8bdf",
   "metadata": {},
   "outputs": [
    {
     "data": {
      "text/plain": [
       "19"
      ]
     },
     "execution_count": 182,
     "metadata": {},
     "output_type": "execute_result"
    }
   ],
   "source": [
    "len(mapped_list)"
   ]
  },
  {
   "cell_type": "code",
   "execution_count": 26,
   "id": "7c92ffe9",
   "metadata": {},
   "outputs": [
    {
     "data": {
      "text/html": [
       "<div>\n",
       "<style scoped>\n",
       "    .dataframe tbody tr th:only-of-type {\n",
       "        vertical-align: middle;\n",
       "    }\n",
       "\n",
       "    .dataframe tbody tr th {\n",
       "        vertical-align: top;\n",
       "    }\n",
       "\n",
       "    .dataframe thead th {\n",
       "        text-align: right;\n",
       "    }\n",
       "</style>\n",
       "<table border=\"1\" class=\"dataframe\">\n",
       "  <thead>\n",
       "    <tr style=\"text-align: right;\">\n",
       "      <th></th>\n",
       "      <th>Longitude</th>\n",
       "      <th>Latitude</th>\n",
       "      <th>geometry</th>\n",
       "    </tr>\n",
       "  </thead>\n",
       "  <tbody>\n",
       "    <tr>\n",
       "      <th>0</th>\n",
       "      <td>-121.275737</td>\n",
       "      <td>44.022318</td>\n",
       "      <td>POINT (1108331.617 829246.711)</td>\n",
       "    </tr>\n",
       "  </tbody>\n",
       "</table>\n",
       "</div>"
      ],
      "text/plain": [
       "    Longitude   Latitude                        geometry\n",
       "0 -121.275737  44.022318  POINT (1108331.617 829246.711)"
      ]
     },
     "execution_count": 26,
     "metadata": {},
     "output_type": "execute_result"
    }
   ],
   "source": [
    "get_point_from_lonlat(lon=-121.275737, lat=44.022318)"
   ]
  },
  {
   "cell_type": "code",
   "execution_count": 16,
   "id": "26abc49a",
   "metadata": {},
   "outputs": [],
   "source": [
    "# mapped in this work\n",
    "added_list = []"
   ]
  },
  {
   "cell_type": "code",
   "execution_count": 101,
   "id": "0b1e736f",
   "metadata": {},
   "outputs": [],
   "source": [
    "added_list.append(wdID)"
   ]
  },
  {
   "cell_type": "code",
   "execution_count": 102,
   "id": "76bf5b4d",
   "metadata": {},
   "outputs": [
    {
     "data": {
      "text/plain": [
       "['WD2017-0229',\n",
       " 'WD2022-0026',\n",
       " 'WD2018-0407',\n",
       " 'WD2019-0300',\n",
       " 'WD2021-0651',\n",
       " 'WD2020-0489',\n",
       " 'WD2022-0210',\n",
       " 'WD2020-0383',\n",
       " 'WD2021-0200',\n",
       " 'WD2021-0200',\n",
       " 'WD2018-0158']"
      ]
     },
     "execution_count": 102,
     "metadata": {},
     "output_type": "execute_result"
    }
   ],
   "source": [
    "added_list"
   ]
  },
  {
   "cell_type": "code",
   "execution_count": 87,
   "id": "a9aaac9a",
   "metadata": {},
   "outputs": [
    {
     "data": {
      "text/plain": [
       "False"
      ]
     },
     "execution_count": 87,
     "metadata": {},
     "output_type": "execute_result"
    }
   ],
   "source": [
    "wdID in added_list"
   ]
  },
  {
   "cell_type": "code",
   "execution_count": 18,
   "id": "55ddf1e5",
   "metadata": {},
   "outputs": [],
   "source": [
    "review_list = []"
   ]
  },
  {
   "cell_type": "code",
   "execution_count": 76,
   "id": "a55f9487",
   "metadata": {},
   "outputs": [],
   "source": [
    "review_list.append(wdID)"
   ]
  },
  {
   "cell_type": "code",
   "execution_count": 103,
   "id": "cebe47cc",
   "metadata": {},
   "outputs": [
    {
     "data": {
      "text/plain": [
       "['WD2021-0250', 'WD2017-0001', 'WD2018-0670', 'WD2019-0041']"
      ]
     },
     "execution_count": 103,
     "metadata": {},
     "output_type": "execute_result"
    }
   ],
   "source": [
    "review_list"
   ]
  },
  {
   "cell_type": "code",
   "execution_count": 89,
   "id": "6e842e37",
   "metadata": {},
   "outputs": [
    {
     "data": {
      "text/plain": [
       "False"
      ]
     },
     "execution_count": 89,
     "metadata": {},
     "output_type": "execute_result"
    }
   ],
   "source": [
    "wdID in review_list"
   ]
  },
  {
   "cell_type": "code",
   "execution_count": 10,
   "id": "4d7aa1ae",
   "metadata": {},
   "outputs": [],
   "source": [
    "unmatchedwdIDs = unmatched.wetdet_delin_number.unique()"
   ]
  },
  {
   "cell_type": "code",
   "execution_count": 11,
   "id": "5aa1fdf0",
   "metadata": {},
   "outputs": [],
   "source": [
    "IDstoCheck = [wdID for wdID in partial.wetdet_delin_number.unique() if wdID not in unmatchedwdIDs]"
   ]
  },
  {
   "cell_type": "code",
   "execution_count": 190,
   "id": "6b621be6",
   "metadata": {},
   "outputs": [
    {
     "data": {
      "text/plain": [
       "[]"
      ]
     },
     "execution_count": 190,
     "metadata": {},
     "output_type": "execute_result"
    }
   ],
   "source": [
    "[wdID for wdID in mapped_list if wdID in IDstoCheck]"
   ]
  },
  {
   "cell_type": "code",
   "execution_count": 107,
   "id": "afd4bc22",
   "metadata": {},
   "outputs": [],
   "source": [
    "lsts = [mapped_list, added_list, review_list]\n",
    "lstnms = ['mapped', 'toMap', 'toReview']\n",
    "for lstnm in lstnms:\n",
    "    writelist(lst=lsts[lstnms.index(lstnm)], lstnm=lstnm, setID=setID)"
   ]
  }
 ],
 "metadata": {
  "kernelspec": {
   "display_name": "Python 3",
   "language": "python",
   "name": "python3"
  },
  "language_info": {
   "codemirror_mode": {
    "name": "ipython",
    "version": 3
   },
   "file_extension": ".py",
   "mimetype": "text/x-python",
   "name": "python",
   "nbconvert_exporter": "python",
   "pygments_lexer": "ipython3",
   "version": "3.8.8"
  }
 },
 "nbformat": 4,
 "nbformat_minor": 5
}
