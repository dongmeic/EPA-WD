{
 "cells": [
  {
   "cell_type": "code",
   "execution_count": 1,
   "id": "b20fe222",
   "metadata": {},
   "outputs": [],
   "source": [
    "from IPython.display import display\n",
    "import arcgis\n",
    "from arcgis.gis import GIS\n",
    "import arcpy\n",
    "from arcgis.mapping import WebMap\n",
    "import json"
   ]
  },
  {
   "cell_type": "code",
   "execution_count": 2,
   "id": "0634ef41",
   "metadata": {},
   "outputs": [],
   "source": [
    "gis = GIS('home')"
   ]
  },
  {
   "cell_type": "markdown",
   "id": "f751dccb",
   "metadata": {},
   "source": [
    "from arcgis.mapping import WebMap\n",
    "empty_webmap = WebMap()"
   ]
  },
  {
   "cell_type": "markdown",
   "id": "29b5c32e",
   "metadata": {},
   "source": [
    "wd_mapping_counts = empty_webmap"
   ]
  },
  {
   "cell_type": "code",
   "execution_count": 5,
   "id": "cf853af8",
   "metadata": {},
   "outputs": [],
   "source": [
    "path = r\"L:\\NaturalResources\\Wetlands\\Local Wetland Inventory\\WAPO\\EPA_2022_Tasks\\Task 1 WD Mapping\\reporting\""
   ]
  },
  {
   "cell_type": "markdown",
   "id": "b06a5e2d",
   "metadata": {},
   "source": [
    "file_properties={'title':\"WD Mapping Counts\",\n",
    "                 'type': 'Shapefile',\n",
    "                 #'overwrite': True,\n",
    "                 'tags': 'WD mapping'}"
   ]
  },
  {
   "cell_type": "markdown",
   "id": "784f44fa",
   "metadata": {},
   "source": [
    "file_item = gis.content.add(data=path+\"\\\\WD_Counts.zip\", item_properties=file_properties)"
   ]
  },
  {
   "cell_type": "markdown",
   "id": "bb3c9ff5",
   "metadata": {},
   "source": [
    "file_item.update(data=path+\"\\\\WD_Counts.zip\", item_properties=file_properties)"
   ]
  },
  {
   "cell_type": "markdown",
   "id": "f2e24a05",
   "metadata": {},
   "source": [
    "file_item_layer = file_item.publish(overwrite=True)"
   ]
  },
  {
   "cell_type": "markdown",
   "id": "8304d2bb",
   "metadata": {},
   "source": [
    "my_content = gis.content.search(query=\"owner:\" + gis.users.me.username + \" AND title:\" + \"Wetland Delineation and Determination Counts\",\n",
    "                               item_type=\"Feature Layer\")"
   ]
  },
  {
   "cell_type": "markdown",
   "id": "9bcb095a",
   "metadata": {},
   "source": [
    "file_item=my_content[0]\n",
    "file_item.share(everyone=True)"
   ]
  },
  {
   "cell_type": "markdown",
   "id": "73e5b12d",
   "metadata": {},
   "source": [
    "wd_mapping_counts.add_layer(file_item)"
   ]
  },
  {
   "cell_type": "markdown",
   "id": "25686ac8",
   "metadata": {},
   "source": [
    "webmap_item_properties = {'title':'WD Mapping Counts in Oregon', \n",
    "                         'snippet':'Map created using Python API showing wetland delineation and determination counts in Oregon',\n",
    "                         'tags':['WD mapping', 'python']}\n",
    "wd_mapping_counts.save(webmap_item_properties)"
   ]
  },
  {
   "cell_type": "code",
   "execution_count": 42,
   "id": "79955eb7",
   "metadata": {},
   "outputs": [],
   "source": [
    "def edit_popupInfo(layer):\n",
    "    layer['popupInfo']['title'] = 'Wetland Delineation and Determination Counts'\n",
    "    field_infos = layer['popupInfo']['fieldInfos']\n",
    "    # change visibility, lables, and reorder \n",
    "    for field in field_infos:\n",
    "        if field['fieldName'] in ['FID', 'Shape__Area', 'Shape__Length']:\n",
    "            field[\"visible\"] = False\n",
    "        if field['fieldName'] == 'P1_2017_22':\n",
    "            field['label'] = '2017 - 2022 (Total)'\n",
    "        if field['fieldName'] == 'P1_ToMap':\n",
    "            field['label'] = '2017 - 2022 (QAQC)'\n",
    "        if field['fieldName'] == 'P2_2008_16':\n",
    "            field['label'] = '2008 - 2016 (Total)'\n",
    "        if field['fieldName'] == 'P2_ToMap':\n",
    "            field['label'] = '2008 - 2016 (QAQC)'\n",
    "        if field['fieldName'] == 'P3_1990_07':\n",
    "            field['label'] = '1990 - 2007 (Total)'\n",
    "        if field['fieldName'] == 'P3_ToMap':\n",
    "            field['label'] = '1990 - 2007 (QAQC)'\n",
    "        if field['fieldName'] == 'Tot_ToMap':\n",
    "            field['label'] = 'Total QAQC Counts'  \n",
    "        if field['fieldName'] == 'Tot_Count':\n",
    "            field['label'] = 'Total WD Counts'\n",
    "        if field['fieldName'] == 'QAQC_Ratio':\n",
    "            field['label'] = 'QAQC Percentage'\n",
    "        if field['fieldName'] == 'Auto_Comp':\n",
    "            field['label'] = 'Automatched or Completed'\n",
    "    return layer"
   ]
  },
  {
   "cell_type": "code",
   "execution_count": 46,
   "id": "c0606dff",
   "metadata": {},
   "outputs": [],
   "source": [
    "webmap_search = gis.content.search(query=\"owner:\" + gis.users.me.username + \" AND title:\" + \"WD Mapping Counts in Oregon\",\n",
    "                                  item_type=\"Web Map\")\n",
    "webmap_item = webmap_search[0]\n",
    "item_data = webmap_item.get_data()\n",
    "item_data['operationalLayers'][0] = edit_popupInfo(item_data['operationalLayers'][0])\n",
    "item_properties = {\"text\": json.dumps(item_data)}\n",
    "webmap_item.update(item_properties=item_properties)\n",
    "item_data['operationalLayers'][0]['title'] = 'Wetland Delineation and Determination Counts'"
   ]
  },
  {
   "cell_type": "code",
   "execution_count": 33,
   "id": "ff4f01c0",
   "metadata": {},
   "outputs": [
    {
     "data": {
      "text/plain": [
       "{'id': 'Wetland_Delineation_and_Determination_Counts_952',\n",
       " 'layerType': 'ArcGISFeatureLayer',\n",
       " 'url': 'https://services5.arcgis.com/9s1YtFmLS0YTl10F/arcgis/rest/services/Wetland_Delineation_and_Determination_Counts/FeatureServer/0',\n",
       " 'visibility': True,\n",
       " 'opacity': 1,\n",
       " 'title': 'Wetland Delineation and Determination Counts',\n",
       " 'itemId': '2a9bcd28a8e34516b9f91f312864d544',\n",
       " 'popupInfo': {'title': 'Wetland Delineation and Determination Counts',\n",
       "  'fieldInfos': [{'fieldName': 'FID',\n",
       "    'label': 'FID',\n",
       "    'isEditable': False,\n",
       "    'tooltip': '',\n",
       "    'visible': False,\n",
       "    'stringFieldOption': 'textbox'},\n",
       "   {'fieldName': 'County',\n",
       "    'label': 'County',\n",
       "    'isEditable': True,\n",
       "    'tooltip': '',\n",
       "    'visible': True,\n",
       "    'stringFieldOption': 'textbox'},\n",
       "   {'fieldName': 'Note',\n",
       "    'label': 'Note',\n",
       "    'isEditable': True,\n",
       "    'tooltip': '',\n",
       "    'visible': True,\n",
       "    'stringFieldOption': 'textbox'},\n",
       "   {'fieldName': 'P1_2017_22',\n",
       "    'label': '2017 - 2022 (Total)',\n",
       "    'isEditable': True,\n",
       "    'tooltip': '',\n",
       "    'visible': True,\n",
       "    'stringFieldOption': 'textbox',\n",
       "    'format': {'places': 2, 'digitSeparator': True}},\n",
       "   {'fieldName': 'P1_ToMap',\n",
       "    'label': '2017 - 2022 (QAQC)',\n",
       "    'isEditable': True,\n",
       "    'tooltip': '',\n",
       "    'visible': True,\n",
       "    'stringFieldOption': 'textbox',\n",
       "    'format': {'places': 2, 'digitSeparator': True}},\n",
       "   {'fieldName': 'P2_2008_16',\n",
       "    'label': '2008 - 2022 (Total)',\n",
       "    'isEditable': True,\n",
       "    'tooltip': '',\n",
       "    'visible': True,\n",
       "    'stringFieldOption': 'textbox',\n",
       "    'format': {'places': 2, 'digitSeparator': True}},\n",
       "   {'fieldName': 'P2_ToMap',\n",
       "    'label': '2008 - 2022 (QAQC)',\n",
       "    'isEditable': True,\n",
       "    'tooltip': '',\n",
       "    'visible': True,\n",
       "    'stringFieldOption': 'textbox',\n",
       "    'format': {'places': 2, 'digitSeparator': True}},\n",
       "   {'fieldName': 'P3_1990_07',\n",
       "    'label': '1990 - 2007 (Total)',\n",
       "    'isEditable': True,\n",
       "    'tooltip': '',\n",
       "    'visible': True,\n",
       "    'stringFieldOption': 'textbox',\n",
       "    'format': {'places': 2, 'digitSeparator': True}},\n",
       "   {'fieldName': 'P3_ToMap',\n",
       "    'label': '1990 - 2007 (QAQC)',\n",
       "    'isEditable': True,\n",
       "    'tooltip': '',\n",
       "    'visible': True,\n",
       "    'stringFieldOption': 'textbox',\n",
       "    'format': {'places': 2, 'digitSeparator': True}},\n",
       "   {'fieldName': 'Tot_ToMap',\n",
       "    'label': 'Total QAQC Counts',\n",
       "    'isEditable': True,\n",
       "    'tooltip': '',\n",
       "    'visible': True,\n",
       "    'stringFieldOption': 'textbox',\n",
       "    'format': {'places': 2, 'digitSeparator': True}},\n",
       "   {'fieldName': 'Tot_Count',\n",
       "    'label': 'Total WD Counts',\n",
       "    'isEditable': True,\n",
       "    'tooltip': '',\n",
       "    'visible': True,\n",
       "    'stringFieldOption': 'textbox',\n",
       "    'format': {'places': 2, 'digitSeparator': True}},\n",
       "   {'fieldName': 'QAQC_Ratio',\n",
       "    'label': 'QAQC Percentage',\n",
       "    'isEditable': True,\n",
       "    'tooltip': '',\n",
       "    'visible': True,\n",
       "    'stringFieldOption': 'textbox',\n",
       "    'format': {'places': 2, 'digitSeparator': True}},\n",
       "   {'fieldName': 'Shape__Area',\n",
       "    'label': 'Shape__Area',\n",
       "    'isEditable': False,\n",
       "    'tooltip': '',\n",
       "    'visible': False,\n",
       "    'stringFieldOption': 'textbox',\n",
       "    'format': {'places': 2, 'digitSeparator': True}},\n",
       "   {'fieldName': 'Shape__Length',\n",
       "    'label': 'Shape__Length',\n",
       "    'isEditable': False,\n",
       "    'tooltip': '',\n",
       "    'visible': False,\n",
       "    'stringFieldOption': 'textbox',\n",
       "    'format': {'places': 2, 'digitSeparator': True}}],\n",
       "  'description': None,\n",
       "  'showAttachments': True,\n",
       "  'mediaInfos': []}}"
      ]
     },
     "execution_count": 33,
     "metadata": {},
     "output_type": "execute_result"
    }
   ],
   "source": [
    "item_data['operationalLayers'][0]"
   ]
  }
 ],
 "metadata": {
  "kernelspec": {
   "display_name": "Python 3 (ipykernel)",
   "language": "python",
   "name": "python3"
  },
  "language_info": {
   "codemirror_mode": {
    "name": "ipython",
    "version": 3
   },
   "file_extension": ".py",
   "mimetype": "text/x-python",
   "name": "python",
   "nbconvert_exporter": "python",
   "pygments_lexer": "ipython3",
   "version": "3.9.16"
  }
 },
 "nbformat": 4,
 "nbformat_minor": 5
}
