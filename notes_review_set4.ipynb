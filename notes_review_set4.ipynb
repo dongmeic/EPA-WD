{
 "cells": [
  {
   "cell_type": "code",
   "execution_count": 1,
   "id": "d7c2612b",
   "metadata": {},
   "outputs": [],
   "source": [
    "%load_ext autoreload\n",
    "%autoreload 2"
   ]
  },
  {
   "cell_type": "code",
   "execution_count": 2,
   "id": "31eba31e",
   "metadata": {},
   "outputs": [],
   "source": [
    "from wdtools import *"
   ]
  },
  {
   "cell_type": "code",
   "execution_count": 3,
   "id": "007cc0be",
   "metadata": {},
   "outputs": [],
   "source": [
    "setID = 'Set004'"
   ]
  },
  {
   "cell_type": "code",
   "execution_count": 4,
   "id": "66455aa2",
   "metadata": {},
   "outputs": [],
   "source": [
    "nm_to_add = 2878"
   ]
  },
  {
   "cell_type": "code",
   "execution_count": 5,
   "id": "2c2645dd",
   "metadata": {},
   "outputs": [],
   "source": [
    "wd = combine_wd_tables(setID=setID, nm_to_add=nm_to_add)"
   ]
  },
  {
   "cell_type": "code",
   "execution_count": 7,
   "id": "9dced017",
   "metadata": {},
   "outputs": [],
   "source": [
    "df = pd.DataFrame(columns = ['wetdet_delin_number', 'record_ID', 'field', 'cor_type', 'from', 'to'])"
   ]
  },
  {
   "cell_type": "code",
   "execution_count": 6,
   "id": "0d8aa941",
   "metadata": {},
   "outputs": [],
   "source": [
    "ml = 'N'\n",
    "#ml = 'Y'"
   ]
  },
  {
   "cell_type": "code",
   "execution_count": 43,
   "id": "132a44f2",
   "metadata": {},
   "outputs": [],
   "source": [
    "notes = pd.read_csv(os.path.join(inpath + '\\\\output\\\\to_review\\\\', f'review_unmatched_{setID}_r2_{ml}_0.csv'))"
   ]
  },
  {
   "cell_type": "code",
   "execution_count": 9,
   "id": "f4d718ee",
   "metadata": {},
   "outputs": [
    {
     "data": {
      "text/plain": [
       "array(['WD2019-0156', 'WD2019-0039', 'WD2020-0149', 'WD2018-0462',\n",
       "       'WD2020-0635', 'WD2022-0036', 'WD2017-0266', 'WD2021-0031',\n",
       "       'WD2018-0321', 'WD2019-0167', 'WD2017-0486', 'WD2017-0057',\n",
       "       'WD2020-0568', 'WD2018-0343', 'WD2019-0239', 'WD2020-0551',\n",
       "       'WD2021-0102'], dtype=object)"
      ]
     },
     "execution_count": 9,
     "metadata": {},
     "output_type": "execute_result"
    }
   ],
   "source": [
    "notes.wetdet_delin_number.unique()"
   ]
  },
  {
   "cell_type": "code",
   "execution_count": 10,
   "id": "2cc47515",
   "metadata": {},
   "outputs": [
    {
     "data": {
      "text/plain": [
       "Index(['wetdet_delin_number', 'trsqq', 'parcel_id', 'county', 'latitude',\n",
       "       'longitude', 'DecisionLink', 'record_ID', 'IDyear', 'correct_type',\n",
       "       'correction', 'cor_trsqq', 'ORTaxlot'],\n",
       "      dtype='object')"
      ]
     },
     "execution_count": 10,
     "metadata": {},
     "output_type": "execute_result"
    }
   ],
   "source": [
    "notes.columns"
   ]
  },
  {
   "cell_type": "code",
   "execution_count": 11,
   "id": "1d769620",
   "metadata": {},
   "outputs": [
    {
     "data": {
      "text/plain": [
       "(17, 13)"
      ]
     },
     "execution_count": 11,
     "metadata": {},
     "output_type": "execute_result"
    }
   ],
   "source": [
    "notes.shape"
   ]
  },
  {
   "cell_type": "code",
   "execution_count": 12,
   "id": "0219935d",
   "metadata": {},
   "outputs": [],
   "source": [
    "i=1"
   ]
  },
  {
   "cell_type": "code",
   "execution_count": 94,
   "id": "58515b77",
   "metadata": {},
   "outputs": [],
   "source": [
    "i = i+1"
   ]
  },
  {
   "cell_type": "code",
   "execution_count": 97,
   "id": "464edc5e",
   "metadata": {},
   "outputs": [
    {
     "data": {
      "text/plain": [
       "9"
      ]
     },
     "execution_count": 97,
     "metadata": {},
     "output_type": "execute_result"
    }
   ],
   "source": [
    "i"
   ]
  },
  {
   "cell_type": "code",
   "execution_count": 95,
   "id": "9ef09850",
   "metadata": {},
   "outputs": [
    {
     "data": {
      "text/plain": [
       "wetdet_delin_number                         WD2019-0167\n",
       "record_ID                                          3510\n",
       "trsqq                                          1N1E33AC\n",
       "correct_type           township number and range number\n",
       "correction                    from 1 and 1 to 01 and 01\n",
       "cor_trsqq                                    01N01E33AC\n",
       "parcel_id                                         10700\n",
       "ORTaxlot                  2601.00N01.00E33AC--000010700\n",
       "Name: 9, dtype: object"
      ]
     },
     "execution_count": 95,
     "metadata": {},
     "output_type": "execute_result"
    }
   ],
   "source": [
    "notes.loc[i, ['wetdet_delin_number', 'record_ID', 'trsqq', 'correct_type', 'correction', 'cor_trsqq', 'parcel_id', 'ORTaxlot']]"
   ]
  },
  {
   "cell_type": "code",
   "execution_count": 81,
   "id": "64eeffba",
   "metadata": {},
   "outputs": [
    {
     "name": "stdout",
     "output_type": "stream",
     "text": [
      "there is not any matched lot, need to review trsqq, the close-match is 01N03E23\n"
     ]
    }
   ],
   "source": [
    "print(notes.loc[i, 'correction'])"
   ]
  },
  {
   "cell_type": "code",
   "execution_count": 82,
   "id": "dc7951ed",
   "metadata": {},
   "outputs": [],
   "source": [
    "wdID = notes.loc[i,'wetdet_delin_number']"
   ]
  },
  {
   "cell_type": "code",
   "execution_count": 83,
   "id": "b8516b73",
   "metadata": {},
   "outputs": [
    {
     "data": {
      "text/plain": [
       "True"
      ]
     },
     "execution_count": 83,
     "metadata": {},
     "output_type": "execute_result"
    }
   ],
   "source": [
    "url = wd.loc[wd.wetdet_delin_number == wdID, 'DecisionLink'].values[0]\n",
    "webbrowser.open(url)"
   ]
  },
  {
   "cell_type": "code",
   "execution_count": 84,
   "id": "a5891014",
   "metadata": {
    "scrolled": true
   },
   "outputs": [
    {
     "data": {
      "text/html": [
       "<div>\n",
       "<style scoped>\n",
       "    .dataframe tbody tr th:only-of-type {\n",
       "        vertical-align: middle;\n",
       "    }\n",
       "\n",
       "    .dataframe tbody tr th {\n",
       "        vertical-align: top;\n",
       "    }\n",
       "\n",
       "    .dataframe thead th {\n",
       "        text-align: right;\n",
       "    }\n",
       "</style>\n",
       "<table border=\"1\" class=\"dataframe\">\n",
       "  <thead>\n",
       "    <tr style=\"text-align: right;\">\n",
       "      <th></th>\n",
       "      <th>county</th>\n",
       "      <th>trsqq</th>\n",
       "      <th>parcel_id</th>\n",
       "      <th>latitude</th>\n",
       "      <th>longitude</th>\n",
       "      <th>record_ID</th>\n",
       "      <th>notes</th>\n",
       "    </tr>\n",
       "  </thead>\n",
       "  <tbody>\n",
       "    <tr>\n",
       "      <th>537</th>\n",
       "      <td>Multnomah</td>\n",
       "      <td>01N03E25B</td>\n",
       "      <td>1100,1200,1300,1400,1500,90000</td>\n",
       "      <td>45.549718</td>\n",
       "      <td>-122.401653</td>\n",
       "      <td>3416</td>\n",
       "      <td></td>\n",
       "    </tr>\n",
       "    <tr>\n",
       "      <th>538</th>\n",
       "      <td>Multnomah</td>\n",
       "      <td>01N03E23DC</td>\n",
       "      <td>100,200,300,400,500,600,700</td>\n",
       "      <td>45.549718</td>\n",
       "      <td>-122.401653</td>\n",
       "      <td>3417</td>\n",
       "      <td></td>\n",
       "    </tr>\n",
       "    <tr>\n",
       "      <th>539</th>\n",
       "      <td>Multnomah</td>\n",
       "      <td>01N03E26A</td>\n",
       "      <td>100,200,300,400,500,900,1000,1100,1200</td>\n",
       "      <td>45.549718</td>\n",
       "      <td>-122.401653</td>\n",
       "      <td>3418</td>\n",
       "      <td></td>\n",
       "    </tr>\n",
       "    <tr>\n",
       "      <th>540</th>\n",
       "      <td>Multnomah</td>\n",
       "      <td>01N03E23</td>\n",
       "      <td>700,800,900,1000</td>\n",
       "      <td>45.549718</td>\n",
       "      <td>-122.401653</td>\n",
       "      <td>3419</td>\n",
       "      <td></td>\n",
       "    </tr>\n",
       "    <tr>\n",
       "      <th>541</th>\n",
       "      <td>Multnomah</td>\n",
       "      <td>01N03E24C</td>\n",
       "      <td>300,400,500,700,900</td>\n",
       "      <td>45.549718</td>\n",
       "      <td>-122.401653</td>\n",
       "      <td>3420</td>\n",
       "      <td></td>\n",
       "    </tr>\n",
       "    <tr>\n",
       "      <th>542</th>\n",
       "      <td>Multnomah</td>\n",
       "      <td>01N03E22</td>\n",
       "      <td>1600</td>\n",
       "      <td>45.549718</td>\n",
       "      <td>-122.401653</td>\n",
       "      <td>3421</td>\n",
       "      <td></td>\n",
       "    </tr>\n",
       "  </tbody>\n",
       "</table>\n",
       "</div>"
      ],
      "text/plain": [
       "        county       trsqq                               parcel_id   latitude  \\\n",
       "537  Multnomah   01N03E25B          1100,1200,1300,1400,1500,90000  45.549718   \n",
       "538  Multnomah  01N03E23DC             100,200,300,400,500,600,700  45.549718   \n",
       "539  Multnomah   01N03E26A  100,200,300,400,500,900,1000,1100,1200  45.549718   \n",
       "540  Multnomah    01N03E23                        700,800,900,1000  45.549718   \n",
       "541  Multnomah   01N03E24C                     300,400,500,700,900  45.549718   \n",
       "542  Multnomah    01N03E22                                    1600  45.549718   \n",
       "\n",
       "      longitude  record_ID notes  \n",
       "537 -122.401653       3416        \n",
       "538 -122.401653       3417        \n",
       "539 -122.401653       3418        \n",
       "540 -122.401653       3419        \n",
       "541 -122.401653       3420        \n",
       "542 -122.401653       3421        "
      ]
     },
     "execution_count": 84,
     "metadata": {},
     "output_type": "execute_result"
    }
   ],
   "source": [
    "selcols = ['county', 'trsqq', 'parcel_id', 'latitude', 'longitude', 'record_ID', 'notes']\n",
    "wd.loc[wd.wetdet_delin_number == wdID, selcols]"
   ]
  },
  {
   "cell_type": "code",
   "execution_count": 42,
   "id": "ba381f6d",
   "metadata": {},
   "outputs": [
    {
     "data": {
      "text/plain": [
       "'3400'"
      ]
     },
     "execution_count": 42,
     "metadata": {},
     "output_type": "execute_result"
    }
   ],
   "source": [
    "wd.parcel_id.values[587]"
   ]
  },
  {
   "cell_type": "code",
   "execution_count": 17,
   "id": "36c7e7bf",
   "metadata": {},
   "outputs": [
    {
     "data": {
      "text/plain": [
       "'QQ'"
      ]
     },
     "execution_count": 17,
     "metadata": {},
     "output_type": "execute_result"
    }
   ],
   "source": [
    "ctyp = notes.loc[i,'correct_type']#.split(' and ')[1]\n",
    "ctyp"
   ]
  },
  {
   "cell_type": "code",
   "execution_count": 85,
   "id": "9aa93248",
   "metadata": {},
   "outputs": [],
   "source": [
    "ctyp = 'QQ'"
   ]
  },
  {
   "cell_type": "code",
   "execution_count": 45,
   "id": "3ca02295",
   "metadata": {
    "scrolled": true
   },
   "outputs": [
    {
     "data": {
      "text/plain": [
       "'from Multnomah to Washington'"
      ]
     },
     "execution_count": 45,
     "metadata": {},
     "output_type": "execute_result"
    }
   ],
   "source": [
    "crt = notes.loc[i,'correction']\n",
    "crt"
   ]
  },
  {
   "cell_type": "code",
   "execution_count": 46,
   "id": "0d4da899",
   "metadata": {},
   "outputs": [
    {
     "data": {
      "text/plain": [
       "['Multnomah', 'Washington']"
      ]
     },
     "execution_count": 46,
     "metadata": {},
     "output_type": "execute_result"
    }
   ],
   "source": [
    "ft = crt.split('from ')[1].split(' to ')\n",
    "ft"
   ]
  },
  {
   "cell_type": "code",
   "execution_count": 86,
   "id": "168c0db1",
   "metadata": {},
   "outputs": [],
   "source": [
    "ft = ['1N1E33AC', '01N01E33AC']"
   ]
  },
  {
   "cell_type": "code",
   "execution_count": 73,
   "id": "ceef3cd3",
   "metadata": {},
   "outputs": [],
   "source": [
    "ft[0] = '00'"
   ]
  },
  {
   "cell_type": "code",
   "execution_count": 38,
   "id": "f7c4360d",
   "metadata": {},
   "outputs": [],
   "source": [
    "ft[1] = 'DB'"
   ]
  },
  {
   "cell_type": "code",
   "execution_count": 39,
   "id": "b444caf2",
   "metadata": {},
   "outputs": [
    {
     "data": {
      "text/plain": [
       "['Multnomah', 'Washington']"
      ]
     },
     "execution_count": 39,
     "metadata": {},
     "output_type": "execute_result"
    }
   ],
   "source": [
    "ft"
   ]
  },
  {
   "cell_type": "code",
   "execution_count": 517,
   "id": "28a6e03f",
   "metadata": {},
   "outputs": [],
   "source": [
    "f = crt.split('from ')[1].split(' and ')[0]\n",
    "t = crt.split(' to ')[1].split(' and ')[0]"
   ]
  },
  {
   "cell_type": "code",
   "execution_count": 523,
   "id": "6e76a794",
   "metadata": {},
   "outputs": [],
   "source": [
    "f = crt.split(' and ')[1].split(' to ')[0]\n",
    "t = crt.split(' and ')[2]"
   ]
  },
  {
   "cell_type": "code",
   "execution_count": 524,
   "id": "0a4ea532",
   "metadata": {},
   "outputs": [
    {
     "name": "stdout",
     "output_type": "stream",
     "text": [
      "Q VE\n"
     ]
    }
   ],
   "source": [
    "print(f, t)"
   ]
  },
  {
   "cell_type": "code",
   "execution_count": 87,
   "id": "d51acc68",
   "metadata": {},
   "outputs": [
    {
     "data": {
      "text/plain": [
       "3421"
      ]
     },
     "execution_count": 87,
     "metadata": {},
     "output_type": "execute_result"
    }
   ],
   "source": [
    "rID = notes.loc[i,'record_ID']\n",
    "rID"
   ]
  },
  {
   "cell_type": "code",
   "execution_count": 90,
   "id": "9a976998",
   "metadata": {},
   "outputs": [],
   "source": [
    "df = pd.read_csv(os.path.join(inpath + '\\\\output\\\\to_review\\\\', f'unmatched_df_{setID}_r2_{ml}_notes.csv'))"
   ]
  },
  {
   "cell_type": "code",
   "execution_count": 91,
   "id": "b24eb3be",
   "metadata": {},
   "outputs": [],
   "source": [
    "df = df.append({'wetdet_delin_number': wdID, 'record_ID': rID, 'field': 'trsqq', 'cor_type': ctyp, 'from': ft[0], 'to': ft[1]},\n",
    "        ignore_index = True)"
   ]
  },
  {
   "cell_type": "code",
   "execution_count": 47,
   "id": "a9a8819c",
   "metadata": {},
   "outputs": [],
   "source": [
    "df = df.append({'wetdet_delin_number': wdID, 'record_ID': rID, 'field': 'county', 'cor_type': 'county', 'from': ft[0], 'to': ft[1]},\n",
    "        ignore_index = True)"
   ]
  },
  {
   "cell_type": "code",
   "execution_count": 67,
   "id": "92c4878c",
   "metadata": {},
   "outputs": [],
   "source": [
    "df = df.append({'wetdet_delin_number': wdID, 'record_ID': rID, 'field': 'parcel id', 'cor_type': ctyp, 'from': ft[0], 'to': ft[1]},\n",
    "        ignore_index = True)"
   ]
  },
  {
   "cell_type": "code",
   "execution_count": 525,
   "id": "ed8d3195",
   "metadata": {},
   "outputs": [],
   "source": [
    "df = df.append({'wetdet_delin_number': wdID, 'record_ID': rID, 'field': 'trsqq', 'cor_type': ctyp, 'from': f, 'to': t},\n",
    "        ignore_index = True)"
   ]
  },
  {
   "cell_type": "code",
   "execution_count": 597,
   "id": "51fedf38",
   "metadata": {},
   "outputs": [],
   "source": [
    "df = df.append({'wetdet_delin_number': wdID, 'record_ID': rID, 'field': 'county', 'cor_type': 'county', 'from': 'Benton', 'to': 'Polk'},\n",
    "        ignore_index = True)"
   ]
  },
  {
   "cell_type": "code",
   "execution_count": 92,
   "id": "168bf084",
   "metadata": {},
   "outputs": [
    {
     "data": {
      "text/html": [
       "<div>\n",
       "<style scoped>\n",
       "    .dataframe tbody tr th:only-of-type {\n",
       "        vertical-align: middle;\n",
       "    }\n",
       "\n",
       "    .dataframe tbody tr th {\n",
       "        vertical-align: top;\n",
       "    }\n",
       "\n",
       "    .dataframe thead th {\n",
       "        text-align: right;\n",
       "    }\n",
       "</style>\n",
       "<table border=\"1\" class=\"dataframe\">\n",
       "  <thead>\n",
       "    <tr style=\"text-align: right;\">\n",
       "      <th></th>\n",
       "      <th>wetdet_delin_number</th>\n",
       "      <th>record_ID</th>\n",
       "      <th>field</th>\n",
       "      <th>cor_type</th>\n",
       "      <th>from</th>\n",
       "      <th>to</th>\n",
       "    </tr>\n",
       "  </thead>\n",
       "  <tbody>\n",
       "    <tr>\n",
       "      <th>0</th>\n",
       "      <td>WD2019-0039</td>\n",
       "      <td>3499</td>\n",
       "      <td>trsqq</td>\n",
       "      <td>QQ</td>\n",
       "      <td>00</td>\n",
       "      <td>CB</td>\n",
       "    </tr>\n",
       "    <tr>\n",
       "      <th>1</th>\n",
       "      <td>WD2018-0462</td>\n",
       "      <td>3466</td>\n",
       "      <td>county</td>\n",
       "      <td>county</td>\n",
       "      <td>Multnomah</td>\n",
       "      <td>Washington</td>\n",
       "    </tr>\n",
       "    <tr>\n",
       "      <th>2</th>\n",
       "      <td>WD2021-0031</td>\n",
       "      <td>2908</td>\n",
       "      <td>trsqq</td>\n",
       "      <td>range number</td>\n",
       "      <td>14</td>\n",
       "      <td>15</td>\n",
       "    </tr>\n",
       "    <tr>\n",
       "      <th>3</th>\n",
       "      <td>WD2018-0321</td>\n",
       "      <td>3421</td>\n",
       "      <td>trsqq</td>\n",
       "      <td>QQ</td>\n",
       "      <td>00</td>\n",
       "      <td>D0</td>\n",
       "    </tr>\n",
       "  </tbody>\n",
       "</table>\n",
       "</div>"
      ],
      "text/plain": [
       "  wetdet_delin_number  record_ID   field      cor_type       from          to\n",
       "0         WD2019-0039       3499   trsqq            QQ         00          CB\n",
       "1         WD2018-0462       3466  county        county  Multnomah  Washington\n",
       "2         WD2021-0031       2908   trsqq  range number         14          15\n",
       "3         WD2018-0321       3421   trsqq            QQ         00          D0"
      ]
     },
     "execution_count": 92,
     "metadata": {},
     "output_type": "execute_result"
    }
   ],
   "source": [
    "df.tail(5)"
   ]
  },
  {
   "cell_type": "code",
   "execution_count": 70,
   "id": "c1e39272",
   "metadata": {},
   "outputs": [],
   "source": [
    "df.loc[2, 'field'] = 'parcel_id'"
   ]
  },
  {
   "cell_type": "code",
   "execution_count": 93,
   "id": "3aeecdf0",
   "metadata": {},
   "outputs": [],
   "source": [
    "df.to_csv(os.path.join(inpath + '\\\\output\\\\to_review\\\\', f'unmatched_df_{setID}_r2_{ml}_notes.csv'), index=False)"
   ]
  },
  {
   "cell_type": "code",
   "execution_count": 400,
   "id": "5d3f8a8a",
   "metadata": {},
   "outputs": [
    {
     "data": {
      "text/plain": [
       "(28, 6)"
      ]
     },
     "execution_count": 400,
     "metadata": {},
     "output_type": "execute_result"
    }
   ],
   "source": [
    "df.shape"
   ]
  },
  {
   "cell_type": "code",
   "execution_count": 636,
   "id": "ceaeae91",
   "metadata": {},
   "outputs": [],
   "source": [
    "df = pd.DataFrame(columns = ['wetdet_delin_number', 'field', 'cor_type', 'from', 'to'])"
   ]
  },
  {
   "cell_type": "code",
   "execution_count": 349,
   "id": "d94d57cf",
   "metadata": {},
   "outputs": [
    {
     "data": {
      "text/plain": [
       "'WD2020-0668'"
      ]
     },
     "execution_count": 349,
     "metadata": {},
     "output_type": "execute_result"
    }
   ],
   "source": [
    "wdID"
   ]
  },
  {
   "cell_type": "code",
   "execution_count": 350,
   "id": "059d2852",
   "metadata": {},
   "outputs": [
    {
     "name": "stdout",
     "output_type": "stream",
     "text": [
      "1\n",
      "2\n"
     ]
    }
   ],
   "source": [
    "for i in range(1, 3):\n",
    "    extract_page_from_docLink(url=url, pageNm=i, wdID=wdID)\n",
    "#     extract_page_from_locPath(filePath=r'T:\\DCProjects\\EPA-WD\\docs\\WD20210179 Agency Decision.pdf', \n",
    "#                           pageNm=i, wdID='WD2021-0179')\n",
    "    print(i)"
   ]
  },
  {
   "cell_type": "code",
   "execution_count": 7,
   "id": "31c44579",
   "metadata": {},
   "outputs": [],
   "source": [
    "setgdf = gpd.read_file(os.path.join(inpath, 'GIS', 'Join_Statewide.gdb'), layer=f'WD_{setID}_Combined')"
   ]
  },
  {
   "cell_type": "code",
   "execution_count": 52,
   "id": "d16af7b7",
   "metadata": {},
   "outputs": [],
   "source": [
    "rev_r2 = pd.read_csv(os.path.join(inpath + '\\\\output\\\\to_review\\\\', f'review_unmatched_{setID}_r2_{ml}_0.csv'))"
   ]
  },
  {
   "cell_type": "code",
   "execution_count": 53,
   "id": "c365d340",
   "metadata": {},
   "outputs": [
    {
     "data": {
      "text/html": [
       "<div>\n",
       "<style scoped>\n",
       "    .dataframe tbody tr th:only-of-type {\n",
       "        vertical-align: middle;\n",
       "    }\n",
       "\n",
       "    .dataframe tbody tr th {\n",
       "        vertical-align: top;\n",
       "    }\n",
       "\n",
       "    .dataframe thead th {\n",
       "        text-align: right;\n",
       "    }\n",
       "</style>\n",
       "<table border=\"1\" class=\"dataframe\">\n",
       "  <thead>\n",
       "    <tr style=\"text-align: right;\">\n",
       "      <th></th>\n",
       "      <th>wetdet_delin_number</th>\n",
       "      <th>trsqq</th>\n",
       "      <th>parcel_id</th>\n",
       "      <th>county</th>\n",
       "      <th>latitude</th>\n",
       "      <th>longitude</th>\n",
       "      <th>DecisionLink</th>\n",
       "      <th>record_ID</th>\n",
       "      <th>IDyear</th>\n",
       "      <th>correct_type</th>\n",
       "      <th>correction</th>\n",
       "      <th>cor_trsqq</th>\n",
       "      <th>ORTaxlot</th>\n",
       "    </tr>\n",
       "  </thead>\n",
       "  <tbody>\n",
       "    <tr>\n",
       "      <th>0</th>\n",
       "      <td>WD2018-0124</td>\n",
       "      <td>39S20E21</td>\n",
       "      <td>ROWs</td>\n",
       "      <td>Lake</td>\n",
       "      <td>42.164626</td>\n",
       "      <td>-120.366529</td>\n",
       "      <td>https://docs.dsl.state.or.us/PublicReview/docv...</td>\n",
       "      <td>1089</td>\n",
       "      <td>2018</td>\n",
       "      <td>QQ</td>\n",
       "      <td>from 00 to CD</td>\n",
       "      <td>39S20E21CD</td>\n",
       "      <td>1939.00S20.00E21CD--0000ROADS</td>\n",
       "    </tr>\n",
       "    <tr>\n",
       "      <th>1</th>\n",
       "      <td>WD2021-0703</td>\n",
       "      <td>38S20E09</td>\n",
       "      <td>Many</td>\n",
       "      <td>Lake</td>\n",
       "      <td>42.178657</td>\n",
       "      <td>-120.395374</td>\n",
       "      <td>NaN</td>\n",
       "      <td>1148</td>\n",
       "      <td>2021</td>\n",
       "      <td>to review</td>\n",
       "      <td>there is not any matched lot, need to review t...</td>\n",
       "      <td>39S20E0000</td>\n",
       "      <td>1939.00S20.00E0000--0000ROADS</td>\n",
       "    </tr>\n",
       "    <tr>\n",
       "      <th>2</th>\n",
       "      <td>WD2018-0281</td>\n",
       "      <td>25S13W04</td>\n",
       "      <td>MANY</td>\n",
       "      <td>Coos</td>\n",
       "      <td>43.432600</td>\n",
       "      <td>-124.240200</td>\n",
       "      <td>https://docs.dsl.state.or.us/PublicReview/Elec...</td>\n",
       "      <td>209</td>\n",
       "      <td>2018</td>\n",
       "      <td>to review</td>\n",
       "      <td>there is not any matched lot, need to review t...</td>\n",
       "      <td>25S13W0300</td>\n",
       "      <td>0625.00S13.00W0300--000000200</td>\n",
       "    </tr>\n",
       "    <tr>\n",
       "      <th>3</th>\n",
       "      <td>WD2019-0124</td>\n",
       "      <td>36S02W28</td>\n",
       "      <td>Many,ROW,All part</td>\n",
       "      <td>Jackson</td>\n",
       "      <td>42.419580</td>\n",
       "      <td>-122.954460</td>\n",
       "      <td>https://docs.dsl.state.or.us/PublicReview/Elec...</td>\n",
       "      <td>807</td>\n",
       "      <td>2019</td>\n",
       "      <td>to review</td>\n",
       "      <td>there is not any matched lot, need to review t...</td>\n",
       "      <td>36S02W2100</td>\n",
       "      <td>1536.00S02.00W2100--000001300</td>\n",
       "    </tr>\n",
       "    <tr>\n",
       "      <th>4</th>\n",
       "      <td>WD2022-0261</td>\n",
       "      <td>29S15W12</td>\n",
       "      <td>ROW</td>\n",
       "      <td>Coos</td>\n",
       "      <td>43.081203</td>\n",
       "      <td>-124.430481</td>\n",
       "      <td>NaN</td>\n",
       "      <td>327</td>\n",
       "      <td>2022</td>\n",
       "      <td>coordinate</td>\n",
       "      <td>coordinate might be incorrect, nearby taxlot i...</td>\n",
       "      <td>29S15W12</td>\n",
       "      <td>0629.00S15.00W1200--000000100</td>\n",
       "    </tr>\n",
       "    <tr>\n",
       "      <th>5</th>\n",
       "      <td>WD2022-0087</td>\n",
       "      <td>15S10E09BB</td>\n",
       "      <td>Elm St ROW</td>\n",
       "      <td>Deschutes</td>\n",
       "      <td>44.288619</td>\n",
       "      <td>-121.549925</td>\n",
       "      <td>https://docs.dsl.state.or.us/PublicReview/Elec...</td>\n",
       "      <td>559</td>\n",
       "      <td>2022</td>\n",
       "      <td>coordinate</td>\n",
       "      <td>coordinate might be incorrect, nearby taxlot i...</td>\n",
       "      <td>15S10E09BB</td>\n",
       "      <td>0915.00S10.00E09BB--000008300</td>\n",
       "    </tr>\n",
       "  </tbody>\n",
       "</table>\n",
       "</div>"
      ],
      "text/plain": [
       "  wetdet_delin_number       trsqq          parcel_id     county   latitude  \\\n",
       "0         WD2018-0124    39S20E21               ROWs       Lake  42.164626   \n",
       "1         WD2021-0703    38S20E09               Many       Lake  42.178657   \n",
       "2         WD2018-0281    25S13W04               MANY       Coos  43.432600   \n",
       "3         WD2019-0124    36S02W28  Many,ROW,All part    Jackson  42.419580   \n",
       "4         WD2022-0261    29S15W12                ROW       Coos  43.081203   \n",
       "5         WD2022-0087  15S10E09BB         Elm St ROW  Deschutes  44.288619   \n",
       "\n",
       "    longitude                                       DecisionLink  record_ID  \\\n",
       "0 -120.366529  https://docs.dsl.state.or.us/PublicReview/docv...       1089   \n",
       "1 -120.395374                                                NaN       1148   \n",
       "2 -124.240200  https://docs.dsl.state.or.us/PublicReview/Elec...        209   \n",
       "3 -122.954460  https://docs.dsl.state.or.us/PublicReview/Elec...        807   \n",
       "4 -124.430481                                                NaN        327   \n",
       "5 -121.549925  https://docs.dsl.state.or.us/PublicReview/Elec...        559   \n",
       "\n",
       "   IDyear correct_type                                         correction  \\\n",
       "0    2018           QQ                                      from 00 to CD   \n",
       "1    2021    to review  there is not any matched lot, need to review t...   \n",
       "2    2018    to review  there is not any matched lot, need to review t...   \n",
       "3    2019    to review  there is not any matched lot, need to review t...   \n",
       "4    2022   coordinate  coordinate might be incorrect, nearby taxlot i...   \n",
       "5    2022   coordinate  coordinate might be incorrect, nearby taxlot i...   \n",
       "\n",
       "    cor_trsqq                       ORTaxlot  \n",
       "0  39S20E21CD  1939.00S20.00E21CD--0000ROADS  \n",
       "1  39S20E0000  1939.00S20.00E0000--0000ROADS  \n",
       "2  25S13W0300  0625.00S13.00W0300--000000200  \n",
       "3  36S02W2100  1536.00S02.00W2100--000001300  \n",
       "4    29S15W12  0629.00S15.00W1200--000000100  \n",
       "5  15S10E09BB  0915.00S10.00E09BB--000008300  "
      ]
     },
     "execution_count": 53,
     "metadata": {},
     "output_type": "execute_result"
    }
   ],
   "source": [
    "rev_r2"
   ]
  },
  {
   "cell_type": "code",
   "execution_count": 10,
   "id": "e4b35f1a",
   "metadata": {},
   "outputs": [],
   "source": [
    "i=0"
   ]
  },
  {
   "cell_type": "code",
   "execution_count": null,
   "id": "9a432bde",
   "metadata": {},
   "outputs": [],
   "source": [
    "i=i+1"
   ]
  },
  {
   "cell_type": "code",
   "execution_count": 11,
   "id": "451c42c7",
   "metadata": {},
   "outputs": [
    {
     "data": {
      "text/plain": [
       "Index(['wetdet_delin_number', 'trsqq', 'parcel_id', 'county', 'latitude',\n",
       "       'longitude', 'DecisionLink', 'record_ID', 'IDyear', 'correct_type',\n",
       "       'correction', 'cor_trsqq', 'ORTaxlot'],\n",
       "      dtype='object')"
      ]
     },
     "execution_count": 11,
     "metadata": {},
     "output_type": "execute_result"
    }
   ],
   "source": [
    "rev_r2.columns"
   ]
  },
  {
   "cell_type": "code",
   "execution_count": 54,
   "id": "207cb90e",
   "metadata": {},
   "outputs": [
    {
     "data": {
      "text/plain": [
       "wetdet_delin_number                                          WD2021-0703\n",
       "trsqq                                                           38S20E09\n",
       "parcel_id                                                           Many\n",
       "county                                                              Lake\n",
       "latitude                                                       42.178657\n",
       "longitude                                                    -120.395374\n",
       "DecisionLink                                                         NaN\n",
       "record_ID                                                           1148\n",
       "IDyear                                                              2021\n",
       "correct_type                                                   to review\n",
       "correction             there is not any matched lot, need to review t...\n",
       "cor_trsqq                                                     39S20E0000\n",
       "ORTaxlot                                   1939.00S20.00E0000--0000ROADS\n",
       "Name: 1, dtype: object"
      ]
     },
     "execution_count": 54,
     "metadata": {},
     "output_type": "execute_result"
    }
   ],
   "source": [
    "rev_r2.loc[1, :]"
   ]
  },
  {
   "cell_type": "code",
   "execution_count": 75,
   "id": "92b8034d",
   "metadata": {},
   "outputs": [],
   "source": [
    "notes = pd.read_csv(os.path.join(inpath + '\\\\output\\\\to_review\\\\unmatched_df_Set001_r2_Y_notes.csv'))"
   ]
  },
  {
   "cell_type": "code",
   "execution_count": 76,
   "id": "5d7daf88",
   "metadata": {},
   "outputs": [
    {
     "data": {
      "text/html": [
       "<div>\n",
       "<style scoped>\n",
       "    .dataframe tbody tr th:only-of-type {\n",
       "        vertical-align: middle;\n",
       "    }\n",
       "\n",
       "    .dataframe tbody tr th {\n",
       "        vertical-align: top;\n",
       "    }\n",
       "\n",
       "    .dataframe thead th {\n",
       "        text-align: right;\n",
       "    }\n",
       "</style>\n",
       "<table border=\"1\" class=\"dataframe\">\n",
       "  <thead>\n",
       "    <tr style=\"text-align: right;\">\n",
       "      <th></th>\n",
       "      <th>wetdet_delin_number</th>\n",
       "      <th>record_ID</th>\n",
       "      <th>field</th>\n",
       "      <th>cor_type</th>\n",
       "      <th>from</th>\n",
       "      <th>to</th>\n",
       "    </tr>\n",
       "  </thead>\n",
       "  <tbody>\n",
       "    <tr>\n",
       "      <th>0</th>\n",
       "      <td>WD2018-0124</td>\n",
       "      <td>1089</td>\n",
       "      <td>trsqq</td>\n",
       "      <td>QQ</td>\n",
       "      <td>00</td>\n",
       "      <td>CD</td>\n",
       "    </tr>\n",
       "    <tr>\n",
       "      <th>1</th>\n",
       "      <td>WD2021-0703</td>\n",
       "      <td>1148</td>\n",
       "      <td>trsqq</td>\n",
       "      <td>section number</td>\n",
       "      <td>09</td>\n",
       "      <td>00</td>\n",
       "    </tr>\n",
       "    <tr>\n",
       "      <th>2</th>\n",
       "      <td>WD2021-0703</td>\n",
       "      <td>1148</td>\n",
       "      <td>parcel_id</td>\n",
       "      <td>parcel id</td>\n",
       "      <td>Many</td>\n",
       "      <td>ROW</td>\n",
       "    </tr>\n",
       "  </tbody>\n",
       "</table>\n",
       "</div>"
      ],
      "text/plain": [
       "  wetdet_delin_number  record_ID      field        cor_type  from   to\n",
       "0         WD2018-0124       1089      trsqq              QQ    00   CD\n",
       "1         WD2021-0703       1148      trsqq  section number    09   00\n",
       "2         WD2021-0703       1148  parcel_id       parcel id  Many  ROW"
      ]
     },
     "execution_count": 76,
     "metadata": {},
     "output_type": "execute_result"
    }
   ],
   "source": [
    "adjust_cor_from_to(notes)"
   ]
  }
 ],
 "metadata": {
  "kernelspec": {
   "display_name": "Python 3",
   "language": "python",
   "name": "python3"
  },
  "language_info": {
   "codemirror_mode": {
    "name": "ipython",
    "version": 3
   },
   "file_extension": ".py",
   "mimetype": "text/x-python",
   "name": "python",
   "nbconvert_exporter": "python",
   "pygments_lexer": "ipython3",
   "version": "3.8.8"
  }
 },
 "nbformat": 4,
 "nbformat_minor": 5
}
