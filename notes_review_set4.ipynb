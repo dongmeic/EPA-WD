{
 "cells": [
  {
   "cell_type": "code",
   "execution_count": 1,
   "id": "d7c2612b",
   "metadata": {},
   "outputs": [],
   "source": [
    "%load_ext autoreload\n",
    "%autoreload 2"
   ]
  },
  {
   "cell_type": "code",
   "execution_count": 2,
   "id": "31eba31e",
   "metadata": {},
   "outputs": [],
   "source": [
    "from wdtools import *"
   ]
  },
  {
   "cell_type": "code",
   "execution_count": 3,
   "id": "bb8373d9",
   "metadata": {},
   "outputs": [
    {
     "name": "stdout",
     "output_type": "stream",
     "text": [
      "it took 9.0 minutes to complete\n"
     ]
    }
   ],
   "source": [
    "# this can take about 9 - 11 minutes\n",
    "start = time.time()\n",
    "all_taxlot = combine_taxlot()\n",
    "end = time.time()\n",
    "print(f'it took {round((end - start)/60, 0)} minutes to complete')"
   ]
  },
  {
   "cell_type": "code",
   "execution_count": 7,
   "id": "007cc0be",
   "metadata": {},
   "outputs": [],
   "source": [
    "setID = 'Set004'"
   ]
  },
  {
   "cell_type": "code",
   "execution_count": 5,
   "id": "66455aa2",
   "metadata": {},
   "outputs": [],
   "source": [
    "nm_to_add = 2878"
   ]
  },
  {
   "cell_type": "code",
   "execution_count": 6,
   "id": "2c2645dd",
   "metadata": {},
   "outputs": [],
   "source": [
    "wd = combine_wd_tables(setID=setID, nm_to_add=nm_to_add)"
   ]
  },
  {
   "cell_type": "code",
   "execution_count": 209,
   "id": "9dced017",
   "metadata": {},
   "outputs": [],
   "source": [
    "df = pd.DataFrame(columns = ['wetdet_delin_number', 'record_ID', 'field', 'cor_type', 'from', 'to'])"
   ]
  },
  {
   "cell_type": "code",
   "execution_count": 95,
   "id": "0d8aa941",
   "metadata": {},
   "outputs": [],
   "source": [
    "#ml = 'N'\n",
    "ml = 'Y'"
   ]
  },
  {
   "cell_type": "code",
   "execution_count": 96,
   "id": "132a44f2",
   "metadata": {},
   "outputs": [],
   "source": [
    "notes = pd.read_csv(os.path.join(inpath + '\\\\output\\\\to_review\\\\', f'review_unmatched_{setID}_r2_{ml}_0.csv'))"
   ]
  },
  {
   "cell_type": "code",
   "execution_count": 97,
   "id": "f4d718ee",
   "metadata": {},
   "outputs": [
    {
     "data": {
      "text/plain": [
       "array(['WD2018-0276', 'WD2017-0415', 'WD2021-0594', 'WD2017-0160',\n",
       "       'WD2018-0139'], dtype=object)"
      ]
     },
     "execution_count": 97,
     "metadata": {},
     "output_type": "execute_result"
    }
   ],
   "source": [
    "notes.wetdet_delin_number.unique()"
   ]
  },
  {
   "cell_type": "code",
   "execution_count": 10,
   "id": "2cc47515",
   "metadata": {},
   "outputs": [
    {
     "data": {
      "text/plain": [
       "Index(['wetdet_delin_number', 'trsqq', 'parcel_id', 'county', 'latitude',\n",
       "       'longitude', 'DecisionLink', 'record_ID', 'IDyear', 'correct_type',\n",
       "       'correction', 'cor_trsqq', 'ORTaxlot'],\n",
       "      dtype='object')"
      ]
     },
     "execution_count": 10,
     "metadata": {},
     "output_type": "execute_result"
    }
   ],
   "source": [
    "notes.columns"
   ]
  },
  {
   "cell_type": "code",
   "execution_count": 98,
   "id": "1d769620",
   "metadata": {},
   "outputs": [
    {
     "data": {
      "text/plain": [
       "(5, 13)"
      ]
     },
     "execution_count": 98,
     "metadata": {},
     "output_type": "execute_result"
    }
   ],
   "source": [
    "notes.shape"
   ]
  },
  {
   "cell_type": "code",
   "execution_count": 107,
   "id": "266b8668",
   "metadata": {},
   "outputs": [
    {
     "data": {
      "text/html": [
       "<div>\n",
       "<style scoped>\n",
       "    .dataframe tbody tr th:only-of-type {\n",
       "        vertical-align: middle;\n",
       "    }\n",
       "\n",
       "    .dataframe tbody tr th {\n",
       "        vertical-align: top;\n",
       "    }\n",
       "\n",
       "    .dataframe thead th {\n",
       "        text-align: right;\n",
       "    }\n",
       "</style>\n",
       "<table border=\"1\" class=\"dataframe\">\n",
       "  <thead>\n",
       "    <tr style=\"text-align: right;\">\n",
       "      <th></th>\n",
       "      <th>wetdet_delin_number</th>\n",
       "      <th>trsqq</th>\n",
       "      <th>parcel_id</th>\n",
       "      <th>county</th>\n",
       "      <th>latitude</th>\n",
       "      <th>longitude</th>\n",
       "      <th>DecisionLink</th>\n",
       "      <th>record_ID</th>\n",
       "      <th>IDyear</th>\n",
       "      <th>correct_type</th>\n",
       "      <th>correction</th>\n",
       "      <th>cor_trsqq</th>\n",
       "      <th>ORTaxlot</th>\n",
       "    </tr>\n",
       "  </thead>\n",
       "  <tbody>\n",
       "    <tr>\n",
       "      <th>0</th>\n",
       "      <td>WD2018-0276</td>\n",
       "      <td>01S01E18DA</td>\n",
       "      <td>ROW</td>\n",
       "      <td>Multnomah</td>\n",
       "      <td>45.481223</td>\n",
       "      <td>-122.727039</td>\n",
       "      <td>https://docs.dsl.state.or.us/PublicReview/docv...</td>\n",
       "      <td>3412</td>\n",
       "      <td>2018</td>\n",
       "      <td>lot number</td>\n",
       "      <td>lot number ['ROADS'] might be incorrect, the m...</td>\n",
       "      <td>01S01E18DA</td>\n",
       "      <td>2601.00S01.00E18DA--0000NONTL</td>\n",
       "    </tr>\n",
       "    <tr>\n",
       "      <th>1</th>\n",
       "      <td>WD2017-0415</td>\n",
       "      <td>01N02E28DC</td>\n",
       "      <td>ROW</td>\n",
       "      <td>Multnomah</td>\n",
       "      <td>45.534916</td>\n",
       "      <td>-122.565683</td>\n",
       "      <td>https://docs.dsl.state.or.us/PublicReview/Elec...</td>\n",
       "      <td>3366</td>\n",
       "      <td>2017</td>\n",
       "      <td>lot number</td>\n",
       "      <td>lot number ['ROADS'] might be incorrect, the m...</td>\n",
       "      <td>01N02E28DC</td>\n",
       "      <td>2601.00N02.00E28DC--0000NONTL</td>\n",
       "    </tr>\n",
       "    <tr>\n",
       "      <th>2</th>\n",
       "      <td>WD2021-0594</td>\n",
       "      <td>14S01W18</td>\n",
       "      <td>ROW</td>\n",
       "      <td>Linn</td>\n",
       "      <td>44.357473</td>\n",
       "      <td>-122.860493</td>\n",
       "      <td>https://docs.dsl.state.or.us/PublicReview/Elec...</td>\n",
       "      <td>3304</td>\n",
       "      <td>2021</td>\n",
       "      <td>section number</td>\n",
       "      <td>from 18 to 15</td>\n",
       "      <td>14S01W1500</td>\n",
       "      <td>2214.00S01.00W1500--0000ROADS</td>\n",
       "    </tr>\n",
       "    <tr>\n",
       "      <th>3</th>\n",
       "      <td>WD2017-0160</td>\n",
       "      <td>01S01W36DD</td>\n",
       "      <td>ROW</td>\n",
       "      <td>Multnomah</td>\n",
       "      <td>45.433827</td>\n",
       "      <td>-122.743467</td>\n",
       "      <td>https://docs.dsl.state.or.us/PublicReview/Elec...</td>\n",
       "      <td>3344</td>\n",
       "      <td>2017</td>\n",
       "      <td>to review</td>\n",
       "      <td>there is not any matched lot, need to review t...</td>\n",
       "      <td>01S01E31CC</td>\n",
       "      <td>2601.00S01.00E31CC--000008700</td>\n",
       "    </tr>\n",
       "    <tr>\n",
       "      <th>4</th>\n",
       "      <td>WD2018-0139</td>\n",
       "      <td>01S01E20CB</td>\n",
       "      <td>ROW</td>\n",
       "      <td>Multnomah</td>\n",
       "      <td>45.467170</td>\n",
       "      <td>-122.720830</td>\n",
       "      <td>https://docs.dsl.state.or.us/PublicReview/Elec...</td>\n",
       "      <td>3402</td>\n",
       "      <td>2018</td>\n",
       "      <td>lot number</td>\n",
       "      <td>lot number ['ROADS'] might be incorrect, the m...</td>\n",
       "      <td>01S01E20CB</td>\n",
       "      <td>2601.00S01.00E20CB--0000NONTL</td>\n",
       "    </tr>\n",
       "  </tbody>\n",
       "</table>\n",
       "</div>"
      ],
      "text/plain": [
       "  wetdet_delin_number       trsqq parcel_id     county   latitude   longitude  \\\n",
       "0         WD2018-0276  01S01E18DA       ROW  Multnomah  45.481223 -122.727039   \n",
       "1         WD2017-0415  01N02E28DC       ROW  Multnomah  45.534916 -122.565683   \n",
       "2         WD2021-0594    14S01W18       ROW       Linn  44.357473 -122.860493   \n",
       "3         WD2017-0160  01S01W36DD       ROW  Multnomah  45.433827 -122.743467   \n",
       "4         WD2018-0139  01S01E20CB       ROW  Multnomah  45.467170 -122.720830   \n",
       "\n",
       "                                        DecisionLink  record_ID  IDyear  \\\n",
       "0  https://docs.dsl.state.or.us/PublicReview/docv...       3412    2018   \n",
       "1  https://docs.dsl.state.or.us/PublicReview/Elec...       3366    2017   \n",
       "2  https://docs.dsl.state.or.us/PublicReview/Elec...       3304    2021   \n",
       "3  https://docs.dsl.state.or.us/PublicReview/Elec...       3344    2017   \n",
       "4  https://docs.dsl.state.or.us/PublicReview/Elec...       3402    2018   \n",
       "\n",
       "     correct_type                                         correction  \\\n",
       "0      lot number  lot number ['ROADS'] might be incorrect, the m...   \n",
       "1      lot number  lot number ['ROADS'] might be incorrect, the m...   \n",
       "2  section number                                      from 18 to 15   \n",
       "3       to review  there is not any matched lot, need to review t...   \n",
       "4      lot number  lot number ['ROADS'] might be incorrect, the m...   \n",
       "\n",
       "    cor_trsqq                       ORTaxlot  \n",
       "0  01S01E18DA  2601.00S01.00E18DA--0000NONTL  \n",
       "1  01N02E28DC  2601.00N02.00E28DC--0000NONTL  \n",
       "2  14S01W1500  2214.00S01.00W1500--0000ROADS  \n",
       "3  01S01E31CC  2601.00S01.00E31CC--000008700  \n",
       "4  01S01E20CB  2601.00S01.00E20CB--0000NONTL  "
      ]
     },
     "execution_count": 107,
     "metadata": {},
     "output_type": "execute_result"
    }
   ],
   "source": [
    "notes"
   ]
  },
  {
   "cell_type": "code",
   "execution_count": 133,
   "id": "0219935d",
   "metadata": {},
   "outputs": [],
   "source": [
    "i=4"
   ]
  },
  {
   "cell_type": "code",
   "execution_count": 130,
   "id": "58515b77",
   "metadata": {},
   "outputs": [],
   "source": [
    "i = i+1"
   ]
  },
  {
   "cell_type": "code",
   "execution_count": 132,
   "id": "464edc5e",
   "metadata": {},
   "outputs": [
    {
     "data": {
      "text/plain": [
       "5"
      ]
     },
     "execution_count": 132,
     "metadata": {},
     "output_type": "execute_result"
    }
   ],
   "source": [
    "i"
   ]
  },
  {
   "cell_type": "code",
   "execution_count": 134,
   "id": "9ef09850",
   "metadata": {},
   "outputs": [
    {
     "data": {
      "text/plain": [
       "wetdet_delin_number                                          WD2018-0139\n",
       "record_ID                                                           3402\n",
       "trsqq                                                         01S01E20CB\n",
       "correct_type                                                  lot number\n",
       "correction             lot number ['ROADS'] might be incorrect, the m...\n",
       "cor_trsqq                                                     01S01E20CB\n",
       "parcel_id                                                            ROW\n",
       "ORTaxlot                                   2601.00S01.00E20CB--0000NONTL\n",
       "Name: 4, dtype: object"
      ]
     },
     "execution_count": 134,
     "metadata": {},
     "output_type": "execute_result"
    }
   ],
   "source": [
    "notes.loc[i, ['wetdet_delin_number', 'record_ID', 'trsqq', 'correct_type', 'correction', 'cor_trsqq', 'parcel_id', 'ORTaxlot']]"
   ]
  },
  {
   "cell_type": "code",
   "execution_count": 126,
   "id": "64eeffba",
   "metadata": {},
   "outputs": [
    {
     "name": "stdout",
     "output_type": "stream",
     "text": [
      "lot number ['ROADS'] might be incorrect, the matched taxlot is 2601.00S01.00E20CB--0000NONTL for 01S01E20CB\n"
     ]
    }
   ],
   "source": [
    "print(notes.loc[i, 'correction'])"
   ]
  },
  {
   "cell_type": "code",
   "execution_count": 127,
   "id": "dc7951ed",
   "metadata": {},
   "outputs": [],
   "source": [
    "wdID = notes.loc[i,'wetdet_delin_number']"
   ]
  },
  {
   "cell_type": "code",
   "execution_count": 198,
   "id": "3ad4215d",
   "metadata": {},
   "outputs": [
    {
     "data": {
      "text/plain": [
       "'WD2019-0156'"
      ]
     },
     "execution_count": 198,
     "metadata": {},
     "output_type": "execute_result"
    }
   ],
   "source": [
    "wdID"
   ]
  },
  {
   "cell_type": "code",
   "execution_count": 128,
   "id": "a55a813b",
   "metadata": {},
   "outputs": [
    {
     "data": {
      "text/plain": [
       "True"
      ]
     },
     "execution_count": 128,
     "metadata": {},
     "output_type": "execute_result"
    }
   ],
   "source": [
    "url = wd.loc[wd.wetdet_delin_number == wdID, 'DecisionLink'].values[0]\n",
    "webbrowser.open(url)"
   ]
  },
  {
   "cell_type": "code",
   "execution_count": 129,
   "id": "b87e4820",
   "metadata": {},
   "outputs": [
    {
     "data": {
      "text/plain": [
       "<AxesSubplot:>"
      ]
     },
     "execution_count": 129,
     "metadata": {},
     "output_type": "execute_result"
    },
    {
     "data": {
      "image/png": "[encoded data removed]",
      "text/plain": [
       "<Figure size 432x288 with 1 Axes>"
      ]
     },
     "metadata": {
      "needs_background": "light"
     },
     "output_type": "display_data"
    }
   ],
   "source": [
    "all_taxlot[all_taxlot.ORTaxlot==notes.loc[i,'ORTaxlot']].plot()"
   ]
  },
  {
   "cell_type": "code",
   "execution_count": 200,
   "id": "a5891014",
   "metadata": {
    "scrolled": true
   },
   "outputs": [
    {
     "data": {
      "text/html": [
       "<div>\n",
       "<style scoped>\n",
       "    .dataframe tbody tr th:only-of-type {\n",
       "        vertical-align: middle;\n",
       "    }\n",
       "\n",
       "    .dataframe tbody tr th {\n",
       "        vertical-align: top;\n",
       "    }\n",
       "\n",
       "    .dataframe thead th {\n",
       "        text-align: right;\n",
       "    }\n",
       "</style>\n",
       "<table border=\"1\" class=\"dataframe\">\n",
       "  <thead>\n",
       "    <tr style=\"text-align: right;\">\n",
       "      <th></th>\n",
       "      <th>county</th>\n",
       "      <th>trsqq</th>\n",
       "      <th>parcel_id</th>\n",
       "      <th>latitude</th>\n",
       "      <th>longitude</th>\n",
       "      <th>record_ID</th>\n",
       "      <th>notes</th>\n",
       "    </tr>\n",
       "  </thead>\n",
       "  <tbody>\n",
       "    <tr>\n",
       "      <th>932</th>\n",
       "      <td>Yamhill</td>\n",
       "      <td>04S04W15CA</td>\n",
       "      <td>3100</td>\n",
       "      <td>45.222934</td>\n",
       "      <td>-123.165247</td>\n",
       "      <td>3811</td>\n",
       "      <td></td>\n",
       "    </tr>\n",
       "  </tbody>\n",
       "</table>\n",
       "</div>"
      ],
      "text/plain": [
       "      county       trsqq parcel_id   latitude   longitude  record_ID notes\n",
       "932  Yamhill  04S04W15CA      3100  45.222934 -123.165247       3811      "
      ]
     },
     "execution_count": 200,
     "metadata": {},
     "output_type": "execute_result"
    }
   ],
   "source": [
    "selcols = ['county', 'trsqq', 'parcel_id', 'latitude', 'longitude', 'record_ID', 'notes']\n",
    "wd.loc[wd.wetdet_delin_number == wdID, selcols]"
   ]
  },
  {
   "cell_type": "code",
   "execution_count": 42,
   "id": "1d90b0bd",
   "metadata": {},
   "outputs": [
    {
     "data": {
      "text/plain": [
       "'3400'"
      ]
     },
     "execution_count": 42,
     "metadata": {},
     "output_type": "execute_result"
    }
   ],
   "source": [
    "wd.parcel_id.values[587]"
   ]
  },
  {
   "cell_type": "code",
   "execution_count": 143,
   "id": "36c7e7bf",
   "metadata": {},
   "outputs": [
    {
     "data": {
      "text/plain": [
       "'QQ'"
      ]
     },
     "execution_count": 143,
     "metadata": {},
     "output_type": "execute_result"
    }
   ],
   "source": [
    "ctyp = notes.loc[i,'correct_type']#.split(' and ')[1]\n",
    "ctyp"
   ]
  },
  {
   "cell_type": "code",
   "execution_count": 85,
   "id": "9aa93248",
   "metadata": {},
   "outputs": [],
   "source": [
    "ctyp = 'QQ'"
   ]
  },
  {
   "cell_type": "code",
   "execution_count": 201,
   "id": "3ca02295",
   "metadata": {
    "scrolled": true
   },
   "outputs": [
    {
     "data": {
      "text/plain": [
       "'from CA to 00'"
      ]
     },
     "execution_count": 201,
     "metadata": {},
     "output_type": "execute_result"
    }
   ],
   "source": [
    "crt = notes.loc[i,'correction']\n",
    "crt"
   ]
  },
  {
   "cell_type": "code",
   "execution_count": 202,
   "id": "0d4da899",
   "metadata": {},
   "outputs": [
    {
     "data": {
      "text/plain": [
       "['CA', '00']"
      ]
     },
     "execution_count": 202,
     "metadata": {},
     "output_type": "execute_result"
    }
   ],
   "source": [
    "ft = crt.split('from ')[1].split(' to ')\n",
    "ft"
   ]
  },
  {
   "cell_type": "code",
   "execution_count": 86,
   "id": "168c0db1",
   "metadata": {},
   "outputs": [],
   "source": [
    "ft = ['1N1E33AC', '01N01E33AC']"
   ]
  },
  {
   "cell_type": "code",
   "execution_count": 73,
   "id": "ceef3cd3",
   "metadata": {},
   "outputs": [],
   "source": [
    "ft[0] = '00'"
   ]
  },
  {
   "cell_type": "code",
   "execution_count": 38,
   "id": "f7c4360d",
   "metadata": {},
   "outputs": [],
   "source": [
    "ft[1] = 'DB'"
   ]
  },
  {
   "cell_type": "code",
   "execution_count": 39,
   "id": "d5e01d71",
   "metadata": {
    "scrolled": true
   },
   "outputs": [
    {
     "data": {
      "text/plain": [
       "['Multnomah', 'Washington']"
      ]
     },
     "execution_count": 39,
     "metadata": {},
     "output_type": "execute_result"
    }
   ],
   "source": [
    "ft"
   ]
  },
  {
   "cell_type": "code",
   "execution_count": 517,
   "id": "28a6e03f",
   "metadata": {},
   "outputs": [],
   "source": [
    "f = crt.split('from ')[1].split(' and ')[0]\n",
    "t = crt.split(' to ')[1].split(' and ')[0]"
   ]
  },
  {
   "cell_type": "code",
   "execution_count": 523,
   "id": "6e76a794",
   "metadata": {},
   "outputs": [],
   "source": [
    "f = crt.split(' and ')[1].split(' to ')[0]\n",
    "t = crt.split(' and ')[2]"
   ]
  },
  {
   "cell_type": "code",
   "execution_count": 524,
   "id": "0a4ea532",
   "metadata": {},
   "outputs": [
    {
     "name": "stdout",
     "output_type": "stream",
     "text": [
      "Q VE\n"
     ]
    }
   ],
   "source": [
    "print(f, t)"
   ]
  },
  {
   "cell_type": "code",
   "execution_count": 203,
   "id": "d51acc68",
   "metadata": {},
   "outputs": [
    {
     "data": {
      "text/plain": [
       "3811"
      ]
     },
     "execution_count": 203,
     "metadata": {},
     "output_type": "execute_result"
    }
   ],
   "source": [
    "rID = notes.loc[i,'record_ID']\n",
    "rID"
   ]
  },
  {
   "cell_type": "code",
   "execution_count": 90,
   "id": "9a976998",
   "metadata": {},
   "outputs": [],
   "source": [
    "df = pd.read_csv(os.path.join(inpath + '\\\\output\\\\to_review\\\\', f'unmatched_df_{setID}_r2_{ml}_notes.csv'))"
   ]
  },
  {
   "cell_type": "code",
   "execution_count": 204,
   "id": "b24eb3be",
   "metadata": {},
   "outputs": [],
   "source": [
    "df = df.append({'wetdet_delin_number': wdID, 'record_ID': rID, 'field': 'trsqq', 'cor_type': ctyp, 'from': ft[0], 'to': ft[1]},\n",
    "        ignore_index = True)"
   ]
  },
  {
   "cell_type": "code",
   "execution_count": 189,
   "id": "88721252",
   "metadata": {},
   "outputs": [],
   "source": [
    "df = df.append({'wetdet_delin_number': wdID, 'record_ID': rID, 'field': 'county', 'cor_type': 'county', 'from': ft[0], 'to': ft[1]},\n",
    "        ignore_index = True)"
   ]
  },
  {
   "cell_type": "code",
   "execution_count": 67,
   "id": "92c4878c",
   "metadata": {},
   "outputs": [],
   "source": [
    "df = df.append({'wetdet_delin_number': wdID, 'record_ID': rID, 'field': 'parcel id', 'cor_type': ctyp, 'from': ft[0], 'to': ft[1]},\n",
    "        ignore_index = True)"
   ]
  },
  {
   "cell_type": "code",
   "execution_count": 525,
   "id": "ed8d3195",
   "metadata": {},
   "outputs": [],
   "source": [
    "df = df.append({'wetdet_delin_number': wdID, 'record_ID': rID, 'field': 'trsqq', 'cor_type': ctyp, 'from': f, 'to': t},\n",
    "        ignore_index = True)"
   ]
  },
  {
   "cell_type": "code",
   "execution_count": 597,
   "id": "51fedf38",
   "metadata": {},
   "outputs": [],
   "source": [
    "df = df.append({'wetdet_delin_number': wdID, 'record_ID': rID, 'field': 'county', 'cor_type': 'county', 'from': 'Benton', 'to': 'Polk'},\n",
    "        ignore_index = True)"
   ]
  },
  {
   "cell_type": "code",
   "execution_count": 206,
   "id": "168bf084",
   "metadata": {},
   "outputs": [
    {
     "data": {
      "text/html": [
       "<div>\n",
       "<style scoped>\n",
       "    .dataframe tbody tr th:only-of-type {\n",
       "        vertical-align: middle;\n",
       "    }\n",
       "\n",
       "    .dataframe tbody tr th {\n",
       "        vertical-align: top;\n",
       "    }\n",
       "\n",
       "    .dataframe thead th {\n",
       "        text-align: right;\n",
       "    }\n",
       "</style>\n",
       "<table border=\"1\" class=\"dataframe\">\n",
       "  <thead>\n",
       "    <tr style=\"text-align: right;\">\n",
       "      <th></th>\n",
       "      <th>wetdet_delin_number</th>\n",
       "      <th>record_ID</th>\n",
       "      <th>field</th>\n",
       "      <th>cor_type</th>\n",
       "      <th>from</th>\n",
       "      <th>to</th>\n",
       "    </tr>\n",
       "  </thead>\n",
       "  <tbody>\n",
       "    <tr>\n",
       "      <th>6</th>\n",
       "      <td>WD2017-0057</td>\n",
       "      <td>3334</td>\n",
       "      <td>county</td>\n",
       "      <td>county</td>\n",
       "      <td>Multnomah</td>\n",
       "      <td>Washington</td>\n",
       "    </tr>\n",
       "    <tr>\n",
       "      <th>7</th>\n",
       "      <td>WD2020-0568</td>\n",
       "      <td>3267</td>\n",
       "      <td>trsqq</td>\n",
       "      <td>QQ</td>\n",
       "      <td>00</td>\n",
       "      <td>B0</td>\n",
       "    </tr>\n",
       "    <tr>\n",
       "      <th>8</th>\n",
       "      <td>WD2018-0343</td>\n",
       "      <td>3423</td>\n",
       "      <td>county</td>\n",
       "      <td>county</td>\n",
       "      <td>Multnomah</td>\n",
       "      <td>Washington</td>\n",
       "    </tr>\n",
       "    <tr>\n",
       "      <th>9</th>\n",
       "      <td>WD2019-0239</td>\n",
       "      <td>3189</td>\n",
       "      <td>county</td>\n",
       "      <td>county</td>\n",
       "      <td>Linn</td>\n",
       "      <td>Benton</td>\n",
       "    </tr>\n",
       "    <tr>\n",
       "      <th>10</th>\n",
       "      <td>WD2021-0102</td>\n",
       "      <td>3655</td>\n",
       "      <td>county</td>\n",
       "      <td>county</td>\n",
       "      <td>Multnomah</td>\n",
       "      <td>Washington</td>\n",
       "    </tr>\n",
       "  </tbody>\n",
       "</table>\n",
       "</div>"
      ],
      "text/plain": [
       "   wetdet_delin_number record_ID   field cor_type       from          to\n",
       "6          WD2017-0057      3334  county   county  Multnomah  Washington\n",
       "7          WD2020-0568      3267   trsqq       QQ         00          B0\n",
       "8          WD2018-0343      3423  county   county  Multnomah  Washington\n",
       "9          WD2019-0239      3189  county   county       Linn      Benton\n",
       "10         WD2021-0102      3655  county   county  Multnomah  Washington"
      ]
     },
     "execution_count": 206,
     "metadata": {},
     "output_type": "execute_result"
    }
   ],
   "source": [
    "df.tail(5)"
   ]
  },
  {
   "cell_type": "code",
   "execution_count": 207,
   "id": "b77770ef",
   "metadata": {},
   "outputs": [
    {
     "data": {
      "text/html": [
       "<div>\n",
       "<style scoped>\n",
       "    .dataframe tbody tr th:only-of-type {\n",
       "        vertical-align: middle;\n",
       "    }\n",
       "\n",
       "    .dataframe tbody tr th {\n",
       "        vertical-align: top;\n",
       "    }\n",
       "\n",
       "    .dataframe thead th {\n",
       "        text-align: right;\n",
       "    }\n",
       "</style>\n",
       "<table border=\"1\" class=\"dataframe\">\n",
       "  <thead>\n",
       "    <tr style=\"text-align: right;\">\n",
       "      <th></th>\n",
       "      <th>wetdet_delin_number</th>\n",
       "      <th>record_ID</th>\n",
       "      <th>field</th>\n",
       "      <th>cor_type</th>\n",
       "      <th>from</th>\n",
       "      <th>to</th>\n",
       "    </tr>\n",
       "  </thead>\n",
       "  <tbody>\n",
       "    <tr>\n",
       "      <th>0</th>\n",
       "      <td>WD2019-0156</td>\n",
       "      <td>3811</td>\n",
       "      <td>trsqq</td>\n",
       "      <td>QQ</td>\n",
       "      <td>CA</td>\n",
       "      <td>00</td>\n",
       "    </tr>\n",
       "    <tr>\n",
       "      <th>1</th>\n",
       "      <td>WD2019-0039</td>\n",
       "      <td>3499</td>\n",
       "      <td>trsqq</td>\n",
       "      <td>QQ</td>\n",
       "      <td>00</td>\n",
       "      <td>CB</td>\n",
       "    </tr>\n",
       "    <tr>\n",
       "      <th>2</th>\n",
       "      <td>WD2018-0462</td>\n",
       "      <td>3466</td>\n",
       "      <td>county</td>\n",
       "      <td>county</td>\n",
       "      <td>Multnomah</td>\n",
       "      <td>Washington</td>\n",
       "    </tr>\n",
       "    <tr>\n",
       "      <th>3</th>\n",
       "      <td>WD2021-0031</td>\n",
       "      <td>2908</td>\n",
       "      <td>trsqq</td>\n",
       "      <td>range number</td>\n",
       "      <td>14</td>\n",
       "      <td>15</td>\n",
       "    </tr>\n",
       "    <tr>\n",
       "      <th>4</th>\n",
       "      <td>WD2018-0321</td>\n",
       "      <td>3421</td>\n",
       "      <td>trsqq</td>\n",
       "      <td>QQ</td>\n",
       "      <td>00</td>\n",
       "      <td>D0</td>\n",
       "    </tr>\n",
       "  </tbody>\n",
       "</table>\n",
       "</div>"
      ],
      "text/plain": [
       "  wetdet_delin_number record_ID   field      cor_type       from          to\n",
       "0         WD2019-0156      3811   trsqq            QQ         CA          00\n",
       "1         WD2019-0039      3499   trsqq            QQ         00          CB\n",
       "2         WD2018-0462      3466  county        county  Multnomah  Washington\n",
       "3         WD2021-0031      2908   trsqq  range number         14          15\n",
       "4         WD2018-0321      3421   trsqq            QQ         00          D0"
      ]
     },
     "execution_count": 207,
     "metadata": {},
     "output_type": "execute_result"
    }
   ],
   "source": [
    "df.head()"
   ]
  },
  {
   "cell_type": "code",
   "execution_count": 70,
   "id": "c1e39272",
   "metadata": {},
   "outputs": [],
   "source": [
    "df.loc[2, 'field'] = 'parcel_id'"
   ]
  },
  {
   "cell_type": "code",
   "execution_count": 208,
   "id": "3aeecdf0",
   "metadata": {},
   "outputs": [],
   "source": [
    "df.to_csv(os.path.join(inpath + '\\\\output\\\\to_review\\\\', f'unmatched_df_{setID}_r2_{ml}_notes.csv'), index=False)"
   ]
  },
  {
   "cell_type": "code",
   "execution_count": 400,
   "id": "5d3f8a8a",
   "metadata": {},
   "outputs": [
    {
     "data": {
      "text/plain": [
       "(28, 6)"
      ]
     },
     "execution_count": 400,
     "metadata": {},
     "output_type": "execute_result"
    }
   ],
   "source": [
    "df.shape"
   ]
  },
  {
   "cell_type": "code",
   "execution_count": 8,
   "id": "0a060bcc",
   "metadata": {},
   "outputs": [],
   "source": [
    "r1df = pd.read_csv(os.path.join(inpath + f'\\\\output\\\\to_review\\\\unmatched_df_{setID}_r1_N.csv'))"
   ]
  },
  {
   "cell_type": "code",
   "execution_count": 215,
   "id": "462a4794",
   "metadata": {},
   "outputs": [
    {
     "data": {
      "text/plain": [
       "Index(['wetdet_delin_number', 'trsqq', 'parcel_id', 'address_location_desc',\n",
       "       'city', 'county', 'site_name', 'site_desc', 'latitude', 'longitude',\n",
       "       'DocumentName', 'DecisionLink', 'is_batch_file', 'status_name',\n",
       "       'received_date', 'Coord-Source', 'response_date',\n",
       "       'reissuance_response_date', 'project_id', 'site_id', 'record_ID',\n",
       "       'notes', 'recyear', 'IDyear', 'missinglot'],\n",
       "      dtype='object')"
      ]
     },
     "execution_count": 215,
     "metadata": {},
     "output_type": "execute_result"
    }
   ],
   "source": [
    "r1df.columns"
   ]
  },
  {
   "cell_type": "code",
   "execution_count": 10,
   "id": "12923021",
   "metadata": {},
   "outputs": [],
   "source": [
    "wdIDs = r1df.wetdet_delin_number.unique()"
   ]
  },
  {
   "cell_type": "code",
   "execution_count": 91,
   "id": "e819fa34",
   "metadata": {},
   "outputs": [
    {
     "data": {
      "text/plain": [
       "'WD2020-0195'"
      ]
     },
     "execution_count": 91,
     "metadata": {},
     "output_type": "execute_result"
    }
   ],
   "source": [
    "wdIDs[len(wdIDs)-1]"
   ]
  },
  {
   "cell_type": "code",
   "execution_count": 46,
   "id": "f3569144",
   "metadata": {},
   "outputs": [],
   "source": [
    "i = 3"
   ]
  },
  {
   "cell_type": "code",
   "execution_count": 65,
   "id": "a82eb3b6",
   "metadata": {},
   "outputs": [],
   "source": [
    "i = i + 1"
   ]
  },
  {
   "cell_type": "code",
   "execution_count": 89,
   "id": "9effe996",
   "metadata": {},
   "outputs": [
    {
     "data": {
      "text/plain": [
       "5"
      ]
     },
     "execution_count": 89,
     "metadata": {},
     "output_type": "execute_result"
    }
   ],
   "source": [
    "i"
   ]
  },
  {
   "cell_type": "code",
   "execution_count": null,
   "id": "0fc1fdbf",
   "metadata": {},
   "outputs": [],
   "source": [
    "df = pd.read_csv(os.path.join(inpath + '\\\\output\\\\to_review\\\\', f'unmatched_df_{setID}_r1_{ml}_notes.csv'))"
   ]
  },
  {
   "cell_type": "code",
   "execution_count": 66,
   "id": "d123339f",
   "metadata": {},
   "outputs": [
    {
     "data": {
      "text/html": [
       "<div>\n",
       "<style scoped>\n",
       "    .dataframe tbody tr th:only-of-type {\n",
       "        vertical-align: middle;\n",
       "    }\n",
       "\n",
       "    .dataframe tbody tr th {\n",
       "        vertical-align: top;\n",
       "    }\n",
       "\n",
       "    .dataframe thead th {\n",
       "        text-align: right;\n",
       "    }\n",
       "</style>\n",
       "<table border=\"1\" class=\"dataframe\">\n",
       "  <thead>\n",
       "    <tr style=\"text-align: right;\">\n",
       "      <th></th>\n",
       "      <th>wetdet_delin_number</th>\n",
       "      <th>trsqq</th>\n",
       "      <th>parcel_id</th>\n",
       "      <th>county</th>\n",
       "      <th>latitude</th>\n",
       "      <th>longitude</th>\n",
       "      <th>record_ID</th>\n",
       "    </tr>\n",
       "  </thead>\n",
       "  <tbody>\n",
       "    <tr>\n",
       "      <th>27</th>\n",
       "      <td>WD2020-0195</td>\n",
       "      <td>01N02W07</td>\n",
       "      <td>101, 901</td>\n",
       "      <td>Multnomah</td>\n",
       "      <td>45.581397</td>\n",
       "      <td>-122.600215</td>\n",
       "      <td>3579</td>\n",
       "    </tr>\n",
       "    <tr>\n",
       "      <th>28</th>\n",
       "      <td>WD2020-0195</td>\n",
       "      <td>01N02E17</td>\n",
       "      <td>201</td>\n",
       "      <td>Multnomah</td>\n",
       "      <td>45.576494</td>\n",
       "      <td>-122.595930</td>\n",
       "      <td>3582</td>\n",
       "    </tr>\n",
       "  </tbody>\n",
       "</table>\n",
       "</div>"
      ],
      "text/plain": [
       "   wetdet_delin_number     trsqq parcel_id     county   latitude   longitude  \\\n",
       "27         WD2020-0195  01N02W07  101, 901  Multnomah  45.581397 -122.600215   \n",
       "28         WD2020-0195  01N02E17       201  Multnomah  45.576494 -122.595930   \n",
       "\n",
       "    record_ID  \n",
       "27       3579  \n",
       "28       3582  "
      ]
     },
     "execution_count": 66,
     "metadata": {},
     "output_type": "execute_result"
    }
   ],
   "source": [
    "r1df.loc[r1df.wetdet_delin_number == wdIDs[i], ['wetdet_delin_number', 'trsqq', 'parcel_id', 'county', \n",
    "                                                'latitude', 'longitude', 'record_ID']]"
   ]
  },
  {
   "cell_type": "code",
   "execution_count": 42,
   "id": "86eabd8f",
   "metadata": {},
   "outputs": [
    {
     "name": "stdout",
     "output_type": "stream",
     "text": [
      "Decision link is not available\n"
     ]
    }
   ],
   "source": [
    "url = r1df.loc[r1df.wetdet_delin_number == wdIDs[i], 'DecisionLink'].values[0]\n",
    "if str(url) == 'nan':\n",
    "    print('Decision link is not available')\n",
    "else:\n",
    "    webbrowser.open(url)"
   ]
  },
  {
   "cell_type": "code",
   "execution_count": 77,
   "id": "1d0a66e5",
   "metadata": {},
   "outputs": [],
   "source": [
    "j=1"
   ]
  },
  {
   "cell_type": "code",
   "execution_count": 78,
   "id": "232e50d2",
   "metadata": {},
   "outputs": [],
   "source": [
    "sel = r1df.wetdet_delin_number == wdIDs[i]"
   ]
  },
  {
   "cell_type": "code",
   "execution_count": 79,
   "id": "99b38a72",
   "metadata": {},
   "outputs": [
    {
     "name": "stdout",
     "output_type": "stream",
     "text": [
      "reviewing WD2020-0195\n",
      "all lots are matched...\n",
      "corrected trsqq...\n",
      "('QQ', 'from 00 to B0')\n"
     ]
    }
   ],
   "source": [
    "crt = review_wd_record_w_coord(wd_id=wdIDs[i], \n",
    "                         county_to_check=r1df.loc[sel, 'county'].values[j], \n",
    "                         trsqq_to_check=r1df.loc[sel, 'trsqq'].values[j], \n",
    "                         parcel_IDs_to_check=r1df.loc[sel, 'parcel_id'].values[j], \n",
    "                         lon=r1df.loc[sel, 'longitude'].values[j], \n",
    "                         lat=r1df.loc[sel, 'latitude'].values[j], \n",
    "                         taxlot=all_taxlot, \n",
    "                         year=r1df.loc[sel, 'IDyear'].values[j])\n",
    "print(crt)"
   ]
  },
  {
   "cell_type": "code",
   "execution_count": 25,
   "id": "83ae6626",
   "metadata": {},
   "outputs": [],
   "source": [
    "corrected_trsqq = '03S02W16AC'"
   ]
  },
  {
   "cell_type": "code",
   "execution_count": 26,
   "id": "bfa1cc06",
   "metadata": {},
   "outputs": [
    {
     "data": {
      "text/plain": [
       "True"
      ]
     },
     "execution_count": 26,
     "metadata": {},
     "output_type": "execute_result"
    }
   ],
   "source": [
    "corrected_trsqq in trsqq"
   ]
  },
  {
   "cell_type": "code",
   "execution_count": 27,
   "id": "a4cba5c9",
   "metadata": {},
   "outputs": [],
   "source": [
    "txid = create_ORTaxlot(cnt_code=cnt_dict[r1df.loc[sel, 'county'].values[0]], \n",
    "                trsqq=corrected_trsqq, \n",
    "                lot=r1df.loc[sel, 'parcel_id'].values[0])"
   ]
  },
  {
   "cell_type": "code",
   "execution_count": 29,
   "id": "9709d4d3",
   "metadata": {},
   "outputs": [
    {
     "data": {
      "text/plain": [
       "True"
      ]
     },
     "execution_count": 29,
     "metadata": {},
     "output_type": "execute_result"
    }
   ],
   "source": [
    "txid in all_taxlot.ORTaxlot.values"
   ]
  },
  {
   "cell_type": "code",
   "execution_count": 30,
   "id": "4d37ca87",
   "metadata": {},
   "outputs": [
    {
     "data": {
      "text/plain": [
       "<AxesSubplot:>"
      ]
     },
     "execution_count": 30,
     "metadata": {},
     "output_type": "execute_result"
    },
    {
     "data": {
      "image/png": "[encoded data removed]",
      "text/plain": [
       "<Figure size 432x288 with 1 Axes>"
      ]
     },
     "metadata": {
      "needs_background": "light"
     },
     "output_type": "display_data"
    }
   ],
   "source": [
    "all_taxlot[all_taxlot.ORTaxlot==txid].plot()"
   ]
  },
  {
   "cell_type": "code",
   "execution_count": 59,
   "id": "699cc20c",
   "metadata": {},
   "outputs": [],
   "source": [
    "df = pd.DataFrame(columns = ['wetdet_delin_number', 'record_ID', 'field', 'cor_type', 'from', 'to'])"
   ]
  },
  {
   "cell_type": "code",
   "execution_count": 80,
   "id": "037fd401",
   "metadata": {},
   "outputs": [
    {
     "name": "stdout",
     "output_type": "stream",
     "text": [
      "['00', 'B0']\n"
     ]
    }
   ],
   "source": [
    "ft = crt[1].split('from ')[1].split(' to ')\n",
    "print(ft)"
   ]
  },
  {
   "cell_type": "code",
   "execution_count": 73,
   "id": "efbc2870",
   "metadata": {},
   "outputs": [
    {
     "data": {
      "text/plain": [
       "'WD2020-0195'"
      ]
     },
     "execution_count": 73,
     "metadata": {},
     "output_type": "execute_result"
    }
   ],
   "source": [
    "wdIDs[i]"
   ]
  },
  {
   "cell_type": "code",
   "execution_count": 85,
   "id": "5e6e3685",
   "metadata": {},
   "outputs": [],
   "source": [
    "j = 1"
   ]
  },
  {
   "cell_type": "code",
   "execution_count": 86,
   "id": "8c14970e",
   "metadata": {},
   "outputs": [],
   "source": [
    "df = df.append({'wetdet_delin_number': wdIDs[i],\n",
    "                'record_ID': r1df.loc[sel, 'record_ID'].values[j],\n",
    "                'field': 'trsqq', \n",
    "                'cor_type': crt[0], \n",
    "                'from': ft[0], \n",
    "                'to': ft[1]},\n",
    "        ignore_index = True)"
   ]
  },
  {
   "cell_type": "code",
   "execution_count": 87,
   "id": "d17298ba",
   "metadata": {},
   "outputs": [
    {
     "data": {
      "text/html": [
       "<div>\n",
       "<style scoped>\n",
       "    .dataframe tbody tr th:only-of-type {\n",
       "        vertical-align: middle;\n",
       "    }\n",
       "\n",
       "    .dataframe tbody tr th {\n",
       "        vertical-align: top;\n",
       "    }\n",
       "\n",
       "    .dataframe thead th {\n",
       "        text-align: right;\n",
       "    }\n",
       "</style>\n",
       "<table border=\"1\" class=\"dataframe\">\n",
       "  <thead>\n",
       "    <tr style=\"text-align: right;\">\n",
       "      <th></th>\n",
       "      <th>wetdet_delin_number</th>\n",
       "      <th>record_ID</th>\n",
       "      <th>field</th>\n",
       "      <th>cor_type</th>\n",
       "      <th>from</th>\n",
       "      <th>to</th>\n",
       "    </tr>\n",
       "  </thead>\n",
       "  <tbody>\n",
       "    <tr>\n",
       "      <th>0</th>\n",
       "      <td>WD2019-0013</td>\n",
       "      <td>3804</td>\n",
       "      <td>trsqq</td>\n",
       "      <td>township direction</td>\n",
       "      <td>N</td>\n",
       "      <td>S</td>\n",
       "    </tr>\n",
       "    <tr>\n",
       "      <th>1</th>\n",
       "      <td>WD2019-0013</td>\n",
       "      <td>3803</td>\n",
       "      <td>trsqq</td>\n",
       "      <td>township direction</td>\n",
       "      <td>N</td>\n",
       "      <td>S</td>\n",
       "    </tr>\n",
       "    <tr>\n",
       "      <th>2</th>\n",
       "      <td>WD2020-0195</td>\n",
       "      <td>3579</td>\n",
       "      <td>trsqq</td>\n",
       "      <td>range direction</td>\n",
       "      <td>W</td>\n",
       "      <td>E</td>\n",
       "    </tr>\n",
       "    <tr>\n",
       "      <th>3</th>\n",
       "      <td>WD2020-0195</td>\n",
       "      <td>3582</td>\n",
       "      <td>trsqq</td>\n",
       "      <td>QQ</td>\n",
       "      <td>00</td>\n",
       "      <td>B0</td>\n",
       "    </tr>\n",
       "  </tbody>\n",
       "</table>\n",
       "</div>"
      ],
      "text/plain": [
       "  wetdet_delin_number record_ID  field            cor_type from  to\n",
       "0         WD2019-0013      3804  trsqq  township direction    N   S\n",
       "1         WD2019-0013      3803  trsqq  township direction    N   S\n",
       "2         WD2020-0195      3579  trsqq     range direction    W   E\n",
       "3         WD2020-0195      3582  trsqq                  QQ   00  B0"
      ]
     },
     "execution_count": 87,
     "metadata": {},
     "output_type": "execute_result"
    }
   ],
   "source": [
    "df"
   ]
  },
  {
   "cell_type": "code",
   "execution_count": 34,
   "id": "cc0aca04",
   "metadata": {},
   "outputs": [],
   "source": [
    "ml = 'N'"
   ]
  },
  {
   "cell_type": "code",
   "execution_count": 88,
   "id": "a2d896f7",
   "metadata": {},
   "outputs": [],
   "source": [
    "df.to_csv(os.path.join(inpath + '\\\\output\\\\to_review\\\\', f'unmatched_df_{setID}_r1_{ml}_notes.csv'), index=False)"
   ]
  }
 ],
 "metadata": {
  "kernelspec": {
   "display_name": "Python 3",
   "language": "python",
   "name": "python3"
  },
  "language_info": {
   "codemirror_mode": {
    "name": "ipython",
    "version": 3
   },
   "file_extension": ".py",
   "mimetype": "text/x-python",
   "name": "python",
   "nbconvert_exporter": "python",
   "pygments_lexer": "ipython3",
   "version": "3.8.8"
  }
 },
 "nbformat": 4,
 "nbformat_minor": 5
}
