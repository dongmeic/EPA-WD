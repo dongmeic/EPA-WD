{
 "cells": [
  {
   "cell_type": "code",
   "execution_count": 64,
   "id": "8f15dbf1",
   "metadata": {},
   "outputs": [],
   "source": [
    "%load_ext autoreload\n",
    "%autoreload 2"
   ]
  },
  {
   "cell_type": "code",
   "execution_count": 132,
   "id": "97342d85",
   "metadata": {},
   "outputs": [],
   "source": [
    "from wdtools import *"
   ]
  },
  {
   "cell_type": "code",
   "execution_count": 2,
   "id": "532d197e",
   "metadata": {},
   "outputs": [
    {
     "name": "stdout",
     "output_type": "stream",
     "text": [
      "it took 7.0 minutes to complete\n"
     ]
    }
   ],
   "source": [
    "# this can take about 7 minutes\n",
    "start = time.time()\n",
    "all_taxlot = combine_taxlot()\n",
    "end = time.time()\n",
    "print(f'it took {round((end - start)/60, 0)} minutes to complete')"
   ]
  },
  {
   "cell_type": "code",
   "execution_count": 3,
   "id": "2c5187a9",
   "metadata": {},
   "outputs": [
    {
     "data": {
      "text/plain": [
       "(9043030, 3)"
      ]
     },
     "execution_count": 3,
     "metadata": {},
     "output_type": "execute_result"
    }
   ],
   "source": [
    "all_taxlot.shape"
   ]
  },
  {
   "cell_type": "code",
   "execution_count": 4,
   "id": "2207602f",
   "metadata": {},
   "outputs": [
    {
     "data": {
      "text/html": [
       "<div>\n",
       "<style scoped>\n",
       "    .dataframe tbody tr th:only-of-type {\n",
       "        vertical-align: middle;\n",
       "    }\n",
       "\n",
       "    .dataframe tbody tr th {\n",
       "        vertical-align: top;\n",
       "    }\n",
       "\n",
       "    .dataframe thead th {\n",
       "        text-align: right;\n",
       "    }\n",
       "</style>\n",
       "<table border=\"1\" class=\"dataframe\">\n",
       "  <thead>\n",
       "    <tr style=\"text-align: right;\">\n",
       "      <th></th>\n",
       "      <th>year</th>\n",
       "      <th>ORTaxlot</th>\n",
       "      <th>geometry</th>\n",
       "    </tr>\n",
       "  </thead>\n",
       "  <tbody>\n",
       "    <tr>\n",
       "      <th>0</th>\n",
       "      <td>2017</td>\n",
       "      <td></td>\n",
       "      <td>MULTIPOLYGON (((762282.329 1368122.698, 762282...</td>\n",
       "    </tr>\n",
       "    <tr>\n",
       "      <th>1</th>\n",
       "      <td>2017</td>\n",
       "      <td>0 .00.000000--0000</td>\n",
       "      <td>MULTIPOLYGON (((486021.516 1375588.457, 485872...</td>\n",
       "    </tr>\n",
       "    <tr>\n",
       "      <th>2</th>\n",
       "      <td>2017</td>\n",
       "      <td>0 .00.000000--000000000</td>\n",
       "      <td>MULTIPOLYGON (((458567.232 1386372.520, 458625...</td>\n",
       "    </tr>\n",
       "  </tbody>\n",
       "</table>\n",
       "</div>"
      ],
      "text/plain": [
       "   year                 ORTaxlot  \\\n",
       "0  2017                            \n",
       "1  2017       0 .00.000000--0000   \n",
       "2  2017  0 .00.000000--000000000   \n",
       "\n",
       "                                            geometry  \n",
       "0  MULTIPOLYGON (((762282.329 1368122.698, 762282...  \n",
       "1  MULTIPOLYGON (((486021.516 1375588.457, 485872...  \n",
       "2  MULTIPOLYGON (((458567.232 1386372.520, 458625...  "
      ]
     },
     "execution_count": 4,
     "metadata": {},
     "output_type": "execute_result"
    }
   ],
   "source": [
    "all_taxlot.head(3)"
   ]
  },
  {
   "cell_type": "code",
   "execution_count": 5,
   "id": "9b45bf86",
   "metadata": {},
   "outputs": [],
   "source": [
    "setID = 'Set003'"
   ]
  },
  {
   "cell_type": "code",
   "execution_count": 6,
   "id": "fd75df9f",
   "metadata": {},
   "outputs": [],
   "source": [
    "nm_to_add = 2143"
   ]
  },
  {
   "cell_type": "code",
   "execution_count": 7,
   "id": "27c29cec",
   "metadata": {},
   "outputs": [],
   "source": [
    "setdf = combined_reindexed_data(setID=setID, nm_to_add=nm_to_add) "
   ]
  },
  {
   "cell_type": "code",
   "execution_count": 196,
   "id": "b94f41ba",
   "metadata": {},
   "outputs": [],
   "source": [
    "# export = False\n",
    "setgdf = match_wd_data_with_taxlot(df=setdf, setID=setID, all_taxlot=all_taxlot, export=True)"
   ]
  },
  {
   "cell_type": "code",
   "execution_count": 9,
   "id": "3fa71ba7",
   "metadata": {},
   "outputs": [
    {
     "data": {
      "text/plain": [
       "(1451, 31)"
      ]
     },
     "execution_count": 9,
     "metadata": {},
     "output_type": "execute_result"
    }
   ],
   "source": [
    "setgdf.shape"
   ]
  },
  {
   "cell_type": "code",
   "execution_count": 10,
   "id": "9fdc793a",
   "metadata": {},
   "outputs": [
    {
     "data": {
      "text/html": [
       "<div>\n",
       "<style scoped>\n",
       "    .dataframe tbody tr th:only-of-type {\n",
       "        vertical-align: middle;\n",
       "    }\n",
       "\n",
       "    .dataframe tbody tr th {\n",
       "        vertical-align: top;\n",
       "    }\n",
       "\n",
       "    .dataframe thead th {\n",
       "        text-align: right;\n",
       "    }\n",
       "</style>\n",
       "<table border=\"1\" class=\"dataframe\">\n",
       "  <thead>\n",
       "    <tr style=\"text-align: right;\">\n",
       "      <th></th>\n",
       "      <th>wdID</th>\n",
       "      <th>trsqq</th>\n",
       "      <th>parcel_id</th>\n",
       "      <th>loc_desc</th>\n",
       "      <th>city</th>\n",
       "      <th>county</th>\n",
       "      <th>site_name</th>\n",
       "      <th>site_desc</th>\n",
       "      <th>latitude</th>\n",
       "      <th>longitude</th>\n",
       "      <th>...</th>\n",
       "      <th>notes</th>\n",
       "      <th>lots</th>\n",
       "      <th>lot</th>\n",
       "      <th>cnt_code</th>\n",
       "      <th>ORTaxlot</th>\n",
       "      <th>recyear</th>\n",
       "      <th>IDyear</th>\n",
       "      <th>missinglot</th>\n",
       "      <th>record_ID</th>\n",
       "      <th>geometry</th>\n",
       "    </tr>\n",
       "  </thead>\n",
       "  <tbody>\n",
       "    <tr>\n",
       "      <th>1448</th>\n",
       "      <td>WD2022-0282</td>\n",
       "      <td>02N10W32CC</td>\n",
       "      <td>15400</td>\n",
       "      <td>E of Anchor, W of Beacon, S of 2nd</td>\n",
       "      <td>Rockaway Beach</td>\n",
       "      <td>Tillamook</td>\n",
       "      <td>Anchor St Parking</td>\n",
       "      <td>WD2022-0282 delin</td>\n",
       "      <td>45.610690</td>\n",
       "      <td>-123.943200</td>\n",
       "      <td>...</td>\n",
       "      <td></td>\n",
       "      <td>15400</td>\n",
       "      <td>15400</td>\n",
       "      <td>29</td>\n",
       "      <td>2902.00N10.00W32CC--000015400</td>\n",
       "      <td>2022</td>\n",
       "      <td>2022</td>\n",
       "      <td>N</td>\n",
       "      <td>2874</td>\n",
       "      <td>MULTIPOLYGON (((431371.981 1425925.868, 431396...</td>\n",
       "    </tr>\n",
       "    <tr>\n",
       "      <th>1449</th>\n",
       "      <td>WD2022-0283</td>\n",
       "      <td>02N10W32CC</td>\n",
       "      <td>19000</td>\n",
       "      <td>S 2nd and Coral St</td>\n",
       "      <td>Rockaway Beach</td>\n",
       "      <td>Tillamook</td>\n",
       "      <td>King new home site</td>\n",
       "      <td>WD2022-0283 offsite wetdet</td>\n",
       "      <td>45.611295</td>\n",
       "      <td>-123.941950</td>\n",
       "      <td>...</td>\n",
       "      <td></td>\n",
       "      <td>19000</td>\n",
       "      <td>19000</td>\n",
       "      <td>29</td>\n",
       "      <td>2902.00N10.00W32CC--000019000</td>\n",
       "      <td>2022</td>\n",
       "      <td>2022</td>\n",
       "      <td>N</td>\n",
       "      <td>2875</td>\n",
       "      <td>MULTIPOLYGON (((431751.006 1426009.481, 431749...</td>\n",
       "    </tr>\n",
       "    <tr>\n",
       "      <th>1450</th>\n",
       "      <td>WD2022-0296</td>\n",
       "      <td>03N10W29DA</td>\n",
       "      <td>2600</td>\n",
       "      <td>698 Dorcas Ln</td>\n",
       "      <td>Manzanita</td>\n",
       "      <td>Tillamook</td>\n",
       "      <td>Vito Cerelli</td>\n",
       "      <td>WD2022-0296 Offsite WetDet</td>\n",
       "      <td>45.717572</td>\n",
       "      <td>-123.929596</td>\n",
       "      <td>...</td>\n",
       "      <td></td>\n",
       "      <td>2600</td>\n",
       "      <td>2600</td>\n",
       "      <td>29</td>\n",
       "      <td>2903.00N10.00W29DA--000002600</td>\n",
       "      <td>2022</td>\n",
       "      <td>2022</td>\n",
       "      <td>N</td>\n",
       "      <td>2877</td>\n",
       "      <td>MULTIPOLYGON (((436509.445 1464585.791, 436447...</td>\n",
       "    </tr>\n",
       "  </tbody>\n",
       "</table>\n",
       "<p>3 rows × 31 columns</p>\n",
       "</div>"
      ],
      "text/plain": [
       "             wdID       trsqq parcel_id                            loc_desc  \\\n",
       "1448  WD2022-0282  02N10W32CC     15400  E of Anchor, W of Beacon, S of 2nd   \n",
       "1449  WD2022-0283  02N10W32CC     19000                  S 2nd and Coral St   \n",
       "1450  WD2022-0296  03N10W29DA      2600                       698 Dorcas Ln   \n",
       "\n",
       "                city     county           site_name  \\\n",
       "1448  Rockaway Beach  Tillamook   Anchor St Parking   \n",
       "1449  Rockaway Beach  Tillamook  King new home site   \n",
       "1450       Manzanita  Tillamook        Vito Cerelli   \n",
       "\n",
       "                       site_desc   latitude   longitude  ... notes   lots  \\\n",
       "1448           WD2022-0282 delin  45.610690 -123.943200  ...        15400   \n",
       "1449  WD2022-0283 offsite wetdet  45.611295 -123.941950  ...        19000   \n",
       "1450  WD2022-0296 Offsite WetDet  45.717572 -123.929596  ...         2600   \n",
       "\n",
       "        lot cnt_code                       ORTaxlot recyear IDyear  \\\n",
       "1448  15400       29  2902.00N10.00W32CC--000015400    2022   2022   \n",
       "1449  19000       29  2902.00N10.00W32CC--000019000    2022   2022   \n",
       "1450   2600       29  2903.00N10.00W29DA--000002600    2022   2022   \n",
       "\n",
       "      missinglot  record_ID                                           geometry  \n",
       "1448           N       2874  MULTIPOLYGON (((431371.981 1425925.868, 431396...  \n",
       "1449           N       2875  MULTIPOLYGON (((431751.006 1426009.481, 431749...  \n",
       "1450           N       2877  MULTIPOLYGON (((436509.445 1464585.791, 436447...  \n",
       "\n",
       "[3 rows x 31 columns]"
      ]
     },
     "execution_count": 10,
     "metadata": {},
     "output_type": "execute_result"
    }
   ],
   "source": [
    "setgdf.tail(3)"
   ]
  },
  {
   "cell_type": "code",
   "execution_count": 11,
   "id": "547fd042",
   "metadata": {},
   "outputs": [],
   "source": [
    "wd = combine_wd_tables(setID=setID, nm_to_add=nm_to_add)"
   ]
  },
  {
   "cell_type": "code",
   "execution_count": 12,
   "id": "d5eeaa32",
   "metadata": {},
   "outputs": [
    {
     "data": {
      "text/plain": [
       "(735, 25)"
      ]
     },
     "execution_count": 12,
     "metadata": {},
     "output_type": "execute_result"
    }
   ],
   "source": [
    "wd.shape"
   ]
  },
  {
   "cell_type": "code",
   "execution_count": 13,
   "id": "94ebb3fa",
   "metadata": {},
   "outputs": [
    {
     "data": {
      "text/html": [
       "<div>\n",
       "<style scoped>\n",
       "    .dataframe tbody tr th:only-of-type {\n",
       "        vertical-align: middle;\n",
       "    }\n",
       "\n",
       "    .dataframe tbody tr th {\n",
       "        vertical-align: top;\n",
       "    }\n",
       "\n",
       "    .dataframe thead th {\n",
       "        text-align: right;\n",
       "    }\n",
       "</style>\n",
       "<table border=\"1\" class=\"dataframe\">\n",
       "  <thead>\n",
       "    <tr style=\"text-align: right;\">\n",
       "      <th></th>\n",
       "      <th>wetdet_delin_number</th>\n",
       "      <th>trsqq</th>\n",
       "      <th>parcel_id</th>\n",
       "      <th>address_location_desc</th>\n",
       "      <th>city</th>\n",
       "      <th>county</th>\n",
       "      <th>site_name</th>\n",
       "      <th>site_desc</th>\n",
       "      <th>latitude</th>\n",
       "      <th>longitude</th>\n",
       "      <th>...</th>\n",
       "      <th>received_date</th>\n",
       "      <th>response_date</th>\n",
       "      <th>reissuance_response_date</th>\n",
       "      <th>project_id</th>\n",
       "      <th>site_id</th>\n",
       "      <th>record_ID</th>\n",
       "      <th>notes</th>\n",
       "      <th>recyear</th>\n",
       "      <th>IDyear</th>\n",
       "      <th>missinglot</th>\n",
       "    </tr>\n",
       "  </thead>\n",
       "  <tbody>\n",
       "    <tr>\n",
       "      <th>0</th>\n",
       "      <td>WD2017-0028</td>\n",
       "      <td>04N01W09BB</td>\n",
       "      <td>100</td>\n",
       "      <td>E of Hwy 30, N of Gable Rd</td>\n",
       "      <td>St Helens</td>\n",
       "      <td>Columbia</td>\n",
       "      <td>Gable Rd 04N01W09BB</td>\n",
       "      <td>NaN</td>\n",
       "      <td>45.847920</td>\n",
       "      <td>-122.823410</td>\n",
       "      <td>...</td>\n",
       "      <td>2017-01-20</td>\n",
       "      <td>2017-03-01</td>\n",
       "      <td>NaN</td>\n",
       "      <td>NaN</td>\n",
       "      <td>104151</td>\n",
       "      <td>2144</td>\n",
       "      <td></td>\n",
       "      <td>2017</td>\n",
       "      <td>2017</td>\n",
       "      <td>N</td>\n",
       "    </tr>\n",
       "    <tr>\n",
       "      <th>1</th>\n",
       "      <td>WD2017-0038</td>\n",
       "      <td>03N02W12BD</td>\n",
       "      <td>1000,1100,1300</td>\n",
       "      <td>NaN</td>\n",
       "      <td>Scappoose</td>\n",
       "      <td>Columbia</td>\n",
       "      <td>Seely Ln Park Proj 03N02W12BD</td>\n",
       "      <td>Seely Lane Park Project (grant)</td>\n",
       "      <td>45.758370</td>\n",
       "      <td>-122.882498</td>\n",
       "      <td>...</td>\n",
       "      <td>2017-02-01</td>\n",
       "      <td>2017-02-22</td>\n",
       "      <td>NaN</td>\n",
       "      <td>NaN</td>\n",
       "      <td>104260</td>\n",
       "      <td>2145</td>\n",
       "      <td></td>\n",
       "      <td>2017</td>\n",
       "      <td>2017</td>\n",
       "      <td>N</td>\n",
       "    </tr>\n",
       "    <tr>\n",
       "      <th>2</th>\n",
       "      <td>WD2017-0076</td>\n",
       "      <td>04N01W05CD</td>\n",
       "      <td>2102</td>\n",
       "      <td>2480 Gable Rd, St Helens</td>\n",
       "      <td>St Helens</td>\n",
       "      <td>Columbia</td>\n",
       "      <td>04N01W05CD</td>\n",
       "      <td>NaN</td>\n",
       "      <td>45.851632</td>\n",
       "      <td>-122.836404</td>\n",
       "      <td>...</td>\n",
       "      <td>2017-02-24</td>\n",
       "      <td>2017-03-02</td>\n",
       "      <td>NaN</td>\n",
       "      <td>NaN</td>\n",
       "      <td>104533</td>\n",
       "      <td>2146</td>\n",
       "      <td></td>\n",
       "      <td>2017</td>\n",
       "      <td>2017</td>\n",
       "      <td>N</td>\n",
       "    </tr>\n",
       "  </tbody>\n",
       "</table>\n",
       "<p>3 rows × 25 columns</p>\n",
       "</div>"
      ],
      "text/plain": [
       "  wetdet_delin_number       trsqq       parcel_id       address_location_desc  \\\n",
       "0         WD2017-0028  04N01W09BB             100  E of Hwy 30, N of Gable Rd   \n",
       "1         WD2017-0038  03N02W12BD  1000,1100,1300                         NaN   \n",
       "2         WD2017-0076  04N01W05CD            2102    2480 Gable Rd, St Helens   \n",
       "\n",
       "        city    county                      site_name  \\\n",
       "0  St Helens  Columbia            Gable Rd 04N01W09BB   \n",
       "1  Scappoose  Columbia  Seely Ln Park Proj 03N02W12BD   \n",
       "2  St Helens  Columbia                     04N01W05CD   \n",
       "\n",
       "                         site_desc   latitude   longitude  ... received_date  \\\n",
       "0                              NaN  45.847920 -122.823410  ...    2017-01-20   \n",
       "1  Seely Lane Park Project (grant)  45.758370 -122.882498  ...    2017-02-01   \n",
       "2                              NaN  45.851632 -122.836404  ...    2017-02-24   \n",
       "\n",
       "  response_date reissuance_response_date project_id site_id record_ID notes  \\\n",
       "0    2017-03-01                      NaN        NaN  104151      2144         \n",
       "1    2017-02-22                      NaN        NaN  104260      2145         \n",
       "2    2017-03-02                      NaN        NaN  104533      2146         \n",
       "\n",
       "   recyear  IDyear  missinglot  \n",
       "0     2017    2017           N  \n",
       "1     2017    2017           N  \n",
       "2     2017    2017           N  \n",
       "\n",
       "[3 rows x 25 columns]"
      ]
     },
     "execution_count": 13,
     "metadata": {},
     "output_type": "execute_result"
    }
   ],
   "source": [
    "wd.head(3)"
   ]
  },
  {
   "cell_type": "code",
   "execution_count": 14,
   "id": "6d839e33",
   "metadata": {},
   "outputs": [
    {
     "data": {
      "text/plain": [
       "array(['Columbia', 'Grant', 'Klamath', 'Lincoln', 'Tillamook',\n",
       "       'TIllamook'], dtype=object)"
      ]
     },
     "execution_count": 14,
     "metadata": {},
     "output_type": "execute_result"
    }
   ],
   "source": [
    "wd.county.unique()"
   ]
  },
  {
   "cell_type": "code",
   "execution_count": 15,
   "id": "2d436f3a",
   "metadata": {},
   "outputs": [
    {
     "data": {
      "text/plain": [
       "Index(['wetdet_delin_number', 'trsqq', 'parcel_id', 'address_location_desc',\n",
       "       'city', 'county', 'site_name', 'site_desc', 'latitude', 'longitude',\n",
       "       'Coord-Source', 'DocumentName', 'DecisionLink', 'is_batch_file',\n",
       "       'status_name', 'received_date', 'response_date',\n",
       "       'reissuance_response_date', 'project_id', 'site_id', 'record_ID',\n",
       "       'notes', 'recyear', 'IDyear', 'missinglot'],\n",
       "      dtype='object')"
      ]
     },
     "execution_count": 15,
     "metadata": {},
     "output_type": "execute_result"
    }
   ],
   "source": [
    "wd.columns"
   ]
  },
  {
   "cell_type": "code",
   "execution_count": 16,
   "id": "3b680a06",
   "metadata": {},
   "outputs": [
    {
     "name": "stdout",
     "output_type": "stream",
     "text": [
      "it is about 11.43% of data in the original 735 records unmatched\n",
      "there are 0 records (0.0% of the original records) without parcel id\n"
     ]
    }
   ],
   "source": [
    "unmatched_df = report_unmatched(gdf=setgdf, setID=setID, nm_to_add=nm_to_add, mute = False)"
   ]
  },
  {
   "cell_type": "code",
   "execution_count": 39,
   "id": "3d93ec3a",
   "metadata": {},
   "outputs": [
    {
     "data": {
      "text/plain": [
       "array(['N', 'Y'], dtype=object)"
      ]
     },
     "execution_count": 39,
     "metadata": {},
     "output_type": "execute_result"
    }
   ],
   "source": [
    "unmatched_df.missinglot.unique()"
   ]
  },
  {
   "cell_type": "code",
   "execution_count": 17,
   "id": "cf2c6148",
   "metadata": {},
   "outputs": [],
   "source": [
    "unmatched_df.to_csv(os.path.join(inpath + '\\\\output\\\\to_review\\\\', f'unmatched_df_{setID}.csv'), index=False) "
   ]
  },
  {
   "cell_type": "code",
   "execution_count": 18,
   "id": "212a184d",
   "metadata": {},
   "outputs": [],
   "source": [
    "r1_df, r2_df = split_unmatched_df(unmatched_df, ml='N', setID=setID)"
   ]
  },
  {
   "cell_type": "code",
   "execution_count": 66,
   "id": "f9a1fa6b",
   "metadata": {
    "scrolled": true
   },
   "outputs": [
    {
     "name": "stdout",
     "output_type": "stream",
     "text": [
      "reviewing WD2021-0192\n",
      "there is not any matched lot, need to review trsqq, the close-match is 06S11W34AD\n",
      "lots to check: ['106'], and lots to compare: ['100', '200', '300', '400', '500', '600', '700', '800', '900', '1000', '1100', '1200', '1300', '1400', '1500', '1600', '1700', '1800', '1900', '2000', '2100', '2200', '2300', '2400', '2500', '2600', '2700', '2800', '2900', '3000', '3100', '3200', '3300', '3400', '3500', '3700', '3800', '3900', '4000', '4100', '4200', '4300', '4400', '4401', '4500', '4600', '4700', '4800', '4900', '5000', '5100', '5200', '5300', '5400', '5500', '5501', 'ROADS', 'ROADS']\n",
      "reviewing WD2017-0214\n",
      "all lots are matched...\n",
      "corrected trsqq...\n",
      "reviewing WD2022-0018\n",
      "all lots are matched...\n",
      "corrected trsqq...\n",
      "reviewing WD2019-0512\n",
      "all lots are matched...\n",
      "corrected trsqq...\n",
      "reviewing WD2020-0261\n",
      "all lots are matched...\n",
      "corrected trsqq...\n",
      "reviewing WD2017-0177\n",
      "all lots are matched...\n",
      "corrected trsqq...\n",
      "reviewing WD2017-0267\n",
      "all lots are matched...\n",
      "corrected trsqq...\n",
      "reviewing WD2018-0242\n",
      "there is not any matched lot, need to review trsqq, the close-match is 24S09E30CD\n",
      "lots to check: ['201'], and lots to compare: ['100', '200', '300', '400', '500', '600', '700', '800', '900', '1000', '1100', '1200', '1300', '1400', '1401', '1600', '1601', '1602', '1700', '1800', '1900', '2000', '2100', '2200', '2300', '2301', '2302', '2400', '2500', '2700', '2800', '2900', '3000', '3100', '3200', '3300', '3400', '3500', '3600', '3700', '3800', '3900', '4000', '4100', '4200']\n",
      "reviewing WD2020-0265\n",
      "all lots are matched...\n",
      "corrected trsqq...\n",
      "reviewing WD2021-0269\n",
      "all lots are matched...\n",
      "corrected trsqq...\n"
     ]
    },
    {
     "name": "stderr",
     "output_type": "stream",
     "text": [
      "C:\\Users\\clid1852\\AppData\\Anaconda3\\envs\\geoenv\\lib\\site-packages\\pandas\\core\\indexing.py:1597: SettingWithCopyWarning: \n",
      "A value is trying to be set on a copy of a slice from a DataFrame.\n",
      "Try using .loc[row_indexer,col_indexer] = value instead\n",
      "\n",
      "See the caveats in the documentation: https://pandas.pydata.org/pandas-docs/stable/user_guide/indexing.html#returning-a-view-versus-a-copy\n",
      "  self.obj[key] = value\n",
      "C:\\Users\\clid1852\\AppData\\Anaconda3\\envs\\geoenv\\lib\\site-packages\\pandas\\core\\indexing.py:1676: SettingWithCopyWarning: \n",
      "A value is trying to be set on a copy of a slice from a DataFrame.\n",
      "Try using .loc[row_indexer,col_indexer] = value instead\n",
      "\n",
      "See the caveats in the documentation: https://pandas.pydata.org/pandas-docs/stable/user_guide/indexing.html#returning-a-view-versus-a-copy\n",
      "  self._setitem_single_column(ilocs[0], value, pi)\n",
      "C:\\Users\\clid1852\\AppData\\Anaconda3\\envs\\geoenv\\lib\\site-packages\\pandas\\core\\indexing.py:1599: SettingWithCopyWarning: \n",
      "A value is trying to be set on a copy of a slice from a DataFrame.\n",
      "Try using .loc[row_indexer,col_indexer] = value instead\n",
      "\n",
      "See the caveats in the documentation: https://pandas.pydata.org/pandas-docs/stable/user_guide/indexing.html#returning-a-view-versus-a-copy\n",
      "  self.obj[key] = infer_fill_value(value)\n",
      "C:\\Users\\clid1852\\AppData\\Anaconda3\\envs\\geoenv\\lib\\site-packages\\pandas\\core\\indexing.py:1676: SettingWithCopyWarning: \n",
      "A value is trying to be set on a copy of a slice from a DataFrame.\n",
      "Try using .loc[row_indexer,col_indexer] = value instead\n",
      "\n",
      "See the caveats in the documentation: https://pandas.pydata.org/pandas-docs/stable/user_guide/indexing.html#returning-a-view-versus-a-copy\n",
      "  self._setitem_single_column(ilocs[0], value, pi)\n"
     ]
    }
   ],
   "source": [
    "rev_r2 = review_unmatched_df_r2(df=r2_df, taxlot=all_taxlot, setID=setID, ml='N', export=True)"
   ]
  },
  {
   "cell_type": "code",
   "execution_count": 167,
   "id": "bdbe52a5",
   "metadata": {},
   "outputs": [],
   "source": [
    "# need to review the notes\n",
    "cor_r1 = correct_unmatched(r1_df, setID, s='r1', ml='N', export=True)"
   ]
  },
  {
   "cell_type": "code",
   "execution_count": 133,
   "id": "b96081e6",
   "metadata": {},
   "outputs": [],
   "source": [
    "cor_r2 = correct_unmatched(r2_df, setID, s='r2', ml='N', export=True)"
   ]
  },
  {
   "cell_type": "code",
   "execution_count": 109,
   "id": "8120ec04",
   "metadata": {},
   "outputs": [
    {
     "data": {
      "text/plain": [
       "array(['06S11W35C', '05N02W27', '33S07E03', '33S07E00', '7S11W22CD',\n",
       "       '05N01W34CD', '07N02W17CC', '24S09E00', '03S10W18', '33S07E03'],\n",
       "      dtype=object)"
      ]
     },
     "execution_count": 109,
     "metadata": {},
     "output_type": "execute_result"
    }
   ],
   "source": [
    "r2_df.trsqq.values"
   ]
  },
  {
   "cell_type": "code",
   "execution_count": 134,
   "id": "9a68059c",
   "metadata": {},
   "outputs": [
    {
     "data": {
      "text/plain": [
       "array(['06S11W35CB', '07N02W08CC', '24S09E30CD'], dtype=object)"
      ]
     },
     "execution_count": 134,
     "metadata": {},
     "output_type": "execute_result"
    }
   ],
   "source": [
    "cor_r2.trsqq.values"
   ]
  },
  {
   "cell_type": "code",
   "execution_count": 143,
   "id": "6f782e02",
   "metadata": {},
   "outputs": [],
   "source": [
    "cor_r2_2 = update_unmatched_df_r2(r2_df, setID, ml='N', export=True)"
   ]
  },
  {
   "cell_type": "code",
   "execution_count": 168,
   "id": "b8bfe746",
   "metadata": {},
   "outputs": [],
   "source": [
    "# make sure the notes are updated\n",
    "df = combine_corrected_unmatched(setID, ml='N')"
   ]
  },
  {
   "cell_type": "code",
   "execution_count": 82,
   "id": "23de993b",
   "metadata": {},
   "outputs": [
    {
     "data": {
      "text/plain": [
       "50"
      ]
     },
     "execution_count": 82,
     "metadata": {},
     "output_type": "execute_result"
    }
   ],
   "source": [
    "len(df.record_ID.unique())"
   ]
  },
  {
   "cell_type": "code",
   "execution_count": 83,
   "id": "9c348b0f",
   "metadata": {
    "scrolled": true
   },
   "outputs": [
    {
     "data": {
      "text/plain": [
       "(50, 25)"
      ]
     },
     "execution_count": 83,
     "metadata": {},
     "output_type": "execute_result"
    }
   ],
   "source": [
    "df.shape"
   ]
  },
  {
   "cell_type": "code",
   "execution_count": 24,
   "id": "9a194556",
   "metadata": {},
   "outputs": [
    {
     "data": {
      "text/plain": [
       "Index(['wetdet_delin_number', 'trsqq', 'parcel_id', 'address_location_desc',\n",
       "       'city', 'county', 'site_name', 'site_desc', 'latitude', 'longitude',\n",
       "       'Coord-Source', 'DocumentName', 'DecisionLink', 'is_batch_file',\n",
       "       'status_name', 'received_date', 'response_date',\n",
       "       'reissuance_response_date', 'project_id', 'site_id', 'record_ID',\n",
       "       'notes', 'recyear', 'IDyear', 'missinglot'],\n",
       "      dtype='object')"
      ]
     },
     "execution_count": 24,
     "metadata": {},
     "output_type": "execute_result"
    }
   ],
   "source": [
    "df.columns"
   ]
  },
  {
   "cell_type": "code",
   "execution_count": 169,
   "id": "966b7a68",
   "metadata": {},
   "outputs": [],
   "source": [
    "rev_df = reindex_data(df)"
   ]
  },
  {
   "cell_type": "code",
   "execution_count": 175,
   "id": "28b4464e",
   "metadata": {},
   "outputs": [],
   "source": [
    "def adjust_taxlot(x, from_, to_):\n",
    "    return x.replace(from_, to_)"
   ]
  },
  {
   "cell_type": "code",
   "execution_count": 176,
   "id": "dce5355d",
   "metadata": {},
   "outputs": [
    {
     "data": {
      "text/plain": [
       "'2018.00S12.00W02C0--T00005700'"
      ]
     },
     "execution_count": 176,
     "metadata": {},
     "output_type": "execute_result"
    }
   ],
   "source": [
    "adjust_taxlot('2018.00S12.00W02C0--000005700', '--0', '--T')"
   ]
  },
  {
   "cell_type": "code",
   "execution_count": 179,
   "id": "f839784b",
   "metadata": {},
   "outputs": [],
   "source": [
    "adj_df = rev_df[rev_df.wetdet_delin_number == 'WD2022-0136']"
   ]
  },
  {
   "cell_type": "code",
   "execution_count": 180,
   "id": "2ca97818",
   "metadata": {},
   "outputs": [],
   "source": [
    "adj_df.loc[:, 'ORTaxlot'] = adj_df.copy()['ORTaxlot'].apply(lambda x: adjust_taxlot(x, '--0', '--T'))"
   ]
  },
  {
   "cell_type": "code",
   "execution_count": 182,
   "id": "4d8075b3",
   "metadata": {},
   "outputs": [],
   "source": [
    "rev_df = adj_df.append(rev_df[rev_df.wetdet_delin_number != 'WD2022-0136'], ignore_index=True)"
   ]
  },
  {
   "cell_type": "code",
   "execution_count": 183,
   "id": "348c0474",
   "metadata": {},
   "outputs": [
    {
     "data": {
      "text/plain": [
       "(178, 29)"
      ]
     },
     "execution_count": 183,
     "metadata": {},
     "output_type": "execute_result"
    }
   ],
   "source": [
    "rev_df.shape"
   ]
  },
  {
   "cell_type": "code",
   "execution_count": 198,
   "id": "000c692b",
   "metadata": {},
   "outputs": [],
   "source": [
    "# make sure the matched data before update is correct\n",
    "matched = match_wd_data_with_taxlot(rev_df, setID, all_taxlot, export=True, update=True)"
   ]
  },
  {
   "cell_type": "code",
   "execution_count": 41,
   "id": "ae629619",
   "metadata": {},
   "outputs": [
    {
     "data": {
      "text/plain": [
       "Index(['wdID', 'trsqq', 'parcel_id', 'notes', 'lots', 'lot', 'ORTaxlot',\n",
       "       'record_ID', 'geometry'],\n",
       "      dtype='object')"
      ]
     },
     "execution_count": 41,
     "metadata": {},
     "output_type": "execute_result"
    }
   ],
   "source": [
    "matched.columns"
   ]
  },
  {
   "cell_type": "code",
   "execution_count": 184,
   "id": "201bc497",
   "metadata": {},
   "outputs": [],
   "source": [
    "test = match_wd_data_with_taxlot(rev_df, setID, all_taxlot, export=False, update=False)"
   ]
  },
  {
   "cell_type": "code",
   "execution_count": 48,
   "id": "8418a356",
   "metadata": {},
   "outputs": [
    {
     "data": {
      "text/plain": [
       "Index(['wdID', 'trsqq', 'parcel_id', 'loc_desc', 'city', 'county', 'site_name',\n",
       "       'site_desc', 'latitude', 'longitude', 'coord_src', 'doc_name',\n",
       "       'doc_link', 'isbatfile', 'status_nm', 'receiveddt', 'responsedt',\n",
       "       'reissuance', 'project_id', 'site_id', 'record_ID', 'notes', 'recyear',\n",
       "       'IDyear', 'missinglot', 'lots', 'lot', 'cnt_code', 'ORTaxlot',\n",
       "       'geometry'],\n",
       "      dtype='object')"
      ]
     },
     "execution_count": 48,
     "metadata": {},
     "output_type": "execute_result"
    }
   ],
   "source": [
    "test.columns"
   ]
  },
  {
   "cell_type": "code",
   "execution_count": 192,
   "id": "96e0430a",
   "metadata": {},
   "outputs": [],
   "source": [
    "test2 = test[test.wdID == 'WD2019-0121']"
   ]
  },
  {
   "cell_type": "code",
   "execution_count": 194,
   "id": "c83bd827",
   "metadata": {},
   "outputs": [
    {
     "data": {
      "text/plain": [
       "<AxesSubplot:>"
      ]
     },
     "execution_count": 194,
     "metadata": {},
     "output_type": "execute_result"
    },
    {
     "data": {
      "image/png": "[encoded data removed]",
      "text/plain": [
       "<Figure size 432x288 with 1 Axes>"
      ]
     },
     "metadata": {
      "needs_background": "light"
     },
     "output_type": "display_data"
    }
   ],
   "source": [
    "test2.plot()"
   ]
  },
  {
   "cell_type": "code",
   "execution_count": 195,
   "id": "52ec8f38",
   "metadata": {},
   "outputs": [],
   "source": [
    "test2.to_file(r'L:\\NaturalResources\\Wetlands\\Local Wetland Inventory\\WAPO\\EPA_2022_Tasks\\Task 1 WD Mapping\\test\\WD2019-0121p.shp')"
   ]
  },
  {
   "cell_type": "code",
   "execution_count": 185,
   "id": "122b3260",
   "metadata": {},
   "outputs": [],
   "source": [
    "missedID = [rID for rID in df.record_ID.values if rID not in test.record_ID.values]"
   ]
  },
  {
   "cell_type": "code",
   "execution_count": 186,
   "id": "0830e44e",
   "metadata": {},
   "outputs": [
    {
     "data": {
      "text/plain": [
       "[2437, 2450, 2454]"
      ]
     },
     "execution_count": 186,
     "metadata": {},
     "output_type": "execute_result"
    }
   ],
   "source": [
    "sorted(missedID)"
   ]
  },
  {
   "cell_type": "code",
   "execution_count": 199,
   "id": "e851337b",
   "metadata": {},
   "outputs": [
    {
     "name": "stdout",
     "output_type": "stream",
     "text": [
      "it is about 5.03% of data in the original 735 records unmatched\n",
      "there are 0 records (0.0% of the original records) without parcel id\n"
     ]
    }
   ],
   "source": [
    "unmatched_df = report_unmatched(gdf=matched, setID=setID, nm_to_add=nm_to_add, mute = False)"
   ]
  },
  {
   "cell_type": "code",
   "execution_count": 200,
   "id": "b1143a18",
   "metadata": {},
   "outputs": [
    {
     "data": {
      "text/plain": [
       "(37, 25)"
      ]
     },
     "execution_count": 200,
     "metadata": {},
     "output_type": "execute_result"
    }
   ],
   "source": [
    "unmatched_df.shape"
   ]
  },
  {
   "cell_type": "code",
   "execution_count": 51,
   "id": "4221b863",
   "metadata": {},
   "outputs": [
    {
     "data": {
      "text/plain": [
       "Index(['wetdet_delin_number', 'trsqq', 'parcel_id', 'address_location_desc',\n",
       "       'city', 'county', 'site_name', 'site_desc', 'latitude', 'longitude',\n",
       "       'Coord-Source', 'DocumentName', 'DecisionLink', 'is_batch_file',\n",
       "       'status_name', 'received_date', 'response_date',\n",
       "       'reissuance_response_date', 'project_id', 'site_id', 'record_ID',\n",
       "       'notes', 'recyear', 'IDyear', 'missinglot'],\n",
       "      dtype='object')"
      ]
     },
     "execution_count": 51,
     "metadata": {},
     "output_type": "execute_result"
    }
   ],
   "source": [
    "unmatched_df.columns"
   ]
  },
  {
   "cell_type": "code",
   "execution_count": 56,
   "id": "1da84e79",
   "metadata": {},
   "outputs": [
    {
     "data": {
      "text/html": [
       "<div>\n",
       "<style scoped>\n",
       "    .dataframe tbody tr th:only-of-type {\n",
       "        vertical-align: middle;\n",
       "    }\n",
       "\n",
       "    .dataframe tbody tr th {\n",
       "        vertical-align: top;\n",
       "    }\n",
       "\n",
       "    .dataframe thead th {\n",
       "        text-align: right;\n",
       "    }\n",
       "</style>\n",
       "<table border=\"1\" class=\"dataframe\">\n",
       "  <thead>\n",
       "    <tr style=\"text-align: right;\">\n",
       "      <th></th>\n",
       "      <th>wetdet_delin_number</th>\n",
       "      <th>trsqq</th>\n",
       "      <th>parcel_id</th>\n",
       "      <th>address_location_desc</th>\n",
       "      <th>city</th>\n",
       "      <th>county</th>\n",
       "      <th>site_name</th>\n",
       "      <th>site_desc</th>\n",
       "      <th>latitude</th>\n",
       "      <th>longitude</th>\n",
       "      <th>...</th>\n",
       "      <th>received_date</th>\n",
       "      <th>response_date</th>\n",
       "      <th>reissuance_response_date</th>\n",
       "      <th>project_id</th>\n",
       "      <th>site_id</th>\n",
       "      <th>record_ID</th>\n",
       "      <th>notes</th>\n",
       "      <th>recyear</th>\n",
       "      <th>IDyear</th>\n",
       "      <th>missinglot</th>\n",
       "    </tr>\n",
       "  </thead>\n",
       "  <tbody>\n",
       "    <tr>\n",
       "      <th>659</th>\n",
       "      <td>WD2021-0181</td>\n",
       "      <td>03N10W32A</td>\n",
       "      <td>54069</td>\n",
       "      <td>Pelican Ln Lot 13, Lot is on the corner of Pel...</td>\n",
       "      <td>Manzanita</td>\n",
       "      <td>Tillamook</td>\n",
       "      <td>Shawn Overstreet</td>\n",
       "      <td>WD2021-0181 Offsite</td>\n",
       "      <td>NaN</td>\n",
       "      <td>NaN</td>\n",
       "      <td>...</td>\n",
       "      <td>2021-04-05</td>\n",
       "      <td>2021-06-14</td>\n",
       "      <td>NaN</td>\n",
       "      <td>81746.0</td>\n",
       "      <td>135726</td>\n",
       "      <td>2803</td>\n",
       "      <td></td>\n",
       "      <td>2021</td>\n",
       "      <td>2021</td>\n",
       "      <td>N</td>\n",
       "    </tr>\n",
       "  </tbody>\n",
       "</table>\n",
       "<p>1 rows × 25 columns</p>\n",
       "</div>"
      ],
      "text/plain": [
       "    wetdet_delin_number      trsqq parcel_id  \\\n",
       "659         WD2021-0181  03N10W32A     54069   \n",
       "\n",
       "                                 address_location_desc       city     county  \\\n",
       "659  Pelican Ln Lot 13, Lot is on the corner of Pel...  Manzanita  Tillamook   \n",
       "\n",
       "            site_name            site_desc  latitude  longitude  ...  \\\n",
       "659  Shawn Overstreet  WD2021-0181 Offsite       NaN        NaN  ...   \n",
       "\n",
       "    received_date response_date reissuance_response_date project_id site_id  \\\n",
       "659    2021-04-05    2021-06-14                      NaN    81746.0  135726   \n",
       "\n",
       "    record_ID notes  recyear  IDyear  missinglot  \n",
       "659      2803           2021    2021           N  \n",
       "\n",
       "[1 rows x 25 columns]"
      ]
     },
     "execution_count": 56,
     "metadata": {},
     "output_type": "execute_result"
    }
   ],
   "source": [
    "unmatched_df[unmatched_df.record_ID == 2803]"
   ]
  },
  {
   "cell_type": "code",
   "execution_count": 55,
   "id": "01a7fdaa",
   "metadata": {},
   "outputs": [
    {
     "data": {
      "text/plain": [
       "[2803]"
      ]
     },
     "execution_count": 55,
     "metadata": {},
     "output_type": "execute_result"
    }
   ],
   "source": [
    "[rID for rID in unmatched_df.loc[unmatched_df.missinglot=='N', 'record_ID'].values if rID not in missedID]"
   ]
  },
  {
   "cell_type": "code",
   "execution_count": 188,
   "id": "b8e20630",
   "metadata": {},
   "outputs": [],
   "source": [
    "missed_r1_ID = [rID for rID in missedID if rID in r1_df.record_ID.values]"
   ]
  },
  {
   "cell_type": "code",
   "execution_count": 189,
   "id": "b0c33d82",
   "metadata": {},
   "outputs": [
    {
     "data": {
      "text/plain": [
       "[2437, 2450, 2454]"
      ]
     },
     "execution_count": 189,
     "metadata": {},
     "output_type": "execute_result"
    }
   ],
   "source": [
    "missed_r1_ID"
   ]
  },
  {
   "cell_type": "code",
   "execution_count": 152,
   "id": "af553429",
   "metadata": {},
   "outputs": [
    {
     "data": {
      "text/plain": [
       "Index(['wetdet_delin_number', 'trsqq', 'parcel_id', 'address_location_desc',\n",
       "       'city', 'county', 'site_name', 'site_desc', 'latitude', 'longitude',\n",
       "       'Coord-Source', 'DocumentName', 'DecisionLink', 'is_batch_file',\n",
       "       'status_name', 'received_date', 'response_date',\n",
       "       'reissuance_response_date', 'project_id', 'site_id', 'record_ID',\n",
       "       'notes', 'recyear', 'IDyear', 'missinglot', 'lots', 'lot', 'cnt_code',\n",
       "       'ORTaxlot'],\n",
       "      dtype='object')"
      ]
     },
     "execution_count": 152,
     "metadata": {},
     "output_type": "execute_result"
    }
   ],
   "source": [
    "rev_df.columns"
   ]
  },
  {
   "cell_type": "code",
   "execution_count": 154,
   "id": "957d7f4c",
   "metadata": {},
   "outputs": [
    {
     "data": {
      "text/plain": [
       "Index(['wetdet_delin_number', 'trsqq', 'parcel_id', 'address_location_desc',\n",
       "       'city', 'county', 'site_name', 'site_desc', 'latitude', 'longitude',\n",
       "       'Coord-Source', 'DocumentName', 'DecisionLink', 'is_batch_file',\n",
       "       'status_name', 'received_date', 'response_date',\n",
       "       'reissuance_response_date', 'project_id', 'site_id', 'record_ID',\n",
       "       'notes', 'recyear', 'IDyear', 'missinglot'],\n",
       "      dtype='object')"
      ]
     },
     "execution_count": 154,
     "metadata": {},
     "output_type": "execute_result"
    }
   ],
   "source": [
    "r1_df.columns"
   ]
  },
  {
   "cell_type": "code",
   "execution_count": 190,
   "id": "e4e33811",
   "metadata": {},
   "outputs": [
    {
     "data": {
      "text/html": [
       "<div>\n",
       "<style scoped>\n",
       "    .dataframe tbody tr th:only-of-type {\n",
       "        vertical-align: middle;\n",
       "    }\n",
       "\n",
       "    .dataframe tbody tr th {\n",
       "        vertical-align: top;\n",
       "    }\n",
       "\n",
       "    .dataframe thead th {\n",
       "        text-align: right;\n",
       "    }\n",
       "</style>\n",
       "<table border=\"1\" class=\"dataframe\">\n",
       "  <thead>\n",
       "    <tr style=\"text-align: right;\">\n",
       "      <th></th>\n",
       "      <th>record_ID</th>\n",
       "      <th>trsqq</th>\n",
       "      <th>parcel_id</th>\n",
       "      <th>county</th>\n",
       "      <th>wetdet_delin_number</th>\n",
       "    </tr>\n",
       "  </thead>\n",
       "  <tbody>\n",
       "    <tr>\n",
       "      <th>293</th>\n",
       "      <td>2437</td>\n",
       "      <td>39S09W14</td>\n",
       "      <td>200p</td>\n",
       "      <td>Klamath</td>\n",
       "      <td>WD2019-0121</td>\n",
       "    </tr>\n",
       "    <tr>\n",
       "      <th>306</th>\n",
       "      <td>2450</td>\n",
       "      <td>39S09W08D</td>\n",
       "      <td>1500p,1600p</td>\n",
       "      <td>Klamath</td>\n",
       "      <td>WD2019-0121</td>\n",
       "    </tr>\n",
       "    <tr>\n",
       "      <th>310</th>\n",
       "      <td>2454</td>\n",
       "      <td>39S09W08C</td>\n",
       "      <td>1300p</td>\n",
       "      <td>Klamath</td>\n",
       "      <td>WD2019-0121</td>\n",
       "    </tr>\n",
       "  </tbody>\n",
       "</table>\n",
       "</div>"
      ],
      "text/plain": [
       "     record_ID      trsqq    parcel_id   county wetdet_delin_number\n",
       "293       2437   39S09W14         200p  Klamath         WD2019-0121\n",
       "306       2450  39S09W08D  1500p,1600p  Klamath         WD2019-0121\n",
       "310       2454  39S09W08C        1300p  Klamath         WD2019-0121"
      ]
     },
     "execution_count": 190,
     "metadata": {},
     "output_type": "execute_result"
    }
   ],
   "source": [
    "r1_df.loc[r1_df.record_ID.isin(missed_r1_ID), ['record_ID','trsqq', 'parcel_id','county', 'wetdet_delin_number']]"
   ]
  },
  {
   "cell_type": "code",
   "execution_count": 191,
   "id": "2d58bb37",
   "metadata": {},
   "outputs": [
    {
     "data": {
      "text/html": [
       "<div>\n",
       "<style scoped>\n",
       "    .dataframe tbody tr th:only-of-type {\n",
       "        vertical-align: middle;\n",
       "    }\n",
       "\n",
       "    .dataframe tbody tr th {\n",
       "        vertical-align: top;\n",
       "    }\n",
       "\n",
       "    .dataframe thead th {\n",
       "        text-align: right;\n",
       "    }\n",
       "</style>\n",
       "<table border=\"1\" class=\"dataframe\">\n",
       "  <thead>\n",
       "    <tr style=\"text-align: right;\">\n",
       "      <th></th>\n",
       "      <th>record_ID</th>\n",
       "      <th>trsqq</th>\n",
       "      <th>parcel_id</th>\n",
       "      <th>county</th>\n",
       "      <th>wetdet_delin_number</th>\n",
       "    </tr>\n",
       "  </thead>\n",
       "  <tbody>\n",
       "    <tr>\n",
       "      <th>293</th>\n",
       "      <td>2437</td>\n",
       "      <td>39S09E14</td>\n",
       "      <td>200p</td>\n",
       "      <td>Klamath</td>\n",
       "      <td>WD2019-0121</td>\n",
       "    </tr>\n",
       "    <tr>\n",
       "      <th>306</th>\n",
       "      <td>2450</td>\n",
       "      <td>39S09E08D</td>\n",
       "      <td>1500p,1600p</td>\n",
       "      <td>Klamath</td>\n",
       "      <td>WD2019-0121</td>\n",
       "    </tr>\n",
       "    <tr>\n",
       "      <th>310</th>\n",
       "      <td>2454</td>\n",
       "      <td>39S09E08C</td>\n",
       "      <td>1300p</td>\n",
       "      <td>Klamath</td>\n",
       "      <td>WD2019-0121</td>\n",
       "    </tr>\n",
       "  </tbody>\n",
       "</table>\n",
       "</div>"
      ],
      "text/plain": [
       "     record_ID      trsqq    parcel_id   county wetdet_delin_number\n",
       "293       2437   39S09E14         200p  Klamath         WD2019-0121\n",
       "306       2450  39S09E08D  1500p,1600p  Klamath         WD2019-0121\n",
       "310       2454  39S09E08C        1300p  Klamath         WD2019-0121"
      ]
     },
     "execution_count": 191,
     "metadata": {},
     "output_type": "execute_result"
    }
   ],
   "source": [
    "cor_r1.loc[cor_r1.record_ID.isin(missed_r1_ID), ['record_ID','trsqq', 'parcel_id','county', 'wetdet_delin_number']]"
   ]
  },
  {
   "cell_type": "code",
   "execution_count": 197,
   "id": "e18aed28",
   "metadata": {},
   "outputs": [
    {
     "data": {
      "text/html": [
       "<div>\n",
       "<style scoped>\n",
       "    .dataframe tbody tr th:only-of-type {\n",
       "        vertical-align: middle;\n",
       "    }\n",
       "\n",
       "    .dataframe tbody tr th {\n",
       "        vertical-align: top;\n",
       "    }\n",
       "\n",
       "    .dataframe thead th {\n",
       "        text-align: right;\n",
       "    }\n",
       "</style>\n",
       "<table border=\"1\" class=\"dataframe\">\n",
       "  <thead>\n",
       "    <tr style=\"text-align: right;\">\n",
       "      <th></th>\n",
       "      <th>record_ID</th>\n",
       "      <th>ORTaxlot</th>\n",
       "      <th>trsqq</th>\n",
       "      <th>parcel_id</th>\n",
       "      <th>county</th>\n",
       "      <th>wetdet_delin_number</th>\n",
       "    </tr>\n",
       "  </thead>\n",
       "  <tbody>\n",
       "    <tr>\n",
       "      <th>30</th>\n",
       "      <td>2437</td>\n",
       "      <td>1839.00S09.00E1400--000000200</td>\n",
       "      <td>39S09E14</td>\n",
       "      <td>200p</td>\n",
       "      <td>Klamath</td>\n",
       "      <td>WD2019-0121</td>\n",
       "    </tr>\n",
       "    <tr>\n",
       "      <th>85</th>\n",
       "      <td>2450</td>\n",
       "      <td>1839.00S09.00E08D0--000001500</td>\n",
       "      <td>39S09E08D</td>\n",
       "      <td>1500p,1600p</td>\n",
       "      <td>Klamath</td>\n",
       "      <td>WD2019-0121</td>\n",
       "    </tr>\n",
       "    <tr>\n",
       "      <th>86</th>\n",
       "      <td>2450</td>\n",
       "      <td>1839.00S09.00E08D0--000001600</td>\n",
       "      <td>39S09E08D</td>\n",
       "      <td>1500p,1600p</td>\n",
       "      <td>Klamath</td>\n",
       "      <td>WD2019-0121</td>\n",
       "    </tr>\n",
       "    <tr>\n",
       "      <th>93</th>\n",
       "      <td>2454</td>\n",
       "      <td>1839.00S09.00E08C0--000001300</td>\n",
       "      <td>39S09E08C</td>\n",
       "      <td>1300p</td>\n",
       "      <td>Klamath</td>\n",
       "      <td>WD2019-0121</td>\n",
       "    </tr>\n",
       "  </tbody>\n",
       "</table>\n",
       "</div>"
      ],
      "text/plain": [
       "    record_ID                       ORTaxlot      trsqq    parcel_id   county  \\\n",
       "30       2437  1839.00S09.00E1400--000000200   39S09E14         200p  Klamath   \n",
       "85       2450  1839.00S09.00E08D0--000001500  39S09E08D  1500p,1600p  Klamath   \n",
       "86       2450  1839.00S09.00E08D0--000001600  39S09E08D  1500p,1600p  Klamath   \n",
       "93       2454  1839.00S09.00E08C0--000001300  39S09E08C        1300p  Klamath   \n",
       "\n",
       "   wetdet_delin_number  \n",
       "30         WD2019-0121  \n",
       "85         WD2019-0121  \n",
       "86         WD2019-0121  \n",
       "93         WD2019-0121  "
      ]
     },
     "execution_count": 197,
     "metadata": {},
     "output_type": "execute_result"
    }
   ],
   "source": [
    "rev_df.loc[rev_df.record_ID.isin(missed_r1_ID), ['record_ID','ORTaxlot', 'trsqq', 'parcel_id','county', 'wetdet_delin_number']]"
   ]
  },
  {
   "cell_type": "code",
   "execution_count": 150,
   "id": "e70afb21",
   "metadata": {},
   "outputs": [],
   "source": [
    "missed_r2_ID = [rID for rID in missedID if rID in r2_df.record_ID.values]"
   ]
  },
  {
   "cell_type": "code",
   "execution_count": 151,
   "id": "3abef428",
   "metadata": {},
   "outputs": [
    {
     "data": {
      "text/plain": [
       "[]"
      ]
     },
     "execution_count": 151,
     "metadata": {},
     "output_type": "execute_result"
    }
   ],
   "source": [
    "missed_r2_ID"
   ]
  },
  {
   "cell_type": "code",
   "execution_count": 63,
   "id": "af917ca8",
   "metadata": {},
   "outputs": [
    {
     "data": {
      "text/plain": [
       "array([2660, 2159, 2537, 2467, 2642, 2155, 2162, 2392, 2777, 2525])"
      ]
     },
     "execution_count": 63,
     "metadata": {},
     "output_type": "execute_result"
    }
   ],
   "source": [
    "rev_r2.record_ID.values"
   ]
  },
  {
   "cell_type": "code",
   "execution_count": 61,
   "id": "686eca9d",
   "metadata": {},
   "outputs": [
    {
     "data": {
      "text/plain": [
       "[2159, 2642, 2162, 2162, 2162, 2392]"
      ]
     },
     "execution_count": 61,
     "metadata": {},
     "output_type": "execute_result"
    }
   ],
   "source": [
    "[rID for rID in test.record_ID.values if rID in r2_df.record_ID.values]"
   ]
  },
  {
   "cell_type": "code",
   "execution_count": 42,
   "id": "f135877b",
   "metadata": {},
   "outputs": [
    {
     "data": {
      "text/plain": [
       "True"
      ]
     },
     "execution_count": 42,
     "metadata": {},
     "output_type": "execute_result"
    }
   ],
   "source": [
    "unmatched_df.to_csv(os.path.join(inpath + '\\\\output\\\\to_review\\\\', f'unmatched_df_{setID}_2.csv'), index=False)"
   ]
  },
  {
   "cell_type": "code",
   "execution_count": 29,
   "id": "befc1ee7",
   "metadata": {},
   "outputs": [],
   "source": [
    "testdf = unmatched_df[unmatched_df.missinglot=='Y']"
   ]
  },
  {
   "cell_type": "code",
   "execution_count": 30,
   "id": "b361c73f",
   "metadata": {},
   "outputs": [
    {
     "data": {
      "text/plain": [
       "(33, 25)"
      ]
     },
     "execution_count": 30,
     "metadata": {},
     "output_type": "execute_result"
    }
   ],
   "source": [
    "testdf.shape"
   ]
  },
  {
   "cell_type": "code",
   "execution_count": 31,
   "id": "2ec20ac4",
   "metadata": {},
   "outputs": [],
   "source": [
    "with open(os.path.join(inpath, \"ORTaxlot.pkl\"), \"rb\") as f:\n",
    "    all_txid = pickle.load(f)"
   ]
  },
  {
   "cell_type": "code",
   "execution_count": 32,
   "id": "b50e41fb",
   "metadata": {},
   "outputs": [],
   "source": [
    "row_txid = [txid for txid in all_txid if 'ROADS' in txid]"
   ]
  },
  {
   "cell_type": "code",
   "execution_count": 33,
   "id": "b2db69bf",
   "metadata": {},
   "outputs": [],
   "source": [
    "water_txid = [txid for txid in all_txid if 'WATER' in txid]"
   ]
  },
  {
   "cell_type": "code",
   "execution_count": 34,
   "id": "0be0df35",
   "metadata": {},
   "outputs": [],
   "source": [
    "rail_txid = [txid for txid in all_txid if 'RAILS' in txid]"
   ]
  },
  {
   "cell_type": "code",
   "execution_count": 35,
   "id": "c3315150",
   "metadata": {},
   "outputs": [
    {
     "data": {
      "text/plain": [
       "array(['ROW', 'Rail', 'Many', 'ROW, Rail'], dtype=object)"
      ]
     },
     "execution_count": 35,
     "metadata": {},
     "output_type": "execute_result"
    }
   ],
   "source": [
    "testdf.notes.unique()"
   ]
  },
  {
   "cell_type": "code",
   "execution_count": 36,
   "id": "53dbdcd0",
   "metadata": {},
   "outputs": [],
   "source": [
    "r1_t, r2_t = split_unmatched_df(unmatched_df, ml='Y', setID=setID)"
   ]
  },
  {
   "cell_type": "code",
   "execution_count": 37,
   "id": "7d74ef88",
   "metadata": {},
   "outputs": [
    {
     "name": "stdout",
     "output_type": "stream",
     "text": [
      "reviewing WD2020-0526\n",
      "there is not any matched lot, need to review trsqq, the close-match is 02N10W\n",
      "lots to check: ['ROADS'], and lots to compare: ['100', '200', '600', '1100', '1200', '1900', '2000', '2200', '2280', '2290', '2500', '2700', '2800', '3200', '3300', '3400', '3700', '3800', '3900', '4000', '4400', '4500', '4800', '4900', '5000', '5100', '5201', '5203', '5600', '5700', '5800', '5900', '6000', '6001', '6100', '6101', '99980']\n",
      "reviewing WD2020-0009\n",
      "reviewing WD2017-0124\n",
      "reviewing WD2018-0196\n",
      "trsqq matched, checking county code...\n",
      "county code is corrected, need to check lot numbers...\n",
      "lot numbers might be wrong...\n",
      "reviewing WD2021-0624\n",
      "there is not any matched lot, need to review trsqq, the close-match is 01S09W30\n",
      "lots to check: ['RAILS'], and lots to compare: ['100', '101', '102', '103', '104', '105', '200', '201', '300', '400', '500', '600', '701', '900', '1000', '1001', '1100']\n",
      "reviewing WD2017-0136\n",
      "trsqq matched, checking county code...\n",
      "county code is corrected, need to check lot numbers...\n",
      "lot numbers might be wrong...\n",
      "reviewing WD2018-0281\n",
      "there is not any matched lot, need to review trsqq, the close-match is 41S12E11\n",
      "lots to check: [], and lots to compare: ['200', '300', '400', '500', '600', '700', '701', '800', '900', '1000', '1100', '1200', '1300', '1301', '1400', '1500', '1600', '1700']\n",
      "reviewing WD2020-0120\n",
      "some lots are not matched, need to review trsqq, the close-match is 08N04W15\n",
      "lots to check: ['ROADS', 'RAILS'], and lots to compare: ['100', '200', '300', '400', '500', '600', '700', '100', '200', '300', '301', 'ROADS']\n",
      "reviewing WD2017-0375\n",
      "there is not any matched lot, need to review trsqq, the close-match is 05S11W25\n",
      "lots to check: ['ROADS'], and lots to compare: ['400', '490', '500', '800', '804', '805', '808', '809', '812', '900', '1000', '1200', '1201', '1202', '1300', '99980']\n"
     ]
    },
    {
     "name": "stderr",
     "output_type": "stream",
     "text": [
      "C:\\Users\\clid1852\\AppData\\Anaconda3\\envs\\geoenv\\lib\\site-packages\\pandas\\core\\indexing.py:1597: SettingWithCopyWarning: \n",
      "A value is trying to be set on a copy of a slice from a DataFrame.\n",
      "Try using .loc[row_indexer,col_indexer] = value instead\n",
      "\n",
      "See the caveats in the documentation: https://pandas.pydata.org/pandas-docs/stable/user_guide/indexing.html#returning-a-view-versus-a-copy\n",
      "  self.obj[key] = value\n",
      "C:\\Users\\clid1852\\AppData\\Anaconda3\\envs\\geoenv\\lib\\site-packages\\pandas\\core\\indexing.py:1676: SettingWithCopyWarning: \n",
      "A value is trying to be set on a copy of a slice from a DataFrame.\n",
      "Try using .loc[row_indexer,col_indexer] = value instead\n",
      "\n",
      "See the caveats in the documentation: https://pandas.pydata.org/pandas-docs/stable/user_guide/indexing.html#returning-a-view-versus-a-copy\n",
      "  self._setitem_single_column(ilocs[0], value, pi)\n",
      "C:\\Users\\clid1852\\AppData\\Anaconda3\\envs\\geoenv\\lib\\site-packages\\pandas\\core\\indexing.py:1599: SettingWithCopyWarning: \n",
      "A value is trying to be set on a copy of a slice from a DataFrame.\n",
      "Try using .loc[row_indexer,col_indexer] = value instead\n",
      "\n",
      "See the caveats in the documentation: https://pandas.pydata.org/pandas-docs/stable/user_guide/indexing.html#returning-a-view-versus-a-copy\n",
      "  self.obj[key] = infer_fill_value(value)\n",
      "C:\\Users\\clid1852\\AppData\\Anaconda3\\envs\\geoenv\\lib\\site-packages\\pandas\\core\\indexing.py:1676: SettingWithCopyWarning: \n",
      "A value is trying to be set on a copy of a slice from a DataFrame.\n",
      "Try using .loc[row_indexer,col_indexer] = value instead\n",
      "\n",
      "See the caveats in the documentation: https://pandas.pydata.org/pandas-docs/stable/user_guide/indexing.html#returning-a-view-versus-a-copy\n",
      "  self._setitem_single_column(ilocs[0], value, pi)\n"
     ]
    }
   ],
   "source": [
    "rev_r2_y = review_unmatched_df_r2(df=r2_t, taxlot=all_taxlot, setID=setID, ml='Y', export=True)"
   ]
  },
  {
   "cell_type": "code",
   "execution_count": null,
   "id": "ebe96bef",
   "metadata": {},
   "outputs": [],
   "source": []
  }
 ],
 "metadata": {
  "kernelspec": {
   "display_name": "Python 3",
   "language": "python",
   "name": "python3"
  },
  "language_info": {
   "codemirror_mode": {
    "name": "ipython",
    "version": 3
   },
   "file_extension": ".py",
   "mimetype": "text/x-python",
   "name": "python",
   "nbconvert_exporter": "python",
   "pygments_lexer": "ipython3",
   "version": "3.8.8"
  }
 },
 "nbformat": 4,
 "nbformat_minor": 5
}
