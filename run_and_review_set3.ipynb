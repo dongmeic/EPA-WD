{
 "cells": [
  {
   "cell_type": "code",
   "execution_count": 1,
   "id": "97342d85",
   "metadata": {},
   "outputs": [],
   "source": [
    "from wdtools import *"
   ]
  },
  {
   "cell_type": "code",
   "execution_count": 2,
   "id": "532d197e",
   "metadata": {},
   "outputs": [
    {
     "name": "stdout",
     "output_type": "stream",
     "text": [
      "it took 8.0 minutes to complete\n"
     ]
    }
   ],
   "source": [
    "# this can take about 7 minutes\n",
    "start = time.time()\n",
    "all_taxlot = combine_taxlot()\n",
    "end = time.time()\n",
    "print(f'it took {round((end - start)/60, 0)} minutes to complete')"
   ]
  },
  {
   "cell_type": "code",
   "execution_count": 3,
   "id": "2c5187a9",
   "metadata": {},
   "outputs": [
    {
     "data": {
      "text/plain": [
       "(9043030, 3)"
      ]
     },
     "execution_count": 3,
     "metadata": {},
     "output_type": "execute_result"
    }
   ],
   "source": [
    "all_taxlot.shape"
   ]
  },
  {
   "cell_type": "code",
   "execution_count": 4,
   "id": "2207602f",
   "metadata": {},
   "outputs": [
    {
     "data": {
      "text/html": [
       "<div>\n",
       "<style scoped>\n",
       "    .dataframe tbody tr th:only-of-type {\n",
       "        vertical-align: middle;\n",
       "    }\n",
       "\n",
       "    .dataframe tbody tr th {\n",
       "        vertical-align: top;\n",
       "    }\n",
       "\n",
       "    .dataframe thead th {\n",
       "        text-align: right;\n",
       "    }\n",
       "</style>\n",
       "<table border=\"1\" class=\"dataframe\">\n",
       "  <thead>\n",
       "    <tr style=\"text-align: right;\">\n",
       "      <th></th>\n",
       "      <th>year</th>\n",
       "      <th>ORTaxlot</th>\n",
       "      <th>geometry</th>\n",
       "    </tr>\n",
       "  </thead>\n",
       "  <tbody>\n",
       "    <tr>\n",
       "      <th>0</th>\n",
       "      <td>2017</td>\n",
       "      <td></td>\n",
       "      <td>MULTIPOLYGON (((762282.329 1368122.698, 762282...</td>\n",
       "    </tr>\n",
       "    <tr>\n",
       "      <th>1</th>\n",
       "      <td>2017</td>\n",
       "      <td>0 .00.000000--0000</td>\n",
       "      <td>MULTIPOLYGON (((486021.516 1375588.457, 485872...</td>\n",
       "    </tr>\n",
       "    <tr>\n",
       "      <th>2</th>\n",
       "      <td>2017</td>\n",
       "      <td>0 .00.000000--000000000</td>\n",
       "      <td>MULTIPOLYGON (((458567.232 1386372.520, 458625...</td>\n",
       "    </tr>\n",
       "  </tbody>\n",
       "</table>\n",
       "</div>"
      ],
      "text/plain": [
       "   year                 ORTaxlot  \\\n",
       "0  2017                            \n",
       "1  2017       0 .00.000000--0000   \n",
       "2  2017  0 .00.000000--000000000   \n",
       "\n",
       "                                            geometry  \n",
       "0  MULTIPOLYGON (((762282.329 1368122.698, 762282...  \n",
       "1  MULTIPOLYGON (((486021.516 1375588.457, 485872...  \n",
       "2  MULTIPOLYGON (((458567.232 1386372.520, 458625...  "
      ]
     },
     "execution_count": 4,
     "metadata": {},
     "output_type": "execute_result"
    }
   ],
   "source": [
    "all_taxlot.head(3)"
   ]
  },
  {
   "cell_type": "code",
   "execution_count": 4,
   "id": "9b45bf86",
   "metadata": {},
   "outputs": [],
   "source": [
    "setID = 'Set003'"
   ]
  },
  {
   "cell_type": "code",
   "execution_count": 5,
   "id": "fd75df9f",
   "metadata": {},
   "outputs": [],
   "source": [
    "nm_to_add = 2143"
   ]
  },
  {
   "cell_type": "code",
   "execution_count": 6,
   "id": "27c29cec",
   "metadata": {},
   "outputs": [],
   "source": [
    "df = combined_reindexed_data(setID=setID, nm_to_add=nm_to_add) "
   ]
  },
  {
   "cell_type": "code",
   "execution_count": 8,
   "id": "15d01ab7",
   "metadata": {},
   "outputs": [
    {
     "data": {
      "text/html": [
       "<div>\n",
       "<style scoped>\n",
       "    .dataframe tbody tr th:only-of-type {\n",
       "        vertical-align: middle;\n",
       "    }\n",
       "\n",
       "    .dataframe tbody tr th {\n",
       "        vertical-align: top;\n",
       "    }\n",
       "\n",
       "    .dataframe thead th {\n",
       "        text-align: right;\n",
       "    }\n",
       "</style>\n",
       "<table border=\"1\" class=\"dataframe\">\n",
       "  <thead>\n",
       "    <tr style=\"text-align: right;\">\n",
       "      <th></th>\n",
       "      <th>wetdet_delin_number</th>\n",
       "      <th>trsqq</th>\n",
       "      <th>parcel_id</th>\n",
       "      <th>address_location_desc</th>\n",
       "      <th>city</th>\n",
       "      <th>county</th>\n",
       "      <th>site_name</th>\n",
       "      <th>site_desc</th>\n",
       "      <th>latitude</th>\n",
       "      <th>longitude</th>\n",
       "      <th>...</th>\n",
       "      <th>recordID</th>\n",
       "      <th>notes</th>\n",
       "      <th>lots</th>\n",
       "      <th>lot</th>\n",
       "      <th>cnt_code</th>\n",
       "      <th>ORTaxlot</th>\n",
       "      <th>recyear</th>\n",
       "      <th>IDyear</th>\n",
       "      <th>missinglot</th>\n",
       "      <th>record_ID</th>\n",
       "    </tr>\n",
       "  </thead>\n",
       "  <tbody>\n",
       "    <tr>\n",
       "      <th>0</th>\n",
       "      <td>WD2017-0028</td>\n",
       "      <td>04N01W09BB</td>\n",
       "      <td>100</td>\n",
       "      <td>E of Hwy 30, N of Gable Rd</td>\n",
       "      <td>St Helens</td>\n",
       "      <td>Columbia</td>\n",
       "      <td>Gable Rd 04N01W09BB</td>\n",
       "      <td>NaN</td>\n",
       "      <td>45.84792</td>\n",
       "      <td>-122.823410</td>\n",
       "      <td>...</td>\n",
       "      <td>1</td>\n",
       "      <td></td>\n",
       "      <td>100</td>\n",
       "      <td>100</td>\n",
       "      <td>5</td>\n",
       "      <td>0504.00N01.00W09BB--000000100</td>\n",
       "      <td>2017</td>\n",
       "      <td>2017</td>\n",
       "      <td>N</td>\n",
       "      <td>2144</td>\n",
       "    </tr>\n",
       "    <tr>\n",
       "      <th>1</th>\n",
       "      <td>WD2017-0038</td>\n",
       "      <td>03N02W12BD</td>\n",
       "      <td>1000,1100,1300</td>\n",
       "      <td>NaN</td>\n",
       "      <td>Scappoose</td>\n",
       "      <td>Columbia</td>\n",
       "      <td>Seely Ln Park Proj 03N02W12BD</td>\n",
       "      <td>Seely Lane Park Project (grant)</td>\n",
       "      <td>45.75837</td>\n",
       "      <td>-122.882498</td>\n",
       "      <td>...</td>\n",
       "      <td>2</td>\n",
       "      <td></td>\n",
       "      <td>1000, 1100, 1300</td>\n",
       "      <td>1000</td>\n",
       "      <td>5</td>\n",
       "      <td>0503.00N02.00W12BD--000001000</td>\n",
       "      <td>2017</td>\n",
       "      <td>2017</td>\n",
       "      <td>N</td>\n",
       "      <td>2145</td>\n",
       "    </tr>\n",
       "    <tr>\n",
       "      <th>2</th>\n",
       "      <td>WD2017-0038</td>\n",
       "      <td>03N02W12BD</td>\n",
       "      <td>1000,1100,1300</td>\n",
       "      <td>NaN</td>\n",
       "      <td>Scappoose</td>\n",
       "      <td>Columbia</td>\n",
       "      <td>Seely Ln Park Proj 03N02W12BD</td>\n",
       "      <td>Seely Lane Park Project (grant)</td>\n",
       "      <td>45.75837</td>\n",
       "      <td>-122.882498</td>\n",
       "      <td>...</td>\n",
       "      <td>2</td>\n",
       "      <td></td>\n",
       "      <td>1000, 1100, 1300</td>\n",
       "      <td>1100</td>\n",
       "      <td>5</td>\n",
       "      <td>0503.00N02.00W12BD--000001100</td>\n",
       "      <td>2017</td>\n",
       "      <td>2017</td>\n",
       "      <td>N</td>\n",
       "      <td>2145</td>\n",
       "    </tr>\n",
       "  </tbody>\n",
       "</table>\n",
       "<p>3 rows × 30 columns</p>\n",
       "</div>"
      ],
      "text/plain": [
       "  wetdet_delin_number       trsqq       parcel_id       address_location_desc  \\\n",
       "0         WD2017-0028  04N01W09BB             100  E of Hwy 30, N of Gable Rd   \n",
       "1         WD2017-0038  03N02W12BD  1000,1100,1300                         NaN   \n",
       "2         WD2017-0038  03N02W12BD  1000,1100,1300                         NaN   \n",
       "\n",
       "        city    county                      site_name  \\\n",
       "0  St Helens  Columbia            Gable Rd 04N01W09BB   \n",
       "1  Scappoose  Columbia  Seely Ln Park Proj 03N02W12BD   \n",
       "2  Scappoose  Columbia  Seely Ln Park Proj 03N02W12BD   \n",
       "\n",
       "                         site_desc  latitude   longitude  ... recordID notes  \\\n",
       "0                              NaN  45.84792 -122.823410  ...        1         \n",
       "1  Seely Lane Park Project (grant)  45.75837 -122.882498  ...        2         \n",
       "2  Seely Lane Park Project (grant)  45.75837 -122.882498  ...        2         \n",
       "\n",
       "               lots   lot cnt_code                       ORTaxlot recyear  \\\n",
       "0               100   100        5  0504.00N01.00W09BB--000000100    2017   \n",
       "1  1000, 1100, 1300  1000        5  0503.00N02.00W12BD--000001000    2017   \n",
       "2  1000, 1100, 1300  1100        5  0503.00N02.00W12BD--000001100    2017   \n",
       "\n",
       "   IDyear  missinglot  record_ID  \n",
       "0    2017           N       2144  \n",
       "1    2017           N       2145  \n",
       "2    2017           N       2145  \n",
       "\n",
       "[3 rows x 30 columns]"
      ]
     },
     "execution_count": 8,
     "metadata": {},
     "output_type": "execute_result"
    }
   ],
   "source": [
    "df.head(3)"
   ]
  },
  {
   "cell_type": "code",
   "execution_count": 7,
   "id": "b94f41ba",
   "metadata": {},
   "outputs": [],
   "source": [
    "# export = False\n",
    "gdf = match_wd_data_with_taxlot(df=df, setID=setID, all_taxlot=all_taxlot, nm_to_add=nm_to_add, export=False)"
   ]
  },
  {
   "cell_type": "code",
   "execution_count": 10,
   "id": "9fdc793a",
   "metadata": {},
   "outputs": [
    {
     "data": {
      "text/html": [
       "<div>\n",
       "<style scoped>\n",
       "    .dataframe tbody tr th:only-of-type {\n",
       "        vertical-align: middle;\n",
       "    }\n",
       "\n",
       "    .dataframe tbody tr th {\n",
       "        vertical-align: top;\n",
       "    }\n",
       "\n",
       "    .dataframe thead th {\n",
       "        text-align: right;\n",
       "    }\n",
       "</style>\n",
       "<table border=\"1\" class=\"dataframe\">\n",
       "  <thead>\n",
       "    <tr style=\"text-align: right;\">\n",
       "      <th></th>\n",
       "      <th>wdID</th>\n",
       "      <th>trsqq</th>\n",
       "      <th>parcel_id</th>\n",
       "      <th>loc_desc</th>\n",
       "      <th>city</th>\n",
       "      <th>county</th>\n",
       "      <th>site_name</th>\n",
       "      <th>site_desc</th>\n",
       "      <th>latitude</th>\n",
       "      <th>longitude</th>\n",
       "      <th>...</th>\n",
       "      <th>notes</th>\n",
       "      <th>lots</th>\n",
       "      <th>lot</th>\n",
       "      <th>cnt_code</th>\n",
       "      <th>ORTaxlot</th>\n",
       "      <th>recyear</th>\n",
       "      <th>IDyear</th>\n",
       "      <th>missinglot</th>\n",
       "      <th>record_ID</th>\n",
       "      <th>geometry</th>\n",
       "    </tr>\n",
       "  </thead>\n",
       "  <tbody>\n",
       "    <tr>\n",
       "      <th>1420</th>\n",
       "      <td>WD2022-0282</td>\n",
       "      <td>02N10W32CC</td>\n",
       "      <td>15400</td>\n",
       "      <td>E of Anchor, W of Beacon, S of 2nd</td>\n",
       "      <td>Rockaway Beach</td>\n",
       "      <td>Tillamook</td>\n",
       "      <td>Anchor St Parking</td>\n",
       "      <td>WD2022-0282 delin</td>\n",
       "      <td>45.610690</td>\n",
       "      <td>-123.943200</td>\n",
       "      <td>...</td>\n",
       "      <td></td>\n",
       "      <td>15400</td>\n",
       "      <td>15400</td>\n",
       "      <td>29</td>\n",
       "      <td>2902.00N10.00W32CC--000015400</td>\n",
       "      <td>2022</td>\n",
       "      <td>2022</td>\n",
       "      <td>N</td>\n",
       "      <td>2874</td>\n",
       "      <td>MULTIPOLYGON (((431371.981 1425925.868, 431396...</td>\n",
       "    </tr>\n",
       "    <tr>\n",
       "      <th>1421</th>\n",
       "      <td>WD2022-0283</td>\n",
       "      <td>02N10W32CC</td>\n",
       "      <td>19000</td>\n",
       "      <td>S 2nd and Coral St</td>\n",
       "      <td>Rockaway Beach</td>\n",
       "      <td>Tillamook</td>\n",
       "      <td>King new home site</td>\n",
       "      <td>WD2022-0283 offsite wetdet</td>\n",
       "      <td>45.611295</td>\n",
       "      <td>-123.941950</td>\n",
       "      <td>...</td>\n",
       "      <td></td>\n",
       "      <td>19000</td>\n",
       "      <td>19000</td>\n",
       "      <td>29</td>\n",
       "      <td>2902.00N10.00W32CC--000019000</td>\n",
       "      <td>2022</td>\n",
       "      <td>2022</td>\n",
       "      <td>N</td>\n",
       "      <td>2875</td>\n",
       "      <td>MULTIPOLYGON (((431751.006 1426009.481, 431749...</td>\n",
       "    </tr>\n",
       "    <tr>\n",
       "      <th>1422</th>\n",
       "      <td>WD2022-0296</td>\n",
       "      <td>03N10W29DA</td>\n",
       "      <td>2600</td>\n",
       "      <td>698 Dorcas Ln</td>\n",
       "      <td>Manzanita</td>\n",
       "      <td>Tillamook</td>\n",
       "      <td>Vito Cerelli</td>\n",
       "      <td>WD2022-0296 Offsite WetDet</td>\n",
       "      <td>45.717572</td>\n",
       "      <td>-123.929596</td>\n",
       "      <td>...</td>\n",
       "      <td></td>\n",
       "      <td>2600</td>\n",
       "      <td>2600</td>\n",
       "      <td>29</td>\n",
       "      <td>2903.00N10.00W29DA--000002600</td>\n",
       "      <td>2022</td>\n",
       "      <td>2022</td>\n",
       "      <td>N</td>\n",
       "      <td>2877</td>\n",
       "      <td>MULTIPOLYGON (((436509.445 1464585.791, 436447...</td>\n",
       "    </tr>\n",
       "  </tbody>\n",
       "</table>\n",
       "<p>3 rows × 31 columns</p>\n",
       "</div>"
      ],
      "text/plain": [
       "             wdID       trsqq parcel_id                            loc_desc  \\\n",
       "1420  WD2022-0282  02N10W32CC     15400  E of Anchor, W of Beacon, S of 2nd   \n",
       "1421  WD2022-0283  02N10W32CC     19000                  S 2nd and Coral St   \n",
       "1422  WD2022-0296  03N10W29DA      2600                       698 Dorcas Ln   \n",
       "\n",
       "                city     county           site_name  \\\n",
       "1420  Rockaway Beach  Tillamook   Anchor St Parking   \n",
       "1421  Rockaway Beach  Tillamook  King new home site   \n",
       "1422       Manzanita  Tillamook        Vito Cerelli   \n",
       "\n",
       "                       site_desc   latitude   longitude  ... notes   lots  \\\n",
       "1420           WD2022-0282 delin  45.610690 -123.943200  ...        15400   \n",
       "1421  WD2022-0283 offsite wetdet  45.611295 -123.941950  ...        19000   \n",
       "1422  WD2022-0296 Offsite WetDet  45.717572 -123.929596  ...         2600   \n",
       "\n",
       "        lot cnt_code                       ORTaxlot recyear IDyear  \\\n",
       "1420  15400       29  2902.00N10.00W32CC--000015400    2022   2022   \n",
       "1421  19000       29  2902.00N10.00W32CC--000019000    2022   2022   \n",
       "1422   2600       29  2903.00N10.00W29DA--000002600    2022   2022   \n",
       "\n",
       "      missinglot  record_ID                                           geometry  \n",
       "1420           N       2874  MULTIPOLYGON (((431371.981 1425925.868, 431396...  \n",
       "1421           N       2875  MULTIPOLYGON (((431751.006 1426009.481, 431749...  \n",
       "1422           N       2877  MULTIPOLYGON (((436509.445 1464585.791, 436447...  \n",
       "\n",
       "[3 rows x 31 columns]"
      ]
     },
     "execution_count": 10,
     "metadata": {},
     "output_type": "execute_result"
    }
   ],
   "source": [
    "gdf.tail(3)"
   ]
  },
  {
   "cell_type": "code",
   "execution_count": 8,
   "id": "547fd042",
   "metadata": {},
   "outputs": [],
   "source": [
    "wd = combine_wd_tables(setID=setID, nm_to_add=nm_to_add)"
   ]
  },
  {
   "cell_type": "code",
   "execution_count": 12,
   "id": "d5eeaa32",
   "metadata": {},
   "outputs": [
    {
     "data": {
      "text/plain": [
       "(735, 25)"
      ]
     },
     "execution_count": 12,
     "metadata": {},
     "output_type": "execute_result"
    }
   ],
   "source": [
    "wd.shape"
   ]
  },
  {
   "cell_type": "code",
   "execution_count": 13,
   "id": "94ebb3fa",
   "metadata": {},
   "outputs": [
    {
     "data": {
      "text/html": [
       "<div>\n",
       "<style scoped>\n",
       "    .dataframe tbody tr th:only-of-type {\n",
       "        vertical-align: middle;\n",
       "    }\n",
       "\n",
       "    .dataframe tbody tr th {\n",
       "        vertical-align: top;\n",
       "    }\n",
       "\n",
       "    .dataframe thead th {\n",
       "        text-align: right;\n",
       "    }\n",
       "</style>\n",
       "<table border=\"1\" class=\"dataframe\">\n",
       "  <thead>\n",
       "    <tr style=\"text-align: right;\">\n",
       "      <th></th>\n",
       "      <th>wetdet_delin_number</th>\n",
       "      <th>trsqq</th>\n",
       "      <th>parcel_id</th>\n",
       "      <th>address_location_desc</th>\n",
       "      <th>city</th>\n",
       "      <th>county</th>\n",
       "      <th>site_name</th>\n",
       "      <th>site_desc</th>\n",
       "      <th>latitude</th>\n",
       "      <th>longitude</th>\n",
       "      <th>...</th>\n",
       "      <th>received_date</th>\n",
       "      <th>response_date</th>\n",
       "      <th>reissuance_response_date</th>\n",
       "      <th>project_id</th>\n",
       "      <th>site_id</th>\n",
       "      <th>record_ID</th>\n",
       "      <th>notes</th>\n",
       "      <th>recyear</th>\n",
       "      <th>IDyear</th>\n",
       "      <th>missinglot</th>\n",
       "    </tr>\n",
       "  </thead>\n",
       "  <tbody>\n",
       "    <tr>\n",
       "      <th>0</th>\n",
       "      <td>WD2017-0028</td>\n",
       "      <td>04N01W09BB</td>\n",
       "      <td>100</td>\n",
       "      <td>E of Hwy 30, N of Gable Rd</td>\n",
       "      <td>St Helens</td>\n",
       "      <td>Columbia</td>\n",
       "      <td>Gable Rd 04N01W09BB</td>\n",
       "      <td>NaN</td>\n",
       "      <td>45.847920</td>\n",
       "      <td>-122.823410</td>\n",
       "      <td>...</td>\n",
       "      <td>2017-01-20</td>\n",
       "      <td>2017-03-01</td>\n",
       "      <td>NaN</td>\n",
       "      <td>NaN</td>\n",
       "      <td>104151</td>\n",
       "      <td>2144</td>\n",
       "      <td></td>\n",
       "      <td>2017</td>\n",
       "      <td>2017</td>\n",
       "      <td>N</td>\n",
       "    </tr>\n",
       "    <tr>\n",
       "      <th>1</th>\n",
       "      <td>WD2017-0038</td>\n",
       "      <td>03N02W12BD</td>\n",
       "      <td>1000,1100,1300</td>\n",
       "      <td>NaN</td>\n",
       "      <td>Scappoose</td>\n",
       "      <td>Columbia</td>\n",
       "      <td>Seely Ln Park Proj 03N02W12BD</td>\n",
       "      <td>Seely Lane Park Project (grant)</td>\n",
       "      <td>45.758370</td>\n",
       "      <td>-122.882498</td>\n",
       "      <td>...</td>\n",
       "      <td>2017-02-01</td>\n",
       "      <td>2017-02-22</td>\n",
       "      <td>NaN</td>\n",
       "      <td>NaN</td>\n",
       "      <td>104260</td>\n",
       "      <td>2145</td>\n",
       "      <td></td>\n",
       "      <td>2017</td>\n",
       "      <td>2017</td>\n",
       "      <td>N</td>\n",
       "    </tr>\n",
       "    <tr>\n",
       "      <th>2</th>\n",
       "      <td>WD2017-0076</td>\n",
       "      <td>04N01W05CD</td>\n",
       "      <td>2102</td>\n",
       "      <td>2480 Gable Rd, St Helens</td>\n",
       "      <td>St Helens</td>\n",
       "      <td>Columbia</td>\n",
       "      <td>04N01W05CD</td>\n",
       "      <td>NaN</td>\n",
       "      <td>45.851632</td>\n",
       "      <td>-122.836404</td>\n",
       "      <td>...</td>\n",
       "      <td>2017-02-24</td>\n",
       "      <td>2017-03-02</td>\n",
       "      <td>NaN</td>\n",
       "      <td>NaN</td>\n",
       "      <td>104533</td>\n",
       "      <td>2146</td>\n",
       "      <td></td>\n",
       "      <td>2017</td>\n",
       "      <td>2017</td>\n",
       "      <td>N</td>\n",
       "    </tr>\n",
       "  </tbody>\n",
       "</table>\n",
       "<p>3 rows × 25 columns</p>\n",
       "</div>"
      ],
      "text/plain": [
       "  wetdet_delin_number       trsqq       parcel_id       address_location_desc  \\\n",
       "0         WD2017-0028  04N01W09BB             100  E of Hwy 30, N of Gable Rd   \n",
       "1         WD2017-0038  03N02W12BD  1000,1100,1300                         NaN   \n",
       "2         WD2017-0076  04N01W05CD            2102    2480 Gable Rd, St Helens   \n",
       "\n",
       "        city    county                      site_name  \\\n",
       "0  St Helens  Columbia            Gable Rd 04N01W09BB   \n",
       "1  Scappoose  Columbia  Seely Ln Park Proj 03N02W12BD   \n",
       "2  St Helens  Columbia                     04N01W05CD   \n",
       "\n",
       "                         site_desc   latitude   longitude  ... received_date  \\\n",
       "0                              NaN  45.847920 -122.823410  ...    2017-01-20   \n",
       "1  Seely Lane Park Project (grant)  45.758370 -122.882498  ...    2017-02-01   \n",
       "2                              NaN  45.851632 -122.836404  ...    2017-02-24   \n",
       "\n",
       "  response_date reissuance_response_date project_id site_id record_ID notes  \\\n",
       "0    2017-03-01                      NaN        NaN  104151      2144         \n",
       "1    2017-02-22                      NaN        NaN  104260      2145         \n",
       "2    2017-03-02                      NaN        NaN  104533      2146         \n",
       "\n",
       "   recyear  IDyear  missinglot  \n",
       "0     2017    2017           N  \n",
       "1     2017    2017           N  \n",
       "2     2017    2017           N  \n",
       "\n",
       "[3 rows x 25 columns]"
      ]
     },
     "execution_count": 13,
     "metadata": {},
     "output_type": "execute_result"
    }
   ],
   "source": [
    "wd.head(3)"
   ]
  },
  {
   "cell_type": "code",
   "execution_count": 14,
   "id": "6d839e33",
   "metadata": {},
   "outputs": [
    {
     "data": {
      "text/plain": [
       "array(['Columbia', 'Grant', 'Klamath', 'Lincoln', 'Tillamook',\n",
       "       'TIllamook'], dtype=object)"
      ]
     },
     "execution_count": 14,
     "metadata": {},
     "output_type": "execute_result"
    }
   ],
   "source": [
    "wd.county.unique()"
   ]
  },
  {
   "cell_type": "code",
   "execution_count": 15,
   "id": "2d436f3a",
   "metadata": {},
   "outputs": [
    {
     "data": {
      "text/plain": [
       "Index(['wetdet_delin_number', 'trsqq', 'parcel_id', 'address_location_desc',\n",
       "       'city', 'county', 'site_name', 'site_desc', 'latitude', 'longitude',\n",
       "       'Coord-Source', 'DocumentName', 'DecisionLink', 'is_batch_file',\n",
       "       'status_name', 'received_date', 'response_date',\n",
       "       'reissuance_response_date', 'project_id', 'site_id', 'record_ID',\n",
       "       'notes', 'recyear', 'IDyear', 'missinglot'],\n",
       "      dtype='object')"
      ]
     },
     "execution_count": 15,
     "metadata": {},
     "output_type": "execute_result"
    }
   ],
   "source": [
    "wd.columns"
   ]
  },
  {
   "cell_type": "code",
   "execution_count": 12,
   "id": "3b680a06",
   "metadata": {},
   "outputs": [
    {
     "name": "stdout",
     "output_type": "stream",
     "text": [
      "it is about 12.38% of data in the original 735 records unmatched\n",
      "there are 0 records (0.0% of the original records) without parcel id\n"
     ]
    }
   ],
   "source": [
    "unmatched_df = report_unmatched(gdf=gdf, setID=setID, nm_to_add=nm_to_add, mute = False)"
   ]
  },
  {
   "cell_type": "code",
   "execution_count": 13,
   "id": "212a184d",
   "metadata": {},
   "outputs": [],
   "source": [
    "r1_df, r2_df = split_unmatched_df(unmatched_df)"
   ]
  },
  {
   "cell_type": "code",
   "execution_count": 106,
   "id": "adc47c96",
   "metadata": {},
   "outputs": [],
   "source": [
    "outdf = update_unmatched_df_r2(r2_df, setID, export=True)"
   ]
  },
  {
   "cell_type": "code",
   "execution_count": 111,
   "id": "b8bfe746",
   "metadata": {},
   "outputs": [],
   "source": [
    "df = combine_corrected_unmatched(setID)"
   ]
  },
  {
   "cell_type": "code",
   "execution_count": 112,
   "id": "8f19ae1b",
   "metadata": {
    "scrolled": true
   },
   "outputs": [
    {
     "data": {
      "text/plain": [
       "(50, 25)"
      ]
     },
     "execution_count": 112,
     "metadata": {},
     "output_type": "execute_result"
    }
   ],
   "source": [
    "df.shape"
   ]
  },
  {
   "cell_type": "code",
   "execution_count": 115,
   "id": "62263f51",
   "metadata": {},
   "outputs": [
    {
     "data": {
      "text/plain": [
       "Index(['wetdet_delin_number', 'trsqq', 'parcel_id', 'address_location_desc',\n",
       "       'city', 'county', 'site_name', 'site_desc', 'latitude', 'longitude',\n",
       "       'Coord-Source', 'DocumentName', 'DecisionLink', 'is_batch_file',\n",
       "       'status_name', 'received_date', 'response_date',\n",
       "       'reissuance_response_date', 'project_id', 'site_id', 'record_ID',\n",
       "       'notes', 'recyear', 'IDyear', 'missinglot'],\n",
       "      dtype='object')"
      ]
     },
     "execution_count": 115,
     "metadata": {},
     "output_type": "execute_result"
    }
   ],
   "source": [
    "df.columns"
   ]
  },
  {
   "cell_type": "code",
   "execution_count": 114,
   "id": "fba1a999",
   "metadata": {},
   "outputs": [],
   "source": [
    "df.to_csv(os.path.join(inpath + '\\\\output\\\\to_review\\\\', f'review_unmatched_{setID}.csv'), index=False)"
   ]
  },
  {
   "cell_type": "code",
   "execution_count": 129,
   "id": "a19521cb",
   "metadata": {},
   "outputs": [
    {
     "name": "stdout",
     "output_type": "stream",
     "text": [
      "reviewing WD2019-0512\n",
      "all lots are matched...\n",
      "corrected trsqq...\n",
      "reviewing WD2022-0018\n",
      "all lots are matched...\n",
      "corrected trsqq...\n",
      "reviewing WD2017-0177\n",
      "all lots are matched...\n",
      "corrected trsqq...\n",
      "reviewing WD2017-0214\n",
      "all lots are matched...\n",
      "corrected trsqq...\n",
      "reviewing WD2020-0261\n",
      "all lots are matched...\n",
      "corrected trsqq...\n",
      "reviewing WD2017-0267\n",
      "all lots are matched...\n",
      "corrected trsqq...\n",
      "reviewing WD2021-0192\n",
      "there is not any matched lot, need to review trsqq, the close-match is 06S11W34AD\n",
      "lots to check: ['106'], and lots to compare: ['100', '200', '300', '400', '500', '600', '700', '800', '900', '1000', '1100', '1200', '1300', '1400', '1500', '1600', '1700', '1800', '1900', '2000', '2100', '2200', '2300', '2400', '2500', '2600', '2700', '2800', '2900', '3000', '3100', '3200', '3300', '3400', '3500', '3700', '3800', '3900', '4000', '4100', '4200', '4300', '4400', '4401', '4500', '4600', '4700', '4800', '4900', '5000', '5100', '5200', '5300', '5400', '5500', '5501', 'ROW', 'ROW']\n",
      "reviewing WD2020-0265\n",
      "all lots are matched...\n",
      "corrected trsqq...\n",
      "reviewing WD2021-0269\n",
      "all lots are matched...\n",
      "corrected trsqq...\n",
      "reviewing WD2018-0242\n",
      "there is not any matched lot, need to review trsqq, the close-match is 24S09E30CD\n",
      "lots to check: ['201'], and lots to compare: ['100', '200', '300', '400', '500', '600', '700', '800', '900', '1000', '1100', '1200', '1300', '1400', '1401', '1600', '1601', '1602', '1700', '1800', '1900', '2000', '2100', '2200', '2300', '2301', '2302', '2400', '2500', '2700', '2800', '2900', '3000', '3100', '3200', '3300', '3400', '3500', '3600', '3700', '3800', '3900', '4000', '4100', '4200']\n"
     ]
    },
    {
     "name": "stderr",
     "output_type": "stream",
     "text": [
      "C:\\Users\\clid1852\\AppData\\Anaconda3\\envs\\geoenv\\lib\\site-packages\\pandas\\core\\indexing.py:1597: SettingWithCopyWarning: \n",
      "A value is trying to be set on a copy of a slice from a DataFrame.\n",
      "Try using .loc[row_indexer,col_indexer] = value instead\n",
      "\n",
      "See the caveats in the documentation: https://pandas.pydata.org/pandas-docs/stable/user_guide/indexing.html#returning-a-view-versus-a-copy\n",
      "  self.obj[key] = value\n",
      "C:\\Users\\clid1852\\AppData\\Anaconda3\\envs\\geoenv\\lib\\site-packages\\pandas\\core\\indexing.py:1676: SettingWithCopyWarning: \n",
      "A value is trying to be set on a copy of a slice from a DataFrame.\n",
      "Try using .loc[row_indexer,col_indexer] = value instead\n",
      "\n",
      "See the caveats in the documentation: https://pandas.pydata.org/pandas-docs/stable/user_guide/indexing.html#returning-a-view-versus-a-copy\n",
      "  self._setitem_single_column(ilocs[0], value, pi)\n",
      "C:\\Users\\clid1852\\AppData\\Anaconda3\\envs\\geoenv\\lib\\site-packages\\pandas\\core\\indexing.py:1599: SettingWithCopyWarning: \n",
      "A value is trying to be set on a copy of a slice from a DataFrame.\n",
      "Try using .loc[row_indexer,col_indexer] = value instead\n",
      "\n",
      "See the caveats in the documentation: https://pandas.pydata.org/pandas-docs/stable/user_guide/indexing.html#returning-a-view-versus-a-copy\n",
      "  self.obj[key] = infer_fill_value(value)\n",
      "C:\\Users\\clid1852\\AppData\\Anaconda3\\envs\\geoenv\\lib\\site-packages\\pandas\\core\\indexing.py:1676: SettingWithCopyWarning: \n",
      "A value is trying to be set on a copy of a slice from a DataFrame.\n",
      "Try using .loc[row_indexer,col_indexer] = value instead\n",
      "\n",
      "See the caveats in the documentation: https://pandas.pydata.org/pandas-docs/stable/user_guide/indexing.html#returning-a-view-versus-a-copy\n",
      "  self._setitem_single_column(ilocs[0], value, pi)\n"
     ]
    }
   ],
   "source": [
    "outdf = review_unmatched_df_r2(df=r2_df, taxlot=all_taxlot, setID=setID, export=True)"
   ]
  },
  {
   "cell_type": "code",
   "execution_count": 107,
   "id": "682749f0",
   "metadata": {},
   "outputs": [],
   "source": [
    "unmatched_df.to_csv(os.path.join(inpath + '\\\\output\\\\to_review\\\\', f'unmatched_df_{setID}.csv'), index=False) "
   ]
  },
  {
   "cell_type": "code",
   "execution_count": 17,
   "id": "9348e175",
   "metadata": {},
   "outputs": [],
   "source": [
    "unmatched_trsqq = unmatched_df.trsqq.unique()"
   ]
  },
  {
   "cell_type": "code",
   "execution_count": 125,
   "id": "9ac2a9d7",
   "metadata": {},
   "outputs": [],
   "source": [
    "rev_df = reindex_data(df)"
   ]
  },
  {
   "cell_type": "code",
   "execution_count": 133,
   "id": "bc6b6c17",
   "metadata": {},
   "outputs": [],
   "source": [
    "matched = match_wd_data_with_taxlot(rev_df, setID, all_taxlot, export=True, update=True)"
   ]
  }
 ],
 "metadata": {
  "kernelspec": {
   "display_name": "Python 3",
   "language": "python",
   "name": "python3"
  },
  "language_info": {
   "codemirror_mode": {
    "name": "ipython",
    "version": 3
   },
   "file_extension": ".py",
   "mimetype": "text/x-python",
   "name": "python",
   "nbconvert_exporter": "python",
   "pygments_lexer": "ipython3",
   "version": "3.8.8"
  }
 },
 "nbformat": 4,
 "nbformat_minor": 5
}
