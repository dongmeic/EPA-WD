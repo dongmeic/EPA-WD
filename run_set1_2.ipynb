{
 "cells": [
  {
   "cell_type": "code",
   "execution_count": 1,
   "id": "97342d85",
   "metadata": {},
   "outputs": [
    {
     "name": "stderr",
     "output_type": "stream",
     "text": [
      "C:\\Users\\clid1852\\AppData\\Anaconda3\\envs\\geoenv\\lib\\site-packages\\geopandas\\_compat.py:106: UserWarning: The Shapely GEOS version (3.11.1-CAPI-1.17.1) is incompatible with the GEOS version PyGEOS was compiled with (3.9.1-CAPI-1.14.2). Conversions between both will be slow.\n",
      "  warnings.warn(\n"
     ]
    }
   ],
   "source": [
    "from wdtools import *"
   ]
  },
  {
   "cell_type": "code",
   "execution_count": 2,
   "id": "532d197e",
   "metadata": {},
   "outputs": [
    {
     "name": "stdout",
     "output_type": "stream",
     "text": [
      "it took 17.0 minutes to complete\n"
     ]
    }
   ],
   "source": [
    "# this will take about 17 minutes\n",
    "start = time.time()\n",
    "all_taxlot = combine_taxlot()\n",
    "end = time.time()\n",
    "print(f'it took {round((end - start)/60, 0)} minutes to complete')"
   ]
  },
  {
   "cell_type": "code",
   "execution_count": 3,
   "id": "27c29cec",
   "metadata": {},
   "outputs": [],
   "source": [
    "df1 = combined_reindexed_data(setID='Set001', nm_to_add=0) "
   ]
  },
  {
   "cell_type": "code",
   "execution_count": 6,
   "id": "0472336e",
   "metadata": {
    "scrolled": true
   },
   "outputs": [],
   "source": [
    "res1 = check_corrected_data(df=df1, setID='Set001', all_taxlot=all_taxlot, nm_to_add=0, export=False)"
   ]
  },
  {
   "cell_type": "code",
   "execution_count": 7,
   "id": "3f3ff019",
   "metadata": {},
   "outputs": [
    {
     "data": {
      "text/plain": [
       "1331"
      ]
     },
     "execution_count": 7,
     "metadata": {},
     "output_type": "execute_result"
    }
   ],
   "source": [
    "len(res1[0].record_ID.unique())"
   ]
  },
  {
   "cell_type": "code",
   "execution_count": 8,
   "id": "233d0d02",
   "metadata": {},
   "outputs": [
    {
     "data": {
      "text/plain": [
       "1307"
      ]
     },
     "execution_count": 8,
     "metadata": {},
     "output_type": "execute_result"
    }
   ],
   "source": [
    "len(res1[0][~res1[0].wdID.isin(res1[1].wetdet_delin_number.values)].record_ID.unique())"
   ]
  },
  {
   "cell_type": "code",
   "execution_count": 9,
   "id": "923d82e3",
   "metadata": {},
   "outputs": [],
   "source": [
    "df_wlots_to_check1 = res1[3]"
   ]
  },
  {
   "cell_type": "code",
   "execution_count": 10,
   "id": "398fa19d",
   "metadata": {},
   "outputs": [
    {
     "data": {
      "text/plain": [
       "27"
      ]
     },
     "execution_count": 10,
     "metadata": {},
     "output_type": "execute_result"
    }
   ],
   "source": [
    "len(df_wlots_to_check1[df_wlots_to_check1.missinglot=='N'].record_ID.unique())"
   ]
  },
  {
   "cell_type": "code",
   "execution_count": 11,
   "id": "b06ec33a",
   "metadata": {},
   "outputs": [],
   "source": [
    "df_wlots_to_check1.to_csv(os.path.join(inpath + '\\\\output\\\\to_review\\\\', 'df_with_lots_check_Set001.csv'), index=False) "
   ]
  },
  {
   "cell_type": "code",
   "execution_count": 12,
   "id": "6b740425",
   "metadata": {},
   "outputs": [],
   "source": [
    "df2 = combined_reindexed_data(setID='Set002', nm_to_add=1420) "
   ]
  },
  {
   "cell_type": "code",
   "execution_count": 13,
   "id": "9e2948c6",
   "metadata": {},
   "outputs": [],
   "source": [
    "res2 = check_corrected_data(df=df2, setID='Set002', all_taxlot=all_taxlot, nm_to_add=1420, export=False)"
   ]
  },
  {
   "cell_type": "code",
   "execution_count": 14,
   "id": "01cb7d13",
   "metadata": {},
   "outputs": [],
   "source": [
    "df_wlots_to_check2 = res2[3]"
   ]
  },
  {
   "cell_type": "code",
   "execution_count": 15,
   "id": "e59a7091",
   "metadata": {},
   "outputs": [],
   "source": [
    "df_wlots_to_check2.to_csv(os.path.join(inpath + '\\\\output\\\\to_review\\\\', 'df_with_lots_check_Set002.csv'), index=False) "
   ]
  },
  {
   "cell_type": "code",
   "execution_count": 16,
   "id": "77fbda5c",
   "metadata": {},
   "outputs": [
    {
     "data": {
      "text/plain": [
       "607"
      ]
     },
     "execution_count": 16,
     "metadata": {},
     "output_type": "execute_result"
    }
   ],
   "source": [
    "len(res2[0].record_ID.unique())"
   ]
  },
  {
   "cell_type": "code",
   "execution_count": 17,
   "id": "f1dd46a2",
   "metadata": {},
   "outputs": [
    {
     "data": {
      "text/plain": [
       "20"
      ]
     },
     "execution_count": 17,
     "metadata": {},
     "output_type": "execute_result"
    }
   ],
   "source": [
    "len(res2[0][res2[0].wdID.isin(res2[1].wetdet_delin_number.values)].record_ID.unique())"
   ]
  },
  {
   "cell_type": "code",
   "execution_count": 18,
   "id": "7f39f0f0",
   "metadata": {},
   "outputs": [
    {
     "data": {
      "text/plain": [
       "18"
      ]
     },
     "execution_count": 18,
     "metadata": {},
     "output_type": "execute_result"
    }
   ],
   "source": [
    "len(df_wlots_to_check2[df_wlots_to_check2.missinglot=='N'].record_ID.unique())"
   ]
  },
  {
   "cell_type": "code",
   "execution_count": 19,
   "id": "34dffc17",
   "metadata": {},
   "outputs": [],
   "source": [
    "setgdf1 = gpd.read_file(os.path.join(inpath, 'GIS', 'Join_Statewide.gdb'), layer=f'WD_Set001_Combined')"
   ]
  },
  {
   "cell_type": "code",
   "execution_count": 20,
   "id": "17b64d93",
   "metadata": {},
   "outputs": [],
   "source": [
    "setgdf2 = gpd.read_file(os.path.join(inpath, 'GIS', 'Join_Statewide.gdb'), layer=f'WD_Set002_Combined')"
   ]
  },
  {
   "cell_type": "code",
   "execution_count": 21,
   "id": "4271a9b3",
   "metadata": {},
   "outputs": [
    {
     "data": {
      "text/plain": [
       "1362"
      ]
     },
     "execution_count": 21,
     "metadata": {},
     "output_type": "execute_result"
    }
   ],
   "source": [
    "len(setgdf1.Record_ID.unique())"
   ]
  },
  {
   "cell_type": "code",
   "execution_count": 22,
   "id": "b33c37d7",
   "metadata": {},
   "outputs": [
    {
     "name": "stderr",
     "output_type": "stream",
     "text": [
      "C:\\Users\\clid1852\\AppData\\Anaconda3\\envs\\geoenv\\lib\\site-packages\\geopandas\\geodataframe.py:1299: UserWarning: Boolean Series key will be reindexed to match DataFrame index.\n",
      "  result = super(GeoDataFrame, self).__getitem__(key)\n",
      "C:\\Users\\clid1852\\AppData\\Anaconda3\\envs\\geoenv\\lib\\site-packages\\pandas\\core\\frame.py:5039: SettingWithCopyWarning: \n",
      "A value is trying to be set on a copy of a slice from a DataFrame\n",
      "\n",
      "See the caveats in the documentation: https://pandas.pydata.org/pandas-docs/stable/user_guide/indexing.html#returning-a-view-versus-a-copy\n",
      "  return super().rename(\n"
     ]
    }
   ],
   "source": [
    "missedmatch1 = compare_data_report(gdf=gpd.GeoDataFrame(res1[0], crs=\"EPSG:2992\", geometry='geometry'), \n",
    "                                   setID='Set001', \n",
    "                                   nm_to_add=0, \n",
    "                                   export = True)"
   ]
  },
  {
   "cell_type": "code",
   "execution_count": 23,
   "id": "fadd39e0",
   "metadata": {},
   "outputs": [
    {
     "data": {
      "text/plain": [
       "23"
      ]
     },
     "execution_count": 23,
     "metadata": {},
     "output_type": "execute_result"
    }
   ],
   "source": [
    "len(missedmatch1[0])"
   ]
  },
  {
   "cell_type": "code",
   "execution_count": 26,
   "id": "281b0d4e",
   "metadata": {},
   "outputs": [
    {
     "data": {
      "text/plain": [
       "54"
      ]
     },
     "execution_count": 26,
     "metadata": {},
     "output_type": "execute_result"
    }
   ],
   "source": [
    "len(missedmatch1[2])"
   ]
  },
  {
   "cell_type": "code",
   "execution_count": 24,
   "id": "a1a8665e",
   "metadata": {},
   "outputs": [
    {
     "name": "stderr",
     "output_type": "stream",
     "text": [
      "C:\\Users\\clid1852\\AppData\\Anaconda3\\envs\\geoenv\\lib\\site-packages\\pandas\\core\\frame.py:5039: SettingWithCopyWarning: \n",
      "A value is trying to be set on a copy of a slice from a DataFrame\n",
      "\n",
      "See the caveats in the documentation: https://pandas.pydata.org/pandas-docs/stable/user_guide/indexing.html#returning-a-view-versus-a-copy\n",
      "  return super().rename(\n"
     ]
    }
   ],
   "source": [
    "missedmatch2 = compare_data_report(gdf=gpd.GeoDataFrame(res2[0], crs=\"EPSG:2992\", geometry='geometry'), \n",
    "                                   setID='Set002', \n",
    "                                   nm_to_add=1420, \n",
    "                                   export = True)"
   ]
  },
  {
   "cell_type": "code",
   "execution_count": 25,
   "id": "4c59e0cd",
   "metadata": {},
   "outputs": [
    {
     "data": {
      "text/plain": [
       "4"
      ]
     },
     "execution_count": 25,
     "metadata": {},
     "output_type": "execute_result"
    }
   ],
   "source": [
    "len(missedmatch2[0])"
   ]
  },
  {
   "cell_type": "code",
   "execution_count": 27,
   "id": "0cf66676",
   "metadata": {},
   "outputs": [
    {
     "data": {
      "text/plain": [
       "15"
      ]
     },
     "execution_count": 27,
     "metadata": {},
     "output_type": "execute_result"
    }
   ],
   "source": [
    "len(missedmatch2[2])"
   ]
  }
 ],
 "metadata": {
  "kernelspec": {
   "display_name": "Python 3",
   "language": "python",
   "name": "python3"
  },
  "language_info": {
   "codemirror_mode": {
    "name": "ipython",
    "version": 3
   },
   "file_extension": ".py",
   "mimetype": "text/x-python",
   "name": "python",
   "nbconvert_exporter": "python",
   "pygments_lexer": "ipython3",
   "version": "3.8.8"
  }
 },
 "nbformat": 4,
 "nbformat_minor": 5
}
