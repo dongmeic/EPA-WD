{
 "cells": [
  {
   "cell_type": "code",
   "execution_count": 1,
   "id": "a4207320",
   "metadata": {},
   "outputs": [],
   "source": [
    "%load_ext autoreload\n",
    "%autoreload 2"
   ]
  },
  {
   "cell_type": "code",
   "execution_count": 2,
   "id": "7fff659e",
   "metadata": {},
   "outputs": [],
   "source": [
    "from wdtools import *"
   ]
  },
  {
   "cell_type": "code",
   "execution_count": 33,
   "id": "02d60d22",
   "metadata": {},
   "outputs": [],
   "source": [
    "tx_dt = read_taxlot(year=2017)"
   ]
  },
  {
   "cell_type": "code",
   "execution_count": 32,
   "id": "0679a3b6",
   "metadata": {},
   "outputs": [
    {
     "data": {
      "text/html": [
       "<div>\n",
       "<style scoped>\n",
       "    .dataframe tbody tr th:only-of-type {\n",
       "        vertical-align: middle;\n",
       "    }\n",
       "\n",
       "    .dataframe tbody tr th {\n",
       "        vertical-align: top;\n",
       "    }\n",
       "\n",
       "    .dataframe thead th {\n",
       "        text-align: right;\n",
       "    }\n",
       "</style>\n",
       "<table border=\"1\" class=\"dataframe\">\n",
       "  <thead>\n",
       "    <tr style=\"text-align: right;\">\n",
       "      <th></th>\n",
       "      <th>ORTaxlot</th>\n",
       "      <th>Shape_Length</th>\n",
       "      <th>Shape_Area</th>\n",
       "      <th>geometry</th>\n",
       "    </tr>\n",
       "  </thead>\n",
       "  <tbody>\n",
       "    <tr>\n",
       "      <th>0</th>\n",
       "      <td></td>\n",
       "      <td>19391.445677</td>\n",
       "      <td>2.155550e+05</td>\n",
       "      <td>MULTIPOLYGON (((647614.242 1382867.700, 647613...</td>\n",
       "    </tr>\n",
       "    <tr>\n",
       "      <th>1</th>\n",
       "      <td>0 .00.000000--0000</td>\n",
       "      <td>16806.093130</td>\n",
       "      <td>4.953847e+05</td>\n",
       "      <td>MULTIPOLYGON (((486021.517 1375588.457, 485872...</td>\n",
       "    </tr>\n",
       "    <tr>\n",
       "      <th>2</th>\n",
       "      <td>0 .00.000000--000000000</td>\n",
       "      <td>704290.786561</td>\n",
       "      <td>2.567273e+07</td>\n",
       "      <td>MULTIPOLYGON (((485310.155 1359830.882, 485282...</td>\n",
       "    </tr>\n",
       "    <tr>\n",
       "      <th>3</th>\n",
       "      <td>0106.00S37.00E0000--000000100</td>\n",
       "      <td>88762.951553</td>\n",
       "      <td>3.025046e+08</td>\n",
       "      <td>MULTIPOLYGON (((1928467.809 1210044.000, 19286...</td>\n",
       "    </tr>\n",
       "    <tr>\n",
       "      <th>4</th>\n",
       "      <td>0106.00S38.00E0000--000000100</td>\n",
       "      <td>4922.043650</td>\n",
       "      <td>5.902563e+05</td>\n",
       "      <td>MULTIPOLYGON (((1930136.485 1210725.312, 19301...</td>\n",
       "    </tr>\n",
       "  </tbody>\n",
       "</table>\n",
       "</div>"
      ],
      "text/plain": [
       "                        ORTaxlot   Shape_Length    Shape_Area  \\\n",
       "0                                  19391.445677  2.155550e+05   \n",
       "1             0 .00.000000--0000   16806.093130  4.953847e+05   \n",
       "2        0 .00.000000--000000000  704290.786561  2.567273e+07   \n",
       "3  0106.00S37.00E0000--000000100   88762.951553  3.025046e+08   \n",
       "4  0106.00S38.00E0000--000000100    4922.043650  5.902563e+05   \n",
       "\n",
       "                                            geometry  \n",
       "0  MULTIPOLYGON (((647614.242 1382867.700, 647613...  \n",
       "1  MULTIPOLYGON (((486021.517 1375588.457, 485872...  \n",
       "2  MULTIPOLYGON (((485310.155 1359830.882, 485282...  \n",
       "3  MULTIPOLYGON (((1928467.809 1210044.000, 19286...  \n",
       "4  MULTIPOLYGON (((1930136.485 1210725.312, 19301...  "
      ]
     },
     "execution_count": 32,
     "metadata": {},
     "output_type": "execute_result"
    }
   ],
   "source": [
    "tx_dt.head()"
   ]
  },
  {
   "cell_type": "code",
   "execution_count": 31,
   "id": "25a77c12",
   "metadata": {},
   "outputs": [
    {
     "ename": "AttributeError",
     "evalue": "'GeoDataFrame' object has no attribute 'County'",
     "output_type": "error",
     "traceback": [
      "\u001b[1;31m---------------------------------------------------------------------------\u001b[0m",
      "\u001b[1;31mAttributeError\u001b[0m                            Traceback (most recent call last)",
      "\u001b[1;32m<ipython-input-31-ebb6d1d5e00e>\u001b[0m in \u001b[0;36m<module>\u001b[1;34m\u001b[0m\n\u001b[1;32m----> 1\u001b[1;33m \u001b[0mtx_dt\u001b[0m\u001b[1;33m.\u001b[0m\u001b[0mCounty\u001b[0m\u001b[1;33m.\u001b[0m\u001b[0munique\u001b[0m\u001b[1;33m(\u001b[0m\u001b[1;33m)\u001b[0m\u001b[1;33m\u001b[0m\u001b[1;33m\u001b[0m\u001b[0m\n\u001b[0m",
      "\u001b[1;32m~\\AppData\\Anaconda3\\envs\\geoenv\\lib\\site-packages\\pandas\\core\\generic.py\u001b[0m in \u001b[0;36m__getattr__\u001b[1;34m(self, name)\u001b[0m\n\u001b[0;32m   5463\u001b[0m             \u001b[1;32mif\u001b[0m \u001b[0mself\u001b[0m\u001b[1;33m.\u001b[0m\u001b[0m_info_axis\u001b[0m\u001b[1;33m.\u001b[0m\u001b[0m_can_hold_identifiers_and_holds_name\u001b[0m\u001b[1;33m(\u001b[0m\u001b[0mname\u001b[0m\u001b[1;33m)\u001b[0m\u001b[1;33m:\u001b[0m\u001b[1;33m\u001b[0m\u001b[1;33m\u001b[0m\u001b[0m\n\u001b[0;32m   5464\u001b[0m                 \u001b[1;32mreturn\u001b[0m \u001b[0mself\u001b[0m\u001b[1;33m[\u001b[0m\u001b[0mname\u001b[0m\u001b[1;33m]\u001b[0m\u001b[1;33m\u001b[0m\u001b[1;33m\u001b[0m\u001b[0m\n\u001b[1;32m-> 5465\u001b[1;33m             \u001b[1;32mreturn\u001b[0m \u001b[0mobject\u001b[0m\u001b[1;33m.\u001b[0m\u001b[0m__getattribute__\u001b[0m\u001b[1;33m(\u001b[0m\u001b[0mself\u001b[0m\u001b[1;33m,\u001b[0m \u001b[0mname\u001b[0m\u001b[1;33m)\u001b[0m\u001b[1;33m\u001b[0m\u001b[1;33m\u001b[0m\u001b[0m\n\u001b[0m\u001b[0;32m   5466\u001b[0m \u001b[1;33m\u001b[0m\u001b[0m\n\u001b[0;32m   5467\u001b[0m     \u001b[1;32mdef\u001b[0m \u001b[0m__setattr__\u001b[0m\u001b[1;33m(\u001b[0m\u001b[0mself\u001b[0m\u001b[1;33m,\u001b[0m \u001b[0mname\u001b[0m\u001b[1;33m:\u001b[0m \u001b[0mstr\u001b[0m\u001b[1;33m,\u001b[0m \u001b[0mvalue\u001b[0m\u001b[1;33m)\u001b[0m \u001b[1;33m->\u001b[0m \u001b[1;32mNone\u001b[0m\u001b[1;33m:\u001b[0m\u001b[1;33m\u001b[0m\u001b[1;33m\u001b[0m\u001b[0m\n",
      "\u001b[1;31mAttributeError\u001b[0m: 'GeoDataFrame' object has no attribute 'County'"
     ]
    }
   ],
   "source": [
    "tx_dt.County.unique()"
   ]
  },
  {
   "cell_type": "code",
   "execution_count": 29,
   "id": "42a728fa",
   "metadata": {},
   "outputs": [
    {
     "data": {
      "text/plain": [
       "array(['Douglas', 'Grant', 'Malheur', 'Sherman', 'Wallowa'], dtype=object)"
      ]
     },
     "execution_count": 29,
     "metadata": {},
     "output_type": "execute_result"
    }
   ],
   "source": [
    "cnt_ID[~cnt_ID.ID.isin(tx_dt.County.unique())].COUNTY.unique()"
   ]
  },
  {
   "cell_type": "code",
   "execution_count": 5,
   "id": "04a295ff",
   "metadata": {},
   "outputs": [
    {
     "name": "stdout",
     "output_type": "stream",
     "text": [
      "Baker\n",
      "Benton\n",
      "Clackamas\n",
      "Clatsop\n",
      "Columbia\n",
      "Coos\n",
      "Crook\n",
      "Curry\n",
      "Deschutes\n",
      "Gilliam\n",
      "Harney\n",
      "Hood_River\n",
      "Jackson\n",
      "Jefferson\n",
      "Josephine\n",
      "Klamath\n",
      "Lake\n",
      "Lane\n",
      "Lincoln\n",
      "Linn\n",
      "Marion\n",
      "Morrow\n",
      "Multnomah\n",
      "Polk\n",
      "Tillamook\n",
      "Umatilla\n",
      "Union\n",
      "Wasco\n",
      "Washington\n",
      "Wheeler\n",
      "Yamhill\n"
     ]
    }
   ],
   "source": [
    "gdf = readTaxlots(year=2015, export=True)"
   ]
  },
  {
   "cell_type": "code",
   "execution_count": 65,
   "id": "9b8a5147",
   "metadata": {
    "scrolled": true
   },
   "outputs": [
    {
     "data": {
      "text/html": [
       "<div>\n",
       "<style scoped>\n",
       "    .dataframe tbody tr th:only-of-type {\n",
       "        vertical-align: middle;\n",
       "    }\n",
       "\n",
       "    .dataframe tbody tr th {\n",
       "        vertical-align: top;\n",
       "    }\n",
       "\n",
       "    .dataframe thead th {\n",
       "        text-align: right;\n",
       "    }\n",
       "</style>\n",
       "<table border=\"1\" class=\"dataframe\">\n",
       "  <thead>\n",
       "    <tr style=\"text-align: right;\">\n",
       "      <th></th>\n",
       "      <th>County</th>\n",
       "      <th>Town</th>\n",
       "      <th>TownPart</th>\n",
       "      <th>TownDir</th>\n",
       "      <th>Range</th>\n",
       "      <th>RangePart</th>\n",
       "      <th>RangeDir</th>\n",
       "      <th>SecNumber</th>\n",
       "      <th>Qtr</th>\n",
       "      <th>QtrQtr</th>\n",
       "      <th>Anomaly</th>\n",
       "      <th>MapSufType</th>\n",
       "      <th>MapNumber</th>\n",
       "      <th>ORMapNum</th>\n",
       "      <th>Taxlot</th>\n",
       "      <th>MapTaxlot</th>\n",
       "      <th>ORTaxlot</th>\n",
       "      <th>geometry</th>\n",
       "      <th>Year</th>\n",
       "    </tr>\n",
       "  </thead>\n",
       "  <tbody>\n",
       "    <tr>\n",
       "      <th>0</th>\n",
       "      <td>1</td>\n",
       "      <td>9</td>\n",
       "      <td>0.0</td>\n",
       "      <td>S</td>\n",
       "      <td>40</td>\n",
       "      <td>0.0</td>\n",
       "      <td>E</td>\n",
       "      <td>3</td>\n",
       "      <td>0</td>\n",
       "      <td>0</td>\n",
       "      <td>--</td>\n",
       "      <td>0</td>\n",
       "      <td>09S40E03</td>\n",
       "      <td>0109.00S40.00E0300--0000</td>\n",
       "      <td>301</td>\n",
       "      <td>09S40E0300301</td>\n",
       "      <td>0109.00S40.00E0300--000000301</td>\n",
       "      <td>MULTIPOLYGON (((2012923.180 1129703.930, 20128...</td>\n",
       "      <td>2015</td>\n",
       "    </tr>\n",
       "    <tr>\n",
       "      <th>1</th>\n",
       "      <td>1</td>\n",
       "      <td>6</td>\n",
       "      <td>0.0</td>\n",
       "      <td>S</td>\n",
       "      <td>38</td>\n",
       "      <td>0.0</td>\n",
       "      <td>E</td>\n",
       "      <td>0</td>\n",
       "      <td>0</td>\n",
       "      <td>0</td>\n",
       "      <td>--</td>\n",
       "      <td>0</td>\n",
       "      <td>06S38E</td>\n",
       "      <td>0106.00S38.00E0000--0000</td>\n",
       "      <td>300</td>\n",
       "      <td>06S38E000000300</td>\n",
       "      <td>0106.00S38.00E0000--000000300</td>\n",
       "      <td>MULTIPOLYGON (((1931083.908 1209055.701, 19311...</td>\n",
       "      <td>2015</td>\n",
       "    </tr>\n",
       "    <tr>\n",
       "      <th>2</th>\n",
       "      <td>1</td>\n",
       "      <td>6</td>\n",
       "      <td>0.0</td>\n",
       "      <td>S</td>\n",
       "      <td>38</td>\n",
       "      <td>0.0</td>\n",
       "      <td>E</td>\n",
       "      <td>28</td>\n",
       "      <td>D</td>\n",
       "      <td>0</td>\n",
       "      <td>--</td>\n",
       "      <td>0</td>\n",
       "      <td>06S38E28D</td>\n",
       "      <td>0106.00S38.00E28D0--0000</td>\n",
       "      <td>300</td>\n",
       "      <td>06S38E28D00300</td>\n",
       "      <td>0106.00S38.00E28D0--000000300</td>\n",
       "      <td>MULTIPOLYGON (((1942735.605 1198483.774, 19427...</td>\n",
       "      <td>2015</td>\n",
       "    </tr>\n",
       "    <tr>\n",
       "      <th>3</th>\n",
       "      <td>1</td>\n",
       "      <td>6</td>\n",
       "      <td>0.0</td>\n",
       "      <td>S</td>\n",
       "      <td>38</td>\n",
       "      <td>0.0</td>\n",
       "      <td>E</td>\n",
       "      <td>0</td>\n",
       "      <td>0</td>\n",
       "      <td>0</td>\n",
       "      <td>--</td>\n",
       "      <td>0</td>\n",
       "      <td>06S38E</td>\n",
       "      <td>0106.00S38.00E0000--0000</td>\n",
       "      <td>700</td>\n",
       "      <td>06S38E000000700</td>\n",
       "      <td>0106.00S38.00E0000--000000700</td>\n",
       "      <td>MULTIPOLYGON (((1942035.039 1196825.915, 19420...</td>\n",
       "      <td>2015</td>\n",
       "    </tr>\n",
       "    <tr>\n",
       "      <th>4</th>\n",
       "      <td>1</td>\n",
       "      <td>6</td>\n",
       "      <td>0.0</td>\n",
       "      <td>S</td>\n",
       "      <td>38</td>\n",
       "      <td>0.0</td>\n",
       "      <td>E</td>\n",
       "      <td>33</td>\n",
       "      <td>0</td>\n",
       "      <td>0</td>\n",
       "      <td>--</td>\n",
       "      <td>0</td>\n",
       "      <td>06S38E33</td>\n",
       "      <td>0106.00S38.00E3300--0000</td>\n",
       "      <td>ROADS</td>\n",
       "      <td>06S38E33ROADS</td>\n",
       "      <td>0106.00S38.00E3300--0000ROADS</td>\n",
       "      <td>MULTIPOLYGON (((1944720.860 1196439.739, 19448...</td>\n",
       "      <td>2015</td>\n",
       "    </tr>\n",
       "  </tbody>\n",
       "</table>\n",
       "</div>"
      ],
      "text/plain": [
       "   County  Town  TownPart TownDir  Range  RangePart RangeDir  SecNumber Qtr  \\\n",
       "0       1     9       0.0       S     40        0.0        E          3   0   \n",
       "1       1     6       0.0       S     38        0.0        E          0   0   \n",
       "2       1     6       0.0       S     38        0.0        E         28   D   \n",
       "3       1     6       0.0       S     38        0.0        E          0   0   \n",
       "4       1     6       0.0       S     38        0.0        E         33   0   \n",
       "\n",
       "  QtrQtr Anomaly MapSufType  MapNumber                  ORMapNum Taxlot  \\\n",
       "0      0      --          0   09S40E03  0109.00S40.00E0300--0000    301   \n",
       "1      0      --          0     06S38E  0106.00S38.00E0000--0000    300   \n",
       "2      0      --          0  06S38E28D  0106.00S38.00E28D0--0000    300   \n",
       "3      0      --          0     06S38E  0106.00S38.00E0000--0000    700   \n",
       "4      0      --          0   06S38E33  0106.00S38.00E3300--0000  ROADS   \n",
       "\n",
       "         MapTaxlot                       ORTaxlot  \\\n",
       "0    09S40E0300301  0109.00S40.00E0300--000000301   \n",
       "1  06S38E000000300  0106.00S38.00E0000--000000300   \n",
       "2   06S38E28D00300  0106.00S38.00E28D0--000000300   \n",
       "3  06S38E000000700  0106.00S38.00E0000--000000700   \n",
       "4    06S38E33ROADS  0106.00S38.00E3300--0000ROADS   \n",
       "\n",
       "                                            geometry  Year  \n",
       "0  MULTIPOLYGON (((2012923.180 1129703.930, 20128...  2015  \n",
       "1  MULTIPOLYGON (((1931083.908 1209055.701, 19311...  2015  \n",
       "2  MULTIPOLYGON (((1942735.605 1198483.774, 19427...  2015  \n",
       "3  MULTIPOLYGON (((1942035.039 1196825.915, 19420...  2015  \n",
       "4  MULTIPOLYGON (((1944720.860 1196439.739, 19448...  2015  "
      ]
     },
     "execution_count": 65,
     "metadata": {},
     "output_type": "execute_result"
    }
   ],
   "source": [
    "gdf.head()"
   ]
  },
  {
   "cell_type": "code",
   "execution_count": 63,
   "id": "61bdf3e4",
   "metadata": {},
   "outputs": [],
   "source": [
    "gdf = gpd.GeoDataFrame(gdf, geometry=\"geometry\")"
   ]
  },
  {
   "cell_type": "code",
   "execution_count": 66,
   "id": "ba794e51",
   "metadata": {},
   "outputs": [],
   "source": [
    "gdf.to_file(inpath + '\\\\GIS\\\\ORMAP_data\\\\2009_2015\\\\ORTaxlots2015.shp')"
   ]
  }
 ],
 "metadata": {
  "kernelspec": {
   "display_name": "Python 3",
   "language": "python",
   "name": "python3"
  },
  "language_info": {
   "codemirror_mode": {
    "name": "ipython",
    "version": 3
   },
   "file_extension": ".py",
   "mimetype": "text/x-python",
   "name": "python",
   "nbconvert_exporter": "python",
   "pygments_lexer": "ipython3",
   "version": "3.8.8"
  }
 },
 "nbformat": 4,
 "nbformat_minor": 5
}
