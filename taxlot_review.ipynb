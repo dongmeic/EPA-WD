{
 "cells": [
  {
   "cell_type": "code",
   "execution_count": 1,
   "id": "a4207320",
   "metadata": {},
   "outputs": [],
   "source": [
    "%load_ext autoreload\n",
    "%autoreload 2"
   ]
  },
  {
   "cell_type": "code",
   "execution_count": 44,
   "id": "7fff659e",
   "metadata": {},
   "outputs": [],
   "source": [
    "from wdtools import *"
   ]
  },
  {
   "cell_type": "code",
   "execution_count": 45,
   "id": "04a295ff",
   "metadata": {},
   "outputs": [
    {
     "name": "stdout",
     "output_type": "stream",
     "text": [
      "Baker\n",
      "Benton\n",
      "Clackamas\n",
      "Clatsop\n",
      "Columbia\n",
      "Coos\n",
      "Crook\n",
      "Curry\n",
      "Deschutes\n",
      "Gilliam\n",
      "Harney\n",
      "Hood_River\n",
      "Jackson\n",
      "Jefferson\n",
      "Josephine\n",
      "Klamath\n",
      "Lake\n",
      "Lane\n",
      "Lincoln\n",
      "Linn\n",
      "Marion\n",
      "Morrow\n",
      "Multnomah\n",
      "Polk\n",
      "Tillamook\n",
      "Umatilla\n",
      "Union\n",
      "Wasco\n",
      "Washington\n",
      "Wheeler\n",
      "Yamhill\n"
     ]
    }
   ],
   "source": [
    "gdf = readTaxlots(year=2015)"
   ]
  },
  {
   "cell_type": "code",
   "execution_count": 46,
   "id": "9b8a5147",
   "metadata": {
    "scrolled": true
   },
   "outputs": [
    {
     "data": {
      "text/html": [
       "<div>\n",
       "<style scoped>\n",
       "    .dataframe tbody tr th:only-of-type {\n",
       "        vertical-align: middle;\n",
       "    }\n",
       "\n",
       "    .dataframe tbody tr th {\n",
       "        vertical-align: top;\n",
       "    }\n",
       "\n",
       "    .dataframe thead th {\n",
       "        text-align: right;\n",
       "    }\n",
       "</style>\n",
       "<table border=\"1\" class=\"dataframe\">\n",
       "  <thead>\n",
       "    <tr style=\"text-align: right;\">\n",
       "      <th></th>\n",
       "      <th>County</th>\n",
       "      <th>Town</th>\n",
       "      <th>TownPart</th>\n",
       "      <th>TownDir</th>\n",
       "      <th>Range</th>\n",
       "      <th>RangePart</th>\n",
       "      <th>RangeDir</th>\n",
       "      <th>SecNumber</th>\n",
       "      <th>Qtr</th>\n",
       "      <th>QtrQtr</th>\n",
       "      <th>Anomaly</th>\n",
       "      <th>MapSufType</th>\n",
       "      <th>MapNumber</th>\n",
       "      <th>ORMapNum</th>\n",
       "      <th>Taxlot</th>\n",
       "      <th>MapTaxlot</th>\n",
       "      <th>ORTaxlot</th>\n",
       "      <th>Year</th>\n",
       "    </tr>\n",
       "  </thead>\n",
       "  <tbody>\n",
       "    <tr>\n",
       "      <th>0</th>\n",
       "      <td>1</td>\n",
       "      <td>9</td>\n",
       "      <td>0.0</td>\n",
       "      <td>S</td>\n",
       "      <td>40</td>\n",
       "      <td>0.0</td>\n",
       "      <td>E</td>\n",
       "      <td>3</td>\n",
       "      <td>0</td>\n",
       "      <td>0</td>\n",
       "      <td>--</td>\n",
       "      <td>0</td>\n",
       "      <td>09S40E03</td>\n",
       "      <td>0109.00S40.00E0300--0000</td>\n",
       "      <td>301</td>\n",
       "      <td>09S40E0300301</td>\n",
       "      <td>0109.00S40.00E0300--000000301</td>\n",
       "      <td>2015</td>\n",
       "    </tr>\n",
       "    <tr>\n",
       "      <th>1</th>\n",
       "      <td>1</td>\n",
       "      <td>6</td>\n",
       "      <td>0.0</td>\n",
       "      <td>S</td>\n",
       "      <td>38</td>\n",
       "      <td>0.0</td>\n",
       "      <td>E</td>\n",
       "      <td>0</td>\n",
       "      <td>0</td>\n",
       "      <td>0</td>\n",
       "      <td>--</td>\n",
       "      <td>0</td>\n",
       "      <td>06S38E</td>\n",
       "      <td>0106.00S38.00E0000--0000</td>\n",
       "      <td>300</td>\n",
       "      <td>06S38E000000300</td>\n",
       "      <td>0106.00S38.00E0000--000000300</td>\n",
       "      <td>2015</td>\n",
       "    </tr>\n",
       "    <tr>\n",
       "      <th>2</th>\n",
       "      <td>1</td>\n",
       "      <td>6</td>\n",
       "      <td>0.0</td>\n",
       "      <td>S</td>\n",
       "      <td>38</td>\n",
       "      <td>0.0</td>\n",
       "      <td>E</td>\n",
       "      <td>28</td>\n",
       "      <td>D</td>\n",
       "      <td>0</td>\n",
       "      <td>--</td>\n",
       "      <td>0</td>\n",
       "      <td>06S38E28D</td>\n",
       "      <td>0106.00S38.00E28D0--0000</td>\n",
       "      <td>300</td>\n",
       "      <td>06S38E28D00300</td>\n",
       "      <td>0106.00S38.00E28D0--000000300</td>\n",
       "      <td>2015</td>\n",
       "    </tr>\n",
       "  </tbody>\n",
       "</table>\n",
       "</div>"
      ],
      "text/plain": [
       "   County  Town  TownPart TownDir  Range  RangePart RangeDir  SecNumber Qtr  \\\n",
       "0       1     9       0.0       S     40        0.0        E          3   0   \n",
       "1       1     6       0.0       S     38        0.0        E          0   0   \n",
       "2       1     6       0.0       S     38        0.0        E         28   D   \n",
       "\n",
       "  QtrQtr Anomaly MapSufType  MapNumber                  ORMapNum Taxlot  \\\n",
       "0      0      --          0   09S40E03  0109.00S40.00E0300--0000    301   \n",
       "1      0      --          0     06S38E  0106.00S38.00E0000--0000    300   \n",
       "2      0      --          0  06S38E28D  0106.00S38.00E28D0--0000    300   \n",
       "\n",
       "         MapTaxlot                       ORTaxlot  Year  \n",
       "0    09S40E0300301  0109.00S40.00E0300--000000301  2015  \n",
       "1  06S38E000000300  0106.00S38.00E0000--000000300  2015  \n",
       "2   06S38E28D00300  0106.00S38.00E28D0--000000300  2015  "
      ]
     },
     "execution_count": 46,
     "metadata": {},
     "output_type": "execute_result"
    }
   ],
   "source": [
    "gdf.head(3)"
   ]
  }
 ],
 "metadata": {
  "kernelspec": {
   "display_name": "Python 3",
   "language": "python",
   "name": "python3"
  },
  "language_info": {
   "codemirror_mode": {
    "name": "ipython",
    "version": 3
   },
   "file_extension": ".py",
   "mimetype": "text/x-python",
   "name": "python",
   "nbconvert_exporter": "python",
   "pygments_lexer": "ipython3",
   "version": "3.8.8"
  }
 },
 "nbformat": 4,
 "nbformat_minor": 5
}
