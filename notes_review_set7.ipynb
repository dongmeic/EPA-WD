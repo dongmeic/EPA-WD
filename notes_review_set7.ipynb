{
 "cells": [
  {
   "cell_type": "code",
   "execution_count": 1,
   "id": "d7c2612b",
   "metadata": {},
   "outputs": [],
   "source": [
    "%load_ext autoreload\n",
    "%autoreload 2"
   ]
  },
  {
   "cell_type": "code",
   "execution_count": 2,
   "id": "31eba31e",
   "metadata": {},
   "outputs": [],
   "source": [
    "from wdtools import *"
   ]
  },
  {
   "cell_type": "code",
   "execution_count": 3,
   "id": "bb8373d9",
   "metadata": {
    "scrolled": true
   },
   "outputs": [
    {
     "name": "stdout",
     "output_type": "stream",
     "text": [
      "2009\n",
      "2011\n",
      "2012\n",
      "2014\n",
      "2015\n",
      "2016\n",
      "it took 10.0 minutes to complete\n"
     ]
    }
   ],
   "source": [
    "# this can take about 9 - 11 minutes\n",
    "start = time.time()\n",
    "all_taxlot = combine_taxlot(yearstart=2009, yearend=2017)\n",
    "end = time.time()\n",
    "print(f'it took {round((end - start)/60, 0)} minutes to complete')"
   ]
  },
  {
   "cell_type": "code",
   "execution_count": 4,
   "id": "007cc0be",
   "metadata": {},
   "outputs": [],
   "source": [
    "setID = 'Set007'; nm_to_add = 4972"
   ]
  },
  {
   "cell_type": "code",
   "execution_count": 5,
   "id": "2c2645dd",
   "metadata": {},
   "outputs": [],
   "source": [
    "wd = combine_wd_tables(setID=setID, nm_to_add=nm_to_add)"
   ]
  },
  {
   "cell_type": "code",
   "execution_count": 6,
   "id": "9dced017",
   "metadata": {},
   "outputs": [],
   "source": [
    "df = pd.DataFrame(columns = ['wetdet_delin_number', 'record_ID', 'field', 'cor_type', 'from', 'to'])"
   ]
  },
  {
   "cell_type": "code",
   "execution_count": 7,
   "id": "0d8aa941",
   "metadata": {},
   "outputs": [],
   "source": [
    "ml = 'N'\n",
    "#ml = 'Y'"
   ]
  },
  {
   "cell_type": "code",
   "execution_count": 281,
   "id": "132a44f2",
   "metadata": {},
   "outputs": [],
   "source": [
    "notes = pd.read_csv(os.path.join(inpath + '\\\\output\\\\to_review\\\\', f'review_unmatched_{setID}_r2_{ml}_0.csv'))"
   ]
  },
  {
   "cell_type": "code",
   "execution_count": 285,
   "id": "1a2a8bea",
   "metadata": {},
   "outputs": [],
   "source": [
    "# not missing lots\n",
    "wids = [wid for wid in notes.wetdet_delin_number.unique() if wid not in df.wetdet_delin_number.unique()]"
   ]
  },
  {
   "cell_type": "code",
   "execution_count": 286,
   "id": "3ded096c",
   "metadata": {},
   "outputs": [],
   "source": [
    "notes = notes[notes.wetdet_delin_number.isin(wids)]"
   ]
  },
  {
   "cell_type": "code",
   "execution_count": 10,
   "id": "2cc47515",
   "metadata": {},
   "outputs": [
    {
     "data": {
      "text/plain": [
       "Index(['wetdet_delin_number', 'trsqq', 'parcel_id', 'county', 'latitude',\n",
       "       'longitude', 'DecisionLink', 'record_ID', 'IDyear', 'correct_type',\n",
       "       'correction', 'cor_trsqq', 'ORTaxlot'],\n",
       "      dtype='object')"
      ]
     },
     "execution_count": 10,
     "metadata": {},
     "output_type": "execute_result"
    }
   ],
   "source": [
    "notes.columns"
   ]
  },
  {
   "cell_type": "code",
   "execution_count": 282,
   "id": "1d769620",
   "metadata": {},
   "outputs": [
    {
     "data": {
      "text/plain": [
       "(17, 13)"
      ]
     },
     "execution_count": 282,
     "metadata": {},
     "output_type": "execute_result"
    }
   ],
   "source": [
    "notes.shape"
   ]
  },
  {
   "cell_type": "code",
   "execution_count": 287,
   "id": "0219935d",
   "metadata": {},
   "outputs": [],
   "source": [
    "i=0"
   ]
  },
  {
   "cell_type": "code",
   "execution_count": 290,
   "id": "58515b77",
   "metadata": {},
   "outputs": [],
   "source": [
    "i = i+1"
   ]
  },
  {
   "cell_type": "code",
   "execution_count": 320,
   "id": "464edc5e",
   "metadata": {},
   "outputs": [],
   "source": [
    "i = 16"
   ]
  },
  {
   "cell_type": "code",
   "execution_count": 294,
   "id": "c2e2d803",
   "metadata": {},
   "outputs": [
    {
     "data": {
      "text/html": [
       "<div>\n",
       "<style scoped>\n",
       "    .dataframe tbody tr th:only-of-type {\n",
       "        vertical-align: middle;\n",
       "    }\n",
       "\n",
       "    .dataframe tbody tr th {\n",
       "        vertical-align: top;\n",
       "    }\n",
       "\n",
       "    .dataframe thead th {\n",
       "        text-align: right;\n",
       "    }\n",
       "</style>\n",
       "<table border=\"1\" class=\"dataframe\">\n",
       "  <thead>\n",
       "    <tr style=\"text-align: right;\">\n",
       "      <th></th>\n",
       "      <th>wetdet_delin_number</th>\n",
       "      <th>trsqq</th>\n",
       "      <th>parcel_id</th>\n",
       "      <th>county</th>\n",
       "      <th>latitude</th>\n",
       "      <th>longitude</th>\n",
       "      <th>DecisionLink</th>\n",
       "      <th>record_ID</th>\n",
       "      <th>IDyear</th>\n",
       "      <th>correct_type</th>\n",
       "      <th>correction</th>\n",
       "      <th>cor_trsqq</th>\n",
       "      <th>ORTaxlot</th>\n",
       "    </tr>\n",
       "  </thead>\n",
       "  <tbody>\n",
       "    <tr>\n",
       "      <th>0</th>\n",
       "      <td>WD2008-0325</td>\n",
       "      <td>08N10W27</td>\n",
       "      <td>201</td>\n",
       "      <td>Clatsop</td>\n",
       "      <td>46.148233</td>\n",
       "      <td>-123.914622</td>\n",
       "      <td>https://docs.dsl.state.or.us/PublicReview/docv...</td>\n",
       "      <td>4992</td>\n",
       "      <td>2008</td>\n",
       "      <td>to review</td>\n",
       "      <td>there is not any matched lot, need to review t...</td>\n",
       "      <td>08N10W27CA</td>\n",
       "      <td>0408.00N10.00W27CA--000000400</td>\n",
       "    </tr>\n",
       "    <tr>\n",
       "      <th>6</th>\n",
       "      <td>WD2008-0302</td>\n",
       "      <td>08N10W33C</td>\n",
       "      <td>1200</td>\n",
       "      <td>Clatsop</td>\n",
       "      <td>46.130039</td>\n",
       "      <td>-123.930139</td>\n",
       "      <td>https://docs.dsl.state.or.us/PublicReview/Elec...</td>\n",
       "      <td>4991</td>\n",
       "      <td>2008</td>\n",
       "      <td>QQ</td>\n",
       "      <td>from C0 to CD</td>\n",
       "      <td>08N10W33CD</td>\n",
       "      <td>0408.00N10.00W33CD--000001500</td>\n",
       "    </tr>\n",
       "    <tr>\n",
       "      <th>7</th>\n",
       "      <td>WD2011-0063</td>\n",
       "      <td>22S10E02</td>\n",
       "      <td>200</td>\n",
       "      <td>Deschutes</td>\n",
       "      <td>43.701500</td>\n",
       "      <td>-121.505100</td>\n",
       "      <td>https://docs.dsl.state.or.us/PublicReview/Elec...</td>\n",
       "      <td>5304</td>\n",
       "      <td>2011</td>\n",
       "      <td>section number</td>\n",
       "      <td>from 02 to 00</td>\n",
       "      <td>22S10E0000</td>\n",
       "      <td>0922.00S10.00E0000--000001002</td>\n",
       "    </tr>\n",
       "    <tr>\n",
       "      <th>8</th>\n",
       "      <td>WD2008-0294</td>\n",
       "      <td>17S12E22</td>\n",
       "      <td>102</td>\n",
       "      <td>Deschutes</td>\n",
       "      <td>44.091100</td>\n",
       "      <td>-121.266190</td>\n",
       "      <td>https://docs.dsl.state.or.us/PublicReview/Elec...</td>\n",
       "      <td>5270</td>\n",
       "      <td>2008</td>\n",
       "      <td>lot number</td>\n",
       "      <td>lot number ['102'] might be incorrect, the mat...</td>\n",
       "      <td>17S12E22</td>\n",
       "      <td>0917.00S12.00E2200--000000104</td>\n",
       "    </tr>\n",
       "    <tr>\n",
       "      <th>13</th>\n",
       "      <td>WD2009-0135</td>\n",
       "      <td>08N10W27</td>\n",
       "      <td>201</td>\n",
       "      <td>Clatsop</td>\n",
       "      <td>45.390510</td>\n",
       "      <td>-122.457330</td>\n",
       "      <td>https://docs.dsl.state.or.us/PublicReview/Elec...</td>\n",
       "      <td>5034</td>\n",
       "      <td>2009</td>\n",
       "      <td>to review</td>\n",
       "      <td>there is not any matched lot, need to review t...</td>\n",
       "      <td>02S03E1700</td>\n",
       "      <td>0302.00S03.00E1700--000003400</td>\n",
       "    </tr>\n",
       "    <tr>\n",
       "      <th>14</th>\n",
       "      <td>WD2015-0266</td>\n",
       "      <td>20S18E20</td>\n",
       "      <td>2500</td>\n",
       "      <td>Deschutes</td>\n",
       "      <td>43.824000</td>\n",
       "      <td>-120.590200</td>\n",
       "      <td>https://docs.dsl.state.or.us/PublicReview/docv...</td>\n",
       "      <td>5373</td>\n",
       "      <td>2015</td>\n",
       "      <td>section number</td>\n",
       "      <td>from 20 to 00</td>\n",
       "      <td>20S18E0000</td>\n",
       "      <td>0920.00S18.00E0000--000002500</td>\n",
       "    </tr>\n",
       "    <tr>\n",
       "      <th>16</th>\n",
       "      <td>WD2008-0343</td>\n",
       "      <td>08S10W27</td>\n",
       "      <td>202</td>\n",
       "      <td>Clatsop</td>\n",
       "      <td>46.143700</td>\n",
       "      <td>-123.902070</td>\n",
       "      <td>https://docs.dsl.state.or.us/PublicReview/Elec...</td>\n",
       "      <td>4993</td>\n",
       "      <td>2008</td>\n",
       "      <td>to review</td>\n",
       "      <td>there is not any matched lot, need to review t...</td>\n",
       "      <td>08N10W27DD</td>\n",
       "      <td>0408.00N10.00W27DD--000000100</td>\n",
       "    </tr>\n",
       "  </tbody>\n",
       "</table>\n",
       "</div>"
      ],
      "text/plain": [
       "   wetdet_delin_number      trsqq parcel_id     county   latitude   longitude  \\\n",
       "0          WD2008-0325   08N10W27       201    Clatsop  46.148233 -123.914622   \n",
       "6          WD2008-0302  08N10W33C      1200    Clatsop  46.130039 -123.930139   \n",
       "7          WD2011-0063   22S10E02       200  Deschutes  43.701500 -121.505100   \n",
       "8          WD2008-0294   17S12E22       102  Deschutes  44.091100 -121.266190   \n",
       "13         WD2009-0135   08N10W27       201    Clatsop  45.390510 -122.457330   \n",
       "14         WD2015-0266   20S18E20      2500  Deschutes  43.824000 -120.590200   \n",
       "16         WD2008-0343   08S10W27       202    Clatsop  46.143700 -123.902070   \n",
       "\n",
       "                                         DecisionLink  record_ID  IDyear  \\\n",
       "0   https://docs.dsl.state.or.us/PublicReview/docv...       4992    2008   \n",
       "6   https://docs.dsl.state.or.us/PublicReview/Elec...       4991    2008   \n",
       "7   https://docs.dsl.state.or.us/PublicReview/Elec...       5304    2011   \n",
       "8   https://docs.dsl.state.or.us/PublicReview/Elec...       5270    2008   \n",
       "13  https://docs.dsl.state.or.us/PublicReview/Elec...       5034    2009   \n",
       "14  https://docs.dsl.state.or.us/PublicReview/docv...       5373    2015   \n",
       "16  https://docs.dsl.state.or.us/PublicReview/Elec...       4993    2008   \n",
       "\n",
       "      correct_type                                         correction  \\\n",
       "0        to review  there is not any matched lot, need to review t...   \n",
       "6               QQ                                      from C0 to CD   \n",
       "7   section number                                      from 02 to 00   \n",
       "8       lot number  lot number ['102'] might be incorrect, the mat...   \n",
       "13       to review  there is not any matched lot, need to review t...   \n",
       "14  section number                                      from 20 to 00   \n",
       "16       to review  there is not any matched lot, need to review t...   \n",
       "\n",
       "     cor_trsqq                       ORTaxlot  \n",
       "0   08N10W27CA  0408.00N10.00W27CA--000000400  \n",
       "6   08N10W33CD  0408.00N10.00W33CD--000001500  \n",
       "7   22S10E0000  0922.00S10.00E0000--000001002  \n",
       "8     17S12E22  0917.00S12.00E2200--000000104  \n",
       "13  02S03E1700  0302.00S03.00E1700--000003400  \n",
       "14  20S18E0000  0920.00S18.00E0000--000002500  \n",
       "16  08N10W27DD  0408.00N10.00W27DD--000000100  "
      ]
     },
     "execution_count": 294,
     "metadata": {},
     "output_type": "execute_result"
    }
   ],
   "source": [
    "notes"
   ]
  },
  {
   "cell_type": "code",
   "execution_count": 321,
   "id": "9ef09850",
   "metadata": {},
   "outputs": [
    {
     "data": {
      "text/plain": [
       "wetdet_delin_number                                          WD2008-0343\n",
       "record_ID                                                           4993\n",
       "trsqq                                                           08S10W27\n",
       "county                                                           Clatsop\n",
       "correct_type                                                   to review\n",
       "correction             there is not any matched lot, need to review t...\n",
       "cor_trsqq                                                     08N10W27DD\n",
       "parcel_id                                                            202\n",
       "ORTaxlot                                   0408.00N10.00W27DD--000000100\n",
       "Name: 16, dtype: object"
      ]
     },
     "execution_count": 321,
     "metadata": {},
     "output_type": "execute_result"
    }
   ],
   "source": [
    "notes.loc[i, ['wetdet_delin_number', 'record_ID', 'trsqq', 'county', 'correct_type', \n",
    "              'correction', 'cor_trsqq', 'parcel_id', 'ORTaxlot']]"
   ]
  },
  {
   "cell_type": "code",
   "execution_count": 322,
   "id": "973aeb36",
   "metadata": {},
   "outputs": [
    {
     "data": {
      "text/html": [
       "<div>\n",
       "<style scoped>\n",
       "    .dataframe tbody tr th:only-of-type {\n",
       "        vertical-align: middle;\n",
       "    }\n",
       "\n",
       "    .dataframe tbody tr th {\n",
       "        vertical-align: top;\n",
       "    }\n",
       "\n",
       "    .dataframe thead th {\n",
       "        text-align: right;\n",
       "    }\n",
       "</style>\n",
       "<table border=\"1\" class=\"dataframe\">\n",
       "  <thead>\n",
       "    <tr style=\"text-align: right;\">\n",
       "      <th></th>\n",
       "      <th>wetdet_delin_number</th>\n",
       "      <th>county</th>\n",
       "      <th>trsqq</th>\n",
       "      <th>parcel_id</th>\n",
       "      <th>latitude</th>\n",
       "      <th>longitude</th>\n",
       "      <th>record_ID</th>\n",
       "      <th>notes</th>\n",
       "      <th>status_name</th>\n",
       "      <th>is_batch_file</th>\n",
       "    </tr>\n",
       "  </thead>\n",
       "  <tbody>\n",
       "    <tr>\n",
       "      <th>20</th>\n",
       "      <td>WD2008-0343</td>\n",
       "      <td>Clatsop</td>\n",
       "      <td>08S10W27</td>\n",
       "      <td>202</td>\n",
       "      <td>46.1437</td>\n",
       "      <td>-123.90207</td>\n",
       "      <td>4993</td>\n",
       "      <td></td>\n",
       "      <td>Completed by DSL</td>\n",
       "      <td>Y</td>\n",
       "    </tr>\n",
       "  </tbody>\n",
       "</table>\n",
       "</div>"
      ],
      "text/plain": [
       "   wetdet_delin_number   county     trsqq parcel_id  latitude  longitude  \\\n",
       "20         WD2008-0343  Clatsop  08S10W27       202   46.1437 -123.90207   \n",
       "\n",
       "    record_ID notes       status_name is_batch_file  \n",
       "20       4993        Completed by DSL             Y  "
      ]
     },
     "execution_count": 322,
     "metadata": {},
     "output_type": "execute_result"
    }
   ],
   "source": [
    "wdID = notes.loc[i,'wetdet_delin_number']\n",
    "url = wd.loc[wd.wetdet_delin_number == wdID, 'DecisionLink'].values[0]\n",
    "if str(url) == 'nan':\n",
    "    print('Decision link is not available')\n",
    "else:\n",
    "    webbrowser.open(url)\n",
    "selcols = ['wetdet_delin_number', 'county', 'trsqq', 'parcel_id', 'latitude', 'longitude', 'record_ID', 'notes', 'status_name', 'is_batch_file']\n",
    "wd.loc[wd.wetdet_delin_number == wdID, selcols]"
   ]
  },
  {
   "cell_type": "code",
   "execution_count": 268,
   "id": "eb972c14",
   "metadata": {},
   "outputs": [
    {
     "data": {
      "text/html": [
       "<div>\n",
       "<style scoped>\n",
       "    .dataframe tbody tr th:only-of-type {\n",
       "        vertical-align: middle;\n",
       "    }\n",
       "\n",
       "    .dataframe tbody tr th {\n",
       "        vertical-align: top;\n",
       "    }\n",
       "\n",
       "    .dataframe thead th {\n",
       "        text-align: right;\n",
       "    }\n",
       "</style>\n",
       "<table border=\"1\" class=\"dataframe\">\n",
       "  <thead>\n",
       "    <tr style=\"text-align: right;\">\n",
       "      <th></th>\n",
       "      <th>year</th>\n",
       "      <th>ORTaxlot</th>\n",
       "      <th>geometry</th>\n",
       "    </tr>\n",
       "  </thead>\n",
       "  <tbody>\n",
       "    <tr>\n",
       "      <th>714478</th>\n",
       "      <td>2011</td>\n",
       "      <td>0407.00N09.00W08C0--000000600</td>\n",
       "      <td>POLYGON ((465778.119 1603861.280, 465756.290 1...</td>\n",
       "    </tr>\n",
       "    <tr>\n",
       "      <th>2091438</th>\n",
       "      <td>2012</td>\n",
       "      <td>0407.00N09.00W08C0--000000600</td>\n",
       "      <td>POLYGON ((465776.584 1603859.709, 465754.754 1...</td>\n",
       "    </tr>\n",
       "    <tr>\n",
       "      <th>3563291</th>\n",
       "      <td>2014</td>\n",
       "      <td>0407.00N09.00W08C0--000000600</td>\n",
       "      <td>POLYGON ((465776.584 1603859.709, 465754.754 1...</td>\n",
       "    </tr>\n",
       "    <tr>\n",
       "      <th>5250469</th>\n",
       "      <td>2015</td>\n",
       "      <td>0407.00N09.00W08C0--000000600</td>\n",
       "      <td>POLYGON ((465776.584 1603859.709, 465754.754 1...</td>\n",
       "    </tr>\n",
       "    <tr>\n",
       "      <th>6960867</th>\n",
       "      <td>2016</td>\n",
       "      <td>0407.00N09.00W08C0--000000600</td>\n",
       "      <td>MULTIPOLYGON (((465778.119 1603861.280, 465756...</td>\n",
       "    </tr>\n",
       "  </tbody>\n",
       "</table>\n",
       "</div>"
      ],
      "text/plain": [
       "         year                       ORTaxlot  \\\n",
       "714478   2011  0407.00N09.00W08C0--000000600   \n",
       "2091438  2012  0407.00N09.00W08C0--000000600   \n",
       "3563291  2014  0407.00N09.00W08C0--000000600   \n",
       "5250469  2015  0407.00N09.00W08C0--000000600   \n",
       "6960867  2016  0407.00N09.00W08C0--000000600   \n",
       "\n",
       "                                                  geometry  \n",
       "714478   POLYGON ((465778.119 1603861.280, 465756.290 1...  \n",
       "2091438  POLYGON ((465776.584 1603859.709, 465754.754 1...  \n",
       "3563291  POLYGON ((465776.584 1603859.709, 465754.754 1...  \n",
       "5250469  POLYGON ((465776.584 1603859.709, 465754.754 1...  \n",
       "6960867  MULTIPOLYGON (((465778.119 1603861.280, 465756...  "
      ]
     },
     "execution_count": 268,
     "metadata": {},
     "output_type": "execute_result"
    }
   ],
   "source": [
    "all_taxlot[all_taxlot.ORTaxlot==notes.loc[i,'ORTaxlot']]"
   ]
  },
  {
   "cell_type": "code",
   "execution_count": 301,
   "id": "65c3ecfc",
   "metadata": {},
   "outputs": [
    {
     "data": {
      "text/plain": [
       "<AxesSubplot:>"
      ]
     },
     "execution_count": 301,
     "metadata": {},
     "output_type": "execute_result"
    },
    {
     "data": {
      "image/png": "[encoded data removed]",
      "text/plain": [
       "<Figure size 432x288 with 1 Axes>"
      ]
     },
     "metadata": {
      "needs_background": "light"
     },
     "output_type": "display_data"
    }
   ],
   "source": [
    "all_taxlot[all_taxlot.ORTaxlot==notes.loc[i,'ORTaxlot']].plot()"
   ]
  },
  {
   "cell_type": "code",
   "execution_count": 302,
   "id": "da1a6880",
   "metadata": {},
   "outputs": [
    {
     "data": {
      "text/html": [
       "<div>\n",
       "<style scoped>\n",
       "    .dataframe tbody tr th:only-of-type {\n",
       "        vertical-align: middle;\n",
       "    }\n",
       "\n",
       "    .dataframe tbody tr th {\n",
       "        vertical-align: top;\n",
       "    }\n",
       "\n",
       "    .dataframe thead th {\n",
       "        text-align: right;\n",
       "    }\n",
       "</style>\n",
       "<table border=\"1\" class=\"dataframe\">\n",
       "  <thead>\n",
       "    <tr style=\"text-align: right;\">\n",
       "      <th></th>\n",
       "      <th>Longitude</th>\n",
       "      <th>Latitude</th>\n",
       "      <th>geometry</th>\n",
       "    </tr>\n",
       "  </thead>\n",
       "  <tbody>\n",
       "    <tr>\n",
       "      <th>0</th>\n",
       "      <td>-121.5051</td>\n",
       "      <td>43.7015</td>\n",
       "      <td>POINT (1046584.555 712985.706)</td>\n",
       "    </tr>\n",
       "  </tbody>\n",
       "</table>\n",
       "</div>"
      ],
      "text/plain": [
       "   Longitude  Latitude                        geometry\n",
       "0  -121.5051   43.7015  POINT (1046584.555 712985.706)"
      ]
     },
     "execution_count": 302,
     "metadata": {},
     "output_type": "execute_result"
    }
   ],
   "source": [
    "lon=wd.loc[wd.wetdet_delin_number == wdID, 'longitude'].values[0]\n",
    "lat=wd.loc[wd.wetdet_delin_number == wdID, 'latitude'].values[0]\n",
    "get_point_from_lonlat(lon=lon, lat=lat)"
   ]
  },
  {
   "cell_type": "code",
   "execution_count": 299,
   "id": "e6524c9d",
   "metadata": {},
   "outputs": [
    {
     "name": "stdout",
     "output_type": "stream",
     "text": [
      "0922.00S10.00E0200--000001002\n"
     ]
    }
   ],
   "source": [
    "taxlot = create_ORTaxlot(cnt_code=cnt_dict['Deschutes'], trsqq='22S10E02', lot='1002')\n",
    "print(taxlot)"
   ]
  },
  {
   "cell_type": "code",
   "execution_count": 300,
   "id": "abee45df",
   "metadata": {},
   "outputs": [
    {
     "data": {
      "text/plain": [
       "False"
      ]
     },
     "execution_count": 300,
     "metadata": {},
     "output_type": "execute_result"
    }
   ],
   "source": [
    "taxlot in all_txid"
   ]
  },
  {
   "cell_type": "code",
   "execution_count": 76,
   "id": "c6c85332",
   "metadata": {},
   "outputs": [
    {
     "data": {
      "text/html": [
       "<div>\n",
       "<style scoped>\n",
       "    .dataframe tbody tr th:only-of-type {\n",
       "        vertical-align: middle;\n",
       "    }\n",
       "\n",
       "    .dataframe tbody tr th {\n",
       "        vertical-align: top;\n",
       "    }\n",
       "\n",
       "    .dataframe thead th {\n",
       "        text-align: right;\n",
       "    }\n",
       "</style>\n",
       "<table border=\"1\" class=\"dataframe\">\n",
       "  <thead>\n",
       "    <tr style=\"text-align: right;\">\n",
       "      <th></th>\n",
       "      <th>year</th>\n",
       "      <th>ORTaxlot</th>\n",
       "      <th>geometry</th>\n",
       "    </tr>\n",
       "  </thead>\n",
       "  <tbody>\n",
       "    <tr>\n",
       "      <th>810645</th>\n",
       "      <td>2011</td>\n",
       "      <td>0916.00S12.00E31D0--000004800</td>\n",
       "      <td>MULTIPOLYGON (((1094765.050 871962.922, 109476...</td>\n",
       "    </tr>\n",
       "    <tr>\n",
       "      <th>2198705</th>\n",
       "      <td>2012</td>\n",
       "      <td>0916.00S12.00E31D0--000004800</td>\n",
       "      <td>MULTIPOLYGON (((4703629.272 902211.817, 470362...</td>\n",
       "    </tr>\n",
       "    <tr>\n",
       "      <th>3692916</th>\n",
       "      <td>2014</td>\n",
       "      <td>0916.00S12.00E31D0--000004800</td>\n",
       "      <td>MULTIPOLYGON (((1094765.258 871962.208, 109476...</td>\n",
       "    </tr>\n",
       "    <tr>\n",
       "      <th>5468078</th>\n",
       "      <td>2015</td>\n",
       "      <td>0916.00S12.00E31D0--000004800</td>\n",
       "      <td>MULTIPOLYGON (((1094765.258 871962.208, 109476...</td>\n",
       "    </tr>\n",
       "    <tr>\n",
       "      <th>7111397</th>\n",
       "      <td>2016</td>\n",
       "      <td>0916.00S12.00E31D0--000004800</td>\n",
       "      <td>MULTIPOLYGON (((1094765.050 871962.922, 109476...</td>\n",
       "    </tr>\n",
       "  </tbody>\n",
       "</table>\n",
       "</div>"
      ],
      "text/plain": [
       "         year                       ORTaxlot  \\\n",
       "810645   2011  0916.00S12.00E31D0--000004800   \n",
       "2198705  2012  0916.00S12.00E31D0--000004800   \n",
       "3692916  2014  0916.00S12.00E31D0--000004800   \n",
       "5468078  2015  0916.00S12.00E31D0--000004800   \n",
       "7111397  2016  0916.00S12.00E31D0--000004800   \n",
       "\n",
       "                                                  geometry  \n",
       "810645   MULTIPOLYGON (((1094765.050 871962.922, 109476...  \n",
       "2198705  MULTIPOLYGON (((4703629.272 902211.817, 470362...  \n",
       "3692916  MULTIPOLYGON (((1094765.258 871962.208, 109476...  \n",
       "5468078  MULTIPOLYGON (((1094765.258 871962.208, 109476...  \n",
       "7111397  MULTIPOLYGON (((1094765.050 871962.922, 109476...  "
      ]
     },
     "execution_count": 76,
     "metadata": {},
     "output_type": "execute_result"
    }
   ],
   "source": [
    "all_taxlot[all_taxlot.ORTaxlot==taxlot]"
   ]
  },
  {
   "cell_type": "code",
   "execution_count": 17,
   "id": "64eeffba",
   "metadata": {
    "scrolled": true
   },
   "outputs": [
    {
     "name": "stdout",
     "output_type": "stream",
     "text": [
      "some lots are not matched, need to review trsqq, the close-match is 08N10W25\n"
     ]
    }
   ],
   "source": [
    "print(notes.loc[i, 'correction'])"
   ]
  },
  {
   "cell_type": "code",
   "execution_count": 303,
   "id": "36c7e7bf",
   "metadata": {},
   "outputs": [
    {
     "data": {
      "text/plain": [
       "'section number'"
      ]
     },
     "execution_count": 303,
     "metadata": {},
     "output_type": "execute_result"
    }
   ],
   "source": [
    "ctyp = notes.loc[i,'correct_type']#.split(' and ')[1]\n",
    "ctyp"
   ]
  },
  {
   "cell_type": "code",
   "execution_count": 141,
   "id": "9aa93248",
   "metadata": {},
   "outputs": [],
   "source": [
    "ctyp = 'QQ'"
   ]
  },
  {
   "cell_type": "code",
   "execution_count": 304,
   "id": "3ca02295",
   "metadata": {
    "scrolled": true
   },
   "outputs": [
    {
     "data": {
      "text/plain": [
       "'from 02 to 00'"
      ]
     },
     "execution_count": 304,
     "metadata": {},
     "output_type": "execute_result"
    }
   ],
   "source": [
    "crt = notes.loc[i,'correction']\n",
    "crt"
   ]
  },
  {
   "cell_type": "code",
   "execution_count": 226,
   "id": "0d4da899",
   "metadata": {},
   "outputs": [
    {
     "data": {
      "text/plain": [
       "['20', '00']"
      ]
     },
     "execution_count": 226,
     "metadata": {},
     "output_type": "execute_result"
    }
   ],
   "source": [
    "ft = crt.split('from ')[1].split(' to ')\n",
    "ft"
   ]
  },
  {
   "cell_type": "code",
   "execution_count": 86,
   "id": "168c0db1",
   "metadata": {},
   "outputs": [],
   "source": [
    "ft = ['1N1E33AC', '01N01E33AC']"
   ]
  },
  {
   "cell_type": "code",
   "execution_count": 73,
   "id": "ceef3cd3",
   "metadata": {},
   "outputs": [],
   "source": [
    "ft[0] = '00'"
   ]
  },
  {
   "cell_type": "code",
   "execution_count": 38,
   "id": "f7c4360d",
   "metadata": {},
   "outputs": [],
   "source": [
    "ft[1] = 'DB'"
   ]
  },
  {
   "cell_type": "code",
   "execution_count": 39,
   "id": "d5e01d71",
   "metadata": {
    "scrolled": true
   },
   "outputs": [
    {
     "data": {
      "text/plain": [
       "['Multnomah', 'Washington']"
      ]
     },
     "execution_count": 39,
     "metadata": {},
     "output_type": "execute_result"
    }
   ],
   "source": [
    "ft"
   ]
  },
  {
   "cell_type": "code",
   "execution_count": 135,
   "id": "2af41f6d",
   "metadata": {},
   "outputs": [],
   "source": [
    "f = crt.split('from ')[1].split(' and ')[0]\n",
    "t = crt.split(' to ')[1].split(' and ')[0]"
   ]
  },
  {
   "cell_type": "code",
   "execution_count": 142,
   "id": "f766854e",
   "metadata": {},
   "outputs": [],
   "source": [
    "f = crt.split(' and ')[1].split(' to ')[0]\n",
    "t = crt.split(' and ')[2]"
   ]
  },
  {
   "cell_type": "code",
   "execution_count": 143,
   "id": "0a4ea532",
   "metadata": {},
   "outputs": [
    {
     "name": "stdout",
     "output_type": "stream",
     "text": [
      "00 CD\n"
     ]
    }
   ],
   "source": [
    "print(f, t)"
   ]
  },
  {
   "cell_type": "code",
   "execution_count": 305,
   "id": "d51acc68",
   "metadata": {},
   "outputs": [
    {
     "data": {
      "text/plain": [
       "5304"
      ]
     },
     "execution_count": 305,
     "metadata": {},
     "output_type": "execute_result"
    }
   ],
   "source": [
    "rID = notes.loc[i,'record_ID']\n",
    "rID"
   ]
  },
  {
   "cell_type": "code",
   "execution_count": 283,
   "id": "9a976998",
   "metadata": {},
   "outputs": [],
   "source": [
    "df = pd.read_csv(os.path.join(inpath + '\\\\output\\\\to_review\\\\', f'unmatched_df_{setID}_r2_{ml}_notes.csv'))"
   ]
  },
  {
   "cell_type": "code",
   "execution_count": 271,
   "id": "413317c7",
   "metadata": {},
   "outputs": [
    {
     "data": {
      "text/plain": [
       "'09S35VE00'"
      ]
     },
     "execution_count": 271,
     "metadata": {},
     "output_type": "execute_result"
    }
   ],
   "source": [
    "'09S35.5E00'.replace(df.loc[3, 'from'], df.loc[3, 'to'])"
   ]
  },
  {
   "cell_type": "code",
   "execution_count": 306,
   "id": "16b0797a",
   "metadata": {},
   "outputs": [],
   "source": [
    "df = df.append({'wetdet_delin_number': wdID, 'record_ID': rID, 'field': 'trsqq', 'cor_type': ctyp, 'from': ft[0], 'to': ft[1]},\n",
    "        ignore_index = True)"
   ]
  },
  {
   "cell_type": "code",
   "execution_count": 78,
   "id": "9f9d7030",
   "metadata": {},
   "outputs": [],
   "source": [
    "df = df.append({'wetdet_delin_number': wdID, 'record_ID': rID, 'field': 'trsqq', 'cor_type': 'section number', 'from': 13, 'to': 31},\n",
    "        ignore_index = True)"
   ]
  },
  {
   "cell_type": "code",
   "execution_count": 232,
   "id": "07374659",
   "metadata": {},
   "outputs": [],
   "source": [
    "df = df.append({'wetdet_delin_number': wdID, 'record_ID': rID, 'field': 'trsqq', 'cor_type': 'QQ', 'from': 'D0', 'to': '00'},\n",
    "        ignore_index = True)"
   ]
  },
  {
   "cell_type": "code",
   "execution_count": 59,
   "id": "88721252",
   "metadata": {},
   "outputs": [],
   "source": [
    "df = df.append({'wetdet_delin_number': wdID, 'record_ID': rID, 'field': 'county', 'cor_type': ctyp, 'from': ft[0], 'to': ft[1]},\n",
    "        ignore_index = True)"
   ]
  },
  {
   "cell_type": "code",
   "execution_count": 308,
   "id": "92c4878c",
   "metadata": {},
   "outputs": [],
   "source": [
    "df = df.append({'wetdet_delin_number': wdID, 'record_ID': rID, 'field': 'parcel_id', 'cor_type': 'parcel id', 'from': '200', 'to': '1002'},\n",
    "        ignore_index = True)"
   ]
  },
  {
   "cell_type": "code",
   "execution_count": 144,
   "id": "ed8d3195",
   "metadata": {},
   "outputs": [],
   "source": [
    "df = df.append({'wetdet_delin_number': wdID, 'record_ID': rID, 'field': 'trsqq', 'cor_type': ctyp, 'from': f, 'to': t},\n",
    "        ignore_index = True)"
   ]
  },
  {
   "cell_type": "code",
   "execution_count": 597,
   "id": "51fedf38",
   "metadata": {},
   "outputs": [],
   "source": [
    "df = df.append({'wetdet_delin_number': wdID, 'record_ID': rID, 'field': 'county', 'cor_type': 'county', 'from': 'Benton', 'to': 'Polk'},\n",
    "        ignore_index = True)"
   ]
  },
  {
   "cell_type": "code",
   "execution_count": 309,
   "id": "168bf084",
   "metadata": {},
   "outputs": [
    {
     "data": {
      "text/html": [
       "<div>\n",
       "<style scoped>\n",
       "    .dataframe tbody tr th:only-of-type {\n",
       "        vertical-align: middle;\n",
       "    }\n",
       "\n",
       "    .dataframe tbody tr th {\n",
       "        vertical-align: top;\n",
       "    }\n",
       "\n",
       "    .dataframe thead th {\n",
       "        text-align: right;\n",
       "    }\n",
       "</style>\n",
       "<table border=\"1\" class=\"dataframe\">\n",
       "  <thead>\n",
       "    <tr style=\"text-align: right;\">\n",
       "      <th></th>\n",
       "      <th>wetdet_delin_number</th>\n",
       "      <th>record_ID</th>\n",
       "      <th>field</th>\n",
       "      <th>cor_type</th>\n",
       "      <th>from</th>\n",
       "      <th>to</th>\n",
       "    </tr>\n",
       "  </thead>\n",
       "  <tbody>\n",
       "    <tr>\n",
       "      <th>0</th>\n",
       "      <td>WD2015-0283</td>\n",
       "      <td>5234</td>\n",
       "      <td>trsqq</td>\n",
       "      <td>QQ</td>\n",
       "      <td>0</td>\n",
       "      <td>D0</td>\n",
       "    </tr>\n",
       "    <tr>\n",
       "      <th>1</th>\n",
       "      <td>WD2013-0169</td>\n",
       "      <td>5148</td>\n",
       "      <td>trsqq</td>\n",
       "      <td>township direction</td>\n",
       "      <td>S</td>\n",
       "      <td>N</td>\n",
       "    </tr>\n",
       "    <tr>\n",
       "      <th>2</th>\n",
       "      <td>WD2012-0073</td>\n",
       "      <td>5314</td>\n",
       "      <td>trsqq</td>\n",
       "      <td>section number</td>\n",
       "      <td>13</td>\n",
       "      <td>31</td>\n",
       "    </tr>\n",
       "    <tr>\n",
       "      <th>3</th>\n",
       "      <td>WD2015-0297</td>\n",
       "      <td>5375</td>\n",
       "      <td>trsqq</td>\n",
       "      <td>range direction</td>\n",
       "      <td>W</td>\n",
       "      <td>E</td>\n",
       "    </tr>\n",
       "    <tr>\n",
       "      <th>4</th>\n",
       "      <td>WD2015-0061</td>\n",
       "      <td>5360</td>\n",
       "      <td>trsqq</td>\n",
       "      <td>section number</td>\n",
       "      <td>6</td>\n",
       "      <td>0</td>\n",
       "    </tr>\n",
       "    <tr>\n",
       "      <th>5</th>\n",
       "      <td>WD2016-0255</td>\n",
       "      <td>5260</td>\n",
       "      <td>trsqq</td>\n",
       "      <td>QQ</td>\n",
       "      <td>0</td>\n",
       "      <td>BD</td>\n",
       "    </tr>\n",
       "    <tr>\n",
       "      <th>6</th>\n",
       "      <td>WD2016-0001</td>\n",
       "      <td>5247</td>\n",
       "      <td>trsqq</td>\n",
       "      <td>township number</td>\n",
       "      <td>9</td>\n",
       "      <td>8</td>\n",
       "    </tr>\n",
       "    <tr>\n",
       "      <th>7</th>\n",
       "      <td>WD2016-0001</td>\n",
       "      <td>5247</td>\n",
       "      <td>trsqq</td>\n",
       "      <td>QQ</td>\n",
       "      <td>0</td>\n",
       "      <td>CD</td>\n",
       "    </tr>\n",
       "    <tr>\n",
       "      <th>8</th>\n",
       "      <td>WD2009-0155</td>\n",
       "      <td>5036</td>\n",
       "      <td>trsqq</td>\n",
       "      <td>QQ</td>\n",
       "      <td>0</td>\n",
       "      <td>BB</td>\n",
       "    </tr>\n",
       "    <tr>\n",
       "      <th>9</th>\n",
       "      <td>WD2015-0449</td>\n",
       "      <td>5383</td>\n",
       "      <td>trsqq</td>\n",
       "      <td>QQ</td>\n",
       "      <td>0</td>\n",
       "      <td>DD</td>\n",
       "    </tr>\n",
       "    <tr>\n",
       "      <th>10</th>\n",
       "      <td>WD2009-0289</td>\n",
       "      <td>5047</td>\n",
       "      <td>trsqq</td>\n",
       "      <td>QQ</td>\n",
       "      <td>D0</td>\n",
       "      <td>DD</td>\n",
       "    </tr>\n",
       "    <tr>\n",
       "      <th>11</th>\n",
       "      <td>WD2009-0289</td>\n",
       "      <td>5047</td>\n",
       "      <td>parcel_id</td>\n",
       "      <td>parcel id</td>\n",
       "      <td>1000</td>\n",
       "      <td>900</td>\n",
       "    </tr>\n",
       "    <tr>\n",
       "      <th>12</th>\n",
       "      <td>WD2011-0063</td>\n",
       "      <td>5304</td>\n",
       "      <td>trsqq</td>\n",
       "      <td>section number</td>\n",
       "      <td>20</td>\n",
       "      <td>00</td>\n",
       "    </tr>\n",
       "    <tr>\n",
       "      <th>13</th>\n",
       "      <td>WD2011-0063</td>\n",
       "      <td>5304</td>\n",
       "      <td>parcel_id</td>\n",
       "      <td>parcel id</td>\n",
       "      <td>200</td>\n",
       "      <td>1002</td>\n",
       "    </tr>\n",
       "  </tbody>\n",
       "</table>\n",
       "</div>"
      ],
      "text/plain": [
       "   wetdet_delin_number  record_ID      field            cor_type  from    to\n",
       "0          WD2015-0283       5234      trsqq                  QQ     0    D0\n",
       "1          WD2013-0169       5148      trsqq  township direction     S     N\n",
       "2          WD2012-0073       5314      trsqq      section number    13    31\n",
       "3          WD2015-0297       5375      trsqq     range direction     W     E\n",
       "4          WD2015-0061       5360      trsqq      section number     6     0\n",
       "5          WD2016-0255       5260      trsqq                  QQ     0    BD\n",
       "6          WD2016-0001       5247      trsqq     township number     9     8\n",
       "7          WD2016-0001       5247      trsqq                  QQ     0    CD\n",
       "8          WD2009-0155       5036      trsqq                  QQ     0    BB\n",
       "9          WD2015-0449       5383      trsqq                  QQ     0    DD\n",
       "10         WD2009-0289       5047      trsqq                  QQ    D0    DD\n",
       "11         WD2009-0289       5047  parcel_id           parcel id  1000   900\n",
       "12         WD2011-0063       5304      trsqq      section number    20    00\n",
       "13         WD2011-0063       5304  parcel_id           parcel id   200  1002"
      ]
     },
     "execution_count": 309,
     "metadata": {},
     "output_type": "execute_result"
    }
   ],
   "source": [
    "df"
   ]
  },
  {
   "cell_type": "code",
   "execution_count": 70,
   "id": "c1e39272",
   "metadata": {},
   "outputs": [],
   "source": [
    "df.loc[2, 'field'] = 'parcel_id'"
   ]
  },
  {
   "cell_type": "code",
   "execution_count": 310,
   "id": "3aeecdf0",
   "metadata": {},
   "outputs": [],
   "source": [
    "df.to_csv(os.path.join(inpath + '\\\\output\\\\to_review\\\\', f'unmatched_df_{setID}_r2_{ml}_notes.csv'), index=False)"
   ]
  },
  {
   "cell_type": "code",
   "execution_count": 186,
   "id": "5d3f8a8a",
   "metadata": {},
   "outputs": [
    {
     "data": {
      "text/plain": [
       "(12, 6)"
      ]
     },
     "execution_count": 186,
     "metadata": {},
     "output_type": "execute_result"
    }
   ],
   "source": [
    "df.shape"
   ]
  },
  {
   "cell_type": "code",
   "execution_count": 187,
   "id": "0a060bcc",
   "metadata": {},
   "outputs": [],
   "source": [
    "r1df = pd.read_csv(os.path.join(inpath + f'\\\\output\\\\to_review\\\\unmatched_df_{setID}_r1_N.csv'))"
   ]
  },
  {
   "cell_type": "code",
   "execution_count": 188,
   "id": "462a4794",
   "metadata": {},
   "outputs": [
    {
     "data": {
      "text/plain": [
       "Index(['wetdet_delin_number', 'trsqq', 'parcel_id', 'address_location_desc',\n",
       "       'city', 'county', 'site_name', 'site_desc', 'latitude', 'longitude',\n",
       "       'DocumentName', 'DecisionLink', 'is_batch_file', 'status_name',\n",
       "       'received_date', 'Coord-Source', 'response_date',\n",
       "       'reissuance_response_date', 'project_id', 'site_id', 'record_ID',\n",
       "       'notes', 'recyear', 'IDyear', 'missinglot'],\n",
       "      dtype='object')"
      ]
     },
     "execution_count": 188,
     "metadata": {},
     "output_type": "execute_result"
    }
   ],
   "source": [
    "r1df.columns"
   ]
  },
  {
   "cell_type": "code",
   "execution_count": 189,
   "id": "12923021",
   "metadata": {},
   "outputs": [],
   "source": [
    "wdIDs = r1df.wetdet_delin_number.unique()"
   ]
  },
  {
   "cell_type": "code",
   "execution_count": 190,
   "id": "6457a5bc",
   "metadata": {},
   "outputs": [
    {
     "data": {
      "text/plain": [
       "array(['WD2008-0440', 'WD2008-0113'], dtype=object)"
      ]
     },
     "execution_count": 190,
     "metadata": {},
     "output_type": "execute_result"
    }
   ],
   "source": [
    "wdIDs"
   ]
  },
  {
   "cell_type": "code",
   "execution_count": 191,
   "id": "f3569144",
   "metadata": {},
   "outputs": [],
   "source": [
    "i = 0"
   ]
  },
  {
   "cell_type": "code",
   "execution_count": 198,
   "id": "a82eb3b6",
   "metadata": {},
   "outputs": [],
   "source": [
    "i = i + 1"
   ]
  },
  {
   "cell_type": "code",
   "execution_count": 89,
   "id": "9effe996",
   "metadata": {},
   "outputs": [
    {
     "data": {
      "text/plain": [
       "5"
      ]
     },
     "execution_count": 89,
     "metadata": {},
     "output_type": "execute_result"
    }
   ],
   "source": [
    "i"
   ]
  },
  {
   "cell_type": "code",
   "execution_count": 243,
   "id": "0fc1fdbf",
   "metadata": {},
   "outputs": [],
   "source": [
    "# need to create the notes first\n",
    "#df = pd.read_csv(os.path.join(inpath + '\\\\output\\\\to_review\\\\', f'unmatched_df_{setID}_r1_{ml}_notes.csv'))"
   ]
  },
  {
   "cell_type": "code",
   "execution_count": 199,
   "id": "37e24f76",
   "metadata": {},
   "outputs": [
    {
     "data": {
      "text/html": [
       "<div>\n",
       "<style scoped>\n",
       "    .dataframe tbody tr th:only-of-type {\n",
       "        vertical-align: middle;\n",
       "    }\n",
       "\n",
       "    .dataframe tbody tr th {\n",
       "        vertical-align: top;\n",
       "    }\n",
       "\n",
       "    .dataframe thead th {\n",
       "        text-align: right;\n",
       "    }\n",
       "</style>\n",
       "<table border=\"1\" class=\"dataframe\">\n",
       "  <thead>\n",
       "    <tr style=\"text-align: right;\">\n",
       "      <th></th>\n",
       "      <th>wetdet_delin_number</th>\n",
       "      <th>trsqq</th>\n",
       "      <th>parcel_id</th>\n",
       "      <th>county</th>\n",
       "      <th>latitude</th>\n",
       "      <th>longitude</th>\n",
       "      <th>record_ID</th>\n",
       "      <th>notes</th>\n",
       "      <th>status_name</th>\n",
       "      <th>is_batch_file</th>\n",
       "    </tr>\n",
       "  </thead>\n",
       "  <tbody>\n",
       "    <tr>\n",
       "      <th>4</th>\n",
       "      <td>WD2008-0113</td>\n",
       "      <td>08N10W35</td>\n",
       "      <td>201</td>\n",
       "      <td>Clatsop</td>\n",
       "      <td>46.137236</td>\n",
       "      <td>-123.874483</td>\n",
       "      <td>4978</td>\n",
       "      <td>NaN</td>\n",
       "      <td>Approved</td>\n",
       "      <td>N</td>\n",
       "    </tr>\n",
       "    <tr>\n",
       "      <th>5</th>\n",
       "      <td>WD2008-0113</td>\n",
       "      <td>08N10W35</td>\n",
       "      <td>201</td>\n",
       "      <td>Clatsop</td>\n",
       "      <td>46.137236</td>\n",
       "      <td>-123.874483</td>\n",
       "      <td>4980</td>\n",
       "      <td>NaN</td>\n",
       "      <td>Approved</td>\n",
       "      <td>N</td>\n",
       "    </tr>\n",
       "    <tr>\n",
       "      <th>6</th>\n",
       "      <td>WD2008-0113</td>\n",
       "      <td>08N10W35</td>\n",
       "      <td>201</td>\n",
       "      <td>Clatsop</td>\n",
       "      <td>46.137236</td>\n",
       "      <td>-123.874483</td>\n",
       "      <td>4979</td>\n",
       "      <td>NaN</td>\n",
       "      <td>Approved</td>\n",
       "      <td>N</td>\n",
       "    </tr>\n",
       "  </tbody>\n",
       "</table>\n",
       "</div>"
      ],
      "text/plain": [
       "  wetdet_delin_number     trsqq parcel_id   county   latitude   longitude  \\\n",
       "4         WD2008-0113  08N10W35       201  Clatsop  46.137236 -123.874483   \n",
       "5         WD2008-0113  08N10W35       201  Clatsop  46.137236 -123.874483   \n",
       "6         WD2008-0113  08N10W35       201  Clatsop  46.137236 -123.874483   \n",
       "\n",
       "   record_ID  notes status_name is_batch_file  \n",
       "4       4978    NaN    Approved             N  \n",
       "5       4980    NaN    Approved             N  \n",
       "6       4979    NaN    Approved             N  "
      ]
     },
     "execution_count": 199,
     "metadata": {},
     "output_type": "execute_result"
    }
   ],
   "source": [
    "r1df.loc[r1df.wetdet_delin_number == wdIDs[i], ['wetdet_delin_number', 'trsqq', 'parcel_id', 'county', \n",
    "                                                'latitude', 'longitude', 'record_ID', 'notes', 'status_name', 'is_batch_file']]"
   ]
  },
  {
   "cell_type": "code",
   "execution_count": 200,
   "id": "86eabd8f",
   "metadata": {},
   "outputs": [],
   "source": [
    "url = r1df.loc[r1df.wetdet_delin_number == wdIDs[i], 'DecisionLink'].values[0]\n",
    "if str(url) == 'nan':\n",
    "    print('Decision link is not available')\n",
    "else:\n",
    "    webbrowser.open(url)"
   ]
  },
  {
   "cell_type": "code",
   "execution_count": 194,
   "id": "1d0a66e5",
   "metadata": {},
   "outputs": [],
   "source": [
    "j=0"
   ]
  },
  {
   "cell_type": "code",
   "execution_count": 202,
   "id": "232e50d2",
   "metadata": {},
   "outputs": [],
   "source": [
    "sel = r1df.wetdet_delin_number == wdIDs[i]"
   ]
  },
  {
   "cell_type": "code",
   "execution_count": 254,
   "id": "d503d061",
   "metadata": {},
   "outputs": [],
   "source": [
    "j = j + 1"
   ]
  },
  {
   "cell_type": "code",
   "execution_count": 427,
   "id": "8e4fce3f",
   "metadata": {},
   "outputs": [
    {
     "data": {
      "text/plain": [
       "1"
      ]
     },
     "execution_count": 427,
     "metadata": {},
     "output_type": "execute_result"
    }
   ],
   "source": [
    "j"
   ]
  },
  {
   "cell_type": "code",
   "execution_count": 203,
   "id": "99b38a72",
   "metadata": {},
   "outputs": [
    {
     "name": "stdout",
     "output_type": "stream",
     "text": [
      "reviewing WD2008-0113\n",
      "there is not any matched lot, need to review trsqq, the close-match is 08N10W36\n",
      "lots to check: ['201'], and lots to compare: ['100', '200', '300', '500', '1706', '1800', '1900', '1901', '2000', '2001', '2100', '2101', '2400', '2500', '2600', '2700', '2701', '2704', '2707', '2900', '3000', 'ROADS', 'WATER']\n",
      "('to review', 'there is not any matched lot, need to review trsqq, the close-match is 08N10W36')\n"
     ]
    }
   ],
   "source": [
    "crt = review_wd_record_w_coord(wd_id=wdIDs[i], \n",
    "                         county_to_check=r1df.loc[sel, 'county'].values[j], \n",
    "                         trsqq_to_check=r1df.loc[sel, 'trsqq'].values[j], \n",
    "                         parcel_IDs_to_check=r1df.loc[sel, 'parcel_id'].values[j], \n",
    "                         lon=r1df.loc[sel, 'longitude'].values[j], \n",
    "                         lat=r1df.loc[sel, 'latitude'].values[j], \n",
    "                         taxlot=all_taxlot, \n",
    "                         year=r1df.loc[sel, 'IDyear'].values[j])\n",
    "print(crt)"
   ]
  },
  {
   "cell_type": "code",
   "execution_count": 204,
   "id": "8d2053ed",
   "metadata": {},
   "outputs": [
    {
     "data": {
      "text/html": [
       "<div>\n",
       "<style scoped>\n",
       "    .dataframe tbody tr th:only-of-type {\n",
       "        vertical-align: middle;\n",
       "    }\n",
       "\n",
       "    .dataframe tbody tr th {\n",
       "        vertical-align: top;\n",
       "    }\n",
       "\n",
       "    .dataframe thead th {\n",
       "        text-align: right;\n",
       "    }\n",
       "</style>\n",
       "<table border=\"1\" class=\"dataframe\">\n",
       "  <thead>\n",
       "    <tr style=\"text-align: right;\">\n",
       "      <th></th>\n",
       "      <th>Longitude</th>\n",
       "      <th>Latitude</th>\n",
       "      <th>geometry</th>\n",
       "    </tr>\n",
       "  </thead>\n",
       "  <tbody>\n",
       "    <tr>\n",
       "      <th>0</th>\n",
       "      <td>-123.874483</td>\n",
       "      <td>46.137236</td>\n",
       "      <td>POINT (456831.787 1616930.213)</td>\n",
       "    </tr>\n",
       "  </tbody>\n",
       "</table>\n",
       "</div>"
      ],
      "text/plain": [
       "    Longitude   Latitude                        geometry\n",
       "0 -123.874483  46.137236  POINT (456831.787 1616930.213)"
      ]
     },
     "execution_count": 204,
     "metadata": {},
     "output_type": "execute_result"
    }
   ],
   "source": [
    "lon=wd.loc[wd.wetdet_delin_number == wdIDs[i], 'longitude'].values[0]\n",
    "lat=wd.loc[wd.wetdet_delin_number == wdIDs[i], 'latitude'].values[0]\n",
    "get_point_from_lonlat(lon=lon, lat=lat)"
   ]
  },
  {
   "cell_type": "code",
   "execution_count": 205,
   "id": "699cc20c",
   "metadata": {},
   "outputs": [],
   "source": [
    "df = pd.DataFrame(columns = ['wetdet_delin_number', 'record_ID', 'field', 'cor_type', 'from', 'to'])"
   ]
  },
  {
   "cell_type": "code",
   "execution_count": 206,
   "id": "efbc2870",
   "metadata": {},
   "outputs": [
    {
     "data": {
      "text/plain": [
       "'WD2008-0113'"
      ]
     },
     "execution_count": 206,
     "metadata": {},
     "output_type": "execute_result"
    }
   ],
   "source": [
    "wdIDs[i]"
   ]
  },
  {
   "cell_type": "code",
   "execution_count": 207,
   "id": "87666fb8",
   "metadata": {},
   "outputs": [],
   "source": [
    "df = df.append({'wetdet_delin_number': wdIDs[i],\n",
    "                'record_ID': r1df.loc[sel, 'record_ID'].values[j],\n",
    "                'field': 'trsqq', \n",
    "                'cor_type': 'section number', \n",
    "                'from': '35', \n",
    "                'to': '36'},\n",
    "        ignore_index = True)"
   ]
  },
  {
   "cell_type": "code",
   "execution_count": 208,
   "id": "8c14970e",
   "metadata": {},
   "outputs": [],
   "source": [
    "df = df.append({'wetdet_delin_number': wdIDs[i],\n",
    "                'record_ID': r1df.loc[sel, 'record_ID'].values[j],\n",
    "                'field': 'parcel_id', \n",
    "                'cor_type': 'parcel id', \n",
    "                'from': '201', \n",
    "                'to': '2400'},\n",
    "        ignore_index = True)"
   ]
  },
  {
   "cell_type": "code",
   "execution_count": 209,
   "id": "d17298ba",
   "metadata": {},
   "outputs": [
    {
     "data": {
      "text/html": [
       "<div>\n",
       "<style scoped>\n",
       "    .dataframe tbody tr th:only-of-type {\n",
       "        vertical-align: middle;\n",
       "    }\n",
       "\n",
       "    .dataframe tbody tr th {\n",
       "        vertical-align: top;\n",
       "    }\n",
       "\n",
       "    .dataframe thead th {\n",
       "        text-align: right;\n",
       "    }\n",
       "</style>\n",
       "<table border=\"1\" class=\"dataframe\">\n",
       "  <thead>\n",
       "    <tr style=\"text-align: right;\">\n",
       "      <th></th>\n",
       "      <th>wetdet_delin_number</th>\n",
       "      <th>record_ID</th>\n",
       "      <th>field</th>\n",
       "      <th>cor_type</th>\n",
       "      <th>from</th>\n",
       "      <th>to</th>\n",
       "    </tr>\n",
       "  </thead>\n",
       "  <tbody>\n",
       "    <tr>\n",
       "      <th>0</th>\n",
       "      <td>WD2008-0113</td>\n",
       "      <td>4978</td>\n",
       "      <td>trsqq</td>\n",
       "      <td>section number</td>\n",
       "      <td>35</td>\n",
       "      <td>36</td>\n",
       "    </tr>\n",
       "    <tr>\n",
       "      <th>1</th>\n",
       "      <td>WD2008-0113</td>\n",
       "      <td>4978</td>\n",
       "      <td>parcel_id</td>\n",
       "      <td>parcel id</td>\n",
       "      <td>201</td>\n",
       "      <td>2400</td>\n",
       "    </tr>\n",
       "  </tbody>\n",
       "</table>\n",
       "</div>"
      ],
      "text/plain": [
       "  wetdet_delin_number record_ID      field        cor_type from    to\n",
       "0         WD2008-0113      4978      trsqq  section number   35    36\n",
       "1         WD2008-0113      4978  parcel_id       parcel id  201  2400"
      ]
     },
     "execution_count": 209,
     "metadata": {},
     "output_type": "execute_result"
    }
   ],
   "source": [
    "df"
   ]
  },
  {
   "cell_type": "code",
   "execution_count": 210,
   "id": "51b98347",
   "metadata": {},
   "outputs": [
    {
     "data": {
      "text/plain": [
       "'N'"
      ]
     },
     "execution_count": 210,
     "metadata": {},
     "output_type": "execute_result"
    }
   ],
   "source": [
    "ml"
   ]
  },
  {
   "cell_type": "code",
   "execution_count": 263,
   "id": "cc0aca04",
   "metadata": {},
   "outputs": [],
   "source": [
    "ml = 'N'"
   ]
  },
  {
   "cell_type": "code",
   "execution_count": 211,
   "id": "a2d896f7",
   "metadata": {},
   "outputs": [],
   "source": [
    "df.to_csv(os.path.join(inpath + '\\\\output\\\\to_review\\\\', f'unmatched_df_{setID}_r1_{ml}_notes.csv'), index=False)"
   ]
  }
 ],
 "metadata": {
  "kernelspec": {
   "display_name": "Python 3",
   "language": "python",
   "name": "python3"
  },
  "language_info": {
   "codemirror_mode": {
    "name": "ipython",
    "version": 3
   },
   "file_extension": ".py",
   "mimetype": "text/x-python",
   "name": "python",
   "nbconvert_exporter": "python",
   "pygments_lexer": "ipython3",
   "version": "3.8.8"
  }
 },
 "nbformat": 4,
 "nbformat_minor": 5
}
