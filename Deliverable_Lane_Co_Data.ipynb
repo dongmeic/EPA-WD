{
 "cells": [
  {
   "cell_type": "code",
   "execution_count": 1,
   "id": "e1827e5c",
   "metadata": {},
   "outputs": [],
   "source": [
    "%load_ext autoreload\n",
    "%autoreload 2"
   ]
  },
  {
   "cell_type": "code",
   "execution_count": 2,
   "id": "ebb676cc",
   "metadata": {},
   "outputs": [],
   "source": [
    "from wdtools import *"
   ]
  },
  {
   "cell_type": "code",
   "execution_count": 3,
   "id": "a9f36f49",
   "metadata": {},
   "outputs": [],
   "source": [
    "all_mapIdx = read_all_mapIdx()"
   ]
  },
  {
   "cell_type": "code",
   "execution_count": 50,
   "id": "0006f375",
   "metadata": {},
   "outputs": [],
   "source": [
    "Lane = gpd.read_file(fr'{inpath}\\GIS\\Join_LaneCounty.gdb', layer='WDs_LaneCo_Complete')"
   ]
  },
  {
   "cell_type": "code",
   "execution_count": 5,
   "id": "74daf9c2",
   "metadata": {},
   "outputs": [
    {
     "data": {
      "text/plain": [
       "(2488, 26)"
      ]
     },
     "execution_count": 5,
     "metadata": {},
     "output_type": "execute_result"
    }
   ],
   "source": [
    "Lane.shape"
   ]
  },
  {
   "cell_type": "code",
   "execution_count": 6,
   "id": "99e2cf43",
   "metadata": {},
   "outputs": [
    {
     "data": {
      "text/plain": [
       "1646"
      ]
     },
     "execution_count": 6,
     "metadata": {},
     "output_type": "execute_result"
    }
   ],
   "source": [
    "len(Lane.wetdet_delin_number.unique())"
   ]
  },
  {
   "cell_type": "code",
   "execution_count": 7,
   "id": "aab73429",
   "metadata": {},
   "outputs": [
    {
     "data": {
      "text/plain": [
       "Index(['wetdet_delin_number', 'trsqq', 'parcel_id', 'address_location_desc',\n",
       "       'city', 'county', 'site_name', 'site_desc', 'latitude', 'longitude',\n",
       "       'Coord_Source', 'DocumentName', 'DecisionLink', 'is_batch_file',\n",
       "       'status_name', 'received_date', 'response_date',\n",
       "       'reissuance_response_date', 'project_id', 'site_id', 'latitude_NewCalc',\n",
       "       'longitude_NewCalc', 'NewLatLongCoordSource', 'Shape_Length',\n",
       "       'Shape_Area', 'geometry'],\n",
       "      dtype='object')"
      ]
     },
     "execution_count": 7,
     "metadata": {},
     "output_type": "execute_result"
    }
   ],
   "source": [
    "Lane.columns"
   ]
  },
  {
   "cell_type": "code",
   "execution_count": 8,
   "id": "12f621b7",
   "metadata": {},
   "outputs": [],
   "source": [
    "def create_code(x):\n",
    "    if x == 'Portion of study area in trsqq Automated mapping':\n",
    "        res = 1\n",
    "    elif x == 'Entire StudyArea':\n",
    "        res = 2\n",
    "    elif x == 'ORTaxMap-StudyArea Intersect':\n",
    "        res = 0\n",
    "    else:\n",
    "        res = 0\n",
    "    return res"
   ]
  },
  {
   "cell_type": "code",
   "execution_count": 51,
   "id": "06023b4a",
   "metadata": {},
   "outputs": [],
   "source": [
    "Lane.loc[:, 'code'] = Lane.NewLatLongCoordSource.apply(lambda x: create_code(x))"
   ]
  },
  {
   "cell_type": "code",
   "execution_count": 10,
   "id": "4da1242a",
   "metadata": {},
   "outputs": [
    {
     "data": {
      "text/plain": [
       "array(['Portion of study area in trsqq Automated mapping',\n",
       "       'Entire StudyArea', 'ORTaxMap-StudyArea Intersect'], dtype=object)"
      ]
     },
     "execution_count": 10,
     "metadata": {},
     "output_type": "execute_result"
    }
   ],
   "source": [
    "Lane.NewLatLongCoordSource.unique()"
   ]
  },
  {
   "cell_type": "code",
   "execution_count": 52,
   "id": "225fb066",
   "metadata": {},
   "outputs": [],
   "source": [
    "Lane.loc[:, 'county'] = 'Lane'"
   ]
  },
  {
   "cell_type": "code",
   "execution_count": 53,
   "id": "11cec123",
   "metadata": {},
   "outputs": [],
   "source": [
    "Lane.loc[:, 'trsqq'] = Lane.trsqq.apply(lambda x: x.upper())"
   ]
  },
  {
   "cell_type": "code",
   "execution_count": 13,
   "id": "7f72b74a",
   "metadata": {},
   "outputs": [],
   "source": [
    "gdf = Lane.dissolve('wetdet_delin_number')\n",
    "gdf['wdID'] = gdf.index\n",
    "gdf.reset_index(drop=True, inplace=True)"
   ]
  },
  {
   "cell_type": "code",
   "execution_count": 14,
   "id": "0e568e11",
   "metadata": {
    "scrolled": true
   },
   "outputs": [
    {
     "data": {
      "text/plain": [
       "(1646, 27)"
      ]
     },
     "execution_count": 14,
     "metadata": {},
     "output_type": "execute_result"
    }
   ],
   "source": [
    "gdf.shape"
   ]
  },
  {
   "cell_type": "code",
   "execution_count": 15,
   "id": "602c383d",
   "metadata": {},
   "outputs": [],
   "source": [
    "code_df = Lane[['wetdet_delin_number', 'code']].drop_duplicates()"
   ]
  },
  {
   "cell_type": "code",
   "execution_count": 16,
   "id": "bee0ae02",
   "metadata": {},
   "outputs": [
    {
     "data": {
      "text/plain": [
       "(1742, 2)"
      ]
     },
     "execution_count": 16,
     "metadata": {},
     "output_type": "execute_result"
    }
   ],
   "source": [
    "code_df.shape"
   ]
  },
  {
   "cell_type": "code",
   "execution_count": 17,
   "id": "536e333e",
   "metadata": {},
   "outputs": [],
   "source": [
    "wdlist = code_df[code_df.wetdet_delin_number.duplicated()].wetdet_delin_number.unique()"
   ]
  },
  {
   "cell_type": "code",
   "execution_count": 18,
   "id": "37caa0cc",
   "metadata": {},
   "outputs": [],
   "source": [
    "code_df.loc[code_df.wetdet_delin_number.isin(wdlist), 'code'] = 1"
   ]
  },
  {
   "cell_type": "code",
   "execution_count": 19,
   "id": "3bcd112e",
   "metadata": {},
   "outputs": [],
   "source": [
    "code_df = code_df[['wetdet_delin_number', 'code']].drop_duplicates()"
   ]
  },
  {
   "cell_type": "code",
   "execution_count": 20,
   "id": "1d0f957f",
   "metadata": {},
   "outputs": [
    {
     "data": {
      "text/plain": [
       "(1646, 2)"
      ]
     },
     "execution_count": 20,
     "metadata": {},
     "output_type": "execute_result"
    }
   ],
   "source": [
    "code_df.shape"
   ]
  },
  {
   "cell_type": "code",
   "execution_count": 21,
   "id": "187d5162",
   "metadata": {},
   "outputs": [],
   "source": [
    "code_df.rename(columns={'wetdet_delin_number': 'wdID'}, inplace=True)"
   ]
  },
  {
   "cell_type": "code",
   "execution_count": 22,
   "id": "8961874e",
   "metadata": {},
   "outputs": [],
   "source": [
    "gdf.drop(columns=['code'], inplace=True)"
   ]
  },
  {
   "cell_type": "code",
   "execution_count": 23,
   "id": "ba88c3a5",
   "metadata": {},
   "outputs": [],
   "source": [
    "gdf = gdf.merge(code_df, on='wdID')"
   ]
  },
  {
   "cell_type": "code",
   "execution_count": 24,
   "id": "b42a261b",
   "metadata": {},
   "outputs": [
    {
     "data": {
      "text/plain": [
       "(1646, 27)"
      ]
     },
     "execution_count": 24,
     "metadata": {},
     "output_type": "execute_result"
    }
   ],
   "source": [
    "gdf.shape"
   ]
  },
  {
   "cell_type": "code",
   "execution_count": 25,
   "id": "5d2be007",
   "metadata": {},
   "outputs": [],
   "source": [
    "Lane22 = gpd.read_file(fr'{inpath}\\output\\final\\Lane_2022.shp')"
   ]
  },
  {
   "cell_type": "code",
   "execution_count": 26,
   "id": "7c73bf46",
   "metadata": {},
   "outputs": [
    {
     "data": {
      "text/plain": [
       "(19, 3)"
      ]
     },
     "execution_count": 26,
     "metadata": {},
     "output_type": "execute_result"
    }
   ],
   "source": [
    "Lane22.shape"
   ]
  },
  {
   "cell_type": "code",
   "execution_count": 27,
   "id": "4eafe3e8",
   "metadata": {},
   "outputs": [
    {
     "data": {
      "text/plain": [
       "Index(['code', 'wdID', 'geometry'], dtype='object')"
      ]
     },
     "execution_count": 27,
     "metadata": {},
     "output_type": "execute_result"
    }
   ],
   "source": [
    "Lane22.columns"
   ]
  },
  {
   "cell_type": "code",
   "execution_count": 28,
   "id": "1bc5a389",
   "metadata": {},
   "outputs": [],
   "source": [
    "setID = 'Set006'; nm_to_add = 4370"
   ]
  },
  {
   "cell_type": "code",
   "execution_count": 29,
   "id": "c496eb9e",
   "metadata": {},
   "outputs": [],
   "source": [
    "wd = combine_wd_tables(setID=setID, nm_to_add=nm_to_add, raw=False)"
   ]
  },
  {
   "cell_type": "code",
   "execution_count": 30,
   "id": "77f4c097",
   "metadata": {},
   "outputs": [],
   "source": [
    "colnms = [colnm for colnm in Lane.columns if colnm in wd.columns]"
   ]
  },
  {
   "cell_type": "code",
   "execution_count": 31,
   "id": "a452af98",
   "metadata": {},
   "outputs": [],
   "source": [
    "df = wd[wd.wetdet_delin_number.isin(Lane22.wdID.unique())]"
   ]
  },
  {
   "cell_type": "code",
   "execution_count": 63,
   "id": "a8e766b3",
   "metadata": {},
   "outputs": [
    {
     "data": {
      "text/plain": [
       "(20, 27)"
      ]
     },
     "execution_count": 63,
     "metadata": {},
     "output_type": "execute_result"
    }
   ],
   "source": [
    "df.shape"
   ]
  },
  {
   "cell_type": "code",
   "execution_count": 84,
   "id": "950305d4",
   "metadata": {},
   "outputs": [],
   "source": [
    "sa_gdf0, sa_gdf1, sa_df2, sa_df3, sa_gdf4 = join_WD_with_SA_by_taxmap(df=df, gdf=Lane22, mapindex=all_mapIdx)"
   ]
  },
  {
   "cell_type": "code",
   "execution_count": 66,
   "id": "70e0a497",
   "metadata": {},
   "outputs": [
    {
     "data": {
      "text/plain": [
       "19"
      ]
     },
     "execution_count": 66,
     "metadata": {},
     "output_type": "execute_result"
    }
   ],
   "source": [
    "len(sa_gdf0.wdID.unique())"
   ]
  },
  {
   "cell_type": "code",
   "execution_count": 38,
   "id": "9174a1fb",
   "metadata": {},
   "outputs": [
    {
     "data": {
      "text/plain": [
       "Index(['wdID', 'trsqq', 'address_location_desc', 'city', 'county', 'site_name',\n",
       "       'site_desc', 'latitude', 'longitude', 'DocumentName', 'DecisionLink',\n",
       "       'is_batch_file', 'status_name', 'received_date', 'response_date',\n",
       "       'reissuance_response_date', 'project_id', 'ORMapNum', 'record_ID',\n",
       "       'parcel_id', 'site_id', 'geometry', 'lat', 'lon', 'code', 'match'],\n",
       "      dtype='object')"
      ]
     },
     "execution_count": 38,
     "metadata": {},
     "output_type": "execute_result"
    }
   ],
   "source": [
    "sa_gdf0.columns"
   ]
  },
  {
   "cell_type": "code",
   "execution_count": 67,
   "id": "3cca3c9e",
   "metadata": {},
   "outputs": [
    {
     "data": {
      "text/plain": [
       "array([0], dtype=int64)"
      ]
     },
     "execution_count": 67,
     "metadata": {},
     "output_type": "execute_result"
    }
   ],
   "source": [
    "sa_gdf0.match.unique()"
   ]
  },
  {
   "cell_type": "code",
   "execution_count": 54,
   "id": "74cc53b0",
   "metadata": {},
   "outputs": [
    {
     "data": {
      "text/html": [
       "<div>\n",
       "<style scoped>\n",
       "    .dataframe tbody tr th:only-of-type {\n",
       "        vertical-align: middle;\n",
       "    }\n",
       "\n",
       "    .dataframe tbody tr th {\n",
       "        vertical-align: top;\n",
       "    }\n",
       "\n",
       "    .dataframe thead th {\n",
       "        text-align: right;\n",
       "    }\n",
       "</style>\n",
       "<table border=\"1\" class=\"dataframe\">\n",
       "  <thead>\n",
       "    <tr style=\"text-align: right;\">\n",
       "      <th></th>\n",
       "      <th>wetdet_delin_number</th>\n",
       "      <th>trsqq</th>\n",
       "      <th>parcel_id</th>\n",
       "      <th>address_location_desc</th>\n",
       "      <th>city</th>\n",
       "      <th>county</th>\n",
       "      <th>site_name</th>\n",
       "      <th>site_desc</th>\n",
       "      <th>latitude</th>\n",
       "      <th>longitude</th>\n",
       "      <th>...</th>\n",
       "      <th>reissuance_response_date</th>\n",
       "      <th>project_id</th>\n",
       "      <th>site_id</th>\n",
       "      <th>latitude_NewCalc</th>\n",
       "      <th>longitude_NewCalc</th>\n",
       "      <th>NewLatLongCoordSource</th>\n",
       "      <th>Shape_Length</th>\n",
       "      <th>Shape_Area</th>\n",
       "      <th>geometry</th>\n",
       "      <th>code</th>\n",
       "    </tr>\n",
       "  </thead>\n",
       "  <tbody>\n",
       "    <tr>\n",
       "      <th>1168</th>\n",
       "      <td>WD1997-0301</td>\n",
       "      <td></td>\n",
       "      <td>3300</td>\n",
       "      <td></td>\n",
       "      <td>EUGENE</td>\n",
       "      <td>Lane</td>\n",
       "      <td>- 17S04W26</td>\n",
       "      <td></td>\n",
       "      <td>45.59632</td>\n",
       "      <td>-122.609</td>\n",
       "      <td>...</td>\n",
       "      <td>None</td>\n",
       "      <td>29715.0</td>\n",
       "      <td>70181</td>\n",
       "      <td>44.05579</td>\n",
       "      <td>-123.133392</td>\n",
       "      <td>Entire StudyArea</td>\n",
       "      <td>2459.014942</td>\n",
       "      <td>299905.379889</td>\n",
       "      <td>MULTIPOLYGON (((620433.897 851135.865, 620160....</td>\n",
       "      <td>2</td>\n",
       "    </tr>\n",
       "  </tbody>\n",
       "</table>\n",
       "<p>1 rows × 27 columns</p>\n",
       "</div>"
      ],
      "text/plain": [
       "     wetdet_delin_number trsqq parcel_id address_location_desc    city county  \\\n",
       "1168         WD1997-0301            3300                        EUGENE   Lane   \n",
       "\n",
       "       site_name site_desc  latitude  longitude  ... reissuance_response_date  \\\n",
       "1168  - 17S04W26            45.59632   -122.609  ...                     None   \n",
       "\n",
       "     project_id site_id latitude_NewCalc longitude_NewCalc  \\\n",
       "1168    29715.0   70181         44.05579       -123.133392   \n",
       "\n",
       "     NewLatLongCoordSource Shape_Length     Shape_Area  \\\n",
       "1168      Entire StudyArea  2459.014942  299905.379889   \n",
       "\n",
       "                                               geometry  code  \n",
       "1168  MULTIPOLYGON (((620433.897 851135.865, 620160....     2  \n",
       "\n",
       "[1 rows x 27 columns]"
      ]
     },
     "execution_count": 54,
     "metadata": {},
     "output_type": "execute_result"
    }
   ],
   "source": [
    "Lane[Lane.trsqq== '']"
   ]
  },
  {
   "cell_type": "code",
   "execution_count": 40,
   "id": "50353506",
   "metadata": {},
   "outputs": [
    {
     "data": {
      "text/html": [
       "<div>\n",
       "<style scoped>\n",
       "    .dataframe tbody tr th:only-of-type {\n",
       "        vertical-align: middle;\n",
       "    }\n",
       "\n",
       "    .dataframe tbody tr th {\n",
       "        vertical-align: top;\n",
       "    }\n",
       "\n",
       "    .dataframe thead th {\n",
       "        text-align: right;\n",
       "    }\n",
       "</style>\n",
       "<table border=\"1\" class=\"dataframe\">\n",
       "  <thead>\n",
       "    <tr style=\"text-align: right;\">\n",
       "      <th></th>\n",
       "      <th>wetdet_delin_number</th>\n",
       "      <th>trsqq</th>\n",
       "      <th>parcel_id</th>\n",
       "      <th>address_location_desc</th>\n",
       "      <th>city</th>\n",
       "      <th>county</th>\n",
       "      <th>site_name</th>\n",
       "      <th>site_desc</th>\n",
       "      <th>latitude</th>\n",
       "      <th>longitude</th>\n",
       "      <th>...</th>\n",
       "      <th>reissuance_response_date</th>\n",
       "      <th>project_id</th>\n",
       "      <th>site_id</th>\n",
       "      <th>latitude_NewCalc</th>\n",
       "      <th>longitude_NewCalc</th>\n",
       "      <th>NewLatLongCoordSource</th>\n",
       "      <th>Shape_Length</th>\n",
       "      <th>Shape_Area</th>\n",
       "      <th>geometry</th>\n",
       "      <th>code</th>\n",
       "    </tr>\n",
       "  </thead>\n",
       "  <tbody>\n",
       "    <tr>\n",
       "      <th>1166</th>\n",
       "      <td>WD1997-0301</td>\n",
       "      <td>17S04W26</td>\n",
       "      <td>2902</td>\n",
       "      <td></td>\n",
       "      <td>EUGENE</td>\n",
       "      <td>Lane</td>\n",
       "      <td>- 17S04W26</td>\n",
       "      <td></td>\n",
       "      <td>44.06248</td>\n",
       "      <td>-123.138</td>\n",
       "      <td>...</td>\n",
       "      <td>None</td>\n",
       "      <td>29715.0</td>\n",
       "      <td>33057</td>\n",
       "      <td>44.05579</td>\n",
       "      <td>-123.133392</td>\n",
       "      <td>Entire StudyArea</td>\n",
       "      <td>2459.014942</td>\n",
       "      <td>299905.379889</td>\n",
       "      <td>MULTIPOLYGON (((620433.897 851135.865, 620160....</td>\n",
       "      <td>2</td>\n",
       "    </tr>\n",
       "    <tr>\n",
       "      <th>1167</th>\n",
       "      <td>WD1997-0301</td>\n",
       "      <td>17S04W26</td>\n",
       "      <td>2902</td>\n",
       "      <td></td>\n",
       "      <td>EUGENE</td>\n",
       "      <td>Lane</td>\n",
       "      <td>- 17S04W26</td>\n",
       "      <td></td>\n",
       "      <td>44.06248</td>\n",
       "      <td>-123.138</td>\n",
       "      <td>...</td>\n",
       "      <td>None</td>\n",
       "      <td>29715.0</td>\n",
       "      <td>70180</td>\n",
       "      <td>44.05579</td>\n",
       "      <td>-123.133392</td>\n",
       "      <td>Entire StudyArea</td>\n",
       "      <td>2459.014942</td>\n",
       "      <td>299905.379889</td>\n",
       "      <td>MULTIPOLYGON (((620433.897 851135.865, 620160....</td>\n",
       "      <td>2</td>\n",
       "    </tr>\n",
       "    <tr>\n",
       "      <th>1168</th>\n",
       "      <td>WD1997-0301</td>\n",
       "      <td></td>\n",
       "      <td>3300</td>\n",
       "      <td></td>\n",
       "      <td>EUGENE</td>\n",
       "      <td>Lane</td>\n",
       "      <td>- 17S04W26</td>\n",
       "      <td></td>\n",
       "      <td>45.59632</td>\n",
       "      <td>-122.609</td>\n",
       "      <td>...</td>\n",
       "      <td>None</td>\n",
       "      <td>29715.0</td>\n",
       "      <td>70181</td>\n",
       "      <td>44.05579</td>\n",
       "      <td>-123.133392</td>\n",
       "      <td>Entire StudyArea</td>\n",
       "      <td>2459.014942</td>\n",
       "      <td>299905.379889</td>\n",
       "      <td>MULTIPOLYGON (((620433.897 851135.865, 620160....</td>\n",
       "      <td>2</td>\n",
       "    </tr>\n",
       "  </tbody>\n",
       "</table>\n",
       "<p>3 rows × 27 columns</p>\n",
       "</div>"
      ],
      "text/plain": [
       "     wetdet_delin_number     trsqq parcel_id address_location_desc    city  \\\n",
       "1166         WD1997-0301  17S04W26      2902                        EUGENE   \n",
       "1167         WD1997-0301  17S04W26      2902                        EUGENE   \n",
       "1168         WD1997-0301                3300                        EUGENE   \n",
       "\n",
       "     county   site_name site_desc  latitude  longitude  ...  \\\n",
       "1166   Lane  - 17S04W26            44.06248   -123.138  ...   \n",
       "1167   Lane  - 17S04W26            44.06248   -123.138  ...   \n",
       "1168   Lane  - 17S04W26            45.59632   -122.609  ...   \n",
       "\n",
       "     reissuance_response_date project_id site_id latitude_NewCalc  \\\n",
       "1166                     None    29715.0   33057         44.05579   \n",
       "1167                     None    29715.0   70180         44.05579   \n",
       "1168                     None    29715.0   70181         44.05579   \n",
       "\n",
       "     longitude_NewCalc NewLatLongCoordSource Shape_Length     Shape_Area  \\\n",
       "1166       -123.133392      Entire StudyArea  2459.014942  299905.379889   \n",
       "1167       -123.133392      Entire StudyArea  2459.014942  299905.379889   \n",
       "1168       -123.133392      Entire StudyArea  2459.014942  299905.379889   \n",
       "\n",
       "                                               geometry  code  \n",
       "1166  MULTIPOLYGON (((620433.897 851135.865, 620160....     2  \n",
       "1167  MULTIPOLYGON (((620433.897 851135.865, 620160....     2  \n",
       "1168  MULTIPOLYGON (((620433.897 851135.865, 620160....     2  \n",
       "\n",
       "[3 rows x 27 columns]"
      ]
     },
     "execution_count": 40,
     "metadata": {},
     "output_type": "execute_result"
    }
   ],
   "source": [
    "Lane[Lane.wetdet_delin_number == 'WD1997-0301']"
   ]
  },
  {
   "cell_type": "code",
   "execution_count": 55,
   "id": "03cc1675",
   "metadata": {},
   "outputs": [],
   "source": [
    "Lane.loc[Lane.trsqq == '', 'trsqq'] = '17S04W26'"
   ]
  },
  {
   "cell_type": "code",
   "execution_count": 56,
   "id": "385db35e",
   "metadata": {},
   "outputs": [],
   "source": [
    "ndf = Lane[colnms]\n",
    "ndf.loc[:, 'record_ID'] = list(range(1, ndf.shape[0]+1))"
   ]
  },
  {
   "cell_type": "code",
   "execution_count": 43,
   "id": "00589fe8",
   "metadata": {},
   "outputs": [
    {
     "data": {
      "text/plain": [
       "1646"
      ]
     },
     "execution_count": 43,
     "metadata": {},
     "output_type": "execute_result"
    }
   ],
   "source": [
    "len(ndf.wetdet_delin_number.unique())"
   ]
  },
  {
   "cell_type": "code",
   "execution_count": 44,
   "id": "559205e9",
   "metadata": {},
   "outputs": [
    {
     "data": {
      "text/plain": [
       "Index(['geometry', 'trsqq', 'parcel_id', 'address_location_desc', 'city',\n",
       "       'county', 'site_name', 'site_desc', 'latitude', 'longitude',\n",
       "       'Coord_Source', 'DocumentName', 'DecisionLink', 'is_batch_file',\n",
       "       'status_name', 'received_date', 'response_date',\n",
       "       'reissuance_response_date', 'project_id', 'site_id', 'latitude_NewCalc',\n",
       "       'longitude_NewCalc', 'NewLatLongCoordSource', 'Shape_Length',\n",
       "       'Shape_Area', 'wdID', 'code'],\n",
       "      dtype='object')"
      ]
     },
     "execution_count": 44,
     "metadata": {},
     "output_type": "execute_result"
    }
   ],
   "source": [
    "gdf.columns"
   ]
  },
  {
   "cell_type": "code",
   "execution_count": 45,
   "id": "785ce7cc",
   "metadata": {},
   "outputs": [],
   "source": [
    "gdf = gdf[Lane22.columns]\n",
    "gdf = gdf.to_crs(epsg=2992)"
   ]
  },
  {
   "cell_type": "code",
   "execution_count": 46,
   "id": "3430dffe",
   "metadata": {},
   "outputs": [
    {
     "data": {
      "text/plain": [
       "(1646, 3)"
      ]
     },
     "execution_count": 46,
     "metadata": {},
     "output_type": "execute_result"
    }
   ],
   "source": [
    "gdf.shape"
   ]
  },
  {
   "cell_type": "code",
   "execution_count": 47,
   "id": "698e78be",
   "metadata": {},
   "outputs": [
    {
     "data": {
      "text/plain": [
       "353"
      ]
     },
     "execution_count": 47,
     "metadata": {},
     "output_type": "execute_result"
    }
   ],
   "source": [
    "len(ndf[ndf.wetdet_delin_number.duplicated()].wetdet_delin_number.unique())"
   ]
  },
  {
   "cell_type": "code",
   "execution_count": 57,
   "id": "c4ea3fb5",
   "metadata": {},
   "outputs": [
    {
     "data": {
      "text/plain": [
       "False"
      ]
     },
     "execution_count": 57,
     "metadata": {},
     "output_type": "execute_result"
    }
   ],
   "source": [
    "'' in ndf.trsqq.unique()"
   ]
  },
  {
   "cell_type": "code",
   "execution_count": 154,
   "id": "c1acd73f",
   "metadata": {},
   "outputs": [
    {
     "name": "stdout",
     "output_type": "stream",
     "text": [
      "it took 10.0 minutes to complete\n"
     ]
    }
   ],
   "source": [
    "start = time.time()\n",
    "sa_gdf0L, sa_gdf1L, sa_df2L, sa_df3L, sa_gdf4L = join_WD_with_SA_by_taxmap(df=ndf, gdf=gdf, mapindex=all_mapIdx)\n",
    "end = time.time()\n",
    "print(f'it took {round((end - start)/60, 0)} minutes to complete')"
   ]
  },
  {
   "cell_type": "code",
   "execution_count": 181,
   "id": "dc632228",
   "metadata": {},
   "outputs": [
    {
     "data": {
      "text/html": [
       "<div>\n",
       "<style scoped>\n",
       "    .dataframe tbody tr th:only-of-type {\n",
       "        vertical-align: middle;\n",
       "    }\n",
       "\n",
       "    .dataframe tbody tr th {\n",
       "        vertical-align: top;\n",
       "    }\n",
       "\n",
       "    .dataframe thead th {\n",
       "        text-align: right;\n",
       "    }\n",
       "</style>\n",
       "<table border=\"1\" class=\"dataframe\">\n",
       "  <thead>\n",
       "    <tr style=\"text-align: right;\">\n",
       "      <th></th>\n",
       "      <th>wdID</th>\n",
       "      <th>trsqq</th>\n",
       "      <th>address_location_desc</th>\n",
       "      <th>city</th>\n",
       "      <th>county</th>\n",
       "      <th>site_name</th>\n",
       "      <th>site_desc</th>\n",
       "      <th>latitude</th>\n",
       "      <th>longitude</th>\n",
       "      <th>DocumentName</th>\n",
       "      <th>...</th>\n",
       "      <th>project_id</th>\n",
       "      <th>ORMapNum</th>\n",
       "      <th>record_ID</th>\n",
       "      <th>parcel_id</th>\n",
       "      <th>site_id</th>\n",
       "      <th>geometry</th>\n",
       "      <th>code</th>\n",
       "      <th>lat</th>\n",
       "      <th>lon</th>\n",
       "      <th>match</th>\n",
       "    </tr>\n",
       "  </thead>\n",
       "  <tbody>\n",
       "  </tbody>\n",
       "</table>\n",
       "<p>0 rows × 26 columns</p>\n",
       "</div>"
      ],
      "text/plain": [
       "Empty GeoDataFrame\n",
       "Columns: [wdID, trsqq, address_location_desc, city, county, site_name, site_desc, latitude, longitude, DocumentName, DecisionLink, is_batch_file, status_name, received_date, response_date, reissuance_response_date, project_id, ORMapNum, record_ID, parcel_id, site_id, geometry, code, lat, lon, match]\n",
       "Index: []\n",
       "\n",
       "[0 rows x 26 columns]"
      ]
     },
     "execution_count": 181,
     "metadata": {},
     "output_type": "execute_result"
    }
   ],
   "source": [
    "sa_gdf4L"
   ]
  },
  {
   "cell_type": "code",
   "execution_count": 183,
   "id": "ff1884d0",
   "metadata": {},
   "outputs": [],
   "source": [
    "unmatched = sa_df2L.append(sa_df3L)"
   ]
  },
  {
   "cell_type": "code",
   "execution_count": 186,
   "id": "de04d4fc",
   "metadata": {},
   "outputs": [
    {
     "data": {
      "text/plain": [
       "73"
      ]
     },
     "execution_count": 186,
     "metadata": {},
     "output_type": "execute_result"
    }
   ],
   "source": [
    "len(unmatched.wdID.unique())"
   ]
  },
  {
   "cell_type": "code",
   "execution_count": 155,
   "id": "48fd9123",
   "metadata": {
    "scrolled": true
   },
   "outputs": [
    {
     "data": {
      "text/plain": [
       "(2274, 26)"
      ]
     },
     "execution_count": 155,
     "metadata": {},
     "output_type": "execute_result"
    }
   ],
   "source": [
    "sa_gdf0L.shape"
   ]
  },
  {
   "cell_type": "code",
   "execution_count": 159,
   "id": "4d1386d4",
   "metadata": {},
   "outputs": [],
   "source": [
    "sa_gdfL = sa_gdf0L[(~sa_gdf0L.geometry.isnull()) & (~sa_gdf0L.wdID.isnull())]"
   ]
  },
  {
   "cell_type": "code",
   "execution_count": 160,
   "id": "ad997acf",
   "metadata": {},
   "outputs": [
    {
     "data": {
      "text/plain": [
       "(2199, 26)"
      ]
     },
     "execution_count": 160,
     "metadata": {},
     "output_type": "execute_result"
    }
   ],
   "source": [
    "sa_gdfL.shape"
   ]
  },
  {
   "cell_type": "code",
   "execution_count": 161,
   "id": "1e39ead5",
   "metadata": {},
   "outputs": [
    {
     "data": {
      "text/plain": [
       "array([1, 0, 5, 3, 2, 4], dtype=int64)"
      ]
     },
     "execution_count": 161,
     "metadata": {},
     "output_type": "execute_result"
    }
   ],
   "source": [
    "sa_gdfL.match.unique()"
   ]
  },
  {
   "cell_type": "code",
   "execution_count": 162,
   "id": "82d70961",
   "metadata": {},
   "outputs": [
    {
     "data": {
      "text/plain": [
       "1613"
      ]
     },
     "execution_count": 162,
     "metadata": {},
     "output_type": "execute_result"
    }
   ],
   "source": [
    "len(sa_gdfL.wdID.unique())"
   ]
  },
  {
   "cell_type": "code",
   "execution_count": 164,
   "id": "6dea74c0",
   "metadata": {},
   "outputs": [
    {
     "data": {
      "text/plain": [
       "(136, 6)"
      ]
     },
     "execution_count": 164,
     "metadata": {},
     "output_type": "execute_result"
    }
   ],
   "source": [
    "sa_gdf1L.shape"
   ]
  },
  {
   "cell_type": "code",
   "execution_count": 165,
   "id": "5494a15b",
   "metadata": {},
   "outputs": [
    {
     "data": {
      "text/plain": [
       "33"
      ]
     },
     "execution_count": 165,
     "metadata": {},
     "output_type": "execute_result"
    }
   ],
   "source": [
    "len(sa_gdf1L.wdID.unique())"
   ]
  },
  {
   "cell_type": "code",
   "execution_count": 166,
   "id": "2e2d8b13",
   "metadata": {},
   "outputs": [
    {
     "data": {
      "text/plain": [
       "(138, 21)"
      ]
     },
     "execution_count": 166,
     "metadata": {},
     "output_type": "execute_result"
    }
   ],
   "source": [
    "sa_df3L.shape"
   ]
  },
  {
   "cell_type": "code",
   "execution_count": 94,
   "id": "c06338d3",
   "metadata": {},
   "outputs": [
    {
     "data": {
      "text/plain": [
       "array(['WD1997-0082', 'WD1997-0135', 'WD1997-0479', 'WD1998-0090',\n",
       "       'WD1998-0145', 'WD1998-0373', 'WD1998-0450', 'WD1999-0059',\n",
       "       'WD1999-0209', 'WD2000-0102', 'WD2000-0193', 'WD2000-0573',\n",
       "       'WD2000-0579', 'WD2001-0619', 'WD2002-0178', 'WD2002-0568',\n",
       "       'WD2002-0628', 'WD2003-0008', 'WD2003-0402', 'WD2006-0419',\n",
       "       'WD2008-0140', 'WD2009-0018', 'WD2009-0207', 'WD2011-0055',\n",
       "       'WD2011-0316', 'WD2013-0181', 'WD2013-0289', 'WD2015-0015',\n",
       "       'WD2015-0021', 'WD2015-0465', 'WD2017-0382', 'WD2020-0155',\n",
       "       'WD2020-0484'], dtype=object)"
      ]
     },
     "execution_count": 94,
     "metadata": {},
     "output_type": "execute_result"
    }
   ],
   "source": [
    "sa_gdf1L.wdID.unique()"
   ]
  },
  {
   "cell_type": "code",
   "execution_count": 95,
   "id": "e405dd41",
   "metadata": {},
   "outputs": [
    {
     "data": {
      "text/html": [
       "<div>\n",
       "<style scoped>\n",
       "    .dataframe tbody tr th:only-of-type {\n",
       "        vertical-align: middle;\n",
       "    }\n",
       "\n",
       "    .dataframe tbody tr th {\n",
       "        vertical-align: top;\n",
       "    }\n",
       "\n",
       "    .dataframe thead th {\n",
       "        text-align: right;\n",
       "    }\n",
       "</style>\n",
       "<table border=\"1\" class=\"dataframe\">\n",
       "  <thead>\n",
       "    <tr style=\"text-align: right;\">\n",
       "      <th></th>\n",
       "      <th>geometry</th>\n",
       "      <th>code</th>\n",
       "      <th>wdID</th>\n",
       "      <th>ORMapNum</th>\n",
       "      <th>lat</th>\n",
       "      <th>lon</th>\n",
       "    </tr>\n",
       "  </thead>\n",
       "  <tbody>\n",
       "    <tr>\n",
       "      <th>0</th>\n",
       "      <td>POLYGON ((615248.525 847586.020, 616065.593 84...</td>\n",
       "      <td>2</td>\n",
       "      <td>WD1997-0082</td>\n",
       "      <td>2017.00S04.00W34D0--T000</td>\n",
       "      <td>44.044126</td>\n",
       "      <td>-123.150142</td>\n",
       "    </tr>\n",
       "    <tr>\n",
       "      <th>1</th>\n",
       "      <td>POLYGON ((615250.807 847660.962, 616288.987 84...</td>\n",
       "      <td>2</td>\n",
       "      <td>WD1997-0082</td>\n",
       "      <td>2017.00S04.00W34DA--T000</td>\n",
       "      <td>44.044490</td>\n",
       "      <td>-123.150142</td>\n",
       "    </tr>\n",
       "    <tr>\n",
       "      <th>2</th>\n",
       "      <td>MULTIPOLYGON (((660880.805 856180.946, 660882....</td>\n",
       "      <td>2</td>\n",
       "      <td>WD1997-0135</td>\n",
       "      <td>2017.00S02.00W19CD--T000</td>\n",
       "      <td>44.070708</td>\n",
       "      <td>-122.977732</td>\n",
       "    </tr>\n",
       "    <tr>\n",
       "      <th>3</th>\n",
       "      <td>MULTIPOLYGON (((662106.371 855954.697, 662104....</td>\n",
       "      <td>2</td>\n",
       "      <td>WD1997-0135</td>\n",
       "      <td>2017.00S02.00W19DC--T000</td>\n",
       "      <td>44.070339</td>\n",
       "      <td>-122.974623</td>\n",
       "    </tr>\n",
       "    <tr>\n",
       "      <th>4</th>\n",
       "      <td>POLYGON ((624816.061 863372.407, 624797.926 86...</td>\n",
       "      <td>2</td>\n",
       "      <td>WD1997-0479</td>\n",
       "      <td>2017.00S04.00W13AD--T000</td>\n",
       "      <td>44.089032</td>\n",
       "      <td>-123.117447</td>\n",
       "    </tr>\n",
       "  </tbody>\n",
       "</table>\n",
       "</div>"
      ],
      "text/plain": [
       "                                            geometry  code         wdID  \\\n",
       "0  POLYGON ((615248.525 847586.020, 616065.593 84...     2  WD1997-0082   \n",
       "1  POLYGON ((615250.807 847660.962, 616288.987 84...     2  WD1997-0082   \n",
       "2  MULTIPOLYGON (((660880.805 856180.946, 660882....     2  WD1997-0135   \n",
       "3  MULTIPOLYGON (((662106.371 855954.697, 662104....     2  WD1997-0135   \n",
       "4  POLYGON ((624816.061 863372.407, 624797.926 86...     2  WD1997-0479   \n",
       "\n",
       "                   ORMapNum        lat         lon  \n",
       "0  2017.00S04.00W34D0--T000  44.044126 -123.150142  \n",
       "1  2017.00S04.00W34DA--T000  44.044490 -123.150142  \n",
       "2  2017.00S02.00W19CD--T000  44.070708 -122.977732  \n",
       "3  2017.00S02.00W19DC--T000  44.070339 -122.974623  \n",
       "4  2017.00S04.00W13AD--T000  44.089032 -123.117447  "
      ]
     },
     "execution_count": 95,
     "metadata": {},
     "output_type": "execute_result"
    }
   ],
   "source": [
    "sa_gdf1L.head()"
   ]
  },
  {
   "cell_type": "code",
   "execution_count": 115,
   "id": "63827bb0",
   "metadata": {},
   "outputs": [],
   "source": [
    "wid = 'WD2015-0465'"
   ]
  },
  {
   "cell_type": "code",
   "execution_count": 116,
   "id": "620f5cfa",
   "metadata": {},
   "outputs": [],
   "source": [
    "testgdf = sa_gdf1L[sa_gdf1L.wdID == wid]\n",
    "testdf = sa_df2L[sa_df2L.wdID == wid]"
   ]
  },
  {
   "cell_type": "code",
   "execution_count": 117,
   "id": "bc1c6f9d",
   "metadata": {},
   "outputs": [
    {
     "data": {
      "text/html": [
       "<div>\n",
       "<style scoped>\n",
       "    .dataframe tbody tr th:only-of-type {\n",
       "        vertical-align: middle;\n",
       "    }\n",
       "\n",
       "    .dataframe tbody tr th {\n",
       "        vertical-align: top;\n",
       "    }\n",
       "\n",
       "    .dataframe thead th {\n",
       "        text-align: right;\n",
       "    }\n",
       "</style>\n",
       "<table border=\"1\" class=\"dataframe\">\n",
       "  <thead>\n",
       "    <tr style=\"text-align: right;\">\n",
       "      <th></th>\n",
       "      <th>geometry</th>\n",
       "      <th>code</th>\n",
       "      <th>wdID</th>\n",
       "      <th>ORMapNum</th>\n",
       "      <th>lat</th>\n",
       "      <th>lon</th>\n",
       "    </tr>\n",
       "  </thead>\n",
       "  <tbody>\n",
       "    <tr>\n",
       "      <th>123</th>\n",
       "      <td>MULTIPOLYGON (((587679.760 798757.709, 587679....</td>\n",
       "      <td>2</td>\n",
       "      <td>WD2015-0465</td>\n",
       "      <td>2019.00S05.00W1400--T000</td>\n",
       "      <td>43.909190</td>\n",
       "      <td>-123.250538</td>\n",
       "    </tr>\n",
       "    <tr>\n",
       "      <th>124</th>\n",
       "      <td>MULTIPOLYGON (((588369.253 797332.500, 588334....</td>\n",
       "      <td>2</td>\n",
       "      <td>WD2015-0465</td>\n",
       "      <td>2019.00S05.00W2300--T000</td>\n",
       "      <td>43.906314</td>\n",
       "      <td>-123.251330</td>\n",
       "    </tr>\n",
       "    <tr>\n",
       "      <th>125</th>\n",
       "      <td>MULTIPOLYGON (((590299.393 793296.522, 590333....</td>\n",
       "      <td>2</td>\n",
       "      <td>WD2015-0465</td>\n",
       "      <td>2019.00S05.00W2400--T000</td>\n",
       "      <td>43.898824</td>\n",
       "      <td>-123.239700</td>\n",
       "    </tr>\n",
       "    <tr>\n",
       "      <th>126</th>\n",
       "      <td>MULTIPOLYGON (((591884.240 789771.369, 591870....</td>\n",
       "      <td>2</td>\n",
       "      <td>WD2015-0465</td>\n",
       "      <td>2019.00S05.00W2500--T000</td>\n",
       "      <td>43.888667</td>\n",
       "      <td>-123.237328</td>\n",
       "    </tr>\n",
       "    <tr>\n",
       "      <th>127</th>\n",
       "      <td>POLYGON ((590868.995 783571.103, 590913.630 78...</td>\n",
       "      <td>2</td>\n",
       "      <td>WD2015-0465</td>\n",
       "      <td>2019.00S05.00W3600--T000</td>\n",
       "      <td>43.873186</td>\n",
       "      <td>-123.233205</td>\n",
       "    </tr>\n",
       "    <tr>\n",
       "      <th>128</th>\n",
       "      <td>POLYGON ((590870.776 781948.503, 590787.275 77...</td>\n",
       "      <td>2</td>\n",
       "      <td>WD2015-0465</td>\n",
       "      <td>2020.00S05.00W0100--T000</td>\n",
       "      <td>43.859471</td>\n",
       "      <td>-123.236599</td>\n",
       "    </tr>\n",
       "    <tr>\n",
       "      <th>129</th>\n",
       "      <td>MULTIPOLYGON (((590820.943 776606.056, 590819....</td>\n",
       "      <td>2</td>\n",
       "      <td>WD2015-0465</td>\n",
       "      <td>2020.00S05.00W1200--T000</td>\n",
       "      <td>43.845400</td>\n",
       "      <td>-123.235700</td>\n",
       "    </tr>\n",
       "  </tbody>\n",
       "</table>\n",
       "</div>"
      ],
      "text/plain": [
       "                                              geometry  code         wdID  \\\n",
       "123  MULTIPOLYGON (((587679.760 798757.709, 587679....     2  WD2015-0465   \n",
       "124  MULTIPOLYGON (((588369.253 797332.500, 588334....     2  WD2015-0465   \n",
       "125  MULTIPOLYGON (((590299.393 793296.522, 590333....     2  WD2015-0465   \n",
       "126  MULTIPOLYGON (((591884.240 789771.369, 591870....     2  WD2015-0465   \n",
       "127  POLYGON ((590868.995 783571.103, 590913.630 78...     2  WD2015-0465   \n",
       "128  POLYGON ((590870.776 781948.503, 590787.275 77...     2  WD2015-0465   \n",
       "129  MULTIPOLYGON (((590820.943 776606.056, 590819....     2  WD2015-0465   \n",
       "\n",
       "                     ORMapNum        lat         lon  \n",
       "123  2019.00S05.00W1400--T000  43.909190 -123.250538  \n",
       "124  2019.00S05.00W2300--T000  43.906314 -123.251330  \n",
       "125  2019.00S05.00W2400--T000  43.898824 -123.239700  \n",
       "126  2019.00S05.00W2500--T000  43.888667 -123.237328  \n",
       "127  2019.00S05.00W3600--T000  43.873186 -123.233205  \n",
       "128  2020.00S05.00W0100--T000  43.859471 -123.236599  \n",
       "129  2020.00S05.00W1200--T000  43.845400 -123.235700  "
      ]
     },
     "execution_count": 117,
     "metadata": {},
     "output_type": "execute_result"
    }
   ],
   "source": [
    "testgdf"
   ]
  },
  {
   "cell_type": "code",
   "execution_count": 118,
   "id": "142018fd",
   "metadata": {},
   "outputs": [
    {
     "data": {
      "text/html": [
       "<div>\n",
       "<style scoped>\n",
       "    .dataframe tbody tr th:only-of-type {\n",
       "        vertical-align: middle;\n",
       "    }\n",
       "\n",
       "    .dataframe tbody tr th {\n",
       "        vertical-align: top;\n",
       "    }\n",
       "\n",
       "    .dataframe thead th {\n",
       "        text-align: right;\n",
       "    }\n",
       "</style>\n",
       "<table border=\"1\" class=\"dataframe\">\n",
       "  <thead>\n",
       "    <tr style=\"text-align: right;\">\n",
       "      <th></th>\n",
       "      <th>wdID</th>\n",
       "      <th>trsqq</th>\n",
       "      <th>address_location_desc</th>\n",
       "      <th>city</th>\n",
       "      <th>county</th>\n",
       "      <th>site_name</th>\n",
       "      <th>site_desc</th>\n",
       "      <th>latitude</th>\n",
       "      <th>longitude</th>\n",
       "      <th>DocumentName</th>\n",
       "      <th>...</th>\n",
       "      <th>is_batch_file</th>\n",
       "      <th>status_name</th>\n",
       "      <th>received_date</th>\n",
       "      <th>response_date</th>\n",
       "      <th>reissuance_response_date</th>\n",
       "      <th>project_id</th>\n",
       "      <th>ORMapNum</th>\n",
       "      <th>record_ID</th>\n",
       "      <th>parcel_id</th>\n",
       "      <th>site_id</th>\n",
       "    </tr>\n",
       "  </thead>\n",
       "  <tbody>\n",
       "    <tr>\n",
       "      <th>68</th>\n",
       "      <td>WD2015-0465</td>\n",
       "      <td>19S05W13</td>\n",
       "      <td>Territorial highway - MP 32.03 to 37.77</td>\n",
       "      <td>Lorane</td>\n",
       "      <td>Lane</td>\n",
       "      <td>PROJECT N END Territorial Highway  19S05W13</td>\n",
       "      <td>Reconstruction of 5.7 mi section from Gillespi...</td>\n",
       "      <td>43.9101</td>\n",
       "      <td>-123.2506</td>\n",
       "      <td></td>\n",
       "      <td>...</td>\n",
       "      <td>N</td>\n",
       "      <td>Approved</td>\n",
       "      <td>2015-10-23T00:00:00+00:00</td>\n",
       "      <td>2016-05-05T00:00:00+00:00</td>\n",
       "      <td>None</td>\n",
       "      <td>NaN</td>\n",
       "      <td>2019.00S05.00W1300--T000</td>\n",
       "      <td>929</td>\n",
       "      <td>MANY</td>\n",
       "      <td>96500</td>\n",
       "    </tr>\n",
       "    <tr>\n",
       "      <th>69</th>\n",
       "      <td>WD2015-0465</td>\n",
       "      <td>20S05W13</td>\n",
       "      <td>Territorial highway - MP 32.03 to 37.77</td>\n",
       "      <td>Lorane</td>\n",
       "      <td>Lane</td>\n",
       "      <td>PROJECT S END Territorial Highway  19S05W13</td>\n",
       "      <td>Reconstruction of 5.7 mi section from Gillespi...</td>\n",
       "      <td>43.8372</td>\n",
       "      <td>-123.2382</td>\n",
       "      <td></td>\n",
       "      <td>...</td>\n",
       "      <td>N</td>\n",
       "      <td>Approved</td>\n",
       "      <td>2015-10-23T00:00:00+00:00</td>\n",
       "      <td>2016-05-05T00:00:00+00:00</td>\n",
       "      <td>None</td>\n",
       "      <td>NaN</td>\n",
       "      <td>2020.00S05.00W1300--T000</td>\n",
       "      <td>930</td>\n",
       "      <td>MANY</td>\n",
       "      <td>96501</td>\n",
       "    </tr>\n",
       "  </tbody>\n",
       "</table>\n",
       "<p>2 rows × 21 columns</p>\n",
       "</div>"
      ],
      "text/plain": [
       "           wdID     trsqq                    address_location_desc    city  \\\n",
       "68  WD2015-0465  19S05W13  Territorial highway - MP 32.03 to 37.77  Lorane   \n",
       "69  WD2015-0465  20S05W13  Territorial highway - MP 32.03 to 37.77  Lorane   \n",
       "\n",
       "   county                                    site_name  \\\n",
       "68   Lane  PROJECT N END Territorial Highway  19S05W13   \n",
       "69   Lane  PROJECT S END Territorial Highway  19S05W13   \n",
       "\n",
       "                                            site_desc  latitude  longitude  \\\n",
       "68  Reconstruction of 5.7 mi section from Gillespi...   43.9101  -123.2506   \n",
       "69  Reconstruction of 5.7 mi section from Gillespi...   43.8372  -123.2382   \n",
       "\n",
       "   DocumentName  ... is_batch_file status_name              received_date  \\\n",
       "68               ...             N    Approved  2015-10-23T00:00:00+00:00   \n",
       "69               ...             N    Approved  2015-10-23T00:00:00+00:00   \n",
       "\n",
       "                response_date reissuance_response_date project_id  \\\n",
       "68  2016-05-05T00:00:00+00:00                     None        NaN   \n",
       "69  2016-05-05T00:00:00+00:00                     None        NaN   \n",
       "\n",
       "                    ORMapNum record_ID parcel_id site_id  \n",
       "68  2019.00S05.00W1300--T000       929      MANY   96500  \n",
       "69  2020.00S05.00W1300--T000       930      MANY   96501  \n",
       "\n",
       "[2 rows x 21 columns]"
      ]
     },
     "execution_count": 118,
     "metadata": {},
     "output_type": "execute_result"
    }
   ],
   "source": [
    "testdf"
   ]
  },
  {
   "cell_type": "code",
   "execution_count": 145,
   "id": "cb4f1102",
   "metadata": {
    "scrolled": true
   },
   "outputs": [
    {
     "data": {
      "text/plain": [
       "1647"
      ]
     },
     "execution_count": 145,
     "metadata": {},
     "output_type": "execute_result"
    }
   ],
   "source": [
    "len(list(sa_gdf0L.wdID.unique()) + list(sa_gdf1L.wdID.unique()))"
   ]
  },
  {
   "cell_type": "code",
   "execution_count": 158,
   "id": "5f0c3ad6",
   "metadata": {},
   "outputs": [
    {
     "data": {
      "text/plain": [
       "(0, 26)"
      ]
     },
     "execution_count": 158,
     "metadata": {},
     "output_type": "execute_result"
    }
   ],
   "source": [
    "sa_gdf4L.shape"
   ]
  },
  {
   "cell_type": "code",
   "execution_count": 168,
   "id": "d8937a3b",
   "metadata": {},
   "outputs": [],
   "source": [
    "sa_gdfL.rename(columns = coldict, inplace = True)"
   ]
  },
  {
   "cell_type": "code",
   "execution_count": 171,
   "id": "10038e25",
   "metadata": {},
   "outputs": [],
   "source": [
    "sa_gdf0.rename(columns = coldict, inplace = True)"
   ]
  },
  {
   "cell_type": "code",
   "execution_count": 172,
   "id": "55b099cb",
   "metadata": {},
   "outputs": [],
   "source": [
    "final_gdf = sa_gdfL.append(sa_gdf0)"
   ]
  },
  {
   "cell_type": "code",
   "execution_count": 175,
   "id": "5870d570",
   "metadata": {},
   "outputs": [],
   "source": [
    "final_gdf.to_file(fr'{inpath}\\output\\final\\Lane_County_WD.shp')"
   ]
  },
  {
   "cell_type": "code",
   "execution_count": 179,
   "id": "543a3b2f",
   "metadata": {},
   "outputs": [],
   "source": [
    "sa_gdf1L.to_file(fr'{inpath}\\output\\final\\Lane_County_WD_Unmatched.shp')"
   ]
  },
  {
   "cell_type": "code",
   "execution_count": 187,
   "id": "edbeebaa",
   "metadata": {},
   "outputs": [
    {
     "data": {
      "text/plain": [
       "33"
      ]
     },
     "execution_count": 187,
     "metadata": {},
     "output_type": "execute_result"
    }
   ],
   "source": [
    "len([wid for wid in unmatched.wdID.unique() if wid not in final_gdf.wdID.unique()])"
   ]
  },
  {
   "cell_type": "code",
   "execution_count": 188,
   "id": "b52745a4",
   "metadata": {},
   "outputs": [],
   "source": [
    "unmatched.to_csv(fr'{inpath}\\output\\to_review\\Lane_County_WD_Unmatched.csv', index=False)"
   ]
  }
 ],
 "metadata": {
  "kernelspec": {
   "display_name": "Python 3",
   "language": "python",
   "name": "python3"
  },
  "language_info": {
   "codemirror_mode": {
    "name": "ipython",
    "version": 3
   },
   "file_extension": ".py",
   "mimetype": "text/x-python",
   "name": "python",
   "nbconvert_exporter": "python",
   "pygments_lexer": "ipython3",
   "version": "3.8.8"
  }
 },
 "nbformat": 4,
 "nbformat_minor": 5
}
