{
 "cells": [
  {
   "cell_type": "code",
   "execution_count": 1,
   "id": "b57ab663",
   "metadata": {},
   "outputs": [
    {
     "name": "stderr",
     "output_type": "stream",
     "text": [
      "C:\\Users\\clid1852\\AppData\\Anaconda3\\envs\\geoenv\\lib\\site-packages\\geopandas\\_compat.py:106: UserWarning: The Shapely GEOS version (3.11.1-CAPI-1.17.1) is incompatible with the GEOS version PyGEOS was compiled with (3.9.1-CAPI-1.14.2). Conversions between both will be slow.\n",
      "  warnings.warn(\n"
     ]
    }
   ],
   "source": [
    "from wdtools import *"
   ]
  },
  {
   "cell_type": "code",
   "execution_count": 2,
   "id": "d1d44f1b",
   "metadata": {},
   "outputs": [],
   "source": [
    "set_ID = 'Set001'"
   ]
  },
  {
   "cell_type": "code",
   "execution_count": 3,
   "id": "25f0b1b6",
   "metadata": {
    "scrolled": true
   },
   "outputs": [],
   "source": [
    "#gdf = combine_merged_data(setID = set_ID)"
   ]
  },
  {
   "cell_type": "code",
   "execution_count": 4,
   "id": "02f68ebf",
   "metadata": {},
   "outputs": [],
   "source": [
    "gdf = gpd.read_file(os.path.join(inpath + f'\\\\{outfolder}\\\\', f'matched_records_{set_ID}.shp'), driver='ESRI Shapefile')"
   ]
  },
  {
   "cell_type": "code",
   "execution_count": 5,
   "id": "0fc57e51",
   "metadata": {},
   "outputs": [],
   "source": [
    "# this will take about 17 minutes\n",
    "all_taxlot = combine_taxlot()"
   ]
  },
  {
   "cell_type": "code",
   "execution_count": 20,
   "id": "21c55970",
   "metadata": {
    "scrolled": true
   },
   "outputs": [
    {
     "name": "stdout",
     "output_type": "stream",
     "text": [
      "it is about 8.38% of data in the original 1420 records unmatched\n",
      "there are 1 records (0.07% of the original records) without parcel id\n"
     ]
    },
    {
     "name": "stderr",
     "output_type": "stream",
     "text": [
      "C:\\Users\\clid1852\\AppData\\Anaconda3\\envs\\geoenv\\lib\\site-packages\\pandas\\core\\indexing.py:1667: SettingWithCopyWarning: \n",
      "A value is trying to be set on a copy of a slice from a DataFrame.\n",
      "Try using .loc[row_indexer,col_indexer] = value instead\n",
      "\n",
      "See the caveats in the documentation: https://pandas.pydata.org/pandas-docs/stable/user_guide/indexing.html#returning-a-view-versus-a-copy\n",
      "  self.obj[key] = value\n"
     ]
    }
   ],
   "source": [
    "n_gdf = merge_matched(setID = set_ID, all_taxlot = all_taxlot)"
   ]
  },
  {
   "cell_type": "code",
   "execution_count": 25,
   "id": "9256fee7",
   "metadata": {},
   "outputs": [],
   "source": [
    "n_gdf['lots'] = n_gdf['lots'].apply(lambda x: ' '.join(dict.fromkeys(x).keys()))"
   ]
  },
  {
   "cell_type": "code",
   "execution_count": 28,
   "id": "e4521660",
   "metadata": {},
   "outputs": [
    {
     "data": {
      "text/plain": [
       "wdID            object\n",
       "trsqq           object\n",
       "parcel_id       object\n",
       "loc_desc        object\n",
       "city            object\n",
       "county          object\n",
       "site_name       object\n",
       "site_desc       object\n",
       "latitude       float64\n",
       "longitude      float64\n",
       "coord_src       object\n",
       "doc_name        object\n",
       "doc_link        object\n",
       "isbatfile       object\n",
       "status_nm       object\n",
       "receiveddt      object\n",
       "responsedt      object\n",
       "reissuance      object\n",
       "project_id     float64\n",
       "site_id          int64\n",
       "notes           object\n",
       "lots            object\n",
       "lot             object\n",
       "cnt_code         int64\n",
       "ORTaxlot        object\n",
       "year             int64\n",
       "IDyear          object\n",
       "record_ID        int64\n",
       "geometry      geometry\n",
       "dtype: object"
      ]
     },
     "execution_count": 28,
     "metadata": {},
     "output_type": "execute_result"
    }
   ],
   "source": [
    "n_gdf.dtypes"
   ]
  },
  {
   "cell_type": "code",
   "execution_count": 30,
   "id": "df1721e3",
   "metadata": {},
   "outputs": [],
   "source": [
    "n_gdf[['record_ID', 'wdID', 'ORTaxlot', 'geometry']].to_file(os.path.join(inpath + f'\\\\{outfolder}\\\\', f'combined_records_in_{set_ID}.shp'), \n",
    "                                                  driver='ESRI Shapefile')"
   ]
  }
 ],
 "metadata": {
  "kernelspec": {
   "display_name": "Python 3 (ipykernel)",
   "language": "python",
   "name": "python3"
  },
  "language_info": {
   "codemirror_mode": {
    "name": "ipython",
    "version": 3
   },
   "file_extension": ".py",
   "mimetype": "text/x-python",
   "name": "python",
   "nbconvert_exporter": "python",
   "pygments_lexer": "ipython3",
   "version": "3.8.15"
  }
 },
 "nbformat": 4,
 "nbformat_minor": 5
}
