{
 "cells": [
  {
   "cell_type": "code",
   "execution_count": 1,
   "id": "97342d85",
   "metadata": {},
   "outputs": [
    {
     "name": "stderr",
     "output_type": "stream",
     "text": [
      "C:\\Users\\clid1852\\AppData\\Anaconda3\\envs\\geoenv\\lib\\site-packages\\geopandas\\_compat.py:106: UserWarning: The Shapely GEOS version (3.11.1-CAPI-1.17.1) is incompatible with the GEOS version PyGEOS was compiled with (3.9.1-CAPI-1.14.2). Conversions between both will be slow.\n",
      "  warnings.warn(\n"
     ]
    }
   ],
   "source": [
    "from wdtools import *"
   ]
  },
  {
   "cell_type": "code",
   "execution_count": 2,
   "id": "532d197e",
   "metadata": {},
   "outputs": [
    {
     "name": "stdout",
     "output_type": "stream",
     "text": [
      "it took 17.0 minutes to complete\n"
     ]
    }
   ],
   "source": [
    "# this will take about 17 minutes\n",
    "start = time.time()\n",
    "all_taxlot = combine_taxlot()\n",
    "end = time.time()\n",
    "print(f'it took {round((end - start)/60, 0)} minutes to complete')"
   ]
  },
  {
   "cell_type": "code",
   "execution_count": 28,
   "id": "35abafd7",
   "metadata": {},
   "outputs": [],
   "source": [
    "df1 = combined_reindexed_data(setID='Set001', nm_to_add=0) "
   ]
  },
  {
   "cell_type": "code",
   "execution_count": 40,
   "id": "0472336e",
   "metadata": {},
   "outputs": [],
   "source": [
    "res1 = check_corrected_data(df=df1, setID='Set001', all_taxlot=all_taxlot, nm_to_add=0, export=False)"
   ]
  },
  {
   "cell_type": "code",
   "execution_count": 50,
   "id": "707747e8",
   "metadata": {},
   "outputs": [
    {
     "data": {
      "text/plain": [
       "1331"
      ]
     },
     "execution_count": 50,
     "metadata": {},
     "output_type": "execute_result"
    }
   ],
   "source": [
    "len(res1[0].record_ID.unique())"
   ]
  },
  {
   "cell_type": "code",
   "execution_count": 55,
   "id": "e63e2de2",
   "metadata": {},
   "outputs": [
    {
     "data": {
      "text/plain": [
       "1307"
      ]
     },
     "execution_count": 55,
     "metadata": {},
     "output_type": "execute_result"
    }
   ],
   "source": [
    "len(res1[0][~res1[0].wdID.isin(res1[1].wetdet_delin_number.values)].record_ID.unique())"
   ]
  },
  {
   "cell_type": "code",
   "execution_count": 56,
   "id": "47f2abda",
   "metadata": {},
   "outputs": [],
   "source": [
    "df_wlots_to_check1 = res1[3]"
   ]
  },
  {
   "cell_type": "code",
   "execution_count": 59,
   "id": "4260eb2f",
   "metadata": {},
   "outputs": [
    {
     "data": {
      "text/plain": [
       "27"
      ]
     },
     "execution_count": 59,
     "metadata": {},
     "output_type": "execute_result"
    }
   ],
   "source": [
    "len(df_wlots_to_check1[df_wlots_to_check1.missinglot=='N'].record_ID.unique())"
   ]
  },
  {
   "cell_type": "code",
   "execution_count": 60,
   "id": "88b43096",
   "metadata": {},
   "outputs": [],
   "source": [
    "df_wlots_to_check1.to_csv(os.path.join(inpath + '\\\\output\\\\to_review\\\\', 'df_with_lots_check_Set001.csv'), index=False) "
   ]
  },
  {
   "cell_type": "code",
   "execution_count": 39,
   "id": "c71536d5",
   "metadata": {},
   "outputs": [],
   "source": [
    "df2 = combined_reindexed_data(setID='Set002', nm_to_add=1420) "
   ]
  },
  {
   "cell_type": "code",
   "execution_count": 49,
   "id": "3978bb76",
   "metadata": {},
   "outputs": [],
   "source": [
    "res2 = check_corrected_data(df=df2, setID='Set002', all_taxlot=all_taxlot, nm_to_add=1420, export=False)"
   ]
  },
  {
   "cell_type": "code",
   "execution_count": 61,
   "id": "e9a90dce",
   "metadata": {},
   "outputs": [
    {
     "data": {
      "text/plain": [
       "607"
      ]
     },
     "execution_count": 61,
     "metadata": {},
     "output_type": "execute_result"
    }
   ],
   "source": [
    "len(res2[0].record_ID.unique())"
   ]
  },
  {
   "cell_type": "code",
   "execution_count": 63,
   "id": "8ef9afa7",
   "metadata": {},
   "outputs": [
    {
     "data": {
      "text/plain": [
       "20"
      ]
     },
     "execution_count": 63,
     "metadata": {},
     "output_type": "execute_result"
    }
   ],
   "source": [
    "len(res2[0][res2[0].wdID.isin(res2[1].wetdet_delin_number.values)].record_ID.unique())"
   ]
  },
  {
   "cell_type": "code",
   "execution_count": 64,
   "id": "8bf0b4e3",
   "metadata": {},
   "outputs": [],
   "source": [
    "df_wlots_to_check2 = res2[3]"
   ]
  },
  {
   "cell_type": "code",
   "execution_count": 65,
   "id": "b14bdaf5",
   "metadata": {},
   "outputs": [
    {
     "data": {
      "text/plain": [
       "18"
      ]
     },
     "execution_count": 65,
     "metadata": {},
     "output_type": "execute_result"
    }
   ],
   "source": [
    "len(df_wlots_to_check2[df_wlots_to_check2.missinglot=='N'].record_ID.unique())"
   ]
  },
  {
   "cell_type": "code",
   "execution_count": 48,
   "id": "34dffc17",
   "metadata": {},
   "outputs": [],
   "source": [
    "setgdf = gpd.read_file(os.path.join(inpath, 'GIS', 'Join_Statewide.gdb'), layer=f'WD_{set_ID}_Combined')"
   ]
  },
  {
   "cell_type": "code",
   "execution_count": 49,
   "id": "e771e8d1",
   "metadata": {},
   "outputs": [
    {
     "data": {
      "text/plain": [
       "618"
      ]
     },
     "execution_count": 49,
     "metadata": {},
     "output_type": "execute_result"
    }
   ],
   "source": [
    "len(setgdf.Record_ID.unique())"
   ]
  },
  {
   "cell_type": "code",
   "execution_count": 46,
   "id": "04f53964",
   "metadata": {},
   "outputs": [
    {
     "data": {
      "text/plain": [
       "Index(['OBJECTID', 'Record_ID', 'wetdet_delin_number', 'trsqq', 'parcel_id',\n",
       "       'address_location_desc', 'city', 'county', 'site_name', 'site_desc',\n",
       "       'latitude', 'longitude', 'Coord_Source', 'DocumentName', 'DecisionLink',\n",
       "       'is_batch_file', 'status_name', 'received_date', 'response_date',\n",
       "       'reissuance_response_date', 'project_id', 'site_id', 'lot_num', 'lot',\n",
       "       'Match_Year', 'ORTAXLOT', 'Match_found', 'Manual_note', 'Shape_Length',\n",
       "       'Shape_Area', 'geometry'],\n",
       "      dtype='object')"
      ]
     },
     "execution_count": 46,
     "metadata": {},
     "output_type": "execute_result"
    }
   ],
   "source": [
    "setgdf.columns"
   ]
  },
  {
   "cell_type": "code",
   "execution_count": 50,
   "id": "4271a9b3",
   "metadata": {},
   "outputs": [
    {
     "data": {
      "text/plain": [
       "105"
      ]
     },
     "execution_count": 50,
     "metadata": {},
     "output_type": "execute_result"
    }
   ],
   "source": [
    "# missed records in the existing output\n",
    "wd_df.shape[0] - len(setgdf.Record_ID.unique())"
   ]
  },
  {
   "cell_type": "code",
   "execution_count": 51,
   "id": "d99eb093",
   "metadata": {},
   "outputs": [
    {
     "name": "stdout",
     "output_type": "stream",
     "text": [
      "it is about 17.98% of data in the original 723 records unmatched\n",
      "there are 1 records (0.14% of the original records) without parcel id\n"
     ]
    }
   ],
   "source": [
    "unmatched_wd_df = report_unmatched(gdf=set2gdf, setID=set_ID, nm_to_add=1420, mute=False)"
   ]
  }
 ],
 "metadata": {
  "kernelspec": {
   "display_name": "Python 3 (ipykernel)",
   "language": "python",
   "name": "python3"
  },
  "language_info": {
   "codemirror_mode": {
    "name": "ipython",
    "version": 3
   },
   "file_extension": ".py",
   "mimetype": "text/x-python",
   "name": "python",
   "nbconvert_exporter": "python",
   "pygments_lexer": "ipython3",
   "version": "3.8.15"
  }
 },
 "nbformat": 4,
 "nbformat_minor": 5
}
