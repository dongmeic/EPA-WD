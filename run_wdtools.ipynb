{
 "cells": [
  {
   "cell_type": "code",
   "execution_count": 1,
   "id": "5312cc37",
   "metadata": {},
   "outputs": [
    {
     "name": "stderr",
     "output_type": "stream",
     "text": [
      "C:\\Users\\clid1852\\AppData\\Anaconda3\\envs\\geoenv\\lib\\site-packages\\geopandas\\_compat.py:106: UserWarning: The Shapely GEOS version (3.11.1-CAPI-1.17.1) is incompatible with the GEOS version PyGEOS was compiled with (3.9.1-CAPI-1.14.2). Conversions between both will be slow.\n",
      "  warnings.warn(\n"
     ]
    }
   ],
   "source": [
    "from wdtools import *"
   ]
  },
  {
   "cell_type": "code",
   "execution_count": 2,
   "id": "3e2795f4",
   "metadata": {},
   "outputs": [],
   "source": [
    "set_ID = 'Set001'"
   ]
  },
  {
   "cell_type": "code",
   "execution_count": 3,
   "id": "6ffefce1",
   "metadata": {
    "scrolled": true
   },
   "outputs": [
    {
     "name": "stdout",
     "output_type": "stream",
     "text": [
      "it took 17.0 minutes to complete Set001\n"
     ]
    }
   ],
   "source": [
    "#gdf = combine_merged_data(setID = set_ID)"
   ]
  },
  {
   "cell_type": "code",
   "execution_count": 3,
   "id": "81e00252",
   "metadata": {},
   "outputs": [],
   "source": [
    "gdf = gpd.read_file(os.path.join(inpath + f'\\\\{outfolder}\\\\', f'matched_records_{set_ID}.shp'), driver='ESRI Shapefile')"
   ]
  },
  {
   "cell_type": "code",
   "execution_count": 4,
   "id": "1534c4f5",
   "metadata": {},
   "outputs": [
    {
     "data": {
      "text/plain": [
       "(2374, 30)"
      ]
     },
     "execution_count": 4,
     "metadata": {},
     "output_type": "execute_result"
    }
   ],
   "source": [
    "gdf.shape"
   ]
  },
  {
   "cell_type": "code",
   "execution_count": 5,
   "id": "97d62531",
   "metadata": {},
   "outputs": [
    {
     "data": {
      "text/plain": [
       "Index(['wetdet_delin_number', 'trsqq', 'parcel_id', 'address_location_desc',\n",
       "       'city', 'county', 'site_name', 'site_desc', 'latitude', 'longitude',\n",
       "       'Coord-Source', 'DocumentName', 'DecisionLink', 'is_batch_file',\n",
       "       'status_name', 'received_date', 'response_date',\n",
       "       'reissuance_response_date', 'project_id', 'site_id', 'record_ID',\n",
       "       'notes', 'lots', 'lot', 'cnt_code', 'ORTaxlot', 'year', 'IDyear',\n",
       "       'geometry', 'nrecordID'],\n",
       "      dtype='object')"
      ]
     },
     "execution_count": 5,
     "metadata": {},
     "output_type": "execute_result"
    }
   ],
   "source": [
    "gdf.columns"
   ]
  },
  {
   "cell_type": "code",
   "execution_count": 4,
   "id": "29b7252d",
   "metadata": {
    "scrolled": true
   },
   "outputs": [
    {
     "name": "stdout",
     "output_type": "stream",
     "text": [
      "it is about 8.38% of data in the original 1420 records unmatched\n",
      "there are 1 records (0.07% of the original records) without parcel id\n"
     ]
    }
   ],
   "source": [
    "unmatched_wd_df = report_unmatched(gdf = gdf, setID = set_ID)"
   ]
  },
  {
   "cell_type": "code",
   "execution_count": 5,
   "id": "2f26b98d",
   "metadata": {},
   "outputs": [
    {
     "name": "stderr",
     "output_type": "stream",
     "text": [
      "C:\\Users\\clid1852\\AppData\\Anaconda3\\envs\\geoenv\\lib\\site-packages\\geopandas\\geodataframe.py:1299: UserWarning: Boolean Series key will be reindexed to match DataFrame index.\n",
      "  result = super(GeoDataFrame, self).__getitem__(key)\n"
     ]
    }
   ],
   "source": [
    "missed_match_ID = compare_data_report(gdf = gdf, setID = set_ID)[0] #export = True"
   ]
  },
  {
   "cell_type": "code",
   "execution_count": 6,
   "id": "f9c0e921",
   "metadata": {},
   "outputs": [],
   "source": [
    "double_check = unmatched_wd_df[unmatched_wd_df.missinglot == 'N']"
   ]
  },
  {
   "cell_type": "code",
   "execution_count": 7,
   "id": "d65ea65f",
   "metadata": {},
   "outputs": [
    {
     "data": {
      "text/plain": [
       "array(['3502,3800', '701', '12308',\n",
       "       '3400,2900,2800,SW 2nd street ROW (all partial)', '501', '502',\n",
       "       '8100', '1302', '101, 100', '101', '1700p', '300', '140p', '200p',\n",
       "       '5001', '2900', '2100', '800,803', '400,500 all partial', '1401',\n",
       "       '4400', '100', '400p', '1000', 'ROW, 6317,6303,3604', '400',\n",
       "       '1403,1404', '2600', '302', '4900p', '500p', '100p', '105p', '708',\n",
       "       '5100', '1400', '6702', '4500', '203', '5500 partial', '500',\n",
       "       '3100', '2800', '500p,1100p', '2400,2401', '800', '3000'],\n",
       "      dtype=object)"
      ]
     },
     "execution_count": 7,
     "metadata": {},
     "output_type": "execute_result"
    }
   ],
   "source": [
    "double_check.parcel_id.unique()"
   ]
  },
  {
   "cell_type": "code",
   "execution_count": 8,
   "id": "78e74923",
   "metadata": {},
   "outputs": [
    {
     "name": "stderr",
     "output_type": "stream",
     "text": [
      "C:\\Users\\clid1852\\AppData\\Anaconda3\\envs\\geoenv\\lib\\site-packages\\pandas\\core\\indexing.py:1667: SettingWithCopyWarning: \n",
      "A value is trying to be set on a copy of a slice from a DataFrame.\n",
      "Try using .loc[row_indexer,col_indexer] = value instead\n",
      "\n",
      "See the caveats in the documentation: https://pandas.pydata.org/pandas-docs/stable/user_guide/indexing.html#returning-a-view-versus-a-copy\n",
      "  self.obj[key] = value\n"
     ]
    }
   ],
   "source": [
    "double_check_ri = reindex_data(double_check)"
   ]
  },
  {
   "cell_type": "code",
   "execution_count": 9,
   "id": "908f8329",
   "metadata": {},
   "outputs": [
    {
     "data": {
      "text/html": [
       "<div>\n",
       "<style scoped>\n",
       "    .dataframe tbody tr th:only-of-type {\n",
       "        vertical-align: middle;\n",
       "    }\n",
       "\n",
       "    .dataframe tbody tr th {\n",
       "        vertical-align: top;\n",
       "    }\n",
       "\n",
       "    .dataframe thead th {\n",
       "        text-align: right;\n",
       "    }\n",
       "</style>\n",
       "<table border=\"1\" class=\"dataframe\">\n",
       "  <thead>\n",
       "    <tr style=\"text-align: right;\">\n",
       "      <th></th>\n",
       "      <th>wetdet_delin_number</th>\n",
       "      <th>trsqq</th>\n",
       "      <th>parcel_id</th>\n",
       "      <th>address_location_desc</th>\n",
       "      <th>city</th>\n",
       "      <th>county</th>\n",
       "      <th>site_name</th>\n",
       "      <th>site_desc</th>\n",
       "      <th>latitude</th>\n",
       "      <th>longitude</th>\n",
       "      <th>...</th>\n",
       "      <th>response_date</th>\n",
       "      <th>reissuance_response_date</th>\n",
       "      <th>project_id</th>\n",
       "      <th>site_id</th>\n",
       "      <th>record_ID</th>\n",
       "      <th>missinglot</th>\n",
       "      <th>lots</th>\n",
       "      <th>lot</th>\n",
       "      <th>cnt_code</th>\n",
       "      <th>ORTaxlot</th>\n",
       "    </tr>\n",
       "  </thead>\n",
       "  <tbody>\n",
       "    <tr>\n",
       "      <th>16</th>\n",
       "      <td>WD2017-0313</td>\n",
       "      <td>08N07W20</td>\n",
       "      <td>3502,3800</td>\n",
       "      <td>Hillcrest Lp and Forest Court Lp Astoria</td>\n",
       "      <td>Astoria</td>\n",
       "      <td>Clatsop</td>\n",
       "      <td>08N07W20</td>\n",
       "      <td>property evaluation for road and home construc...</td>\n",
       "      <td>46.16336</td>\n",
       "      <td>-123.577</td>\n",
       "      <td>...</td>\n",
       "      <td>2017-08-07</td>\n",
       "      <td>NaN</td>\n",
       "      <td>NaN</td>\n",
       "      <td>106418</td>\n",
       "      <td>17</td>\n",
       "      <td>N</td>\n",
       "      <td>[3502, 3800]</td>\n",
       "      <td>3502</td>\n",
       "      <td>4</td>\n",
       "      <td>0408.00N07.00W2000--000003502</td>\n",
       "    </tr>\n",
       "    <tr>\n",
       "      <th>16</th>\n",
       "      <td>WD2017-0313</td>\n",
       "      <td>08N07W20</td>\n",
       "      <td>3502,3800</td>\n",
       "      <td>Hillcrest Lp and Forest Court Lp Astoria</td>\n",
       "      <td>Astoria</td>\n",
       "      <td>Clatsop</td>\n",
       "      <td>08N07W20</td>\n",
       "      <td>property evaluation for road and home construc...</td>\n",
       "      <td>46.16336</td>\n",
       "      <td>-123.577</td>\n",
       "      <td>...</td>\n",
       "      <td>2017-08-07</td>\n",
       "      <td>NaN</td>\n",
       "      <td>NaN</td>\n",
       "      <td>106418</td>\n",
       "      <td>17</td>\n",
       "      <td>N</td>\n",
       "      <td>[3502, 3800]</td>\n",
       "      <td>3800</td>\n",
       "      <td>4</td>\n",
       "      <td>0408.00N07.00W2000--000003800</td>\n",
       "    </tr>\n",
       "    <tr>\n",
       "      <th>21</th>\n",
       "      <td>WD2017-0448</td>\n",
       "      <td>08N10W20</td>\n",
       "      <td>701</td>\n",
       "      <td>W of 480 SW Juniper Ave</td>\n",
       "      <td>Warrenton</td>\n",
       "      <td>Clatsop</td>\n",
       "      <td>South Juniper Gardens 08N10W20</td>\n",
       "      <td>Subdivision and construction of single family ...</td>\n",
       "      <td>46.16377</td>\n",
       "      <td>-123.951</td>\n",
       "      <td>...</td>\n",
       "      <td>2017-12-07</td>\n",
       "      <td>NaN</td>\n",
       "      <td>NaN</td>\n",
       "      <td>107013</td>\n",
       "      <td>22</td>\n",
       "      <td>N</td>\n",
       "      <td>[701]</td>\n",
       "      <td>701</td>\n",
       "      <td>4</td>\n",
       "      <td>0408.00N10.00W2000--000000701</td>\n",
       "    </tr>\n",
       "  </tbody>\n",
       "</table>\n",
       "<p>3 rows × 26 columns</p>\n",
       "</div>"
      ],
      "text/plain": [
       "   wetdet_delin_number     trsqq  parcel_id  \\\n",
       "16         WD2017-0313  08N07W20  3502,3800   \n",
       "16         WD2017-0313  08N07W20  3502,3800   \n",
       "21         WD2017-0448  08N10W20        701   \n",
       "\n",
       "                       address_location_desc       city   county  \\\n",
       "16  Hillcrest Lp and Forest Court Lp Astoria    Astoria  Clatsop   \n",
       "16  Hillcrest Lp and Forest Court Lp Astoria    Astoria  Clatsop   \n",
       "21                   W of 480 SW Juniper Ave  Warrenton  Clatsop   \n",
       "\n",
       "                         site_name  \\\n",
       "16                        08N07W20   \n",
       "16                        08N07W20   \n",
       "21  South Juniper Gardens 08N10W20   \n",
       "\n",
       "                                            site_desc  latitude  longitude  \\\n",
       "16  property evaluation for road and home construc...  46.16336   -123.577   \n",
       "16  property evaluation for road and home construc...  46.16336   -123.577   \n",
       "21  Subdivision and construction of single family ...  46.16377   -123.951   \n",
       "\n",
       "    ... response_date reissuance_response_date project_id site_id record_ID  \\\n",
       "16  ...    2017-08-07                      NaN        NaN  106418        17   \n",
       "16  ...    2017-08-07                      NaN        NaN  106418        17   \n",
       "21  ...    2017-12-07                      NaN        NaN  107013        22   \n",
       "\n",
       "   missinglot          lots   lot  cnt_code                       ORTaxlot  \n",
       "16          N  [3502, 3800]  3502         4  0408.00N07.00W2000--000003502  \n",
       "16          N  [3502, 3800]  3800         4  0408.00N07.00W2000--000003800  \n",
       "21          N         [701]   701         4  0408.00N10.00W2000--000000701  \n",
       "\n",
       "[3 rows x 26 columns]"
      ]
     },
     "execution_count": 9,
     "metadata": {},
     "output_type": "execute_result"
    }
   ],
   "source": [
    "double_check_ri.head(3)"
   ]
  },
  {
   "cell_type": "code",
   "execution_count": 12,
   "id": "690677f4",
   "metadata": {},
   "outputs": [],
   "source": [
    "def combine_taxlot():\n",
    "    frames = []\n",
    "    for year in range(2017, 2023):\n",
    "        tx_dt = read_taxlot(year, mute=False)\n",
    "        tx_dt['year'] = year\n",
    "        frames.append(tx_dt[['year', 'ORTaxlot', 'geometry']])\n",
    "    df = pd.concat(frames, ignore_index=True)\n",
    "    gdf = gpd.GeoDataFrame(df, crs=\"EPSG:2992\", geometry='geometry')\n",
    "    return gdf"
   ]
  },
  {
   "cell_type": "code",
   "execution_count": null,
   "id": "35c92af2",
   "metadata": {},
   "outputs": [
    {
     "name": "stdout",
     "output_type": "stream",
     "text": [
      "got taxlot data in 2017 and it took about 3.0 minutes\n",
      "got taxlot data in 2018 and it took about 3.0 minutes\n",
      "got taxlot data in 2019 and it took about 3.0 minutes\n",
      "got taxlot data in 2020 and it took about 3.0 minutes\n",
      "got taxlot data in 2021 and it took about 3.0 minutes\n"
     ]
    }
   ],
   "source": [
    "all_taxlot = combine_taxlot()"
   ]
  },
  {
   "cell_type": "code",
   "execution_count": null,
   "id": "48aa6eed",
   "metadata": {},
   "outputs": [],
   "source": []
  }
 ],
 "metadata": {
  "kernelspec": {
   "display_name": "Python 3 (ipykernel)",
   "language": "python",
   "name": "python3"
  },
  "language_info": {
   "codemirror_mode": {
    "name": "ipython",
    "version": 3
   },
   "file_extension": ".py",
   "mimetype": "text/x-python",
   "name": "python",
   "nbconvert_exporter": "python",
   "pygments_lexer": "ipython3",
   "version": "3.8.15"
  }
 },
 "nbformat": 4,
 "nbformat_minor": 5
}
