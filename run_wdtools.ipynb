{
 "cells": [
  {
   "cell_type": "code",
   "execution_count": 1,
   "id": "b867df98",
   "metadata": {},
   "outputs": [
    {
     "name": "stderr",
     "output_type": "stream",
     "text": [
      "C:\\Users\\clid1852\\AppData\\Anaconda3\\envs\\geoenv\\lib\\site-packages\\geopandas\\_compat.py:106: UserWarning: The Shapely GEOS version (3.11.1-CAPI-1.17.1) is incompatible with the GEOS version PyGEOS was compiled with (3.9.1-CAPI-1.14.2). Conversions between both will be slow.\n",
      "  warnings.warn(\n"
     ]
    }
   ],
   "source": [
    "from wdtools import *"
   ]
  },
  {
   "cell_type": "code",
   "execution_count": 2,
   "id": "190623f6",
   "metadata": {},
   "outputs": [],
   "source": [
    "set_ID = 'Set001'"
   ]
  },
  {
   "cell_type": "code",
   "execution_count": 3,
   "id": "a468ca73",
   "metadata": {},
   "outputs": [
    {
     "name": "stdout",
     "output_type": "stream",
     "text": [
      "it took 16.0 minutes to complete\n"
     ]
    }
   ],
   "source": [
    "# this will take about 17 minutes\n",
    "start = time.time()\n",
    "all_taxlot = combine_taxlot()\n",
    "end = time.time()\n",
    "print(f'it took {round((end - start)/60, 0)} minutes to complete')"
   ]
  },
  {
   "cell_type": "code",
   "execution_count": 56,
   "id": "af5d971f",
   "metadata": {},
   "outputs": [
    {
     "name": "stdout",
     "output_type": "stream",
     "text": [
      "it took 1.0 minutes to complete\n"
     ]
    }
   ],
   "source": [
    "# this will take about 1 minute\n",
    "start = time.time()\n",
    "gdf = match_taxlot(setID=set_ID, all_taxlot=all_taxlot, export=False)\n",
    "end = time.time()\n",
    "print(f'it took {round((end - start)/60, 0)} minutes to complete')"
   ]
  },
  {
   "cell_type": "code",
   "execution_count": 57,
   "id": "635b7a3b",
   "metadata": {
    "scrolled": true
   },
   "outputs": [
    {
     "data": {
      "text/plain": [
       "(2400, 31)"
      ]
     },
     "execution_count": 57,
     "metadata": {},
     "output_type": "execute_result"
    }
   ],
   "source": [
    "gdf.shape"
   ]
  },
  {
   "cell_type": "code",
   "execution_count": 74,
   "id": "f0566b5a",
   "metadata": {},
   "outputs": [
    {
     "ename": "AttributeError",
     "evalue": "'DataFrame' object has no attribute 'ORTaxlot'",
     "output_type": "error",
     "traceback": [
      "\u001b[1;31m---------------------------------------------------------------------------\u001b[0m",
      "\u001b[1;31mAttributeError\u001b[0m                            Traceback (most recent call last)",
      "Cell \u001b[1;32mIn[74], line 3\u001b[0m\n\u001b[0;32m      1\u001b[0m \u001b[38;5;66;03m# this will take about 1 minute\u001b[39;00m\n\u001b[0;32m      2\u001b[0m start \u001b[38;5;241m=\u001b[39m time\u001b[38;5;241m.\u001b[39mtime()\n\u001b[1;32m----> 3\u001b[0m ngdf \u001b[38;5;241m=\u001b[39m \u001b[43mcheck_corrected_data\u001b[49m\u001b[43m(\u001b[49m\u001b[43msetID\u001b[49m\u001b[38;5;241;43m=\u001b[39;49m\u001b[43mset_ID\u001b[49m\u001b[43m,\u001b[49m\u001b[43m \u001b[49m\u001b[43mall_taxlot\u001b[49m\u001b[38;5;241;43m=\u001b[39;49m\u001b[43mall_taxlot\u001b[49m\u001b[43m,\u001b[49m\u001b[43m \u001b[49m\u001b[43mexport\u001b[49m\u001b[38;5;241;43m=\u001b[39;49m\u001b[38;5;28;43;01mFalse\u001b[39;49;00m\u001b[43m)\u001b[49m\n\u001b[0;32m      4\u001b[0m end \u001b[38;5;241m=\u001b[39m time\u001b[38;5;241m.\u001b[39mtime()\n\u001b[0;32m      5\u001b[0m \u001b[38;5;28mprint\u001b[39m(\u001b[38;5;124mf\u001b[39m\u001b[38;5;124m'\u001b[39m\u001b[38;5;124mit took \u001b[39m\u001b[38;5;132;01m{\u001b[39;00m\u001b[38;5;28mround\u001b[39m((end \u001b[38;5;241m-\u001b[39m start)\u001b[38;5;241m/\u001b[39m\u001b[38;5;241m60\u001b[39m, \u001b[38;5;241m0\u001b[39m)\u001b[38;5;132;01m}\u001b[39;00m\u001b[38;5;124m minutes to complete\u001b[39m\u001b[38;5;124m'\u001b[39m)\n",
      "Cell \u001b[1;32mIn[73], line 29\u001b[0m, in \u001b[0;36mcheck_corrected_data\u001b[1;34m(setID, all_taxlot, export)\u001b[0m\n\u001b[0;32m     27\u001b[0m df_wlots_to_check \u001b[38;5;241m=\u001b[39m df_wlots[df_wlots\u001b[38;5;241m.\u001b[39mwetdet_delin_number\u001b[38;5;241m.\u001b[39misin(wdID_to_check\u001b[38;5;241m+\u001b[39mcomIDs)]\n\u001b[0;32m     28\u001b[0m cor_df\u001b[38;5;241m.\u001b[39mloc[:, \u001b[38;5;124m'\u001b[39m\u001b[38;5;124mcounty\u001b[39m\u001b[38;5;124m'\u001b[39m] \u001b[38;5;241m=\u001b[39m cor_df\u001b[38;5;241m.\u001b[39mcounty\u001b[38;5;241m.\u001b[39mapply(\u001b[38;5;28;01mlambda\u001b[39;00m x: string\u001b[38;5;241m.\u001b[39mcapwords(x))\n\u001b[1;32m---> 29\u001b[0m cor_df_re \u001b[38;5;241m=\u001b[39m \u001b[43mrematch_data\u001b[49m\u001b[43m(\u001b[49m\u001b[43mdf\u001b[49m\u001b[38;5;241;43m=\u001b[39;49m\u001b[43mcor_df\u001b[49m\u001b[43m,\u001b[49m\u001b[43m \u001b[49m\u001b[43msetID\u001b[49m\u001b[38;5;241;43m=\u001b[39;49m\u001b[43msetID\u001b[49m\u001b[43m,\u001b[49m\u001b[43m \u001b[49m\u001b[43mall_taxlot\u001b[49m\u001b[38;5;241;43m=\u001b[39;49m\u001b[43mall_taxlot\u001b[49m\u001b[43m)\u001b[49m\n\u001b[0;32m     30\u001b[0m ngdf \u001b[38;5;241m=\u001b[39m gdf\u001b[38;5;241m.\u001b[39mappend(cor_df_re[gdf\u001b[38;5;241m.\u001b[39mcolumns])\n\u001b[0;32m     31\u001b[0m \u001b[38;5;28;01mif\u001b[39;00m export:\n",
      "Cell \u001b[1;32mIn[71], line 226\u001b[0m, in \u001b[0;36mrematch_data\u001b[1;34m(df, setID, all_taxlot)\u001b[0m\n\u001b[0;32m    224\u001b[0m \u001b[38;5;28;01mdef\u001b[39;00m \u001b[38;5;21mrematch_data\u001b[39m(df, setID, all_taxlot):\n\u001b[0;32m    225\u001b[0m     all_txid \u001b[38;5;241m=\u001b[39m all_taxlot\u001b[38;5;241m.\u001b[39mORTaxlot\u001b[38;5;241m.\u001b[39munique()\n\u001b[1;32m--> 226\u001b[0m     tocheck_txid \u001b[38;5;241m=\u001b[39m \u001b[43mdf\u001b[49m\u001b[38;5;241;43m.\u001b[39;49m\u001b[43mORTaxlot\u001b[49m\u001b[38;5;241m.\u001b[39munique()\n\u001b[0;32m    227\u001b[0m     found \u001b[38;5;241m=\u001b[39m [txid \u001b[38;5;28;01mfor\u001b[39;00m txid \u001b[38;5;129;01min\u001b[39;00m tocheck_txid \u001b[38;5;28;01mif\u001b[39;00m txid \u001b[38;5;129;01min\u001b[39;00m all_txid]\n\u001b[0;32m    228\u001b[0m     \u001b[38;5;28;01mif\u001b[39;00m \u001b[38;5;28mlen\u001b[39m(found) \u001b[38;5;241m>\u001b[39m \u001b[38;5;241m0\u001b[39m:\n",
      "File \u001b[1;32m~\\AppData\\Anaconda3\\envs\\geoenv\\lib\\site-packages\\pandas\\core\\generic.py:5487\u001b[0m, in \u001b[0;36mNDFrame.__getattr__\u001b[1;34m(self, name)\u001b[0m\n\u001b[0;32m   5480\u001b[0m \u001b[38;5;28;01mif\u001b[39;00m (\n\u001b[0;32m   5481\u001b[0m     name \u001b[38;5;129;01mnot\u001b[39;00m \u001b[38;5;129;01min\u001b[39;00m \u001b[38;5;28mself\u001b[39m\u001b[38;5;241m.\u001b[39m_internal_names_set\n\u001b[0;32m   5482\u001b[0m     \u001b[38;5;129;01mand\u001b[39;00m name \u001b[38;5;129;01mnot\u001b[39;00m \u001b[38;5;129;01min\u001b[39;00m \u001b[38;5;28mself\u001b[39m\u001b[38;5;241m.\u001b[39m_metadata\n\u001b[0;32m   5483\u001b[0m     \u001b[38;5;129;01mand\u001b[39;00m name \u001b[38;5;129;01mnot\u001b[39;00m \u001b[38;5;129;01min\u001b[39;00m \u001b[38;5;28mself\u001b[39m\u001b[38;5;241m.\u001b[39m_accessors\n\u001b[0;32m   5484\u001b[0m     \u001b[38;5;129;01mand\u001b[39;00m \u001b[38;5;28mself\u001b[39m\u001b[38;5;241m.\u001b[39m_info_axis\u001b[38;5;241m.\u001b[39m_can_hold_identifiers_and_holds_name(name)\n\u001b[0;32m   5485\u001b[0m ):\n\u001b[0;32m   5486\u001b[0m     \u001b[38;5;28;01mreturn\u001b[39;00m \u001b[38;5;28mself\u001b[39m[name]\n\u001b[1;32m-> 5487\u001b[0m \u001b[38;5;28;01mreturn\u001b[39;00m \u001b[38;5;28;43mobject\u001b[39;49m\u001b[38;5;241;43m.\u001b[39;49m\u001b[38;5;21;43m__getattribute__\u001b[39;49m\u001b[43m(\u001b[49m\u001b[38;5;28;43mself\u001b[39;49m\u001b[43m,\u001b[49m\u001b[43m \u001b[49m\u001b[43mname\u001b[49m\u001b[43m)\u001b[49m\n",
      "\u001b[1;31mAttributeError\u001b[0m: 'DataFrame' object has no attribute 'ORTaxlot'"
     ]
    }
   ],
   "source": [
    "# this will take about 1 minute\n",
    "start = time.time()\n",
    "ngdf = check_corrected_data(setID=set_ID, all_taxlot=all_taxlot, export=False)\n",
    "end = time.time()\n",
    "print(f'it took {round((end - start)/60, 0)} minutes to complete')"
   ]
  },
  {
   "cell_type": "code",
   "execution_count": 60,
   "id": "77d411f2",
   "metadata": {},
   "outputs": [],
   "source": [
    "setID = 'Set001'"
   ]
  },
  {
   "cell_type": "code",
   "execution_count": 76,
   "id": "72c06576",
   "metadata": {},
   "outputs": [],
   "source": [
    "corrected = pd.read_excel(os.path.join(inpath, 'DSL data originals', 'Data corrections feedback to DSL', \n",
    "                           f'DSL Database corrections {setID}.xlsx'))\n",
    "corrected.rename(columns={'trsqq': 'cor_trsqq',\n",
    "                          'parcel_id':'cor_parcel_id'}, inplace=True)\n",
    "res = review_with_lots(setID, all_taxlot)\n",
    "gdf = res[0]\n",
    "df_wlots = res[1]\n",
    "IDs1 = check_duplicates(df_wlots.wetdet_delin_number.values)[0]\n",
    "IDs2 = check_duplicates(corrected.wetdet_delin_number.values)[0]\n",
    "comIDs = [ID for ID in IDs1 if ID in IDs2]\n",
    "wdID_to_check = [wdID for wdID in df_wlots.wetdet_delin_number.values if wdID not in corrected.wetdet_delin_number.values]\n",
    "cols1 = df_wlots.columns\n",
    "cols2 = corrected.columns\n",
    "comcols = [col for col in cols1 if col in cols2]\n",
    "cols = [col for col in df_wlots.columns if col not in comcols]\n",
    "cols.append('wetdet_delin_number')\n",
    "df_wlots = df_wlots[cols]"
   ]
  },
  {
   "cell_type": "code",
   "execution_count": 77,
   "id": "68526676",
   "metadata": {},
   "outputs": [],
   "source": [
    "if len(comIDs) > 0:\n",
    "        df_wlots = df_wlots[~df_wlots.wetdet_delin_number.isin(comIDs)]\n",
    "        corrected = corrected[~corrected.wetdet_delin_number.isin(comIDs)]\n",
    "cor_df = corrected.merge(df_wlots, on = 'wetdet_delin_number')\n",
    "cor_df = cor_df.drop(['trsqq', 'parcel_id'], axis=1)\n",
    "cor_df.rename(columns={'cor_trsqq': 'trsqq', \n",
    "                      'cor_parcel_id': 'parcel_id',\n",
    "                      'year': 'Year'}, inplace=True)\n",
    "df_wlots_to_check = df_wlots[df_wlots.wetdet_delin_number.isin(wdID_to_check+comIDs)]\n",
    "cor_df.loc[:, 'county'] = cor_df.county.apply(lambda x: string.capwords(x))"
   ]
  },
  {
   "cell_type": "code",
   "execution_count": 78,
   "id": "9f91ca01",
   "metadata": {},
   "outputs": [
    {
     "data": {
      "text/plain": [
       "Index(['wetdet_delin_number', 'trsqq', 'parcel_id', 'address_location_desc',\n",
       "       'city', 'county', 'site_name', 'site_desc', 'latitude', 'longitude',\n",
       "       'matched ORTAXLOT#', 'Coord-Source', 'DocumentName', 'DecisionLink',\n",
       "       'is_batch_file', 'status_name', 'received_date', 'response_date',\n",
       "       'reissuance_response_date', 'project_id', 'site_id', 'record_ID',\n",
       "       'notes', 'recyear', 'IDyear', 'missinglot'],\n",
       "      dtype='object')"
      ]
     },
     "execution_count": 78,
     "metadata": {},
     "output_type": "execute_result"
    }
   ],
   "source": [
    "cor_df.columns"
   ]
  },
  {
   "cell_type": "code",
   "execution_count": 79,
   "id": "04f6c88a",
   "metadata": {},
   "outputs": [],
   "source": [
    "cor_df = reindex_data(cor_df)\n",
    "cor_df_re = rematch_data(df=cor_df, setID=setID, all_taxlot=all_taxlot)"
   ]
  },
  {
   "cell_type": "code",
   "execution_count": 82,
   "id": "afc060d1",
   "metadata": {},
   "outputs": [
    {
     "data": {
      "text/plain": [
       "Index(['wdID', 'trsqq', 'parcel_id', 'loc_desc', 'city', 'county', 'site_name',\n",
       "       'site_desc', 'latitude', 'longitude', 'coord_src', 'doc_name',\n",
       "       'doc_link', 'isbatfile', 'status_nm', 'receiveddt', 'responsedt',\n",
       "       'reissuance', 'project_id', 'site_id', 'recordID', 'notes', 'lots',\n",
       "       'lot', 'cnt_code', 'ORTaxlot', 'recyear', 'IDyear', 'missinglot',\n",
       "       'record_ID', 'geometry'],\n",
       "      dtype='object')"
      ]
     },
     "execution_count": 82,
     "metadata": {},
     "output_type": "execute_result"
    }
   ],
   "source": [
    "gdf.columns"
   ]
  },
  {
   "cell_type": "code",
   "execution_count": 89,
   "id": "1d5e3649",
   "metadata": {},
   "outputs": [],
   "source": [
    "collist = list(gdf.columns)"
   ]
  },
  {
   "cell_type": "code",
   "execution_count": 90,
   "id": "5444c7dd",
   "metadata": {},
   "outputs": [
    {
     "data": {
      "text/plain": [
       "['wdID',\n",
       " 'trsqq',\n",
       " 'parcel_id',\n",
       " 'loc_desc',\n",
       " 'city',\n",
       " 'county',\n",
       " 'site_name',\n",
       " 'site_desc',\n",
       " 'latitude',\n",
       " 'longitude',\n",
       " 'coord_src',\n",
       " 'doc_name',\n",
       " 'doc_link',\n",
       " 'isbatfile',\n",
       " 'status_nm',\n",
       " 'receiveddt',\n",
       " 'responsedt',\n",
       " 'reissuance',\n",
       " 'project_id',\n",
       " 'site_id',\n",
       " 'recordID',\n",
       " 'notes',\n",
       " 'lots',\n",
       " 'lot',\n",
       " 'cnt_code',\n",
       " 'ORTaxlot',\n",
       " 'recyear',\n",
       " 'IDyear',\n",
       " 'missinglot',\n",
       " 'record_ID',\n",
       " 'geometry']"
      ]
     },
     "execution_count": 90,
     "metadata": {},
     "output_type": "execute_result"
    }
   ],
   "source": [
    "collist"
   ]
  },
  {
   "cell_type": "code",
   "execution_count": 91,
   "id": "4f10f6a3",
   "metadata": {},
   "outputs": [],
   "source": [
    "collist.remove('recordID')"
   ]
  },
  {
   "cell_type": "code",
   "execution_count": 88,
   "id": "78b986a6",
   "metadata": {},
   "outputs": [
    {
     "data": {
      "text/plain": [
       "Index(['wdID', 'trsqq', 'parcel_id', 'loc_desc', 'city', 'county', 'site_name',\n",
       "       'site_desc', 'latitude', 'longitude', 'matched ORTAXLOT#', 'coord_src',\n",
       "       'doc_name', 'doc_link', 'isbatfile', 'status_nm', 'receiveddt',\n",
       "       'responsedt', 'reissuance', 'project_id', 'site_id', 'record_ID',\n",
       "       'notes', 'recyear', 'IDyear', 'missinglot', 'lots', 'lot', 'cnt_code',\n",
       "       'ORTaxlot', 'geometry'],\n",
       "      dtype='object')"
      ]
     },
     "execution_count": 88,
     "metadata": {},
     "output_type": "execute_result"
    }
   ],
   "source": [
    "cor_df_re.columns"
   ]
  },
  {
   "cell_type": "code",
   "execution_count": 92,
   "id": "cf4354aa",
   "metadata": {},
   "outputs": [],
   "source": [
    "ngdf = gdf.append(cor_df_re[collist])"
   ]
  },
  {
   "cell_type": "code",
   "execution_count": 40,
   "id": "db430c4e",
   "metadata": {},
   "outputs": [],
   "source": [
    "wd_df = combine_wd_tables(set_ID)"
   ]
  },
  {
   "cell_type": "code",
   "execution_count": 41,
   "id": "327b1b4f",
   "metadata": {},
   "outputs": [
    {
     "data": {
      "text/plain": [
       "(1420, 25)"
      ]
     },
     "execution_count": 41,
     "metadata": {},
     "output_type": "execute_result"
    }
   ],
   "source": [
    "wd_df.shape"
   ]
  },
  {
   "cell_type": "code",
   "execution_count": 42,
   "id": "7d45d572",
   "metadata": {},
   "outputs": [
    {
     "data": {
      "text/plain": [
       "1308"
      ]
     },
     "execution_count": 42,
     "metadata": {},
     "output_type": "execute_result"
    }
   ],
   "source": [
    "len(gdf.record_ID.unique())"
   ]
  },
  {
   "cell_type": "code",
   "execution_count": 51,
   "id": "920a9fa7",
   "metadata": {},
   "outputs": [],
   "source": [
    "def combined_reindexed_data(setID):\n",
    "    frames = []\n",
    "    files = list_files(os.path.join(wdpath, setID))\n",
    "    # in case there are unidentified files\n",
    "    files = [file for file in files if '~$' not in file]\n",
    "    for file in files:\n",
    "        wd_dt = clean_wd_table(setID, file = file)  \n",
    "        frames.append(wd_dt)\n",
    "    df = pd.concat(frames, ignore_index=True)\n",
    "    wd_df = update_record(df, setID)\n",
    "    return wd_df "
   ]
  },
  {
   "cell_type": "code",
   "execution_count": 53,
   "id": "dddaf065",
   "metadata": {},
   "outputs": [],
   "source": [
    "wd_df = combined_reindexed_data(set_ID)"
   ]
  },
  {
   "cell_type": "code",
   "execution_count": 55,
   "id": "04e118de",
   "metadata": {},
   "outputs": [],
   "source": [
    "def match_taxlot(setID, all_taxlot, export=False):\n",
    "    all_txid = all_taxlot.ORTaxlot.unique()\n",
    "    wd_df = combined_reindexed_data(setID)\n",
    "    gdf = rematch_data(df=wd_df, setID=setID, all_taxlot=all_taxlot)\n",
    "    if export:\n",
    "        gdf[~gdf.geometry.isnull()].to_file(os.path.join(inpath + f'\\\\{outfolder}\\\\', f'matched_records_{setID}.shp'), \n",
    "                                                  driver='ESRI Shapefile')  \n",
    "    return gdf"
   ]
  },
  {
   "cell_type": "code",
   "execution_count": 54,
   "id": "e56ff399",
   "metadata": {},
   "outputs": [
    {
     "data": {
      "text/plain": [
       "Index(['wetdet_delin_number', 'trsqq', 'parcel_id', 'address_location_desc',\n",
       "       'city', 'county', 'site_name', 'site_desc', 'latitude', 'longitude',\n",
       "       'Coord-Source', 'DocumentName', 'DecisionLink', 'is_batch_file',\n",
       "       'status_name', 'received_date', 'response_date',\n",
       "       'reissuance_response_date', 'project_id', 'site_id', 'recordID',\n",
       "       'notes', 'lots', 'lot', 'cnt_code', 'ORTaxlot', 'recyear', 'IDyear',\n",
       "       'missinglot', 'record_ID'],\n",
       "      dtype='object')"
      ]
     },
     "execution_count": 54,
     "metadata": {},
     "output_type": "execute_result"
    }
   ],
   "source": [
    "wd_df.columns"
   ]
  },
  {
   "cell_type": "code",
   "execution_count": 43,
   "id": "6550387b",
   "metadata": {
    "scrolled": true
   },
   "outputs": [
    {
     "data": {
      "text/plain": [
       "Index(['wdID', 'trsqq', 'parcel_id', 'loc_desc', 'city', 'county', 'site_name',\n",
       "       'site_desc', 'latitude', 'longitude', 'coord_src', 'doc_name',\n",
       "       'doc_link', 'isbatfile', 'status_nm', 'receiveddt', 'responsedt',\n",
       "       'reissuance', 'project_id', 'site_id', 'recordID', 'notes', 'lots',\n",
       "       'lot', 'cnt_code', 'ORTaxlot', 'recyear', 'IDyear', 'missinglot',\n",
       "       'record_ID', 'geometry'],\n",
       "      dtype='object')"
      ]
     },
     "execution_count": 43,
     "metadata": {},
     "output_type": "execute_result"
    }
   ],
   "source": [
    "gdf.columns"
   ]
  },
  {
   "cell_type": "code",
   "execution_count": 49,
   "id": "9daf2ecb",
   "metadata": {},
   "outputs": [
    {
     "ename": "AttributeError",
     "evalue": "'DataFrame' object has no attribute 'ORTaxlot'",
     "output_type": "error",
     "traceback": [
      "\u001b[1;31m---------------------------------------------------------------------------\u001b[0m",
      "\u001b[1;31mAttributeError\u001b[0m                            Traceback (most recent call last)",
      "Cell \u001b[1;32mIn[49], line 2\u001b[0m\n\u001b[0;32m      1\u001b[0m all_txid \u001b[38;5;241m=\u001b[39m all_taxlot\u001b[38;5;241m.\u001b[39mORTaxlot\u001b[38;5;241m.\u001b[39munique()\n\u001b[1;32m----> 2\u001b[0m tocheck_txid \u001b[38;5;241m=\u001b[39m \u001b[43mwd_df\u001b[49m\u001b[38;5;241;43m.\u001b[39;49m\u001b[43mORTaxlot\u001b[49m\u001b[38;5;241m.\u001b[39munique()\n\u001b[0;32m      3\u001b[0m found \u001b[38;5;241m=\u001b[39m [txid \u001b[38;5;28;01mfor\u001b[39;00m txid \u001b[38;5;129;01min\u001b[39;00m tocheck_txid \u001b[38;5;28;01mif\u001b[39;00m txid \u001b[38;5;129;01min\u001b[39;00m all_txid]\n",
      "File \u001b[1;32m~\\AppData\\Anaconda3\\envs\\geoenv\\lib\\site-packages\\pandas\\core\\generic.py:5487\u001b[0m, in \u001b[0;36mNDFrame.__getattr__\u001b[1;34m(self, name)\u001b[0m\n\u001b[0;32m   5480\u001b[0m \u001b[38;5;28;01mif\u001b[39;00m (\n\u001b[0;32m   5481\u001b[0m     name \u001b[38;5;129;01mnot\u001b[39;00m \u001b[38;5;129;01min\u001b[39;00m \u001b[38;5;28mself\u001b[39m\u001b[38;5;241m.\u001b[39m_internal_names_set\n\u001b[0;32m   5482\u001b[0m     \u001b[38;5;129;01mand\u001b[39;00m name \u001b[38;5;129;01mnot\u001b[39;00m \u001b[38;5;129;01min\u001b[39;00m \u001b[38;5;28mself\u001b[39m\u001b[38;5;241m.\u001b[39m_metadata\n\u001b[0;32m   5483\u001b[0m     \u001b[38;5;129;01mand\u001b[39;00m name \u001b[38;5;129;01mnot\u001b[39;00m \u001b[38;5;129;01min\u001b[39;00m \u001b[38;5;28mself\u001b[39m\u001b[38;5;241m.\u001b[39m_accessors\n\u001b[0;32m   5484\u001b[0m     \u001b[38;5;129;01mand\u001b[39;00m \u001b[38;5;28mself\u001b[39m\u001b[38;5;241m.\u001b[39m_info_axis\u001b[38;5;241m.\u001b[39m_can_hold_identifiers_and_holds_name(name)\n\u001b[0;32m   5485\u001b[0m ):\n\u001b[0;32m   5486\u001b[0m     \u001b[38;5;28;01mreturn\u001b[39;00m \u001b[38;5;28mself\u001b[39m[name]\n\u001b[1;32m-> 5487\u001b[0m \u001b[38;5;28;01mreturn\u001b[39;00m \u001b[38;5;28;43mobject\u001b[39;49m\u001b[38;5;241;43m.\u001b[39;49m\u001b[38;5;21;43m__getattribute__\u001b[39;49m\u001b[43m(\u001b[49m\u001b[38;5;28;43mself\u001b[39;49m\u001b[43m,\u001b[49m\u001b[43m \u001b[49m\u001b[43mname\u001b[49m\u001b[43m)\u001b[49m\n",
      "\u001b[1;31mAttributeError\u001b[0m: 'DataFrame' object has no attribute 'ORTaxlot'"
     ]
    }
   ],
   "source": [
    "all_txid = all_taxlot.ORTaxlot.unique()\n",
    "tocheck_txid = wd_df.ORTaxlot.unique()\n",
    "found = [txid for txid in tocheck_txid if txid in all_txid]"
   ]
  },
  {
   "cell_type": "code",
   "execution_count": null,
   "id": "adf9d18b",
   "metadata": {},
   "outputs": [],
   "source": [
    "taxlot_tocheck = all_taxlot[all_taxlot.ORTaxlot.isin(found)]\n",
    "taxlot_tocheck = taxlot_tocheck.merge(tocheck_df, on='ORTaxlot', how='left')\n",
    "taxlot_tocheck.loc[:, 'ydiff'] = taxlot_tocheck[['year', 'IDyear']].apply(lambda row: abs(int(row.year) - int(row.IDyear)), axis=1)\n",
    "tdf = taxlot_tocheck.sort_values(by=['ORTaxlot', 'ydiff'])"
   ]
  },
  {
   "cell_type": "code",
   "execution_count": 48,
   "id": "c0588671",
   "metadata": {},
   "outputs": [
    {
     "ename": "KeyError",
     "evalue": "\"['geometry'] not in index\"",
     "output_type": "error",
     "traceback": [
      "\u001b[1;31m---------------------------------------------------------------------------\u001b[0m",
      "\u001b[1;31mKeyError\u001b[0m                                  Traceback (most recent call last)",
      "Cell \u001b[1;32mIn[48], line 2\u001b[0m\n\u001b[0;32m      1\u001b[0m start \u001b[38;5;241m=\u001b[39m time\u001b[38;5;241m.\u001b[39mtime()\n\u001b[1;32m----> 2\u001b[0m ngdf \u001b[38;5;241m=\u001b[39m \u001b[43mcheck_corrected_data\u001b[49m\u001b[43m(\u001b[49m\u001b[43mgdf\u001b[49m\u001b[38;5;241;43m=\u001b[39;49m\u001b[43mgdf\u001b[49m\u001b[43m,\u001b[49m\u001b[43m \u001b[49m\u001b[43msetID\u001b[49m\u001b[38;5;241;43m=\u001b[39;49m\u001b[43mset_ID\u001b[49m\u001b[43m,\u001b[49m\u001b[43m \u001b[49m\u001b[43mall_taxlot\u001b[49m\u001b[38;5;241;43m=\u001b[39;49m\u001b[43mall_taxlot\u001b[49m\u001b[43m,\u001b[49m\u001b[43m \u001b[49m\u001b[43mexport\u001b[49m\u001b[38;5;241;43m=\u001b[39;49m\u001b[38;5;28;43;01mFalse\u001b[39;49;00m\u001b[43m)\u001b[49m\n\u001b[0;32m      3\u001b[0m end \u001b[38;5;241m=\u001b[39m time\u001b[38;5;241m.\u001b[39mtime()\n\u001b[0;32m      4\u001b[0m \u001b[38;5;28mprint\u001b[39m(\u001b[38;5;124mf\u001b[39m\u001b[38;5;124m'\u001b[39m\u001b[38;5;124mit took \u001b[39m\u001b[38;5;132;01m{\u001b[39;00m\u001b[38;5;28mround\u001b[39m((end \u001b[38;5;241m-\u001b[39m start)\u001b[38;5;241m/\u001b[39m\u001b[38;5;241m60\u001b[39m, \u001b[38;5;241m0\u001b[39m)\u001b[38;5;132;01m}\u001b[39;00m\u001b[38;5;124m minutes to complete\u001b[39m\u001b[38;5;124m'\u001b[39m)\n",
      "Cell \u001b[1;32mIn[47], line 28\u001b[0m, in \u001b[0;36mcheck_corrected_data\u001b[1;34m(gdf, setID, all_taxlot, export)\u001b[0m\n\u001b[0;32m     26\u001b[0m df_wlots_to_check \u001b[38;5;241m=\u001b[39m df_wlots[df_wlots\u001b[38;5;241m.\u001b[39mwdID\u001b[38;5;241m.\u001b[39misin(wdID_to_check\u001b[38;5;241m+\u001b[39mcomIDs)]\n\u001b[0;32m     27\u001b[0m cor_df\u001b[38;5;241m.\u001b[39mloc[:, \u001b[38;5;124m'\u001b[39m\u001b[38;5;124mcounty\u001b[39m\u001b[38;5;124m'\u001b[39m] \u001b[38;5;241m=\u001b[39m cor_df\u001b[38;5;241m.\u001b[39mcounty\u001b[38;5;241m.\u001b[39mapply(\u001b[38;5;28;01mlambda\u001b[39;00m x: string\u001b[38;5;241m.\u001b[39mcapwords(x))\n\u001b[1;32m---> 28\u001b[0m cor_df_re \u001b[38;5;241m=\u001b[39m \u001b[43mrematch_data\u001b[49m\u001b[43m(\u001b[49m\u001b[43mdf\u001b[49m\u001b[38;5;241;43m=\u001b[39;49m\u001b[43mcor_df\u001b[49m\u001b[43m,\u001b[49m\u001b[43m \u001b[49m\u001b[43msetID\u001b[49m\u001b[38;5;241;43m=\u001b[39;49m\u001b[43msetID\u001b[49m\u001b[43m,\u001b[49m\u001b[43m \u001b[49m\u001b[43mall_taxlot\u001b[49m\u001b[38;5;241;43m=\u001b[39;49m\u001b[43mall_taxlot\u001b[49m\u001b[43m)\u001b[49m\n\u001b[0;32m     29\u001b[0m ngdf \u001b[38;5;241m=\u001b[39m gdf\u001b[38;5;241m.\u001b[39mappend(cor_df_re[gdf\u001b[38;5;241m.\u001b[39mcolumns])\n\u001b[0;32m     30\u001b[0m \u001b[38;5;28;01mif\u001b[39;00m export:\n",
      "Cell \u001b[1;32mIn[34], line 13\u001b[0m, in \u001b[0;36mrematch_data\u001b[1;34m(df, setID, all_taxlot)\u001b[0m\n\u001b[0;32m     11\u001b[0m \u001b[38;5;66;03m# keep the taxlot from the closest year\u001b[39;00m\n\u001b[0;32m     12\u001b[0m tdf \u001b[38;5;241m=\u001b[39m tdf\u001b[38;5;241m.\u001b[39mdrop_duplicates(subset\u001b[38;5;241m=\u001b[39m\u001b[38;5;124m'\u001b[39m\u001b[38;5;124mORTaxlot\u001b[39m\u001b[38;5;124m'\u001b[39m, keep\u001b[38;5;241m=\u001b[39m\u001b[38;5;124m\"\u001b[39m\u001b[38;5;124mfirst\u001b[39m\u001b[38;5;124m\"\u001b[39m)\n\u001b[1;32m---> 13\u001b[0m tocheck_gdf \u001b[38;5;241m=\u001b[39m tocheck_df\u001b[38;5;241m.\u001b[39mmerge(\u001b[43mtdf\u001b[49m\u001b[43m[\u001b[49m\u001b[43m[\u001b[49m\u001b[38;5;124;43m'\u001b[39;49m\u001b[38;5;124;43mORTaxlot\u001b[39;49m\u001b[38;5;124;43m'\u001b[39;49m\u001b[43m,\u001b[49m\u001b[43m \u001b[49m\u001b[38;5;124;43m'\u001b[39;49m\u001b[38;5;124;43mgeometry\u001b[39;49m\u001b[38;5;124;43m'\u001b[39;49m\u001b[43m]\u001b[49m\u001b[43m]\u001b[49m, on\u001b[38;5;241m=\u001b[39m\u001b[38;5;124m'\u001b[39m\u001b[38;5;124mORTaxlot\u001b[39m\u001b[38;5;124m'\u001b[39m)\n\u001b[0;32m     14\u001b[0m tocheck_gdf\u001b[38;5;241m.\u001b[39mrename(columns\u001b[38;5;241m=\u001b[39m{\u001b[38;5;124m'\u001b[39m\u001b[38;5;124mwetdet_delin_number\u001b[39m\u001b[38;5;124m'\u001b[39m: \u001b[38;5;124m'\u001b[39m\u001b[38;5;124mwdID\u001b[39m\u001b[38;5;124m'\u001b[39m, \n\u001b[0;32m     15\u001b[0m               \u001b[38;5;124m'\u001b[39m\u001b[38;5;124maddress_location_desc\u001b[39m\u001b[38;5;124m'\u001b[39m:\u001b[38;5;124m'\u001b[39m\u001b[38;5;124mloc_desc\u001b[39m\u001b[38;5;124m'\u001b[39m, \n\u001b[0;32m     16\u001b[0m               \u001b[38;5;124m'\u001b[39m\u001b[38;5;124mCoord-Source\u001b[39m\u001b[38;5;124m'\u001b[39m: \u001b[38;5;124m'\u001b[39m\u001b[38;5;124mcoord_src\u001b[39m\u001b[38;5;124m'\u001b[39m,\n\u001b[1;32m   (...)\u001b[0m\n\u001b[0;32m     23\u001b[0m               \u001b[38;5;124m'\u001b[39m\u001b[38;5;124mreissuance_response_date\u001b[39m\u001b[38;5;124m'\u001b[39m:\u001b[38;5;124m'\u001b[39m\u001b[38;5;124mreissuance\u001b[39m\u001b[38;5;124m'\u001b[39m, \n\u001b[0;32m     24\u001b[0m               }, inplace\u001b[38;5;241m=\u001b[39m\u001b[38;5;28;01mTrue\u001b[39;00m)\n\u001b[0;32m     25\u001b[0m \u001b[38;5;28;01mreturn\u001b[39;00m tocheck_gdf\n",
      "File \u001b[1;32m~\\AppData\\Anaconda3\\envs\\geoenv\\lib\\site-packages\\pandas\\core\\frame.py:3464\u001b[0m, in \u001b[0;36mDataFrame.__getitem__\u001b[1;34m(self, key)\u001b[0m\n\u001b[0;32m   3462\u001b[0m     \u001b[38;5;28;01mif\u001b[39;00m is_iterator(key):\n\u001b[0;32m   3463\u001b[0m         key \u001b[38;5;241m=\u001b[39m \u001b[38;5;28mlist\u001b[39m(key)\n\u001b[1;32m-> 3464\u001b[0m     indexer \u001b[38;5;241m=\u001b[39m \u001b[38;5;28;43mself\u001b[39;49m\u001b[38;5;241;43m.\u001b[39;49m\u001b[43mloc\u001b[49m\u001b[38;5;241;43m.\u001b[39;49m\u001b[43m_get_listlike_indexer\u001b[49m\u001b[43m(\u001b[49m\u001b[43mkey\u001b[49m\u001b[43m,\u001b[49m\u001b[43m \u001b[49m\u001b[43maxis\u001b[49m\u001b[38;5;241;43m=\u001b[39;49m\u001b[38;5;241;43m1\u001b[39;49m\u001b[43m)\u001b[49m[\u001b[38;5;241m1\u001b[39m]\n\u001b[0;32m   3466\u001b[0m \u001b[38;5;66;03m# take() does not accept boolean indexers\u001b[39;00m\n\u001b[0;32m   3467\u001b[0m \u001b[38;5;28;01mif\u001b[39;00m \u001b[38;5;28mgetattr\u001b[39m(indexer, \u001b[38;5;124m\"\u001b[39m\u001b[38;5;124mdtype\u001b[39m\u001b[38;5;124m\"\u001b[39m, \u001b[38;5;28;01mNone\u001b[39;00m) \u001b[38;5;241m==\u001b[39m \u001b[38;5;28mbool\u001b[39m:\n",
      "File \u001b[1;32m~\\AppData\\Anaconda3\\envs\\geoenv\\lib\\site-packages\\pandas\\core\\indexing.py:1314\u001b[0m, in \u001b[0;36m_LocIndexer._get_listlike_indexer\u001b[1;34m(self, key, axis)\u001b[0m\n\u001b[0;32m   1311\u001b[0m \u001b[38;5;28;01melse\u001b[39;00m:\n\u001b[0;32m   1312\u001b[0m     keyarr, indexer, new_indexer \u001b[38;5;241m=\u001b[39m ax\u001b[38;5;241m.\u001b[39m_reindex_non_unique(keyarr)\n\u001b[1;32m-> 1314\u001b[0m \u001b[38;5;28;43mself\u001b[39;49m\u001b[38;5;241;43m.\u001b[39;49m\u001b[43m_validate_read_indexer\u001b[49m\u001b[43m(\u001b[49m\u001b[43mkeyarr\u001b[49m\u001b[43m,\u001b[49m\u001b[43m \u001b[49m\u001b[43mindexer\u001b[49m\u001b[43m,\u001b[49m\u001b[43m \u001b[49m\u001b[43maxis\u001b[49m\u001b[43m)\u001b[49m\n\u001b[0;32m   1316\u001b[0m \u001b[38;5;28;01mif\u001b[39;00m needs_i8_conversion(ax\u001b[38;5;241m.\u001b[39mdtype) \u001b[38;5;129;01mor\u001b[39;00m \u001b[38;5;28misinstance\u001b[39m(\n\u001b[0;32m   1317\u001b[0m     ax, (IntervalIndex, CategoricalIndex)\n\u001b[0;32m   1318\u001b[0m ):\n\u001b[0;32m   1319\u001b[0m     \u001b[38;5;66;03m# For CategoricalIndex take instead of reindex to preserve dtype.\u001b[39;00m\n\u001b[0;32m   1320\u001b[0m     \u001b[38;5;66;03m#  For IntervalIndex this is to map integers to the Intervals they match to.\u001b[39;00m\n\u001b[0;32m   1321\u001b[0m     keyarr \u001b[38;5;241m=\u001b[39m ax\u001b[38;5;241m.\u001b[39mtake(indexer)\n",
      "File \u001b[1;32m~\\AppData\\Anaconda3\\envs\\geoenv\\lib\\site-packages\\pandas\\core\\indexing.py:1377\u001b[0m, in \u001b[0;36m_LocIndexer._validate_read_indexer\u001b[1;34m(self, key, indexer, axis)\u001b[0m\n\u001b[0;32m   1374\u001b[0m     \u001b[38;5;28;01mraise\u001b[39;00m \u001b[38;5;167;01mKeyError\u001b[39;00m(\u001b[38;5;124mf\u001b[39m\u001b[38;5;124m\"\u001b[39m\u001b[38;5;124mNone of [\u001b[39m\u001b[38;5;132;01m{\u001b[39;00mkey\u001b[38;5;132;01m}\u001b[39;00m\u001b[38;5;124m] are in the [\u001b[39m\u001b[38;5;132;01m{\u001b[39;00maxis_name\u001b[38;5;132;01m}\u001b[39;00m\u001b[38;5;124m]\u001b[39m\u001b[38;5;124m\"\u001b[39m)\n\u001b[0;32m   1376\u001b[0m not_found \u001b[38;5;241m=\u001b[39m \u001b[38;5;28mlist\u001b[39m(ensure_index(key)[missing_mask\u001b[38;5;241m.\u001b[39mnonzero()[\u001b[38;5;241m0\u001b[39m]]\u001b[38;5;241m.\u001b[39munique())\n\u001b[1;32m-> 1377\u001b[0m \u001b[38;5;28;01mraise\u001b[39;00m \u001b[38;5;167;01mKeyError\u001b[39;00m(\u001b[38;5;124mf\u001b[39m\u001b[38;5;124m\"\u001b[39m\u001b[38;5;132;01m{\u001b[39;00mnot_found\u001b[38;5;132;01m}\u001b[39;00m\u001b[38;5;124m not in index\u001b[39m\u001b[38;5;124m\"\u001b[39m)\n",
      "\u001b[1;31mKeyError\u001b[0m: \"['geometry'] not in index\""
     ]
    }
   ],
   "source": []
  },
  {
   "cell_type": "code",
   "execution_count": 45,
   "id": "a27f3198",
   "metadata": {},
   "outputs": [],
   "source": [
    "corrected = pd.read_excel(os.path.join(inpath, 'DSL data originals', 'Data corrections feedback to DSL', \n",
    "                           f'DSL Database corrections {set_ID}.xlsx'))\n",
    "corrected.rename(columns={'trsqq': 'cor_trsqq', \n",
    "                      'parcel_id':'cor_parcel_id'}, inplace=True)\n",
    "df_wlots = review_with_lots(gdf, set_ID, all_taxlot)[0]"
   ]
  },
  {
   "cell_type": "code",
   "execution_count": 46,
   "id": "5ce8d78e",
   "metadata": {},
   "outputs": [
    {
     "data": {
      "text/plain": [
       "Index(['wdID', 'trsqq', 'parcel_id', 'loc_desc', 'city', 'county', 'site_name',\n",
       "       'site_desc', 'latitude', 'longitude', 'coord_src', 'doc_name',\n",
       "       'doc_link', 'isbatfile', 'status_nm', 'receiveddt', 'responsedt',\n",
       "       'reissuance', 'project_id', 'site_id', 'recordID', 'notes', 'lots',\n",
       "       'lot', 'cnt_code', 'ORTaxlot', 'recyear', 'IDyear', 'missinglot',\n",
       "       'record_ID', 'geometry'],\n",
       "      dtype='object')"
      ]
     },
     "execution_count": 46,
     "metadata": {},
     "output_type": "execute_result"
    }
   ],
   "source": [
    "df_wlots.columns"
   ]
  },
  {
   "cell_type": "code",
   "execution_count": 24,
   "id": "e53e89ef",
   "metadata": {},
   "outputs": [
    {
     "name": "stderr",
     "output_type": "stream",
     "text": [
      "C:\\Users\\clid1852\\AppData\\Local\\Temp\\ipykernel_18888\\3501787811.py:98: UserWarning: Boolean Series key will be reindexed to match DataFrame index.\n",
      "  ndf.loc[selectedID, 'missinglot'] = ndf[selectedID].parcel_id.apply(lambda x: without_lots(x))\n"
     ]
    }
   ],
   "source": [
    "frames = []\n",
    "files = list_files(os.path.join(wdpath, set_ID))\n",
    "# in case there are unidentified files\n",
    "files = [file for file in files if '~$' not in file]\n",
    "for file in files:\n",
    "    wd_dt = clean_wd_table(set_ID, file = file)  \n",
    "    frames.append(wd_dt)\n",
    "df = pd.concat(frames, ignore_index=True)"
   ]
  },
  {
   "cell_type": "code",
   "execution_count": 29,
   "id": "c7971bbf",
   "metadata": {},
   "outputs": [
    {
     "data": {
      "text/plain": [
       "(2496, 30)"
      ]
     },
     "execution_count": 29,
     "metadata": {},
     "output_type": "execute_result"
    }
   ],
   "source": [
    "wd_df.shape"
   ]
  },
  {
   "cell_type": "code",
   "execution_count": 96,
   "id": "6d84e675",
   "metadata": {},
   "outputs": [],
   "source": [
    "wd_df = combine_wd_tables(set_ID)"
   ]
  },
  {
   "cell_type": "code",
   "execution_count": 28,
   "id": "dcb80131",
   "metadata": {},
   "outputs": [
    {
     "data": {
      "text/plain": [
       "Index(['wetdet_delin_number', 'trsqq', 'parcel_id', 'address_location_desc',\n",
       "       'city', 'county', 'site_name', 'site_desc', 'latitude', 'longitude',\n",
       "       'Coord-Source', 'DocumentName', 'DecisionLink', 'is_batch_file',\n",
       "       'status_name', 'received_date', 'response_date',\n",
       "       'reissuance_response_date', 'project_id', 'site_id', 'recordID',\n",
       "       'notes', 'lots', 'lot', 'cnt_code', 'ORTaxlot', 'recyear', 'IDyear',\n",
       "       'missinglot', 'record_ID'],\n",
       "      dtype='object')"
      ]
     },
     "execution_count": 28,
     "metadata": {},
     "output_type": "execute_result"
    }
   ],
   "source": [
    "wd_df.columns"
   ]
  },
  {
   "cell_type": "code",
   "execution_count": 38,
   "id": "2ba54391",
   "metadata": {},
   "outputs": [
    {
     "data": {
      "text/plain": [
       "1308"
      ]
     },
     "execution_count": 38,
     "metadata": {},
     "output_type": "execute_result"
    }
   ],
   "source": [
    "len(gdf.record_ID.unique())"
   ]
  },
  {
   "cell_type": "code",
   "execution_count": 30,
   "id": "bc443474",
   "metadata": {},
   "outputs": [],
   "source": [
    "all_txid = all_taxlot.ORTaxlot.unique()"
   ]
  },
  {
   "cell_type": "code",
   "execution_count": null,
   "id": "3201ffdd",
   "metadata": {},
   "outputs": [],
   "source": [
    "df_ri = reindex_data(df)"
   ]
  },
  {
   "cell_type": "code",
   "execution_count": 3,
   "id": "4a9b9ec6",
   "metadata": {
    "scrolled": true
   },
   "outputs": [],
   "source": [
    "#gdf = combine_merged_data(setID = set_ID)"
   ]
  },
  {
   "cell_type": "code",
   "execution_count": 31,
   "id": "fdc17e75",
   "metadata": {},
   "outputs": [],
   "source": [
    "#gdf = gpd.read_file(os.path.join(inpath + f'\\\\{outfolder}\\\\', f'matched_records_{set_ID}.shp'), driver='ESRI Shapefile')\n",
    "gdf = gpd.read_file(os.path.join(inpath + f'\\\\{outfolder}\\\\', f'combined_records_in_{set_ID}.shp'), driver='ESRI Shapefile')"
   ]
  },
  {
   "cell_type": "code",
   "execution_count": 4,
   "id": "056bf9e2",
   "metadata": {},
   "outputs": [
    {
     "name": "stdout",
     "output_type": "stream",
     "text": [
      "it took 17.0 minutes to complete\n"
     ]
    }
   ],
   "source": []
  },
  {
   "cell_type": "code",
   "execution_count": 5,
   "id": "23a1bf34",
   "metadata": {},
   "outputs": [],
   "source": [
    "cor_df = check_corrected_data(gdf=gdf, setID=set_ID, all_taxlot=all_taxlot)[0]"
   ]
  },
  {
   "cell_type": "code",
   "execution_count": 6,
   "id": "645c55de",
   "metadata": {},
   "outputs": [],
   "source": [
    "comIDs = check_corrected_data(gdf=gdf, setID=set_ID, all_taxlot=all_taxlot)[1]"
   ]
  },
  {
   "cell_type": "code",
   "execution_count": 7,
   "id": "986441b5",
   "metadata": {},
   "outputs": [
    {
     "data": {
      "text/plain": [
       "(23, 26)"
      ]
     },
     "execution_count": 7,
     "metadata": {},
     "output_type": "execute_result"
    }
   ],
   "source": [
    "cor_df.shape"
   ]
  },
  {
   "cell_type": "code",
   "execution_count": 8,
   "id": "fb419416",
   "metadata": {},
   "outputs": [],
   "source": []
  },
  {
   "cell_type": "code",
   "execution_count": 54,
   "id": "d999f7de",
   "metadata": {},
   "outputs": [
    {
     "data": {
      "text/plain": [
       "(1420, 25)"
      ]
     },
     "execution_count": 54,
     "metadata": {},
     "output_type": "execute_result"
    }
   ],
   "source": [
    "wd_df.shape"
   ]
  },
  {
   "cell_type": "code",
   "execution_count": 9,
   "id": "41ea6bef",
   "metadata": {},
   "outputs": [],
   "source": [
    "df_wlots = review_with_lots(gdf, set_ID, all_taxlot)[0]"
   ]
  },
  {
   "cell_type": "code",
   "execution_count": 10,
   "id": "b4979037",
   "metadata": {},
   "outputs": [],
   "source": [
    "df_wlots_to_check = check_corrected_data(gdf=gdf, setID=set_ID, all_taxlot=all_taxlot)[2]"
   ]
  },
  {
   "cell_type": "code",
   "execution_count": 39,
   "id": "0b361c72",
   "metadata": {},
   "outputs": [],
   "source": [
    "import string"
   ]
  },
  {
   "cell_type": "code",
   "execution_count": 41,
   "id": "87485bba",
   "metadata": {},
   "outputs": [],
   "source": [
    "cor_df.loc[:, 'county'] = cor_df.county.apply(lambda x: string.capwords(x))"
   ]
  },
  {
   "cell_type": "code",
   "execution_count": 45,
   "id": "013a6034",
   "metadata": {},
   "outputs": [],
   "source": [
    "cor_df_re = rematch_data(gdf=cor_df, setID=set_ID, all_taxlot=all_taxlot, new=True)"
   ]
  },
  {
   "cell_type": "code",
   "execution_count": 47,
   "id": "7f8537bb",
   "metadata": {},
   "outputs": [
    {
     "data": {
      "text/plain": [
       "(25, 31)"
      ]
     },
     "execution_count": 47,
     "metadata": {},
     "output_type": "execute_result"
    }
   ],
   "source": [
    "cor_df_re.shape"
   ]
  },
  {
   "cell_type": "code",
   "execution_count": 48,
   "id": "86de3e85",
   "metadata": {},
   "outputs": [
    {
     "data": {
      "text/plain": [
       "Index(['wdID', 'trsqq', 'parcel_id', 'loc_desc', 'city', 'county', 'site_name',\n",
       "       'site_desc', 'latitude', 'longitude', 'matched ORTAXLOT#', 'coord_src',\n",
       "       'doc_name', 'doc_link', 'isbatfile', 'status_nm', 'receiveddt',\n",
       "       'responsedt', 'reissuance', 'project_id', 'site_id', 'record_ID',\n",
       "       'notes', 'Year', 'IDyear', 'missinglot', 'lots', 'lot', 'cnt_code',\n",
       "       'ORTaxlot', 'geometry'],\n",
       "      dtype='object')"
      ]
     },
     "execution_count": 48,
     "metadata": {},
     "output_type": "execute_result"
    }
   ],
   "source": [
    "cor_df_re.columns"
   ]
  },
  {
   "cell_type": "code",
   "execution_count": 49,
   "id": "c1885b1a",
   "metadata": {},
   "outputs": [
    {
     "data": {
      "text/plain": [
       "Index(['record_ID', 'wdID', 'parcel_id', 'ORTaxlot', 'notes', 'geometry'], dtype='object')"
      ]
     },
     "execution_count": 49,
     "metadata": {},
     "output_type": "execute_result"
    }
   ],
   "source": [
    "gdf.columns"
   ]
  },
  {
   "cell_type": "code",
   "execution_count": 50,
   "id": "5ea415ab",
   "metadata": {},
   "outputs": [],
   "source": [
    "ngdf = gdf.append(cor_df_re[gdf.columns])"
   ]
  },
  {
   "cell_type": "code",
   "execution_count": 93,
   "id": "8c9e42b4",
   "metadata": {
    "scrolled": true
   },
   "outputs": [
    {
     "data": {
      "text/plain": [
       "(2425, 31)"
      ]
     },
     "execution_count": 93,
     "metadata": {},
     "output_type": "execute_result"
    }
   ],
   "source": [
    "ngdf.shape"
   ]
  },
  {
   "cell_type": "code",
   "execution_count": 94,
   "id": "60803100",
   "metadata": {},
   "outputs": [
    {
     "data": {
      "text/plain": [
       "1331"
      ]
     },
     "execution_count": 94,
     "metadata": {},
     "output_type": "execute_result"
    }
   ],
   "source": [
    "len(ngdf.record_ID.unique())"
   ]
  },
  {
   "cell_type": "code",
   "execution_count": 53,
   "id": "ea43dbbe",
   "metadata": {},
   "outputs": [
    {
     "data": {
      "text/plain": [
       "(2407, 6)"
      ]
     },
     "execution_count": 53,
     "metadata": {},
     "output_type": "execute_result"
    }
   ],
   "source": [
    "ngdf.shape"
   ]
  },
  {
   "cell_type": "code",
   "execution_count": 52,
   "id": "ba4eeb42",
   "metadata": {
    "scrolled": true
   },
   "outputs": [],
   "source": [
    "ngdf.to_file(os.path.join(inpath + f'\\\\{outfolder}\\\\', f'more_combined_records_in_{set_ID}.shp'), driver='ESRI Shapefile')"
   ]
  },
  {
   "cell_type": "code",
   "execution_count": 55,
   "id": "87262b15",
   "metadata": {},
   "outputs": [
    {
     "data": {
      "text/plain": [
       "1331"
      ]
     },
     "execution_count": 55,
     "metadata": {},
     "output_type": "execute_result"
    }
   ],
   "source": [
    "len(ngdf.record_ID.unique())"
   ]
  },
  {
   "cell_type": "code",
   "execution_count": 97,
   "id": "c9862ccd",
   "metadata": {},
   "outputs": [
    {
     "data": {
      "text/plain": [
       "89"
      ]
     },
     "execution_count": 97,
     "metadata": {},
     "output_type": "execute_result"
    }
   ],
   "source": [
    "wd_df.shape[0] - len(ngdf.record_ID.unique())"
   ]
  },
  {
   "cell_type": "code",
   "execution_count": 98,
   "id": "149509b4",
   "metadata": {
    "scrolled": true
   },
   "outputs": [
    {
     "data": {
      "text/plain": [
       "28"
      ]
     },
     "execution_count": 98,
     "metadata": {},
     "output_type": "execute_result"
    }
   ],
   "source": [
    "len(df_wlots_to_check.record_ID.unique())"
   ]
  },
  {
   "cell_type": "code",
   "execution_count": 59,
   "id": "91aca867",
   "metadata": {},
   "outputs": [],
   "source": [
    "gdf1st = gpd.read_file(os.path.join(inpath + f'\\\\{outfolder}\\\\', f'matched_records_{set_ID}.shp'), driver='ESRI Shapefile')"
   ]
  },
  {
   "cell_type": "code",
   "execution_count": 99,
   "id": "17e30101",
   "metadata": {},
   "outputs": [],
   "source": [
    "missinglot = records_with_lots(gdf=gdf, setID=set_ID)"
   ]
  },
  {
   "cell_type": "code",
   "execution_count": 100,
   "id": "9003d439",
   "metadata": {},
   "outputs": [
    {
     "data": {
      "text/plain": [
       "61"
      ]
     },
     "execution_count": 100,
     "metadata": {},
     "output_type": "execute_result"
    }
   ],
   "source": [
    "len(missinglot.record_ID.unique())"
   ]
  },
  {
   "cell_type": "code",
   "execution_count": 102,
   "id": "c33302e2",
   "metadata": {},
   "outputs": [],
   "source": [
    "setgdf = gpd.read_file(os.path.join(inpath, 'GIS', 'Join_Statewide.gdb'), layer=f'WD_{set_ID}_Combined')"
   ]
  },
  {
   "cell_type": "code",
   "execution_count": 67,
   "id": "f3f58dac",
   "metadata": {},
   "outputs": [
    {
     "data": {
      "text/plain": [
       "Index(['wetdet_delin_number', 'trsqq', 'parcel_id', 'address_location_desc',\n",
       "       'city', 'county', 'site_name', 'site_desc', 'latitude', 'longitude',\n",
       "       'Coord-Source', 'DocumentName', 'DecisionLink', 'is_batch_file',\n",
       "       'status_name', 'received_date', 'response_date',\n",
       "       'reissuance_response_date', 'project_id', 'site_id', 'record_ID',\n",
       "       'notes', 'year', 'IDyear', 'missinglot'],\n",
       "      dtype='object')"
      ]
     },
     "execution_count": 67,
     "metadata": {},
     "output_type": "execute_result"
    }
   ],
   "source": [
    "df_wlots_to_check.columns"
   ]
  },
  {
   "cell_type": "code",
   "execution_count": 69,
   "id": "4e0113e0",
   "metadata": {},
   "outputs": [
    {
     "data": {
      "text/plain": [
       "Index(['Record_ID', 'wetdet_delin_number', 'trsqq', 'parcel_id',\n",
       "       'address_location_desc', 'city', 'county', 'site_name', 'site_desc',\n",
       "       'latitude', 'longitude', 'Coord_Source', 'DocumentName', 'DecisionLink',\n",
       "       'is_batch_file', 'status_name', 'received_date', 'response_date',\n",
       "       'reissuance_response_date', 'project_id', 'site_id', 'lot_num', 'lot',\n",
       "       'Match_Year', 'ORTAXLOT', 'Match_found', 'Manual_note', 'Shape_Length',\n",
       "       'Shape_Area', 'Edits_Complete', 'matcher2', 'geometry'],\n",
       "      dtype='object')"
      ]
     },
     "execution_count": 69,
     "metadata": {},
     "output_type": "execute_result"
    }
   ],
   "source": [
    "setgdf.columns"
   ]
  },
  {
   "cell_type": "code",
   "execution_count": 106,
   "id": "a4bf4c11",
   "metadata": {},
   "outputs": [],
   "source": [
    "setgdf_s = setgdf[setgdf.Record_ID.isin(df_wlots_to_check.record_ID)]"
   ]
  },
  {
   "cell_type": "code",
   "execution_count": 107,
   "id": "b277f851",
   "metadata": {},
   "outputs": [],
   "source": [
    "setgdf_s.loc[:, 'record_ID'] = setgdf_s.loc[:, 'Record_ID'].astype(int)"
   ]
  },
  {
   "cell_type": "code",
   "execution_count": 108,
   "id": "c82a27a5",
   "metadata": {},
   "outputs": [],
   "source": [
    "rIDs = setgdf_s.Record_ID.unique()"
   ]
  },
  {
   "cell_type": "code",
   "execution_count": 109,
   "id": "aaf76ff1",
   "metadata": {},
   "outputs": [
    {
     "data": {
      "text/html": [
       "<div>\n",
       "<style scoped>\n",
       "    .dataframe tbody tr th:only-of-type {\n",
       "        vertical-align: middle;\n",
       "    }\n",
       "\n",
       "    .dataframe tbody tr th {\n",
       "        vertical-align: top;\n",
       "    }\n",
       "\n",
       "    .dataframe thead th {\n",
       "        text-align: right;\n",
       "    }\n",
       "</style>\n",
       "<table border=\"1\" class=\"dataframe\">\n",
       "  <thead>\n",
       "    <tr style=\"text-align: right;\">\n",
       "      <th></th>\n",
       "      <th>record_ID</th>\n",
       "      <th>wetdet_delin_number_x</th>\n",
       "      <th>trsqq_x</th>\n",
       "      <th>parcel_id_x</th>\n",
       "      <th>wetdet_delin_number_y</th>\n",
       "      <th>trsqq_y</th>\n",
       "      <th>parcel_id_y</th>\n",
       "    </tr>\n",
       "  </thead>\n",
       "  <tbody>\n",
       "    <tr>\n",
       "      <th>0</th>\n",
       "      <td>83</td>\n",
       "      <td>WD2020-0185</td>\n",
       "      <td>05N10W014</td>\n",
       "      <td>501</td>\n",
       "      <td>WD2020-0185</td>\n",
       "      <td>05N10W14</td>\n",
       "      <td>501</td>\n",
       "    </tr>\n",
       "    <tr>\n",
       "      <th>1</th>\n",
       "      <td>176</td>\n",
       "      <td>WD2022-0187</td>\n",
       "      <td>06N10W22</td>\n",
       "      <td>8100</td>\n",
       "      <td>WD2022-0187</td>\n",
       "      <td>06N10W22AB</td>\n",
       "      <td>8100</td>\n",
       "    </tr>\n",
       "    <tr>\n",
       "      <th>2</th>\n",
       "      <td>182</td>\n",
       "      <td>WD2017-0016</td>\n",
       "      <td>28S15W36AD</td>\n",
       "      <td>1302</td>\n",
       "      <td>WD2017-0016</td>\n",
       "      <td>28S15W36AD</td>\n",
       "      <td>1302</td>\n",
       "    </tr>\n",
       "    <tr>\n",
       "      <th>3</th>\n",
       "      <td>223</td>\n",
       "      <td>WD2019-0122</td>\n",
       "      <td>26S14W02D</td>\n",
       "      <td>300</td>\n",
       "      <td>WD2019-0122</td>\n",
       "      <td>26S14W02D</td>\n",
       "      <td>300</td>\n",
       "    </tr>\n",
       "    <tr>\n",
       "      <th>4</th>\n",
       "      <td>235</td>\n",
       "      <td>WD2019-0338</td>\n",
       "      <td>24S13W34C</td>\n",
       "      <td>140p</td>\n",
       "      <td>WD2019-0338</td>\n",
       "      <td>24S13W34C</td>\n",
       "      <td>140p</td>\n",
       "    </tr>\n",
       "    <tr>\n",
       "      <th>5</th>\n",
       "      <td>237</td>\n",
       "      <td>WD2019-0338</td>\n",
       "      <td>24S13W00</td>\n",
       "      <td>200p</td>\n",
       "      <td>WD2019-0338</td>\n",
       "      <td>24S13W00</td>\n",
       "      <td>200p</td>\n",
       "    </tr>\n",
       "    <tr>\n",
       "      <th>6</th>\n",
       "      <td>416</td>\n",
       "      <td>WD2020-0067</td>\n",
       "      <td>17S12E10C</td>\n",
       "      <td>400,500 all partial</td>\n",
       "      <td>WD2020-0067</td>\n",
       "      <td>17S12E10C</td>\n",
       "      <td>400,500 all partial</td>\n",
       "    </tr>\n",
       "    <tr>\n",
       "      <th>7</th>\n",
       "      <td>477</td>\n",
       "      <td>WD2020-0586</td>\n",
       "      <td>20S10E25BB</td>\n",
       "      <td>400p</td>\n",
       "      <td>WD2020-0586</td>\n",
       "      <td>20S10E25B</td>\n",
       "      <td>400p</td>\n",
       "    </tr>\n",
       "    <tr>\n",
       "      <th>8</th>\n",
       "      <td>484</td>\n",
       "      <td>WD2020-0668</td>\n",
       "      <td>18S12E08DA</td>\n",
       "      <td>ROW, 6317,6303,3604</td>\n",
       "      <td>WD2020-0668</td>\n",
       "      <td>18S12E08DA</td>\n",
       "      <td>ROW, 6317,6303,3604</td>\n",
       "    </tr>\n",
       "    <tr>\n",
       "      <th>9</th>\n",
       "      <td>494</td>\n",
       "      <td>WD2021-0066</td>\n",
       "      <td>18S12W25B</td>\n",
       "      <td>400</td>\n",
       "      <td>WD2021-0066</td>\n",
       "      <td>18S12E25B</td>\n",
       "      <td>400</td>\n",
       "    </tr>\n",
       "    <tr>\n",
       "      <th>10</th>\n",
       "      <td>573</td>\n",
       "      <td>WD2017-0347</td>\n",
       "      <td>24S32E16</td>\n",
       "      <td>4900p</td>\n",
       "      <td>WD2017-0347</td>\n",
       "      <td>24S32E16</td>\n",
       "      <td>4900p</td>\n",
       "    </tr>\n",
       "    <tr>\n",
       "      <th>11</th>\n",
       "      <td>586</td>\n",
       "      <td>WD2019-0259</td>\n",
       "      <td>18S47E09</td>\n",
       "      <td>100</td>\n",
       "      <td>WD2019-0259</td>\n",
       "      <td>18S47E09</td>\n",
       "      <td>100</td>\n",
       "    </tr>\n",
       "    <tr>\n",
       "      <th>12</th>\n",
       "      <td>670</td>\n",
       "      <td>WD2019-0179</td>\n",
       "      <td>31S04W27</td>\n",
       "      <td>101</td>\n",
       "      <td>WD2019-0179</td>\n",
       "      <td>31S04W27</td>\n",
       "      <td>101</td>\n",
       "    </tr>\n",
       "    <tr>\n",
       "      <th>13</th>\n",
       "      <td>1019</td>\n",
       "      <td>WD2019-0420</td>\n",
       "      <td>38S08E02D</td>\n",
       "      <td>203</td>\n",
       "      <td>WD2019-0420</td>\n",
       "      <td>38S08E02D</td>\n",
       "      <td>203</td>\n",
       "    </tr>\n",
       "    <tr>\n",
       "      <th>14</th>\n",
       "      <td>1116</td>\n",
       "      <td>WD2018-0657</td>\n",
       "      <td>39S19E00</td>\n",
       "      <td>5500 partial</td>\n",
       "      <td>WD2018-0657</td>\n",
       "      <td>39S19E00</td>\n",
       "      <td>5500 partial</td>\n",
       "    </tr>\n",
       "    <tr>\n",
       "      <th>15</th>\n",
       "      <td>1195</td>\n",
       "      <td>WD2018-0057</td>\n",
       "      <td>07S03W35</td>\n",
       "      <td>2800</td>\n",
       "      <td>WD2018-0057</td>\n",
       "      <td>07S03W35</td>\n",
       "      <td>2800</td>\n",
       "    </tr>\n",
       "    <tr>\n",
       "      <th>16</th>\n",
       "      <td>1224</td>\n",
       "      <td>WD2018-0386</td>\n",
       "      <td>06S03W07</td>\n",
       "      <td>500p,1100p</td>\n",
       "      <td>WD2018-0386</td>\n",
       "      <td>06S03W07</td>\n",
       "      <td>500p,1100p</td>\n",
       "    </tr>\n",
       "    <tr>\n",
       "      <th>17</th>\n",
       "      <td>1226</td>\n",
       "      <td>WD2018-0408</td>\n",
       "      <td>07S03W35</td>\n",
       "      <td>2400,2401</td>\n",
       "      <td>WD2018-0408</td>\n",
       "      <td>07S03W35</td>\n",
       "      <td>2400,2401</td>\n",
       "    </tr>\n",
       "  </tbody>\n",
       "</table>\n",
       "</div>"
      ],
      "text/plain": [
       "    record_ID wetdet_delin_number_x     trsqq_x          parcel_id_x  \\\n",
       "0          83           WD2020-0185   05N10W014                  501   \n",
       "1         176           WD2022-0187    06N10W22                 8100   \n",
       "2         182           WD2017-0016  28S15W36AD                 1302   \n",
       "3         223           WD2019-0122   26S14W02D                  300   \n",
       "4         235           WD2019-0338   24S13W34C                 140p   \n",
       "5         237           WD2019-0338    24S13W00                 200p   \n",
       "6         416           WD2020-0067   17S12E10C  400,500 all partial   \n",
       "7         477           WD2020-0586  20S10E25BB                 400p   \n",
       "8         484           WD2020-0668  18S12E08DA  ROW, 6317,6303,3604   \n",
       "9         494           WD2021-0066   18S12W25B                  400   \n",
       "10        573           WD2017-0347    24S32E16                4900p   \n",
       "11        586           WD2019-0259    18S47E09                  100   \n",
       "12        670           WD2019-0179    31S04W27                  101   \n",
       "13       1019           WD2019-0420   38S08E02D                  203   \n",
       "14       1116           WD2018-0657    39S19E00         5500 partial   \n",
       "15       1195           WD2018-0057    07S03W35                 2800   \n",
       "16       1224           WD2018-0386    06S03W07           500p,1100p   \n",
       "17       1226           WD2018-0408    07S03W35            2400,2401   \n",
       "\n",
       "   wetdet_delin_number_y     trsqq_y          parcel_id_y  \n",
       "0            WD2020-0185    05N10W14                  501  \n",
       "1            WD2022-0187  06N10W22AB                 8100  \n",
       "2            WD2017-0016  28S15W36AD                 1302  \n",
       "3            WD2019-0122   26S14W02D                  300  \n",
       "4            WD2019-0338   24S13W34C                 140p  \n",
       "5            WD2019-0338    24S13W00                 200p  \n",
       "6            WD2020-0067   17S12E10C  400,500 all partial  \n",
       "7            WD2020-0586   20S10E25B                 400p  \n",
       "8            WD2020-0668  18S12E08DA  ROW, 6317,6303,3604  \n",
       "9            WD2021-0066   18S12E25B                  400  \n",
       "10           WD2017-0347    24S32E16                4900p  \n",
       "11           WD2019-0259    18S47E09                  100  \n",
       "12           WD2019-0179    31S04W27                  101  \n",
       "13           WD2019-0420   38S08E02D                  203  \n",
       "14           WD2018-0657    39S19E00         5500 partial  \n",
       "15           WD2018-0057    07S03W35                 2800  \n",
       "16           WD2018-0386    06S03W07           500p,1100p  \n",
       "17           WD2018-0408    07S03W35            2400,2401  "
      ]
     },
     "execution_count": 109,
     "metadata": {},
     "output_type": "execute_result"
    }
   ],
   "source": [
    "df_wlots_to_check[df_wlots_to_check.record_ID.isin(rIDs)][['record_ID', 'wetdet_delin_number', 'trsqq', 'parcel_id']].merge(setgdf_s[['record_ID', 'wetdet_delin_number', 'trsqq', 'parcel_id']], on='record_ID')"
   ]
  }
 ],
 "metadata": {
  "kernelspec": {
   "display_name": "Python 3 (ipykernel)",
   "language": "python",
   "name": "python3"
  },
  "language_info": {
   "codemirror_mode": {
    "name": "ipython",
    "version": 3
   },
   "file_extension": ".py",
   "mimetype": "text/x-python",
   "name": "python",
   "nbconvert_exporter": "python",
   "pygments_lexer": "ipython3",
   "version": "3.8.15"
  }
 },
 "nbformat": 4,
 "nbformat_minor": 5
}
