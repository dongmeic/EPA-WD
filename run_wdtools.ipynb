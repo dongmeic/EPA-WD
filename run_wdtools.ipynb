{
 "cells": [
  {
   "cell_type": "code",
   "execution_count": 1,
   "id": "1ea3e4fc",
   "metadata": {},
   "outputs": [
    {
     "name": "stderr",
     "output_type": "stream",
     "text": [
      "C:\\Users\\clid1852\\AppData\\Anaconda3\\envs\\geoenv\\lib\\site-packages\\geopandas\\_compat.py:106: UserWarning: The Shapely GEOS version (3.11.1-CAPI-1.17.1) is incompatible with the GEOS version PyGEOS was compiled with (3.9.1-CAPI-1.14.2). Conversions between both will be slow.\n",
      "  warnings.warn(\n"
     ]
    }
   ],
   "source": [
    "from wdtools import *"
   ]
  },
  {
   "cell_type": "code",
   "execution_count": 2,
   "id": "9c13beac",
   "metadata": {},
   "outputs": [],
   "source": [
    "set_ID = 'Set001'"
   ]
  },
  {
   "cell_type": "code",
   "execution_count": 3,
   "id": "5dd17eb4",
   "metadata": {
    "scrolled": true
   },
   "outputs": [],
   "source": [
    "#gdf = combine_merged_data(setID = set_ID)"
   ]
  },
  {
   "cell_type": "code",
   "execution_count": 4,
   "id": "9d4d1068",
   "metadata": {},
   "outputs": [],
   "source": [
    "gdf = gpd.read_file(os.path.join(inpath + f'\\\\{outfolder}\\\\', f'matched_records_{set_ID}.shp'), driver='ESRI Shapefile')"
   ]
  },
  {
   "cell_type": "code",
   "execution_count": 5,
   "id": "3ee674f3",
   "metadata": {},
   "outputs": [
    {
     "name": "stdout",
     "output_type": "stream",
     "text": [
      "it took 17.0 minutes to complete\n"
     ]
    }
   ],
   "source": [
    "# this will take about 17 minutes\n",
    "start = time.time()\n",
    "all_taxlot = combine_taxlot()\n",
    "end = time.time()\n",
    "print(f'it took {round((end - start)/60, 0)} minutes to complete')"
   ]
  },
  {
   "cell_type": "code",
   "execution_count": 6,
   "id": "71a8a100",
   "metadata": {},
   "outputs": [],
   "source": [
    "wd_df = combine_wd_table(set_ID)"
   ]
  },
  {
   "cell_type": "code",
   "execution_count": 7,
   "id": "e477da0f",
   "metadata": {},
   "outputs": [],
   "source": [
    "df_wo_lots = review_with_lots(gdf=gdf, setID=set_ID, all_taxlot=all_taxlot)[0]"
   ]
  },
  {
   "cell_type": "code",
   "execution_count": 8,
   "id": "e9484852",
   "metadata": {
    "scrolled": true
   },
   "outputs": [],
   "source": [
    "n_gdf = merge_matched(setID = set_ID, all_taxlot = all_taxlot)"
   ]
  },
  {
   "cell_type": "code",
   "execution_count": 9,
   "id": "d174a9b3",
   "metadata": {},
   "outputs": [],
   "source": [
    "wd_df = combine_wd_table(set_ID)"
   ]
  },
  {
   "cell_type": "code",
   "execution_count": 10,
   "id": "d2ab5b8c",
   "metadata": {},
   "outputs": [],
   "source": [
    "#wd_df.to_csv(os.path.join(inpath + f'\\\\{outfolder}\\\\', f'all_records_in_{set_ID}.csv'), index = False)"
   ]
  },
  {
   "cell_type": "code",
   "execution_count": 11,
   "id": "45372e9b",
   "metadata": {},
   "outputs": [
    {
     "data": {
      "text/plain": [
       "112"
      ]
     },
     "execution_count": 11,
     "metadata": {},
     "output_type": "execute_result"
    }
   ],
   "source": [
    "# records to review and map\n",
    "wd_df.shape[0] - len(n_gdf.record_ID.unique())"
   ]
  },
  {
   "cell_type": "code",
   "execution_count": 13,
   "id": "2f2b365b",
   "metadata": {},
   "outputs": [
    {
     "data": {
      "text/plain": [
       "418"
      ]
     },
     "execution_count": 13,
     "metadata": {},
     "output_type": "execute_result"
    }
   ],
   "source": [
    "# to check the parcel IDs with notes?\n",
    "len(n_gdf.record_ID.unique()) - len(n_gdf[n_gdf.notes.isnull()].record_ID.unique())"
   ]
  },
  {
   "cell_type": "code",
   "execution_count": 14,
   "id": "3c3db5f7",
   "metadata": {},
   "outputs": [],
   "source": [
    "mapped = review_mapped_data(gdf=gdf, setID=set_ID, all_taxlot=all_taxlot)"
   ]
  },
  {
   "cell_type": "code",
   "execution_count": null,
   "id": "743aa8a2",
   "metadata": {},
   "outputs": [],
   "source": []
  }
 ],
 "metadata": {
  "kernelspec": {
   "display_name": "Python 3 (ipykernel)",
   "language": "python",
   "name": "python3"
  },
  "language_info": {
   "codemirror_mode": {
    "name": "ipython",
    "version": 3
   },
   "file_extension": ".py",
   "mimetype": "text/x-python",
   "name": "python",
   "nbconvert_exporter": "python",
   "pygments_lexer": "ipython3",
   "version": "3.8.15"
  }
 },
 "nbformat": 4,
 "nbformat_minor": 5
}
