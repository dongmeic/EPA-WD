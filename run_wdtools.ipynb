{
 "cells": [
  {
   "cell_type": "code",
   "execution_count": 1,
   "id": "e024a441",
   "metadata": {},
   "outputs": [
    {
     "name": "stderr",
     "output_type": "stream",
     "text": [
      "C:\\Users\\clid1852\\AppData\\Anaconda3\\envs\\geoenv\\lib\\site-packages\\geopandas\\_compat.py:106: UserWarning: The Shapely GEOS version (3.11.1-CAPI-1.17.1) is incompatible with the GEOS version PyGEOS was compiled with (3.9.1-CAPI-1.14.2). Conversions between both will be slow.\n",
      "  warnings.warn(\n"
     ]
    }
   ],
   "source": [
    "from wdtools import *"
   ]
  },
  {
   "cell_type": "code",
   "execution_count": 27,
   "id": "fb93b315",
   "metadata": {},
   "outputs": [],
   "source": [
    "import difflib"
   ]
  },
  {
   "cell_type": "code",
   "execution_count": 2,
   "id": "819eba00",
   "metadata": {},
   "outputs": [],
   "source": [
    "set_ID = 'Set001'"
   ]
  },
  {
   "cell_type": "code",
   "execution_count": 3,
   "id": "49d51c27",
   "metadata": {
    "scrolled": true
   },
   "outputs": [],
   "source": [
    "#gdf = combine_merged_data(setID = set_ID)"
   ]
  },
  {
   "cell_type": "code",
   "execution_count": 4,
   "id": "c35ae9af",
   "metadata": {},
   "outputs": [],
   "source": [
    "gdf = gpd.read_file(os.path.join(inpath + f'\\\\{outfolder}\\\\', f'matched_records_{set_ID}.shp'), driver='ESRI Shapefile')"
   ]
  },
  {
   "cell_type": "code",
   "execution_count": 5,
   "id": "25118826",
   "metadata": {},
   "outputs": [
    {
     "name": "stdout",
     "output_type": "stream",
     "text": [
      "it took 17.0 minutes to complete\n"
     ]
    }
   ],
   "source": [
    "# this will take about 17 minutes\n",
    "start = time.time()\n",
    "all_taxlot = combine_taxlot()\n",
    "end = time.time()\n",
    "print(f'it took {round((end - start)/60, 0)} minutes to complete')"
   ]
  },
  {
   "cell_type": "code",
   "execution_count": 6,
   "id": "ee1fcda5",
   "metadata": {},
   "outputs": [],
   "source": [
    "wd_df = combine_wd_table(set_ID)"
   ]
  },
  {
   "cell_type": "code",
   "execution_count": 23,
   "id": "4e9022ee",
   "metadata": {},
   "outputs": [],
   "source": [
    "df_wlots = review_with_lots(gdf=gdf, setID=set_ID, all_taxlot=all_taxlot)[0]"
   ]
  },
  {
   "cell_type": "code",
   "execution_count": 24,
   "id": "1785df04",
   "metadata": {},
   "outputs": [
    {
     "data": {
      "text/plain": [
       "Index(['wetdet_delin_number', 'trsqq', 'parcel_id', 'address_location_desc',\n",
       "       'city', 'county', 'site_name', 'site_desc', 'latitude', 'longitude',\n",
       "       'Coord-Source', 'DocumentName', 'DecisionLink', 'is_batch_file',\n",
       "       'status_name', 'received_date', 'response_date',\n",
       "       'reissuance_response_date', 'project_id', 'site_id', 'record_ID',\n",
       "       'notes', 'year', 'IDyear', 'missinglot'],\n",
       "      dtype='object')"
      ]
     },
     "execution_count": 24,
     "metadata": {},
     "output_type": "execute_result"
    }
   ],
   "source": [
    "df_wlots.columns"
   ]
  },
  {
   "cell_type": "code",
   "execution_count": 8,
   "id": "a3d419b9",
   "metadata": {
    "scrolled": true
   },
   "outputs": [],
   "source": [
    "n_gdf = merge_matched(setID = set_ID, all_taxlot = all_taxlot)"
   ]
  },
  {
   "cell_type": "code",
   "execution_count": 31,
   "id": "2a325c82",
   "metadata": {},
   "outputs": [],
   "source": [
    "wd_df = combine_wd_table(set_ID)"
   ]
  },
  {
   "cell_type": "code",
   "execution_count": 10,
   "id": "4d397cce",
   "metadata": {},
   "outputs": [],
   "source": [
    "#wd_df.to_csv(os.path.join(inpath + f'\\\\{outfolder}\\\\', f'all_records_in_{set_ID}.csv'), index = False)"
   ]
  },
  {
   "cell_type": "code",
   "execution_count": 11,
   "id": "11df4dc1",
   "metadata": {},
   "outputs": [
    {
     "data": {
      "text/plain": [
       "112"
      ]
     },
     "execution_count": 11,
     "metadata": {},
     "output_type": "execute_result"
    }
   ],
   "source": [
    "# records to review and map\n",
    "wd_df.shape[0] - len(n_gdf.record_ID.unique())"
   ]
  },
  {
   "cell_type": "code",
   "execution_count": 13,
   "id": "8a6f7325",
   "metadata": {},
   "outputs": [
    {
     "data": {
      "text/plain": [
       "418"
      ]
     },
     "execution_count": 13,
     "metadata": {},
     "output_type": "execute_result"
    }
   ],
   "source": [
    "# to check the parcel IDs with notes?\n",
    "len(n_gdf.record_ID.unique()) - len(n_gdf[n_gdf.notes.isnull()].record_ID.unique())"
   ]
  },
  {
   "cell_type": "code",
   "execution_count": 14,
   "id": "d9b64d72",
   "metadata": {},
   "outputs": [],
   "source": [
    "mapped = review_mapped_data(gdf=gdf, setID=set_ID, all_taxlot=all_taxlot)"
   ]
  },
  {
   "cell_type": "code",
   "execution_count": 20,
   "id": "89dd4b6e",
   "metadata": {},
   "outputs": [
    {
     "data": {
      "text/plain": [
       "8"
      ]
     },
     "execution_count": 20,
     "metadata": {},
     "output_type": "execute_result"
    }
   ],
   "source": [
    "# check the length of string in trsqq and its pattern\n",
    "min(list(map(len, wd_df.trsqq.values)))"
   ]
  },
  {
   "cell_type": "code",
   "execution_count": 21,
   "id": "0d4bb3ba",
   "metadata": {},
   "outputs": [
    {
     "data": {
      "text/plain": [
       "10"
      ]
     },
     "execution_count": 21,
     "metadata": {},
     "output_type": "execute_result"
    }
   ],
   "source": [
    "max(list(map(len, wd_df.trsqq.values)))"
   ]
  },
  {
   "cell_type": "code",
   "execution_count": 54,
   "id": "20084661",
   "metadata": {
    "scrolled": true
   },
   "outputs": [],
   "source": [
    "testqq=df_wlots.trsqq.values[list(map(lambda x: x == 8, list(map(len, list(df_wlots.trsqq.values)))))]"
   ]
  },
  {
   "cell_type": "code",
   "execution_count": 32,
   "id": "3995ac57",
   "metadata": {},
   "outputs": [],
   "source": [
    "wd_df['sim'] = [difflib.get_close_matches(x, wd_df['trsqq'], cutoff=0.7)  for x in wd_df['trsqq']]"
   ]
  },
  {
   "cell_type": "code",
   "execution_count": 33,
   "id": "0d7a1a86",
   "metadata": {},
   "outputs": [],
   "source": [
    "sim_df = wd_df.explode('sim')"
   ]
  },
  {
   "cell_type": "code",
   "execution_count": 36,
   "id": "90367808",
   "metadata": {},
   "outputs": [],
   "source": [
    "df=pd.crosstab(sim_df.trsqq, sim_df.sim)"
   ]
  },
  {
   "cell_type": "code",
   "execution_count": 55,
   "id": "b29433f1",
   "metadata": {},
   "outputs": [],
   "source": [
    "uniqq = unique(testqq)"
   ]
  },
  {
   "cell_type": "code",
   "execution_count": 56,
   "id": "a825e9fc",
   "metadata": {},
   "outputs": [
    {
     "data": {
      "text/plain": [
       "['06N10W22',\n",
       " '06S03W07',\n",
       " '07S03W35',\n",
       " '08N07W20',\n",
       " '08N10W20',\n",
       " '08S03W12',\n",
       " '10S13E20',\n",
       " '14S14E24',\n",
       " '15S10E03',\n",
       " '18S47E09',\n",
       " '20S37E00',\n",
       " '21S37E00',\n",
       " '24S13W00',\n",
       " '24S13W06',\n",
       " '24S13W07',\n",
       " '24S13W34',\n",
       " '24S32E16',\n",
       " '31S04W27',\n",
       " '37S02E13',\n",
       " '39S19E00',\n",
       " '39S20E04']"
      ]
     },
     "execution_count": 56,
     "metadata": {},
     "output_type": "execute_result"
    }
   ],
   "source": [
    "uniqq"
   ]
  },
  {
   "cell_type": "code",
   "execution_count": 53,
   "id": "0da8ed23",
   "metadata": {},
   "outputs": [
    {
     "data": {
      "text/html": [
       "<div>\n",
       "<style scoped>\n",
       "    .dataframe tbody tr th:only-of-type {\n",
       "        vertical-align: middle;\n",
       "    }\n",
       "\n",
       "    .dataframe tbody tr th {\n",
       "        vertical-align: top;\n",
       "    }\n",
       "\n",
       "    .dataframe thead th {\n",
       "        text-align: right;\n",
       "    }\n",
       "</style>\n",
       "<table border=\"1\" class=\"dataframe\">\n",
       "  <thead>\n",
       "    <tr style=\"text-align: right;\">\n",
       "      <th>sim</th>\n",
       "      <th>05N10W014</th>\n",
       "      <th>07S02W02A</th>\n",
       "      <th>08N10W21B</th>\n",
       "      <th>14S12W36B</th>\n",
       "      <th>17S12E10C</th>\n",
       "      <th>18S10E10A</th>\n",
       "      <th>18S12E16B</th>\n",
       "      <th>18S12W25B</th>\n",
       "      <th>24S13W34C</th>\n",
       "      <th>26S14W02D</th>\n",
       "      <th>29S15W1CC</th>\n",
       "      <th>36S06W36A</th>\n",
       "      <th>38S08E02D</th>\n",
       "    </tr>\n",
       "    <tr>\n",
       "      <th>trsqq</th>\n",
       "      <th></th>\n",
       "      <th></th>\n",
       "      <th></th>\n",
       "      <th></th>\n",
       "      <th></th>\n",
       "      <th></th>\n",
       "      <th></th>\n",
       "      <th></th>\n",
       "      <th></th>\n",
       "      <th></th>\n",
       "      <th></th>\n",
       "      <th></th>\n",
       "      <th></th>\n",
       "    </tr>\n",
       "  </thead>\n",
       "  <tbody>\n",
       "    <tr>\n",
       "      <th>05N10W014</th>\n",
       "      <td>1</td>\n",
       "      <td>0</td>\n",
       "      <td>0</td>\n",
       "      <td>0</td>\n",
       "      <td>0</td>\n",
       "      <td>0</td>\n",
       "      <td>0</td>\n",
       "      <td>0</td>\n",
       "      <td>0</td>\n",
       "      <td>0</td>\n",
       "      <td>0</td>\n",
       "      <td>0</td>\n",
       "      <td>0</td>\n",
       "    </tr>\n",
       "    <tr>\n",
       "      <th>07S02W02A</th>\n",
       "      <td>0</td>\n",
       "      <td>1</td>\n",
       "      <td>0</td>\n",
       "      <td>0</td>\n",
       "      <td>0</td>\n",
       "      <td>0</td>\n",
       "      <td>0</td>\n",
       "      <td>0</td>\n",
       "      <td>0</td>\n",
       "      <td>0</td>\n",
       "      <td>0</td>\n",
       "      <td>0</td>\n",
       "      <td>0</td>\n",
       "    </tr>\n",
       "    <tr>\n",
       "      <th>08N10W21B</th>\n",
       "      <td>0</td>\n",
       "      <td>0</td>\n",
       "      <td>1</td>\n",
       "      <td>0</td>\n",
       "      <td>0</td>\n",
       "      <td>0</td>\n",
       "      <td>0</td>\n",
       "      <td>0</td>\n",
       "      <td>0</td>\n",
       "      <td>0</td>\n",
       "      <td>0</td>\n",
       "      <td>0</td>\n",
       "      <td>0</td>\n",
       "    </tr>\n",
       "    <tr>\n",
       "      <th>14S12W36B</th>\n",
       "      <td>0</td>\n",
       "      <td>0</td>\n",
       "      <td>0</td>\n",
       "      <td>1</td>\n",
       "      <td>0</td>\n",
       "      <td>0</td>\n",
       "      <td>0</td>\n",
       "      <td>0</td>\n",
       "      <td>0</td>\n",
       "      <td>0</td>\n",
       "      <td>0</td>\n",
       "      <td>0</td>\n",
       "      <td>0</td>\n",
       "    </tr>\n",
       "    <tr>\n",
       "      <th>17S12E10C</th>\n",
       "      <td>0</td>\n",
       "      <td>0</td>\n",
       "      <td>0</td>\n",
       "      <td>0</td>\n",
       "      <td>9</td>\n",
       "      <td>0</td>\n",
       "      <td>0</td>\n",
       "      <td>0</td>\n",
       "      <td>0</td>\n",
       "      <td>0</td>\n",
       "      <td>0</td>\n",
       "      <td>0</td>\n",
       "      <td>0</td>\n",
       "    </tr>\n",
       "    <tr>\n",
       "      <th>18S10E10A</th>\n",
       "      <td>0</td>\n",
       "      <td>0</td>\n",
       "      <td>0</td>\n",
       "      <td>0</td>\n",
       "      <td>0</td>\n",
       "      <td>1</td>\n",
       "      <td>0</td>\n",
       "      <td>0</td>\n",
       "      <td>0</td>\n",
       "      <td>0</td>\n",
       "      <td>0</td>\n",
       "      <td>0</td>\n",
       "      <td>0</td>\n",
       "    </tr>\n",
       "    <tr>\n",
       "      <th>18S12E16B</th>\n",
       "      <td>0</td>\n",
       "      <td>0</td>\n",
       "      <td>0</td>\n",
       "      <td>0</td>\n",
       "      <td>0</td>\n",
       "      <td>0</td>\n",
       "      <td>4</td>\n",
       "      <td>0</td>\n",
       "      <td>0</td>\n",
       "      <td>0</td>\n",
       "      <td>0</td>\n",
       "      <td>0</td>\n",
       "      <td>0</td>\n",
       "    </tr>\n",
       "    <tr>\n",
       "      <th>18S12W25B</th>\n",
       "      <td>0</td>\n",
       "      <td>0</td>\n",
       "      <td>0</td>\n",
       "      <td>0</td>\n",
       "      <td>0</td>\n",
       "      <td>0</td>\n",
       "      <td>0</td>\n",
       "      <td>1</td>\n",
       "      <td>0</td>\n",
       "      <td>0</td>\n",
       "      <td>0</td>\n",
       "      <td>0</td>\n",
       "      <td>0</td>\n",
       "    </tr>\n",
       "    <tr>\n",
       "      <th>24S13W34C</th>\n",
       "      <td>0</td>\n",
       "      <td>0</td>\n",
       "      <td>0</td>\n",
       "      <td>0</td>\n",
       "      <td>0</td>\n",
       "      <td>0</td>\n",
       "      <td>0</td>\n",
       "      <td>0</td>\n",
       "      <td>1</td>\n",
       "      <td>0</td>\n",
       "      <td>0</td>\n",
       "      <td>0</td>\n",
       "      <td>0</td>\n",
       "    </tr>\n",
       "    <tr>\n",
       "      <th>26S14W02D</th>\n",
       "      <td>0</td>\n",
       "      <td>0</td>\n",
       "      <td>0</td>\n",
       "      <td>0</td>\n",
       "      <td>0</td>\n",
       "      <td>0</td>\n",
       "      <td>0</td>\n",
       "      <td>0</td>\n",
       "      <td>0</td>\n",
       "      <td>1</td>\n",
       "      <td>0</td>\n",
       "      <td>0</td>\n",
       "      <td>0</td>\n",
       "    </tr>\n",
       "    <tr>\n",
       "      <th>29S15W1CC</th>\n",
       "      <td>0</td>\n",
       "      <td>0</td>\n",
       "      <td>0</td>\n",
       "      <td>0</td>\n",
       "      <td>0</td>\n",
       "      <td>0</td>\n",
       "      <td>0</td>\n",
       "      <td>0</td>\n",
       "      <td>0</td>\n",
       "      <td>0</td>\n",
       "      <td>1</td>\n",
       "      <td>0</td>\n",
       "      <td>0</td>\n",
       "    </tr>\n",
       "    <tr>\n",
       "      <th>36S06W36A</th>\n",
       "      <td>0</td>\n",
       "      <td>0</td>\n",
       "      <td>0</td>\n",
       "      <td>0</td>\n",
       "      <td>0</td>\n",
       "      <td>0</td>\n",
       "      <td>0</td>\n",
       "      <td>0</td>\n",
       "      <td>0</td>\n",
       "      <td>0</td>\n",
       "      <td>0</td>\n",
       "      <td>1</td>\n",
       "      <td>0</td>\n",
       "    </tr>\n",
       "    <tr>\n",
       "      <th>38S08E02D</th>\n",
       "      <td>0</td>\n",
       "      <td>0</td>\n",
       "      <td>0</td>\n",
       "      <td>0</td>\n",
       "      <td>0</td>\n",
       "      <td>0</td>\n",
       "      <td>0</td>\n",
       "      <td>0</td>\n",
       "      <td>0</td>\n",
       "      <td>0</td>\n",
       "      <td>0</td>\n",
       "      <td>0</td>\n",
       "      <td>1</td>\n",
       "    </tr>\n",
       "  </tbody>\n",
       "</table>\n",
       "</div>"
      ],
      "text/plain": [
       "sim        05N10W014  07S02W02A  08N10W21B  14S12W36B  17S12E10C  18S10E10A  \\\n",
       "trsqq                                                                         \n",
       "05N10W014          1          0          0          0          0          0   \n",
       "07S02W02A          0          1          0          0          0          0   \n",
       "08N10W21B          0          0          1          0          0          0   \n",
       "14S12W36B          0          0          0          1          0          0   \n",
       "17S12E10C          0          0          0          0          9          0   \n",
       "18S10E10A          0          0          0          0          0          1   \n",
       "18S12E16B          0          0          0          0          0          0   \n",
       "18S12W25B          0          0          0          0          0          0   \n",
       "24S13W34C          0          0          0          0          0          0   \n",
       "26S14W02D          0          0          0          0          0          0   \n",
       "29S15W1CC          0          0          0          0          0          0   \n",
       "36S06W36A          0          0          0          0          0          0   \n",
       "38S08E02D          0          0          0          0          0          0   \n",
       "\n",
       "sim        18S12E16B  18S12W25B  24S13W34C  26S14W02D  29S15W1CC  36S06W36A  \\\n",
       "trsqq                                                                         \n",
       "05N10W014          0          0          0          0          0          0   \n",
       "07S02W02A          0          0          0          0          0          0   \n",
       "08N10W21B          0          0          0          0          0          0   \n",
       "14S12W36B          0          0          0          0          0          0   \n",
       "17S12E10C          0          0          0          0          0          0   \n",
       "18S10E10A          0          0          0          0          0          0   \n",
       "18S12E16B          4          0          0          0          0          0   \n",
       "18S12W25B          0          1          0          0          0          0   \n",
       "24S13W34C          0          0          1          0          0          0   \n",
       "26S14W02D          0          0          0          1          0          0   \n",
       "29S15W1CC          0          0          0          0          1          0   \n",
       "36S06W36A          0          0          0          0          0          1   \n",
       "38S08E02D          0          0          0          0          0          0   \n",
       "\n",
       "sim        38S08E02D  \n",
       "trsqq                 \n",
       "05N10W014          0  \n",
       "07S02W02A          0  \n",
       "08N10W21B          0  \n",
       "14S12W36B          0  \n",
       "17S12E10C          0  \n",
       "18S10E10A          0  \n",
       "18S12E16B          0  \n",
       "18S12W25B          0  \n",
       "24S13W34C          0  \n",
       "26S14W02D          0  \n",
       "29S15W1CC          0  \n",
       "36S06W36A          0  \n",
       "38S08E02D          1  "
      ]
     },
     "execution_count": 53,
     "metadata": {},
     "output_type": "execute_result"
    }
   ],
   "source": [
    "df.loc[uniqq, uniqq]"
   ]
  },
  {
   "cell_type": "code",
   "execution_count": null,
   "id": "0dbd55ad",
   "metadata": {},
   "outputs": [],
   "source": [
    "df['col1'] = [(len(difflib.get_close_matches(x, df['col2'], cutoff=0.7))>1)*1 \n",
    "              for x in df['col2']]"
   ]
  }
 ],
 "metadata": {
  "kernelspec": {
   "display_name": "Python 3 (ipykernel)",
   "language": "python",
   "name": "python3"
  },
  "language_info": {
   "codemirror_mode": {
    "name": "ipython",
    "version": 3
   },
   "file_extension": ".py",
   "mimetype": "text/x-python",
   "name": "python",
   "nbconvert_exporter": "python",
   "pygments_lexer": "ipython3",
   "version": "3.8.15"
  }
 },
 "nbformat": 4,
 "nbformat_minor": 5
}
