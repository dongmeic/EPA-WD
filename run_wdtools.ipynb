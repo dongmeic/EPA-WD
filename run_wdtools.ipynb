{
 "cells": [
  {
   "cell_type": "code",
   "execution_count": 1,
   "id": "9861206a",
   "metadata": {},
   "outputs": [
    {
     "name": "stderr",
     "output_type": "stream",
     "text": [
      "C:\\Users\\clid1852\\AppData\\Anaconda3\\envs\\geoenv\\lib\\site-packages\\geopandas\\_compat.py:106: UserWarning: The Shapely GEOS version (3.11.1-CAPI-1.17.1) is incompatible with the GEOS version PyGEOS was compiled with (3.9.1-CAPI-1.14.2). Conversions between both will be slow.\n",
      "  warnings.warn(\n"
     ]
    }
   ],
   "source": [
    "from wdtools import *"
   ]
  },
  {
   "cell_type": "code",
   "execution_count": 2,
   "id": "116d18ba",
   "metadata": {},
   "outputs": [],
   "source": [
    "set_ID = 'Set001'"
   ]
  },
  {
   "cell_type": "code",
   "execution_count": 3,
   "id": "d8785198",
   "metadata": {
    "scrolled": true
   },
   "outputs": [],
   "source": [
    "#gdf = combine_merged_data(setID = set_ID)"
   ]
  },
  {
   "cell_type": "code",
   "execution_count": 31,
   "id": "5b2334da",
   "metadata": {},
   "outputs": [],
   "source": [
    "#gdf = gpd.read_file(os.path.join(inpath + f'\\\\{outfolder}\\\\', f'matched_records_{set_ID}.shp'), driver='ESRI Shapefile')\n",
    "gdf = gpd.read_file(os.path.join(inpath + f'\\\\{outfolder}\\\\', f'combined_records_in_{set_ID}.shp'), driver='ESRI Shapefile')"
   ]
  },
  {
   "cell_type": "code",
   "execution_count": 4,
   "id": "63fa5d1a",
   "metadata": {},
   "outputs": [
    {
     "name": "stdout",
     "output_type": "stream",
     "text": [
      "it took 17.0 minutes to complete\n"
     ]
    }
   ],
   "source": [
    "# this will take about 17 minutes\n",
    "start = time.time()\n",
    "all_taxlot = combine_taxlot()\n",
    "end = time.time()\n",
    "print(f'it took {round((end - start)/60, 0)} minutes to complete')"
   ]
  },
  {
   "cell_type": "code",
   "execution_count": 5,
   "id": "d1851f20",
   "metadata": {},
   "outputs": [],
   "source": [
    "cor_df = check_corrected_data(gdf=gdf, setID=set_ID, all_taxlot=all_taxlot)[0]"
   ]
  },
  {
   "cell_type": "code",
   "execution_count": 6,
   "id": "04d83964",
   "metadata": {},
   "outputs": [],
   "source": [
    "comIDs = check_corrected_data(gdf=gdf, setID=set_ID, all_taxlot=all_taxlot)[1]"
   ]
  },
  {
   "cell_type": "code",
   "execution_count": 7,
   "id": "bd9b885f",
   "metadata": {},
   "outputs": [
    {
     "data": {
      "text/plain": [
       "(23, 26)"
      ]
     },
     "execution_count": 7,
     "metadata": {},
     "output_type": "execute_result"
    }
   ],
   "source": [
    "cor_df.shape"
   ]
  },
  {
   "cell_type": "code",
   "execution_count": 8,
   "id": "ad6fffc5",
   "metadata": {},
   "outputs": [],
   "source": [
    "wd_df = combine_wd_table(set_ID)"
   ]
  },
  {
   "cell_type": "code",
   "execution_count": 54,
   "id": "ef16493d",
   "metadata": {},
   "outputs": [
    {
     "data": {
      "text/plain": [
       "(1420, 25)"
      ]
     },
     "execution_count": 54,
     "metadata": {},
     "output_type": "execute_result"
    }
   ],
   "source": [
    "wd_df.shape"
   ]
  },
  {
   "cell_type": "code",
   "execution_count": 9,
   "id": "279d9255",
   "metadata": {},
   "outputs": [],
   "source": [
    "df_wlots = review_with_lots(gdf, set_ID, all_taxlot)[0]"
   ]
  },
  {
   "cell_type": "code",
   "execution_count": 10,
   "id": "a3b6fff6",
   "metadata": {},
   "outputs": [],
   "source": [
    "df_wlots_to_check = check_corrected_data(gdf=gdf, setID=set_ID, all_taxlot=all_taxlot)[2]"
   ]
  },
  {
   "cell_type": "code",
   "execution_count": 39,
   "id": "27167f3a",
   "metadata": {},
   "outputs": [],
   "source": [
    "import string"
   ]
  },
  {
   "cell_type": "code",
   "execution_count": 41,
   "id": "2982c1e4",
   "metadata": {},
   "outputs": [],
   "source": [
    "cor_df.loc[:, 'county'] = cor_df.county.apply(lambda x: string.capwords(x))"
   ]
  },
  {
   "cell_type": "code",
   "execution_count": 45,
   "id": "bec46293",
   "metadata": {},
   "outputs": [],
   "source": [
    "cor_df_re = rematch_data(gdf=cor_df, setID=set_ID, all_taxlot=all_taxlot, new=True)"
   ]
  },
  {
   "cell_type": "code",
   "execution_count": 47,
   "id": "c8db3c58",
   "metadata": {},
   "outputs": [
    {
     "data": {
      "text/plain": [
       "(25, 31)"
      ]
     },
     "execution_count": 47,
     "metadata": {},
     "output_type": "execute_result"
    }
   ],
   "source": [
    "cor_df_re.shape"
   ]
  },
  {
   "cell_type": "code",
   "execution_count": 48,
   "id": "b39f6cdf",
   "metadata": {},
   "outputs": [
    {
     "data": {
      "text/plain": [
       "Index(['wdID', 'trsqq', 'parcel_id', 'loc_desc', 'city', 'county', 'site_name',\n",
       "       'site_desc', 'latitude', 'longitude', 'matched ORTAXLOT#', 'coord_src',\n",
       "       'doc_name', 'doc_link', 'isbatfile', 'status_nm', 'receiveddt',\n",
       "       'responsedt', 'reissuance', 'project_id', 'site_id', 'record_ID',\n",
       "       'notes', 'Year', 'IDyear', 'missinglot', 'lots', 'lot', 'cnt_code',\n",
       "       'ORTaxlot', 'geometry'],\n",
       "      dtype='object')"
      ]
     },
     "execution_count": 48,
     "metadata": {},
     "output_type": "execute_result"
    }
   ],
   "source": [
    "cor_df_re.columns"
   ]
  },
  {
   "cell_type": "code",
   "execution_count": 49,
   "id": "fa6c5221",
   "metadata": {},
   "outputs": [
    {
     "data": {
      "text/plain": [
       "Index(['record_ID', 'wdID', 'parcel_id', 'ORTaxlot', 'notes', 'geometry'], dtype='object')"
      ]
     },
     "execution_count": 49,
     "metadata": {},
     "output_type": "execute_result"
    }
   ],
   "source": [
    "gdf.columns"
   ]
  },
  {
   "cell_type": "code",
   "execution_count": 50,
   "id": "b0d04a20",
   "metadata": {},
   "outputs": [],
   "source": [
    "ngdf = gdf.append(cor_df_re[gdf.columns])"
   ]
  },
  {
   "cell_type": "code",
   "execution_count": 53,
   "id": "4225d3b3",
   "metadata": {},
   "outputs": [
    {
     "data": {
      "text/plain": [
       "(2407, 6)"
      ]
     },
     "execution_count": 53,
     "metadata": {},
     "output_type": "execute_result"
    }
   ],
   "source": [
    "ngdf.shape"
   ]
  },
  {
   "cell_type": "code",
   "execution_count": 52,
   "id": "34e4f96b",
   "metadata": {
    "scrolled": true
   },
   "outputs": [],
   "source": [
    "ngdf.to_file(os.path.join(inpath + f'\\\\{outfolder}\\\\', f'more_combined_records_in_{set_ID}.shp'), driver='ESRI Shapefile')"
   ]
  },
  {
   "cell_type": "code",
   "execution_count": 55,
   "id": "5fa03009",
   "metadata": {},
   "outputs": [
    {
     "data": {
      "text/plain": [
       "1331"
      ]
     },
     "execution_count": 55,
     "metadata": {},
     "output_type": "execute_result"
    }
   ],
   "source": [
    "len(ngdf.record_ID.unique())"
   ]
  },
  {
   "cell_type": "code",
   "execution_count": 56,
   "id": "f582fa73",
   "metadata": {},
   "outputs": [
    {
     "data": {
      "text/plain": [
       "89"
      ]
     },
     "execution_count": 56,
     "metadata": {},
     "output_type": "execute_result"
    }
   ],
   "source": [
    "wd_df.shape[0] - len(ngdf.record_ID.unique())"
   ]
  },
  {
   "cell_type": "code",
   "execution_count": 58,
   "id": "5c4a77ba",
   "metadata": {
    "scrolled": true
   },
   "outputs": [
    {
     "data": {
      "text/plain": [
       "28"
      ]
     },
     "execution_count": 58,
     "metadata": {},
     "output_type": "execute_result"
    }
   ],
   "source": [
    "len(df_wlots_to_check.record_ID.unique())"
   ]
  },
  {
   "cell_type": "code",
   "execution_count": 59,
   "id": "20388aaf",
   "metadata": {},
   "outputs": [],
   "source": [
    "gdf1st = gpd.read_file(os.path.join(inpath + f'\\\\{outfolder}\\\\', f'matched_records_{set_ID}.shp'), driver='ESRI Shapefile')"
   ]
  },
  {
   "cell_type": "code",
   "execution_count": 60,
   "id": "c639f313",
   "metadata": {},
   "outputs": [],
   "source": [
    "missinglot = records_with_lots(gdf=gdf1st, setID=set_ID)"
   ]
  },
  {
   "cell_type": "code",
   "execution_count": 61,
   "id": "9cb4ff35",
   "metadata": {},
   "outputs": [
    {
     "data": {
      "text/plain": [
       "Index(['wetdet_delin_number', 'trsqq', 'parcel_id', 'address_location_desc',\n",
       "       'city', 'county', 'site_name', 'site_desc', 'latitude', 'longitude',\n",
       "       'Coord-Source', 'DocumentName', 'DecisionLink', 'is_batch_file',\n",
       "       'status_name', 'received_date', 'response_date',\n",
       "       'reissuance_response_date', 'project_id', 'site_id', 'record_ID',\n",
       "       'notes', 'year', 'IDyear', 'missinglot'],\n",
       "      dtype='object')"
      ]
     },
     "execution_count": 61,
     "metadata": {},
     "output_type": "execute_result"
    }
   ],
   "source": [
    "missinglot.columns"
   ]
  }
 ],
 "metadata": {
  "kernelspec": {
   "display_name": "Python 3 (ipykernel)",
   "language": "python",
   "name": "python3"
  },
  "language_info": {
   "codemirror_mode": {
    "name": "ipython",
    "version": 3
   },
   "file_extension": ".py",
   "mimetype": "text/x-python",
   "name": "python",
   "nbconvert_exporter": "python",
   "pygments_lexer": "ipython3",
   "version": "3.8.15"
  }
 },
 "nbformat": 4,
 "nbformat_minor": 5
}
