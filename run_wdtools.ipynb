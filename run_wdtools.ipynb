{
 "cells": [
  {
   "cell_type": "code",
   "execution_count": 1,
   "id": "297392bf",
   "metadata": {},
   "outputs": [
    {
     "name": "stderr",
     "output_type": "stream",
     "text": [
      "C:\\Users\\clid1852\\AppData\\Anaconda3\\envs\\geoenv\\lib\\site-packages\\geopandas\\_compat.py:106: UserWarning: The Shapely GEOS version (3.11.1-CAPI-1.17.1) is incompatible with the GEOS version PyGEOS was compiled with (3.9.1-CAPI-1.14.2). Conversions between both will be slow.\n",
      "  warnings.warn(\n"
     ]
    }
   ],
   "source": [
    "from wdtools import *"
   ]
  },
  {
   "cell_type": "code",
   "execution_count": 2,
   "id": "6d3aef5a",
   "metadata": {},
   "outputs": [],
   "source": [
    "files = list_files(os.path.join(wdpath, 'Set001'))"
   ]
  },
  {
   "cell_type": "code",
   "execution_count": 3,
   "id": "2beb20ff",
   "metadata": {},
   "outputs": [],
   "source": [
    "files = [file for file in files if '~$' not in file]"
   ]
  },
  {
   "cell_type": "code",
   "execution_count": 4,
   "id": "0df1643c",
   "metadata": {},
   "outputs": [],
   "source": [
    "set_ID = 'Set001'"
   ]
  },
  {
   "cell_type": "code",
   "execution_count": 5,
   "id": "87a45a69",
   "metadata": {},
   "outputs": [
    {
     "name": "stdout",
     "output_type": "stream",
     "text": [
      "it took 16.0 minutes to complete Set001\n"
     ]
    }
   ],
   "source": [
    "start1 = time.time()\n",
    "frames = []\n",
    "for year in range(2017, 2023):\n",
    "    #start2 = time.time()\n",
    "    tx_dt = read_taxlot(year)\n",
    "    #end2 = time.time()\n",
    "    #print(\"it took {0} minutes to read taxlot in {1}\".format(str(round((end2 - start2)/60, 0)), str(year)))\n",
    "    for file in files:\n",
    "        #print(\"processing {0} in {1}\".format(file, str(year)))\n",
    "        wd_dt = read_wd_table(setID = set_ID, file = file)  \n",
    "        df = wd_dt[wd_dt.IDyear == str(year)].merge(tx_dt[['ORTaxlot', 'geometry']], \n",
    "                                                    on='ORTaxlot', \n",
    "                                                    how='left')\n",
    "        frames.append(df)\n",
    "        #print(\"processed {0} in {1}\".format(file, str(year)))\n",
    "df = pd.concat(frames, ignore_index=True)      \n",
    "end1 = time.time()\n",
    "print(\"it took {0} minutes to complete {1}\".format(str(round((end1 - start1)/60, 0)), set_ID))"
   ]
  },
  {
   "cell_type": "code",
   "execution_count": 6,
   "id": "6e5f1815",
   "metadata": {},
   "outputs": [
    {
     "data": {
      "text/plain": [
       "Index(['wetdet_delin_number', 'trsqq', 'parcel_id', 'address_location_desc',\n",
       "       'city', 'county', 'site_name', 'site_desc', 'latitude', 'longitude',\n",
       "       'Coord-Source', 'DocumentName', 'DecisionLink', 'is_batch_file',\n",
       "       'status_name', 'received_date', 'response_date',\n",
       "       'reissuance_response_date', 'project_id', 'site_id', 'record_ID',\n",
       "       'lots', 'lot', 'cnt_code', 'ORTaxlot', 'year', 'IDyear', 'geometry'],\n",
       "      dtype='object')"
      ]
     },
     "execution_count": 6,
     "metadata": {},
     "output_type": "execute_result"
    }
   ],
   "source": [
    "df.columns"
   ]
  },
  {
   "cell_type": "code",
   "execution_count": 7,
   "id": "78048639",
   "metadata": {},
   "outputs": [
    {
     "data": {
      "text/plain": [
       "dtype('float64')"
      ]
     },
     "execution_count": 7,
     "metadata": {},
     "output_type": "execute_result"
    }
   ],
   "source": [
    "df.reissuance_response_date.dtype"
   ]
  },
  {
   "cell_type": "code",
   "execution_count": 9,
   "id": "9f3537e4",
   "metadata": {},
   "outputs": [],
   "source": [
    "df['response_date'] = df['response_date'].dt.strftime(\"%Y-%m-%d\")"
   ]
  },
  {
   "cell_type": "code",
   "execution_count": 10,
   "id": "43515b0f",
   "metadata": {},
   "outputs": [],
   "source": [
    "df['received_date'] = df['received_date'].dt.strftime(\"%Y-%m-%d\")"
   ]
  },
  {
   "cell_type": "code",
   "execution_count": 13,
   "id": "2d3593cf",
   "metadata": {},
   "outputs": [],
   "source": [
    "df['lots'] = df['lots'].apply(lambda x: ' '.join(dict.fromkeys(x).keys()))"
   ]
  },
  {
   "cell_type": "code",
   "execution_count": 22,
   "id": "34d17d66",
   "metadata": {
    "scrolled": true
   },
   "outputs": [
    {
     "data": {
      "text/html": [
       "<div>\n",
       "<style scoped>\n",
       "    .dataframe tbody tr th:only-of-type {\n",
       "        vertical-align: middle;\n",
       "    }\n",
       "\n",
       "    .dataframe tbody tr th {\n",
       "        vertical-align: top;\n",
       "    }\n",
       "\n",
       "    .dataframe thead th {\n",
       "        text-align: right;\n",
       "    }\n",
       "</style>\n",
       "<table border=\"1\" class=\"dataframe\">\n",
       "  <thead>\n",
       "    <tr style=\"text-align: right;\">\n",
       "      <th></th>\n",
       "      <th>wetdet_delin_number</th>\n",
       "      <th>trsqq</th>\n",
       "      <th>parcel_id</th>\n",
       "      <th>address_location_desc</th>\n",
       "      <th>city</th>\n",
       "      <th>county</th>\n",
       "      <th>site_name</th>\n",
       "      <th>site_desc</th>\n",
       "      <th>latitude</th>\n",
       "      <th>longitude</th>\n",
       "      <th>...</th>\n",
       "      <th>project_id</th>\n",
       "      <th>site_id</th>\n",
       "      <th>record_ID</th>\n",
       "      <th>lots</th>\n",
       "      <th>lot</th>\n",
       "      <th>cnt_code</th>\n",
       "      <th>ORTaxlot</th>\n",
       "      <th>year</th>\n",
       "      <th>IDyear</th>\n",
       "      <th>geometry</th>\n",
       "    </tr>\n",
       "  </thead>\n",
       "  <tbody>\n",
       "    <tr>\n",
       "      <th>2493</th>\n",
       "      <td>WD2022-0301</td>\n",
       "      <td>06S01W32</td>\n",
       "      <td>500,600,601,700,900</td>\n",
       "      <td>Hazelgreen Rd near Torvend Rd over the Pudding...</td>\n",
       "      <td>Silverton</td>\n",
       "      <td>Marion</td>\n",
       "      <td>Hazelgreen Rd Bridge Replacement</td>\n",
       "      <td>WD2022-0301 delin</td>\n",
       "      <td>45.00945</td>\n",
       "      <td>-122.84316</td>\n",
       "      <td>...</td>\n",
       "      <td>84297.0</td>\n",
       "      <td>139465</td>\n",
       "      <td>268</td>\n",
       "      <td>500 600 601 700 900</td>\n",
       "      <td>601</td>\n",
       "      <td>24</td>\n",
       "      <td>2406.00S01.00W3200--000000601</td>\n",
       "      <td>2022</td>\n",
       "      <td>2022</td>\n",
       "      <td>MULTIPOLYGON (((706600.131 1196247.539, 706585...</td>\n",
       "    </tr>\n",
       "    <tr>\n",
       "      <th>2494</th>\n",
       "      <td>WD2022-0301</td>\n",
       "      <td>06S01W32</td>\n",
       "      <td>500,600,601,700,900</td>\n",
       "      <td>Hazelgreen Rd near Torvend Rd over the Pudding...</td>\n",
       "      <td>Silverton</td>\n",
       "      <td>Marion</td>\n",
       "      <td>Hazelgreen Rd Bridge Replacement</td>\n",
       "      <td>WD2022-0301 delin</td>\n",
       "      <td>45.00945</td>\n",
       "      <td>-122.84316</td>\n",
       "      <td>...</td>\n",
       "      <td>84297.0</td>\n",
       "      <td>139465</td>\n",
       "      <td>268</td>\n",
       "      <td>500 600 601 700 900</td>\n",
       "      <td>700</td>\n",
       "      <td>24</td>\n",
       "      <td>2406.00S01.00W3200--000000700</td>\n",
       "      <td>2022</td>\n",
       "      <td>2022</td>\n",
       "      <td>MULTIPOLYGON (((706341.268 1196877.808, 706285...</td>\n",
       "    </tr>\n",
       "    <tr>\n",
       "      <th>2495</th>\n",
       "      <td>WD2022-0301</td>\n",
       "      <td>06S01W32</td>\n",
       "      <td>500,600,601,700,900</td>\n",
       "      <td>Hazelgreen Rd near Torvend Rd over the Pudding...</td>\n",
       "      <td>Silverton</td>\n",
       "      <td>Marion</td>\n",
       "      <td>Hazelgreen Rd Bridge Replacement</td>\n",
       "      <td>WD2022-0301 delin</td>\n",
       "      <td>45.00945</td>\n",
       "      <td>-122.84316</td>\n",
       "      <td>...</td>\n",
       "      <td>84297.0</td>\n",
       "      <td>139465</td>\n",
       "      <td>268</td>\n",
       "      <td>500 600 601 700 900</td>\n",
       "      <td>900</td>\n",
       "      <td>24</td>\n",
       "      <td>2406.00S01.00W3200--000000900</td>\n",
       "      <td>2022</td>\n",
       "      <td>2022</td>\n",
       "      <td>MULTIPOLYGON (((711115.773 1196891.122, 711110...</td>\n",
       "    </tr>\n",
       "  </tbody>\n",
       "</table>\n",
       "<p>3 rows × 28 columns</p>\n",
       "</div>"
      ],
      "text/plain": [
       "     wetdet_delin_number     trsqq            parcel_id  \\\n",
       "2493         WD2022-0301  06S01W32  500,600,601,700,900   \n",
       "2494         WD2022-0301  06S01W32  500,600,601,700,900   \n",
       "2495         WD2022-0301  06S01W32  500,600,601,700,900   \n",
       "\n",
       "                                  address_location_desc       city  county  \\\n",
       "2493  Hazelgreen Rd near Torvend Rd over the Pudding...  Silverton  Marion   \n",
       "2494  Hazelgreen Rd near Torvend Rd over the Pudding...  Silverton  Marion   \n",
       "2495  Hazelgreen Rd near Torvend Rd over the Pudding...  Silverton  Marion   \n",
       "\n",
       "                             site_name          site_desc  latitude  \\\n",
       "2493  Hazelgreen Rd Bridge Replacement  WD2022-0301 delin  45.00945   \n",
       "2494  Hazelgreen Rd Bridge Replacement  WD2022-0301 delin  45.00945   \n",
       "2495  Hazelgreen Rd Bridge Replacement  WD2022-0301 delin  45.00945   \n",
       "\n",
       "      longitude  ... project_id site_id record_ID                 lots  lot  \\\n",
       "2493 -122.84316  ...    84297.0  139465       268  500 600 601 700 900  601   \n",
       "2494 -122.84316  ...    84297.0  139465       268  500 600 601 700 900  700   \n",
       "2495 -122.84316  ...    84297.0  139465       268  500 600 601 700 900  900   \n",
       "\n",
       "     cnt_code                       ORTaxlot  year  IDyear  \\\n",
       "2493       24  2406.00S01.00W3200--000000601  2022    2022   \n",
       "2494       24  2406.00S01.00W3200--000000700  2022    2022   \n",
       "2495       24  2406.00S01.00W3200--000000900  2022    2022   \n",
       "\n",
       "                                               geometry  \n",
       "2493  MULTIPOLYGON (((706600.131 1196247.539, 706585...  \n",
       "2494  MULTIPOLYGON (((706341.268 1196877.808, 706285...  \n",
       "2495  MULTIPOLYGON (((711115.773 1196891.122, 711110...  \n",
       "\n",
       "[3 rows x 28 columns]"
      ]
     },
     "execution_count": 22,
     "metadata": {},
     "output_type": "execute_result"
    }
   ],
   "source": [
    "df.tail(3)"
   ]
  },
  {
   "cell_type": "code",
   "execution_count": 14,
   "id": "76cf8dc7",
   "metadata": {},
   "outputs": [],
   "source": [
    "gdf = gpd.GeoDataFrame(df, crs=\"EPSG:2992\", geometry='geometry')"
   ]
  },
  {
   "cell_type": "code",
   "execution_count": 17,
   "id": "159ded2b",
   "metadata": {},
   "outputs": [],
   "source": [
    "gdf.rename(columns={'wetdet_delin_number': 'wdID', \n",
    "                      'address_location_desc':'loc_desc', \n",
    "                      'Coord-Source': 'coord_src',\n",
    "                      'DocumentName':'doc_name',\n",
    "                      'DecisionLink':'doc_link',\n",
    "                      'is_batch_file':'isbatfile',\n",
    "                      'status_name': 'status_nm',\n",
    "                      'received_date':'receiveddt', \n",
    "                      'response_date':'responsedt',\n",
    "                      'reissuance_response_date':'reissuance', \n",
    "                      }, inplace=True)"
   ]
  },
  {
   "cell_type": "code",
   "execution_count": 5,
   "id": "35459645",
   "metadata": {},
   "outputs": [],
   "source": [
    "gdf = gpd.read_file(os.path.join(inpath + '\\\\test', 'matched_records_with_lotID'))"
   ]
  },
  {
   "cell_type": "code",
   "execution_count": 6,
   "id": "dc4f6a0a",
   "metadata": {},
   "outputs": [],
   "source": [
    "# read all set001 data without merging\n",
    "wd_df = combine_wd_table(setID = set_ID)"
   ]
  },
  {
   "cell_type": "code",
   "execution_count": 31,
   "id": "29571538",
   "metadata": {},
   "outputs": [],
   "source": [
    "selectedID = wd_df.parcel_id.astype(str) != 'nan'"
   ]
  },
  {
   "cell_type": "code",
   "execution_count": 32,
   "id": "a6b2b873",
   "metadata": {},
   "outputs": [],
   "source": [
    "wd_df.loc[selectedID, 'notes'] = wd_df[selectedID]['parcel_id'].apply(lambda x: make_notes(x))"
   ]
  },
  {
   "cell_type": "code",
   "execution_count": 7,
   "id": "531b429a",
   "metadata": {},
   "outputs": [
    {
     "data": {
      "text/plain": [
       "array([   1,    2,    3, ..., 1418, 1419, 1420], dtype=int64)"
      ]
     },
     "execution_count": 7,
     "metadata": {},
     "output_type": "execute_result"
    }
   ],
   "source": [
    "wd_df.record_ID.values"
   ]
  },
  {
   "cell_type": "code",
   "execution_count": 9,
   "id": "c0b7ef2b",
   "metadata": {},
   "outputs": [
    {
     "data": {
      "text/plain": [
       "(1420, 21)"
      ]
     },
     "execution_count": 9,
     "metadata": {},
     "output_type": "execute_result"
    }
   ],
   "source": [
    "wd_df.shape"
   ]
  },
  {
   "cell_type": "code",
   "execution_count": 9,
   "id": "a9d6144c",
   "metadata": {},
   "outputs": [
    {
     "data": {
      "text/plain": [
       "Index(['wdID', 'trsqq', 'parcel_id', 'loc_desc', 'city', 'county', 'site_name',\n",
       "       'site_desc', 'latitude', 'longitude', 'coord_src', 'doc_name',\n",
       "       'doc_link', 'isbatfile', 'status_nm', 'receiveddt', 'responsedt',\n",
       "       'reissuance', 'project_id', 'site_id', 'record_ID', 'lots', 'lot',\n",
       "       'cnt_code', 'ORTaxlot', 'year', 'IDyear', 'geometry'],\n",
       "      dtype='object')"
      ]
     },
     "execution_count": 9,
     "metadata": {},
     "output_type": "execute_result"
    }
   ],
   "source": [
    "gdf.columns"
   ]
  },
  {
   "cell_type": "code",
   "execution_count": 10,
   "id": "93c6aaf6",
   "metadata": {},
   "outputs": [],
   "source": [
    "counties = wd_df.county.unique()"
   ]
  },
  {
   "cell_type": "code",
   "execution_count": 11,
   "id": "5cc6d642",
   "metadata": {},
   "outputs": [],
   "source": [
    "count_records = []\n",
    "for cnty in counties:\n",
    "    count = len(wd_df[wd_df.county == cnty])\n",
    "    #print(f'County {cnty} has {count} records')\n",
    "    count_records.append(count)"
   ]
  },
  {
   "cell_type": "code",
   "execution_count": 12,
   "id": "aff0c9c9",
   "metadata": {},
   "outputs": [
    {
     "data": {
      "text/plain": [
       "[181, 148, 241, 21, 383, 109, 69, 268]"
      ]
     },
     "execution_count": 12,
     "metadata": {},
     "output_type": "execute_result"
    }
   ],
   "source": [
    "count_records"
   ]
  },
  {
   "cell_type": "code",
   "execution_count": 13,
   "id": "e60c8e9f",
   "metadata": {},
   "outputs": [],
   "source": [
    "record_df = pd.DataFrame({'county': counties, 'rcount':count_records})"
   ]
  },
  {
   "cell_type": "code",
   "execution_count": 14,
   "id": "4745f084",
   "metadata": {},
   "outputs": [],
   "source": [
    "record_df['cum_count'] = record_df[['rcount']].cumsum(axis = 0, skipna = True).rcount.values"
   ]
  },
  {
   "cell_type": "code",
   "execution_count": 15,
   "id": "93e4bce3",
   "metadata": {},
   "outputs": [
    {
     "data": {
      "text/html": [
       "<div>\n",
       "<style scoped>\n",
       "    .dataframe tbody tr th:only-of-type {\n",
       "        vertical-align: middle;\n",
       "    }\n",
       "\n",
       "    .dataframe tbody tr th {\n",
       "        vertical-align: top;\n",
       "    }\n",
       "\n",
       "    .dataframe thead th {\n",
       "        text-align: right;\n",
       "    }\n",
       "</style>\n",
       "<table border=\"1\" class=\"dataframe\">\n",
       "  <thead>\n",
       "    <tr style=\"text-align: right;\">\n",
       "      <th></th>\n",
       "      <th>county</th>\n",
       "      <th>rcount</th>\n",
       "      <th>cum_count</th>\n",
       "    </tr>\n",
       "  </thead>\n",
       "  <tbody>\n",
       "    <tr>\n",
       "      <th>0</th>\n",
       "      <td>Clatsop</td>\n",
       "      <td>181</td>\n",
       "      <td>181</td>\n",
       "    </tr>\n",
       "    <tr>\n",
       "      <th>1</th>\n",
       "      <td>Coos</td>\n",
       "      <td>148</td>\n",
       "      <td>329</td>\n",
       "    </tr>\n",
       "    <tr>\n",
       "      <th>2</th>\n",
       "      <td>Deschutes</td>\n",
       "      <td>241</td>\n",
       "      <td>570</td>\n",
       "    </tr>\n",
       "    <tr>\n",
       "      <th>3</th>\n",
       "      <td>Harney</td>\n",
       "      <td>21</td>\n",
       "      <td>591</td>\n",
       "    </tr>\n",
       "    <tr>\n",
       "      <th>4</th>\n",
       "      <td>Jackson</td>\n",
       "      <td>383</td>\n",
       "      <td>974</td>\n",
       "    </tr>\n",
       "    <tr>\n",
       "      <th>5</th>\n",
       "      <td>Josephine</td>\n",
       "      <td>109</td>\n",
       "      <td>1083</td>\n",
       "    </tr>\n",
       "    <tr>\n",
       "      <th>6</th>\n",
       "      <td>Lake</td>\n",
       "      <td>69</td>\n",
       "      <td>1152</td>\n",
       "    </tr>\n",
       "    <tr>\n",
       "      <th>7</th>\n",
       "      <td>Marion</td>\n",
       "      <td>268</td>\n",
       "      <td>1420</td>\n",
       "    </tr>\n",
       "  </tbody>\n",
       "</table>\n",
       "</div>"
      ],
      "text/plain": [
       "      county  rcount  cum_count\n",
       "0    Clatsop     181        181\n",
       "1       Coos     148        329\n",
       "2  Deschutes     241        570\n",
       "3     Harney      21        591\n",
       "4    Jackson     383        974\n",
       "5  Josephine     109       1083\n",
       "6       Lake      69       1152\n",
       "7     Marion     268       1420"
      ]
     },
     "execution_count": 15,
     "metadata": {},
     "output_type": "execute_result"
    }
   ],
   "source": [
    "record_df"
   ]
  },
  {
   "cell_type": "code",
   "execution_count": 16,
   "id": "7c7e307f",
   "metadata": {},
   "outputs": [],
   "source": [
    "record_dict = dict(zip(record_df.county[1:8], record_df.cum_count[0:7]))"
   ]
  },
  {
   "cell_type": "code",
   "execution_count": 17,
   "id": "3fb4c1b9",
   "metadata": {},
   "outputs": [
    {
     "data": {
      "text/plain": [
       "{'Coos': 181,\n",
       " 'Deschutes': 329,\n",
       " 'Harney': 570,\n",
       " 'Jackson': 591,\n",
       " 'Josephine': 974,\n",
       " 'Lake': 1083,\n",
       " 'Marion': 1152}"
      ]
     },
     "execution_count": 17,
     "metadata": {},
     "output_type": "execute_result"
    }
   ],
   "source": [
    "record_dict"
   ]
  },
  {
   "cell_type": "code",
   "execution_count": 20,
   "id": "667a5bb2",
   "metadata": {},
   "outputs": [],
   "source": [
    "selected_cnty = gdf.county.isin(counties[1:])"
   ]
  },
  {
   "cell_type": "code",
   "execution_count": 21,
   "id": "fc354d6a",
   "metadata": {},
   "outputs": [],
   "source": [
    "gdf.loc[selected_cnty, 'updated_rID'] = gdf.loc[selected_cnty, 'record_ID'] + gdf[selected_cnty].county.map(record_dict)"
   ]
  },
  {
   "cell_type": "code",
   "execution_count": 22,
   "id": "c95b6d47",
   "metadata": {},
   "outputs": [],
   "source": [
    "gdf.loc[gdf.county == 'Clatsop', 'updated_rID'] = gdf.loc[gdf.county == 'Clatsop', 'record_ID']"
   ]
  },
  {
   "cell_type": "code",
   "execution_count": 24,
   "id": "cf8e7143",
   "metadata": {},
   "outputs": [],
   "source": [
    "gdf.loc[:, 'updated_rID'] = gdf.updated_rID.astype('int64', copy=False)"
   ]
  },
  {
   "cell_type": "code",
   "execution_count": 27,
   "id": "60157f90",
   "metadata": {},
   "outputs": [],
   "source": [
    "matched_rID = check_duplicates(gdf.updated_rID.values)[0]"
   ]
  },
  {
   "cell_type": "code",
   "execution_count": 28,
   "id": "6079320b",
   "metadata": {},
   "outputs": [],
   "source": [
    "unmatched_wd_df = wd_df[~wd_df.record_ID.isin(matched_rID)]"
   ]
  },
  {
   "cell_type": "code",
   "execution_count": 26,
   "id": "260f8415",
   "metadata": {},
   "outputs": [
    {
     "data": {
      "text/plain": [
       "(1420, 21)"
      ]
     },
     "execution_count": 26,
     "metadata": {},
     "output_type": "execute_result"
    }
   ],
   "source": [
    "wd_df.shape"
   ]
  },
  {
   "cell_type": "code",
   "execution_count": 29,
   "id": "c10d7762",
   "metadata": {},
   "outputs": [
    {
     "data": {
      "text/plain": [
       "(945, 21)"
      ]
     },
     "execution_count": 29,
     "metadata": {},
     "output_type": "execute_result"
    }
   ],
   "source": [
    "unmatched_wd_df.shape"
   ]
  },
  {
   "cell_type": "code",
   "execution_count": 33,
   "id": "ae5c432f",
   "metadata": {},
   "outputs": [
    {
     "data": {
      "text/plain": [
       "0.9570422535211267"
      ]
     },
     "execution_count": 33,
     "metadata": {},
     "output_type": "execute_result"
    }
   ],
   "source": [
    "len(gdf.updated_rID.unique())/wd_df.shape[0]"
   ]
  },
  {
   "cell_type": "code",
   "execution_count": 36,
   "id": "1beab19e",
   "metadata": {},
   "outputs": [
    {
     "data": {
      "text/plain": [
       "([None], 1)"
      ]
     },
     "execution_count": 36,
     "metadata": {},
     "output_type": "execute_result"
    }
   ],
   "source": [
    "check_duplicates([tx for tx in set1gdf.ORTAXLOT.values if tx not in gdf.ORTaxlot.values])"
   ]
  },
  {
   "cell_type": "code",
   "execution_count": 23,
   "id": "ef24a731",
   "metadata": {},
   "outputs": [
    {
     "data": {
      "text/plain": [
       "['500 (partial)',\n",
       " '2500, ROWs (both partial)',\n",
       " '302 (partial)',\n",
       " '2100 (partial)',\n",
       " '204',\n",
       " '4600 (partial)',\n",
       " '10700',\n",
       " 'NW 11th St ROW (partial)',\n",
       " '3602',\n",
       " '12308',\n",
       " '12400',\n",
       " '600 (partial)',\n",
       " '2310, ROW (both partial)',\n",
       " '2903',\n",
       " '8300',\n",
       " '1529',\n",
       " '408 (portion)',\n",
       " '1204 (partial)',\n",
       " '702',\n",
       " '5800 (partial)',\n",
       " '1500 (portion)',\n",
       " '2301',\n",
       " '923',\n",
       " '3400, ROW partial',\n",
       " '600, ROW partial',\n",
       " '1002 partial',\n",
       " '500 (portion)',\n",
       " '4302, ROW all partial',\n",
       " '5800 portion',\n",
       " '5800 partial',\n",
       " '2100, ROW partial',\n",
       " '3407',\n",
       " '2204',\n",
       " '903',\n",
       " '1409',\n",
       " '3800,ROW',\n",
       " '10890, ROW partial',\n",
       " '502',\n",
       " '2408',\n",
       " '18700',\n",
       " '8705',\n",
       " '1505',\n",
       " '2401, ROW',\n",
       " '802',\n",
       " '10200',\n",
       " '6500',\n",
       " '11100',\n",
       " '613',\n",
       " '620',\n",
       " '601p',\n",
       " '140p',\n",
       " '5000p',\n",
       " '2501',\n",
       " '3001',\n",
       " '901',\n",
       " '5000,ROW (all part)',\n",
       " '1420',\n",
       " '5001',\n",
       " '4000',\n",
       " '402p',\n",
       " '8400',\n",
       " '505',\n",
       " '300 portion',\n",
       " '700 portion',\n",
       " '99 partial',\n",
       " '5700',\n",
       " '406',\n",
       " '104 partial',\n",
       " '2101',\n",
       " '1403',\n",
       " '109 partial',\n",
       " '705 partial',\n",
       " '106 (portion)',\n",
       " '1701',\n",
       " '4400,WATER,All partial',\n",
       " '4400',\n",
       " '98',\n",
       " '1314',\n",
       " 'ROW, 906',\n",
       " '405',\n",
       " '4800,ROW,All partial',\n",
       " '205',\n",
       " '1401p',\n",
       " '4300',\n",
       " '552',\n",
       " '1101',\n",
       " '9900',\n",
       " '2604',\n",
       " '910',\n",
       " '1300p',\n",
       " '2902p',\n",
       " '4403p',\n",
       " '27600',\n",
       " '414',\n",
       " '1800,ROW',\n",
       " '700,WATER',\n",
       " '3400, ROW',\n",
       " '300, ROW',\n",
       " '1000,Elm St ROW',\n",
       " '1812,ROWs',\n",
       " '300p,ROW',\n",
       " '3400,ROW',\n",
       " '1400p',\n",
       " '4900p',\n",
       " '3600p',\n",
       " '8500p',\n",
       " '603',\n",
       " '1202',\n",
       " '815',\n",
       " '4701',\n",
       " '307',\n",
       " '7400',\n",
       " '708',\n",
       " '1402',\n",
       " '304',\n",
       " '2100p',\n",
       " '3202',\n",
       " '1204',\n",
       " '2201',\n",
       " '715',\n",
       " '801p',\n",
       " '756',\n",
       " '3304',\n",
       " '7500',\n",
       " '1408',\n",
       " '202',\n",
       " '2200p',\n",
       " '104,ROW',\n",
       " '1600p',\n",
       " '6800',\n",
       " '806',\n",
       " '114p',\n",
       " '2103',\n",
       " '6702',\n",
       " '9800',\n",
       " '1601',\n",
       " '102',\n",
       " '2800p,ROW',\n",
       " '1200p,ROW',\n",
       " '216',\n",
       " '4501',\n",
       " '125p',\n",
       " '9201',\n",
       " '9000',\n",
       " '4200p',\n",
       " '199',\n",
       " '2701',\n",
       " '790, ROW, All Part',\n",
       " '1101p',\n",
       " '1903',\n",
       " '904',\n",
       " '1800p',\n",
       " '209',\n",
       " '412',\n",
       " '412p',\n",
       " '1207',\n",
       " '301',\n",
       " '203',\n",
       " '506',\n",
       " '503',\n",
       " '2506',\n",
       " '7200',\n",
       " '1804',\n",
       " '2506p',\n",
       " '216p',\n",
       " '1014',\n",
       " '211',\n",
       " '2400 (partial)',\n",
       " '601 (partial)',\n",
       " '1600 (partial)',\n",
       " '7900 (partial)',\n",
       " 'Rails,901,ROW all partial',\n",
       " '900 partial',\n",
       " '5500 partial',\n",
       " '100 (partial)',\n",
       " '5600',\n",
       " '1510',\n",
       " '5300',\n",
       " '602 (partial)',\n",
       " '1901p',\n",
       " '6000',\n",
       " '600,ROWs,All part',\n",
       " '3601',\n",
       " '3900',\n",
       " '1200p',\n",
       " '500,RAILS,All part',\n",
       " '2600p',\n",
       " '600,ROWp',\n",
       " '10000',\n",
       " '12600',\n",
       " '1499p',\n",
       " '1002',\n",
       " '13900',\n",
       " '3600',\n",
       " '12700p',\n",
       " '502p',\n",
       " '5000',\n",
       " '8000,ROW',\n",
       " '500,ROW,All part',\n",
       " '602,ROW,All part',\n",
       " '100,ROW',\n",
       " '4800,ROW,All part',\n",
       " '300,ROW,All part',\n",
       " '7900']"
      ]
     },
     "execution_count": 23,
     "metadata": {},
     "output_type": "execute_result"
    }
   ],
   "source": [
    "check_duplicates(unmatched_wd_df.parcel_id.values)[0]"
   ]
  },
  {
   "cell_type": "code",
   "execution_count": 20,
   "id": "8913db25",
   "metadata": {},
   "outputs": [],
   "source": [
    "#gdf.to_file(os.path.join(inpath + '\\\\test', 'matched_records_with_lotID'))"
   ]
  },
  {
   "cell_type": "code",
   "execution_count": 26,
   "id": "c1b7a716",
   "metadata": {},
   "outputs": [
    {
     "data": {
      "text/plain": [
       "(2496, 25)"
      ]
     },
     "execution_count": 26,
     "metadata": {},
     "output_type": "execute_result"
    }
   ],
   "source": [
    "gdf.shape"
   ]
  },
  {
   "cell_type": "code",
   "execution_count": 23,
   "id": "54428d4e",
   "metadata": {},
   "outputs": [],
   "source": [
    "gdf.drop(columns=['lots', 'lot', 'cnt_code'], inplace = True)"
   ]
  },
  {
   "cell_type": "code",
   "execution_count": 25,
   "id": "e597f878",
   "metadata": {},
   "outputs": [],
   "source": [
    "gdf.drop_duplicates(inplace = True)"
   ]
  },
  {
   "cell_type": "code",
   "execution_count": 41,
   "id": "5f1ce253",
   "metadata": {},
   "outputs": [
    {
     "data": {
      "text/plain": [
       "991"
      ]
     },
     "execution_count": 41,
     "metadata": {},
     "output_type": "execute_result"
    }
   ],
   "source": [
    "len(gdf.wdID.unique())"
   ]
  },
  {
   "cell_type": "code",
   "execution_count": 29,
   "id": "82eb785e",
   "metadata": {},
   "outputs": [
    {
     "data": {
      "text/plain": [
       "381"
      ]
     },
     "execution_count": 29,
     "metadata": {},
     "output_type": "execute_result"
    }
   ],
   "source": [
    "len(gdf.record_ID.unique())"
   ]
  },
  {
   "cell_type": "code",
   "execution_count": 31,
   "id": "bc3a3742",
   "metadata": {},
   "outputs": [],
   "source": [
    "set1gdf = gpd.read_file(os.path.join(inpath, 'GIS', 'Join_Statewide.gdb'), layer='WD_Set001_Combined')"
   ]
  },
  {
   "cell_type": "code",
   "execution_count": 32,
   "id": "15021ab6",
   "metadata": {},
   "outputs": [
    {
     "data": {
      "text/plain": [
       "Index(['Record_ID', 'wetdet_delin_number', 'trsqq', 'parcel_id',\n",
       "       'address_location_desc', 'city', 'county', 'site_name', 'site_desc',\n",
       "       'latitude', 'longitude', 'Coord_Source', 'DocumentName', 'DecisionLink',\n",
       "       'is_batch_file', 'status_name', 'received_date', 'response_date',\n",
       "       'reissuance_response_date', 'project_id', 'site_id', 'lot_num', 'lot',\n",
       "       'Match_Year', 'ORTAXLOT', 'Match_found', 'Manual_note', 'Shape_Length',\n",
       "       'Shape_Area', 'Edits_Complete', 'matcher2', 'geometry'],\n",
       "      dtype='object')"
      ]
     },
     "execution_count": 32,
     "metadata": {},
     "output_type": "execute_result"
    }
   ],
   "source": [
    "set1gdf.columns"
   ]
  },
  {
   "cell_type": "code",
   "execution_count": 34,
   "id": "0848fc99",
   "metadata": {},
   "outputs": [
    {
     "data": {
      "text/plain": [
       "(2092, 32)"
      ]
     },
     "execution_count": 34,
     "metadata": {},
     "output_type": "execute_result"
    }
   ],
   "source": [
    "set1gdf.shape"
   ]
  },
  {
   "cell_type": "code",
   "execution_count": 33,
   "id": "bddd1520",
   "metadata": {},
   "outputs": [
    {
     "data": {
      "text/plain": [
       "1362"
      ]
     },
     "execution_count": 33,
     "metadata": {},
     "output_type": "execute_result"
    }
   ],
   "source": [
    "len(set1gdf.Record_ID.unique())"
   ]
  },
  {
   "cell_type": "code",
   "execution_count": 44,
   "id": "fa600cbf",
   "metadata": {},
   "outputs": [
    {
     "data": {
      "text/plain": [
       "array(['WD2019-0455', 'WD2020-0302', 'WD2020-0374', 'WD2020-0536',\n",
       "       'WD2020-0391', 'WD2020-0669', 'WD2021-0162', 'WD2021-0703'],\n",
       "      dtype=object)"
      ]
     },
     "execution_count": 44,
     "metadata": {},
     "output_type": "execute_result"
    }
   ],
   "source": [
    "set1gdf[~set1gdf.wetdet_delin_number.isin(gdf.wdID.unique())].wetdet_delin_number.unique()"
   ]
  },
  {
   "cell_type": "code",
   "execution_count": 46,
   "id": "d33250a7",
   "metadata": {},
   "outputs": [
    {
     "data": {
      "text/plain": [
       "array(['ROW', 'ROW & partial', 'partial', None], dtype=object)"
      ]
     },
     "execution_count": 46,
     "metadata": {},
     "output_type": "execute_result"
    }
   ],
   "source": [
    "set1gdf[~set1gdf.wetdet_delin_number.isin(gdf.wdID.unique())].Manual_note.unique()"
   ]
  }
 ],
 "metadata": {
  "kernelspec": {
   "display_name": "Python 3 (ipykernel)",
   "language": "python",
   "name": "python3"
  },
  "language_info": {
   "codemirror_mode": {
    "name": "ipython",
    "version": 3
   },
   "file_extension": ".py",
   "mimetype": "text/x-python",
   "name": "python",
   "nbconvert_exporter": "python",
   "pygments_lexer": "ipython3",
   "version": "3.8.15"
  }
 },
 "nbformat": 4,
 "nbformat_minor": 5
}
