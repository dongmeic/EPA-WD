{
 "cells": [
  {
   "cell_type": "code",
   "execution_count": 1,
   "id": "717a1989",
   "metadata": {},
   "outputs": [
    {
     "name": "stderr",
     "output_type": "stream",
     "text": [
      "C:\\Users\\clid1852\\AppData\\Anaconda3\\envs\\geoenv\\lib\\site-packages\\geopandas\\_compat.py:106: UserWarning: The Shapely GEOS version (3.11.1-CAPI-1.17.1) is incompatible with the GEOS version PyGEOS was compiled with (3.9.1-CAPI-1.14.2). Conversions between both will be slow.\n",
      "  warnings.warn(\n"
     ]
    }
   ],
   "source": [
    "from wdtools import *"
   ]
  },
  {
   "cell_type": "code",
   "execution_count": 2,
   "id": "712a792d",
   "metadata": {},
   "outputs": [],
   "source": [
    "set_ID = 'Set001'"
   ]
  },
  {
   "cell_type": "code",
   "execution_count": 3,
   "id": "110481ae",
   "metadata": {},
   "outputs": [
    {
     "name": "stdout",
     "output_type": "stream",
     "text": [
      "it took 16.0 minutes to complete\n"
     ]
    }
   ],
   "source": [
    "# this will take about 17 minutes\n",
    "start = time.time()\n",
    "all_taxlot = combine_taxlot()\n",
    "end = time.time()\n",
    "print(f'it took {round((end - start)/60, 0)} minutes to complete')"
   ]
  },
  {
   "cell_type": "code",
   "execution_count": 4,
   "id": "7c5a9924",
   "metadata": {},
   "outputs": [
    {
     "name": "stdout",
     "output_type": "stream",
     "text": [
      "it took 1.0 minutes to complete\n"
     ]
    }
   ],
   "source": [
    "# this will take about 1 minute\n",
    "start = time.time()\n",
    "res = check_corrected_data(setID=set_ID, all_taxlot=all_taxlot, export=False)\n",
    "end = time.time()\n",
    "print(f'it took {round((end - start)/60, 0)} minutes to complete')"
   ]
  },
  {
   "cell_type": "code",
   "execution_count": 5,
   "id": "5049d58a",
   "metadata": {},
   "outputs": [],
   "source": [
    "ngdf = res[0]"
   ]
  },
  {
   "cell_type": "code",
   "execution_count": 6,
   "id": "9b702e2a",
   "metadata": {},
   "outputs": [],
   "source": [
    "wd_df = combine_wd_tables(set_ID)"
   ]
  },
  {
   "cell_type": "code",
   "execution_count": 7,
   "id": "2151bd47",
   "metadata": {},
   "outputs": [
    {
     "data": {
      "text/plain": [
       "(1420, 25)"
      ]
     },
     "execution_count": 7,
     "metadata": {},
     "output_type": "execute_result"
    }
   ],
   "source": [
    "wd_df.shape"
   ]
  },
  {
   "cell_type": "code",
   "execution_count": 8,
   "id": "9c8834ba",
   "metadata": {},
   "outputs": [
    {
     "data": {
      "text/plain": [
       "1331"
      ]
     },
     "execution_count": 8,
     "metadata": {},
     "output_type": "execute_result"
    }
   ],
   "source": [
    "len(ngdf.record_ID.unique())"
   ]
  },
  {
   "cell_type": "code",
   "execution_count": 9,
   "id": "ce44cb26",
   "metadata": {},
   "outputs": [
    {
     "data": {
      "text/plain": [
       "Index(['wetdet_delin_number', 'trsqq', 'parcel_id', 'address_location_desc',\n",
       "       'city', 'county', 'site_name', 'site_desc', 'latitude', 'longitude',\n",
       "       'Coord-Source', 'DocumentName', 'DecisionLink', 'is_batch_file',\n",
       "       'status_name', 'received_date', 'response_date',\n",
       "       'reissuance_response_date', 'project_id', 'site_id', 'record_ID',\n",
       "       'notes', 'recyear', 'IDyear', 'missinglot'],\n",
       "      dtype='object')"
      ]
     },
     "execution_count": 9,
     "metadata": {},
     "output_type": "execute_result"
    }
   ],
   "source": [
    "wd_df.columns"
   ]
  },
  {
   "cell_type": "code",
   "execution_count": 10,
   "id": "11b0fcf5",
   "metadata": {},
   "outputs": [],
   "source": [
    "setgdf = gpd.read_file(os.path.join(inpath, 'GIS', 'Join_Statewide.gdb'), layer=f'WD_{set_ID}_Combined')"
   ]
  },
  {
   "cell_type": "code",
   "execution_count": 11,
   "id": "b7ae877d",
   "metadata": {},
   "outputs": [],
   "source": [
    "df_wlots_to_check = res[3]"
   ]
  },
  {
   "cell_type": "code",
   "execution_count": 12,
   "id": "9e277a09",
   "metadata": {},
   "outputs": [
    {
     "data": {
      "text/plain": [
       "Index(['trsqq', 'parcel_id', 'Coord-Source', 'DocumentName', 'DecisionLink',\n",
       "       'is_batch_file', 'status_name', 'received_date', 'response_date',\n",
       "       'reissuance_response_date', 'project_id', 'site_id', 'record_ID',\n",
       "       'notes', 'recyear', 'IDyear', 'missinglot', 'wetdet_delin_number'],\n",
       "      dtype='object')"
      ]
     },
     "execution_count": 12,
     "metadata": {},
     "output_type": "execute_result"
    }
   ],
   "source": [
    "df_wlots_to_check.columns"
   ]
  },
  {
   "cell_type": "code",
   "execution_count": 13,
   "id": "1de4c14b",
   "metadata": {},
   "outputs": [
    {
     "data": {
      "text/plain": [
       "Index(['Record_ID', 'wetdet_delin_number', 'trsqq', 'parcel_id',\n",
       "       'address_location_desc', 'city', 'county', 'site_name', 'site_desc',\n",
       "       'latitude', 'longitude', 'Coord_Source', 'DocumentName', 'DecisionLink',\n",
       "       'is_batch_file', 'status_name', 'received_date', 'response_date',\n",
       "       'reissuance_response_date', 'project_id', 'site_id', 'lot_num', 'lot',\n",
       "       'Match_Year', 'ORTAXLOT', 'Match_found', 'Manual_note', 'Shape_Length',\n",
       "       'Shape_Area', 'Edits_Complete', 'matcher2', 'geometry'],\n",
       "      dtype='object')"
      ]
     },
     "execution_count": 13,
     "metadata": {},
     "output_type": "execute_result"
    }
   ],
   "source": [
    "setgdf.columns"
   ]
  },
  {
   "cell_type": "code",
   "execution_count": 19,
   "id": "e87cef4e",
   "metadata": {},
   "outputs": [
    {
     "data": {
      "text/plain": [
       "58"
      ]
     },
     "execution_count": 19,
     "metadata": {},
     "output_type": "execute_result"
    }
   ],
   "source": [
    "# missed records in all\n",
    "wd_df.shape[0] - len(setgdf.Record_ID.unique())"
   ]
  },
  {
   "cell_type": "code",
   "execution_count": 26,
   "id": "0de488bc",
   "metadata": {},
   "outputs": [
    {
     "data": {
      "text/plain": [
       "0    1\n",
       "1    2\n",
       "2    3\n",
       "Name: record_ID, dtype: int64"
      ]
     },
     "execution_count": 26,
     "metadata": {},
     "output_type": "execute_result"
    }
   ],
   "source": [
    "ngdf.record_ID.head(3)"
   ]
  },
  {
   "cell_type": "code",
   "execution_count": 28,
   "id": "4e924316",
   "metadata": {},
   "outputs": [
    {
     "name": "stderr",
     "output_type": "stream",
     "text": [
      "C:\\Users\\clid1852\\AppData\\Anaconda3\\envs\\geoenv\\lib\\site-packages\\geopandas\\geodataframe.py:1299: UserWarning: Boolean Series key will be reindexed to match DataFrame index.\n",
      "  result = super(GeoDataFrame, self).__getitem__(key)\n"
     ]
    }
   ],
   "source": [
    "missed_match_ID = compare_data_report(gdf=ngdf, setID=set_ID)[0]"
   ]
  },
  {
   "cell_type": "code",
   "execution_count": 30,
   "id": "287eefd1",
   "metadata": {},
   "outputs": [
    {
     "data": {
      "text/plain": [
       "23"
      ]
     },
     "execution_count": 30,
     "metadata": {},
     "output_type": "execute_result"
    }
   ],
   "source": [
    "# missed records in the matched\n",
    "len(missed_match_ID)"
   ]
  },
  {
   "cell_type": "code",
   "execution_count": 14,
   "id": "029f85fc",
   "metadata": {},
   "outputs": [],
   "source": [
    "setgdf_s = setgdf[setgdf.Record_ID.isin(df_wlots_to_check.record_ID)]"
   ]
  },
  {
   "cell_type": "code",
   "execution_count": 15,
   "id": "ffac801b",
   "metadata": {},
   "outputs": [
    {
     "name": "stderr",
     "output_type": "stream",
     "text": [
      "C:\\Users\\clid1852\\AppData\\Anaconda3\\envs\\geoenv\\lib\\site-packages\\geopandas\\geodataframe.py:1322: SettingWithCopyWarning: \n",
      "A value is trying to be set on a copy of a slice from a DataFrame.\n",
      "Try using .loc[row_indexer,col_indexer] = value instead\n",
      "\n",
      "See the caveats in the documentation: https://pandas.pydata.org/pandas-docs/stable/user_guide/indexing.html#returning-a-view-versus-a-copy\n",
      "  super(GeoDataFrame, self).__setitem__(key, value)\n"
     ]
    }
   ],
   "source": [
    "setgdf_s.loc[:, 'record_ID'] = setgdf_s.loc[:, 'Record_ID'].astype(int)"
   ]
  },
  {
   "cell_type": "code",
   "execution_count": 16,
   "id": "d5ecaa55",
   "metadata": {},
   "outputs": [],
   "source": [
    "rIDs = setgdf_s.Record_ID.unique()"
   ]
  },
  {
   "cell_type": "code",
   "execution_count": 17,
   "id": "9118f2ff",
   "metadata": {},
   "outputs": [
    {
     "data": {
      "text/html": [
       "<div>\n",
       "<style scoped>\n",
       "    .dataframe tbody tr th:only-of-type {\n",
       "        vertical-align: middle;\n",
       "    }\n",
       "\n",
       "    .dataframe tbody tr th {\n",
       "        vertical-align: top;\n",
       "    }\n",
       "\n",
       "    .dataframe thead th {\n",
       "        text-align: right;\n",
       "    }\n",
       "</style>\n",
       "<table border=\"1\" class=\"dataframe\">\n",
       "  <thead>\n",
       "    <tr style=\"text-align: right;\">\n",
       "      <th></th>\n",
       "      <th>record_ID</th>\n",
       "      <th>wetdet_delin_number_x</th>\n",
       "      <th>trsqq_x</th>\n",
       "      <th>parcel_id_x</th>\n",
       "      <th>wetdet_delin_number_y</th>\n",
       "      <th>trsqq_y</th>\n",
       "      <th>parcel_id_y</th>\n",
       "    </tr>\n",
       "  </thead>\n",
       "  <tbody>\n",
       "    <tr>\n",
       "      <th>0</th>\n",
       "      <td>83</td>\n",
       "      <td>WD2020-0185</td>\n",
       "      <td>05N10W014</td>\n",
       "      <td>501</td>\n",
       "      <td>WD2020-0185</td>\n",
       "      <td>05N10W14</td>\n",
       "      <td>501</td>\n",
       "    </tr>\n",
       "    <tr>\n",
       "      <th>1</th>\n",
       "      <td>176</td>\n",
       "      <td>WD2022-0187</td>\n",
       "      <td>06N10W22</td>\n",
       "      <td>8100</td>\n",
       "      <td>WD2022-0187</td>\n",
       "      <td>06N10W22AB</td>\n",
       "      <td>8100</td>\n",
       "    </tr>\n",
       "    <tr>\n",
       "      <th>2</th>\n",
       "      <td>182</td>\n",
       "      <td>WD2017-0016</td>\n",
       "      <td>28S15W36AD</td>\n",
       "      <td>1302</td>\n",
       "      <td>WD2017-0016</td>\n",
       "      <td>28S15W36AD</td>\n",
       "      <td>1302</td>\n",
       "    </tr>\n",
       "    <tr>\n",
       "      <th>3</th>\n",
       "      <td>223</td>\n",
       "      <td>WD2019-0122</td>\n",
       "      <td>26S14W02D</td>\n",
       "      <td>300</td>\n",
       "      <td>WD2019-0122</td>\n",
       "      <td>26S14W02D</td>\n",
       "      <td>300</td>\n",
       "    </tr>\n",
       "    <tr>\n",
       "      <th>4</th>\n",
       "      <td>235</td>\n",
       "      <td>WD2019-0338</td>\n",
       "      <td>24S13W34C</td>\n",
       "      <td>140p</td>\n",
       "      <td>WD2019-0338</td>\n",
       "      <td>24S13W34C</td>\n",
       "      <td>140p</td>\n",
       "    </tr>\n",
       "    <tr>\n",
       "      <th>5</th>\n",
       "      <td>237</td>\n",
       "      <td>WD2019-0338</td>\n",
       "      <td>24S13W00</td>\n",
       "      <td>200p</td>\n",
       "      <td>WD2019-0338</td>\n",
       "      <td>24S13W00</td>\n",
       "      <td>200p</td>\n",
       "    </tr>\n",
       "    <tr>\n",
       "      <th>6</th>\n",
       "      <td>416</td>\n",
       "      <td>WD2020-0067</td>\n",
       "      <td>17S12E10C</td>\n",
       "      <td>400,500 all partial</td>\n",
       "      <td>WD2020-0067</td>\n",
       "      <td>17S12E10C</td>\n",
       "      <td>400,500 all partial</td>\n",
       "    </tr>\n",
       "    <tr>\n",
       "      <th>7</th>\n",
       "      <td>477</td>\n",
       "      <td>WD2020-0586</td>\n",
       "      <td>20S10E25BB</td>\n",
       "      <td>400p</td>\n",
       "      <td>WD2020-0586</td>\n",
       "      <td>20S10E25B</td>\n",
       "      <td>400p</td>\n",
       "    </tr>\n",
       "    <tr>\n",
       "      <th>8</th>\n",
       "      <td>484</td>\n",
       "      <td>WD2020-0668</td>\n",
       "      <td>18S12E08DA</td>\n",
       "      <td>ROW, 6317,6303,3604</td>\n",
       "      <td>WD2020-0668</td>\n",
       "      <td>18S12E08DA</td>\n",
       "      <td>ROW, 6317,6303,3604</td>\n",
       "    </tr>\n",
       "    <tr>\n",
       "      <th>9</th>\n",
       "      <td>494</td>\n",
       "      <td>WD2021-0066</td>\n",
       "      <td>18S12W25B</td>\n",
       "      <td>400</td>\n",
       "      <td>WD2021-0066</td>\n",
       "      <td>18S12E25B</td>\n",
       "      <td>400</td>\n",
       "    </tr>\n",
       "    <tr>\n",
       "      <th>10</th>\n",
       "      <td>573</td>\n",
       "      <td>WD2017-0347</td>\n",
       "      <td>24S32E16</td>\n",
       "      <td>4900p</td>\n",
       "      <td>WD2017-0347</td>\n",
       "      <td>24S32E16</td>\n",
       "      <td>4900p</td>\n",
       "    </tr>\n",
       "    <tr>\n",
       "      <th>11</th>\n",
       "      <td>586</td>\n",
       "      <td>WD2019-0259</td>\n",
       "      <td>18S47E09</td>\n",
       "      <td>100</td>\n",
       "      <td>WD2019-0259</td>\n",
       "      <td>18S47E09</td>\n",
       "      <td>100</td>\n",
       "    </tr>\n",
       "    <tr>\n",
       "      <th>12</th>\n",
       "      <td>670</td>\n",
       "      <td>WD2019-0179</td>\n",
       "      <td>31S04W27</td>\n",
       "      <td>101</td>\n",
       "      <td>WD2019-0179</td>\n",
       "      <td>31S04W27</td>\n",
       "      <td>101</td>\n",
       "    </tr>\n",
       "    <tr>\n",
       "      <th>13</th>\n",
       "      <td>1019</td>\n",
       "      <td>WD2019-0420</td>\n",
       "      <td>38S08E02D</td>\n",
       "      <td>203</td>\n",
       "      <td>WD2019-0420</td>\n",
       "      <td>38S08E02D</td>\n",
       "      <td>203</td>\n",
       "    </tr>\n",
       "    <tr>\n",
       "      <th>14</th>\n",
       "      <td>1116</td>\n",
       "      <td>WD2018-0657</td>\n",
       "      <td>39S19E00</td>\n",
       "      <td>5500 partial</td>\n",
       "      <td>WD2018-0657</td>\n",
       "      <td>39S19E00</td>\n",
       "      <td>5500 partial</td>\n",
       "    </tr>\n",
       "    <tr>\n",
       "      <th>15</th>\n",
       "      <td>1195</td>\n",
       "      <td>WD2018-0057</td>\n",
       "      <td>07S03W35</td>\n",
       "      <td>2800</td>\n",
       "      <td>WD2018-0057</td>\n",
       "      <td>07S03W35</td>\n",
       "      <td>2800</td>\n",
       "    </tr>\n",
       "    <tr>\n",
       "      <th>16</th>\n",
       "      <td>1224</td>\n",
       "      <td>WD2018-0386</td>\n",
       "      <td>06S03W07</td>\n",
       "      <td>500p,1100p</td>\n",
       "      <td>WD2018-0386</td>\n",
       "      <td>06S03W07</td>\n",
       "      <td>500p,1100p</td>\n",
       "    </tr>\n",
       "    <tr>\n",
       "      <th>17</th>\n",
       "      <td>1226</td>\n",
       "      <td>WD2018-0408</td>\n",
       "      <td>07S03W35</td>\n",
       "      <td>2400,2401</td>\n",
       "      <td>WD2018-0408</td>\n",
       "      <td>07S03W35</td>\n",
       "      <td>2400,2401</td>\n",
       "    </tr>\n",
       "  </tbody>\n",
       "</table>\n",
       "</div>"
      ],
      "text/plain": [
       "    record_ID wetdet_delin_number_x     trsqq_x          parcel_id_x  \\\n",
       "0          83           WD2020-0185   05N10W014                  501   \n",
       "1         176           WD2022-0187    06N10W22                 8100   \n",
       "2         182           WD2017-0016  28S15W36AD                 1302   \n",
       "3         223           WD2019-0122   26S14W02D                  300   \n",
       "4         235           WD2019-0338   24S13W34C                 140p   \n",
       "5         237           WD2019-0338    24S13W00                 200p   \n",
       "6         416           WD2020-0067   17S12E10C  400,500 all partial   \n",
       "7         477           WD2020-0586  20S10E25BB                 400p   \n",
       "8         484           WD2020-0668  18S12E08DA  ROW, 6317,6303,3604   \n",
       "9         494           WD2021-0066   18S12W25B                  400   \n",
       "10        573           WD2017-0347    24S32E16                4900p   \n",
       "11        586           WD2019-0259    18S47E09                  100   \n",
       "12        670           WD2019-0179    31S04W27                  101   \n",
       "13       1019           WD2019-0420   38S08E02D                  203   \n",
       "14       1116           WD2018-0657    39S19E00         5500 partial   \n",
       "15       1195           WD2018-0057    07S03W35                 2800   \n",
       "16       1224           WD2018-0386    06S03W07           500p,1100p   \n",
       "17       1226           WD2018-0408    07S03W35            2400,2401   \n",
       "\n",
       "   wetdet_delin_number_y     trsqq_y          parcel_id_y  \n",
       "0            WD2020-0185    05N10W14                  501  \n",
       "1            WD2022-0187  06N10W22AB                 8100  \n",
       "2            WD2017-0016  28S15W36AD                 1302  \n",
       "3            WD2019-0122   26S14W02D                  300  \n",
       "4            WD2019-0338   24S13W34C                 140p  \n",
       "5            WD2019-0338    24S13W00                 200p  \n",
       "6            WD2020-0067   17S12E10C  400,500 all partial  \n",
       "7            WD2020-0586   20S10E25B                 400p  \n",
       "8            WD2020-0668  18S12E08DA  ROW, 6317,6303,3604  \n",
       "9            WD2021-0066   18S12E25B                  400  \n",
       "10           WD2017-0347    24S32E16                4900p  \n",
       "11           WD2019-0259    18S47E09                  100  \n",
       "12           WD2019-0179    31S04W27                  101  \n",
       "13           WD2019-0420   38S08E02D                  203  \n",
       "14           WD2018-0657    39S19E00         5500 partial  \n",
       "15           WD2018-0057    07S03W35                 2800  \n",
       "16           WD2018-0386    06S03W07           500p,1100p  \n",
       "17           WD2018-0408    07S03W35            2400,2401  "
      ]
     },
     "execution_count": 17,
     "metadata": {},
     "output_type": "execute_result"
    }
   ],
   "source": [
    "df_wlots_to_check[df_wlots_to_check.record_ID.isin(rIDs)][['record_ID', 'wetdet_delin_number', 'trsqq', 'parcel_id']].merge(setgdf_s[['record_ID', 'wetdet_delin_number', 'trsqq', 'parcel_id']], on='record_ID')"
   ]
  }
 ],
 "metadata": {
  "kernelspec": {
   "display_name": "Python 3 (ipykernel)",
   "language": "python",
   "name": "python3"
  },
  "language_info": {
   "codemirror_mode": {
    "name": "ipython",
    "version": 3
   },
   "file_extension": ".py",
   "mimetype": "text/x-python",
   "name": "python",
   "nbconvert_exporter": "python",
   "pygments_lexer": "ipython3",
   "version": "3.8.15"
  }
 },
 "nbformat": 4,
 "nbformat_minor": 5
}
