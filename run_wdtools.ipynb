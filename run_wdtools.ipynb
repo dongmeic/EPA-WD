{
 "cells": [
  {
   "cell_type": "code",
   "execution_count": 1,
   "id": "435169a5",
   "metadata": {},
   "outputs": [
    {
     "name": "stderr",
     "output_type": "stream",
     "text": [
      "C:\\Users\\clid1852\\AppData\\Anaconda3\\envs\\geoenv\\lib\\site-packages\\geopandas\\_compat.py:106: UserWarning: The Shapely GEOS version (3.11.1-CAPI-1.17.1) is incompatible with the GEOS version PyGEOS was compiled with (3.9.1-CAPI-1.14.2). Conversions between both will be slow.\n",
      "  warnings.warn(\n"
     ]
    }
   ],
   "source": [
    "from wdtools import *"
   ]
  },
  {
   "cell_type": "code",
   "execution_count": 2,
   "id": "f05e24dd",
   "metadata": {},
   "outputs": [],
   "source": [
    "set_ID = 'Set001'"
   ]
  },
  {
   "cell_type": "code",
   "execution_count": 3,
   "id": "adcdea21",
   "metadata": {
    "scrolled": true
   },
   "outputs": [],
   "source": [
    "#gdf = combine_merged_data(setID = set_ID)"
   ]
  },
  {
   "cell_type": "code",
   "execution_count": 47,
   "id": "b965a9af",
   "metadata": {},
   "outputs": [],
   "source": [
    "gdf = gpd.read_file(os.path.join(inpath + f'\\\\{outfolder}\\\\', f'matched_records_{set_ID}.shp'), driver='ESRI Shapefile')"
   ]
  },
  {
   "cell_type": "code",
   "execution_count": 5,
   "id": "bc1ce29a",
   "metadata": {},
   "outputs": [],
   "source": [
    "# this will take about 17 minutes\n",
    "all_taxlot = combine_taxlot()"
   ]
  },
  {
   "cell_type": "code",
   "execution_count": 20,
   "id": "bd41fccd",
   "metadata": {
    "scrolled": true
   },
   "outputs": [
    {
     "name": "stdout",
     "output_type": "stream",
     "text": [
      "it is about 8.38% of data in the original 1420 records unmatched\n",
      "there are 1 records (0.07% of the original records) without parcel id\n"
     ]
    },
    {
     "name": "stderr",
     "output_type": "stream",
     "text": [
      "C:\\Users\\clid1852\\AppData\\Anaconda3\\envs\\geoenv\\lib\\site-packages\\pandas\\core\\indexing.py:1667: SettingWithCopyWarning: \n",
      "A value is trying to be set on a copy of a slice from a DataFrame.\n",
      "Try using .loc[row_indexer,col_indexer] = value instead\n",
      "\n",
      "See the caveats in the documentation: https://pandas.pydata.org/pandas-docs/stable/user_guide/indexing.html#returning-a-view-versus-a-copy\n",
      "  self.obj[key] = value\n"
     ]
    }
   ],
   "source": [
    "n_gdf = merge_matched(setID = set_ID, all_taxlot = all_taxlot)"
   ]
  },
  {
   "cell_type": "code",
   "execution_count": 25,
   "id": "331da4e0",
   "metadata": {},
   "outputs": [],
   "source": [
    "n_gdf['lots'] = n_gdf['lots'].apply(lambda x: ' '.join(dict.fromkeys(x).keys()))"
   ]
  },
  {
   "cell_type": "code",
   "execution_count": 38,
   "id": "e43e7dfb",
   "metadata": {},
   "outputs": [],
   "source": [
    "n_gdf1 = n_gdf[['record_ID', 'wdID', 'parcel_id', 'ORTaxlot', 'notes', 'geometry']]"
   ]
  },
  {
   "cell_type": "code",
   "execution_count": 39,
   "id": "beda52b7",
   "metadata": {},
   "outputs": [],
   "source": [
    "n_gdf1.to_file(os.path.join(inpath + f'\\\\{outfolder}\\\\', f'combined_records_in_{set_ID}.shp'), \n",
    "                                                  driver='ESRI Shapefile')"
   ]
  },
  {
   "cell_type": "code",
   "execution_count": 41,
   "id": "d8f47bfc",
   "metadata": {},
   "outputs": [
    {
     "data": {
      "text/plain": [
       "array(['partial', None, 'ROW & partial', 'ROW'], dtype=object)"
      ]
     },
     "execution_count": 41,
     "metadata": {},
     "output_type": "execute_result"
    }
   ],
   "source": [
    "n_gdf1.notes.unique()"
   ]
  },
  {
   "cell_type": "code",
   "execution_count": 36,
   "id": "cf2c0177",
   "metadata": {},
   "outputs": [],
   "source": [
    "wd_df = combine_wd_table(set_ID)"
   ]
  },
  {
   "cell_type": "code",
   "execution_count": 40,
   "id": "30cef3c9",
   "metadata": {},
   "outputs": [
    {
     "data": {
      "text/plain": [
       "112"
      ]
     },
     "execution_count": 40,
     "metadata": {},
     "output_type": "execute_result"
    }
   ],
   "source": [
    "# records to review and map\n",
    "wd_df.shape[0] - len(n_gdf1.record_ID.unique())"
   ]
  },
  {
   "cell_type": "code",
   "execution_count": 44,
   "id": "96f3a967",
   "metadata": {},
   "outputs": [
    {
     "data": {
      "text/plain": [
       "418"
      ]
     },
     "execution_count": 44,
     "metadata": {},
     "output_type": "execute_result"
    }
   ],
   "source": [
    "# to check the parcel IDs with notes?\n",
    "len(n_gdf1.record_ID.unique()) - len(n_gdf1[n_gdf1.notes.isnull()].record_ID.unique())"
   ]
  },
  {
   "cell_type": "code",
   "execution_count": 48,
   "id": "c2bab428",
   "metadata": {},
   "outputs": [
    {
     "name": "stdout",
     "output_type": "stream",
     "text": [
      "it is about 8.38% of data in the original 1420 records unmatched\n",
      "there are 1 records (0.07% of the original records) without parcel id\n"
     ]
    }
   ],
   "source": [
    "df_wo_lots = records_without_lots(gdf = gdf, setID = set_ID)"
   ]
  },
  {
   "cell_type": "code",
   "execution_count": 50,
   "id": "d3efb036",
   "metadata": {},
   "outputs": [
    {
     "data": {
      "text/plain": [
       "61"
      ]
     },
     "execution_count": 50,
     "metadata": {},
     "output_type": "execute_result"
    }
   ],
   "source": [
    "df_wo_lots.shape[0]"
   ]
  },
  {
   "cell_type": "code",
   "execution_count": 51,
   "id": "b8d9076d",
   "metadata": {},
   "outputs": [],
   "source": [
    "setgdf = gpd.read_file(os.path.join(inpath, 'GIS', 'Join_Statewide.gdb'), layer=f'WD_{set_ID}_Combined')"
   ]
  },
  {
   "cell_type": "code",
   "execution_count": 59,
   "id": "263bc1b9",
   "metadata": {},
   "outputs": [],
   "source": [
    "to_map_rID = [rID for rID in wd_df.record_ID.values if rID not in n_gdf1.record_ID.unique()]"
   ]
  },
  {
   "cell_type": "code",
   "execution_count": 67,
   "id": "8d60b765",
   "metadata": {},
   "outputs": [],
   "source": [
    "mapped = setgdf[setgdf.Record_ID.isin(to_map_rID)]"
   ]
  },
  {
   "cell_type": "code",
   "execution_count": 68,
   "id": "c9b37697",
   "metadata": {},
   "outputs": [],
   "source": [
    "mapped.rename(columns={'wetdet_delin_number': 'wdID', \n",
    "                      'address_location_desc':'loc_desc', \n",
    "                      'Coord-Source': 'coord_src',\n",
    "                      'DocumentName':'doc_name',\n",
    "                      'DecisionLink':'doc_link',\n",
    "                      'is_batch_file':'isbatfile',\n",
    "                      'status_name': 'status_nm',\n",
    "                      'received_date':'receiveddt', \n",
    "                      'response_date':'responsedt',\n",
    "                      'reissuance_response_date':'reissuance', \n",
    "                      'Match_found':'matchfound', \n",
    "                      'Manual_note': 'notes',\n",
    "                      'Edits_Complete': 'edits'\n",
    "                      }, inplace=True)"
   ]
  },
  {
   "cell_type": "code",
   "execution_count": 81,
   "id": "2203a5a1",
   "metadata": {},
   "outputs": [],
   "source": [
    "selcols = list(mapped.columns[list(map(lambda x: x <= 10, list(map(len, list(mapped.columns)))))])"
   ]
  },
  {
   "cell_type": "code",
   "execution_count": 82,
   "id": "95406f67",
   "metadata": {},
   "outputs": [],
   "source": [
    "mapped[selcols].to_file(os.path.join(inpath + f'\\\\{outfolder}\\\\', f'mapped_in_{set_ID}.shp'), \n",
    "                                                  driver='ESRI Shapefile')"
   ]
  }
 ],
 "metadata": {
  "kernelspec": {
   "display_name": "Python 3 (ipykernel)",
   "language": "python",
   "name": "python3"
  },
  "language_info": {
   "codemirror_mode": {
    "name": "ipython",
    "version": 3
   },
   "file_extension": ".py",
   "mimetype": "text/x-python",
   "name": "python",
   "nbconvert_exporter": "python",
   "pygments_lexer": "ipython3",
   "version": "3.8.15"
  }
 },
 "nbformat": 4,
 "nbformat_minor": 5
}
