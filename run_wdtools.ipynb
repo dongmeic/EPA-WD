{
 "cells": [
  {
   "cell_type": "code",
   "execution_count": 1,
   "id": "6259fa7e",
   "metadata": {},
   "outputs": [
    {
     "name": "stderr",
     "output_type": "stream",
     "text": [
      "C:\\Users\\clid1852\\AppData\\Anaconda3\\envs\\geoenv\\lib\\site-packages\\geopandas\\_compat.py:106: UserWarning: The Shapely GEOS version (3.11.1-CAPI-1.17.1) is incompatible with the GEOS version PyGEOS was compiled with (3.9.1-CAPI-1.14.2). Conversions between both will be slow.\n",
      "  warnings.warn(\n"
     ]
    }
   ],
   "source": [
    "from wdtools import *"
   ]
  },
  {
   "cell_type": "code",
   "execution_count": 2,
   "id": "31216e16",
   "metadata": {},
   "outputs": [],
   "source": [
    "files = list_files(os.path.join(wdpath, 'Set001'))"
   ]
  },
  {
   "cell_type": "code",
   "execution_count": 3,
   "id": "3f820b25",
   "metadata": {},
   "outputs": [],
   "source": [
    "files = [file for file in files if '~$' not in file]"
   ]
  },
  {
   "cell_type": "code",
   "execution_count": 4,
   "id": "96f920a4",
   "metadata": {},
   "outputs": [],
   "source": [
    "set_ID = 'Set001'"
   ]
  },
  {
   "cell_type": "code",
   "execution_count": 5,
   "id": "9c9c2441",
   "metadata": {},
   "outputs": [
    {
     "name": "stdout",
     "output_type": "stream",
     "text": [
      "it took 16.0 minutes to complete Set001\n"
     ]
    }
   ],
   "source": [
    "start1 = time.time()\n",
    "frames = []\n",
    "for year in range(2017, 2023):\n",
    "    #start2 = time.time()\n",
    "    tx_dt = read_taxlot(year)\n",
    "    #end2 = time.time()\n",
    "    #print(\"it took {0} minutes to read taxlot in {1}\".format(str(round((end2 - start2)/60, 0)), str(year)))\n",
    "    for file in files:\n",
    "        #print(\"processing {0} in {1}\".format(file, str(year)))\n",
    "        wd_dt = read_wd_table(setID = set_ID, file = file)  \n",
    "        df = wd_dt[wd_dt.IDyear == str(year)].merge(tx_dt[['ORTaxlot', 'geometry']], \n",
    "                                                    on='ORTaxlot', \n",
    "                                                    how='left')\n",
    "        frames.append(df)\n",
    "        #print(\"processed {0} in {1}\".format(file, str(year)))\n",
    "df = pd.concat(frames, ignore_index=True)      \n",
    "end1 = time.time()\n",
    "print(\"it took {0} minutes to complete {1}\".format(str(round((end1 - start1)/60, 0)), set_ID))"
   ]
  },
  {
   "cell_type": "code",
   "execution_count": 6,
   "id": "c0ba74f6",
   "metadata": {},
   "outputs": [
    {
     "data": {
      "text/plain": [
       "Index(['wetdet_delin_number', 'trsqq', 'parcel_id', 'address_location_desc',\n",
       "       'city', 'county', 'site_name', 'site_desc', 'latitude', 'longitude',\n",
       "       'Coord-Source', 'DocumentName', 'DecisionLink', 'is_batch_file',\n",
       "       'status_name', 'received_date', 'response_date',\n",
       "       'reissuance_response_date', 'project_id', 'site_id', 'record_ID',\n",
       "       'lots', 'lot', 'cnt_code', 'ORTaxlot', 'year', 'IDyear', 'geometry'],\n",
       "      dtype='object')"
      ]
     },
     "execution_count": 6,
     "metadata": {},
     "output_type": "execute_result"
    }
   ],
   "source": [
    "df.columns"
   ]
  },
  {
   "cell_type": "code",
   "execution_count": 7,
   "id": "2a1529c9",
   "metadata": {},
   "outputs": [
    {
     "data": {
      "text/plain": [
       "dtype('float64')"
      ]
     },
     "execution_count": 7,
     "metadata": {},
     "output_type": "execute_result"
    }
   ],
   "source": [
    "df.reissuance_response_date.dtype"
   ]
  },
  {
   "cell_type": "code",
   "execution_count": 9,
   "id": "ae07bc1b",
   "metadata": {},
   "outputs": [],
   "source": [
    "df['response_date'] = df['response_date'].dt.strftime(\"%Y-%m-%d\")"
   ]
  },
  {
   "cell_type": "code",
   "execution_count": 10,
   "id": "51601909",
   "metadata": {},
   "outputs": [],
   "source": [
    "df['received_date'] = df['received_date'].dt.strftime(\"%Y-%m-%d\")"
   ]
  },
  {
   "cell_type": "code",
   "execution_count": 13,
   "id": "a5b3855f",
   "metadata": {},
   "outputs": [],
   "source": [
    "df['lots'] = df['lots'].apply(lambda x: ' '.join(dict.fromkeys(x).keys()))"
   ]
  },
  {
   "cell_type": "code",
   "execution_count": 22,
   "id": "fb749b30",
   "metadata": {},
   "outputs": [
    {
     "data": {
      "text/html": [
       "<div>\n",
       "<style scoped>\n",
       "    .dataframe tbody tr th:only-of-type {\n",
       "        vertical-align: middle;\n",
       "    }\n",
       "\n",
       "    .dataframe tbody tr th {\n",
       "        vertical-align: top;\n",
       "    }\n",
       "\n",
       "    .dataframe thead th {\n",
       "        text-align: right;\n",
       "    }\n",
       "</style>\n",
       "<table border=\"1\" class=\"dataframe\">\n",
       "  <thead>\n",
       "    <tr style=\"text-align: right;\">\n",
       "      <th></th>\n",
       "      <th>wetdet_delin_number</th>\n",
       "      <th>trsqq</th>\n",
       "      <th>parcel_id</th>\n",
       "      <th>address_location_desc</th>\n",
       "      <th>city</th>\n",
       "      <th>county</th>\n",
       "      <th>site_name</th>\n",
       "      <th>site_desc</th>\n",
       "      <th>latitude</th>\n",
       "      <th>longitude</th>\n",
       "      <th>...</th>\n",
       "      <th>project_id</th>\n",
       "      <th>site_id</th>\n",
       "      <th>record_ID</th>\n",
       "      <th>lots</th>\n",
       "      <th>lot</th>\n",
       "      <th>cnt_code</th>\n",
       "      <th>ORTaxlot</th>\n",
       "      <th>year</th>\n",
       "      <th>IDyear</th>\n",
       "      <th>geometry</th>\n",
       "    </tr>\n",
       "  </thead>\n",
       "  <tbody>\n",
       "    <tr>\n",
       "      <th>2493</th>\n",
       "      <td>WD2022-0301</td>\n",
       "      <td>06S01W32</td>\n",
       "      <td>500,600,601,700,900</td>\n",
       "      <td>Hazelgreen Rd near Torvend Rd over the Pudding...</td>\n",
       "      <td>Silverton</td>\n",
       "      <td>Marion</td>\n",
       "      <td>Hazelgreen Rd Bridge Replacement</td>\n",
       "      <td>WD2022-0301 delin</td>\n",
       "      <td>45.00945</td>\n",
       "      <td>-122.84316</td>\n",
       "      <td>...</td>\n",
       "      <td>84297.0</td>\n",
       "      <td>139465</td>\n",
       "      <td>268</td>\n",
       "      <td>500 600 601 700 900</td>\n",
       "      <td>601</td>\n",
       "      <td>24</td>\n",
       "      <td>2406.00S01.00W3200--000000601</td>\n",
       "      <td>2022</td>\n",
       "      <td>2022</td>\n",
       "      <td>MULTIPOLYGON (((706600.131 1196247.539, 706585...</td>\n",
       "    </tr>\n",
       "    <tr>\n",
       "      <th>2494</th>\n",
       "      <td>WD2022-0301</td>\n",
       "      <td>06S01W32</td>\n",
       "      <td>500,600,601,700,900</td>\n",
       "      <td>Hazelgreen Rd near Torvend Rd over the Pudding...</td>\n",
       "      <td>Silverton</td>\n",
       "      <td>Marion</td>\n",
       "      <td>Hazelgreen Rd Bridge Replacement</td>\n",
       "      <td>WD2022-0301 delin</td>\n",
       "      <td>45.00945</td>\n",
       "      <td>-122.84316</td>\n",
       "      <td>...</td>\n",
       "      <td>84297.0</td>\n",
       "      <td>139465</td>\n",
       "      <td>268</td>\n",
       "      <td>500 600 601 700 900</td>\n",
       "      <td>700</td>\n",
       "      <td>24</td>\n",
       "      <td>2406.00S01.00W3200--000000700</td>\n",
       "      <td>2022</td>\n",
       "      <td>2022</td>\n",
       "      <td>MULTIPOLYGON (((706341.268 1196877.808, 706285...</td>\n",
       "    </tr>\n",
       "    <tr>\n",
       "      <th>2495</th>\n",
       "      <td>WD2022-0301</td>\n",
       "      <td>06S01W32</td>\n",
       "      <td>500,600,601,700,900</td>\n",
       "      <td>Hazelgreen Rd near Torvend Rd over the Pudding...</td>\n",
       "      <td>Silverton</td>\n",
       "      <td>Marion</td>\n",
       "      <td>Hazelgreen Rd Bridge Replacement</td>\n",
       "      <td>WD2022-0301 delin</td>\n",
       "      <td>45.00945</td>\n",
       "      <td>-122.84316</td>\n",
       "      <td>...</td>\n",
       "      <td>84297.0</td>\n",
       "      <td>139465</td>\n",
       "      <td>268</td>\n",
       "      <td>500 600 601 700 900</td>\n",
       "      <td>900</td>\n",
       "      <td>24</td>\n",
       "      <td>2406.00S01.00W3200--000000900</td>\n",
       "      <td>2022</td>\n",
       "      <td>2022</td>\n",
       "      <td>MULTIPOLYGON (((711115.773 1196891.122, 711110...</td>\n",
       "    </tr>\n",
       "  </tbody>\n",
       "</table>\n",
       "<p>3 rows × 28 columns</p>\n",
       "</div>"
      ],
      "text/plain": [
       "     wetdet_delin_number     trsqq            parcel_id  \\\n",
       "2493         WD2022-0301  06S01W32  500,600,601,700,900   \n",
       "2494         WD2022-0301  06S01W32  500,600,601,700,900   \n",
       "2495         WD2022-0301  06S01W32  500,600,601,700,900   \n",
       "\n",
       "                                  address_location_desc       city  county  \\\n",
       "2493  Hazelgreen Rd near Torvend Rd over the Pudding...  Silverton  Marion   \n",
       "2494  Hazelgreen Rd near Torvend Rd over the Pudding...  Silverton  Marion   \n",
       "2495  Hazelgreen Rd near Torvend Rd over the Pudding...  Silverton  Marion   \n",
       "\n",
       "                             site_name          site_desc  latitude  \\\n",
       "2493  Hazelgreen Rd Bridge Replacement  WD2022-0301 delin  45.00945   \n",
       "2494  Hazelgreen Rd Bridge Replacement  WD2022-0301 delin  45.00945   \n",
       "2495  Hazelgreen Rd Bridge Replacement  WD2022-0301 delin  45.00945   \n",
       "\n",
       "      longitude  ... project_id site_id record_ID                 lots  lot  \\\n",
       "2493 -122.84316  ...    84297.0  139465       268  500 600 601 700 900  601   \n",
       "2494 -122.84316  ...    84297.0  139465       268  500 600 601 700 900  700   \n",
       "2495 -122.84316  ...    84297.0  139465       268  500 600 601 700 900  900   \n",
       "\n",
       "     cnt_code                       ORTaxlot  year  IDyear  \\\n",
       "2493       24  2406.00S01.00W3200--000000601  2022    2022   \n",
       "2494       24  2406.00S01.00W3200--000000700  2022    2022   \n",
       "2495       24  2406.00S01.00W3200--000000900  2022    2022   \n",
       "\n",
       "                                               geometry  \n",
       "2493  MULTIPOLYGON (((706600.131 1196247.539, 706585...  \n",
       "2494  MULTIPOLYGON (((706341.268 1196877.808, 706285...  \n",
       "2495  MULTIPOLYGON (((711115.773 1196891.122, 711110...  \n",
       "\n",
       "[3 rows x 28 columns]"
      ]
     },
     "execution_count": 22,
     "metadata": {},
     "output_type": "execute_result"
    }
   ],
   "source": [
    "df.tail(3)"
   ]
  },
  {
   "cell_type": "code",
   "execution_count": 14,
   "id": "b927f339",
   "metadata": {},
   "outputs": [],
   "source": [
    "gdf = gpd.GeoDataFrame(df, crs=\"EPSG:2992\", geometry='geometry')"
   ]
  },
  {
   "cell_type": "code",
   "execution_count": 17,
   "id": "71d97daa",
   "metadata": {},
   "outputs": [],
   "source": [
    "gdf.rename(columns={'wetdet_delin_number': 'wdID', \n",
    "                      'address_location_desc':'loc_desc', \n",
    "                      'Coord-Source': 'coord_src',\n",
    "                      'DocumentName':'doc_name',\n",
    "                      'DecisionLink':'doc_link',\n",
    "                      'is_batch_file':'isbatfile',\n",
    "                      'status_name': 'status_nm',\n",
    "                      'received_date':'receiveddt', \n",
    "                      'response_date':'responsedt',\n",
    "                      'reissuance_response_date':'reissuance', \n",
    "                      }, inplace=True)"
   ]
  },
  {
   "cell_type": "code",
   "execution_count": 20,
   "id": "f904700e",
   "metadata": {},
   "outputs": [],
   "source": [
    "gdf.to_file(os.path.join(inpath + '\\\\test', 'matched_records_with_lotID'))"
   ]
  },
  {
   "cell_type": "code",
   "execution_count": 24,
   "id": "c0b2eed8",
   "metadata": {},
   "outputs": [
    {
     "data": {
      "text/plain": [
       "(2496, 25)"
      ]
     },
     "execution_count": 24,
     "metadata": {},
     "output_type": "execute_result"
    }
   ],
   "source": [
    "gdf.shape"
   ]
  },
  {
   "cell_type": "code",
   "execution_count": 23,
   "id": "825d1db0",
   "metadata": {},
   "outputs": [],
   "source": [
    "gdf.drop(columns=['lots', 'lot', 'cnt_code'], inplace = True)"
   ]
  },
  {
   "cell_type": "code",
   "execution_count": null,
   "id": "c0e4624c",
   "metadata": {},
   "outputs": [],
   "source": [
    "gdf"
   ]
  }
 ],
 "metadata": {
  "kernelspec": {
   "display_name": "Python 3 (ipykernel)",
   "language": "python",
   "name": "python3"
  },
  "language_info": {
   "codemirror_mode": {
    "name": "ipython",
    "version": 3
   },
   "file_extension": ".py",
   "mimetype": "text/x-python",
   "name": "python",
   "nbconvert_exporter": "python",
   "pygments_lexer": "ipython3",
   "version": "3.8.15"
  }
 },
 "nbformat": 4,
 "nbformat_minor": 5
}
