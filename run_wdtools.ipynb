{
 "cells": [
  {
   "cell_type": "code",
   "execution_count": 1,
   "id": "ec7f39e6",
   "metadata": {},
   "outputs": [
    {
     "name": "stderr",
     "output_type": "stream",
     "text": [
      "C:\\Users\\clid1852\\AppData\\Anaconda3\\envs\\geoenv\\lib\\site-packages\\geopandas\\_compat.py:106: UserWarning: The Shapely GEOS version (3.11.1-CAPI-1.17.1) is incompatible with the GEOS version PyGEOS was compiled with (3.9.1-CAPI-1.14.2). Conversions between both will be slow.\n",
      "  warnings.warn(\n"
     ]
    }
   ],
   "source": [
    "from wdtools import *"
   ]
  },
  {
   "cell_type": "code",
   "execution_count": 2,
   "id": "3c1736f6",
   "metadata": {},
   "outputs": [],
   "source": [
    "files = list_files(os.path.join(wdpath, 'Set001'))"
   ]
  },
  {
   "cell_type": "code",
   "execution_count": 3,
   "id": "ba5d8823",
   "metadata": {},
   "outputs": [],
   "source": [
    "files = [file for file in files if '~$' not in file]"
   ]
  },
  {
   "cell_type": "code",
   "execution_count": 4,
   "id": "9c00f5d8",
   "metadata": {},
   "outputs": [],
   "source": [
    "set_ID = 'Set001'"
   ]
  },
  {
   "cell_type": "code",
   "execution_count": 5,
   "id": "01164eb9",
   "metadata": {},
   "outputs": [
    {
     "name": "stdout",
     "output_type": "stream",
     "text": [
      "it took 16.0 minutes to complete Set001\n"
     ]
    }
   ],
   "source": [
    "start1 = time.time()\n",
    "frames = []\n",
    "for year in range(2017, 2023):\n",
    "    #start2 = time.time()\n",
    "    tx_dt = read_taxlot(year)\n",
    "    #end2 = time.time()\n",
    "    #print(\"it took {0} minutes to read taxlot in {1}\".format(str(round((end2 - start2)/60, 0)), str(year)))\n",
    "    for file in files:\n",
    "        #print(\"processing {0} in {1}\".format(file, str(year)))\n",
    "        wd_dt = read_wd_table(setID = set_ID, file = file)  \n",
    "        df = wd_dt[wd_dt.IDyear == str(year)].merge(tx_dt[['ORTaxlot', 'geometry']], \n",
    "                                                    on='ORTaxlot', \n",
    "                                                    how='left')\n",
    "        frames.append(df)\n",
    "        #print(\"processed {0} in {1}\".format(file, str(year)))\n",
    "df = pd.concat(frames, ignore_index=True)      \n",
    "end1 = time.time()\n",
    "print(\"it took {0} minutes to complete {1}\".format(str(round((end1 - start1)/60, 0)), set_ID))"
   ]
  },
  {
   "cell_type": "code",
   "execution_count": 6,
   "id": "d3555483",
   "metadata": {},
   "outputs": [
    {
     "data": {
      "text/plain": [
       "Index(['wetdet_delin_number', 'trsqq', 'parcel_id', 'address_location_desc',\n",
       "       'city', 'county', 'site_name', 'site_desc', 'latitude', 'longitude',\n",
       "       'Coord-Source', 'DocumentName', 'DecisionLink', 'is_batch_file',\n",
       "       'status_name', 'received_date', 'response_date',\n",
       "       'reissuance_response_date', 'project_id', 'site_id', 'record_ID',\n",
       "       'lots', 'lot', 'cnt_code', 'ORTaxlot', 'year', 'IDyear', 'geometry'],\n",
       "      dtype='object')"
      ]
     },
     "execution_count": 6,
     "metadata": {},
     "output_type": "execute_result"
    }
   ],
   "source": [
    "df.columns"
   ]
  },
  {
   "cell_type": "code",
   "execution_count": 7,
   "id": "de6802e3",
   "metadata": {},
   "outputs": [
    {
     "data": {
      "text/plain": [
       "dtype('float64')"
      ]
     },
     "execution_count": 7,
     "metadata": {},
     "output_type": "execute_result"
    }
   ],
   "source": [
    "df.reissuance_response_date.dtype"
   ]
  },
  {
   "cell_type": "code",
   "execution_count": 8,
   "id": "a562287c",
   "metadata": {},
   "outputs": [
    {
     "data": {
      "text/html": [
       "<div>\n",
       "<style scoped>\n",
       "    .dataframe tbody tr th:only-of-type {\n",
       "        vertical-align: middle;\n",
       "    }\n",
       "\n",
       "    .dataframe tbody tr th {\n",
       "        vertical-align: top;\n",
       "    }\n",
       "\n",
       "    .dataframe thead th {\n",
       "        text-align: right;\n",
       "    }\n",
       "</style>\n",
       "<table border=\"1\" class=\"dataframe\">\n",
       "  <thead>\n",
       "    <tr style=\"text-align: right;\">\n",
       "      <th></th>\n",
       "      <th>wetdet_delin_number</th>\n",
       "      <th>trsqq</th>\n",
       "      <th>parcel_id</th>\n",
       "      <th>address_location_desc</th>\n",
       "      <th>city</th>\n",
       "      <th>county</th>\n",
       "      <th>site_name</th>\n",
       "      <th>site_desc</th>\n",
       "      <th>latitude</th>\n",
       "      <th>longitude</th>\n",
       "      <th>...</th>\n",
       "      <th>project_id</th>\n",
       "      <th>site_id</th>\n",
       "      <th>record_ID</th>\n",
       "      <th>lots</th>\n",
       "      <th>lot</th>\n",
       "      <th>cnt_code</th>\n",
       "      <th>ORTaxlot</th>\n",
       "      <th>year</th>\n",
       "      <th>IDyear</th>\n",
       "      <th>geometry</th>\n",
       "    </tr>\n",
       "  </thead>\n",
       "  <tbody>\n",
       "    <tr>\n",
       "      <th>0</th>\n",
       "      <td>WD2017-0003</td>\n",
       "      <td>06N10W03DA</td>\n",
       "      <td>500 (partial)</td>\n",
       "      <td>McCormick Rd .025 mi S of Hillila Rd</td>\n",
       "      <td>Gearhart</td>\n",
       "      <td>Clatsop</td>\n",
       "      <td>McCormick Rd 06N10W03DA</td>\n",
       "      <td>Residential</td>\n",
       "      <td>46.030197</td>\n",
       "      <td>-123.905217</td>\n",
       "      <td>...</td>\n",
       "      <td>NaN</td>\n",
       "      <td>103777</td>\n",
       "      <td>1</td>\n",
       "      <td>[500]</td>\n",
       "      <td>500</td>\n",
       "      <td>4</td>\n",
       "      <td>0406.00N10.00W03DA--000000500</td>\n",
       "      <td>2017</td>\n",
       "      <td>2017</td>\n",
       "      <td>MULTIPOLYGON (((448821.559 1578307.121, 448814...</td>\n",
       "    </tr>\n",
       "    <tr>\n",
       "      <th>1</th>\n",
       "      <td>WD2017-0033</td>\n",
       "      <td>08N08W25</td>\n",
       "      <td>101</td>\n",
       "      <td>W of 92260 Koppisch Rd, Astoria</td>\n",
       "      <td>Astoria</td>\n",
       "      <td>Clatsop</td>\n",
       "      <td>08N08W25</td>\n",
       "      <td>site evaluation</td>\n",
       "      <td>46.155778</td>\n",
       "      <td>-123.610751</td>\n",
       "      <td>...</td>\n",
       "      <td>NaN</td>\n",
       "      <td>104259</td>\n",
       "      <td>2</td>\n",
       "      <td>[101]</td>\n",
       "      <td>101</td>\n",
       "      <td>4</td>\n",
       "      <td>0408.00N08.00W2500--000000101</td>\n",
       "      <td>2017</td>\n",
       "      <td>2017</td>\n",
       "      <td>MULTIPOLYGON (((524028.003 1621190.023, 524220...</td>\n",
       "    </tr>\n",
       "    <tr>\n",
       "      <th>2</th>\n",
       "      <td>WD2017-0056</td>\n",
       "      <td>08N10W09B</td>\n",
       "      <td>2500, ROWs (both partial)</td>\n",
       "      <td>Warrenton Dr and NW 17th St</td>\n",
       "      <td>Warrenton</td>\n",
       "      <td>Clatsop</td>\n",
       "      <td>Gann Dev 08N10W09B</td>\n",
       "      <td>residential development</td>\n",
       "      <td>46.190638</td>\n",
       "      <td>-123.932177</td>\n",
       "      <td>...</td>\n",
       "      <td>NaN</td>\n",
       "      <td>104411</td>\n",
       "      <td>3</td>\n",
       "      <td>[2500]</td>\n",
       "      <td>2500</td>\n",
       "      <td>4</td>\n",
       "      <td>0408.00N10.00W09B0--000002500</td>\n",
       "      <td>2017</td>\n",
       "      <td>2017</td>\n",
       "      <td>MULTIPOLYGON (((443198.754 1636916.627, 443123...</td>\n",
       "    </tr>\n",
       "  </tbody>\n",
       "</table>\n",
       "<p>3 rows × 28 columns</p>\n",
       "</div>"
      ],
      "text/plain": [
       "  wetdet_delin_number       trsqq                  parcel_id  \\\n",
       "0         WD2017-0003  06N10W03DA              500 (partial)   \n",
       "1         WD2017-0033    08N08W25                        101   \n",
       "2         WD2017-0056   08N10W09B  2500, ROWs (both partial)   \n",
       "\n",
       "                  address_location_desc       city   county  \\\n",
       "0  McCormick Rd .025 mi S of Hillila Rd   Gearhart  Clatsop   \n",
       "1       W of 92260 Koppisch Rd, Astoria    Astoria  Clatsop   \n",
       "2           Warrenton Dr and NW 17th St  Warrenton  Clatsop   \n",
       "\n",
       "                 site_name                site_desc   latitude   longitude  \\\n",
       "0  McCormick Rd 06N10W03DA              Residential  46.030197 -123.905217   \n",
       "1                 08N08W25          site evaluation  46.155778 -123.610751   \n",
       "2       Gann Dev 08N10W09B  residential development  46.190638 -123.932177   \n",
       "\n",
       "   ... project_id site_id record_ID    lots   lot cnt_code  \\\n",
       "0  ...        NaN  103777         1   [500]   500        4   \n",
       "1  ...        NaN  104259         2   [101]   101        4   \n",
       "2  ...        NaN  104411         3  [2500]  2500        4   \n",
       "\n",
       "                        ORTaxlot  year  IDyear  \\\n",
       "0  0406.00N10.00W03DA--000000500  2017    2017   \n",
       "1  0408.00N08.00W2500--000000101  2017    2017   \n",
       "2  0408.00N10.00W09B0--000002500  2017    2017   \n",
       "\n",
       "                                            geometry  \n",
       "0  MULTIPOLYGON (((448821.559 1578307.121, 448814...  \n",
       "1  MULTIPOLYGON (((524028.003 1621190.023, 524220...  \n",
       "2  MULTIPOLYGON (((443198.754 1636916.627, 443123...  \n",
       "\n",
       "[3 rows x 28 columns]"
      ]
     },
     "execution_count": 8,
     "metadata": {},
     "output_type": "execute_result"
    }
   ],
   "source": [
    "df.head(3)"
   ]
  },
  {
   "cell_type": "code",
   "execution_count": 9,
   "id": "aea161a3",
   "metadata": {},
   "outputs": [],
   "source": [
    "df['response_date'] = df['response_date'].dt.strftime(\"%Y-%m-%d\")"
   ]
  },
  {
   "cell_type": "code",
   "execution_count": 10,
   "id": "a7e39453",
   "metadata": {},
   "outputs": [],
   "source": [
    "df['received_date'] = df['received_date'].dt.strftime(\"%Y-%m-%d\")"
   ]
  },
  {
   "cell_type": "code",
   "execution_count": 13,
   "id": "4efe7cb8",
   "metadata": {},
   "outputs": [],
   "source": [
    "df['lots'] = df['lots'].apply(lambda x: ' '.join(dict.fromkeys(x).keys()))"
   ]
  },
  {
   "cell_type": "code",
   "execution_count": 14,
   "id": "ffe02543",
   "metadata": {},
   "outputs": [],
   "source": [
    "gdf = gpd.GeoDataFrame(df, crs=\"EPSG:2992\", geometry='geometry')"
   ]
  },
  {
   "cell_type": "code",
   "execution_count": 17,
   "id": "7e1cb49b",
   "metadata": {},
   "outputs": [],
   "source": [
    "gdf.rename(columns={'wetdet_delin_number': 'wdID', \n",
    "                      'address_location_desc':'loc_desc', \n",
    "                      'Coord-Source': 'coord_src',\n",
    "                      'DocumentName':'doc_name',\n",
    "                      'DecisionLink':'doc_link',\n",
    "                      'is_batch_file':'isbatfile',\n",
    "                      'status_name': 'status_nm',\n",
    "                      'received_date':'receiveddt', \n",
    "                      'response_date':'responsedt',\n",
    "                      'reissuance_response_date':'reissuance', \n",
    "                      }, inplace=True)"
   ]
  },
  {
   "cell_type": "code",
   "execution_count": 18,
   "id": "037c19ce",
   "metadata": {},
   "outputs": [],
   "source": [
    "gdf.to_file(os.path.join(r'T:\\DCProjects\\EPA-WD', 'matched_records_with_lotID'))"
   ]
  }
 ],
 "metadata": {
  "kernelspec": {
   "display_name": "Python 3 (ipykernel)",
   "language": "python",
   "name": "python3"
  },
  "language_info": {
   "codemirror_mode": {
    "name": "ipython",
    "version": 3
   },
   "file_extension": ".py",
   "mimetype": "text/x-python",
   "name": "python",
   "nbconvert_exporter": "python",
   "pygments_lexer": "ipython3",
   "version": "3.8.15"
  }
 },
 "nbformat": 4,
 "nbformat_minor": 5
}
