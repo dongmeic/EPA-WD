{
 "cells": [
  {
   "cell_type": "code",
   "execution_count": 1,
   "id": "97342d85",
   "metadata": {},
   "outputs": [
    {
     "name": "stderr",
     "output_type": "stream",
     "text": [
      "C:\\Users\\clid1852\\AppData\\Anaconda3\\envs\\geoenv\\lib\\site-packages\\geopandas\\_compat.py:106: UserWarning: The Shapely GEOS version (3.11.1-CAPI-1.17.1) is incompatible with the GEOS version PyGEOS was compiled with (3.9.1-CAPI-1.14.2). Conversions between both will be slow.\n",
      "  warnings.warn(\n"
     ]
    }
   ],
   "source": [
    "from wdtools import *"
   ]
  },
  {
   "cell_type": "code",
   "execution_count": 2,
   "id": "2a6a46ca",
   "metadata": {},
   "outputs": [],
   "source": [
    "set_ID = 'Set002'"
   ]
  },
  {
   "cell_type": "code",
   "execution_count": 3,
   "id": "532d197e",
   "metadata": {},
   "outputs": [
    {
     "name": "stdout",
     "output_type": "stream",
     "text": [
      "it took 16.0 minutes to complete\n"
     ]
    }
   ],
   "source": [
    "# this will take about 17 minutes\n",
    "start = time.time()\n",
    "all_taxlot = combine_taxlot()\n",
    "end = time.time()\n",
    "print(f'it took {round((end - start)/60, 0)} minutes to complete')"
   ]
  },
  {
   "cell_type": "code",
   "execution_count": 38,
   "id": "2f146490",
   "metadata": {},
   "outputs": [],
   "source": [
    "df1 = combined_reindexed_data(setID='Set001', nm_to_add=0) "
   ]
  },
  {
   "cell_type": "code",
   "execution_count": 39,
   "id": "0472336e",
   "metadata": {},
   "outputs": [],
   "source": [
    "res = check_corrected_data(df=df1, setID='Set001', all_taxlot=all_taxlot, nm_to_add=0, export=False)"
   ]
  },
  {
   "cell_type": "code",
   "execution_count": 40,
   "id": "1036e6db",
   "metadata": {},
   "outputs": [],
   "source": [
    "df2 = combined_reindexed_data(setID='Set002', nm_to_add=1420) "
   ]
  },
  {
   "cell_type": "code",
   "execution_count": 41,
   "id": "ee11ca5c",
   "metadata": {},
   "outputs": [],
   "source": [
    "set2gdf = match_wd_data_with_taxlot(df=df2, setID=set_ID, all_taxlot=all_taxlot, nm_to_add=1420, export=False)"
   ]
  },
  {
   "cell_type": "code",
   "execution_count": 5,
   "id": "54880172",
   "metadata": {},
   "outputs": [],
   "source": [
    "ndf = res[0]"
   ]
  },
  {
   "cell_type": "code",
   "execution_count": 6,
   "id": "feb78128",
   "metadata": {},
   "outputs": [],
   "source": [
    "ngdf = gpd.GeoDataFrame(ndf, crs=\"EPSG:2992\", geometry='geometry')"
   ]
  },
  {
   "cell_type": "code",
   "execution_count": 7,
   "id": "b529104a",
   "metadata": {},
   "outputs": [
    {
     "data": {
      "text/plain": [
       "Index(['wdID', 'trsqq', 'parcel_id', 'loc_desc', 'city', 'county', 'site_name',\n",
       "       'site_desc', 'latitude', 'longitude', 'coord_src', 'doc_name',\n",
       "       'doc_link', 'isbatfile', 'status_nm', 'receiveddt', 'responsedt',\n",
       "       'reissuance', 'project_id', 'site_id', 'recordID', 'notes', 'lots',\n",
       "       'lot', 'cnt_code', 'ORTaxlot', 'recyear', 'IDyear', 'missinglot',\n",
       "       'record_ID', 'geometry'],\n",
       "      dtype='object')"
      ]
     },
     "execution_count": 7,
     "metadata": {},
     "output_type": "execute_result"
    }
   ],
   "source": [
    "ngdf.columns"
   ]
  },
  {
   "cell_type": "code",
   "execution_count": 8,
   "id": "85988c60",
   "metadata": {
    "scrolled": true
   },
   "outputs": [
    {
     "data": {
      "text/html": [
       "<div>\n",
       "<style scoped>\n",
       "    .dataframe tbody tr th:only-of-type {\n",
       "        vertical-align: middle;\n",
       "    }\n",
       "\n",
       "    .dataframe tbody tr th {\n",
       "        vertical-align: top;\n",
       "    }\n",
       "\n",
       "    .dataframe thead th {\n",
       "        text-align: right;\n",
       "    }\n",
       "</style>\n",
       "<table border=\"1\" class=\"dataframe\">\n",
       "  <thead>\n",
       "    <tr style=\"text-align: right;\">\n",
       "      <th></th>\n",
       "      <th>wdID</th>\n",
       "      <th>trsqq</th>\n",
       "      <th>parcel_id</th>\n",
       "      <th>loc_desc</th>\n",
       "      <th>city</th>\n",
       "      <th>county</th>\n",
       "      <th>site_name</th>\n",
       "      <th>site_desc</th>\n",
       "      <th>latitude</th>\n",
       "      <th>longitude</th>\n",
       "      <th>...</th>\n",
       "      <th>notes</th>\n",
       "      <th>lots</th>\n",
       "      <th>lot</th>\n",
       "      <th>cnt_code</th>\n",
       "      <th>ORTaxlot</th>\n",
       "      <th>recyear</th>\n",
       "      <th>IDyear</th>\n",
       "      <th>missinglot</th>\n",
       "      <th>record_ID</th>\n",
       "      <th>geometry</th>\n",
       "    </tr>\n",
       "  </thead>\n",
       "  <tbody>\n",
       "    <tr>\n",
       "      <th>0</th>\n",
       "      <td>WD2017-0003</td>\n",
       "      <td>06N10W03DA</td>\n",
       "      <td>500 (partial)</td>\n",
       "      <td>McCormick Rd .025 mi S of Hillila Rd</td>\n",
       "      <td>Gearhart</td>\n",
       "      <td>Clatsop</td>\n",
       "      <td>McCormick Rd 06N10W03DA</td>\n",
       "      <td>Residential</td>\n",
       "      <td>46.030197</td>\n",
       "      <td>-123.905217</td>\n",
       "      <td>...</td>\n",
       "      <td>partial</td>\n",
       "      <td>500</td>\n",
       "      <td>500</td>\n",
       "      <td>4</td>\n",
       "      <td>0406.00N10.00W03DA--000000500</td>\n",
       "      <td>2017</td>\n",
       "      <td>2017</td>\n",
       "      <td>N</td>\n",
       "      <td>1</td>\n",
       "      <td>MULTIPOLYGON (((448821.559 1578307.121, 448814...</td>\n",
       "    </tr>\n",
       "    <tr>\n",
       "      <th>1</th>\n",
       "      <td>WD2017-0033</td>\n",
       "      <td>08N08W25</td>\n",
       "      <td>101</td>\n",
       "      <td>W of 92260 Koppisch Rd, Astoria</td>\n",
       "      <td>Astoria</td>\n",
       "      <td>Clatsop</td>\n",
       "      <td>08N08W25</td>\n",
       "      <td>site evaluation</td>\n",
       "      <td>46.155778</td>\n",
       "      <td>-123.610751</td>\n",
       "      <td>...</td>\n",
       "      <td>None</td>\n",
       "      <td>101</td>\n",
       "      <td>101</td>\n",
       "      <td>4</td>\n",
       "      <td>0408.00N08.00W2500--000000101</td>\n",
       "      <td>2017</td>\n",
       "      <td>2017</td>\n",
       "      <td>N</td>\n",
       "      <td>2</td>\n",
       "      <td>MULTIPOLYGON (((524028.003 1621190.023, 524220...</td>\n",
       "    </tr>\n",
       "    <tr>\n",
       "      <th>2</th>\n",
       "      <td>WD2017-0056</td>\n",
       "      <td>08N10W09B</td>\n",
       "      <td>2500, ROWs (both partial)</td>\n",
       "      <td>Warrenton Dr and NW 17th St</td>\n",
       "      <td>Warrenton</td>\n",
       "      <td>Clatsop</td>\n",
       "      <td>Gann Dev 08N10W09B</td>\n",
       "      <td>residential development</td>\n",
       "      <td>46.190638</td>\n",
       "      <td>-123.932177</td>\n",
       "      <td>...</td>\n",
       "      <td>ROW &amp; partial</td>\n",
       "      <td>2500</td>\n",
       "      <td>2500</td>\n",
       "      <td>4</td>\n",
       "      <td>0408.00N10.00W09B0--000002500</td>\n",
       "      <td>2017</td>\n",
       "      <td>2017</td>\n",
       "      <td>N</td>\n",
       "      <td>3</td>\n",
       "      <td>MULTIPOLYGON (((443198.754 1636916.627, 443123...</td>\n",
       "    </tr>\n",
       "  </tbody>\n",
       "</table>\n",
       "<p>3 rows × 31 columns</p>\n",
       "</div>"
      ],
      "text/plain": [
       "          wdID       trsqq                  parcel_id  \\\n",
       "0  WD2017-0003  06N10W03DA              500 (partial)   \n",
       "1  WD2017-0033    08N08W25                        101   \n",
       "2  WD2017-0056   08N10W09B  2500, ROWs (both partial)   \n",
       "\n",
       "                               loc_desc       city   county  \\\n",
       "0  McCormick Rd .025 mi S of Hillila Rd   Gearhart  Clatsop   \n",
       "1       W of 92260 Koppisch Rd, Astoria    Astoria  Clatsop   \n",
       "2           Warrenton Dr and NW 17th St  Warrenton  Clatsop   \n",
       "\n",
       "                 site_name                site_desc   latitude   longitude  \\\n",
       "0  McCormick Rd 06N10W03DA              Residential  46.030197 -123.905217   \n",
       "1                 08N08W25          site evaluation  46.155778 -123.610751   \n",
       "2       Gann Dev 08N10W09B  residential development  46.190638 -123.932177   \n",
       "\n",
       "   ...          notes  lots   lot cnt_code                       ORTaxlot  \\\n",
       "0  ...        partial   500   500        4  0406.00N10.00W03DA--000000500   \n",
       "1  ...           None   101   101        4  0408.00N08.00W2500--000000101   \n",
       "2  ...  ROW & partial  2500  2500        4  0408.00N10.00W09B0--000002500   \n",
       "\n",
       "  recyear IDyear  missinglot  record_ID  \\\n",
       "0    2017   2017           N          1   \n",
       "1    2017   2017           N          2   \n",
       "2    2017   2017           N          3   \n",
       "\n",
       "                                            geometry  \n",
       "0  MULTIPOLYGON (((448821.559 1578307.121, 448814...  \n",
       "1  MULTIPOLYGON (((524028.003 1621190.023, 524220...  \n",
       "2  MULTIPOLYGON (((443198.754 1636916.627, 443123...  \n",
       "\n",
       "[3 rows x 31 columns]"
      ]
     },
     "execution_count": 8,
     "metadata": {},
     "output_type": "execute_result"
    }
   ],
   "source": [
    "ngdf.head(3)"
   ]
  },
  {
   "cell_type": "code",
   "execution_count": 10,
   "id": "6d146431",
   "metadata": {},
   "outputs": [],
   "source": [
    "ngdf['lots'] = ngdf['lots'].apply(lambda x: ' '.join(dict.fromkeys(x).keys()))"
   ]
  },
  {
   "cell_type": "code",
   "execution_count": 11,
   "id": "f995ab80",
   "metadata": {},
   "outputs": [],
   "source": [
    "ngdf[['wdID', 'trsqq', 'parcel_id', 'notes', 'lots', 'lot', 'ORTaxlot', 'record_ID', 'geometry']].to_file(os.path.join(inpath + '\\\\output\\\\matched\\\\', f'matched_records_{set_ID}.shp'), \n",
    "             driver='ESRI Shapefile')  "
   ]
  },
  {
   "cell_type": "code",
   "execution_count": 12,
   "id": "dfb7cacf",
   "metadata": {},
   "outputs": [],
   "source": [
    "df_wlots_to_check = res[3]"
   ]
  },
  {
   "cell_type": "code",
   "execution_count": 13,
   "id": "0d93825b",
   "metadata": {},
   "outputs": [],
   "source": [
    "df_wlots_to_check.to_csv(os.path.join(inpath + '\\\\output\\\\to_review\\\\', 'df_with_lots_check.csv'), index=False) "
   ]
  },
  {
   "cell_type": "code",
   "execution_count": 43,
   "id": "a50b144a",
   "metadata": {},
   "outputs": [],
   "source": [
    "wd_df = combine_wd_tables(setID='Set002', nm_to_add=1420)"
   ]
  },
  {
   "cell_type": "code",
   "execution_count": 44,
   "id": "55b659ab",
   "metadata": {},
   "outputs": [
    {
     "data": {
      "text/plain": [
       "(723, 25)"
      ]
     },
     "execution_count": 44,
     "metadata": {},
     "output_type": "execute_result"
    }
   ],
   "source": [
    "wd_df.shape"
   ]
  },
  {
   "cell_type": "code",
   "execution_count": 45,
   "id": "f103244e",
   "metadata": {},
   "outputs": [
    {
     "data": {
      "text/plain": [
       "130"
      ]
     },
     "execution_count": 45,
     "metadata": {},
     "output_type": "execute_result"
    }
   ],
   "source": [
    "len(wd_df.record_ID.unique()) - len(set2gdf.record_ID.unique())"
   ]
  },
  {
   "cell_type": "code",
   "execution_count": 16,
   "id": "f4d6b582",
   "metadata": {},
   "outputs": [
    {
     "data": {
      "text/plain": [
       "1331"
      ]
     },
     "execution_count": 16,
     "metadata": {},
     "output_type": "execute_result"
    }
   ],
   "source": [
    "len(ngdf.record_ID.unique())"
   ]
  },
  {
   "cell_type": "code",
   "execution_count": 17,
   "id": "c2cf3000",
   "metadata": {},
   "outputs": [
    {
     "data": {
      "text/plain": [
       "Index(['wetdet_delin_number', 'trsqq', 'parcel_id', 'address_location_desc',\n",
       "       'city', 'county', 'site_name', 'site_desc', 'latitude', 'longitude',\n",
       "       'Coord-Source', 'DocumentName', 'DecisionLink', 'is_batch_file',\n",
       "       'status_name', 'received_date', 'response_date',\n",
       "       'reissuance_response_date', 'project_id', 'site_id', 'record_ID',\n",
       "       'notes', 'recyear', 'IDyear', 'missinglot'],\n",
       "      dtype='object')"
      ]
     },
     "execution_count": 17,
     "metadata": {},
     "output_type": "execute_result"
    }
   ],
   "source": [
    "wd_df.columns"
   ]
  },
  {
   "cell_type": "code",
   "execution_count": 48,
   "id": "34dffc17",
   "metadata": {},
   "outputs": [],
   "source": [
    "setgdf = gpd.read_file(os.path.join(inpath, 'GIS', 'Join_Statewide.gdb'), layer=f'WD_{set_ID}_Combined')"
   ]
  },
  {
   "cell_type": "code",
   "execution_count": 49,
   "id": "27af9bfd",
   "metadata": {},
   "outputs": [
    {
     "data": {
      "text/plain": [
       "618"
      ]
     },
     "execution_count": 49,
     "metadata": {},
     "output_type": "execute_result"
    }
   ],
   "source": [
    "len(setgdf.Record_ID.unique())"
   ]
  },
  {
   "cell_type": "code",
   "execution_count": 46,
   "id": "04f53964",
   "metadata": {},
   "outputs": [
    {
     "data": {
      "text/plain": [
       "Index(['OBJECTID', 'Record_ID', 'wetdet_delin_number', 'trsqq', 'parcel_id',\n",
       "       'address_location_desc', 'city', 'county', 'site_name', 'site_desc',\n",
       "       'latitude', 'longitude', 'Coord_Source', 'DocumentName', 'DecisionLink',\n",
       "       'is_batch_file', 'status_name', 'received_date', 'response_date',\n",
       "       'reissuance_response_date', 'project_id', 'site_id', 'lot_num', 'lot',\n",
       "       'Match_Year', 'ORTAXLOT', 'Match_found', 'Manual_note', 'Shape_Length',\n",
       "       'Shape_Area', 'geometry'],\n",
       "      dtype='object')"
      ]
     },
     "execution_count": 46,
     "metadata": {},
     "output_type": "execute_result"
    }
   ],
   "source": [
    "setgdf.columns"
   ]
  },
  {
   "cell_type": "code",
   "execution_count": 50,
   "id": "4271a9b3",
   "metadata": {},
   "outputs": [
    {
     "data": {
      "text/plain": [
       "105"
      ]
     },
     "execution_count": 50,
     "metadata": {},
     "output_type": "execute_result"
    }
   ],
   "source": [
    "# missed records in the existing output\n",
    "wd_df.shape[0] - len(setgdf.Record_ID.unique())"
   ]
  },
  {
   "cell_type": "code",
   "execution_count": 51,
   "id": "ebf8aaa6",
   "metadata": {},
   "outputs": [
    {
     "name": "stdout",
     "output_type": "stream",
     "text": [
      "it is about 17.98% of data in the original 723 records unmatched\n",
      "there are 1 records (0.14% of the original records) without parcel id\n"
     ]
    }
   ],
   "source": [
    "unmatched_wd_df = report_unmatched(gdf=set2gdf, setID=set_ID, nm_to_add=1420, mute=False)"
   ]
  }
 ],
 "metadata": {
  "kernelspec": {
   "display_name": "Python 3 (ipykernel)",
   "language": "python",
   "name": "python3"
  },
  "language_info": {
   "codemirror_mode": {
    "name": "ipython",
    "version": 3
   },
   "file_extension": ".py",
   "mimetype": "text/x-python",
   "name": "python",
   "nbconvert_exporter": "python",
   "pygments_lexer": "ipython3",
   "version": "3.8.15"
  }
 },
 "nbformat": 4,
 "nbformat_minor": 5
}
