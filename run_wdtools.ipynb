{
 "cells": [
  {
   "cell_type": "code",
   "execution_count": 1,
   "id": "76e7b5b2",
   "metadata": {},
   "outputs": [
    {
     "name": "stderr",
     "output_type": "stream",
     "text": [
      "C:\\Users\\clid1852\\AppData\\Anaconda3\\envs\\geoenv\\lib\\site-packages\\geopandas\\_compat.py:106: UserWarning: The Shapely GEOS version (3.11.1-CAPI-1.17.1) is incompatible with the GEOS version PyGEOS was compiled with (3.9.1-CAPI-1.14.2). Conversions between both will be slow.\n",
      "  warnings.warn(\n"
     ]
    }
   ],
   "source": [
    "from wdtools import *"
   ]
  },
  {
   "cell_type": "code",
   "execution_count": 27,
   "id": "dec0925f",
   "metadata": {},
   "outputs": [],
   "source": [
    "import difflib"
   ]
  },
  {
   "cell_type": "code",
   "execution_count": 2,
   "id": "cad3e9a3",
   "metadata": {},
   "outputs": [],
   "source": [
    "set_ID = 'Set001'"
   ]
  },
  {
   "cell_type": "code",
   "execution_count": 3,
   "id": "2656cff8",
   "metadata": {
    "scrolled": true
   },
   "outputs": [],
   "source": [
    "#gdf = combine_merged_data(setID = set_ID)"
   ]
  },
  {
   "cell_type": "code",
   "execution_count": 4,
   "id": "7d6b6823",
   "metadata": {},
   "outputs": [],
   "source": [
    "gdf = gpd.read_file(os.path.join(inpath + f'\\\\{outfolder}\\\\', f'matched_records_{set_ID}.shp'), driver='ESRI Shapefile')"
   ]
  },
  {
   "cell_type": "code",
   "execution_count": 5,
   "id": "965d5c7c",
   "metadata": {},
   "outputs": [
    {
     "name": "stdout",
     "output_type": "stream",
     "text": [
      "it took 17.0 minutes to complete\n"
     ]
    }
   ],
   "source": [
    "# this will take about 17 minutes\n",
    "start = time.time()\n",
    "all_taxlot = combine_taxlot()\n",
    "end = time.time()\n",
    "print(f'it took {round((end - start)/60, 0)} minutes to complete')"
   ]
  },
  {
   "cell_type": "code",
   "execution_count": 153,
   "id": "73224f35",
   "metadata": {},
   "outputs": [],
   "source": [
    "cor_df = check_corrected_data(gdf=gdf, setID=set_ID, all_taxlot=all_taxlot)[0]"
   ]
  },
  {
   "cell_type": "code",
   "execution_count": 154,
   "id": "969ae9ad",
   "metadata": {},
   "outputs": [],
   "source": [
    "comIDs = check_corrected_data(gdf=gdf, setID=set_ID, all_taxlot=all_taxlot)[1]"
   ]
  },
  {
   "cell_type": "code",
   "execution_count": 157,
   "id": "1b59f8c7",
   "metadata": {},
   "outputs": [
    {
     "data": {
      "text/plain": [
       "(23, 13)"
      ]
     },
     "execution_count": 157,
     "metadata": {},
     "output_type": "execute_result"
    }
   ],
   "source": [
    "cor_df.shape"
   ]
  },
  {
   "cell_type": "code",
   "execution_count": 6,
   "id": "8c3d6301",
   "metadata": {},
   "outputs": [],
   "source": [
    "wd_df = combine_wd_table(set_ID)"
   ]
  },
  {
   "cell_type": "code",
   "execution_count": 82,
   "id": "89a1bd3d",
   "metadata": {},
   "outputs": [
    {
     "data": {
      "text/plain": [
       "(23, 13)"
      ]
     },
     "execution_count": 82,
     "metadata": {},
     "output_type": "execute_result"
    }
   ],
   "source": [
    "cor_df.shape"
   ]
  },
  {
   "cell_type": "code",
   "execution_count": 163,
   "id": "0f15b066",
   "metadata": {},
   "outputs": [],
   "source": [
    "df_wlots = review_with_lots(gdf, set_ID, all_taxlot)[0]"
   ]
  },
  {
   "cell_type": "code",
   "execution_count": 166,
   "id": "b5feb7ec",
   "metadata": {},
   "outputs": [],
   "source": [
    "df_wlots_to_check = check_corrected_data(gdf=gdf, setID=set_ID, all_taxlot=all_taxlot)[2]"
   ]
  },
  {
   "cell_type": "code",
   "execution_count": null,
   "id": "579111cf",
   "metadata": {},
   "outputs": [],
   "source": []
  }
 ],
 "metadata": {
  "kernelspec": {
   "display_name": "Python 3 (ipykernel)",
   "language": "python",
   "name": "python3"
  },
  "language_info": {
   "codemirror_mode": {
    "name": "ipython",
    "version": 3
   },
   "file_extension": ".py",
   "mimetype": "text/x-python",
   "name": "python",
   "nbconvert_exporter": "python",
   "pygments_lexer": "ipython3",
   "version": "3.8.15"
  }
 },
 "nbformat": 4,
 "nbformat_minor": 5
}
