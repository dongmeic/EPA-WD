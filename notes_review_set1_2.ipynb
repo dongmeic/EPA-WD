{
 "cells": [
  {
   "cell_type": "code",
   "execution_count": 1,
   "id": "d7c2612b",
   "metadata": {},
   "outputs": [],
   "source": [
    "%load_ext autoreload\n",
    "%autoreload 2"
   ]
  },
  {
   "cell_type": "code",
   "execution_count": 2,
   "id": "31eba31e",
   "metadata": {},
   "outputs": [],
   "source": [
    "from wdtools import *"
   ]
  },
  {
   "cell_type": "code",
   "execution_count": 401,
   "id": "007cc0be",
   "metadata": {},
   "outputs": [],
   "source": [
    "setID = 'Set002'"
   ]
  },
  {
   "cell_type": "code",
   "execution_count": 402,
   "id": "2c2645dd",
   "metadata": {},
   "outputs": [],
   "source": [
    "wd = combine_wd_tables(setID=setID, nm_to_add=0)"
   ]
  },
  {
   "cell_type": "code",
   "execution_count": 403,
   "id": "9dced017",
   "metadata": {},
   "outputs": [],
   "source": [
    "df = pd.DataFrame(columns = ['wetdet_delin_number', 'record_ID', 'field', 'cor_type', 'from', 'to'])"
   ]
  },
  {
   "cell_type": "code",
   "execution_count": 404,
   "id": "0d8aa941",
   "metadata": {},
   "outputs": [],
   "source": [
    "ml = 'N'"
   ]
  },
  {
   "cell_type": "code",
   "execution_count": 405,
   "id": "132a44f2",
   "metadata": {},
   "outputs": [],
   "source": [
    "notes = pd.read_csv(os.path.join(inpath + '\\\\output\\\\to_review\\\\', f'review_unmatched_{setID}_r2_{ml}_0.csv'))"
   ]
  },
  {
   "cell_type": "code",
   "execution_count": 406,
   "id": "f4d718ee",
   "metadata": {},
   "outputs": [
    {
     "data": {
      "text/plain": [
       "array(['WD2019-0544', 'WD2021-0582', 'WD2020-0383', 'WD2018-0584',\n",
       "       'WD2021-0651', 'WD2021-0670', 'WD2022-0066', 'WD2021-0521',\n",
       "       'WD2017-0275', 'WD2018-0158', 'WD2017-0001', 'WD2021-0285',\n",
       "       'WD2021-0013', 'WD2019-0299', 'WD2021-0616', 'WD2021-0252',\n",
       "       'WD2020-0620', 'WD2017-0418', 'WD2019-0300', 'WD2020-0584',\n",
       "       'WD2020-0229', 'WD2019-0375', 'WD2020-0677', 'WD2018-0326',\n",
       "       'WD2019-0511', 'WD2017-0498', 'WD2020-0582', 'WD2017-0290'],\n",
       "      dtype=object)"
      ]
     },
     "execution_count": 406,
     "metadata": {},
     "output_type": "execute_result"
    }
   ],
   "source": [
    "notes.wetdet_delin_number.unique()"
   ]
  },
  {
   "cell_type": "code",
   "execution_count": 9,
   "id": "2cc47515",
   "metadata": {},
   "outputs": [
    {
     "data": {
      "text/plain": [
       "Index(['wetdet_delin_number', 'trsqq', 'parcel_id', 'county', 'latitude',\n",
       "       'longitude', 'DecisionLink', 'record_ID', 'IDyear', 'correct_type',\n",
       "       'correction', 'cor_trsqq', 'ORTaxlot'],\n",
       "      dtype='object')"
      ]
     },
     "execution_count": 9,
     "metadata": {},
     "output_type": "execute_result"
    }
   ],
   "source": [
    "notes.columns"
   ]
  },
  {
   "cell_type": "code",
   "execution_count": 407,
   "id": "1d769620",
   "metadata": {},
   "outputs": [
    {
     "data": {
      "text/plain": [
       "(28, 13)"
      ]
     },
     "execution_count": 407,
     "metadata": {},
     "output_type": "execute_result"
    }
   ],
   "source": [
    "notes.shape"
   ]
  },
  {
   "cell_type": "code",
   "execution_count": 408,
   "id": "0219935d",
   "metadata": {},
   "outputs": [],
   "source": [
    "i=0"
   ]
  },
  {
   "cell_type": "code",
   "execution_count": 633,
   "id": "58515b77",
   "metadata": {},
   "outputs": [],
   "source": [
    "i = i+1"
   ]
  },
  {
   "cell_type": "code",
   "execution_count": 498,
   "id": "464edc5e",
   "metadata": {},
   "outputs": [
    {
     "data": {
      "text/plain": [
       "13"
      ]
     },
     "execution_count": 498,
     "metadata": {},
     "output_type": "execute_result"
    }
   ],
   "source": [
    "i"
   ]
  },
  {
   "cell_type": "code",
   "execution_count": 635,
   "id": "9ef09850",
   "metadata": {},
   "outputs": [],
   "source": [
    "#notes.loc[i, ['wetdet_delin_number', 'record_ID', 'trsqq', 'correct_type', 'correction', 'cor_trsqq', 'parcel_id', 'ORTaxlot']]"
   ]
  },
  {
   "cell_type": "code",
   "execution_count": 417,
   "id": "64eeffba",
   "metadata": {},
   "outputs": [
    {
     "name": "stdout",
     "output_type": "stream",
     "text": [
      "there is not any matched lot, need to review trsqq, the close-match is 03N27E\n"
     ]
    }
   ],
   "source": [
    "print(notes.loc[i, 'correction'])"
   ]
  },
  {
   "cell_type": "code",
   "execution_count": 624,
   "id": "dc7951ed",
   "metadata": {},
   "outputs": [],
   "source": [
    "wdID = notes.loc[i,'wetdet_delin_number']"
   ]
  },
  {
   "cell_type": "code",
   "execution_count": 625,
   "id": "a5891014",
   "metadata": {
    "scrolled": true
   },
   "outputs": [
    {
     "data": {
      "text/html": [
       "<div>\n",
       "<style scoped>\n",
       "    .dataframe tbody tr th:only-of-type {\n",
       "        vertical-align: middle;\n",
       "    }\n",
       "\n",
       "    .dataframe tbody tr th {\n",
       "        vertical-align: top;\n",
       "    }\n",
       "\n",
       "    .dataframe thead th {\n",
       "        text-align: right;\n",
       "    }\n",
       "</style>\n",
       "<table border=\"1\" class=\"dataframe\">\n",
       "  <thead>\n",
       "    <tr style=\"text-align: right;\">\n",
       "      <th></th>\n",
       "      <th>county</th>\n",
       "      <th>trsqq</th>\n",
       "      <th>parcel_id</th>\n",
       "      <th>latitude</th>\n",
       "      <th>longitude</th>\n",
       "      <th>record_ID</th>\n",
       "      <th>notes</th>\n",
       "    </tr>\n",
       "  </thead>\n",
       "  <tbody>\n",
       "    <tr>\n",
       "      <th>659</th>\n",
       "      <td>Morrow</td>\n",
       "      <td>02S26E27</td>\n",
       "      <td>6600</td>\n",
       "      <td>45.362382</td>\n",
       "      <td>-119.558874</td>\n",
       "      <td>660</td>\n",
       "      <td></td>\n",
       "    </tr>\n",
       "  </tbody>\n",
       "</table>\n",
       "</div>"
      ],
      "text/plain": [
       "     county     trsqq parcel_id   latitude   longitude  record_ID notes\n",
       "659  Morrow  02S26E27      6600  45.362382 -119.558874        660      "
      ]
     },
     "execution_count": 625,
     "metadata": {},
     "output_type": "execute_result"
    }
   ],
   "source": [
    "selcols = ['county', 'trsqq', 'parcel_id', 'latitude', 'longitude', 'record_ID', 'notes']\n",
    "wd.loc[wd.wetdet_delin_number == wdID, selcols]"
   ]
  },
  {
   "cell_type": "code",
   "execution_count": 595,
   "id": "f542bf79",
   "metadata": {},
   "outputs": [
    {
     "data": {
      "text/plain": [
       "1569"
      ]
     },
     "execution_count": 595,
     "metadata": {},
     "output_type": "execute_result"
    }
   ],
   "source": [
    "1420+149"
   ]
  },
  {
   "cell_type": "code",
   "execution_count": 626,
   "id": "36c7e7bf",
   "metadata": {},
   "outputs": [
    {
     "data": {
      "text/plain": [
       "'QQ'"
      ]
     },
     "execution_count": 626,
     "metadata": {},
     "output_type": "execute_result"
    }
   ],
   "source": [
    "ctyp = notes.loc[i,'correct_type']#.split(' and ')[1]\n",
    "ctyp"
   ]
  },
  {
   "cell_type": "code",
   "execution_count": 627,
   "id": "3ca02295",
   "metadata": {},
   "outputs": [
    {
     "data": {
      "text/plain": [
       "'from 00 to DA'"
      ]
     },
     "execution_count": 627,
     "metadata": {},
     "output_type": "execute_result"
    }
   ],
   "source": [
    "crt = notes.loc[i,'correction']\n",
    "crt"
   ]
  },
  {
   "cell_type": "code",
   "execution_count": 628,
   "id": "0d4da899",
   "metadata": {},
   "outputs": [
    {
     "data": {
      "text/plain": [
       "['00', 'DA']"
      ]
     },
     "execution_count": 628,
     "metadata": {},
     "output_type": "execute_result"
    }
   ],
   "source": [
    "ft = crt.split('from ')[1].split(' to ')\n",
    "ft"
   ]
  },
  {
   "cell_type": "code",
   "execution_count": 73,
   "id": "ceef3cd3",
   "metadata": {},
   "outputs": [],
   "source": [
    "ft[0] = '00'"
   ]
  },
  {
   "cell_type": "code",
   "execution_count": 374,
   "id": "f7c4360d",
   "metadata": {},
   "outputs": [],
   "source": [
    "ft[1] = 'DB'"
   ]
  },
  {
   "cell_type": "code",
   "execution_count": 517,
   "id": "28a6e03f",
   "metadata": {},
   "outputs": [],
   "source": [
    "f = crt.split('from ')[1].split(' and ')[0]\n",
    "t = crt.split(' to ')[1].split(' and ')[0]"
   ]
  },
  {
   "cell_type": "code",
   "execution_count": 523,
   "id": "6e76a794",
   "metadata": {},
   "outputs": [],
   "source": [
    "f = crt.split(' and ')[1].split(' to ')[0]\n",
    "t = crt.split(' and ')[2]"
   ]
  },
  {
   "cell_type": "code",
   "execution_count": 524,
   "id": "0a4ea532",
   "metadata": {},
   "outputs": [
    {
     "name": "stdout",
     "output_type": "stream",
     "text": [
      "Q VE\n"
     ]
    }
   ],
   "source": [
    "print(f, t)"
   ]
  },
  {
   "cell_type": "code",
   "execution_count": 629,
   "id": "d51acc68",
   "metadata": {},
   "outputs": [
    {
     "data": {
      "text/plain": [
       "2080"
      ]
     },
     "execution_count": 629,
     "metadata": {},
     "output_type": "execute_result"
    }
   ],
   "source": [
    "rID = notes.loc[i,'record_ID']\n",
    "rID"
   ]
  },
  {
   "cell_type": "code",
   "execution_count": 138,
   "id": "9a976998",
   "metadata": {},
   "outputs": [],
   "source": [
    "df = pd.read_csv(os.path.join(inpath + '\\\\output\\\\to_review\\\\', f'unmatched_df_{setID}_r1_{ml}_notes.csv'))"
   ]
  },
  {
   "cell_type": "code",
   "execution_count": 630,
   "id": "b24eb3be",
   "metadata": {},
   "outputs": [],
   "source": [
    "df = df.append({'wetdet_delin_number': wdID, 'record_ID': rID, 'field': 'trsqq', 'cor_type': ctyp, 'from': ft[0], 'to': ft[1]},\n",
    "        ignore_index = True)"
   ]
  },
  {
   "cell_type": "code",
   "execution_count": 525,
   "id": "ed8d3195",
   "metadata": {},
   "outputs": [],
   "source": [
    "df = df.append({'wetdet_delin_number': wdID, 'record_ID': rID, 'field': 'trsqq', 'cor_type': ctyp, 'from': f, 'to': t},\n",
    "        ignore_index = True)"
   ]
  },
  {
   "cell_type": "code",
   "execution_count": 597,
   "id": "51fedf38",
   "metadata": {},
   "outputs": [],
   "source": [
    "df = df.append({'wetdet_delin_number': wdID, 'record_ID': rID, 'field': 'county', 'cor_type': 'county', 'from': 'Benton', 'to': 'Polk'},\n",
    "        ignore_index = True)"
   ]
  },
  {
   "cell_type": "code",
   "execution_count": 631,
   "id": "168bf084",
   "metadata": {},
   "outputs": [
    {
     "data": {
      "text/html": [
       "<div>\n",
       "<style scoped>\n",
       "    .dataframe tbody tr th:only-of-type {\n",
       "        vertical-align: middle;\n",
       "    }\n",
       "\n",
       "    .dataframe tbody tr th {\n",
       "        vertical-align: top;\n",
       "    }\n",
       "\n",
       "    .dataframe thead th {\n",
       "        text-align: right;\n",
       "    }\n",
       "</style>\n",
       "<table border=\"1\" class=\"dataframe\">\n",
       "  <thead>\n",
       "    <tr style=\"text-align: right;\">\n",
       "      <th></th>\n",
       "      <th>wetdet_delin_number</th>\n",
       "      <th>record_ID</th>\n",
       "      <th>field</th>\n",
       "      <th>cor_type</th>\n",
       "      <th>from</th>\n",
       "      <th>to</th>\n",
       "    </tr>\n",
       "  </thead>\n",
       "  <tbody>\n",
       "    <tr>\n",
       "      <th>13</th>\n",
       "      <td>WD2018-0326</td>\n",
       "      <td>2084</td>\n",
       "      <td>trsqq</td>\n",
       "      <td>section number</td>\n",
       "      <td>33</td>\n",
       "      <td>00</td>\n",
       "    </tr>\n",
       "    <tr>\n",
       "      <th>14</th>\n",
       "      <td>WD2019-0511</td>\n",
       "      <td>1569</td>\n",
       "      <td>county</td>\n",
       "      <td>county</td>\n",
       "      <td>Benton</td>\n",
       "      <td>Polk</td>\n",
       "    </tr>\n",
       "    <tr>\n",
       "      <th>15</th>\n",
       "      <td>WD2017-0498</td>\n",
       "      <td>1684</td>\n",
       "      <td>trsqq</td>\n",
       "      <td>township direction</td>\n",
       "      <td>N</td>\n",
       "      <td>S</td>\n",
       "    </tr>\n",
       "    <tr>\n",
       "      <th>16</th>\n",
       "      <td>WD2020-0582</td>\n",
       "      <td>1465</td>\n",
       "      <td>trsqq</td>\n",
       "      <td>section number</td>\n",
       "      <td>36</td>\n",
       "      <td>00</td>\n",
       "    </tr>\n",
       "    <tr>\n",
       "      <th>17</th>\n",
       "      <td>WD2017-0290</td>\n",
       "      <td>2080</td>\n",
       "      <td>trsqq</td>\n",
       "      <td>QQ</td>\n",
       "      <td>00</td>\n",
       "      <td>DA</td>\n",
       "    </tr>\n",
       "  </tbody>\n",
       "</table>\n",
       "</div>"
      ],
      "text/plain": [
       "   wetdet_delin_number record_ID   field            cor_type    from    to\n",
       "13         WD2018-0326      2084   trsqq      section number      33    00\n",
       "14         WD2019-0511      1569  county              county  Benton  Polk\n",
       "15         WD2017-0498      1684   trsqq  township direction       N     S\n",
       "16         WD2020-0582      1465   trsqq      section number      36    00\n",
       "17         WD2017-0290      2080   trsqq                  QQ      00    DA"
      ]
     },
     "execution_count": 631,
     "metadata": {},
     "output_type": "execute_result"
    }
   ],
   "source": [
    "df.tail(5)"
   ]
  },
  {
   "cell_type": "code",
   "execution_count": 632,
   "id": "3aeecdf0",
   "metadata": {},
   "outputs": [],
   "source": [
    "df.to_csv(os.path.join(inpath + '\\\\output\\\\to_review\\\\', f'unmatched_df_{setID}_r2_{ml}_notes.csv'), index=False)"
   ]
  },
  {
   "cell_type": "code",
   "execution_count": 400,
   "id": "5d3f8a8a",
   "metadata": {},
   "outputs": [
    {
     "data": {
      "text/plain": [
       "(28, 6)"
      ]
     },
     "execution_count": 400,
     "metadata": {},
     "output_type": "execute_result"
    }
   ],
   "source": [
    "df.shape"
   ]
  },
  {
   "cell_type": "code",
   "execution_count": 636,
   "id": "ceaeae91",
   "metadata": {},
   "outputs": [],
   "source": [
    "df = pd.DataFrame(columns = ['wetdet_delin_number', 'field', 'cor_type', 'from', 'to'])"
   ]
  },
  {
   "cell_type": "code",
   "execution_count": 349,
   "id": "d94d57cf",
   "metadata": {},
   "outputs": [
    {
     "data": {
      "text/plain": [
       "'WD2020-0668'"
      ]
     },
     "execution_count": 349,
     "metadata": {},
     "output_type": "execute_result"
    }
   ],
   "source": [
    "wdID"
   ]
  },
  {
   "cell_type": "code",
   "execution_count": 171,
   "id": "23d5a67e",
   "metadata": {},
   "outputs": [
    {
     "data": {
      "text/plain": [
       "True"
      ]
     },
     "execution_count": 171,
     "metadata": {},
     "output_type": "execute_result"
    }
   ],
   "source": [
    "url = wd.loc[wd.wetdet_delin_number == 'WD2018-0522', 'DecisionLink'].values[0]\n",
    "webbrowser.open(url)"
   ]
  },
  {
   "cell_type": "code",
   "execution_count": 350,
   "id": "059d2852",
   "metadata": {},
   "outputs": [
    {
     "name": "stdout",
     "output_type": "stream",
     "text": [
      "1\n",
      "2\n"
     ]
    }
   ],
   "source": [
    "for i in range(1, 3):\n",
    "    extract_page_from_docLink(url=url, pageNm=i, wdID=wdID)\n",
    "#     extract_page_from_locPath(filePath=r'T:\\DCProjects\\EPA-WD\\docs\\WD20210179 Agency Decision.pdf', \n",
    "#                           pageNm=i, wdID='WD2021-0179')\n",
    "    print(i)"
   ]
  },
  {
   "cell_type": "code",
   "execution_count": null,
   "id": "31c44579",
   "metadata": {},
   "outputs": [],
   "source": []
  }
 ],
 "metadata": {
  "kernelspec": {
   "display_name": "Python 3",
   "language": "python",
   "name": "python3"
  },
  "language_info": {
   "codemirror_mode": {
    "name": "ipython",
    "version": 3
   },
   "file_extension": ".py",
   "mimetype": "text/x-python",
   "name": "python",
   "nbconvert_exporter": "python",
   "pygments_lexer": "ipython3",
   "version": "3.8.8"
  }
 },
 "nbformat": 4,
 "nbformat_minor": 5
}
