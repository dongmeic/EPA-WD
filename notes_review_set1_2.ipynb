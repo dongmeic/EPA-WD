{
 "cells": [
  {
   "cell_type": "code",
   "execution_count": 1,
   "id": "d7c2612b",
   "metadata": {},
   "outputs": [],
   "source": [
    "%load_ext autoreload\n",
    "%autoreload 2"
   ]
  },
  {
   "cell_type": "code",
   "execution_count": 2,
   "id": "31eba31e",
   "metadata": {},
   "outputs": [],
   "source": [
    "from wdtools import *"
   ]
  },
  {
   "cell_type": "code",
   "execution_count": 105,
   "id": "007cc0be",
   "metadata": {},
   "outputs": [],
   "source": [
    "setID = 'Set002'"
   ]
  },
  {
   "cell_type": "code",
   "execution_count": 106,
   "id": "da244f39",
   "metadata": {},
   "outputs": [],
   "source": [
    "setgdf = gpd.read_file(os.path.join(inpath, 'GIS', 'Join_Statewide.gdb'), layer=f'WD_{setID}_Combined')"
   ]
  },
  {
   "cell_type": "code",
   "execution_count": 107,
   "id": "41086964",
   "metadata": {},
   "outputs": [],
   "source": [
    "to_check = pd.read_csv(outpath + f'\\\\to_review\\\\tomap_{setID}.csv')"
   ]
  },
  {
   "cell_type": "code",
   "execution_count": 101,
   "id": "555456b3",
   "metadata": {},
   "outputs": [],
   "source": [
    "i=i+1"
   ]
  },
  {
   "cell_type": "code",
   "execution_count": 117,
   "id": "fea552ab",
   "metadata": {},
   "outputs": [],
   "source": [
    "i=9"
   ]
  },
  {
   "cell_type": "code",
   "execution_count": 76,
   "id": "4df54342",
   "metadata": {},
   "outputs": [
    {
     "data": {
      "text/plain": [
       "26"
      ]
     },
     "execution_count": 76,
     "metadata": {},
     "output_type": "execute_result"
    }
   ],
   "source": [
    "i"
   ]
  },
  {
   "cell_type": "code",
   "execution_count": 118,
   "id": "6c3344a3",
   "metadata": {},
   "outputs": [
    {
     "data": {
      "text/plain": [
       "'WD2019-0591'"
      ]
     },
     "execution_count": 118,
     "metadata": {},
     "output_type": "execute_result"
    }
   ],
   "source": [
    "wdID = to_check.loc[to_check.index[i-1], 'wetdet_delin_number']\n",
    "wdID"
   ]
  },
  {
   "cell_type": "code",
   "execution_count": 126,
   "id": "6da563d0",
   "metadata": {},
   "outputs": [],
   "source": [
    "wdID = 'WD2018-0024'"
   ]
  },
  {
   "cell_type": "code",
   "execution_count": 7,
   "id": "9b2d16ed",
   "metadata": {},
   "outputs": [
    {
     "data": {
      "text/plain": [
       "Index(['Record_ID', 'wetdet_delin_number', 'trsqq', 'parcel_id',\n",
       "       'address_location_desc', 'city', 'county', 'site_name', 'site_desc',\n",
       "       'latitude', 'longitude', 'Coord_Source', 'DocumentName', 'DecisionLink',\n",
       "       'is_batch_file', 'status_name', 'received_date', 'response_date',\n",
       "       'reissuance_response_date', 'project_id', 'site_id', 'lot_num', 'lot',\n",
       "       'Match_Year', 'ORTAXLOT', 'Match_found', 'Manual_note', 'Shape_Length',\n",
       "       'Shape_Area', 'Edits_Complete', 'matcher2', 'geometry'],\n",
       "      dtype='object')"
      ]
     },
     "execution_count": 7,
     "metadata": {},
     "output_type": "execute_result"
    }
   ],
   "source": [
    "setgdf.columns"
   ]
  },
  {
   "cell_type": "code",
   "execution_count": 127,
   "id": "a517923e",
   "metadata": {},
   "outputs": [
    {
     "data": {
      "text/plain": [
       "<AxesSubplot:>"
      ]
     },
     "execution_count": 127,
     "metadata": {},
     "output_type": "execute_result"
    },
    {
     "data": {
      "image/png": "[encoded data removed]",
      "text/plain": [
       "<Figure size 432x288 with 1 Axes>"
      ]
     },
     "metadata": {
      "needs_background": "light"
     },
     "output_type": "display_data"
    }
   ],
   "source": [
    "setgdf[setgdf.wetdet_delin_number==wdID].plot()"
   ]
  },
  {
   "cell_type": "code",
   "execution_count": 26,
   "id": "2c2fd2b9",
   "metadata": {},
   "outputs": [
    {
     "data": {
      "text/plain": [
       "True"
      ]
     },
     "execution_count": 26,
     "metadata": {},
     "output_type": "execute_result"
    }
   ],
   "source": [
    "'18S12W02C' in tsq_dst"
   ]
  },
  {
   "cell_type": "code",
   "execution_count": 27,
   "id": "ea02805b",
   "metadata": {},
   "outputs": [
    {
     "data": {
      "text/plain": [
       "860991    2018.00S12.00W02C0--T00000100\n",
       "860992    2018.00S12.00W02C0--T00000300\n",
       "860993    2018.00S12.00W02C0--T00000400\n",
       "860994    2018.00S12.00W02C0--T00000401\n",
       "860995    2018.00S12.00W02C0--T00000402\n",
       "                      ...              \n",
       "861069    2018.00S12.00W02C0--T00005800\n",
       "861070    2018.00S12.00W02C0--T00005900\n",
       "861071    2018.00S12.00W02C0--T00006000\n",
       "861072    2018.00S12.00W02C0--T000NONTL\n",
       "861073    2018.00S12.00W02C0--T000ROADS\n",
       "Name: ORTaxlot, Length: 83, dtype: object"
      ]
     },
     "execution_count": 27,
     "metadata": {},
     "output_type": "execute_result"
    }
   ],
   "source": [
    "ttdf.loc[ttdf.trsqq == '18S12W02C', 'ORTaxlot']"
   ]
  },
  {
   "cell_type": "code",
   "execution_count": 29,
   "id": "d6b00c47",
   "metadata": {},
   "outputs": [],
   "source": [
    "tid = '2018.00S12.00W02C0--000005700'"
   ]
  },
  {
   "cell_type": "code",
   "execution_count": 30,
   "id": "75ef9504",
   "metadata": {},
   "outputs": [
    {
     "data": {
      "text/plain": [
       "'2018.00S12.00W02C0--T00005700'"
      ]
     },
     "execution_count": 30,
     "metadata": {},
     "output_type": "execute_result"
    }
   ],
   "source": [
    "adjust_taxlot(tx='18S12W02C', ty=tid)"
   ]
  },
  {
   "cell_type": "code",
   "execution_count": 22,
   "id": "91801282",
   "metadata": {},
   "outputs": [
    {
     "data": {
      "text/plain": [
       "'00005700'"
      ]
     },
     "execution_count": 22,
     "metadata": {},
     "output_type": "execute_result"
    }
   ],
   "source": [
    "tid.split('--')[1][1:]"
   ]
  },
  {
   "cell_type": "code",
   "execution_count": 5,
   "id": "66455aa2",
   "metadata": {},
   "outputs": [],
   "source": [
    "if setID == 'Set001':\n",
    "    nm_to_add = 0\n",
    "elif setID == 'Set002':\n",
    "    nm_to_add = 1420\n",
    "else:\n",
    "    nm_to_add = 2143"
   ]
  },
  {
   "cell_type": "code",
   "execution_count": 6,
   "id": "2c2645dd",
   "metadata": {},
   "outputs": [],
   "source": [
    "wd = combine_wd_tables(setID=setID, nm_to_add=nm_to_add)"
   ]
  },
  {
   "cell_type": "code",
   "execution_count": 7,
   "id": "9dced017",
   "metadata": {},
   "outputs": [],
   "source": [
    "df = pd.DataFrame(columns = ['wetdet_delin_number', 'record_ID', 'field', 'cor_type', 'from', 'to'])"
   ]
  },
  {
   "cell_type": "code",
   "execution_count": 8,
   "id": "0d8aa941",
   "metadata": {},
   "outputs": [],
   "source": [
    "#ml = 'N'\n",
    "ml = 'Y'"
   ]
  },
  {
   "cell_type": "code",
   "execution_count": 74,
   "id": "132a44f2",
   "metadata": {},
   "outputs": [],
   "source": [
    "notes = pd.read_csv(os.path.join(inpath + '\\\\output\\\\to_review\\\\', f'review_unmatched_{setID}_r2_{ml}_0.csv'))"
   ]
  },
  {
   "cell_type": "code",
   "execution_count": 10,
   "id": "f4d718ee",
   "metadata": {},
   "outputs": [
    {
     "data": {
      "text/plain": [
       "array(['WD2018-0124', 'WD2021-0703', 'WD2018-0281', 'WD2019-0124',\n",
       "       'WD2022-0261', 'WD2022-0087'], dtype=object)"
      ]
     },
     "execution_count": 10,
     "metadata": {},
     "output_type": "execute_result"
    }
   ],
   "source": [
    "notes.wetdet_delin_number.unique()"
   ]
  },
  {
   "cell_type": "code",
   "execution_count": 9,
   "id": "2cc47515",
   "metadata": {},
   "outputs": [
    {
     "data": {
      "text/plain": [
       "Index(['wetdet_delin_number', 'trsqq', 'parcel_id', 'county', 'latitude',\n",
       "       'longitude', 'DecisionLink', 'record_ID', 'IDyear', 'correct_type',\n",
       "       'correction', 'cor_trsqq', 'ORTaxlot'],\n",
       "      dtype='object')"
      ]
     },
     "execution_count": 9,
     "metadata": {},
     "output_type": "execute_result"
    }
   ],
   "source": [
    "notes.columns"
   ]
  },
  {
   "cell_type": "code",
   "execution_count": 11,
   "id": "1d769620",
   "metadata": {},
   "outputs": [
    {
     "data": {
      "text/plain": [
       "(6, 13)"
      ]
     },
     "execution_count": 11,
     "metadata": {},
     "output_type": "execute_result"
    }
   ],
   "source": [
    "notes.shape"
   ]
  },
  {
   "cell_type": "code",
   "execution_count": 55,
   "id": "0219935d",
   "metadata": {},
   "outputs": [],
   "source": [
    "i=1"
   ]
  },
  {
   "cell_type": "code",
   "execution_count": 43,
   "id": "58515b77",
   "metadata": {},
   "outputs": [],
   "source": [
    "i = i+1"
   ]
  },
  {
   "cell_type": "code",
   "execution_count": 48,
   "id": "464edc5e",
   "metadata": {},
   "outputs": [
    {
     "data": {
      "text/plain": [
       "5"
      ]
     },
     "execution_count": 48,
     "metadata": {},
     "output_type": "execute_result"
    }
   ],
   "source": [
    "i"
   ]
  },
  {
   "cell_type": "code",
   "execution_count": 56,
   "id": "9ef09850",
   "metadata": {},
   "outputs": [
    {
     "data": {
      "text/plain": [
       "wetdet_delin_number                                          WD2021-0703\n",
       "record_ID                                                           1148\n",
       "trsqq                                                           38S20E09\n",
       "correct_type                                                   to review\n",
       "correction             there is not any matched lot, need to review t...\n",
       "cor_trsqq                                                     39S20E0000\n",
       "parcel_id                                                           Many\n",
       "ORTaxlot                                   1939.00S20.00E0000--0000ROADS\n",
       "Name: 1, dtype: object"
      ]
     },
     "execution_count": 56,
     "metadata": {},
     "output_type": "execute_result"
    }
   ],
   "source": [
    "notes.loc[i, ['wetdet_delin_number', 'record_ID', 'trsqq', 'correct_type', 'correction', 'cor_trsqq', 'parcel_id', 'ORTaxlot']]"
   ]
  },
  {
   "cell_type": "code",
   "execution_count": 45,
   "id": "64eeffba",
   "metadata": {},
   "outputs": [
    {
     "name": "stdout",
     "output_type": "stream",
     "text": [
      "coordinate might be incorrect, nearby taxlot is 0915.00S10.00E09BB--000008300, about 35 ft away\n"
     ]
    }
   ],
   "source": [
    "print(notes.loc[i, 'correction'])"
   ]
  },
  {
   "cell_type": "code",
   "execution_count": 57,
   "id": "dc7951ed",
   "metadata": {},
   "outputs": [],
   "source": [
    "wdID = notes.loc[i,'wetdet_delin_number']"
   ]
  },
  {
   "cell_type": "code",
   "execution_count": 58,
   "id": "a5891014",
   "metadata": {
    "scrolled": true
   },
   "outputs": [
    {
     "data": {
      "text/html": [
       "<div>\n",
       "<style scoped>\n",
       "    .dataframe tbody tr th:only-of-type {\n",
       "        vertical-align: middle;\n",
       "    }\n",
       "\n",
       "    .dataframe tbody tr th {\n",
       "        vertical-align: top;\n",
       "    }\n",
       "\n",
       "    .dataframe thead th {\n",
       "        text-align: right;\n",
       "    }\n",
       "</style>\n",
       "<table border=\"1\" class=\"dataframe\">\n",
       "  <thead>\n",
       "    <tr style=\"text-align: right;\">\n",
       "      <th></th>\n",
       "      <th>county</th>\n",
       "      <th>trsqq</th>\n",
       "      <th>parcel_id</th>\n",
       "      <th>latitude</th>\n",
       "      <th>longitude</th>\n",
       "      <th>record_ID</th>\n",
       "      <th>notes</th>\n",
       "    </tr>\n",
       "  </thead>\n",
       "  <tbody>\n",
       "    <tr>\n",
       "      <th>1147</th>\n",
       "      <td>Lake</td>\n",
       "      <td>38S20E09</td>\n",
       "      <td>Many</td>\n",
       "      <td>42.178657</td>\n",
       "      <td>-120.395374</td>\n",
       "      <td>1148</td>\n",
       "      <td>Many</td>\n",
       "    </tr>\n",
       "  </tbody>\n",
       "</table>\n",
       "</div>"
      ],
      "text/plain": [
       "     county     trsqq parcel_id   latitude   longitude  record_ID notes\n",
       "1147   Lake  38S20E09      Many  42.178657 -120.395374       1148  Many"
      ]
     },
     "execution_count": 58,
     "metadata": {},
     "output_type": "execute_result"
    }
   ],
   "source": [
    "selcols = ['county', 'trsqq', 'parcel_id', 'latitude', 'longitude', 'record_ID', 'notes']\n",
    "wd.loc[wd.wetdet_delin_number == wdID, selcols]"
   ]
  },
  {
   "cell_type": "code",
   "execution_count": 16,
   "id": "36c7e7bf",
   "metadata": {},
   "outputs": [
    {
     "data": {
      "text/plain": [
       "'QQ'"
      ]
     },
     "execution_count": 16,
     "metadata": {},
     "output_type": "execute_result"
    }
   ],
   "source": [
    "ctyp = notes.loc[i,'correct_type']#.split(' and ')[1]\n",
    "ctyp"
   ]
  },
  {
   "cell_type": "code",
   "execution_count": 59,
   "id": "9aa93248",
   "metadata": {},
   "outputs": [],
   "source": [
    "ctyp = 'parcel id'"
   ]
  },
  {
   "cell_type": "code",
   "execution_count": 17,
   "id": "3ca02295",
   "metadata": {
    "scrolled": true
   },
   "outputs": [
    {
     "data": {
      "text/plain": [
       "'from 00 to CD'"
      ]
     },
     "execution_count": 17,
     "metadata": {},
     "output_type": "execute_result"
    }
   ],
   "source": [
    "crt = notes.loc[i,'correction']\n",
    "crt"
   ]
  },
  {
   "cell_type": "code",
   "execution_count": 18,
   "id": "0d4da899",
   "metadata": {},
   "outputs": [
    {
     "data": {
      "text/plain": [
       "['00', 'CD']"
      ]
     },
     "execution_count": 18,
     "metadata": {},
     "output_type": "execute_result"
    }
   ],
   "source": [
    "ft = crt.split('from ')[1].split(' to ')\n",
    "ft"
   ]
  },
  {
   "cell_type": "code",
   "execution_count": 60,
   "id": "168c0db1",
   "metadata": {},
   "outputs": [],
   "source": [
    "ft = ['Many', 'ROW']"
   ]
  },
  {
   "cell_type": "code",
   "execution_count": 73,
   "id": "ceef3cd3",
   "metadata": {},
   "outputs": [],
   "source": [
    "ft[0] = '00'"
   ]
  },
  {
   "cell_type": "code",
   "execution_count": 374,
   "id": "f7c4360d",
   "metadata": {},
   "outputs": [],
   "source": [
    "ft[1] = 'DB'"
   ]
  },
  {
   "cell_type": "code",
   "execution_count": 517,
   "id": "28a6e03f",
   "metadata": {},
   "outputs": [],
   "source": [
    "f = crt.split('from ')[1].split(' and ')[0]\n",
    "t = crt.split(' to ')[1].split(' and ')[0]"
   ]
  },
  {
   "cell_type": "code",
   "execution_count": 523,
   "id": "6e76a794",
   "metadata": {},
   "outputs": [],
   "source": [
    "f = crt.split(' and ')[1].split(' to ')[0]\n",
    "t = crt.split(' and ')[2]"
   ]
  },
  {
   "cell_type": "code",
   "execution_count": 524,
   "id": "0a4ea532",
   "metadata": {},
   "outputs": [
    {
     "name": "stdout",
     "output_type": "stream",
     "text": [
      "Q VE\n"
     ]
    }
   ],
   "source": [
    "print(f, t)"
   ]
  },
  {
   "cell_type": "code",
   "execution_count": 61,
   "id": "d51acc68",
   "metadata": {},
   "outputs": [
    {
     "data": {
      "text/plain": [
       "1148"
      ]
     },
     "execution_count": 61,
     "metadata": {},
     "output_type": "execute_result"
    }
   ],
   "source": [
    "rID = notes.loc[i,'record_ID']\n",
    "rID"
   ]
  },
  {
   "cell_type": "code",
   "execution_count": 66,
   "id": "9a976998",
   "metadata": {},
   "outputs": [],
   "source": [
    "df = pd.read_csv(os.path.join(inpath + '\\\\output\\\\to_review\\\\', f'unmatched_df_{setID}_r2_{ml}_notes.csv'))"
   ]
  },
  {
   "cell_type": "code",
   "execution_count": 63,
   "id": "b24eb3be",
   "metadata": {},
   "outputs": [],
   "source": [
    "df = df.append({'wetdet_delin_number': wdID, 'record_ID': rID, 'field': 'trsqq', 'cor_type': ctyp, 'from': ft[0], 'to': ft[1]},\n",
    "        ignore_index = True)"
   ]
  },
  {
   "cell_type": "code",
   "execution_count": 67,
   "id": "92c4878c",
   "metadata": {},
   "outputs": [],
   "source": [
    "df = df.append({'wetdet_delin_number': wdID, 'record_ID': rID, 'field': 'parcel id', 'cor_type': ctyp, 'from': ft[0], 'to': ft[1]},\n",
    "        ignore_index = True)"
   ]
  },
  {
   "cell_type": "code",
   "execution_count": 525,
   "id": "ed8d3195",
   "metadata": {},
   "outputs": [],
   "source": [
    "df = df.append({'wetdet_delin_number': wdID, 'record_ID': rID, 'field': 'trsqq', 'cor_type': ctyp, 'from': f, 'to': t},\n",
    "        ignore_index = True)"
   ]
  },
  {
   "cell_type": "code",
   "execution_count": 597,
   "id": "51fedf38",
   "metadata": {},
   "outputs": [],
   "source": [
    "df = df.append({'wetdet_delin_number': wdID, 'record_ID': rID, 'field': 'county', 'cor_type': 'county', 'from': 'Benton', 'to': 'Polk'},\n",
    "        ignore_index = True)"
   ]
  },
  {
   "cell_type": "code",
   "execution_count": 71,
   "id": "168bf084",
   "metadata": {},
   "outputs": [
    {
     "data": {
      "text/html": [
       "<div>\n",
       "<style scoped>\n",
       "    .dataframe tbody tr th:only-of-type {\n",
       "        vertical-align: middle;\n",
       "    }\n",
       "\n",
       "    .dataframe tbody tr th {\n",
       "        vertical-align: top;\n",
       "    }\n",
       "\n",
       "    .dataframe thead th {\n",
       "        text-align: right;\n",
       "    }\n",
       "</style>\n",
       "<table border=\"1\" class=\"dataframe\">\n",
       "  <thead>\n",
       "    <tr style=\"text-align: right;\">\n",
       "      <th></th>\n",
       "      <th>wetdet_delin_number</th>\n",
       "      <th>record_ID</th>\n",
       "      <th>field</th>\n",
       "      <th>cor_type</th>\n",
       "      <th>from</th>\n",
       "      <th>to</th>\n",
       "    </tr>\n",
       "  </thead>\n",
       "  <tbody>\n",
       "    <tr>\n",
       "      <th>0</th>\n",
       "      <td>WD2018-0124</td>\n",
       "      <td>1089</td>\n",
       "      <td>trsqq</td>\n",
       "      <td>QQ</td>\n",
       "      <td>0</td>\n",
       "      <td>CD</td>\n",
       "    </tr>\n",
       "    <tr>\n",
       "      <th>1</th>\n",
       "      <td>WD2021-0703</td>\n",
       "      <td>1148</td>\n",
       "      <td>trsqq</td>\n",
       "      <td>section number</td>\n",
       "      <td>9</td>\n",
       "      <td>00</td>\n",
       "    </tr>\n",
       "    <tr>\n",
       "      <th>2</th>\n",
       "      <td>WD2021-0703</td>\n",
       "      <td>1148</td>\n",
       "      <td>parcel_id</td>\n",
       "      <td>parcel id</td>\n",
       "      <td>Many</td>\n",
       "      <td>ROW</td>\n",
       "    </tr>\n",
       "  </tbody>\n",
       "</table>\n",
       "</div>"
      ],
      "text/plain": [
       "  wetdet_delin_number  record_ID      field        cor_type  from   to\n",
       "0         WD2018-0124       1089      trsqq              QQ     0   CD\n",
       "1         WD2021-0703       1148      trsqq  section number     9   00\n",
       "2         WD2021-0703       1148  parcel_id       parcel id  Many  ROW"
      ]
     },
     "execution_count": 71,
     "metadata": {},
     "output_type": "execute_result"
    }
   ],
   "source": [
    "df.tail(5)"
   ]
  },
  {
   "cell_type": "code",
   "execution_count": 70,
   "id": "c1e39272",
   "metadata": {},
   "outputs": [],
   "source": [
    "df.loc[2, 'field'] = 'parcel_id'"
   ]
  },
  {
   "cell_type": "code",
   "execution_count": 72,
   "id": "3aeecdf0",
   "metadata": {},
   "outputs": [],
   "source": [
    "df.to_csv(os.path.join(inpath + '\\\\output\\\\to_review\\\\', f'unmatched_df_{setID}_r2_{ml}_notes.csv'), index=False)"
   ]
  },
  {
   "cell_type": "code",
   "execution_count": 400,
   "id": "5d3f8a8a",
   "metadata": {},
   "outputs": [
    {
     "data": {
      "text/plain": [
       "(28, 6)"
      ]
     },
     "execution_count": 400,
     "metadata": {},
     "output_type": "execute_result"
    }
   ],
   "source": [
    "df.shape"
   ]
  },
  {
   "cell_type": "code",
   "execution_count": 636,
   "id": "ceaeae91",
   "metadata": {},
   "outputs": [],
   "source": [
    "df = pd.DataFrame(columns = ['wetdet_delin_number', 'field', 'cor_type', 'from', 'to'])"
   ]
  },
  {
   "cell_type": "code",
   "execution_count": 349,
   "id": "d94d57cf",
   "metadata": {},
   "outputs": [
    {
     "data": {
      "text/plain": [
       "'WD2020-0668'"
      ]
     },
     "execution_count": 349,
     "metadata": {},
     "output_type": "execute_result"
    }
   ],
   "source": [
    "wdID"
   ]
  },
  {
   "cell_type": "code",
   "execution_count": 171,
   "id": "23d5a67e",
   "metadata": {},
   "outputs": [
    {
     "data": {
      "text/plain": [
       "True"
      ]
     },
     "execution_count": 171,
     "metadata": {},
     "output_type": "execute_result"
    }
   ],
   "source": [
    "url = wd.loc[wd.wetdet_delin_number == 'WD2018-0522', 'DecisionLink'].values[0]\n",
    "webbrowser.open(url)"
   ]
  },
  {
   "cell_type": "code",
   "execution_count": 350,
   "id": "059d2852",
   "metadata": {},
   "outputs": [
    {
     "name": "stdout",
     "output_type": "stream",
     "text": [
      "1\n",
      "2\n"
     ]
    }
   ],
   "source": [
    "for i in range(1, 3):\n",
    "    extract_page_from_docLink(url=url, pageNm=i, wdID=wdID)\n",
    "#     extract_page_from_locPath(filePath=r'T:\\DCProjects\\EPA-WD\\docs\\WD20210179 Agency Decision.pdf', \n",
    "#                           pageNm=i, wdID='WD2021-0179')\n",
    "    print(i)"
   ]
  },
  {
   "cell_type": "code",
   "execution_count": 7,
   "id": "31c44579",
   "metadata": {},
   "outputs": [],
   "source": [
    "setgdf = gpd.read_file(os.path.join(inpath, 'GIS', 'Join_Statewide.gdb'), layer=f'WD_{setID}_Combined')"
   ]
  },
  {
   "cell_type": "code",
   "execution_count": 52,
   "id": "d16af7b7",
   "metadata": {},
   "outputs": [],
   "source": [
    "rev_r2 = pd.read_csv(os.path.join(inpath + '\\\\output\\\\to_review\\\\', f'review_unmatched_{setID}_r2_{ml}_0.csv'))"
   ]
  },
  {
   "cell_type": "code",
   "execution_count": 53,
   "id": "c365d340",
   "metadata": {},
   "outputs": [
    {
     "data": {
      "text/html": [
       "<div>\n",
       "<style scoped>\n",
       "    .dataframe tbody tr th:only-of-type {\n",
       "        vertical-align: middle;\n",
       "    }\n",
       "\n",
       "    .dataframe tbody tr th {\n",
       "        vertical-align: top;\n",
       "    }\n",
       "\n",
       "    .dataframe thead th {\n",
       "        text-align: right;\n",
       "    }\n",
       "</style>\n",
       "<table border=\"1\" class=\"dataframe\">\n",
       "  <thead>\n",
       "    <tr style=\"text-align: right;\">\n",
       "      <th></th>\n",
       "      <th>wetdet_delin_number</th>\n",
       "      <th>trsqq</th>\n",
       "      <th>parcel_id</th>\n",
       "      <th>county</th>\n",
       "      <th>latitude</th>\n",
       "      <th>longitude</th>\n",
       "      <th>DecisionLink</th>\n",
       "      <th>record_ID</th>\n",
       "      <th>IDyear</th>\n",
       "      <th>correct_type</th>\n",
       "      <th>correction</th>\n",
       "      <th>cor_trsqq</th>\n",
       "      <th>ORTaxlot</th>\n",
       "    </tr>\n",
       "  </thead>\n",
       "  <tbody>\n",
       "    <tr>\n",
       "      <th>0</th>\n",
       "      <td>WD2018-0124</td>\n",
       "      <td>39S20E21</td>\n",
       "      <td>ROWs</td>\n",
       "      <td>Lake</td>\n",
       "      <td>42.164626</td>\n",
       "      <td>-120.366529</td>\n",
       "      <td>https://docs.dsl.state.or.us/PublicReview/docv...</td>\n",
       "      <td>1089</td>\n",
       "      <td>2018</td>\n",
       "      <td>QQ</td>\n",
       "      <td>from 00 to CD</td>\n",
       "      <td>39S20E21CD</td>\n",
       "      <td>1939.00S20.00E21CD--0000ROADS</td>\n",
       "    </tr>\n",
       "    <tr>\n",
       "      <th>1</th>\n",
       "      <td>WD2021-0703</td>\n",
       "      <td>38S20E09</td>\n",
       "      <td>Many</td>\n",
       "      <td>Lake</td>\n",
       "      <td>42.178657</td>\n",
       "      <td>-120.395374</td>\n",
       "      <td>NaN</td>\n",
       "      <td>1148</td>\n",
       "      <td>2021</td>\n",
       "      <td>to review</td>\n",
       "      <td>there is not any matched lot, need to review t...</td>\n",
       "      <td>39S20E0000</td>\n",
       "      <td>1939.00S20.00E0000--0000ROADS</td>\n",
       "    </tr>\n",
       "    <tr>\n",
       "      <th>2</th>\n",
       "      <td>WD2018-0281</td>\n",
       "      <td>25S13W04</td>\n",
       "      <td>MANY</td>\n",
       "      <td>Coos</td>\n",
       "      <td>43.432600</td>\n",
       "      <td>-124.240200</td>\n",
       "      <td>https://docs.dsl.state.or.us/PublicReview/Elec...</td>\n",
       "      <td>209</td>\n",
       "      <td>2018</td>\n",
       "      <td>to review</td>\n",
       "      <td>there is not any matched lot, need to review t...</td>\n",
       "      <td>25S13W0300</td>\n",
       "      <td>0625.00S13.00W0300--000000200</td>\n",
       "    </tr>\n",
       "    <tr>\n",
       "      <th>3</th>\n",
       "      <td>WD2019-0124</td>\n",
       "      <td>36S02W28</td>\n",
       "      <td>Many,ROW,All part</td>\n",
       "      <td>Jackson</td>\n",
       "      <td>42.419580</td>\n",
       "      <td>-122.954460</td>\n",
       "      <td>https://docs.dsl.state.or.us/PublicReview/Elec...</td>\n",
       "      <td>807</td>\n",
       "      <td>2019</td>\n",
       "      <td>to review</td>\n",
       "      <td>there is not any matched lot, need to review t...</td>\n",
       "      <td>36S02W2100</td>\n",
       "      <td>1536.00S02.00W2100--000001300</td>\n",
       "    </tr>\n",
       "    <tr>\n",
       "      <th>4</th>\n",
       "      <td>WD2022-0261</td>\n",
       "      <td>29S15W12</td>\n",
       "      <td>ROW</td>\n",
       "      <td>Coos</td>\n",
       "      <td>43.081203</td>\n",
       "      <td>-124.430481</td>\n",
       "      <td>NaN</td>\n",
       "      <td>327</td>\n",
       "      <td>2022</td>\n",
       "      <td>coordinate</td>\n",
       "      <td>coordinate might be incorrect, nearby taxlot i...</td>\n",
       "      <td>29S15W12</td>\n",
       "      <td>0629.00S15.00W1200--000000100</td>\n",
       "    </tr>\n",
       "    <tr>\n",
       "      <th>5</th>\n",
       "      <td>WD2022-0087</td>\n",
       "      <td>15S10E09BB</td>\n",
       "      <td>Elm St ROW</td>\n",
       "      <td>Deschutes</td>\n",
       "      <td>44.288619</td>\n",
       "      <td>-121.549925</td>\n",
       "      <td>https://docs.dsl.state.or.us/PublicReview/Elec...</td>\n",
       "      <td>559</td>\n",
       "      <td>2022</td>\n",
       "      <td>coordinate</td>\n",
       "      <td>coordinate might be incorrect, nearby taxlot i...</td>\n",
       "      <td>15S10E09BB</td>\n",
       "      <td>0915.00S10.00E09BB--000008300</td>\n",
       "    </tr>\n",
       "  </tbody>\n",
       "</table>\n",
       "</div>"
      ],
      "text/plain": [
       "  wetdet_delin_number       trsqq          parcel_id     county   latitude  \\\n",
       "0         WD2018-0124    39S20E21               ROWs       Lake  42.164626   \n",
       "1         WD2021-0703    38S20E09               Many       Lake  42.178657   \n",
       "2         WD2018-0281    25S13W04               MANY       Coos  43.432600   \n",
       "3         WD2019-0124    36S02W28  Many,ROW,All part    Jackson  42.419580   \n",
       "4         WD2022-0261    29S15W12                ROW       Coos  43.081203   \n",
       "5         WD2022-0087  15S10E09BB         Elm St ROW  Deschutes  44.288619   \n",
       "\n",
       "    longitude                                       DecisionLink  record_ID  \\\n",
       "0 -120.366529  https://docs.dsl.state.or.us/PublicReview/docv...       1089   \n",
       "1 -120.395374                                                NaN       1148   \n",
       "2 -124.240200  https://docs.dsl.state.or.us/PublicReview/Elec...        209   \n",
       "3 -122.954460  https://docs.dsl.state.or.us/PublicReview/Elec...        807   \n",
       "4 -124.430481                                                NaN        327   \n",
       "5 -121.549925  https://docs.dsl.state.or.us/PublicReview/Elec...        559   \n",
       "\n",
       "   IDyear correct_type                                         correction  \\\n",
       "0    2018           QQ                                      from 00 to CD   \n",
       "1    2021    to review  there is not any matched lot, need to review t...   \n",
       "2    2018    to review  there is not any matched lot, need to review t...   \n",
       "3    2019    to review  there is not any matched lot, need to review t...   \n",
       "4    2022   coordinate  coordinate might be incorrect, nearby taxlot i...   \n",
       "5    2022   coordinate  coordinate might be incorrect, nearby taxlot i...   \n",
       "\n",
       "    cor_trsqq                       ORTaxlot  \n",
       "0  39S20E21CD  1939.00S20.00E21CD--0000ROADS  \n",
       "1  39S20E0000  1939.00S20.00E0000--0000ROADS  \n",
       "2  25S13W0300  0625.00S13.00W0300--000000200  \n",
       "3  36S02W2100  1536.00S02.00W2100--000001300  \n",
       "4    29S15W12  0629.00S15.00W1200--000000100  \n",
       "5  15S10E09BB  0915.00S10.00E09BB--000008300  "
      ]
     },
     "execution_count": 53,
     "metadata": {},
     "output_type": "execute_result"
    }
   ],
   "source": [
    "rev_r2"
   ]
  },
  {
   "cell_type": "code",
   "execution_count": 10,
   "id": "e4b35f1a",
   "metadata": {},
   "outputs": [],
   "source": [
    "i=0"
   ]
  },
  {
   "cell_type": "code",
   "execution_count": null,
   "id": "9a432bde",
   "metadata": {},
   "outputs": [],
   "source": [
    "i=i+1"
   ]
  },
  {
   "cell_type": "code",
   "execution_count": 11,
   "id": "451c42c7",
   "metadata": {},
   "outputs": [
    {
     "data": {
      "text/plain": [
       "Index(['wetdet_delin_number', 'trsqq', 'parcel_id', 'county', 'latitude',\n",
       "       'longitude', 'DecisionLink', 'record_ID', 'IDyear', 'correct_type',\n",
       "       'correction', 'cor_trsqq', 'ORTaxlot'],\n",
       "      dtype='object')"
      ]
     },
     "execution_count": 11,
     "metadata": {},
     "output_type": "execute_result"
    }
   ],
   "source": [
    "rev_r2.columns"
   ]
  },
  {
   "cell_type": "code",
   "execution_count": 54,
   "id": "207cb90e",
   "metadata": {},
   "outputs": [
    {
     "data": {
      "text/plain": [
       "wetdet_delin_number                                          WD2021-0703\n",
       "trsqq                                                           38S20E09\n",
       "parcel_id                                                           Many\n",
       "county                                                              Lake\n",
       "latitude                                                       42.178657\n",
       "longitude                                                    -120.395374\n",
       "DecisionLink                                                         NaN\n",
       "record_ID                                                           1148\n",
       "IDyear                                                              2021\n",
       "correct_type                                                   to review\n",
       "correction             there is not any matched lot, need to review t...\n",
       "cor_trsqq                                                     39S20E0000\n",
       "ORTaxlot                                   1939.00S20.00E0000--0000ROADS\n",
       "Name: 1, dtype: object"
      ]
     },
     "execution_count": 54,
     "metadata": {},
     "output_type": "execute_result"
    }
   ],
   "source": [
    "rev_r2.loc[1, :]"
   ]
  },
  {
   "cell_type": "code",
   "execution_count": 75,
   "id": "92b8034d",
   "metadata": {},
   "outputs": [],
   "source": [
    "notes = pd.read_csv(os.path.join(inpath + '\\\\output\\\\to_review\\\\unmatched_df_Set001_r2_Y_notes.csv'))"
   ]
  },
  {
   "cell_type": "code",
   "execution_count": 76,
   "id": "5d7daf88",
   "metadata": {},
   "outputs": [
    {
     "data": {
      "text/html": [
       "<div>\n",
       "<style scoped>\n",
       "    .dataframe tbody tr th:only-of-type {\n",
       "        vertical-align: middle;\n",
       "    }\n",
       "\n",
       "    .dataframe tbody tr th {\n",
       "        vertical-align: top;\n",
       "    }\n",
       "\n",
       "    .dataframe thead th {\n",
       "        text-align: right;\n",
       "    }\n",
       "</style>\n",
       "<table border=\"1\" class=\"dataframe\">\n",
       "  <thead>\n",
       "    <tr style=\"text-align: right;\">\n",
       "      <th></th>\n",
       "      <th>wetdet_delin_number</th>\n",
       "      <th>record_ID</th>\n",
       "      <th>field</th>\n",
       "      <th>cor_type</th>\n",
       "      <th>from</th>\n",
       "      <th>to</th>\n",
       "    </tr>\n",
       "  </thead>\n",
       "  <tbody>\n",
       "    <tr>\n",
       "      <th>0</th>\n",
       "      <td>WD2018-0124</td>\n",
       "      <td>1089</td>\n",
       "      <td>trsqq</td>\n",
       "      <td>QQ</td>\n",
       "      <td>00</td>\n",
       "      <td>CD</td>\n",
       "    </tr>\n",
       "    <tr>\n",
       "      <th>1</th>\n",
       "      <td>WD2021-0703</td>\n",
       "      <td>1148</td>\n",
       "      <td>trsqq</td>\n",
       "      <td>section number</td>\n",
       "      <td>09</td>\n",
       "      <td>00</td>\n",
       "    </tr>\n",
       "    <tr>\n",
       "      <th>2</th>\n",
       "      <td>WD2021-0703</td>\n",
       "      <td>1148</td>\n",
       "      <td>parcel_id</td>\n",
       "      <td>parcel id</td>\n",
       "      <td>Many</td>\n",
       "      <td>ROW</td>\n",
       "    </tr>\n",
       "  </tbody>\n",
       "</table>\n",
       "</div>"
      ],
      "text/plain": [
       "  wetdet_delin_number  record_ID      field        cor_type  from   to\n",
       "0         WD2018-0124       1089      trsqq              QQ    00   CD\n",
       "1         WD2021-0703       1148      trsqq  section number    09   00\n",
       "2         WD2021-0703       1148  parcel_id       parcel id  Many  ROW"
      ]
     },
     "execution_count": 76,
     "metadata": {},
     "output_type": "execute_result"
    }
   ],
   "source": [
    "adjust_cor_from_to(notes)"
   ]
  }
 ],
 "metadata": {
  "kernelspec": {
   "display_name": "Python 3",
   "language": "python",
   "name": "python3"
  },
  "language_info": {
   "codemirror_mode": {
    "name": "ipython",
    "version": 3
   },
   "file_extension": ".py",
   "mimetype": "text/x-python",
   "name": "python",
   "nbconvert_exporter": "python",
   "pygments_lexer": "ipython3",
   "version": "3.8.8"
  }
 },
 "nbformat": 4,
 "nbformat_minor": 5
}
