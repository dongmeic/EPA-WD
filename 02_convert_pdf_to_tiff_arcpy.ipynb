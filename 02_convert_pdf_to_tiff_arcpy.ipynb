{
 "cells": [
  {
   "cell_type": "code",
   "execution_count": 1,
   "id": "ab5d3696",
   "metadata": {},
   "outputs": [],
   "source": [
    "import arcpy"
   ]
  },
  {
   "cell_type": "code",
   "execution_count": 2,
   "id": "f46160b6",
   "metadata": {},
   "outputs": [],
   "source": [
    "outpath = r'L:\\NaturalResources\\Wetlands\\Local Wetland Inventory\\WAPO\\EPA_2022_Tasks\\Task 1 WD Mapping'\n",
    "path_to_scanned_maps = outpath + '\\\\output\\\\pdf'\n",
    "path_to_output_folder = outpath + '\\\\output\\\\georef'"
   ]
  },
  {
   "cell_type": "code",
   "execution_count": 3,
   "id": "b4cb3e9f",
   "metadata": {},
   "outputs": [],
   "source": [
    "arcpy.env.overwriteOutput = True"
   ]
  },
  {
   "cell_type": "code",
   "execution_count": 35,
   "id": "121e37fb",
   "metadata": {},
   "outputs": [
    {
     "data": {
      "text/html": [
       "<div class='gpresult'><h2>Messages</h2><div id='messages' data-messages='[\"WARNING 003460: The pdf document contains no spatial information\",\"PDF spatial reference format: None\",\"Rasterizing PDF to TIFF ...\",\"Succeeded at Saturday, May 6, 2023 12:38:40 AM (Elapsed Time: 0.41 seconds)\"]' data-show='true'><div id = 'default' /></div></div>"
      ],
      "text/plain": [
       "<Result 'L:\\\\NaturalResources\\\\Wetlands\\\\Local Wetland Inventory\\\\WAPO\\\\EPA_2022_Tasks\\\\Task 1 WD Mapping\\\\output\\\\georef\\\\WD2020-0480_4.tif'>"
      ]
     },
     "execution_count": 35,
     "metadata": {},
     "output_type": "execute_result"
    }
   ],
   "source": [
    "filename = 'WD2020-0480_4'\n",
    "inPDF = path_to_scanned_maps + f'\\\\{filename}.pdf'\n",
    "outTIFF = path_to_output_folder + f'\\\\{filename}.tif'\n",
    "arcpy.conversion.PDFToTIFF(inPDF, outTIFF)"
   ]
  },
  {
   "cell_type": "code",
   "execution_count": 20,
   "id": "fc8a770e",
   "metadata": {},
   "outputs": [],
   "source": [
    "path = outpath + '\\\\GIS'"
   ]
  },
  {
   "cell_type": "code",
   "execution_count": 22,
   "id": "5ba2718d",
   "metadata": {},
   "outputs": [],
   "source": [
    "aprx = arcpy.mp.ArcGISProject(path + \"\\\\WD_Data_Review.aprx\")"
   ]
  },
  {
   "cell_type": "code",
   "execution_count": 23,
   "id": "7ee91fae",
   "metadata": {},
   "outputs": [],
   "source": [
    "aprxMap = aprx.listMaps()[0]"
   ]
  },
  {
   "cell_type": "code",
   "execution_count": 24,
   "id": "680212b6",
   "metadata": {},
   "outputs": [
    {
     "data": {
      "text/plain": [
       "<arcpy._mp.Layer at 0x1b1df7d2e50>"
      ]
     },
     "execution_count": 24,
     "metadata": {},
     "output_type": "execute_result"
    }
   ],
   "source": [
    "aprxMap.addDataFromPath(outTIFF)"
   ]
  },
  {
   "cell_type": "code",
   "execution_count": 34,
   "id": "966c1237",
   "metadata": {},
   "outputs": [
    {
     "name": "stdout",
     "output_type": "stream",
     "text": [
      "6\n",
      "7\n",
      "8\n",
      "9\n",
      "10\n",
      "11\n"
     ]
    }
   ],
   "source": [
    "wdID = 'WD2020-0453'\n",
    "for i in range(6, 12):\n",
    "    filename = f'{wdID}_{i}'\n",
    "    inPDF = path_to_scanned_maps + f'\\\\{filename}.pdf'\n",
    "    outTIFF = path_to_output_folder + f'\\\\{filename}.tif'\n",
    "    arcpy.conversion.PDFToTIFF(inPDF, outTIFF)\n",
    "    print(i)"
   ]
  },
  {
   "cell_type": "code",
   "execution_count": 17,
   "id": "cb014c47",
   "metadata": {},
   "outputs": [],
   "source": [
    "for i in range(22, 55):\n",
    "    filename = f'WD2019-0615_{i+1}'\n",
    "    inPDF = path_to_scanned_maps + f'\\\\{filename}.pdf'\n",
    "    outTIFF = path_to_output_folder + f'\\\\{filename}.tif'\n",
    "    arcpy.conversion.PDFToTIFF(inPDF, outTIFF)"
   ]
  },
  {
   "cell_type": "code",
   "execution_count": 5,
   "id": "00032188",
   "metadata": {},
   "outputs": [],
   "source": [
    "# test\n",
    "from arcgis.learn import ScannedMapDigitizer\n",
    "smd = ScannedMapDigitizer(path_to_scanned_maps, path_to_output_folder)"
   ]
  }
 ],
 "metadata": {
  "kernelspec": {
   "display_name": "Python 3",
   "language": "python",
   "name": "python3"
  },
  "language_info": {
   "codemirror_mode": {
    "name": "ipython",
    "version": 3
   },
   "file_extension": ".py",
   "mimetype": "text/x-python",
   "name": "python",
   "nbconvert_exporter": "python",
   "pygments_lexer": "ipython3",
   "version": "3.9.11"
  }
 },
 "nbformat": 4,
 "nbformat_minor": 5
}
