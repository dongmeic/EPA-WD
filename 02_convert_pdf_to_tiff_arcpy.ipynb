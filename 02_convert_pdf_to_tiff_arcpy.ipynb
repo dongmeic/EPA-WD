{
 "cells": [
  {
   "cell_type": "code",
   "execution_count": 1,
   "id": "def9f5c7",
   "metadata": {},
   "outputs": [],
   "source": [
    "import arcpy"
   ]
  },
  {
   "cell_type": "code",
   "execution_count": 2,
   "id": "05698feb",
   "metadata": {},
   "outputs": [],
   "source": [
    "outpath = r'L:\\NaturalResources\\Wetlands\\Local Wetland Inventory\\WAPO\\EPA_2022_Tasks\\Task 1 WD Mapping\\output'\n",
    "path_to_scanned_maps = outpath + '\\\\pdf'\n",
    "path_to_output_folder = outpath + '\\\\georef'"
   ]
  },
  {
   "cell_type": "code",
   "execution_count": 3,
   "id": "f5bf2dfa",
   "metadata": {},
   "outputs": [],
   "source": [
    "arcpy.env.overwriteOutput = True"
   ]
  },
  {
   "cell_type": "code",
   "execution_count": 41,
   "id": "b437e87a",
   "metadata": {},
   "outputs": [
    {
     "data": {
      "text/html": [
       "<div class='gpresult'><h2>Messages</h2><div id='messages' data-messages='[\"WARNING 003460: The pdf document contains no spatial information\",\"PDF spatial reference format: None\",\"Rasterizing PDF to TIFF ...\",\"Succeeded at Saturday, March 18, 2023 4:18:23 PM (Elapsed Time: 0.54 seconds)\"]' data-show='true'><div id = 'default' /></div></div>"
      ],
      "text/plain": [
       "<Result 'L:\\\\NaturalResources\\\\Wetlands\\\\Local Wetland Inventory\\\\WAPO\\\\EPA_2022_Tasks\\\\Task 1 WD Mapping\\\\output\\\\georef\\\\WD2022-0252_5.tif'>"
      ]
     },
     "execution_count": 41,
     "metadata": {},
     "output_type": "execute_result"
    }
   ],
   "source": [
    "filename = 'WD2022-0252_5'\n",
    "inPDF = path_to_scanned_maps + f'\\\\{filename}.pdf'\n",
    "outTIFF = path_to_output_folder + f'\\\\{filename}.tif'\n",
    "arcpy.conversion.PDFToTIFF(inPDF, outTIFF)"
   ]
  },
  {
   "cell_type": "code",
   "execution_count": 19,
   "id": "cfc69c9a",
   "metadata": {},
   "outputs": [
    {
     "name": "stdout",
     "output_type": "stream",
     "text": [
      "9\n",
      "10\n",
      "11\n",
      "12\n",
      "13\n",
      "14\n",
      "15\n",
      "16\n"
     ]
    }
   ],
   "source": [
    "for i in range(9, 17):\n",
    "    filename = f'WD2021-0548_{i}'\n",
    "    inPDF = path_to_scanned_maps + f'\\\\{filename}.pdf'\n",
    "    outTIFF = path_to_output_folder + f'\\\\{filename}.tif'\n",
    "    arcpy.conversion.PDFToTIFF(inPDF, outTIFF)\n",
    "    print(i)"
   ]
  },
  {
   "cell_type": "code",
   "execution_count": 17,
   "id": "fe50c048",
   "metadata": {},
   "outputs": [],
   "source": [
    "for i in range(22, 55):\n",
    "    filename = f'WD2019-0615_{i+1}'\n",
    "    inPDF = path_to_scanned_maps + f'\\\\{filename}.pdf'\n",
    "    outTIFF = path_to_output_folder + f'\\\\{filename}.tif'\n",
    "    arcpy.conversion.PDFToTIFF(inPDF, outTIFF)"
   ]
  },
  {
   "cell_type": "code",
   "execution_count": 5,
   "id": "2317c041",
   "metadata": {},
   "outputs": [],
   "source": [
    "# test\n",
    "from arcgis.learn import ScannedMapDigitizer\n",
    "smd = ScannedMapDigitizer(path_to_scanned_maps, path_to_output_folder)"
   ]
  }
 ],
 "metadata": {
  "kernelspec": {
   "display_name": "Python 3",
   "language": "python",
   "name": "python3"
  },
  "language_info": {
   "codemirror_mode": {
    "name": "ipython",
    "version": 3
   },
   "file_extension": ".py",
   "mimetype": "text/x-python",
   "name": "python",
   "nbconvert_exporter": "python",
   "pygments_lexer": "ipython3",
   "version": "3.9.11"
  }
 },
 "nbformat": 4,
 "nbformat_minor": 5
}
