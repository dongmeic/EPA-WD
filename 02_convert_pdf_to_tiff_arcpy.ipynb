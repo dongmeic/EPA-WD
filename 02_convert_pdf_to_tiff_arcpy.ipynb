{
 "cells": [
  {
   "cell_type": "code",
   "execution_count": 1,
   "id": "9dc149ec",
   "metadata": {},
   "outputs": [],
   "source": [
    "import arcpy"
   ]
  },
  {
   "cell_type": "code",
   "execution_count": 2,
   "id": "0a838e8b",
   "metadata": {},
   "outputs": [],
   "source": [
    "outpath = r'L:\\NaturalResources\\Wetlands\\Local Wetland Inventory\\WAPO\\EPA_2022_Tasks\\Task 1 WD Mapping\\output'\n",
    "path_to_scanned_maps = outpath + '\\\\pdf'\n",
    "path_to_output_folder = outpath + '\\\\georef'"
   ]
  },
  {
   "cell_type": "code",
   "execution_count": 3,
   "id": "421ee13c",
   "metadata": {},
   "outputs": [],
   "source": [
    "arcpy.env.overwriteOutput = True"
   ]
  },
  {
   "cell_type": "code",
   "execution_count": 43,
   "id": "4c840f3c",
   "metadata": {},
   "outputs": [
    {
     "data": {
      "text/html": [
       "<div class='gpresult'><h2>Messages</h2><div id='messages' data-messages='[\"WARNING 003460: The pdf document contains no spatial information\",\"PDF spatial reference format: None\",\"Rasterizing PDF to TIFF ...\",\"Succeeded at Wednesday, March 22, 2023 3:00:22 AM (Elapsed Time: 0.60 seconds)\"]' data-show='true'><div id = 'default' /></div></div>"
      ],
      "text/plain": [
       "<Result 'L:\\\\NaturalResources\\\\Wetlands\\\\Local Wetland Inventory\\\\WAPO\\\\EPA_2022_Tasks\\\\Task 1 WD Mapping\\\\output\\\\georef\\\\WD2019-0060_9.tif'>"
      ]
     },
     "execution_count": 43,
     "metadata": {},
     "output_type": "execute_result"
    }
   ],
   "source": [
    "filename = 'WD2019-0060_9'\n",
    "inPDF = path_to_scanned_maps + f'\\\\{filename}.pdf'\n",
    "outTIFF = path_to_output_folder + f'\\\\{filename}.tif'\n",
    "arcpy.conversion.PDFToTIFF(inPDF, outTIFF)"
   ]
  },
  {
   "cell_type": "code",
   "execution_count": 19,
   "id": "2c73e531",
   "metadata": {},
   "outputs": [
    {
     "name": "stdout",
     "output_type": "stream",
     "text": [
      "9\n",
      "10\n",
      "11\n",
      "12\n",
      "13\n",
      "14\n",
      "15\n",
      "16\n"
     ]
    }
   ],
   "source": [
    "for i in range(9, 17):\n",
    "    filename = f'WD2021-0548_{i}'\n",
    "    inPDF = path_to_scanned_maps + f'\\\\{filename}.pdf'\n",
    "    outTIFF = path_to_output_folder + f'\\\\{filename}.tif'\n",
    "    arcpy.conversion.PDFToTIFF(inPDF, outTIFF)\n",
    "    print(i)"
   ]
  },
  {
   "cell_type": "code",
   "execution_count": 17,
   "id": "8219d9a7",
   "metadata": {},
   "outputs": [],
   "source": [
    "for i in range(22, 55):\n",
    "    filename = f'WD2019-0615_{i+1}'\n",
    "    inPDF = path_to_scanned_maps + f'\\\\{filename}.pdf'\n",
    "    outTIFF = path_to_output_folder + f'\\\\{filename}.tif'\n",
    "    arcpy.conversion.PDFToTIFF(inPDF, outTIFF)"
   ]
  },
  {
   "cell_type": "code",
   "execution_count": 5,
   "id": "9c95ebf6",
   "metadata": {},
   "outputs": [],
   "source": [
    "# test\n",
    "from arcgis.learn import ScannedMapDigitizer\n",
    "smd = ScannedMapDigitizer(path_to_scanned_maps, path_to_output_folder)"
   ]
  }
 ],
 "metadata": {
  "kernelspec": {
   "display_name": "Python 3",
   "language": "python",
   "name": "python3"
  },
  "language_info": {
   "codemirror_mode": {
    "name": "ipython",
    "version": 3
   },
   "file_extension": ".py",
   "mimetype": "text/x-python",
   "name": "python",
   "nbconvert_exporter": "python",
   "pygments_lexer": "ipython3",
   "version": "3.9.11"
  }
 },
 "nbformat": 4,
 "nbformat_minor": 5
}
