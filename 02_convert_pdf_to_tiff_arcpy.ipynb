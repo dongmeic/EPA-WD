{
 "cells": [
  {
   "cell_type": "code",
   "execution_count": 7,
   "id": "90526d2f",
   "metadata": {},
   "outputs": [],
   "source": [
    "import arcpy"
   ]
  },
  {
   "cell_type": "code",
   "execution_count": 8,
   "id": "caadcc05",
   "metadata": {},
   "outputs": [],
   "source": [
    "outpath = r'L:\\NaturalResources\\Wetlands\\Local Wetland Inventory\\WAPO\\EPA_2022_Tasks\\Task 1 WD Mapping\\output'\n",
    "path_to_scanned_maps = outpath + '\\\\pdf'\n",
    "path_to_output_folder = outpath + '\\\\georef'"
   ]
  },
  {
   "cell_type": "code",
   "execution_count": 46,
   "id": "f26356dc",
   "metadata": {},
   "outputs": [],
   "source": [
    "# 'WD2021-0624_4', 'WD2017-0416_6', 'WD2017-0287_7', 'WD2017-0445', 'WD2018-0363_4', 'WD2019-0130_5', 'WD2019-0281_6'\n",
    "filename = 'WD2022-0251_7'"
   ]
  },
  {
   "cell_type": "code",
   "execution_count": 47,
   "id": "ec957efb",
   "metadata": {},
   "outputs": [],
   "source": [
    "inPDF = path_to_scanned_maps + f'\\\\{filename}.pdf'\n",
    "outTIFF = path_to_output_folder + f'\\\\{filename}.tif'"
   ]
  },
  {
   "cell_type": "code",
   "execution_count": 48,
   "id": "206cbcb8",
   "metadata": {},
   "outputs": [
    {
     "data": {
      "text/html": [
       "<div class='gpresult'><h2>Messages</h2><div id='messages' data-messages='[\"Start Time: Wednesday, March 1, 2023 11:39:20 PM\",\"PDF spatial reference format: ISO\",\"Spatial reference version: Unknown\",\"Spatial reference: \",\"Rasterizing PDF to TIFF ...\",\"Add geospatial reference information...\",\"Succeeded at Wednesday, March 1, 2023 11:39:21 PM (Elapsed Time: 0.48 seconds)\"]' data-show='true'><div id = 'default' /></div></div>"
      ],
      "text/plain": [
       "<Result 'L:\\\\NaturalResources\\\\Wetlands\\\\Local Wetland Inventory\\\\WAPO\\\\EPA_2022_Tasks\\\\Task 1 WD Mapping\\\\output\\\\georef\\\\WD2022-0251_7.tif'>"
      ]
     },
     "execution_count": 48,
     "metadata": {},
     "output_type": "execute_result"
    }
   ],
   "source": [
    "arcpy.conversion.PDFToTIFF(inPDF, outTIFF)"
   ]
  },
  {
   "cell_type": "code",
   "execution_count": 5,
   "id": "6ba2d86e",
   "metadata": {},
   "outputs": [],
   "source": [
    "# test\n",
    "from arcgis.learn import ScannedMapDigitizer\n",
    "smd = ScannedMapDigitizer(path_to_scanned_maps, path_to_output_folder)"
   ]
  }
 ],
 "metadata": {
  "kernelspec": {
   "display_name": "Python 3",
   "language": "python",
   "name": "python3"
  },
  "language_info": {
   "codemirror_mode": {
    "name": "ipython",
    "version": 3
   },
   "file_extension": ".py",
   "mimetype": "text/x-python",
   "name": "python",
   "nbconvert_exporter": "python",
   "pygments_lexer": "ipython3",
   "version": "3.9.11"
  }
 },
 "nbformat": 4,
 "nbformat_minor": 5
}
