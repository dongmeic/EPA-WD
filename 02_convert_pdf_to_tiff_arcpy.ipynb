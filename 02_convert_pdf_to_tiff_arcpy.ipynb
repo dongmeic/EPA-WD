{
 "cells": [
  {
   "cell_type": "code",
   "execution_count": 1,
   "id": "6b2e4cfa",
   "metadata": {},
   "outputs": [],
   "source": [
    "import arcpy"
   ]
  },
  {
   "cell_type": "code",
   "execution_count": 2,
   "id": "a66ed9e4",
   "metadata": {},
   "outputs": [],
   "source": [
    "outpath = r'L:\\NaturalResources\\Wetlands\\Local Wetland Inventory\\WAPO\\EPA_2022_Tasks\\Task 1 WD Mapping\\output'\n",
    "path_to_scanned_maps = outpath + '\\\\pdf'\n",
    "path_to_output_folder = outpath + '\\\\georef'"
   ]
  },
  {
   "cell_type": "code",
   "execution_count": 3,
   "id": "b6003894",
   "metadata": {},
   "outputs": [],
   "source": [
    "arcpy.env.overwriteOutput = True"
   ]
  },
  {
   "cell_type": "code",
   "execution_count": 4,
   "id": "fcd2d8a7",
   "metadata": {},
   "outputs": [
    {
     "data": {
      "text/html": [
       "<div class='gpresult'><h2>Messages</h2><div id='messages' data-messages='[\"WARNING 003460: The pdf document contains no spatial information\",\"PDF spatial reference format: None\",\"Rasterizing PDF to TIFF ...\",\"Succeeded at Friday, April 28, 2023 2:37:40 PM (Elapsed Time: 0.81 seconds)\"]' data-show='true'><div id = 'default' /></div></div>"
      ],
      "text/plain": [
       "<Result 'L:\\\\NaturalResources\\\\Wetlands\\\\Local Wetland Inventory\\\\WAPO\\\\EPA_2022_Tasks\\\\Task 1 WD Mapping\\\\output\\\\georef\\\\WD2019-0345_5.tif'>"
      ]
     },
     "execution_count": 4,
     "metadata": {},
     "output_type": "execute_result"
    }
   ],
   "source": [
    "filename = 'WD2019-0345_5'\n",
    "inPDF = path_to_scanned_maps + f'\\\\{filename}.pdf'\n",
    "outTIFF = path_to_output_folder + f'\\\\{filename}.tif'\n",
    "arcpy.conversion.PDFToTIFF(inPDF, outTIFF)"
   ]
  },
  {
   "cell_type": "code",
   "execution_count": 7,
   "id": "2123d99f",
   "metadata": {},
   "outputs": [
    {
     "name": "stdout",
     "output_type": "stream",
     "text": [
      "2\n",
      "3\n"
     ]
    }
   ],
   "source": [
    "for i in range(2, 4):\n",
    "    filename = f'WD2020-0668_{i}'\n",
    "    inPDF = path_to_scanned_maps + f'\\\\{filename}.pdf'\n",
    "    outTIFF = path_to_output_folder + f'\\\\{filename}.tif'\n",
    "    arcpy.conversion.PDFToTIFF(inPDF, outTIFF)\n",
    "    print(i)"
   ]
  },
  {
   "cell_type": "code",
   "execution_count": 17,
   "id": "3b6eae46",
   "metadata": {},
   "outputs": [],
   "source": [
    "for i in range(22, 55):\n",
    "    filename = f'WD2019-0615_{i+1}'\n",
    "    inPDF = path_to_scanned_maps + f'\\\\{filename}.pdf'\n",
    "    outTIFF = path_to_output_folder + f'\\\\{filename}.tif'\n",
    "    arcpy.conversion.PDFToTIFF(inPDF, outTIFF)"
   ]
  },
  {
   "cell_type": "code",
   "execution_count": 5,
   "id": "8077bb1f",
   "metadata": {},
   "outputs": [],
   "source": [
    "# test\n",
    "from arcgis.learn import ScannedMapDigitizer\n",
    "smd = ScannedMapDigitizer(path_to_scanned_maps, path_to_output_folder)"
   ]
  }
 ],
 "metadata": {
  "kernelspec": {
   "display_name": "Python 3",
   "language": "python",
   "name": "python3"
  },
  "language_info": {
   "codemirror_mode": {
    "name": "ipython",
    "version": 3
   },
   "file_extension": ".py",
   "mimetype": "text/x-python",
   "name": "python",
   "nbconvert_exporter": "python",
   "pygments_lexer": "ipython3",
   "version": "3.9.11"
  }
 },
 "nbformat": 4,
 "nbformat_minor": 5
}
