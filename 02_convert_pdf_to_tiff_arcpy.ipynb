{
 "cells": [
  {
   "cell_type": "code",
   "execution_count": 7,
   "id": "03002abe",
   "metadata": {},
   "outputs": [],
   "source": [
    "import arcpy"
   ]
  },
  {
   "cell_type": "code",
   "execution_count": 8,
   "id": "803eff48",
   "metadata": {},
   "outputs": [],
   "source": [
    "outpath = r'L:\\NaturalResources\\Wetlands\\Local Wetland Inventory\\WAPO\\EPA_2022_Tasks\\Task 1 WD Mapping\\output'\n",
    "path_to_scanned_maps = outpath + '\\\\pdf'\n",
    "path_to_output_folder = outpath + '\\\\georef'"
   ]
  },
  {
   "cell_type": "code",
   "execution_count": 9,
   "id": "f53e770d",
   "metadata": {},
   "outputs": [],
   "source": [
    "filename = 'WD2021-0624_4'"
   ]
  },
  {
   "cell_type": "code",
   "execution_count": 10,
   "id": "0716713d",
   "metadata": {},
   "outputs": [],
   "source": [
    "inPDF = path_to_scanned_maps + f'\\\\{filename}.pdf'\n",
    "outTIFF = path_to_output_folder + f'\\\\{filename}.tif'"
   ]
  },
  {
   "cell_type": "code",
   "execution_count": 11,
   "id": "ab90664d",
   "metadata": {},
   "outputs": [
    {
     "data": {
      "text/html": [
       "<div class='gpresult'><h2>Messages</h2><div id='messages' data-messages='[\"Start Time: Tuesday, February 28, 2023 8:54:03 PM\",\"PDF spatial reference format: ISO\",\"Spatial reference version: Unknown\",\"Spatial reference: PROJCS[\\\"NAD_1983_StatePlane_Oregon_North_FIPS_3601_Feet\\\",GEOGCS[\\\"GCS_North_American_1983\\\",DATUM[\\\"D_North_American_1983\\\",SPHEROID[\\\"GRS_1980\\\",6378137.0,298.257222101]],PRIMEM[\\\"Greenwich\\\",0.0],UNIT[\\\"Degree\\\",0.0174532925199433]],PROJECTION[\\\"Lambert_Conformal_Conic\\\"],PARAMETER[\\\"False_Easting\\\",8202083.333333332],PARAMETER[\\\"False_Northing\\\",0.0],PARAMETER[\\\"Central_Meridian\\\",-120.5],PARAMETER[\\\"Standard_Parallel_1\\\",44.33333333333334],PARAMETER[\\\"Standard_Parallel_2\\\",46.0],PARAMETER[\\\"Latitude_Of_Origin\\\",43.66666666666666],UNIT[\\\"Foot_US\\\",0.3048006096012192]]\",\"Rasterizing PDF to TIFF ...\",\"Add geospatial reference information...\",\"Succeeded at Tuesday, February 28, 2023 8:54:04 PM (Elapsed Time: 1.12 seconds)\"]' data-show='true'><div id = 'default' /></div></div>"
      ],
      "text/plain": [
       "<Result 'L:\\\\NaturalResources\\\\Wetlands\\\\Local Wetland Inventory\\\\WAPO\\\\EPA_2022_Tasks\\\\Task 1 WD Mapping\\\\output\\\\georef\\\\WD2021-0624_4.tif'>"
      ]
     },
     "execution_count": 11,
     "metadata": {},
     "output_type": "execute_result"
    }
   ],
   "source": [
    "arcpy.conversion.PDFToTIFF(inPDF, outTIFF)"
   ]
  },
  {
   "cell_type": "code",
   "execution_count": 5,
   "id": "a1e59340",
   "metadata": {},
   "outputs": [],
   "source": [
    "# test\n",
    "from arcgis.learn import ScannedMapDigitizer\n",
    "smd = ScannedMapDigitizer(path_to_scanned_maps, path_to_output_folder)"
   ]
  }
 ],
 "metadata": {
  "kernelspec": {
   "display_name": "Python 3",
   "language": "python",
   "name": "python3"
  },
  "language_info": {
   "codemirror_mode": {
    "name": "ipython",
    "version": 3
   },
   "file_extension": ".py",
   "mimetype": "text/x-python",
   "name": "python",
   "nbconvert_exporter": "python",
   "pygments_lexer": "ipython3",
   "version": "3.9.11"
  }
 },
 "nbformat": 4,
 "nbformat_minor": 5
}
