{
 "cells": [
  {
   "cell_type": "code",
   "execution_count": 1,
   "id": "da539637",
   "metadata": {},
   "outputs": [],
   "source": [
    "%load_ext autoreload\n",
    "%autoreload 2"
   ]
  },
  {
   "cell_type": "code",
   "execution_count": 2,
   "id": "166e573d",
   "metadata": {},
   "outputs": [],
   "source": [
    "from wdtools import *"
   ]
  },
  {
   "cell_type": "code",
   "execution_count": 17,
   "id": "776872ca",
   "metadata": {},
   "outputs": [],
   "source": [
    "sets = list(range(1,9))"
   ]
  },
  {
   "cell_type": "code",
   "execution_count": 10,
   "id": "9b95382b",
   "metadata": {},
   "outputs": [],
   "source": [
    "data = get_all_wd(sets = list(range(1,9)))"
   ]
  },
  {
   "cell_type": "code",
   "execution_count": 11,
   "id": "035437fc",
   "metadata": {},
   "outputs": [
    {
     "data": {
      "text/plain": [
       "(5861, 26)"
      ]
     },
     "execution_count": 11,
     "metadata": {},
     "output_type": "execute_result"
    }
   ],
   "source": [
    "data.shape"
   ]
  },
  {
   "cell_type": "code",
   "execution_count": 12,
   "id": "fe0226d0",
   "metadata": {},
   "outputs": [
    {
     "data": {
      "text/plain": [
       "Index(['wetdet_delin_number', 'trsqq', 'parcel_id', 'address_location_desc',\n",
       "       'city', 'county', 'site_name', 'site_desc', 'latitude', 'longitude',\n",
       "       'Coord-Source', 'DocumentName', 'DecisionLink', 'is_batch_file',\n",
       "       'status_name', 'received_date', 'response_date',\n",
       "       'reissuance_response_date', 'project_id', 'site_id', 'record_ID',\n",
       "       'notes', 'recyear', 'IDyear', 'missinglot', 'SetID'],\n",
       "      dtype='object')"
      ]
     },
     "execution_count": 12,
     "metadata": {},
     "output_type": "execute_result"
    }
   ],
   "source": [
    "data.columns"
   ]
  },
  {
   "cell_type": "code",
   "execution_count": 19,
   "id": "1aea5a76",
   "metadata": {},
   "outputs": [],
   "source": [
    "df = data.groupby('SetID', as_index=False)['wetdet_delin_number'].nunique()"
   ]
  },
  {
   "cell_type": "code",
   "execution_count": 20,
   "id": "58071164",
   "metadata": {},
   "outputs": [],
   "source": [
    "df.rename(columns={'wetdet_delin_number': 'total'}, inplace=True)"
   ]
  },
  {
   "cell_type": "code",
   "execution_count": 28,
   "id": "48fd076c",
   "metadata": {},
   "outputs": [],
   "source": [
    "def read_remapping(outnm):\n",
    "    file = fr'{outpath}\\to_review\\re_mapping{outnm}.txt' \n",
    "    with open(file) as f: \n",
    "        remapIDs = f.readlines()\n",
    "    dt = remapIDs[0].split(', ')\n",
    "    return dt"
   ]
  },
  {
   "cell_type": "code",
   "execution_count": 52,
   "id": "f0413688",
   "metadata": {},
   "outputs": [],
   "source": [
    "qaqc = read_remapping(outnm='')\n",
    "qaqc_set7 = read_remapping(outnm='_Set007')\n",
    "qaqc_set8 = read_remapping(outnm='_Set008')"
   ]
  },
  {
   "cell_type": "code",
   "execution_count": 55,
   "id": "f7568f9c",
   "metadata": {},
   "outputs": [],
   "source": [
    "qaqc_list = qaqc + qaqc_set7 + qaqc_set8"
   ]
  },
  {
   "cell_type": "code",
   "execution_count": 40,
   "id": "8f69efe5",
   "metadata": {},
   "outputs": [
    {
     "data": {
      "text/plain": [
       "342"
      ]
     },
     "execution_count": 40,
     "metadata": {},
     "output_type": "execute_result"
    }
   ],
   "source": [
    "len(qaqc + qaqc_set7 + qaqc_set8)"
   ]
  },
  {
   "cell_type": "code",
   "execution_count": 42,
   "id": "29fb8b09",
   "metadata": {},
   "outputs": [],
   "source": [
    "def read_issues(setID):\n",
    "    issues = pd.read_excel(fr'{outpath}\\to_review\\{setID}_Mapping_Issues.xlsx')\n",
    "    issueIDs = list(issues.wetdet_delin_number.unique())\n",
    "    return issueIDs"
   ]
  },
  {
   "cell_type": "code",
   "execution_count": 54,
   "id": "37d80715",
   "metadata": {},
   "outputs": [],
   "source": [
    "issues6 = read_issues(setID = 'Set006')\n",
    "issues7 = read_issues(setID = 'Set007')\n",
    "issues8 = read_issues(setID = 'Set008')"
   ]
  },
  {
   "cell_type": "code",
   "execution_count": 43,
   "id": "b576ac54",
   "metadata": {},
   "outputs": [],
   "source": [
    "def read_unmatched(setID):\n",
    "    unmatched = pd.read_csv(fr'{outpath}\\to_review\\unmatched_df_{setID}_2.csv')\n",
    "    unmatchedIDs = list(unmatched.wetdet_delin_number.unique())\n",
    "    return unmatchedIDs"
   ]
  },
  {
   "cell_type": "code",
   "execution_count": 45,
   "id": "e3ede2f1",
   "metadata": {},
   "outputs": [],
   "source": [
    "unmatched6 = read_unmatched(setID = 'Set006')\n",
    "unmatched7 = read_unmatched(setID = 'Set007')\n",
    "unmatched8 = read_unmatched(setID = 'Set008')"
   ]
  },
  {
   "cell_type": "code",
   "execution_count": 56,
   "id": "29fba3e0",
   "metadata": {},
   "outputs": [],
   "source": [
    "qaqc_list = qaqc_list + issues6 + issues7 + issues8 \n",
    "qaqc_list = qaqc_list + unmatched6 + unmatched7 + unmatched8"
   ]
  },
  {
   "cell_type": "code",
   "execution_count": 47,
   "id": "42b71d70",
   "metadata": {},
   "outputs": [
    {
     "data": {
      "text/plain": [
       "434"
      ]
     },
     "execution_count": 47,
     "metadata": {},
     "output_type": "execute_result"
    }
   ],
   "source": [
    "len(qaqc_list)"
   ]
  },
  {
   "cell_type": "code",
   "execution_count": 57,
   "id": "ebdfb875",
   "metadata": {},
   "outputs": [],
   "source": [
    "qaqc_list = unique(qaqc_list)"
   ]
  },
  {
   "cell_type": "code",
   "execution_count": 58,
   "id": "fe84fda6",
   "metadata": {},
   "outputs": [
    {
     "data": {
      "text/plain": [
       "412"
      ]
     },
     "execution_count": 58,
     "metadata": {},
     "output_type": "execute_result"
    }
   ],
   "source": [
    "len(qaqc_list)"
   ]
  },
  {
   "cell_type": "code",
   "execution_count": 51,
   "id": "dfa3c329",
   "metadata": {},
   "outputs": [
    {
     "data": {
      "text/html": [
       "<div>\n",
       "<style scoped>\n",
       "    .dataframe tbody tr th:only-of-type {\n",
       "        vertical-align: middle;\n",
       "    }\n",
       "\n",
       "    .dataframe tbody tr th {\n",
       "        vertical-align: top;\n",
       "    }\n",
       "\n",
       "    .dataframe thead th {\n",
       "        text-align: right;\n",
       "    }\n",
       "</style>\n",
       "<table border=\"1\" class=\"dataframe\">\n",
       "  <thead>\n",
       "    <tr style=\"text-align: right;\">\n",
       "      <th></th>\n",
       "      <th>wetdet_delin_number</th>\n",
       "      <th>trsqq</th>\n",
       "      <th>parcel_id</th>\n",
       "      <th>address_location_desc</th>\n",
       "      <th>city</th>\n",
       "      <th>county</th>\n",
       "      <th>site_name</th>\n",
       "      <th>site_desc</th>\n",
       "      <th>latitude</th>\n",
       "      <th>longitude</th>\n",
       "      <th>...</th>\n",
       "      <th>response_date</th>\n",
       "      <th>reissuance_response_date</th>\n",
       "      <th>project_id</th>\n",
       "      <th>site_id</th>\n",
       "      <th>record_ID</th>\n",
       "      <th>notes</th>\n",
       "      <th>recyear</th>\n",
       "      <th>IDyear</th>\n",
       "      <th>missinglot</th>\n",
       "      <th>SetID</th>\n",
       "    </tr>\n",
       "  </thead>\n",
       "  <tbody>\n",
       "    <tr>\n",
       "      <th>1077</th>\n",
       "      <td>WD2022-0112</td>\n",
       "      <td>36S05W23D</td>\n",
       "      <td>1014</td>\n",
       "      <td>485 Avenue de Teresa</td>\n",
       "      <td>Grants Pass</td>\n",
       "      <td>Josephine</td>\n",
       "      <td>Tracy and Patrick Leenknecht</td>\n",
       "      <td>WD2022-0112 Offsite WetDet</td>\n",
       "      <td>42.424164</td>\n",
       "      <td>-123.256472</td>\n",
       "      <td>...</td>\n",
       "      <td>2022-03-30</td>\n",
       "      <td>NaN</td>\n",
       "      <td>83490.0</td>\n",
       "      <td>138619</td>\n",
       "      <td>1078</td>\n",
       "      <td>NaN</td>\n",
       "      <td>2022</td>\n",
       "      <td>2022</td>\n",
       "      <td>N</td>\n",
       "      <td>1</td>\n",
       "    </tr>\n",
       "  </tbody>\n",
       "</table>\n",
       "<p>1 rows × 26 columns</p>\n",
       "</div>"
      ],
      "text/plain": [
       "     wetdet_delin_number      trsqq parcel_id address_location_desc  \\\n",
       "1077         WD2022-0112  36S05W23D      1014  485 Avenue de Teresa   \n",
       "\n",
       "             city     county                     site_name  \\\n",
       "1077  Grants Pass  Josephine  Tracy and Patrick Leenknecht   \n",
       "\n",
       "                       site_desc   latitude   longitude  ... response_date  \\\n",
       "1077  WD2022-0112 Offsite WetDet  42.424164 -123.256472  ...    2022-03-30   \n",
       "\n",
       "     reissuance_response_date project_id site_id record_ID notes recyear  \\\n",
       "1077                      NaN    83490.0  138619      1078   NaN    2022   \n",
       "\n",
       "     IDyear  missinglot  SetID  \n",
       "1077   2022           N      1  \n",
       "\n",
       "[1 rows x 26 columns]"
      ]
     },
     "execution_count": 51,
     "metadata": {},
     "output_type": "execute_result"
    }
   ],
   "source": [
    "data[data.wetdet_delin_number == 'WD2022-0112']"
   ]
  },
  {
   "cell_type": "code",
   "execution_count": 62,
   "id": "94045fd7",
   "metadata": {},
   "outputs": [],
   "source": [
    "set_dict = data.set_index('wetdet_delin_number').to_dict(orient='dict')['SetID'] "
   ]
  },
  {
   "cell_type": "code",
   "execution_count": 79,
   "id": "926af6d3",
   "metadata": {},
   "outputs": [],
   "source": [
    "qaqc_df = count_lst_ele(set_dict, qaqc_list, colnm = 'SetID', ctnm = 'Unmapped')"
   ]
  },
  {
   "cell_type": "code",
   "execution_count": 80,
   "id": "d4ae27af",
   "metadata": {},
   "outputs": [
    {
     "data": {
      "text/html": [
       "<div>\n",
       "<style scoped>\n",
       "    .dataframe tbody tr th:only-of-type {\n",
       "        vertical-align: middle;\n",
       "    }\n",
       "\n",
       "    .dataframe tbody tr th {\n",
       "        vertical-align: top;\n",
       "    }\n",
       "\n",
       "    .dataframe thead th {\n",
       "        text-align: right;\n",
       "    }\n",
       "</style>\n",
       "<table border=\"1\" class=\"dataframe\">\n",
       "  <thead>\n",
       "    <tr style=\"text-align: right;\">\n",
       "      <th></th>\n",
       "      <th>SetID</th>\n",
       "      <th>Unmapped</th>\n",
       "    </tr>\n",
       "  </thead>\n",
       "  <tbody>\n",
       "    <tr>\n",
       "      <th>0</th>\n",
       "      <td>1</td>\n",
       "      <td>121</td>\n",
       "    </tr>\n",
       "    <tr>\n",
       "      <th>1</th>\n",
       "      <td>2</td>\n",
       "      <td>22</td>\n",
       "    </tr>\n",
       "    <tr>\n",
       "      <th>2</th>\n",
       "      <td>3</td>\n",
       "      <td>30</td>\n",
       "    </tr>\n",
       "    <tr>\n",
       "      <th>3</th>\n",
       "      <td>4</td>\n",
       "      <td>67</td>\n",
       "    </tr>\n",
       "    <tr>\n",
       "      <th>4</th>\n",
       "      <td>5</td>\n",
       "      <td>10</td>\n",
       "    </tr>\n",
       "  </tbody>\n",
       "</table>\n",
       "</div>"
      ],
      "text/plain": [
       "   SetID  Unmapped\n",
       "0      1       121\n",
       "1      2        22\n",
       "2      3        30\n",
       "3      4        67\n",
       "4      5        10"
      ]
     },
     "execution_count": 80,
     "metadata": {},
     "output_type": "execute_result"
    }
   ],
   "source": [
    "qaqc_df.head()"
   ]
  },
  {
   "cell_type": "code",
   "execution_count": 68,
   "id": "68e166db",
   "metadata": {},
   "outputs": [],
   "source": [
    "ndf = data.groupby('SetID', as_index=False)['wetdet_delin_number'].nunique()"
   ]
  },
  {
   "cell_type": "code",
   "execution_count": 69,
   "id": "388f7c67",
   "metadata": {},
   "outputs": [],
   "source": [
    "ndf.rename(columns={'wetdet_delin_number': 'Total'}, inplace=True)"
   ]
  },
  {
   "cell_type": "code",
   "execution_count": 70,
   "id": "ac737fcb",
   "metadata": {},
   "outputs": [
    {
     "data": {
      "text/html": [
       "<div>\n",
       "<style scoped>\n",
       "    .dataframe tbody tr th:only-of-type {\n",
       "        vertical-align: middle;\n",
       "    }\n",
       "\n",
       "    .dataframe tbody tr th {\n",
       "        vertical-align: top;\n",
       "    }\n",
       "\n",
       "    .dataframe thead th {\n",
       "        text-align: right;\n",
       "    }\n",
       "</style>\n",
       "<table border=\"1\" class=\"dataframe\">\n",
       "  <thead>\n",
       "    <tr style=\"text-align: right;\">\n",
       "      <th></th>\n",
       "      <th>SetID</th>\n",
       "      <th>Total</th>\n",
       "    </tr>\n",
       "  </thead>\n",
       "  <tbody>\n",
       "    <tr>\n",
       "      <th>0</th>\n",
       "      <td>1</td>\n",
       "      <td>1003</td>\n",
       "    </tr>\n",
       "    <tr>\n",
       "      <th>1</th>\n",
       "      <td>2</td>\n",
       "      <td>434</td>\n",
       "    </tr>\n",
       "    <tr>\n",
       "      <th>2</th>\n",
       "      <td>3</td>\n",
       "      <td>433</td>\n",
       "    </tr>\n",
       "    <tr>\n",
       "      <th>3</th>\n",
       "      <td>4</td>\n",
       "      <td>676</td>\n",
       "    </tr>\n",
       "    <tr>\n",
       "      <th>4</th>\n",
       "      <td>5</td>\n",
       "      <td>225</td>\n",
       "    </tr>\n",
       "  </tbody>\n",
       "</table>\n",
       "</div>"
      ],
      "text/plain": [
       "   SetID  Total\n",
       "0      1   1003\n",
       "1      2    434\n",
       "2      3    433\n",
       "3      4    676\n",
       "4      5    225"
      ]
     },
     "execution_count": 70,
     "metadata": {},
     "output_type": "execute_result"
    }
   ],
   "source": [
    "ndf.head()"
   ]
  },
  {
   "cell_type": "code",
   "execution_count": 73,
   "id": "7f059dce",
   "metadata": {},
   "outputs": [],
   "source": [
    "df = data.groupby('SetID', as_index=False)['county'].apply(lambda x: ', '.join(unique(x)))"
   ]
  },
  {
   "cell_type": "code",
   "execution_count": 75,
   "id": "6ed8e68e",
   "metadata": {},
   "outputs": [],
   "source": [
    "df.rename(columns={'county': 'County'}, inplace=True)"
   ]
  },
  {
   "cell_type": "code",
   "execution_count": 81,
   "id": "b47cd525",
   "metadata": {},
   "outputs": [],
   "source": [
    "out = df.merge(ndf, on='SetID', how='left')"
   ]
  },
  {
   "cell_type": "code",
   "execution_count": 82,
   "id": "9602d33e",
   "metadata": {},
   "outputs": [],
   "source": [
    "out = out.merge(qaqc_df, on='SetID', how='left')"
   ]
  },
  {
   "cell_type": "code",
   "execution_count": 86,
   "id": "2345550d",
   "metadata": {},
   "outputs": [],
   "source": [
    "out.loc[:, 'Percent Completed'] = round((1-out.Unmapped/out.Total)*100, 2)"
   ]
  },
  {
   "cell_type": "code",
   "execution_count": 89,
   "id": "aa108ef4",
   "metadata": {},
   "outputs": [],
   "source": [
    "out.loc[:, 'No. County'] = out.County.apply(lambda x: len(x.split(', ')))"
   ]
  },
  {
   "cell_type": "code",
   "execution_count": 90,
   "id": "7fa518dd",
   "metadata": {},
   "outputs": [],
   "source": [
    "out.to_excel(fr\"{inpath}\\reporting\\mapping_status.xlsx\", index=False)  "
   ]
  },
  {
   "cell_type": "code",
   "execution_count": 115,
   "id": "4d67f55a",
   "metadata": {},
   "outputs": [],
   "source": [
    "def export_unmapped(sid):\n",
    "    wdlist = data[(data.wetdet_delin_number.isin(qaqc_list)) & (data.SetID == sid)]\n",
    "    wd_list = list(wdlist.wetdet_delin_number.unique())\n",
    "    with open(fr'{inpath}\\output\\to_review\\Unmapped_Set00{sid}.txt', 'w') as f:\n",
    "        f.write(\", \".join(wd_list))\n",
    "    return wd_list"
   ]
  },
  {
   "cell_type": "code",
   "execution_count": 118,
   "id": "dc32a176",
   "metadata": {},
   "outputs": [],
   "source": [
    "for sid in range(1, 9):\n",
    "    out = export_unmapped(sid=sid)"
   ]
  },
  {
   "cell_type": "code",
   "execution_count": 124,
   "id": "0c5113a7",
   "metadata": {},
   "outputs": [],
   "source": [
    "def status_report(cat='SetID'):\n",
    "    dict2check = data.set_index('wetdet_delin_number').to_dict(orient='dict')[cat]\n",
    "    qaqc_df = count_lst_ele(dict2check, qaqc_list, colnm = cat, ctnm = 'Unmapped')\n",
    "    ndf = data.groupby(cat, as_index=False)['wetdet_delin_number'].nunique()\n",
    "    ndf.rename(columns={'wetdet_delin_number': 'Total'}, inplace=True)\n",
    "    if cat == 'SetID':\n",
    "        df = data.groupby(cat, as_index=False)['county'].apply(lambda x: ', '.join(unique(x)))\n",
    "        df.rename(columns={'county': 'County'}, inplace=True)\n",
    "        out = df.merge(ndf, on=cat, how='left')\n",
    "        out = out.merge(qaqc_df, on=cat, how='left')\n",
    "        out.loc[:, 'No. County'] = out.County.apply(lambda x: len(x.split(', ')))\n",
    "    elif cat == 'county':\n",
    "        out = ndf.merge(qaqc_df, on=cat, how='left')\n",
    "        out.rename(columns={'county': 'County'}, inplace=True)\n",
    "    out.loc[:, 'Percent Completed'] = round((1-out.Unmapped/out.Total)*100, 2)\n",
    "    out.to_excel(fr\"{inpath}\\reporting\\mapping_status_{cat}.xlsx\", index=False)\n",
    "    return out"
   ]
  },
  {
   "cell_type": "code",
   "execution_count": 125,
   "id": "ea05cfc6",
   "metadata": {},
   "outputs": [],
   "source": [
    "out = status_report(cat='county')"
   ]
  },
  {
   "cell_type": "code",
   "execution_count": null,
   "id": "2657a48d",
   "metadata": {},
   "outputs": [],
   "source": []
  },
  {
   "cell_type": "code",
   "execution_count": 15,
   "id": "24b5aeac",
   "metadata": {},
   "outputs": [],
   "source": [
    "ndf = data.groupby('county', as_index=False)['wetdet_delin_number'].nunique()"
   ]
  },
  {
   "cell_type": "code",
   "execution_count": 16,
   "id": "41416cd4",
   "metadata": {},
   "outputs": [],
   "source": [
    "ndf.rename(columns={'wetdet_delin_number': 'total'}, inplace=True)"
   ]
  },
  {
   "cell_type": "code",
   "execution_count": 52,
   "id": "45e5e869",
   "metadata": {},
   "outputs": [],
   "source": [
    "# qaqc combines partially matched and unmatched\n",
    "# here, qaqc doesn't include the false positives in the matched records\n",
    "qaqc = []\n",
    "# unmatched\n",
    "unmt = []\n",
    "# wdID with questions\n",
    "issue = []\n",
    "# mapped\n",
    "mapped = []\n",
    "# reviewed\n",
    "reviewed = []"
   ]
  },
  {
   "cell_type": "code",
   "execution_count": 53,
   "id": "238a8263",
   "metadata": {},
   "outputs": [],
   "source": [
    "qaqcdf = pd.DataFrame(columns=['SetID', 'Counties', 'Total Count', 'Total QAQC Count', \n",
    "                               'Partial and Mythical Count', 'Unmatched Count', 'Issue ID Count', 'Mapped Count'])"
   ]
  },
  {
   "cell_type": "code",
   "execution_count": 54,
   "id": "c9429797",
   "metadata": {
    "scrolled": true
   },
   "outputs": [
    {
     "name": "stdout",
     "output_type": "stream",
     "text": [
      "Set001\n",
      "['Clatsop' 'Coos' 'Deschutes' 'Harney' 'Jackson' 'Josephine' 'Lake'\n",
      " 'Marion']\n",
      "1003\n",
      "partial and mythical count - 264, \n",
      "          unmatched count - 14,\n",
      "          total QAQC count - 278,\n",
      "          issue ID count -4,\n",
      "          mapped count - 277,\n",
      "          total count - 1003,\n",
      "          to check - []\n",
      "Set002\n",
      "['Baker' 'Benton' 'Clackamas' 'Morrow']\n",
      "434\n",
      "partial and mythical count - 138, \n",
      "          unmatched count - 14,\n",
      "          total QAQC count - 152,\n",
      "          issue ID count -15,\n",
      "          mapped count - 141,\n",
      "          total count - 434,\n",
      "          to check - []\n",
      "Set003\n",
      "['Columbia' 'Grant' 'Klamath' 'Lincoln' 'Tillamook']\n",
      "433\n",
      "partial and mythical count - 127, \n",
      "          unmatched count - 11,\n",
      "          total QAQC count - 138,\n",
      "          issue ID count -9,\n",
      "          mapped count - 125,\n",
      "          total count - 433,\n",
      "          to check - []\n",
      "Set004\n",
      "['Crook' 'Curry' 'Hood River' 'Jefferson' 'Linn' 'Multnomah' 'Wasco'\n",
      " 'Yamhill' 'Yamhill and Washington']\n",
      "676\n",
      "partial and mythical count - 208, \n",
      "          unmatched count - 15,\n",
      "          total QAQC count - 223,\n",
      "          issue ID count -18,\n",
      "          mapped count - 198,\n",
      "          total count - 676,\n",
      "          to check - []\n"
     ]
    }
   ],
   "source": [
    "for setid in sets:\n",
    "    print(setid)\n",
    "    wd_dt = data[data.SetID==setid]\n",
    "    counties = wd_dt['county'].unique()\n",
    "    print(counties)\n",
    "    N = data[data.SetID==setid]['wetdet_delin_number'].nunique()\n",
    "    print(N)\n",
    "    matched = gpd.read_file(os.path.join(inpath + '\\\\output\\\\matched\\\\', f'matched_records_{setid}_edited.shp'))\n",
    "    final = gpd.read_file(os.path.join(inpath + '\\\\output\\\\final\\\\', f'mapped_wd_{setid}.shp'))\n",
    "    a = list(matched[matched.notes.notnull()].wdID.unique())\n",
    "    unmatched = pd.read_csv(os.path.join(inpath + '\\\\output\\\\to_review\\\\', f'unmatched_df_{setid}_2.csv'))\n",
    "    b = list(unmatched.wetdet_delin_number.unique())\n",
    "    unmatched_wd = [x for x in b if x not in a]\n",
    "    unmatched3 = unmatched[unmatched.wetdet_delin_number.isin(unmatched_wd)]\n",
    "    unmatched3.to_csv(os.path.join(inpath + '\\\\output\\\\to_review\\\\', f'unmatched_df_{setid}_3.csv'), index=False)\n",
    "    unmt.append(unmatched_wd)\n",
    "    qaqc.append(unique(a+b))\n",
    "    issues = pd.read_csv(os.path.join(inpath, \"output\", \"to_review\", f\"{setid}_Mapping_Issues.csv\"))\n",
    "    issueIDs = list(issues.wetdet_delin_number.unique())\n",
    "    issue.append(issueIDs)\n",
    "    c = list(final[final.code==1].wdID.unique())\n",
    "    mapped.append(c)\n",
    "    to_check = [wid for wid in unique(a+b) if wid not in (issueIDs+c)]\n",
    "    if len(to_check) > 0:\n",
    "        file = outpath+f'\\\\matched\\\\{setid}_reviewed.txt'\n",
    "        if os.path.isfile(file):\n",
    "            with open(file) as f:\n",
    "                rev = f.readlines()\n",
    "                d = rev[0].split(\", \")\n",
    "                to_check = [wid for wid in to_check if wid not in d]\n",
    "                reviewed.append(d)\n",
    "    print(f\"\"\"partial and mythical count - {len(a)}, \n",
    "          unmatched count - {len(unmatched_wd)},\n",
    "          total QAQC count - {len(unique(a+b))},\n",
    "          issue ID count -{len(issueIDs)},\n",
    "          mapped count - {len(c)},\n",
    "          total count - {N},\n",
    "          to check - {to_check}\"\"\")\n",
    "    qaqcdf = qaqcdf.append({'SetID': setid,\n",
    "                            'Counties': ', '.join(list(counties)),\n",
    "                            'Total Count': N,\n",
    "                            'Total QAQC Count': len(unique(a+b)), \n",
    "                            'Partial and Mythical Count': len(a), \n",
    "                            'Unmatched Count': len(unmatched_wd),\n",
    "                            'Issue ID Count': len(issueIDs),\n",
    "                            'Mapped Count': len(c)}, ignore_index=True)"
   ]
  },
  {
   "cell_type": "code",
   "execution_count": 72,
   "id": "0cb5a26a",
   "metadata": {
    "scrolled": true
   },
   "outputs": [
    {
     "data": {
      "text/plain": [
       "46"
      ]
     },
     "execution_count": 72,
     "metadata": {},
     "output_type": "execute_result"
    }
   ],
   "source": [
    "4+15+9+18"
   ]
  },
  {
   "cell_type": "markdown",
   "id": "57e86260",
   "metadata": {
    "scrolled": true
   },
   "source": [
    "review_loop_r1(wdid_list=['WD2017-0331', 'WD2018-0678', 'WD2019-0074', 'WD2019-0202', 'WD2019-0208', \n",
    "                          'WD2019-0211', 'WD2019-0320', 'WD2019-0389', 'WD2019-0395', \n",
    "                          'WD2019-0582', 'WD2020-0207', 'WD2020-0336', 'WD2020-0568', 'WD2022-0214'], \n",
    "               partial=True, idx=True, wddf=data)"
   ]
  },
  {
   "cell_type": "code",
   "execution_count": 16,
   "id": "658c910f",
   "metadata": {},
   "outputs": [],
   "source": [
    "file=os.path.join(inpath, 'reporting', f'SetStatusReport{str(date.today()).replace(\"-\", \"\")}.xlsx')"
   ]
  },
  {
   "cell_type": "code",
   "execution_count": 17,
   "id": "32b7a156",
   "metadata": {},
   "outputs": [],
   "source": [
    "qaqcdf.to_excel(file, index=False)"
   ]
  },
  {
   "cell_type": "code",
   "execution_count": 18,
   "id": "6c899e9c",
   "metadata": {
    "scrolled": true
   },
   "outputs": [
    {
     "name": "stdout",
     "output_type": "stream",
     "text": [
      "Removed format\n",
      "Autofitted columns...\n"
     ]
    }
   ],
   "source": [
    "reformat(file)"
   ]
  },
  {
   "cell_type": "code",
   "execution_count": 19,
   "id": "f5f4af7b",
   "metadata": {},
   "outputs": [],
   "source": [
    "qaqc = unique(np.concatenate(qaqc))"
   ]
  },
  {
   "cell_type": "code",
   "execution_count": 20,
   "id": "1f0ca8ee",
   "metadata": {
    "scrolled": true
   },
   "outputs": [
    {
     "data": {
      "text/plain": [
       "788"
      ]
     },
     "execution_count": 20,
     "metadata": {},
     "output_type": "execute_result"
    }
   ],
   "source": [
    "len(qaqc)"
   ]
  },
  {
   "cell_type": "code",
   "execution_count": 23,
   "id": "61da9652",
   "metadata": {},
   "outputs": [],
   "source": [
    "df = data[['wetdet_delin_number', 'county']]"
   ]
  },
  {
   "cell_type": "code",
   "execution_count": 24,
   "id": "f5e9c34a",
   "metadata": {},
   "outputs": [],
   "source": [
    "wdcnt_dict = df.set_index('wetdet_delin_number').to_dict(orient='dict')['county']"
   ]
  },
  {
   "cell_type": "code",
   "execution_count": 23,
   "id": "a0073946",
   "metadata": {},
   "outputs": [],
   "source": [
    "# count QAQC by county\n",
    "qaqc_df = count_lst_ele(wdcnt_dict, qaqc, 'QAQC')"
   ]
  },
  {
   "cell_type": "code",
   "execution_count": 24,
   "id": "2111046d",
   "metadata": {},
   "outputs": [],
   "source": [
    "colnm='QAQC_comp'"
   ]
  },
  {
   "cell_type": "code",
   "execution_count": 56,
   "id": "e1cd0d91",
   "metadata": {},
   "outputs": [],
   "source": [
    "comp_df = count_lst_ele(wdcnt_dict, flatten(mapped)+flatten(issue)+flatten(reviewed), colnm)"
   ]
  },
  {
   "cell_type": "code",
   "execution_count": 57,
   "id": "073dca8b",
   "metadata": {},
   "outputs": [],
   "source": [
    "out = ndf.merge(qaqc_df, on='county', how='left')"
   ]
  },
  {
   "cell_type": "code",
   "execution_count": 58,
   "id": "663b444f",
   "metadata": {},
   "outputs": [],
   "source": [
    "out1 = out.merge(comp_df, on='county', how='left')"
   ]
  },
  {
   "cell_type": "code",
   "execution_count": 59,
   "id": "a6d97785",
   "metadata": {},
   "outputs": [],
   "source": [
    "sel1 = out1.QAQC_comp.isnull()\n",
    "out1.loc[sel1, colnm] = 0"
   ]
  },
  {
   "cell_type": "markdown",
   "id": "aa6853a4",
   "metadata": {},
   "source": [
    "set4cty = ['Crook', 'Curry', 'Hood River', 'Jefferson', 'Linn', 'Multnomah', 'Wasco', \n",
    "           'Yamhill', 'Yamhill and Washington']"
   ]
  },
  {
   "cell_type": "code",
   "execution_count": 60,
   "id": "de0467db",
   "metadata": {},
   "outputs": [],
   "source": [
    "#sel2 = (out1.QAQC_comp > out1.QAQC) | (~out1.county.isin(set4cty))\n",
    "sel2 = out1.QAQC_comp > out1.QAQC"
   ]
  },
  {
   "cell_type": "code",
   "execution_count": 61,
   "id": "38e80887",
   "metadata": {},
   "outputs": [],
   "source": [
    "out1.loc[sel2, colnm] = out1.loc[sel2, 'QAQC']"
   ]
  },
  {
   "cell_type": "code",
   "execution_count": 62,
   "id": "b366e908",
   "metadata": {},
   "outputs": [],
   "source": [
    "out1[colnm] = out1[colnm].apply(np.int64)"
   ]
  },
  {
   "cell_type": "code",
   "execution_count": 63,
   "id": "8aa73d74",
   "metadata": {},
   "outputs": [],
   "source": [
    "out1['QAQC_pct'] = out1.apply(lambda row: str(round(row.QAQC/row.total*100,1))+('%'), axis=1)"
   ]
  },
  {
   "cell_type": "code",
   "execution_count": 64,
   "id": "8748c8e9",
   "metadata": {},
   "outputs": [],
   "source": [
    "out1['QAQC_comp_pct'] = out1.apply(lambda row: str(round(row.QAQC_comp/row.QAQC*100,1))+('%'), axis=1)"
   ]
  },
  {
   "cell_type": "code",
   "execution_count": 65,
   "id": "37ee3073",
   "metadata": {},
   "outputs": [
    {
     "data": {
      "text/html": [
       "<div>\n",
       "<style scoped>\n",
       "    .dataframe tbody tr th:only-of-type {\n",
       "        vertical-align: middle;\n",
       "    }\n",
       "\n",
       "    .dataframe tbody tr th {\n",
       "        vertical-align: top;\n",
       "    }\n",
       "\n",
       "    .dataframe thead th {\n",
       "        text-align: right;\n",
       "    }\n",
       "</style>\n",
       "<table border=\"1\" class=\"dataframe\">\n",
       "  <thead>\n",
       "    <tr style=\"text-align: right;\">\n",
       "      <th></th>\n",
       "      <th>county</th>\n",
       "      <th>total</th>\n",
       "      <th>QAQC</th>\n",
       "      <th>QAQC_comp</th>\n",
       "      <th>QAQC_pct</th>\n",
       "      <th>QAQC_comp_pct</th>\n",
       "    </tr>\n",
       "  </thead>\n",
       "  <tbody>\n",
       "    <tr>\n",
       "      <th>0</th>\n",
       "      <td>Baker</td>\n",
       "      <td>38</td>\n",
       "      <td>12</td>\n",
       "      <td>12</td>\n",
       "      <td>31.6%</td>\n",
       "      <td>100.0%</td>\n",
       "    </tr>\n",
       "    <tr>\n",
       "      <th>1</th>\n",
       "      <td>Benton</td>\n",
       "      <td>91</td>\n",
       "      <td>30</td>\n",
       "      <td>30</td>\n",
       "      <td>33.0%</td>\n",
       "      <td>100.0%</td>\n",
       "    </tr>\n",
       "    <tr>\n",
       "      <th>2</th>\n",
       "      <td>Clackamas</td>\n",
       "      <td>275</td>\n",
       "      <td>94</td>\n",
       "      <td>94</td>\n",
       "      <td>34.2%</td>\n",
       "      <td>100.0%</td>\n",
       "    </tr>\n",
       "    <tr>\n",
       "      <th>3</th>\n",
       "      <td>Clatsop</td>\n",
       "      <td>137</td>\n",
       "      <td>41</td>\n",
       "      <td>41</td>\n",
       "      <td>29.9%</td>\n",
       "      <td>100.0%</td>\n",
       "    </tr>\n",
       "    <tr>\n",
       "      <th>4</th>\n",
       "      <td>Columbia</td>\n",
       "      <td>93</td>\n",
       "      <td>33</td>\n",
       "      <td>33</td>\n",
       "      <td>35.5%</td>\n",
       "      <td>100.0%</td>\n",
       "    </tr>\n",
       "    <tr>\n",
       "      <th>5</th>\n",
       "      <td>Coos</td>\n",
       "      <td>120</td>\n",
       "      <td>27</td>\n",
       "      <td>27</td>\n",
       "      <td>22.5%</td>\n",
       "      <td>100.0%</td>\n",
       "    </tr>\n",
       "    <tr>\n",
       "      <th>6</th>\n",
       "      <td>Crook</td>\n",
       "      <td>35</td>\n",
       "      <td>11</td>\n",
       "      <td>11</td>\n",
       "      <td>31.4%</td>\n",
       "      <td>100.0%</td>\n",
       "    </tr>\n",
       "    <tr>\n",
       "      <th>7</th>\n",
       "      <td>Curry</td>\n",
       "      <td>17</td>\n",
       "      <td>3</td>\n",
       "      <td>3</td>\n",
       "      <td>17.6%</td>\n",
       "      <td>100.0%</td>\n",
       "    </tr>\n",
       "    <tr>\n",
       "      <th>8</th>\n",
       "      <td>Deschutes</td>\n",
       "      <td>172</td>\n",
       "      <td>38</td>\n",
       "      <td>38</td>\n",
       "      <td>22.1%</td>\n",
       "      <td>100.0%</td>\n",
       "    </tr>\n",
       "    <tr>\n",
       "      <th>9</th>\n",
       "      <td>Grant</td>\n",
       "      <td>23</td>\n",
       "      <td>6</td>\n",
       "      <td>6</td>\n",
       "      <td>26.1%</td>\n",
       "      <td>100.0%</td>\n",
       "    </tr>\n",
       "    <tr>\n",
       "      <th>10</th>\n",
       "      <td>Harney</td>\n",
       "      <td>13</td>\n",
       "      <td>11</td>\n",
       "      <td>11</td>\n",
       "      <td>84.6%</td>\n",
       "      <td>100.0%</td>\n",
       "    </tr>\n",
       "    <tr>\n",
       "      <th>11</th>\n",
       "      <td>Hood River</td>\n",
       "      <td>55</td>\n",
       "      <td>20</td>\n",
       "      <td>20</td>\n",
       "      <td>36.4%</td>\n",
       "      <td>100.0%</td>\n",
       "    </tr>\n",
       "    <tr>\n",
       "      <th>12</th>\n",
       "      <td>Jackson</td>\n",
       "      <td>221</td>\n",
       "      <td>51</td>\n",
       "      <td>51</td>\n",
       "      <td>23.1%</td>\n",
       "      <td>100.0%</td>\n",
       "    </tr>\n",
       "    <tr>\n",
       "      <th>13</th>\n",
       "      <td>Jefferson</td>\n",
       "      <td>18</td>\n",
       "      <td>7</td>\n",
       "      <td>7</td>\n",
       "      <td>38.9%</td>\n",
       "      <td>100.0%</td>\n",
       "    </tr>\n",
       "    <tr>\n",
       "      <th>14</th>\n",
       "      <td>Josephine</td>\n",
       "      <td>97</td>\n",
       "      <td>17</td>\n",
       "      <td>17</td>\n",
       "      <td>17.5%</td>\n",
       "      <td>100.0%</td>\n",
       "    </tr>\n",
       "    <tr>\n",
       "      <th>15</th>\n",
       "      <td>Klamath</td>\n",
       "      <td>66</td>\n",
       "      <td>33</td>\n",
       "      <td>33</td>\n",
       "      <td>50.0%</td>\n",
       "      <td>100.0%</td>\n",
       "    </tr>\n",
       "    <tr>\n",
       "      <th>16</th>\n",
       "      <td>Lake</td>\n",
       "      <td>34</td>\n",
       "      <td>21</td>\n",
       "      <td>21</td>\n",
       "      <td>61.8%</td>\n",
       "      <td>100.0%</td>\n",
       "    </tr>\n",
       "    <tr>\n",
       "      <th>17</th>\n",
       "      <td>Lincoln</td>\n",
       "      <td>100</td>\n",
       "      <td>26</td>\n",
       "      <td>26</td>\n",
       "      <td>26.0%</td>\n",
       "      <td>100.0%</td>\n",
       "    </tr>\n",
       "    <tr>\n",
       "      <th>18</th>\n",
       "      <td>Linn</td>\n",
       "      <td>187</td>\n",
       "      <td>54</td>\n",
       "      <td>54</td>\n",
       "      <td>28.9%</td>\n",
       "      <td>100.0%</td>\n",
       "    </tr>\n",
       "    <tr>\n",
       "      <th>19</th>\n",
       "      <td>Marion</td>\n",
       "      <td>210</td>\n",
       "      <td>70</td>\n",
       "      <td>70</td>\n",
       "      <td>33.3%</td>\n",
       "      <td>100.0%</td>\n",
       "    </tr>\n",
       "    <tr>\n",
       "      <th>20</th>\n",
       "      <td>Morrow</td>\n",
       "      <td>31</td>\n",
       "      <td>14</td>\n",
       "      <td>14</td>\n",
       "      <td>45.2%</td>\n",
       "      <td>100.0%</td>\n",
       "    </tr>\n",
       "    <tr>\n",
       "      <th>21</th>\n",
       "      <td>Multnomah</td>\n",
       "      <td>230</td>\n",
       "      <td>73</td>\n",
       "      <td>73</td>\n",
       "      <td>31.7%</td>\n",
       "      <td>100.0%</td>\n",
       "    </tr>\n",
       "    <tr>\n",
       "      <th>22</th>\n",
       "      <td>Tillamook</td>\n",
       "      <td>151</td>\n",
       "      <td>40</td>\n",
       "      <td>40</td>\n",
       "      <td>26.5%</td>\n",
       "      <td>100.0%</td>\n",
       "    </tr>\n",
       "    <tr>\n",
       "      <th>23</th>\n",
       "      <td>Wasco</td>\n",
       "      <td>26</td>\n",
       "      <td>12</td>\n",
       "      <td>12</td>\n",
       "      <td>46.2%</td>\n",
       "      <td>100.0%</td>\n",
       "    </tr>\n",
       "    <tr>\n",
       "      <th>24</th>\n",
       "      <td>Yamhill</td>\n",
       "      <td>108</td>\n",
       "      <td>43</td>\n",
       "      <td>43</td>\n",
       "      <td>39.8%</td>\n",
       "      <td>100.0%</td>\n",
       "    </tr>\n",
       "    <tr>\n",
       "      <th>25</th>\n",
       "      <td>Yamhill and Washington</td>\n",
       "      <td>1</td>\n",
       "      <td>1</td>\n",
       "      <td>1</td>\n",
       "      <td>100.0%</td>\n",
       "      <td>100.0%</td>\n",
       "    </tr>\n",
       "  </tbody>\n",
       "</table>\n",
       "</div>"
      ],
      "text/plain": [
       "                    county  total  QAQC  QAQC_comp QAQC_pct QAQC_comp_pct\n",
       "0                    Baker     38    12         12    31.6%        100.0%\n",
       "1                   Benton     91    30         30    33.0%        100.0%\n",
       "2                Clackamas    275    94         94    34.2%        100.0%\n",
       "3                  Clatsop    137    41         41    29.9%        100.0%\n",
       "4                 Columbia     93    33         33    35.5%        100.0%\n",
       "5                     Coos    120    27         27    22.5%        100.0%\n",
       "6                    Crook     35    11         11    31.4%        100.0%\n",
       "7                    Curry     17     3          3    17.6%        100.0%\n",
       "8                Deschutes    172    38         38    22.1%        100.0%\n",
       "9                    Grant     23     6          6    26.1%        100.0%\n",
       "10                  Harney     13    11         11    84.6%        100.0%\n",
       "11              Hood River     55    20         20    36.4%        100.0%\n",
       "12                 Jackson    221    51         51    23.1%        100.0%\n",
       "13               Jefferson     18     7          7    38.9%        100.0%\n",
       "14               Josephine     97    17         17    17.5%        100.0%\n",
       "15                 Klamath     66    33         33    50.0%        100.0%\n",
       "16                    Lake     34    21         21    61.8%        100.0%\n",
       "17                 Lincoln    100    26         26    26.0%        100.0%\n",
       "18                    Linn    187    54         54    28.9%        100.0%\n",
       "19                  Marion    210    70         70    33.3%        100.0%\n",
       "20                  Morrow     31    14         14    45.2%        100.0%\n",
       "21               Multnomah    230    73         73    31.7%        100.0%\n",
       "22               Tillamook    151    40         40    26.5%        100.0%\n",
       "23                   Wasco     26    12         12    46.2%        100.0%\n",
       "24                 Yamhill    108    43         43    39.8%        100.0%\n",
       "25  Yamhill and Washington      1     1          1   100.0%        100.0%"
      ]
     },
     "execution_count": 65,
     "metadata": {},
     "output_type": "execute_result"
    }
   ],
   "source": [
    "out1"
   ]
  },
  {
   "cell_type": "code",
   "execution_count": 66,
   "id": "7901eacc",
   "metadata": {},
   "outputs": [],
   "source": [
    "out1.columns = ['County', 'Total Count', 'QAQC Count', 'QAQC Completed Count', \n",
    "                'QAQC Count Percentage', 'QAQC Completed Count Percentage']"
   ]
  },
  {
   "cell_type": "code",
   "execution_count": 67,
   "id": "fc26a9b7",
   "metadata": {},
   "outputs": [],
   "source": [
    "file=os.path.join(inpath, 'reporting', f'StatusReport{str(date.today()).replace(\"-\", \"\")}.xlsx')"
   ]
  },
  {
   "cell_type": "code",
   "execution_count": 68,
   "id": "c34cd77b",
   "metadata": {},
   "outputs": [],
   "source": [
    "out1.to_excel(file, index=False)"
   ]
  },
  {
   "cell_type": "code",
   "execution_count": 69,
   "id": "662aff7e",
   "metadata": {},
   "outputs": [
    {
     "name": "stdout",
     "output_type": "stream",
     "text": [
      "Removed format\n",
      "Autofitted columns...\n"
     ]
    }
   ],
   "source": [
    "reformat(file)"
   ]
  }
 ],
 "metadata": {
  "kernelspec": {
   "display_name": "Python 3",
   "language": "python",
   "name": "python3"
  },
  "language_info": {
   "codemirror_mode": {
    "name": "ipython",
    "version": 3
   },
   "file_extension": ".py",
   "mimetype": "text/x-python",
   "name": "python",
   "nbconvert_exporter": "python",
   "pygments_lexer": "ipython3",
   "version": "3.8.8"
  }
 },
 "nbformat": 4,
 "nbformat_minor": 5
}
