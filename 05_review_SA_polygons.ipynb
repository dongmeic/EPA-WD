{
 "cells": [
  {
   "cell_type": "code",
   "execution_count": 1,
   "id": "64bd265f",
   "metadata": {},
   "outputs": [],
   "source": [
    "%load_ext autoreload\n",
    "%autoreload 2"
   ]
  },
  {
   "cell_type": "code",
   "execution_count": 136,
   "id": "ac835742",
   "metadata": {},
   "outputs": [],
   "source": [
    "from wdtools import *"
   ]
  },
  {
   "cell_type": "code",
   "execution_count": 3,
   "id": "e7bdf3f7",
   "metadata": {},
   "outputs": [
    {
     "name": "stdout",
     "output_type": "stream",
     "text": [
      "it took 9.0 minutes to complete\n"
     ]
    }
   ],
   "source": [
    "# this can take about 9 - 11 minutes\n",
    "start = time.time()\n",
    "all_taxlot = combine_taxlot()\n",
    "end = time.time()\n",
    "print(f'it took {round((end - start)/60, 0)} minutes to complete')"
   ]
  },
  {
   "cell_type": "code",
   "execution_count": 4,
   "id": "6de0311d",
   "metadata": {},
   "outputs": [
    {
     "name": "stdout",
     "output_type": "stream",
     "text": [
      "it took 1.0 minutes to complete\n"
     ]
    }
   ],
   "source": [
    "start = time.time()\n",
    "all_mapIdx = read_all_mapIdx()\n",
    "end = time.time()\n",
    "print(f'it took {round((end - start)/60, 0)} minutes to complete')"
   ]
  },
  {
   "cell_type": "code",
   "execution_count": 5,
   "id": "e988adea",
   "metadata": {},
   "outputs": [],
   "source": [
    "sa_gdf_all = get_all_SA(num=4)\n",
    "wd_df = get_all_wd(num=4)"
   ]
  },
  {
   "cell_type": "code",
   "execution_count": 45,
   "id": "06a024f4",
   "metadata": {
    "scrolled": true
   },
   "outputs": [
    {
     "data": {
      "text/plain": [
       "Index(['wetdet_delin_number', 'trsqq', 'parcel_id', 'address_location_desc',\n",
       "       'city', 'county', 'site_name', 'site_desc', 'latitude', 'longitude',\n",
       "       'Coord-Source', 'DocumentName', 'DecisionLink', 'is_batch_file',\n",
       "       'status_name', 'received_date', 'response_date',\n",
       "       'reissuance_response_date', 'project_id', 'site_id', 'record_ID',\n",
       "       'notes', 'recyear', 'IDyear', 'missinglot', 'SetID'],\n",
       "      dtype='object')"
      ]
     },
     "execution_count": 45,
     "metadata": {},
     "output_type": "execute_result"
    }
   ],
   "source": [
    "wd_df.columns"
   ]
  },
  {
   "cell_type": "code",
   "execution_count": 54,
   "id": "7d49875d",
   "metadata": {},
   "outputs": [
    {
     "data": {
      "text/plain": [
       "array(['Clatsop', 'Coos', 'Deschutes', 'Harney', 'Jackson', 'Josephine',\n",
       "       'Lake', 'Marion', 'Baker', 'Benton', 'Clackamas', 'Morrow',\n",
       "       'Columbia', 'Grant', 'Klamath', 'Lincoln', 'Tillamook',\n",
       "       'TIllamook', 'Crook', 'Curry', 'Hood River', 'Jefferson', 'Linn',\n",
       "       'Multnomah', 'Wasco', 'Yamhill', 'Yamhill and Washington'],\n",
       "      dtype=object)"
      ]
     },
     "execution_count": 54,
     "metadata": {},
     "output_type": "execute_result"
    }
   ],
   "source": [
    "wd_df.county.unique()"
   ]
  },
  {
   "cell_type": "code",
   "execution_count": 149,
   "id": "bc9edb79",
   "metadata": {},
   "outputs": [
    {
     "data": {
      "text/html": [
       "<div>\n",
       "<style scoped>\n",
       "    .dataframe tbody tr th:only-of-type {\n",
       "        vertical-align: middle;\n",
       "    }\n",
       "\n",
       "    .dataframe tbody tr th {\n",
       "        vertical-align: top;\n",
       "    }\n",
       "\n",
       "    .dataframe thead th {\n",
       "        text-align: right;\n",
       "    }\n",
       "</style>\n",
       "<table border=\"1\" class=\"dataframe\">\n",
       "  <thead>\n",
       "    <tr style=\"text-align: right;\">\n",
       "      <th></th>\n",
       "      <th>wetdet_delin_number</th>\n",
       "      <th>trsqq</th>\n",
       "      <th>parcel_id</th>\n",
       "      <th>address_location_desc</th>\n",
       "      <th>city</th>\n",
       "      <th>county</th>\n",
       "      <th>site_name</th>\n",
       "      <th>site_desc</th>\n",
       "      <th>latitude</th>\n",
       "      <th>longitude</th>\n",
       "      <th>...</th>\n",
       "      <th>response_date</th>\n",
       "      <th>reissuance_response_date</th>\n",
       "      <th>project_id</th>\n",
       "      <th>site_id</th>\n",
       "      <th>record_ID</th>\n",
       "      <th>notes</th>\n",
       "      <th>recyear</th>\n",
       "      <th>IDyear</th>\n",
       "      <th>missinglot</th>\n",
       "      <th>SetID</th>\n",
       "    </tr>\n",
       "  </thead>\n",
       "  <tbody>\n",
       "  </tbody>\n",
       "</table>\n",
       "<p>0 rows × 26 columns</p>\n",
       "</div>"
      ],
      "text/plain": [
       "Empty DataFrame\n",
       "Columns: [wetdet_delin_number, trsqq, parcel_id, address_location_desc, city, county, site_name, site_desc, latitude, longitude, Coord-Source, DocumentName, DecisionLink, is_batch_file, status_name, received_date, response_date, reissuance_response_date, project_id, site_id, record_ID, notes, recyear, IDyear, missinglot, SetID]\n",
       "Index: []\n",
       "\n",
       "[0 rows x 26 columns]"
      ]
     },
     "execution_count": 149,
     "metadata": {},
     "output_type": "execute_result"
    }
   ],
   "source": [
    "wd_df[wd_df.county.isin(['Washington', 'Sherman', 'Wallowa', 'Douglas', 'Malheur'])]"
   ]
  },
  {
   "cell_type": "code",
   "execution_count": 150,
   "id": "fd9936d7",
   "metadata": {},
   "outputs": [
    {
     "data": {
      "text/html": [
       "<div>\n",
       "<style scoped>\n",
       "    .dataframe tbody tr th:only-of-type {\n",
       "        vertical-align: middle;\n",
       "    }\n",
       "\n",
       "    .dataframe tbody tr th {\n",
       "        vertical-align: top;\n",
       "    }\n",
       "\n",
       "    .dataframe thead th {\n",
       "        text-align: right;\n",
       "    }\n",
       "</style>\n",
       "<table border=\"1\" class=\"dataframe\">\n",
       "  <thead>\n",
       "    <tr style=\"text-align: right;\">\n",
       "      <th></th>\n",
       "      <th>wetdet_delin_number</th>\n",
       "      <th>trsqq</th>\n",
       "      <th>parcel_id</th>\n",
       "      <th>address_location_desc</th>\n",
       "      <th>city</th>\n",
       "      <th>county</th>\n",
       "      <th>site_name</th>\n",
       "      <th>site_desc</th>\n",
       "      <th>latitude</th>\n",
       "      <th>longitude</th>\n",
       "      <th>...</th>\n",
       "      <th>response_date</th>\n",
       "      <th>reissuance_response_date</th>\n",
       "      <th>project_id</th>\n",
       "      <th>site_id</th>\n",
       "      <th>record_ID</th>\n",
       "      <th>notes</th>\n",
       "      <th>recyear</th>\n",
       "      <th>IDyear</th>\n",
       "      <th>missinglot</th>\n",
       "      <th>SetID</th>\n",
       "    </tr>\n",
       "  </thead>\n",
       "  <tbody>\n",
       "    <tr>\n",
       "      <th>585</th>\n",
       "      <td>WD2019-0259</td>\n",
       "      <td>18S47E09</td>\n",
       "      <td>100</td>\n",
       "      <td>650 College Blvd</td>\n",
       "      <td>Ontario</td>\n",
       "      <td>Harney</td>\n",
       "      <td>Treasure Valley Connector Trail</td>\n",
       "      <td>WD2019-0259 grant</td>\n",
       "      <td>44.014009</td>\n",
       "      <td>-116.975519</td>\n",
       "      <td>...</td>\n",
       "      <td>2019-05-09</td>\n",
       "      <td>NaN</td>\n",
       "      <td>78130.0</td>\n",
       "      <td>128583</td>\n",
       "      <td>586</td>\n",
       "      <td></td>\n",
       "      <td>2019</td>\n",
       "      <td>2019</td>\n",
       "      <td>N</td>\n",
       "      <td>1</td>\n",
       "    </tr>\n",
       "  </tbody>\n",
       "</table>\n",
       "<p>1 rows × 26 columns</p>\n",
       "</div>"
      ],
      "text/plain": [
       "    wetdet_delin_number     trsqq parcel_id address_location_desc     city  \\\n",
       "585         WD2019-0259  18S47E09       100      650 College Blvd  Ontario   \n",
       "\n",
       "     county                        site_name          site_desc   latitude  \\\n",
       "585  Harney  Treasure Valley Connector Trail  WD2019-0259 grant  44.014009   \n",
       "\n",
       "      longitude  ... response_date reissuance_response_date project_id  \\\n",
       "585 -116.975519  ...    2019-05-09                      NaN    78130.0   \n",
       "\n",
       "    site_id record_ID notes recyear IDyear  missinglot  SetID  \n",
       "585  128583       586          2019   2019           N      1  \n",
       "\n",
       "[1 rows x 26 columns]"
      ]
     },
     "execution_count": 150,
     "metadata": {},
     "output_type": "execute_result"
    }
   ],
   "source": [
    "wd_df[wd_df.wetdet_delin_number == 'WD2019-0259']"
   ]
  },
  {
   "cell_type": "code",
   "execution_count": 97,
   "id": "100e09a4",
   "metadata": {},
   "outputs": [],
   "source": [
    "#wdIDs = wd_df[wd_df.county!='Yamhill and Washington'].wetdet_delin_number.unique()\n",
    "wdIDs = wd_df[wd_df.county == 'Morrow'].wetdet_delin_number.unique()"
   ]
  },
  {
   "cell_type": "code",
   "execution_count": 98,
   "id": "b16a8ea4",
   "metadata": {},
   "outputs": [],
   "source": [
    "# example data\n",
    "em_wids = wdIDs\n",
    "#em_wids = ['WD2020-0130', 'WD2020-0271', 'WD2022-0083', 'WD2022-0026']"
   ]
  },
  {
   "cell_type": "code",
   "execution_count": 99,
   "id": "112d24e2",
   "metadata": {},
   "outputs": [],
   "source": [
    "wdIDs_unmapped = [wid for wid in em_wids if wid not in sa_gdf_all.wdID.values]"
   ]
  },
  {
   "cell_type": "code",
   "execution_count": 100,
   "id": "6efa80c8",
   "metadata": {},
   "outputs": [
    {
     "data": {
      "text/plain": [
       "['WD2017-0198', 'WD2017-0229', 'WD2019-0082']"
      ]
     },
     "execution_count": 100,
     "metadata": {},
     "output_type": "execute_result"
    }
   ],
   "source": [
    "wdIDs_unmapped"
   ]
  },
  {
   "cell_type": "code",
   "execution_count": 9,
   "id": "3243f6e0",
   "metadata": {},
   "outputs": [
    {
     "data": {
      "text/html": [
       "<div>\n",
       "<style scoped>\n",
       "    .dataframe tbody tr th:only-of-type {\n",
       "        vertical-align: middle;\n",
       "    }\n",
       "\n",
       "    .dataframe tbody tr th {\n",
       "        vertical-align: top;\n",
       "    }\n",
       "\n",
       "    .dataframe thead th {\n",
       "        text-align: right;\n",
       "    }\n",
       "</style>\n",
       "<table border=\"1\" class=\"dataframe\">\n",
       "  <thead>\n",
       "    <tr style=\"text-align: right;\">\n",
       "      <th></th>\n",
       "      <th>wetdet_delin_number</th>\n",
       "      <th>trsqq</th>\n",
       "      <th>parcel_id</th>\n",
       "      <th>address_location_desc</th>\n",
       "      <th>city</th>\n",
       "      <th>county</th>\n",
       "      <th>site_name</th>\n",
       "      <th>site_desc</th>\n",
       "      <th>latitude</th>\n",
       "      <th>longitude</th>\n",
       "      <th>...</th>\n",
       "      <th>response_date</th>\n",
       "      <th>reissuance_response_date</th>\n",
       "      <th>project_id</th>\n",
       "      <th>site_id</th>\n",
       "      <th>record_ID</th>\n",
       "      <th>notes</th>\n",
       "      <th>recyear</th>\n",
       "      <th>IDyear</th>\n",
       "      <th>missinglot</th>\n",
       "      <th>SetID</th>\n",
       "    </tr>\n",
       "  </thead>\n",
       "  <tbody>\n",
       "    <tr>\n",
       "      <th>1422</th>\n",
       "      <td>WD2017-0229</td>\n",
       "      <td>07S40E00</td>\n",
       "      <td>Many tax maps and tax lots</td>\n",
       "      <td>Project crosses five counties from Boardman to...</td>\n",
       "      <td>NaN</td>\n",
       "      <td>Baker</td>\n",
       "      <td>Boardman to Hemingway Trans Line</td>\n",
       "      <td>New 500-kilovolt transmission line and associa...</td>\n",
       "      <td>45.831088</td>\n",
       "      <td>-119.623309</td>\n",
       "      <td>...</td>\n",
       "      <td>2018-09-13</td>\n",
       "      <td>NaN</td>\n",
       "      <td>54125.0</td>\n",
       "      <td>110476</td>\n",
       "      <td>1423</td>\n",
       "      <td>Partial, Many</td>\n",
       "      <td>2017</td>\n",
       "      <td>2017</td>\n",
       "      <td>Y</td>\n",
       "      <td>2</td>\n",
       "    </tr>\n",
       "    <tr>\n",
       "      <th>1423</th>\n",
       "      <td>WD2017-0229</td>\n",
       "      <td>10S40E00</td>\n",
       "      <td>Many tax maps and tax lots</td>\n",
       "      <td>Project crosses five counties from Boardman to...</td>\n",
       "      <td>NaN</td>\n",
       "      <td>Baker</td>\n",
       "      <td>Boardman to Hemingway Trans Line</td>\n",
       "      <td>New 500-kilovolt transmission line and associa...</td>\n",
       "      <td>45.831088</td>\n",
       "      <td>-119.623309</td>\n",
       "      <td>...</td>\n",
       "      <td>2018-09-13</td>\n",
       "      <td>NaN</td>\n",
       "      <td>54125.0</td>\n",
       "      <td>140879</td>\n",
       "      <td>1424</td>\n",
       "      <td>Partial, Many</td>\n",
       "      <td>2017</td>\n",
       "      <td>2017</td>\n",
       "      <td>Y</td>\n",
       "      <td>2</td>\n",
       "    </tr>\n",
       "    <tr>\n",
       "      <th>1424</th>\n",
       "      <td>WD2017-0229</td>\n",
       "      <td>09S41E00</td>\n",
       "      <td>Many tax maps and tax lots</td>\n",
       "      <td>Project crosses five counties from Boardman to...</td>\n",
       "      <td>NaN</td>\n",
       "      <td>Baker</td>\n",
       "      <td>Boardman to Hemingway Trans Line</td>\n",
       "      <td>New 500-kilovolt transmission line and associa...</td>\n",
       "      <td>45.831088</td>\n",
       "      <td>-119.623309</td>\n",
       "      <td>...</td>\n",
       "      <td>2018-09-13</td>\n",
       "      <td>NaN</td>\n",
       "      <td>54125.0</td>\n",
       "      <td>140878</td>\n",
       "      <td>1425</td>\n",
       "      <td>Partial, Many</td>\n",
       "      <td>2017</td>\n",
       "      <td>2017</td>\n",
       "      <td>Y</td>\n",
       "      <td>2</td>\n",
       "    </tr>\n",
       "    <tr>\n",
       "      <th>1425</th>\n",
       "      <td>WD2017-0229</td>\n",
       "      <td>09S40E00</td>\n",
       "      <td>Many tax maps and tax lots</td>\n",
       "      <td>Project crosses five counties from Boardman to...</td>\n",
       "      <td>NaN</td>\n",
       "      <td>Baker</td>\n",
       "      <td>Boardman to Hemingway Trans Line</td>\n",
       "      <td>New 500-kilovolt transmission line and associa...</td>\n",
       "      <td>45.831088</td>\n",
       "      <td>-119.623309</td>\n",
       "      <td>...</td>\n",
       "      <td>2018-09-13</td>\n",
       "      <td>NaN</td>\n",
       "      <td>54125.0</td>\n",
       "      <td>140877</td>\n",
       "      <td>1426</td>\n",
       "      <td>Partial, Many</td>\n",
       "      <td>2017</td>\n",
       "      <td>2017</td>\n",
       "      <td>Y</td>\n",
       "      <td>2</td>\n",
       "    </tr>\n",
       "    <tr>\n",
       "      <th>1426</th>\n",
       "      <td>WD2017-0229</td>\n",
       "      <td>08S40E00</td>\n",
       "      <td>Many tax maps and tax lots</td>\n",
       "      <td>Project crosses five counties from Boardman to...</td>\n",
       "      <td>NaN</td>\n",
       "      <td>Baker</td>\n",
       "      <td>Boardman to Hemingway Trans Line</td>\n",
       "      <td>New 500-kilovolt transmission line and associa...</td>\n",
       "      <td>45.831088</td>\n",
       "      <td>-119.623309</td>\n",
       "      <td>...</td>\n",
       "      <td>2018-09-13</td>\n",
       "      <td>NaN</td>\n",
       "      <td>54125.0</td>\n",
       "      <td>140876</td>\n",
       "      <td>1427</td>\n",
       "      <td>Partial, Many</td>\n",
       "      <td>2017</td>\n",
       "      <td>2017</td>\n",
       "      <td>Y</td>\n",
       "      <td>2</td>\n",
       "    </tr>\n",
       "    <tr>\n",
       "      <th>1427</th>\n",
       "      <td>WD2017-0229</td>\n",
       "      <td>10S41E00</td>\n",
       "      <td>Many tax maps and tax lots</td>\n",
       "      <td>Project crosses five counties from Boardman to...</td>\n",
       "      <td>NaN</td>\n",
       "      <td>Baker</td>\n",
       "      <td>Boardman to Hemingway Trans Line</td>\n",
       "      <td>New 500-kilovolt transmission line and associa...</td>\n",
       "      <td>45.831088</td>\n",
       "      <td>-119.623309</td>\n",
       "      <td>...</td>\n",
       "      <td>2018-09-13</td>\n",
       "      <td>NaN</td>\n",
       "      <td>54125.0</td>\n",
       "      <td>140880</td>\n",
       "      <td>1428</td>\n",
       "      <td>Partial, Many</td>\n",
       "      <td>2017</td>\n",
       "      <td>2017</td>\n",
       "      <td>Y</td>\n",
       "      <td>2</td>\n",
       "    </tr>\n",
       "    <tr>\n",
       "      <th>1428</th>\n",
       "      <td>WD2017-0229</td>\n",
       "      <td>11S43E00</td>\n",
       "      <td>Many tax maps and tax lots</td>\n",
       "      <td>Project crosses five counties from Boardman to...</td>\n",
       "      <td>NaN</td>\n",
       "      <td>Baker</td>\n",
       "      <td>Boardman to Hemingway Trans Line</td>\n",
       "      <td>New 500-kilovolt transmission line and associa...</td>\n",
       "      <td>45.831088</td>\n",
       "      <td>-119.623309</td>\n",
       "      <td>...</td>\n",
       "      <td>2018-09-13</td>\n",
       "      <td>NaN</td>\n",
       "      <td>54125.0</td>\n",
       "      <td>140883</td>\n",
       "      <td>1429</td>\n",
       "      <td>Partial, Many</td>\n",
       "      <td>2017</td>\n",
       "      <td>2017</td>\n",
       "      <td>Y</td>\n",
       "      <td>2</td>\n",
       "    </tr>\n",
       "    <tr>\n",
       "      <th>1429</th>\n",
       "      <td>WD2017-0229</td>\n",
       "      <td>15S45E00</td>\n",
       "      <td>Many tax maps and tax lots</td>\n",
       "      <td>Project crosses five counties from Boardman to...</td>\n",
       "      <td>NaN</td>\n",
       "      <td>Baker</td>\n",
       "      <td>Boardman to Hemingway Trans Line</td>\n",
       "      <td>New 500-kilovolt transmission line and associa...</td>\n",
       "      <td>45.831088</td>\n",
       "      <td>-119.623309</td>\n",
       "      <td>...</td>\n",
       "      <td>2018-09-13</td>\n",
       "      <td>NaN</td>\n",
       "      <td>54125.0</td>\n",
       "      <td>140889</td>\n",
       "      <td>1430</td>\n",
       "      <td>Partial, Many</td>\n",
       "      <td>2017</td>\n",
       "      <td>2017</td>\n",
       "      <td>Y</td>\n",
       "      <td>2</td>\n",
       "    </tr>\n",
       "    <tr>\n",
       "      <th>1430</th>\n",
       "      <td>WD2017-0229</td>\n",
       "      <td>10S42E00</td>\n",
       "      <td>Many tax maps and tax lots</td>\n",
       "      <td>Project crosses five counties from Boardman to...</td>\n",
       "      <td>NaN</td>\n",
       "      <td>Baker</td>\n",
       "      <td>Boardman to Hemingway Trans Line</td>\n",
       "      <td>New 500-kilovolt transmission line and associa...</td>\n",
       "      <td>45.831088</td>\n",
       "      <td>-119.623309</td>\n",
       "      <td>...</td>\n",
       "      <td>2018-09-13</td>\n",
       "      <td>NaN</td>\n",
       "      <td>54125.0</td>\n",
       "      <td>140881</td>\n",
       "      <td>1431</td>\n",
       "      <td>Partial, Many</td>\n",
       "      <td>2017</td>\n",
       "      <td>2017</td>\n",
       "      <td>Y</td>\n",
       "      <td>2</td>\n",
       "    </tr>\n",
       "    <tr>\n",
       "      <th>1431</th>\n",
       "      <td>WD2017-0229</td>\n",
       "      <td>14S45E00</td>\n",
       "      <td>Many tax maps and tax lots</td>\n",
       "      <td>Project crosses five counties from Boardman to...</td>\n",
       "      <td>NaN</td>\n",
       "      <td>Baker</td>\n",
       "      <td>Boardman to Hemingway Trans Line</td>\n",
       "      <td>New 500-kilovolt transmission line and associa...</td>\n",
       "      <td>45.831088</td>\n",
       "      <td>-119.623309</td>\n",
       "      <td>...</td>\n",
       "      <td>2018-09-13</td>\n",
       "      <td>NaN</td>\n",
       "      <td>54125.0</td>\n",
       "      <td>140888</td>\n",
       "      <td>1432</td>\n",
       "      <td>Partial, Many</td>\n",
       "      <td>2017</td>\n",
       "      <td>2017</td>\n",
       "      <td>Y</td>\n",
       "      <td>2</td>\n",
       "    </tr>\n",
       "    <tr>\n",
       "      <th>1432</th>\n",
       "      <td>WD2017-0229</td>\n",
       "      <td>14S44E00</td>\n",
       "      <td>Many tax maps and tax lots</td>\n",
       "      <td>Project crosses five counties from Boardman to...</td>\n",
       "      <td>NaN</td>\n",
       "      <td>Baker</td>\n",
       "      <td>Boardman to Hemingway Trans Line</td>\n",
       "      <td>New 500-kilovolt transmission line and associa...</td>\n",
       "      <td>45.831088</td>\n",
       "      <td>-119.623309</td>\n",
       "      <td>...</td>\n",
       "      <td>2018-09-13</td>\n",
       "      <td>NaN</td>\n",
       "      <td>54125.0</td>\n",
       "      <td>140887</td>\n",
       "      <td>1433</td>\n",
       "      <td>Partial, Many</td>\n",
       "      <td>2017</td>\n",
       "      <td>2017</td>\n",
       "      <td>Y</td>\n",
       "      <td>2</td>\n",
       "    </tr>\n",
       "    <tr>\n",
       "      <th>1433</th>\n",
       "      <td>WD2017-0229</td>\n",
       "      <td>13S44E00</td>\n",
       "      <td>Many tax maps and tax lots</td>\n",
       "      <td>Project crosses five counties from Boardman to...</td>\n",
       "      <td>NaN</td>\n",
       "      <td>Baker</td>\n",
       "      <td>Boardman to Hemingway Trans Line</td>\n",
       "      <td>New 500-kilovolt transmission line and associa...</td>\n",
       "      <td>45.831088</td>\n",
       "      <td>-119.623309</td>\n",
       "      <td>...</td>\n",
       "      <td>2018-09-13</td>\n",
       "      <td>NaN</td>\n",
       "      <td>54125.0</td>\n",
       "      <td>140886</td>\n",
       "      <td>1434</td>\n",
       "      <td>Partial, Many</td>\n",
       "      <td>2017</td>\n",
       "      <td>2017</td>\n",
       "      <td>Y</td>\n",
       "      <td>2</td>\n",
       "    </tr>\n",
       "    <tr>\n",
       "      <th>1434</th>\n",
       "      <td>WD2017-0229</td>\n",
       "      <td>12S43E00</td>\n",
       "      <td>Many tax maps and tax lots</td>\n",
       "      <td>Project crosses five counties from Boardman to...</td>\n",
       "      <td>NaN</td>\n",
       "      <td>Baker</td>\n",
       "      <td>Boardman to Hemingway Trans Line</td>\n",
       "      <td>New 500-kilovolt transmission line and associa...</td>\n",
       "      <td>45.831088</td>\n",
       "      <td>-119.623309</td>\n",
       "      <td>...</td>\n",
       "      <td>2018-09-13</td>\n",
       "      <td>NaN</td>\n",
       "      <td>54125.0</td>\n",
       "      <td>140885</td>\n",
       "      <td>1435</td>\n",
       "      <td>Partial, Many</td>\n",
       "      <td>2017</td>\n",
       "      <td>2017</td>\n",
       "      <td>Y</td>\n",
       "      <td>2</td>\n",
       "    </tr>\n",
       "    <tr>\n",
       "      <th>1435</th>\n",
       "      <td>WD2017-0229</td>\n",
       "      <td>12S42E00</td>\n",
       "      <td>Many tax maps and tax lots</td>\n",
       "      <td>Project crosses five counties from Boardman to...</td>\n",
       "      <td>NaN</td>\n",
       "      <td>Baker</td>\n",
       "      <td>Boardman to Hemingway Trans Line</td>\n",
       "      <td>New 500-kilovolt transmission line and associa...</td>\n",
       "      <td>45.831088</td>\n",
       "      <td>-119.623309</td>\n",
       "      <td>...</td>\n",
       "      <td>2018-09-13</td>\n",
       "      <td>NaN</td>\n",
       "      <td>54125.0</td>\n",
       "      <td>140884</td>\n",
       "      <td>1436</td>\n",
       "      <td>Partial, Many</td>\n",
       "      <td>2017</td>\n",
       "      <td>2017</td>\n",
       "      <td>Y</td>\n",
       "      <td>2</td>\n",
       "    </tr>\n",
       "    <tr>\n",
       "      <th>1436</th>\n",
       "      <td>WD2017-0229</td>\n",
       "      <td>11S42E00</td>\n",
       "      <td>Many tax maps and tax lots</td>\n",
       "      <td>Project crosses five counties from Boardman to...</td>\n",
       "      <td>NaN</td>\n",
       "      <td>Baker</td>\n",
       "      <td>Boardman to Hemingway Trans Line</td>\n",
       "      <td>New 500-kilovolt transmission line and associa...</td>\n",
       "      <td>45.831088</td>\n",
       "      <td>-119.623309</td>\n",
       "      <td>...</td>\n",
       "      <td>2018-09-13</td>\n",
       "      <td>NaN</td>\n",
       "      <td>54125.0</td>\n",
       "      <td>140882</td>\n",
       "      <td>1437</td>\n",
       "      <td>Partial, Many</td>\n",
       "      <td>2017</td>\n",
       "      <td>2017</td>\n",
       "      <td>Y</td>\n",
       "      <td>2</td>\n",
       "    </tr>\n",
       "    <tr>\n",
       "      <th>2067</th>\n",
       "      <td>WD2017-0198</td>\n",
       "      <td>05N27E19BC</td>\n",
       "      <td>100</td>\n",
       "      <td>Irrigon Park</td>\n",
       "      <td>Irrigon</td>\n",
       "      <td>Morrow</td>\n",
       "      <td>Irrigon Heritage Trail 05N27E19BC</td>\n",
       "      <td>Irrigon Heritage Trail</td>\n",
       "      <td>45.900754</td>\n",
       "      <td>-119.488097</td>\n",
       "      <td>...</td>\n",
       "      <td>2017-05-05</td>\n",
       "      <td>NaN</td>\n",
       "      <td>NaN</td>\n",
       "      <td>105545</td>\n",
       "      <td>2068</td>\n",
       "      <td></td>\n",
       "      <td>2017</td>\n",
       "      <td>2017</td>\n",
       "      <td>N</td>\n",
       "      <td>2</td>\n",
       "    </tr>\n",
       "    <tr>\n",
       "      <th>2068</th>\n",
       "      <td>WD2017-0198</td>\n",
       "      <td>05N27E19</td>\n",
       "      <td>100</td>\n",
       "      <td>Irrigon Park</td>\n",
       "      <td>Irrigon</td>\n",
       "      <td>Morrow</td>\n",
       "      <td>Irrigon Heritage Trail 05N27E19</td>\n",
       "      <td>Irrigon Heritage Trail</td>\n",
       "      <td>45.900754</td>\n",
       "      <td>-119.488097</td>\n",
       "      <td>...</td>\n",
       "      <td>2017-05-05</td>\n",
       "      <td>NaN</td>\n",
       "      <td>NaN</td>\n",
       "      <td>105543</td>\n",
       "      <td>2069</td>\n",
       "      <td></td>\n",
       "      <td>2017</td>\n",
       "      <td>2017</td>\n",
       "      <td>N</td>\n",
       "      <td>2</td>\n",
       "    </tr>\n",
       "    <tr>\n",
       "      <th>2069</th>\n",
       "      <td>WD2017-0198</td>\n",
       "      <td>05N27E19CB</td>\n",
       "      <td>ROW</td>\n",
       "      <td>Irrigon Park</td>\n",
       "      <td>Irrigon</td>\n",
       "      <td>Morrow</td>\n",
       "      <td>Irrigon Heritage Trail 05N27E19CB</td>\n",
       "      <td>Irrigon Heritage Trail</td>\n",
       "      <td>45.900754</td>\n",
       "      <td>-119.488097</td>\n",
       "      <td>...</td>\n",
       "      <td>2017-05-05</td>\n",
       "      <td>NaN</td>\n",
       "      <td>NaN</td>\n",
       "      <td>105544</td>\n",
       "      <td>2070</td>\n",
       "      <td>ROW</td>\n",
       "      <td>2017</td>\n",
       "      <td>2017</td>\n",
       "      <td>Y</td>\n",
       "      <td>2</td>\n",
       "    </tr>\n",
       "    <tr>\n",
       "      <th>2070</th>\n",
       "      <td>WD2017-0229</td>\n",
       "      <td>01N26E00</td>\n",
       "      <td>Many tax maps and tax lots</td>\n",
       "      <td>Project crosses five counties from Boardman to...</td>\n",
       "      <td>NaN</td>\n",
       "      <td>Morrow</td>\n",
       "      <td>Boardman to Hemingway Trans Line</td>\n",
       "      <td>New 500-kilovolt transmission line and associa...</td>\n",
       "      <td>45.831088</td>\n",
       "      <td>-119.623309</td>\n",
       "      <td>...</td>\n",
       "      <td>2018-09-13</td>\n",
       "      <td>NaN</td>\n",
       "      <td>54125.0</td>\n",
       "      <td>105663</td>\n",
       "      <td>2071</td>\n",
       "      <td>Partial, Many</td>\n",
       "      <td>2017</td>\n",
       "      <td>2017</td>\n",
       "      <td>Y</td>\n",
       "      <td>2</td>\n",
       "    </tr>\n",
       "    <tr>\n",
       "      <th>2071</th>\n",
       "      <td>WD2017-0229</td>\n",
       "      <td>01N27E00</td>\n",
       "      <td>Many tax maps and tax lots</td>\n",
       "      <td>Project crosses five counties from Boardman to...</td>\n",
       "      <td>NaN</td>\n",
       "      <td>Morrow</td>\n",
       "      <td>Boardman to Hemingway Trans Line</td>\n",
       "      <td>New 500-kilovolt transmission line and associa...</td>\n",
       "      <td>45.831088</td>\n",
       "      <td>-119.623309</td>\n",
       "      <td>...</td>\n",
       "      <td>2018-09-13</td>\n",
       "      <td>NaN</td>\n",
       "      <td>54125.0</td>\n",
       "      <td>140853</td>\n",
       "      <td>2072</td>\n",
       "      <td>Partial, Many</td>\n",
       "      <td>2017</td>\n",
       "      <td>2017</td>\n",
       "      <td>Y</td>\n",
       "      <td>2</td>\n",
       "    </tr>\n",
       "    <tr>\n",
       "      <th>2072</th>\n",
       "      <td>WD2017-0229</td>\n",
       "      <td>01N28E00</td>\n",
       "      <td>Many tax maps and tax lots</td>\n",
       "      <td>Project crosses five counties from Boardman to...</td>\n",
       "      <td>NaN</td>\n",
       "      <td>Morrow</td>\n",
       "      <td>Boardman to Hemingway Trans Line</td>\n",
       "      <td>New 500-kilovolt transmission line and associa...</td>\n",
       "      <td>45.831088</td>\n",
       "      <td>-119.623309</td>\n",
       "      <td>...</td>\n",
       "      <td>2018-09-13</td>\n",
       "      <td>NaN</td>\n",
       "      <td>54125.0</td>\n",
       "      <td>140854</td>\n",
       "      <td>2073</td>\n",
       "      <td>Partial, Many</td>\n",
       "      <td>2017</td>\n",
       "      <td>2017</td>\n",
       "      <td>Y</td>\n",
       "      <td>2</td>\n",
       "    </tr>\n",
       "    <tr>\n",
       "      <th>2073</th>\n",
       "      <td>WD2017-0229</td>\n",
       "      <td>02N25E00</td>\n",
       "      <td>Many tax maps and tax lots</td>\n",
       "      <td>Project crosses five counties from Boardman to...</td>\n",
       "      <td>NaN</td>\n",
       "      <td>Morrow</td>\n",
       "      <td>Boardman to Hemingway Trans Line</td>\n",
       "      <td>New 500-kilovolt transmission line and associa...</td>\n",
       "      <td>45.831088</td>\n",
       "      <td>-119.623309</td>\n",
       "      <td>...</td>\n",
       "      <td>2018-09-13</td>\n",
       "      <td>NaN</td>\n",
       "      <td>54125.0</td>\n",
       "      <td>140855</td>\n",
       "      <td>2074</td>\n",
       "      <td>Partial, Many</td>\n",
       "      <td>2017</td>\n",
       "      <td>2017</td>\n",
       "      <td>Y</td>\n",
       "      <td>2</td>\n",
       "    </tr>\n",
       "    <tr>\n",
       "      <th>2074</th>\n",
       "      <td>WD2017-0229</td>\n",
       "      <td>02N26E00</td>\n",
       "      <td>Many tax maps and tax lots</td>\n",
       "      <td>Project crosses five counties from Boardman to...</td>\n",
       "      <td>NaN</td>\n",
       "      <td>Morrow</td>\n",
       "      <td>Boardman to Hemingway Trans Line</td>\n",
       "      <td>New 500-kilovolt transmission line and associa...</td>\n",
       "      <td>45.831088</td>\n",
       "      <td>-119.623309</td>\n",
       "      <td>...</td>\n",
       "      <td>2018-09-13</td>\n",
       "      <td>NaN</td>\n",
       "      <td>54125.0</td>\n",
       "      <td>140856</td>\n",
       "      <td>2075</td>\n",
       "      <td>Partial, Many</td>\n",
       "      <td>2017</td>\n",
       "      <td>2017</td>\n",
       "      <td>Y</td>\n",
       "      <td>2</td>\n",
       "    </tr>\n",
       "    <tr>\n",
       "      <th>2075</th>\n",
       "      <td>WD2017-0229</td>\n",
       "      <td>04N25E00</td>\n",
       "      <td>Many tax maps and tax lots</td>\n",
       "      <td>Project crosses five counties from Boardman to...</td>\n",
       "      <td>NaN</td>\n",
       "      <td>Morrow</td>\n",
       "      <td>Boardman to Hemingway Trans Line</td>\n",
       "      <td>New 500-kilovolt transmission line and associa...</td>\n",
       "      <td>45.831088</td>\n",
       "      <td>-119.623309</td>\n",
       "      <td>...</td>\n",
       "      <td>2018-09-13</td>\n",
       "      <td>NaN</td>\n",
       "      <td>54125.0</td>\n",
       "      <td>140857</td>\n",
       "      <td>2076</td>\n",
       "      <td>Partial, Many</td>\n",
       "      <td>2017</td>\n",
       "      <td>2017</td>\n",
       "      <td>Y</td>\n",
       "      <td>2</td>\n",
       "    </tr>\n",
       "    <tr>\n",
       "      <th>2076</th>\n",
       "      <td>WD2017-0229</td>\n",
       "      <td>04N26E00</td>\n",
       "      <td>Many tax maps and tax lots</td>\n",
       "      <td>Project crosses five counties from Boardman to...</td>\n",
       "      <td>NaN</td>\n",
       "      <td>Morrow</td>\n",
       "      <td>Boardman to Hemingway Trans Line</td>\n",
       "      <td>New 500-kilovolt transmission line and associa...</td>\n",
       "      <td>45.831088</td>\n",
       "      <td>-119.623309</td>\n",
       "      <td>...</td>\n",
       "      <td>2018-09-13</td>\n",
       "      <td>NaN</td>\n",
       "      <td>54125.0</td>\n",
       "      <td>140858</td>\n",
       "      <td>2077</td>\n",
       "      <td>Partial, Many</td>\n",
       "      <td>2017</td>\n",
       "      <td>2017</td>\n",
       "      <td>Y</td>\n",
       "      <td>2</td>\n",
       "    </tr>\n",
       "    <tr>\n",
       "      <th>2096</th>\n",
       "      <td>WD2019-0082</td>\n",
       "      <td>04N25E02</td>\n",
       "      <td>100,104,105,106,107,All part</td>\n",
       "      <td>Begins at the existing river pump station (Lew...</td>\n",
       "      <td>Boardman</td>\n",
       "      <td>Morrow</td>\n",
       "      <td>Columbia Improvement District- Irrigation System</td>\n",
       "      <td>Improvements to the irrigation pipeline and bo...</td>\n",
       "      <td>45.861727</td>\n",
       "      <td>-119.647871</td>\n",
       "      <td>...</td>\n",
       "      <td>2019-07-02</td>\n",
       "      <td>NaN</td>\n",
       "      <td>79812.0</td>\n",
       "      <td>127872</td>\n",
       "      <td>2097</td>\n",
       "      <td>Partial</td>\n",
       "      <td>2019</td>\n",
       "      <td>2019</td>\n",
       "      <td>N</td>\n",
       "      <td>2</td>\n",
       "    </tr>\n",
       "    <tr>\n",
       "      <th>2097</th>\n",
       "      <td>WD2019-0082</td>\n",
       "      <td>04N25E02</td>\n",
       "      <td>100,104,105,106,107,All part</td>\n",
       "      <td>Begins at the existing river pump station (Lew...</td>\n",
       "      <td>Boardman</td>\n",
       "      <td>Morrow</td>\n",
       "      <td>Columbia Improvement District- Irrigation System</td>\n",
       "      <td>Improvements to the irrigation pipeline and bo...</td>\n",
       "      <td>45.861727</td>\n",
       "      <td>-119.647871</td>\n",
       "      <td>...</td>\n",
       "      <td>2019-07-02</td>\n",
       "      <td>NaN</td>\n",
       "      <td>77653.0</td>\n",
       "      <td>127872</td>\n",
       "      <td>2098</td>\n",
       "      <td>Partial</td>\n",
       "      <td>2019</td>\n",
       "      <td>2019</td>\n",
       "      <td>N</td>\n",
       "      <td>2</td>\n",
       "    </tr>\n",
       "    <tr>\n",
       "      <th>2098</th>\n",
       "      <td>WD2019-0082</td>\n",
       "      <td>03N26E00</td>\n",
       "      <td>510p</td>\n",
       "      <td>Begins at the existing river pump station (Lew...</td>\n",
       "      <td>Boardman</td>\n",
       "      <td>Morrow</td>\n",
       "      <td>Columbia Improvement District- Irrigation System</td>\n",
       "      <td>Improvements to the irrigation pipeline and bo...</td>\n",
       "      <td>45.771581</td>\n",
       "      <td>-119.622717</td>\n",
       "      <td>...</td>\n",
       "      <td>2019-07-02</td>\n",
       "      <td>NaN</td>\n",
       "      <td>79812.0</td>\n",
       "      <td>127881</td>\n",
       "      <td>2099</td>\n",
       "      <td>Partial</td>\n",
       "      <td>2019</td>\n",
       "      <td>2019</td>\n",
       "      <td>N</td>\n",
       "      <td>2</td>\n",
       "    </tr>\n",
       "    <tr>\n",
       "      <th>2099</th>\n",
       "      <td>WD2019-0082</td>\n",
       "      <td>03N26E00</td>\n",
       "      <td>510p</td>\n",
       "      <td>Begins at the existing river pump station (Lew...</td>\n",
       "      <td>Boardman</td>\n",
       "      <td>Morrow</td>\n",
       "      <td>Columbia Improvement District- Irrigation System</td>\n",
       "      <td>Improvements to the irrigation pipeline and bo...</td>\n",
       "      <td>45.771581</td>\n",
       "      <td>-119.622717</td>\n",
       "      <td>...</td>\n",
       "      <td>2019-07-02</td>\n",
       "      <td>NaN</td>\n",
       "      <td>77653.0</td>\n",
       "      <td>127881</td>\n",
       "      <td>2100</td>\n",
       "      <td>Partial</td>\n",
       "      <td>2019</td>\n",
       "      <td>2019</td>\n",
       "      <td>N</td>\n",
       "      <td>2</td>\n",
       "    </tr>\n",
       "    <tr>\n",
       "      <th>2100</th>\n",
       "      <td>WD2019-0082</td>\n",
       "      <td>04N26E00</td>\n",
       "      <td>3405,3407,3416,3419,4700,4703,All part</td>\n",
       "      <td>Begins at the existing river pump station (Lew...</td>\n",
       "      <td>Boardman</td>\n",
       "      <td>Morrow</td>\n",
       "      <td>Columbia Improvement District- Irrigation System</td>\n",
       "      <td>Improvements to the irrigation pipeline and bo...</td>\n",
       "      <td>45.824771</td>\n",
       "      <td>-119.618111</td>\n",
       "      <td>...</td>\n",
       "      <td>2019-07-02</td>\n",
       "      <td>NaN</td>\n",
       "      <td>79812.0</td>\n",
       "      <td>127877</td>\n",
       "      <td>2101</td>\n",
       "      <td>Partial</td>\n",
       "      <td>2019</td>\n",
       "      <td>2019</td>\n",
       "      <td>N</td>\n",
       "      <td>2</td>\n",
       "    </tr>\n",
       "    <tr>\n",
       "      <th>2101</th>\n",
       "      <td>WD2019-0082</td>\n",
       "      <td>04N26E00</td>\n",
       "      <td>3405,3407,3416,3419,4700,4703,All part</td>\n",
       "      <td>Begins at the existing river pump station (Lew...</td>\n",
       "      <td>Boardman</td>\n",
       "      <td>Morrow</td>\n",
       "      <td>Columbia Improvement District- Irrigation System</td>\n",
       "      <td>Improvements to the irrigation pipeline and bo...</td>\n",
       "      <td>45.824771</td>\n",
       "      <td>-119.618111</td>\n",
       "      <td>...</td>\n",
       "      <td>2019-07-02</td>\n",
       "      <td>NaN</td>\n",
       "      <td>77653.0</td>\n",
       "      <td>127877</td>\n",
       "      <td>2102</td>\n",
       "      <td>Partial</td>\n",
       "      <td>2019</td>\n",
       "      <td>2019</td>\n",
       "      <td>N</td>\n",
       "      <td>2</td>\n",
       "    </tr>\n",
       "    <tr>\n",
       "      <th>2102</th>\n",
       "      <td>WD2019-0082</td>\n",
       "      <td>04N26E07</td>\n",
       "      <td>100,200,201,All part</td>\n",
       "      <td>Begins at the existing river pump station (Lew...</td>\n",
       "      <td>Boardman</td>\n",
       "      <td>Morrow</td>\n",
       "      <td>Columbia Improvement District- Irrigation System</td>\n",
       "      <td>WD2019-0082 - Improvements to the irrigation p...</td>\n",
       "      <td>45.840226</td>\n",
       "      <td>-119.619808</td>\n",
       "      <td>...</td>\n",
       "      <td>2019-07-02</td>\n",
       "      <td>NaN</td>\n",
       "      <td>79812.0</td>\n",
       "      <td>127876</td>\n",
       "      <td>2103</td>\n",
       "      <td>Partial</td>\n",
       "      <td>2019</td>\n",
       "      <td>2019</td>\n",
       "      <td>N</td>\n",
       "      <td>2</td>\n",
       "    </tr>\n",
       "    <tr>\n",
       "      <th>2103</th>\n",
       "      <td>WD2019-0082</td>\n",
       "      <td>04N26E07</td>\n",
       "      <td>100,200,201,All part</td>\n",
       "      <td>Begins at the existing river pump station (Lew...</td>\n",
       "      <td>Boardman</td>\n",
       "      <td>Morrow</td>\n",
       "      <td>Columbia Improvement District- Irrigation System</td>\n",
       "      <td>WD2019-0082 - Improvements to the irrigation p...</td>\n",
       "      <td>45.840226</td>\n",
       "      <td>-119.619808</td>\n",
       "      <td>...</td>\n",
       "      <td>2019-07-02</td>\n",
       "      <td>NaN</td>\n",
       "      <td>77653.0</td>\n",
       "      <td>127876</td>\n",
       "      <td>2104</td>\n",
       "      <td>Partial</td>\n",
       "      <td>2019</td>\n",
       "      <td>2019</td>\n",
       "      <td>N</td>\n",
       "      <td>2</td>\n",
       "    </tr>\n",
       "    <tr>\n",
       "      <th>2104</th>\n",
       "      <td>WD2019-0082</td>\n",
       "      <td>04N25E12</td>\n",
       "      <td>103p</td>\n",
       "      <td>Begins at the existing river pump station (Lew...</td>\n",
       "      <td>Boardman</td>\n",
       "      <td>Morrow</td>\n",
       "      <td>Columbia Improvement District- Irrigation System</td>\n",
       "      <td>Improvements to the irrigation pipeline and bo...</td>\n",
       "      <td>45.846284</td>\n",
       "      <td>-119.626709</td>\n",
       "      <td>...</td>\n",
       "      <td>2019-07-02</td>\n",
       "      <td>NaN</td>\n",
       "      <td>79812.0</td>\n",
       "      <td>127875</td>\n",
       "      <td>2105</td>\n",
       "      <td>Partial</td>\n",
       "      <td>2019</td>\n",
       "      <td>2019</td>\n",
       "      <td>N</td>\n",
       "      <td>2</td>\n",
       "    </tr>\n",
       "    <tr>\n",
       "      <th>2105</th>\n",
       "      <td>WD2019-0082</td>\n",
       "      <td>04N25E12</td>\n",
       "      <td>103p</td>\n",
       "      <td>Begins at the existing river pump station (Lew...</td>\n",
       "      <td>Boardman</td>\n",
       "      <td>Morrow</td>\n",
       "      <td>Columbia Improvement District- Irrigation System</td>\n",
       "      <td>Improvements to the irrigation pipeline and bo...</td>\n",
       "      <td>45.846284</td>\n",
       "      <td>-119.626709</td>\n",
       "      <td>...</td>\n",
       "      <td>2019-07-02</td>\n",
       "      <td>NaN</td>\n",
       "      <td>77653.0</td>\n",
       "      <td>127875</td>\n",
       "      <td>2106</td>\n",
       "      <td>Partial</td>\n",
       "      <td>2019</td>\n",
       "      <td>2019</td>\n",
       "      <td>N</td>\n",
       "      <td>2</td>\n",
       "    </tr>\n",
       "    <tr>\n",
       "      <th>2106</th>\n",
       "      <td>WD2019-0082</td>\n",
       "      <td>04N25E01</td>\n",
       "      <td>102p</td>\n",
       "      <td>Begins at the existing river pump station (Lew...</td>\n",
       "      <td>Boardman</td>\n",
       "      <td>Morrow</td>\n",
       "      <td>Columbia Improvement District- Irrigation System</td>\n",
       "      <td>Improvements to the irrigation pipeline and bo...</td>\n",
       "      <td>45.863658</td>\n",
       "      <td>-119.654349</td>\n",
       "      <td>...</td>\n",
       "      <td>2019-07-02</td>\n",
       "      <td>NaN</td>\n",
       "      <td>79812.0</td>\n",
       "      <td>127874</td>\n",
       "      <td>2107</td>\n",
       "      <td>Partial</td>\n",
       "      <td>2019</td>\n",
       "      <td>2019</td>\n",
       "      <td>N</td>\n",
       "      <td>2</td>\n",
       "    </tr>\n",
       "    <tr>\n",
       "      <th>2107</th>\n",
       "      <td>WD2019-0082</td>\n",
       "      <td>04N25E01</td>\n",
       "      <td>102p</td>\n",
       "      <td>Begins at the existing river pump station (Lew...</td>\n",
       "      <td>Boardman</td>\n",
       "      <td>Morrow</td>\n",
       "      <td>Columbia Improvement District- Irrigation System</td>\n",
       "      <td>Improvements to the irrigation pipeline and bo...</td>\n",
       "      <td>45.863658</td>\n",
       "      <td>-119.654349</td>\n",
       "      <td>...</td>\n",
       "      <td>2019-07-02</td>\n",
       "      <td>NaN</td>\n",
       "      <td>77653.0</td>\n",
       "      <td>127874</td>\n",
       "      <td>2108</td>\n",
       "      <td>Partial</td>\n",
       "      <td>2019</td>\n",
       "      <td>2019</td>\n",
       "      <td>N</td>\n",
       "      <td>2</td>\n",
       "    </tr>\n",
       "  </tbody>\n",
       "</table>\n",
       "<p>37 rows × 26 columns</p>\n",
       "</div>"
      ],
      "text/plain": [
       "     wetdet_delin_number       trsqq                               parcel_id  \\\n",
       "1422         WD2017-0229    07S40E00              Many tax maps and tax lots   \n",
       "1423         WD2017-0229    10S40E00              Many tax maps and tax lots   \n",
       "1424         WD2017-0229    09S41E00              Many tax maps and tax lots   \n",
       "1425         WD2017-0229    09S40E00              Many tax maps and tax lots   \n",
       "1426         WD2017-0229    08S40E00              Many tax maps and tax lots   \n",
       "1427         WD2017-0229    10S41E00              Many tax maps and tax lots   \n",
       "1428         WD2017-0229    11S43E00              Many tax maps and tax lots   \n",
       "1429         WD2017-0229    15S45E00              Many tax maps and tax lots   \n",
       "1430         WD2017-0229    10S42E00              Many tax maps and tax lots   \n",
       "1431         WD2017-0229    14S45E00              Many tax maps and tax lots   \n",
       "1432         WD2017-0229    14S44E00              Many tax maps and tax lots   \n",
       "1433         WD2017-0229    13S44E00              Many tax maps and tax lots   \n",
       "1434         WD2017-0229    12S43E00              Many tax maps and tax lots   \n",
       "1435         WD2017-0229    12S42E00              Many tax maps and tax lots   \n",
       "1436         WD2017-0229    11S42E00              Many tax maps and tax lots   \n",
       "2067         WD2017-0198  05N27E19BC                                     100   \n",
       "2068         WD2017-0198    05N27E19                                     100   \n",
       "2069         WD2017-0198  05N27E19CB                                     ROW   \n",
       "2070         WD2017-0229    01N26E00              Many tax maps and tax lots   \n",
       "2071         WD2017-0229    01N27E00              Many tax maps and tax lots   \n",
       "2072         WD2017-0229    01N28E00              Many tax maps and tax lots   \n",
       "2073         WD2017-0229    02N25E00              Many tax maps and tax lots   \n",
       "2074         WD2017-0229    02N26E00              Many tax maps and tax lots   \n",
       "2075         WD2017-0229    04N25E00              Many tax maps and tax lots   \n",
       "2076         WD2017-0229    04N26E00              Many tax maps and tax lots   \n",
       "2096         WD2019-0082    04N25E02            100,104,105,106,107,All part   \n",
       "2097         WD2019-0082    04N25E02            100,104,105,106,107,All part   \n",
       "2098         WD2019-0082    03N26E00                                    510p   \n",
       "2099         WD2019-0082    03N26E00                                    510p   \n",
       "2100         WD2019-0082    04N26E00  3405,3407,3416,3419,4700,4703,All part   \n",
       "2101         WD2019-0082    04N26E00  3405,3407,3416,3419,4700,4703,All part   \n",
       "2102         WD2019-0082    04N26E07                    100,200,201,All part   \n",
       "2103         WD2019-0082    04N26E07                    100,200,201,All part   \n",
       "2104         WD2019-0082    04N25E12                                    103p   \n",
       "2105         WD2019-0082    04N25E12                                    103p   \n",
       "2106         WD2019-0082    04N25E01                                    102p   \n",
       "2107         WD2019-0082    04N25E01                                    102p   \n",
       "\n",
       "                                  address_location_desc      city  county  \\\n",
       "1422  Project crosses five counties from Boardman to...       NaN   Baker   \n",
       "1423  Project crosses five counties from Boardman to...       NaN   Baker   \n",
       "1424  Project crosses five counties from Boardman to...       NaN   Baker   \n",
       "1425  Project crosses five counties from Boardman to...       NaN   Baker   \n",
       "1426  Project crosses five counties from Boardman to...       NaN   Baker   \n",
       "1427  Project crosses five counties from Boardman to...       NaN   Baker   \n",
       "1428  Project crosses five counties from Boardman to...       NaN   Baker   \n",
       "1429  Project crosses five counties from Boardman to...       NaN   Baker   \n",
       "1430  Project crosses five counties from Boardman to...       NaN   Baker   \n",
       "1431  Project crosses five counties from Boardman to...       NaN   Baker   \n",
       "1432  Project crosses five counties from Boardman to...       NaN   Baker   \n",
       "1433  Project crosses five counties from Boardman to...       NaN   Baker   \n",
       "1434  Project crosses five counties from Boardman to...       NaN   Baker   \n",
       "1435  Project crosses five counties from Boardman to...       NaN   Baker   \n",
       "1436  Project crosses five counties from Boardman to...       NaN   Baker   \n",
       "2067                                       Irrigon Park   Irrigon  Morrow   \n",
       "2068                                       Irrigon Park   Irrigon  Morrow   \n",
       "2069                                       Irrigon Park   Irrigon  Morrow   \n",
       "2070  Project crosses five counties from Boardman to...       NaN  Morrow   \n",
       "2071  Project crosses five counties from Boardman to...       NaN  Morrow   \n",
       "2072  Project crosses five counties from Boardman to...       NaN  Morrow   \n",
       "2073  Project crosses five counties from Boardman to...       NaN  Morrow   \n",
       "2074  Project crosses five counties from Boardman to...       NaN  Morrow   \n",
       "2075  Project crosses five counties from Boardman to...       NaN  Morrow   \n",
       "2076  Project crosses five counties from Boardman to...       NaN  Morrow   \n",
       "2096  Begins at the existing river pump station (Lew...  Boardman  Morrow   \n",
       "2097  Begins at the existing river pump station (Lew...  Boardman  Morrow   \n",
       "2098  Begins at the existing river pump station (Lew...  Boardman  Morrow   \n",
       "2099  Begins at the existing river pump station (Lew...  Boardman  Morrow   \n",
       "2100  Begins at the existing river pump station (Lew...  Boardman  Morrow   \n",
       "2101  Begins at the existing river pump station (Lew...  Boardman  Morrow   \n",
       "2102  Begins at the existing river pump station (Lew...  Boardman  Morrow   \n",
       "2103  Begins at the existing river pump station (Lew...  Boardman  Morrow   \n",
       "2104  Begins at the existing river pump station (Lew...  Boardman  Morrow   \n",
       "2105  Begins at the existing river pump station (Lew...  Boardman  Morrow   \n",
       "2106  Begins at the existing river pump station (Lew...  Boardman  Morrow   \n",
       "2107  Begins at the existing river pump station (Lew...  Boardman  Morrow   \n",
       "\n",
       "                                             site_name  \\\n",
       "1422                  Boardman to Hemingway Trans Line   \n",
       "1423                  Boardman to Hemingway Trans Line   \n",
       "1424                  Boardman to Hemingway Trans Line   \n",
       "1425                  Boardman to Hemingway Trans Line   \n",
       "1426                  Boardman to Hemingway Trans Line   \n",
       "1427                  Boardman to Hemingway Trans Line   \n",
       "1428                  Boardman to Hemingway Trans Line   \n",
       "1429                  Boardman to Hemingway Trans Line   \n",
       "1430                  Boardman to Hemingway Trans Line   \n",
       "1431                  Boardman to Hemingway Trans Line   \n",
       "1432                  Boardman to Hemingway Trans Line   \n",
       "1433                  Boardman to Hemingway Trans Line   \n",
       "1434                  Boardman to Hemingway Trans Line   \n",
       "1435                  Boardman to Hemingway Trans Line   \n",
       "1436                  Boardman to Hemingway Trans Line   \n",
       "2067                 Irrigon Heritage Trail 05N27E19BC   \n",
       "2068                   Irrigon Heritage Trail 05N27E19   \n",
       "2069                 Irrigon Heritage Trail 05N27E19CB   \n",
       "2070                  Boardman to Hemingway Trans Line   \n",
       "2071                  Boardman to Hemingway Trans Line   \n",
       "2072                  Boardman to Hemingway Trans Line   \n",
       "2073                  Boardman to Hemingway Trans Line   \n",
       "2074                  Boardman to Hemingway Trans Line   \n",
       "2075                  Boardman to Hemingway Trans Line   \n",
       "2076                  Boardman to Hemingway Trans Line   \n",
       "2096  Columbia Improvement District- Irrigation System   \n",
       "2097  Columbia Improvement District- Irrigation System   \n",
       "2098  Columbia Improvement District- Irrigation System   \n",
       "2099  Columbia Improvement District- Irrigation System   \n",
       "2100  Columbia Improvement District- Irrigation System   \n",
       "2101  Columbia Improvement District- Irrigation System   \n",
       "2102  Columbia Improvement District- Irrigation System   \n",
       "2103  Columbia Improvement District- Irrigation System   \n",
       "2104  Columbia Improvement District- Irrigation System   \n",
       "2105  Columbia Improvement District- Irrigation System   \n",
       "2106  Columbia Improvement District- Irrigation System   \n",
       "2107  Columbia Improvement District- Irrigation System   \n",
       "\n",
       "                                              site_desc   latitude  \\\n",
       "1422  New 500-kilovolt transmission line and associa...  45.831088   \n",
       "1423  New 500-kilovolt transmission line and associa...  45.831088   \n",
       "1424  New 500-kilovolt transmission line and associa...  45.831088   \n",
       "1425  New 500-kilovolt transmission line and associa...  45.831088   \n",
       "1426  New 500-kilovolt transmission line and associa...  45.831088   \n",
       "1427  New 500-kilovolt transmission line and associa...  45.831088   \n",
       "1428  New 500-kilovolt transmission line and associa...  45.831088   \n",
       "1429  New 500-kilovolt transmission line and associa...  45.831088   \n",
       "1430  New 500-kilovolt transmission line and associa...  45.831088   \n",
       "1431  New 500-kilovolt transmission line and associa...  45.831088   \n",
       "1432  New 500-kilovolt transmission line and associa...  45.831088   \n",
       "1433  New 500-kilovolt transmission line and associa...  45.831088   \n",
       "1434  New 500-kilovolt transmission line and associa...  45.831088   \n",
       "1435  New 500-kilovolt transmission line and associa...  45.831088   \n",
       "1436  New 500-kilovolt transmission line and associa...  45.831088   \n",
       "2067                             Irrigon Heritage Trail  45.900754   \n",
       "2068                             Irrigon Heritage Trail  45.900754   \n",
       "2069                             Irrigon Heritage Trail  45.900754   \n",
       "2070  New 500-kilovolt transmission line and associa...  45.831088   \n",
       "2071  New 500-kilovolt transmission line and associa...  45.831088   \n",
       "2072  New 500-kilovolt transmission line and associa...  45.831088   \n",
       "2073  New 500-kilovolt transmission line and associa...  45.831088   \n",
       "2074  New 500-kilovolt transmission line and associa...  45.831088   \n",
       "2075  New 500-kilovolt transmission line and associa...  45.831088   \n",
       "2076  New 500-kilovolt transmission line and associa...  45.831088   \n",
       "2096  Improvements to the irrigation pipeline and bo...  45.861727   \n",
       "2097  Improvements to the irrigation pipeline and bo...  45.861727   \n",
       "2098  Improvements to the irrigation pipeline and bo...  45.771581   \n",
       "2099  Improvements to the irrigation pipeline and bo...  45.771581   \n",
       "2100  Improvements to the irrigation pipeline and bo...  45.824771   \n",
       "2101  Improvements to the irrigation pipeline and bo...  45.824771   \n",
       "2102  WD2019-0082 - Improvements to the irrigation p...  45.840226   \n",
       "2103  WD2019-0082 - Improvements to the irrigation p...  45.840226   \n",
       "2104  Improvements to the irrigation pipeline and bo...  45.846284   \n",
       "2105  Improvements to the irrigation pipeline and bo...  45.846284   \n",
       "2106  Improvements to the irrigation pipeline and bo...  45.863658   \n",
       "2107  Improvements to the irrigation pipeline and bo...  45.863658   \n",
       "\n",
       "       longitude  ... response_date reissuance_response_date project_id  \\\n",
       "1422 -119.623309  ...    2018-09-13                      NaN    54125.0   \n",
       "1423 -119.623309  ...    2018-09-13                      NaN    54125.0   \n",
       "1424 -119.623309  ...    2018-09-13                      NaN    54125.0   \n",
       "1425 -119.623309  ...    2018-09-13                      NaN    54125.0   \n",
       "1426 -119.623309  ...    2018-09-13                      NaN    54125.0   \n",
       "1427 -119.623309  ...    2018-09-13                      NaN    54125.0   \n",
       "1428 -119.623309  ...    2018-09-13                      NaN    54125.0   \n",
       "1429 -119.623309  ...    2018-09-13                      NaN    54125.0   \n",
       "1430 -119.623309  ...    2018-09-13                      NaN    54125.0   \n",
       "1431 -119.623309  ...    2018-09-13                      NaN    54125.0   \n",
       "1432 -119.623309  ...    2018-09-13                      NaN    54125.0   \n",
       "1433 -119.623309  ...    2018-09-13                      NaN    54125.0   \n",
       "1434 -119.623309  ...    2018-09-13                      NaN    54125.0   \n",
       "1435 -119.623309  ...    2018-09-13                      NaN    54125.0   \n",
       "1436 -119.623309  ...    2018-09-13                      NaN    54125.0   \n",
       "2067 -119.488097  ...    2017-05-05                      NaN        NaN   \n",
       "2068 -119.488097  ...    2017-05-05                      NaN        NaN   \n",
       "2069 -119.488097  ...    2017-05-05                      NaN        NaN   \n",
       "2070 -119.623309  ...    2018-09-13                      NaN    54125.0   \n",
       "2071 -119.623309  ...    2018-09-13                      NaN    54125.0   \n",
       "2072 -119.623309  ...    2018-09-13                      NaN    54125.0   \n",
       "2073 -119.623309  ...    2018-09-13                      NaN    54125.0   \n",
       "2074 -119.623309  ...    2018-09-13                      NaN    54125.0   \n",
       "2075 -119.623309  ...    2018-09-13                      NaN    54125.0   \n",
       "2076 -119.623309  ...    2018-09-13                      NaN    54125.0   \n",
       "2096 -119.647871  ...    2019-07-02                      NaN    79812.0   \n",
       "2097 -119.647871  ...    2019-07-02                      NaN    77653.0   \n",
       "2098 -119.622717  ...    2019-07-02                      NaN    79812.0   \n",
       "2099 -119.622717  ...    2019-07-02                      NaN    77653.0   \n",
       "2100 -119.618111  ...    2019-07-02                      NaN    79812.0   \n",
       "2101 -119.618111  ...    2019-07-02                      NaN    77653.0   \n",
       "2102 -119.619808  ...    2019-07-02                      NaN    79812.0   \n",
       "2103 -119.619808  ...    2019-07-02                      NaN    77653.0   \n",
       "2104 -119.626709  ...    2019-07-02                      NaN    79812.0   \n",
       "2105 -119.626709  ...    2019-07-02                      NaN    77653.0   \n",
       "2106 -119.654349  ...    2019-07-02                      NaN    79812.0   \n",
       "2107 -119.654349  ...    2019-07-02                      NaN    77653.0   \n",
       "\n",
       "     site_id record_ID          notes recyear IDyear  missinglot  SetID  \n",
       "1422  110476      1423  Partial, Many    2017   2017           Y      2  \n",
       "1423  140879      1424  Partial, Many    2017   2017           Y      2  \n",
       "1424  140878      1425  Partial, Many    2017   2017           Y      2  \n",
       "1425  140877      1426  Partial, Many    2017   2017           Y      2  \n",
       "1426  140876      1427  Partial, Many    2017   2017           Y      2  \n",
       "1427  140880      1428  Partial, Many    2017   2017           Y      2  \n",
       "1428  140883      1429  Partial, Many    2017   2017           Y      2  \n",
       "1429  140889      1430  Partial, Many    2017   2017           Y      2  \n",
       "1430  140881      1431  Partial, Many    2017   2017           Y      2  \n",
       "1431  140888      1432  Partial, Many    2017   2017           Y      2  \n",
       "1432  140887      1433  Partial, Many    2017   2017           Y      2  \n",
       "1433  140886      1434  Partial, Many    2017   2017           Y      2  \n",
       "1434  140885      1435  Partial, Many    2017   2017           Y      2  \n",
       "1435  140884      1436  Partial, Many    2017   2017           Y      2  \n",
       "1436  140882      1437  Partial, Many    2017   2017           Y      2  \n",
       "2067  105545      2068                   2017   2017           N      2  \n",
       "2068  105543      2069                   2017   2017           N      2  \n",
       "2069  105544      2070            ROW    2017   2017           Y      2  \n",
       "2070  105663      2071  Partial, Many    2017   2017           Y      2  \n",
       "2071  140853      2072  Partial, Many    2017   2017           Y      2  \n",
       "2072  140854      2073  Partial, Many    2017   2017           Y      2  \n",
       "2073  140855      2074  Partial, Many    2017   2017           Y      2  \n",
       "2074  140856      2075  Partial, Many    2017   2017           Y      2  \n",
       "2075  140857      2076  Partial, Many    2017   2017           Y      2  \n",
       "2076  140858      2077  Partial, Many    2017   2017           Y      2  \n",
       "2096  127872      2097        Partial    2019   2019           N      2  \n",
       "2097  127872      2098        Partial    2019   2019           N      2  \n",
       "2098  127881      2099        Partial    2019   2019           N      2  \n",
       "2099  127881      2100        Partial    2019   2019           N      2  \n",
       "2100  127877      2101        Partial    2019   2019           N      2  \n",
       "2101  127877      2102        Partial    2019   2019           N      2  \n",
       "2102  127876      2103        Partial    2019   2019           N      2  \n",
       "2103  127876      2104        Partial    2019   2019           N      2  \n",
       "2104  127875      2105        Partial    2019   2019           N      2  \n",
       "2105  127875      2106        Partial    2019   2019           N      2  \n",
       "2106  127874      2107        Partial    2019   2019           N      2  \n",
       "2107  127874      2108        Partial    2019   2019           N      2  \n",
       "\n",
       "[37 rows x 26 columns]"
      ]
     },
     "execution_count": 9,
     "metadata": {},
     "output_type": "execute_result"
    }
   ],
   "source": [
    "wd_df[wd_df.wetdet_delin_number.isin(wdIDs_unmapped)]"
   ]
  },
  {
   "cell_type": "code",
   "execution_count": 108,
   "id": "4ae17440",
   "metadata": {},
   "outputs": [],
   "source": [
    "out = split_SA_by_rid_in_df(wd_df=wd_df, \n",
    "                            sa_gdf_all=sa_gdf_all, \n",
    "                            all_mapIdx=all_mapIdx, \n",
    "                            all_taxlot=all_taxlot, \n",
    "                            em_wids=em_wids,\n",
    "                            export=True, \n",
    "                            outnm='Morrow')"
   ]
  },
  {
   "cell_type": "code",
   "execution_count": 47,
   "id": "acd75fd9",
   "metadata": {},
   "outputs": [],
   "source": [
    "out['geometry'] = out.geometry.buffer(0)"
   ]
  },
  {
   "cell_type": "code",
   "execution_count": 45,
   "id": "880f4568",
   "metadata": {},
   "outputs": [
    {
     "data": {
      "text/html": [
       "<div>\n",
       "<style scoped>\n",
       "    .dataframe tbody tr th:only-of-type {\n",
       "        vertical-align: middle;\n",
       "    }\n",
       "\n",
       "    .dataframe tbody tr th {\n",
       "        vertical-align: top;\n",
       "    }\n",
       "\n",
       "    .dataframe thead th {\n",
       "        text-align: right;\n",
       "    }\n",
       "</style>\n",
       "<table border=\"1\" class=\"dataframe\">\n",
       "  <thead>\n",
       "    <tr style=\"text-align: right;\">\n",
       "      <th></th>\n",
       "      <th>wetdet_delin_number</th>\n",
       "      <th>trsqq</th>\n",
       "      <th>parcel_id</th>\n",
       "      <th>address_location_desc</th>\n",
       "      <th>city</th>\n",
       "      <th>county</th>\n",
       "      <th>site_name</th>\n",
       "      <th>site_desc</th>\n",
       "      <th>latitude</th>\n",
       "      <th>longitude</th>\n",
       "      <th>...</th>\n",
       "      <th>reissuance_response_date</th>\n",
       "      <th>project_id</th>\n",
       "      <th>site_id</th>\n",
       "      <th>SetID</th>\n",
       "      <th>record_ID</th>\n",
       "      <th>ORMapNum</th>\n",
       "      <th>geometry</th>\n",
       "      <th>code</th>\n",
       "      <th>lat</th>\n",
       "      <th>lon</th>\n",
       "    </tr>\n",
       "  </thead>\n",
       "  <tbody>\n",
       "    <tr>\n",
       "      <th>0</th>\n",
       "      <td>WD2018-0158</td>\n",
       "      <td>02N24E00</td>\n",
       "      <td>100,105,106,All part</td>\n",
       "      <td>73396 Tower Rd, Boardman</td>\n",
       "      <td>Boardman</td>\n",
       "      <td>Morrow</td>\n",
       "      <td>Carty Generating Station 02N24E00</td>\n",
       "      <td>Combined cycle natural gas power,solar generat...</td>\n",
       "      <td>45.677501</td>\n",
       "      <td>-119.797083</td>\n",
       "      <td>...</td>\n",
       "      <td>None</td>\n",
       "      <td>NaN</td>\n",
       "      <td>108579</td>\n",
       "      <td>2</td>\n",
       "      <td>2081</td>\n",
       "      <td>2502.00N24.00E0000--0000</td>\n",
       "      <td>GEOMETRYCOLLECTION Z (LINESTRING Z (1483460.57...</td>\n",
       "      <td>1.0</td>\n",
       "      <td>45.674948</td>\n",
       "      <td>-119.789698</td>\n",
       "    </tr>\n",
       "    <tr>\n",
       "      <th>1</th>\n",
       "      <td>WD2018-0158</td>\n",
       "      <td>03N24E00</td>\n",
       "      <td>102,104,114,117,121,122,All part</td>\n",
       "      <td>73396 Tower Rd, Boardman</td>\n",
       "      <td>Boardman</td>\n",
       "      <td>Morrow</td>\n",
       "      <td>Carty Generating Station 03N24E00</td>\n",
       "      <td>Combined cycle natural gas power,solar generat...</td>\n",
       "      <td>45.678121</td>\n",
       "      <td>-119.817869</td>\n",
       "      <td>...</td>\n",
       "      <td>None</td>\n",
       "      <td>NaN</td>\n",
       "      <td>108580</td>\n",
       "      <td>2</td>\n",
       "      <td>2082</td>\n",
       "      <td>2503.00N24.00E0000--0000</td>\n",
       "      <td>POLYGON Z ((1488544.958 1439526.377 0.000, 148...</td>\n",
       "      <td>1.0</td>\n",
       "      <td>45.696707</td>\n",
       "      <td>-119.815395</td>\n",
       "    </tr>\n",
       "    <tr>\n",
       "      <th>2</th>\n",
       "      <td>WD2018-0407</td>\n",
       "      <td>05N27E19CC</td>\n",
       "      <td>many</td>\n",
       "      <td>None</td>\n",
       "      <td>Irrigon</td>\n",
       "      <td>Morrow</td>\n",
       "      <td>Irrigon CDBG Sewer Proj</td>\n",
       "      <td>site evaluation for city sewer conversion comp...</td>\n",
       "      <td>45.895525</td>\n",
       "      <td>-119.496236</td>\n",
       "      <td>...</td>\n",
       "      <td>None</td>\n",
       "      <td>60309.0</td>\n",
       "      <td>109709</td>\n",
       "      <td>2</td>\n",
       "      <td>2085</td>\n",
       "      <td>2505.00N27.00E19CC--0000</td>\n",
       "      <td>MULTIPOLYGON Z (((1569741.794 1512919.716 0.00...</td>\n",
       "      <td>2.0</td>\n",
       "      <td>45.895031</td>\n",
       "      <td>-119.491617</td>\n",
       "    </tr>\n",
       "  </tbody>\n",
       "</table>\n",
       "<p>3 rows × 26 columns</p>\n",
       "</div>"
      ],
      "text/plain": [
       "  wetdet_delin_number       trsqq                         parcel_id  \\\n",
       "0         WD2018-0158    02N24E00              100,105,106,All part   \n",
       "1         WD2018-0158    03N24E00  102,104,114,117,121,122,All part   \n",
       "2         WD2018-0407  05N27E19CC                              many   \n",
       "\n",
       "      address_location_desc      city  county  \\\n",
       "0  73396 Tower Rd, Boardman  Boardman  Morrow   \n",
       "1  73396 Tower Rd, Boardman  Boardman  Morrow   \n",
       "2                      None   Irrigon  Morrow   \n",
       "\n",
       "                           site_name  \\\n",
       "0  Carty Generating Station 02N24E00   \n",
       "1  Carty Generating Station 03N24E00   \n",
       "2            Irrigon CDBG Sewer Proj   \n",
       "\n",
       "                                           site_desc   latitude   longitude  \\\n",
       "0  Combined cycle natural gas power,solar generat...  45.677501 -119.797083   \n",
       "1  Combined cycle natural gas power,solar generat...  45.678121 -119.817869   \n",
       "2  site evaluation for city sewer conversion comp...  45.895525 -119.496236   \n",
       "\n",
       "   ... reissuance_response_date project_id site_id SetID record_ID  \\\n",
       "0  ...                     None        NaN  108579     2      2081   \n",
       "1  ...                     None        NaN  108580     2      2082   \n",
       "2  ...                     None    60309.0  109709     2      2085   \n",
       "\n",
       "                   ORMapNum  \\\n",
       "0  2502.00N24.00E0000--0000   \n",
       "1  2503.00N24.00E0000--0000   \n",
       "2  2505.00N27.00E19CC--0000   \n",
       "\n",
       "                                            geometry  code        lat  \\\n",
       "0  GEOMETRYCOLLECTION Z (LINESTRING Z (1483460.57...   1.0  45.674948   \n",
       "1  POLYGON Z ((1488544.958 1439526.377 0.000, 148...   1.0  45.696707   \n",
       "2  MULTIPOLYGON Z (((1569741.794 1512919.716 0.00...   2.0  45.895031   \n",
       "\n",
       "          lon  \n",
       "0 -119.789698  \n",
       "1 -119.815395  \n",
       "2 -119.491617  \n",
       "\n",
       "[3 rows x 26 columns]"
      ]
     },
     "execution_count": 45,
     "metadata": {},
     "output_type": "execute_result"
    }
   ],
   "source": [
    "out.head(3)"
   ]
  },
  {
   "cell_type": "code",
   "execution_count": 147,
   "id": "c883ae74",
   "metadata": {},
   "outputs": [
    {
     "data": {
      "text/plain": [
       "False"
      ]
     },
     "execution_count": 147,
     "metadata": {},
     "output_type": "execute_result"
    }
   ],
   "source": [
    "'10S42E19' in trsqq"
   ]
  },
  {
   "cell_type": "code",
   "execution_count": 146,
   "id": "72ef7b45",
   "metadata": {},
   "outputs": [
    {
     "data": {
      "text/plain": [
       "'0110.00S42.00E1900--000002400'"
      ]
     },
     "execution_count": 146,
     "metadata": {},
     "output_type": "execute_result"
    }
   ],
   "source": [
    "create_ORTaxlot(cnt_code=cnt_dict['Baker'], trsqq='10S42E19', lot='2400')"
   ]
  },
  {
   "cell_type": "code",
   "execution_count": 51,
   "id": "6b48af32",
   "metadata": {},
   "outputs": [
    {
     "data": {
      "text/plain": [
       "31"
      ]
     },
     "execution_count": 51,
     "metadata": {},
     "output_type": "execute_result"
    }
   ],
   "source": [
    "len(wd_df_s.wetdet_delin_number.unique())"
   ]
  },
  {
   "cell_type": "code",
   "execution_count": 37,
   "id": "44080c0b",
   "metadata": {},
   "outputs": [],
   "source": [
    "WD2017_0229 = gpd.read_file(wdpath+'\\\\Jurisdiction\\\\StudyArea2017-0229\\\\WD2017-0229StudyArea.gdb', layer='Polygons')"
   ]
  },
  {
   "cell_type": "code",
   "execution_count": 41,
   "id": "00976efe",
   "metadata": {},
   "outputs": [],
   "source": [
    "WD2017_0229['wdID'] = 'WD2017-0229'\n",
    "WD2017_0229 = WD2017_0229.dissolve('wdID')\n",
    "WD2017_0229['wdID'] = WD2017_0229.index\n",
    "WD2017_0229.reset_index(drop=True, inplace=True)\n",
    "WD2017_0229['code'] = 3\n",
    "gdf = WD2017_0229[['wdID', 'code', 'Shape_Length', 'Shape_Area', 'geometry']]\n",
    "gdf = gdf.to_crs(epsg=2992)"
   ]
  },
  {
   "cell_type": "code",
   "execution_count": 40,
   "id": "b564242f",
   "metadata": {},
   "outputs": [
    {
     "data": {
      "text/html": [
       "<div>\n",
       "<style scoped>\n",
       "    .dataframe tbody tr th:only-of-type {\n",
       "        vertical-align: middle;\n",
       "    }\n",
       "\n",
       "    .dataframe tbody tr th {\n",
       "        vertical-align: top;\n",
       "    }\n",
       "\n",
       "    .dataframe thead th {\n",
       "        text-align: right;\n",
       "    }\n",
       "</style>\n",
       "<table border=\"1\" class=\"dataframe\">\n",
       "  <thead>\n",
       "    <tr style=\"text-align: right;\">\n",
       "      <th></th>\n",
       "      <th>wdID</th>\n",
       "      <th>code</th>\n",
       "      <th>Shape_Length</th>\n",
       "      <th>Shape_Area</th>\n",
       "      <th>geometry</th>\n",
       "    </tr>\n",
       "  </thead>\n",
       "  <tbody>\n",
       "    <tr>\n",
       "      <th>0</th>\n",
       "      <td>WD2017-0229</td>\n",
       "      <td>3</td>\n",
       "      <td>0.006822</td>\n",
       "      <td>0.000003</td>\n",
       "      <td>MULTIPOLYGON (((2230450.013 678981.088, 223059...</td>\n",
       "    </tr>\n",
       "  </tbody>\n",
       "</table>\n",
       "</div>"
      ],
      "text/plain": [
       "          wdID  code  Shape_Length  Shape_Area  \\\n",
       "0  WD2017-0229     3      0.006822    0.000003   \n",
       "\n",
       "                                            geometry  \n",
       "0  MULTIPOLYGON (((2230450.013 678981.088, 223059...  "
      ]
     },
     "execution_count": 40,
     "metadata": {},
     "output_type": "execute_result"
    }
   ],
   "source": [
    "gdf"
   ]
  },
  {
   "cell_type": "code",
   "execution_count": 79,
   "id": "95f3e67a",
   "metadata": {},
   "outputs": [],
   "source": [
    "wd_df.loc[wd_df.record_ID==1424, 'trsqq'] = '10S40E01'\n",
    "wd_df.loc[wd_df.record_ID==1430, 'trsqq'] = '10S40E02'\n",
    "wd_df.loc[wd_df.record_ID==2076, 'trsqq'] = '04N25E13'"
   ]
  },
  {
   "cell_type": "code",
   "execution_count": 80,
   "id": "b20282c5",
   "metadata": {},
   "outputs": [],
   "source": [
    "WD2017_0229_gdf = split_WD_to_records(df=wd_df, gdf=gdf, wdID='WD2017-0229', mapindex=all_mapIdx, taxlots=all_taxlot, review=True)"
   ]
  },
  {
   "cell_type": "code",
   "execution_count": 81,
   "id": "27ea912f",
   "metadata": {},
   "outputs": [],
   "source": [
    "ORMapNum_toCheck = WD2017_0229_gdf.loc[WD2017_0229_gdf.geometry.isnull(), 'ORMapNum'].values"
   ]
  },
  {
   "cell_type": "code",
   "execution_count": 82,
   "id": "2e2a3170",
   "metadata": {},
   "outputs": [
    {
     "data": {
      "text/plain": [
       "array([], dtype=object)"
      ]
     },
     "execution_count": 82,
     "metadata": {},
     "output_type": "execute_result"
    }
   ],
   "source": [
    "ORMapNum_toCheck"
   ]
  },
  {
   "cell_type": "code",
   "execution_count": 52,
   "id": "9a9e46ad",
   "metadata": {},
   "outputs": [
    {
     "data": {
      "text/plain": [
       "['0115.00S45.00E0000--0000']"
      ]
     },
     "execution_count": 52,
     "metadata": {},
     "output_type": "execute_result"
    }
   ],
   "source": [
    "[ORMapNum for ORMapNum in ORMapNum_toCheck if ORMapNum not in all_mapIdx.ORMapNum.values]"
   ]
  },
  {
   "cell_type": "code",
   "execution_count": 55,
   "id": "43db1a8f",
   "metadata": {},
   "outputs": [
    {
     "data": {
      "text/plain": [
       "array(['07S40E00', '10S40E00', '09S41E00', '09S40E00', '08S40E00',\n",
       "       '10S41E00', '11S43E00', '15S45E00', '10S42E00', '14S45E00',\n",
       "       '14S44E00', '13S44E00', '12S43E00', '12S42E00', '11S42E00',\n",
       "       '01N26E00', '01N27E00', '01N28E00', '02N25E00', '02N26E00',\n",
       "       '04N25E00', '04N26E00'], dtype=object)"
      ]
     },
     "execution_count": 55,
     "metadata": {},
     "output_type": "execute_result"
    }
   ],
   "source": [
    "WD2017_0229_gdf.trsqq.values"
   ]
  },
  {
   "cell_type": "code",
   "execution_count": 137,
   "id": "0db77fb4",
   "metadata": {},
   "outputs": [
    {
     "data": {
      "text/plain": [
       "'2315.00S45.00E0000--0000'"
      ]
     },
     "execution_count": 137,
     "metadata": {},
     "output_type": "execute_result"
    }
   ],
   "source": [
    "create_ORMapNm(ct_nm='Malheur', trsqq='15S45E34')"
   ]
  },
  {
   "cell_type": "code",
   "execution_count": 139,
   "id": "dd7bb435",
   "metadata": {},
   "outputs": [
    {
     "data": {
      "text/plain": [
       "'https://docs.dsl.state.or.us/PublicReview/ElectronicFile.aspx?docid=3647172&dbid=0'"
      ]
     },
     "execution_count": 139,
     "metadata": {},
     "output_type": "execute_result"
    }
   ],
   "source": [
    "wd_df.loc[wd_df.wetdet_delin_number=='WD2020-0083', 'DecisionLink'].values[0]"
   ]
  },
  {
   "cell_type": "code",
   "execution_count": 49,
   "id": "9f47cf5a",
   "metadata": {},
   "outputs": [
    {
     "data": {
      "text/html": [
       "<div>\n",
       "<style scoped>\n",
       "    .dataframe tbody tr th:only-of-type {\n",
       "        vertical-align: middle;\n",
       "    }\n",
       "\n",
       "    .dataframe tbody tr th {\n",
       "        vertical-align: top;\n",
       "    }\n",
       "\n",
       "    .dataframe thead th {\n",
       "        text-align: right;\n",
       "    }\n",
       "</style>\n",
       "<table border=\"1\" class=\"dataframe\">\n",
       "  <thead>\n",
       "    <tr style=\"text-align: right;\">\n",
       "      <th></th>\n",
       "      <th>geometry</th>\n",
       "      <th>wetdet_delin_number</th>\n",
       "      <th>trsqq</th>\n",
       "      <th>parcel_id</th>\n",
       "      <th>address_location_desc</th>\n",
       "      <th>city</th>\n",
       "      <th>county</th>\n",
       "      <th>site_name</th>\n",
       "      <th>site_desc</th>\n",
       "      <th>latitude</th>\n",
       "      <th>...</th>\n",
       "      <th>status_name</th>\n",
       "      <th>received_date</th>\n",
       "      <th>response_date</th>\n",
       "      <th>reissuance_response_date</th>\n",
       "      <th>project_id</th>\n",
       "      <th>site_id</th>\n",
       "      <th>SetID</th>\n",
       "      <th>ORMapNum</th>\n",
       "      <th>code</th>\n",
       "      <th>record_ID</th>\n",
       "    </tr>\n",
       "  </thead>\n",
       "  <tbody>\n",
       "    <tr>\n",
       "      <th>7</th>\n",
       "      <td>None</td>\n",
       "      <td>WD2017-0229</td>\n",
       "      <td>15S45E00</td>\n",
       "      <td>Many tax maps and tax lots</td>\n",
       "      <td>Project crosses five counties from Boardman to...</td>\n",
       "      <td>None</td>\n",
       "      <td>Baker</td>\n",
       "      <td>Boardman to Hemingway Trans Line</td>\n",
       "      <td>New 500-kilovolt transmission line and associa...</td>\n",
       "      <td>45.831088</td>\n",
       "      <td>...</td>\n",
       "      <td>Approved</td>\n",
       "      <td>2017-05-15</td>\n",
       "      <td>2018-09-13</td>\n",
       "      <td>None</td>\n",
       "      <td>54125.0</td>\n",
       "      <td>140889</td>\n",
       "      <td>2</td>\n",
       "      <td>0115.00S45.00E0000--0000</td>\n",
       "      <td>NaN</td>\n",
       "      <td>1430</td>\n",
       "    </tr>\n",
       "  </tbody>\n",
       "</table>\n",
       "<p>1 rows × 24 columns</p>\n",
       "</div>"
      ],
      "text/plain": [
       "  geometry wetdet_delin_number     trsqq                   parcel_id  \\\n",
       "7     None         WD2017-0229  15S45E00  Many tax maps and tax lots   \n",
       "\n",
       "                               address_location_desc  city county  \\\n",
       "7  Project crosses five counties from Boardman to...  None  Baker   \n",
       "\n",
       "                          site_name  \\\n",
       "7  Boardman to Hemingway Trans Line   \n",
       "\n",
       "                                           site_desc   latitude  ...  \\\n",
       "7  New 500-kilovolt transmission line and associa...  45.831088  ...   \n",
       "\n",
       "   status_name received_date response_date reissuance_response_date  \\\n",
       "7     Approved    2017-05-15    2018-09-13                     None   \n",
       "\n",
       "  project_id site_id SetID                  ORMapNum  code  record_ID  \n",
       "7    54125.0  140889     2  0115.00S45.00E0000--0000   NaN       1430  \n",
       "\n",
       "[1 rows x 24 columns]"
      ]
     },
     "execution_count": 49,
     "metadata": {},
     "output_type": "execute_result"
    }
   ],
   "source": [
    "WD2017_0229_gdf[WD2017_0229_gdf.ORMapNum=='0115.00S45.00E0000--0000']"
   ]
  },
  {
   "cell_type": "code",
   "execution_count": 56,
   "id": "ca8522e7",
   "metadata": {},
   "outputs": [
    {
     "data": {
      "text/html": [
       "<div>\n",
       "<style scoped>\n",
       "    .dataframe tbody tr th:only-of-type {\n",
       "        vertical-align: middle;\n",
       "    }\n",
       "\n",
       "    .dataframe tbody tr th {\n",
       "        vertical-align: top;\n",
       "    }\n",
       "\n",
       "    .dataframe thead th {\n",
       "        text-align: right;\n",
       "    }\n",
       "</style>\n",
       "<table border=\"1\" class=\"dataframe\">\n",
       "  <thead>\n",
       "    <tr style=\"text-align: right;\">\n",
       "      <th></th>\n",
       "      <th>geometry</th>\n",
       "      <th>wetdet_delin_number</th>\n",
       "      <th>trsqq</th>\n",
       "      <th>parcel_id</th>\n",
       "      <th>address_location_desc</th>\n",
       "      <th>city</th>\n",
       "      <th>county</th>\n",
       "      <th>site_name</th>\n",
       "      <th>site_desc</th>\n",
       "      <th>latitude</th>\n",
       "      <th>...</th>\n",
       "      <th>status_name</th>\n",
       "      <th>received_date</th>\n",
       "      <th>response_date</th>\n",
       "      <th>reissuance_response_date</th>\n",
       "      <th>project_id</th>\n",
       "      <th>site_id</th>\n",
       "      <th>SetID</th>\n",
       "      <th>ORMapNum</th>\n",
       "      <th>code</th>\n",
       "      <th>record_ID</th>\n",
       "    </tr>\n",
       "  </thead>\n",
       "  <tbody>\n",
       "    <tr>\n",
       "      <th>1</th>\n",
       "      <td>None</td>\n",
       "      <td>WD2017-0229</td>\n",
       "      <td>10S40E00</td>\n",
       "      <td>Many tax maps and tax lots</td>\n",
       "      <td>Project crosses five counties from Boardman to...</td>\n",
       "      <td>None</td>\n",
       "      <td>Baker</td>\n",
       "      <td>Boardman to Hemingway Trans Line</td>\n",
       "      <td>New 500-kilovolt transmission line and associa...</td>\n",
       "      <td>45.831088</td>\n",
       "      <td>...</td>\n",
       "      <td>Approved</td>\n",
       "      <td>2017-05-15</td>\n",
       "      <td>2018-09-13</td>\n",
       "      <td>None</td>\n",
       "      <td>54125.0</td>\n",
       "      <td>140879</td>\n",
       "      <td>2</td>\n",
       "      <td>0110.00S40.00E0000--0000</td>\n",
       "      <td>NaN</td>\n",
       "      <td>1424</td>\n",
       "    </tr>\n",
       "    <tr>\n",
       "      <th>7</th>\n",
       "      <td>None</td>\n",
       "      <td>WD2017-0229</td>\n",
       "      <td>15S45E00</td>\n",
       "      <td>Many tax maps and tax lots</td>\n",
       "      <td>Project crosses five counties from Boardman to...</td>\n",
       "      <td>None</td>\n",
       "      <td>Baker</td>\n",
       "      <td>Boardman to Hemingway Trans Line</td>\n",
       "      <td>New 500-kilovolt transmission line and associa...</td>\n",
       "      <td>45.831088</td>\n",
       "      <td>...</td>\n",
       "      <td>Approved</td>\n",
       "      <td>2017-05-15</td>\n",
       "      <td>2018-09-13</td>\n",
       "      <td>None</td>\n",
       "      <td>54125.0</td>\n",
       "      <td>140889</td>\n",
       "      <td>2</td>\n",
       "      <td>0115.00S45.00E0000--0000</td>\n",
       "      <td>NaN</td>\n",
       "      <td>1430</td>\n",
       "    </tr>\n",
       "    <tr>\n",
       "      <th>20</th>\n",
       "      <td>None</td>\n",
       "      <td>WD2017-0229</td>\n",
       "      <td>04N25E00</td>\n",
       "      <td>Many tax maps and tax lots</td>\n",
       "      <td>Project crosses five counties from Boardman to...</td>\n",
       "      <td>None</td>\n",
       "      <td>Morrow</td>\n",
       "      <td>Boardman to Hemingway Trans Line</td>\n",
       "      <td>New 500-kilovolt transmission line and associa...</td>\n",
       "      <td>45.831088</td>\n",
       "      <td>...</td>\n",
       "      <td>Approved</td>\n",
       "      <td>2017-05-15</td>\n",
       "      <td>2018-09-13</td>\n",
       "      <td>None</td>\n",
       "      <td>54125.0</td>\n",
       "      <td>140857</td>\n",
       "      <td>2</td>\n",
       "      <td>2504.00N25.00E0000--0000</td>\n",
       "      <td>NaN</td>\n",
       "      <td>2076</td>\n",
       "    </tr>\n",
       "  </tbody>\n",
       "</table>\n",
       "<p>3 rows × 24 columns</p>\n",
       "</div>"
      ],
      "text/plain": [
       "   geometry wetdet_delin_number     trsqq                   parcel_id  \\\n",
       "1      None         WD2017-0229  10S40E00  Many tax maps and tax lots   \n",
       "7      None         WD2017-0229  15S45E00  Many tax maps and tax lots   \n",
       "20     None         WD2017-0229  04N25E00  Many tax maps and tax lots   \n",
       "\n",
       "                                address_location_desc  city  county  \\\n",
       "1   Project crosses five counties from Boardman to...  None   Baker   \n",
       "7   Project crosses five counties from Boardman to...  None   Baker   \n",
       "20  Project crosses five counties from Boardman to...  None  Morrow   \n",
       "\n",
       "                           site_name  \\\n",
       "1   Boardman to Hemingway Trans Line   \n",
       "7   Boardman to Hemingway Trans Line   \n",
       "20  Boardman to Hemingway Trans Line   \n",
       "\n",
       "                                            site_desc   latitude  ...  \\\n",
       "1   New 500-kilovolt transmission line and associa...  45.831088  ...   \n",
       "7   New 500-kilovolt transmission line and associa...  45.831088  ...   \n",
       "20  New 500-kilovolt transmission line and associa...  45.831088  ...   \n",
       "\n",
       "    status_name received_date response_date reissuance_response_date  \\\n",
       "1      Approved    2017-05-15    2018-09-13                     None   \n",
       "7      Approved    2017-05-15    2018-09-13                     None   \n",
       "20     Approved    2017-05-15    2018-09-13                     None   \n",
       "\n",
       "   project_id site_id SetID                  ORMapNum  code  record_ID  \n",
       "1     54125.0  140879     2  0110.00S40.00E0000--0000   NaN       1424  \n",
       "7     54125.0  140889     2  0115.00S45.00E0000--0000   NaN       1430  \n",
       "20    54125.0  140857     2  2504.00N25.00E0000--0000   NaN       2076  \n",
       "\n",
       "[3 rows x 24 columns]"
      ]
     },
     "execution_count": 56,
     "metadata": {},
     "output_type": "execute_result"
    }
   ],
   "source": [
    "WD2017_0229_gdf[WD2017_0229_gdf.ORMapNum.isin(ORMapNum_toCheck)]"
   ]
  },
  {
   "cell_type": "code",
   "execution_count": 85,
   "id": "03d8084d",
   "metadata": {},
   "outputs": [],
   "source": [
    "WD2017_0198 = gpd.read_file(inpath+'\\\\GIS\\ArcGIS Pro Project\\DataReview\\issueIDs.gdb', layer='WD2017_0198')\n",
    "WD2019_0082 = gpd.read_file(inpath+'\\\\GIS\\ArcGIS Pro Project\\DataReview\\issueIDs.gdb', layer='WD2019_0082')"
   ]
  },
  {
   "cell_type": "code",
   "execution_count": 87,
   "id": "5dae703c",
   "metadata": {},
   "outputs": [],
   "source": [
    "WD2017_0198['wdID'] = 'WD2017-0198'\n",
    "WD2019_0082['wdID'] = 'WD2019-0082'\n",
    "WD2017_0198['code'] = 2\n",
    "WD2019_0082['code'] = 2"
   ]
  },
  {
   "cell_type": "code",
   "execution_count": 88,
   "id": "9417201c",
   "metadata": {},
   "outputs": [],
   "source": [
    "WD2017_0198 = WD2017_0198.to_crs(epsg=2992)\n",
    "WD2019_0082 = WD2019_0082.to_crs(epsg=2992)"
   ]
  },
  {
   "cell_type": "code",
   "execution_count": 91,
   "id": "ea4fc0de",
   "metadata": {},
   "outputs": [],
   "source": [
    "WD2017_0198_gdf = split_WD_to_records(df=wd_df, gdf=WD2017_0198, wdID='WD2017-0198', mapindex=all_mapIdx, taxlots=all_taxlot)"
   ]
  },
  {
   "cell_type": "code",
   "execution_count": 92,
   "id": "33731689",
   "metadata": {},
   "outputs": [],
   "source": [
    "WD2019_0082_gdf = split_WD_to_records(df=wd_df, gdf=WD2019_0082, wdID='WD2019-0082', mapindex=all_mapIdx, taxlots=all_taxlot)"
   ]
  },
  {
   "cell_type": "code",
   "execution_count": 111,
   "id": "b1b78a0d",
   "metadata": {},
   "outputs": [],
   "source": [
    "last3gdf = pd.concat([WD2017_0198_gdf, WD2017_0229_gdf, WD2019_0082_gdf], ignore_index=True)"
   ]
  },
  {
   "cell_type": "code",
   "execution_count": 117,
   "id": "4a010811",
   "metadata": {},
   "outputs": [],
   "source": [
    "testgdf=export_wd_gdf_by_record(gdf=last3gdf, outnm='last3gdf_Morrow')"
   ]
  },
  {
   "cell_type": "code",
   "execution_count": 118,
   "id": "1284c6a4",
   "metadata": {},
   "outputs": [],
   "source": [
    "testgdf1=gpd.read_file(f'{outpath}\\\\test\\\\Morrow.shp')\n",
    "testgdf2=gpd.read_file(f'{outpath}\\\\test\\\\example_data.shp')"
   ]
  },
  {
   "cell_type": "code",
   "execution_count": 119,
   "id": "94c54349",
   "metadata": {},
   "outputs": [],
   "source": [
    "gdf=pd.concat([testgdf, testgdf1, testgdf2], ignore_index=True)"
   ]
  },
  {
   "cell_type": "code",
   "execution_count": 120,
   "id": "3a3b1c0e",
   "metadata": {},
   "outputs": [
    {
     "data": {
      "text/plain": [
       "(132, 26)"
      ]
     },
     "execution_count": 120,
     "metadata": {},
     "output_type": "execute_result"
    }
   ],
   "source": [
    "gdf.shape"
   ]
  },
  {
   "cell_type": "code",
   "execution_count": 121,
   "id": "4bf15e1b",
   "metadata": {},
   "outputs": [],
   "source": [
    "gdf.to_file(f'{outpath}\\\\test\\\\example_data_7_11_23.shp')"
   ]
  },
  {
   "cell_type": "code",
   "execution_count": 38,
   "id": "93a13189",
   "metadata": {},
   "outputs": [],
   "source": [
    "setID = 'Set002'"
   ]
  },
  {
   "cell_type": "code",
   "execution_count": 39,
   "id": "4ee188b1",
   "metadata": {},
   "outputs": [],
   "source": [
    "matched = gpd.read_file(outpath + f'\\\\matched\\\\matched_records_{setID}_edited.shp')\n",
    "mapped = gpd.read_file(outpath + f'\\\\final\\\\mapped_wd_{setID}.shp')"
   ]
  },
  {
   "cell_type": "code",
   "execution_count": 23,
   "id": "85d2fad6",
   "metadata": {},
   "outputs": [],
   "source": [
    "matIDs = [wid for wid in wdIDs if wid in mapped[mapped.code==0].wdID.unique()]"
   ]
  },
  {
   "cell_type": "code",
   "execution_count": 24,
   "id": "d50a7dc3",
   "metadata": {},
   "outputs": [],
   "source": [
    "comp_mat = matched[matched.wdID.isin(matIDs)]"
   ]
  },
  {
   "cell_type": "code",
   "execution_count": 25,
   "id": "0320306e",
   "metadata": {},
   "outputs": [
    {
     "data": {
      "text/html": [
       "<div>\n",
       "<style scoped>\n",
       "    .dataframe tbody tr th:only-of-type {\n",
       "        vertical-align: middle;\n",
       "    }\n",
       "\n",
       "    .dataframe tbody tr th {\n",
       "        vertical-align: top;\n",
       "    }\n",
       "\n",
       "    .dataframe thead th {\n",
       "        text-align: right;\n",
       "    }\n",
       "</style>\n",
       "<table border=\"1\" class=\"dataframe\">\n",
       "  <thead>\n",
       "    <tr style=\"text-align: right;\">\n",
       "      <th></th>\n",
       "      <th>wdID</th>\n",
       "      <th>trsqq</th>\n",
       "      <th>parcel_id</th>\n",
       "      <th>notes</th>\n",
       "      <th>lots</th>\n",
       "      <th>lot</th>\n",
       "      <th>ORTaxlot</th>\n",
       "      <th>record_ID</th>\n",
       "      <th>geometry</th>\n",
       "    </tr>\n",
       "  </thead>\n",
       "  <tbody>\n",
       "    <tr>\n",
       "      <th>1231</th>\n",
       "      <td>WD2017-0259</td>\n",
       "      <td>04N26E07</td>\n",
       "      <td>100</td>\n",
       "      <td>None</td>\n",
       "      <td>100</td>\n",
       "      <td>100</td>\n",
       "      <td>2504.00N26.00E0700--000000100</td>\n",
       "      <td>2078</td>\n",
       "      <td>MULTIPOLYGON (((1539075.537 1492552.041, 15388...</td>\n",
       "    </tr>\n",
       "    <tr>\n",
       "      <th>1235</th>\n",
       "      <td>WD2018-0159</td>\n",
       "      <td>06S25E00</td>\n",
       "      <td>2901</td>\n",
       "      <td>None</td>\n",
       "      <td>2901</td>\n",
       "      <td>2901</td>\n",
       "      <td>2506.00S25.00E0000--000002901</td>\n",
       "      <td>2083</td>\n",
       "      <td>POLYGON ((1526090.885 1194359.787, 1526480.413...</td>\n",
       "    </tr>\n",
       "    <tr>\n",
       "      <th>1236</th>\n",
       "      <td>WD2018-0430</td>\n",
       "      <td>05N27E21</td>\n",
       "      <td>100</td>\n",
       "      <td>None</td>\n",
       "      <td>100</td>\n",
       "      <td>100</td>\n",
       "      <td>2505.00N27.00E2100--000000100</td>\n",
       "      <td>2091</td>\n",
       "      <td>POLYGON ((1580310.900 1516257.313, 1578965.345...</td>\n",
       "    </tr>\n",
       "  </tbody>\n",
       "</table>\n",
       "</div>"
      ],
      "text/plain": [
       "             wdID     trsqq parcel_id notes  lots   lot  \\\n",
       "1231  WD2017-0259  04N26E07       100  None   100   100   \n",
       "1235  WD2018-0159  06S25E00      2901  None  2901  2901   \n",
       "1236  WD2018-0430  05N27E21       100  None   100   100   \n",
       "\n",
       "                           ORTaxlot  record_ID  \\\n",
       "1231  2504.00N26.00E0700--000000100       2078   \n",
       "1235  2506.00S25.00E0000--000002901       2083   \n",
       "1236  2505.00N27.00E2100--000000100       2091   \n",
       "\n",
       "                                               geometry  \n",
       "1231  MULTIPOLYGON (((1539075.537 1492552.041, 15388...  \n",
       "1235  POLYGON ((1526090.885 1194359.787, 1526480.413...  \n",
       "1236  POLYGON ((1580310.900 1516257.313, 1578965.345...  "
      ]
     },
     "execution_count": 25,
     "metadata": {},
     "output_type": "execute_result"
    }
   ],
   "source": [
    "comp_mat.head(3)"
   ]
  },
  {
   "cell_type": "code",
   "execution_count": 26,
   "id": "41c84b8d",
   "metadata": {},
   "outputs": [],
   "source": [
    "# single parcel id in the matched records\n",
    "sig_pcl_mat = comp_mat[~comp_mat.lots.str.contains(',')]\n",
    "# two and plus in the matched records\n",
    "twp_pcl_mat = comp_mat[comp_mat.lots.str.contains(',')]"
   ]
  },
  {
   "cell_type": "code",
   "execution_count": 27,
   "id": "ae3ae401",
   "metadata": {},
   "outputs": [],
   "source": [
    "# dissolve the polygons by record ID\n",
    "twp_pcl_mat_dis = twp_pcl_mat.drop(columns=['lot', 'ORTaxlot'])\n",
    "twp_pcl_mat_dis = twp_pcl_mat_dis.dissolve('record_ID')\n",
    "twp_pcl_mat_dis.loc[:, 'record_ID'] = twp_pcl_mat_dis.index"
   ]
  },
  {
   "cell_type": "code",
   "execution_count": 28,
   "id": "9b9f7643",
   "metadata": {},
   "outputs": [
    {
     "data": {
      "text/plain": [
       "(10, 7)"
      ]
     },
     "execution_count": 28,
     "metadata": {},
     "output_type": "execute_result"
    }
   ],
   "source": [
    "twp_pcl_mat_dis.shape"
   ]
  },
  {
   "cell_type": "code",
   "execution_count": 19,
   "id": "9ba06771",
   "metadata": {},
   "outputs": [],
   "source": [
    "import matplotlib.pyplot as plt"
   ]
  },
  {
   "cell_type": "code",
   "execution_count": 29,
   "id": "9a7dde63",
   "metadata": {},
   "outputs": [
    {
     "data": {
      "image/png": "[encoded data removed]",
      "text/plain": [
       "<Figure size 720x720 with 1 Axes>"
      ]
     },
     "metadata": {
      "needs_background": "light"
     },
     "output_type": "display_data"
    },
    {
     "data": {
      "image/png": "[encoded data removed]",
      "text/plain": [
       "<Figure size 720x720 with 1 Axes>"
      ]
     },
     "metadata": {
      "needs_background": "light"
     },
     "output_type": "display_data"
    },
    {
     "data": {
      "image/png": "[encoded data removed]",
      "text/plain": [
       "<Figure size 720x720 with 1 Axes>"
      ]
     },
     "metadata": {
      "needs_background": "light"
     },
     "output_type": "display_data"
    },
    {
     "data": {
      "image/png": "[encoded data removed]",
      "text/plain": [
       "<Figure size 720x720 with 1 Axes>"
      ]
     },
     "metadata": {
      "needs_background": "light"
     },
     "output_type": "display_data"
    },
    {
     "data": {
      "image/png": "[encoded data removed]",
      "text/plain": [
       "<Figure size 720x720 with 1 Axes>"
      ]
     },
     "metadata": {
      "needs_background": "light"
     },
     "output_type": "display_data"
    },
    {
     "data": {
      "image/png": "[encoded data removed]",
      "text/plain": [
       "<Figure size 720x720 with 1 Axes>"
      ]
     },
     "metadata": {
      "needs_background": "light"
     },
     "output_type": "display_data"
    },
    {
     "data": {
      "image/png": "[encoded data removed]",
      "text/plain": [
       "<Figure size 720x720 with 1 Axes>"
      ]
     },
     "metadata": {
      "needs_background": "light"
     },
     "output_type": "display_data"
    },
    {
     "data": {
      "image/png": "[encoded data removed]",
      "text/plain": [
       "<Figure size 720x720 with 1 Axes>"
      ]
     },
     "metadata": {
      "needs_background": "light"
     },
     "output_type": "display_data"
    },
    {
     "data": {
      "image/png": "[encoded data removed]",
      "text/plain": [
       "<Figure size 720x720 with 1 Axes>"
      ]
     },
     "metadata": {
      "needs_background": "light"
     },
     "output_type": "display_data"
    },
    {
     "data": {
      "image/png": "[encoded data removed]",
      "text/plain": [
       "<Figure size 720x720 with 1 Axes>"
      ]
     },
     "metadata": {
      "needs_background": "light"
     },
     "output_type": "display_data"
    }
   ],
   "source": [
    "for rid in twp_pcl_mat_dis.record_ID.unique():\n",
    "    fig, ax = plt.subplots(figsize = (10,10))\n",
    "    twp_pcl_mat_dis[twp_pcl_mat_dis.record_ID==rid].plot(ax=ax)\n",
    "    wdID = twp_pcl_mat_dis.loc[twp_pcl_mat_dis.record_ID==rid, 'wdID'].values[0]\n",
    "    ax.set_title(f\"{wdID}, {setID}, {rid}\")"
   ]
  },
  {
   "cell_type": "code",
   "execution_count": 53,
   "id": "24825684",
   "metadata": {},
   "outputs": [],
   "source": [
    "digtIDs = [wid for wid in wdIDs if wid in mapped[mapped.code!=0].wdID.unique()]"
   ]
  },
  {
   "cell_type": "code",
   "execution_count": 54,
   "id": "f52925a7",
   "metadata": {},
   "outputs": [],
   "source": [
    "#digitized = mapped[mapped.code==2]\n",
    "digitized = mapped[mapped.wdID.isin(digtIDs)]"
   ]
  },
  {
   "cell_type": "code",
   "execution_count": 55,
   "id": "2dc1a7e5",
   "metadata": {},
   "outputs": [],
   "source": [
    "digitized['area'] = digitized['geometry'].area"
   ]
  },
  {
   "cell_type": "code",
   "execution_count": 17,
   "id": "98331757",
   "metadata": {},
   "outputs": [],
   "source": [
    "cnty = gpd.read_file(r'X:\\Data\\State\\ORCnty2015.shp')"
   ]
  },
  {
   "cell_type": "code",
   "execution_count": 18,
   "id": "b898ee94",
   "metadata": {},
   "outputs": [],
   "source": [
    "cnty=cnty.to_crs(epsg=2992)"
   ]
  },
  {
   "cell_type": "code",
   "execution_count": 56,
   "id": "7e44a96e",
   "metadata": {},
   "outputs": [
    {
     "data": {
      "text/html": [
       "<div>\n",
       "<style scoped>\n",
       "    .dataframe tbody tr th:only-of-type {\n",
       "        vertical-align: middle;\n",
       "    }\n",
       "\n",
       "    .dataframe tbody tr th {\n",
       "        vertical-align: top;\n",
       "    }\n",
       "\n",
       "    .dataframe thead th {\n",
       "        text-align: right;\n",
       "    }\n",
       "</style>\n",
       "<table border=\"1\" class=\"dataframe\">\n",
       "  <thead>\n",
       "    <tr style=\"text-align: right;\">\n",
       "      <th></th>\n",
       "      <th>code</th>\n",
       "      <th>wdID</th>\n",
       "      <th>geometry</th>\n",
       "      <th>area</th>\n",
       "    </tr>\n",
       "  </thead>\n",
       "  <tbody>\n",
       "    <tr>\n",
       "      <th>0</th>\n",
       "      <td>2</td>\n",
       "      <td>WD2017-0001</td>\n",
       "      <td>POLYGON Z ((1440038.463 1476800.836 0.000, 145...</td>\n",
       "      <td>3.274306e+07</td>\n",
       "    </tr>\n",
       "    <tr>\n",
       "      <th>38</th>\n",
       "      <td>1</td>\n",
       "      <td>WD2017-0275</td>\n",
       "      <td>MULTIPOLYGON Z (((1476548.521 1436922.350 0.00...</td>\n",
       "      <td>6.969175e+08</td>\n",
       "    </tr>\n",
       "    <tr>\n",
       "      <th>97</th>\n",
       "      <td>1</td>\n",
       "      <td>WD2018-0158</td>\n",
       "      <td>POLYGON Z ((1488525.837 1439805.828 0.000, 148...</td>\n",
       "      <td>4.364249e+07</td>\n",
       "    </tr>\n",
       "    <tr>\n",
       "      <th>113</th>\n",
       "      <td>2</td>\n",
       "      <td>WD2018-0326</td>\n",
       "      <td>POLYGON Z ((1520792.232 1374011.496 0.000, 152...</td>\n",
       "      <td>6.987872e+06</td>\n",
       "    </tr>\n",
       "    <tr>\n",
       "      <th>121</th>\n",
       "      <td>2</td>\n",
       "      <td>WD2018-0407</td>\n",
       "      <td>MULTIPOLYGON Z (((1568742.176 1512778.389 0.00...</td>\n",
       "      <td>5.775654e+06</td>\n",
       "    </tr>\n",
       "    <tr>\n",
       "      <th>258</th>\n",
       "      <td>1</td>\n",
       "      <td>WD2020-0383</td>\n",
       "      <td>POLYGON Z ((1584358.362 1457894.115 0.000, 158...</td>\n",
       "      <td>8.441907e+07</td>\n",
       "    </tr>\n",
       "    <tr>\n",
       "      <th>275</th>\n",
       "      <td>2</td>\n",
       "      <td>WD2020-0550</td>\n",
       "      <td>MULTIPOLYGON Z (((1489057.074 1487515.957 0.00...</td>\n",
       "      <td>4.707945e+07</td>\n",
       "    </tr>\n",
       "    <tr>\n",
       "      <th>292</th>\n",
       "      <td>2</td>\n",
       "      <td>WD2021-0003</td>\n",
       "      <td>POLYGON Z ((1522645.566 1491772.852 0.000, 152...</td>\n",
       "      <td>2.216399e+06</td>\n",
       "    </tr>\n",
       "    <tr>\n",
       "      <th>312</th>\n",
       "      <td>2</td>\n",
       "      <td>WD2021-0233</td>\n",
       "      <td>MULTIPOLYGON Z (((1517505.154 1494360.840 0.00...</td>\n",
       "      <td>2.259515e+05</td>\n",
       "    </tr>\n",
       "    <tr>\n",
       "      <th>369</th>\n",
       "      <td>1</td>\n",
       "      <td>WD2021-0651</td>\n",
       "      <td>POLYGON Z ((1584358.362 1457894.115 0.000, 158...</td>\n",
       "      <td>8.441907e+07</td>\n",
       "    </tr>\n",
       "    <tr>\n",
       "      <th>379</th>\n",
       "      <td>2</td>\n",
       "      <td>WD2022-0023</td>\n",
       "      <td>MULTIPOLYGON Z (((1534147.086 1383125.648 0.00...</td>\n",
       "      <td>2.747120e+08</td>\n",
       "    </tr>\n",
       "  </tbody>\n",
       "</table>\n",
       "</div>"
      ],
      "text/plain": [
       "     code         wdID                                           geometry  \\\n",
       "0       2  WD2017-0001  POLYGON Z ((1440038.463 1476800.836 0.000, 145...   \n",
       "38      1  WD2017-0275  MULTIPOLYGON Z (((1476548.521 1436922.350 0.00...   \n",
       "97      1  WD2018-0158  POLYGON Z ((1488525.837 1439805.828 0.000, 148...   \n",
       "113     2  WD2018-0326  POLYGON Z ((1520792.232 1374011.496 0.000, 152...   \n",
       "121     2  WD2018-0407  MULTIPOLYGON Z (((1568742.176 1512778.389 0.00...   \n",
       "258     1  WD2020-0383  POLYGON Z ((1584358.362 1457894.115 0.000, 158...   \n",
       "275     2  WD2020-0550  MULTIPOLYGON Z (((1489057.074 1487515.957 0.00...   \n",
       "292     2  WD2021-0003  POLYGON Z ((1522645.566 1491772.852 0.000, 152...   \n",
       "312     2  WD2021-0233  MULTIPOLYGON Z (((1517505.154 1494360.840 0.00...   \n",
       "369     1  WD2021-0651  POLYGON Z ((1584358.362 1457894.115 0.000, 158...   \n",
       "379     2  WD2022-0023  MULTIPOLYGON Z (((1534147.086 1383125.648 0.00...   \n",
       "\n",
       "             area  \n",
       "0    3.274306e+07  \n",
       "38   6.969175e+08  \n",
       "97   4.364249e+07  \n",
       "113  6.987872e+06  \n",
       "121  5.775654e+06  \n",
       "258  8.441907e+07  \n",
       "275  4.707945e+07  \n",
       "292  2.216399e+06  \n",
       "312  2.259515e+05  \n",
       "369  8.441907e+07  \n",
       "379  2.747120e+08  "
      ]
     },
     "execution_count": 56,
     "metadata": {},
     "output_type": "execute_result"
    }
   ],
   "source": [
    "digitized"
   ]
  },
  {
   "cell_type": "code",
   "execution_count": 42,
   "id": "491d8ab4",
   "metadata": {},
   "outputs": [
    {
     "data": {
      "text/plain": [
       "Index(['year', 'ORMapNum', 'geometry'], dtype='object')"
      ]
     },
     "execution_count": 42,
     "metadata": {},
     "output_type": "execute_result"
    }
   ],
   "source": [
    "all_mapIdx.columns"
   ]
  },
  {
   "cell_type": "code",
   "execution_count": 43,
   "id": "b7b423da",
   "metadata": {},
   "outputs": [],
   "source": [
    "wd_df_s['ORMapNum'] = wd_df_s[['county', 'trsqq']].apply(lambda row: create_ORMapNm(ct_nm=row.county, \n",
    "                                                                          trsqq=row.trsqq), \n",
    "                                               axis = 1)"
   ]
  },
  {
   "cell_type": "code",
   "execution_count": 44,
   "id": "1e61fb46",
   "metadata": {
    "scrolled": true
   },
   "outputs": [
    {
     "data": {
      "text/plain": [
       "Index(['wetdet_delin_number', 'trsqq', 'parcel_id', 'address_location_desc',\n",
       "       'city', 'county', 'site_name', 'site_desc', 'latitude', 'longitude',\n",
       "       'Coord-Source', 'DocumentName', 'DecisionLink', 'is_batch_file',\n",
       "       'status_name', 'received_date', 'response_date',\n",
       "       'reissuance_response_date', 'project_id', 'site_id', 'record_ID',\n",
       "       'notes', 'recyear', 'IDyear', 'missinglot', 'SetID', 'ORMapNum'],\n",
       "      dtype='object')"
      ]
     },
     "execution_count": 44,
     "metadata": {},
     "output_type": "execute_result"
    }
   ],
   "source": [
    "wd_df_s.columns"
   ]
  },
  {
   "cell_type": "code",
   "execution_count": 49,
   "id": "49e79711",
   "metadata": {},
   "outputs": [
    {
     "data": {
      "text/plain": [
       "Index(['year', 'ORMapNum', 'geometry'], dtype='object')"
      ]
     },
     "execution_count": 49,
     "metadata": {},
     "output_type": "execute_result"
    }
   ],
   "source": [
    "all_mapIdx.columns"
   ]
  },
  {
   "cell_type": "code",
   "execution_count": 50,
   "id": "8ce0fd2e",
   "metadata": {},
   "outputs": [
    {
     "data": {
      "text/plain": [
       "str"
      ]
     },
     "execution_count": 50,
     "metadata": {},
     "output_type": "execute_result"
    }
   ],
   "source": [
    "type(all_mapIdx.year.values[0])"
   ]
  },
  {
   "cell_type": "code",
   "execution_count": 57,
   "id": "1b979f5a",
   "metadata": {},
   "outputs": [
    {
     "data": {
      "image/png": "[encoded data removed]",
      "text/plain": [
       "<Figure size 720x720 with 1 Axes>"
      ]
     },
     "metadata": {
      "needs_background": "light"
     },
     "output_type": "display_data"
    },
    {
     "data": {
      "image/png": "[encoded data removed]",
      "text/plain": [
       "<Figure size 720x720 with 1 Axes>"
      ]
     },
     "metadata": {
      "needs_background": "light"
     },
     "output_type": "display_data"
    },
    {
     "data": {
      "image/png": "[encoded data removed]",
      "text/plain": [
       "<Figure size 720x720 with 1 Axes>"
      ]
     },
     "metadata": {
      "needs_background": "light"
     },
     "output_type": "display_data"
    },
    {
     "data": {
      "image/png": "[encoded data removed]",
      "text/plain": [
       "<Figure size 720x720 with 1 Axes>"
      ]
     },
     "metadata": {
      "needs_background": "light"
     },
     "output_type": "display_data"
    },
    {
     "data": {
      "image/png": "[encoded data removed]",
      "text/plain": [
       "<Figure size 720x720 with 1 Axes>"
      ]
     },
     "metadata": {
      "needs_background": "light"
     },
     "output_type": "display_data"
    },
    {
     "data": {
      "image/png": "[encoded data removed]",
      "text/plain": [
       "<Figure size 720x720 with 1 Axes>"
      ]
     },
     "metadata": {
      "needs_background": "light"
     },
     "output_type": "display_data"
    }
   ],
   "source": [
    "# [digitized.area >= 40000000]\n",
    "for wid in digitized.wdID:\n",
    "    #print(wid)\n",
    "    ORmn = wd_df_s[wd_df_s.wetdet_delin_number==wid].ORMapNum.values\n",
    "    k = len(ORmn)\n",
    "    if k>1:\n",
    "        fig, ax = plt.subplots(figsize = (10,10))\n",
    "        b = digitized[digitized.wdID==wid]\n",
    "        xmin, ymin, xmax, ymax = b.total_bounds\n",
    "        pad = 5000\n",
    "        ax.set_xlim(xmin-pad, xmax+pad)\n",
    "        ax.set_ylim(ymin-pad, ymax+pad)\n",
    "        base = b.plot(ax=ax)\n",
    "        cnty.boundary.plot(ax=base, color='red')\n",
    "        yr = wid[2:6]\n",
    "        #print(f\"{wid} {ORmn}\")\n",
    "        mapIdx = all_mapIdx[(all_mapIdx.ORMapNum.isin(ORmn)) & (all_mapIdx.year==yr)]\n",
    "        mapIdx.boundary.plot(ax=base, color='green')\n",
    "        ax.set_title(f\"{wid}, {setID}\")"
   ]
  },
  {
   "cell_type": "code",
   "execution_count": 138,
   "id": "ccc29750",
   "metadata": {},
   "outputs": [],
   "source": [
    "#wid = 'WD2022-0026'\n",
    "wid = 'WD2022-0083'"
   ]
  },
  {
   "cell_type": "code",
   "execution_count": 115,
   "id": "eae3f7cd",
   "metadata": {},
   "outputs": [
    {
     "data": {
      "text/plain": [
       "Text(0.5, 1.0, 'WD2022-0083, Set004')"
      ]
     },
     "execution_count": 115,
     "metadata": {},
     "output_type": "execute_result"
    },
    {
     "data": {
      "image/png": "[encoded data removed]",
      "text/plain": [
       "<Figure size 720x720 with 1 Axes>"
      ]
     },
     "metadata": {
      "needs_background": "light"
     },
     "output_type": "display_data"
    }
   ],
   "source": [
    "fig, ax = plt.subplots(figsize = (10,10))\n",
    "p = sa_gdf[sa_gdf.wdID == wid]\n",
    "p.plot(ax=ax)\n",
    "ax.set_title(f\"{wid}, {'Set00'+str(p.SetID.values[0])}\")"
   ]
  },
  {
   "cell_type": "code",
   "execution_count": 114,
   "id": "9c35e0e1",
   "metadata": {},
   "outputs": [
    {
     "data": {
      "text/html": [
       "<div>\n",
       "<style scoped>\n",
       "    .dataframe tbody tr th:only-of-type {\n",
       "        vertical-align: middle;\n",
       "    }\n",
       "\n",
       "    .dataframe tbody tr th {\n",
       "        vertical-align: top;\n",
       "    }\n",
       "\n",
       "    .dataframe thead th {\n",
       "        text-align: right;\n",
       "    }\n",
       "</style>\n",
       "<table border=\"1\" class=\"dataframe\">\n",
       "  <thead>\n",
       "    <tr style=\"text-align: right;\">\n",
       "      <th></th>\n",
       "      <th>wetdet_delin_number</th>\n",
       "      <th>trsqq</th>\n",
       "      <th>parcel_id</th>\n",
       "      <th>address_location_desc</th>\n",
       "      <th>city</th>\n",
       "      <th>county</th>\n",
       "      <th>site_name</th>\n",
       "      <th>site_desc</th>\n",
       "      <th>latitude</th>\n",
       "      <th>longitude</th>\n",
       "      <th>...</th>\n",
       "      <th>received_date</th>\n",
       "      <th>response_date</th>\n",
       "      <th>reissuance_response_date</th>\n",
       "      <th>project_id</th>\n",
       "      <th>site_id</th>\n",
       "      <th>record_ID</th>\n",
       "      <th>notes</th>\n",
       "      <th>recyear</th>\n",
       "      <th>IDyear</th>\n",
       "      <th>missinglot</th>\n",
       "    </tr>\n",
       "  </thead>\n",
       "  <tbody>\n",
       "    <tr>\n",
       "      <th>89</th>\n",
       "      <td>WD2020-0271</td>\n",
       "      <td>08N10W27</td>\n",
       "      <td>206,211,212,213,214</td>\n",
       "      <td>SE 19th St</td>\n",
       "      <td>Warrenton</td>\n",
       "      <td>Clatsop</td>\n",
       "      <td>North Coast Business Park</td>\n",
       "      <td>WD2020-0271 re-delineation</td>\n",
       "      <td>46.147039</td>\n",
       "      <td>-123.908392</td>\n",
       "      <td>...</td>\n",
       "      <td>2020-05-14</td>\n",
       "      <td>2021-01-04</td>\n",
       "      <td>NaN</td>\n",
       "      <td>79936.0</td>\n",
       "      <td>132894</td>\n",
       "      <td>90</td>\n",
       "      <td></td>\n",
       "      <td>2020</td>\n",
       "      <td>2020</td>\n",
       "      <td>N</td>\n",
       "    </tr>\n",
       "    <tr>\n",
       "      <th>90</th>\n",
       "      <td>WD2020-0271</td>\n",
       "      <td>08N10W27</td>\n",
       "      <td>206,211,212,213,214</td>\n",
       "      <td>SE 19th St</td>\n",
       "      <td>Warrenton</td>\n",
       "      <td>Clatsop</td>\n",
       "      <td>North Coast Business Park</td>\n",
       "      <td>WD2020-0271 re-delineation</td>\n",
       "      <td>46.147039</td>\n",
       "      <td>-123.908392</td>\n",
       "      <td>...</td>\n",
       "      <td>2020-05-14</td>\n",
       "      <td>2021-01-04</td>\n",
       "      <td>NaN</td>\n",
       "      <td>42028.0</td>\n",
       "      <td>132894</td>\n",
       "      <td>91</td>\n",
       "      <td></td>\n",
       "      <td>2020</td>\n",
       "      <td>2020</td>\n",
       "      <td>N</td>\n",
       "    </tr>\n",
       "  </tbody>\n",
       "</table>\n",
       "<p>2 rows × 25 columns</p>\n",
       "</div>"
      ],
      "text/plain": [
       "   wetdet_delin_number     trsqq            parcel_id address_location_desc  \\\n",
       "89         WD2020-0271  08N10W27  206,211,212,213,214            SE 19th St   \n",
       "90         WD2020-0271  08N10W27  206,211,212,213,214            SE 19th St   \n",
       "\n",
       "         city   county                  site_name                   site_desc  \\\n",
       "89  Warrenton  Clatsop  North Coast Business Park  WD2020-0271 re-delineation   \n",
       "90  Warrenton  Clatsop  North Coast Business Park  WD2020-0271 re-delineation   \n",
       "\n",
       "     latitude   longitude  ... received_date response_date  \\\n",
       "89  46.147039 -123.908392  ...    2020-05-14    2021-01-04   \n",
       "90  46.147039 -123.908392  ...    2020-05-14    2021-01-04   \n",
       "\n",
       "   reissuance_response_date project_id site_id record_ID notes recyear  \\\n",
       "89                      NaN    79936.0  132894        90          2020   \n",
       "90                      NaN    42028.0  132894        91          2020   \n",
       "\n",
       "    IDyear  missinglot  \n",
       "89    2020           N  \n",
       "90    2020           N  \n",
       "\n",
       "[2 rows x 25 columns]"
      ]
     },
     "execution_count": 114,
     "metadata": {},
     "output_type": "execute_result"
    }
   ],
   "source": [
    "wd_df.loc[wd_df.wetdet_delin_number=='WD2020-0271', :]"
   ]
  },
  {
   "cell_type": "code",
   "execution_count": 44,
   "id": "f693ee0d",
   "metadata": {
    "scrolled": true
   },
   "outputs": [
    {
     "data": {
      "text/plain": [
       "array(['Clatsop', 'Coos', 'Deschutes', 'Harney', 'Jackson', 'Josephine',\n",
       "       'Lake', 'Marion', 'Baker', 'Benton', 'Clackamas', 'Morrow',\n",
       "       'Columbia', 'Grant', 'Klamath', 'Lincoln', 'Tillamook',\n",
       "       'TIllamook', 'Crook', 'Curry', 'Hood River', 'Jefferson', 'Linn',\n",
       "       'Multnomah', 'Wasco', 'Yamhill', 'Yamhill and Washington'],\n",
       "      dtype=object)"
      ]
     },
     "execution_count": 44,
     "metadata": {},
     "output_type": "execute_result"
    }
   ],
   "source": [
    "wd_df.county.unique()"
   ]
  },
  {
   "cell_type": "code",
   "execution_count": 48,
   "id": "9e7c6143",
   "metadata": {},
   "outputs": [
    {
     "data": {
      "text/plain": [
       "'Beginning: OR219 in Newberg; OR99W NE of Newberg'"
      ]
     },
     "execution_count": 48,
     "metadata": {},
     "output_type": "execute_result"
    }
   ],
   "source": [
    "wd_df.loc[wd_df.county == 'Yamhill and Washington', 'address_location_desc'].values[0]"
   ]
  },
  {
   "cell_type": "code",
   "execution_count": 7,
   "id": "8ebb50a5",
   "metadata": {},
   "outputs": [],
   "source": [
    "taxlots22 = gpd.read_file(inpath+'\\\\GIS\\\\ORMAP_data\\\\ORMAP_Taxlot_Years\\\\Taxlots2022.gdb', \n",
    "                          layer='Taxlots')"
   ]
  },
  {
   "cell_type": "code",
   "execution_count": 256,
   "id": "efdc6b3b",
   "metadata": {},
   "outputs": [
    {
     "data": {
      "text/plain": [
       "Index(['County', 'Town', 'TownPart', 'TownDir', 'Range', 'RangePart',\n",
       "       'RangeDir', 'SecNumber', 'Qtr', 'QtrQtr', 'Anomaly', 'MapSufType',\n",
       "       'MapNumber', 'ORMapNum', 'Taxlot', 'MapTaxlot', 'ORTaxlot',\n",
       "       'TaxlotAcre', 'ReliaCode', 'TaxLotFeet', 'MapClass', 'MapRelCode',\n",
       "       'MapSufNum', 'REFLink', 'SpecialInt', 'INSTYEAR', 'PRIMACCNUM',\n",
       "       'OWNERLINE1', 'MAILADD1', 'MAILADD2', 'MAILCITY', 'MAILZIP', 'PRPCLASS',\n",
       "       'SIMAPTAX', 'OWNERLINE2', 'OWNERLINE3', 'AGENTNAME', 'MAILSTATE',\n",
       "       'MAILCNTRY', 'SITEADDNAM', 'SITEADDCTY', 'SITEZIP', 'INSTMONTH',\n",
       "       'INSTID', 'INSTTYPE', 'DWELLING', 'PRPCLSDSC', 'Shape_Length',\n",
       "       'Shape_Area', 'geometry'],\n",
       "      dtype='object')"
      ]
     },
     "execution_count": 256,
     "metadata": {},
     "output_type": "execute_result"
    }
   ],
   "source": [
    "taxlots22.columns"
   ]
  },
  {
   "cell_type": "code",
   "execution_count": 139,
   "id": "f5c099bf",
   "metadata": {},
   "outputs": [],
   "source": [
    "dt = wd_df[wd_df.wetdet_delin_number==wid]"
   ]
  },
  {
   "cell_type": "code",
   "execution_count": 140,
   "id": "6df51fa7",
   "metadata": {},
   "outputs": [
    {
     "data": {
      "text/html": [
       "<div>\n",
       "<style scoped>\n",
       "    .dataframe tbody tr th:only-of-type {\n",
       "        vertical-align: middle;\n",
       "    }\n",
       "\n",
       "    .dataframe tbody tr th {\n",
       "        vertical-align: top;\n",
       "    }\n",
       "\n",
       "    .dataframe thead th {\n",
       "        text-align: right;\n",
       "    }\n",
       "</style>\n",
       "<table border=\"1\" class=\"dataframe\">\n",
       "  <thead>\n",
       "    <tr style=\"text-align: right;\">\n",
       "      <th></th>\n",
       "      <th>wetdet_delin_number</th>\n",
       "      <th>trsqq</th>\n",
       "      <th>county</th>\n",
       "      <th>record_ID</th>\n",
       "      <th>SetID</th>\n",
       "    </tr>\n",
       "  </thead>\n",
       "  <tbody>\n",
       "    <tr>\n",
       "      <th>3903</th>\n",
       "      <td>WD2022-0083</td>\n",
       "      <td>03S02W15</td>\n",
       "      <td>Yamhill and Washington</td>\n",
       "      <td>3904</td>\n",
       "      <td>4</td>\n",
       "    </tr>\n",
       "    <tr>\n",
       "      <th>3904</th>\n",
       "      <td>WD2022-0083</td>\n",
       "      <td>03S02W28</td>\n",
       "      <td>Yamhill and Washington</td>\n",
       "      <td>3905</td>\n",
       "      <td>4</td>\n",
       "    </tr>\n",
       "    <tr>\n",
       "      <th>3905</th>\n",
       "      <td>WD2022-0083</td>\n",
       "      <td>03S02W21CC</td>\n",
       "      <td>Yamhill and Washington</td>\n",
       "      <td>3906</td>\n",
       "      <td>4</td>\n",
       "    </tr>\n",
       "    <tr>\n",
       "      <th>3906</th>\n",
       "      <td>WD2022-0083</td>\n",
       "      <td>03S02W16DA</td>\n",
       "      <td>Yamhill and Washington</td>\n",
       "      <td>3907</td>\n",
       "      <td>4</td>\n",
       "    </tr>\n",
       "    <tr>\n",
       "      <th>3907</th>\n",
       "      <td>WD2022-0083</td>\n",
       "      <td>03S02W20</td>\n",
       "      <td>Yamhill and Washington</td>\n",
       "      <td>3908</td>\n",
       "      <td>4</td>\n",
       "    </tr>\n",
       "    <tr>\n",
       "      <th>3908</th>\n",
       "      <td>WD2022-0083</td>\n",
       "      <td>03S02W20DD</td>\n",
       "      <td>Yamhill and Washington</td>\n",
       "      <td>3909</td>\n",
       "      <td>4</td>\n",
       "    </tr>\n",
       "    <tr>\n",
       "      <th>3909</th>\n",
       "      <td>WD2022-0083</td>\n",
       "      <td>03S02W20DD</td>\n",
       "      <td>Yamhill and Washington</td>\n",
       "      <td>3910</td>\n",
       "      <td>4</td>\n",
       "    </tr>\n",
       "    <tr>\n",
       "      <th>3910</th>\n",
       "      <td>WD2022-0083</td>\n",
       "      <td>03S02W21</td>\n",
       "      <td>Yamhill and Washington</td>\n",
       "      <td>3911</td>\n",
       "      <td>4</td>\n",
       "    </tr>\n",
       "    <tr>\n",
       "      <th>3911</th>\n",
       "      <td>WD2022-0083</td>\n",
       "      <td>03S02W21</td>\n",
       "      <td>Yamhill and Washington</td>\n",
       "      <td>3912</td>\n",
       "      <td>4</td>\n",
       "    </tr>\n",
       "    <tr>\n",
       "      <th>3912</th>\n",
       "      <td>WD2022-0083</td>\n",
       "      <td>03S02W28</td>\n",
       "      <td>Yamhill and Washington</td>\n",
       "      <td>3913</td>\n",
       "      <td>4</td>\n",
       "    </tr>\n",
       "    <tr>\n",
       "      <th>3913</th>\n",
       "      <td>WD2022-0083</td>\n",
       "      <td>03S02W28BB</td>\n",
       "      <td>Yamhill and Washington</td>\n",
       "      <td>3914</td>\n",
       "      <td>4</td>\n",
       "    </tr>\n",
       "    <tr>\n",
       "      <th>3914</th>\n",
       "      <td>WD2022-0083</td>\n",
       "      <td>03S02W20DD</td>\n",
       "      <td>Yamhill and Washington</td>\n",
       "      <td>3915</td>\n",
       "      <td>4</td>\n",
       "    </tr>\n",
       "    <tr>\n",
       "      <th>3915</th>\n",
       "      <td>WD2022-0083</td>\n",
       "      <td>03S02W28BB</td>\n",
       "      <td>Yamhill and Washington</td>\n",
       "      <td>3916</td>\n",
       "      <td>4</td>\n",
       "    </tr>\n",
       "    <tr>\n",
       "      <th>3916</th>\n",
       "      <td>WD2022-0083</td>\n",
       "      <td>03S02W28</td>\n",
       "      <td>Yamhill and Washington</td>\n",
       "      <td>3917</td>\n",
       "      <td>4</td>\n",
       "    </tr>\n",
       "    <tr>\n",
       "      <th>3917</th>\n",
       "      <td>WD2022-0083</td>\n",
       "      <td>03S02W21</td>\n",
       "      <td>Yamhill and Washington</td>\n",
       "      <td>3918</td>\n",
       "      <td>4</td>\n",
       "    </tr>\n",
       "    <tr>\n",
       "      <th>3918</th>\n",
       "      <td>WD2022-0083</td>\n",
       "      <td>03S02W15AA</td>\n",
       "      <td>Yamhill and Washington</td>\n",
       "      <td>3919</td>\n",
       "      <td>4</td>\n",
       "    </tr>\n",
       "    <tr>\n",
       "      <th>3919</th>\n",
       "      <td>WD2022-0083</td>\n",
       "      <td>03S02W15</td>\n",
       "      <td>Yamhill and Washington</td>\n",
       "      <td>3920</td>\n",
       "      <td>4</td>\n",
       "    </tr>\n",
       "    <tr>\n",
       "      <th>3920</th>\n",
       "      <td>WD2022-0083</td>\n",
       "      <td>03S02W15</td>\n",
       "      <td>Yamhill and Washington</td>\n",
       "      <td>3921</td>\n",
       "      <td>4</td>\n",
       "    </tr>\n",
       "    <tr>\n",
       "      <th>3921</th>\n",
       "      <td>WD2022-0083</td>\n",
       "      <td>03S02W16</td>\n",
       "      <td>Yamhill and Washington</td>\n",
       "      <td>3922</td>\n",
       "      <td>4</td>\n",
       "    </tr>\n",
       "  </tbody>\n",
       "</table>\n",
       "</div>"
      ],
      "text/plain": [
       "     wetdet_delin_number       trsqq                  county  record_ID  SetID\n",
       "3903         WD2022-0083    03S02W15  Yamhill and Washington       3904      4\n",
       "3904         WD2022-0083    03S02W28  Yamhill and Washington       3905      4\n",
       "3905         WD2022-0083  03S02W21CC  Yamhill and Washington       3906      4\n",
       "3906         WD2022-0083  03S02W16DA  Yamhill and Washington       3907      4\n",
       "3907         WD2022-0083    03S02W20  Yamhill and Washington       3908      4\n",
       "3908         WD2022-0083  03S02W20DD  Yamhill and Washington       3909      4\n",
       "3909         WD2022-0083  03S02W20DD  Yamhill and Washington       3910      4\n",
       "3910         WD2022-0083    03S02W21  Yamhill and Washington       3911      4\n",
       "3911         WD2022-0083    03S02W21  Yamhill and Washington       3912      4\n",
       "3912         WD2022-0083    03S02W28  Yamhill and Washington       3913      4\n",
       "3913         WD2022-0083  03S02W28BB  Yamhill and Washington       3914      4\n",
       "3914         WD2022-0083  03S02W20DD  Yamhill and Washington       3915      4\n",
       "3915         WD2022-0083  03S02W28BB  Yamhill and Washington       3916      4\n",
       "3916         WD2022-0083    03S02W28  Yamhill and Washington       3917      4\n",
       "3917         WD2022-0083    03S02W21  Yamhill and Washington       3918      4\n",
       "3918         WD2022-0083  03S02W15AA  Yamhill and Washington       3919      4\n",
       "3919         WD2022-0083    03S02W15  Yamhill and Washington       3920      4\n",
       "3920         WD2022-0083    03S02W15  Yamhill and Washington       3921      4\n",
       "3921         WD2022-0083    03S02W16  Yamhill and Washington       3922      4"
      ]
     },
     "execution_count": 140,
     "metadata": {},
     "output_type": "execute_result"
    }
   ],
   "source": [
    "dt[['wetdet_delin_number', 'trsqq', 'county', 'record_ID', 'SetID']]"
   ]
  },
  {
   "cell_type": "code",
   "execution_count": 65,
   "id": "66299198",
   "metadata": {},
   "outputs": [
    {
     "data": {
      "text/plain": [
       "(13, 26)"
      ]
     },
     "execution_count": 65,
     "metadata": {},
     "output_type": "execute_result"
    }
   ],
   "source": [
    "dt.shape"
   ]
  },
  {
   "cell_type": "code",
   "execution_count": 66,
   "id": "4dd92b49",
   "metadata": {},
   "outputs": [
    {
     "data": {
      "text/plain": [
       "11"
      ]
     },
     "execution_count": 66,
     "metadata": {},
     "output_type": "execute_result"
    }
   ],
   "source": [
    "len(dt.trsqq.unique())"
   ]
  },
  {
   "cell_type": "code",
   "execution_count": 141,
   "id": "781cc49d",
   "metadata": {},
   "outputs": [],
   "source": [
    "dt['county'] = 'Yamhill'"
   ]
  },
  {
   "cell_type": "code",
   "execution_count": 142,
   "id": "3455a6c2",
   "metadata": {},
   "outputs": [],
   "source": [
    "dt['ORMapNum'] = dt[['county', 'trsqq']].apply(lambda row: create_ORMapNm(ct_nm=row.county, \n",
    "                                                                          trsqq=row.trsqq), \n",
    "                                               axis = 1)"
   ]
  },
  {
   "cell_type": "code",
   "execution_count": 8,
   "id": "74bf6e31",
   "metadata": {},
   "outputs": [],
   "source": [
    "mapindex22 = gpd.read_file(inpath+'\\\\GIS\\\\ORMAP_data\\\\ORMAP_Taxlot_Years\\\\Taxlots2022.gdb', layer='MapIndex')"
   ]
  },
  {
   "cell_type": "code",
   "execution_count": 144,
   "id": "07a53c7a",
   "metadata": {},
   "outputs": [
    {
     "data": {
      "text/plain": [
       "Index(['record_ID', 'geometry'], dtype='object')"
      ]
     },
     "execution_count": 144,
     "metadata": {},
     "output_type": "execute_result"
    }
   ],
   "source": [
    "sa_gdf.columns"
   ]
  },
  {
   "cell_type": "code",
   "execution_count": 149,
   "id": "b82c1568",
   "metadata": {},
   "outputs": [
    {
     "name": "stdout",
     "output_type": "stream",
     "text": [
      "WD WD2022-0083 is in County Yamhill in Set 4...\n"
     ]
    }
   ],
   "source": [
    "out = split_WD_to_records(df=dt, gdf=sa_gdf_s, wdID=wid, \n",
    "                          mapindex=mapindex22, \n",
    "                          taxlots=taxlots22)"
   ]
  },
  {
   "cell_type": "code",
   "execution_count": 68,
   "id": "9b6db60c",
   "metadata": {},
   "outputs": [
    {
     "data": {
      "text/html": [
       "<div>\n",
       "<style scoped>\n",
       "    .dataframe tbody tr th:only-of-type {\n",
       "        vertical-align: middle;\n",
       "    }\n",
       "\n",
       "    .dataframe tbody tr th {\n",
       "        vertical-align: top;\n",
       "    }\n",
       "\n",
       "    .dataframe thead th {\n",
       "        text-align: right;\n",
       "    }\n",
       "</style>\n",
       "<table border=\"1\" class=\"dataframe\">\n",
       "  <thead>\n",
       "    <tr style=\"text-align: right;\">\n",
       "      <th></th>\n",
       "      <th>code</th>\n",
       "      <th>wdID</th>\n",
       "      <th>geometry</th>\n",
       "      <th>SetID</th>\n",
       "    </tr>\n",
       "  </thead>\n",
       "  <tbody>\n",
       "    <tr>\n",
       "      <th>1381</th>\n",
       "      <td>2</td>\n",
       "      <td>WD2022-0026</td>\n",
       "      <td>POLYGON Z ((856298.090 1346598.816 0.000, 8569...</td>\n",
       "      <td>2</td>\n",
       "    </tr>\n",
       "    <tr>\n",
       "      <th>2454</th>\n",
       "      <td>2</td>\n",
       "      <td>WD2022-0026</td>\n",
       "      <td>POLYGON ((880278.127 1346054.362, 878422.925 1...</td>\n",
       "      <td>4</td>\n",
       "    </tr>\n",
       "  </tbody>\n",
       "</table>\n",
       "</div>"
      ],
      "text/plain": [
       "      code         wdID                                           geometry  \\\n",
       "1381     2  WD2022-0026  POLYGON Z ((856298.090 1346598.816 0.000, 8569...   \n",
       "2454     2  WD2022-0026  POLYGON ((880278.127 1346054.362, 878422.925 1...   \n",
       "\n",
       "      SetID  \n",
       "1381      2  \n",
       "2454      4  "
      ]
     },
     "execution_count": 68,
     "metadata": {},
     "output_type": "execute_result"
    }
   ],
   "source": [
    "sa_gdf[sa_gdf.wdID==wid]"
   ]
  },
  {
   "cell_type": "code",
   "execution_count": 69,
   "id": "35c0cb50",
   "metadata": {},
   "outputs": [
    {
     "data": {
      "text/plain": [
       "<AxesSubplot:>"
      ]
     },
     "execution_count": 69,
     "metadata": {},
     "output_type": "execute_result"
    },
    {
     "data": {
      "image/png": "[encoded data removed]",
      "text/plain": [
       "<Figure size 432x288 with 1 Axes>"
      ]
     },
     "metadata": {
      "needs_background": "light"
     },
     "output_type": "display_data"
    }
   ],
   "source": [
    "sa_gdf[sa_gdf.wdID==wid].plot()"
   ]
  },
  {
   "cell_type": "code",
   "execution_count": 72,
   "id": "c14dfe22",
   "metadata": {},
   "outputs": [],
   "source": [
    "inter = gpd.overlay(sa_gdf[(sa_gdf.wdID==wid) & (sa_gdf.SetID==2)], \n",
    "                    mapindex22[['ORMapNum','geometry']], \n",
    "                    how='intersection')"
   ]
  },
  {
   "cell_type": "code",
   "execution_count": 73,
   "id": "d6998e45",
   "metadata": {},
   "outputs": [
    {
     "data": {
      "text/html": [
       "<div>\n",
       "<style scoped>\n",
       "    .dataframe tbody tr th:only-of-type {\n",
       "        vertical-align: middle;\n",
       "    }\n",
       "\n",
       "    .dataframe tbody tr th {\n",
       "        vertical-align: top;\n",
       "    }\n",
       "\n",
       "    .dataframe thead th {\n",
       "        text-align: right;\n",
       "    }\n",
       "</style>\n",
       "<table border=\"1\" class=\"dataframe\">\n",
       "  <thead>\n",
       "    <tr style=\"text-align: right;\">\n",
       "      <th></th>\n",
       "      <th>code</th>\n",
       "      <th>wdID</th>\n",
       "      <th>SetID</th>\n",
       "      <th>ORMapNum</th>\n",
       "      <th>geometry</th>\n",
       "    </tr>\n",
       "  </thead>\n",
       "  <tbody>\n",
       "    <tr>\n",
       "      <th>0</th>\n",
       "      <td>2</td>\n",
       "      <td>WD2022-0026</td>\n",
       "      <td>2</td>\n",
       "      <td>0301.00S05.00E0000--0000</td>\n",
       "      <td>POLYGON Z ((878960.809 1348346.959 0.000, 8813...</td>\n",
       "    </tr>\n",
       "    <tr>\n",
       "      <th>1</th>\n",
       "      <td>2</td>\n",
       "      <td>WD2022-0026</td>\n",
       "      <td>2</td>\n",
       "      <td>0301.00S05.00E3300--0000</td>\n",
       "      <td>POLYGON Z ((874610.975 1347069.256 0.000, 8761...</td>\n",
       "    </tr>\n",
       "    <tr>\n",
       "      <th>2</th>\n",
       "      <td>2</td>\n",
       "      <td>WD2022-0026</td>\n",
       "      <td>2</td>\n",
       "      <td>0301.00S06.00E0000--0000</td>\n",
       "      <td>POLYGON Z ((896277.241 1355830.201 0.000, 8957...</td>\n",
       "    </tr>\n",
       "    <tr>\n",
       "      <th>3</th>\n",
       "      <td>2</td>\n",
       "      <td>WD2022-0026</td>\n",
       "      <td>2</td>\n",
       "      <td>0302.00S04.00E0100--0000</td>\n",
       "      <td>POLYGON Z ((860519.884 1346389.789 0.000, 8605...</td>\n",
       "    </tr>\n",
       "    <tr>\n",
       "      <th>4</th>\n",
       "      <td>2</td>\n",
       "      <td>WD2022-0026</td>\n",
       "      <td>2</td>\n",
       "      <td>0302.00S04.00E01AB--0000</td>\n",
       "      <td>POLYGON Z ((861581.151 1346368.640 0.000, 8618...</td>\n",
       "    </tr>\n",
       "    <tr>\n",
       "      <th>5</th>\n",
       "      <td>2</td>\n",
       "      <td>WD2022-0026</td>\n",
       "      <td>2</td>\n",
       "      <td>0302.00S04.00E01AC--0000</td>\n",
       "      <td>POLYGON Z ((860859.803 1345538.174 0.000, 8608...</td>\n",
       "    </tr>\n",
       "    <tr>\n",
       "      <th>6</th>\n",
       "      <td>2</td>\n",
       "      <td>WD2022-0026</td>\n",
       "      <td>2</td>\n",
       "      <td>0302.00S04.00E02A0--0000</td>\n",
       "      <td>POLYGON Z ((856955.792 1346692.447 0.000, 8572...</td>\n",
       "    </tr>\n",
       "    <tr>\n",
       "      <th>7</th>\n",
       "      <td>2</td>\n",
       "      <td>WD2022-0026</td>\n",
       "      <td>2</td>\n",
       "      <td>0302.00S05.00E0300--0000</td>\n",
       "      <td>POLYGON Z ((880263.451 1346044.141 0.000, 8788...</td>\n",
       "    </tr>\n",
       "    <tr>\n",
       "      <th>8</th>\n",
       "      <td>2</td>\n",
       "      <td>WD2022-0026</td>\n",
       "      <td>2</td>\n",
       "      <td>0302.00S05.00E0400--0000</td>\n",
       "      <td>POLYGON Z ((874347.261 1346875.901 0.000, 8749...</td>\n",
       "    </tr>\n",
       "    <tr>\n",
       "      <th>9</th>\n",
       "      <td>2</td>\n",
       "      <td>WD2022-0026</td>\n",
       "      <td>2</td>\n",
       "      <td>0302.00S05.00E0500--0000</td>\n",
       "      <td>POLYGON Z ((869039.208 1346126.378 0.000, 8707...</td>\n",
       "    </tr>\n",
       "    <tr>\n",
       "      <th>10</th>\n",
       "      <td>2</td>\n",
       "      <td>WD2022-0026</td>\n",
       "      <td>2</td>\n",
       "      <td>0302.00S05.00E0600--0000</td>\n",
       "      <td>POLYGON Z ((863891.349 1346371.178 0.000, 8654...</td>\n",
       "    </tr>\n",
       "    <tr>\n",
       "      <th>11</th>\n",
       "      <td>2</td>\n",
       "      <td>WD2022-0026</td>\n",
       "      <td>2</td>\n",
       "      <td>2601.00S05.00E0000--0000</td>\n",
       "      <td>POLYGON Z ((894986.664 1357418.562 0.000, 8949...</td>\n",
       "    </tr>\n",
       "    <tr>\n",
       "      <th>12</th>\n",
       "      <td>2</td>\n",
       "      <td>WD2022-0026</td>\n",
       "      <td>2</td>\n",
       "      <td>2601.00S06.00E0000--0000</td>\n",
       "      <td>POLYGON Z ((895109.367 1357594.991 0.000, 8964...</td>\n",
       "    </tr>\n",
       "  </tbody>\n",
       "</table>\n",
       "</div>"
      ],
      "text/plain": [
       "    code         wdID  SetID                  ORMapNum  \\\n",
       "0      2  WD2022-0026      2  0301.00S05.00E0000--0000   \n",
       "1      2  WD2022-0026      2  0301.00S05.00E3300--0000   \n",
       "2      2  WD2022-0026      2  0301.00S06.00E0000--0000   \n",
       "3      2  WD2022-0026      2  0302.00S04.00E0100--0000   \n",
       "4      2  WD2022-0026      2  0302.00S04.00E01AB--0000   \n",
       "5      2  WD2022-0026      2  0302.00S04.00E01AC--0000   \n",
       "6      2  WD2022-0026      2  0302.00S04.00E02A0--0000   \n",
       "7      2  WD2022-0026      2  0302.00S05.00E0300--0000   \n",
       "8      2  WD2022-0026      2  0302.00S05.00E0400--0000   \n",
       "9      2  WD2022-0026      2  0302.00S05.00E0500--0000   \n",
       "10     2  WD2022-0026      2  0302.00S05.00E0600--0000   \n",
       "11     2  WD2022-0026      2  2601.00S05.00E0000--0000   \n",
       "12     2  WD2022-0026      2  2601.00S06.00E0000--0000   \n",
       "\n",
       "                                             geometry  \n",
       "0   POLYGON Z ((878960.809 1348346.959 0.000, 8813...  \n",
       "1   POLYGON Z ((874610.975 1347069.256 0.000, 8761...  \n",
       "2   POLYGON Z ((896277.241 1355830.201 0.000, 8957...  \n",
       "3   POLYGON Z ((860519.884 1346389.789 0.000, 8605...  \n",
       "4   POLYGON Z ((861581.151 1346368.640 0.000, 8618...  \n",
       "5   POLYGON Z ((860859.803 1345538.174 0.000, 8608...  \n",
       "6   POLYGON Z ((856955.792 1346692.447 0.000, 8572...  \n",
       "7   POLYGON Z ((880263.451 1346044.141 0.000, 8788...  \n",
       "8   POLYGON Z ((874347.261 1346875.901 0.000, 8749...  \n",
       "9   POLYGON Z ((869039.208 1346126.378 0.000, 8707...  \n",
       "10  POLYGON Z ((863891.349 1346371.178 0.000, 8654...  \n",
       "11  POLYGON Z ((894986.664 1357418.562 0.000, 8949...  \n",
       "12  POLYGON Z ((895109.367 1357594.991 0.000, 8964...  "
      ]
     },
     "execution_count": 73,
     "metadata": {},
     "output_type": "execute_result"
    }
   ],
   "source": [
    "inter"
   ]
  },
  {
   "cell_type": "code",
   "execution_count": 74,
   "id": "338aa8c8",
   "metadata": {},
   "outputs": [
    {
     "data": {
      "text/plain": [
       "(13, 5)"
      ]
     },
     "execution_count": 74,
     "metadata": {},
     "output_type": "execute_result"
    }
   ],
   "source": [
    "inter.shape"
   ]
  },
  {
   "cell_type": "code",
   "execution_count": 75,
   "id": "d8a9f6f8",
   "metadata": {},
   "outputs": [
    {
     "data": {
      "text/plain": [
       "13"
      ]
     },
     "execution_count": 75,
     "metadata": {},
     "output_type": "execute_result"
    }
   ],
   "source": [
    "len(inter.ORMapNum.unique())"
   ]
  },
  {
   "cell_type": "code",
   "execution_count": 77,
   "id": "fc8b466b",
   "metadata": {},
   "outputs": [
    {
     "data": {
      "text/plain": [
       "<AxesSubplot:>"
      ]
     },
     "execution_count": 77,
     "metadata": {},
     "output_type": "execute_result"
    },
    {
     "data": {
      "image/png": "[encoded data removed]",
      "text/plain": [
       "<Figure size 432x288 with 1 Axes>"
      ]
     },
     "metadata": {
      "needs_background": "light"
     },
     "output_type": "display_data"
    }
   ],
   "source": [
    "inter.plot()"
   ]
  },
  {
   "cell_type": "code",
   "execution_count": 78,
   "id": "89840d8b",
   "metadata": {},
   "outputs": [
    {
     "data": {
      "text/plain": [
       "Index(['geometry', 'wetdet_delin_number', 'trsqq', 'parcel_id',\n",
       "       'address_location_desc', 'city', 'county', 'site_name', 'site_desc',\n",
       "       'latitude', 'longitude', 'DocumentName', 'DecisionLink',\n",
       "       'is_batch_file', 'status_name', 'received_date', 'response_date',\n",
       "       'reissuance_response_date', 'project_id', 'site_id', 'SetID',\n",
       "       'ORMapNum', 'code', 'record_ID'],\n",
       "      dtype='object')"
      ]
     },
     "execution_count": 78,
     "metadata": {},
     "output_type": "execute_result"
    }
   ],
   "source": [
    "out.columns"
   ]
  },
  {
   "cell_type": "code",
   "execution_count": 79,
   "id": "4e9997b1",
   "metadata": {},
   "outputs": [
    {
     "data": {
      "text/plain": [
       "Index(['code', 'wdID', 'SetID', 'ORMapNum', 'geometry'], dtype='object')"
      ]
     },
     "execution_count": 79,
     "metadata": {},
     "output_type": "execute_result"
    }
   ],
   "source": [
    "inter.columns"
   ]
  },
  {
   "cell_type": "code",
   "execution_count": 82,
   "id": "db83c64e",
   "metadata": {},
   "outputs": [
    {
     "data": {
      "text/plain": [
       "(19, 24)"
      ]
     },
     "execution_count": 82,
     "metadata": {},
     "output_type": "execute_result"
    }
   ],
   "source": [
    "out.shape"
   ]
  },
  {
   "cell_type": "code",
   "execution_count": 80,
   "id": "6c7b2612",
   "metadata": {},
   "outputs": [],
   "source": [
    "selectedvars = ['ORMapNum', 'trsqq', 'parcel_id', 'address_location_desc',\n",
    "       'city', 'county', 'site_name', 'site_desc', 'latitude', 'longitude',\n",
    "    'DocumentName', 'DecisionLink', 'is_batch_file',\n",
    "       'status_name', 'received_date', 'response_date','reissuance_response_date', \n",
    "                'project_id', 'site_id', 'record_ID']"
   ]
  },
  {
   "cell_type": "code",
   "execution_count": 81,
   "id": "19190e2f",
   "metadata": {},
   "outputs": [],
   "source": [
    "WD2022_0026 = inter.merge(dt[selectedvars], on='ORMapNum', how='left')"
   ]
  },
  {
   "cell_type": "code",
   "execution_count": 83,
   "id": "b1e27cb9",
   "metadata": {},
   "outputs": [
    {
     "data": {
      "text/plain": [
       "(13, 24)"
      ]
     },
     "execution_count": 83,
     "metadata": {},
     "output_type": "execute_result"
    }
   ],
   "source": [
    "WD2022_0026.shape"
   ]
  },
  {
   "cell_type": "code",
   "execution_count": 89,
   "id": "f1e996e9",
   "metadata": {},
   "outputs": [],
   "source": [
    "selectedvars2 = ['address_location_desc',\n",
    "       'city', 'county', 'site_name', 'site_desc', 'latitude', 'longitude',\n",
    "                 'DocumentName', 'DecisionLink', 'is_batch_file',\n",
    "       'status_name', 'received_date', 'response_date','reissuance_response_date', \n",
    "                'project_id', 'site_id', 'record_ID']"
   ]
  },
  {
   "cell_type": "code",
   "execution_count": 90,
   "id": "e87d8c6e",
   "metadata": {},
   "outputs": [],
   "source": [
    "twp_pcl_mat_dis.reset_index(drop=True, inplace=True)"
   ]
  },
  {
   "cell_type": "code",
   "execution_count": 91,
   "id": "30109d1e",
   "metadata": {},
   "outputs": [],
   "source": [
    "twp_pcl_mat_dis2 = twp_pcl_mat_dis[['geometry', 'wdID', 'trsqq', 'parcel_id', 'record_ID']].merge(wd_df[selectedvars2],\n",
    "                                                                               on='record_ID', how='left')"
   ]
  },
  {
   "cell_type": "code",
   "execution_count": 92,
   "id": "e3e53a6b",
   "metadata": {},
   "outputs": [],
   "source": [
    "WD2020_0130 = twp_pcl_mat_dis2[twp_pcl_mat_dis2.wdID=='WD2020-0130']\n",
    "WD2020_0271 = twp_pcl_mat_dis2[twp_pcl_mat_dis2.wdID=='WD2020-0271']"
   ]
  },
  {
   "cell_type": "code",
   "execution_count": 114,
   "id": "218ceed6",
   "metadata": {},
   "outputs": [],
   "source": [
    "gdf1 = pd.concat([WD2020_0130, WD2020_0271], ignore_index=True)"
   ]
  },
  {
   "cell_type": "code",
   "execution_count": 115,
   "id": "a67c356a",
   "metadata": {},
   "outputs": [],
   "source": [
    "gdf1['code'] = 0\n",
    "gdf1['SetID'] = 1"
   ]
  },
  {
   "cell_type": "code",
   "execution_count": 117,
   "id": "49953120",
   "metadata": {},
   "outputs": [],
   "source": [
    "gdf2 = replace_geometry(gdf=out)"
   ]
  },
  {
   "cell_type": "code",
   "execution_count": 118,
   "id": "02b289b7",
   "metadata": {},
   "outputs": [
    {
     "data": {
      "text/plain": [
       "<AxesSubplot:>"
      ]
     },
     "execution_count": 118,
     "metadata": {},
     "output_type": "execute_result"
    },
    {
     "data": {
      "image/png": "[encoded data removed]",
      "text/plain": [
       "<Figure size 432x288 with 1 Axes>"
      ]
     },
     "metadata": {
      "needs_background": "light"
     },
     "output_type": "display_data"
    }
   ],
   "source": [
    "gdf2.plot()"
   ]
  },
  {
   "cell_type": "code",
   "execution_count": 120,
   "id": "785ad324",
   "metadata": {},
   "outputs": [
    {
     "data": {
      "text/plain": [
       "(19, 24)"
      ]
     },
     "execution_count": 120,
     "metadata": {},
     "output_type": "execute_result"
    }
   ],
   "source": [
    "gdf2.shape"
   ]
  },
  {
   "cell_type": "code",
   "execution_count": 128,
   "id": "10ca91c3",
   "metadata": {},
   "outputs": [],
   "source": [
    "coldict = {'wetdet_delin_number': 'wdID', \n",
    "           'address_location_desc':'loc_desc', \n",
    "           'DocumentName':'doc_name',\n",
    "           'DecisionLink':'doc_link',\n",
    "           'is_batch_file':'isbatfile',\n",
    "           'status_name': 'status_nm',\n",
    "           'received_date':'receiveddt', \n",
    "           'response_date':'responsedt',\n",
    "           'reissuance_response_date':'reissuance'}"
   ]
  },
  {
   "cell_type": "code",
   "execution_count": 129,
   "id": "dc8bafbe",
   "metadata": {},
   "outputs": [],
   "source": [
    "gdf2 = gdf2.rename(columns=coldict)"
   ]
  },
  {
   "cell_type": "code",
   "execution_count": 130,
   "id": "b4ff6328",
   "metadata": {},
   "outputs": [],
   "source": [
    "WD2022_0026 = WD2022_0026.rename(columns=coldict)"
   ]
  },
  {
   "cell_type": "code",
   "execution_count": 127,
   "id": "af9d88c0",
   "metadata": {},
   "outputs": [],
   "source": [
    "gdf1['ORMapNum'] = gdf1[['county', 'trsqq']].apply(lambda row: create_ORMapNm(ct_nm=row.county, \n",
    "                                                                          trsqq=row.trsqq), \n",
    "                                               axis = 1)\n",
    "gdf1 = gdf1.rename(columns=coldict)"
   ]
  },
  {
   "cell_type": "code",
   "execution_count": 132,
   "id": "0bb6ad5a",
   "metadata": {},
   "outputs": [],
   "source": [
    "selectedvars1 = gdf2.columns"
   ]
  },
  {
   "cell_type": "code",
   "execution_count": 160,
   "id": "9fc64b6f",
   "metadata": {},
   "outputs": [],
   "source": [
    "gdf3=pd.concat([gdf1[selectedvars1], \n",
    "                gdf2[selectedvars1], \n",
    "                WD2022_0026[selectedvars1]], ignore_index=True)"
   ]
  },
  {
   "cell_type": "code",
   "execution_count": 134,
   "id": "398d22e2",
   "metadata": {},
   "outputs": [
    {
     "data": {
      "text/plain": [
       "(40, 24)"
      ]
     },
     "execution_count": 134,
     "metadata": {},
     "output_type": "execute_result"
    }
   ],
   "source": [
    "gdf3.shape"
   ]
  },
  {
   "cell_type": "code",
   "execution_count": 151,
   "id": "da962281",
   "metadata": {},
   "outputs": [
    {
     "data": {
      "text/plain": [
       "geopandas.geodataframe.GeoDataFrame"
      ]
     },
     "execution_count": 151,
     "metadata": {},
     "output_type": "execute_result"
    }
   ],
   "source": [
    "type(gdf3)"
   ]
  },
  {
   "cell_type": "code",
   "execution_count": 152,
   "id": "4a7008f2",
   "metadata": {},
   "outputs": [
    {
     "data": {
      "text/plain": [
       "Index(['geometry', 'wdID', 'trsqq', 'parcel_id', 'loc_desc', 'city', 'county',\n",
       "       'site_name', 'site_desc', 'latitude', 'longitude', 'doc_name',\n",
       "       'doc_link', 'isbatfile', 'status_nm', 'receiveddt', 'responsedt',\n",
       "       'reissuance', 'project_id', 'site_id', 'SetID', 'ORMapNum', 'code',\n",
       "       'record_ID'],\n",
       "      dtype='object')"
      ]
     },
     "execution_count": 152,
     "metadata": {},
     "output_type": "execute_result"
    }
   ],
   "source": [
    "selectedvars1"
   ]
  },
  {
   "cell_type": "code",
   "execution_count": 162,
   "id": "b7bf62ad",
   "metadata": {},
   "outputs": [
    {
     "data": {
      "text/plain": [
       "numpy.datetime64('2020-03-05T00:00:00.000000000')"
      ]
     },
     "execution_count": 162,
     "metadata": {},
     "output_type": "execute_result"
    }
   ],
   "source": [
    "gdf3['receiveddt'].values[0]"
   ]
  },
  {
   "cell_type": "code",
   "execution_count": 164,
   "id": "de7ca748",
   "metadata": {},
   "outputs": [],
   "source": [
    "gdf3['receiveddt'] = gdf3['receiveddt'].dt.strftime(\"%Y-%m-%d\")\n",
    "gdf3['responsedt'] = gdf3['responsedt'].dt.strftime(\"%Y-%m-%d\")"
   ]
  },
  {
   "cell_type": "code",
   "execution_count": 161,
   "id": "b27eebf7",
   "metadata": {},
   "outputs": [
    {
     "data": {
      "text/html": [
       "<div>\n",
       "<style scoped>\n",
       "    .dataframe tbody tr th:only-of-type {\n",
       "        vertical-align: middle;\n",
       "    }\n",
       "\n",
       "    .dataframe tbody tr th {\n",
       "        vertical-align: top;\n",
       "    }\n",
       "\n",
       "    .dataframe thead th {\n",
       "        text-align: right;\n",
       "    }\n",
       "</style>\n",
       "<table border=\"1\" class=\"dataframe\">\n",
       "  <thead>\n",
       "    <tr style=\"text-align: right;\">\n",
       "      <th></th>\n",
       "      <th>receiveddt</th>\n",
       "      <th>responsedt</th>\n",
       "    </tr>\n",
       "  </thead>\n",
       "  <tbody>\n",
       "    <tr>\n",
       "      <th>0</th>\n",
       "      <td>2020-03-05</td>\n",
       "      <td>2020-03-31</td>\n",
       "    </tr>\n",
       "    <tr>\n",
       "      <th>1</th>\n",
       "      <td>2020-03-05</td>\n",
       "      <td>2020-03-31</td>\n",
       "    </tr>\n",
       "    <tr>\n",
       "      <th>2</th>\n",
       "      <td>2020-03-05</td>\n",
       "      <td>2020-03-31</td>\n",
       "    </tr>\n",
       "  </tbody>\n",
       "</table>\n",
       "</div>"
      ],
      "text/plain": [
       "  receiveddt responsedt\n",
       "0 2020-03-05 2020-03-31\n",
       "1 2020-03-05 2020-03-31\n",
       "2 2020-03-05 2020-03-31"
      ]
     },
     "execution_count": 161,
     "metadata": {},
     "output_type": "execute_result"
    }
   ],
   "source": [
    "gdf3[['receiveddt', 'responsedt']].head(3)"
   ]
  },
  {
   "cell_type": "code",
   "execution_count": 167,
   "id": "9c41b7d8",
   "metadata": {},
   "outputs": [],
   "source": [
    "from pyproj import Transformer"
   ]
  },
  {
   "cell_type": "code",
   "execution_count": 169,
   "id": "96a97dd4",
   "metadata": {},
   "outputs": [],
   "source": [
    "transformer = Transformer.from_crs(\"EPSG:2992\", \"EPSG:4326\")"
   ]
  },
  {
   "cell_type": "code",
   "execution_count": 171,
   "id": "72ea0488",
   "metadata": {},
   "outputs": [
    {
     "data": {
      "text/plain": [
       "(46.1963439495032, -123.79176617158085)"
      ]
     },
     "execution_count": 171,
     "metadata": {},
     "output_type": "execute_result"
    }
   ],
   "source": [
    "transformer.transform(gdf3.centroid.x[0],gdf3.centroid.y[0])"
   ]
  },
  {
   "cell_type": "code",
   "execution_count": 172,
   "id": "e8b8311b",
   "metadata": {},
   "outputs": [],
   "source": [
    "gdf3['lat'], gdf3['lon'] = transformer.transform(gdf3.centroid.x,\n",
    "                                                 gdf3.centroid.y)"
   ]
  },
  {
   "cell_type": "code",
   "execution_count": 173,
   "id": "f63ac582",
   "metadata": {},
   "outputs": [
    {
     "data": {
      "text/html": [
       "<div>\n",
       "<style scoped>\n",
       "    .dataframe tbody tr th:only-of-type {\n",
       "        vertical-align: middle;\n",
       "    }\n",
       "\n",
       "    .dataframe tbody tr th {\n",
       "        vertical-align: top;\n",
       "    }\n",
       "\n",
       "    .dataframe thead th {\n",
       "        text-align: right;\n",
       "    }\n",
       "</style>\n",
       "<table border=\"1\" class=\"dataframe\">\n",
       "  <thead>\n",
       "    <tr style=\"text-align: right;\">\n",
       "      <th></th>\n",
       "      <th>lat</th>\n",
       "      <th>lon</th>\n",
       "    </tr>\n",
       "  </thead>\n",
       "  <tbody>\n",
       "    <tr>\n",
       "      <th>0</th>\n",
       "      <td>46.196344</td>\n",
       "      <td>-123.791766</td>\n",
       "    </tr>\n",
       "    <tr>\n",
       "      <th>1</th>\n",
       "      <td>46.193759</td>\n",
       "      <td>-123.802773</td>\n",
       "    </tr>\n",
       "    <tr>\n",
       "      <th>2</th>\n",
       "      <td>46.197231</td>\n",
       "      <td>-123.786910</td>\n",
       "    </tr>\n",
       "  </tbody>\n",
       "</table>\n",
       "</div>"
      ],
      "text/plain": [
       "         lat         lon\n",
       "0  46.196344 -123.791766\n",
       "1  46.193759 -123.802773\n",
       "2  46.197231 -123.786910"
      ]
     },
     "execution_count": 173,
     "metadata": {},
     "output_type": "execute_result"
    }
   ],
   "source": [
    "gdf3[['lat', 'lon']].head(3)"
   ]
  },
  {
   "cell_type": "code",
   "execution_count": 174,
   "id": "e46496f6",
   "metadata": {},
   "outputs": [],
   "source": [
    "gdf3.to_file(f'{outpath}\\\\test\\\\example_data.shp')"
   ]
  },
  {
   "cell_type": "code",
   "execution_count": 176,
   "id": "f11e15a7",
   "metadata": {},
   "outputs": [],
   "source": [
    "sa_gdf_s.to_file(f'{outpath}\\\\test\\\\example_SA_polygons.shp')"
   ]
  }
 ],
 "metadata": {
  "kernelspec": {
   "display_name": "Python 3",
   "language": "python",
   "name": "python3"
  },
  "language_info": {
   "codemirror_mode": {
    "name": "ipython",
    "version": 3
   },
   "file_extension": ".py",
   "mimetype": "text/x-python",
   "name": "python",
   "nbconvert_exporter": "python",
   "pygments_lexer": "ipython3",
   "version": "3.8.8"
  }
 },
 "nbformat": 4,
 "nbformat_minor": 5
}
