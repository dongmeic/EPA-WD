{
 "cells": [
  {
   "cell_type": "code",
   "execution_count": 1,
   "id": "d4e637de",
   "metadata": {},
   "outputs": [],
   "source": [
    "%load_ext autoreload\n",
    "%autoreload 2"
   ]
  },
  {
   "cell_type": "code",
   "execution_count": 25,
   "id": "2242439e",
   "metadata": {},
   "outputs": [],
   "source": [
    "from wdtools import *"
   ]
  },
  {
   "cell_type": "code",
   "execution_count": 3,
   "id": "0e5fdfe5",
   "metadata": {},
   "outputs": [],
   "source": [
    "setID = 'Set001'; nm_to_add=0"
   ]
  },
  {
   "cell_type": "code",
   "execution_count": 4,
   "id": "2c043b08",
   "metadata": {},
   "outputs": [],
   "source": [
    "wd = combine_wd_tables(setID=setID, nm_to_add=nm_to_add)"
   ]
  },
  {
   "cell_type": "code",
   "execution_count": 5,
   "id": "c3f64e2c",
   "metadata": {},
   "outputs": [],
   "source": [
    "matched = gpd.read_file(os.path.join(inpath + '\\\\output\\\\matched\\\\', f'matched_records_{setID}_edited.shp'))"
   ]
  },
  {
   "cell_type": "code",
   "execution_count": 6,
   "id": "6e79ce07",
   "metadata": {},
   "outputs": [],
   "source": [
    "unmatched = pd.read_csv(os.path.join(inpath + '\\\\output\\\\to_review\\\\', f'unmatched_df_{setID}_2.csv'))"
   ]
  },
  {
   "cell_type": "code",
   "execution_count": 12,
   "id": "9f4ce293",
   "metadata": {},
   "outputs": [
    {
     "data": {
      "text/plain": [
       "Index(['wdID', 'trsqq', 'parcel_id', 'notes', 'lots', 'lot', 'ORTaxlot',\n",
       "       'record_ID', 'geometry'],\n",
       "      dtype='object')"
      ]
     },
     "execution_count": 12,
     "metadata": {},
     "output_type": "execute_result"
    }
   ],
   "source": [
    "matched.columns"
   ]
  },
  {
   "cell_type": "code",
   "execution_count": 7,
   "id": "c18d947b",
   "metadata": {},
   "outputs": [
    {
     "data": {
      "text/plain": [
       "12"
      ]
     },
     "execution_count": 7,
     "metadata": {},
     "output_type": "execute_result"
    }
   ],
   "source": [
    "# unmatched records based on wdID\n",
    "unmatchedIDs = wd[~wd.wetdet_delin_number.isin(matched.wdID.unique())].wetdet_delin_number.unique()\n",
    "len(unmatchedIDs)"
   ]
  },
  {
   "cell_type": "code",
   "execution_count": 8,
   "id": "7d427465",
   "metadata": {},
   "outputs": [
    {
     "data": {
      "text/plain": [
       "31"
      ]
     },
     "execution_count": 8,
     "metadata": {},
     "output_type": "execute_result"
    }
   ],
   "source": [
    "# unmatched records based record IDs\n",
    "unmatchedwdIDs = unmatched.wetdet_delin_number.unique()\n",
    "len(unmatchedwdIDs)"
   ]
  },
  {
   "cell_type": "code",
   "execution_count": 16,
   "id": "83d39e2f",
   "metadata": {},
   "outputs": [
    {
     "data": {
      "text/plain": [
       "(60, 25)"
      ]
     },
     "execution_count": 16,
     "metadata": {},
     "output_type": "execute_result"
    }
   ],
   "source": [
    "unmatched.shape"
   ]
  },
  {
   "cell_type": "code",
   "execution_count": 21,
   "id": "bf28c60c",
   "metadata": {},
   "outputs": [
    {
     "data": {
      "text/plain": [
       "True"
      ]
     },
     "execution_count": 21,
     "metadata": {},
     "output_type": "execute_result"
    }
   ],
   "source": [
    "all([wdID in unmatchedwdIDs for wdID in unmatchedIDs])"
   ]
  },
  {
   "cell_type": "code",
   "execution_count": 22,
   "id": "5847bb78",
   "metadata": {
    "scrolled": false
   },
   "outputs": [
    {
     "name": "stdout",
     "output_type": "stream",
     "text": [
      "WD2020-0391\n",
      "Decision link is not available\n",
      "     county       trsqq parcel_id   latitude   longitude  record_ID notes\n",
      "0   Jackson   36S01W19B      Many  42.431362 -122.866871        844  Many\n",
      "1   Jackson    36S02W24      Many  42.431362 -122.866871        853  Many\n",
      "2   Jackson  36S01W17CC      Many  42.431362 -122.866871        852  Many\n",
      "3   Jackson   36S02W24A      Many  42.431362 -122.866871        843  Many\n",
      "4   Jackson   36S01W19A      Many  42.431362 -122.866871        854  Many\n",
      "5   Jackson    36S02W13      Many  42.431362 -122.866871        850  Many\n",
      "6   Jackson   36S01W17C      Many  42.431362 -122.866871        851  Many\n",
      "7   Jackson   36S01W17B      Many  42.431362 -122.866871        848  Many\n",
      "8   Jackson   36S01W20B      Many  42.431362 -122.866871        847  Many\n",
      "9   Jackson  36S01W17CB      Many  42.431362 -122.866871        846  Many\n",
      "10  Jackson    36S01W18      Many  42.431362 -122.866871        845  Many\n",
      "11  Jackson   36S01W18D      Many  42.431362 -122.866871        849  Many\n",
      "Press 'p' to pause or any other key to continue...c\n",
      "WD2022-0024\n",
      "       county       trsqq parcel_id   latitude   longitude  record_ID notes\n",
      "12  Deschutes  20S11E19BB      Many  43.831990 -121.464171        552  Many\n",
      "13  Deschutes   20S10E24A      Many  43.829559 -121.469682        551  Many\n",
      "14  Deschutes   20S11E19C      Many  43.825942 -121.464357        550  Many\n",
      "15  Deschutes  20S11E19BC      Many  43.828659 -121.463241        549  Many\n",
      "Press 'p' to pause or any other key to continue...c\n",
      "WD2021-0559\n",
      "       county       trsqq parcel_id   latitude   longitude  record_ID notes\n",
      "16  Deschutes    18S12E15       ROW  44.022318 -121.275737        530   ROW\n",
      "17  Deschutes  18S12E10DD       ROW        NaN         NaN        532   ROW\n",
      "18  Deschutes  18S12E10CD       ROW  44.022318 -121.275737        528   ROW\n",
      "19  Deschutes  18S12E10DC       ROW        NaN         NaN        529   ROW\n",
      "Press 'p' to pause or any other key to continue...c\n",
      "WD2020-0067\n",
      "       county      trsqq            parcel_id   latitude   longitude  \\\n",
      "20  Deschutes  17S12E10C  400,500 all partial  44.109403 -121.245841   \n",
      "21  Deschutes  17S12E10C  400,500 all partial  44.109403 -121.245841   \n",
      "22  Deschutes  17S12E10C  400,500 all partial  44.109403 -121.245841   \n",
      "\n",
      "    record_ID    notes  \n",
      "20        418  Partial  \n",
      "21        417  Partial  \n",
      "22        416  Partial  \n",
      "Press 'p' to pause or any other key to continue...c\n",
      "WD2021-0162\n",
      "       county       trsqq parcel_id   latitude   longitude  record_ID notes\n",
      "23  Deschutes  18S12E10BD       ROW  44.034026 -121.278017        503   ROW\n",
      "24  Deschutes  18S12E10CA       ROW  44.028066 -121.277150        502   ROW\n",
      "25  Deschutes  18S12E10BA       ROW  44.034026 -121.278017        501   ROW\n",
      "Press 'p' to pause or any other key to continue...c\n",
      "WD2018-0217\n",
      "   county     trsqq parcel_id   latitude   longitude  record_ID notes\n",
      "26   Coos  24S13W07       101  43.437546 -124.261227        206   NaN\n",
      "27   Coos  24S13W06  101, 100  43.437761 -124.240703        205   NaN\n",
      "Press 'p' to pause or any other key to continue...c\n",
      "WD2019-0431\n",
      "     county       trsqq          parcel_id   latitude   longitude  record_ID  \\\n",
      "28  Jackson  37S01W17BD  Many,ROW,All part  42.355630 -122.847630        944   \n",
      "29  Jackson  37S01W17BA  Many,ROW,All part  42.354113 -122.847297        943   \n",
      "\n",
      "                 notes  \n",
      "28  ROW, Partial, Many  \n",
      "29  ROW, Partial, Many  \n",
      "Press 'p' to pause or any other key to continue...c\n",
      "WD2018-0419\n",
      "     county       trsqq parcel_id   latitude  longitude  record_ID notes\n",
      "30  Jackson   37S01W28A       ROW  42.330879 -122.82317        707   ROW\n",
      "31  Jackson  37S01W28AB       ROW  42.330879 -122.82317        709   ROW\n",
      "Press 'p' to pause or any other key to continue...c\n",
      "WD2019-0338\n",
      "Decision link is not available\n",
      "   county      trsqq parcel_id   latitude   longitude  record_ID    notes\n",
      "32   Coos  24S13W34C      140p  43.432517 -124.252597        235  Partial\n",
      "33   Coos   24S13W00      200p  43.432517 -124.252597        237  Partial\n",
      "Press 'p' to pause or any other key to continue...c\n",
      "WD2020-0536\n",
      "   county     trsqq                  parcel_id   latitude   longitude  \\\n",
      "34   Lake  39S20E00  multiple full and partial  42.254253 -120.378977   \n",
      "35   Lake  38S20E00  multiple full and partial  42.254253 -120.378977   \n",
      "\n",
      "    record_ID          notes  \n",
      "34       1137  Partial, Many  \n",
      "35       1138  Partial, Many  \n",
      "Press 'p' to pause or any other key to continue...c\n",
      "WD2021-0310\n",
      "     county       trsqq parcel_id   latitude   longitude  record_ID notes\n",
      "36  Jackson   36S01W21C       ROW  42.423193 -122.834891        786   ROW\n",
      "37  Jackson  36S01W21CA       ROW  42.423193 -122.834891        787   ROW\n",
      "Press 'p' to pause or any other key to continue...c\n",
      "WD2018-0306\n",
      "    county     trsqq parcel_id  latitude  longitude  record_ID    notes\n",
      "38  Harney  20S37E00      100p   43.8666  -118.2428        577  Partial\n",
      "39  Harney  21S37E00      500p   43.8666  -118.2428        575  Partial\n",
      "Press 'p' to pause or any other key to continue...c\n",
      "WD2021-0529\n",
      "    county     trsqq parcel_id   latitude   longitude  record_ID notes\n",
      "40  Marion  07S02W28       ROW  44.906268 -122.963021       1388   ROW\n",
      "41  Marion  08S02W04       ROW  44.906268 -122.963021       1383   ROW\n",
      "Press 'p' to pause or any other key to continue...c\n",
      "WD2022-0291\n",
      "Decision link is not available\n",
      "       county     trsqq parcel_id  latitude  longitude  record_ID notes\n",
      "42  Deschutes  14S14E24       302       NaN        NaN        570   NaN\n",
      "Press 'p' to pause or any other key to continue...c\n",
      "WD2017-0347\n",
      "    county     trsqq parcel_id  latitude  longitude  record_ID    notes\n",
      "43  Harney  24S32E16     4900p   43.4828  -118.8987        573  Partial\n",
      "Press 'p' to pause or any other key to continue...c\n",
      "WD2018-0386\n",
      "    county     trsqq   parcel_id  latitude  longitude  record_ID    notes\n",
      "44  Marion  06S03W07  500p,1100p   45.0602  -122.9983       1224  Partial\n",
      "Press 'p' to pause or any other key to continue...c\n",
      "WD2018-0522\n",
      "   county     trsqq parcel_id  latitude   longitude  record_ID    notes\n",
      "45   Coos  24S13W34     1700p  43.43634 -124.239585        214  Partial\n",
      "Press 'p' to pause or any other key to continue...c\n",
      "WD2022-0261\n",
      "Decision link is not available\n",
      "   county     trsqq parcel_id   latitude   longitude  record_ID notes\n",
      "46   Coos  29S15W12       ROW  43.081203 -124.430481        327   ROW\n",
      "Press 'p' to pause or any other key to continue...c\n",
      "WD2019-0231\n",
      "       county      trsqq parcel_id   latitude   longitude  record_ID notes\n",
      "47  Deschutes  18S12E16B       NaN  44.012392 -121.299894        377   NaN\n",
      "Press 'p' to pause or any other key to continue...c\n",
      "WD2022-0087\n",
      "       county       trsqq   parcel_id   latitude   longitude  record_ID notes\n",
      "48  Deschutes  15S10E09BB  Elm St ROW  44.288619 -121.549925        559   ROW\n",
      "Press 'p' to pause or any other key to continue...c\n",
      "WD2018-0281\n",
      "   county     trsqq parcel_id  latitude  longitude  record_ID notes\n",
      "49   Coos  25S13W04      MANY   43.4326  -124.2402        209  Many\n",
      "Press 'p' to pause or any other key to continue...c\n",
      "WD2018-0124\n",
      "   county     trsqq parcel_id   latitude   longitude  record_ID notes\n",
      "50   Lake  39S20E21      ROWs  42.164626 -120.366529       1089   ROW\n",
      "Press 'p' to pause or any other key to continue...c\n",
      "WD2020-0668\n",
      "       county       trsqq            parcel_id   latitude   longitude  \\\n",
      "51  Deschutes  18S12E08DA  ROW, 6317,6303,3604  44.027866 -121.306966   \n",
      "\n",
      "    record_ID notes  \n",
      "51        484   ROW  \n",
      "Press 'p' to pause or any other key to continue...c\n",
      "WD2021-0703\n",
      "Decision link is not available\n",
      "   county     trsqq parcel_id   latitude   longitude  record_ID notes\n",
      "52   Lake  38S20E09      Many  42.178657 -120.395374       1148  Many\n",
      "Press 'p' to pause or any other key to continue...c\n",
      "WD2018-0657\n",
      "   county     trsqq     parcel_id  latitude  longitude  record_ID    notes\n",
      "53   Lake  39S19E00  5500 partial  42.15704   -120.522       1116  Partial\n",
      "Press 'p' to pause or any other key to continue...c\n",
      "WD2019-0124\n",
      "     county     trsqq          parcel_id  latitude  longitude  record_ID  \\\n",
      "54  Jackson  36S02W28  Many,ROW,All part  42.41958 -122.95446        807   \n",
      "\n",
      "                 notes  \n",
      "54  ROW, Partial, Many  \n",
      "Press 'p' to pause or any other key to continue...c\n",
      "WD2019-0179\n",
      "     county     trsqq parcel_id   latitude   longitude  record_ID notes\n",
      "55  Jackson  31S04W27       101  42.849595 -123.160811        670   NaN\n"
     ]
    },
    {
     "name": "stdout",
     "output_type": "stream",
     "text": [
      "Press 'p' to pause or any other key to continue...c\n",
      "WD2019-0259\n",
      "    county     trsqq parcel_id   latitude   longitude  record_ID notes\n",
      "56  Harney  18S47E09       100  44.014009 -116.975519        586   NaN\n",
      "Press 'p' to pause or any other key to continue...c\n",
      "WD2022-0142\n",
      "    county       trsqq parcel_id   latitude   longitude  record_ID notes\n",
      "57  Marion  07S03W16DB       800  44.961046 -123.058434       1413   NaN\n",
      "Press 'p' to pause or any other key to continue...c\n",
      "WD2021-0180\n",
      "     county       trsqq parcel_id  latitude  longitude  record_ID notes\n",
      "58  Jackson  37S01W16BD      1400  42.34434 -122.82312        762   NaN\n",
      "Press 'p' to pause or any other key to continue...c\n",
      "WD2018-0408\n",
      "Decision link is not available\n",
      "    county     trsqq  parcel_id  latitude  longitude  record_ID notes\n",
      "59  Marion  07S03W35  2400,2401       NaN        NaN       1226   NaN\n",
      "Press 'p' to pause or any other key to continue...c\n"
     ]
    }
   ],
   "source": [
    "review_loop_r1(unmatched)"
   ]
  },
  {
   "cell_type": "code",
   "execution_count": 9,
   "id": "9be5aa98",
   "metadata": {},
   "outputs": [],
   "source": [
    "outpath = r'L:\\NaturalResources\\Wetlands\\Local Wetland Inventory\\WAPO\\EPA_2022_Tasks\\Task 1 WD Mapping\\output'\n",
    "partial = pd.read_csv(outpath + f'\\\\to_review\\\\partial_matched_{setID}.csv')"
   ]
  },
  {
   "cell_type": "code",
   "execution_count": 25,
   "id": "235c8482",
   "metadata": {},
   "outputs": [
    {
     "data": {
      "text/plain": [
       "Index(['wetdet_delin_number', 'trsqq', 'parcel_id', 'address_location_desc',\n",
       "       'city', 'county', 'site_name', 'site_desc', 'latitude', 'longitude',\n",
       "       'Coord-Source', 'DocumentName', 'DecisionLink', 'is_batch_file',\n",
       "       'status_name', 'received_date', 'response_date',\n",
       "       'reissuance_response_date', 'project_id', 'site_id', 'record_ID',\n",
       "       'notes', 'recyear', 'IDyear', 'missinglot'],\n",
       "      dtype='object')"
      ]
     },
     "execution_count": 25,
     "metadata": {},
     "output_type": "execute_result"
    }
   ],
   "source": [
    "partial.columns"
   ]
  },
  {
   "cell_type": "code",
   "execution_count": 31,
   "id": "cbe0693c",
   "metadata": {},
   "outputs": [
    {
     "data": {
      "text/plain": [
       "263"
      ]
     },
     "execution_count": 31,
     "metadata": {},
     "output_type": "execute_result"
    }
   ],
   "source": [
    "len(partial.wetdet_delin_number.unique())"
   ]
  },
  {
   "cell_type": "code",
   "execution_count": 10,
   "id": "1e88c7c3",
   "metadata": {},
   "outputs": [],
   "source": [
    "IDstoCheck = [wdID for wdID in partial.wetdet_delin_number.unique() if wdID not in unmatchedwdIDs]"
   ]
  },
  {
   "cell_type": "code",
   "execution_count": 30,
   "id": "a1652c39",
   "metadata": {},
   "outputs": [
    {
     "data": {
      "text/plain": [
       "247"
      ]
     },
     "execution_count": 30,
     "metadata": {},
     "output_type": "execute_result"
    }
   ],
   "source": [
    "len(IDstoCheck)"
   ]
  },
  {
   "cell_type": "code",
   "execution_count": 32,
   "id": "316ccd23",
   "metadata": {},
   "outputs": [
    {
     "data": {
      "text/plain": [
       "0.07224334600760456"
      ]
     },
     "execution_count": 32,
     "metadata": {},
     "output_type": "execute_result"
    }
   ],
   "source": [
    "19/263"
   ]
  },
  {
   "cell_type": "code",
   "execution_count": 11,
   "id": "dac75600",
   "metadata": {},
   "outputs": [],
   "source": [
    "toCheck_df = partial[partial.wetdet_delin_number.isin(IDstoCheck)]"
   ]
  },
  {
   "cell_type": "code",
   "execution_count": 12,
   "id": "6e8eecdb",
   "metadata": {},
   "outputs": [],
   "source": [
    "setgdf = gpd.read_file(os.path.join(inpath, 'GIS', 'Join_Statewide.gdb'), layer=f'WD_{setID}_Combined')"
   ]
  },
  {
   "cell_type": "code",
   "execution_count": 13,
   "id": "6a99172b",
   "metadata": {},
   "outputs": [],
   "source": [
    "mapped_df = setgdf[setgdf.wetdet_delin_number.isin(toCheck_df.wetdet_delin_number.unique())]"
   ]
  },
  {
   "cell_type": "code",
   "execution_count": 16,
   "id": "c78db3d6",
   "metadata": {},
   "outputs": [
    {
     "data": {
      "text/plain": [
       "247"
      ]
     },
     "execution_count": 16,
     "metadata": {},
     "output_type": "execute_result"
    }
   ],
   "source": [
    "len(mapped_df.wetdet_delin_number.unique())"
   ]
  },
  {
   "cell_type": "code",
   "execution_count": 21,
   "id": "e5413bcf",
   "metadata": {},
   "outputs": [],
   "source": [
    "toCheck_df = toCheck_df[~toCheck_df.wetdet_delin_number.isin(read_list(setID))]"
   ]
  },
  {
   "cell_type": "code",
   "execution_count": 24,
   "id": "cacf5dbe",
   "metadata": {},
   "outputs": [],
   "source": [
    "toCheck_df.to_csv(outpath + f'\\\\to_review\\\\tomap_{setID}.csv', index=False)"
   ]
  },
  {
   "cell_type": "code",
   "execution_count": 27,
   "id": "94d98891",
   "metadata": {},
   "outputs": [
    {
     "data": {
      "text/plain": [
       "247"
      ]
     },
     "execution_count": 27,
     "metadata": {},
     "output_type": "execute_result"
    }
   ],
   "source": [
    "len(toCheck_df.wetdet_delin_number.unique())"
   ]
  },
  {
   "cell_type": "code",
   "execution_count": 30,
   "id": "c6997d5c",
   "metadata": {},
   "outputs": [
    {
     "name": "stdout",
     "output_type": "stream",
     "text": [
      "WD2017-0003\n",
      "index = 1\n",
      "    county       trsqq      parcel_id   latitude   longitude  record_ID  \\\n",
      "0  Clatsop  06N10W03DA  500 (partial)  46.030197 -123.905217          1   \n",
      "\n",
      "     notes  \n",
      "0  Partial  \n",
      "Press 'p' to pause or any key to continue...p\n",
      "Press 'a' to add the wd record...a\n",
      "WD2017-0056\n",
      "index = 2\n",
      "    county      trsqq                  parcel_id   latitude   longitude  \\\n",
      "1  Clatsop  08N10W09B  2500, ROWs (both partial)  46.190638 -123.932177   \n",
      "\n",
      "   record_ID         notes  \n",
      "1          3  ROW, Partial  \n",
      "Press 'p' to pause or any key to continue...p\n",
      "Press 'a' to add the wd record...a\n",
      "WD2017-0072\n",
      "index = 3\n",
      "    county     trsqq       parcel_id  latitude  longitude  record_ID    notes\n",
      "2  Clatsop  08N09W28   302 (partial)  46.15110  -123.7993          4  Partial\n",
      "3  Clatsop  08N09W27  2100 (partial)  46.14839  -123.7840          5  Partial\n",
      "Press 'p' to pause or any key to continue...p\n",
      "Press 'a' to add the wd record...a\n",
      "WD2017-0186\n",
      "index = 5\n",
      "    county       trsqq                         parcel_id   latitude  \\\n",
      "4  Clatsop  05N10W32BC  1300,1400,1401,ROW (all partial)  45.877139   \n",
      "\n",
      "    longitude  record_ID         notes  \n",
      "4 -123.959553         10  ROW, Partial  \n",
      "Press 'p' to pause or any key to continue...p\n",
      "Press 'a' to add the wd record...a\n",
      "WD2017-0193\n",
      "index = 6\n",
      "    county      trsqq       parcel_id  latitude   longitude  record_ID  \\\n",
      "5  Clatsop  08N10W16A  4600 (partial)  46.17886 -123.926647         11   \n",
      "\n",
      "     notes  \n",
      "5  Partial  \n",
      "Press 'p' to pause or any key to continue...p\n",
      "Press 'a' to add the wd record...a\n",
      "WD2017-0307\n",
      "index = 7\n",
      "    county       trsqq                parcel_id  latitude  longitude  \\\n",
      "6  Clatsop  08N10W25DD   900,1000 (all partial)  46.14825   -123.867   \n",
      "7  Clatsop  08N10W25DA  4900,5000 (all partial)  46.14825   -123.867   \n",
      "\n",
      "   record_ID    notes  \n",
      "6         14  Partial  \n",
      "7         15  Partial  \n",
      "Press 'p' to pause or any key to continue...p\n",
      "Press 'a' to add the wd record...a\n",
      "WD2017-0356\n",
      "index = 9\n",
      "    county     trsqq                 parcel_id  latitude  longitude  \\\n",
      "8  Clatsop  08N10W16  NW 11th St ROW (partial)   46.1843  -123.9521   \n",
      "9  Clatsop  08N10W17            1300 (partial)   46.1843  -123.9521   \n",
      "\n",
      "   record_ID         notes  \n",
      "8         19  ROW, Partial  \n",
      "9         20       Partial  \n",
      "Press 'p' to pause or any key to continue...p\n",
      "Press 'a' to add the wd record...a\n",
      "WD2017-0364\n",
      "index = 11\n",
      "     county     trsqq       parcel_id   latitude   longitude  record_ID  \\\n",
      "10  Clatsop  08N10W17  1300 (partial)  46.170611 -123.944877         21   \n",
      "\n",
      "      notes  \n",
      "10  Partial  \n",
      "Press 'p' to pause or any key to continue...p\n",
      "Press 'a' to add the wd record...a\n",
      "WD2017-0534\n",
      "index = 12\n",
      "     county     trsqq                 parcel_id  latitude  longitude  \\\n",
      "11  Clatsop  06N10W22  2102, 900 (both partial)  45.98702 -123.90428   \n",
      "\n",
      "    record_ID    notes  \n",
      "11         24  Partial  \n",
      "Press 'p' to pause or any key to continue...p\n",
      "Press 'a' to add the wd record...a\n",
      "WD2018-0042\n",
      "index = 13\n",
      "     county       trsqq                                        parcel_id  \\\n",
      "12  Clatsop  08N10W21BA  4700,4600,4500,4400,4300,4200,4100,ROW,all part   \n",
      "13  Clatsop  08N10W21BB              111,SW 2nd street ROW (all partial)   \n",
      "14  Clatsop   08N10W21B   3400,2900,2800,SW 2nd street ROW (all partial)   \n",
      "15  Clatsop  08N10W21BC              200,SW 2nd street ROW (all partial)   \n",
      "\n",
      "     latitude   longitude  record_ID         notes  \n",
      "12  46.166136 -123.935717         27  ROW, Partial  \n",
      "13  46.166136 -123.935717         28  ROW, Partial  \n",
      "14  46.166136 -123.935717         29  ROW, Partial  \n",
      "15  46.166136 -123.935717         30  ROW, Partial  \n",
      "Press 'p' to pause or any key to continue...p\n",
      "Press 'a' to add the wd record...a\n",
      "WD2018-0048\n",
      "index = 17\n",
      "     county     trsqq      parcel_id   latitude  longitude  record_ID    notes\n",
      "16  Clatsop  08N10W26  300 (partial)  46.154004 -123.89782         31  Partial\n",
      "Press 'p' to pause or any key to continue...p\n",
      "Press 'a' to add the wd record...a\n",
      "WD2018-0284\n",
      "index = 18\n",
      "     county       trsqq      parcel_id   latitude   longitude  record_ID  \\\n",
      "17  Clatsop  08N10W16BD  600 (partial)  46.180681 -123.933345         35   \n",
      "\n",
      "      notes  \n",
      "17  Partial  \n",
      "Press 'p' to pause or any key to continue...p\n",
      "Press 'a' to add the wd record...a\n",
      "WD2018-0354\n",
      "index = 19\n",
      "     county       trsqq                    parcel_id  latitude  longitude  \\\n",
      "18  Clatsop    08N06W36  408, 406, ROW (all partial)   46.1349  -123.3748   \n",
      "19  Clatsop  08N06W36CA     2310, ROW (both partial)   46.1343  -123.3730   \n",
      "\n",
      "    record_ID         notes  \n",
      "18         39  ROW, Partial  \n",
      "19         40  ROW, Partial  \n",
      "Press 'p' to pause or any key to continue...p\n",
      "Press 'a' to add the wd record...a\n",
      "WD2019-0078\n",
      "index = 21\n",
      "     county     trsqq      parcel_id  latitude  longitude  record_ID    notes\n",
      "20  Clatsop  08N06W36  408 (portion)   46.1362  -123.3729         52  Partial\n",
      "Press 'p' to pause or any key to continue...p\n",
      "Press 'a' to add the wd record...a\n",
      "WD2019-0345\n",
      "index = 22\n",
      "     county      trsqq       parcel_id   latitude   longitude  record_ID  \\\n",
      "21  Clatsop  06N10W03A  1204 (partial)  46.033937 -123.909683         59   \n",
      "\n",
      "      notes  \n",
      "21  Partial  \n",
      "Press 'p' to pause or any key to continue...p\n",
      "Press 'a' to add the wd record...a\n",
      "WD2019-0455\n",
      "index = 23\n",
      "     county       trsqq parcel_id   latitude   longitude  record_ID notes\n",
      "22  Clatsop  06N10W03BC       ROW  46.035191 -123.917853         64   ROW\n",
      "23  Clatsop  06N10W03CB       ROW  46.029965 -123.918569         65   ROW\n",
      "Press 'p' to pause or any key to continue...p\n",
      "Press 'a' to add the wd record...a\n",
      "WD2019-0661\n",
      "index = 25\n",
      "     county     trsqq       parcel_id   latitude   longitude  record_ID  \\\n",
      "24  Clatsop  08N09W11  5800 (partial)  46.195729 -123.761869         69   \n",
      "\n",
      "      notes  \n",
      "24  Partial  \n",
      "Press 'p' to pause or any key to continue...p\n",
      "Press 'a' to add the wd record...a\n",
      "WD2019-0662\n",
      "index = 26\n",
      "     county     trsqq      parcel_id   latitude   longitude  record_ID  \\\n",
      "25  Clatsop  06N10W33  300 (partial)  45.962873 -123.926655         70   \n",
      "\n",
      "      notes  \n",
      "25  Partial  \n",
      "Press 'p' to pause or any key to continue...p\n",
      "Press 'a' to add the wd record...a\n",
      "WD2020-0039\n",
      "index = 27\n",
      "     county       trsqq       parcel_id  latitude  longitude  record_ID  \\\n",
      "26  Clatsop  08N10W21CB  1500 (portion)   46.1605   -123.939         72   \n",
      "\n",
      "      notes  \n",
      "26  Partial  \n",
      "Press 'p' to pause or any key to continue...p\n",
      "Press 'a' to add the wd record...a\n",
      "WD2020-0227\n",
      "index = 28\n",
      "     county       trsqq                    parcel_id  latitude  longitude  \\\n",
      "27  Clatsop  04N10W30BD            3400, ROW partial    45.805   -123.962   \n",
      "28  Clatsop  04N10W30BC  8100,8200,8300,ROWs partial    45.805   -123.962   \n",
      "\n",
      "    record_ID         notes  \n",
      "27         86  ROW, Partial  \n",
      "28         87  ROW, Partial  \n",
      "Press 'p' to pause or any key to continue...p\n",
      "Press 'a' to add the wd record...a\n",
      "WD2020-0241\n",
      "index = 30\n",
      "     county      trsqq         parcel_id   latitude   longitude  record_ID  \\\n",
      "29  Clatsop  08N10W33D  600, ROW partial  46.128791 -123.924221         89   \n",
      "\n",
      "           notes  \n",
      "29  ROW, Partial  \n",
      "Press 'p' to pause or any key to continue...p\n",
      "Press 'a' to add the wd record...a\n",
      "WD2020-0280\n",
      "index = 31\n",
      "     county       trsqq                          parcel_id   latitude  \\\n",
      "30  Clatsop  07N10W15BB  100,200,1600,1700,ROW all partial  46.094286   \n",
      "31  Clatsop  07N10W15BC         1400,1600,ROWs all partial  46.094286   \n",
      "32  Clatsop    07N10W16            200,300,ROW all partial  46.094286   \n",
      "33  Clatsop  07N10W15CB   100,200,300,400, ROW all partial  46.094286   \n",
      "34  Clatsop  07N10W15BB         3200,3300,ROWs all partial  46.094286   \n",
      "35  Clatsop  07N10W15BC        600,700,800,ROW all partial  46.094286   \n",
      "36  Clatsop  07N10W15BB     3400,3500,3600,ROW all partial  46.094286   \n",
      "37  Clatsop  07N10W15BC      900,1100,1200,ROW all partial  46.094286   \n",
      "38  Clatsop  07N10W15BB     2700,2800,2900,ROW all partial  46.094286   \n",
      "39  Clatsop  07N10W15BB     2400,2500,2600,ROW all partial  46.094286   \n",
      "40  Clatsop  07N10W15BB              1800,3700 all partial  46.094286   \n",
      "41  Clatsop  07N10W15BC     500,1000,1300,ROWs all partial  46.094286   \n",
      "42  Clatsop  07N10W15BB          3000,3100,ROW all partial  46.094286   \n",
      "43  Clatsop  07N10W15BB     2100,2200,2300,ROW all partial  46.094286   \n",
      "\n",
      "    longitude  record_ID         notes  \n",
      "30 -123.92086         92  ROW, Partial  \n",
      "31 -123.92086         93  ROW, Partial  \n",
      "32 -123.92086         94  ROW, Partial  \n",
      "33 -123.92086         95  ROW, Partial  \n",
      "34 -123.92086         96  ROW, Partial  \n",
      "35 -123.92086         97  ROW, Partial  \n",
      "36 -123.92086         98  ROW, Partial  \n",
      "37 -123.92086         99  ROW, Partial  \n",
      "38 -123.92086        100  ROW, Partial  \n",
      "39 -123.92086        101  ROW, Partial  \n",
      "40 -123.92086        102       Partial  \n",
      "41 -123.92086        103  ROW, Partial  \n",
      "42 -123.92086        104  ROW, Partial  \n",
      "43 -123.92086        105  ROW, Partial  \n"
     ]
    },
    {
     "name": "stdout",
     "output_type": "stream",
     "text": [
      "Press 'p' to pause or any key to continue...p\n",
      "Press 'a' to add the wd record...a\n",
      "WD2020-0307\n",
      "index = 45\n",
      "     county       trsqq                             parcel_id   latitude  \\\n",
      "44  Clatsop    08N10W28              101,700, ROW all partial  46.154059   \n",
      "45  Clatsop    08N10W28              101,700, ROW all partial  46.154059   \n",
      "46  Clatsop  08N10W27BB  3100,3200,3300,3400,ROWs all partial  46.154059   \n",
      "47  Clatsop  08N10W27BB  3100,3200,3300,3400,ROWs all partial  46.154059   \n",
      "\n",
      "     longitude  record_ID         notes  \n",
      "44 -123.920552        106  ROW, Partial  \n",
      "45 -123.920552        107  ROW, Partial  \n",
      "46 -123.920552        108  ROW, Partial  \n",
      "47 -123.920552        109  ROW, Partial  \n",
      "Press 'p' to pause or any key to continue...p\n",
      "Press 'a' to add the wd record...a\n",
      "WD2020-0322\n",
      "index = 49\n",
      "     county       trsqq     parcel_id   latitude   longitude  record_ID  \\\n",
      "48  Clatsop  06N10W15AC  1002 partial  46.005654 -123.910754        111   \n",
      "\n",
      "      notes  \n",
      "48  Partial  \n",
      "Press 'p' to pause or any key to continue...p\n",
      "Press 'a' to add the wd record...a\n",
      "WD2020-0402\n",
      "index = 50\n",
      "     county       trsqq                   parcel_id  latitude  longitude  \\\n",
      "49  Clatsop  08N10W22DA  1001,1002,1100 all partial  46.16254    -123.91   \n",
      "\n",
      "    record_ID    notes  \n",
      "49        114  Partial  \n",
      "Press 'p' to pause or any key to continue...p\n",
      "Press 'a' to add the wd record...a\n",
      "WD2020-0454\n",
      "index = 51\n",
      "     county       trsqq                       parcel_id   latitude  \\\n",
      "50  Clatsop  06N06W01DB  1600,5700,4400,ROW all partial  46.031916   \n",
      "51  Clatsop    06N06W01                     100 partial  46.031916   \n",
      "\n",
      "     longitude  record_ID         notes  \n",
      "50 -123.368053        116  ROW, Partial  \n",
      "51 -123.368053        117       Partial  \n",
      "Press 'p' to pause or any key to continue...p\n",
      "Press 'a' to add the wd record...a\n",
      "WD2020-0468\n",
      "index = 53\n",
      "     county     trsqq      parcel_id   latitude   longitude  record_ID  \\\n",
      "52  Clatsop  08N10W26  500 (portion)  46.152039 -123.886362        118   \n",
      "\n",
      "      notes  \n",
      "52  Partial  \n",
      "Press 'p' to pause or any key to continue...p\n",
      "Press 'a' to add the wd record...a\n",
      "WD2020-0667\n",
      "index = 54\n",
      "     county       trsqq              parcel_id   latitude   longitude  \\\n",
      "53  Clatsop  04N10W30CA  4302, ROW all partial  45.803702 -123.962035   \n",
      "\n",
      "    record_ID         notes  \n",
      "53        124  ROW, Partial  \n",
      "Press 'p' to pause or any key to continue...p\n",
      "Press 'a' to add the wd record...a\n",
      "WD2020-0681\n",
      "index = 55\n",
      "     county     trsqq     parcel_id   latitude  longitude  record_ID    notes\n",
      "54  Clatsop  08N09W11  5800 portion  46.194393 -123.76143        126  Partial\n",
      "Press 'p' to pause or any key to continue...c\n"
     ]
    }
   ],
   "source": [
    "toadd = review_loop_r1(df=toCheck_df, partial=True, idx=True)"
   ]
  },
  {
   "cell_type": "code",
   "execution_count": 32,
   "id": "3165ddd5",
   "metadata": {},
   "outputs": [
    {
     "data": {
      "text/plain": [
       "11.336032388663968"
      ]
     },
     "execution_count": 32,
     "metadata": {},
     "output_type": "execute_result"
    }
   ],
   "source": [
    "len(toadd)/len(toCheck_df.wetdet_delin_number.unique())*100"
   ]
  }
 ],
 "metadata": {
  "kernelspec": {
   "display_name": "Python 3",
   "language": "python",
   "name": "python3"
  },
  "language_info": {
   "codemirror_mode": {
    "name": "ipython",
    "version": 3
   },
   "file_extension": ".py",
   "mimetype": "text/x-python",
   "name": "python",
   "nbconvert_exporter": "python",
   "pygments_lexer": "ipython3",
   "version": "3.8.8"
  }
 },
 "nbformat": 4,
 "nbformat_minor": 5
}
