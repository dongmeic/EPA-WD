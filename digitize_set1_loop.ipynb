{
 "cells": [
  {
   "cell_type": "code",
   "execution_count": 1,
   "id": "d4e637de",
   "metadata": {},
   "outputs": [],
   "source": [
    "%load_ext autoreload\n",
    "%autoreload 2"
   ]
  },
  {
   "cell_type": "code",
   "execution_count": 2,
   "id": "2242439e",
   "metadata": {},
   "outputs": [],
   "source": [
    "from wdtools import *"
   ]
  },
  {
   "cell_type": "code",
   "execution_count": 5,
   "id": "0e5fdfe5",
   "metadata": {},
   "outputs": [],
   "source": [
    "setID = 'Set001'; nm_to_add=0"
   ]
  },
  {
   "cell_type": "code",
   "execution_count": 4,
   "id": "b4d67493",
   "metadata": {},
   "outputs": [],
   "source": [
    "setgdf = gpd.read_file(os.path.join(inpath, 'GIS', 'Join_Statewide.gdb'), layer=f'WD_{setID}_Combined')"
   ]
  },
  {
   "cell_type": "code",
   "execution_count": 6,
   "id": "2c043b08",
   "metadata": {},
   "outputs": [],
   "source": [
    "wd = combine_wd_tables(setID=setID, nm_to_add=nm_to_add)"
   ]
  },
  {
   "cell_type": "code",
   "execution_count": 8,
   "id": "c3f64e2c",
   "metadata": {},
   "outputs": [],
   "source": [
    "matched = gpd.read_file(os.path.join(inpath + '\\\\output\\\\matched\\\\', f'matched_records_{setID}_edited.shp'))"
   ]
  },
  {
   "cell_type": "code",
   "execution_count": 10,
   "id": "6e79ce07",
   "metadata": {},
   "outputs": [],
   "source": [
    "unmatched = pd.read_csv(os.path.join(inpath + '\\\\output\\\\to_review\\\\', f'unmatched_df_{setID}_2.csv'))"
   ]
  },
  {
   "cell_type": "code",
   "execution_count": 12,
   "id": "9f4ce293",
   "metadata": {},
   "outputs": [
    {
     "data": {
      "text/plain": [
       "Index(['wdID', 'trsqq', 'parcel_id', 'notes', 'lots', 'lot', 'ORTaxlot',\n",
       "       'record_ID', 'geometry'],\n",
       "      dtype='object')"
      ]
     },
     "execution_count": 12,
     "metadata": {},
     "output_type": "execute_result"
    }
   ],
   "source": [
    "matched.columns"
   ]
  },
  {
   "cell_type": "code",
   "execution_count": 17,
   "id": "c18d947b",
   "metadata": {},
   "outputs": [
    {
     "data": {
      "text/plain": [
       "12"
      ]
     },
     "execution_count": 17,
     "metadata": {},
     "output_type": "execute_result"
    }
   ],
   "source": [
    "# unmatched records based on wdID\n",
    "unmatchedIDs = wd[~wd.wetdet_delin_number.isin(matched.wdID.unique())].wetdet_delin_number.unique()\n",
    "len(unmatchedIDs)"
   ]
  },
  {
   "cell_type": "code",
   "execution_count": 18,
   "id": "7d427465",
   "metadata": {},
   "outputs": [
    {
     "data": {
      "text/plain": [
       "31"
      ]
     },
     "execution_count": 18,
     "metadata": {},
     "output_type": "execute_result"
    }
   ],
   "source": [
    "# unmatched records based record IDs\n",
    "unmatchedwdIDs = unmatched.wetdet_delin_number.unique()\n",
    "len(unmatchedwdIDs)"
   ]
  },
  {
   "cell_type": "code",
   "execution_count": 16,
   "id": "83d39e2f",
   "metadata": {},
   "outputs": [
    {
     "data": {
      "text/plain": [
       "(60, 25)"
      ]
     },
     "execution_count": 16,
     "metadata": {},
     "output_type": "execute_result"
    }
   ],
   "source": [
    "unmatched.shape"
   ]
  },
  {
   "cell_type": "code",
   "execution_count": 21,
   "id": "bf28c60c",
   "metadata": {},
   "outputs": [
    {
     "data": {
      "text/plain": [
       "True"
      ]
     },
     "execution_count": 21,
     "metadata": {},
     "output_type": "execute_result"
    }
   ],
   "source": [
    "all([wdID in unmatchedwdIDs for wdID in unmatchedIDs])"
   ]
  },
  {
   "cell_type": "code",
   "execution_count": 22,
   "id": "5847bb78",
   "metadata": {
    "scrolled": false
   },
   "outputs": [
    {
     "name": "stdout",
     "output_type": "stream",
     "text": [
      "WD2020-0391\n",
      "Decision link is not available\n",
      "     county       trsqq parcel_id   latitude   longitude  record_ID notes\n",
      "0   Jackson   36S01W19B      Many  42.431362 -122.866871        844  Many\n",
      "1   Jackson    36S02W24      Many  42.431362 -122.866871        853  Many\n",
      "2   Jackson  36S01W17CC      Many  42.431362 -122.866871        852  Many\n",
      "3   Jackson   36S02W24A      Many  42.431362 -122.866871        843  Many\n",
      "4   Jackson   36S01W19A      Many  42.431362 -122.866871        854  Many\n",
      "5   Jackson    36S02W13      Many  42.431362 -122.866871        850  Many\n",
      "6   Jackson   36S01W17C      Many  42.431362 -122.866871        851  Many\n",
      "7   Jackson   36S01W17B      Many  42.431362 -122.866871        848  Many\n",
      "8   Jackson   36S01W20B      Many  42.431362 -122.866871        847  Many\n",
      "9   Jackson  36S01W17CB      Many  42.431362 -122.866871        846  Many\n",
      "10  Jackson    36S01W18      Many  42.431362 -122.866871        845  Many\n",
      "11  Jackson   36S01W18D      Many  42.431362 -122.866871        849  Many\n",
      "Press 'p' to pause or any other key to continue...c\n",
      "WD2022-0024\n",
      "       county       trsqq parcel_id   latitude   longitude  record_ID notes\n",
      "12  Deschutes  20S11E19BB      Many  43.831990 -121.464171        552  Many\n",
      "13  Deschutes   20S10E24A      Many  43.829559 -121.469682        551  Many\n",
      "14  Deschutes   20S11E19C      Many  43.825942 -121.464357        550  Many\n",
      "15  Deschutes  20S11E19BC      Many  43.828659 -121.463241        549  Many\n",
      "Press 'p' to pause or any other key to continue...c\n",
      "WD2021-0559\n",
      "       county       trsqq parcel_id   latitude   longitude  record_ID notes\n",
      "16  Deschutes    18S12E15       ROW  44.022318 -121.275737        530   ROW\n",
      "17  Deschutes  18S12E10DD       ROW        NaN         NaN        532   ROW\n",
      "18  Deschutes  18S12E10CD       ROW  44.022318 -121.275737        528   ROW\n",
      "19  Deschutes  18S12E10DC       ROW        NaN         NaN        529   ROW\n",
      "Press 'p' to pause or any other key to continue...c\n",
      "WD2020-0067\n",
      "       county      trsqq            parcel_id   latitude   longitude  \\\n",
      "20  Deschutes  17S12E10C  400,500 all partial  44.109403 -121.245841   \n",
      "21  Deschutes  17S12E10C  400,500 all partial  44.109403 -121.245841   \n",
      "22  Deschutes  17S12E10C  400,500 all partial  44.109403 -121.245841   \n",
      "\n",
      "    record_ID    notes  \n",
      "20        418  Partial  \n",
      "21        417  Partial  \n",
      "22        416  Partial  \n",
      "Press 'p' to pause or any other key to continue...c\n",
      "WD2021-0162\n",
      "       county       trsqq parcel_id   latitude   longitude  record_ID notes\n",
      "23  Deschutes  18S12E10BD       ROW  44.034026 -121.278017        503   ROW\n",
      "24  Deschutes  18S12E10CA       ROW  44.028066 -121.277150        502   ROW\n",
      "25  Deschutes  18S12E10BA       ROW  44.034026 -121.278017        501   ROW\n",
      "Press 'p' to pause or any other key to continue...c\n",
      "WD2018-0217\n",
      "   county     trsqq parcel_id   latitude   longitude  record_ID notes\n",
      "26   Coos  24S13W07       101  43.437546 -124.261227        206   NaN\n",
      "27   Coos  24S13W06  101, 100  43.437761 -124.240703        205   NaN\n",
      "Press 'p' to pause or any other key to continue...c\n",
      "WD2019-0431\n",
      "     county       trsqq          parcel_id   latitude   longitude  record_ID  \\\n",
      "28  Jackson  37S01W17BD  Many,ROW,All part  42.355630 -122.847630        944   \n",
      "29  Jackson  37S01W17BA  Many,ROW,All part  42.354113 -122.847297        943   \n",
      "\n",
      "                 notes  \n",
      "28  ROW, Partial, Many  \n",
      "29  ROW, Partial, Many  \n",
      "Press 'p' to pause or any other key to continue...c\n",
      "WD2018-0419\n",
      "     county       trsqq parcel_id   latitude  longitude  record_ID notes\n",
      "30  Jackson   37S01W28A       ROW  42.330879 -122.82317        707   ROW\n",
      "31  Jackson  37S01W28AB       ROW  42.330879 -122.82317        709   ROW\n",
      "Press 'p' to pause or any other key to continue...c\n",
      "WD2019-0338\n",
      "Decision link is not available\n",
      "   county      trsqq parcel_id   latitude   longitude  record_ID    notes\n",
      "32   Coos  24S13W34C      140p  43.432517 -124.252597        235  Partial\n",
      "33   Coos   24S13W00      200p  43.432517 -124.252597        237  Partial\n",
      "Press 'p' to pause or any other key to continue...c\n",
      "WD2020-0536\n",
      "   county     trsqq                  parcel_id   latitude   longitude  \\\n",
      "34   Lake  39S20E00  multiple full and partial  42.254253 -120.378977   \n",
      "35   Lake  38S20E00  multiple full and partial  42.254253 -120.378977   \n",
      "\n",
      "    record_ID          notes  \n",
      "34       1137  Partial, Many  \n",
      "35       1138  Partial, Many  \n",
      "Press 'p' to pause or any other key to continue...c\n",
      "WD2021-0310\n",
      "     county       trsqq parcel_id   latitude   longitude  record_ID notes\n",
      "36  Jackson   36S01W21C       ROW  42.423193 -122.834891        786   ROW\n",
      "37  Jackson  36S01W21CA       ROW  42.423193 -122.834891        787   ROW\n",
      "Press 'p' to pause or any other key to continue...c\n",
      "WD2018-0306\n",
      "    county     trsqq parcel_id  latitude  longitude  record_ID    notes\n",
      "38  Harney  20S37E00      100p   43.8666  -118.2428        577  Partial\n",
      "39  Harney  21S37E00      500p   43.8666  -118.2428        575  Partial\n",
      "Press 'p' to pause or any other key to continue...c\n",
      "WD2021-0529\n",
      "    county     trsqq parcel_id   latitude   longitude  record_ID notes\n",
      "40  Marion  07S02W28       ROW  44.906268 -122.963021       1388   ROW\n",
      "41  Marion  08S02W04       ROW  44.906268 -122.963021       1383   ROW\n",
      "Press 'p' to pause or any other key to continue...c\n",
      "WD2022-0291\n",
      "Decision link is not available\n",
      "       county     trsqq parcel_id  latitude  longitude  record_ID notes\n",
      "42  Deschutes  14S14E24       302       NaN        NaN        570   NaN\n",
      "Press 'p' to pause or any other key to continue...c\n",
      "WD2017-0347\n",
      "    county     trsqq parcel_id  latitude  longitude  record_ID    notes\n",
      "43  Harney  24S32E16     4900p   43.4828  -118.8987        573  Partial\n",
      "Press 'p' to pause or any other key to continue...c\n",
      "WD2018-0386\n",
      "    county     trsqq   parcel_id  latitude  longitude  record_ID    notes\n",
      "44  Marion  06S03W07  500p,1100p   45.0602  -122.9983       1224  Partial\n",
      "Press 'p' to pause or any other key to continue...c\n",
      "WD2018-0522\n",
      "   county     trsqq parcel_id  latitude   longitude  record_ID    notes\n",
      "45   Coos  24S13W34     1700p  43.43634 -124.239585        214  Partial\n",
      "Press 'p' to pause or any other key to continue...c\n",
      "WD2022-0261\n",
      "Decision link is not available\n",
      "   county     trsqq parcel_id   latitude   longitude  record_ID notes\n",
      "46   Coos  29S15W12       ROW  43.081203 -124.430481        327   ROW\n",
      "Press 'p' to pause or any other key to continue...c\n",
      "WD2019-0231\n",
      "       county      trsqq parcel_id   latitude   longitude  record_ID notes\n",
      "47  Deschutes  18S12E16B       NaN  44.012392 -121.299894        377   NaN\n",
      "Press 'p' to pause or any other key to continue...c\n",
      "WD2022-0087\n",
      "       county       trsqq   parcel_id   latitude   longitude  record_ID notes\n",
      "48  Deschutes  15S10E09BB  Elm St ROW  44.288619 -121.549925        559   ROW\n",
      "Press 'p' to pause or any other key to continue...c\n",
      "WD2018-0281\n",
      "   county     trsqq parcel_id  latitude  longitude  record_ID notes\n",
      "49   Coos  25S13W04      MANY   43.4326  -124.2402        209  Many\n",
      "Press 'p' to pause or any other key to continue...c\n",
      "WD2018-0124\n",
      "   county     trsqq parcel_id   latitude   longitude  record_ID notes\n",
      "50   Lake  39S20E21      ROWs  42.164626 -120.366529       1089   ROW\n",
      "Press 'p' to pause or any other key to continue...c\n",
      "WD2020-0668\n",
      "       county       trsqq            parcel_id   latitude   longitude  \\\n",
      "51  Deschutes  18S12E08DA  ROW, 6317,6303,3604  44.027866 -121.306966   \n",
      "\n",
      "    record_ID notes  \n",
      "51        484   ROW  \n",
      "Press 'p' to pause or any other key to continue...c\n",
      "WD2021-0703\n",
      "Decision link is not available\n",
      "   county     trsqq parcel_id   latitude   longitude  record_ID notes\n",
      "52   Lake  38S20E09      Many  42.178657 -120.395374       1148  Many\n",
      "Press 'p' to pause or any other key to continue...c\n",
      "WD2018-0657\n",
      "   county     trsqq     parcel_id  latitude  longitude  record_ID    notes\n",
      "53   Lake  39S19E00  5500 partial  42.15704   -120.522       1116  Partial\n",
      "Press 'p' to pause or any other key to continue...c\n",
      "WD2019-0124\n",
      "     county     trsqq          parcel_id  latitude  longitude  record_ID  \\\n",
      "54  Jackson  36S02W28  Many,ROW,All part  42.41958 -122.95446        807   \n",
      "\n",
      "                 notes  \n",
      "54  ROW, Partial, Many  \n",
      "Press 'p' to pause or any other key to continue...c\n",
      "WD2019-0179\n",
      "     county     trsqq parcel_id   latitude   longitude  record_ID notes\n",
      "55  Jackson  31S04W27       101  42.849595 -123.160811        670   NaN\n"
     ]
    },
    {
     "name": "stdout",
     "output_type": "stream",
     "text": [
      "Press 'p' to pause or any other key to continue...c\n",
      "WD2019-0259\n",
      "    county     trsqq parcel_id   latitude   longitude  record_ID notes\n",
      "56  Harney  18S47E09       100  44.014009 -116.975519        586   NaN\n",
      "Press 'p' to pause or any other key to continue...c\n",
      "WD2022-0142\n",
      "    county       trsqq parcel_id   latitude   longitude  record_ID notes\n",
      "57  Marion  07S03W16DB       800  44.961046 -123.058434       1413   NaN\n",
      "Press 'p' to pause or any other key to continue...c\n",
      "WD2021-0180\n",
      "     county       trsqq parcel_id  latitude  longitude  record_ID notes\n",
      "58  Jackson  37S01W16BD      1400  42.34434 -122.82312        762   NaN\n",
      "Press 'p' to pause or any other key to continue...c\n",
      "WD2018-0408\n",
      "Decision link is not available\n",
      "    county     trsqq  parcel_id  latitude  longitude  record_ID notes\n",
      "59  Marion  07S03W35  2400,2401       NaN        NaN       1226   NaN\n",
      "Press 'p' to pause or any other key to continue...c\n"
     ]
    }
   ],
   "source": [
    "review_loop_r1(unmatched)"
   ]
  },
  {
   "cell_type": "code",
   "execution_count": 23,
   "id": "9be5aa98",
   "metadata": {},
   "outputs": [],
   "source": [
    "outpath = r'L:\\NaturalResources\\Wetlands\\Local Wetland Inventory\\WAPO\\EPA_2022_Tasks\\Task 1 WD Mapping\\output'\n",
    "partial = pd.read_csv(outpath + f'\\\\to_review\\\\partial_matched_{setID}.csv')"
   ]
  },
  {
   "cell_type": "code",
   "execution_count": 25,
   "id": "235c8482",
   "metadata": {},
   "outputs": [
    {
     "data": {
      "text/plain": [
       "Index(['wetdet_delin_number', 'trsqq', 'parcel_id', 'address_location_desc',\n",
       "       'city', 'county', 'site_name', 'site_desc', 'latitude', 'longitude',\n",
       "       'Coord-Source', 'DocumentName', 'DecisionLink', 'is_batch_file',\n",
       "       'status_name', 'received_date', 'response_date',\n",
       "       'reissuance_response_date', 'project_id', 'site_id', 'record_ID',\n",
       "       'notes', 'recyear', 'IDyear', 'missinglot'],\n",
       "      dtype='object')"
      ]
     },
     "execution_count": 25,
     "metadata": {},
     "output_type": "execute_result"
    }
   ],
   "source": [
    "partial.columns"
   ]
  },
  {
   "cell_type": "code",
   "execution_count": 31,
   "id": "cbe0693c",
   "metadata": {},
   "outputs": [
    {
     "data": {
      "text/plain": [
       "263"
      ]
     },
     "execution_count": 31,
     "metadata": {},
     "output_type": "execute_result"
    }
   ],
   "source": [
    "len(partial.wetdet_delin_number.unique())"
   ]
  },
  {
   "cell_type": "code",
   "execution_count": 29,
   "id": "1e88c7c3",
   "metadata": {},
   "outputs": [],
   "source": [
    "IDstoCheck = [wdID for wdID in partial.wetdet_delin_number.unique() if wdID not in unmatchedwdIDs]"
   ]
  },
  {
   "cell_type": "code",
   "execution_count": 30,
   "id": "a1652c39",
   "metadata": {},
   "outputs": [
    {
     "data": {
      "text/plain": [
       "247"
      ]
     },
     "execution_count": 30,
     "metadata": {},
     "output_type": "execute_result"
    }
   ],
   "source": [
    "len(IDstoCheck)"
   ]
  },
  {
   "cell_type": "code",
   "execution_count": 32,
   "id": "316ccd23",
   "metadata": {},
   "outputs": [
    {
     "data": {
      "text/plain": [
       "0.07224334600760456"
      ]
     },
     "execution_count": 32,
     "metadata": {},
     "output_type": "execute_result"
    }
   ],
   "source": [
    "19/263"
   ]
  },
  {
   "cell_type": "code",
   "execution_count": 33,
   "id": "dac75600",
   "metadata": {},
   "outputs": [],
   "source": [
    "toCheck_df = partial[partial.wetdet_delin_number.isin(IDstoCheck)]"
   ]
  },
  {
   "cell_type": "code",
   "execution_count": 35,
   "id": "6a99172b",
   "metadata": {},
   "outputs": [],
   "source": [
    "mapped_df = setgdf[setgdf.wetdet_delin_number.isin(toCheck_df.wetdet_delin_number.unique())]"
   ]
  },
  {
   "cell_type": "code",
   "execution_count": null,
   "id": "c6997d5c",
   "metadata": {},
   "outputs": [],
   "source": [
    "review_loop_r1(toCheck_df)"
   ]
  }
 ],
 "metadata": {
  "kernelspec": {
   "display_name": "Python 3",
   "language": "python",
   "name": "python3"
  },
  "language_info": {
   "codemirror_mode": {
    "name": "ipython",
    "version": 3
   },
   "file_extension": ".py",
   "mimetype": "text/x-python",
   "name": "python",
   "nbconvert_exporter": "python",
   "pygments_lexer": "ipython3",
   "version": "3.8.8"
  }
 },
 "nbformat": 4,
 "nbformat_minor": 5
}
