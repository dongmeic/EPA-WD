{
 "cells": [
  {
   "cell_type": "code",
   "execution_count": 1,
   "id": "2a90fb22",
   "metadata": {},
   "outputs": [],
   "source": [
    "%load_ext autoreload\n",
    "%autoreload 2"
   ]
  },
  {
   "cell_type": "code",
   "execution_count": 5,
   "id": "33489ec9",
   "metadata": {},
   "outputs": [],
   "source": [
    "from wdtools import *"
   ]
  },
  {
   "cell_type": "code",
   "execution_count": 3,
   "id": "8302d3bf",
   "metadata": {},
   "outputs": [],
   "source": [
    "wd_all = get_all_wd(num=6)"
   ]
  },
  {
   "cell_type": "code",
   "execution_count": 4,
   "id": "20b0edef",
   "metadata": {
    "scrolled": true
   },
   "outputs": [
    {
     "data": {
      "text/plain": [
       "Index(['wetdet_delin_number', 'trsqq', 'parcel_id', 'address_location_desc',\n",
       "       'city', 'county', 'site_name', 'site_desc', 'latitude', 'longitude',\n",
       "       'Coord-Source', 'DocumentName', 'DecisionLink', 'is_batch_file',\n",
       "       'status_name', 'received_date', 'response_date',\n",
       "       'reissuance_response_date', 'project_id', 'site_id', 'record_ID',\n",
       "       'notes', 'recyear', 'IDyear', 'missinglot', 'SetID'],\n",
       "      dtype='object')"
      ]
     },
     "execution_count": 4,
     "metadata": {},
     "output_type": "execute_result"
    }
   ],
   "source": [
    "wd_all.columns"
   ]
  },
  {
   "cell_type": "code",
   "execution_count": 6,
   "id": "e6afed12",
   "metadata": {},
   "outputs": [],
   "source": [
    "sa_gdf_all = get_all_SA(num=6)"
   ]
  },
  {
   "cell_type": "code",
   "execution_count": 7,
   "id": "57b674cb",
   "metadata": {},
   "outputs": [
    {
     "data": {
      "text/plain": [
       "Index(['wdID', 'code', 'geometry'], dtype='object')"
      ]
     },
     "execution_count": 7,
     "metadata": {},
     "output_type": "execute_result"
    }
   ],
   "source": [
    "sa_gdf_all.columns"
   ]
  },
  {
   "cell_type": "code",
   "execution_count": 8,
   "id": "2f0683c8",
   "metadata": {},
   "outputs": [],
   "source": [
    "df = wd_all[wd_all.wetdet_delin_number.isin(sa_gdf_all[sa_gdf_all.code==0].wdID.values)]"
   ]
  },
  {
   "cell_type": "code",
   "execution_count": 9,
   "id": "ce9c1a23",
   "metadata": {},
   "outputs": [
    {
     "data": {
      "text/plain": [
       "(2538, 26)"
      ]
     },
     "execution_count": 9,
     "metadata": {},
     "output_type": "execute_result"
    }
   ],
   "source": [
    "df.shape"
   ]
  },
  {
   "cell_type": "code",
   "execution_count": 28,
   "id": "c98df6b6",
   "metadata": {},
   "outputs": [
    {
     "data": {
      "text/plain": [
       "2090"
      ]
     },
     "execution_count": 28,
     "metadata": {},
     "output_type": "execute_result"
    }
   ],
   "source": [
    "len(df.wetdet_delin_number.unique())"
   ]
  },
  {
   "cell_type": "code",
   "execution_count": null,
   "id": "72b9a3e4",
   "metadata": {
    "scrolled": true
   },
   "outputs": [
    {
     "name": "stdout",
     "output_type": "stream",
     "text": [
      "46.0% digitized, 1129 records remained, expected to be done in about 903 hours...\n",
      "WD2021-0413\n",
      "index = 1958\n",
      "         county       trsqq parcel_id   latitude   longitude  record_ID notes  \\\n",
      "1957  Clackamas  02S02E35AA      1000  45.356875 -122.520038       1958         \n",
      "\n",
      "     missinglot       status_name is_batch_file  \n",
      "1957          N  Completed by DSL             Y  \n",
      "Press 'p' to pause or any key to stop...P\n",
      "Press 'a' to add the wd record or 'c' to continue...c\n",
      "46.0% digitized, 1128 records remained, expected to be done in about 902 hours...\n",
      "WD2021-0415\n",
      "index = 1959\n",
      "         county       trsqq parcel_id   latitude   longitude  record_ID notes  \\\n",
      "1958  Clackamas    02S01E16       101  45.398908 -122.689487       1959         \n",
      "1959  Clackamas   02S01E16A       600  45.399971 -122.686941       1960         \n",
      "1960  Clackamas  02S01E16AC   100,190  45.400431 -122.689998       1961         \n",
      "\n",
      "     missinglot status_name is_batch_file  \n",
      "1958          N    Approved             N  \n",
      "1959          N    Approved             N  \n",
      "1960          N    Approved             N  \n",
      "Press 'p' to pause or any key to stop...p\n",
      "Press 'a' to add the wd record or 'c' to continue...c\n",
      "46.1% digitized, 1127 records remained, expected to be done in about 902 hours...\n",
      "WD2021-0420\n",
      "index = 1962\n",
      "         county     trsqq  parcel_id   latitude   longitude  record_ID notes  \\\n",
      "1961  Clackamas  05S02E07  1201,1300  45.153098 -122.609374       1962         \n",
      "\n",
      "     missinglot status_name is_batch_file  \n",
      "1961          N    Approved             N  \n",
      "Press 'p' to pause or any key to stop...p\n",
      "Press 'a' to add the wd record or 'c' to continue...c\n",
      "46.1% digitized, 1126 records remained, expected to be done in about 901 hours...\n",
      "WD2021-0428\n",
      "index = 1965\n",
      "         county      trsqq parcel_id  latitude   longitude  record_ID notes  \\\n",
      "1964  Clackamas  03S02E15D      2200  45.30509 -122.541936       1965         \n",
      "\n",
      "     missinglot status_name is_batch_file  \n",
      "1964          N    Approved             N  \n",
      "Press 'p' to pause or any key to stop...p\n",
      "Press 'a' to add the wd record or 'c' to continue...c\n",
      "46.2% digitized, 1125 records remained, expected to be done in about 900 hours...\n",
      "WD2021-0429\n",
      "index = 1966\n",
      "         county     trsqq parcel_id   latitude   longitude  record_ID notes  \\\n",
      "1965  Clackamas  02S01E14       400  45.399256 -122.646911       1966         \n",
      "\n",
      "     missinglot       status_name is_batch_file  \n",
      "1965          N  Completed by DSL             Y  \n",
      "Press 'p' to pause or any key to stop...p\n",
      "Press 'a' to add the wd record or 'c' to continue...c\n",
      "46.2% digitized, 1124 records remained, expected to be done in about 899 hours...\n",
      "WD2021-0430\n",
      "index = 1967\n",
      "         county      trsqq parcel_id  latitude  longitude  record_ID notes  \\\n",
      "1966  Clackamas  05S02E08C      1500   45.1487 -122.58861       1967         \n",
      "\n",
      "     missinglot       status_name is_batch_file  \n",
      "1966          N  Completed by DSL             Y  \n",
      "Press 'p' to pause or any key to stop...p\n",
      "Press 'a' to add the wd record or 'c' to continue...c\n",
      "46.3% digitized, 1123 records remained, expected to be done in about 898 hours...\n",
      "WD2021-0436\n",
      "index = 1968\n",
      "         county       trsqq parcel_id   latitude   longitude  record_ID notes  \\\n",
      "1967  Clackamas  02S01E04BB       500  45.431986 -122.697829       1968         \n",
      "\n",
      "     missinglot       status_name is_batch_file  \n",
      "1967          N  Completed by DSL             Y  \n",
      "Press 'p' to pause or any key to stop...p\n",
      "Press 'a' to add the wd record or 'c' to continue...c\n",
      "46.3% digitized, 1122 records remained, expected to be done in about 898 hours...\n",
      "WD2021-0446\n",
      "index = 1969\n",
      "         county       trsqq parcel_id   latitude   longitude  record_ID notes  \\\n",
      "1968  Clackamas  02S02E18CA      3400  45.396139 -122.614729       1969         \n",
      "\n",
      "     missinglot       status_name is_batch_file  \n",
      "1968          N  Completed by DSL             Y  \n",
      "Press 'p' to pause or any key to stop...p\n",
      "Press 'a' to add the wd record or 'c' to continue...c\n",
      "46.4% digitized, 1121 records remained, expected to be done in about 897 hours...\n",
      "WD2021-0475\n",
      "index = 1970\n",
      "         county       trsqq                   parcel_id   latitude  \\\n",
      "1969  Clackamas  02S03E06BA  1500,1600,1700, 2000, 2100  45.430649   \n",
      "\n",
      "       longitude  record_ID notes missinglot       status_name is_batch_file  \n",
      "1969 -122.947207       1970                N  Completed by DSL             Y  \n",
      "Press 'p' to pause or any key to stop...p\n",
      "Press 'a' to add the wd record or 'c' to continue...c\n",
      "46.4% digitized, 1120 records remained, expected to be done in about 896 hours...\n",
      "WD2021-0479\n",
      "index = 1971\n",
      "         county      trsqq parcel_id   latitude   longitude  record_ID notes  \\\n",
      "1970  Clackamas  05S02E08C      1500  45.148644 -122.595206       1971         \n",
      "\n",
      "     missinglot status_name is_batch_file  \n",
      "1970          N    Approved             N  \n",
      "Press 'p' to pause or any key to stop...p\n",
      "Press 'a' to add the wd record or 'c' to continue...c\n",
      "46.5% digitized, 1119 records remained, expected to be done in about 895 hours...\n",
      "WD2021-0509\n",
      "index = 1973\n",
      "         county      trsqq parcel_id   latitude   longitude  record_ID notes  \\\n",
      "1972  Clackamas  03S01W12D   401,402  45.323295 -122.746782       1973         \n",
      "\n",
      "     missinglot status_name is_batch_file  \n",
      "1972          N    Approved             N  \n",
      "Press 'p' to pause or any key to stop...p\n",
      "Press 'a' to add the wd record or 'c' to continue...c\n",
      "46.5% digitized, 1118 records remained, expected to be done in about 894 hours...\n",
      "WD2021-0512\n",
      "index = 1974\n",
      "         county     trsqq parcel_id   latitude   longitude  record_ID notes  \\\n",
      "1973  Clackamas  03S07E04       309  45.341358 -121.951062       1974         \n",
      "\n",
      "     missinglot       status_name is_batch_file  \n",
      "1973          N  Completed by DSL             Y  \n",
      "Press 'p' to pause or any key to stop...p\n",
      "Press 'a' to add the wd record or 'c' to continue...c\n",
      "46.6% digitized, 1117 records remained, expected to be done in about 894 hours...\n",
      "WD2021-0517\n",
      "index = 1980\n",
      "         county     trsqq parcel_id   latitude   longitude  record_ID notes  \\\n",
      "1979  Clackamas  03S03E11       702  45.319973 -122.412954       1980         \n",
      "\n",
      "     missinglot       status_name is_batch_file  \n",
      "1979          N  Completed by DSL             Y  \n",
      "Press 'p' to pause or any key to stop...p\n",
      "Press 'a' to add the wd record or 'c' to continue...c\n",
      "46.6% digitized, 1116 records remained, expected to be done in about 893 hours...\n",
      "WD2021-0521\n",
      "index = 1981\n",
      "Decision link is not available\n",
      "         county       trsqq parcel_id   latitude   longitude  record_ID notes  \\\n",
      "1980  Clackamas  02S01E13DD      3100  45.390461 -122.623123       1981         \n",
      "\n",
      "     missinglot status_name is_batch_file  \n",
      "1980          N        Hold             N  \n",
      "Press 'p' to pause or any key to stop...p\n",
      "Press 'a' to add the wd record or 'c' to continue...c\n",
      "46.7% digitized, 1115 records remained, expected to be done in about 892 hours...\n",
      "WD2021-0522\n",
      "index = 1982\n",
      "         county     trsqq parcel_id   latitude   longitude  record_ID notes  \\\n",
      "1981  Clackamas  02S03E23       500  45.381063 -122.404961       1982         \n",
      "\n",
      "     missinglot       status_name is_batch_file  \n",
      "1981          N  Completed by DSL             Y  \n",
      "Press 'p' to pause or any key to stop...p\n",
      "Press 'a' to add the wd record or 'c' to continue...\n",
      "Press 'a' to add the wd record or 'c' to continue...c\n",
      "46.7% digitized, 1114 records remained, expected to be done in about 891 hours...\n",
      "WD2021-0573\n",
      "index = 1984\n",
      "         county       trsqq parcel_id  latitude   longitude  record_ID notes  \\\n",
      "1983  Clackamas  02S01E19AD      1201  45.38517 -122.727558       1984         \n",
      "\n",
      "     missinglot status_name is_batch_file  \n",
      "1983          N    Approved             N  \n",
      "Press 'p' to pause or any key to stop...p\n",
      "Press 'a' to add the wd record or 'c' to continue...c\n",
      "46.7% digitized, 1113 records remained, expected to be done in about 890 hours...\n",
      "WD2021-0612\n",
      "index = 1994\n",
      "         county     trsqq parcel_id   latitude   longitude  record_ID notes  \\\n",
      "1993  Clackamas  04S01E09       101  45.242157 -122.684627       1994         \n",
      "\n",
      "     missinglot       status_name is_batch_file  \n",
      "1993          N  Completed by DSL             Y  \n",
      "Press 'p' to pause or any key to stop...p\n",
      "Press 'a' to add the wd record or 'c' to continue...c\n",
      "46.8% digitized, 1112 records remained, expected to be done in about 890 hours...\n",
      "WD2021-0617\n",
      "index = 1996\n",
      "         county     trsqq parcel_id   latitude   longitude  record_ID notes  \\\n",
      "1995  Clackamas  04S02E16      2704  45.221564 -122.563179       1996         \n",
      "\n",
      "     missinglot       status_name is_batch_file  \n",
      "1995          N  Completed by DSL             Y  \n"
     ]
    },
    {
     "name": "stdout",
     "output_type": "stream",
     "text": [
      "Press 'p' to pause or any key to stop...p\n",
      "Press 'a' to add the wd record or 'c' to continue...c\n",
      "46.8% digitized, 1111 records remained, expected to be done in about 889 hours...\n",
      "WD2021-0628\n",
      "index = 1999\n",
      "         county      trsqq parcel_id   latitude   longitude  record_ID notes  \\\n",
      "1998  Clackamas  01S03E30B      2500  45.455985 -123.492618       1999         \n",
      "\n",
      "     missinglot status_name is_batch_file  \n",
      "1998          N    Approved             N  \n",
      "Press 'p' to pause or any key to stop...p\n",
      "Press 'a' to add the wd record or 'c' to continue...c\n",
      "46.9% digitized, 1110 records remained, expected to be done in about 888 hours...\n",
      "WD2021-0629\n",
      "index = 2000\n",
      "         county      trsqq parcel_id   latitude   longitude  record_ID notes  \\\n",
      "1999  Clackamas  02S02E05B       400  45.427405 -122.594293       2000         \n",
      "\n",
      "     missinglot status_name is_batch_file  \n",
      "1999          N    Approved             N  \n",
      "Press 'p' to pause or any key to stop...p\n",
      "Press 'a' to add the wd record or 'c' to continue...c\n",
      "46.9% digitized, 1109 records remained, expected to be done in about 887 hours...\n",
      "WD2021-0681\n",
      "index = 2005\n",
      "         county      trsqq parcel_id   latitude   longitude  record_ID notes  \\\n",
      "2004  Clackamas  03S04E06D      1301  45.333053 -122.357847       2005         \n",
      "\n",
      "     missinglot status_name is_batch_file  \n",
      "2004          N    Approved             N  \n"
     ]
    }
   ],
   "source": [
    "toAdd = review_loop_r1(df=df, partial=True, idx=True, wd_id='WD2021-0404')\n",
    "print(toAdd)"
   ]
  },
  {
   "cell_type": "code",
   "execution_count": 68,
   "id": "142ad7af",
   "metadata": {},
   "outputs": [
    {
     "name": "stdout",
     "output_type": "stream",
     "text": [
      "['WD2022-0229', 'WD2022-0301', 'WD2020-0582', 'WD2021-0013', 'WD2021-0670', 'WD2022-0053', 'WD2017-0103', 'WD2018-0066', 'WD2017-0045', 'WD2017-0113', 'WD2017-0362', 'WD2017-0555', 'WD2018-0334']\n"
     ]
    }
   ],
   "source": [
    "print(toAdd)"
   ]
  },
  {
   "cell_type": "code",
   "execution_count": 11,
   "id": "6b200f58",
   "metadata": {},
   "outputs": [],
   "source": [
    "to_check = ['WD2017-0232','WD2018-0112', 'WD2019-0044','WD2019-0084', 'WD2019-0252', 'WD2019-0258',\n",
    " 'WD2019-0293', 'WD2019-0339', 'WD2019-0385', 'WD2019-0456', 'WD2019-0469', 'WD2019-0498', 'WD2020-0130',\n",
    " 'WD2020-0164', 'WD2020-0271', 'WD2020-0415', 'WD2020-0474', 'WD2020-0475', 'WD2020-0671', 'WD2021-0351',\n",
    " 'WD2021-0376', 'WD2021-0456', 'WD2021-0664', 'WD2021-0684', 'WD2021-0698', 'WD2021-0709','WD2022-0126',\n",
    " 'WD2022-0187', 'WD2022-0242']"
   ]
  },
  {
   "cell_type": "code",
   "execution_count": 66,
   "id": "5ea5563f",
   "metadata": {},
   "outputs": [],
   "source": [
    "#to_check2 = to_check + toAdd\n",
    "to_check2 = to_check2 + toAdd"
   ]
  },
  {
   "cell_type": "code",
   "execution_count": 72,
   "id": "57a86fa8",
   "metadata": {},
   "outputs": [
    {
     "data": {
      "text/plain": [
       "'WD2018-0334'"
      ]
     },
     "execution_count": 72,
     "metadata": {},
     "output_type": "execute_result"
    }
   ],
   "source": [
    "to_check2[-1]"
   ]
  },
  {
   "cell_type": "code",
   "execution_count": 40,
   "id": "b41cc969",
   "metadata": {},
   "outputs": [
    {
     "data": {
      "text/html": [
       "<div>\n",
       "<style scoped>\n",
       "    .dataframe tbody tr th:only-of-type {\n",
       "        vertical-align: middle;\n",
       "    }\n",
       "\n",
       "    .dataframe tbody tr th {\n",
       "        vertical-align: top;\n",
       "    }\n",
       "\n",
       "    .dataframe thead th {\n",
       "        text-align: right;\n",
       "    }\n",
       "</style>\n",
       "<table border=\"1\" class=\"dataframe\">\n",
       "  <thead>\n",
       "    <tr style=\"text-align: right;\">\n",
       "      <th></th>\n",
       "      <th>wetdet_delin_number</th>\n",
       "      <th>trsqq</th>\n",
       "      <th>parcel_id</th>\n",
       "      <th>address_location_desc</th>\n",
       "      <th>city</th>\n",
       "      <th>county</th>\n",
       "      <th>site_name</th>\n",
       "      <th>site_desc</th>\n",
       "      <th>latitude</th>\n",
       "      <th>longitude</th>\n",
       "      <th>...</th>\n",
       "      <th>response_date</th>\n",
       "      <th>reissuance_response_date</th>\n",
       "      <th>project_id</th>\n",
       "      <th>site_id</th>\n",
       "      <th>record_ID</th>\n",
       "      <th>notes</th>\n",
       "      <th>recyear</th>\n",
       "      <th>IDyear</th>\n",
       "      <th>missinglot</th>\n",
       "      <th>SetID</th>\n",
       "    </tr>\n",
       "  </thead>\n",
       "  <tbody>\n",
       "    <tr>\n",
       "      <th>1053</th>\n",
       "      <td>WD2020-0649</td>\n",
       "      <td>35S05W30C</td>\n",
       "      <td>100</td>\n",
       "      <td>420 Irena Rd</td>\n",
       "      <td>Grants Pass</td>\n",
       "      <td>Josephine</td>\n",
       "      <td>Paul Gareau</td>\n",
       "      <td>WD2020-0649 Offsite</td>\n",
       "      <td>42.497073</td>\n",
       "      <td>-123.337813</td>\n",
       "      <td>...</td>\n",
       "      <td>2020-12-28</td>\n",
       "      <td>NaN</td>\n",
       "      <td>80969.0</td>\n",
       "      <td>134572</td>\n",
       "      <td>1054</td>\n",
       "      <td></td>\n",
       "      <td>2020</td>\n",
       "      <td>2020</td>\n",
       "      <td>N</td>\n",
       "      <td>1</td>\n",
       "    </tr>\n",
       "  </tbody>\n",
       "</table>\n",
       "<p>1 rows × 26 columns</p>\n",
       "</div>"
      ],
      "text/plain": [
       "     wetdet_delin_number      trsqq parcel_id address_location_desc  \\\n",
       "1053         WD2020-0649  35S05W30C       100          420 Irena Rd   \n",
       "\n",
       "             city     county    site_name            site_desc   latitude  \\\n",
       "1053  Grants Pass  Josephine  Paul Gareau  WD2020-0649 Offsite  42.497073   \n",
       "\n",
       "       longitude  ... response_date reissuance_response_date project_id  \\\n",
       "1053 -123.337813  ...    2020-12-28                      NaN    80969.0   \n",
       "\n",
       "     site_id record_ID notes recyear IDyear  missinglot  SetID  \n",
       "1053  134572      1054          2020   2020           N      1  \n",
       "\n",
       "[1 rows x 26 columns]"
      ]
     },
     "execution_count": 40,
     "metadata": {},
     "output_type": "execute_result"
    }
   ],
   "source": [
    "df[df.wetdet_delin_number == 'WD2020-0649']"
   ]
  },
  {
   "cell_type": "code",
   "execution_count": 23,
   "id": "1647fa9c",
   "metadata": {},
   "outputs": [
    {
     "data": {
      "text/plain": [
       "2090"
      ]
     },
     "execution_count": 23,
     "metadata": {},
     "output_type": "execute_result"
    }
   ],
   "source": [
    "len(df.wetdet_delin_number.unique())"
   ]
  },
  {
   "cell_type": "code",
   "execution_count": 63,
   "id": "72ab28b9",
   "metadata": {},
   "outputs": [
    {
     "data": {
      "text/plain": [
       "0.1553398058252427"
      ]
     },
     "execution_count": 63,
     "metadata": {},
     "output_type": "execute_result"
    }
   ],
   "source": [
    "(len(to_check2)+42)/(len(df.wetdet_delin_number.unique())-1163)"
   ]
  },
  {
   "cell_type": "code",
   "execution_count": 43,
   "id": "4b1932ba",
   "metadata": {},
   "outputs": [],
   "source": [
    "Qs = pd.read_excel(inpath+'\\\\reporting\\\\QAQC_questions.xlsx')"
   ]
  },
  {
   "cell_type": "code",
   "execution_count": 52,
   "id": "fa08c813",
   "metadata": {},
   "outputs": [
    {
     "data": {
      "text/plain": [
       "True"
      ]
     },
     "execution_count": 52,
     "metadata": {},
     "output_type": "execute_result"
    }
   ],
   "source": [
    "(Qs['question'].str.contains('should')).any()"
   ]
  },
  {
   "cell_type": "code",
   "execution_count": 53,
   "id": "8737b63a",
   "metadata": {},
   "outputs": [],
   "source": [
    "wdIDs = Qs[Qs['question'].str.contains('should')].wetdet_delin_number.values"
   ]
  },
  {
   "cell_type": "code",
   "execution_count": 55,
   "id": "d9227ca5",
   "metadata": {},
   "outputs": [
    {
     "data": {
      "text/plain": [
       "(20, 3)"
      ]
     },
     "execution_count": 55,
     "metadata": {},
     "output_type": "execute_result"
    }
   ],
   "source": [
    "Qs.shape"
   ]
  },
  {
   "cell_type": "code",
   "execution_count": 56,
   "id": "5bb3a8ad",
   "metadata": {},
   "outputs": [
    {
     "data": {
      "text/plain": [
       "15"
      ]
     },
     "execution_count": 56,
     "metadata": {},
     "output_type": "execute_result"
    }
   ],
   "source": [
    "len(wdIDs)"
   ]
  },
  {
   "cell_type": "code",
   "execution_count": 54,
   "id": "e2c14ed1",
   "metadata": {},
   "outputs": [
    {
     "name": "stdout",
     "output_type": "stream",
     "text": [
      "0.0% digitized, 15 records remained, expected to be done in about 12 hours...\n",
      "WD2020-0393\n",
      "index = 265\n",
      "    county       trsqq       parcel_id   latitude   longitude  record_ID  \\\n",
      "264   Coos  29S15W01CB  2400,2401,2600  43.087589 -124.430232        265   \n",
      "\n",
      "    notes missinglot       status_name is_batch_file  \n",
      "264                N  Completed by DSL             Y  \n",
      "Press 'p' to pause or any key to stop...p\n",
      "Press 'a' to add the wd record or 'c' to continue...c\n",
      "6.7% digitized, 14 records remained, expected to be done in about 11 hours...\n",
      "WD2021-0103\n",
      "index = 285\n",
      "    county     trsqq parcel_id   latitude   longitude  record_ID notes  \\\n",
      "284   Coos  24S13W02       400  43.514617 -124.219229        285         \n",
      "\n",
      "    missinglot       status_name is_batch_file  \n",
      "284          N  Completed by DSL             Y  \n",
      "Press 'p' to pause or any key to stop...p\n",
      "Press 'a' to add the wd record or 'c' to continue...c\n",
      "13.3% digitized, 13 records remained, expected to be done in about 10 hours...\n",
      "WD2021-0287\n",
      "index = 295\n",
      "    county     trsqq parcel_id   latitude   longitude  record_ID notes  \\\n",
      "294   Coos  29S10W30       800  43.013847 -123.941233        295         \n",
      "\n",
      "    missinglot       status_name is_batch_file  \n",
      "294          N  Completed by DSL             Y  \n",
      "Press 'p' to pause or any key to stop...p\n",
      "Press 'a' to add the wd record or 'c' to continue...c\n",
      "20.0% digitized, 12 records remained, expected to be done in about 10 hours...\n",
      "WD2021-0316\n",
      "index = 299\n",
      "    county     trsqq parcel_id   latitude  longitude  record_ID notes  \\\n",
      "298   Coos  23S13W26   800,801  43.550119 -124.34029        299         \n",
      "\n",
      "    missinglot       status_name is_batch_file  \n",
      "298          N  Completed by DSL             Y  \n",
      "Press 'p' to pause or any key to stop...p\n",
      "Press 'a' to add the wd record or 'c' to continue...c\n",
      "26.7% digitized, 11 records remained, expected to be done in about 9 hours...\n",
      "WD2019-0373\n",
      "index = 386\n",
      "        county      trsqq parcel_id   latitude   longitude  record_ID notes  \\\n",
      "385  Deschutes  16S12E29C      2800  44.157638 -121.322107        386         \n",
      "\n",
      "    missinglot       status_name is_batch_file  \n",
      "385          N  Completed by DSL             Y  \n",
      "Press 'p' to pause or any key to stop...p\n",
      "Press 'a' to add the wd record or 'c' to continue...c\n",
      "33.3% digitized, 10 records remained, expected to be done in about 8 hours...\n",
      "WD2020-0695\n",
      "index = 486\n",
      "        county     trsqq parcel_id   latitude   longitude  record_ID notes  \\\n",
      "485  Deschutes  14S13E21       405  44.347381 -121.187836        486         \n",
      "\n",
      "    missinglot       status_name is_batch_file  \n",
      "485          N  Completed by DSL             Y  \n",
      "Press 'p' to pause or any key to stop...p\n",
      "Press 'a' to add the wd record or 'c' to continue...c\n",
      "40.0% digitized, 9 records remained, expected to be done in about 7 hours...\n",
      "WD2020-0640\n",
      "index = 681\n",
      "      county     trsqq parcel_id   latitude   longitude  record_ID notes  \\\n",
      "680  Jackson  40S04E00      3304  42.096066 -122.396095        681         \n",
      "\n",
      "    missinglot       status_name is_batch_file  \n",
      "680          N  Completed by DSL             Y  \n",
      "Press 'p' to pause or any key to stop...p\n",
      "Press 'a' to add the wd record or 'c' to continue...c\n",
      "46.7% digitized, 8 records remained, expected to be done in about 6 hours...\n",
      "WD2022-0031\n",
      "index = 958\n",
      "Decision link is not available\n",
      "      county     trsqq parcel_id   latitude   longitude  record_ID notes  \\\n",
      "957  Jackson  38S04W07       600  42.280639 -123.229434        958         \n",
      "\n",
      "    missinglot       status_name is_batch_file  \n",
      "957          N  Completed by DSL             Y  \n",
      "Press 'p' to pause or any key to stop...s\n"
     ]
    }
   ],
   "source": [
    "review_loop_r1(df=df[df.wetdet_delin_number.isin(wdIDs)], partial=True, idx=True)"
   ]
  }
 ],
 "metadata": {
  "kernelspec": {
   "display_name": "Python 3",
   "language": "python",
   "name": "python3"
  },
  "language_info": {
   "codemirror_mode": {
    "name": "ipython",
    "version": 3
   },
   "file_extension": ".py",
   "mimetype": "text/x-python",
   "name": "python",
   "nbconvert_exporter": "python",
   "pygments_lexer": "ipython3",
   "version": "3.8.8"
  }
 },
 "nbformat": 4,
 "nbformat_minor": 5
}
