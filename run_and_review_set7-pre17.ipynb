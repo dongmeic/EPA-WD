{
 "cells": [
  {
   "cell_type": "code",
   "execution_count": 1,
   "id": "b5fb740d",
   "metadata": {},
   "outputs": [],
   "source": [
    "%load_ext autoreload\n",
    "%autoreload 2"
   ]
  },
  {
   "cell_type": "code",
   "execution_count": 106,
   "id": "f4728754",
   "metadata": {},
   "outputs": [],
   "source": [
    "from wdtools import *"
   ]
  },
  {
   "cell_type": "code",
   "execution_count": 3,
   "id": "a19bb634",
   "metadata": {},
   "outputs": [
    {
     "name": "stdout",
     "output_type": "stream",
     "text": [
      "it took 10.0 minutes to complete\n"
     ]
    }
   ],
   "source": [
    "# this can take about 9 - 11 minutes\n",
    "start = time.time()\n",
    "all_taxlot = combine_taxlot()\n",
    "end = time.time()\n",
    "print(f'it took {round((end - start)/60, 0)} minutes to complete')"
   ]
  },
  {
   "cell_type": "code",
   "execution_count": 14,
   "id": "a40037db",
   "metadata": {},
   "outputs": [],
   "source": [
    "n=7"
   ]
  },
  {
   "cell_type": "code",
   "execution_count": 15,
   "id": "146fa5d9",
   "metadata": {},
   "outputs": [],
   "source": [
    "wd_df = get_all_wd(num=n-1)"
   ]
  },
  {
   "cell_type": "code",
   "execution_count": 6,
   "id": "f7a81760",
   "metadata": {},
   "outputs": [
    {
     "data": {
      "text/plain": [
       "Index(['wetdet_delin_number', 'trsqq', 'parcel_id', 'address_location_desc',\n",
       "       'city', 'county', 'site_name', 'site_desc', 'latitude', 'longitude',\n",
       "       'Coord-Source', 'DocumentName', 'DecisionLink', 'is_batch_file',\n",
       "       'status_name', 'received_date', 'response_date',\n",
       "       'reissuance_response_date', 'project_id', 'site_id', 'record_ID',\n",
       "       'notes', 'recyear', 'IDyear', 'missinglot', 'SetID'],\n",
       "      dtype='object')"
      ]
     },
     "execution_count": 6,
     "metadata": {},
     "output_type": "execute_result"
    }
   ],
   "source": [
    "wd_df.columns"
   ]
  },
  {
   "cell_type": "code",
   "execution_count": 16,
   "id": "84811db0",
   "metadata": {},
   "outputs": [
    {
     "data": {
      "text/plain": [
       "(4972, 26)"
      ]
     },
     "execution_count": 16,
     "metadata": {},
     "output_type": "execute_result"
    }
   ],
   "source": [
    "wd_df.shape"
   ]
  },
  {
   "cell_type": "code",
   "execution_count": 18,
   "id": "6f280e0b",
   "metadata": {
    "scrolled": true
   },
   "outputs": [],
   "source": [
    "setID = 'Set00'+str(n); nm_to_add = wd_df.shape[0]"
   ]
  },
  {
   "cell_type": "code",
   "execution_count": 56,
   "id": "00a56412",
   "metadata": {},
   "outputs": [],
   "source": [
    "wd = combine_wd_tables(setID=setID, nm_to_add=nm_to_add)"
   ]
  },
  {
   "cell_type": "code",
   "execution_count": 57,
   "id": "7e743f55",
   "metadata": {},
   "outputs": [
    {
     "data": {
      "text/plain": [
       "Index(['wetdet_delin_number', 'trsqq', 'parcel_id', 'address_location_desc',\n",
       "       'city', 'county', 'site_name', 'site_desc', 'latitude', 'longitude',\n",
       "       'DocumentName', 'DecisionLink', 'is_batch_file', 'status_name',\n",
       "       'received_date', 'Coord-Source', 'response_date',\n",
       "       'reissuance_response_date', 'project_id', 'site_id', 'record_ID',\n",
       "       'notes', 'recyear', 'IDyear', 'missinglot'],\n",
       "      dtype='object')"
      ]
     },
     "execution_count": 57,
     "metadata": {},
     "output_type": "execute_result"
    }
   ],
   "source": [
    "wd.columns"
   ]
  },
  {
   "cell_type": "code",
   "execution_count": 74,
   "id": "4f99eae1",
   "metadata": {},
   "outputs": [
    {
     "name": "stdout",
     "output_type": "stream",
     "text": [
      "trsqq 07N0908C has less than three numbers or letters\n"
     ]
    },
    {
     "data": {
      "text/plain": [
       "0      0.0\n",
       "1      0.0\n",
       "2      0.0\n",
       "3      0.0\n",
       "4      0.0\n",
       "      ... \n",
       "425    0.0\n",
       "426    0.0\n",
       "427    0.0\n",
       "428    0.0\n",
       "429    0.0\n",
       "Name: trsqq, Length: 430, dtype: float64"
      ]
     },
     "execution_count": 74,
     "metadata": {},
     "output_type": "execute_result"
    }
   ],
   "source": [
    "wd.trsqq.apply(lambda x: scan_trsqq(x))"
   ]
  },
  {
   "cell_type": "code",
   "execution_count": 75,
   "id": "2ef4fd8a",
   "metadata": {},
   "outputs": [
    {
     "data": {
      "text/html": [
       "<div>\n",
       "<style scoped>\n",
       "    .dataframe tbody tr th:only-of-type {\n",
       "        vertical-align: middle;\n",
       "    }\n",
       "\n",
       "    .dataframe tbody tr th {\n",
       "        vertical-align: top;\n",
       "    }\n",
       "\n",
       "    .dataframe thead th {\n",
       "        text-align: right;\n",
       "    }\n",
       "</style>\n",
       "<table border=\"1\" class=\"dataframe\">\n",
       "  <thead>\n",
       "    <tr style=\"text-align: right;\">\n",
       "      <th></th>\n",
       "      <th>wetdet_delin_number</th>\n",
       "      <th>trsqq</th>\n",
       "      <th>parcel_id</th>\n",
       "      <th>address_location_desc</th>\n",
       "      <th>city</th>\n",
       "      <th>county</th>\n",
       "      <th>site_name</th>\n",
       "      <th>site_desc</th>\n",
       "      <th>latitude</th>\n",
       "      <th>longitude</th>\n",
       "      <th>...</th>\n",
       "      <th>Coord-Source</th>\n",
       "      <th>response_date</th>\n",
       "      <th>reissuance_response_date</th>\n",
       "      <th>project_id</th>\n",
       "      <th>site_id</th>\n",
       "      <th>record_ID</th>\n",
       "      <th>notes</th>\n",
       "      <th>recyear</th>\n",
       "      <th>IDyear</th>\n",
       "      <th>missinglot</th>\n",
       "    </tr>\n",
       "  </thead>\n",
       "  <tbody>\n",
       "    <tr>\n",
       "      <th>124</th>\n",
       "      <td>WD2011-0047</td>\n",
       "      <td>07N0908C</td>\n",
       "      <td>600</td>\n",
       "      <td>Youngs River Rd, starting approx 1000 ft S of ...</td>\n",
       "      <td>Warrenton</td>\n",
       "      <td>Clatsop</td>\n",
       "      <td>07N09W08C</td>\n",
       "      <td>WD2011-0047 Proposed pipeline</td>\n",
       "      <td>46.1026</td>\n",
       "      <td>-123.8373</td>\n",
       "      <td>...</td>\n",
       "      <td>DSL Verified</td>\n",
       "      <td>2011-02-24</td>\n",
       "      <td>NaT</td>\n",
       "      <td>NaN</td>\n",
       "      <td>82099</td>\n",
       "      <td>5097</td>\n",
       "      <td></td>\n",
       "      <td>2011</td>\n",
       "      <td>2011</td>\n",
       "      <td>N</td>\n",
       "    </tr>\n",
       "  </tbody>\n",
       "</table>\n",
       "<p>1 rows × 25 columns</p>\n",
       "</div>"
      ],
      "text/plain": [
       "    wetdet_delin_number     trsqq parcel_id  \\\n",
       "124         WD2011-0047  07N0908C       600   \n",
       "\n",
       "                                 address_location_desc       city   county  \\\n",
       "124  Youngs River Rd, starting approx 1000 ft S of ...  Warrenton  Clatsop   \n",
       "\n",
       "     site_name                      site_desc  latitude  longitude  ...  \\\n",
       "124  07N09W08C  WD2011-0047 Proposed pipeline   46.1026  -123.8373  ...   \n",
       "\n",
       "     Coord-Source response_date reissuance_response_date project_id site_id  \\\n",
       "124  DSL Verified    2011-02-24                      NaT        NaN   82099   \n",
       "\n",
       "    record_ID notes recyear  IDyear  missinglot  \n",
       "124      5097          2011    2011           N  \n",
       "\n",
       "[1 rows x 25 columns]"
      ]
     },
     "execution_count": 75,
     "metadata": {},
     "output_type": "execute_result"
    }
   ],
   "source": [
    "wd[wd.trsqq=='07N0908C']"
   ]
  },
  {
   "cell_type": "code",
   "execution_count": 73,
   "id": "4cc16cbb",
   "metadata": {},
   "outputs": [],
   "source": [
    "url = wd.loc[wd.wetdet_delin_number == 'WD2011-0047', 'DecisionLink'].values[0]\n",
    "if str(url) == 'nan':\n",
    "    print('Decision link is not available')\n",
    "else:\n",
    "    webbrowser.open(url)"
   ]
  },
  {
   "cell_type": "code",
   "execution_count": 107,
   "id": "ab96dd80",
   "metadata": {},
   "outputs": [
    {
     "name": "stdout",
     "output_type": "stream",
     "text": [
      "it took 0.0 minutes to complete\n",
      "it is about 13.02% of data in the original 430 records unmatched\n",
      "there are 0 records (0.0% of the original records) without parcel id\n"
     ]
    }
   ],
   "source": [
    "wd, setgdf, unmatched_df = run_Tier1(setID=setID, nm_to_add=nm_to_add, all_taxlot=all_taxlot)"
   ]
  },
  {
   "cell_type": "code",
   "execution_count": 108,
   "id": "81ac5b24",
   "metadata": {},
   "outputs": [
    {
     "name": "stdout",
     "output_type": "stream",
     "text": [
      "reviewing WD2014-0179\n",
      "all lots are matched...\n",
      "corrected trsqq...\n",
      "reviewing WD2009-0135\n",
      "there is not any matched lot, need to review trsqq, the close-match is 02S03E17\n",
      "lots to check: ['201'], and lots to compare: ['1200', '1300', '1301', '1302', '1400', '1490', '1500', '1501', '1502', '1503', '1600', '1601', '1700', '1800', '1801', '1802', '1900', '2000', '2100', '2200', '2300', '2400', '2401', '2500', '2600', '2700', '2701', '2702', '2900', '3000', '3100', '3200', '3300', '3400', '3401', '3500', 'ROADS', 'WATER']\n",
      "reviewing WD2008-0325\n",
      "there is not any matched lot, need to review trsqq, the close-match is 08N10W27CA\n",
      "lots to check: ['201'], and lots to compare: ['100', '200', '300', '400', 'ROADS']\n",
      "reviewing WD2016-0001\n",
      "all lots are matched...\n",
      "corrected trsqq...\n",
      "reviewing WD2016-0255\n",
      "all lots are matched...\n",
      "corrected trsqq...\n",
      "reviewing WD2012-0073\n",
      "there is not any matched lot, need to review trsqq, the close-match is 17S12E06\n",
      "lots to check: ['4800', '4900'], and lots to compare: ['100', '200', '201', '300', '301', '302', '701', '705', '1000', '1001', '1002', '1100', '1101', '1102', '1103', '1104']\n",
      "reviewing WD2015-0283\n",
      "all lots are matched...\n",
      "corrected trsqq...\n",
      "reviewing WD2015-0449\n",
      "all lots are matched...\n",
      "corrected trsqq...\n",
      "reviewing WD2008-0343\n",
      "there is not any matched lot, need to review trsqq, the close-match is 08N10W27DD\n",
      "lots to check: ['202'], and lots to compare: ['100', '102', '200', '300', '400', '500', '600', '700', '800', '900', '1000', '1100', '1200', '1300', '1400', '1500', '1700', '1800', '1900', '2000', '2100', '2200', '2300', '2400', '2500', '2600', '2700', '2800', '2900', '3000', '3100', '3200', '3203', '3300', '3301', '3400', '3401', '3500', '3600', '3700', '3800', '3900', '4000', '4100', '4200', '4300', '4400', '4500', '4600', '5000', '5400', '5401', '5800', '5900', '6000', '6100', '6200', '6300', '6400', '6500', '6600', '6700', '6800', '6900', '7000', '7100', '7200', '7300', '7400', '7500', '7600', '7700', 'ROADS']\n",
      "reviewing WD2013-0169\n",
      "all lots are matched...\n",
      "corrected trsqq...\n",
      "reviewing WD2011-0047\n",
      "all lots are matched...\n",
      "corrected trsqq...\n",
      "reviewing WD2015-0297\n",
      "all lots are matched...\n",
      "corrected trsqq...\n",
      "reviewing WD2015-0266\n",
      "all lots are matched...\n",
      "corrected trsqq...\n",
      "reviewing WD2009-0289\n",
      "all lots are matched...\n",
      "corrected trsqq...\n",
      "reviewing WD2013-0130\n",
      "all lots are matched...\n",
      "corrected trsqq...\n",
      "reviewing WD2009-0155\n",
      "all lots are matched...\n",
      "corrected trsqq...\n",
      "reviewing WD2015-0061\n",
      "all lots are matched...\n",
      "corrected trsqq...\n",
      "reviewing WD2008-0294\n",
      "trsqq matched, checking county code...\n",
      "county code is corrected, need to check lot numbers...\n",
      "lot numbers might be wrong...\n",
      "reviewing WD2008-0302\n",
      "all lots are matched...\n",
      "corrected trsqq...\n"
     ]
    }
   ],
   "source": [
    "r1_df, r2_df = run_Tier2_step1(setID=setID, unmatched_df=unmatched_df, all_taxlot=all_taxlot)"
   ]
  },
  {
   "cell_type": "markdown",
   "id": "d595bffd",
   "metadata": {},
   "source": [
    "Manual run notes_review_set6 to get correction notes"
   ]
  },
  {
   "cell_type": "code",
   "execution_count": 10,
   "id": "d65c5b69",
   "metadata": {
    "scrolled": true
   },
   "outputs": [
    {
     "name": "stdout",
     "output_type": "stream",
     "text": [
      "it is about 4.65% of data in the original 602 records unmatched\n",
      "there are 0 records (0.0% of the original records) without parcel id\n"
     ]
    }
   ],
   "source": [
    "matched, unmatched_df = run_Tier2_step3(r1_df=r1_df, r2_df=r2_df, setID=setID, nm_to_add=nm_to_add, \n",
    "                                        wd=wd, all_taxlot=all_taxlot)"
   ]
  },
  {
   "cell_type": "code",
   "execution_count": 28,
   "id": "0c88fbad",
   "metadata": {},
   "outputs": [
    {
     "data": {
      "text/plain": [
       "322"
      ]
     },
     "execution_count": 28,
     "metadata": {},
     "output_type": "execute_result"
    }
   ],
   "source": [
    "len(wd.wetdet_delin_number.unique())"
   ]
  },
  {
   "cell_type": "code",
   "execution_count": 30,
   "id": "153fe885",
   "metadata": {},
   "outputs": [
    {
     "data": {
      "text/plain": [
       "True"
      ]
     },
     "execution_count": 30,
     "metadata": {},
     "output_type": "execute_result"
    }
   ],
   "source": [
    "'WD2018-0660' in matched.wdID.unique()"
   ]
  }
 ],
 "metadata": {
  "kernelspec": {
   "display_name": "Python 3",
   "language": "python",
   "name": "python3"
  },
  "language_info": {
   "codemirror_mode": {
    "name": "ipython",
    "version": 3
   },
   "file_extension": ".py",
   "mimetype": "text/x-python",
   "name": "python",
   "nbconvert_exporter": "python",
   "pygments_lexer": "ipython3",
   "version": "3.8.8"
  }
 },
 "nbformat": 4,
 "nbformat_minor": 5
}
