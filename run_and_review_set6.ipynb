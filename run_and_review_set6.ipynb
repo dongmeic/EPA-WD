{
 "cells": [
  {
   "cell_type": "code",
   "execution_count": 1,
   "id": "b5fb740d",
   "metadata": {},
   "outputs": [],
   "source": [
    "%load_ext autoreload\n",
    "%autoreload 2"
   ]
  },
  {
   "cell_type": "code",
   "execution_count": 2,
   "id": "f4728754",
   "metadata": {},
   "outputs": [],
   "source": [
    "from wdtools import *"
   ]
  },
  {
   "cell_type": "code",
   "execution_count": 3,
   "id": "a19bb634",
   "metadata": {},
   "outputs": [
    {
     "name": "stdout",
     "output_type": "stream",
     "text": [
      "it took 9.0 minutes to complete\n"
     ]
    }
   ],
   "source": [
    "# this can take about 9 - 11 minutes\n",
    "start = time.time()\n",
    "all_taxlot = combine_taxlot()\n",
    "end = time.time()\n",
    "print(f'it took {round((end - start)/60, 0)} minutes to complete')"
   ]
  },
  {
   "cell_type": "code",
   "execution_count": 4,
   "id": "146fa5d9",
   "metadata": {},
   "outputs": [],
   "source": [
    "wd_df = get_all_wd(num=5)"
   ]
  },
  {
   "cell_type": "code",
   "execution_count": 5,
   "id": "f7a81760",
   "metadata": {},
   "outputs": [
    {
     "data": {
      "text/plain": [
       "Index(['wetdet_delin_number', 'trsqq', 'parcel_id', 'address_location_desc',\n",
       "       'city', 'county', 'site_name', 'site_desc', 'latitude', 'longitude',\n",
       "       'Coord-Source', 'DocumentName', 'DecisionLink', 'is_batch_file',\n",
       "       'status_name', 'received_date', 'response_date',\n",
       "       'reissuance_response_date', 'project_id', 'site_id', 'record_ID',\n",
       "       'notes', 'recyear', 'IDyear', 'missinglot', 'SetID'],\n",
       "      dtype='object')"
      ]
     },
     "execution_count": 5,
     "metadata": {},
     "output_type": "execute_result"
    }
   ],
   "source": [
    "wd_df.columns"
   ]
  },
  {
   "cell_type": "code",
   "execution_count": 5,
   "id": "84811db0",
   "metadata": {},
   "outputs": [
    {
     "data": {
      "text/plain": [
       "(4370, 26)"
      ]
     },
     "execution_count": 5,
     "metadata": {},
     "output_type": "execute_result"
    }
   ],
   "source": [
    "wd_df.shape"
   ]
  },
  {
   "cell_type": "code",
   "execution_count": 6,
   "id": "81d0c0df",
   "metadata": {},
   "outputs": [
    {
     "data": {
      "text/plain": [
       "4370"
      ]
     },
     "execution_count": 6,
     "metadata": {},
     "output_type": "execute_result"
    }
   ],
   "source": [
    "3932 + wd_df[wd_df.SetID == 5].shape[0]"
   ]
  },
  {
   "cell_type": "code",
   "execution_count": 4,
   "id": "6f280e0b",
   "metadata": {
    "scrolled": true
   },
   "outputs": [],
   "source": [
    "setID = 'Set006'; nm_to_add = 4370"
   ]
  },
  {
   "cell_type": "code",
   "execution_count": 9,
   "id": "ab96dd80",
   "metadata": {},
   "outputs": [
    {
     "name": "stdout",
     "output_type": "stream",
     "text": [
      "it took 0.0 minutes to complete\n",
      "it is about 6.31% of data in the original 602 records unmatched\n",
      "there are 0 records (0.0% of the original records) without parcel id\n"
     ]
    }
   ],
   "source": [
    "wd, setgdf, unmatched_df = run_Tier1(setID=setID, nm_to_add=nm_to_add, all_taxlot=all_taxlot)"
   ]
  },
  {
   "cell_type": "code",
   "execution_count": 6,
   "id": "81ac5b24",
   "metadata": {},
   "outputs": [
    {
     "name": "stdout",
     "output_type": "stream",
     "text": [
      "reviewing WD2022-0474\n",
      "coordinate might be incorrect, nearby taxlot is 2903.00N11.00W0100--000000100, about 133011 ft away\n",
      "reviewing WD2022-0604\n",
      "all lots are matched...\n",
      "corrected trsqq...\n",
      "reviewing WD2022-0483\n",
      "all lots are matched...\n",
      "corrected trsqq...\n",
      "reviewing WD2022-0695\n",
      "there is not any matched lot, need to review trsqq, the close-match is 17S03W30A\n",
      "lots to check: ['1302'], and lots to compare: ['S00100820', 'S00100821', 'S00100822', 'S00100823', 'S00100824', 'S00100828', 'S00100829', 'S00100830', 'S00100831', 'S00100832', 'S00100833', 'S00100834', 'S00201700', 'S00290000', 'S00290001', 'S00290002', 'S00290003', 'S00290004', 'S00290005', 'S00290006', 'S00290007', 'S00290008', 'S00290009', 'S00290010', 'S00290011', 'S00290012', 'S00290013', 'S00290014', 'S00290015', 'S00290016', 'S00290017', 'S00290018', 'S00290019', 'S00290020', 'S00290021', 'S00290022', 'S00290023', 'S00290024', 'S00290025', 'S00290026', 'S00290027', 'S00290028', 'T00000202', 'T00000203', 'T00000204', 'T00000300', 'T00000301', 'T00000302', 'T00000303', 'T00000800', 'T00000801', 'T00000807', 'T00000810', 'T00000811', 'T00000812', 'T00000813', 'T00000814', 'T00000815', 'T00000816', 'T00000817', 'T00000818', 'T00000819', 'T00000825', 'T00000826', 'T00000827', 'T00001001', 'T00001003', 'T00001100', 'T00001300', 'T00001301', 'T00001302', 'T00001400', 'T00001800', 'T00002400', 'T00002600', 'T00002700', 'T00002900', 'T00002901', 'T00002902', 'T00003000', 'T00003001', 'T00003100', 'T00003101', 'T00003102', 'T00003103', 'T00003104', 'T00003105', 'T00003106', 'T00003107', 'T00003108', 'T00003109', 'T00003200', 'T00003202', 'T00003203', 'T00003300', 'T00003400', 'T00003500', 'T00003600', 'T00003700', 'T00003800', 'T00003900', 'T00004000', 'T00004100', 'T00004200', 'T00004300', 'T00004400', 'T00004500', 'T00004600', 'T00004700', 'T00004800', 'T00004900', 'T00005000', 'T00005100', 'T00005200', 'T00005300', 'T00005400', 'T00005500', 'T00005600', 'T00005700', 'T00005800', 'T00005900', 'T00006000', 'T00006100', 'T00006200', 'T00006300', 'T00006400', 'T00006500', 'T00006600', 'ROADS', 'WATER']\n",
      "reviewing WD2022-0636\n",
      "trsqq matched, checking county code...\n",
      "corrected county...\n",
      "reviewing WD2022-0435\n",
      "some lots are not matched, need to review trsqq, the close-match is 08N10W25\n",
      "lots to check: ['101', '700', 'ROADS'], and lots to compare: ['100', '200', '201', '300', '400', '500', '501', '502', '503', '504', '600', '700', '701', '702', '703', '704', '800', '900', '1000', '1100', '1200', '1201', '1300', '1400', '1500', 'ROADS', 'WATER']\n",
      "reviewing WD2022-0436\n",
      "all lots are matched...\n",
      "corrected trsqq...\n",
      "reviewing WD2022-0656\n",
      "all lots are matched...\n",
      "corrected trsqq...\n",
      "reviewing WD2022-0448\n",
      "trsqq matched, checking county code...\n",
      "county code is corrected, need to check lot numbers...\n",
      "lot numbers might be wrong...\n",
      "reviewing WD2022-0489\n",
      "all lots are matched...\n",
      "corrected trsqq...\n"
     ]
    }
   ],
   "source": [
    "r1_df, r2_df = run_Tier2_step1(setID=setID, unmatched_df=unmatched_df, all_taxlot=all_taxlot)"
   ]
  },
  {
   "cell_type": "markdown",
   "id": "d595bffd",
   "metadata": {},
   "source": [
    "Manual run notes_review_set6 to get correction notes"
   ]
  },
  {
   "cell_type": "code",
   "execution_count": 10,
   "id": "d65c5b69",
   "metadata": {
    "scrolled": true
   },
   "outputs": [
    {
     "name": "stdout",
     "output_type": "stream",
     "text": [
      "it is about 4.65% of data in the original 602 records unmatched\n",
      "there are 0 records (0.0% of the original records) without parcel id\n"
     ]
    }
   ],
   "source": [
    "matched, unmatched_df = run_Tier2_step3(r1_df=r1_df, r2_df=r2_df, setID=setID, nm_to_add=nm_to_add, \n",
    "                                        wd=wd, all_taxlot=all_taxlot)"
   ]
  },
  {
   "cell_type": "code",
   "execution_count": 28,
   "id": "0c88fbad",
   "metadata": {},
   "outputs": [
    {
     "data": {
      "text/plain": [
       "322"
      ]
     },
     "execution_count": 28,
     "metadata": {},
     "output_type": "execute_result"
    }
   ],
   "source": [
    "len(wd.wetdet_delin_number.unique())"
   ]
  },
  {
   "cell_type": "code",
   "execution_count": 30,
   "id": "153fe885",
   "metadata": {},
   "outputs": [
    {
     "data": {
      "text/plain": [
       "True"
      ]
     },
     "execution_count": 30,
     "metadata": {},
     "output_type": "execute_result"
    }
   ],
   "source": [
    "'WD2018-0660' in matched.wdID.unique()"
   ]
  }
 ],
 "metadata": {
  "kernelspec": {
   "display_name": "Python 3",
   "language": "python",
   "name": "python3"
  },
  "language_info": {
   "codemirror_mode": {
    "name": "ipython",
    "version": 3
   },
   "file_extension": ".py",
   "mimetype": "text/x-python",
   "name": "python",
   "nbconvert_exporter": "python",
   "pygments_lexer": "ipython3",
   "version": "3.8.8"
  }
 },
 "nbformat": 4,
 "nbformat_minor": 5
}
