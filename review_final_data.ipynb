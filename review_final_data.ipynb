{
 "cells": [
  {
   "cell_type": "code",
   "execution_count": 1,
   "id": "4ff32a42",
   "metadata": {},
   "outputs": [],
   "source": [
    "%load_ext autoreload\n",
    "%autoreload 2"
   ]
  },
  {
   "cell_type": "code",
   "execution_count": 2,
   "id": "3f5e71d7",
   "metadata": {},
   "outputs": [],
   "source": [
    "from wdtools import *"
   ]
  },
  {
   "cell_type": "code",
   "execution_count": 6,
   "id": "4cdc6650",
   "metadata": {},
   "outputs": [],
   "source": [
    "setID = 'Set001'"
   ]
  },
  {
   "cell_type": "code",
   "execution_count": 7,
   "id": "7182ff41",
   "metadata": {},
   "outputs": [],
   "source": [
    "gdf = gpd.read_file(outpath + f'\\\\final\\mapped_wd_{setID}.shp')"
   ]
  },
  {
   "cell_type": "code",
   "execution_count": 8,
   "id": "8477340c",
   "metadata": {},
   "outputs": [
    {
     "data": {
      "text/plain": [
       "True"
      ]
     },
     "execution_count": 8,
     "metadata": {},
     "output_type": "execute_result"
    }
   ],
   "source": [
    "len(gdf.wdID.unique())==gdf.shape[0]"
   ]
  },
  {
   "cell_type": "code",
   "execution_count": 4,
   "id": "cee4f78e",
   "metadata": {},
   "outputs": [
    {
     "data": {
      "text/plain": [
       "'L:\\\\NaturalResources\\\\Wetlands\\\\Local Wetland Inventory\\\\WAPO\\\\EPA_2022_Tasks\\\\Task 1 WD Mapping'"
      ]
     },
     "execution_count": 4,
     "metadata": {},
     "output_type": "execute_result"
    }
   ],
   "source": [
    "L:\\NaturalResources\\Wetlands\\Local Wetland Inventory\\WAPO\\EPA_2022_Tasks\\Task 1 WD Mapping\\"
   ]
  },
  {
   "cell_type": "code",
   "execution_count": 5,
   "id": "0d5c6823",
   "metadata": {},
   "outputs": [],
   "source": [
    "Lane = gpd.read_file(inpath+'\\\\GIS\\\\Join_LaneCounty.gdb', layer='WDs_LaneCo_Complete')"
   ]
  },
  {
   "cell_type": "code",
   "execution_count": 10,
   "id": "b09cd08f",
   "metadata": {},
   "outputs": [
    {
     "data": {
      "text/plain": [
       "Index(['wetdet_delin_number', 'trsqq', 'parcel_id', 'address_location_desc',\n",
       "       'city', 'county', 'site_name', 'site_desc', 'latitude', 'longitude',\n",
       "       'Coord_Source', 'DocumentName', 'DecisionLink', 'is_batch_file',\n",
       "       'status_name', 'received_date', 'response_date',\n",
       "       'reissuance_response_date', 'project_id', 'site_id', 'latitude_NewCalc',\n",
       "       'longitude_NewCalc', 'NewLatLongCoordSource', 'Shape_Length',\n",
       "       'Shape_Area', 'geometry'],\n",
       "      dtype='object')"
      ]
     },
     "execution_count": 10,
     "metadata": {},
     "output_type": "execute_result"
    }
   ],
   "source": [
    "Lane.columns"
   ]
  },
  {
   "cell_type": "code",
   "execution_count": 8,
   "id": "6cda12db",
   "metadata": {},
   "outputs": [
    {
     "data": {
      "text/plain": [
       "1646"
      ]
     },
     "execution_count": 8,
     "metadata": {},
     "output_type": "execute_result"
    }
   ],
   "source": [
    "len(Lane.wetdet_delin_number.unique())"
   ]
  },
  {
   "cell_type": "code",
   "execution_count": 9,
   "id": "03d8058f",
   "metadata": {
    "scrolled": true
   },
   "outputs": [
    {
     "data": {
      "text/plain": [
       "2488"
      ]
     },
     "execution_count": 9,
     "metadata": {},
     "output_type": "execute_result"
    }
   ],
   "source": [
    "Lane.shape[0]"
   ]
  },
  {
   "cell_type": "code",
   "execution_count": 11,
   "id": "a555c178",
   "metadata": {},
   "outputs": [
    {
     "data": {
      "text/html": [
       "<div>\n",
       "<style scoped>\n",
       "    .dataframe tbody tr th:only-of-type {\n",
       "        vertical-align: middle;\n",
       "    }\n",
       "\n",
       "    .dataframe tbody tr th {\n",
       "        vertical-align: top;\n",
       "    }\n",
       "\n",
       "    .dataframe thead th {\n",
       "        text-align: right;\n",
       "    }\n",
       "</style>\n",
       "<table border=\"1\" class=\"dataframe\">\n",
       "  <thead>\n",
       "    <tr style=\"text-align: right;\">\n",
       "      <th></th>\n",
       "      <th>wetdet_delin_number</th>\n",
       "      <th>trsqq</th>\n",
       "      <th>parcel_id</th>\n",
       "      <th>address_location_desc</th>\n",
       "      <th>city</th>\n",
       "      <th>county</th>\n",
       "      <th>site_name</th>\n",
       "      <th>site_desc</th>\n",
       "      <th>latitude</th>\n",
       "      <th>longitude</th>\n",
       "      <th>...</th>\n",
       "      <th>response_date</th>\n",
       "      <th>reissuance_response_date</th>\n",
       "      <th>project_id</th>\n",
       "      <th>site_id</th>\n",
       "      <th>latitude_NewCalc</th>\n",
       "      <th>longitude_NewCalc</th>\n",
       "      <th>NewLatLongCoordSource</th>\n",
       "      <th>Shape_Length</th>\n",
       "      <th>Shape_Area</th>\n",
       "      <th>geometry</th>\n",
       "    </tr>\n",
       "  </thead>\n",
       "  <tbody>\n",
       "    <tr>\n",
       "      <th>0</th>\n",
       "      <td>WD1996-0467</td>\n",
       "      <td>18S04W22</td>\n",
       "      <td>1500</td>\n",
       "      <td>85949 LORANE HWY</td>\n",
       "      <td></td>\n",
       "      <td>Lane</td>\n",
       "      <td>SPENCER CREEK - 18S04W22</td>\n",
       "      <td></td>\n",
       "      <td>43.989850</td>\n",
       "      <td>-123.157000</td>\n",
       "      <td>...</td>\n",
       "      <td>1996-10-07T00:00:00+00:00</td>\n",
       "      <td>None</td>\n",
       "      <td>29249.0</td>\n",
       "      <td>32591</td>\n",
       "      <td>43.992457</td>\n",
       "      <td>-123.156391</td>\n",
       "      <td>Portion of study area in trsqq Automated mapping</td>\n",
       "      <td>1463.745208</td>\n",
       "      <td>1.006618e+05</td>\n",
       "      <td>MULTIPOLYGON (((613801.848 828585.925, 613649....</td>\n",
       "    </tr>\n",
       "    <tr>\n",
       "      <th>1</th>\n",
       "      <td>WD2020-0589</td>\n",
       "      <td>17S03W31DB</td>\n",
       "      <td>3700,3800,3900</td>\n",
       "      <td>1100 Charnelton St</td>\n",
       "      <td>Eugene</td>\n",
       "      <td>Lane</td>\n",
       "      <td>1100 Charnelton St</td>\n",
       "      <td>WD2020-0589 OHCS offsite</td>\n",
       "      <td>44.047389</td>\n",
       "      <td>-123.096107</td>\n",
       "      <td>...</td>\n",
       "      <td>2021-02-16T00:00:00+00:00</td>\n",
       "      <td>None</td>\n",
       "      <td>80828.0</td>\n",
       "      <td>134377</td>\n",
       "      <td>44.047458</td>\n",
       "      <td>-123.096227</td>\n",
       "      <td>Portion of study area in trsqq Automated mapping</td>\n",
       "      <td>559.124823</td>\n",
       "      <td>1.914147e+04</td>\n",
       "      <td>MULTIPOLYGON (((630052.317 848212.087, 630050....</td>\n",
       "    </tr>\n",
       "    <tr>\n",
       "      <th>2</th>\n",
       "      <td>WD2007-0199</td>\n",
       "      <td>18S06W01</td>\n",
       "      <td>1701,1702,1800,1801</td>\n",
       "      <td>On the NW and SE sides of Bolton Hill Rd 3/4 o...</td>\n",
       "      <td>Veneta</td>\n",
       "      <td>Lane</td>\n",
       "      <td>Bolton Hill  17S06W36</td>\n",
       "      <td>Residential development</td>\n",
       "      <td>44.040600</td>\n",
       "      <td>-123.366400</td>\n",
       "      <td>...</td>\n",
       "      <td>2008-02-06T00:00:00+00:00</td>\n",
       "      <td>None</td>\n",
       "      <td>NaN</td>\n",
       "      <td>75633</td>\n",
       "      <td>44.039395</td>\n",
       "      <td>-123.367912</td>\n",
       "      <td>Portion of study area in trsqq Automated mapping</td>\n",
       "      <td>9577.533792</td>\n",
       "      <td>2.277620e+06</td>\n",
       "      <td>MULTIPOLYGON (((559487.129 847628.646, 559482....</td>\n",
       "    </tr>\n",
       "  </tbody>\n",
       "</table>\n",
       "<p>3 rows × 26 columns</p>\n",
       "</div>"
      ],
      "text/plain": [
       "  wetdet_delin_number       trsqq            parcel_id  \\\n",
       "0         WD1996-0467    18S04W22                 1500   \n",
       "1         WD2020-0589  17S03W31DB       3700,3800,3900   \n",
       "2         WD2007-0199    18S06W01  1701,1702,1800,1801   \n",
       "\n",
       "                               address_location_desc    city county  \\\n",
       "0                                   85949 LORANE HWY           Lane   \n",
       "1                                 1100 Charnelton St  Eugene   Lane   \n",
       "2  On the NW and SE sides of Bolton Hill Rd 3/4 o...  Veneta   Lane   \n",
       "\n",
       "                  site_name                 site_desc   latitude   longitude  \\\n",
       "0  SPENCER CREEK - 18S04W22                            43.989850 -123.157000   \n",
       "1        1100 Charnelton St  WD2020-0589 OHCS offsite  44.047389 -123.096107   \n",
       "2     Bolton Hill  17S06W36   Residential development  44.040600 -123.366400   \n",
       "\n",
       "   ...              response_date reissuance_response_date project_id site_id  \\\n",
       "0  ...  1996-10-07T00:00:00+00:00                     None    29249.0   32591   \n",
       "1  ...  2021-02-16T00:00:00+00:00                     None    80828.0  134377   \n",
       "2  ...  2008-02-06T00:00:00+00:00                     None        NaN   75633   \n",
       "\n",
       "  latitude_NewCalc longitude_NewCalc  \\\n",
       "0        43.992457       -123.156391   \n",
       "1        44.047458       -123.096227   \n",
       "2        44.039395       -123.367912   \n",
       "\n",
       "                              NewLatLongCoordSource Shape_Length  \\\n",
       "0  Portion of study area in trsqq Automated mapping  1463.745208   \n",
       "1  Portion of study area in trsqq Automated mapping   559.124823   \n",
       "2  Portion of study area in trsqq Automated mapping  9577.533792   \n",
       "\n",
       "     Shape_Area                                           geometry  \n",
       "0  1.006618e+05  MULTIPOLYGON (((613801.848 828585.925, 613649....  \n",
       "1  1.914147e+04  MULTIPOLYGON (((630052.317 848212.087, 630050....  \n",
       "2  2.277620e+06  MULTIPOLYGON (((559487.129 847628.646, 559482....  \n",
       "\n",
       "[3 rows x 26 columns]"
      ]
     },
     "execution_count": 11,
     "metadata": {},
     "output_type": "execute_result"
    }
   ],
   "source": [
    "Lane.head(3)"
   ]
  }
 ],
 "metadata": {
  "kernelspec": {
   "display_name": "Python 3",
   "language": "python",
   "name": "python3"
  },
  "language_info": {
   "codemirror_mode": {
    "name": "ipython",
    "version": 3
   },
   "file_extension": ".py",
   "mimetype": "text/x-python",
   "name": "python",
   "nbconvert_exporter": "python",
   "pygments_lexer": "ipython3",
   "version": "3.8.8"
  }
 },
 "nbformat": 4,
 "nbformat_minor": 5
}
