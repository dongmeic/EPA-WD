{
 "cells": [
  {
   "cell_type": "code",
   "execution_count": 1,
   "id": "4ff32a42",
   "metadata": {},
   "outputs": [],
   "source": [
    "%load_ext autoreload\n",
    "%autoreload 2"
   ]
  },
  {
   "cell_type": "code",
   "execution_count": 2,
   "id": "3f5e71d7",
   "metadata": {},
   "outputs": [],
   "source": [
    "from wdtools import *"
   ]
  },
  {
   "cell_type": "code",
   "execution_count": 6,
   "id": "4cdc6650",
   "metadata": {},
   "outputs": [],
   "source": [
    "setID = 'Set001'"
   ]
  },
  {
   "cell_type": "code",
   "execution_count": 7,
   "id": "7182ff41",
   "metadata": {},
   "outputs": [],
   "source": [
    "gdf = gpd.read_file(outpath + f'\\\\final\\mapped_wd_{setID}.shp')"
   ]
  },
  {
   "cell_type": "code",
   "execution_count": 8,
   "id": "8477340c",
   "metadata": {},
   "outputs": [
    {
     "data": {
      "text/plain": [
       "True"
      ]
     },
     "execution_count": 8,
     "metadata": {},
     "output_type": "execute_result"
    }
   ],
   "source": [
    "len(gdf.wdID.unique())==gdf.shape[0]"
   ]
  }
 ],
 "metadata": {
  "kernelspec": {
   "display_name": "Python 3",
   "language": "python",
   "name": "python3"
  },
  "language_info": {
   "codemirror_mode": {
    "name": "ipython",
    "version": 3
   },
   "file_extension": ".py",
   "mimetype": "text/x-python",
   "name": "python",
   "nbconvert_exporter": "python",
   "pygments_lexer": "ipython3",
   "version": "3.8.8"
  }
 },
 "nbformat": 4,
 "nbformat_minor": 5
}
