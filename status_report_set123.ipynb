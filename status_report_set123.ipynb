{
 "cells": [
  {
   "cell_type": "code",
   "execution_count": 1,
   "id": "166e573d",
   "metadata": {},
   "outputs": [],
   "source": [
    "import geopandas as gpd\n",
    "import pandas as pd\n",
    "import os\n",
    "from collections import Counter\n",
    "from datetime import date\n",
    "import openpyxl\n",
    "from win32com.client import Dispatch\n",
    "from wdtools import *"
   ]
  },
  {
   "cell_type": "code",
   "execution_count": 2,
   "id": "d9c4ed88",
   "metadata": {},
   "outputs": [],
   "source": [
    "def count_lst_ele(lst, ctnm):\n",
    "    qaqc_cnt = [*map(wdcnt_dict.get, lst)]\n",
    "    freq = Counter(qaqc_cnt)\n",
    "    df = pd.DataFrame(sorted(freq.items()))\n",
    "    df.columns = ['county', ctnm]\n",
    "    return df\n",
    "\n",
    "def read_list(setid):\n",
    "    with open(os.path.join(inpath, f\"{setid}_mapped.pkl\"), \"rb\") as f:\n",
    "        lst = pickle.load(f)\n",
    "    return lst\n",
    "\n",
    "# clean all formats\n",
    "def removeFormatting(ws):\n",
    "    # ws is not the worksheet name, but the worksheet object\n",
    "    for row in ws.iter_rows():\n",
    "        for cell in row:\n",
    "            cell.style = 'Normal'\n",
    "    return ws"
   ]
  },
  {
   "cell_type": "code",
   "execution_count": 29,
   "id": "0f53ee3b",
   "metadata": {},
   "outputs": [],
   "source": [
    "def reformat(file):\n",
    "    dat = pd.read_excel(file)\n",
    "    wb = openpyxl.load_workbook(file)\n",
    "    ws = wb.active\n",
    "    ws = removeFormatting(ws)\n",
    "    wb.save(file)\n",
    "    print(\"Removed format\")\n",
    "    excel = Dispatch('Excel.Application')\n",
    "    wb = excel.Workbooks.Open(file)\n",
    "    excel.Worksheets(1).Activate()\n",
    "    excel.ActiveSheet.Columns.AutoFit()\n",
    "    wb.Close(True)\n",
    "    print(\"Autofitted columns...\")"
   ]
  },
  {
   "cell_type": "code",
   "execution_count": 3,
   "id": "776872ca",
   "metadata": {},
   "outputs": [],
   "source": [
    "sets = list(map(lambda x: 'Set00'+x, ['1', '2', '3']))"
   ]
  },
  {
   "cell_type": "code",
   "execution_count": 4,
   "id": "af757a35",
   "metadata": {},
   "outputs": [],
   "source": [
    "nm2add = [0, 1420, 2143]"
   ]
  },
  {
   "cell_type": "code",
   "execution_count": 5,
   "id": "fb6484a4",
   "metadata": {},
   "outputs": [],
   "source": [
    "dat = []"
   ]
  },
  {
   "cell_type": "code",
   "execution_count": 6,
   "id": "c2c82e99",
   "metadata": {},
   "outputs": [],
   "source": [
    "for setid in sets:\n",
    "    df = combine_wd_tables(setID=setid, nm_to_add=nm2add[sets.index(setid)])\n",
    "    df.loc[:, 'SetID'] = setid\n",
    "    dat.append(df)"
   ]
  },
  {
   "cell_type": "code",
   "execution_count": 7,
   "id": "99142253",
   "metadata": {},
   "outputs": [],
   "source": [
    "data=pd.concat(dat)"
   ]
  },
  {
   "cell_type": "code",
   "execution_count": 8,
   "id": "035437fc",
   "metadata": {},
   "outputs": [
    {
     "data": {
      "text/plain": [
       "(2878, 26)"
      ]
     },
     "execution_count": 8,
     "metadata": {},
     "output_type": "execute_result"
    }
   ],
   "source": [
    "data.shape"
   ]
  },
  {
   "cell_type": "code",
   "execution_count": 9,
   "id": "fe0226d0",
   "metadata": {},
   "outputs": [
    {
     "data": {
      "text/plain": [
       "Index(['wetdet_delin_number', 'trsqq', 'parcel_id', 'address_location_desc',\n",
       "       'city', 'county', 'site_name', 'site_desc', 'latitude', 'longitude',\n",
       "       'Coord-Source', 'DocumentName', 'DecisionLink', 'is_batch_file',\n",
       "       'status_name', 'received_date', 'response_date',\n",
       "       'reissuance_response_date', 'project_id', 'site_id', 'record_ID',\n",
       "       'notes', 'recyear', 'IDyear', 'missinglot', 'SetID'],\n",
       "      dtype='object')"
      ]
     },
     "execution_count": 9,
     "metadata": {},
     "output_type": "execute_result"
    }
   ],
   "source": [
    "data.columns"
   ]
  },
  {
   "cell_type": "code",
   "execution_count": 10,
   "id": "333112c4",
   "metadata": {},
   "outputs": [],
   "source": [
    "data.loc[data.county=='TIllamook', 'county'] = 'Tillamook'"
   ]
  },
  {
   "cell_type": "code",
   "execution_count": 11,
   "id": "d54c973e",
   "metadata": {},
   "outputs": [
    {
     "data": {
      "text/html": [
       "<div>\n",
       "<style scoped>\n",
       "    .dataframe tbody tr th:only-of-type {\n",
       "        vertical-align: middle;\n",
       "    }\n",
       "\n",
       "    .dataframe tbody tr th {\n",
       "        vertical-align: top;\n",
       "    }\n",
       "\n",
       "    .dataframe thead th {\n",
       "        text-align: right;\n",
       "    }\n",
       "</style>\n",
       "<table border=\"1\" class=\"dataframe\">\n",
       "  <thead>\n",
       "    <tr style=\"text-align: right;\">\n",
       "      <th></th>\n",
       "      <th>SetID</th>\n",
       "      <th>wetdet_delin_number</th>\n",
       "    </tr>\n",
       "  </thead>\n",
       "  <tbody>\n",
       "    <tr>\n",
       "      <th>0</th>\n",
       "      <td>Set001</td>\n",
       "      <td>1003</td>\n",
       "    </tr>\n",
       "    <tr>\n",
       "      <th>1</th>\n",
       "      <td>Set002</td>\n",
       "      <td>434</td>\n",
       "    </tr>\n",
       "    <tr>\n",
       "      <th>2</th>\n",
       "      <td>Set003</td>\n",
       "      <td>433</td>\n",
       "    </tr>\n",
       "  </tbody>\n",
       "</table>\n",
       "</div>"
      ],
      "text/plain": [
       "    SetID  wetdet_delin_number\n",
       "0  Set001                 1003\n",
       "1  Set002                  434\n",
       "2  Set003                  433"
      ]
     },
     "execution_count": 11,
     "metadata": {},
     "output_type": "execute_result"
    }
   ],
   "source": [
    "data.groupby('SetID', as_index=False)['wetdet_delin_number'].nunique()"
   ]
  },
  {
   "cell_type": "code",
   "execution_count": 12,
   "id": "24b5aeac",
   "metadata": {},
   "outputs": [],
   "source": [
    "ndf = data.groupby('county', as_index=False)['wetdet_delin_number'].nunique()"
   ]
  },
  {
   "cell_type": "code",
   "execution_count": 13,
   "id": "41416cd4",
   "metadata": {},
   "outputs": [],
   "source": [
    "ndf.rename(columns={'wetdet_delin_number': 'total'}, inplace=True)"
   ]
  },
  {
   "cell_type": "code",
   "execution_count": 16,
   "id": "45e5e869",
   "metadata": {},
   "outputs": [],
   "source": [
    "qaqc = []"
   ]
  },
  {
   "cell_type": "code",
   "execution_count": 26,
   "id": "0adab502",
   "metadata": {},
   "outputs": [],
   "source": [
    "qaqcdf = pd.DataFrame(columns=['SetID', 'Counties', 'Total Count', 'Total QAQC Count', \n",
    "                               'Partial and Mythical Count', 'Unmatched Count'])"
   ]
  },
  {
   "cell_type": "code",
   "execution_count": 27,
   "id": "c9429797",
   "metadata": {},
   "outputs": [
    {
     "name": "stdout",
     "output_type": "stream",
     "text": [
      "Set001\n",
      "['Clatsop' 'Coos' 'Deschutes' 'Harney' 'Jackson' 'Josephine' 'Lake'\n",
      " 'Marion']\n",
      "1003\n",
      "partial and mythical count - 264, unmatched count - 31, total QAQC count - 295\n",
      "Set002\n",
      "['Baker' 'Benton' 'Clackamas' 'Morrow']\n",
      "434\n",
      "partial and mythical count - 138, unmatched count - 19, total QAQC count - 157\n",
      "Set003\n",
      "['Columbia' 'Grant' 'Klamath' 'Lincoln' 'Tillamook']\n",
      "433\n",
      "partial and mythical count - 127, unmatched count - 18, total QAQC count - 145\n"
     ]
    }
   ],
   "source": [
    "for setid in sets:\n",
    "    print(setid)\n",
    "    counties = data[data.SetID==setid]['county'].unique()\n",
    "    print(counties)\n",
    "    N = data[data.SetID==setid]['wetdet_delin_number'].nunique()\n",
    "    print(N)\n",
    "    matched = gpd.read_file(os.path.join(inpath + '\\\\output\\\\matched\\\\', f'matched_records_{setid}_edited.shp'))\n",
    "    a = matched[matched.notes.notnull()].wdID.unique()\n",
    "    qaqc.append(a)\n",
    "    unmatched = pd.read_csv(os.path.join(inpath + '\\\\output\\\\to_review\\\\', f'unmatched_df_{setid}_2.csv'))\n",
    "    b = unmatched.wetdet_delin_number.unique()\n",
    "    qaqc.append(b)\n",
    "    print(f\"partial and mythical count - {len(a)}, unmatched count - {len(b)}, total QAQC count - {len(a)+len(b)}\")\n",
    "    qaqcdf = qaqcdf.append({'SetID': setid,\n",
    "                            'Counties': ', '.join(list(counties)),\n",
    "                            'Total Count': N,\n",
    "                            'Total QAQC Count': len(a)+len(b), \n",
    "                            'Partial and Mythical Count': len(a), \n",
    "                            'Unmatched Count': len(b)}, ignore_index=True)"
   ]
  },
  {
   "cell_type": "code",
   "execution_count": 30,
   "id": "42164ba2",
   "metadata": {},
   "outputs": [],
   "source": [
    "file=os.path.join(inpath, 'reporting', f'SetStatusReport{str(date.today()).replace(\"-\", \"\")}.xlsx')"
   ]
  },
  {
   "cell_type": "code",
   "execution_count": 31,
   "id": "2eff05d3",
   "metadata": {},
   "outputs": [],
   "source": [
    "qaqcdf.to_excel(file, index=False)"
   ]
  },
  {
   "cell_type": "code",
   "execution_count": 32,
   "id": "ff302b6f",
   "metadata": {},
   "outputs": [
    {
     "name": "stdout",
     "output_type": "stream",
     "text": [
      "Removed format\n",
      "Autofitted columns...\n"
     ]
    }
   ],
   "source": [
    "reformat(file)"
   ]
  },
  {
   "cell_type": "code",
   "execution_count": 41,
   "id": "f5f4af7b",
   "metadata": {},
   "outputs": [],
   "source": [
    "qaqc = unique(np.concatenate(qaqc))"
   ]
  },
  {
   "cell_type": "code",
   "execution_count": 42,
   "id": "1f0ca8ee",
   "metadata": {},
   "outputs": [
    {
     "data": {
      "text/plain": [
       "567"
      ]
     },
     "execution_count": 42,
     "metadata": {},
     "output_type": "execute_result"
    }
   ],
   "source": [
    "len(qaqc)"
   ]
  },
  {
   "cell_type": "code",
   "execution_count": 43,
   "id": "61da9652",
   "metadata": {},
   "outputs": [],
   "source": [
    "df = data[['wetdet_delin_number', 'county']]"
   ]
  },
  {
   "cell_type": "code",
   "execution_count": 33,
   "id": "f5e9c34a",
   "metadata": {},
   "outputs": [],
   "source": [
    "wdcnt_dict = df.set_index('wetdet_delin_number').to_dict(orient='dict')['county']"
   ]
  },
  {
   "cell_type": "code",
   "execution_count": 69,
   "id": "a0073946",
   "metadata": {},
   "outputs": [],
   "source": [
    "qaqc_df = count_lst_ele(qaqc, 'QAQC')"
   ]
  },
  {
   "cell_type": "code",
   "execution_count": 58,
   "id": "b9e42365",
   "metadata": {},
   "outputs": [],
   "source": [
    "mapped = []"
   ]
  },
  {
   "cell_type": "code",
   "execution_count": 60,
   "id": "a314cbdb",
   "metadata": {},
   "outputs": [],
   "source": [
    "for setid in ['Set001', 'Set002']:\n",
    "    mapped.append(read_list(setid))"
   ]
  },
  {
   "cell_type": "code",
   "execution_count": 61,
   "id": "d71b2d0f",
   "metadata": {},
   "outputs": [],
   "source": [
    "mapped = unique(np.concatenate(mapped))"
   ]
  },
  {
   "cell_type": "code",
   "execution_count": 62,
   "id": "7d91c8cd",
   "metadata": {},
   "outputs": [
    {
     "data": {
      "text/plain": [
       "['WD2017-0347',\n",
       " 'WD2018-0124',\n",
       " 'WD2018-0217',\n",
       " 'WD2018-0306',\n",
       " 'WD2018-0386',\n",
       " 'WD2018-0419',\n",
       " 'WD2018-0522',\n",
       " 'WD2018-0657',\n",
       " 'WD2019-0124',\n",
       " 'WD2019-0231',\n",
       " 'WD2019-0338',\n",
       " 'WD2019-0431',\n",
       " 'WD2019-0544',\n",
       " 'WD2020-0067',\n",
       " 'WD2020-0391',\n",
       " 'WD2020-0536',\n",
       " 'WD2020-0668',\n",
       " 'WD2020-0677',\n",
       " 'WD2021-0162',\n",
       " 'WD2021-0252',\n",
       " 'WD2021-0559',\n",
       " 'WD2021-0616',\n",
       " 'WD2021-0703']"
      ]
     },
     "execution_count": 62,
     "metadata": {},
     "output_type": "execute_result"
    }
   ],
   "source": [
    "mapped"
   ]
  },
  {
   "cell_type": "code",
   "execution_count": 107,
   "id": "2111046d",
   "metadata": {},
   "outputs": [],
   "source": [
    "colnm='QAQC_comp'"
   ]
  },
  {
   "cell_type": "code",
   "execution_count": 108,
   "id": "e1cd0d91",
   "metadata": {},
   "outputs": [],
   "source": [
    "mapped_df = count_lst_ele(mapped, colnm)"
   ]
  },
  {
   "cell_type": "code",
   "execution_count": 142,
   "id": "073dca8b",
   "metadata": {},
   "outputs": [],
   "source": [
    "out = ndf.merge(qaqc_df, on='county', how='left')"
   ]
  },
  {
   "cell_type": "code",
   "execution_count": 143,
   "id": "663b444f",
   "metadata": {},
   "outputs": [],
   "source": [
    "out1 = out.merge(mapped_df, on='county', how='left')"
   ]
  },
  {
   "cell_type": "code",
   "execution_count": 145,
   "id": "8ca1d243",
   "metadata": {},
   "outputs": [],
   "source": [
    "sel = out1.county.isin(['Columbia', 'Grant', 'Klamath', 'Lincoln', 'Tillamook'])"
   ]
  },
  {
   "cell_type": "code",
   "execution_count": 146,
   "id": "8f8ff511",
   "metadata": {},
   "outputs": [],
   "source": [
    "out1.loc[sel, colnm] = out1.loc[sel, 'QAQC']"
   ]
  },
  {
   "cell_type": "code",
   "execution_count": 147,
   "id": "a6d97785",
   "metadata": {},
   "outputs": [],
   "source": [
    "sel1 = out1.QAQC_comp.isnull()"
   ]
  },
  {
   "cell_type": "code",
   "execution_count": 148,
   "id": "e9f10738",
   "metadata": {},
   "outputs": [],
   "source": [
    "out1.loc[sel1, colnm] = 0"
   ]
  },
  {
   "cell_type": "code",
   "execution_count": 149,
   "id": "1c9acb9e",
   "metadata": {},
   "outputs": [
    {
     "data": {
      "text/html": [
       "<div>\n",
       "<style scoped>\n",
       "    .dataframe tbody tr th:only-of-type {\n",
       "        vertical-align: middle;\n",
       "    }\n",
       "\n",
       "    .dataframe tbody tr th {\n",
       "        vertical-align: top;\n",
       "    }\n",
       "\n",
       "    .dataframe thead th {\n",
       "        text-align: right;\n",
       "    }\n",
       "</style>\n",
       "<table border=\"1\" class=\"dataframe\">\n",
       "  <thead>\n",
       "    <tr style=\"text-align: right;\">\n",
       "      <th></th>\n",
       "      <th>county</th>\n",
       "      <th>total</th>\n",
       "      <th>QAQC</th>\n",
       "      <th>QAQC_comp</th>\n",
       "    </tr>\n",
       "  </thead>\n",
       "  <tbody>\n",
       "    <tr>\n",
       "      <th>0</th>\n",
       "      <td>Baker</td>\n",
       "      <td>38</td>\n",
       "      <td>12</td>\n",
       "      <td>0.0</td>\n",
       "    </tr>\n",
       "    <tr>\n",
       "      <th>1</th>\n",
       "      <td>Benton</td>\n",
       "      <td>91</td>\n",
       "      <td>30</td>\n",
       "      <td>1.0</td>\n",
       "    </tr>\n",
       "    <tr>\n",
       "      <th>2</th>\n",
       "      <td>Clackamas</td>\n",
       "      <td>275</td>\n",
       "      <td>96</td>\n",
       "      <td>3.0</td>\n",
       "    </tr>\n",
       "    <tr>\n",
       "      <th>3</th>\n",
       "      <td>Clatsop</td>\n",
       "      <td>137</td>\n",
       "      <td>41</td>\n",
       "      <td>0.0</td>\n",
       "    </tr>\n",
       "    <tr>\n",
       "      <th>4</th>\n",
       "      <td>Columbia</td>\n",
       "      <td>93</td>\n",
       "      <td>33</td>\n",
       "      <td>33.0</td>\n",
       "    </tr>\n",
       "    <tr>\n",
       "      <th>5</th>\n",
       "      <td>Coos</td>\n",
       "      <td>120</td>\n",
       "      <td>27</td>\n",
       "      <td>3.0</td>\n",
       "    </tr>\n",
       "    <tr>\n",
       "      <th>6</th>\n",
       "      <td>Deschutes</td>\n",
       "      <td>172</td>\n",
       "      <td>39</td>\n",
       "      <td>5.0</td>\n",
       "    </tr>\n",
       "    <tr>\n",
       "      <th>7</th>\n",
       "      <td>Grant</td>\n",
       "      <td>23</td>\n",
       "      <td>6</td>\n",
       "      <td>6.0</td>\n",
       "    </tr>\n",
       "    <tr>\n",
       "      <th>8</th>\n",
       "      <td>Harney</td>\n",
       "      <td>13</td>\n",
       "      <td>11</td>\n",
       "      <td>2.0</td>\n",
       "    </tr>\n",
       "    <tr>\n",
       "      <th>9</th>\n",
       "      <td>Jackson</td>\n",
       "      <td>221</td>\n",
       "      <td>51</td>\n",
       "      <td>4.0</td>\n",
       "    </tr>\n",
       "    <tr>\n",
       "      <th>10</th>\n",
       "      <td>Josephine</td>\n",
       "      <td>97</td>\n",
       "      <td>17</td>\n",
       "      <td>0.0</td>\n",
       "    </tr>\n",
       "    <tr>\n",
       "      <th>11</th>\n",
       "      <td>Klamath</td>\n",
       "      <td>66</td>\n",
       "      <td>33</td>\n",
       "      <td>33.0</td>\n",
       "    </tr>\n",
       "    <tr>\n",
       "      <th>12</th>\n",
       "      <td>Lake</td>\n",
       "      <td>34</td>\n",
       "      <td>21</td>\n",
       "      <td>4.0</td>\n",
       "    </tr>\n",
       "    <tr>\n",
       "      <th>13</th>\n",
       "      <td>Lincoln</td>\n",
       "      <td>100</td>\n",
       "      <td>26</td>\n",
       "      <td>26.0</td>\n",
       "    </tr>\n",
       "    <tr>\n",
       "      <th>14</th>\n",
       "      <td>Marion</td>\n",
       "      <td>210</td>\n",
       "      <td>70</td>\n",
       "      <td>1.0</td>\n",
       "    </tr>\n",
       "    <tr>\n",
       "      <th>15</th>\n",
       "      <td>Morrow</td>\n",
       "      <td>31</td>\n",
       "      <td>14</td>\n",
       "      <td>0.0</td>\n",
       "    </tr>\n",
       "    <tr>\n",
       "      <th>16</th>\n",
       "      <td>Tillamook</td>\n",
       "      <td>151</td>\n",
       "      <td>40</td>\n",
       "      <td>40.0</td>\n",
       "    </tr>\n",
       "  </tbody>\n",
       "</table>\n",
       "</div>"
      ],
      "text/plain": [
       "       county  total  QAQC  QAQC_comp\n",
       "0       Baker     38    12        0.0\n",
       "1      Benton     91    30        1.0\n",
       "2   Clackamas    275    96        3.0\n",
       "3     Clatsop    137    41        0.0\n",
       "4    Columbia     93    33       33.0\n",
       "5        Coos    120    27        3.0\n",
       "6   Deschutes    172    39        5.0\n",
       "7       Grant     23     6        6.0\n",
       "8      Harney     13    11        2.0\n",
       "9     Jackson    221    51        4.0\n",
       "10  Josephine     97    17        0.0\n",
       "11    Klamath     66    33       33.0\n",
       "12       Lake     34    21        4.0\n",
       "13    Lincoln    100    26       26.0\n",
       "14     Marion    210    70        1.0\n",
       "15     Morrow     31    14        0.0\n",
       "16  Tillamook    151    40       40.0"
      ]
     },
     "execution_count": 149,
     "metadata": {},
     "output_type": "execute_result"
    }
   ],
   "source": [
    "out1"
   ]
  },
  {
   "cell_type": "code",
   "execution_count": 114,
   "id": "b366e908",
   "metadata": {},
   "outputs": [],
   "source": [
    "out1[colnm] = out1[colnm].apply(np.int64)"
   ]
  },
  {
   "cell_type": "code",
   "execution_count": 115,
   "id": "8aa73d74",
   "metadata": {},
   "outputs": [],
   "source": [
    "out1['QAQC_pct'] = out1.apply(lambda row: str(round(row.QAQC/row.total*100,1))+('%'), axis=1)"
   ]
  },
  {
   "cell_type": "code",
   "execution_count": 117,
   "id": "8748c8e9",
   "metadata": {},
   "outputs": [],
   "source": [
    "out1['QAQC_comp_pct'] = out1.apply(lambda row: str(round(row.QAQC_comp/row.QAQC*100,1))+('%'), axis=1)"
   ]
  },
  {
   "cell_type": "code",
   "execution_count": 118,
   "id": "37ee3073",
   "metadata": {},
   "outputs": [
    {
     "data": {
      "text/html": [
       "<div>\n",
       "<style scoped>\n",
       "    .dataframe tbody tr th:only-of-type {\n",
       "        vertical-align: middle;\n",
       "    }\n",
       "\n",
       "    .dataframe tbody tr th {\n",
       "        vertical-align: top;\n",
       "    }\n",
       "\n",
       "    .dataframe thead th {\n",
       "        text-align: right;\n",
       "    }\n",
       "</style>\n",
       "<table border=\"1\" class=\"dataframe\">\n",
       "  <thead>\n",
       "    <tr style=\"text-align: right;\">\n",
       "      <th></th>\n",
       "      <th>county</th>\n",
       "      <th>total</th>\n",
       "      <th>QAQC</th>\n",
       "      <th>QAQC_comp</th>\n",
       "      <th>QAQC_pct</th>\n",
       "      <th>QAQC_comp_pct</th>\n",
       "    </tr>\n",
       "  </thead>\n",
       "  <tbody>\n",
       "    <tr>\n",
       "      <th>0</th>\n",
       "      <td>Baker</td>\n",
       "      <td>38</td>\n",
       "      <td>12</td>\n",
       "      <td>0</td>\n",
       "      <td>31.6%</td>\n",
       "      <td>0.0%</td>\n",
       "    </tr>\n",
       "    <tr>\n",
       "      <th>1</th>\n",
       "      <td>Benton</td>\n",
       "      <td>91</td>\n",
       "      <td>30</td>\n",
       "      <td>1</td>\n",
       "      <td>33.0%</td>\n",
       "      <td>3.3%</td>\n",
       "    </tr>\n",
       "    <tr>\n",
       "      <th>2</th>\n",
       "      <td>Clackamas</td>\n",
       "      <td>275</td>\n",
       "      <td>96</td>\n",
       "      <td>3</td>\n",
       "      <td>34.9%</td>\n",
       "      <td>3.1%</td>\n",
       "    </tr>\n",
       "    <tr>\n",
       "      <th>3</th>\n",
       "      <td>Clatsop</td>\n",
       "      <td>137</td>\n",
       "      <td>41</td>\n",
       "      <td>0</td>\n",
       "      <td>29.9%</td>\n",
       "      <td>0.0%</td>\n",
       "    </tr>\n",
       "    <tr>\n",
       "      <th>4</th>\n",
       "      <td>Columbia</td>\n",
       "      <td>93</td>\n",
       "      <td>33</td>\n",
       "      <td>33</td>\n",
       "      <td>35.5%</td>\n",
       "      <td>100.0%</td>\n",
       "    </tr>\n",
       "    <tr>\n",
       "      <th>5</th>\n",
       "      <td>Coos</td>\n",
       "      <td>120</td>\n",
       "      <td>27</td>\n",
       "      <td>3</td>\n",
       "      <td>22.5%</td>\n",
       "      <td>11.1%</td>\n",
       "    </tr>\n",
       "    <tr>\n",
       "      <th>6</th>\n",
       "      <td>Deschutes</td>\n",
       "      <td>172</td>\n",
       "      <td>39</td>\n",
       "      <td>5</td>\n",
       "      <td>22.7%</td>\n",
       "      <td>12.8%</td>\n",
       "    </tr>\n",
       "    <tr>\n",
       "      <th>7</th>\n",
       "      <td>Grant</td>\n",
       "      <td>23</td>\n",
       "      <td>6</td>\n",
       "      <td>6</td>\n",
       "      <td>26.1%</td>\n",
       "      <td>100.0%</td>\n",
       "    </tr>\n",
       "    <tr>\n",
       "      <th>8</th>\n",
       "      <td>Harney</td>\n",
       "      <td>13</td>\n",
       "      <td>11</td>\n",
       "      <td>2</td>\n",
       "      <td>84.6%</td>\n",
       "      <td>18.2%</td>\n",
       "    </tr>\n",
       "    <tr>\n",
       "      <th>9</th>\n",
       "      <td>Jackson</td>\n",
       "      <td>221</td>\n",
       "      <td>51</td>\n",
       "      <td>4</td>\n",
       "      <td>23.1%</td>\n",
       "      <td>7.8%</td>\n",
       "    </tr>\n",
       "    <tr>\n",
       "      <th>10</th>\n",
       "      <td>Josephine</td>\n",
       "      <td>97</td>\n",
       "      <td>17</td>\n",
       "      <td>0</td>\n",
       "      <td>17.5%</td>\n",
       "      <td>0.0%</td>\n",
       "    </tr>\n",
       "    <tr>\n",
       "      <th>11</th>\n",
       "      <td>Klamath</td>\n",
       "      <td>66</td>\n",
       "      <td>33</td>\n",
       "      <td>33</td>\n",
       "      <td>50.0%</td>\n",
       "      <td>100.0%</td>\n",
       "    </tr>\n",
       "    <tr>\n",
       "      <th>12</th>\n",
       "      <td>Lake</td>\n",
       "      <td>34</td>\n",
       "      <td>21</td>\n",
       "      <td>4</td>\n",
       "      <td>61.8%</td>\n",
       "      <td>19.0%</td>\n",
       "    </tr>\n",
       "    <tr>\n",
       "      <th>13</th>\n",
       "      <td>Lincoln</td>\n",
       "      <td>100</td>\n",
       "      <td>26</td>\n",
       "      <td>26</td>\n",
       "      <td>26.0%</td>\n",
       "      <td>100.0%</td>\n",
       "    </tr>\n",
       "    <tr>\n",
       "      <th>14</th>\n",
       "      <td>Marion</td>\n",
       "      <td>210</td>\n",
       "      <td>70</td>\n",
       "      <td>1</td>\n",
       "      <td>33.3%</td>\n",
       "      <td>1.4%</td>\n",
       "    </tr>\n",
       "    <tr>\n",
       "      <th>15</th>\n",
       "      <td>Morrow</td>\n",
       "      <td>31</td>\n",
       "      <td>14</td>\n",
       "      <td>0</td>\n",
       "      <td>45.2%</td>\n",
       "      <td>0.0%</td>\n",
       "    </tr>\n",
       "    <tr>\n",
       "      <th>16</th>\n",
       "      <td>Tillamook</td>\n",
       "      <td>151</td>\n",
       "      <td>40</td>\n",
       "      <td>40</td>\n",
       "      <td>26.5%</td>\n",
       "      <td>100.0%</td>\n",
       "    </tr>\n",
       "  </tbody>\n",
       "</table>\n",
       "</div>"
      ],
      "text/plain": [
       "       county  total  QAQC  QAQC_comp QAQC_pct QAQC_comp_pct\n",
       "0       Baker     38    12          0    31.6%          0.0%\n",
       "1      Benton     91    30          1    33.0%          3.3%\n",
       "2   Clackamas    275    96          3    34.9%          3.1%\n",
       "3     Clatsop    137    41          0    29.9%          0.0%\n",
       "4    Columbia     93    33         33    35.5%        100.0%\n",
       "5        Coos    120    27          3    22.5%         11.1%\n",
       "6   Deschutes    172    39          5    22.7%         12.8%\n",
       "7       Grant     23     6          6    26.1%        100.0%\n",
       "8      Harney     13    11          2    84.6%         18.2%\n",
       "9     Jackson    221    51          4    23.1%          7.8%\n",
       "10  Josephine     97    17          0    17.5%          0.0%\n",
       "11    Klamath     66    33         33    50.0%        100.0%\n",
       "12       Lake     34    21          4    61.8%         19.0%\n",
       "13    Lincoln    100    26         26    26.0%        100.0%\n",
       "14     Marion    210    70          1    33.3%          1.4%\n",
       "15     Morrow     31    14          0    45.2%          0.0%\n",
       "16  Tillamook    151    40         40    26.5%        100.0%"
      ]
     },
     "execution_count": 118,
     "metadata": {},
     "output_type": "execute_result"
    }
   ],
   "source": [
    "out1"
   ]
  },
  {
   "cell_type": "code",
   "execution_count": 133,
   "id": "7b55ad58",
   "metadata": {},
   "outputs": [
    {
     "data": {
      "text/plain": [
       "1872"
      ]
     },
     "execution_count": 133,
     "metadata": {},
     "output_type": "execute_result"
    }
   ],
   "source": [
    "out.total.sum()"
   ]
  },
  {
   "cell_type": "code",
   "execution_count": 134,
   "id": "6b8c2a69",
   "metadata": {},
   "outputs": [
    {
     "data": {
      "text/plain": [
       "567"
      ]
     },
     "execution_count": 134,
     "metadata": {},
     "output_type": "execute_result"
    }
   ],
   "source": [
    "out.QAQC.sum()"
   ]
  },
  {
   "cell_type": "code",
   "execution_count": 136,
   "id": "c054604d",
   "metadata": {},
   "outputs": [
    {
     "data": {
      "text/plain": [
       "0.30288461538461536"
      ]
     },
     "execution_count": 136,
     "metadata": {},
     "output_type": "execute_result"
    }
   ],
   "source": [
    "567/1872"
   ]
  },
  {
   "cell_type": "code",
   "execution_count": 120,
   "id": "7901eacc",
   "metadata": {},
   "outputs": [],
   "source": [
    "out1.columns = ['County', 'Total Count', 'QAQC Count', 'QAQC Completed Count', \n",
    "                'QAQC Count Percentage', 'QAQC Completed Count Percentage']"
   ]
  },
  {
   "cell_type": "code",
   "execution_count": 135,
   "id": "01ff684c",
   "metadata": {},
   "outputs": [
    {
     "data": {
      "text/plain": [
       "161"
      ]
     },
     "execution_count": 135,
     "metadata": {},
     "output_type": "execute_result"
    }
   ],
   "source": [
    "out1['QAQC Completed Count'].sum()"
   ]
  },
  {
   "cell_type": "code",
   "execution_count": 137,
   "id": "ab22bbd6",
   "metadata": {},
   "outputs": [
    {
     "data": {
      "text/plain": [
       "0.2839506172839506"
      ]
     },
     "execution_count": 137,
     "metadata": {},
     "output_type": "execute_result"
    }
   ],
   "source": [
    "161/567"
   ]
  },
  {
   "cell_type": "code",
   "execution_count": 138,
   "id": "2780dde0",
   "metadata": {},
   "outputs": [
    {
     "data": {
      "text/plain": [
       "0.208"
      ]
     },
     "execution_count": 138,
     "metadata": {},
     "output_type": "execute_result"
    }
   ],
   "source": [
    "1872/9000"
   ]
  },
  {
   "cell_type": "code",
   "execution_count": 126,
   "id": "66390ca5",
   "metadata": {},
   "outputs": [
    {
     "data": {
      "text/plain": [
       "'L:\\\\NaturalResources\\\\Wetlands\\\\Local Wetland Inventory\\\\WAPO\\\\EPA_2022_Tasks\\\\Task 1 WD Mapping'"
      ]
     },
     "execution_count": 126,
     "metadata": {},
     "output_type": "execute_result"
    }
   ],
   "source": [
    "inpath"
   ]
  },
  {
   "cell_type": "code",
   "execution_count": 129,
   "id": "fc26a9b7",
   "metadata": {},
   "outputs": [],
   "source": [
    "file=os.path.join(inpath, 'reporting', f'StatusReport{str(date.today()).replace(\"-\", \"\")}.xlsx')"
   ]
  },
  {
   "cell_type": "code",
   "execution_count": 127,
   "id": "c34cd77b",
   "metadata": {},
   "outputs": [],
   "source": [
    "out1.to_excel(file, index=False)"
   ]
  },
  {
   "cell_type": "code",
   "execution_count": 132,
   "id": "662aff7e",
   "metadata": {},
   "outputs": [
    {
     "name": "stdout",
     "output_type": "stream",
     "text": [
      "Removed format\n",
      "Autofitted columns...\n"
     ]
    }
   ],
   "source": [
    "reformat(file)"
   ]
  }
 ],
 "metadata": {
  "kernelspec": {
   "display_name": "Python 3",
   "language": "python",
   "name": "python3"
  },
  "language_info": {
   "codemirror_mode": {
    "name": "ipython",
    "version": 3
   },
   "file_extension": ".py",
   "mimetype": "text/x-python",
   "name": "python",
   "nbconvert_exporter": "python",
   "pygments_lexer": "ipython3",
   "version": "3.8.8"
  }
 },
 "nbformat": 4,
 "nbformat_minor": 5
}
