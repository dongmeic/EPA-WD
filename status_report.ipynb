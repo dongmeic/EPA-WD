{
 "cells": [
  {
   "cell_type": "code",
   "execution_count": 1,
   "id": "da539637",
   "metadata": {},
   "outputs": [],
   "source": [
    "%load_ext autoreload\n",
    "%autoreload 2"
   ]
  },
  {
   "cell_type": "code",
   "execution_count": 2,
   "id": "166e573d",
   "metadata": {},
   "outputs": [],
   "source": [
    "from wdtools import *"
   ]
  },
  {
   "cell_type": "code",
   "execution_count": 3,
   "id": "776872ca",
   "metadata": {},
   "outputs": [],
   "source": [
    "sets = list(map(lambda x: 'Set00'+x, ['1', '2', '3', '4']))"
   ]
  },
  {
   "cell_type": "code",
   "execution_count": 4,
   "id": "af757a35",
   "metadata": {},
   "outputs": [],
   "source": [
    "nm2add = [0, 1420, 2143, 2878]"
   ]
  },
  {
   "cell_type": "code",
   "execution_count": 5,
   "id": "fb6484a4",
   "metadata": {},
   "outputs": [],
   "source": [
    "dat = []"
   ]
  },
  {
   "cell_type": "code",
   "execution_count": 6,
   "id": "c2c82e99",
   "metadata": {},
   "outputs": [],
   "source": [
    "for setid in sets:\n",
    "    df = combine_wd_tables(setID=setid, nm_to_add=nm2add[sets.index(setid)])\n",
    "    df.loc[:, 'SetID'] = setid\n",
    "    dat.append(df)"
   ]
  },
  {
   "cell_type": "code",
   "execution_count": 7,
   "id": "99142253",
   "metadata": {},
   "outputs": [],
   "source": [
    "data=pd.concat(dat)"
   ]
  },
  {
   "cell_type": "code",
   "execution_count": 8,
   "id": "035437fc",
   "metadata": {},
   "outputs": [
    {
     "data": {
      "text/plain": [
       "(3932, 26)"
      ]
     },
     "execution_count": 8,
     "metadata": {},
     "output_type": "execute_result"
    }
   ],
   "source": [
    "data.shape"
   ]
  },
  {
   "cell_type": "code",
   "execution_count": 9,
   "id": "fe0226d0",
   "metadata": {},
   "outputs": [
    {
     "data": {
      "text/plain": [
       "Index(['wetdet_delin_number', 'trsqq', 'parcel_id', 'address_location_desc',\n",
       "       'city', 'county', 'site_name', 'site_desc', 'latitude', 'longitude',\n",
       "       'Coord-Source', 'DocumentName', 'DecisionLink', 'is_batch_file',\n",
       "       'status_name', 'received_date', 'response_date',\n",
       "       'reissuance_response_date', 'project_id', 'site_id', 'record_ID',\n",
       "       'notes', 'recyear', 'IDyear', 'missinglot', 'SetID'],\n",
       "      dtype='object')"
      ]
     },
     "execution_count": 9,
     "metadata": {},
     "output_type": "execute_result"
    }
   ],
   "source": [
    "data.columns"
   ]
  },
  {
   "cell_type": "code",
   "execution_count": 10,
   "id": "333112c4",
   "metadata": {},
   "outputs": [],
   "source": [
    "data.loc[data.county=='TIllamook', 'county'] = 'Tillamook'"
   ]
  },
  {
   "cell_type": "code",
   "execution_count": 11,
   "id": "24b5aeac",
   "metadata": {},
   "outputs": [],
   "source": [
    "ndf = data.groupby('county', as_index=False)['wetdet_delin_number'].nunique()"
   ]
  },
  {
   "cell_type": "code",
   "execution_count": 12,
   "id": "41416cd4",
   "metadata": {},
   "outputs": [],
   "source": [
    "ndf.rename(columns={'wetdet_delin_number': 'total'}, inplace=True)"
   ]
  },
  {
   "cell_type": "code",
   "execution_count": 13,
   "id": "45e5e869",
   "metadata": {},
   "outputs": [],
   "source": [
    "qaqc = []\n",
    "unmt = []\n",
    "issue = []\n",
    "mapped = []"
   ]
  },
  {
   "cell_type": "code",
   "execution_count": 14,
   "id": "238a8263",
   "metadata": {},
   "outputs": [],
   "source": [
    "qaqcdf = pd.DataFrame(columns=['SetID', 'Counties', 'Total Count', 'Total QAQC Count', \n",
    "                               'Partial and Mythical Count', 'Unmatched Count', 'Issue ID Count', 'Mapped Count'])"
   ]
  },
  {
   "cell_type": "code",
   "execution_count": 15,
   "id": "c9429797",
   "metadata": {},
   "outputs": [
    {
     "name": "stdout",
     "output_type": "stream",
     "text": [
      "Set001\n",
      "['Clatsop' 'Coos' 'Deschutes' 'Harney' 'Jackson' 'Josephine' 'Lake'\n",
      " 'Marion']\n",
      "1003\n",
      "partial and mythical count - 264, \n",
      "          unmatched count - 14,\n",
      "          total QAQC count - 278,\n",
      "          issue ID count -4,\n",
      "          mapped count - 277,\n",
      "          total count - 1003,\n",
      "          to check - []\n",
      "Set002\n",
      "['Baker' 'Benton' 'Clackamas' 'Morrow']\n",
      "434\n",
      "partial and mythical count - 138, \n",
      "          unmatched count - 14,\n",
      "          total QAQC count - 152,\n",
      "          issue ID count -15,\n",
      "          mapped count - 141,\n",
      "          total count - 434,\n",
      "          to check - []\n",
      "Set003\n",
      "['Columbia' 'Grant' 'Klamath' 'Lincoln' 'Tillamook']\n",
      "433\n",
      "partial and mythical count - 127, \n",
      "          unmatched count - 11,\n",
      "          total QAQC count - 138,\n",
      "          issue ID count -9,\n",
      "          mapped count - 123,\n",
      "          total count - 433,\n",
      "          to check - ['WD2019-0407', 'WD2019-0482', 'WD2019-0586', 'WD2021-0074', 'WD2021-0498', 'WD2022-0124']\n",
      "Set004\n",
      "['Crook' 'Curry' 'Hood River' 'Jefferson' 'Linn' 'Multnomah' 'Wasco'\n",
      " 'Yamhill' 'Yamhill and Washington']\n",
      "676\n",
      "partial and mythical count - 209, \n",
      "          unmatched count - 15,\n",
      "          total QAQC count - 224,\n",
      "          issue ID count -9,\n",
      "          mapped count - 53,\n",
      "          total count - 676,\n",
      "          to check - ['WD2017-0020', 'WD2017-0036', 'WD2017-0052', 'WD2017-0057', 'WD2017-0083', 'WD2017-0114', 'WD2017-0128', 'WD2017-0291', 'WD2017-0331', 'WD2017-0336', 'WD2017-0391', 'WD2017-0414', 'WD2017-0419', 'WD2017-0485', 'WD2017-0512', 'WD2017-0519', 'WD2017-0578', 'WD2018-0012', 'WD2018-0029', 'WD2018-0032', 'WD2018-0093', 'WD2018-0113', 'WD2018-0125', 'WD2018-0130', 'WD2018-0170', 'WD2018-0171', 'WD2018-0216', 'WD2018-0218', 'WD2018-0227', 'WD2018-0274', 'WD2018-0317', 'WD2018-0333', 'WD2018-0335', 'WD2018-0341', 'WD2018-0347', 'WD2018-0364', 'WD2018-0365', 'WD2018-0402', 'WD2018-0415', 'WD2018-0433', 'WD2018-0455', 'WD2018-0486', 'WD2018-0529', 'WD2018-0533', 'WD2018-0542', 'WD2018-0633', 'WD2018-0639', 'WD2018-0649', 'WD2018-0667', 'WD2018-0678', 'WD2019-0006', 'WD2019-0031', 'WD2019-0034', 'WD2019-0052', 'WD2019-0059', 'WD2019-0070', 'WD2019-0074', 'WD2019-0118', 'WD2019-0126', 'WD2019-0202', 'WD2019-0208', 'WD2019-0211', 'WD2019-0264', 'WD2019-0282', 'WD2019-0319', 'WD2019-0320', 'WD2019-0359', 'WD2019-0379', 'WD2019-0389', 'WD2019-0395', 'WD2019-0405', 'WD2019-0417', 'WD2019-0436', 'WD2019-0492', 'WD2019-0502', 'WD2019-0517', 'WD2019-0524', 'WD2019-0525', 'WD2019-0526', 'WD2019-0529', 'WD2019-0540', 'WD2019-0556', 'WD2019-0560', 'WD2019-0569', 'WD2019-0575', 'WD2019-0582', 'WD2019-0585', 'WD2019-0640', 'WD2019-0659', 'WD2020-0002', 'WD2020-0034', 'WD2020-0050', 'WD2020-0051', 'WD2020-0116', 'WD2020-0149', 'WD2020-0153', 'WD2020-0159', 'WD2020-0175', 'WD2020-0207', 'WD2020-0252', 'WD2020-0310', 'WD2020-0315', 'WD2020-0317', 'WD2020-0319', 'WD2020-0329', 'WD2020-0331', 'WD2020-0334', 'WD2020-0336', 'WD2020-0348', 'WD2020-0385', 'WD2020-0408', 'WD2020-0435', 'WD2020-0452', 'WD2020-0531', 'WD2020-0539', 'WD2020-0542', 'WD2020-0568', 'WD2020-0588', 'WD2020-0652', 'WD2020-0661', 'WD2020-0691', 'WD2020-0699', 'WD2021-0022', 'WD2021-0026', 'WD2021-0033', 'WD2021-0048', 'WD2021-0065', 'WD2021-0090', 'WD2021-0093', 'WD2021-0209', 'WD2021-0234', 'WD2021-0263', 'WD2021-0286', 'WD2021-0289', 'WD2021-0295', 'WD2021-0346', 'WD2021-0398', 'WD2021-0402', 'WD2021-0450', 'WD2021-0464', 'WD2021-0482', 'WD2021-0510', 'WD2021-0516', 'WD2021-0518', 'WD2021-0591', 'WD2021-0609', 'WD2021-0643', 'WD2021-0650', 'WD2021-0653', 'WD2021-0654', 'WD2021-0659', 'WD2022-0035', 'WD2022-0041', 'WD2022-0062', 'WD2022-0074', 'WD2022-0116', 'WD2022-0137', 'WD2022-0143', 'WD2022-0149', 'WD2022-0155', 'WD2022-0214', 'WD2022-0215', 'WD2022-0262']\n"
     ]
    }
   ],
   "source": [
    "for setid in sets:\n",
    "    print(setid)\n",
    "    wd_dt = data[data.SetID==setid]\n",
    "    counties = wd_dt['county'].unique()\n",
    "    print(counties)\n",
    "    N = data[data.SetID==setid]['wetdet_delin_number'].nunique()\n",
    "    print(N)\n",
    "    matched = gpd.read_file(os.path.join(inpath + '\\\\output\\\\matched\\\\', f'matched_records_{setid}_edited.shp'))\n",
    "    final = gpd.read_file(os.path.join(inpath + '\\\\output\\\\final\\\\', f'mapped_wd_{setid}.shp'))\n",
    "    a = list(matched[matched.notes.notnull()].wdID.unique())\n",
    "    unmatched = pd.read_csv(os.path.join(inpath + '\\\\output\\\\to_review\\\\', f'unmatched_df_{setid}_2.csv'))\n",
    "    b = list(unmatched.wetdet_delin_number.unique())\n",
    "    unmatched_wd = [x for x in b if x not in a]\n",
    "    unmatched3 = unmatched[unmatched.wetdet_delin_number.isin(unmatched_wd)]\n",
    "    unmatched3.to_csv(os.path.join(inpath + '\\\\output\\\\to_review\\\\', f'unmatched_df_{setid}_3.csv'), index=False)\n",
    "    unmt.append(unmatched_wd)\n",
    "    qaqc.append(unique(a+b))\n",
    "    issues = pd.read_csv(os.path.join(inpath, \"output\", \"to_review\", f\"{setid}_Mapping_Issues.csv\"))\n",
    "    issueIDs = list(issues.wetdet_delin_number.unique())\n",
    "    issue.append(issueIDs)\n",
    "    c = list(final[final.code==1].wdID.unique())\n",
    "    mapped.append(c)\n",
    "    to_check = [wid for wid in unique(a+b) if wid not in (issueIDs+c)]\n",
    "    print(f\"\"\"partial and mythical count - {len(a)}, \n",
    "          unmatched count - {len(unmatched_wd)},\n",
    "          total QAQC count - {len(unique(a+b))},\n",
    "          issue ID count -{len(issueIDs)},\n",
    "          mapped count - {len(c)},\n",
    "          total count - {N},\n",
    "          to check - {to_check}\"\"\")\n",
    "    qaqcdf = qaqcdf.append({'SetID': setid,\n",
    "                            'Counties': ', '.join(list(counties)),\n",
    "                            'Total Count': N,\n",
    "                            'Total QAQC Count': len(unique(a+b)), \n",
    "                            'Partial and Mythical Count': len(a), \n",
    "                            'Unmatched Count': len(unmatched_wd),\n",
    "                            'Issue ID Count': len(issueIDs),\n",
    "                            'Mapped Count': len(c)}, ignore_index=True)"
   ]
  },
  {
   "cell_type": "code",
   "execution_count": 16,
   "id": "e28b34e2",
   "metadata": {
    "scrolled": true
   },
   "outputs": [],
   "source": [
    "#review_loop_r1(wdid_list=['WD2019-0407', 'WD2019-0482', 'WD2019-0586', 'WD2020-0109', 'WD2021-0074', \n",
    "#                          'WD2021-0290', 'WD2021-0498', 'WD2022-0124', 'WD2022-0200', 'WD2022-0231'], partial=True, idx=True, wddf=data)"
   ]
  },
  {
   "cell_type": "code",
   "execution_count": 17,
   "id": "658c910f",
   "metadata": {},
   "outputs": [],
   "source": [
    "file=os.path.join(inpath, 'reporting', f'SetStatusReport{str(date.today()).replace(\"-\", \"\")}.xlsx')"
   ]
  },
  {
   "cell_type": "code",
   "execution_count": 18,
   "id": "32b7a156",
   "metadata": {},
   "outputs": [],
   "source": [
    "qaqcdf.to_excel(file, index=False)"
   ]
  },
  {
   "cell_type": "code",
   "execution_count": 19,
   "id": "6c899e9c",
   "metadata": {},
   "outputs": [
    {
     "name": "stdout",
     "output_type": "stream",
     "text": [
      "Removed format\n",
      "Autofitted columns...\n"
     ]
    }
   ],
   "source": [
    "reformat(file)"
   ]
  },
  {
   "cell_type": "code",
   "execution_count": 20,
   "id": "f5f4af7b",
   "metadata": {},
   "outputs": [],
   "source": [
    "qaqc = unique(np.concatenate(qaqc))"
   ]
  },
  {
   "cell_type": "code",
   "execution_count": 21,
   "id": "1f0ca8ee",
   "metadata": {
    "scrolled": true
   },
   "outputs": [
    {
     "data": {
      "text/plain": [
       "789"
      ]
     },
     "execution_count": 21,
     "metadata": {},
     "output_type": "execute_result"
    }
   ],
   "source": [
    "len(qaqc)"
   ]
  },
  {
   "cell_type": "code",
   "execution_count": 22,
   "id": "61da9652",
   "metadata": {},
   "outputs": [],
   "source": [
    "df = data[['wetdet_delin_number', 'county']]"
   ]
  },
  {
   "cell_type": "code",
   "execution_count": 23,
   "id": "f5e9c34a",
   "metadata": {},
   "outputs": [],
   "source": [
    "wdcnt_dict = df.set_index('wetdet_delin_number').to_dict(orient='dict')['county']"
   ]
  },
  {
   "cell_type": "code",
   "execution_count": 24,
   "id": "a0073946",
   "metadata": {},
   "outputs": [],
   "source": [
    "# count QAQC by county\n",
    "qaqc_df = count_lst_ele(wdcnt_dict, qaqc, 'QAQC')"
   ]
  },
  {
   "cell_type": "code",
   "execution_count": 25,
   "id": "2111046d",
   "metadata": {},
   "outputs": [],
   "source": [
    "colnm='QAQC_comp'"
   ]
  },
  {
   "cell_type": "code",
   "execution_count": 26,
   "id": "e1cd0d91",
   "metadata": {},
   "outputs": [],
   "source": [
    "comp_df = count_lst_ele(wdcnt_dict, flatten(mapped)+flatten(issue), colnm)"
   ]
  },
  {
   "cell_type": "code",
   "execution_count": 27,
   "id": "073dca8b",
   "metadata": {},
   "outputs": [],
   "source": [
    "out = ndf.merge(qaqc_df, on='county', how='left')"
   ]
  },
  {
   "cell_type": "code",
   "execution_count": 28,
   "id": "663b444f",
   "metadata": {},
   "outputs": [],
   "source": [
    "out1 = out.merge(comp_df, on='county', how='left')"
   ]
  },
  {
   "cell_type": "code",
   "execution_count": 29,
   "id": "a6d97785",
   "metadata": {},
   "outputs": [],
   "source": [
    "sel1 = out1.QAQC_comp.isnull()\n",
    "out1.loc[sel1, colnm] = 0"
   ]
  },
  {
   "cell_type": "code",
   "execution_count": 30,
   "id": "46780d34",
   "metadata": {},
   "outputs": [],
   "source": [
    "set4cty = ['Crook', 'Curry', 'Hood River', 'Jefferson', 'Linn', 'Multnomah', 'Wasco', \n",
    "           'Yamhill', 'Yamhill and Washington']"
   ]
  },
  {
   "cell_type": "code",
   "execution_count": 31,
   "id": "de0467db",
   "metadata": {},
   "outputs": [],
   "source": [
    "sel2 = (out1.QAQC_comp > out1.QAQC) | (~out1.county.isin(set4cty))"
   ]
  },
  {
   "cell_type": "code",
   "execution_count": 32,
   "id": "38e80887",
   "metadata": {},
   "outputs": [],
   "source": [
    "out1.loc[sel2, colnm] = out1.loc[sel2, 'QAQC']"
   ]
  },
  {
   "cell_type": "code",
   "execution_count": 33,
   "id": "b366e908",
   "metadata": {},
   "outputs": [],
   "source": [
    "out1[colnm] = out1[colnm].apply(np.int64)"
   ]
  },
  {
   "cell_type": "code",
   "execution_count": 34,
   "id": "8aa73d74",
   "metadata": {},
   "outputs": [],
   "source": [
    "out1['QAQC_pct'] = out1.apply(lambda row: str(round(row.QAQC/row.total*100,1))+('%'), axis=1)"
   ]
  },
  {
   "cell_type": "code",
   "execution_count": 35,
   "id": "8748c8e9",
   "metadata": {},
   "outputs": [],
   "source": [
    "out1['QAQC_comp_pct'] = out1.apply(lambda row: str(round(row.QAQC_comp/row.QAQC*100,1))+('%'), axis=1)"
   ]
  },
  {
   "cell_type": "code",
   "execution_count": 36,
   "id": "37ee3073",
   "metadata": {},
   "outputs": [
    {
     "data": {
      "text/html": [
       "<div>\n",
       "<style scoped>\n",
       "    .dataframe tbody tr th:only-of-type {\n",
       "        vertical-align: middle;\n",
       "    }\n",
       "\n",
       "    .dataframe tbody tr th {\n",
       "        vertical-align: top;\n",
       "    }\n",
       "\n",
       "    .dataframe thead th {\n",
       "        text-align: right;\n",
       "    }\n",
       "</style>\n",
       "<table border=\"1\" class=\"dataframe\">\n",
       "  <thead>\n",
       "    <tr style=\"text-align: right;\">\n",
       "      <th></th>\n",
       "      <th>county</th>\n",
       "      <th>total</th>\n",
       "      <th>QAQC</th>\n",
       "      <th>QAQC_comp</th>\n",
       "      <th>QAQC_pct</th>\n",
       "      <th>QAQC_comp_pct</th>\n",
       "    </tr>\n",
       "  </thead>\n",
       "  <tbody>\n",
       "    <tr>\n",
       "      <th>0</th>\n",
       "      <td>Baker</td>\n",
       "      <td>38</td>\n",
       "      <td>12</td>\n",
       "      <td>12</td>\n",
       "      <td>31.6%</td>\n",
       "      <td>100.0%</td>\n",
       "    </tr>\n",
       "    <tr>\n",
       "      <th>1</th>\n",
       "      <td>Benton</td>\n",
       "      <td>91</td>\n",
       "      <td>30</td>\n",
       "      <td>30</td>\n",
       "      <td>33.0%</td>\n",
       "      <td>100.0%</td>\n",
       "    </tr>\n",
       "    <tr>\n",
       "      <th>2</th>\n",
       "      <td>Clackamas</td>\n",
       "      <td>275</td>\n",
       "      <td>94</td>\n",
       "      <td>94</td>\n",
       "      <td>34.2%</td>\n",
       "      <td>100.0%</td>\n",
       "    </tr>\n",
       "    <tr>\n",
       "      <th>3</th>\n",
       "      <td>Clatsop</td>\n",
       "      <td>137</td>\n",
       "      <td>41</td>\n",
       "      <td>41</td>\n",
       "      <td>29.9%</td>\n",
       "      <td>100.0%</td>\n",
       "    </tr>\n",
       "    <tr>\n",
       "      <th>4</th>\n",
       "      <td>Columbia</td>\n",
       "      <td>93</td>\n",
       "      <td>33</td>\n",
       "      <td>33</td>\n",
       "      <td>35.5%</td>\n",
       "      <td>100.0%</td>\n",
       "    </tr>\n",
       "    <tr>\n",
       "      <th>5</th>\n",
       "      <td>Coos</td>\n",
       "      <td>120</td>\n",
       "      <td>27</td>\n",
       "      <td>27</td>\n",
       "      <td>22.5%</td>\n",
       "      <td>100.0%</td>\n",
       "    </tr>\n",
       "    <tr>\n",
       "      <th>6</th>\n",
       "      <td>Crook</td>\n",
       "      <td>35</td>\n",
       "      <td>11</td>\n",
       "      <td>11</td>\n",
       "      <td>31.4%</td>\n",
       "      <td>100.0%</td>\n",
       "    </tr>\n",
       "    <tr>\n",
       "      <th>7</th>\n",
       "      <td>Curry</td>\n",
       "      <td>17</td>\n",
       "      <td>3</td>\n",
       "      <td>3</td>\n",
       "      <td>17.6%</td>\n",
       "      <td>100.0%</td>\n",
       "    </tr>\n",
       "    <tr>\n",
       "      <th>8</th>\n",
       "      <td>Deschutes</td>\n",
       "      <td>172</td>\n",
       "      <td>38</td>\n",
       "      <td>38</td>\n",
       "      <td>22.1%</td>\n",
       "      <td>100.0%</td>\n",
       "    </tr>\n",
       "    <tr>\n",
       "      <th>9</th>\n",
       "      <td>Grant</td>\n",
       "      <td>23</td>\n",
       "      <td>6</td>\n",
       "      <td>6</td>\n",
       "      <td>26.1%</td>\n",
       "      <td>100.0%</td>\n",
       "    </tr>\n",
       "    <tr>\n",
       "      <th>10</th>\n",
       "      <td>Harney</td>\n",
       "      <td>13</td>\n",
       "      <td>11</td>\n",
       "      <td>11</td>\n",
       "      <td>84.6%</td>\n",
       "      <td>100.0%</td>\n",
       "    </tr>\n",
       "    <tr>\n",
       "      <th>11</th>\n",
       "      <td>Hood River</td>\n",
       "      <td>55</td>\n",
       "      <td>20</td>\n",
       "      <td>17</td>\n",
       "      <td>36.4%</td>\n",
       "      <td>85.0%</td>\n",
       "    </tr>\n",
       "    <tr>\n",
       "      <th>12</th>\n",
       "      <td>Jackson</td>\n",
       "      <td>221</td>\n",
       "      <td>51</td>\n",
       "      <td>51</td>\n",
       "      <td>23.1%</td>\n",
       "      <td>100.0%</td>\n",
       "    </tr>\n",
       "    <tr>\n",
       "      <th>13</th>\n",
       "      <td>Jefferson</td>\n",
       "      <td>18</td>\n",
       "      <td>7</td>\n",
       "      <td>7</td>\n",
       "      <td>38.9%</td>\n",
       "      <td>100.0%</td>\n",
       "    </tr>\n",
       "    <tr>\n",
       "      <th>14</th>\n",
       "      <td>Josephine</td>\n",
       "      <td>97</td>\n",
       "      <td>17</td>\n",
       "      <td>17</td>\n",
       "      <td>17.5%</td>\n",
       "      <td>100.0%</td>\n",
       "    </tr>\n",
       "    <tr>\n",
       "      <th>15</th>\n",
       "      <td>Klamath</td>\n",
       "      <td>66</td>\n",
       "      <td>33</td>\n",
       "      <td>33</td>\n",
       "      <td>50.0%</td>\n",
       "      <td>100.0%</td>\n",
       "    </tr>\n",
       "    <tr>\n",
       "      <th>16</th>\n",
       "      <td>Lake</td>\n",
       "      <td>34</td>\n",
       "      <td>21</td>\n",
       "      <td>21</td>\n",
       "      <td>61.8%</td>\n",
       "      <td>100.0%</td>\n",
       "    </tr>\n",
       "    <tr>\n",
       "      <th>17</th>\n",
       "      <td>Lincoln</td>\n",
       "      <td>100</td>\n",
       "      <td>26</td>\n",
       "      <td>26</td>\n",
       "      <td>26.0%</td>\n",
       "      <td>100.0%</td>\n",
       "    </tr>\n",
       "    <tr>\n",
       "      <th>18</th>\n",
       "      <td>Linn</td>\n",
       "      <td>187</td>\n",
       "      <td>54</td>\n",
       "      <td>9</td>\n",
       "      <td>28.9%</td>\n",
       "      <td>16.7%</td>\n",
       "    </tr>\n",
       "    <tr>\n",
       "      <th>19</th>\n",
       "      <td>Marion</td>\n",
       "      <td>210</td>\n",
       "      <td>70</td>\n",
       "      <td>70</td>\n",
       "      <td>33.3%</td>\n",
       "      <td>100.0%</td>\n",
       "    </tr>\n",
       "    <tr>\n",
       "      <th>20</th>\n",
       "      <td>Morrow</td>\n",
       "      <td>31</td>\n",
       "      <td>14</td>\n",
       "      <td>14</td>\n",
       "      <td>45.2%</td>\n",
       "      <td>100.0%</td>\n",
       "    </tr>\n",
       "    <tr>\n",
       "      <th>21</th>\n",
       "      <td>Multnomah</td>\n",
       "      <td>230</td>\n",
       "      <td>73</td>\n",
       "      <td>14</td>\n",
       "      <td>31.7%</td>\n",
       "      <td>19.2%</td>\n",
       "    </tr>\n",
       "    <tr>\n",
       "      <th>22</th>\n",
       "      <td>Tillamook</td>\n",
       "      <td>151</td>\n",
       "      <td>40</td>\n",
       "      <td>40</td>\n",
       "      <td>26.5%</td>\n",
       "      <td>100.0%</td>\n",
       "    </tr>\n",
       "    <tr>\n",
       "      <th>23</th>\n",
       "      <td>Wasco</td>\n",
       "      <td>26</td>\n",
       "      <td>12</td>\n",
       "      <td>0</td>\n",
       "      <td>46.2%</td>\n",
       "      <td>0.0%</td>\n",
       "    </tr>\n",
       "    <tr>\n",
       "      <th>24</th>\n",
       "      <td>Yamhill</td>\n",
       "      <td>108</td>\n",
       "      <td>44</td>\n",
       "      <td>1</td>\n",
       "      <td>40.7%</td>\n",
       "      <td>2.3%</td>\n",
       "    </tr>\n",
       "    <tr>\n",
       "      <th>25</th>\n",
       "      <td>Yamhill and Washington</td>\n",
       "      <td>1</td>\n",
       "      <td>1</td>\n",
       "      <td>1</td>\n",
       "      <td>100.0%</td>\n",
       "      <td>100.0%</td>\n",
       "    </tr>\n",
       "  </tbody>\n",
       "</table>\n",
       "</div>"
      ],
      "text/plain": [
       "                    county  total  QAQC  QAQC_comp QAQC_pct QAQC_comp_pct\n",
       "0                    Baker     38    12         12    31.6%        100.0%\n",
       "1                   Benton     91    30         30    33.0%        100.0%\n",
       "2                Clackamas    275    94         94    34.2%        100.0%\n",
       "3                  Clatsop    137    41         41    29.9%        100.0%\n",
       "4                 Columbia     93    33         33    35.5%        100.0%\n",
       "5                     Coos    120    27         27    22.5%        100.0%\n",
       "6                    Crook     35    11         11    31.4%        100.0%\n",
       "7                    Curry     17     3          3    17.6%        100.0%\n",
       "8                Deschutes    172    38         38    22.1%        100.0%\n",
       "9                    Grant     23     6          6    26.1%        100.0%\n",
       "10                  Harney     13    11         11    84.6%        100.0%\n",
       "11              Hood River     55    20         17    36.4%         85.0%\n",
       "12                 Jackson    221    51         51    23.1%        100.0%\n",
       "13               Jefferson     18     7          7    38.9%        100.0%\n",
       "14               Josephine     97    17         17    17.5%        100.0%\n",
       "15                 Klamath     66    33         33    50.0%        100.0%\n",
       "16                    Lake     34    21         21    61.8%        100.0%\n",
       "17                 Lincoln    100    26         26    26.0%        100.0%\n",
       "18                    Linn    187    54          9    28.9%         16.7%\n",
       "19                  Marion    210    70         70    33.3%        100.0%\n",
       "20                  Morrow     31    14         14    45.2%        100.0%\n",
       "21               Multnomah    230    73         14    31.7%         19.2%\n",
       "22               Tillamook    151    40         40    26.5%        100.0%\n",
       "23                   Wasco     26    12          0    46.2%          0.0%\n",
       "24                 Yamhill    108    44          1    40.7%          2.3%\n",
       "25  Yamhill and Washington      1     1          1   100.0%        100.0%"
      ]
     },
     "execution_count": 36,
     "metadata": {},
     "output_type": "execute_result"
    }
   ],
   "source": [
    "out1"
   ]
  },
  {
   "cell_type": "code",
   "execution_count": 37,
   "id": "7901eacc",
   "metadata": {},
   "outputs": [],
   "source": [
    "out1.columns = ['County', 'Total Count', 'QAQC Count', 'QAQC Completed Count', \n",
    "                'QAQC Count Percentage', 'QAQC Completed Count Percentage']"
   ]
  },
  {
   "cell_type": "code",
   "execution_count": 38,
   "id": "fc26a9b7",
   "metadata": {},
   "outputs": [],
   "source": [
    "file=os.path.join(inpath, 'reporting', f'StatusReport{str(date.today()).replace(\"-\", \"\")}.xlsx')"
   ]
  },
  {
   "cell_type": "code",
   "execution_count": 39,
   "id": "c34cd77b",
   "metadata": {},
   "outputs": [],
   "source": [
    "out1.to_excel(file, index=False)"
   ]
  },
  {
   "cell_type": "code",
   "execution_count": 40,
   "id": "662aff7e",
   "metadata": {},
   "outputs": [
    {
     "name": "stdout",
     "output_type": "stream",
     "text": [
      "Removed format\n",
      "Autofitted columns...\n"
     ]
    }
   ],
   "source": [
    "reformat(file)"
   ]
  }
 ],
 "metadata": {
  "kernelspec": {
   "display_name": "Python 3",
   "language": "python",
   "name": "python3"
  },
  "language_info": {
   "codemirror_mode": {
    "name": "ipython",
    "version": 3
   },
   "file_extension": ".py",
   "mimetype": "text/x-python",
   "name": "python",
   "nbconvert_exporter": "python",
   "pygments_lexer": "ipython3",
   "version": "3.8.8"
  }
 },
 "nbformat": 4,
 "nbformat_minor": 5
}
