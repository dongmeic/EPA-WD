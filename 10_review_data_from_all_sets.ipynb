{
 "cells": [
  {
   "cell_type": "code",
   "execution_count": 1,
   "id": "2db16cbf",
   "metadata": {},
   "outputs": [],
   "source": [
    "%load_ext autoreload\n",
    "%autoreload 2"
   ]
  },
  {
   "cell_type": "code",
   "execution_count": 151,
   "id": "09604bab",
   "metadata": {},
   "outputs": [],
   "source": [
    "from wdtools import *"
   ]
  },
  {
   "cell_type": "code",
   "execution_count": 57,
   "id": "d1786e64",
   "metadata": {},
   "outputs": [],
   "source": [
    "wd_df = get_all_wd(num=5)"
   ]
  },
  {
   "cell_type": "code",
   "execution_count": 9,
   "id": "91fd07f9",
   "metadata": {},
   "outputs": [
    {
     "data": {
      "text/plain": [
       "Index(['wetdet_delin_number', 'trsqq', 'parcel_id', 'address_location_desc',\n",
       "       'city', 'county', 'site_name', 'site_desc', 'latitude', 'longitude',\n",
       "       'Coord-Source', 'DocumentName', 'DecisionLink', 'is_batch_file',\n",
       "       'status_name', 'received_date', 'response_date',\n",
       "       'reissuance_response_date', 'project_id', 'site_id', 'record_ID',\n",
       "       'notes', 'recyear', 'IDyear', 'missinglot', 'SetID'],\n",
       "      dtype='object')"
      ]
     },
     "execution_count": 9,
     "metadata": {},
     "output_type": "execute_result"
    }
   ],
   "source": [
    "wd_df.columns"
   ]
  },
  {
   "cell_type": "code",
   "execution_count": 8,
   "id": "c904c69e",
   "metadata": {},
   "outputs": [
    {
     "data": {
      "text/plain": [
       "(4370, 26)"
      ]
     },
     "execution_count": 8,
     "metadata": {},
     "output_type": "execute_result"
    }
   ],
   "source": [
    "wd_df.shape"
   ]
  },
  {
   "cell_type": "code",
   "execution_count": 6,
   "id": "2b1f74b5",
   "metadata": {},
   "outputs": [],
   "source": [
    "wdID_list, n=check_duplicates(wd_df.wetdet_delin_number.values)"
   ]
  },
  {
   "cell_type": "code",
   "execution_count": 7,
   "id": "55c8be8d",
   "metadata": {},
   "outputs": [
    {
     "data": {
      "text/plain": [
       "570"
      ]
     },
     "execution_count": 7,
     "metadata": {},
     "output_type": "execute_result"
    }
   ],
   "source": [
    "n"
   ]
  },
  {
   "cell_type": "code",
   "execution_count": 25,
   "id": "e73356a9",
   "metadata": {},
   "outputs": [],
   "source": [
    "cross_set_wIDs = [wdID for wdID in wdID_list if len(wd_df[wd_df.wetdet_delin_number==wdID].SetID.unique()) > 1]"
   ]
  },
  {
   "cell_type": "code",
   "execution_count": 26,
   "id": "2a859318",
   "metadata": {},
   "outputs": [
    {
     "data": {
      "text/plain": [
       "11"
      ]
     },
     "execution_count": 26,
     "metadata": {},
     "output_type": "execute_result"
    }
   ],
   "source": [
    "len(cross_set_wIDs)"
   ]
  },
  {
   "cell_type": "code",
   "execution_count": 39,
   "id": "bac51f3d",
   "metadata": {},
   "outputs": [],
   "source": [
    "sa_gdf_all = get_all_SA(num=5)"
   ]
  },
  {
   "cell_type": "code",
   "execution_count": 40,
   "id": "4ff9001c",
   "metadata": {},
   "outputs": [],
   "source": [
    "sa_wdID_list, sa_n=check_duplicates(sa_gdf_all.wdID.values)"
   ]
  },
  {
   "cell_type": "code",
   "execution_count": 41,
   "id": "d933cf29",
   "metadata": {},
   "outputs": [
    {
     "data": {
      "text/plain": [
       "8"
      ]
     },
     "execution_count": 41,
     "metadata": {},
     "output_type": "execute_result"
    }
   ],
   "source": [
    "sa_n"
   ]
  },
  {
   "cell_type": "code",
   "execution_count": 42,
   "id": "6025774f",
   "metadata": {},
   "outputs": [
    {
     "data": {
      "text/plain": [
       "[]"
      ]
     },
     "execution_count": 42,
     "metadata": {},
     "output_type": "execute_result"
    }
   ],
   "source": [
    "[wID for wID in sa_wdID_list if wID not in cross_set_wIDs]"
   ]
  },
  {
   "cell_type": "code",
   "execution_count": 47,
   "id": "038d7bfc",
   "metadata": {},
   "outputs": [
    {
     "data": {
      "text/plain": [
       "True"
      ]
     },
     "execution_count": 47,
     "metadata": {},
     "output_type": "execute_result"
    }
   ],
   "source": [
    "wdID = 'WD2021-0651'\n",
    "url = wd_df.loc[wd_df.wetdet_delin_number == wdID, 'DecisionLink'].values[0]\n",
    "webbrowser.open(url)"
   ]
  },
  {
   "cell_type": "code",
   "execution_count": 45,
   "id": "ee3dfcb4",
   "metadata": {},
   "outputs": [
    {
     "data": {
      "text/plain": [
       "['WD2018-0281', 'WD2017-0229', 'WD2021-0651']"
      ]
     },
     "execution_count": 45,
     "metadata": {},
     "output_type": "execute_result"
    }
   ],
   "source": [
    "[wID for wID in cross_set_wIDs if wID not in sa_wdID_list]"
   ]
  },
  {
   "cell_type": "code",
   "execution_count": 49,
   "id": "2e5ae7e0",
   "metadata": {},
   "outputs": [
    {
     "data": {
      "text/plain": [
       "False"
      ]
     },
     "execution_count": 49,
     "metadata": {},
     "output_type": "execute_result"
    }
   ],
   "source": [
    "'WD2021-0179' in sa_gdf_all.wdID.values"
   ]
  },
  {
   "cell_type": "code",
   "execution_count": 51,
   "id": "f67c6986",
   "metadata": {},
   "outputs": [
    {
     "data": {
      "text/plain": [
       "True"
      ]
     },
     "execution_count": 51,
     "metadata": {},
     "output_type": "execute_result"
    }
   ],
   "source": [
    "'04S39E' in trsqq"
   ]
  },
  {
   "cell_type": "code",
   "execution_count": 58,
   "id": "e8225746",
   "metadata": {},
   "outputs": [],
   "source": [
    "wd_df['ORMapNum'] = wd_df[['county', 'trsqq']].apply(lambda row: create_ORMapNm(ct_nm=row.county, trsqq=row.trsqq), axis = 1)"
   ]
  },
  {
   "cell_type": "code",
   "execution_count": 59,
   "id": "719a4611",
   "metadata": {},
   "outputs": [],
   "source": [
    "ORMapNum_lst, txm_n=check_duplicates(wd_df.ORMapNum.values)"
   ]
  },
  {
   "cell_type": "code",
   "execution_count": 60,
   "id": "27f045b8",
   "metadata": {},
   "outputs": [
    {
     "data": {
      "text/plain": [
       "821"
      ]
     },
     "execution_count": 60,
     "metadata": {},
     "output_type": "execute_result"
    }
   ],
   "source": [
    "txm_n"
   ]
  },
  {
   "cell_type": "code",
   "execution_count": 94,
   "id": "7a3d07b8",
   "metadata": {},
   "outputs": [],
   "source": [
    "dup_txm = []\n",
    "txm_dup = []\n",
    "for wdID in wd_df.wetdet_delin_number.unique():\n",
    "    txm_dup_n, k = check_duplicates(wd_df[wd_df.wetdet_delin_number==wdID].ORMapNum.values)\n",
    "    if k>1:\n",
    "        dup_txm.append(wdID)\n",
    "        txm_dup+=txm_dup_n"
   ]
  },
  {
   "cell_type": "code",
   "execution_count": 82,
   "id": "e2529182",
   "metadata": {},
   "outputs": [
    {
     "data": {
      "text/plain": [
       "'0407.00N10.00W15BB--0000'"
      ]
     },
     "execution_count": 82,
     "metadata": {},
     "output_type": "execute_result"
    }
   ],
   "source": [
    "txm_dup[0]"
   ]
  },
  {
   "cell_type": "code",
   "execution_count": 90,
   "id": "ee14be1b",
   "metadata": {},
   "outputs": [],
   "source": [
    "site_id_lst, sid_n = check_duplicates(wd_df.site_id.values)"
   ]
  },
  {
   "cell_type": "code",
   "execution_count": 91,
   "id": "df4a1d40",
   "metadata": {},
   "outputs": [
    {
     "data": {
      "text/plain": [
       "133"
      ]
     },
     "execution_count": 91,
     "metadata": {},
     "output_type": "execute_result"
    }
   ],
   "source": [
    "sid_n"
   ]
  },
  {
   "cell_type": "code",
   "execution_count": 93,
   "id": "478d7873",
   "metadata": {},
   "outputs": [],
   "source": [
    "dup_sid = []\n",
    "sid_dup = []\n",
    "for wdID in wd_df.wetdet_delin_number.unique():\n",
    "    sid_dup_n, k = check_duplicates(wd_df[wd_df.wetdet_delin_number==wdID].site_id.values)\n",
    "    if k>1:\n",
    "        dup_sid.append(wdID)\n",
    "        sid_dup+=sid_dup_n"
   ]
  },
  {
   "cell_type": "code",
   "execution_count": 95,
   "id": "8c5cd5eb",
   "metadata": {},
   "outputs": [
    {
     "data": {
      "text/plain": [
       "16"
      ]
     },
     "execution_count": 95,
     "metadata": {},
     "output_type": "execute_result"
    }
   ],
   "source": [
    "len(dup_sid)"
   ]
  },
  {
   "cell_type": "code",
   "execution_count": 88,
   "id": "6429b3f0",
   "metadata": {},
   "outputs": [
    {
     "data": {
      "text/html": [
       "<div>\n",
       "<style scoped>\n",
       "    .dataframe tbody tr th:only-of-type {\n",
       "        vertical-align: middle;\n",
       "    }\n",
       "\n",
       "    .dataframe tbody tr th {\n",
       "        vertical-align: top;\n",
       "    }\n",
       "\n",
       "    .dataframe thead th {\n",
       "        text-align: right;\n",
       "    }\n",
       "</style>\n",
       "<table border=\"1\" class=\"dataframe\">\n",
       "  <thead>\n",
       "    <tr style=\"text-align: right;\">\n",
       "      <th></th>\n",
       "      <th>parcel_id</th>\n",
       "      <th>site_id</th>\n",
       "      <th>latitude</th>\n",
       "      <th>longitude</th>\n",
       "    </tr>\n",
       "  </thead>\n",
       "  <tbody>\n",
       "    <tr>\n",
       "      <th>91</th>\n",
       "      <td>100,200,1600,1700,ROW all partial</td>\n",
       "      <td>132949</td>\n",
       "      <td>46.094286</td>\n",
       "      <td>-123.92086</td>\n",
       "    </tr>\n",
       "    <tr>\n",
       "      <th>95</th>\n",
       "      <td>3200,3300,ROWs all partial</td>\n",
       "      <td>139666</td>\n",
       "      <td>46.094286</td>\n",
       "      <td>-123.92086</td>\n",
       "    </tr>\n",
       "    <tr>\n",
       "      <th>97</th>\n",
       "      <td>3400,3500,3600,ROW all partial</td>\n",
       "      <td>139665</td>\n",
       "      <td>46.094286</td>\n",
       "      <td>-123.92086</td>\n",
       "    </tr>\n",
       "    <tr>\n",
       "      <th>99</th>\n",
       "      <td>2700,2800,2900,ROW all partial</td>\n",
       "      <td>139663</td>\n",
       "      <td>46.094286</td>\n",
       "      <td>-123.92086</td>\n",
       "    </tr>\n",
       "    <tr>\n",
       "      <th>100</th>\n",
       "      <td>2400,2500,2600,ROW all partial</td>\n",
       "      <td>139662</td>\n",
       "      <td>46.094286</td>\n",
       "      <td>-123.92086</td>\n",
       "    </tr>\n",
       "    <tr>\n",
       "      <th>101</th>\n",
       "      <td>1800,3700 all partial</td>\n",
       "      <td>139660</td>\n",
       "      <td>46.094286</td>\n",
       "      <td>-123.92086</td>\n",
       "    </tr>\n",
       "    <tr>\n",
       "      <th>103</th>\n",
       "      <td>3000,3100,ROW all partial</td>\n",
       "      <td>139664</td>\n",
       "      <td>46.094286</td>\n",
       "      <td>-123.92086</td>\n",
       "    </tr>\n",
       "    <tr>\n",
       "      <th>104</th>\n",
       "      <td>2100,2200,2300,ROW all partial</td>\n",
       "      <td>139661</td>\n",
       "      <td>46.094286</td>\n",
       "      <td>-123.92086</td>\n",
       "    </tr>\n",
       "  </tbody>\n",
       "</table>\n",
       "</div>"
      ],
      "text/plain": [
       "                             parcel_id  site_id   latitude  longitude\n",
       "91   100,200,1600,1700,ROW all partial   132949  46.094286 -123.92086\n",
       "95          3200,3300,ROWs all partial   139666  46.094286 -123.92086\n",
       "97      3400,3500,3600,ROW all partial   139665  46.094286 -123.92086\n",
       "99      2700,2800,2900,ROW all partial   139663  46.094286 -123.92086\n",
       "100     2400,2500,2600,ROW all partial   139662  46.094286 -123.92086\n",
       "101              1800,3700 all partial   139660  46.094286 -123.92086\n",
       "103          3000,3100,ROW all partial   139664  46.094286 -123.92086\n",
       "104     2100,2200,2300,ROW all partial   139661  46.094286 -123.92086"
      ]
     },
     "execution_count": 88,
     "metadata": {},
     "output_type": "execute_result"
    }
   ],
   "source": [
    "wd_df[wd_df.ORMapNum==txm_dup[0]][['parcel_id','site_id', 'latitude', 'longitude']]"
   ]
  },
  {
   "cell_type": "code",
   "execution_count": 89,
   "id": "088802c5",
   "metadata": {},
   "outputs": [
    {
     "data": {
      "text/html": [
       "<div>\n",
       "<style scoped>\n",
       "    .dataframe tbody tr th:only-of-type {\n",
       "        vertical-align: middle;\n",
       "    }\n",
       "\n",
       "    .dataframe tbody tr th {\n",
       "        vertical-align: top;\n",
       "    }\n",
       "\n",
       "    .dataframe thead th {\n",
       "        text-align: right;\n",
       "    }\n",
       "</style>\n",
       "<table border=\"1\" class=\"dataframe\">\n",
       "  <thead>\n",
       "    <tr style=\"text-align: right;\">\n",
       "      <th></th>\n",
       "      <th>ORMapNum</th>\n",
       "      <th>county</th>\n",
       "      <th>trsqq</th>\n",
       "      <th>parcel_id</th>\n",
       "      <th>project_id</th>\n",
       "      <th>site_id</th>\n",
       "      <th>latitude</th>\n",
       "      <th>longitude</th>\n",
       "      <th>SetID</th>\n",
       "    </tr>\n",
       "  </thead>\n",
       "  <tbody>\n",
       "    <tr>\n",
       "      <th>91</th>\n",
       "      <td>0407.00N10.00W15BB--0000</td>\n",
       "      <td>Clatsop</td>\n",
       "      <td>07N10W15BB</td>\n",
       "      <td>100,200,1600,1700,ROW all partial</td>\n",
       "      <td>79733.0</td>\n",
       "      <td>132949</td>\n",
       "      <td>46.094286</td>\n",
       "      <td>-123.92086</td>\n",
       "      <td>1</td>\n",
       "    </tr>\n",
       "    <tr>\n",
       "      <th>92</th>\n",
       "      <td>0407.00N10.00W15BC--0000</td>\n",
       "      <td>Clatsop</td>\n",
       "      <td>07N10W15BC</td>\n",
       "      <td>1400,1600,ROWs all partial</td>\n",
       "      <td>79733.0</td>\n",
       "      <td>132950</td>\n",
       "      <td>46.094286</td>\n",
       "      <td>-123.92086</td>\n",
       "      <td>1</td>\n",
       "    </tr>\n",
       "    <tr>\n",
       "      <th>93</th>\n",
       "      <td>0407.00N10.00W1600--0000</td>\n",
       "      <td>Clatsop</td>\n",
       "      <td>07N10W16</td>\n",
       "      <td>200,300,ROW all partial</td>\n",
       "      <td>79733.0</td>\n",
       "      <td>132952</td>\n",
       "      <td>46.094286</td>\n",
       "      <td>-123.92086</td>\n",
       "      <td>1</td>\n",
       "    </tr>\n",
       "    <tr>\n",
       "      <th>94</th>\n",
       "      <td>0407.00N10.00W15CB--0000</td>\n",
       "      <td>Clatsop</td>\n",
       "      <td>07N10W15CB</td>\n",
       "      <td>100,200,300,400, ROW all partial</td>\n",
       "      <td>79733.0</td>\n",
       "      <td>132951</td>\n",
       "      <td>46.094286</td>\n",
       "      <td>-123.92086</td>\n",
       "      <td>1</td>\n",
       "    </tr>\n",
       "    <tr>\n",
       "      <th>95</th>\n",
       "      <td>0407.00N10.00W15BB--0000</td>\n",
       "      <td>Clatsop</td>\n",
       "      <td>07N10W15BB</td>\n",
       "      <td>3200,3300,ROWs all partial</td>\n",
       "      <td>79733.0</td>\n",
       "      <td>139666</td>\n",
       "      <td>46.094286</td>\n",
       "      <td>-123.92086</td>\n",
       "      <td>1</td>\n",
       "    </tr>\n",
       "    <tr>\n",
       "      <th>96</th>\n",
       "      <td>0407.00N10.00W15BC--0000</td>\n",
       "      <td>Clatsop</td>\n",
       "      <td>07N10W15BC</td>\n",
       "      <td>600,700,800,ROW all partial</td>\n",
       "      <td>79733.0</td>\n",
       "      <td>139667</td>\n",
       "      <td>46.094286</td>\n",
       "      <td>-123.92086</td>\n",
       "      <td>1</td>\n",
       "    </tr>\n",
       "    <tr>\n",
       "      <th>97</th>\n",
       "      <td>0407.00N10.00W15BB--0000</td>\n",
       "      <td>Clatsop</td>\n",
       "      <td>07N10W15BB</td>\n",
       "      <td>3400,3500,3600,ROW all partial</td>\n",
       "      <td>79733.0</td>\n",
       "      <td>139665</td>\n",
       "      <td>46.094286</td>\n",
       "      <td>-123.92086</td>\n",
       "      <td>1</td>\n",
       "    </tr>\n",
       "    <tr>\n",
       "      <th>98</th>\n",
       "      <td>0407.00N10.00W15BC--0000</td>\n",
       "      <td>Clatsop</td>\n",
       "      <td>07N10W15BC</td>\n",
       "      <td>900,1100,1200,ROW all partial</td>\n",
       "      <td>79733.0</td>\n",
       "      <td>139669</td>\n",
       "      <td>46.094286</td>\n",
       "      <td>-123.92086</td>\n",
       "      <td>1</td>\n",
       "    </tr>\n",
       "    <tr>\n",
       "      <th>99</th>\n",
       "      <td>0407.00N10.00W15BB--0000</td>\n",
       "      <td>Clatsop</td>\n",
       "      <td>07N10W15BB</td>\n",
       "      <td>2700,2800,2900,ROW all partial</td>\n",
       "      <td>79733.0</td>\n",
       "      <td>139663</td>\n",
       "      <td>46.094286</td>\n",
       "      <td>-123.92086</td>\n",
       "      <td>1</td>\n",
       "    </tr>\n",
       "    <tr>\n",
       "      <th>100</th>\n",
       "      <td>0407.00N10.00W15BB--0000</td>\n",
       "      <td>Clatsop</td>\n",
       "      <td>07N10W15BB</td>\n",
       "      <td>2400,2500,2600,ROW all partial</td>\n",
       "      <td>79733.0</td>\n",
       "      <td>139662</td>\n",
       "      <td>46.094286</td>\n",
       "      <td>-123.92086</td>\n",
       "      <td>1</td>\n",
       "    </tr>\n",
       "    <tr>\n",
       "      <th>101</th>\n",
       "      <td>0407.00N10.00W15BB--0000</td>\n",
       "      <td>Clatsop</td>\n",
       "      <td>07N10W15BB</td>\n",
       "      <td>1800,3700 all partial</td>\n",
       "      <td>79733.0</td>\n",
       "      <td>139660</td>\n",
       "      <td>46.094286</td>\n",
       "      <td>-123.92086</td>\n",
       "      <td>1</td>\n",
       "    </tr>\n",
       "    <tr>\n",
       "      <th>102</th>\n",
       "      <td>0407.00N10.00W15BC--0000</td>\n",
       "      <td>Clatsop</td>\n",
       "      <td>07N10W15BC</td>\n",
       "      <td>500,1000,1300,ROWs all partial</td>\n",
       "      <td>79733.0</td>\n",
       "      <td>139670</td>\n",
       "      <td>46.094286</td>\n",
       "      <td>-123.92086</td>\n",
       "      <td>1</td>\n",
       "    </tr>\n",
       "    <tr>\n",
       "      <th>103</th>\n",
       "      <td>0407.00N10.00W15BB--0000</td>\n",
       "      <td>Clatsop</td>\n",
       "      <td>07N10W15BB</td>\n",
       "      <td>3000,3100,ROW all partial</td>\n",
       "      <td>79733.0</td>\n",
       "      <td>139664</td>\n",
       "      <td>46.094286</td>\n",
       "      <td>-123.92086</td>\n",
       "      <td>1</td>\n",
       "    </tr>\n",
       "    <tr>\n",
       "      <th>104</th>\n",
       "      <td>0407.00N10.00W15BB--0000</td>\n",
       "      <td>Clatsop</td>\n",
       "      <td>07N10W15BB</td>\n",
       "      <td>2100,2200,2300,ROW all partial</td>\n",
       "      <td>79733.0</td>\n",
       "      <td>139661</td>\n",
       "      <td>46.094286</td>\n",
       "      <td>-123.92086</td>\n",
       "      <td>1</td>\n",
       "    </tr>\n",
       "  </tbody>\n",
       "</table>\n",
       "</div>"
      ],
      "text/plain": [
       "                     ORMapNum   county       trsqq  \\\n",
       "91   0407.00N10.00W15BB--0000  Clatsop  07N10W15BB   \n",
       "92   0407.00N10.00W15BC--0000  Clatsop  07N10W15BC   \n",
       "93   0407.00N10.00W1600--0000  Clatsop    07N10W16   \n",
       "94   0407.00N10.00W15CB--0000  Clatsop  07N10W15CB   \n",
       "95   0407.00N10.00W15BB--0000  Clatsop  07N10W15BB   \n",
       "96   0407.00N10.00W15BC--0000  Clatsop  07N10W15BC   \n",
       "97   0407.00N10.00W15BB--0000  Clatsop  07N10W15BB   \n",
       "98   0407.00N10.00W15BC--0000  Clatsop  07N10W15BC   \n",
       "99   0407.00N10.00W15BB--0000  Clatsop  07N10W15BB   \n",
       "100  0407.00N10.00W15BB--0000  Clatsop  07N10W15BB   \n",
       "101  0407.00N10.00W15BB--0000  Clatsop  07N10W15BB   \n",
       "102  0407.00N10.00W15BC--0000  Clatsop  07N10W15BC   \n",
       "103  0407.00N10.00W15BB--0000  Clatsop  07N10W15BB   \n",
       "104  0407.00N10.00W15BB--0000  Clatsop  07N10W15BB   \n",
       "\n",
       "                             parcel_id  project_id  site_id   latitude  \\\n",
       "91   100,200,1600,1700,ROW all partial     79733.0   132949  46.094286   \n",
       "92          1400,1600,ROWs all partial     79733.0   132950  46.094286   \n",
       "93             200,300,ROW all partial     79733.0   132952  46.094286   \n",
       "94    100,200,300,400, ROW all partial     79733.0   132951  46.094286   \n",
       "95          3200,3300,ROWs all partial     79733.0   139666  46.094286   \n",
       "96         600,700,800,ROW all partial     79733.0   139667  46.094286   \n",
       "97      3400,3500,3600,ROW all partial     79733.0   139665  46.094286   \n",
       "98       900,1100,1200,ROW all partial     79733.0   139669  46.094286   \n",
       "99      2700,2800,2900,ROW all partial     79733.0   139663  46.094286   \n",
       "100     2400,2500,2600,ROW all partial     79733.0   139662  46.094286   \n",
       "101              1800,3700 all partial     79733.0   139660  46.094286   \n",
       "102     500,1000,1300,ROWs all partial     79733.0   139670  46.094286   \n",
       "103          3000,3100,ROW all partial     79733.0   139664  46.094286   \n",
       "104     2100,2200,2300,ROW all partial     79733.0   139661  46.094286   \n",
       "\n",
       "     longitude  SetID  \n",
       "91  -123.92086      1  \n",
       "92  -123.92086      1  \n",
       "93  -123.92086      1  \n",
       "94  -123.92086      1  \n",
       "95  -123.92086      1  \n",
       "96  -123.92086      1  \n",
       "97  -123.92086      1  \n",
       "98  -123.92086      1  \n",
       "99  -123.92086      1  \n",
       "100 -123.92086      1  \n",
       "101 -123.92086      1  \n",
       "102 -123.92086      1  \n",
       "103 -123.92086      1  \n",
       "104 -123.92086      1  "
      ]
     },
     "execution_count": 89,
     "metadata": {},
     "output_type": "execute_result"
    }
   ],
   "source": [
    "wd_df[wd_df.wetdet_delin_number==dup_txm[0]][['ORMapNum', 'county', 'trsqq', 'parcel_id', 'project_id', 'site_id', 'latitude', 'longitude', 'SetID']]"
   ]
  },
  {
   "cell_type": "code",
   "execution_count": 143,
   "id": "386c806f",
   "metadata": {},
   "outputs": [
    {
     "data": {
      "text/plain": [
       "True"
      ]
     },
     "execution_count": 143,
     "metadata": {},
     "output_type": "execute_result"
    }
   ],
   "source": [
    "len(wd_df[wd_df.wetdet_delin_number==dup_txm[0]].ORMapNum.unique()) < exp_gdf.shape[0]"
   ]
  },
  {
   "cell_type": "code",
   "execution_count": 96,
   "id": "8e7f7855",
   "metadata": {},
   "outputs": [],
   "source": [
    "all_mapIdx = read_all_mapIdx()"
   ]
  },
  {
   "cell_type": "code",
   "execution_count": 97,
   "id": "3cc72af1",
   "metadata": {},
   "outputs": [],
   "source": [
    "sa_gdf_all = get_all_SA(num=5)"
   ]
  },
  {
   "cell_type": "code",
   "execution_count": 108,
   "id": "eb800d48",
   "metadata": {},
   "outputs": [
    {
     "data": {
      "text/plain": [
       "'WD2020-0280'"
      ]
     },
     "execution_count": 108,
     "metadata": {},
     "output_type": "execute_result"
    }
   ],
   "source": [
    "dup_txm[0]"
   ]
  },
  {
   "cell_type": "code",
   "execution_count": 204,
   "id": "de6705cc",
   "metadata": {},
   "outputs": [],
   "source": [
    "exp_gdf = split_WD_to_taxmaps(df=wd_df, gdf=sa_gdf_all, wdID=dup_txm[0], \n",
    "                              mapindex=all_mapIdx[all_mapIdx.year=='2020'])"
   ]
  },
  {
   "cell_type": "code",
   "execution_count": 160,
   "id": "8fc0c8b7",
   "metadata": {},
   "outputs": [
    {
     "data": {
      "text/html": [
       "<div>\n",
       "<style scoped>\n",
       "    .dataframe tbody tr th:only-of-type {\n",
       "        vertical-align: middle;\n",
       "    }\n",
       "\n",
       "    .dataframe tbody tr th {\n",
       "        vertical-align: top;\n",
       "    }\n",
       "\n",
       "    .dataframe thead th {\n",
       "        text-align: right;\n",
       "    }\n",
       "</style>\n",
       "<table border=\"1\" class=\"dataframe\">\n",
       "  <thead>\n",
       "    <tr style=\"text-align: right;\">\n",
       "      <th></th>\n",
       "      <th>geometry</th>\n",
       "      <th>code</th>\n",
       "      <th>wdID</th>\n",
       "      <th>SetID</th>\n",
       "      <th>ORMapNum</th>\n",
       "    </tr>\n",
       "  </thead>\n",
       "  <tbody>\n",
       "    <tr>\n",
       "      <th>0</th>\n",
       "      <td>MULTIPOLYGON (((444892.790 1601689.719, 444892...</td>\n",
       "      <td>2.0</td>\n",
       "      <td>WD2020-0280</td>\n",
       "      <td>1</td>\n",
       "      <td>0407.00N10.00W15BB--0000</td>\n",
       "    </tr>\n",
       "    <tr>\n",
       "      <th>1</th>\n",
       "      <td>MULTIPOLYGON (((445015.752 1600633.307, 444982...</td>\n",
       "      <td>2.0</td>\n",
       "      <td>WD2020-0280</td>\n",
       "      <td>1</td>\n",
       "      <td>0407.00N10.00W15BC--0000</td>\n",
       "    </tr>\n",
       "    <tr>\n",
       "      <th>2</th>\n",
       "      <td>POLYGON ((444476.993 1600655.812, 444476.993 1...</td>\n",
       "      <td>2.0</td>\n",
       "      <td>WD2020-0280</td>\n",
       "      <td>1</td>\n",
       "      <td>0407.00N10.00W15CB--0000</td>\n",
       "    </tr>\n",
       "    <tr>\n",
       "      <th>3</th>\n",
       "      <td>MULTIPOLYGON (((444371.146 1600966.538, 444377...</td>\n",
       "      <td>2.0</td>\n",
       "      <td>WD2020-0280</td>\n",
       "      <td>1</td>\n",
       "      <td>0407.00N10.00W1600--0000</td>\n",
       "    </tr>\n",
       "  </tbody>\n",
       "</table>\n",
       "</div>"
      ],
      "text/plain": [
       "                                            geometry  code         wdID  \\\n",
       "0  MULTIPOLYGON (((444892.790 1601689.719, 444892...   2.0  WD2020-0280   \n",
       "1  MULTIPOLYGON (((445015.752 1600633.307, 444982...   2.0  WD2020-0280   \n",
       "2  POLYGON ((444476.993 1600655.812, 444476.993 1...   2.0  WD2020-0280   \n",
       "3  MULTIPOLYGON (((444371.146 1600966.538, 444377...   2.0  WD2020-0280   \n",
       "\n",
       "   SetID                  ORMapNum  \n",
       "0      1  0407.00N10.00W15BB--0000  \n",
       "1      1  0407.00N10.00W15BC--0000  \n",
       "2      1  0407.00N10.00W15CB--0000  \n",
       "3      1  0407.00N10.00W1600--0000  "
      ]
     },
     "execution_count": 160,
     "metadata": {},
     "output_type": "execute_result"
    }
   ],
   "source": [
    "exp_gdf"
   ]
  },
  {
   "cell_type": "code",
   "execution_count": 105,
   "id": "b36abc98",
   "metadata": {},
   "outputs": [
    {
     "data": {
      "text/plain": [
       "True"
      ]
     },
     "execution_count": 105,
     "metadata": {},
     "output_type": "execute_result"
    }
   ],
   "source": [
    "len(exp_gdf.ORMapNum.unique())==exp_gdf.shape[0]"
   ]
  },
  {
   "cell_type": "code",
   "execution_count": 109,
   "id": "fa1fcad5",
   "metadata": {},
   "outputs": [],
   "source": [
    "# this can take about 9 - 11 minutes\n",
    "start = time.time()\n",
    "all_taxlot = combine_taxlot()\n",
    "end = time.time()\n",
    "print(f'it took {round((end - start)/60, 0)} minutes to complete')"
   ]
  },
  {
   "cell_type": "code",
   "execution_count": 152,
   "id": "eec4688b",
   "metadata": {},
   "outputs": [],
   "source": [
    "exp_gdf1 = split_WD_to_records(df=wd_df, gdf=sa_gdf_all, wdID=dup_txm[0], \n",
    "                               mapindex=all_mapIdx[all_mapIdx.year=='2020'], \n",
    "                               taxlots=taxlot20)"
   ]
  },
  {
   "cell_type": "code",
   "execution_count": 153,
   "id": "48774354",
   "metadata": {},
   "outputs": [
    {
     "data": {
      "text/plain": [
       "True"
      ]
     },
     "execution_count": 153,
     "metadata": {},
     "output_type": "execute_result"
    }
   ],
   "source": [
    "len(exp_gdf1.record_ID.unique())==exp_gdf1.shape[0]"
   ]
  },
  {
   "cell_type": "code",
   "execution_count": 205,
   "id": "e174b607",
   "metadata": {},
   "outputs": [],
   "source": [
    "exp_gdf['lat'], exp_gdf['lon'] = transformer.transform(exp_gdf.representative_point().x, exp_gdf.representative_point().y)"
   ]
  },
  {
   "cell_type": "code",
   "execution_count": 162,
   "id": "340258fe",
   "metadata": {},
   "outputs": [],
   "source": [
    "df = wd_df[wd_df.wetdet_delin_number==\"WD2020-0280\"]"
   ]
  },
  {
   "cell_type": "code",
   "execution_count": 171,
   "id": "c2dad2be",
   "metadata": {},
   "outputs": [],
   "source": [
    "ndf = df.drop_duplicates(subset='ORMapNum')"
   ]
  },
  {
   "cell_type": "code",
   "execution_count": 180,
   "id": "097a6be8",
   "metadata": {},
   "outputs": [
    {
     "data": {
      "text/plain": [
       "Index(['wetdet_delin_number', 'trsqq', 'parcel_id', 'address_location_desc',\n",
       "       'city', 'county', 'site_name', 'site_desc', 'latitude', 'longitude',\n",
       "       'Coord-Source', 'DocumentName', 'DecisionLink', 'is_batch_file',\n",
       "       'status_name', 'received_date', 'response_date',\n",
       "       'reissuance_response_date', 'project_id', 'site_id', 'record_ID',\n",
       "       'notes', 'recyear', 'IDyear', 'missinglot', 'SetID', 'ORMapNum'],\n",
       "      dtype='object')"
      ]
     },
     "execution_count": 180,
     "metadata": {},
     "output_type": "execute_result"
    }
   ],
   "source": [
    "ndf.columns"
   ]
  },
  {
   "cell_type": "code",
   "execution_count": 181,
   "id": "119c21af",
   "metadata": {},
   "outputs": [
    {
     "data": {
      "text/html": [
       "<div>\n",
       "<style scoped>\n",
       "    .dataframe tbody tr th:only-of-type {\n",
       "        vertical-align: middle;\n",
       "    }\n",
       "\n",
       "    .dataframe tbody tr th {\n",
       "        vertical-align: top;\n",
       "    }\n",
       "\n",
       "    .dataframe thead th {\n",
       "        text-align: right;\n",
       "    }\n",
       "</style>\n",
       "<table border=\"1\" class=\"dataframe\">\n",
       "  <thead>\n",
       "    <tr style=\"text-align: right;\">\n",
       "      <th></th>\n",
       "      <th>Coord-Source</th>\n",
       "    </tr>\n",
       "  </thead>\n",
       "  <tbody>\n",
       "    <tr>\n",
       "      <th>91</th>\n",
       "      <td>DSL Verified</td>\n",
       "    </tr>\n",
       "    <tr>\n",
       "      <th>92</th>\n",
       "      <td>DSL Verified</td>\n",
       "    </tr>\n",
       "    <tr>\n",
       "      <th>93</th>\n",
       "      <td>DSL Verified</td>\n",
       "    </tr>\n",
       "    <tr>\n",
       "      <th>94</th>\n",
       "      <td>DSL Verified</td>\n",
       "    </tr>\n",
       "  </tbody>\n",
       "</table>\n",
       "</div>"
      ],
      "text/plain": [
       "    Coord-Source\n",
       "91  DSL Verified\n",
       "92  DSL Verified\n",
       "93  DSL Verified\n",
       "94  DSL Verified"
      ]
     },
     "execution_count": 181,
     "metadata": {},
     "output_type": "execute_result"
    }
   ],
   "source": [
    "ndf[['Coord-Source']]"
   ]
  },
  {
   "cell_type": "code",
   "execution_count": 182,
   "id": "274a320c",
   "metadata": {},
   "outputs": [],
   "source": [
    "ndf.drop(columns=['parcel_id','site_id','record_ID'], inplace=True)"
   ]
  },
  {
   "cell_type": "code",
   "execution_count": 163,
   "id": "1fbd9cf3",
   "metadata": {},
   "outputs": [],
   "source": [
    "g = df.groupby('ORMapNum')"
   ]
  },
  {
   "cell_type": "code",
   "execution_count": 196,
   "id": "dcad7368",
   "metadata": {},
   "outputs": [],
   "source": [
    "pi_df = g.apply(lambda x: '; '.join(x.parcel_id.unique())).to_frame(name='parcel_id').reset_index(drop=True)"
   ]
  },
  {
   "cell_type": "code",
   "execution_count": 197,
   "id": "6c4289c9",
   "metadata": {},
   "outputs": [],
   "source": [
    "si_df = g.apply(lambda x: '; '.join(x.site_id.astype(str).unique())).to_frame(name='site_id').reset_index(drop=True)\n",
    "ri_df = g.apply(lambda x: '; '.join(x.record_ID.astype(str).unique())).to_frame(name='record_ID').reset_index()"
   ]
  },
  {
   "cell_type": "code",
   "execution_count": 199,
   "id": "f305be05",
   "metadata": {},
   "outputs": [],
   "source": [
    "sdf = pd.concat([ri_df, pi_df, si_df], axis=1)"
   ]
  },
  {
   "cell_type": "code",
   "execution_count": 201,
   "id": "50947526",
   "metadata": {},
   "outputs": [
    {
     "data": {
      "text/plain": [
       "Index(['geometry', 'code', 'wdID', 'SetID', 'ORMapNum'], dtype='object')"
      ]
     },
     "execution_count": 201,
     "metadata": {},
     "output_type": "execute_result"
    }
   ],
   "source": [
    "exp_gdf.columns"
   ]
  },
  {
   "cell_type": "code",
   "execution_count": 202,
   "id": "39fac29e",
   "metadata": {},
   "outputs": [],
   "source": [
    "fdf = ndf.merge(sdf, on='ORMapNum')\n",
    "exp_gdf = fdf.merge(exp_gdf[['code','ORMapNum','lat','lon','geometry']], on='ORMapNum')"
   ]
  },
  {
   "cell_type": "code",
   "execution_count": 203,
   "id": "70d3ef41",
   "metadata": {},
   "outputs": [
    {
     "data": {
      "text/html": [
       "<div>\n",
       "<style scoped>\n",
       "    .dataframe tbody tr th:only-of-type {\n",
       "        vertical-align: middle;\n",
       "    }\n",
       "\n",
       "    .dataframe tbody tr th {\n",
       "        vertical-align: top;\n",
       "    }\n",
       "\n",
       "    .dataframe thead th {\n",
       "        text-align: right;\n",
       "    }\n",
       "</style>\n",
       "<table border=\"1\" class=\"dataframe\">\n",
       "  <thead>\n",
       "    <tr style=\"text-align: right;\">\n",
       "      <th></th>\n",
       "      <th>wetdet_delin_number</th>\n",
       "      <th>trsqq</th>\n",
       "      <th>address_location_desc</th>\n",
       "      <th>city</th>\n",
       "      <th>county</th>\n",
       "      <th>site_name</th>\n",
       "      <th>site_desc</th>\n",
       "      <th>latitude</th>\n",
       "      <th>longitude</th>\n",
       "      <th>Coord-Source</th>\n",
       "      <th>...</th>\n",
       "      <th>recyear</th>\n",
       "      <th>IDyear</th>\n",
       "      <th>missinglot</th>\n",
       "      <th>SetID</th>\n",
       "      <th>ORMapNum</th>\n",
       "      <th>record_ID</th>\n",
       "      <th>parcel_id</th>\n",
       "      <th>site_id</th>\n",
       "      <th>code</th>\n",
       "      <th>geometry</th>\n",
       "    </tr>\n",
       "  </thead>\n",
       "  <tbody>\n",
       "    <tr>\n",
       "      <th>0</th>\n",
       "      <td>WD2020-0280</td>\n",
       "      <td>07N10W15BB</td>\n",
       "      <td>W of 90266 Hwy 101</td>\n",
       "      <td>Warrenton</td>\n",
       "      <td>Clatsop</td>\n",
       "      <td>Dune Estates Subdivision</td>\n",
       "      <td>WD2020-0280 delineation</td>\n",
       "      <td>46.094286</td>\n",
       "      <td>-123.92086</td>\n",
       "      <td>DSL Verified</td>\n",
       "      <td>...</td>\n",
       "      <td>2020</td>\n",
       "      <td>2020</td>\n",
       "      <td>N</td>\n",
       "      <td>1</td>\n",
       "      <td>0407.00N10.00W15BB--0000</td>\n",
       "      <td>92; 96; 98; 100; 101; 102; 104; 105</td>\n",
       "      <td>100,200,1600,1700,ROW all partial; 3200,3300,R...</td>\n",
       "      <td>132949; 139666; 139665; 139663; 139662; 139660...</td>\n",
       "      <td>2.0</td>\n",
       "      <td>MULTIPOLYGON (((444892.790 1601689.719, 444892...</td>\n",
       "    </tr>\n",
       "    <tr>\n",
       "      <th>1</th>\n",
       "      <td>WD2020-0280</td>\n",
       "      <td>07N10W15BC</td>\n",
       "      <td>W of 90266 Hwy 101</td>\n",
       "      <td>Warrenton</td>\n",
       "      <td>Clatsop</td>\n",
       "      <td>Dune Estates Subdivision</td>\n",
       "      <td>WD2020-0280 delineation</td>\n",
       "      <td>46.094286</td>\n",
       "      <td>-123.92086</td>\n",
       "      <td>DSL Verified</td>\n",
       "      <td>...</td>\n",
       "      <td>2020</td>\n",
       "      <td>2020</td>\n",
       "      <td>N</td>\n",
       "      <td>1</td>\n",
       "      <td>0407.00N10.00W15BC--0000</td>\n",
       "      <td>93; 97; 99; 103</td>\n",
       "      <td>1400,1600,ROWs all partial; 600,700,800,ROW al...</td>\n",
       "      <td>132950; 139667; 139669; 139670</td>\n",
       "      <td>2.0</td>\n",
       "      <td>MULTIPOLYGON (((445015.752 1600633.307, 444982...</td>\n",
       "    </tr>\n",
       "    <tr>\n",
       "      <th>2</th>\n",
       "      <td>WD2020-0280</td>\n",
       "      <td>07N10W16</td>\n",
       "      <td>W of 90266 Hwy 101</td>\n",
       "      <td>Warrenton</td>\n",
       "      <td>Clatsop</td>\n",
       "      <td>Dune Estates Subdivision</td>\n",
       "      <td>WD2020-0280 delineation</td>\n",
       "      <td>46.094286</td>\n",
       "      <td>-123.92086</td>\n",
       "      <td>DSL Verified</td>\n",
       "      <td>...</td>\n",
       "      <td>2020</td>\n",
       "      <td>2020</td>\n",
       "      <td>N</td>\n",
       "      <td>1</td>\n",
       "      <td>0407.00N10.00W1600--0000</td>\n",
       "      <td>94</td>\n",
       "      <td>200,300,ROW all partial</td>\n",
       "      <td>132952</td>\n",
       "      <td>2.0</td>\n",
       "      <td>MULTIPOLYGON (((444371.146 1600966.538, 444377...</td>\n",
       "    </tr>\n",
       "    <tr>\n",
       "      <th>3</th>\n",
       "      <td>WD2020-0280</td>\n",
       "      <td>07N10W15CB</td>\n",
       "      <td>W of 90266 Hwy 101</td>\n",
       "      <td>Warrenton</td>\n",
       "      <td>Clatsop</td>\n",
       "      <td>Dune Estates Subdivision</td>\n",
       "      <td>WD2020-0280 delineation</td>\n",
       "      <td>46.094286</td>\n",
       "      <td>-123.92086</td>\n",
       "      <td>DSL Verified</td>\n",
       "      <td>...</td>\n",
       "      <td>2020</td>\n",
       "      <td>2020</td>\n",
       "      <td>N</td>\n",
       "      <td>1</td>\n",
       "      <td>0407.00N10.00W15CB--0000</td>\n",
       "      <td>95</td>\n",
       "      <td>100,200,300,400, ROW all partial</td>\n",
       "      <td>132951</td>\n",
       "      <td>2.0</td>\n",
       "      <td>POLYGON ((444476.993 1600655.812, 444476.993 1...</td>\n",
       "    </tr>\n",
       "  </tbody>\n",
       "</table>\n",
       "<p>4 rows × 29 columns</p>\n",
       "</div>"
      ],
      "text/plain": [
       "  wetdet_delin_number       trsqq address_location_desc       city   county  \\\n",
       "0         WD2020-0280  07N10W15BB    W of 90266 Hwy 101  Warrenton  Clatsop   \n",
       "1         WD2020-0280  07N10W15BC    W of 90266 Hwy 101  Warrenton  Clatsop   \n",
       "2         WD2020-0280    07N10W16    W of 90266 Hwy 101  Warrenton  Clatsop   \n",
       "3         WD2020-0280  07N10W15CB    W of 90266 Hwy 101  Warrenton  Clatsop   \n",
       "\n",
       "                  site_name                site_desc   latitude  longitude  \\\n",
       "0  Dune Estates Subdivision  WD2020-0280 delineation  46.094286 -123.92086   \n",
       "1  Dune Estates Subdivision  WD2020-0280 delineation  46.094286 -123.92086   \n",
       "2  Dune Estates Subdivision  WD2020-0280 delineation  46.094286 -123.92086   \n",
       "3  Dune Estates Subdivision  WD2020-0280 delineation  46.094286 -123.92086   \n",
       "\n",
       "   Coord-Source  ... recyear IDyear missinglot SetID  \\\n",
       "0  DSL Verified  ...    2020   2020          N     1   \n",
       "1  DSL Verified  ...    2020   2020          N     1   \n",
       "2  DSL Verified  ...    2020   2020          N     1   \n",
       "3  DSL Verified  ...    2020   2020          N     1   \n",
       "\n",
       "                   ORMapNum                            record_ID  \\\n",
       "0  0407.00N10.00W15BB--0000  92; 96; 98; 100; 101; 102; 104; 105   \n",
       "1  0407.00N10.00W15BC--0000                      93; 97; 99; 103   \n",
       "2  0407.00N10.00W1600--0000                                   94   \n",
       "3  0407.00N10.00W15CB--0000                                   95   \n",
       "\n",
       "                                           parcel_id  \\\n",
       "0  100,200,1600,1700,ROW all partial; 3200,3300,R...   \n",
       "1  1400,1600,ROWs all partial; 600,700,800,ROW al...   \n",
       "2                            200,300,ROW all partial   \n",
       "3                   100,200,300,400, ROW all partial   \n",
       "\n",
       "                                             site_id code  \\\n",
       "0  132949; 139666; 139665; 139663; 139662; 139660...  2.0   \n",
       "1                     132950; 139667; 139669; 139670  2.0   \n",
       "2                                             132952  2.0   \n",
       "3                                             132951  2.0   \n",
       "\n",
       "                                            geometry  \n",
       "0  MULTIPOLYGON (((444892.790 1601689.719, 444892...  \n",
       "1  MULTIPOLYGON (((445015.752 1600633.307, 444982...  \n",
       "2  MULTIPOLYGON (((444371.146 1600966.538, 444377...  \n",
       "3  POLYGON ((444476.993 1600655.812, 444476.993 1...  \n",
       "\n",
       "[4 rows x 29 columns]"
      ]
     },
     "execution_count": 203,
     "metadata": {},
     "output_type": "execute_result"
    }
   ],
   "source": [
    "exp_gdf"
   ]
  },
  {
   "cell_type": "code",
   "execution_count": 149,
   "id": "e350f948",
   "metadata": {},
   "outputs": [],
   "source": [
    "exp_gdf.to_file(outpath+'\\\\test\\\\WD2020_0280_txm.shp')"
   ]
  },
  {
   "cell_type": "code",
   "execution_count": 150,
   "id": "e77cd0be",
   "metadata": {},
   "outputs": [],
   "source": [
    "exp_gdf.geometry = exp_gdf.representative_point()\n",
    "exp_gdf.to_file(outpath+'\\\\test\\\\WD2020_0280_txm_pt.shp')"
   ]
  },
  {
   "cell_type": "code",
   "execution_count": 155,
   "id": "3b5b4fe5",
   "metadata": {},
   "outputs": [],
   "source": [
    "exp_gdf1 = exp_gdf1.rename(columns=coldict)"
   ]
  },
  {
   "cell_type": "code",
   "execution_count": 156,
   "id": "fbf7333e",
   "metadata": {},
   "outputs": [],
   "source": [
    "exp_gdf1['lat'], exp_gdf1['lon'] = transformer.transform(exp_gdf1.representative_point().x, exp_gdf1.representative_point().y)"
   ]
  },
  {
   "cell_type": "code",
   "execution_count": 157,
   "id": "77d47864",
   "metadata": {},
   "outputs": [],
   "source": [
    "exp_gdf1.to_file(outpath+'\\\\test\\\\WD2020_0280_rid.shp')"
   ]
  },
  {
   "cell_type": "code",
   "execution_count": 158,
   "id": "ca7d43bc",
   "metadata": {},
   "outputs": [],
   "source": [
    "exp_gdf1.geometry = exp_gdf1.representative_point()\n",
    "exp_gdf1.to_file(outpath+'\\\\test\\\\WD2020_0280_rid_pt.shp')"
   ]
  }
 ],
 "metadata": {
  "kernelspec": {
   "display_name": "Python 3",
   "language": "python",
   "name": "python3"
  },
  "language_info": {
   "codemirror_mode": {
    "name": "ipython",
    "version": 3
   },
   "file_extension": ".py",
   "mimetype": "text/x-python",
   "name": "python",
   "nbconvert_exporter": "python",
   "pygments_lexer": "ipython3",
   "version": "3.8.8"
  }
 },
 "nbformat": 4,
 "nbformat_minor": 5
}
