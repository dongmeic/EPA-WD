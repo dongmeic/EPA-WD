{
 "cells": [
  {
   "cell_type": "code",
   "execution_count": 1,
   "id": "9313dd39",
   "metadata": {},
   "outputs": [],
   "source": [
    "%load_ext autoreload\n",
    "%autoreload 2"
   ]
  },
  {
   "cell_type": "code",
   "execution_count": 142,
   "id": "d3e04331",
   "metadata": {},
   "outputs": [],
   "source": [
    "from wdtools import *"
   ]
  },
  {
   "cell_type": "code",
   "execution_count": 3,
   "id": "a38a429e",
   "metadata": {},
   "outputs": [],
   "source": [
    "wd_df = get_all_wd(num=5)"
   ]
  },
  {
   "cell_type": "code",
   "execution_count": 9,
   "id": "fa30e655",
   "metadata": {
    "scrolled": true
   },
   "outputs": [
    {
     "data": {
      "text/plain": [
       "Index(['wetdet_delin_number', 'trsqq', 'parcel_id', 'address_location_desc',\n",
       "       'city', 'county', 'site_name', 'site_desc', 'latitude', 'longitude',\n",
       "       'Coord-Source', 'DocumentName', 'DecisionLink', 'is_batch_file',\n",
       "       'status_name', 'received_date', 'response_date',\n",
       "       'reissuance_response_date', 'project_id', 'site_id', 'record_ID',\n",
       "       'notes', 'recyear', 'IDyear', 'missinglot', 'SetID'],\n",
       "      dtype='object')"
      ]
     },
     "execution_count": 9,
     "metadata": {},
     "output_type": "execute_result"
    }
   ],
   "source": [
    "wd_df.columns"
   ]
  },
  {
   "cell_type": "code",
   "execution_count": 4,
   "id": "88c206c7",
   "metadata": {},
   "outputs": [
    {
     "data": {
      "text/plain": [
       "(4370, 26)"
      ]
     },
     "execution_count": 4,
     "metadata": {},
     "output_type": "execute_result"
    }
   ],
   "source": [
    "wd_df.shape"
   ]
  },
  {
   "cell_type": "code",
   "execution_count": 6,
   "id": "8d00dce6",
   "metadata": {},
   "outputs": [],
   "source": [
    "all_mapIdx = read_all_mapIdx()"
   ]
  },
  {
   "cell_type": "code",
   "execution_count": 132,
   "id": "0939718b",
   "metadata": {},
   "outputs": [],
   "source": [
    "sa_gdf_all = get_all_SA(num=5)"
   ]
  },
  {
   "cell_type": "code",
   "execution_count": 140,
   "id": "f6216954",
   "metadata": {},
   "outputs": [],
   "source": [
    "wid = 'WD2017-0229'"
   ]
  },
  {
   "cell_type": "code",
   "execution_count": 143,
   "id": "9d36954d",
   "metadata": {},
   "outputs": [],
   "source": [
    "exp_gdf = join_WD_with_SA_by_taxmap(df=wd_df[wd_df.wetdet_delin_number==wid], \n",
    "                          gdf=sa_gdf_all[sa_gdf_all.wdID==wid], \n",
    "                          mapindex=all_mapIdx, \n",
    "                          outnm=\"WD2017_0229\",\n",
    "                          export=True)"
   ]
  },
  {
   "cell_type": "code",
   "execution_count": 144,
   "id": "0b12beab",
   "metadata": {},
   "outputs": [
    {
     "name": "stdout",
     "output_type": "stream",
     "text": [
      "it took 7.0 minutes to complete\n"
     ]
    }
   ],
   "source": [
    "start = time.time()\n",
    "sa_gdf=join_WD_with_SA_by_taxmap(df=wd_df, gdf=sa_gdf_all, mapindex=all_mapIdx)\n",
    "end = time.time()\n",
    "print(f'it took {round((end - start)/60, 0)} minutes to complete')"
   ]
  },
  {
   "cell_type": "code",
   "execution_count": 6,
   "id": "ab89f4a4",
   "metadata": {},
   "outputs": [],
   "source": [
    "wdID_list, n=check_duplicates(wd_df.wetdet_delin_number.values)"
   ]
  },
  {
   "cell_type": "code",
   "execution_count": 7,
   "id": "e7d70253",
   "metadata": {},
   "outputs": [
    {
     "data": {
      "text/plain": [
       "570"
      ]
     },
     "execution_count": 7,
     "metadata": {},
     "output_type": "execute_result"
    }
   ],
   "source": [
    "n"
   ]
  },
  {
   "cell_type": "code",
   "execution_count": 25,
   "id": "4fe42234",
   "metadata": {},
   "outputs": [],
   "source": [
    "cross_set_wIDs = [wdID for wdID in wdID_list if len(wd_df[wd_df.wetdet_delin_number==wdID].SetID.unique()) > 1]"
   ]
  },
  {
   "cell_type": "code",
   "execution_count": 26,
   "id": "ba91686b",
   "metadata": {},
   "outputs": [
    {
     "data": {
      "text/plain": [
       "11"
      ]
     },
     "execution_count": 26,
     "metadata": {},
     "output_type": "execute_result"
    }
   ],
   "source": [
    "len(cross_set_wIDs)"
   ]
  },
  {
   "cell_type": "code",
   "execution_count": 39,
   "id": "b7d954af",
   "metadata": {},
   "outputs": [],
   "source": [
    "sa_gdf_all = get_all_SA(num=5)"
   ]
  },
  {
   "cell_type": "code",
   "execution_count": 40,
   "id": "2312c522",
   "metadata": {},
   "outputs": [],
   "source": [
    "sa_wdID_list, sa_n=check_duplicates(sa_gdf_all.wdID.values)"
   ]
  },
  {
   "cell_type": "code",
   "execution_count": 41,
   "id": "617141d6",
   "metadata": {},
   "outputs": [
    {
     "data": {
      "text/plain": [
       "8"
      ]
     },
     "execution_count": 41,
     "metadata": {},
     "output_type": "execute_result"
    }
   ],
   "source": [
    "sa_n"
   ]
  },
  {
   "cell_type": "code",
   "execution_count": 42,
   "id": "abfe2ea7",
   "metadata": {},
   "outputs": [
    {
     "data": {
      "text/plain": [
       "[]"
      ]
     },
     "execution_count": 42,
     "metadata": {},
     "output_type": "execute_result"
    }
   ],
   "source": [
    "[wID for wID in sa_wdID_list if wID not in cross_set_wIDs]"
   ]
  },
  {
   "cell_type": "code",
   "execution_count": 47,
   "id": "9e081e9a",
   "metadata": {},
   "outputs": [
    {
     "data": {
      "text/plain": [
       "True"
      ]
     },
     "execution_count": 47,
     "metadata": {},
     "output_type": "execute_result"
    }
   ],
   "source": [
    "wdID = 'WD2021-0651'\n",
    "url = wd_df.loc[wd_df.wetdet_delin_number == wdID, 'DecisionLink'].values[0]\n",
    "webbrowser.open(url)"
   ]
  },
  {
   "cell_type": "code",
   "execution_count": 45,
   "id": "1d7db174",
   "metadata": {},
   "outputs": [
    {
     "data": {
      "text/plain": [
       "['WD2018-0281', 'WD2017-0229', 'WD2021-0651']"
      ]
     },
     "execution_count": 45,
     "metadata": {},
     "output_type": "execute_result"
    }
   ],
   "source": [
    "[wID for wID in cross_set_wIDs if wID not in sa_wdID_list]"
   ]
  },
  {
   "cell_type": "code",
   "execution_count": 49,
   "id": "551c9ee4",
   "metadata": {},
   "outputs": [
    {
     "data": {
      "text/plain": [
       "False"
      ]
     },
     "execution_count": 49,
     "metadata": {},
     "output_type": "execute_result"
    }
   ],
   "source": [
    "'WD2021-0179' in sa_gdf_all.wdID.values"
   ]
  },
  {
   "cell_type": "code",
   "execution_count": 58,
   "id": "450aae5c",
   "metadata": {},
   "outputs": [],
   "source": [
    "wd_df['ORMapNum'] = wd_df[['county', 'trsqq']].apply(lambda row: create_ORMapNm(ct_nm=row.county, trsqq=row.trsqq), axis = 1)"
   ]
  },
  {
   "cell_type": "code",
   "execution_count": 59,
   "id": "27ed42c7",
   "metadata": {},
   "outputs": [],
   "source": [
    "ORMapNum_lst, txm_n=check_duplicates(wd_df.ORMapNum.values)"
   ]
  },
  {
   "cell_type": "code",
   "execution_count": 60,
   "id": "6885f34b",
   "metadata": {},
   "outputs": [
    {
     "data": {
      "text/plain": [
       "821"
      ]
     },
     "execution_count": 60,
     "metadata": {},
     "output_type": "execute_result"
    }
   ],
   "source": [
    "txm_n"
   ]
  },
  {
   "cell_type": "code",
   "execution_count": 94,
   "id": "8518956b",
   "metadata": {},
   "outputs": [],
   "source": [
    "dup_txm = []\n",
    "txm_dup = []\n",
    "for wdID in wd_df.wetdet_delin_number.unique():\n",
    "    txm_dup_n, k = check_duplicates(wd_df[wd_df.wetdet_delin_number==wdID].ORMapNum.values)\n",
    "    if k>1:\n",
    "        dup_txm.append(wdID)\n",
    "        txm_dup+=txm_dup_n"
   ]
  },
  {
   "cell_type": "code",
   "execution_count": 82,
   "id": "c8d14672",
   "metadata": {},
   "outputs": [
    {
     "data": {
      "text/plain": [
       "'0407.00N10.00W15BB--0000'"
      ]
     },
     "execution_count": 82,
     "metadata": {},
     "output_type": "execute_result"
    }
   ],
   "source": [
    "txm_dup[0]"
   ]
  },
  {
   "cell_type": "code",
   "execution_count": 90,
   "id": "8bdddebd",
   "metadata": {},
   "outputs": [],
   "source": [
    "site_id_lst, sid_n = check_duplicates(wd_df.site_id.values)"
   ]
  },
  {
   "cell_type": "code",
   "execution_count": 91,
   "id": "2d61e1b5",
   "metadata": {},
   "outputs": [
    {
     "data": {
      "text/plain": [
       "133"
      ]
     },
     "execution_count": 91,
     "metadata": {},
     "output_type": "execute_result"
    }
   ],
   "source": [
    "sid_n"
   ]
  },
  {
   "cell_type": "code",
   "execution_count": 93,
   "id": "ce959a40",
   "metadata": {},
   "outputs": [],
   "source": [
    "dup_sid = []\n",
    "sid_dup = []\n",
    "for wdID in wd_df.wetdet_delin_number.unique():\n",
    "    sid_dup_n, k = check_duplicates(wd_df[wd_df.wetdet_delin_number==wdID].site_id.values)\n",
    "    if k>1:\n",
    "        dup_sid.append(wdID)\n",
    "        sid_dup+=sid_dup_n"
   ]
  },
  {
   "cell_type": "code",
   "execution_count": 95,
   "id": "4865bb66",
   "metadata": {},
   "outputs": [
    {
     "data": {
      "text/plain": [
       "16"
      ]
     },
     "execution_count": 95,
     "metadata": {},
     "output_type": "execute_result"
    }
   ],
   "source": [
    "len(dup_sid)"
   ]
  }
 ],
 "metadata": {
  "kernelspec": {
   "display_name": "Python 3",
   "language": "python",
   "name": "python3"
  },
  "language_info": {
   "codemirror_mode": {
    "name": "ipython",
    "version": 3
   },
   "file_extension": ".py",
   "mimetype": "text/x-python",
   "name": "python",
   "nbconvert_exporter": "python",
   "pygments_lexer": "ipython3",
   "version": "3.8.8"
  }
 },
 "nbformat": 4,
 "nbformat_minor": 5
}
