{
 "cells": [
  {
   "cell_type": "code",
   "execution_count": 1,
   "id": "d7c2612b",
   "metadata": {},
   "outputs": [],
   "source": [
    "%load_ext autoreload\n",
    "%autoreload 2"
   ]
  },
  {
   "cell_type": "code",
   "execution_count": 2,
   "id": "31eba31e",
   "metadata": {},
   "outputs": [],
   "source": [
    "from wdtools import *"
   ]
  },
  {
   "cell_type": "code",
   "execution_count": 4,
   "id": "bb8373d9",
   "metadata": {
    "scrolled": true
   },
   "outputs": [
    {
     "name": "stdout",
     "output_type": "stream",
     "text": [
      "it took 1.0 minutes to complete\n"
     ]
    }
   ],
   "source": [
    "# counties listed should have the same years available\n",
    "start = time.time()\n",
    "Lake_taxlot = combine_taxlot(yearstart=2011, yearend=2017, all_counties=False, counties=['Lake'])\n",
    "Marion_taxlot = combine_taxlot(yearstart=2009, yearend=2017, skips=[2010, 2013], all_counties=False, counties=['Marion'])\n",
    "all_taxlot = Lake_taxlot.append(Marion_taxlot)\n",
    "end = time.time()\n",
    "print(f'it took {round((end - start)/60, 0)} minutes to complete')"
   ]
  },
  {
   "cell_type": "code",
   "execution_count": 5,
   "id": "007cc0be",
   "metadata": {},
   "outputs": [],
   "source": [
    "setID = 'Set008'; nm_to_add = 5402"
   ]
  },
  {
   "cell_type": "code",
   "execution_count": 6,
   "id": "2c2645dd",
   "metadata": {},
   "outputs": [],
   "source": [
    "wd = combine_wd_tables(setID=setID, nm_to_add=nm_to_add)"
   ]
  },
  {
   "cell_type": "code",
   "execution_count": 7,
   "id": "9dced017",
   "metadata": {},
   "outputs": [],
   "source": [
    "df = pd.DataFrame(columns = ['wetdet_delin_number', 'record_ID', 'field', 'cor_type', 'from', 'to'])"
   ]
  },
  {
   "cell_type": "code",
   "execution_count": 8,
   "id": "0d8aa941",
   "metadata": {},
   "outputs": [],
   "source": [
    "ml = 'N'"
   ]
  },
  {
   "cell_type": "code",
   "execution_count": 9,
   "id": "132a44f2",
   "metadata": {},
   "outputs": [],
   "source": [
    "notes = pd.read_csv(os.path.join(inpath + '\\\\output\\\\to_review\\\\', f'review_unmatched_{setID}_r2_{ml}_0.csv'))"
   ]
  },
  {
   "cell_type": "code",
   "execution_count": 10,
   "id": "2cc47515",
   "metadata": {},
   "outputs": [
    {
     "data": {
      "text/plain": [
       "Index(['wetdet_delin_number', 'trsqq', 'parcel_id', 'county', 'latitude',\n",
       "       'longitude', 'DecisionLink', 'record_ID', 'IDyear', 'correct_type',\n",
       "       'correction', 'cor_trsqq', 'ORTaxlot'],\n",
       "      dtype='object')"
      ]
     },
     "execution_count": 10,
     "metadata": {},
     "output_type": "execute_result"
    }
   ],
   "source": [
    "notes.columns"
   ]
  },
  {
   "cell_type": "code",
   "execution_count": 10,
   "id": "1d769620",
   "metadata": {},
   "outputs": [
    {
     "data": {
      "text/plain": [
       "(6, 13)"
      ]
     },
     "execution_count": 10,
     "metadata": {},
     "output_type": "execute_result"
    }
   ],
   "source": [
    "notes.shape"
   ]
  },
  {
   "cell_type": "code",
   "execution_count": 11,
   "id": "0219935d",
   "metadata": {},
   "outputs": [],
   "source": [
    "i=0"
   ]
  },
  {
   "cell_type": "code",
   "execution_count": 73,
   "id": "58515b77",
   "metadata": {},
   "outputs": [],
   "source": [
    "i = i+1"
   ]
  },
  {
   "cell_type": "code",
   "execution_count": 76,
   "id": "464edc5e",
   "metadata": {},
   "outputs": [],
   "source": [
    "i = 5"
   ]
  },
  {
   "cell_type": "code",
   "execution_count": 13,
   "id": "c2e2d803",
   "metadata": {},
   "outputs": [
    {
     "data": {
      "text/html": [
       "<div>\n",
       "<style scoped>\n",
       "    .dataframe tbody tr th:only-of-type {\n",
       "        vertical-align: middle;\n",
       "    }\n",
       "\n",
       "    .dataframe tbody tr th {\n",
       "        vertical-align: top;\n",
       "    }\n",
       "\n",
       "    .dataframe thead th {\n",
       "        text-align: right;\n",
       "    }\n",
       "</style>\n",
       "<table border=\"1\" class=\"dataframe\">\n",
       "  <thead>\n",
       "    <tr style=\"text-align: right;\">\n",
       "      <th></th>\n",
       "      <th>wetdet_delin_number</th>\n",
       "      <th>trsqq</th>\n",
       "      <th>parcel_id</th>\n",
       "      <th>county</th>\n",
       "      <th>latitude</th>\n",
       "      <th>longitude</th>\n",
       "      <th>DecisionLink</th>\n",
       "      <th>record_ID</th>\n",
       "      <th>IDyear</th>\n",
       "      <th>correct_type</th>\n",
       "      <th>correction</th>\n",
       "      <th>cor_trsqq</th>\n",
       "      <th>ORTaxlot</th>\n",
       "    </tr>\n",
       "  </thead>\n",
       "  <tbody>\n",
       "    <tr>\n",
       "      <th>0</th>\n",
       "      <td>WD2011-0023</td>\n",
       "      <td>08S01E24</td>\n",
       "      <td>100</td>\n",
       "      <td>Marion</td>\n",
       "      <td>44.867500</td>\n",
       "      <td>-122.637700</td>\n",
       "      <td>https://docs.dsl.state.or.us/PublicReview/Elec...</td>\n",
       "      <td>5614</td>\n",
       "      <td>2011</td>\n",
       "      <td>section number</td>\n",
       "      <td>from 24 to 14</td>\n",
       "      <td>08S01E1400</td>\n",
       "      <td>2408.00S01.00E1400--000000100</td>\n",
       "    </tr>\n",
       "    <tr>\n",
       "      <th>1</th>\n",
       "      <td>WD2010-0305</td>\n",
       "      <td>06S01W10C</td>\n",
       "      <td>1900</td>\n",
       "      <td>Marion</td>\n",
       "      <td>45.072100</td>\n",
       "      <td>-122.801500</td>\n",
       "      <td>https://docs.dsl.state.or.us/PublicReview/Elec...</td>\n",
       "      <td>5588</td>\n",
       "      <td>2010</td>\n",
       "      <td>section number and QQ</td>\n",
       "      <td>from 10 and C0 to 03 and CC</td>\n",
       "      <td>06S01W03CC</td>\n",
       "      <td>2406.00S01.00W03CC--000001900</td>\n",
       "    </tr>\n",
       "    <tr>\n",
       "      <th>2</th>\n",
       "      <td>WD2010-0015</td>\n",
       "      <td>07S02W32A</td>\n",
       "      <td>6700p</td>\n",
       "      <td>Marion</td>\n",
       "      <td>44.920975</td>\n",
       "      <td>-122.958189</td>\n",
       "      <td>https://docs.dsl.state.or.us/PublicReview/Elec...</td>\n",
       "      <td>5552</td>\n",
       "      <td>2010</td>\n",
       "      <td>QQ</td>\n",
       "      <td>from A0 to AC</td>\n",
       "      <td>07S02W32AC</td>\n",
       "      <td>2407.00S02.00W32AC--000006700</td>\n",
       "    </tr>\n",
       "    <tr>\n",
       "      <th>3</th>\n",
       "      <td>WD2008-0098</td>\n",
       "      <td>05S03W11AA</td>\n",
       "      <td>900</td>\n",
       "      <td>Marion</td>\n",
       "      <td>45.151060</td>\n",
       "      <td>-123.021000</td>\n",
       "      <td>https://docs.dsl.state.or.us/PublicReview/Elec...</td>\n",
       "      <td>5466</td>\n",
       "      <td>2008</td>\n",
       "      <td>QQ</td>\n",
       "      <td>from AA to 00</td>\n",
       "      <td>05S03W1100</td>\n",
       "      <td>2405.00S03.00W1100--000000500</td>\n",
       "    </tr>\n",
       "    <tr>\n",
       "      <th>4</th>\n",
       "      <td>WD2012-0175</td>\n",
       "      <td>09S03E30DD</td>\n",
       "      <td>100, 102, 3600</td>\n",
       "      <td>Marion</td>\n",
       "      <td>44.755800</td>\n",
       "      <td>-122.477400</td>\n",
       "      <td>https://docs.dsl.state.or.us/PublicReview/Elec...</td>\n",
       "      <td>5678</td>\n",
       "      <td>2012</td>\n",
       "      <td>to review</td>\n",
       "      <td>some lots are not matched, need to review trsq...</td>\n",
       "      <td>09S03E30DA</td>\n",
       "      <td>2409.00S03.00E30DA--000003700</td>\n",
       "    </tr>\n",
       "    <tr>\n",
       "      <th>5</th>\n",
       "      <td>WD2013-0362</td>\n",
       "      <td>11S03W05CC</td>\n",
       "      <td>4500</td>\n",
       "      <td>Marion</td>\n",
       "      <td>44.638200</td>\n",
       "      <td>-123.087300</td>\n",
       "      <td>https://docs.dsl.state.or.us/PublicReview/Elec...</td>\n",
       "      <td>5727</td>\n",
       "      <td>2013</td>\n",
       "      <td>coordinate</td>\n",
       "      <td>coordinate might be incorrect, nearby taxlot i...</td>\n",
       "      <td>10S03W24</td>\n",
       "      <td>2410.00S03.00W2400--0000WATER</td>\n",
       "    </tr>\n",
       "  </tbody>\n",
       "</table>\n",
       "</div>"
      ],
      "text/plain": [
       "  wetdet_delin_number       trsqq       parcel_id  county   latitude  \\\n",
       "0         WD2011-0023    08S01E24             100  Marion  44.867500   \n",
       "1         WD2010-0305   06S01W10C            1900  Marion  45.072100   \n",
       "2         WD2010-0015   07S02W32A           6700p  Marion  44.920975   \n",
       "3         WD2008-0098  05S03W11AA             900  Marion  45.151060   \n",
       "4         WD2012-0175  09S03E30DD  100, 102, 3600  Marion  44.755800   \n",
       "5         WD2013-0362  11S03W05CC            4500  Marion  44.638200   \n",
       "\n",
       "    longitude                                       DecisionLink  record_ID  \\\n",
       "0 -122.637700  https://docs.dsl.state.or.us/PublicReview/Elec...       5614   \n",
       "1 -122.801500  https://docs.dsl.state.or.us/PublicReview/Elec...       5588   \n",
       "2 -122.958189  https://docs.dsl.state.or.us/PublicReview/Elec...       5552   \n",
       "3 -123.021000  https://docs.dsl.state.or.us/PublicReview/Elec...       5466   \n",
       "4 -122.477400  https://docs.dsl.state.or.us/PublicReview/Elec...       5678   \n",
       "5 -123.087300  https://docs.dsl.state.or.us/PublicReview/Elec...       5727   \n",
       "\n",
       "   IDyear           correct_type  \\\n",
       "0    2011         section number   \n",
       "1    2010  section number and QQ   \n",
       "2    2010                     QQ   \n",
       "3    2008                     QQ   \n",
       "4    2012              to review   \n",
       "5    2013             coordinate   \n",
       "\n",
       "                                          correction   cor_trsqq  \\\n",
       "0                                      from 24 to 14  08S01E1400   \n",
       "1                        from 10 and C0 to 03 and CC  06S01W03CC   \n",
       "2                                      from A0 to AC  07S02W32AC   \n",
       "3                                      from AA to 00  05S03W1100   \n",
       "4  some lots are not matched, need to review trsq...  09S03E30DA   \n",
       "5  coordinate might be incorrect, nearby taxlot i...    10S03W24   \n",
       "\n",
       "                        ORTaxlot  \n",
       "0  2408.00S01.00E1400--000000100  \n",
       "1  2406.00S01.00W03CC--000001900  \n",
       "2  2407.00S02.00W32AC--000006700  \n",
       "3  2405.00S03.00W1100--000000500  \n",
       "4  2409.00S03.00E30DA--000003700  \n",
       "5  2410.00S03.00W2400--0000WATER  "
      ]
     },
     "execution_count": 13,
     "metadata": {},
     "output_type": "execute_result"
    }
   ],
   "source": [
    "notes"
   ]
  },
  {
   "cell_type": "code",
   "execution_count": 77,
   "id": "9ef09850",
   "metadata": {},
   "outputs": [
    {
     "data": {
      "text/plain": [
       "wetdet_delin_number                                          WD2013-0362\n",
       "record_ID                                                           5727\n",
       "trsqq                                                         11S03W05CC\n",
       "county                                                            Marion\n",
       "correct_type                                                  coordinate\n",
       "correction             coordinate might be incorrect, nearby taxlot i...\n",
       "cor_trsqq                                                       10S03W24\n",
       "parcel_id                                                           4500\n",
       "ORTaxlot                                   2410.00S03.00W2400--0000WATER\n",
       "Name: 5, dtype: object"
      ]
     },
     "execution_count": 77,
     "metadata": {},
     "output_type": "execute_result"
    }
   ],
   "source": [
    "notes.loc[i, ['wetdet_delin_number', 'record_ID', 'trsqq', 'county', 'correct_type', \n",
    "              'correction', 'cor_trsqq', 'parcel_id', 'ORTaxlot']]"
   ]
  },
  {
   "cell_type": "code",
   "execution_count": 71,
   "id": "973aeb36",
   "metadata": {},
   "outputs": [
    {
     "data": {
      "text/html": [
       "<div>\n",
       "<style scoped>\n",
       "    .dataframe tbody tr th:only-of-type {\n",
       "        vertical-align: middle;\n",
       "    }\n",
       "\n",
       "    .dataframe tbody tr th {\n",
       "        vertical-align: top;\n",
       "    }\n",
       "\n",
       "    .dataframe thead th {\n",
       "        text-align: right;\n",
       "    }\n",
       "</style>\n",
       "<table border=\"1\" class=\"dataframe\">\n",
       "  <thead>\n",
       "    <tr style=\"text-align: right;\">\n",
       "      <th></th>\n",
       "      <th>wetdet_delin_number</th>\n",
       "      <th>county</th>\n",
       "      <th>trsqq</th>\n",
       "      <th>parcel_id</th>\n",
       "      <th>latitude</th>\n",
       "      <th>longitude</th>\n",
       "      <th>record_ID</th>\n",
       "      <th>notes</th>\n",
       "      <th>status_name</th>\n",
       "      <th>is_batch_file</th>\n",
       "    </tr>\n",
       "  </thead>\n",
       "  <tbody>\n",
       "    <tr>\n",
       "      <th>324</th>\n",
       "      <td>WD2013-0362</td>\n",
       "      <td>Marion</td>\n",
       "      <td>11S03W05CC</td>\n",
       "      <td>4500</td>\n",
       "      <td>44.6382</td>\n",
       "      <td>-123.0873</td>\n",
       "      <td>5727</td>\n",
       "      <td></td>\n",
       "      <td>Completed by DSL</td>\n",
       "      <td>Y</td>\n",
       "    </tr>\n",
       "  </tbody>\n",
       "</table>\n",
       "</div>"
      ],
      "text/plain": [
       "    wetdet_delin_number  county       trsqq parcel_id  latitude  longitude  \\\n",
       "324         WD2013-0362  Marion  11S03W05CC      4500   44.6382  -123.0873   \n",
       "\n",
       "     record_ID notes       status_name is_batch_file  \n",
       "324       5727        Completed by DSL             Y  "
      ]
     },
     "execution_count": 71,
     "metadata": {},
     "output_type": "execute_result"
    }
   ],
   "source": [
    "wdID = notes.loc[i,'wetdet_delin_number']\n",
    "url = wd.loc[wd.wetdet_delin_number == wdID, 'DecisionLink'].values[0]\n",
    "if str(url) == 'nan':\n",
    "    print('Decision link is not available')\n",
    "else:\n",
    "    webbrowser.open(url)\n",
    "selcols = ['wetdet_delin_number', 'county', 'trsqq', 'parcel_id', 'latitude', 'longitude', 'record_ID', 'notes', 'status_name', 'is_batch_file']\n",
    "wd.loc[wd.wetdet_delin_number == wdID, selcols]"
   ]
  },
  {
   "cell_type": "code",
   "execution_count": 28,
   "id": "e5f66269",
   "metadata": {},
   "outputs": [],
   "source": [
    "txlot = create_ORTaxlot(cnt_code=24, trsqq='08S02E29', lot='100')"
   ]
  },
  {
   "cell_type": "code",
   "execution_count": 29,
   "id": "46a753d1",
   "metadata": {},
   "outputs": [
    {
     "data": {
      "text/plain": [
       "False"
      ]
     },
     "execution_count": 29,
     "metadata": {},
     "output_type": "execute_result"
    }
   ],
   "source": [
    "txlot in all_taxlot.ORTaxlot.unique()"
   ]
  },
  {
   "cell_type": "code",
   "execution_count": 15,
   "id": "eb972c14",
   "metadata": {},
   "outputs": [
    {
     "data": {
      "text/html": [
       "<div>\n",
       "<style scoped>\n",
       "    .dataframe tbody tr th:only-of-type {\n",
       "        vertical-align: middle;\n",
       "    }\n",
       "\n",
       "    .dataframe tbody tr th {\n",
       "        vertical-align: top;\n",
       "    }\n",
       "\n",
       "    .dataframe thead th {\n",
       "        text-align: right;\n",
       "    }\n",
       "</style>\n",
       "<table border=\"1\" class=\"dataframe\">\n",
       "  <thead>\n",
       "    <tr style=\"text-align: right;\">\n",
       "      <th></th>\n",
       "      <th>year</th>\n",
       "      <th>county</th>\n",
       "      <th>ORTaxlot</th>\n",
       "      <th>geometry</th>\n",
       "    </tr>\n",
       "  </thead>\n",
       "  <tbody>\n",
       "    <tr>\n",
       "      <th>160</th>\n",
       "      <td>2009.0</td>\n",
       "      <td>Marion</td>\n",
       "      <td>2408.00S01.00E1400--000000100</td>\n",
       "      <td>MULTIPOLYGON (((765370.284 1149932.521, 765358...</td>\n",
       "    </tr>\n",
       "    <tr>\n",
       "      <th>193385</th>\n",
       "      <td>2011.0</td>\n",
       "      <td>Marion</td>\n",
       "      <td>2408.00S01.00E1400--000000100</td>\n",
       "      <td>MULTIPOLYGON (((751571.441 1154489.143, 750906...</td>\n",
       "    </tr>\n",
       "    <tr>\n",
       "      <th>194704</th>\n",
       "      <td>2011.0</td>\n",
       "      <td>Marion</td>\n",
       "      <td>2408.00S01.00E1400--000000100</td>\n",
       "      <td>MULTIPOLYGON (((746937.137 1154585.813, 747082...</td>\n",
       "    </tr>\n",
       "    <tr>\n",
       "      <th>198137</th>\n",
       "      <td>2011.0</td>\n",
       "      <td>Marion</td>\n",
       "      <td>2408.00S01.00E1400--000000100</td>\n",
       "      <td>MULTIPOLYGON (((760117.224 1151567.321, 760425...</td>\n",
       "    </tr>\n",
       "    <tr>\n",
       "      <th>200662</th>\n",
       "      <td>2011.0</td>\n",
       "      <td>Marion</td>\n",
       "      <td>2408.00S01.00E1400--000000100</td>\n",
       "      <td>MULTIPOLYGON (((762323.099 1150165.323, 762716...</td>\n",
       "    </tr>\n",
       "    <tr>\n",
       "      <th>...</th>\n",
       "      <td>...</td>\n",
       "      <td>...</td>\n",
       "      <td>...</td>\n",
       "      <td>...</td>\n",
       "    </tr>\n",
       "    <tr>\n",
       "      <th>551252</th>\n",
       "      <td>2015.0</td>\n",
       "      <td>Marion</td>\n",
       "      <td>2408.00S01.00E1400--000000100</td>\n",
       "      <td>MULTIPOLYGON (((762686.114 1148820.954, 762686...</td>\n",
       "    </tr>\n",
       "    <tr>\n",
       "      <th>555833</th>\n",
       "      <td>2015.0</td>\n",
       "      <td>Marion</td>\n",
       "      <td>2408.00S01.00E1400--000000100</td>\n",
       "      <td>MULTIPOLYGON (((753272.928 1143844.361, 753429...</td>\n",
       "    </tr>\n",
       "    <tr>\n",
       "      <th>556146</th>\n",
       "      <td>2015.0</td>\n",
       "      <td>Marion</td>\n",
       "      <td>2408.00S01.00E1400--000000100</td>\n",
       "      <td>MULTIPOLYGON (((753220.756 1141743.400, 753236...</td>\n",
       "    </tr>\n",
       "    <tr>\n",
       "      <th>562506</th>\n",
       "      <td>2015.0</td>\n",
       "      <td>Marion</td>\n",
       "      <td>2408.00S01.00E1400--000000100</td>\n",
       "      <td>MULTIPOLYGON (((760779.127 1129873.992, 760894...</td>\n",
       "    </tr>\n",
       "    <tr>\n",
       "      <th>659823</th>\n",
       "      <td>2016</td>\n",
       "      <td>Marion</td>\n",
       "      <td>2408.00S01.00E1400--000000100</td>\n",
       "      <td>MULTIPOLYGON (((765369.205 1149934.629, 765357...</td>\n",
       "    </tr>\n",
       "  </tbody>\n",
       "</table>\n",
       "<p>62 rows × 4 columns</p>\n",
       "</div>"
      ],
      "text/plain": [
       "          year  county                       ORTaxlot  \\\n",
       "160     2009.0  Marion  2408.00S01.00E1400--000000100   \n",
       "193385  2011.0  Marion  2408.00S01.00E1400--000000100   \n",
       "194704  2011.0  Marion  2408.00S01.00E1400--000000100   \n",
       "198137  2011.0  Marion  2408.00S01.00E1400--000000100   \n",
       "200662  2011.0  Marion  2408.00S01.00E1400--000000100   \n",
       "...        ...     ...                            ...   \n",
       "551252  2015.0  Marion  2408.00S01.00E1400--000000100   \n",
       "555833  2015.0  Marion  2408.00S01.00E1400--000000100   \n",
       "556146  2015.0  Marion  2408.00S01.00E1400--000000100   \n",
       "562506  2015.0  Marion  2408.00S01.00E1400--000000100   \n",
       "659823    2016  Marion  2408.00S01.00E1400--000000100   \n",
       "\n",
       "                                                 geometry  \n",
       "160     MULTIPOLYGON (((765370.284 1149932.521, 765358...  \n",
       "193385  MULTIPOLYGON (((751571.441 1154489.143, 750906...  \n",
       "194704  MULTIPOLYGON (((746937.137 1154585.813, 747082...  \n",
       "198137  MULTIPOLYGON (((760117.224 1151567.321, 760425...  \n",
       "200662  MULTIPOLYGON (((762323.099 1150165.323, 762716...  \n",
       "...                                                   ...  \n",
       "551252  MULTIPOLYGON (((762686.114 1148820.954, 762686...  \n",
       "555833  MULTIPOLYGON (((753272.928 1143844.361, 753429...  \n",
       "556146  MULTIPOLYGON (((753220.756 1141743.400, 753236...  \n",
       "562506  MULTIPOLYGON (((760779.127 1129873.992, 760894...  \n",
       "659823  MULTIPOLYGON (((765369.205 1149934.629, 765357...  \n",
       "\n",
       "[62 rows x 4 columns]"
      ]
     },
     "execution_count": 15,
     "metadata": {},
     "output_type": "execute_result"
    }
   ],
   "source": [
    "all_taxlot[all_taxlot.ORTaxlot==notes.loc[i,'ORTaxlot']]"
   ]
  },
  {
   "cell_type": "code",
   "execution_count": 16,
   "id": "65c3ecfc",
   "metadata": {},
   "outputs": [
    {
     "data": {
      "text/plain": [
       "<AxesSubplot:>"
      ]
     },
     "execution_count": 16,
     "metadata": {},
     "output_type": "execute_result"
    },
    {
     "data": {
      "image/png": "[encoded data removed]",
      "text/plain": [
       "<Figure size 432x288 with 1 Axes>"
      ]
     },
     "metadata": {
      "needs_background": "light"
     },
     "output_type": "display_data"
    }
   ],
   "source": [
    "all_taxlot[all_taxlot.ORTaxlot==notes.loc[i,'ORTaxlot']].plot()"
   ]
  },
  {
   "cell_type": "code",
   "execution_count": 72,
   "id": "da1a6880",
   "metadata": {},
   "outputs": [
    {
     "data": {
      "text/html": [
       "<div>\n",
       "<style scoped>\n",
       "    .dataframe tbody tr th:only-of-type {\n",
       "        vertical-align: middle;\n",
       "    }\n",
       "\n",
       "    .dataframe tbody tr th {\n",
       "        vertical-align: top;\n",
       "    }\n",
       "\n",
       "    .dataframe thead th {\n",
       "        text-align: right;\n",
       "    }\n",
       "</style>\n",
       "<table border=\"1\" class=\"dataframe\">\n",
       "  <thead>\n",
       "    <tr style=\"text-align: right;\">\n",
       "      <th></th>\n",
       "      <th>Longitude</th>\n",
       "      <th>Latitude</th>\n",
       "      <th>geometry</th>\n",
       "    </tr>\n",
       "  </thead>\n",
       "  <tbody>\n",
       "    <tr>\n",
       "      <th>0</th>\n",
       "      <td>-123.0873</td>\n",
       "      <td>44.6382</td>\n",
       "      <td>POINT (639099.198 1063368.895)</td>\n",
       "    </tr>\n",
       "  </tbody>\n",
       "</table>\n",
       "</div>"
      ],
      "text/plain": [
       "   Longitude  Latitude                        geometry\n",
       "0  -123.0873   44.6382  POINT (639099.198 1063368.895)"
      ]
     },
     "execution_count": 72,
     "metadata": {},
     "output_type": "execute_result"
    }
   ],
   "source": [
    "lon=wd.loc[wd.wetdet_delin_number == wdID, 'longitude'].values[0]\n",
    "lat=wd.loc[wd.wetdet_delin_number == wdID, 'latitude'].values[0]\n",
    "get_point_from_lonlat(lon=lon, lat=lat)"
   ]
  },
  {
   "cell_type": "code",
   "execution_count": 299,
   "id": "e6524c9d",
   "metadata": {},
   "outputs": [
    {
     "name": "stdout",
     "output_type": "stream",
     "text": [
      "0922.00S10.00E0200--000001002\n"
     ]
    }
   ],
   "source": [
    "taxlot = create_ORTaxlot(cnt_code=cnt_dict['Deschutes'], trsqq='22S10E02', lot='1002')\n",
    "print(taxlot)"
   ]
  },
  {
   "cell_type": "code",
   "execution_count": 300,
   "id": "abee45df",
   "metadata": {},
   "outputs": [
    {
     "data": {
      "text/plain": [
       "False"
      ]
     },
     "execution_count": 300,
     "metadata": {},
     "output_type": "execute_result"
    }
   ],
   "source": [
    "taxlot in all_txid"
   ]
  },
  {
   "cell_type": "code",
   "execution_count": 76,
   "id": "c6c85332",
   "metadata": {},
   "outputs": [
    {
     "data": {
      "text/html": [
       "<div>\n",
       "<style scoped>\n",
       "    .dataframe tbody tr th:only-of-type {\n",
       "        vertical-align: middle;\n",
       "    }\n",
       "\n",
       "    .dataframe tbody tr th {\n",
       "        vertical-align: top;\n",
       "    }\n",
       "\n",
       "    .dataframe thead th {\n",
       "        text-align: right;\n",
       "    }\n",
       "</style>\n",
       "<table border=\"1\" class=\"dataframe\">\n",
       "  <thead>\n",
       "    <tr style=\"text-align: right;\">\n",
       "      <th></th>\n",
       "      <th>year</th>\n",
       "      <th>ORTaxlot</th>\n",
       "      <th>geometry</th>\n",
       "    </tr>\n",
       "  </thead>\n",
       "  <tbody>\n",
       "    <tr>\n",
       "      <th>810645</th>\n",
       "      <td>2011</td>\n",
       "      <td>0916.00S12.00E31D0--000004800</td>\n",
       "      <td>MULTIPOLYGON (((1094765.050 871962.922, 109476...</td>\n",
       "    </tr>\n",
       "    <tr>\n",
       "      <th>2198705</th>\n",
       "      <td>2012</td>\n",
       "      <td>0916.00S12.00E31D0--000004800</td>\n",
       "      <td>MULTIPOLYGON (((4703629.272 902211.817, 470362...</td>\n",
       "    </tr>\n",
       "    <tr>\n",
       "      <th>3692916</th>\n",
       "      <td>2014</td>\n",
       "      <td>0916.00S12.00E31D0--000004800</td>\n",
       "      <td>MULTIPOLYGON (((1094765.258 871962.208, 109476...</td>\n",
       "    </tr>\n",
       "    <tr>\n",
       "      <th>5468078</th>\n",
       "      <td>2015</td>\n",
       "      <td>0916.00S12.00E31D0--000004800</td>\n",
       "      <td>MULTIPOLYGON (((1094765.258 871962.208, 109476...</td>\n",
       "    </tr>\n",
       "    <tr>\n",
       "      <th>7111397</th>\n",
       "      <td>2016</td>\n",
       "      <td>0916.00S12.00E31D0--000004800</td>\n",
       "      <td>MULTIPOLYGON (((1094765.050 871962.922, 109476...</td>\n",
       "    </tr>\n",
       "  </tbody>\n",
       "</table>\n",
       "</div>"
      ],
      "text/plain": [
       "         year                       ORTaxlot  \\\n",
       "810645   2011  0916.00S12.00E31D0--000004800   \n",
       "2198705  2012  0916.00S12.00E31D0--000004800   \n",
       "3692916  2014  0916.00S12.00E31D0--000004800   \n",
       "5468078  2015  0916.00S12.00E31D0--000004800   \n",
       "7111397  2016  0916.00S12.00E31D0--000004800   \n",
       "\n",
       "                                                  geometry  \n",
       "810645   MULTIPOLYGON (((1094765.050 871962.922, 109476...  \n",
       "2198705  MULTIPOLYGON (((4703629.272 902211.817, 470362...  \n",
       "3692916  MULTIPOLYGON (((1094765.258 871962.208, 109476...  \n",
       "5468078  MULTIPOLYGON (((1094765.258 871962.208, 109476...  \n",
       "7111397  MULTIPOLYGON (((1094765.050 871962.922, 109476...  "
      ]
     },
     "execution_count": 76,
     "metadata": {},
     "output_type": "execute_result"
    }
   ],
   "source": [
    "all_taxlot[all_taxlot.ORTaxlot==taxlot]"
   ]
  },
  {
   "cell_type": "code",
   "execution_count": 58,
   "id": "64eeffba",
   "metadata": {
    "scrolled": true
   },
   "outputs": [
    {
     "name": "stdout",
     "output_type": "stream",
     "text": [
      "from AA to 00\n"
     ]
    }
   ],
   "source": [
    "print(notes.loc[i, 'correction'])"
   ]
  },
  {
   "cell_type": "code",
   "execution_count": 59,
   "id": "36c7e7bf",
   "metadata": {},
   "outputs": [
    {
     "data": {
      "text/plain": [
       "'QQ'"
      ]
     },
     "execution_count": 59,
     "metadata": {},
     "output_type": "execute_result"
    }
   ],
   "source": [
    "ctyp = notes.loc[i,'correct_type']#.split(' and ')[1]\n",
    "ctyp"
   ]
  },
  {
   "cell_type": "code",
   "execution_count": 141,
   "id": "9aa93248",
   "metadata": {},
   "outputs": [],
   "source": [
    "ctyp = 'QQ'"
   ]
  },
  {
   "cell_type": "code",
   "execution_count": 60,
   "id": "3ca02295",
   "metadata": {
    "scrolled": true
   },
   "outputs": [
    {
     "data": {
      "text/plain": [
       "'from AA to 00'"
      ]
     },
     "execution_count": 60,
     "metadata": {},
     "output_type": "execute_result"
    }
   ],
   "source": [
    "crt = notes.loc[i,'correction']\n",
    "crt"
   ]
  },
  {
   "cell_type": "code",
   "execution_count": 61,
   "id": "0d4da899",
   "metadata": {},
   "outputs": [
    {
     "data": {
      "text/plain": [
       "['AA', '00']"
      ]
     },
     "execution_count": 61,
     "metadata": {},
     "output_type": "execute_result"
    }
   ],
   "source": [
    "ft = crt.split('from ')[1].split(' to ')\n",
    "ft"
   ]
  },
  {
   "cell_type": "code",
   "execution_count": 86,
   "id": "168c0db1",
   "metadata": {},
   "outputs": [],
   "source": [
    "ft = ['1N1E33AC', '01N01E33AC']"
   ]
  },
  {
   "cell_type": "code",
   "execution_count": 73,
   "id": "ceef3cd3",
   "metadata": {},
   "outputs": [],
   "source": [
    "ft[0] = '00'"
   ]
  },
  {
   "cell_type": "code",
   "execution_count": 38,
   "id": "f7c4360d",
   "metadata": {},
   "outputs": [],
   "source": [
    "ft[1] = 'DB'"
   ]
  },
  {
   "cell_type": "code",
   "execution_count": 39,
   "id": "d5e01d71",
   "metadata": {
    "scrolled": true
   },
   "outputs": [
    {
     "data": {
      "text/plain": [
       "['Multnomah', 'Washington']"
      ]
     },
     "execution_count": 39,
     "metadata": {},
     "output_type": "execute_result"
    }
   ],
   "source": [
    "ft"
   ]
  },
  {
   "cell_type": "code",
   "execution_count": 135,
   "id": "2af41f6d",
   "metadata": {},
   "outputs": [],
   "source": [
    "f = crt.split('from ')[1].split(' and ')[0]\n",
    "t = crt.split(' to ')[1].split(' and ')[0]"
   ]
  },
  {
   "cell_type": "code",
   "execution_count": 142,
   "id": "f766854e",
   "metadata": {},
   "outputs": [],
   "source": [
    "f = crt.split(' and ')[1].split(' to ')[0]\n",
    "t = crt.split(' and ')[2]"
   ]
  },
  {
   "cell_type": "code",
   "execution_count": 143,
   "id": "0a4ea532",
   "metadata": {},
   "outputs": [
    {
     "name": "stdout",
     "output_type": "stream",
     "text": [
      "00 CD\n"
     ]
    }
   ],
   "source": [
    "print(f, t)"
   ]
  },
  {
   "cell_type": "code",
   "execution_count": 62,
   "id": "d51acc68",
   "metadata": {},
   "outputs": [
    {
     "data": {
      "text/plain": [
       "5466"
      ]
     },
     "execution_count": 62,
     "metadata": {},
     "output_type": "execute_result"
    }
   ],
   "source": [
    "rID = notes.loc[i,'record_ID']\n",
    "rID"
   ]
  },
  {
   "cell_type": "code",
   "execution_count": 283,
   "id": "9a976998",
   "metadata": {},
   "outputs": [],
   "source": [
    "df = pd.read_csv(os.path.join(inpath + '\\\\output\\\\to_review\\\\', f'unmatched_df_{setID}_r2_{ml}_notes.csv'))"
   ]
  },
  {
   "cell_type": "code",
   "execution_count": 271,
   "id": "413317c7",
   "metadata": {},
   "outputs": [
    {
     "data": {
      "text/plain": [
       "'09S35VE00'"
      ]
     },
     "execution_count": 271,
     "metadata": {},
     "output_type": "execute_result"
    }
   ],
   "source": [
    "'09S35.5E00'.replace(df.loc[3, 'from'], df.loc[3, 'to'])"
   ]
  },
  {
   "cell_type": "code",
   "execution_count": 63,
   "id": "16b0797a",
   "metadata": {},
   "outputs": [],
   "source": [
    "df = df.append({'wetdet_delin_number': wdID, 'record_ID': rID, 'field': 'trsqq', 'cor_type': ctyp, 'from': ft[0], 'to': ft[1]},\n",
    "        ignore_index = True)"
   ]
  },
  {
   "cell_type": "code",
   "execution_count": 36,
   "id": "9f9d7030",
   "metadata": {},
   "outputs": [],
   "source": [
    "df = df.append({'wetdet_delin_number': wdID, 'record_ID': rID, 'field': 'trsqq', 'cor_type': 'section number', 'from': 10, 'to': 3},\n",
    "        ignore_index = True)"
   ]
  },
  {
   "cell_type": "code",
   "execution_count": 37,
   "id": "07374659",
   "metadata": {},
   "outputs": [],
   "source": [
    "df = df.append({'wetdet_delin_number': wdID, 'record_ID': rID, 'field': 'trsqq', 'cor_type': 'QQ', 'from': 'C0', 'to': 'CC'},\n",
    "        ignore_index = True)"
   ]
  },
  {
   "cell_type": "code",
   "execution_count": 59,
   "id": "88721252",
   "metadata": {},
   "outputs": [],
   "source": [
    "df = df.append({'wetdet_delin_number': wdID, 'record_ID': rID, 'field': 'county', 'cor_type': ctyp, 'from': ft[0], 'to': ft[1]},\n",
    "        ignore_index = True)"
   ]
  },
  {
   "cell_type": "code",
   "execution_count": 308,
   "id": "92c4878c",
   "metadata": {},
   "outputs": [],
   "source": [
    "df = df.append({'wetdet_delin_number': wdID, 'record_ID': rID, 'field': 'parcel_id', 'cor_type': 'parcel id', 'from': '200', 'to': '1002'},\n",
    "        ignore_index = True)"
   ]
  },
  {
   "cell_type": "code",
   "execution_count": 144,
   "id": "ed8d3195",
   "metadata": {},
   "outputs": [],
   "source": [
    "df = df.append({'wetdet_delin_number': wdID, 'record_ID': rID, 'field': 'trsqq', 'cor_type': ctyp, 'from': f, 'to': t},\n",
    "        ignore_index = True)"
   ]
  },
  {
   "cell_type": "code",
   "execution_count": 597,
   "id": "51fedf38",
   "metadata": {},
   "outputs": [],
   "source": [
    "df = df.append({'wetdet_delin_number': wdID, 'record_ID': rID, 'field': 'county', 'cor_type': 'county', 'from': 'Benton', 'to': 'Polk'},\n",
    "        ignore_index = True)"
   ]
  },
  {
   "cell_type": "code",
   "execution_count": 41,
   "id": "0d1324d4",
   "metadata": {},
   "outputs": [],
   "source": [
    "df.loc[1:2, 'wetdet_delin_number'] = wdID"
   ]
  },
  {
   "cell_type": "code",
   "execution_count": 64,
   "id": "168bf084",
   "metadata": {},
   "outputs": [
    {
     "data": {
      "text/html": [
       "<div>\n",
       "<style scoped>\n",
       "    .dataframe tbody tr th:only-of-type {\n",
       "        vertical-align: middle;\n",
       "    }\n",
       "\n",
       "    .dataframe tbody tr th {\n",
       "        vertical-align: top;\n",
       "    }\n",
       "\n",
       "    .dataframe thead th {\n",
       "        text-align: right;\n",
       "    }\n",
       "</style>\n",
       "<table border=\"1\" class=\"dataframe\">\n",
       "  <thead>\n",
       "    <tr style=\"text-align: right;\">\n",
       "      <th></th>\n",
       "      <th>wetdet_delin_number</th>\n",
       "      <th>record_ID</th>\n",
       "      <th>field</th>\n",
       "      <th>cor_type</th>\n",
       "      <th>from</th>\n",
       "      <th>to</th>\n",
       "    </tr>\n",
       "  </thead>\n",
       "  <tbody>\n",
       "    <tr>\n",
       "      <th>0</th>\n",
       "      <td>WD2011-0023</td>\n",
       "      <td>5614</td>\n",
       "      <td>trsqq</td>\n",
       "      <td>section number</td>\n",
       "      <td>24</td>\n",
       "      <td>14</td>\n",
       "    </tr>\n",
       "    <tr>\n",
       "      <th>1</th>\n",
       "      <td>WD2010-0305</td>\n",
       "      <td>5588</td>\n",
       "      <td>trsqq</td>\n",
       "      <td>section number</td>\n",
       "      <td>10</td>\n",
       "      <td>3</td>\n",
       "    </tr>\n",
       "    <tr>\n",
       "      <th>2</th>\n",
       "      <td>WD2010-0305</td>\n",
       "      <td>5588</td>\n",
       "      <td>trsqq</td>\n",
       "      <td>QQ</td>\n",
       "      <td>C0</td>\n",
       "      <td>CC</td>\n",
       "    </tr>\n",
       "    <tr>\n",
       "      <th>3</th>\n",
       "      <td>WD2010-0015</td>\n",
       "      <td>5552</td>\n",
       "      <td>trsqq</td>\n",
       "      <td>QQ</td>\n",
       "      <td>A0</td>\n",
       "      <td>AC</td>\n",
       "    </tr>\n",
       "    <tr>\n",
       "      <th>4</th>\n",
       "      <td>WD2008-0098</td>\n",
       "      <td>5466</td>\n",
       "      <td>trsqq</td>\n",
       "      <td>QQ</td>\n",
       "      <td>AA</td>\n",
       "      <td>00</td>\n",
       "    </tr>\n",
       "  </tbody>\n",
       "</table>\n",
       "</div>"
      ],
      "text/plain": [
       "  wetdet_delin_number record_ID  field        cor_type from  to\n",
       "0         WD2011-0023      5614  trsqq  section number   24  14\n",
       "1         WD2010-0305      5588  trsqq  section number   10   3\n",
       "2         WD2010-0305      5588  trsqq              QQ   C0  CC\n",
       "3         WD2010-0015      5552  trsqq              QQ   A0  AC\n",
       "4         WD2008-0098      5466  trsqq              QQ   AA  00"
      ]
     },
     "execution_count": 64,
     "metadata": {},
     "output_type": "execute_result"
    }
   ],
   "source": [
    "df"
   ]
  },
  {
   "cell_type": "code",
   "execution_count": 70,
   "id": "c1e39272",
   "metadata": {},
   "outputs": [],
   "source": [
    "df.loc[2, 'field'] = 'parcel_id'"
   ]
  },
  {
   "cell_type": "code",
   "execution_count": 65,
   "id": "3aeecdf0",
   "metadata": {},
   "outputs": [],
   "source": [
    "df.to_csv(os.path.join(inpath + '\\\\output\\\\to_review\\\\', f'unmatched_df_{setID}_r2_{ml}_notes.csv'), index=False)"
   ]
  },
  {
   "cell_type": "code",
   "execution_count": 44,
   "id": "5d3f8a8a",
   "metadata": {},
   "outputs": [
    {
     "data": {
      "text/plain": [
       "(3, 6)"
      ]
     },
     "execution_count": 44,
     "metadata": {},
     "output_type": "execute_result"
    }
   ],
   "source": [
    "df.shape"
   ]
  },
  {
   "cell_type": "code",
   "execution_count": 78,
   "id": "0a060bcc",
   "metadata": {},
   "outputs": [],
   "source": [
    "r1df = pd.read_csv(os.path.join(inpath + f'\\\\output\\\\to_review\\\\unmatched_df_{setID}_r1_N.csv'))"
   ]
  },
  {
   "cell_type": "code",
   "execution_count": 188,
   "id": "462a4794",
   "metadata": {},
   "outputs": [
    {
     "data": {
      "text/plain": [
       "Index(['wetdet_delin_number', 'trsqq', 'parcel_id', 'address_location_desc',\n",
       "       'city', 'county', 'site_name', 'site_desc', 'latitude', 'longitude',\n",
       "       'DocumentName', 'DecisionLink', 'is_batch_file', 'status_name',\n",
       "       'received_date', 'Coord-Source', 'response_date',\n",
       "       'reissuance_response_date', 'project_id', 'site_id', 'record_ID',\n",
       "       'notes', 'recyear', 'IDyear', 'missinglot'],\n",
       "      dtype='object')"
      ]
     },
     "execution_count": 188,
     "metadata": {},
     "output_type": "execute_result"
    }
   ],
   "source": [
    "r1df.columns"
   ]
  },
  {
   "cell_type": "code",
   "execution_count": 79,
   "id": "12923021",
   "metadata": {},
   "outputs": [],
   "source": [
    "wdIDs = r1df.wetdet_delin_number.unique()"
   ]
  },
  {
   "cell_type": "code",
   "execution_count": 80,
   "id": "6457a5bc",
   "metadata": {},
   "outputs": [
    {
     "data": {
      "text/plain": [
       "array(['WD2010-0215'], dtype=object)"
      ]
     },
     "execution_count": 80,
     "metadata": {},
     "output_type": "execute_result"
    }
   ],
   "source": [
    "wdIDs"
   ]
  },
  {
   "cell_type": "code",
   "execution_count": 81,
   "id": "f3569144",
   "metadata": {},
   "outputs": [],
   "source": [
    "i = 0"
   ]
  },
  {
   "cell_type": "code",
   "execution_count": 198,
   "id": "a82eb3b6",
   "metadata": {},
   "outputs": [],
   "source": [
    "i = i + 1"
   ]
  },
  {
   "cell_type": "code",
   "execution_count": 89,
   "id": "9effe996",
   "metadata": {},
   "outputs": [
    {
     "data": {
      "text/plain": [
       "5"
      ]
     },
     "execution_count": 89,
     "metadata": {},
     "output_type": "execute_result"
    }
   ],
   "source": [
    "i"
   ]
  },
  {
   "cell_type": "code",
   "execution_count": 243,
   "id": "0fc1fdbf",
   "metadata": {},
   "outputs": [],
   "source": [
    "# need to create the notes first\n",
    "#df = pd.read_csv(os.path.join(inpath + '\\\\output\\\\to_review\\\\', f'unmatched_df_{setID}_r1_{ml}_notes.csv'))"
   ]
  },
  {
   "cell_type": "code",
   "execution_count": 82,
   "id": "37e24f76",
   "metadata": {},
   "outputs": [
    {
     "data": {
      "text/html": [
       "<div>\n",
       "<style scoped>\n",
       "    .dataframe tbody tr th:only-of-type {\n",
       "        vertical-align: middle;\n",
       "    }\n",
       "\n",
       "    .dataframe tbody tr th {\n",
       "        vertical-align: top;\n",
       "    }\n",
       "\n",
       "    .dataframe thead th {\n",
       "        text-align: right;\n",
       "    }\n",
       "</style>\n",
       "<table border=\"1\" class=\"dataframe\">\n",
       "  <thead>\n",
       "    <tr style=\"text-align: right;\">\n",
       "      <th></th>\n",
       "      <th>wetdet_delin_number</th>\n",
       "      <th>trsqq</th>\n",
       "      <th>parcel_id</th>\n",
       "      <th>county</th>\n",
       "      <th>latitude</th>\n",
       "      <th>longitude</th>\n",
       "      <th>record_ID</th>\n",
       "      <th>notes</th>\n",
       "      <th>status_name</th>\n",
       "      <th>is_batch_file</th>\n",
       "    </tr>\n",
       "  </thead>\n",
       "  <tbody>\n",
       "    <tr>\n",
       "      <th>0</th>\n",
       "      <td>WD2010-0215</td>\n",
       "      <td>08S03W30CD</td>\n",
       "      <td>11800,13600</td>\n",
       "      <td>Marion</td>\n",
       "      <td>44.841928</td>\n",
       "      <td>-122.857592</td>\n",
       "      <td>5582</td>\n",
       "      <td>NaN</td>\n",
       "      <td>Approved</td>\n",
       "      <td>N</td>\n",
       "    </tr>\n",
       "    <tr>\n",
       "      <th>1</th>\n",
       "      <td>WD2010-0215</td>\n",
       "      <td>08S03W30C</td>\n",
       "      <td>1700p</td>\n",
       "      <td>Marion</td>\n",
       "      <td>44.841928</td>\n",
       "      <td>-122.857592</td>\n",
       "      <td>5580</td>\n",
       "      <td>Partial</td>\n",
       "      <td>Approved</td>\n",
       "      <td>N</td>\n",
       "    </tr>\n",
       "    <tr>\n",
       "      <th>2</th>\n",
       "      <td>WD2010-0215</td>\n",
       "      <td>08S03W30CA</td>\n",
       "      <td>7900, 8000</td>\n",
       "      <td>Marion</td>\n",
       "      <td>44.841928</td>\n",
       "      <td>-122.857592</td>\n",
       "      <td>5581</td>\n",
       "      <td>NaN</td>\n",
       "      <td>Approved</td>\n",
       "      <td>N</td>\n",
       "    </tr>\n",
       "  </tbody>\n",
       "</table>\n",
       "</div>"
      ],
      "text/plain": [
       "  wetdet_delin_number       trsqq    parcel_id  county   latitude   longitude  \\\n",
       "0         WD2010-0215  08S03W30CD  11800,13600  Marion  44.841928 -122.857592   \n",
       "1         WD2010-0215   08S03W30C        1700p  Marion  44.841928 -122.857592   \n",
       "2         WD2010-0215  08S03W30CA   7900, 8000  Marion  44.841928 -122.857592   \n",
       "\n",
       "   record_ID    notes status_name is_batch_file  \n",
       "0       5582      NaN    Approved             N  \n",
       "1       5580  Partial    Approved             N  \n",
       "2       5581      NaN    Approved             N  "
      ]
     },
     "execution_count": 82,
     "metadata": {},
     "output_type": "execute_result"
    }
   ],
   "source": [
    "r1df.loc[r1df.wetdet_delin_number == wdIDs[i], ['wetdet_delin_number', 'trsqq', 'parcel_id', 'county', \n",
    "                                                'latitude', 'longitude', 'record_ID', 'notes', 'status_name', 'is_batch_file']]"
   ]
  },
  {
   "cell_type": "code",
   "execution_count": 83,
   "id": "86eabd8f",
   "metadata": {},
   "outputs": [],
   "source": [
    "url = r1df.loc[r1df.wetdet_delin_number == wdIDs[i], 'DecisionLink'].values[0]\n",
    "if str(url) == 'nan':\n",
    "    print('Decision link is not available')\n",
    "else:\n",
    "    webbrowser.open(url)"
   ]
  },
  {
   "cell_type": "code",
   "execution_count": 84,
   "id": "1d0a66e5",
   "metadata": {},
   "outputs": [],
   "source": [
    "j=0"
   ]
  },
  {
   "cell_type": "code",
   "execution_count": 85,
   "id": "232e50d2",
   "metadata": {},
   "outputs": [],
   "source": [
    "sel = r1df.wetdet_delin_number == wdIDs[i]"
   ]
  },
  {
   "cell_type": "code",
   "execution_count": 92,
   "id": "d503d061",
   "metadata": {},
   "outputs": [],
   "source": [
    "j = j + 1"
   ]
  },
  {
   "cell_type": "code",
   "execution_count": 427,
   "id": "8e4fce3f",
   "metadata": {},
   "outputs": [
    {
     "data": {
      "text/plain": [
       "1"
      ]
     },
     "execution_count": 427,
     "metadata": {},
     "output_type": "execute_result"
    }
   ],
   "source": [
    "j"
   ]
  },
  {
   "cell_type": "code",
   "execution_count": 86,
   "id": "99b38a72",
   "metadata": {},
   "outputs": [
    {
     "name": "stdout",
     "output_type": "stream",
     "text": [
      "reviewing WD2010-0215\n",
      "all lots are matched...\n",
      "corrected trsqq...\n",
      "('range number', 'from 03 to 01')\n"
     ]
    }
   ],
   "source": [
    "crt = review_wd_record_w_coord(wd_id=wdIDs[i], \n",
    "                         county_to_check=r1df.loc[sel, 'county'].values[j], \n",
    "                         trsqq_to_check=r1df.loc[sel, 'trsqq'].values[j], \n",
    "                         parcel_IDs_to_check=r1df.loc[sel, 'parcel_id'].values[j], \n",
    "                         lon=r1df.loc[sel, 'longitude'].values[j], \n",
    "                         lat=r1df.loc[sel, 'latitude'].values[j], \n",
    "                         taxlot=all_taxlot, \n",
    "                         year=r1df.loc[sel, 'IDyear'].values[j])\n",
    "print(crt)"
   ]
  },
  {
   "cell_type": "code",
   "execution_count": 204,
   "id": "8d2053ed",
   "metadata": {},
   "outputs": [
    {
     "data": {
      "text/html": [
       "<div>\n",
       "<style scoped>\n",
       "    .dataframe tbody tr th:only-of-type {\n",
       "        vertical-align: middle;\n",
       "    }\n",
       "\n",
       "    .dataframe tbody tr th {\n",
       "        vertical-align: top;\n",
       "    }\n",
       "\n",
       "    .dataframe thead th {\n",
       "        text-align: right;\n",
       "    }\n",
       "</style>\n",
       "<table border=\"1\" class=\"dataframe\">\n",
       "  <thead>\n",
       "    <tr style=\"text-align: right;\">\n",
       "      <th></th>\n",
       "      <th>Longitude</th>\n",
       "      <th>Latitude</th>\n",
       "      <th>geometry</th>\n",
       "    </tr>\n",
       "  </thead>\n",
       "  <tbody>\n",
       "    <tr>\n",
       "      <th>0</th>\n",
       "      <td>-123.874483</td>\n",
       "      <td>46.137236</td>\n",
       "      <td>POINT (456831.787 1616930.213)</td>\n",
       "    </tr>\n",
       "  </tbody>\n",
       "</table>\n",
       "</div>"
      ],
      "text/plain": [
       "    Longitude   Latitude                        geometry\n",
       "0 -123.874483  46.137236  POINT (456831.787 1616930.213)"
      ]
     },
     "execution_count": 204,
     "metadata": {},
     "output_type": "execute_result"
    }
   ],
   "source": [
    "lon=wd.loc[wd.wetdet_delin_number == wdIDs[i], 'longitude'].values[0]\n",
    "lat=wd.loc[wd.wetdet_delin_number == wdIDs[i], 'latitude'].values[0]\n",
    "get_point_from_lonlat(lon=lon, lat=lat)"
   ]
  },
  {
   "cell_type": "code",
   "execution_count": 87,
   "id": "699cc20c",
   "metadata": {},
   "outputs": [],
   "source": [
    "df = pd.DataFrame(columns = ['wetdet_delin_number', 'record_ID', 'field', 'cor_type', 'from', 'to'])"
   ]
  },
  {
   "cell_type": "code",
   "execution_count": 88,
   "id": "efbc2870",
   "metadata": {},
   "outputs": [
    {
     "data": {
      "text/plain": [
       "'WD2010-0215'"
      ]
     },
     "execution_count": 88,
     "metadata": {},
     "output_type": "execute_result"
    }
   ],
   "source": [
    "wdIDs[i]"
   ]
  },
  {
   "cell_type": "code",
   "execution_count": 93,
   "id": "87666fb8",
   "metadata": {},
   "outputs": [],
   "source": [
    "df = df.append({'wetdet_delin_number': wdIDs[i],\n",
    "                'record_ID': r1df.loc[sel, 'record_ID'].values[j],\n",
    "                'field': 'trsqq', \n",
    "                'cor_type': 'range number', \n",
    "                'from': '03', \n",
    "                'to': '01'},\n",
    "        ignore_index = True)"
   ]
  },
  {
   "cell_type": "code",
   "execution_count": 208,
   "id": "8c14970e",
   "metadata": {},
   "outputs": [],
   "source": [
    "df = df.append({'wetdet_delin_number': wdIDs[i],\n",
    "                'record_ID': r1df.loc[sel, 'record_ID'].values[j],\n",
    "                'field': 'parcel_id', \n",
    "                'cor_type': 'parcel id', \n",
    "                'from': '201', \n",
    "                'to': '2400'},\n",
    "        ignore_index = True)"
   ]
  },
  {
   "cell_type": "code",
   "execution_count": 94,
   "id": "d17298ba",
   "metadata": {},
   "outputs": [
    {
     "data": {
      "text/html": [
       "<div>\n",
       "<style scoped>\n",
       "    .dataframe tbody tr th:only-of-type {\n",
       "        vertical-align: middle;\n",
       "    }\n",
       "\n",
       "    .dataframe tbody tr th {\n",
       "        vertical-align: top;\n",
       "    }\n",
       "\n",
       "    .dataframe thead th {\n",
       "        text-align: right;\n",
       "    }\n",
       "</style>\n",
       "<table border=\"1\" class=\"dataframe\">\n",
       "  <thead>\n",
       "    <tr style=\"text-align: right;\">\n",
       "      <th></th>\n",
       "      <th>wetdet_delin_number</th>\n",
       "      <th>record_ID</th>\n",
       "      <th>field</th>\n",
       "      <th>cor_type</th>\n",
       "      <th>from</th>\n",
       "      <th>to</th>\n",
       "    </tr>\n",
       "  </thead>\n",
       "  <tbody>\n",
       "    <tr>\n",
       "      <th>0</th>\n",
       "      <td>WD2010-0215</td>\n",
       "      <td>5582</td>\n",
       "      <td>trsqq</td>\n",
       "      <td>range number</td>\n",
       "      <td>03</td>\n",
       "      <td>01</td>\n",
       "    </tr>\n",
       "    <tr>\n",
       "      <th>1</th>\n",
       "      <td>WD2010-0215</td>\n",
       "      <td>5580</td>\n",
       "      <td>trsqq</td>\n",
       "      <td>range number</td>\n",
       "      <td>03</td>\n",
       "      <td>01</td>\n",
       "    </tr>\n",
       "    <tr>\n",
       "      <th>2</th>\n",
       "      <td>WD2010-0215</td>\n",
       "      <td>5581</td>\n",
       "      <td>trsqq</td>\n",
       "      <td>range number</td>\n",
       "      <td>03</td>\n",
       "      <td>01</td>\n",
       "    </tr>\n",
       "  </tbody>\n",
       "</table>\n",
       "</div>"
      ],
      "text/plain": [
       "  wetdet_delin_number record_ID  field      cor_type from  to\n",
       "0         WD2010-0215      5582  trsqq  range number   03  01\n",
       "1         WD2010-0215      5580  trsqq  range number   03  01\n",
       "2         WD2010-0215      5581  trsqq  range number   03  01"
      ]
     },
     "execution_count": 94,
     "metadata": {},
     "output_type": "execute_result"
    }
   ],
   "source": [
    "df"
   ]
  },
  {
   "cell_type": "code",
   "execution_count": 95,
   "id": "51b98347",
   "metadata": {},
   "outputs": [
    {
     "data": {
      "text/plain": [
       "'N'"
      ]
     },
     "execution_count": 95,
     "metadata": {},
     "output_type": "execute_result"
    }
   ],
   "source": [
    "ml"
   ]
  },
  {
   "cell_type": "code",
   "execution_count": 263,
   "id": "cc0aca04",
   "metadata": {},
   "outputs": [],
   "source": [
    "ml = 'N'"
   ]
  },
  {
   "cell_type": "code",
   "execution_count": 96,
   "id": "a2d896f7",
   "metadata": {},
   "outputs": [],
   "source": [
    "df.to_csv(os.path.join(inpath + '\\\\output\\\\to_review\\\\', f'unmatched_df_{setID}_r1_{ml}_notes.csv'), index=False)"
   ]
  }
 ],
 "metadata": {
  "kernelspec": {
   "display_name": "Python 3",
   "language": "python",
   "name": "python3"
  },
  "language_info": {
   "codemirror_mode": {
    "name": "ipython",
    "version": 3
   },
   "file_extension": ".py",
   "mimetype": "text/x-python",
   "name": "python",
   "nbconvert_exporter": "python",
   "pygments_lexer": "ipython3",
   "version": "3.8.8"
  }
 },
 "nbformat": 4,
 "nbformat_minor": 5
}
